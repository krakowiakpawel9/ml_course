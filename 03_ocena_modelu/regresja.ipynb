{
 "cells": [
  {
   "cell_type": "markdown",
   "metadata": {},
   "source": [
    "### Ocena modeli regresyjnych\n",
    "\n",
    "Model regresyjny ma za zadanie przewidywać ciągłą zmienną numeryczną, np.\n",
    "- ceny nieruchomości\n",
    "- liczba pasażerów linii lotniczych\n",
    "- temperatura\n",
    "\n",
    "Aby dowiedzieć się jak dobry jest model regresyjny sprawdzamy jak dobre są predykcje modelu w porównaniu do danych, które wcześniej nie były wykorzystywane do budowy modelu (dane testowe). W tym celu przed rozpoczęciem budowy modelu musimy podzielić nasze dane na zbiór treningowy (zbiór na którym nasz model będzie się uczył) oraz zbiór testowy (zbiór na którym będziemy oceniać dokładność naszego modelu). W zależności od ilości dostępnych danych zwykle dzieli się takie zbiory na przykład na: \n",
    "- 70% train_set, 30% test_set\n",
    "- 80% train_set, 20% test_set\n",
    "\n",
    "Popularne techniki do oceny modeli regresyjnych:\n",
    "- obserwacja przy użyciu wykresu\n",
    "- rozkład reszt\n",
    "- ocena przy pomocy takich metryk jak średni błąd kwadratowy (MSE - mean square error), pierwiastek ze średniego błędu kwadratowego (RMSE - root mean square error)\n",
    "\n",
    "$$MSE = \\sum_{i=1}^{n}{(y\\_true_{i} - y\\_{pred}_{i})^{2}}$$\n",
    "$$RMSE = \\sqrt{\\sum_{i=1}^{n}{(y\\_true_{i} - y\\_{pred}_{i})^{2}}}$$"
   ]
  },
  {
   "cell_type": "code",
   "execution_count": null,
   "metadata": {},
   "outputs": [],
   "source": []
  }
 ],
 "metadata": {
  "kernelspec": {
   "display_name": "conda_python3",
   "language": "python",
   "name": "conda_python3"
  },
  "language_info": {
   "codemirror_mode": {
    "name": "ipython",
    "version": 3
   },
   "file_extension": ".py",
   "mimetype": "text/x-python",
   "name": "python",
   "nbconvert_exporter": "python",
   "pygments_lexer": "ipython3",
   "version": "3.6.5"
  }
 },
 "nbformat": 4,
 "nbformat_minor": 4
}
