{
  "nbformat": 4,
  "nbformat_minor": 0,
  "metadata": {
    "colab": {
      "name": "01_preprocessing.ipynb",
      "provenance": [],
      "include_colab_link": true
    },
    "kernelspec": {
      "name": "python3",
      "display_name": "Python 3"
    }
  },
  "cells": [
    {
      "cell_type": "markdown",
      "metadata": {
        "id": "view-in-github",
        "colab_type": "text"
      },
      "source": [
        "<a href=\"https://colab.research.google.com/github/krakowiakpawel9/ml_course/blob/master/x/01_basic/01_intro.ipynb\" target=\"_parent\"><img src=\"https://colab.research.google.com/assets/colab-badge.svg\" alt=\"Open In Colab\"/></a>"
      ]
    },
    {
      "cell_type": "markdown",
      "metadata": {
        "id": "UbjsT92Xd3z1",
        "colab_type": "text"
      },
      "source": [
        "* @author: krakowiakpawel9@gmail.com  \n",
        "* @site: e-smartdata.org\n",
        "\n",
        "### Spis treści:\n",
        "1. [Pobranie danych](#0)\n",
        "2. [Wczytanie pliku tekstowego](#1)\n",
        "3. [Praca z tekstem](#2)\n",
        "\n"
      ]
    },
    {
      "cell_type": "markdown",
      "metadata": {
        "id": "YkIALacsUnj7",
        "colab_type": "text"
      },
      "source": [
        "### <a name='0'></a> Pobranie danych"
      ]
    },
    {
      "cell_type": "code",
      "metadata": {
        "id": "XSST7ZtmyAK5",
        "colab_type": "code",
        "outputId": "4e972b6f-61cd-40a8-83e1-9b184b4cd44b",
        "colab": {
          "base_uri": "https://localhost:8080/",
          "height": 210
        }
      },
      "source": [
        "!wget https://storage.googleapis.com/esmartdata-courses-files/nlp-course/tom-sawyer.txt"
      ],
      "execution_count": 1,
      "outputs": [
        {
          "output_type": "stream",
          "text": [
            "--2020-03-18 08:47:48--  https://storage.googleapis.com/esmartdata-courses-files/nlp-course/tom-sawyer.txt\n",
            "Resolving storage.googleapis.com (storage.googleapis.com)... 74.125.20.128, 2607:f8b0:400e:c03::80\n",
            "Connecting to storage.googleapis.com (storage.googleapis.com)|74.125.20.128|:443... connected.\n",
            "HTTP request sent, awaiting response... 200 OK\n",
            "Length: 428104 (418K) [text/plain]\n",
            "Saving to: ‘tom-sawyer.txt.1’\n",
            "\n",
            "\rtom-sawyer.txt.1      0%[                    ]       0  --.-KB/s               \rtom-sawyer.txt.1    100%[===================>] 418.07K  --.-KB/s    in 0.003s  \n",
            "\n",
            "2020-03-18 08:47:48 (147 MB/s) - ‘tom-sawyer.txt.1’ saved [428104/428104]\n",
            "\n"
          ],
          "name": "stdout"
        }
      ]
    },
    {
      "cell_type": "markdown",
      "metadata": {
        "id": "6JNQwL8aqsGU",
        "colab_type": "text"
      },
      "source": [
        "### <a name='1'></a> Wczytanie pliku tekstowego"
      ]
    },
    {
      "cell_type": "code",
      "metadata": {
        "id": "P0JAZtpUyBAW",
        "colab_type": "code",
        "colab": {}
      },
      "source": [
        "with open('tom-sawyer.txt', encoding='utf-8-sig') as file:\n",
        "    text = file.read()"
      ],
      "execution_count": 0,
      "outputs": []
    },
    {
      "cell_type": "markdown",
      "metadata": {
        "id": "XG_QCH48q0P8",
        "colab_type": "text"
      },
      "source": [
        "### <a name='2'></a> Praca z tekstem"
      ]
    },
    {
      "cell_type": "code",
      "metadata": {
        "id": "1nRKLqVOyfGb",
        "colab_type": "code",
        "outputId": "7a6df89f-deb4-4298-f634-35d2f2e648bd",
        "colab": {
          "base_uri": "https://localhost:8080/",
          "height": 34
        }
      },
      "source": [
        "len(text)"
      ],
      "execution_count": 3,
      "outputs": [
        {
          "output_type": "execute_result",
          "data": {
            "text/plain": [
              "412716"
            ]
          },
          "metadata": {
            "tags": []
          },
          "execution_count": 3
        }
      ]
    },
    {
      "cell_type": "code",
      "metadata": {
        "id": "0VCnbSdiymkR",
        "colab_type": "code",
        "outputId": "e3eb4b0a-0f4e-4754-a6ea-d10226c89534",
        "colab": {
          "base_uri": "https://localhost:8080/",
          "height": 34
        }
      },
      "source": [
        "text[:150]"
      ],
      "execution_count": 4,
      "outputs": [
        {
          "output_type": "execute_result",
          "data": {
            "text/plain": [
              "'\\nThe Project Gutenberg EBook of The Adventures of Tom Sawyer, Complete by\\nMark Twain (Samuel Clemens)\\n\\nThis eBook is for the use of anyone anywhere at'"
            ]
          },
          "metadata": {
            "tags": []
          },
          "execution_count": 4
        }
      ]
    },
    {
      "cell_type": "code",
      "metadata": {
        "id": "oyDoL73kzFjL",
        "colab_type": "code",
        "outputId": "f478085b-7e45-47e3-c204-68a8a9b62fbf",
        "colab": {
          "base_uri": "https://localhost:8080/",
          "height": 34
        }
      },
      "source": [
        "text[-150:]"
      ],
      "execution_count": 5,
      "outputs": [
        {
          "output_type": "execute_result",
          "data": {
            "text/plain": [
              "'t Gutenberg Literary Archive\\nFoundation, how to help produce our new eBooks, and how to subscribe to\\nour email newsletter to hear about new eBooks.\\n\\n\\n'"
            ]
          },
          "metadata": {
            "tags": []
          },
          "execution_count": 5
        }
      ]
    },
    {
      "cell_type": "markdown",
      "metadata": {
        "id": "Bei8WOjKq8S0",
        "colab_type": "text"
      },
      "source": [
        "Podział tekstu na linie"
      ]
    },
    {
      "cell_type": "code",
      "metadata": {
        "id": "BKvox14V0Bya",
        "colab_type": "code",
        "outputId": "f7de53c9-784d-40d5-ff77-dc0a1b79d1ef",
        "colab": {
          "base_uri": "https://localhost:8080/",
          "height": 34
        }
      },
      "source": [
        "splitted_text = text.splitlines()\n",
        "len(splitted_text)"
      ],
      "execution_count": 6,
      "outputs": [
        {
          "output_type": "execute_result",
          "data": {
            "text/plain": [
              "9209"
            ]
          },
          "metadata": {
            "tags": []
          },
          "execution_count": 6
        }
      ]
    },
    {
      "cell_type": "code",
      "metadata": {
        "id": "g8IjhstQ0jJs",
        "colab_type": "code",
        "outputId": "743921dd-da3d-4eb7-ef20-491535ab5b6f",
        "colab": {
          "base_uri": "https://localhost:8080/",
          "height": 193
        }
      },
      "source": [
        "splitted_text[:10]"
      ],
      "execution_count": 7,
      "outputs": [
        {
          "output_type": "execute_result",
          "data": {
            "text/plain": [
              "['',\n",
              " 'The Project Gutenberg EBook of The Adventures of Tom Sawyer, Complete by',\n",
              " 'Mark Twain (Samuel Clemens)',\n",
              " '',\n",
              " 'This eBook is for the use of anyone anywhere at no cost and with almost',\n",
              " 'no restrictions whatsoever. You may copy it, give it away or re-use',\n",
              " 'it under the terms of the Project Gutenberg License included with this',\n",
              " 'eBook or online at www.gutenberg.net',\n",
              " '',\n",
              " 'Title: The Adventures of Tom Sawyer, Complete']"
            ]
          },
          "metadata": {
            "tags": []
          },
          "execution_count": 7
        }
      ]
    },
    {
      "cell_type": "code",
      "metadata": {
        "id": "FjpHzY3p0M_W",
        "colab_type": "code",
        "outputId": "78b75735-5a0d-4d08-852b-4f7128b3f797",
        "colab": {
          "base_uri": "https://localhost:8080/",
          "height": 193
        }
      },
      "source": [
        "splitted_text[-10:]"
      ],
      "execution_count": 8,
      "outputs": [
        {
          "output_type": "execute_result",
          "data": {
            "text/plain": [
              "['Most people start at our Web site which has the main PG search facility:',\n",
              " '',\n",
              " 'http://www.gutenberg.net',\n",
              " '',\n",
              " 'This Web site includes information about Project Gutenberg-tm, including',\n",
              " 'how to make donations to the Project Gutenberg Literary Archive',\n",
              " 'Foundation, how to help produce our new eBooks, and how to subscribe to',\n",
              " 'our email newsletter to hear about new eBooks.',\n",
              " '',\n",
              " '']"
            ]
          },
          "metadata": {
            "tags": []
          },
          "execution_count": 8
        }
      ]
    },
    {
      "cell_type": "markdown",
      "metadata": {
        "id": "qcNtFuRgq_3M",
        "colab_type": "text"
      },
      "source": [
        "Odfiltrowanie pustych linii"
      ]
    },
    {
      "cell_type": "code",
      "metadata": {
        "id": "0z4F7eSLzKnO",
        "colab_type": "code",
        "outputId": "40492a09-d178-476f-80d6-7fb854de810f",
        "colab": {
          "base_uri": "https://localhost:8080/",
          "height": 34
        }
      },
      "source": [
        "filtered_text = [line for line in splitted_text if len(line) > 0]\n",
        "len(filtered_text)"
      ],
      "execution_count": 9,
      "outputs": [
        {
          "output_type": "execute_result",
          "data": {
            "text/plain": [
              "6926"
            ]
          },
          "metadata": {
            "tags": []
          },
          "execution_count": 9
        }
      ]
    },
    {
      "cell_type": "code",
      "metadata": {
        "id": "9LyjnUaFzkYP",
        "colab_type": "code",
        "outputId": "5d792054-9538-4885-da82-0bf98ab0cb19",
        "colab": {
          "base_uri": "https://localhost:8080/",
          "height": 193
        }
      },
      "source": [
        "filtered_text[:10]"
      ],
      "execution_count": 10,
      "outputs": [
        {
          "output_type": "execute_result",
          "data": {
            "text/plain": [
              "['The Project Gutenberg EBook of The Adventures of Tom Sawyer, Complete by',\n",
              " 'Mark Twain (Samuel Clemens)',\n",
              " 'This eBook is for the use of anyone anywhere at no cost and with almost',\n",
              " 'no restrictions whatsoever. You may copy it, give it away or re-use',\n",
              " 'it under the terms of the Project Gutenberg License included with this',\n",
              " 'eBook or online at www.gutenberg.net',\n",
              " 'Title: The Adventures of Tom Sawyer, Complete',\n",
              " 'Author: Mark Twain (Samuel Clemens)',\n",
              " 'Release Date: August 20, 2006 [EBook #74]',\n",
              " 'Last Updated: February 23, 2018']"
            ]
          },
          "metadata": {
            "tags": []
          },
          "execution_count": 10
        }
      ]
    },
    {
      "cell_type": "code",
      "metadata": {
        "id": "pq9ILO3Pzn6E",
        "colab_type": "code",
        "outputId": "643bf0fd-f6ee-4ebd-897c-1192ebda40e4",
        "colab": {
          "base_uri": "https://localhost:8080/",
          "height": 193
        }
      },
      "source": [
        "filtered_text[-10:]"
      ],
      "execution_count": 11,
      "outputs": [
        {
          "output_type": "execute_result",
          "data": {
            "text/plain": [
              "['Project Gutenberg-tm eBooks are often created from several printed',\n",
              " 'editions, all of which are confirmed as Public Domain in the U.S. unless',\n",
              " 'a copyright notice is included. Thus, we do not necessarily keep eBooks',\n",
              " 'in compliance with any particular paper edition.',\n",
              " 'Most people start at our Web site which has the main PG search facility:',\n",
              " 'http://www.gutenberg.net',\n",
              " 'This Web site includes information about Project Gutenberg-tm, including',\n",
              " 'how to make donations to the Project Gutenberg Literary Archive',\n",
              " 'Foundation, how to help produce our new eBooks, and how to subscribe to',\n",
              " 'our email newsletter to hear about new eBooks.']"
            ]
          },
          "metadata": {
            "tags": []
          },
          "execution_count": 11
        }
      ]
    },
    {
      "cell_type": "markdown",
      "metadata": {
        "id": "mf01oRj1rC8L",
        "colab_type": "text"
      },
      "source": [
        "Podział linii na tokeny"
      ]
    },
    {
      "cell_type": "code",
      "metadata": {
        "id": "72VOpFDzzsQj",
        "colab_type": "code",
        "outputId": "35e3b246-01de-4d15-ad4e-0dee2e5df6b8",
        "colab": {
          "base_uri": "https://localhost:8080/",
          "height": 54
        }
      },
      "source": [
        "splitted_lines = [line.split() for line in filtered_text]\n",
        "print(splitted_lines[:3])"
      ],
      "execution_count": 12,
      "outputs": [
        {
          "output_type": "stream",
          "text": [
            "[['The', 'Project', 'Gutenberg', 'EBook', 'of', 'The', 'Adventures', 'of', 'Tom', 'Sawyer,', 'Complete', 'by'], ['Mark', 'Twain', '(Samuel', 'Clemens)'], ['This', 'eBook', 'is', 'for', 'the', 'use', 'of', 'anyone', 'anywhere', 'at', 'no', 'cost', 'and', 'with', 'almost']]\n"
          ],
          "name": "stdout"
        }
      ]
    },
    {
      "cell_type": "code",
      "metadata": {
        "id": "xZc2gnBN1EDB",
        "colab_type": "code",
        "outputId": "c2db84c7-8277-4f15-89a3-64e624e05156",
        "colab": {
          "base_uri": "https://localhost:8080/",
          "height": 193
        }
      },
      "source": [
        "for splitted_line in splitted_lines[:10]:\n",
        "    print(splitted_line)"
      ],
      "execution_count": 13,
      "outputs": [
        {
          "output_type": "stream",
          "text": [
            "['The', 'Project', 'Gutenberg', 'EBook', 'of', 'The', 'Adventures', 'of', 'Tom', 'Sawyer,', 'Complete', 'by']\n",
            "['Mark', 'Twain', '(Samuel', 'Clemens)']\n",
            "['This', 'eBook', 'is', 'for', 'the', 'use', 'of', 'anyone', 'anywhere', 'at', 'no', 'cost', 'and', 'with', 'almost']\n",
            "['no', 'restrictions', 'whatsoever.', 'You', 'may', 'copy', 'it,', 'give', 'it', 'away', 'or', 're-use']\n",
            "['it', 'under', 'the', 'terms', 'of', 'the', 'Project', 'Gutenberg', 'License', 'included', 'with', 'this']\n",
            "['eBook', 'or', 'online', 'at', 'www.gutenberg.net']\n",
            "['Title:', 'The', 'Adventures', 'of', 'Tom', 'Sawyer,', 'Complete']\n",
            "['Author:', 'Mark', 'Twain', '(Samuel', 'Clemens)']\n",
            "['Release', 'Date:', 'August', '20,', '2006', '[EBook', '#74]']\n",
            "['Last', 'Updated:', 'February', '23,', '2018']\n"
          ],
          "name": "stdout"
        }
      ]
    },
    {
      "cell_type": "markdown",
      "metadata": {
        "id": "3PyjhFx3rfqY",
        "colab_type": "text"
      },
      "source": [
        "Podział tekstu 'na zdania'"
      ]
    },
    {
      "cell_type": "code",
      "metadata": {
        "id": "TT5NRwGA1eK2",
        "colab_type": "code",
        "outputId": "55a251ae-c641-482d-9049-f14f41d48dc4",
        "colab": {
          "base_uri": "https://localhost:8080/",
          "height": 34
        }
      },
      "source": [
        "raw_text = ' '.join(text.split('\\n'))\n",
        "sentences = raw_text.split('.')\n",
        "len(sentences)"
      ],
      "execution_count": 14,
      "outputs": [
        {
          "output_type": "execute_result",
          "data": {
            "text/plain": [
              "4141"
            ]
          },
          "metadata": {
            "tags": []
          },
          "execution_count": 14
        }
      ]
    },
    {
      "cell_type": "code",
      "metadata": {
        "id": "0Jb74yc410hr",
        "colab_type": "code",
        "outputId": "acf93613-9f04-400c-acf1-038ebe1ae373",
        "colab": {
          "base_uri": "https://localhost:8080/",
          "height": 213
        }
      },
      "source": [
        "sentences[:10]"
      ],
      "execution_count": 15,
      "outputs": [
        {
          "output_type": "execute_result",
          "data": {
            "text/plain": [
              "[' The Project Gutenberg EBook of The Adventures of Tom Sawyer, Complete by Mark Twain (Samuel Clemens)  This eBook is for the use of anyone anywhere at no cost and with almost no restrictions whatsoever',\n",
              " ' You may copy it, give it away or re-use it under the terms of the Project Gutenberg License included with this eBook or online at www',\n",
              " 'gutenberg',\n",
              " 'net  Title: The Adventures of Tom Sawyer, Complete  Author: Mark Twain (Samuel Clemens)  Release Date: August 20, 2006 [EBook #74] Last Updated: February 23, 2018  Language: English  Character set encoding: UTF-8  *** START OF THIS PROJECT GUTENBERG EBOOK TOM SAWYER ***  Produced by David Widger      THE ADVENTURES OF TOM SAWYER  By Mark Twain  (Samuel Langhorne Clemens)     CONTENTS  CHAPTER I',\n",
              " ' Y-o-u-u Tom-Aunt Polly Decides Upon her Duty--Tom Practices Music--The Challenge--A Private Entrance  CHAPTER II',\n",
              " ' Strong Temptations--Strategic Movements--The Innocents Beguiled  CHAPTER III',\n",
              " ' Tom as a General--Triumph and Reward--Dismal Felicity--Commission and Omission  CHAPTER IV',\n",
              " ' Mental Acrobatics--Attending Sunday--School--The Superintendent--“Showing off”--Tom Lionized  CHAPTER V',\n",
              " ' A Useful Minister--In Church--The Climax  CHAPTER VI',\n",
              " ' Self-Examination--Dentistry--The Midnight Charm--Witches and Devils--Cautious Approaches--Happy Hours  CHAPTER VII']"
            ]
          },
          "metadata": {
            "tags": []
          },
          "execution_count": 15
        }
      ]
    },
    {
      "cell_type": "code",
      "metadata": {
        "id": "8fkHI29O3Cvq",
        "colab_type": "code",
        "outputId": "59a5426c-085e-42c7-c766-4476eff81c9e",
        "colab": {
          "base_uri": "https://localhost:8080/",
          "height": 213
        }
      },
      "source": [
        "sentences[-10:]"
      ],
      "execution_count": 16,
      "outputs": [
        {
          "output_type": "execute_result",
          "data": {
            "text/plain": [
              "[' Hart is the originator of the Project Gutenberg-tm concept of a library of electronic works that could be freely shared with anyone',\n",
              " ' For thirty years, he produced and distributed Project Gutenberg-tm eBooks with only a loose network of volunteer support',\n",
              " '  Project Gutenberg-tm eBooks are often created from several printed editions, all of which are confirmed as Public Domain in the U',\n",
              " 'S',\n",
              " ' unless a copyright notice is included',\n",
              " ' Thus, we do not necessarily keep eBooks in compliance with any particular paper edition',\n",
              " '  Most people start at our Web site which has the main PG search facility:  http://www',\n",
              " 'gutenberg',\n",
              " 'net  This Web site includes information about Project Gutenberg-tm, including how to make donations to the Project Gutenberg Literary Archive Foundation, how to help produce our new eBooks, and how to subscribe to our email newsletter to hear about new eBooks',\n",
              " '   ']"
            ]
          },
          "metadata": {
            "tags": []
          },
          "execution_count": 16
        }
      ]
    },
    {
      "cell_type": "markdown",
      "metadata": {
        "id": "AF4zBy_mrkix",
        "colab_type": "text"
      },
      "source": [
        "Usunięcie białych znaków dookoła tekstu"
      ]
    },
    {
      "cell_type": "code",
      "metadata": {
        "id": "spdonfoa3F7K",
        "colab_type": "code",
        "outputId": "886233a6-e851-4b9b-806b-7b7c9e6f2df1",
        "colab": {
          "base_uri": "https://localhost:8080/",
          "height": 213
        }
      },
      "source": [
        "sentences = [sentence.strip() for sentence in sentences]\n",
        "sentences[:10]"
      ],
      "execution_count": 17,
      "outputs": [
        {
          "output_type": "execute_result",
          "data": {
            "text/plain": [
              "['The Project Gutenberg EBook of The Adventures of Tom Sawyer, Complete by Mark Twain (Samuel Clemens)  This eBook is for the use of anyone anywhere at no cost and with almost no restrictions whatsoever',\n",
              " 'You may copy it, give it away or re-use it under the terms of the Project Gutenberg License included with this eBook or online at www',\n",
              " 'gutenberg',\n",
              " 'net  Title: The Adventures of Tom Sawyer, Complete  Author: Mark Twain (Samuel Clemens)  Release Date: August 20, 2006 [EBook #74] Last Updated: February 23, 2018  Language: English  Character set encoding: UTF-8  *** START OF THIS PROJECT GUTENBERG EBOOK TOM SAWYER ***  Produced by David Widger      THE ADVENTURES OF TOM SAWYER  By Mark Twain  (Samuel Langhorne Clemens)     CONTENTS  CHAPTER I',\n",
              " 'Y-o-u-u Tom-Aunt Polly Decides Upon her Duty--Tom Practices Music--The Challenge--A Private Entrance  CHAPTER II',\n",
              " 'Strong Temptations--Strategic Movements--The Innocents Beguiled  CHAPTER III',\n",
              " 'Tom as a General--Triumph and Reward--Dismal Felicity--Commission and Omission  CHAPTER IV',\n",
              " 'Mental Acrobatics--Attending Sunday--School--The Superintendent--“Showing off”--Tom Lionized  CHAPTER V',\n",
              " 'A Useful Minister--In Church--The Climax  CHAPTER VI',\n",
              " 'Self-Examination--Dentistry--The Midnight Charm--Witches and Devils--Cautious Approaches--Happy Hours  CHAPTER VII']"
            ]
          },
          "metadata": {
            "tags": []
          },
          "execution_count": 17
        }
      ]
    },
    {
      "cell_type": "code",
      "metadata": {
        "id": "RGx6cQYR3Xgi",
        "colab_type": "code",
        "outputId": "a5465fc8-08c1-4b08-ca7c-0833e51d49f1",
        "colab": {
          "base_uri": "https://localhost:8080/",
          "height": 213
        }
      },
      "source": [
        "sentences[-10:]"
      ],
      "execution_count": 18,
      "outputs": [
        {
          "output_type": "execute_result",
          "data": {
            "text/plain": [
              "['Hart is the originator of the Project Gutenberg-tm concept of a library of electronic works that could be freely shared with anyone',\n",
              " 'For thirty years, he produced and distributed Project Gutenberg-tm eBooks with only a loose network of volunteer support',\n",
              " 'Project Gutenberg-tm eBooks are often created from several printed editions, all of which are confirmed as Public Domain in the U',\n",
              " 'S',\n",
              " 'unless a copyright notice is included',\n",
              " 'Thus, we do not necessarily keep eBooks in compliance with any particular paper edition',\n",
              " 'Most people start at our Web site which has the main PG search facility:  http://www',\n",
              " 'gutenberg',\n",
              " 'net  This Web site includes information about Project Gutenberg-tm, including how to make donations to the Project Gutenberg Literary Archive Foundation, how to help produce our new eBooks, and how to subscribe to our email newsletter to hear about new eBooks',\n",
              " '']"
            ]
          },
          "metadata": {
            "tags": []
          },
          "execution_count": 18
        }
      ]
    },
    {
      "cell_type": "code",
      "metadata": {
        "id": "DDVPzHZj3bIo",
        "colab_type": "code",
        "outputId": "a71f7953-c1b4-4347-e857-527abf522181",
        "colab": {
          "base_uri": "https://localhost:8080/",
          "height": 389
        }
      },
      "source": [
        "for sentence in sentences[1000:1020]:\n",
        "    print(sentence)"
      ],
      "execution_count": 19,
      "outputs": [
        {
          "output_type": "stream",
          "text": [
            "But it occurred to him that he might as well have the marble he had just thrown away, and therefore he went and made a patient search for it\n",
            "But he could not find it\n",
            "Now he went back to his treasure-house and carefully placed himself just as he had been standing when he tossed the marble away; then he took another marble from his pocket and tossed it in the same way, saying:  “Brother, go find your brother!”  He watched where it stopped, and went there and looked\n",
            "But it must have fallen short or gone too far; so he tried twice more\n",
            "The last repetition was successful\n",
            "The two marbles lay within a foot of each other\n",
            "Just here the blast of a toy tin trumpet came faintly down the green aisles of the forest\n",
            "Tom flung off his jacket and trousers, turned a suspender into a belt, raked away some brush behind the rotten log, disclosing a rude bow and arrow, a lath sword and a tin trumpet, and in a moment had seized these things and bounded away, barelegged, with fluttering shirt\n",
            "He presently halted under a great elm, blew an answering blast, and then began to tiptoe and look warily out, this way and that\n",
            "He said cautiously--to an imaginary company:  “Hold, my merry men! Keep hid till I blow\n",
            "”  Now appeared Joe Harper, as airily clad and elaborately armed as Tom\n",
            "Tom called:  “Hold! Who comes here into Sherwood Forest without my pass?”  “Guy of Guisborne wants no man's pass\n",
            "Who art thou that--that--”  “Dares to hold such language,” said Tom, prompting--for they talked “by the book,” from memory\n",
            "“Who art thou that dares to hold such language?”  “I, indeed! I am Robin Hood, as thy caitiff carcase soon shall know\n",
            "”  “Then art thou indeed that famous outlaw? Right gladly will I dispute with thee the passes of the merry wood\n",
            "Have at thee!”  They took their lath swords, dumped their other traps on the ground, struck a fencing attitude, foot to foot, and began a grave, careful combat, “two up and two down\n",
            "” Presently Tom said:  “Now, if you've got the hang, go it lively!”  So they “went it lively,” panting and perspiring with the work\n",
            "By and by Tom shouted:  “Fall! fall! Why don't you fall?”  “I sha'n't! Why don't you fall yourself? You're getting the worst of it\n",
            "”  “Why, that ain't anything\n",
            "I can't fall; that ain't the way it is in the book\n"
          ],
          "name": "stdout"
        }
      ]
    },
    {
      "cell_type": "markdown",
      "metadata": {
        "id": "ecVglJcRrpeA",
        "colab_type": "text"
      },
      "source": [
        "Podział zdań na tokeny"
      ]
    },
    {
      "cell_type": "code",
      "metadata": {
        "id": "O_SyAJpP3s9L",
        "colab_type": "code",
        "outputId": "ecc6c8a9-af78-4a89-bbfa-12cb0a6fc418",
        "colab": {
          "base_uri": "https://localhost:8080/",
          "height": 389
        }
      },
      "source": [
        "splitted_sentences = [sentence.split() for sentence in sentences]\n",
        "\n",
        "for sentence in splitted_sentences[100:120]:\n",
        "    print(sentence)"
      ],
      "execution_count": 20,
      "outputs": [
        {
          "output_type": "stream",
          "text": [
            "['But', 'I', 'forgive', 'ye,', 'Tom']\n",
            "['I', 'reckon', \"you're\", 'a', 'kind', 'of', 'a', 'singed', 'cat,', 'as', 'the', 'saying', \"is--better'n\", 'you', 'look']\n",
            "['_This_', 'time']\n",
            "['”', 'She', 'was', 'half', 'sorry', 'her', 'sagacity', 'had', 'miscarried,', 'and', 'half', 'glad', 'that', 'Tom', 'had', 'stumbled', 'into', 'obedient', 'conduct', 'for', 'once']\n",
            "['But', 'Sidney', 'said:', '“Well,', 'now,', 'if', 'I', \"didn't\", 'think', 'you', 'sewed', 'his', 'collar', 'with', 'white', 'thread,', 'but', \"it's\", 'black']\n",
            "['”', '“Why,', 'I', 'did', 'sew', 'it', 'with', 'white!', 'Tom!”', 'But', 'Tom', 'did', 'not', 'wait', 'for', 'the', 'rest']\n",
            "['As', 'he', 'went', 'out', 'at', 'the', 'door', 'he', 'said:', '“Siddy,', \"I'll\", 'lick', 'you', 'for', 'that']\n",
            "['”', 'In', 'a', 'safe', 'place', 'Tom', 'examined', 'two', 'large', 'needles', 'which', 'were', 'thrust', 'into', 'the', 'lapels', 'of', 'his', 'jacket,', 'and', 'had', 'thread', 'bound', 'about', 'them--one', 'needle', 'carried', 'white', 'thread', 'and', 'the', 'other', 'black']\n",
            "['He', 'said:', \"“She'd\", 'never', 'noticed', 'if', 'it', \"hadn't\", 'been', 'for', 'Sid']\n",
            "['Confound', 'it!', 'sometimes', 'she', 'sews', 'it', 'with', 'white,', 'and', 'sometimes', 'she', 'sews', 'it', 'with', 'black']\n",
            "['I', 'wish', 'to', 'gee-miny', \"she'd\", 'stick', 'to', 'one', 'or', \"t'other--I\", \"can't\", 'keep', 'the', 'run', 'of', \"'em\"]\n",
            "['But', 'I', 'bet', 'you', \"I'll\", 'lam', 'Sid', 'for', 'that']\n",
            "[\"I'll\", 'learn', 'him!”', 'He', 'was', 'not', 'the', 'Model', 'Boy', 'of', 'the', 'village']\n",
            "['He', 'knew', 'the', 'model', 'boy', 'very', 'well', 'though--and', 'loathed', 'him']\n",
            "['Within', 'two', 'minutes,', 'or', 'even', 'less,', 'he', 'had', 'forgotten', 'all', 'his', 'troubles']\n",
            "['Not', 'because', 'his', 'troubles', 'were', 'one', 'whit', 'less', 'heavy', 'and', 'bitter', 'to', 'him', 'than', 'a', \"man's\", 'are', 'to', 'a', 'man,', 'but', 'because', 'a', 'new', 'and', 'powerful', 'interest', 'bore', 'them', 'down', 'and', 'drove', 'them', 'out', 'of', 'his', 'mind', 'for', 'the', 'time--just', 'as', \"men's\", 'misfortunes', 'are', 'forgotten', 'in', 'the', 'excitement', 'of', 'new', 'enterprises']\n",
            "['This', 'new', 'interest', 'was', 'a', 'valued', 'novelty', 'in', 'whistling,', 'which', 'he', 'had', 'just', 'acquired', 'from', 'a', 'negro,', 'and', 'he', 'was', 'suffering', 'to', 'practise', 'it', 'un-disturbed']\n",
            "['It', 'consisted', 'in', 'a', 'peculiar', 'bird-like', 'turn,', 'a', 'sort', 'of', 'liquid', 'warble,', 'produced', 'by', 'touching', 'the', 'tongue', 'to', 'the', 'roof', 'of', 'the', 'mouth', 'at', 'short', 'intervals', 'in', 'the', 'midst', 'of', 'the', 'music--the', 'reader', 'probably', 'remembers', 'how', 'to', 'do', 'it,', 'if', 'he', 'has', 'ever', 'been', 'a', 'boy']\n",
            "['Diligence', 'and', 'attention', 'soon', 'gave', 'him', 'the', 'knack', 'of', 'it,', 'and', 'he', 'strode', 'down', 'the', 'street', 'with', 'his', 'mouth', 'full', 'of', 'harmony', 'and', 'his', 'soul', 'full', 'of', 'gratitude']\n",
            "['He', 'felt', 'much', 'as', 'an', 'astronomer', 'feels', 'who', 'has', 'discovered', 'a', 'new', 'planet--no', 'doubt,', 'as', 'far', 'as', 'strong,', 'deep,', 'unalloyed', 'pleasure', 'is', 'concerned,', 'the', 'advantage', 'was', 'with', 'the', 'boy,', 'not', 'the', 'astronomer']\n"
          ],
          "name": "stdout"
        }
      ]
    },
    {
      "cell_type": "code",
      "metadata": {
        "id": "-idHfcZJ4gQS",
        "colab_type": "code",
        "outputId": "96fe1911-32ad-4f4f-8517-91449b61d087",
        "colab": {
          "base_uri": "https://localhost:8080/",
          "height": 318
        }
      },
      "source": [
        "for sentence in splitted_sentences[:100]:\n",
        "    if 'The' in sentence:\n",
        "        print(sentence)"
      ],
      "execution_count": 21,
      "outputs": [
        {
          "output_type": "stream",
          "text": [
            "['The', 'Project', 'Gutenberg', 'EBook', 'of', 'The', 'Adventures', 'of', 'Tom', 'Sawyer,', 'Complete', 'by', 'Mark', 'Twain', '(Samuel', 'Clemens)', 'This', 'eBook', 'is', 'for', 'the', 'use', 'of', 'anyone', 'anywhere', 'at', 'no', 'cost', 'and', 'with', 'almost', 'no', 'restrictions', 'whatsoever']\n",
            "['net', 'Title:', 'The', 'Adventures', 'of', 'Tom', 'Sawyer,', 'Complete', 'Author:', 'Mark', 'Twain', '(Samuel', 'Clemens)', 'Release', 'Date:', 'August', '20,', '2006', '[EBook', '#74]', 'Last', 'Updated:', 'February', '23,', '2018', 'Language:', 'English', 'Character', 'set', 'encoding:', 'UTF-8', '***', 'START', 'OF', 'THIS', 'PROJECT', 'GUTENBERG', 'EBOOK', 'TOM', 'SAWYER', '***', 'Produced', 'by', 'David', 'Widger', 'THE', 'ADVENTURES', 'OF', 'TOM', 'SAWYER', 'By', 'Mark', 'Twain', '(Samuel', 'Langhorne', 'Clemens)', 'CONTENTS', 'CHAPTER', 'I']\n",
            "['The', 'Solemn', 'Oath--Terror', 'Brings', 'Repentance--Mental', 'Punishment', 'CHAPTER', 'XI']\n",
            "['The', 'Young', 'Pirates--Going', 'to', 'the', 'Rendezvous--The', 'Camp--Fire', 'Talk', 'CHAPTER', 'XIV']\n",
            "['The', 'Haunted', 'House--Sleepy', 'Ghosts--A', 'Box', 'of', 'Gold--Bitter', 'Luck', 'CHAPTER', 'XXVII']\n",
            "['The', 'Pic-nic--Huck', 'on', 'Injun', \"Joe's\", 'Track--The', '“Revenge”', 'Job--Aid', 'for', 'the', 'Widow', 'CHAPTER', 'XXX']\n",
            "['The', 'Welchman', 'Reports--Huck', 'Under', 'Fire--The', 'Story', 'Circulated', '--A', 'New', 'Sensation--Hope', 'Giving', 'Way', 'to', 'Despair', 'CHAPTER', 'XXXI']\n",
            "['The', 'Fate', 'of', 'Injun', 'Joe--Huck', 'and', 'Tom', 'Compare', 'Notes', '--An', 'Expedition', 'to', 'the', 'Cave--Protection', 'Against', 'Ghosts--“An', 'Awful', 'Snug', 'Place”--A', 'Reception', 'at', 'the', 'Widow', \"Douglas's\", 'CHAPTER', 'XXXIV']\n",
            "['A', 'New', 'Order', 'of', 'Things--Poor', 'Huck--New', 'Adventures', 'Planned', 'ILLUSTRATIONS', 'Tom', 'Sawyer', 'Tom', 'at', 'Home', 'Aunt', 'Polly', 'Beguiled', 'A', 'Good', 'Opportunity', \"Who's\", 'Afraid', 'Late', 'Home', 'Jim', \"'Tendin'\", 'to', 'Business', \"Ain't\", 'that', 'Work?', 'Cat', 'and', 'Toys', 'Amusement', 'Becky', 'Thatcher', 'Paying', 'Off', 'After', 'the', 'Battle', '“Showing', 'Off”', 'Not', 'Amiss', 'Mary', 'Tom', 'Contemplating', 'Dampened', 'Ardor', 'Youth', 'Boyhood', 'Using', 'the', '“Barlow”', 'The', 'Church', 'Necessities', 'Tom', 'as', 'a', 'Sunday-School', 'Hero', 'The', 'Prize', 'At', 'Church', 'The', 'Model', 'Boy', 'The', 'Church', 'Choir', 'A', 'Side', 'Show', 'Result', 'of', 'Playing', 'in', 'Church', 'The', 'Pinch-Bug', 'Sid', 'Dentistry', 'Huckleberry', 'Finn', 'Mother', 'Hopkins', 'Result', 'of', \"Tom's\", 'Truthfulness', 'Tom', 'as', 'an', 'Artist', 'Interrupted', 'Courtship', 'The', 'Master', 'Vain', 'Pleading', 'Tail', 'Piece', 'The', 'Grave', 'in', 'the', 'Woods', 'Tom', 'Meditates', 'Robin', 'Hood', 'and', 'his', 'Foe', 'Death', 'of', 'Robin', 'Hood', 'Midnight', \"Tom's\", 'Mode', 'of', 'Egress', \"Tom's\", 'Effort', 'at', 'Prayer', 'Muff', 'Potter', 'Outwitted', 'The', 'Graveyard', 'Forewarnings', 'Disturbing', \"Muff's\", 'Sleep', \"Tom's\", 'Talk', 'with', 'his', 'Aunt', 'Muff', 'Potter', 'A', 'Suspicious', 'Incident', 'Injun', \"Joe's\", 'two', 'Victims', 'In', 'the', 'Coils', 'Peter', 'Aunt', 'Polly', 'seeks', 'Information', 'A', 'General', 'Good', 'Time', 'Demoralized', 'Joe', 'Harper', 'On', 'Board', 'Their', 'First', 'Prize', 'The', 'Pirates', 'Ashore', 'Wild', 'Life', 'The', \"Pirate's\", 'Bath', 'The', 'Pleasant', 'Stroll', 'The', 'Search', 'for', 'the', 'Drowned', 'The', 'Mysterious', 'Writing', 'River', 'View', 'What', 'Tom', 'Saw', 'Tom', 'Swims', 'the', 'River', 'Taking', 'Lessons', 'The', \"Pirates'\", 'Egg', 'Market', 'Tom', 'Looking', 'for', \"Joe's\", 'Knife', 'The', 'Thunder', 'Storm', 'Terrible', 'Slaughter', 'The', 'Mourner', \"Tom's\", 'Proudest', 'Moment', 'Amy', 'Lawrence', 'Tom', 'tries', 'to', 'Remember', 'The', 'Hero', 'A', 'Flirtation', 'Becky', 'Retaliates', 'A', 'Sudden', 'Frost', 'Counter-irritation', 'Aunt', 'Polly', 'Tom', 'justified', 'The', 'Discovery', 'Caught', 'in', 'the', 'Act', 'Tom', 'Astonishes', 'the', 'School', 'Literature', 'Tom', 'Declaims', 'Examination', 'Evening', 'On', 'Exhibition', 'Prize', 'Authors', 'The', \"Master's\", 'Dilemma', 'The', 'School', 'House', 'The', 'Cadet', 'Happy', 'for', 'Two', 'Days', 'Enjoying', 'the', 'Vacation', 'The', 'Stolen', 'Melons', 'The', 'Judge', 'Visiting', 'the', 'Prisoner', 'Tom', 'Swears', 'The', 'Court', 'Room', 'The', 'Detective', 'Tom', 'Dreams', 'The', 'Treasure', 'The', 'Private', 'Conference', 'A', 'King;', 'Poor', 'Fellow!', 'Business', 'The', \"Ha'nted\", 'House', 'Injun', 'Joe', 'The', 'Greatest', 'and', 'Best', 'Hidden', 'Treasures', 'Unearthed', 'The', \"Boy's\", 'Salvation', 'Room', 'No']\n",
            "['2', 'The', 'Next', \"Day's\", 'Conference', 'Treasures', 'Uncle', 'Jake', 'Buck', 'at', 'Home', 'The', 'Haunted', 'Room', '“Run', 'for', 'Your', 'Life”', \"McDougal's\", 'Cave', 'Inside', 'the', 'Cave', 'Huck', 'on', 'Duty', 'A', 'Rousing', 'Act', 'Tail', 'Piece', 'The', 'Welchman', 'Result', 'of', 'a', 'Sneeze', 'Cornered', 'Alarming', 'Discoveries', 'Tom', 'and', 'Becky', 'stir', 'up', 'the', 'Town', \"Tom's\", 'Marks', 'Huck', 'Questions', 'the', 'Widow', 'Vampires', 'Wonders', 'of', 'the', 'Cave', 'Attacked', 'by', 'Natives', 'Despair', 'The', 'Wedding', 'Cake', 'A', 'New', 'Terror', 'Daylight', '“Turn', 'Out”', 'to', 'Receive', 'Tom', 'and', 'Becky', 'The', 'Escape', 'from', 'the', 'Cave', 'Fate', 'of', 'the', 'Ragged', 'Man', 'The', 'Treasures', 'Found', 'Caught', 'at', 'Last', 'Drop', 'after', 'Drop', 'Having', 'a', 'Good', 'Time', 'A', 'Business', 'Trip', '“Got', 'it', 'at', 'Last!”', 'Tail', 'Piece', 'Widow', 'Douglas', 'Tom', 'Backs', 'his', 'Statement', 'Tail', 'Piece', 'Huck', 'Transformed', 'Comfortable', 'Once', 'More', 'High', 'up', 'in', 'Society', 'Contentment', 'PREFACE', 'Most', 'of', 'the', 'adventures', 'recorded', 'in', 'this', 'book', 'really', 'occurred;', 'one', 'or', 'two', 'were', 'experiences', 'of', 'my', 'own,', 'the', 'rest', 'those', 'of', 'boys', 'who', 'were', 'schoolmates', 'of', 'mine']\n",
            "['The', 'odd', 'superstitions', 'touched', 'upon', 'were', 'all', 'prevalent', 'among', 'children', 'and', 'slaves', 'in', 'the', 'West', 'at', 'the', 'period', 'of', 'this', 'story--that', 'is', 'to', 'say,', 'thirty', 'or', 'forty', 'years', 'ago']\n",
            "['The', 'old', 'lady', 'pulled', 'her', 'spectacles', 'down', 'and', 'looked', 'over', 'them', 'about', 'the', 'room;', 'then', 'she', 'put', 'them', 'up', 'and', 'looked', 'out', 'under', 'them']\n",
            "['”', 'The', 'switch', 'hovered', 'in', 'the', 'air--the', 'peril', 'was', 'desperate--', '“My!', 'Look', 'behind', 'you,', 'aunt!”', 'The', 'old', 'lady', 'whirled', 'round,', 'and', 'snatched', 'her', 'skirts', 'out', 'of', 'danger']\n",
            "['The', 'lad', 'fled', 'on', 'the', 'instant,', 'scrambled', 'up', 'the', 'high', 'board-fence,', 'and', 'disappeared', 'over', 'it']\n",
            "['”', 'The', 'old', 'lady', 'reached', 'out', 'her', 'hand', 'and', 'felt', \"Tom's\", 'shirt,', 'and', 'said:', '“But', 'you', \"ain't\", 'too', 'warm', 'now,', 'though']\n",
            "['Then', 'she', 'had', 'a', 'new', 'inspiration:', '“Tom,', 'you', \"didn't\", 'have', 'to', 'undo', 'your', 'shirt', 'collar', 'where', 'I', 'sewed', 'it,', 'to', 'pump', 'on', 'your', 'head,', 'did', 'you?', 'Unbutton', 'your', 'jacket!”', 'The', 'trouble', 'vanished', 'out', 'of', \"Tom's\", 'face']\n"
          ],
          "name": "stdout"
        }
      ]
    },
    {
      "cell_type": "code",
      "metadata": {
        "id": "MH5KyLXM5uER",
        "colab_type": "code",
        "outputId": "a3f80e25-19a5-432e-a47a-19cafdd1f715",
        "colab": {
          "base_uri": "https://localhost:8080/",
          "height": 811
        }
      },
      "source": [
        "for sentence in splitted_sentences[:100]:\n",
        "    if 'The' in sentence or 'the' in sentence:\n",
        "        print(sentence)"
      ],
      "execution_count": 22,
      "outputs": [
        {
          "output_type": "stream",
          "text": [
            "['The', 'Project', 'Gutenberg', 'EBook', 'of', 'The', 'Adventures', 'of', 'Tom', 'Sawyer,', 'Complete', 'by', 'Mark', 'Twain', '(Samuel', 'Clemens)', 'This', 'eBook', 'is', 'for', 'the', 'use', 'of', 'anyone', 'anywhere', 'at', 'no', 'cost', 'and', 'with', 'almost', 'no', 'restrictions', 'whatsoever']\n",
            "['You', 'may', 'copy', 'it,', 'give', 'it', 'away', 'or', 're-use', 'it', 'under', 'the', 'terms', 'of', 'the', 'Project', 'Gutenberg', 'License', 'included', 'with', 'this', 'eBook', 'or', 'online', 'at', 'www']\n",
            "['net', 'Title:', 'The', 'Adventures', 'of', 'Tom', 'Sawyer,', 'Complete', 'Author:', 'Mark', 'Twain', '(Samuel', 'Clemens)', 'Release', 'Date:', 'August', '20,', '2006', '[EBook', '#74]', 'Last', 'Updated:', 'February', '23,', '2018', 'Language:', 'English', 'Character', 'set', 'encoding:', 'UTF-8', '***', 'START', 'OF', 'THIS', 'PROJECT', 'GUTENBERG', 'EBOOK', 'TOM', 'SAWYER', '***', 'Produced', 'by', 'David', 'Widger', 'THE', 'ADVENTURES', 'OF', 'TOM', 'SAWYER', 'By', 'Mark', 'Twain', '(Samuel', 'Langhorne', 'Clemens)', 'CONTENTS', 'CHAPTER', 'I']\n",
            "['The', 'Solemn', 'Oath--Terror', 'Brings', 'Repentance--Mental', 'Punishment', 'CHAPTER', 'XI']\n",
            "['The', 'Young', 'Pirates--Going', 'to', 'the', 'Rendezvous--The', 'Camp--Fire', 'Talk', 'CHAPTER', 'XIV']\n",
            "['Tom', 'Reconnoiters--Learns', 'the', 'Situation--Reports', 'at', 'Camp', 'CHAPTER', 'XVI']\n",
            "['Memories', 'of', 'the', 'Lost', 'Heroes--The', 'Point', 'in', \"Tom's\", 'Secret', 'CHAPTER', 'XVIII']\n",
            "['Tom', 'Tells', 'the', 'Truth', 'CHAPTER', 'XX']\n",
            "['Youthful', 'Eloquence--Compositions', 'by', 'the', 'Young', 'Ladies--A', 'Lengthy', 'Vision--The', \"Boy's\", 'Vengeance', 'Satisfied', 'CHAPTER', 'XXII']\n",
            "['Tom', 'as', 'the', 'Village', 'Hero--Days', 'of', 'Splendor', 'and', 'Nights', 'of', 'Horror--Pursuit', 'of', 'Injun', 'Joe', 'CHAPTER', 'XXV']\n",
            "['About', 'Kings', 'and', 'Diamonds--Search', 'for', 'the', 'Treasure--Dead', 'People', 'and', 'Ghosts', 'CHAPTER', 'XXVI']\n",
            "['The', 'Haunted', 'House--Sleepy', 'Ghosts--A', 'Box', 'of', 'Gold--Bitter', 'Luck', 'CHAPTER', 'XXVII']\n",
            "['The', 'Pic-nic--Huck', 'on', 'Injun', \"Joe's\", 'Track--The', '“Revenge”', 'Job--Aid', 'for', 'the', 'Widow', 'CHAPTER', 'XXX']\n",
            "['The', 'Welchman', 'Reports--Huck', 'Under', 'Fire--The', 'Story', 'Circulated', '--A', 'New', 'Sensation--Hope', 'Giving', 'Way', 'to', 'Despair', 'CHAPTER', 'XXXI']\n",
            "['An', 'Exploring', 'Expedition--Trouble', 'Commences--Lost', 'in', 'the', 'Cave--Total', 'Darkness--Found', 'but', 'not', 'Saved', 'CHAPTER', 'XXXII']\n",
            "['Tom', 'tells', 'the', 'Story', 'of', 'their', \"Escape--Tom's\", 'Enemy', 'in', 'Safe', 'Quarters', 'CHAPTER', 'XXXIII']\n",
            "['The', 'Fate', 'of', 'Injun', 'Joe--Huck', 'and', 'Tom', 'Compare', 'Notes', '--An', 'Expedition', 'to', 'the', 'Cave--Protection', 'Against', 'Ghosts--“An', 'Awful', 'Snug', 'Place”--A', 'Reception', 'at', 'the', 'Widow', \"Douglas's\", 'CHAPTER', 'XXXIV']\n",
            "['A', 'New', 'Order', 'of', 'Things--Poor', 'Huck--New', 'Adventures', 'Planned', 'ILLUSTRATIONS', 'Tom', 'Sawyer', 'Tom', 'at', 'Home', 'Aunt', 'Polly', 'Beguiled', 'A', 'Good', 'Opportunity', \"Who's\", 'Afraid', 'Late', 'Home', 'Jim', \"'Tendin'\", 'to', 'Business', \"Ain't\", 'that', 'Work?', 'Cat', 'and', 'Toys', 'Amusement', 'Becky', 'Thatcher', 'Paying', 'Off', 'After', 'the', 'Battle', '“Showing', 'Off”', 'Not', 'Amiss', 'Mary', 'Tom', 'Contemplating', 'Dampened', 'Ardor', 'Youth', 'Boyhood', 'Using', 'the', '“Barlow”', 'The', 'Church', 'Necessities', 'Tom', 'as', 'a', 'Sunday-School', 'Hero', 'The', 'Prize', 'At', 'Church', 'The', 'Model', 'Boy', 'The', 'Church', 'Choir', 'A', 'Side', 'Show', 'Result', 'of', 'Playing', 'in', 'Church', 'The', 'Pinch-Bug', 'Sid', 'Dentistry', 'Huckleberry', 'Finn', 'Mother', 'Hopkins', 'Result', 'of', \"Tom's\", 'Truthfulness', 'Tom', 'as', 'an', 'Artist', 'Interrupted', 'Courtship', 'The', 'Master', 'Vain', 'Pleading', 'Tail', 'Piece', 'The', 'Grave', 'in', 'the', 'Woods', 'Tom', 'Meditates', 'Robin', 'Hood', 'and', 'his', 'Foe', 'Death', 'of', 'Robin', 'Hood', 'Midnight', \"Tom's\", 'Mode', 'of', 'Egress', \"Tom's\", 'Effort', 'at', 'Prayer', 'Muff', 'Potter', 'Outwitted', 'The', 'Graveyard', 'Forewarnings', 'Disturbing', \"Muff's\", 'Sleep', \"Tom's\", 'Talk', 'with', 'his', 'Aunt', 'Muff', 'Potter', 'A', 'Suspicious', 'Incident', 'Injun', \"Joe's\", 'two', 'Victims', 'In', 'the', 'Coils', 'Peter', 'Aunt', 'Polly', 'seeks', 'Information', 'A', 'General', 'Good', 'Time', 'Demoralized', 'Joe', 'Harper', 'On', 'Board', 'Their', 'First', 'Prize', 'The', 'Pirates', 'Ashore', 'Wild', 'Life', 'The', \"Pirate's\", 'Bath', 'The', 'Pleasant', 'Stroll', 'The', 'Search', 'for', 'the', 'Drowned', 'The', 'Mysterious', 'Writing', 'River', 'View', 'What', 'Tom', 'Saw', 'Tom', 'Swims', 'the', 'River', 'Taking', 'Lessons', 'The', \"Pirates'\", 'Egg', 'Market', 'Tom', 'Looking', 'for', \"Joe's\", 'Knife', 'The', 'Thunder', 'Storm', 'Terrible', 'Slaughter', 'The', 'Mourner', \"Tom's\", 'Proudest', 'Moment', 'Amy', 'Lawrence', 'Tom', 'tries', 'to', 'Remember', 'The', 'Hero', 'A', 'Flirtation', 'Becky', 'Retaliates', 'A', 'Sudden', 'Frost', 'Counter-irritation', 'Aunt', 'Polly', 'Tom', 'justified', 'The', 'Discovery', 'Caught', 'in', 'the', 'Act', 'Tom', 'Astonishes', 'the', 'School', 'Literature', 'Tom', 'Declaims', 'Examination', 'Evening', 'On', 'Exhibition', 'Prize', 'Authors', 'The', \"Master's\", 'Dilemma', 'The', 'School', 'House', 'The', 'Cadet', 'Happy', 'for', 'Two', 'Days', 'Enjoying', 'the', 'Vacation', 'The', 'Stolen', 'Melons', 'The', 'Judge', 'Visiting', 'the', 'Prisoner', 'Tom', 'Swears', 'The', 'Court', 'Room', 'The', 'Detective', 'Tom', 'Dreams', 'The', 'Treasure', 'The', 'Private', 'Conference', 'A', 'King;', 'Poor', 'Fellow!', 'Business', 'The', \"Ha'nted\", 'House', 'Injun', 'Joe', 'The', 'Greatest', 'and', 'Best', 'Hidden', 'Treasures', 'Unearthed', 'The', \"Boy's\", 'Salvation', 'Room', 'No']\n",
            "['2', 'The', 'Next', \"Day's\", 'Conference', 'Treasures', 'Uncle', 'Jake', 'Buck', 'at', 'Home', 'The', 'Haunted', 'Room', '“Run', 'for', 'Your', 'Life”', \"McDougal's\", 'Cave', 'Inside', 'the', 'Cave', 'Huck', 'on', 'Duty', 'A', 'Rousing', 'Act', 'Tail', 'Piece', 'The', 'Welchman', 'Result', 'of', 'a', 'Sneeze', 'Cornered', 'Alarming', 'Discoveries', 'Tom', 'and', 'Becky', 'stir', 'up', 'the', 'Town', \"Tom's\", 'Marks', 'Huck', 'Questions', 'the', 'Widow', 'Vampires', 'Wonders', 'of', 'the', 'Cave', 'Attacked', 'by', 'Natives', 'Despair', 'The', 'Wedding', 'Cake', 'A', 'New', 'Terror', 'Daylight', '“Turn', 'Out”', 'to', 'Receive', 'Tom', 'and', 'Becky', 'The', 'Escape', 'from', 'the', 'Cave', 'Fate', 'of', 'the', 'Ragged', 'Man', 'The', 'Treasures', 'Found', 'Caught', 'at', 'Last', 'Drop', 'after', 'Drop', 'Having', 'a', 'Good', 'Time', 'A', 'Business', 'Trip', '“Got', 'it', 'at', 'Last!”', 'Tail', 'Piece', 'Widow', 'Douglas', 'Tom', 'Backs', 'his', 'Statement', 'Tail', 'Piece', 'Huck', 'Transformed', 'Comfortable', 'Once', 'More', 'High', 'up', 'in', 'Society', 'Contentment', 'PREFACE', 'Most', 'of', 'the', 'adventures', 'recorded', 'in', 'this', 'book', 'really', 'occurred;', 'one', 'or', 'two', 'were', 'experiences', 'of', 'my', 'own,', 'the', 'rest', 'those', 'of', 'boys', 'who', 'were', 'schoolmates', 'of', 'mine']\n",
            "['Huck', 'Finn', 'is', 'drawn', 'from', 'life;', 'Tom', 'Sawyer', 'also,', 'but', 'not', 'from', 'an', 'individual--he', 'is', 'a', 'combination', 'of', 'the', 'characteristics', 'of', 'three', 'boys', 'whom', 'I', 'knew,', 'and', 'therefore', 'belongs', 'to', 'the', 'composite', 'order', 'of', 'architecture']\n",
            "['The', 'odd', 'superstitions', 'touched', 'upon', 'were', 'all', 'prevalent', 'among', 'children', 'and', 'slaves', 'in', 'the', 'West', 'at', 'the', 'period', 'of', 'this', 'story--that', 'is', 'to', 'say,', 'thirty', 'or', 'forty', 'years', 'ago']\n",
            "['Although', 'my', 'book', 'is', 'intended', 'mainly', 'for', 'the', 'entertainment', 'of', 'boys', 'and', 'girls,', 'I', 'hope', 'it', 'will', 'not', 'be', 'shunned', 'by', 'men', 'and', 'women', 'on', 'that', 'account,', 'for', 'part', 'of', 'my', 'plan', 'has', 'been', 'to', 'try', 'to', 'pleasantly', 'remind', 'adults', 'of', 'what', 'they', 'once', 'were', 'themselves,', 'and', 'of', 'how', 'they', 'felt', 'and', 'thought', 'and', 'talked,', 'and', 'what', 'queer', 'enterprises', 'they', 'sometimes', 'engaged', 'in']\n",
            "['The', 'old', 'lady', 'pulled', 'her', 'spectacles', 'down', 'and', 'looked', 'over', 'them', 'about', 'the', 'room;', 'then', 'she', 'put', 'them', 'up', 'and', 'looked', 'out', 'under', 'them']\n",
            "['She', 'seldom', 'or', 'never', 'looked', '_through_', 'them', 'for', 'so', 'small', 'a', 'thing', 'as', 'a', 'boy;', 'they', 'were', 'her', 'state', 'pair,', 'the', 'pride', 'of', 'her', 'heart,', 'and', 'were', 'built', 'for', '“style,”', 'not', 'service--she', 'could', 'have', 'seen', 'through', 'a', 'pair', 'of', 'stove-lids', 'just', 'as', 'well']\n",
            "['She', 'looked', 'perplexed', 'for', 'a', 'moment,', 'and', 'then', 'said,', 'not', 'fiercely,', 'but', 'still', 'loud', 'enough', 'for', 'the', 'furniture', 'to', 'hear:', '“Well,', 'I', 'lay', 'if', 'I', 'get', 'hold', 'of', 'you', \"I'll--”\", 'She', 'did', 'not', 'finish,', 'for', 'by', 'this', 'time', 'she', 'was', 'bending', 'down', 'and', 'punching', 'under', 'the', 'bed', 'with', 'the', 'broom,', 'and', 'so', 'she', 'needed', 'breath', 'to', 'punctuate', 'the', 'punches', 'with']\n",
            "['She', 'resurrected', 'nothing', 'but', 'the', 'cat']\n",
            "['“I', 'never', 'did', 'see', 'the', 'beat', 'of', 'that', 'boy!”', 'She', 'went', 'to', 'the', 'open', 'door', 'and', 'stood', 'in', 'it', 'and', 'looked', 'out', 'among', 'the', 'tomato', 'vines', 'and', '“jimpson”', 'weeds', 'that', 'constituted', 'the', 'garden']\n",
            "['So', 'she', 'lifted', 'up', 'her', 'voice', 'at', 'an', 'angle', 'calculated', 'for', 'distance', 'and', 'shouted:', '“Y-o-u-u', 'TOM!”', 'There', 'was', 'a', 'slight', 'noise', 'behind', 'her', 'and', 'she', 'turned', 'just', 'in', 'time', 'to', 'seize', 'a', 'small', 'boy', 'by', 'the', 'slack', 'of', 'his', 'roundabout', 'and', 'arrest', 'his', 'flight']\n",
            "['”', 'The', 'switch', 'hovered', 'in', 'the', 'air--the', 'peril', 'was', 'desperate--', '“My!', 'Look', 'behind', 'you,', 'aunt!”', 'The', 'old', 'lady', 'whirled', 'round,', 'and', 'snatched', 'her', 'skirts', 'out', 'of', 'danger']\n",
            "['The', 'lad', 'fled', 'on', 'the', 'instant,', 'scrambled', 'up', 'the', 'high', 'board-fence,', 'and', 'disappeared', 'over', 'it']\n",
            "['“Hang', 'the', 'boy,', \"can't\", 'I', 'never', 'learn', 'anything?', \"Ain't\", 'he', 'played', 'me', 'tricks', 'enough', 'like', 'that', 'for', 'me', 'to', 'be', 'looking', 'out', 'for', 'him', 'by', 'this', 'time?', 'But', 'old', 'fools', 'is', 'the', 'biggest', 'fools', 'there', 'is']\n",
            "[\"Can't\", 'learn', 'an', 'old', 'dog', 'new', 'tricks,', 'as', 'the', 'saying', 'is']\n",
            "['I', \"ain't\", 'doing', 'my', 'duty', 'by', 'that', 'boy,', 'and', \"that's\", 'the', \"Lord's\", 'truth,', 'goodness', 'knows']\n",
            "['Spare', 'the', 'rod', 'and', 'spile', 'the', 'child,', 'as', 'the', 'Good', 'Book', 'says']\n",
            "[\"He's\", 'full', 'of', 'the', 'Old', 'Scratch,', 'but', 'laws-a-me!', \"he's\", 'my', 'own', 'dead', \"sister's\", 'boy,', 'poor', 'thing,', 'and', 'I', \"ain't\", 'got', 'the', 'heart', 'to', 'lash', 'him,', 'somehow']\n",
            "['Well-a-well,', 'man', 'that', 'is', 'born', 'of', 'woman', 'is', 'of', 'few', 'days', 'and', 'full', 'of', 'trouble,', 'as', 'the', 'Scripture', 'says,', 'and', 'I', 'reckon', \"it's\", 'so']\n",
            "[\"It's\", 'mighty', 'hard', 'to', 'make', 'him', 'work', 'Saturdays,', 'when', 'all', 'the', 'boys', 'is', 'having', 'holiday,', 'but', 'he', 'hates', 'work', 'more', 'than', 'he', 'hates', 'anything', 'else,', 'and', \"I've\", '_got_', 'to', 'do', 'some', 'of', 'my', 'duty', 'by', 'him,', 'or', \"I'll\", 'be', 'the', 'ruination', 'of', 'the', 'child']\n",
            "['He', 'got', 'back', 'home', 'barely', 'in', 'season', 'to', 'help', 'Jim,', 'the', 'small', 'colored', 'boy,', 'saw', \"next-day's\", 'wood', 'and', 'split', 'the', 'kindlings', 'before', 'supper--at', 'least', 'he', 'was', 'there', 'in', 'time', 'to', 'tell', 'his', 'adventures', 'to', 'Jim', 'while', 'Jim', 'did', 'three-fourths', 'of', 'the', 'work']\n",
            "[\"Tom's\", 'younger', 'brother', '(or', 'rather', 'half-brother)', 'Sid', 'was', 'already', 'through', 'with', 'his', 'part', 'of', 'the', 'work', '(picking', 'up', 'chips),', 'for', 'he', 'was', 'a', 'quiet', 'boy,', 'and', 'had', 'no', 'adventurous,', 'trouble-some', 'ways']\n",
            "['”', 'The', 'old', 'lady', 'reached', 'out', 'her', 'hand', 'and', 'felt', \"Tom's\", 'shirt,', 'and', 'said:', '“But', 'you', \"ain't\", 'too', 'warm', 'now,', 'though']\n",
            "['”', 'And', 'it', 'flattered', 'her', 'to', 'reflect', 'that', 'she', 'had', 'discovered', 'that', 'the', 'shirt', 'was', 'dry', 'without', 'anybody', 'knowing', 'that', 'that', 'was', 'what', 'she', 'had', 'in', 'her', 'mind']\n",
            "['But', 'in', 'spite', 'of', 'her,', 'Tom', 'knew', 'where', 'the', 'wind', 'lay,', 'now']\n",
            "['So', 'he', 'forestalled', 'what', 'might', 'be', 'the', 'next', 'move:', '“Some', 'of', 'us', 'pumped', 'on', 'our', \"heads--mine's\", 'damp', 'yet']\n",
            "['Then', 'she', 'had', 'a', 'new', 'inspiration:', '“Tom,', 'you', \"didn't\", 'have', 'to', 'undo', 'your', 'shirt', 'collar', 'where', 'I', 'sewed', 'it,', 'to', 'pump', 'on', 'your', 'head,', 'did', 'you?', 'Unbutton', 'your', 'jacket!”', 'The', 'trouble', 'vanished', 'out', 'of', \"Tom's\", 'face']\n"
          ],
          "name": "stdout"
        }
      ]
    },
    {
      "cell_type": "markdown",
      "metadata": {
        "id": "AJOsl_Jtr0AD",
        "colab_type": "text"
      },
      "source": [
        "Standaryzacja tekstu"
      ]
    },
    {
      "cell_type": "code",
      "metadata": {
        "id": "1koDoeRx5-Kw",
        "colab_type": "code",
        "outputId": "9028d035-ff21-4a03-e00a-0df8dd4a31ba",
        "colab": {
          "base_uri": "https://localhost:8080/",
          "height": 213
        }
      },
      "source": [
        "splitted_sentences_lower = [[word.lower() for word in sentence] for sentence in splitted_sentences]\n",
        "\n",
        "for sentence in splitted_sentences_lower[:10]:\n",
        "    print(sentence)"
      ],
      "execution_count": 23,
      "outputs": [
        {
          "output_type": "stream",
          "text": [
            "['the', 'project', 'gutenberg', 'ebook', 'of', 'the', 'adventures', 'of', 'tom', 'sawyer,', 'complete', 'by', 'mark', 'twain', '(samuel', 'clemens)', 'this', 'ebook', 'is', 'for', 'the', 'use', 'of', 'anyone', 'anywhere', 'at', 'no', 'cost', 'and', 'with', 'almost', 'no', 'restrictions', 'whatsoever']\n",
            "['you', 'may', 'copy', 'it,', 'give', 'it', 'away', 'or', 're-use', 'it', 'under', 'the', 'terms', 'of', 'the', 'project', 'gutenberg', 'license', 'included', 'with', 'this', 'ebook', 'or', 'online', 'at', 'www']\n",
            "['gutenberg']\n",
            "['net', 'title:', 'the', 'adventures', 'of', 'tom', 'sawyer,', 'complete', 'author:', 'mark', 'twain', '(samuel', 'clemens)', 'release', 'date:', 'august', '20,', '2006', '[ebook', '#74]', 'last', 'updated:', 'february', '23,', '2018', 'language:', 'english', 'character', 'set', 'encoding:', 'utf-8', '***', 'start', 'of', 'this', 'project', 'gutenberg', 'ebook', 'tom', 'sawyer', '***', 'produced', 'by', 'david', 'widger', 'the', 'adventures', 'of', 'tom', 'sawyer', 'by', 'mark', 'twain', '(samuel', 'langhorne', 'clemens)', 'contents', 'chapter', 'i']\n",
            "['y-o-u-u', 'tom-aunt', 'polly', 'decides', 'upon', 'her', 'duty--tom', 'practices', 'music--the', 'challenge--a', 'private', 'entrance', 'chapter', 'ii']\n",
            "['strong', 'temptations--strategic', 'movements--the', 'innocents', 'beguiled', 'chapter', 'iii']\n",
            "['tom', 'as', 'a', 'general--triumph', 'and', 'reward--dismal', 'felicity--commission', 'and', 'omission', 'chapter', 'iv']\n",
            "['mental', 'acrobatics--attending', 'sunday--school--the', 'superintendent--“showing', 'off”--tom', 'lionized', 'chapter', 'v']\n",
            "['a', 'useful', 'minister--in', 'church--the', 'climax', 'chapter', 'vi']\n",
            "['self-examination--dentistry--the', 'midnight', 'charm--witches', 'and', 'devils--cautious', 'approaches--happy', 'hours', 'chapter', 'vii']\n"
          ],
          "name": "stdout"
        }
      ]
    },
    {
      "cell_type": "code",
      "metadata": {
        "id": "DaTgCnZt6D10",
        "colab_type": "code",
        "outputId": "54506c68-1a60-4164-aa27-9b468384148a",
        "colab": {
          "base_uri": "https://localhost:8080/",
          "height": 442
        }
      },
      "source": [
        "for sentence in splitted_sentences_lower[:50]:\n",
        "    if 'the' in sentence:\n",
        "        print(sentence)"
      ],
      "execution_count": 24,
      "outputs": [
        {
          "output_type": "stream",
          "text": [
            "['the', 'project', 'gutenberg', 'ebook', 'of', 'the', 'adventures', 'of', 'tom', 'sawyer,', 'complete', 'by', 'mark', 'twain', '(samuel', 'clemens)', 'this', 'ebook', 'is', 'for', 'the', 'use', 'of', 'anyone', 'anywhere', 'at', 'no', 'cost', 'and', 'with', 'almost', 'no', 'restrictions', 'whatsoever']\n",
            "['you', 'may', 'copy', 'it,', 'give', 'it', 'away', 'or', 're-use', 'it', 'under', 'the', 'terms', 'of', 'the', 'project', 'gutenberg', 'license', 'included', 'with', 'this', 'ebook', 'or', 'online', 'at', 'www']\n",
            "['net', 'title:', 'the', 'adventures', 'of', 'tom', 'sawyer,', 'complete', 'author:', 'mark', 'twain', '(samuel', 'clemens)', 'release', 'date:', 'august', '20,', '2006', '[ebook', '#74]', 'last', 'updated:', 'february', '23,', '2018', 'language:', 'english', 'character', 'set', 'encoding:', 'utf-8', '***', 'start', 'of', 'this', 'project', 'gutenberg', 'ebook', 'tom', 'sawyer', '***', 'produced', 'by', 'david', 'widger', 'the', 'adventures', 'of', 'tom', 'sawyer', 'by', 'mark', 'twain', '(samuel', 'langhorne', 'clemens)', 'contents', 'chapter', 'i']\n",
            "['the', 'solemn', 'oath--terror', 'brings', 'repentance--mental', 'punishment', 'chapter', 'xi']\n",
            "['the', 'young', 'pirates--going', 'to', 'the', 'rendezvous--the', 'camp--fire', 'talk', 'chapter', 'xiv']\n",
            "['tom', 'reconnoiters--learns', 'the', 'situation--reports', 'at', 'camp', 'chapter', 'xvi']\n",
            "['memories', 'of', 'the', 'lost', 'heroes--the', 'point', 'in', \"tom's\", 'secret', 'chapter', 'xviii']\n",
            "['tom', 'tells', 'the', 'truth', 'chapter', 'xx']\n",
            "['youthful', 'eloquence--compositions', 'by', 'the', 'young', 'ladies--a', 'lengthy', 'vision--the', \"boy's\", 'vengeance', 'satisfied', 'chapter', 'xxii']\n",
            "['tom', 'as', 'the', 'village', 'hero--days', 'of', 'splendor', 'and', 'nights', 'of', 'horror--pursuit', 'of', 'injun', 'joe', 'chapter', 'xxv']\n",
            "['about', 'kings', 'and', 'diamonds--search', 'for', 'the', 'treasure--dead', 'people', 'and', 'ghosts', 'chapter', 'xxvi']\n",
            "['the', 'haunted', 'house--sleepy', 'ghosts--a', 'box', 'of', 'gold--bitter', 'luck', 'chapter', 'xxvii']\n",
            "['the', 'pic-nic--huck', 'on', 'injun', \"joe's\", 'track--the', '“revenge”', 'job--aid', 'for', 'the', 'widow', 'chapter', 'xxx']\n",
            "['the', 'welchman', 'reports--huck', 'under', 'fire--the', 'story', 'circulated', '--a', 'new', 'sensation--hope', 'giving', 'way', 'to', 'despair', 'chapter', 'xxxi']\n",
            "['an', 'exploring', 'expedition--trouble', 'commences--lost', 'in', 'the', 'cave--total', 'darkness--found', 'but', 'not', 'saved', 'chapter', 'xxxii']\n",
            "['tom', 'tells', 'the', 'story', 'of', 'their', \"escape--tom's\", 'enemy', 'in', 'safe', 'quarters', 'chapter', 'xxxiii']\n",
            "['the', 'fate', 'of', 'injun', 'joe--huck', 'and', 'tom', 'compare', 'notes', '--an', 'expedition', 'to', 'the', 'cave--protection', 'against', 'ghosts--“an', 'awful', 'snug', 'place”--a', 'reception', 'at', 'the', 'widow', \"douglas's\", 'chapter', 'xxxiv']\n",
            "['a', 'new', 'order', 'of', 'things--poor', 'huck--new', 'adventures', 'planned', 'illustrations', 'tom', 'sawyer', 'tom', 'at', 'home', 'aunt', 'polly', 'beguiled', 'a', 'good', 'opportunity', \"who's\", 'afraid', 'late', 'home', 'jim', \"'tendin'\", 'to', 'business', \"ain't\", 'that', 'work?', 'cat', 'and', 'toys', 'amusement', 'becky', 'thatcher', 'paying', 'off', 'after', 'the', 'battle', '“showing', 'off”', 'not', 'amiss', 'mary', 'tom', 'contemplating', 'dampened', 'ardor', 'youth', 'boyhood', 'using', 'the', '“barlow”', 'the', 'church', 'necessities', 'tom', 'as', 'a', 'sunday-school', 'hero', 'the', 'prize', 'at', 'church', 'the', 'model', 'boy', 'the', 'church', 'choir', 'a', 'side', 'show', 'result', 'of', 'playing', 'in', 'church', 'the', 'pinch-bug', 'sid', 'dentistry', 'huckleberry', 'finn', 'mother', 'hopkins', 'result', 'of', \"tom's\", 'truthfulness', 'tom', 'as', 'an', 'artist', 'interrupted', 'courtship', 'the', 'master', 'vain', 'pleading', 'tail', 'piece', 'the', 'grave', 'in', 'the', 'woods', 'tom', 'meditates', 'robin', 'hood', 'and', 'his', 'foe', 'death', 'of', 'robin', 'hood', 'midnight', \"tom's\", 'mode', 'of', 'egress', \"tom's\", 'effort', 'at', 'prayer', 'muff', 'potter', 'outwitted', 'the', 'graveyard', 'forewarnings', 'disturbing', \"muff's\", 'sleep', \"tom's\", 'talk', 'with', 'his', 'aunt', 'muff', 'potter', 'a', 'suspicious', 'incident', 'injun', \"joe's\", 'two', 'victims', 'in', 'the', 'coils', 'peter', 'aunt', 'polly', 'seeks', 'information', 'a', 'general', 'good', 'time', 'demoralized', 'joe', 'harper', 'on', 'board', 'their', 'first', 'prize', 'the', 'pirates', 'ashore', 'wild', 'life', 'the', \"pirate's\", 'bath', 'the', 'pleasant', 'stroll', 'the', 'search', 'for', 'the', 'drowned', 'the', 'mysterious', 'writing', 'river', 'view', 'what', 'tom', 'saw', 'tom', 'swims', 'the', 'river', 'taking', 'lessons', 'the', \"pirates'\", 'egg', 'market', 'tom', 'looking', 'for', \"joe's\", 'knife', 'the', 'thunder', 'storm', 'terrible', 'slaughter', 'the', 'mourner', \"tom's\", 'proudest', 'moment', 'amy', 'lawrence', 'tom', 'tries', 'to', 'remember', 'the', 'hero', 'a', 'flirtation', 'becky', 'retaliates', 'a', 'sudden', 'frost', 'counter-irritation', 'aunt', 'polly', 'tom', 'justified', 'the', 'discovery', 'caught', 'in', 'the', 'act', 'tom', 'astonishes', 'the', 'school', 'literature', 'tom', 'declaims', 'examination', 'evening', 'on', 'exhibition', 'prize', 'authors', 'the', \"master's\", 'dilemma', 'the', 'school', 'house', 'the', 'cadet', 'happy', 'for', 'two', 'days', 'enjoying', 'the', 'vacation', 'the', 'stolen', 'melons', 'the', 'judge', 'visiting', 'the', 'prisoner', 'tom', 'swears', 'the', 'court', 'room', 'the', 'detective', 'tom', 'dreams', 'the', 'treasure', 'the', 'private', 'conference', 'a', 'king;', 'poor', 'fellow!', 'business', 'the', \"ha'nted\", 'house', 'injun', 'joe', 'the', 'greatest', 'and', 'best', 'hidden', 'treasures', 'unearthed', 'the', \"boy's\", 'salvation', 'room', 'no']\n",
            "['2', 'the', 'next', \"day's\", 'conference', 'treasures', 'uncle', 'jake', 'buck', 'at', 'home', 'the', 'haunted', 'room', '“run', 'for', 'your', 'life”', \"mcdougal's\", 'cave', 'inside', 'the', 'cave', 'huck', 'on', 'duty', 'a', 'rousing', 'act', 'tail', 'piece', 'the', 'welchman', 'result', 'of', 'a', 'sneeze', 'cornered', 'alarming', 'discoveries', 'tom', 'and', 'becky', 'stir', 'up', 'the', 'town', \"tom's\", 'marks', 'huck', 'questions', 'the', 'widow', 'vampires', 'wonders', 'of', 'the', 'cave', 'attacked', 'by', 'natives', 'despair', 'the', 'wedding', 'cake', 'a', 'new', 'terror', 'daylight', '“turn', 'out”', 'to', 'receive', 'tom', 'and', 'becky', 'the', 'escape', 'from', 'the', 'cave', 'fate', 'of', 'the', 'ragged', 'man', 'the', 'treasures', 'found', 'caught', 'at', 'last', 'drop', 'after', 'drop', 'having', 'a', 'good', 'time', 'a', 'business', 'trip', '“got', 'it', 'at', 'last!”', 'tail', 'piece', 'widow', 'douglas', 'tom', 'backs', 'his', 'statement', 'tail', 'piece', 'huck', 'transformed', 'comfortable', 'once', 'more', 'high', 'up', 'in', 'society', 'contentment', 'preface', 'most', 'of', 'the', 'adventures', 'recorded', 'in', 'this', 'book', 'really', 'occurred;', 'one', 'or', 'two', 'were', 'experiences', 'of', 'my', 'own,', 'the', 'rest', 'those', 'of', 'boys', 'who', 'were', 'schoolmates', 'of', 'mine']\n",
            "['huck', 'finn', 'is', 'drawn', 'from', 'life;', 'tom', 'sawyer', 'also,', 'but', 'not', 'from', 'an', 'individual--he', 'is', 'a', 'combination', 'of', 'the', 'characteristics', 'of', 'three', 'boys', 'whom', 'i', 'knew,', 'and', 'therefore', 'belongs', 'to', 'the', 'composite', 'order', 'of', 'architecture']\n",
            "['the', 'odd', 'superstitions', 'touched', 'upon', 'were', 'all', 'prevalent', 'among', 'children', 'and', 'slaves', 'in', 'the', 'west', 'at', 'the', 'period', 'of', 'this', 'story--that', 'is', 'to', 'say,', 'thirty', 'or', 'forty', 'years', 'ago']\n",
            "['although', 'my', 'book', 'is', 'intended', 'mainly', 'for', 'the', 'entertainment', 'of', 'boys', 'and', 'girls,', 'i', 'hope', 'it', 'will', 'not', 'be', 'shunned', 'by', 'men', 'and', 'women', 'on', 'that', 'account,', 'for', 'part', 'of', 'my', 'plan', 'has', 'been', 'to', 'try', 'to', 'pleasantly', 'remind', 'adults', 'of', 'what', 'they', 'once', 'were', 'themselves,', 'and', 'of', 'how', 'they', 'felt', 'and', 'thought', 'and', 'talked,', 'and', 'what', 'queer', 'enterprises', 'they', 'sometimes', 'engaged', 'in']\n",
            "['the', 'author']\n"
          ],
          "name": "stdout"
        }
      ]
    },
    {
      "cell_type": "markdown",
      "metadata": {
        "id": "EHAA1yGJr4or",
        "colab_type": "text"
      },
      "source": [
        "Stopwords"
      ]
    },
    {
      "cell_type": "code",
      "metadata": {
        "id": "K3KWzLfs6_0K",
        "colab_type": "code",
        "outputId": "a344a67a-4aab-49e8-d320-d8043ab0cad1",
        "colab": {
          "base_uri": "https://localhost:8080/",
          "height": 389
        }
      },
      "source": [
        "stopwords = ['a', 'and', 'an', 'the', 'for', 'you', 'this', 'of', 'it', 'by', 'at', 'on', 'his']\n",
        "\n",
        "sentences_stopwords = [[word for word in sentence if word not in stopwords] for sentence in splitted_sentences_lower]\n",
        "\n",
        "for sentence in sentences_stopwords[:20]:\n",
        "    print(sentence)"
      ],
      "execution_count": 25,
      "outputs": [
        {
          "output_type": "stream",
          "text": [
            "['project', 'gutenberg', 'ebook', 'adventures', 'tom', 'sawyer,', 'complete', 'mark', 'twain', '(samuel', 'clemens)', 'ebook', 'is', 'use', 'anyone', 'anywhere', 'no', 'cost', 'with', 'almost', 'no', 'restrictions', 'whatsoever']\n",
            "['may', 'copy', 'it,', 'give', 'away', 'or', 're-use', 'under', 'terms', 'project', 'gutenberg', 'license', 'included', 'with', 'ebook', 'or', 'online', 'www']\n",
            "['gutenberg']\n",
            "['net', 'title:', 'adventures', 'tom', 'sawyer,', 'complete', 'author:', 'mark', 'twain', '(samuel', 'clemens)', 'release', 'date:', 'august', '20,', '2006', '[ebook', '#74]', 'last', 'updated:', 'february', '23,', '2018', 'language:', 'english', 'character', 'set', 'encoding:', 'utf-8', '***', 'start', 'project', 'gutenberg', 'ebook', 'tom', 'sawyer', '***', 'produced', 'david', 'widger', 'adventures', 'tom', 'sawyer', 'mark', 'twain', '(samuel', 'langhorne', 'clemens)', 'contents', 'chapter', 'i']\n",
            "['y-o-u-u', 'tom-aunt', 'polly', 'decides', 'upon', 'her', 'duty--tom', 'practices', 'music--the', 'challenge--a', 'private', 'entrance', 'chapter', 'ii']\n",
            "['strong', 'temptations--strategic', 'movements--the', 'innocents', 'beguiled', 'chapter', 'iii']\n",
            "['tom', 'as', 'general--triumph', 'reward--dismal', 'felicity--commission', 'omission', 'chapter', 'iv']\n",
            "['mental', 'acrobatics--attending', 'sunday--school--the', 'superintendent--“showing', 'off”--tom', 'lionized', 'chapter', 'v']\n",
            "['useful', 'minister--in', 'church--the', 'climax', 'chapter', 'vi']\n",
            "['self-examination--dentistry--the', 'midnight', 'charm--witches', 'devils--cautious', 'approaches--happy', 'hours', 'chapter', 'vii']\n",
            "['treaty', 'entered', 'into--early', 'lessons--a', 'mistake', 'made', 'chapter', 'viii']\n",
            "['tom', 'decides', 'course--old', 'scenes', 're-enacted', 'chapter', 'ix']\n",
            "['solemn', 'situation--grave', 'subjects', 'introduced--injun', 'joe', 'explains', 'chapter', 'x']\n",
            "['solemn', 'oath--terror', 'brings', 'repentance--mental', 'punishment', 'chapter', 'xi']\n",
            "['muff', 'potter', 'comes', \"himself--tom's\", 'conscience', 'work', 'chapter', 'xii']\n",
            "['tom', 'shows', 'generosity--aunt', 'polly', 'weakens', 'chapter', 'xiii']\n",
            "['young', 'pirates--going', 'to', 'rendezvous--the', 'camp--fire', 'talk', 'chapter', 'xiv']\n",
            "['camp-life--a', 'sensation--tom', 'steals', 'away', 'from', 'camp', 'chapter', 'xv']\n",
            "['tom', 'reconnoiters--learns', 'situation--reports', 'camp', 'chapter', 'xvi']\n",
            "[\"day's\", 'amusements--tom', 'reveals', 'secret--the', 'pirates', 'take', 'lesson--a', 'night', 'surprise--an', 'indian', 'war', 'chapter', 'xvii']\n"
          ],
          "name": "stdout"
        }
      ]
    }
  ]
}