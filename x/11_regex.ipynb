{
  "nbformat": 4,
  "nbformat_minor": 0,
  "metadata": {
    "colab": {
      "name": "01_preprocessing.ipynb",
      "provenance": [],
      "include_colab_link": true
    },
    "kernelspec": {
      "name": "python3",
      "display_name": "Python 3"
    }
  },
  "cells": [
    {
      "cell_type": "markdown",
      "metadata": {
        "id": "view-in-github",
        "colab_type": "text"
      },
      "source": [
        "<a href=\"https://colab.research.google.com/github/krakowiakpawel9/ml_course/blob/master/x/11_regex.ipynb\" target=\"_parent\"><img src=\"https://colab.research.google.com/assets/colab-badge.svg\" alt=\"Open In Colab\"/></a>"
      ]
    },
    {
      "cell_type": "markdown",
      "metadata": {
        "id": "UbjsT92Xd3z1",
        "colab_type": "text"
      },
      "source": [
        "* @author: krakowiakpawel9@gmail.com  \n",
        "* @site: e-smartdata.org\n",
        "\n",
        "### nltk\n",
        "Strona biblioteki: [https://www.nltk.org/](https://www.nltk.org/)  \n",
        "\n",
        "Podstawowa biblioteka do przetwarzania języka naturalnego w języku Python.\n",
        "\n",
        "Aby zainstalować bibliotekę nltk, użyj polecenia poniżej:\n",
        "```\n",
        "!pip install nltk\n",
        "```\n",
        "Aby zaktualizować do najnowszej wersji użyj polecenia poniżej:\n",
        "```\n",
        "!pip install --upgrade nltk\n",
        "```\n",
        "Kurs stworzony w oparciu o wersję `3.2.5`\n",
        "\n",
        "### Spis treści:\n",
        "1. [Import bibliotek](#0)\n",
        "2. [Wygenerowanie danych](#1)\n",
        "\n"
      ]
    },
    {
      "cell_type": "markdown",
      "metadata": {
        "id": "YkIALacsUnj7",
        "colab_type": "text"
      },
      "source": [
        "### <a name='0'></a> Import bibliotek"
      ]
    },
    {
      "cell_type": "code",
      "metadata": {
        "id": "B3xN5QkTTRyS",
        "colab_type": "code",
        "outputId": "07082e09-f761-4c7d-a927-d849a25b9ded",
        "colab": {
          "base_uri": "https://localhost:8080/",
          "height": 108
        }
      },
      "source": [
        "import nltk\n",
        "from nltk import data\n",
        "\n",
        "nltk.download('unicode_samples')\n",
        "nltk.download('punkt')"
      ],
      "execution_count": 0,
      "outputs": [
        {
          "output_type": "stream",
          "text": [
            "[nltk_data] Downloading package unicode_samples to /root/nltk_data...\n",
            "[nltk_data]   Package unicode_samples is already up-to-date!\n",
            "[nltk_data] Downloading package punkt to /root/nltk_data...\n",
            "[nltk_data]   Unzipping tokenizers/punkt.zip.\n"
          ],
          "name": "stdout"
        },
        {
          "output_type": "execute_result",
          "data": {
            "text/plain": [
              "True"
            ]
          },
          "metadata": {
            "tags": []
          },
          "execution_count": 34
        }
      ]
    },
    {
      "cell_type": "code",
      "metadata": {
        "id": "ONOEuIQmTUp9",
        "colab_type": "code",
        "outputId": "0cd76b58-7cbd-4e18-b240-a47482f7503c",
        "colab": {
          "base_uri": "https://localhost:8080/",
          "height": 35
        }
      },
      "source": [
        "data.find('corpora/unicode_samples/polish-lat2.txt')"
      ],
      "execution_count": 0,
      "outputs": [
        {
          "output_type": "execute_result",
          "data": {
            "text/plain": [
              "FileSystemPathPointer('/root/nltk_data/corpora/unicode_samples/polish-lat2.txt')"
            ]
          },
          "metadata": {
            "tags": []
          },
          "execution_count": 5
        }
      ]
    },
    {
      "cell_type": "code",
      "metadata": {
        "id": "Hh2UWllETZv3",
        "colab_type": "code",
        "outputId": "17d86672-50a7-41e5-e264-e16ead96d975",
        "colab": {
          "base_uri": "https://localhost:8080/",
          "height": 126
        }
      },
      "source": [
        "with open(file='/root/nltk_data/corpora/unicode_samples/polish-lat2.txt', mode='r', encoding='latin2') as file:\n",
        "    for line in file:\n",
        "        print(line.strip())"
      ],
      "execution_count": 0,
      "outputs": [
        {
          "output_type": "stream",
          "text": [
            "Pruska Biblioteka Państwowa. Jej dawne zbiory znane pod nazwą\n",
            "\"Berlinka\" to skarb kultury i sztuki niemieckiej. Przewiezione przez\n",
            "Niemców pod koniec II wojny światowej na Dolny Śląsk, zostały\n",
            "odnalezione po 1945 r. na terytorium Polski. Trafiły do Biblioteki\n",
            "Jagiellońskiej w Krakowie, obejmują ponad 500 tys. zabytkowych\n",
            "archiwaliów, m.in. manuskrypty Goethego, Mozarta, Beethovena, Bacha.\n"
          ],
          "name": "stdout"
        }
      ]
    },
    {
      "cell_type": "code",
      "metadata": {
        "id": "lp6dJcVeTyL0",
        "colab_type": "code",
        "outputId": "c97b6795-cef1-4ac4-96fd-e02f5d044c34",
        "colab": {
          "base_uri": "https://localhost:8080/",
          "height": 126
        }
      },
      "source": [
        "with open(file='/root/nltk_data/corpora/unicode_samples/polish-lat2.txt', mode='r', encoding='latin2') as file:\n",
        "    for line in file:\n",
        "        print(line.strip().encode('unicode_escape'))"
      ],
      "execution_count": 0,
      "outputs": [
        {
          "output_type": "stream",
          "text": [
            "b'Pruska Biblioteka Pa\\\\u0144stwowa. Jej dawne zbiory znane pod nazw\\\\u0105'\n",
            "b'\"Berlinka\" to skarb kultury i sztuki niemieckiej. Przewiezione przez'\n",
            "b'Niemc\\\\xf3w pod koniec II wojny \\\\u015bwiatowej na Dolny \\\\u015al\\\\u0105sk, zosta\\\\u0142y'\n",
            "b'odnalezione po 1945 r. na terytorium Polski. Trafi\\\\u0142y do Biblioteki'\n",
            "b'Jagiello\\\\u0144skiej w Krakowie, obejmuj\\\\u0105 ponad 500 tys. zabytkowych'\n",
            "b'archiwali\\\\xf3w, m.in. manuskrypty Goethego, Mozarta, Beethovena, Bacha.'\n"
          ],
          "name": "stdout"
        }
      ]
    },
    {
      "cell_type": "code",
      "metadata": {
        "id": "7M4o9jKLUFCI",
        "colab_type": "code",
        "outputId": "e017aa41-b913-43e8-c0c7-403a10b553a4",
        "colab": {
          "base_uri": "https://localhost:8080/",
          "height": 35
        }
      },
      "source": [
        "ord('ą')"
      ],
      "execution_count": 0,
      "outputs": [
        {
          "output_type": "execute_result",
          "data": {
            "text/plain": [
              "261"
            ]
          },
          "metadata": {
            "tags": []
          },
          "execution_count": 9
        }
      ]
    },
    {
      "cell_type": "code",
      "metadata": {
        "id": "8kbDiNgVULoH",
        "colab_type": "code",
        "outputId": "77379d06-c031-4dea-feea-d4a32c970adc",
        "colab": {
          "base_uri": "https://localhost:8080/",
          "height": 35
        }
      },
      "source": [
        "letter = '\\u0105'\n",
        "print(letter)"
      ],
      "execution_count": 0,
      "outputs": [
        {
          "output_type": "stream",
          "text": [
            "ą\n"
          ],
          "name": "stdout"
        }
      ]
    },
    {
      "cell_type": "code",
      "metadata": {
        "id": "ITeueU6vUU3n",
        "colab_type": "code",
        "outputId": "37d02c20-8529-4dec-b009-2e50805a7998",
        "colab": {
          "base_uri": "https://localhost:8080/",
          "height": 35
        }
      },
      "source": [
        "letter.encode('utf8')"
      ],
      "execution_count": 0,
      "outputs": [
        {
          "output_type": "execute_result",
          "data": {
            "text/plain": [
              "b'\\xc4\\x85'"
            ]
          },
          "metadata": {
            "tags": []
          },
          "execution_count": 11
        }
      ]
    },
    {
      "cell_type": "markdown",
      "metadata": {
        "id": "jP15nvjXVBKu",
        "colab_type": "text"
      },
      "source": [
        "Wyrażenia regularne"
      ]
    },
    {
      "cell_type": "code",
      "metadata": {
        "id": "Ga4XJOzKUcqG",
        "colab_type": "code",
        "outputId": "6b6a4a63-3e3f-4de8-cea3-7dc1c2fe3e3a",
        "colab": {
          "base_uri": "https://localhost:8080/",
          "height": 72
        }
      },
      "source": [
        "import re\n",
        "\n",
        "nltk.download('words')"
      ],
      "execution_count": 0,
      "outputs": [
        {
          "output_type": "stream",
          "text": [
            "[nltk_data] Downloading package words to /root/nltk_data...\n",
            "[nltk_data]   Unzipping corpora/words.zip.\n"
          ],
          "name": "stdout"
        },
        {
          "output_type": "execute_result",
          "data": {
            "text/plain": [
              "True"
            ]
          },
          "metadata": {
            "tags": []
          },
          "execution_count": 16
        }
      ]
    },
    {
      "cell_type": "code",
      "metadata": {
        "id": "LdVg75n3VDv_",
        "colab_type": "code",
        "outputId": "fad8d53c-30f8-4261-83f0-f5eb0071c62c",
        "colab": {
          "base_uri": "https://localhost:8080/",
          "height": 381
        }
      },
      "source": [
        "word_list = nltk.corpus.words.words('en')\n",
        "word_list[:20]"
      ],
      "execution_count": 0,
      "outputs": [
        {
          "output_type": "execute_result",
          "data": {
            "text/plain": [
              "['A',\n",
              " 'a',\n",
              " 'aa',\n",
              " 'aal',\n",
              " 'aalii',\n",
              " 'aam',\n",
              " 'Aani',\n",
              " 'aardvark',\n",
              " 'aardwolf',\n",
              " 'Aaron',\n",
              " 'Aaronic',\n",
              " 'Aaronical',\n",
              " 'Aaronite',\n",
              " 'Aaronitic',\n",
              " 'Aaru',\n",
              " 'Ab',\n",
              " 'aba',\n",
              " 'Ababdeh',\n",
              " 'Ababua',\n",
              " 'abac']"
            ]
          },
          "metadata": {
            "tags": []
          },
          "execution_count": 18
        }
      ]
    },
    {
      "cell_type": "code",
      "metadata": {
        "id": "plz2ruECVJLb",
        "colab_type": "code",
        "outputId": "c6f86e37-420c-4c8d-9c96-6decf797d468",
        "colab": {
          "base_uri": "https://localhost:8080/",
          "height": 381
        }
      },
      "source": [
        "word_list = [word for word in nltk.corpus.words.words('en') if word.islower()]\n",
        "word_list[:20]"
      ],
      "execution_count": 0,
      "outputs": [
        {
          "output_type": "execute_result",
          "data": {
            "text/plain": [
              "['a',\n",
              " 'aa',\n",
              " 'aal',\n",
              " 'aalii',\n",
              " 'aam',\n",
              " 'aardvark',\n",
              " 'aardwolf',\n",
              " 'aba',\n",
              " 'abac',\n",
              " 'abaca',\n",
              " 'abacate',\n",
              " 'abacay',\n",
              " 'abacinate',\n",
              " 'abacination',\n",
              " 'abaciscus',\n",
              " 'abacist',\n",
              " 'aback',\n",
              " 'abactinal',\n",
              " 'abactinally',\n",
              " 'abaction']"
            ]
          },
          "metadata": {
            "tags": []
          },
          "execution_count": 19
        }
      ]
    },
    {
      "cell_type": "code",
      "metadata": {
        "id": "pHT3CUdeVcL6",
        "colab_type": "code",
        "outputId": "fadc4bb9-19b3-4cda-c320-8dd4bec8ef60",
        "colab": {
          "base_uri": "https://localhost:8080/",
          "height": 381
        }
      },
      "source": [
        "word_list_ed = [word for word in word_list if re.search('ed$', word)]\n",
        "word_list_ed[:20]"
      ],
      "execution_count": 0,
      "outputs": [
        {
          "output_type": "execute_result",
          "data": {
            "text/plain": [
              "['abaissed',\n",
              " 'abandoned',\n",
              " 'abased',\n",
              " 'abashed',\n",
              " 'abatised',\n",
              " 'abed',\n",
              " 'aborted',\n",
              " 'abridged',\n",
              " 'abscessed',\n",
              " 'absconded',\n",
              " 'absorbed',\n",
              " 'abstracted',\n",
              " 'abstricted',\n",
              " 'accelerated',\n",
              " 'accepted',\n",
              " 'accidented',\n",
              " 'accoladed',\n",
              " 'accolated',\n",
              " 'accomplished',\n",
              " 'accosted']"
            ]
          },
          "metadata": {
            "tags": []
          },
          "execution_count": 21
        }
      ]
    },
    {
      "cell_type": "code",
      "metadata": {
        "id": "BllZ2WT9VkoQ",
        "colab_type": "code",
        "outputId": "84ed2831-9519-4a31-9d28-d4557a7463e8",
        "colab": {
          "base_uri": "https://localhost:8080/",
          "height": 381
        }
      },
      "source": [
        "word_list_ake = [word for word in word_list if re.search('ake$', word)]\n",
        "word_list_ake[:20]"
      ],
      "execution_count": 0,
      "outputs": [
        {
          "output_type": "execute_result",
          "data": {
            "text/plain": [
              "['afterrake',\n",
              " 'ake',\n",
              " 'akeake',\n",
              " 'alestake',\n",
              " 'arake',\n",
              " 'ashake',\n",
              " 'ashcake',\n",
              " 'awake',\n",
              " 'bake',\n",
              " 'battercake',\n",
              " 'berake',\n",
              " 'beshake',\n",
              " 'blake',\n",
              " 'boltstrake',\n",
              " 'brake',\n",
              " 'bridecake',\n",
              " 'bridestake',\n",
              " 'cake',\n",
              " 'canebrake',\n",
              " 'carcake']"
            ]
          },
          "metadata": {
            "tags": []
          },
          "execution_count": 22
        }
      ]
    },
    {
      "cell_type": "code",
      "metadata": {
        "id": "vs9zTYFTVxgA",
        "colab_type": "code",
        "outputId": "06ef7154-a658-49f6-9acf-f4913f23b79c",
        "colab": {
          "base_uri": "https://localhost:8080/",
          "height": 381
        }
      },
      "source": [
        "word_list_oo = [word for word in word_list if re.search('^.oo.$', word)]\n",
        "word_list_oo[:20]"
      ],
      "execution_count": 0,
      "outputs": [
        {
          "output_type": "execute_result",
          "data": {
            "text/plain": [
              "['boob',\n",
              " 'bood',\n",
              " 'boof',\n",
              " 'book',\n",
              " 'bool',\n",
              " 'boom',\n",
              " 'boon',\n",
              " 'boor',\n",
              " 'boot',\n",
              " 'coof',\n",
              " 'cook',\n",
              " 'cool',\n",
              " 'coom',\n",
              " 'coon',\n",
              " 'coop',\n",
              " 'coot',\n",
              " 'doob',\n",
              " 'dook',\n",
              " 'dool',\n",
              " 'doom']"
            ]
          },
          "metadata": {
            "tags": []
          },
          "execution_count": 24
        }
      ]
    },
    {
      "cell_type": "code",
      "metadata": {
        "id": "XVovRItQWnCX",
        "colab_type": "code",
        "outputId": "09d4f63e-6d95-4e9d-a5fa-7596b324c3b8",
        "colab": {
          "base_uri": "https://localhost:8080/",
          "height": 308
        }
      },
      "source": [
        "word_list_oo = [word for word in word_list if re.search('^[bc]oo.$', word)]\n",
        "word_list_oo[:20]"
      ],
      "execution_count": 0,
      "outputs": [
        {
          "output_type": "execute_result",
          "data": {
            "text/plain": [
              "['boob',\n",
              " 'bood',\n",
              " 'boof',\n",
              " 'book',\n",
              " 'bool',\n",
              " 'boom',\n",
              " 'boon',\n",
              " 'boor',\n",
              " 'boot',\n",
              " 'coof',\n",
              " 'cook',\n",
              " 'cool',\n",
              " 'coom',\n",
              " 'coon',\n",
              " 'coop',\n",
              " 'coot']"
            ]
          },
          "metadata": {
            "tags": []
          },
          "execution_count": 26
        }
      ]
    },
    {
      "cell_type": "code",
      "metadata": {
        "id": "1tZ9NsVVV7aN",
        "colab_type": "code",
        "outputId": "6c0a3160-63c0-4d54-c3b3-8222a3b807d0",
        "colab": {
          "base_uri": "https://localhost:8080/",
          "height": 381
        }
      },
      "source": [
        "word_list_oo = [word for word in word_list if re.search('.oo.$', word)]\n",
        "word_list_oo[:20]"
      ],
      "execution_count": 0,
      "outputs": [
        {
          "output_type": "execute_result",
          "data": {
            "text/plain": [
              "['abloom',\n",
              " 'aboon',\n",
              " 'aboveproof',\n",
              " 'abrook',\n",
              " 'abscessroot',\n",
              " 'acidproof',\n",
              " 'acrook',\n",
              " 'actinozoon',\n",
              " 'adroop',\n",
              " 'adulthood',\n",
              " 'afoot',\n",
              " 'aftergood',\n",
              " 'afternoon',\n",
              " 'afterproof',\n",
              " 'afterschool',\n",
              " 'agalawood',\n",
              " 'agalwood',\n",
              " 'agilawood',\n",
              " 'agillawood',\n",
              " 'agroof']"
            ]
          },
          "metadata": {
            "tags": []
          },
          "execution_count": 27
        }
      ]
    },
    {
      "cell_type": "code",
      "metadata": {
        "id": "C4BlW4DywS9e",
        "colab_type": "code",
        "outputId": "00e5c2f5-b332-4a03-9be0-21a5ff7fd641",
        "colab": {
          "base_uri": "https://localhost:8080/",
          "height": 563
        }
      },
      "source": [
        "def stem(word):\n",
        "    for suffix in ['ing', 'ly', 'ed', 'ious', 'ies', 'ive', 'es', 's', 'ment']:\n",
        "        if word.endswith(suffix):\n",
        "            return word[:-len(suffix)]\n",
        "    return word\n",
        "\n",
        "word_list_stem = [stem(word) for word in word_list]\n",
        "\n",
        "for word in zip(word_list[100:130], word_list_stem[100:130]):\n",
        "    print(word)"
      ],
      "execution_count": 0,
      "outputs": [
        {
          "output_type": "stream",
          "text": [
            "('abdicable', 'abdicable')\n",
            "('abdicant', 'abdicant')\n",
            "('abdicate', 'abdicate')\n",
            "('abdication', 'abdication')\n",
            "('abdicative', 'abdicat')\n",
            "('abdicator', 'abdicator')\n",
            "('abditive', 'abdit')\n",
            "('abditory', 'abditory')\n",
            "('abdomen', 'abdomen')\n",
            "('abdominal', 'abdominal')\n",
            "('abdominalian', 'abdominalian')\n",
            "('abdominally', 'abdominal')\n",
            "('abdominoanterior', 'abdominoanterior')\n",
            "('abdominocardiac', 'abdominocardiac')\n",
            "('abdominocentesis', 'abdominocentesi')\n",
            "('abdominocystic', 'abdominocystic')\n",
            "('abdominogenital', 'abdominogenital')\n",
            "('abdominohysterectomy', 'abdominohysterectomy')\n",
            "('abdominohysterotomy', 'abdominohysterotomy')\n",
            "('abdominoposterior', 'abdominoposterior')\n",
            "('abdominoscope', 'abdominoscope')\n",
            "('abdominoscopy', 'abdominoscopy')\n",
            "('abdominothoracic', 'abdominothoracic')\n",
            "('abdominous', 'abdominou')\n",
            "('abdominovaginal', 'abdominovaginal')\n",
            "('abdominovesical', 'abdominovesical')\n",
            "('abduce', 'abduce')\n",
            "('abducens', 'abducen')\n",
            "('abducent', 'abducent')\n",
            "('abduct', 'abduct')\n"
          ],
          "name": "stdout"
        }
      ]
    },
    {
      "cell_type": "code",
      "metadata": {
        "id": "a7QMDpLAWAi6",
        "colab_type": "code",
        "colab": {}
      },
      "source": [
        "with open(file='/root/nltk_data/corpora/unicode_samples/polish-lat2.txt', mode='r', encoding='latin2') as file:\n",
        "    text = file.read()"
      ],
      "execution_count": 0,
      "outputs": []
    },
    {
      "cell_type": "code",
      "metadata": {
        "id": "UXLJ_R2Dp9G0",
        "colab_type": "code",
        "outputId": "97de480b-0d86-4efa-fe28-24b22d83c977",
        "colab": {
          "base_uri": "https://localhost:8080/",
          "height": 126
        }
      },
      "source": [
        "from nltk.tokenize import sent_tokenize\n",
        "from nltk.tokenize import word_tokenize\n",
        "\n",
        "sentences = sent_tokenize(text)\n",
        "sentences "
      ],
      "execution_count": 0,
      "outputs": [
        {
          "output_type": "execute_result",
          "data": {
            "text/plain": [
              "['Pruska Biblioteka Państwowa.',\n",
              " 'Jej dawne zbiory znane pod nazwą\\n\"Berlinka\" to skarb kultury i sztuki niemieckiej.',\n",
              " 'Przewiezione przez\\nNiemców pod koniec II wojny światowej na Dolny Śląsk, zostały\\nodnalezione po 1945 r. na terytorium Polski.',\n",
              " 'Trafiły do Biblioteki\\nJagiellońskiej w Krakowie, obejmują ponad 500 tys.',\n",
              " 'zabytkowych\\narchiwaliów, m.in.',\n",
              " 'manuskrypty Goethego, Mozarta, Beethovena, Bacha.']"
            ]
          },
          "metadata": {
            "tags": []
          },
          "execution_count": 36
        }
      ]
    },
    {
      "cell_type": "code",
      "metadata": {
        "id": "cb22HewBslPJ",
        "colab_type": "code",
        "outputId": "8f64369a-a58d-485d-cb99-cc7ae2c26af7",
        "colab": {
          "base_uri": "https://localhost:8080/",
          "height": 126
        }
      },
      "source": [
        "sentences = [sentence.replace('\\n', ' ') for sentence in sentences]\n",
        "sentences"
      ],
      "execution_count": 0,
      "outputs": [
        {
          "output_type": "execute_result",
          "data": {
            "text/plain": [
              "['Pruska Biblioteka Państwowa.',\n",
              " 'Jej dawne zbiory znane pod nazwą \"Berlinka\" to skarb kultury i sztuki niemieckiej.',\n",
              " 'Przewiezione przez Niemców pod koniec II wojny światowej na Dolny Śląsk, zostały odnalezione po 1945 r. na terytorium Polski.',\n",
              " 'Trafiły do Biblioteki Jagiellońskiej w Krakowie, obejmują ponad 500 tys.',\n",
              " 'zabytkowych archiwaliów, m.in.',\n",
              " 'manuskrypty Goethego, Mozarta, Beethovena, Bacha.']"
            ]
          },
          "metadata": {
            "tags": []
          },
          "execution_count": 46
        }
      ]
    },
    {
      "cell_type": "code",
      "metadata": {
        "id": "f8ZRzJvoqCBX",
        "colab_type": "code",
        "outputId": "250d75f7-9b84-4e45-c731-64dafce4c63b",
        "colab": {
          "base_uri": "https://localhost:8080/",
          "height": 290
        }
      },
      "source": [
        "tokens = [word_tokenize(sentence) for sentence in sentences]\n",
        "all_tokens = []\n",
        "for sentence in tokens:\n",
        "    all_tokens.extend(sentence)\n",
        "\n",
        "all_tokens[:15]"
      ],
      "execution_count": 0,
      "outputs": [
        {
          "output_type": "execute_result",
          "data": {
            "text/plain": [
              "['Pruska',\n",
              " 'Biblioteka',\n",
              " 'Państwowa',\n",
              " '.',\n",
              " 'Jej',\n",
              " 'dawne',\n",
              " 'zbiory',\n",
              " 'znane',\n",
              " 'pod',\n",
              " 'nazwą',\n",
              " '``',\n",
              " 'Berlinka',\n",
              " \"''\",\n",
              " 'to',\n",
              " 'skarb']"
            ]
          },
          "metadata": {
            "tags": []
          },
          "execution_count": 47
        }
      ]
    },
    {
      "cell_type": "code",
      "metadata": {
        "id": "2x9lFEAVr_qF",
        "colab_type": "code",
        "outputId": "b73294c6-fa8e-47e0-a44d-cfdbe81350da",
        "colab": {
          "base_uri": "https://localhost:8080/",
          "height": 35
        }
      },
      "source": [
        "[token for token in all_tokens if re.search('^[0-9]{4}$', token)]"
      ],
      "execution_count": 0,
      "outputs": [
        {
          "output_type": "execute_result",
          "data": {
            "text/plain": [
              "['1945']"
            ]
          },
          "metadata": {
            "tags": []
          },
          "execution_count": 48
        }
      ]
    },
    {
      "cell_type": "code",
      "metadata": {
        "id": "JFtYsynqsLbK",
        "colab_type": "code",
        "outputId": "fdd88dff-0cf0-45b1-a8b5-4976973736c6",
        "colab": {
          "base_uri": "https://localhost:8080/",
          "height": 35
        }
      },
      "source": [
        "[token for token in all_tokens if re.search('[0-9]+', token)]"
      ],
      "execution_count": 0,
      "outputs": [
        {
          "output_type": "execute_result",
          "data": {
            "text/plain": [
              "['1945', '500']"
            ]
          },
          "metadata": {
            "tags": []
          },
          "execution_count": 49
        }
      ]
    },
    {
      "cell_type": "code",
      "metadata": {
        "id": "2dFn0FYqsaB5",
        "colab_type": "code",
        "outputId": "ae748ea2-2a6d-423c-c3f6-edbe8f95211e",
        "colab": {
          "base_uri": "https://localhost:8080/",
          "height": 181
        }
      },
      "source": [
        "[token for token in all_tokens if re.search('a$', token)]"
      ],
      "execution_count": 0,
      "outputs": [
        {
          "output_type": "execute_result",
          "data": {
            "text/plain": [
              "['Pruska',\n",
              " 'Biblioteka',\n",
              " 'Państwowa',\n",
              " 'Berlinka',\n",
              " 'na',\n",
              " 'na',\n",
              " 'Mozarta',\n",
              " 'Beethovena',\n",
              " 'Bacha']"
            ]
          },
          "metadata": {
            "tags": []
          },
          "execution_count": 50
        }
      ]
    },
    {
      "cell_type": "code",
      "metadata": {
        "id": "_6IE__ycs7-G",
        "colab_type": "code",
        "outputId": "39fee7d4-d0c7-4987-f946-53e9bc0abad5",
        "colab": {
          "base_uri": "https://localhost:8080/",
          "height": 217
        }
      },
      "source": [
        "[token for token in all_tokens if re.search('(a|ny)$', token)]"
      ],
      "execution_count": 0,
      "outputs": [
        {
          "output_type": "execute_result",
          "data": {
            "text/plain": [
              "['Pruska',\n",
              " 'Biblioteka',\n",
              " 'Państwowa',\n",
              " 'Berlinka',\n",
              " 'wojny',\n",
              " 'na',\n",
              " 'Dolny',\n",
              " 'na',\n",
              " 'Mozarta',\n",
              " 'Beethovena',\n",
              " 'Bacha']"
            ]
          },
          "metadata": {
            "tags": []
          },
          "execution_count": 52
        }
      ]
    },
    {
      "cell_type": "code",
      "metadata": {
        "id": "ll-ejz_TtECb",
        "colab_type": "code",
        "outputId": "7ae0da99-403e-496a-9f6f-a6f0eb43f232",
        "colab": {
          "base_uri": "https://localhost:8080/",
          "height": 345
        }
      },
      "source": [
        "[token for token in all_tokens if re.search('^[A-Z]+', token)]"
      ],
      "execution_count": 0,
      "outputs": [
        {
          "output_type": "execute_result",
          "data": {
            "text/plain": [
              "['Pruska',\n",
              " 'Biblioteka',\n",
              " 'Państwowa',\n",
              " 'Jej',\n",
              " 'Berlinka',\n",
              " 'Przewiezione',\n",
              " 'Niemców',\n",
              " 'II',\n",
              " 'Dolny',\n",
              " 'Polski',\n",
              " 'Trafiły',\n",
              " 'Biblioteki',\n",
              " 'Jagiellońskiej',\n",
              " 'Krakowie',\n",
              " 'Goethego',\n",
              " 'Mozarta',\n",
              " 'Beethovena',\n",
              " 'Bacha']"
            ]
          },
          "metadata": {
            "tags": []
          },
          "execution_count": 53
        }
      ]
    },
    {
      "cell_type": "code",
      "metadata": {
        "id": "em-zldsitPcI",
        "colab_type": "code",
        "outputId": "4a5d0e44-1c79-4505-c648-6687ac64a258",
        "colab": {
          "base_uri": "https://localhost:8080/",
          "height": 35
        }
      },
      "source": [
        "[token for token in all_tokens if re.search('^[a-z]{3}$', token)]"
      ],
      "execution_count": 0,
      "outputs": [
        {
          "output_type": "execute_result",
          "data": {
            "text/plain": [
              "['pod', 'pod', 'tys']"
            ]
          },
          "metadata": {
            "tags": []
          },
          "execution_count": 56
        }
      ]
    },
    {
      "cell_type": "code",
      "metadata": {
        "id": "vuC-RjJJt36j",
        "colab_type": "code",
        "outputId": "f110955e-9e2c-4443-ece9-56e26663a141",
        "colab": {
          "base_uri": "https://localhost:8080/",
          "height": 35
        }
      },
      "source": [
        "[token for token in all_tokens if re.search('^[a-z]{,3}$', token)]"
      ],
      "execution_count": 0,
      "outputs": [
        {
          "output_type": "execute_result",
          "data": {
            "text/plain": [
              "['pod', 'to', 'i', 'pod', 'na', 'po', 'na', 'do', 'w', 'tys']"
            ]
          },
          "metadata": {
            "tags": []
          },
          "execution_count": 57
        }
      ]
    },
    {
      "cell_type": "code",
      "metadata": {
        "id": "Z2pBLWoXt9qc",
        "colab_type": "code",
        "outputId": "0490ec34-11bd-4775-fa3b-61e2e1d5dd88",
        "colab": {
          "base_uri": "https://localhost:8080/",
          "height": 35
        }
      },
      "source": [
        "re.findall('^.*tny$', 'pikantny')"
      ],
      "execution_count": 0,
      "outputs": [
        {
          "output_type": "execute_result",
          "data": {
            "text/plain": [
              "['pikantny']"
            ]
          },
          "metadata": {
            "tags": []
          },
          "execution_count": 79
        }
      ]
    },
    {
      "cell_type": "code",
      "metadata": {
        "id": "E6qLP-sox33E",
        "colab_type": "code",
        "outputId": "808e755f-18b2-444d-bdb2-c5167a09eea9",
        "colab": {
          "base_uri": "https://localhost:8080/",
          "height": 35
        }
      },
      "source": [
        "re.findall('^.*tny$', 'pochodny')"
      ],
      "execution_count": 0,
      "outputs": [
        {
          "output_type": "execute_result",
          "data": {
            "text/plain": [
              "[]"
            ]
          },
          "metadata": {
            "tags": []
          },
          "execution_count": 80
        }
      ]
    },
    {
      "cell_type": "code",
      "metadata": {
        "id": "puYzuKCzyhEq",
        "colab_type": "code",
        "outputId": "7d54c7be-5159-451b-eac9-35cb33f21f56",
        "colab": {
          "base_uri": "https://localhost:8080/",
          "height": 35
        }
      },
      "source": [
        "re.findall('^(.*)(tny|dny)$', 'pochodny')"
      ],
      "execution_count": 0,
      "outputs": [
        {
          "output_type": "execute_result",
          "data": {
            "text/plain": [
              "[('pocho', 'dny')]"
            ]
          },
          "metadata": {
            "tags": []
          },
          "execution_count": 82
        }
      ]
    },
    {
      "cell_type": "markdown",
      "metadata": {
        "id": "v0H8YnhO2tjw",
        "colab_type": "text"
      },
      "source": [
        "Tokenizacja - regex"
      ]
    },
    {
      "cell_type": "code",
      "metadata": {
        "id": "QBoccT6mzSWU",
        "colab_type": "code",
        "outputId": "30718d51-efc6-49eb-fa03-3687296c0490",
        "colab": {
          "base_uri": "https://localhost:8080/",
          "height": 35
        }
      },
      "source": [
        "text = \"Przewiezione przez    Niemców pod koniec II wojny światowej na Dolny Śląsk, zostały odnalezione po 1945 r. na terytorium Polski.\"\n",
        "text"
      ],
      "execution_count": 0,
      "outputs": [
        {
          "output_type": "execute_result",
          "data": {
            "text/plain": [
              "'Przewiezione przez    Niemców pod koniec II wojny światowej na Dolny Śląsk, zostały odnalezione po 1945 r. na terytorium Polski.'"
            ]
          },
          "metadata": {
            "tags": []
          },
          "execution_count": 102
        }
      ]
    },
    {
      "cell_type": "code",
      "metadata": {
        "id": "4fC7aeE62d1j",
        "colab_type": "code",
        "outputId": "8f5c5327-a111-4945-d98e-c4b78aac52b0",
        "colab": {
          "base_uri": "https://localhost:8080/",
          "height": 417
        }
      },
      "source": [
        "re.split(pattern=r' ', string=text)"
      ],
      "execution_count": 0,
      "outputs": [
        {
          "output_type": "execute_result",
          "data": {
            "text/plain": [
              "['Przewiezione',\n",
              " 'przez',\n",
              " '',\n",
              " '',\n",
              " '',\n",
              " 'Niemców',\n",
              " 'pod',\n",
              " 'koniec',\n",
              " 'II',\n",
              " 'wojny',\n",
              " 'światowej',\n",
              " 'na',\n",
              " 'Dolny',\n",
              " 'Śląsk,',\n",
              " 'zostały',\n",
              " 'odnalezione',\n",
              " 'po',\n",
              " '1945',\n",
              " 'r.',\n",
              " 'na',\n",
              " 'terytorium',\n",
              " 'Polski.']"
            ]
          },
          "metadata": {
            "tags": []
          },
          "execution_count": 103
        }
      ]
    },
    {
      "cell_type": "code",
      "metadata": {
        "id": "zEIUtH0f3VC4",
        "colab_type": "code",
        "outputId": "1a7e26b3-59ac-4ad4-9ea0-fe0c5b5b6b36",
        "colab": {
          "base_uri": "https://localhost:8080/",
          "height": 363
        }
      },
      "source": [
        "re.split(pattern=r' +', string=text)"
      ],
      "execution_count": 0,
      "outputs": [
        {
          "output_type": "execute_result",
          "data": {
            "text/plain": [
              "['Przewiezione',\n",
              " 'przez',\n",
              " 'Niemców',\n",
              " 'pod',\n",
              " 'koniec',\n",
              " 'II',\n",
              " 'wojny',\n",
              " 'światowej',\n",
              " 'na',\n",
              " 'Dolny',\n",
              " 'Śląsk,',\n",
              " 'zostały',\n",
              " 'odnalezione',\n",
              " 'po',\n",
              " '1945',\n",
              " 'r.',\n",
              " 'na',\n",
              " 'terytorium',\n",
              " 'Polski.']"
            ]
          },
          "metadata": {
            "tags": []
          },
          "execution_count": 105
        }
      ]
    },
    {
      "cell_type": "code",
      "metadata": {
        "id": "EVn8YF7b3t-l",
        "colab_type": "code",
        "outputId": "95fd1ad1-e6f1-448d-ae1f-e80aeecfcd84",
        "colab": {
          "base_uri": "https://localhost:8080/",
          "height": 35
        }
      },
      "source": [
        "text = \"Przewiezione przez\\tNiemców pod koniec II wojny światowej na Dolny Śląsk, zostały odnalezione po 1945 r. na terytorium Polski.\"\n",
        "print(text)"
      ],
      "execution_count": 0,
      "outputs": [
        {
          "output_type": "stream",
          "text": [
            "Przewiezione przez\tNiemców pod koniec II wojny światowej na Dolny Śląsk, zostały odnalezione po 1945 r. na terytorium Polski.\n"
          ],
          "name": "stdout"
        }
      ]
    },
    {
      "cell_type": "code",
      "metadata": {
        "id": "DI9D2W7Y3yil",
        "colab_type": "code",
        "outputId": "22481381-32f8-498b-b6ae-85f0de252c61",
        "colab": {
          "base_uri": "https://localhost:8080/",
          "height": 345
        }
      },
      "source": [
        "re.split(pattern=r' +', string=text)"
      ],
      "execution_count": 0,
      "outputs": [
        {
          "output_type": "execute_result",
          "data": {
            "text/plain": [
              "['Przewiezione',\n",
              " 'przez\\tNiemców',\n",
              " 'pod',\n",
              " 'koniec',\n",
              " 'II',\n",
              " 'wojny',\n",
              " 'światowej',\n",
              " 'na',\n",
              " 'Dolny',\n",
              " 'Śląsk,',\n",
              " 'zostały',\n",
              " 'odnalezione',\n",
              " 'po',\n",
              " '1945',\n",
              " 'r.',\n",
              " 'na',\n",
              " 'terytorium',\n",
              " 'Polski.']"
            ]
          },
          "metadata": {
            "tags": []
          },
          "execution_count": 108
        }
      ]
    },
    {
      "cell_type": "code",
      "metadata": {
        "id": "xyv-Nym430fF",
        "colab_type": "code",
        "outputId": "396ccda7-4d15-4821-9708-1d706344e285",
        "colab": {
          "base_uri": "https://localhost:8080/",
          "height": 363
        }
      },
      "source": [
        "re.split(pattern=r'[ \\t]+', string=text)"
      ],
      "execution_count": 0,
      "outputs": [
        {
          "output_type": "execute_result",
          "data": {
            "text/plain": [
              "['Przewiezione',\n",
              " 'przez',\n",
              " 'Niemców',\n",
              " 'pod',\n",
              " 'koniec',\n",
              " 'II',\n",
              " 'wojny',\n",
              " 'światowej',\n",
              " 'na',\n",
              " 'Dolny',\n",
              " 'Śląsk,',\n",
              " 'zostały',\n",
              " 'odnalezione',\n",
              " 'po',\n",
              " '1945',\n",
              " 'r.',\n",
              " 'na',\n",
              " 'terytorium',\n",
              " 'Polski.']"
            ]
          },
          "metadata": {
            "tags": []
          },
          "execution_count": 109
        }
      ]
    },
    {
      "cell_type": "code",
      "metadata": {
        "id": "nGbTRG-k2h_3",
        "colab_type": "code",
        "outputId": "21c600a4-d326-4d5c-9caf-e196b5c45c56",
        "colab": {
          "base_uri": "https://localhost:8080/",
          "height": 72
        }
      },
      "source": [
        "re.split(pattern=r'\\.', string=text)"
      ],
      "execution_count": 0,
      "outputs": [
        {
          "output_type": "execute_result",
          "data": {
            "text/plain": [
              "['Przewiezione przez Niemców pod koniec II wojny światowej na Dolny Śląsk, zostały odnalezione po 1945 r',\n",
              " ' na terytorium Polski',\n",
              " '']"
            ]
          },
          "metadata": {
            "tags": []
          },
          "execution_count": 88
        }
      ]
    },
    {
      "cell_type": "code",
      "metadata": {
        "id": "4TnTAXt727x_",
        "colab_type": "code",
        "outputId": "d6aae230-278e-4900-900d-4d4889b72461",
        "colab": {
          "base_uri": "https://localhost:8080/",
          "height": 54
        }
      },
      "source": [
        "text = \"\"\"Przewiezione przez Niemców pod koniec II wojny światowej na Dolny Śląsk, zostały odnalezione po 1945 r. na terytorium Polski.Trafiły do Biblioteki\n",
        "Jagiellońskiej w Krakowie, obejmują ponad 500 tys. zabytkowych archiwaliów, m.in. manuskrypty Goethego, Mozarta, Beethovena, Bacha.\"\"\"\n",
        "\n",
        "print(text)"
      ],
      "execution_count": 0,
      "outputs": [
        {
          "output_type": "stream",
          "text": [
            "Przewiezione przez Niemców pod koniec II wojny światowej na Dolny Śląsk, zostały odnalezione po 1945 r. na terytorium Polski.Trafiły do Biblioteki\n",
            "Jagiellońskiej w Krakowie, obejmują ponad 500 tys. zabytkowych archiwaliów, m.in. manuskrypty Goethego, Mozarta, Beethovena, Bacha.\n"
          ],
          "name": "stdout"
        }
      ]
    },
    {
      "cell_type": "code",
      "metadata": {
        "id": "2tiHuA2c3I3x",
        "colab_type": "code",
        "outputId": "04136498-ab6a-42ba-8492-2a916458acdd",
        "colab": {
          "base_uri": "https://localhost:8080/",
          "height": 55
        }
      },
      "source": [
        "text"
      ],
      "execution_count": 0,
      "outputs": [
        {
          "output_type": "execute_result",
          "data": {
            "text/plain": [
              "'Przewiezione przez Niemców pod koniec II wojny światowej na Dolny Śląsk, zostały odnalezione po 1945 r. na terytorium Polski.Trafiły do Biblioteki\\nJagiellońskiej w Krakowie, obejmują ponad 500 tys. zabytkowych archiwaliów, m.in. manuskrypty Goethego, Mozarta, Beethovena, Bacha.'"
            ]
          },
          "metadata": {
            "tags": []
          },
          "execution_count": 95
        }
      ]
    },
    {
      "cell_type": "code",
      "metadata": {
        "id": "AYULRs592yN1",
        "colab_type": "code",
        "outputId": "25c1da9c-5b61-4de5-e032-450c1d12fc43",
        "colab": {
          "base_uri": "https://localhost:8080/",
          "height": 54
        }
      },
      "source": [
        "re.split(pattern=r'\\n', string=text)"
      ],
      "execution_count": 0,
      "outputs": [
        {
          "output_type": "execute_result",
          "data": {
            "text/plain": [
              "['Przewiezione przez Niemców pod koniec II wojny światowej na Dolny Śląsk, zostały odnalezione po 1945 r. na terytorium Polski.Trafiły do Biblioteki',\n",
              " 'Jagiellońskiej w Krakowie, obejmują ponad 500 tys. zabytkowych archiwaliów, m.in. manuskrypty Goethego, Mozarta, Beethovena, Bacha.']"
            ]
          },
          "metadata": {
            "tags": []
          },
          "execution_count": 96
        }
      ]
    },
    {
      "cell_type": "code",
      "metadata": {
        "id": "HxLjjY3B250u",
        "colab_type": "code",
        "outputId": "24342b0c-2212-487a-eeb3-40c51ccfa347",
        "colab": {
          "base_uri": "https://localhost:8080/",
          "height": 672
        }
      },
      "source": [
        "re.split(pattern=r'[ \\t\\n]+', string=text)"
      ],
      "execution_count": 0,
      "outputs": [
        {
          "output_type": "execute_result",
          "data": {
            "text/plain": [
              "['Przewiezione',\n",
              " 'przez',\n",
              " 'Niemców',\n",
              " 'pod',\n",
              " 'koniec',\n",
              " 'II',\n",
              " 'wojny',\n",
              " 'światowej',\n",
              " 'na',\n",
              " 'Dolny',\n",
              " 'Śląsk,',\n",
              " 'zostały',\n",
              " 'odnalezione',\n",
              " 'po',\n",
              " '1945',\n",
              " 'r.',\n",
              " 'na',\n",
              " 'terytorium',\n",
              " 'Polski.Trafiły',\n",
              " 'do',\n",
              " 'Biblioteki',\n",
              " 'Jagiellońskiej',\n",
              " 'w',\n",
              " 'Krakowie,',\n",
              " 'obejmują',\n",
              " 'ponad',\n",
              " '500',\n",
              " 'tys.',\n",
              " 'zabytkowych',\n",
              " 'archiwaliów,',\n",
              " 'm.in.',\n",
              " 'manuskrypty',\n",
              " 'Goethego,',\n",
              " 'Mozarta,',\n",
              " 'Beethovena,',\n",
              " 'Bacha.']"
            ]
          },
          "metadata": {
            "tags": []
          },
          "execution_count": 98
        }
      ]
    },
    {
      "cell_type": "code",
      "metadata": {
        "id": "ILH-7e-z3PZr",
        "colab_type": "code",
        "outputId": "21641629-2162-42ba-8cc6-905b09308ae0",
        "colab": {
          "base_uri": "https://localhost:8080/",
          "height": 672
        }
      },
      "source": [
        "re.split(r'\\s+', text)"
      ],
      "execution_count": 0,
      "outputs": [
        {
          "output_type": "execute_result",
          "data": {
            "text/plain": [
              "['Przewiezione',\n",
              " 'przez',\n",
              " 'Niemców',\n",
              " 'pod',\n",
              " 'koniec',\n",
              " 'II',\n",
              " 'wojny',\n",
              " 'światowej',\n",
              " 'na',\n",
              " 'Dolny',\n",
              " 'Śląsk,',\n",
              " 'zostały',\n",
              " 'odnalezione',\n",
              " 'po',\n",
              " '1945',\n",
              " 'r.',\n",
              " 'na',\n",
              " 'terytorium',\n",
              " 'Polski.Trafiły',\n",
              " 'do',\n",
              " 'Biblioteki',\n",
              " 'Jagiellońskiej',\n",
              " 'w',\n",
              " 'Krakowie,',\n",
              " 'obejmują',\n",
              " 'ponad',\n",
              " '500',\n",
              " 'tys.',\n",
              " 'zabytkowych',\n",
              " 'archiwaliów,',\n",
              " 'm.in.',\n",
              " 'manuskrypty',\n",
              " 'Goethego,',\n",
              " 'Mozarta,',\n",
              " 'Beethovena,',\n",
              " 'Bacha.']"
            ]
          },
          "metadata": {
            "tags": []
          },
          "execution_count": 112
        }
      ]
    },
    {
      "cell_type": "code",
      "metadata": {
        "id": "rIqPFfeL4GLg",
        "colab_type": "code",
        "outputId": "86c9a4a4-ef9c-448a-b126-350366c47d10",
        "colab": {
          "base_uri": "https://localhost:8080/",
          "height": 726
        }
      },
      "source": [
        "re.split(r'\\W+', text)"
      ],
      "execution_count": 0,
      "outputs": [
        {
          "output_type": "execute_result",
          "data": {
            "text/plain": [
              "['Przewiezione',\n",
              " 'przez',\n",
              " 'Niemców',\n",
              " 'pod',\n",
              " 'koniec',\n",
              " 'II',\n",
              " 'wojny',\n",
              " 'światowej',\n",
              " 'na',\n",
              " 'Dolny',\n",
              " 'Śląsk',\n",
              " 'zostały',\n",
              " 'odnalezione',\n",
              " 'po',\n",
              " '1945',\n",
              " 'r',\n",
              " 'na',\n",
              " 'terytorium',\n",
              " 'Polski',\n",
              " 'Trafiły',\n",
              " 'do',\n",
              " 'Biblioteki',\n",
              " 'Jagiellońskiej',\n",
              " 'w',\n",
              " 'Krakowie',\n",
              " 'obejmują',\n",
              " 'ponad',\n",
              " '500',\n",
              " 'tys',\n",
              " 'zabytkowych',\n",
              " 'archiwaliów',\n",
              " 'm',\n",
              " 'in',\n",
              " 'manuskrypty',\n",
              " 'Goethego',\n",
              " 'Mozarta',\n",
              " 'Beethovena',\n",
              " 'Bacha',\n",
              " '']"
            ]
          },
          "metadata": {
            "tags": []
          },
          "execution_count": 113
        }
      ]
    },
    {
      "cell_type": "code",
      "metadata": {
        "id": "2ulRa_I24S8o",
        "colab_type": "code",
        "colab": {}
      },
      "source": [
        ""
      ],
      "execution_count": 0,
      "outputs": []
    }
  ]
}