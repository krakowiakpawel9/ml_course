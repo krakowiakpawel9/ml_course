{
  "nbformat": 4,
  "nbformat_minor": 0,
  "metadata": {
    "colab": {
      "name": "01_preprocessing.ipynb",
      "provenance": [],
      "include_colab_link": true
    },
    "kernelspec": {
      "name": "python3",
      "display_name": "Python 3"
    }
  },
  "cells": [
    {
      "cell_type": "markdown",
      "metadata": {
        "id": "view-in-github",
        "colab_type": "text"
      },
      "source": [
        "<a href=\"https://colab.research.google.com/github/krakowiakpawel9/ml_course/blob/master/x/04_spacy/02_fundamentals.ipynb\" target=\"_parent\"><img src=\"https://colab.research.google.com/assets/colab-badge.svg\" alt=\"Open In Colab\"/></a>"
      ]
    },
    {
      "cell_type": "markdown",
      "metadata": {
        "id": "UbjsT92Xd3z1",
        "colab_type": "text"
      },
      "source": [
        "* @author: krakowiakpawel9@gmail.com  \n",
        "* @site: e-smartdata.org\n",
        "\n",
        "### spaCy\n",
        "Strona biblioteki: [https://spacy.io/](https://spacy.io/)  \n",
        "\n",
        "Podstawowa biblioteka do przetwarzania języka naturalnego w języku Python.\n",
        "\n",
        "Aby zainstalować bibliotekę spaCy, użyj polecenia poniżej:\n",
        "```\n",
        "!pip install spacy\n",
        "```\n",
        "Aby zaktualizować do najnowszej wersji użyj polecenia poniżej:\n",
        "```\n",
        "!pip install --upgrade spacy\n",
        "```\n",
        "Kurs stworzony w oparciu o wersję `2.1.9`\n",
        "\n",
        "### Spis treści:\n",
        "1. [Import bibliotek](#0)\n",
        "2. [Klasa Vocab](#1)\n",
        "3. [Klasa StringStore](#2)\n",
        "4. [Klasa Language](#3)\n",
        "5. [Klasa Doc](#4)\n",
        "6. [Klasa Token](#5)\n",
        "7. [Klasa Span](#6)\n",
        "\n"
      ]
    },
    {
      "cell_type": "markdown",
      "metadata": {
        "id": "YkIALacsUnj7",
        "colab_type": "text"
      },
      "source": [
        "### <a name='0'></a> Import bibliotek"
      ]
    },
    {
      "cell_type": "code",
      "metadata": {
        "id": "4LkA1g0SIZ5C",
        "colab_type": "code",
        "colab": {}
      },
      "source": [
        "import numpy as np\n",
        "import spacy\n",
        "\n",
        "np.set_printoptions(precision=6, linewidth=200)"
      ],
      "execution_count": 0,
      "outputs": []
    },
    {
      "cell_type": "markdown",
      "metadata": {
        "id": "-4nH91FBLWEq",
        "colab_type": "text"
      },
      "source": [
        "### <a name='1'></a> Klasa Vocab\n",
        "Vocab - tworzy słownik dla danego języka"
      ]
    },
    {
      "cell_type": "code",
      "metadata": {
        "id": "fOwWqYZdIbuE",
        "colab_type": "code",
        "colab": {}
      },
      "source": [
        "from spacy.vocab import Vocab\n",
        "\n",
        "Vocab?"
      ],
      "execution_count": 0,
      "outputs": []
    },
    {
      "cell_type": "code",
      "metadata": {
        "id": "mgULM4dGI7ez",
        "colab_type": "code",
        "outputId": "87aa435b-78f0-4e8c-a51a-75464ef2896e",
        "colab": {
          "base_uri": "https://localhost:8080/",
          "height": 34
        }
      },
      "source": [
        "vocab = Vocab(strings=['hello', 'world'])\n",
        "vocab"
      ],
      "execution_count": 3,
      "outputs": [
        {
          "output_type": "execute_result",
          "data": {
            "text/plain": [
              "<spacy.vocab.Vocab at 0x7f7459292f48>"
            ]
          },
          "metadata": {
            "tags": []
          },
          "execution_count": 3
        }
      ]
    },
    {
      "cell_type": "code",
      "metadata": {
        "id": "fJdZNKbnJL3t",
        "colab_type": "code",
        "outputId": "6f0d8485-6de4-471f-fb97-56a4a2b3827f",
        "colab": {
          "base_uri": "https://localhost:8080/",
          "height": 34
        }
      },
      "source": [
        "len(vocab)"
      ],
      "execution_count": 4,
      "outputs": [
        {
          "output_type": "execute_result",
          "data": {
            "text/plain": [
              "2"
            ]
          },
          "metadata": {
            "tags": []
          },
          "execution_count": 4
        }
      ]
    },
    {
      "cell_type": "code",
      "metadata": {
        "id": "Ui8zchFWJ-oj",
        "colab_type": "code",
        "outputId": "7a77731b-1f5e-414f-da47-b8abfc4e75ec",
        "colab": {
          "base_uri": "https://localhost:8080/",
          "height": 34
        }
      },
      "source": [
        "vocab.strings"
      ],
      "execution_count": 5,
      "outputs": [
        {
          "output_type": "execute_result",
          "data": {
            "text/plain": [
              "<spacy.strings.StringStore at 0x7f74578bfea0>"
            ]
          },
          "metadata": {
            "tags": []
          },
          "execution_count": 5
        }
      ]
    },
    {
      "cell_type": "markdown",
      "metadata": {
        "id": "sxMfocVILYWi",
        "colab_type": "text"
      },
      "source": [
        "### <a name='2'></a> Klasa StringStore\n",
        "StringStore - wyszukuje ciągi znaków za pomocą 64-bitowych hashy. "
      ]
    },
    {
      "cell_type": "code",
      "metadata": {
        "id": "HMUYt6uKK2ia",
        "colab_type": "code",
        "colab": {}
      },
      "source": [
        "from spacy.strings import StringStore\n",
        "\n",
        "StringStore?"
      ],
      "execution_count": 0,
      "outputs": []
    },
    {
      "cell_type": "code",
      "metadata": {
        "id": "DqmQxHlpLhte",
        "colab_type": "code",
        "outputId": "29704200-cf64-43e5-c138-807cb8259930",
        "colab": {
          "base_uri": "https://localhost:8080/",
          "height": 34
        }
      },
      "source": [
        "stringstore = StringStore(['python', 'java'])\n",
        "stringstore"
      ],
      "execution_count": 7,
      "outputs": [
        {
          "output_type": "execute_result",
          "data": {
            "text/plain": [
              "<spacy.strings.StringStore at 0x7f74578bfb70>"
            ]
          },
          "metadata": {
            "tags": []
          },
          "execution_count": 7
        }
      ]
    },
    {
      "cell_type": "code",
      "metadata": {
        "id": "sZqP-POfL417",
        "colab_type": "code",
        "outputId": "350e4d0a-78e1-46f7-86af-c83856fdb99a",
        "colab": {
          "base_uri": "https://localhost:8080/",
          "height": 34
        }
      },
      "source": [
        "len(stringstore)"
      ],
      "execution_count": 8,
      "outputs": [
        {
          "output_type": "execute_result",
          "data": {
            "text/plain": [
              "2"
            ]
          },
          "metadata": {
            "tags": []
          },
          "execution_count": 8
        }
      ]
    },
    {
      "cell_type": "code",
      "metadata": {
        "id": "CyAi_bi_L7pj",
        "colab_type": "code",
        "outputId": "1975ba4c-90f4-41db-a125-602e6e5dae82",
        "colab": {
          "base_uri": "https://localhost:8080/",
          "height": 34
        }
      },
      "source": [
        "stringstore['python']"
      ],
      "execution_count": 9,
      "outputs": [
        {
          "output_type": "execute_result",
          "data": {
            "text/plain": [
              "17956708691072489762"
            ]
          },
          "metadata": {
            "tags": []
          },
          "execution_count": 9
        }
      ]
    },
    {
      "cell_type": "code",
      "metadata": {
        "id": "hI56ycxLL-uy",
        "colab_type": "code",
        "outputId": "2a416706-9a80-4d02-fab0-84fac824c433",
        "colab": {
          "base_uri": "https://localhost:8080/",
          "height": 34
        }
      },
      "source": [
        "stringstore['java']"
      ],
      "execution_count": 10,
      "outputs": [
        {
          "output_type": "execute_result",
          "data": {
            "text/plain": [
              "1049729868293614729"
            ]
          },
          "metadata": {
            "tags": []
          },
          "execution_count": 10
        }
      ]
    },
    {
      "cell_type": "code",
      "metadata": {
        "id": "5-TyL0QDMA2Z",
        "colab_type": "code",
        "outputId": "1648b788-4f5d-40ac-a3bc-9d5798cee4cd",
        "colab": {
          "base_uri": "https://localhost:8080/",
          "height": 34
        }
      },
      "source": [
        "'scala' in stringstore"
      ],
      "execution_count": 11,
      "outputs": [
        {
          "output_type": "execute_result",
          "data": {
            "text/plain": [
              "False"
            ]
          },
          "metadata": {
            "tags": []
          },
          "execution_count": 11
        }
      ]
    },
    {
      "cell_type": "code",
      "metadata": {
        "id": "9i-77uC_MLSj",
        "colab_type": "code",
        "outputId": "d5d8e845-366c-4b8e-9b04-5c3a1a844d90",
        "colab": {
          "base_uri": "https://localhost:8080/",
          "height": 34
        }
      },
      "source": [
        "'java' in stringstore"
      ],
      "execution_count": 12,
      "outputs": [
        {
          "output_type": "execute_result",
          "data": {
            "text/plain": [
              "True"
            ]
          },
          "metadata": {
            "tags": []
          },
          "execution_count": 12
        }
      ]
    },
    {
      "cell_type": "code",
      "metadata": {
        "id": "hJzkWjb-MM-v",
        "colab_type": "code",
        "outputId": "5d048ecc-122f-46d8-daae-384835c06e93",
        "colab": {
          "base_uri": "https://localhost:8080/",
          "height": 51
        }
      },
      "source": [
        "for string in stringstore:\n",
        "    print(f'{type(string)}: {string}')"
      ],
      "execution_count": 13,
      "outputs": [
        {
          "output_type": "stream",
          "text": [
            "<class 'str'>: python\n",
            "<class 'str'>: java\n"
          ],
          "name": "stdout"
        }
      ]
    },
    {
      "cell_type": "code",
      "metadata": {
        "id": "zrI-cP5KMRK_",
        "colab_type": "code",
        "outputId": "2cd766fa-4f83-4ea1-a2d8-e55ba0547a01",
        "colab": {
          "base_uri": "https://localhost:8080/",
          "height": 34
        }
      },
      "source": [
        "stringstore.add('scala')"
      ],
      "execution_count": 14,
      "outputs": [
        {
          "output_type": "execute_result",
          "data": {
            "text/plain": [
              "13115865354982139976"
            ]
          },
          "metadata": {
            "tags": []
          },
          "execution_count": 14
        }
      ]
    },
    {
      "cell_type": "code",
      "metadata": {
        "id": "RDS9bOHUMzF8",
        "colab_type": "code",
        "outputId": "24e10d83-31f5-49ac-9b8a-75331028b442",
        "colab": {
          "base_uri": "https://localhost:8080/",
          "height": 34
        }
      },
      "source": [
        "len(stringstore)"
      ],
      "execution_count": 15,
      "outputs": [
        {
          "output_type": "execute_result",
          "data": {
            "text/plain": [
              "3"
            ]
          },
          "metadata": {
            "tags": []
          },
          "execution_count": 15
        }
      ]
    },
    {
      "cell_type": "code",
      "metadata": {
        "id": "6iFShowrM1BQ",
        "colab_type": "code",
        "outputId": "b93b6046-2681-4c26-f98a-f82873eec142",
        "colab": {
          "base_uri": "https://localhost:8080/",
          "height": 34
        }
      },
      "source": [
        "stringstore[13115865354982139976]"
      ],
      "execution_count": 16,
      "outputs": [
        {
          "output_type": "execute_result",
          "data": {
            "text/plain": [
              "'scala'"
            ]
          },
          "metadata": {
            "tags": []
          },
          "execution_count": 16
        }
      ]
    },
    {
      "cell_type": "markdown",
      "metadata": {
        "id": "DsuCpbypQV-E",
        "colab_type": "text"
      },
      "source": [
        "Funkcja hashowania"
      ]
    },
    {
      "cell_type": "code",
      "metadata": {
        "id": "WLOXEAn5PgJ1",
        "colab_type": "code",
        "outputId": "6cfb8e92-5ac7-480e-a3f6-2e1c03a26151",
        "colab": {
          "base_uri": "https://localhost:8080/",
          "height": 34
        }
      },
      "source": [
        "from spacy.strings import hash_string\n",
        "\n",
        "hash_string('scala')"
      ],
      "execution_count": 17,
      "outputs": [
        {
          "output_type": "execute_result",
          "data": {
            "text/plain": [
              "13115865354982139976"
            ]
          },
          "metadata": {
            "tags": []
          },
          "execution_count": 17
        }
      ]
    },
    {
      "cell_type": "code",
      "metadata": {
        "id": "YEj7USVpPtHM",
        "colab_type": "code",
        "outputId": "d49eef0d-f647-431e-f8d9-2291dd138553",
        "colab": {
          "base_uri": "https://localhost:8080/",
          "height": 34
        }
      },
      "source": [
        "hash_string('apple')"
      ],
      "execution_count": 18,
      "outputs": [
        {
          "output_type": "execute_result",
          "data": {
            "text/plain": [
              "8566208034543834098"
            ]
          },
          "metadata": {
            "tags": []
          },
          "execution_count": 18
        }
      ]
    },
    {
      "cell_type": "markdown",
      "metadata": {
        "id": "g7qK69roQeSm",
        "colab_type": "text"
      },
      "source": [
        "### <a name='3'></a> Klasa Language"
      ]
    },
    {
      "cell_type": "code",
      "metadata": {
        "id": "mmjDQB16Pwem",
        "colab_type": "code",
        "colab": {}
      },
      "source": [
        "from spacy.language import Language\n",
        "\n",
        "Language?"
      ],
      "execution_count": 0,
      "outputs": []
    },
    {
      "cell_type": "code",
      "metadata": {
        "id": "PWEZnwuNQ9XV",
        "colab_type": "code",
        "outputId": "abfa77a8-18c6-48c9-fc35-d5350b93f8d6",
        "colab": {
          "base_uri": "https://localhost:8080/",
          "height": 34
        }
      },
      "source": [
        "nlp = Language(Vocab())\n",
        "nlp"
      ],
      "execution_count": 20,
      "outputs": [
        {
          "output_type": "execute_result",
          "data": {
            "text/plain": [
              "<spacy.language.Language at 0x7f74c6d8ff28>"
            ]
          },
          "metadata": {
            "tags": []
          },
          "execution_count": 20
        }
      ]
    },
    {
      "cell_type": "code",
      "metadata": {
        "id": "TH9Pvc5oRE0e",
        "colab_type": "code",
        "colab": {}
      },
      "source": [
        "from spacy.lang.en import English\n",
        "\n",
        "English?"
      ],
      "execution_count": 0,
      "outputs": []
    },
    {
      "cell_type": "code",
      "metadata": {
        "id": "wiwc1kfzRLzz",
        "colab_type": "code",
        "outputId": "2ff6acd6-0983-4813-9bcd-61df8d30ea18",
        "colab": {
          "base_uri": "https://localhost:8080/",
          "height": 34
        }
      },
      "source": [
        "nlp = English()\n",
        "nlp"
      ],
      "execution_count": 22,
      "outputs": [
        {
          "output_type": "execute_result",
          "data": {
            "text/plain": [
              "<spacy.lang.en.English at 0x7f74552b7c88>"
            ]
          },
          "metadata": {
            "tags": []
          },
          "execution_count": 22
        }
      ]
    },
    {
      "cell_type": "code",
      "metadata": {
        "id": "wqFOGSE9RbKH",
        "colab_type": "code",
        "outputId": "0541c9de-a2a7-476b-d460-414e7587304d",
        "colab": {
          "base_uri": "https://localhost:8080/",
          "height": 34
        }
      },
      "source": [
        "nlp('Python is becoming more and more popular.')"
      ],
      "execution_count": 23,
      "outputs": [
        {
          "output_type": "execute_result",
          "data": {
            "text/plain": [
              "Python is becoming more and more popular."
            ]
          },
          "metadata": {
            "tags": []
          },
          "execution_count": 23
        }
      ]
    },
    {
      "cell_type": "code",
      "metadata": {
        "id": "1FUqazp1Rk4e",
        "colab_type": "code",
        "outputId": "252ffd3d-0762-4047-c749-77f7597c1574",
        "colab": {
          "base_uri": "https://localhost:8080/",
          "height": 34
        }
      },
      "source": [
        "doc = nlp('Python is becoming more and more popular.')\n",
        "doc"
      ],
      "execution_count": 24,
      "outputs": [
        {
          "output_type": "execute_result",
          "data": {
            "text/plain": [
              "Python is becoming more and more popular."
            ]
          },
          "metadata": {
            "tags": []
          },
          "execution_count": 24
        }
      ]
    },
    {
      "cell_type": "code",
      "metadata": {
        "id": "iAxzBUQRSqSJ",
        "colab_type": "code",
        "outputId": "06ff9b74-7f32-4995-c9c6-94ba48321150",
        "colab": {
          "base_uri": "https://localhost:8080/",
          "height": 34
        }
      },
      "source": [
        "nlp.vocab"
      ],
      "execution_count": 25,
      "outputs": [
        {
          "output_type": "execute_result",
          "data": {
            "text/plain": [
              "<spacy.vocab.Vocab at 0x7f7455299480>"
            ]
          },
          "metadata": {
            "tags": []
          },
          "execution_count": 25
        }
      ]
    },
    {
      "cell_type": "code",
      "metadata": {
        "id": "3_JXLIXTTBQz",
        "colab_type": "code",
        "outputId": "939095a1-53cc-4e1a-e2d1-096a5838070e",
        "colab": {
          "base_uri": "https://localhost:8080/",
          "height": 34
        }
      },
      "source": [
        "nlp.lang"
      ],
      "execution_count": 26,
      "outputs": [
        {
          "output_type": "execute_result",
          "data": {
            "text/plain": [
              "'en'"
            ]
          },
          "metadata": {
            "tags": []
          },
          "execution_count": 26
        }
      ]
    },
    {
      "cell_type": "code",
      "metadata": {
        "id": "TdbGb9MPTRGZ",
        "colab_type": "code",
        "outputId": "885bc6b0-3200-44e9-a2c5-01bbca68a60c",
        "colab": {
          "base_uri": "https://localhost:8080/",
          "height": 204
        }
      },
      "source": [
        "nlp.meta"
      ],
      "execution_count": 27,
      "outputs": [
        {
          "output_type": "execute_result",
          "data": {
            "text/plain": [
              "{'author': '',\n",
              " 'description': '',\n",
              " 'email': '',\n",
              " 'lang': 'en',\n",
              " 'license': '',\n",
              " 'name': 'model',\n",
              " 'pipeline': [],\n",
              " 'spacy_version': '>=2.1.9',\n",
              " 'url': '',\n",
              " 'vectors': {'keys': 0, 'name': None, 'vectors': 0, 'width': 0},\n",
              " 'version': '0.0.0'}"
            ]
          },
          "metadata": {
            "tags": []
          },
          "execution_count": 27
        }
      ]
    },
    {
      "cell_type": "markdown",
      "metadata": {
        "id": "yMppQVRyTd9o",
        "colab_type": "text"
      },
      "source": [
        "### <a name='4'></a> Klasa Doc\n",
        "Kontener do przechowywania informacji. Sekwencja Tokenów."
      ]
    },
    {
      "cell_type": "code",
      "metadata": {
        "id": "1SqQixNVTViz",
        "colab_type": "code",
        "outputId": "020110a7-5f7b-418e-da60-0e64cbbeab51",
        "colab": {
          "base_uri": "https://localhost:8080/",
          "height": 34
        }
      },
      "source": [
        "type(doc)"
      ],
      "execution_count": 28,
      "outputs": [
        {
          "output_type": "execute_result",
          "data": {
            "text/plain": [
              "spacy.tokens.doc.Doc"
            ]
          },
          "metadata": {
            "tags": []
          },
          "execution_count": 28
        }
      ]
    },
    {
      "cell_type": "code",
      "metadata": {
        "id": "fKv7pnDCTdGC",
        "colab_type": "code",
        "outputId": "77447e2d-4271-42cf-e256-76c1c387a04a",
        "colab": {
          "base_uri": "https://localhost:8080/",
          "height": 34
        }
      },
      "source": [
        "doc = nlp('Sample Doc object')\n",
        "doc"
      ],
      "execution_count": 29,
      "outputs": [
        {
          "output_type": "execute_result",
          "data": {
            "text/plain": [
              "Sample Doc object"
            ]
          },
          "metadata": {
            "tags": []
          },
          "execution_count": 29
        }
      ]
    },
    {
      "cell_type": "code",
      "metadata": {
        "id": "9XaGYiczdLp_",
        "colab_type": "code",
        "colab": {}
      },
      "source": [
        "from spacy.tokens import Doc\n",
        "\n",
        "Doc?"
      ],
      "execution_count": 0,
      "outputs": []
    },
    {
      "cell_type": "code",
      "metadata": {
        "id": "YvVyWwACdTFb",
        "colab_type": "code",
        "outputId": "42fe205f-1ed4-48c2-d271-3b0d2db72565",
        "colab": {
          "base_uri": "https://localhost:8080/",
          "height": 34
        }
      },
      "source": [
        "doc = Doc(nlp.vocab, words=['Hello', 'world', 'in', 'spaCy', '!'], spaces=[True, True, True, False, False])\n",
        "doc"
      ],
      "execution_count": 31,
      "outputs": [
        {
          "output_type": "execute_result",
          "data": {
            "text/plain": [
              "Hello world in spaCy!"
            ]
          },
          "metadata": {
            "tags": []
          },
          "execution_count": 31
        }
      ]
    },
    {
      "cell_type": "code",
      "metadata": {
        "id": "SOvOtSG-dd60",
        "colab_type": "code",
        "outputId": "6fe97e71-2b13-41f7-d44f-2f0238abc36b",
        "colab": {
          "base_uri": "https://localhost:8080/",
          "height": 34
        }
      },
      "source": [
        "doc[0]"
      ],
      "execution_count": 32,
      "outputs": [
        {
          "output_type": "execute_result",
          "data": {
            "text/plain": [
              "Hello"
            ]
          },
          "metadata": {
            "tags": []
          },
          "execution_count": 32
        }
      ]
    },
    {
      "cell_type": "code",
      "metadata": {
        "id": "6Fd0vJgyd9A1",
        "colab_type": "code",
        "outputId": "800c0fb0-cfa9-4417-80da-1fc3e1b13b90",
        "colab": {
          "base_uri": "https://localhost:8080/",
          "height": 34
        }
      },
      "source": [
        "doc[-1]"
      ],
      "execution_count": 33,
      "outputs": [
        {
          "output_type": "execute_result",
          "data": {
            "text/plain": [
              "!"
            ]
          },
          "metadata": {
            "tags": []
          },
          "execution_count": 33
        }
      ]
    },
    {
      "cell_type": "code",
      "metadata": {
        "id": "Yu1svKvSd-KS",
        "colab_type": "code",
        "outputId": "acf5d9a0-53a1-4be4-d36a-1b7d82f6f820",
        "colab": {
          "base_uri": "https://localhost:8080/",
          "height": 34
        }
      },
      "source": [
        "type(doc[0])"
      ],
      "execution_count": 34,
      "outputs": [
        {
          "output_type": "execute_result",
          "data": {
            "text/plain": [
              "spacy.tokens.token.Token"
            ]
          },
          "metadata": {
            "tags": []
          },
          "execution_count": 34
        }
      ]
    },
    {
      "cell_type": "code",
      "metadata": {
        "id": "m5qfZ1nxevPQ",
        "colab_type": "code",
        "outputId": "22744adb-aecb-4926-c8d4-036346ca7555",
        "colab": {
          "base_uri": "https://localhost:8080/",
          "height": 34
        }
      },
      "source": [
        "len(doc)"
      ],
      "execution_count": 35,
      "outputs": [
        {
          "output_type": "execute_result",
          "data": {
            "text/plain": [
              "5"
            ]
          },
          "metadata": {
            "tags": []
          },
          "execution_count": 35
        }
      ]
    },
    {
      "cell_type": "code",
      "metadata": {
        "id": "vSLEt-p0km63",
        "colab_type": "code",
        "colab": {
          "base_uri": "https://localhost:8080/",
          "height": 34
        },
        "outputId": "13361451-5fa0-489f-9ef3-f0966c533931"
      },
      "source": [
        "doc.lang_"
      ],
      "execution_count": 36,
      "outputs": [
        {
          "output_type": "execute_result",
          "data": {
            "text/plain": [
              "'en'"
            ]
          },
          "metadata": {
            "tags": []
          },
          "execution_count": 36
        }
      ]
    },
    {
      "cell_type": "code",
      "metadata": {
        "id": "fIt_qDEJeCO-",
        "colab_type": "code",
        "outputId": "6d1cbe63-5973-4059-cd91-e7103808102e",
        "colab": {
          "base_uri": "https://localhost:8080/",
          "height": 102
        }
      },
      "source": [
        "for token in doc:\n",
        "    print(f'type: {type(token)}: {token}')"
      ],
      "execution_count": 37,
      "outputs": [
        {
          "output_type": "stream",
          "text": [
            "type: <class 'spacy.tokens.token.Token'>: Hello\n",
            "type: <class 'spacy.tokens.token.Token'>: world\n",
            "type: <class 'spacy.tokens.token.Token'>: in\n",
            "type: <class 'spacy.tokens.token.Token'>: spaCy\n",
            "type: <class 'spacy.tokens.token.Token'>: !\n"
          ],
          "name": "stdout"
        }
      ]
    },
    {
      "cell_type": "code",
      "metadata": {
        "id": "dEj082XSeFes",
        "colab_type": "code",
        "outputId": "f2bf0af0-0c25-48dc-b0c5-e1a7f14eb1c9",
        "colab": {
          "base_uri": "https://localhost:8080/",
          "height": 34
        }
      },
      "source": [
        "doc[:2]"
      ],
      "execution_count": 38,
      "outputs": [
        {
          "output_type": "execute_result",
          "data": {
            "text/plain": [
              "Hello world"
            ]
          },
          "metadata": {
            "tags": []
          },
          "execution_count": 38
        }
      ]
    },
    {
      "cell_type": "code",
      "metadata": {
        "id": "qjdeH85yeZ5b",
        "colab_type": "code",
        "outputId": "a1009d53-fc22-44e3-f03f-a803b0969e49",
        "colab": {
          "base_uri": "https://localhost:8080/",
          "height": 34
        }
      },
      "source": [
        "type(doc[:2])"
      ],
      "execution_count": 39,
      "outputs": [
        {
          "output_type": "execute_result",
          "data": {
            "text/plain": [
              "spacy.tokens.span.Span"
            ]
          },
          "metadata": {
            "tags": []
          },
          "execution_count": 39
        }
      ]
    },
    {
      "cell_type": "markdown",
      "metadata": {
        "id": "EA0vLPO3fJhd",
        "colab_type": "text"
      },
      "source": [
        "Podobieństwo"
      ]
    },
    {
      "cell_type": "code",
      "metadata": {
        "id": "CdOmfFTbgTXt",
        "colab_type": "code",
        "outputId": "2ef7fdd9-1a32-4feb-992f-4db67a85ca50",
        "colab": {
          "base_uri": "https://localhost:8080/",
          "height": 88
        }
      },
      "source": [
        "!python -m spacy download en_core_web_md"
      ],
      "execution_count": 40,
      "outputs": [
        {
          "output_type": "stream",
          "text": [
            "Requirement already satisfied: en_core_web_md==2.1.0 from https://github.com/explosion/spacy-models/releases/download/en_core_web_md-2.1.0/en_core_web_md-2.1.0.tar.gz#egg=en_core_web_md==2.1.0 in /usr/local/lib/python3.6/dist-packages (2.1.0)\n",
            "\u001b[38;5;2m✔ Download and installation successful\u001b[0m\n",
            "You can now load the model via spacy.load('en_core_web_md')\n"
          ],
          "name": "stdout"
        }
      ]
    },
    {
      "cell_type": "code",
      "metadata": {
        "id": "3xpWsFm_gj4s",
        "colab_type": "code",
        "colab": {}
      },
      "source": [
        "nlp = spacy.load('en_core_web_md')"
      ],
      "execution_count": 0,
      "outputs": []
    },
    {
      "cell_type": "code",
      "metadata": {
        "id": "TKUxnRYfecnD",
        "colab_type": "code",
        "outputId": "9eb6ffea-8a45-4402-e21a-bb539403065e",
        "colab": {
          "base_uri": "https://localhost:8080/",
          "height": 34
        }
      },
      "source": [
        "doc1 = nlp('I like cars')\n",
        "doc2 = nlp('I like bikes')\n",
        "doc3 = nlp('She hates horror movies')\n",
        "\n",
        "doc1.similarity(doc2)"
      ],
      "execution_count": 42,
      "outputs": [
        {
          "output_type": "execute_result",
          "data": {
            "text/plain": [
              "0.8884695422092167"
            ]
          },
          "metadata": {
            "tags": []
          },
          "execution_count": 42
        }
      ]
    },
    {
      "cell_type": "code",
      "metadata": {
        "id": "5XVLjbo7fUu3",
        "colab_type": "code",
        "outputId": "5b87db28-2741-4e9c-b686-56dc711e7c35",
        "colab": {
          "base_uri": "https://localhost:8080/",
          "height": 34
        }
      },
      "source": [
        "doc1.similarity(doc3)"
      ],
      "execution_count": 43,
      "outputs": [
        {
          "output_type": "execute_result",
          "data": {
            "text/plain": [
              "0.5628471172779665"
            ]
          },
          "metadata": {
            "tags": []
          },
          "execution_count": 43
        }
      ]
    },
    {
      "cell_type": "markdown",
      "metadata": {
        "id": "7pl2w2WthkqO",
        "colab_type": "text"
      },
      "source": [
        "Export to json"
      ]
    },
    {
      "cell_type": "code",
      "metadata": {
        "id": "SJSuxrCTgscp",
        "colab_type": "code",
        "outputId": "822dd272-5972-4156-86e2-8bb1761a98bd",
        "colab": {
          "base_uri": "https://localhost:8080/",
          "height": 119
        }
      },
      "source": [
        "doc_json = doc.to_json()\n",
        "doc_json"
      ],
      "execution_count": 44,
      "outputs": [
        {
          "output_type": "execute_result",
          "data": {
            "text/plain": [
              "{'text': 'Hello world in spaCy!',\n",
              " 'tokens': [{'end': 5, 'id': 0, 'start': 0},\n",
              "  {'end': 11, 'id': 1, 'start': 6},\n",
              "  {'end': 14, 'id': 2, 'start': 12},\n",
              "  {'end': 20, 'id': 3, 'start': 15},\n",
              "  {'end': 21, 'id': 4, 'start': 20}]}"
            ]
          },
          "metadata": {
            "tags": []
          },
          "execution_count": 44
        }
      ]
    },
    {
      "cell_type": "code",
      "metadata": {
        "id": "vvv-cPjwhBnM",
        "colab_type": "code",
        "outputId": "9f2139f1-f497-453a-8ac9-2d1dd873c1b7",
        "colab": {
          "base_uri": "https://localhost:8080/",
          "height": 527
        }
      },
      "source": [
        "import json\n",
        "\n",
        "print(json.dumps(doc_json, indent=4, sort_keys=True))"
      ],
      "execution_count": 45,
      "outputs": [
        {
          "output_type": "stream",
          "text": [
            "{\n",
            "    \"text\": \"Hello world in spaCy!\",\n",
            "    \"tokens\": [\n",
            "        {\n",
            "            \"end\": 5,\n",
            "            \"id\": 0,\n",
            "            \"start\": 0\n",
            "        },\n",
            "        {\n",
            "            \"end\": 11,\n",
            "            \"id\": 1,\n",
            "            \"start\": 6\n",
            "        },\n",
            "        {\n",
            "            \"end\": 14,\n",
            "            \"id\": 2,\n",
            "            \"start\": 12\n",
            "        },\n",
            "        {\n",
            "            \"end\": 20,\n",
            "            \"id\": 3,\n",
            "            \"start\": 15\n",
            "        },\n",
            "        {\n",
            "            \"end\": 21,\n",
            "            \"id\": 4,\n",
            "            \"start\": 20\n",
            "        }\n",
            "    ]\n",
            "}\n"
          ],
          "name": "stdout"
        }
      ]
    },
    {
      "cell_type": "code",
      "metadata": {
        "id": "Nd61RGM1hXQW",
        "colab_type": "code",
        "outputId": "353aa98f-481c-42d8-ee00-bfdf9a50f907",
        "colab": {
          "base_uri": "https://localhost:8080/",
          "height": 102
        }
      },
      "source": [
        "from spacy.attrs import LOWER, IS_ALPHA\n",
        "\n",
        "doc.to_array([LOWER, IS_ALPHA])"
      ],
      "execution_count": 46,
      "outputs": [
        {
          "output_type": "execute_result",
          "data": {
            "text/plain": [
              "array([[ 5983625672228268878,                    1],\n",
              "       [ 1703489418272052182,                    1],\n",
              "       [ 3002984154512732771,                    1],\n",
              "       [10639093010105930009,                    1],\n",
              "       [17494803046312582752,                    0]], dtype=uint64)"
            ]
          },
          "metadata": {
            "tags": []
          },
          "execution_count": 46
        }
      ]
    },
    {
      "cell_type": "markdown",
      "metadata": {
        "id": "5YZg-QRkidvH",
        "colab_type": "text"
      },
      "source": [
        "NER - Named Entity Recognition"
      ]
    },
    {
      "cell_type": "code",
      "metadata": {
        "id": "gT0dmO4hiKod",
        "colab_type": "code",
        "outputId": "456b0c32-0267-49d0-c970-627d23ecc5f0",
        "colab": {
          "base_uri": "https://localhost:8080/",
          "height": 34
        }
      },
      "source": [
        "doc = nlp('She is going to fly to London next week')\n",
        "doc.ents"
      ],
      "execution_count": 47,
      "outputs": [
        {
          "output_type": "execute_result",
          "data": {
            "text/plain": [
              "(London, next week)"
            ]
          },
          "metadata": {
            "tags": []
          },
          "execution_count": 47
        }
      ]
    },
    {
      "cell_type": "code",
      "metadata": {
        "id": "r9JbWVhvirP7",
        "colab_type": "code",
        "outputId": "02ff88f4-fdd1-41c5-c9fe-1cd31846e215",
        "colab": {
          "base_uri": "https://localhost:8080/",
          "height": 51
        }
      },
      "source": [
        "for entity in doc.ents:\n",
        "    print(f'{entity.text.ljust(13)}: {entity.label_}')"
      ],
      "execution_count": 48,
      "outputs": [
        {
          "output_type": "stream",
          "text": [
            "London       : GPE\n",
            "next week    : DATE\n"
          ],
          "name": "stdout"
        }
      ]
    },
    {
      "cell_type": "code",
      "metadata": {
        "id": "bnvQLh9Ri0dx",
        "colab_type": "code",
        "outputId": "b64e6e65-8ada-4e5e-f5ff-6bba39a98166",
        "colab": {
          "base_uri": "https://localhost:8080/",
          "height": 34
        }
      },
      "source": [
        "spacy.explain('GPE')"
      ],
      "execution_count": 49,
      "outputs": [
        {
          "output_type": "execute_result",
          "data": {
            "text/plain": [
              "'Countries, cities, states'"
            ]
          },
          "metadata": {
            "tags": []
          },
          "execution_count": 49
        }
      ]
    },
    {
      "cell_type": "code",
      "metadata": {
        "id": "woG1s_4gi9z6",
        "colab_type": "code",
        "outputId": "da98e3ea-ba21-45f8-ab97-a44f0aa7e5e3",
        "colab": {
          "base_uri": "https://localhost:8080/",
          "height": 34
        }
      },
      "source": [
        "spacy.explain('DATE')"
      ],
      "execution_count": 50,
      "outputs": [
        {
          "output_type": "execute_result",
          "data": {
            "text/plain": [
              "'Absolute or relative dates or periods'"
            ]
          },
          "metadata": {
            "tags": []
          },
          "execution_count": 50
        }
      ]
    },
    {
      "cell_type": "code",
      "metadata": {
        "id": "mTlfksVMjBhk",
        "colab_type": "code",
        "outputId": "b93eed88-8b87-4d57-c652-d1a0beec26b1",
        "colab": {
          "base_uri": "https://localhost:8080/",
          "height": 51
        }
      },
      "source": [
        "for chunk in doc.noun_chunks:\n",
        "    print(chunk)"
      ],
      "execution_count": 51,
      "outputs": [
        {
          "output_type": "stream",
          "text": [
            "She\n",
            "London\n"
          ],
          "name": "stdout"
        }
      ]
    },
    {
      "cell_type": "code",
      "metadata": {
        "id": "qWXtbrqmjH9r",
        "colab_type": "code",
        "outputId": "fdae1672-c529-49cf-d5b8-5efe42a29a15",
        "colab": {
          "base_uri": "https://localhost:8080/",
          "height": 51
        }
      },
      "source": [
        "doc = nlp('Python is awesome. It is really good.')\n",
        "\n",
        "for sentence in doc.sents:\n",
        "    print(f'type: {type(sentence)}: {sentence}')"
      ],
      "execution_count": 52,
      "outputs": [
        {
          "output_type": "stream",
          "text": [
            "type: <class 'spacy.tokens.span.Span'>: Python is awesome.\n",
            "type: <class 'spacy.tokens.span.Span'>: It is really good.\n"
          ],
          "name": "stdout"
        }
      ]
    },
    {
      "cell_type": "markdown",
      "metadata": {
        "id": "UrjdIdnvkqJv",
        "colab_type": "text"
      },
      "source": [
        "### <a name='5'></a> Klasa Token\n",
        "\n",
        "Pojedynczy token (słowo, znak interpunkcyjny, spacja, itd.)"
      ]
    },
    {
      "cell_type": "code",
      "metadata": {
        "id": "dIqNoBnakELu",
        "colab_type": "code",
        "outputId": "370ef902-48cc-490e-cc7c-25dcf3f99df7",
        "colab": {
          "base_uri": "https://localhost:8080/",
          "height": 119
        }
      },
      "source": [
        "doc = nlp('NLP Bootcamp in Python. 2020')\n",
        "\n",
        "for token in doc:\n",
        "    print(f'type: {type(token)}: {token}')"
      ],
      "execution_count": 53,
      "outputs": [
        {
          "output_type": "stream",
          "text": [
            "type: <class 'spacy.tokens.token.Token'>: NLP\n",
            "type: <class 'spacy.tokens.token.Token'>: Bootcamp\n",
            "type: <class 'spacy.tokens.token.Token'>: in\n",
            "type: <class 'spacy.tokens.token.Token'>: Python\n",
            "type: <class 'spacy.tokens.token.Token'>: .\n",
            "type: <class 'spacy.tokens.token.Token'>: 2020\n"
          ],
          "name": "stdout"
        }
      ]
    },
    {
      "cell_type": "code",
      "metadata": {
        "id": "46yaV8QtlbCp",
        "colab_type": "code",
        "outputId": "30f4ff26-50c2-469c-9d15-e7f5de3adadc",
        "colab": {
          "base_uri": "https://localhost:8080/",
          "height": 34
        }
      },
      "source": [
        "token1 = doc[0]\n",
        "token2 = doc[1]\n",
        "token1"
      ],
      "execution_count": 54,
      "outputs": [
        {
          "output_type": "execute_result",
          "data": {
            "text/plain": [
              "NLP"
            ]
          },
          "metadata": {
            "tags": []
          },
          "execution_count": 54
        }
      ]
    },
    {
      "cell_type": "code",
      "metadata": {
        "id": "oJXfxeL4lgz2",
        "colab_type": "code",
        "outputId": "dc54d850-431e-4fa4-e359-cc1dcfb6a0a1",
        "colab": {
          "base_uri": "https://localhost:8080/",
          "height": 34
        }
      },
      "source": [
        "len(token1)"
      ],
      "execution_count": 55,
      "outputs": [
        {
          "output_type": "execute_result",
          "data": {
            "text/plain": [
              "3"
            ]
          },
          "metadata": {
            "tags": []
          },
          "execution_count": 55
        }
      ]
    },
    {
      "cell_type": "code",
      "metadata": {
        "id": "WxpUSvsqlpUc",
        "colab_type": "code",
        "outputId": "b0f9f2d0-54f9-415e-bf94-5257c089fdd2",
        "colab": {
          "base_uri": "https://localhost:8080/",
          "height": 34
        }
      },
      "source": [
        "token1.similarity(token2)"
      ],
      "execution_count": 56,
      "outputs": [
        {
          "output_type": "execute_result",
          "data": {
            "text/plain": [
              "0.18886003"
            ]
          },
          "metadata": {
            "tags": []
          },
          "execution_count": 56
        }
      ]
    },
    {
      "cell_type": "code",
      "metadata": {
        "id": "Qp3DdGeBl1hH",
        "colab_type": "code",
        "outputId": "27af798c-8633-4b2a-946b-e5947f9761e8",
        "colab": {
          "base_uri": "https://localhost:8080/",
          "height": 34
        }
      },
      "source": [
        "token1.nbor()"
      ],
      "execution_count": 57,
      "outputs": [
        {
          "output_type": "execute_result",
          "data": {
            "text/plain": [
              "Bootcamp"
            ]
          },
          "metadata": {
            "tags": []
          },
          "execution_count": 57
        }
      ]
    },
    {
      "cell_type": "code",
      "metadata": {
        "id": "X066b-srmCeb",
        "colab_type": "code",
        "outputId": "3b43c54f-efd6-44a0-c64b-d7f351167b03",
        "colab": {
          "base_uri": "https://localhost:8080/",
          "height": 34
        }
      },
      "source": [
        "token1.nbor(2)"
      ],
      "execution_count": 58,
      "outputs": [
        {
          "output_type": "execute_result",
          "data": {
            "text/plain": [
              "in"
            ]
          },
          "metadata": {
            "tags": []
          },
          "execution_count": 58
        }
      ]
    },
    {
      "cell_type": "code",
      "metadata": {
        "id": "v-aIqM3-mJ3H",
        "colab_type": "code",
        "outputId": "89b1be41-649b-43aa-ceb1-b94d64f02f7a",
        "colab": {
          "base_uri": "https://localhost:8080/",
          "height": 323
        }
      },
      "source": [
        "token1.vector"
      ],
      "execution_count": 59,
      "outputs": [
        {
          "output_type": "execute_result",
          "data": {
            "text/plain": [
              "array([-0.008069,  0.17201 , -0.36143 , -0.52395 , -0.15279 , -0.34861 , -0.036767, -0.53732 ,  0.44094 , -0.36079 , -0.4784  , -0.056812, -0.24766 ,  0.10597 ,  0.41365 , -1.088   ,  0.19286 ,\n",
              "        0.28928 , -0.087171,  0.77045 ,  0.25926 ,  0.060863, -0.12351 , -0.38785 , -0.42876 ,  0.48097 ,  0.48476 , -0.42188 , -0.18591 ,  0.067789,  0.51135 , -0.63264 ,  0.072284,  0.91496 ,\n",
              "        0.3255  ,  0.99644 , -0.24083 ,  0.11028 , -0.54889 ,  0.36591 , -0.09808 , -0.3543  , -0.23814 ,  0.49636 ,  0.10786 ,  0.031344, -0.27557 ,  0.28765 , -0.63515 , -0.20711 , -0.44874 ,\n",
              "       -0.50543 ,  0.10289 ,  0.27115 , -0.074156,  0.57831 , -0.25995 ,  0.18628 , -0.22099 , -0.46459 , -0.11055 ,  0.39854 ,  0.15971 , -0.8858  ,  0.29029 , -0.24326 , -0.047822, -0.097751,\n",
              "       -0.49836 ,  0.24001 , -0.22119 , -0.15564 ,  0.42348 , -0.036272,  1.1548  ,  0.31605 ,  0.088542, -0.031927, -0.063066, -0.048259,  0.020346,  0.16526 ,  0.48541 ,  0.25581 , -0.51612 ,\n",
              "       -0.2273  ,  1.0575  , -0.8083  ,  0.055999, -0.29787 , -0.28641 ,  0.08266 ,  0.088037, -0.048004, -0.20818 , -0.051167,  0.36321 , -0.71516 ,  0.063304, -1.0239  , -0.11567 ,  0.004321,\n",
              "        0.23609 ,  0.064734,  0.081885, -1.9807  ,  0.18874 ,  0.10143 , -0.33867 ,  0.075872, -0.49032 , -0.36595 , -0.18845 , -0.080881, -0.19707 ,  0.73221 , -0.32061 , -0.11996 ,  0.57567 ,\n",
              "       -0.21523 ,  0.21882 , -0.006837, -0.12269 , -0.096942, -0.029382,  0.43065 , -0.70042 , -0.03663 ,  0.35463 , -0.33172 , -0.3929  , -0.64374 , -0.81228 ,  0.041261,  0.45013 , -0.34736 ,\n",
              "       -0.097275, -0.16342 , -0.055496, -0.39753 , -0.36672 ,  0.66679 , -0.054053,  0.52131 ,  0.49966 ,  0.16281 ,  0.16773 ,  0.17052 , -0.28781 , -0.31941 , -0.056714, -0.65757 , -0.055213,\n",
              "        0.094287, -0.41753 , -0.009948,  0.35859 , -0.3583  , -0.39562 , -0.44507 , -0.2755  , -0.16131 , -0.65154 ,  0.13316 ,  0.42209 , -0.029555, -0.42262 , -0.077319, -0.14587 , -0.29419 ,\n",
              "       -0.40894 , -0.16328 ,  0.26921 ,  0.26955 ,  0.11    , -0.20865 ,  0.46751 ,  0.22874 ,  0.2829  ,  0.17569 ,  0.67821 ,  0.23541 , -0.90776 ,  0.41344 ,  0.49803 ,  0.10693 ,  0.31922 ,\n",
              "        0.84183 ,  0.037831, -0.35726 , -0.12281 , -0.31795 , -0.30857 , -0.91246 , -0.45557 ,  0.056292,  0.13218 , -0.59133 ,  1.0699  , -0.23665 , -0.68037 , -0.41814 ,  0.21918 ,  0.41373 ,\n",
              "       -0.3897  ,  0.052102, -0.11587 , -0.1232  , -0.78361 , -0.094418, -0.29128 ,  0.72153 ,  0.50136 ,  0.13189 , -0.63968 , -0.2523  , -0.28444 ,  0.29659 ,  0.51556 ,  0.072911, -0.6206  ,\n",
              "        0.37613 ,  0.16979 , -0.89081 , -0.80593 ,  0.10588 ,  0.45481 ,  0.01824 , -0.43123 , -0.39197 , -0.2355  ,  0.083242,  0.80196 , -0.11903 ,  0.37487 , -0.052276,  0.40123 ,  0.58962 ,\n",
              "       -0.20418 , -0.62036 ,  0.39894 ,  0.54031 , -0.19601 , -0.6514  , -0.27663 ,  0.021055, -0.609   , -0.013596, -0.22885 , -0.6003  ,  0.6758  , -0.43675 ,  0.015452, -0.36667 ,  0.44217 ,\n",
              "       -0.83882 , -0.68263 , -0.38946 ,  0.22731 ,  0.29086 , -0.069119, -0.34048 ,  0.20938 ,  0.10592 ,  0.22526 ,  0.11047 , -0.53391 ,  0.10466 , -0.48908 , -0.01534 , -0.52741 , -0.10003 ,\n",
              "       -0.26274 , -0.089274, -0.16102 , -0.5606  , -0.38068 , -0.62487 , -0.08466 ,  0.035755,  0.18811 ,  0.1949  , -0.24743 , -0.50669 ,  0.18283 ,  0.8632  ,  0.085555, -0.057575, -0.098477,\n",
              "        0.37928 ,  0.36104 , -0.18173 , -0.45813 ,  0.98848 ,  0.49311 , -0.098344,  0.37193 ,  0.28615 , -0.71471 ,  0.46446 ], dtype=float32)"
            ]
          },
          "metadata": {
            "tags": []
          },
          "execution_count": 59
        }
      ]
    },
    {
      "cell_type": "code",
      "metadata": {
        "id": "uxRVL08mmnf-",
        "colab_type": "code",
        "outputId": "62334a9c-3e82-4a14-fc75-40bc74620651",
        "colab": {
          "base_uri": "https://localhost:8080/",
          "height": 34
        }
      },
      "source": [
        "token1.vector.shape"
      ],
      "execution_count": 60,
      "outputs": [
        {
          "output_type": "execute_result",
          "data": {
            "text/plain": [
              "(300,)"
            ]
          },
          "metadata": {
            "tags": []
          },
          "execution_count": 60
        }
      ]
    },
    {
      "cell_type": "code",
      "metadata": {
        "id": "XKVxiQXhmpKL",
        "colab_type": "code",
        "outputId": "9be208bf-7da7-4228-aab8-f50a69d12e77",
        "colab": {
          "base_uri": "https://localhost:8080/",
          "height": 34
        }
      },
      "source": [
        "# atrybuty \n",
        "token1.doc"
      ],
      "execution_count": 61,
      "outputs": [
        {
          "output_type": "execute_result",
          "data": {
            "text/plain": [
              "NLP Bootcamp in Python. 2020"
            ]
          },
          "metadata": {
            "tags": []
          },
          "execution_count": 61
        }
      ]
    },
    {
      "cell_type": "code",
      "metadata": {
        "id": "W0nx6WA5mta4",
        "colab_type": "code",
        "outputId": "67cb797e-b83b-42c2-80b5-8c8247597302",
        "colab": {
          "base_uri": "https://localhost:8080/",
          "height": 34
        }
      },
      "source": [
        "token1.sent"
      ],
      "execution_count": 62,
      "outputs": [
        {
          "output_type": "execute_result",
          "data": {
            "text/plain": [
              "NLP Bootcamp in Python."
            ]
          },
          "metadata": {
            "tags": []
          },
          "execution_count": 62
        }
      ]
    },
    {
      "cell_type": "code",
      "metadata": {
        "id": "BrmDzDsom0BX",
        "colab_type": "code",
        "outputId": "4d922371-8dd6-4ad4-a865-25246b2e1aec",
        "colab": {
          "base_uri": "https://localhost:8080/",
          "height": 34
        }
      },
      "source": [
        "token2.text"
      ],
      "execution_count": 63,
      "outputs": [
        {
          "output_type": "execute_result",
          "data": {
            "text/plain": [
              "'Bootcamp'"
            ]
          },
          "metadata": {
            "tags": []
          },
          "execution_count": 63
        }
      ]
    },
    {
      "cell_type": "code",
      "metadata": {
        "id": "DkbE2__vm9oY",
        "colab_type": "code",
        "outputId": "0ac61163-5b72-4340-b550-4d0d009f8e6b",
        "colab": {
          "base_uri": "https://localhost:8080/",
          "height": 34
        }
      },
      "source": [
        "token2.pos_"
      ],
      "execution_count": 64,
      "outputs": [
        {
          "output_type": "execute_result",
          "data": {
            "text/plain": [
              "'PROPN'"
            ]
          },
          "metadata": {
            "tags": []
          },
          "execution_count": 64
        }
      ]
    },
    {
      "cell_type": "code",
      "metadata": {
        "id": "mjyIDHfQnJCp",
        "colab_type": "code",
        "outputId": "2e5bc1f7-b210-4f04-bd56-5bbaaa32af85",
        "colab": {
          "base_uri": "https://localhost:8080/",
          "height": 34
        }
      },
      "source": [
        "spacy.explain('PROPN')"
      ],
      "execution_count": 65,
      "outputs": [
        {
          "output_type": "execute_result",
          "data": {
            "text/plain": [
              "'proper noun'"
            ]
          },
          "metadata": {
            "tags": []
          },
          "execution_count": 65
        }
      ]
    },
    {
      "cell_type": "markdown",
      "metadata": {
        "id": "XrqhJyUtnZxp",
        "colab_type": "text"
      },
      "source": [
        "### <a name='6'></a> Klasa Span\n",
        "Wycinek z obiektu Doc"
      ]
    },
    {
      "cell_type": "code",
      "metadata": {
        "id": "fr7lRAF4nbaV",
        "colab_type": "code",
        "outputId": "9affd5f5-399a-4a8f-a0cb-d94561610d4e",
        "colab": {
          "base_uri": "https://localhost:8080/",
          "height": 34
        }
      },
      "source": [
        "span = doc[1:4]\n",
        "span"
      ],
      "execution_count": 66,
      "outputs": [
        {
          "output_type": "execute_result",
          "data": {
            "text/plain": [
              "Bootcamp in Python"
            ]
          },
          "metadata": {
            "tags": []
          },
          "execution_count": 66
        }
      ]
    },
    {
      "cell_type": "code",
      "metadata": {
        "id": "aPhWaPDBuwQ_",
        "colab_type": "code",
        "outputId": "6762d6f6-ea58-40f5-8e11-54601264b8df",
        "colab": {
          "base_uri": "https://localhost:8080/",
          "height": 34
        }
      },
      "source": [
        "type(span)"
      ],
      "execution_count": 67,
      "outputs": [
        {
          "output_type": "execute_result",
          "data": {
            "text/plain": [
              "spacy.tokens.span.Span"
            ]
          },
          "metadata": {
            "tags": []
          },
          "execution_count": 67
        }
      ]
    },
    {
      "cell_type": "code",
      "metadata": {
        "id": "19cQ0yDGu55z",
        "colab_type": "code",
        "outputId": "908ea2fc-2c15-4123-e270-dae4d2bee386",
        "colab": {
          "base_uri": "https://localhost:8080/",
          "height": 68
        }
      },
      "source": [
        "for token in span:\n",
        "    print(f'type: {type(token)}: {token}')"
      ],
      "execution_count": 68,
      "outputs": [
        {
          "output_type": "stream",
          "text": [
            "type: <class 'spacy.tokens.token.Token'>: Bootcamp\n",
            "type: <class 'spacy.tokens.token.Token'>: in\n",
            "type: <class 'spacy.tokens.token.Token'>: Python\n"
          ],
          "name": "stdout"
        }
      ]
    },
    {
      "cell_type": "code",
      "metadata": {
        "id": "XbgHcckXvUgh",
        "colab_type": "code",
        "colab": {}
      },
      "source": [
        ""
      ],
      "execution_count": 0,
      "outputs": []
    }
  ]
}