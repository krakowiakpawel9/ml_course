{
  "nbformat": 4,
  "nbformat_minor": 0,
  "metadata": {
    "colab": {
      "name": "01_preprocessing.ipynb",
      "provenance": [],
      "include_colab_link": true
    },
    "kernelspec": {
      "name": "python3",
      "display_name": "Python 3"
    }
  },
  "cells": [
    {
      "cell_type": "markdown",
      "metadata": {
        "id": "view-in-github",
        "colab_type": "text"
      },
      "source": [
        "<a href=\"https://colab.research.google.com/github/krakowiakpawel9/ml_course/blob/master/x/04_spacy/05_tokenization.ipynb\" target=\"_parent\"><img src=\"https://colab.research.google.com/assets/colab-badge.svg\" alt=\"Open In Colab\"/></a>"
      ]
    },
    {
      "cell_type": "markdown",
      "metadata": {
        "id": "UbjsT92Xd3z1",
        "colab_type": "text"
      },
      "source": [
        "* @author: krakowiakpawel9@gmail.com  \n",
        "* @site: e-smartdata.org\n",
        "\n",
        "### spaCy\n",
        "Strona biblioteki: [https://spacy.io/](https://spacy.io/)  \n",
        "\n",
        "Podstawowa biblioteka do przetwarzania języka naturalnego w języku Python.\n",
        "\n",
        "Aby zainstalować bibliotekę spaCy, użyj polecenia poniżej:\n",
        "```\n",
        "!pip install spacy\n",
        "```\n",
        "Aby zaktualizować do najnowszej wersji użyj polecenia poniżej:\n",
        "```\n",
        "!pip install --upgrade spacy\n",
        "```\n",
        "Kurs stworzony w oparciu o wersję `2.1.9`\n",
        "\n",
        "### Spis treści:\n",
        "1. [Import bibliotek](#0)\n",
        "2. [Tokenizacja](#1)\n",
        "3. [Dodawanie reguł tokenizacji](#2)\n",
        "4. [Tokenizacja zdań](#3)\n"
      ]
    },
    {
      "cell_type": "markdown",
      "metadata": {
        "id": "YkIALacsUnj7",
        "colab_type": "text"
      },
      "source": [
        "### <a name='0'></a> Import bibliotek"
      ]
    },
    {
      "cell_type": "code",
      "metadata": {
        "id": "4LkA1g0SIZ5C",
        "colab_type": "code",
        "colab": {}
      },
      "source": [
        "import spacy\n",
        "\n",
        "nlp = spacy.load('en_core_web_sm')"
      ],
      "execution_count": 0,
      "outputs": []
    },
    {
      "cell_type": "markdown",
      "metadata": {
        "id": "UmOo-vsxCJ-8",
        "colab_type": "text"
      },
      "source": [
        "### <a name='1'></a> Tokenizacja"
      ]
    },
    {
      "cell_type": "code",
      "metadata": {
        "id": "fOwWqYZdIbuE",
        "colab_type": "code",
        "outputId": "e45c1318-900a-41fc-fe15-b8086cb736cd",
        "colab": {
          "base_uri": "https://localhost:8080/",
          "height": 187
        }
      },
      "source": [
        "doc = nlp('e_smartdata: online courses - learn on your schedule.')\n",
        "\n",
        "for token in doc:\n",
        "    print(token)"
      ],
      "execution_count": 2,
      "outputs": [
        {
          "output_type": "stream",
          "text": [
            "e_smartdata\n",
            ":\n",
            "online\n",
            "courses\n",
            "-\n",
            "learn\n",
            "on\n",
            "your\n",
            "schedule\n",
            ".\n"
          ],
          "name": "stdout"
        }
      ]
    },
    {
      "cell_type": "code",
      "metadata": {
        "id": "C4RnQcpm1mt5",
        "colab_type": "code",
        "outputId": "8e58c684-5c7d-4829-ce93-8a1f4afdefa4",
        "colab": {
          "base_uri": "https://localhost:8080/",
          "height": 187
        }
      },
      "source": [
        "for token in doc:\n",
        "    print(type(token), token)"
      ],
      "execution_count": 3,
      "outputs": [
        {
          "output_type": "stream",
          "text": [
            "<class 'spacy.tokens.token.Token'> e_smartdata\n",
            "<class 'spacy.tokens.token.Token'> :\n",
            "<class 'spacy.tokens.token.Token'> online\n",
            "<class 'spacy.tokens.token.Token'> courses\n",
            "<class 'spacy.tokens.token.Token'> -\n",
            "<class 'spacy.tokens.token.Token'> learn\n",
            "<class 'spacy.tokens.token.Token'> on\n",
            "<class 'spacy.tokens.token.Token'> your\n",
            "<class 'spacy.tokens.token.Token'> schedule\n",
            "<class 'spacy.tokens.token.Token'> .\n"
          ],
          "name": "stdout"
        }
      ]
    },
    {
      "cell_type": "code",
      "metadata": {
        "id": "Hn7sFpqI1vyq",
        "colab_type": "code",
        "outputId": "5024dcf2-0dba-452d-fdcf-b7b1db27507e",
        "colab": {
          "base_uri": "https://localhost:8080/",
          "height": 187
        }
      },
      "source": [
        "tokens = [token.text for token in doc]\n",
        "tokens"
      ],
      "execution_count": 4,
      "outputs": [
        {
          "output_type": "execute_result",
          "data": {
            "text/plain": [
              "['e_smartdata',\n",
              " ':',\n",
              " 'online',\n",
              " 'courses',\n",
              " '-',\n",
              " 'learn',\n",
              " 'on',\n",
              " 'your',\n",
              " 'schedule',\n",
              " '.']"
            ]
          },
          "metadata": {
            "tags": []
          },
          "execution_count": 4
        }
      ]
    },
    {
      "cell_type": "markdown",
      "metadata": {
        "id": "_J4PH4wO-F6d",
        "colab_type": "text"
      },
      "source": [
        "### <a name='2'></a> Dodawanie reguł tokenizacji"
      ]
    },
    {
      "cell_type": "code",
      "metadata": {
        "id": "C5HLnKzc-Kw7",
        "colab_type": "code",
        "outputId": "0338dd19-0484-4deb-f6de-58adee6354fa",
        "colab": {
          "base_uri": "https://localhost:8080/",
          "height": 85
        }
      },
      "source": [
        "doc = nlp('e_smartdata: online courses')\n",
        "\n",
        "for token in doc:\n",
        "    print(token)"
      ],
      "execution_count": 5,
      "outputs": [
        {
          "output_type": "stream",
          "text": [
            "e_smartdata\n",
            ":\n",
            "online\n",
            "courses\n"
          ],
          "name": "stdout"
        }
      ]
    },
    {
      "cell_type": "code",
      "metadata": {
        "id": "nRFk0W5R_JTv",
        "colab_type": "code",
        "colab": {}
      },
      "source": [
        "from spacy.symbols import ORTH\n",
        "\n",
        "nlp = spacy.load('en_core_web_sm')\n",
        "nlp.tokenizer.add_special_case('e_smartdata', [{ORTH: 'e_smart'}, {ORTH: 'data'}])"
      ],
      "execution_count": 0,
      "outputs": []
    },
    {
      "cell_type": "code",
      "metadata": {
        "id": "K-q6m-pg_CZM",
        "colab_type": "code",
        "outputId": "bd8ea4de-7b96-4f8e-8db3-db0ffb1027c4",
        "colab": {
          "base_uri": "https://localhost:8080/",
          "height": 102
        }
      },
      "source": [
        "doc = nlp('e_smartdata: online courses')\n",
        "\n",
        "for token in doc:\n",
        "    print(token)"
      ],
      "execution_count": 7,
      "outputs": [
        {
          "output_type": "stream",
          "text": [
            "e_smart\n",
            "data\n",
            ":\n",
            "online\n",
            "courses\n"
          ],
          "name": "stdout"
        }
      ]
    },
    {
      "cell_type": "code",
      "metadata": {
        "id": "F_hKRvIsAhX0",
        "colab_type": "code",
        "outputId": "99fb4a19-3789-4d08-9751-93fb8406c8e5",
        "colab": {
          "base_uri": "https://localhost:8080/",
          "height": 119
        }
      },
      "source": [
        "doc = nlp('e_smartdata: online courses :)')\n",
        "\n",
        "for token in doc:\n",
        "    print(token)"
      ],
      "execution_count": 8,
      "outputs": [
        {
          "output_type": "stream",
          "text": [
            "e_smart\n",
            "data\n",
            ":\n",
            "online\n",
            "courses\n",
            ":)\n"
          ],
          "name": "stdout"
        }
      ]
    },
    {
      "cell_type": "markdown",
      "metadata": {
        "id": "PRXhfzZeCLpk",
        "colab_type": "text"
      },
      "source": [
        "### <a name='3'></a> Tokenizacja zdań"
      ]
    },
    {
      "cell_type": "code",
      "metadata": {
        "id": "FKdcFPn1CMNp",
        "colab_type": "code",
        "outputId": "762d1fd0-7b53-495d-f476-42bbd63af86c",
        "colab": {
          "base_uri": "https://localhost:8080/",
          "height": 136
        }
      },
      "source": [
        "# nlp = spacy.load('en_core_web_sm')\n",
        "doc = nlp('Be careful! Anything could happen.')\n",
        "\n",
        "for token in doc:\n",
        "    print(token)"
      ],
      "execution_count": 9,
      "outputs": [
        {
          "output_type": "stream",
          "text": [
            "Be\n",
            "careful\n",
            "!\n",
            "Anything\n",
            "could\n",
            "happen\n",
            ".\n"
          ],
          "name": "stdout"
        }
      ]
    },
    {
      "cell_type": "code",
      "metadata": {
        "id": "h0UJ10fRCnj-",
        "colab_type": "code",
        "outputId": "1e3fcabf-857b-44e2-a2cf-21de22bf87e5",
        "colab": {
          "base_uri": "https://localhost:8080/",
          "height": 51
        }
      },
      "source": [
        "for sent in doc.sents:\n",
        "    print(sent)"
      ],
      "execution_count": 10,
      "outputs": [
        {
          "output_type": "stream",
          "text": [
            "Be careful!\n",
            "Anything could happen.\n"
          ],
          "name": "stdout"
        }
      ]
    },
    {
      "cell_type": "code",
      "metadata": {
        "id": "tjWZxeXXCwXm",
        "colab_type": "code",
        "outputId": "4e5387c7-dc85-4900-ee53-557eaf59e94a",
        "colab": {
          "base_uri": "https://localhost:8080/",
          "height": 34
        }
      },
      "source": [
        "type(sent)"
      ],
      "execution_count": 11,
      "outputs": [
        {
          "output_type": "execute_result",
          "data": {
            "text/plain": [
              "spacy.tokens.span.Span"
            ]
          },
          "metadata": {
            "tags": []
          },
          "execution_count": 11
        }
      ]
    }
  ]
}