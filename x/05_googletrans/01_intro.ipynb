{
  "nbformat": 4,
  "nbformat_minor": 0,
  "metadata": {
    "colab": {
      "name": "01_preprocessing.ipynb",
      "provenance": [],
      "include_colab_link": true
    },
    "kernelspec": {
      "name": "python3",
      "display_name": "Python 3"
    }
  },
  "cells": [
    {
      "cell_type": "markdown",
      "metadata": {
        "id": "view-in-github",
        "colab_type": "text"
      },
      "source": [
        "<a href=\"https://colab.research.google.com/github/krakowiakpawel9/ml_course/blob/master/x/05_googletrans/01_intro.ipynb\" target=\"_parent\"><img src=\"https://colab.research.google.com/assets/colab-badge.svg\" alt=\"Open In Colab\"/></a>"
      ]
    },
    {
      "cell_type": "markdown",
      "metadata": {
        "id": "UbjsT92Xd3z1",
        "colab_type": "text"
      },
      "source": [
        "* @author: krakowiakpawel9@gmail.com  \n",
        "* @site: e-smartdata.org\n",
        "\n",
        "### nltk\n",
        "Strona biblioteki: [https://www.nltk.org/](https://www.nltk.org/)  \n",
        "\n",
        "Podstawowa biblioteka do przetwarzania języka naturalnego w języku Python.\n",
        "\n",
        "Aby zainstalować bibliotekę nltk, użyj polecenia poniżej:\n",
        "```\n",
        "!pip install nltk\n",
        "```\n",
        "Aby zaktualizować do najnowszej wersji użyj polecenia poniżej:\n",
        "```\n",
        "!pip install --upgrade nltk\n",
        "```\n",
        "Kurs stworzony w oparciu o wersję `3.2.5`\n",
        "\n",
        "### Spis treści:\n",
        "1. [Import bibliotek](#0)\n",
        "2. [Detekcja języka](#1)\n",
        "3. [Tłumaczenie](#2)\n",
        "\n"
      ]
    },
    {
      "cell_type": "code",
      "metadata": {
        "id": "tXHI3YA759JH",
        "colab_type": "code",
        "colab": {
          "base_uri": "https://localhost:8080/",
          "height": 119
        },
        "outputId": "e342e112-63dd-4782-8db8-ce70986406f2"
      },
      "source": [
        "!pip install googletrans"
      ],
      "execution_count": 1,
      "outputs": [
        {
          "output_type": "stream",
          "text": [
            "Requirement already satisfied: googletrans in /usr/local/lib/python3.6/dist-packages (2.4.0)\n",
            "Requirement already satisfied: requests in /usr/local/lib/python3.6/dist-packages (from googletrans) (2.21.0)\n",
            "Requirement already satisfied: certifi>=2017.4.17 in /usr/local/lib/python3.6/dist-packages (from requests->googletrans) (2019.11.28)\n",
            "Requirement already satisfied: idna<2.9,>=2.5 in /usr/local/lib/python3.6/dist-packages (from requests->googletrans) (2.8)\n",
            "Requirement already satisfied: urllib3<1.25,>=1.21.1 in /usr/local/lib/python3.6/dist-packages (from requests->googletrans) (1.24.3)\n",
            "Requirement already satisfied: chardet<3.1.0,>=3.0.2 in /usr/local/lib/python3.6/dist-packages (from requests->googletrans) (3.0.4)\n"
          ],
          "name": "stdout"
        }
      ]
    },
    {
      "cell_type": "markdown",
      "metadata": {
        "id": "YkIALacsUnj7",
        "colab_type": "text"
      },
      "source": [
        "### <a name='0'></a> Import bibliotek"
      ]
    },
    {
      "cell_type": "code",
      "metadata": {
        "id": "RZgVl2bq53Iu",
        "colab_type": "code",
        "colab": {
          "base_uri": "https://localhost:8080/",
          "height": 34
        },
        "outputId": "9311c9f9-0095-42f4-f692-b8f93ffec513"
      },
      "source": [
        "import googletrans\n",
        "\n",
        "googletrans.__version__"
      ],
      "execution_count": 2,
      "outputs": [
        {
          "output_type": "execute_result",
          "data": {
            "text/plain": [
              "'2.4.0'"
            ]
          },
          "metadata": {
            "tags": []
          },
          "execution_count": 2
        }
      ]
    },
    {
      "cell_type": "code",
      "metadata": {
        "id": "ihy2PVRt56iC",
        "colab_type": "code",
        "colab": {
          "base_uri": "https://localhost:8080/",
          "height": 34
        },
        "outputId": "93703591-e4ac-4e38-e9f0-0eafbf2deab0"
      },
      "source": [
        "from googletrans import Translator\n",
        "\n",
        "translator = Translator()\n",
        "translator"
      ],
      "execution_count": 3,
      "outputs": [
        {
          "output_type": "execute_result",
          "data": {
            "text/plain": [
              "<googletrans.client.Translator at 0x7f302584dc50>"
            ]
          },
          "metadata": {
            "tags": []
          },
          "execution_count": 3
        }
      ]
    },
    {
      "cell_type": "markdown",
      "metadata": {
        "id": "fYPJJGpBczTe",
        "colab_type": "text"
      },
      "source": [
        "### <a name='1'></a> Detekcja języka"
      ]
    },
    {
      "cell_type": "code",
      "metadata": {
        "id": "iVPiJHjp6P-V",
        "colab_type": "code",
        "colab": {
          "base_uri": "https://localhost:8080/",
          "height": 51
        },
        "outputId": "0cd8095d-cf86-45ec-970a-dc35a1533509"
      },
      "source": [
        "detected = translator.detect('Witaj świecie!')\n",
        "\n",
        "print(f'Wykryto język: {detected.lang}\\nPewność: {detected.confidence}')"
      ],
      "execution_count": 4,
      "outputs": [
        {
          "output_type": "stream",
          "text": [
            "Wykryto język: pl\n",
            "Pewność: 1.0\n"
          ],
          "name": "stdout"
        }
      ]
    },
    {
      "cell_type": "code",
      "metadata": {
        "id": "AXn8GPuOdIFl",
        "colab_type": "code",
        "colab": {
          "base_uri": "https://localhost:8080/",
          "height": 51
        },
        "outputId": "1bd50ca5-a37f-4e8d-f160-1f15399663c2"
      },
      "source": [
        "detected = translator.detect('¡Hola mundo!')\n",
        "\n",
        "print(f'Wykryto język: {detected.lang}\\nPewność: {detected.confidence}')"
      ],
      "execution_count": 5,
      "outputs": [
        {
          "output_type": "stream",
          "text": [
            "Wykryto język: es\n",
            "Pewność: 1.0\n"
          ],
          "name": "stdout"
        }
      ]
    },
    {
      "cell_type": "code",
      "metadata": {
        "id": "DKZYq0HGdL6M",
        "colab_type": "code",
        "colab": {
          "base_uri": "https://localhost:8080/",
          "height": 51
        },
        "outputId": "95a2194e-0bd2-4827-c8c5-f5aeffc90033"
      },
      "source": [
        "detected = translator.detect('Hallo Welt!')\n",
        "\n",
        "print(f'Wykryto język: {detected.lang}\\nPewność: {detected.confidence}')"
      ],
      "execution_count": 6,
      "outputs": [
        {
          "output_type": "stream",
          "text": [
            "Wykryto język: de\n",
            "Pewność: 1.0\n"
          ],
          "name": "stdout"
        }
      ]
    },
    {
      "cell_type": "markdown",
      "metadata": {
        "id": "1SiRo2Oxc-jT",
        "colab_type": "text"
      },
      "source": [
        "### <a name='2'></a> Tłumaczenie"
      ]
    },
    {
      "cell_type": "code",
      "metadata": {
        "id": "qJ1fl5m26VLj",
        "colab_type": "code",
        "colab": {
          "base_uri": "https://localhost:8080/",
          "height": 51
        },
        "outputId": "d631216c-1cb9-4747-aab3-581f8b473f3f"
      },
      "source": [
        "translated = translator.translate(text='Witaj świecie!', dest='en', src='auto')\n",
        "\n",
        "print(f'{translated.src} -> {translated.dest}')\n",
        "print(f'{translated.origin} -> {translated.text}')"
      ],
      "execution_count": 7,
      "outputs": [
        {
          "output_type": "stream",
          "text": [
            "pl -> en\n",
            "Witaj świecie! -> Hello World!\n"
          ],
          "name": "stdout"
        }
      ]
    },
    {
      "cell_type": "code",
      "metadata": {
        "id": "Vuj_-H1863Hb",
        "colab_type": "code",
        "colab": {
          "base_uri": "https://localhost:8080/",
          "height": 51
        },
        "outputId": "00156cad-f5a0-499b-cddb-67f934db77ad"
      },
      "source": [
        "translated = translator.translate(text='Witaj świecie!', dest='es', src='auto')\n",
        "\n",
        "print(f'{translated.src} -> {translated.dest}')\n",
        "print(f'{translated.origin} -> {translated.text}')"
      ],
      "execution_count": 8,
      "outputs": [
        {
          "output_type": "stream",
          "text": [
            "pl -> es\n",
            "Witaj świecie! -> ¡Hola mundo!\n"
          ],
          "name": "stdout"
        }
      ]
    },
    {
      "cell_type": "code",
      "metadata": {
        "id": "1txDUaJ0chep",
        "colab_type": "code",
        "colab": {
          "base_uri": "https://localhost:8080/",
          "height": 51
        },
        "outputId": "bf428fb0-87e1-4a21-9bf4-b012cb868bb4"
      },
      "source": [
        "translated = translator.translate(text='Witaj świecie!', dest='de', src='auto')\n",
        "\n",
        "print(f'{translated.src} -> {translated.dest}')\n",
        "print(f'{translated.origin} -> {translated.text}')"
      ],
      "execution_count": 9,
      "outputs": [
        {
          "output_type": "stream",
          "text": [
            "pl -> de\n",
            "Witaj świecie! -> Hallo Welt!\n"
          ],
          "name": "stdout"
        }
      ]
    },
    {
      "cell_type": "code",
      "metadata": {
        "id": "eChY4dkucj7B",
        "colab_type": "code",
        "colab": {
          "base_uri": "https://localhost:8080/",
          "height": 51
        },
        "outputId": "37f0afc9-cae5-4e9c-a74a-05d4776f462b"
      },
      "source": [
        "translated = translator.translate(text='¡Hola mundo!', dest='en', src='auto')\n",
        "\n",
        "print(f'{translated.src} -> {translated.dest}')\n",
        "print(f'{translated.origin} -> {translated.text}')"
      ],
      "execution_count": 10,
      "outputs": [
        {
          "output_type": "stream",
          "text": [
            "es -> en\n",
            "¡Hola mundo! -> Hello World!\n"
          ],
          "name": "stdout"
        }
      ]
    },
    {
      "cell_type": "code",
      "metadata": {
        "id": "YRKUnuIgcqaf",
        "colab_type": "code",
        "colab": {
          "base_uri": "https://localhost:8080/",
          "height": 1000
        },
        "outputId": "eb9157bb-efa1-477e-b18c-b9dcc8884b6a"
      },
      "source": [
        "# lista dostępnych języków\n",
        "googletrans.LANGUAGES"
      ],
      "execution_count": 11,
      "outputs": [
        {
          "output_type": "execute_result",
          "data": {
            "text/plain": [
              "{'af': 'afrikaans',\n",
              " 'am': 'amharic',\n",
              " 'ar': 'arabic',\n",
              " 'az': 'azerbaijani',\n",
              " 'be': 'belarusian',\n",
              " 'bg': 'bulgarian',\n",
              " 'bn': 'bengali',\n",
              " 'bs': 'bosnian',\n",
              " 'ca': 'catalan',\n",
              " 'ceb': 'cebuano',\n",
              " 'co': 'corsican',\n",
              " 'cs': 'czech',\n",
              " 'cy': 'welsh',\n",
              " 'da': 'danish',\n",
              " 'de': 'german',\n",
              " 'el': 'greek',\n",
              " 'en': 'english',\n",
              " 'eo': 'esperanto',\n",
              " 'es': 'spanish',\n",
              " 'et': 'estonian',\n",
              " 'eu': 'basque',\n",
              " 'fa': 'persian',\n",
              " 'fi': 'finnish',\n",
              " 'fil': 'Filipino',\n",
              " 'fr': 'french',\n",
              " 'fy': 'frisian',\n",
              " 'ga': 'irish',\n",
              " 'gd': 'scots gaelic',\n",
              " 'gl': 'galician',\n",
              " 'gu': 'gujarati',\n",
              " 'ha': 'hausa',\n",
              " 'haw': 'hawaiian',\n",
              " 'he': 'Hebrew',\n",
              " 'hi': 'hindi',\n",
              " 'hmn': 'hmong',\n",
              " 'hr': 'croatian',\n",
              " 'ht': 'haitian creole',\n",
              " 'hu': 'hungarian',\n",
              " 'hy': 'armenian',\n",
              " 'id': 'indonesian',\n",
              " 'ig': 'igbo',\n",
              " 'is': 'icelandic',\n",
              " 'it': 'italian',\n",
              " 'iw': 'hebrew',\n",
              " 'ja': 'japanese',\n",
              " 'jw': 'javanese',\n",
              " 'ka': 'georgian',\n",
              " 'kk': 'kazakh',\n",
              " 'km': 'khmer',\n",
              " 'kn': 'kannada',\n",
              " 'ko': 'korean',\n",
              " 'ku': 'kurdish (kurmanji)',\n",
              " 'ky': 'kyrgyz',\n",
              " 'la': 'latin',\n",
              " 'lb': 'luxembourgish',\n",
              " 'lo': 'lao',\n",
              " 'lt': 'lithuanian',\n",
              " 'lv': 'latvian',\n",
              " 'mg': 'malagasy',\n",
              " 'mi': 'maori',\n",
              " 'mk': 'macedonian',\n",
              " 'ml': 'malayalam',\n",
              " 'mn': 'mongolian',\n",
              " 'mr': 'marathi',\n",
              " 'ms': 'malay',\n",
              " 'mt': 'maltese',\n",
              " 'my': 'myanmar (burmese)',\n",
              " 'ne': 'nepali',\n",
              " 'nl': 'dutch',\n",
              " 'no': 'norwegian',\n",
              " 'ny': 'chichewa',\n",
              " 'pa': 'punjabi',\n",
              " 'pl': 'polish',\n",
              " 'ps': 'pashto',\n",
              " 'pt': 'portuguese',\n",
              " 'ro': 'romanian',\n",
              " 'ru': 'russian',\n",
              " 'sd': 'sindhi',\n",
              " 'si': 'sinhala',\n",
              " 'sk': 'slovak',\n",
              " 'sl': 'slovenian',\n",
              " 'sm': 'samoan',\n",
              " 'sn': 'shona',\n",
              " 'so': 'somali',\n",
              " 'sq': 'albanian',\n",
              " 'sr': 'serbian',\n",
              " 'st': 'sesotho',\n",
              " 'su': 'sundanese',\n",
              " 'sv': 'swedish',\n",
              " 'sw': 'swahili',\n",
              " 'ta': 'tamil',\n",
              " 'te': 'telugu',\n",
              " 'tg': 'tajik',\n",
              " 'th': 'thai',\n",
              " 'tl': 'filipino',\n",
              " 'tr': 'turkish',\n",
              " 'uk': 'ukrainian',\n",
              " 'ur': 'urdu',\n",
              " 'uz': 'uzbek',\n",
              " 'vi': 'vietnamese',\n",
              " 'xh': 'xhosa',\n",
              " 'yi': 'yiddish',\n",
              " 'yo': 'yoruba',\n",
              " 'zh-cn': 'chinese (simplified)',\n",
              " 'zh-tw': 'chinese (traditional)',\n",
              " 'zu': 'zulu'}"
            ]
          },
          "metadata": {
            "tags": []
          },
          "execution_count": 11
        }
      ]
    },
    {
      "cell_type": "code",
      "metadata": {
        "id": "RTaDeBL3dwIL",
        "colab_type": "code",
        "colab": {
          "base_uri": "https://localhost:8080/",
          "height": 68
        },
        "outputId": "42e6371a-cec7-420b-cf04-404b04df2e35"
      },
      "source": [
        "translations = translator.translate(text=['programowanie', 'lista zamówień', 'Katalog produktów'], dest='en', src='auto')\n",
        "\n",
        "for translation in translations:\n",
        "    # print(f'{translation.src} -> {translation.dest}')\n",
        "    print(f'{translation.origin} -> {translation.text}')"
      ],
      "execution_count": 12,
      "outputs": [
        {
          "output_type": "stream",
          "text": [
            "programowanie -> programming\n",
            "lista zamówień -> list of orders\n",
            "Katalog produktów -> product catalog\n"
          ],
          "name": "stdout"
        }
      ]
    },
    {
      "cell_type": "code",
      "metadata": {
        "id": "W3LDd030eK7V",
        "colab_type": "code",
        "colab": {
          "base_uri": "https://localhost:8080/",
          "height": 68
        },
        "outputId": "6f35ed7f-dba9-4736-e5a6-e01c551ada04"
      },
      "source": [
        "translations = translator.translate(text=['programowanie', 'lista zamówień', 'Katalog produktów'], dest='ja', src='auto')\n",
        "\n",
        "translations_ja = []\n",
        "for translation in translations:\n",
        "    # print(f'{translation.src} -> {translation.dest}')\n",
        "    print(f'{translation.origin} -> {translation.text}')\n",
        "    translations_ja.append(translation.text)"
      ],
      "execution_count": 13,
      "outputs": [
        {
          "output_type": "stream",
          "text": [
            "programowanie -> プログラミング\n",
            "lista zamówień -> 注文リスト\n",
            "Katalog produktów -> 製品カタログ\n"
          ],
          "name": "stdout"
        }
      ]
    },
    {
      "cell_type": "code",
      "metadata": {
        "id": "1kUqPe_4euG_",
        "colab_type": "code",
        "colab": {
          "base_uri": "https://localhost:8080/",
          "height": 68
        },
        "outputId": "b3f2516b-aea8-4b06-b807-2be1a902edc2"
      },
      "source": [
        "translations = translator.translate(text=translations_ja, dest='pl', src='auto')\n",
        "\n",
        "for translation in translations:\n",
        "    # print(f'{translation.src} -> {translation.dest}')\n",
        "    print(f'{translation.origin} -> {translation.text}')"
      ],
      "execution_count": 14,
      "outputs": [
        {
          "output_type": "stream",
          "text": [
            "プログラミング -> programowanie\n",
            "注文リスト -> lista zamówienie\n",
            "製品カタログ -> Katalog wyrobów\n"
          ],
          "name": "stdout"
        }
      ]
    },
    {
      "cell_type": "code",
      "metadata": {
        "id": "kqFvShrNfVsF",
        "colab_type": "code",
        "colab": {}
      },
      "source": [
        ""
      ],
      "execution_count": 0,
      "outputs": []
    }
  ]
}