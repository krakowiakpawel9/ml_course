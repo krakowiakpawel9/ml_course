{
  "nbformat": 4,
  "nbformat_minor": 0,
  "metadata": {
    "colab": {
      "name": "01_preprocessing.ipynb",
      "provenance": [],
      "include_colab_link": true
    },
    "kernelspec": {
      "name": "python3",
      "display_name": "Python 3"
    }
  },
  "cells": [
    {
      "cell_type": "markdown",
      "metadata": {
        "id": "view-in-github",
        "colab_type": "text"
      },
      "source": [
        "<a href=\"https://colab.research.google.com/github/krakowiakpawel9/ml_course/blob/master/x/07_url_clustering/01_urls.ipynb\" target=\"_parent\"><img src=\"https://colab.research.google.com/assets/colab-badge.svg\" alt=\"Open In Colab\"/></a>"
      ]
    },
    {
      "cell_type": "markdown",
      "metadata": {
        "id": "UbjsT92Xd3z1",
        "colab_type": "text"
      },
      "source": [
        "* @author: krakowiakpawel9@gmail.com  \n",
        "* @site: e-smartdata.org\n",
        "\n",
        "### nltk\n",
        "Strona biblioteki: [https://www.nltk.org/](https://www.nltk.org/)  \n",
        "\n",
        "Podstawowa biblioteka do przetwarzania języka naturalnego w języku Python.\n",
        "\n",
        "Aby zainstalować bibliotekę nltk, użyj polecenia poniżej:\n",
        "```\n",
        "!pip install nltk\n",
        "```\n",
        "Aby zaktualizować do najnowszej wersji użyj polecenia poniżej:\n",
        "```\n",
        "!pip install --upgrade nltk\n",
        "```\n",
        "Kurs stworzony w oparciu o wersję `3.2.5`\n",
        "\n",
        "### Spis treści:\n",
        "1. [Import bibliotek](#0)\n",
        "2. [Wygenerowanie danych](#1)\n",
        "\n"
      ]
    },
    {
      "cell_type": "markdown",
      "metadata": {
        "id": "YkIALacsUnj7",
        "colab_type": "text"
      },
      "source": [
        "### <a name='0'></a> Import bibliotek"
      ]
    },
    {
      "cell_type": "code",
      "metadata": {
        "id": "SDNimVtcd2LM",
        "colab_type": "code",
        "outputId": "98eeec18-966a-4a16-9ac6-1fac0c183472",
        "colab": {
          "base_uri": "https://localhost:8080/",
          "height": 166
        }
      },
      "source": [
        "!pip install urlclustering"
      ],
      "execution_count": 0,
      "outputs": [
        {
          "output_type": "stream",
          "text": [
            "Collecting urlclustering\n",
            "  Downloading https://files.pythonhosted.org/packages/8e/0d/3dc97f51b1b043575ec613784076f71de430b7a72e8d97d9105f665d7a57/urlclustering-0.4.1.tar.gz\n",
            "Building wheels for collected packages: urlclustering\n",
            "  Building wheel for urlclustering (setup.py) ... \u001b[?25l\u001b[?25hdone\n",
            "  Created wheel for urlclustering: filename=urlclustering-0.4.1-cp36-none-any.whl size=8051 sha256=5b1a78e321ef81a3abeec5fa78d7a97818276febaa19aa425b7547730197b24f\n",
            "  Stored in directory: /root/.cache/pip/wheels/4e/28/36/d53d5d3223711909f8a51b5140ae7bfd55e195afd13dfeaecd\n",
            "Successfully built urlclustering\n",
            "Installing collected packages: urlclustering\n",
            "Successfully installed urlclustering-0.4.1\n"
          ],
          "name": "stdout"
        }
      ]
    },
    {
      "cell_type": "code",
      "metadata": {
        "id": "h4xVjmZsce0h",
        "colab_type": "code",
        "colab": {}
      },
      "source": [
        "import urlclustering"
      ],
      "execution_count": 0,
      "outputs": []
    },
    {
      "cell_type": "code",
      "metadata": {
        "id": "Aif0CRDae0z9",
        "colab_type": "code",
        "colab": {}
      },
      "source": [
        "with open('esmartdata_links.txt', 'r') as file:\n",
        "    lines = file.readlines()"
      ],
      "execution_count": 0,
      "outputs": []
    },
    {
      "cell_type": "code",
      "metadata": {
        "id": "huup6DdFe9Wj",
        "colab_type": "code",
        "outputId": "37c8cc5d-354f-4886-e3b1-bc3855890aa9",
        "colab": {
          "base_uri": "https://localhost:8080/",
          "height": 1000
        }
      },
      "source": [
        "lines"
      ],
      "execution_count": 0,
      "outputs": [
        {
          "output_type": "execute_result",
          "data": {
            "text/plain": [
              "['https://e-smartdata.teachable.com/sign_up\\n',\n",
              " 'https://e-smartdata.teachable.com/sign_in\\n',\n",
              " 'https://e-smartdata.teachable.com/\\n',\n",
              " 'https://e-smartdata.teachable.com/blog\\n',\n",
              " 'https://e-smartdata.org/\\n',\n",
              " 'https://e-smartdata.teachable.com/p/programowanie-w-jezyku-python-od-a-do-z\\n',\n",
              " 'https://e-smartdata.teachable.com/p/machine-learning-bootcamp-w-jezyku-python-cz-i-od-a-do-z\\n',\n",
              " 'https://e-smartdata.teachable.com/p/machine-learning-bootcamp-w-jezyku-python-cz-ii-od-a-do-z\\n',\n",
              " 'https://e-smartdata.teachable.com/p/deep-learning-w-jezyku-python-konwolucyjne-sieci-neuronowe\\n',\n",
              " 'https://e-smartdata.teachable.com/p/wprowadzenie-do-sieci-neuronowych-tensorflow-2-0-keras\\n',\n",
              " 'https://e-smartdata.teachable.com/p/data-science-bootcamp-w-jezyku-python-od-a-do-z\\n',\n",
              " 'https://e-smartdata.teachable.com/p/big-data-analiza-danych-przy-uzyciu-sql-oraz-bigquery-gcp\\n',\n",
              " 'https://e-smartdata.teachable.com/p/uczenie-maszynowe-drzewa-decyzyjne-i-lasy-losowe-python\\n',\n",
              " 'https://e-smartdata.teachable.com/p/big-data-hadoop-oraz-mapreduce-w-jezyku-python\\n',\n",
              " 'https://e-smartdata.teachable.com/p/artificial-intelligence-computer-vision-w-jezyku-python\\n',\n",
              " 'https://e-smartdata.teachable.com/p/tworz-nowoczesne-aplikacje-webowe-w-pythonie-dash-plotly\\n',\n",
              " 'https://e-smartdata.teachable.com/p/wprowadzenie-do-data-science-w-jezyku-python-pandas\\n',\n",
              " 'https://e-smartdata.teachable.com/p/python-pierwsze-kroki-instalacja-i-konfiguracja-free\\n',\n",
              " 'https://e-smartdata.teachable.com/p/interaktywne-wizualizacje-danych-w-jezyku-python-plotly\\n',\n",
              " 'https://e-smartdata.org/#one\\n',\n",
              " 'https://e-smartdata.org/images/esmartdata-kurs-online-udemy.jpg\\n',\n",
              " 'https://e-smartdata.org/images/esmartdata-kursy-online-udemy.jpg\\n',\n",
              " 'https://e-smartdata.org/images/esmartdata-udemy-kurs-online.jpg\\n',\n",
              " 'https://e-smartdata.teachable.com/p/programowanie-w-jezyku-python-od-a-do-z\\n',\n",
              " 'https://e-smartdata.org/images/programowanie-jezyk-python-kurs-online.jpg\\n',\n",
              " 'https://e-smartdata.teachable.com/p/programowanie-w-jezyku-python-od-a-do-z\\n',\n",
              " 'https://e-smartdata.teachable.com/p/deep-learning-w-jezyku-python-konwolucyjne-sieci-neuronowe\\n',\n",
              " 'https://e-smartdata.org/images/deep-learning-jezyk-python-konwolucyjne-sieci-neuronowe.jpg\\n',\n",
              " 'https://e-smartdata.teachable.com/p/deep-learning-w-jezyku-python-konwolucyjne-sieci-neuronowe\\n',\n",
              " 'https://e-smartdata.teachable.com/p/big-data-analiza-danych-przy-uzyciu-sql-oraz-bigquery-gcp\\n',\n",
              " 'https://e-smartdata.org/images/big-data-analiza-danych-sql-bigquery-kurs-online.jpg\\n',\n",
              " 'https://e-smartdata.teachable.com/p/big-data-analiza-danych-przy-uzyciu-sql-oraz-bigquery-gcp\\n',\n",
              " 'https://e-smartdata.teachable.com/p/artificial-intelligence-computer-vision-w-jezyku-python\\n',\n",
              " 'https://e-smartdata.org/images/artificial-intelligence-computer-vision-python-kurs-udemy.jpg\\n',\n",
              " 'https://e-smartdata.teachable.com/p/artificial-intelligence-computer-vision-w-jezyku-python\\n',\n",
              " 'https://e-smartdata.teachable.com/p/python-pierwsze-kroki-instalacja-i-konfiguracja-free\\n',\n",
              " 'https://e-smartdata.org/images/python-konfiguracja-instalacja-pierwsze-kroki-kurs-free-darmowy.jpg\\n',\n",
              " 'https://e-smartdata.teachable.com/p/python-pierwsze-kroki-instalacja-i-konfiguracja-free\\n',\n",
              " 'https://e-smartdata.teachable.com/p/machine-learning-bootcamp-w-jezyku-python-cz-i-od-a-do-z\\n',\n",
              " 'https://e-smartdata.org/images/machine-learning-bootcamp-python-kurs-online.jpg\\n',\n",
              " 'https://e-smartdata.teachable.com/p/machine-learning-bootcamp-w-jezyku-python-cz-i-od-a-do-z\\n',\n",
              " 'https://e-smartdata.teachable.com/p/wprowadzenie-do-sieci-neuronowych-tensorflow-2-0-keras\\n',\n",
              " 'https://e-smartdata.org/images/sieci-neuronowe-python-tensorflow-keras-kurs.jpg\\n',\n",
              " 'https://e-smartdata.teachable.com/p/wprowadzenie-do-sieci-neuronowych-tensorflow-2-0-keras\\n',\n",
              " 'https://e-smartdata.teachable.com/p/uczenie-maszynowe-drzewa-decyzyjne-i-lasy-losowe-python\\n',\n",
              " 'https://e-smartdata.org/images/uczenie-maszynowe-drzewa-decyzyjne-lasy-losowe-kurs-online.jpg\\n',\n",
              " 'https://e-smartdata.teachable.com/p/uczenie-maszynowe-drzewa-decyzyjne-i-lasy-losowe-python\\n',\n",
              " 'https://e-smartdata.teachable.com/p/tworz-nowoczesne-aplikacje-webowe-w-pythonie-dash-plotly\\n',\n",
              " 'https://e-smartdata.org/images/tworz-nowoczesne-aplikacje-webowe-python-dash-plotly-kurs-online.jpg\\n',\n",
              " 'https://e-smartdata.teachable.com/p/tworz-nowoczesne-aplikacje-webowe-w-pythonie-dash-plotly\\n',\n",
              " 'https://e-smartdata.teachable.com/p/interaktywne-wizualizacje-danych-w-jezyku-python-plotly\\n',\n",
              " 'https://e-smartdata.org/images/wizualizacje-danych-jezyk-python-seaborn-plotly-kurs-online.jpg\\n',\n",
              " 'https://e-smartdata.teachable.com/p/interaktywne-wizualizacje-danych-w-jezyku-python-plotly\\n',\n",
              " 'https://e-smartdata.teachable.com/p/machine-learning-bootcamp-w-jezyku-python-cz-ii-od-a-do-z\\n',\n",
              " 'https://e-smartdata.org/images/machine-learning-bootcamp-python-kurs-online-2.jpg\\n',\n",
              " 'https://e-smartdata.teachable.com/p/machine-learning-bootcamp-w-jezyku-python-cz-ii-od-a-do-z\\n',\n",
              " 'https://e-smartdata.teachable.com/p/data-science-bootcamp-w-jezyku-python-od-a-do-z\\n',\n",
              " 'https://e-smartdata.org/images/data-science-bootcamp-python-kurs.jpg\\n',\n",
              " 'https://e-smartdata.teachable.com/p/data-science-bootcamp-w-jezyku-python-od-a-do-z\\n',\n",
              " 'https://e-smartdata.teachable.com/p/big-data-hadoop-oraz-mapreduce-w-jezyku-python\\n',\n",
              " 'https://e-smartdata.org/images/big-data-hadoop-map-reduce-python-udemy-kurs.jpg\\n',\n",
              " 'https://e-smartdata.teachable.com/p/big-data-hadoop-oraz-mapreduce-w-jezyku-python\\n',\n",
              " 'https://e-smartdata.teachable.com/p/wprowadzenie-do-data-science-w-jezyku-python-pandas\\n',\n",
              " 'https://e-smartdata.org/images/wprowadzenie-do-data-science-pandas-kurs-online.jpg\\n',\n",
              " 'https://e-smartdata.teachable.com/p/wprowadzenie-do-data-science-w-jezyku-python-pandas\\n',\n",
              " 'https://e-smartdata.teachable.com/\\n',\n",
              " 'https://e-smartdata.teachable.com/blog\\n',\n",
              " 'https://www.facebook.com/esmartdata/\\n',\n",
              " 'https://www.linkedin.com/company/34956806\\n',\n",
              " 'https://twitter.com/pawe_krakowiak\\n',\n",
              " 'https://www.instagram.com/e_smartdata/\\n',\n",
              " 'https://github.com/krakowiakpawel9\\n',\n",
              " 'mailto:krakowiakpawel9@gmail.com?subject=e-smartdata\\n',\n",
              " 'http://www.html5webtemplates.co.uk/']"
            ]
          },
          "metadata": {
            "tags": []
          },
          "execution_count": 13
        }
      ]
    },
    {
      "cell_type": "code",
      "metadata": {
        "id": "V_luF6JafDZy",
        "colab_type": "code",
        "outputId": "de8d5de0-8271-4e5f-eb52-d843e3adfa2c",
        "colab": {
          "base_uri": "https://localhost:8080/",
          "height": 1000
        }
      },
      "source": [
        "urls = [line.rstrip() for line in lines if line.startswith('https://')]\n",
        "urls"
      ],
      "execution_count": 0,
      "outputs": [
        {
          "output_type": "execute_result",
          "data": {
            "text/plain": [
              "['https://e-smartdata.teachable.com/sign_up',\n",
              " 'https://e-smartdata.teachable.com/sign_in',\n",
              " 'https://e-smartdata.teachable.com/',\n",
              " 'https://e-smartdata.teachable.com/blog',\n",
              " 'https://e-smartdata.org/',\n",
              " 'https://e-smartdata.teachable.com/p/programowanie-w-jezyku-python-od-a-do-z',\n",
              " 'https://e-smartdata.teachable.com/p/machine-learning-bootcamp-w-jezyku-python-cz-i-od-a-do-z',\n",
              " 'https://e-smartdata.teachable.com/p/machine-learning-bootcamp-w-jezyku-python-cz-ii-od-a-do-z',\n",
              " 'https://e-smartdata.teachable.com/p/deep-learning-w-jezyku-python-konwolucyjne-sieci-neuronowe',\n",
              " 'https://e-smartdata.teachable.com/p/wprowadzenie-do-sieci-neuronowych-tensorflow-2-0-keras',\n",
              " 'https://e-smartdata.teachable.com/p/data-science-bootcamp-w-jezyku-python-od-a-do-z',\n",
              " 'https://e-smartdata.teachable.com/p/big-data-analiza-danych-przy-uzyciu-sql-oraz-bigquery-gcp',\n",
              " 'https://e-smartdata.teachable.com/p/uczenie-maszynowe-drzewa-decyzyjne-i-lasy-losowe-python',\n",
              " 'https://e-smartdata.teachable.com/p/big-data-hadoop-oraz-mapreduce-w-jezyku-python',\n",
              " 'https://e-smartdata.teachable.com/p/artificial-intelligence-computer-vision-w-jezyku-python',\n",
              " 'https://e-smartdata.teachable.com/p/tworz-nowoczesne-aplikacje-webowe-w-pythonie-dash-plotly',\n",
              " 'https://e-smartdata.teachable.com/p/wprowadzenie-do-data-science-w-jezyku-python-pandas',\n",
              " 'https://e-smartdata.teachable.com/p/python-pierwsze-kroki-instalacja-i-konfiguracja-free',\n",
              " 'https://e-smartdata.teachable.com/p/interaktywne-wizualizacje-danych-w-jezyku-python-plotly',\n",
              " 'https://e-smartdata.org/#one',\n",
              " 'https://e-smartdata.org/images/esmartdata-kurs-online-udemy.jpg',\n",
              " 'https://e-smartdata.org/images/esmartdata-kursy-online-udemy.jpg',\n",
              " 'https://e-smartdata.org/images/esmartdata-udemy-kurs-online.jpg',\n",
              " 'https://e-smartdata.teachable.com/p/programowanie-w-jezyku-python-od-a-do-z',\n",
              " 'https://e-smartdata.org/images/programowanie-jezyk-python-kurs-online.jpg',\n",
              " 'https://e-smartdata.teachable.com/p/programowanie-w-jezyku-python-od-a-do-z',\n",
              " 'https://e-smartdata.teachable.com/p/deep-learning-w-jezyku-python-konwolucyjne-sieci-neuronowe',\n",
              " 'https://e-smartdata.org/images/deep-learning-jezyk-python-konwolucyjne-sieci-neuronowe.jpg',\n",
              " 'https://e-smartdata.teachable.com/p/deep-learning-w-jezyku-python-konwolucyjne-sieci-neuronowe',\n",
              " 'https://e-smartdata.teachable.com/p/big-data-analiza-danych-przy-uzyciu-sql-oraz-bigquery-gcp',\n",
              " 'https://e-smartdata.org/images/big-data-analiza-danych-sql-bigquery-kurs-online.jpg',\n",
              " 'https://e-smartdata.teachable.com/p/big-data-analiza-danych-przy-uzyciu-sql-oraz-bigquery-gcp',\n",
              " 'https://e-smartdata.teachable.com/p/artificial-intelligence-computer-vision-w-jezyku-python',\n",
              " 'https://e-smartdata.org/images/artificial-intelligence-computer-vision-python-kurs-udemy.jpg',\n",
              " 'https://e-smartdata.teachable.com/p/artificial-intelligence-computer-vision-w-jezyku-python',\n",
              " 'https://e-smartdata.teachable.com/p/python-pierwsze-kroki-instalacja-i-konfiguracja-free',\n",
              " 'https://e-smartdata.org/images/python-konfiguracja-instalacja-pierwsze-kroki-kurs-free-darmowy.jpg',\n",
              " 'https://e-smartdata.teachable.com/p/python-pierwsze-kroki-instalacja-i-konfiguracja-free',\n",
              " 'https://e-smartdata.teachable.com/p/machine-learning-bootcamp-w-jezyku-python-cz-i-od-a-do-z',\n",
              " 'https://e-smartdata.org/images/machine-learning-bootcamp-python-kurs-online.jpg',\n",
              " 'https://e-smartdata.teachable.com/p/machine-learning-bootcamp-w-jezyku-python-cz-i-od-a-do-z',\n",
              " 'https://e-smartdata.teachable.com/p/wprowadzenie-do-sieci-neuronowych-tensorflow-2-0-keras',\n",
              " 'https://e-smartdata.org/images/sieci-neuronowe-python-tensorflow-keras-kurs.jpg',\n",
              " 'https://e-smartdata.teachable.com/p/wprowadzenie-do-sieci-neuronowych-tensorflow-2-0-keras',\n",
              " 'https://e-smartdata.teachable.com/p/uczenie-maszynowe-drzewa-decyzyjne-i-lasy-losowe-python',\n",
              " 'https://e-smartdata.org/images/uczenie-maszynowe-drzewa-decyzyjne-lasy-losowe-kurs-online.jpg',\n",
              " 'https://e-smartdata.teachable.com/p/uczenie-maszynowe-drzewa-decyzyjne-i-lasy-losowe-python',\n",
              " 'https://e-smartdata.teachable.com/p/tworz-nowoczesne-aplikacje-webowe-w-pythonie-dash-plotly',\n",
              " 'https://e-smartdata.org/images/tworz-nowoczesne-aplikacje-webowe-python-dash-plotly-kurs-online.jpg',\n",
              " 'https://e-smartdata.teachable.com/p/tworz-nowoczesne-aplikacje-webowe-w-pythonie-dash-plotly',\n",
              " 'https://e-smartdata.teachable.com/p/interaktywne-wizualizacje-danych-w-jezyku-python-plotly',\n",
              " 'https://e-smartdata.org/images/wizualizacje-danych-jezyk-python-seaborn-plotly-kurs-online.jpg',\n",
              " 'https://e-smartdata.teachable.com/p/interaktywne-wizualizacje-danych-w-jezyku-python-plotly',\n",
              " 'https://e-smartdata.teachable.com/p/machine-learning-bootcamp-w-jezyku-python-cz-ii-od-a-do-z',\n",
              " 'https://e-smartdata.org/images/machine-learning-bootcamp-python-kurs-online-2.jpg',\n",
              " 'https://e-smartdata.teachable.com/p/machine-learning-bootcamp-w-jezyku-python-cz-ii-od-a-do-z',\n",
              " 'https://e-smartdata.teachable.com/p/data-science-bootcamp-w-jezyku-python-od-a-do-z',\n",
              " 'https://e-smartdata.org/images/data-science-bootcamp-python-kurs.jpg',\n",
              " 'https://e-smartdata.teachable.com/p/data-science-bootcamp-w-jezyku-python-od-a-do-z',\n",
              " 'https://e-smartdata.teachable.com/p/big-data-hadoop-oraz-mapreduce-w-jezyku-python',\n",
              " 'https://e-smartdata.org/images/big-data-hadoop-map-reduce-python-udemy-kurs.jpg',\n",
              " 'https://e-smartdata.teachable.com/p/big-data-hadoop-oraz-mapreduce-w-jezyku-python',\n",
              " 'https://e-smartdata.teachable.com/p/wprowadzenie-do-data-science-w-jezyku-python-pandas',\n",
              " 'https://e-smartdata.org/images/wprowadzenie-do-data-science-pandas-kurs-online.jpg',\n",
              " 'https://e-smartdata.teachable.com/p/wprowadzenie-do-data-science-w-jezyku-python-pandas',\n",
              " 'https://e-smartdata.teachable.com/',\n",
              " 'https://e-smartdata.teachable.com/blog',\n",
              " 'https://www.facebook.com/esmartdata/',\n",
              " 'https://www.linkedin.com/company/34956806',\n",
              " 'https://twitter.com/pawe_krakowiak',\n",
              " 'https://www.instagram.com/e_smartdata/',\n",
              " 'https://github.com/krakowiakpawel9']"
            ]
          },
          "metadata": {
            "tags": []
          },
          "execution_count": 15
        }
      ]
    },
    {
      "cell_type": "code",
      "metadata": {
        "id": "rbM_SXJ2d1Zl",
        "colab_type": "code",
        "outputId": "e395eda3-2378-4171-eeb9-656225293c6b",
        "colab": {
          "base_uri": "https://localhost:8080/",
          "height": 1000
        }
      },
      "source": [
        "results = urlclustering.cluster(urls, 5)\n",
        "results"
      ],
      "execution_count": 0,
      "outputs": [
        {
          "output_type": "execute_result",
          "data": {
            "text/plain": [
              "{'clusters': {('https://e-smartdata.org/images/([^/]+)',\n",
              "   'https://e-smartdata.org/images/[...]'): ['https://e-smartdata.org/images/esmartdata-kurs-online-udemy.jpg',\n",
              "   'https://e-smartdata.org/images/esmartdata-kursy-online-udemy.jpg',\n",
              "   'https://e-smartdata.org/images/esmartdata-udemy-kurs-online.jpg',\n",
              "   'https://e-smartdata.org/images/programowanie-jezyk-python-kurs-online.jpg',\n",
              "   'https://e-smartdata.org/images/deep-learning-jezyk-python-konwolucyjne-sieci-neuronowe.jpg',\n",
              "   'https://e-smartdata.org/images/big-data-analiza-danych-sql-bigquery-kurs-online.jpg',\n",
              "   'https://e-smartdata.org/images/artificial-intelligence-computer-vision-python-kurs-udemy.jpg',\n",
              "   'https://e-smartdata.org/images/python-konfiguracja-instalacja-pierwsze-kroki-kurs-free-darmowy.jpg',\n",
              "   'https://e-smartdata.org/images/machine-learning-bootcamp-python-kurs-online.jpg',\n",
              "   'https://e-smartdata.org/images/sieci-neuronowe-python-tensorflow-keras-kurs.jpg',\n",
              "   'https://e-smartdata.org/images/uczenie-maszynowe-drzewa-decyzyjne-lasy-losowe-kurs-online.jpg',\n",
              "   'https://e-smartdata.org/images/tworz-nowoczesne-aplikacje-webowe-python-dash-plotly-kurs-online.jpg',\n",
              "   'https://e-smartdata.org/images/wizualizacje-danych-jezyk-python-seaborn-plotly-kurs-online.jpg',\n",
              "   'https://e-smartdata.org/images/machine-learning-bootcamp-python-kurs-online-2.jpg',\n",
              "   'https://e-smartdata.org/images/data-science-bootcamp-python-kurs.jpg',\n",
              "   'https://e-smartdata.org/images/big-data-hadoop-map-reduce-python-udemy-kurs.jpg',\n",
              "   'https://e-smartdata.org/images/wprowadzenie-do-data-science-pandas-kurs-online.jpg'],\n",
              "  ('https://e-smartdata.teachable.com/p/([^/]+)',\n",
              "   'https://e-smartdata.teachable.com/p/[...]'): ['https://e-smartdata.teachable.com/p/programowanie-w-jezyku-python-od-a-do-z',\n",
              "   'https://e-smartdata.teachable.com/p/machine-learning-bootcamp-w-jezyku-python-cz-i-od-a-do-z',\n",
              "   'https://e-smartdata.teachable.com/p/machine-learning-bootcamp-w-jezyku-python-cz-ii-od-a-do-z',\n",
              "   'https://e-smartdata.teachable.com/p/deep-learning-w-jezyku-python-konwolucyjne-sieci-neuronowe',\n",
              "   'https://e-smartdata.teachable.com/p/wprowadzenie-do-sieci-neuronowych-tensorflow-2-0-keras',\n",
              "   'https://e-smartdata.teachable.com/p/data-science-bootcamp-w-jezyku-python-od-a-do-z',\n",
              "   'https://e-smartdata.teachable.com/p/big-data-analiza-danych-przy-uzyciu-sql-oraz-bigquery-gcp',\n",
              "   'https://e-smartdata.teachable.com/p/uczenie-maszynowe-drzewa-decyzyjne-i-lasy-losowe-python',\n",
              "   'https://e-smartdata.teachable.com/p/big-data-hadoop-oraz-mapreduce-w-jezyku-python',\n",
              "   'https://e-smartdata.teachable.com/p/artificial-intelligence-computer-vision-w-jezyku-python',\n",
              "   'https://e-smartdata.teachable.com/p/tworz-nowoczesne-aplikacje-webowe-w-pythonie-dash-plotly',\n",
              "   'https://e-smartdata.teachable.com/p/wprowadzenie-do-data-science-w-jezyku-python-pandas',\n",
              "   'https://e-smartdata.teachable.com/p/python-pierwsze-kroki-instalacja-i-konfiguracja-free',\n",
              "   'https://e-smartdata.teachable.com/p/interaktywne-wizualizacje-danych-w-jezyku-python-plotly',\n",
              "   'https://e-smartdata.teachable.com/p/programowanie-w-jezyku-python-od-a-do-z',\n",
              "   'https://e-smartdata.teachable.com/p/programowanie-w-jezyku-python-od-a-do-z',\n",
              "   'https://e-smartdata.teachable.com/p/deep-learning-w-jezyku-python-konwolucyjne-sieci-neuronowe',\n",
              "   'https://e-smartdata.teachable.com/p/deep-learning-w-jezyku-python-konwolucyjne-sieci-neuronowe',\n",
              "   'https://e-smartdata.teachable.com/p/big-data-analiza-danych-przy-uzyciu-sql-oraz-bigquery-gcp',\n",
              "   'https://e-smartdata.teachable.com/p/big-data-analiza-danych-przy-uzyciu-sql-oraz-bigquery-gcp',\n",
              "   'https://e-smartdata.teachable.com/p/artificial-intelligence-computer-vision-w-jezyku-python',\n",
              "   'https://e-smartdata.teachable.com/p/artificial-intelligence-computer-vision-w-jezyku-python',\n",
              "   'https://e-smartdata.teachable.com/p/python-pierwsze-kroki-instalacja-i-konfiguracja-free',\n",
              "   'https://e-smartdata.teachable.com/p/python-pierwsze-kroki-instalacja-i-konfiguracja-free',\n",
              "   'https://e-smartdata.teachable.com/p/machine-learning-bootcamp-w-jezyku-python-cz-i-od-a-do-z',\n",
              "   'https://e-smartdata.teachable.com/p/machine-learning-bootcamp-w-jezyku-python-cz-i-od-a-do-z',\n",
              "   'https://e-smartdata.teachable.com/p/wprowadzenie-do-sieci-neuronowych-tensorflow-2-0-keras',\n",
              "   'https://e-smartdata.teachable.com/p/wprowadzenie-do-sieci-neuronowych-tensorflow-2-0-keras',\n",
              "   'https://e-smartdata.teachable.com/p/uczenie-maszynowe-drzewa-decyzyjne-i-lasy-losowe-python',\n",
              "   'https://e-smartdata.teachable.com/p/uczenie-maszynowe-drzewa-decyzyjne-i-lasy-losowe-python',\n",
              "   'https://e-smartdata.teachable.com/p/tworz-nowoczesne-aplikacje-webowe-w-pythonie-dash-plotly',\n",
              "   'https://e-smartdata.teachable.com/p/tworz-nowoczesne-aplikacje-webowe-w-pythonie-dash-plotly',\n",
              "   'https://e-smartdata.teachable.com/p/interaktywne-wizualizacje-danych-w-jezyku-python-plotly',\n",
              "   'https://e-smartdata.teachable.com/p/interaktywne-wizualizacje-danych-w-jezyku-python-plotly',\n",
              "   'https://e-smartdata.teachable.com/p/machine-learning-bootcamp-w-jezyku-python-cz-ii-od-a-do-z',\n",
              "   'https://e-smartdata.teachable.com/p/machine-learning-bootcamp-w-jezyku-python-cz-ii-od-a-do-z',\n",
              "   'https://e-smartdata.teachable.com/p/data-science-bootcamp-w-jezyku-python-od-a-do-z',\n",
              "   'https://e-smartdata.teachable.com/p/data-science-bootcamp-w-jezyku-python-od-a-do-z',\n",
              "   'https://e-smartdata.teachable.com/p/big-data-hadoop-oraz-mapreduce-w-jezyku-python',\n",
              "   'https://e-smartdata.teachable.com/p/big-data-hadoop-oraz-mapreduce-w-jezyku-python',\n",
              "   'https://e-smartdata.teachable.com/p/wprowadzenie-do-data-science-w-jezyku-python-pandas',\n",
              "   'https://e-smartdata.teachable.com/p/wprowadzenie-do-data-science-w-jezyku-python-pandas']},\n",
              " 'unclustered': ['https://e-smartdata.teachable.com/sign_up',\n",
              "  'https://e-smartdata.teachable.com/sign_in',\n",
              "  'https://e-smartdata.teachable.com/blog',\n",
              "  'https://e-smartdata.teachable.com/blog',\n",
              "  'https://e-smartdata.teachable.com/',\n",
              "  'https://e-smartdata.teachable.com/',\n",
              "  'https://e-smartdata.org/',\n",
              "  'https://e-smartdata.org/#one',\n",
              "  'https://www.facebook.com/esmartdata/',\n",
              "  'https://www.linkedin.com/company/34956806',\n",
              "  'https://twitter.com/pawe_krakowiak',\n",
              "  'https://www.instagram.com/e_smartdata/',\n",
              "  'https://github.com/krakowiakpawel9']}"
            ]
          },
          "metadata": {
            "tags": []
          },
          "execution_count": 25
        }
      ]
    },
    {
      "cell_type": "code",
      "metadata": {
        "id": "uFlZEB16eB4t",
        "colab_type": "code",
        "outputId": "852879a2-16a6-4df7-bad2-57e3c02109a3",
        "colab": {
          "base_uri": "https://localhost:8080/",
          "height": 33
        }
      },
      "source": [
        "results.keys()"
      ],
      "execution_count": 0,
      "outputs": [
        {
          "output_type": "execute_result",
          "data": {
            "text/plain": [
              "dict_keys(['clusters', 'unclustered'])"
            ]
          },
          "metadata": {
            "tags": []
          },
          "execution_count": 26
        }
      ]
    },
    {
      "cell_type": "code",
      "metadata": {
        "id": "d7oWhDAfgAq-",
        "colab_type": "code",
        "outputId": "d285d10a-4089-4cf8-db35-32346731bb48",
        "colab": {
          "base_uri": "https://localhost:8080/",
          "height": 1000
        }
      },
      "source": [
        "clusters = results['clusters']\n",
        "clusters"
      ],
      "execution_count": 0,
      "outputs": [
        {
          "output_type": "execute_result",
          "data": {
            "text/plain": [
              "{('https://e-smartdata.org/images/([^/]+)',\n",
              "  'https://e-smartdata.org/images/[...]'): ['https://e-smartdata.org/images/esmartdata-kurs-online-udemy.jpg',\n",
              "  'https://e-smartdata.org/images/esmartdata-kursy-online-udemy.jpg',\n",
              "  'https://e-smartdata.org/images/esmartdata-udemy-kurs-online.jpg',\n",
              "  'https://e-smartdata.org/images/programowanie-jezyk-python-kurs-online.jpg',\n",
              "  'https://e-smartdata.org/images/deep-learning-jezyk-python-konwolucyjne-sieci-neuronowe.jpg',\n",
              "  'https://e-smartdata.org/images/big-data-analiza-danych-sql-bigquery-kurs-online.jpg',\n",
              "  'https://e-smartdata.org/images/artificial-intelligence-computer-vision-python-kurs-udemy.jpg',\n",
              "  'https://e-smartdata.org/images/python-konfiguracja-instalacja-pierwsze-kroki-kurs-free-darmowy.jpg',\n",
              "  'https://e-smartdata.org/images/machine-learning-bootcamp-python-kurs-online.jpg',\n",
              "  'https://e-smartdata.org/images/sieci-neuronowe-python-tensorflow-keras-kurs.jpg',\n",
              "  'https://e-smartdata.org/images/uczenie-maszynowe-drzewa-decyzyjne-lasy-losowe-kurs-online.jpg',\n",
              "  'https://e-smartdata.org/images/tworz-nowoczesne-aplikacje-webowe-python-dash-plotly-kurs-online.jpg',\n",
              "  'https://e-smartdata.org/images/wizualizacje-danych-jezyk-python-seaborn-plotly-kurs-online.jpg',\n",
              "  'https://e-smartdata.org/images/machine-learning-bootcamp-python-kurs-online-2.jpg',\n",
              "  'https://e-smartdata.org/images/data-science-bootcamp-python-kurs.jpg',\n",
              "  'https://e-smartdata.org/images/big-data-hadoop-map-reduce-python-udemy-kurs.jpg',\n",
              "  'https://e-smartdata.org/images/wprowadzenie-do-data-science-pandas-kurs-online.jpg'],\n",
              " ('https://e-smartdata.teachable.com/p/([^/]+)',\n",
              "  'https://e-smartdata.teachable.com/p/[...]'): ['https://e-smartdata.teachable.com/p/programowanie-w-jezyku-python-od-a-do-z',\n",
              "  'https://e-smartdata.teachable.com/p/machine-learning-bootcamp-w-jezyku-python-cz-i-od-a-do-z',\n",
              "  'https://e-smartdata.teachable.com/p/machine-learning-bootcamp-w-jezyku-python-cz-ii-od-a-do-z',\n",
              "  'https://e-smartdata.teachable.com/p/deep-learning-w-jezyku-python-konwolucyjne-sieci-neuronowe',\n",
              "  'https://e-smartdata.teachable.com/p/wprowadzenie-do-sieci-neuronowych-tensorflow-2-0-keras',\n",
              "  'https://e-smartdata.teachable.com/p/data-science-bootcamp-w-jezyku-python-od-a-do-z',\n",
              "  'https://e-smartdata.teachable.com/p/big-data-analiza-danych-przy-uzyciu-sql-oraz-bigquery-gcp',\n",
              "  'https://e-smartdata.teachable.com/p/uczenie-maszynowe-drzewa-decyzyjne-i-lasy-losowe-python',\n",
              "  'https://e-smartdata.teachable.com/p/big-data-hadoop-oraz-mapreduce-w-jezyku-python',\n",
              "  'https://e-smartdata.teachable.com/p/artificial-intelligence-computer-vision-w-jezyku-python',\n",
              "  'https://e-smartdata.teachable.com/p/tworz-nowoczesne-aplikacje-webowe-w-pythonie-dash-plotly',\n",
              "  'https://e-smartdata.teachable.com/p/wprowadzenie-do-data-science-w-jezyku-python-pandas',\n",
              "  'https://e-smartdata.teachable.com/p/python-pierwsze-kroki-instalacja-i-konfiguracja-free',\n",
              "  'https://e-smartdata.teachable.com/p/interaktywne-wizualizacje-danych-w-jezyku-python-plotly',\n",
              "  'https://e-smartdata.teachable.com/p/programowanie-w-jezyku-python-od-a-do-z',\n",
              "  'https://e-smartdata.teachable.com/p/programowanie-w-jezyku-python-od-a-do-z',\n",
              "  'https://e-smartdata.teachable.com/p/deep-learning-w-jezyku-python-konwolucyjne-sieci-neuronowe',\n",
              "  'https://e-smartdata.teachable.com/p/deep-learning-w-jezyku-python-konwolucyjne-sieci-neuronowe',\n",
              "  'https://e-smartdata.teachable.com/p/big-data-analiza-danych-przy-uzyciu-sql-oraz-bigquery-gcp',\n",
              "  'https://e-smartdata.teachable.com/p/big-data-analiza-danych-przy-uzyciu-sql-oraz-bigquery-gcp',\n",
              "  'https://e-smartdata.teachable.com/p/artificial-intelligence-computer-vision-w-jezyku-python',\n",
              "  'https://e-smartdata.teachable.com/p/artificial-intelligence-computer-vision-w-jezyku-python',\n",
              "  'https://e-smartdata.teachable.com/p/python-pierwsze-kroki-instalacja-i-konfiguracja-free',\n",
              "  'https://e-smartdata.teachable.com/p/python-pierwsze-kroki-instalacja-i-konfiguracja-free',\n",
              "  'https://e-smartdata.teachable.com/p/machine-learning-bootcamp-w-jezyku-python-cz-i-od-a-do-z',\n",
              "  'https://e-smartdata.teachable.com/p/machine-learning-bootcamp-w-jezyku-python-cz-i-od-a-do-z',\n",
              "  'https://e-smartdata.teachable.com/p/wprowadzenie-do-sieci-neuronowych-tensorflow-2-0-keras',\n",
              "  'https://e-smartdata.teachable.com/p/wprowadzenie-do-sieci-neuronowych-tensorflow-2-0-keras',\n",
              "  'https://e-smartdata.teachable.com/p/uczenie-maszynowe-drzewa-decyzyjne-i-lasy-losowe-python',\n",
              "  'https://e-smartdata.teachable.com/p/uczenie-maszynowe-drzewa-decyzyjne-i-lasy-losowe-python',\n",
              "  'https://e-smartdata.teachable.com/p/tworz-nowoczesne-aplikacje-webowe-w-pythonie-dash-plotly',\n",
              "  'https://e-smartdata.teachable.com/p/tworz-nowoczesne-aplikacje-webowe-w-pythonie-dash-plotly',\n",
              "  'https://e-smartdata.teachable.com/p/interaktywne-wizualizacje-danych-w-jezyku-python-plotly',\n",
              "  'https://e-smartdata.teachable.com/p/interaktywne-wizualizacje-danych-w-jezyku-python-plotly',\n",
              "  'https://e-smartdata.teachable.com/p/machine-learning-bootcamp-w-jezyku-python-cz-ii-od-a-do-z',\n",
              "  'https://e-smartdata.teachable.com/p/machine-learning-bootcamp-w-jezyku-python-cz-ii-od-a-do-z',\n",
              "  'https://e-smartdata.teachable.com/p/data-science-bootcamp-w-jezyku-python-od-a-do-z',\n",
              "  'https://e-smartdata.teachable.com/p/data-science-bootcamp-w-jezyku-python-od-a-do-z',\n",
              "  'https://e-smartdata.teachable.com/p/big-data-hadoop-oraz-mapreduce-w-jezyku-python',\n",
              "  'https://e-smartdata.teachable.com/p/big-data-hadoop-oraz-mapreduce-w-jezyku-python',\n",
              "  'https://e-smartdata.teachable.com/p/wprowadzenie-do-data-science-w-jezyku-python-pandas',\n",
              "  'https://e-smartdata.teachable.com/p/wprowadzenie-do-data-science-w-jezyku-python-pandas']}"
            ]
          },
          "metadata": {
            "tags": []
          },
          "execution_count": 27
        }
      ]
    },
    {
      "cell_type": "code",
      "metadata": {
        "id": "UtxNLJsNgWHo",
        "colab_type": "code",
        "outputId": "8daec423-8b1d-47f6-b2ed-451c24566c41",
        "colab": {
          "base_uri": "https://localhost:8080/",
          "height": 1000
        }
      },
      "source": [
        "for key, urls in clusters.items():\n",
        "    print(f'REGEX: {key[0]}')\n",
        "    print(f'SIMPLE: {key[1]}')\n",
        "    print(f'URLS:')\n",
        "    print('\\t' + '\\n\\t'.join(urls))"
      ],
      "execution_count": 0,
      "outputs": [
        {
          "output_type": "stream",
          "text": [
            "REGEX: https://e-smartdata.teachable.com/p/([^/]+)\n",
            "SIMPLE: https://e-smartdata.teachable.com/p/[...]\n",
            "URLS:\n",
            "\thttps://e-smartdata.teachable.com/p/programowanie-w-jezyku-python-od-a-do-z\n",
            "\thttps://e-smartdata.teachable.com/p/machine-learning-bootcamp-w-jezyku-python-cz-i-od-a-do-z\n",
            "\thttps://e-smartdata.teachable.com/p/machine-learning-bootcamp-w-jezyku-python-cz-ii-od-a-do-z\n",
            "\thttps://e-smartdata.teachable.com/p/deep-learning-w-jezyku-python-konwolucyjne-sieci-neuronowe\n",
            "\thttps://e-smartdata.teachable.com/p/wprowadzenie-do-sieci-neuronowych-tensorflow-2-0-keras\n",
            "\thttps://e-smartdata.teachable.com/p/data-science-bootcamp-w-jezyku-python-od-a-do-z\n",
            "\thttps://e-smartdata.teachable.com/p/big-data-analiza-danych-przy-uzyciu-sql-oraz-bigquery-gcp\n",
            "\thttps://e-smartdata.teachable.com/p/uczenie-maszynowe-drzewa-decyzyjne-i-lasy-losowe-python\n",
            "\thttps://e-smartdata.teachable.com/p/big-data-hadoop-oraz-mapreduce-w-jezyku-python\n",
            "\thttps://e-smartdata.teachable.com/p/artificial-intelligence-computer-vision-w-jezyku-python\n",
            "\thttps://e-smartdata.teachable.com/p/tworz-nowoczesne-aplikacje-webowe-w-pythonie-dash-plotly\n",
            "\thttps://e-smartdata.teachable.com/p/wprowadzenie-do-data-science-w-jezyku-python-pandas\n",
            "\thttps://e-smartdata.teachable.com/p/python-pierwsze-kroki-instalacja-i-konfiguracja-free\n",
            "\thttps://e-smartdata.teachable.com/p/interaktywne-wizualizacje-danych-w-jezyku-python-plotly\n",
            "\thttps://e-smartdata.teachable.com/p/programowanie-w-jezyku-python-od-a-do-z\n",
            "\thttps://e-smartdata.teachable.com/p/programowanie-w-jezyku-python-od-a-do-z\n",
            "\thttps://e-smartdata.teachable.com/p/deep-learning-w-jezyku-python-konwolucyjne-sieci-neuronowe\n",
            "\thttps://e-smartdata.teachable.com/p/deep-learning-w-jezyku-python-konwolucyjne-sieci-neuronowe\n",
            "\thttps://e-smartdata.teachable.com/p/big-data-analiza-danych-przy-uzyciu-sql-oraz-bigquery-gcp\n",
            "\thttps://e-smartdata.teachable.com/p/big-data-analiza-danych-przy-uzyciu-sql-oraz-bigquery-gcp\n",
            "\thttps://e-smartdata.teachable.com/p/artificial-intelligence-computer-vision-w-jezyku-python\n",
            "\thttps://e-smartdata.teachable.com/p/artificial-intelligence-computer-vision-w-jezyku-python\n",
            "\thttps://e-smartdata.teachable.com/p/python-pierwsze-kroki-instalacja-i-konfiguracja-free\n",
            "\thttps://e-smartdata.teachable.com/p/python-pierwsze-kroki-instalacja-i-konfiguracja-free\n",
            "\thttps://e-smartdata.teachable.com/p/machine-learning-bootcamp-w-jezyku-python-cz-i-od-a-do-z\n",
            "\thttps://e-smartdata.teachable.com/p/machine-learning-bootcamp-w-jezyku-python-cz-i-od-a-do-z\n",
            "\thttps://e-smartdata.teachable.com/p/wprowadzenie-do-sieci-neuronowych-tensorflow-2-0-keras\n",
            "\thttps://e-smartdata.teachable.com/p/wprowadzenie-do-sieci-neuronowych-tensorflow-2-0-keras\n",
            "\thttps://e-smartdata.teachable.com/p/uczenie-maszynowe-drzewa-decyzyjne-i-lasy-losowe-python\n",
            "\thttps://e-smartdata.teachable.com/p/uczenie-maszynowe-drzewa-decyzyjne-i-lasy-losowe-python\n",
            "\thttps://e-smartdata.teachable.com/p/tworz-nowoczesne-aplikacje-webowe-w-pythonie-dash-plotly\n",
            "\thttps://e-smartdata.teachable.com/p/tworz-nowoczesne-aplikacje-webowe-w-pythonie-dash-plotly\n",
            "\thttps://e-smartdata.teachable.com/p/interaktywne-wizualizacje-danych-w-jezyku-python-plotly\n",
            "\thttps://e-smartdata.teachable.com/p/interaktywne-wizualizacje-danych-w-jezyku-python-plotly\n",
            "\thttps://e-smartdata.teachable.com/p/machine-learning-bootcamp-w-jezyku-python-cz-ii-od-a-do-z\n",
            "\thttps://e-smartdata.teachable.com/p/machine-learning-bootcamp-w-jezyku-python-cz-ii-od-a-do-z\n",
            "\thttps://e-smartdata.teachable.com/p/data-science-bootcamp-w-jezyku-python-od-a-do-z\n",
            "\thttps://e-smartdata.teachable.com/p/data-science-bootcamp-w-jezyku-python-od-a-do-z\n",
            "\thttps://e-smartdata.teachable.com/p/big-data-hadoop-oraz-mapreduce-w-jezyku-python\n",
            "\thttps://e-smartdata.teachable.com/p/big-data-hadoop-oraz-mapreduce-w-jezyku-python\n",
            "\thttps://e-smartdata.teachable.com/p/wprowadzenie-do-data-science-w-jezyku-python-pandas\n",
            "\thttps://e-smartdata.teachable.com/p/wprowadzenie-do-data-science-w-jezyku-python-pandas\n",
            "REGEX: https://e-smartdata.org/images/([^/]+)\n",
            "SIMPLE: https://e-smartdata.org/images/[...]\n",
            "URLS:\n",
            "\thttps://e-smartdata.org/images/esmartdata-kurs-online-udemy.jpg\n",
            "\thttps://e-smartdata.org/images/esmartdata-kursy-online-udemy.jpg\n",
            "\thttps://e-smartdata.org/images/esmartdata-udemy-kurs-online.jpg\n",
            "\thttps://e-smartdata.org/images/programowanie-jezyk-python-kurs-online.jpg\n",
            "\thttps://e-smartdata.org/images/deep-learning-jezyk-python-konwolucyjne-sieci-neuronowe.jpg\n",
            "\thttps://e-smartdata.org/images/big-data-analiza-danych-sql-bigquery-kurs-online.jpg\n",
            "\thttps://e-smartdata.org/images/artificial-intelligence-computer-vision-python-kurs-udemy.jpg\n",
            "\thttps://e-smartdata.org/images/python-konfiguracja-instalacja-pierwsze-kroki-kurs-free-darmowy.jpg\n",
            "\thttps://e-smartdata.org/images/machine-learning-bootcamp-python-kurs-online.jpg\n",
            "\thttps://e-smartdata.org/images/sieci-neuronowe-python-tensorflow-keras-kurs.jpg\n",
            "\thttps://e-smartdata.org/images/uczenie-maszynowe-drzewa-decyzyjne-lasy-losowe-kurs-online.jpg\n",
            "\thttps://e-smartdata.org/images/tworz-nowoczesne-aplikacje-webowe-python-dash-plotly-kurs-online.jpg\n",
            "\thttps://e-smartdata.org/images/wizualizacje-danych-jezyk-python-seaborn-plotly-kurs-online.jpg\n",
            "\thttps://e-smartdata.org/images/machine-learning-bootcamp-python-kurs-online-2.jpg\n",
            "\thttps://e-smartdata.org/images/data-science-bootcamp-python-kurs.jpg\n",
            "\thttps://e-smartdata.org/images/big-data-hadoop-map-reduce-python-udemy-kurs.jpg\n",
            "\thttps://e-smartdata.org/images/wprowadzenie-do-data-science-pandas-kurs-online.jpg\n"
          ],
          "name": "stdout"
        }
      ]
    },
    {
      "cell_type": "code",
      "metadata": {
        "id": "K3FRjC4Tgc_I",
        "colab_type": "code",
        "colab": {}
      },
      "source": [
        ""
      ],
      "execution_count": 0,
      "outputs": []
    }
  ]
}