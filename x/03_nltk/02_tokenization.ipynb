{
  "nbformat": 4,
  "nbformat_minor": 0,
  "metadata": {
    "colab": {
      "name": "01_preprocessing.ipynb",
      "provenance": [],
      "include_colab_link": true
    },
    "kernelspec": {
      "name": "python3",
      "display_name": "Python 3"
    }
  },
  "cells": [
    {
      "cell_type": "markdown",
      "metadata": {
        "id": "view-in-github",
        "colab_type": "text"
      },
      "source": [
        "<a href=\"https://colab.research.google.com/github/krakowiakpawel9/ml_course/blob/master/x/03_nltk/02_tokenization.ipynb\" target=\"_parent\"><img src=\"https://colab.research.google.com/assets/colab-badge.svg\" alt=\"Open In Colab\"/></a>"
      ]
    },
    {
      "cell_type": "markdown",
      "metadata": {
        "id": "UbjsT92Xd3z1",
        "colab_type": "text"
      },
      "source": [
        "* @author: krakowiakpawel9@gmail.com  \n",
        "* @site: e-smartdata.org\n",
        "\n",
        "### nltk\n",
        "Strona biblioteki: [https://www.nltk.org/](https://www.nltk.org/)  \n",
        "\n",
        "Podstawowa biblioteka do przetwarzania języka naturalnego w języku Python.\n",
        "\n",
        "Aby zainstalować bibliotekę nltk, użyj polecenia poniżej:\n",
        "```\n",
        "!pip install nltk\n",
        "```\n",
        "Aby zaktualizować do najnowszej wersji użyj polecenia poniżej:\n",
        "```\n",
        "!pip install --upgrade nltk\n",
        "```\n",
        "Kurs stworzony w oparciu o wersję `3.2.5`\n",
        "\n",
        "### Spis treści:\n",
        "1. [Import bibliotek](#0)\n",
        "2. [Tokenizacja](#1)\n",
        "\n"
      ]
    },
    {
      "cell_type": "markdown",
      "metadata": {
        "id": "YkIALacsUnj7",
        "colab_type": "text"
      },
      "source": [
        "### <a name='0'></a> Import bibliotek"
      ]
    },
    {
      "cell_type": "code",
      "metadata": {
        "id": "A0uiwgITPOnq",
        "colab_type": "code",
        "outputId": "a73e84eb-fcf9-4e0f-ff1d-ce023dd1aa4e",
        "colab": {
          "base_uri": "https://localhost:8080/",
          "height": 68
        }
      },
      "source": [
        "import nltk\n",
        "\n",
        "nltk.__version__"
      ],
      "execution_count": 1,
      "outputs": [
        {
          "output_type": "stream",
          "text": [
            "[nltk_data] Downloading package punkt to /root/nltk_data...\n",
            "[nltk_data]   Package punkt is already up-to-date!\n"
          ],
          "name": "stdout"
        },
        {
          "output_type": "execute_result",
          "data": {
            "text/plain": [
              "'3.2.5'"
            ]
          },
          "metadata": {
            "tags": []
          },
          "execution_count": 1
        }
      ]
    },
    {
      "cell_type": "markdown",
      "metadata": {
        "id": "hQHOd6YDPSzh",
        "colab_type": "text"
      },
      "source": [
        "### <a name='1'></a> Tokenizacja"
      ]
    },
    {
      "cell_type": "code",
      "metadata": {
        "id": "I83w5yg9PQUT",
        "colab_type": "code",
        "colab": {}
      },
      "source": [
        "text = 'Nancy wants to live a long time.'\n",
        "# token -> zdanie\n",
        "# token -> wyraz\n",
        "# token -> pojedynczy znak"
      ],
      "execution_count": 0,
      "outputs": []
    },
    {
      "cell_type": "code",
      "metadata": {
        "id": "Vwij8ms5PTSw",
        "colab_type": "code",
        "outputId": "f496a2e7-b76b-47a4-905a-13f33074f257",
        "colab": {
          "base_uri": "https://localhost:8080/",
          "height": 54
        }
      },
      "source": [
        "text = \"\"\"Nancy wants to live a long time. She wants to live for one hundred years. \n",
        "She is five years old now. She wants to live 95 more years. \n",
        "Then she will be 100. Her father is 30 years old.\n",
        "He wants to live a long time, too. He wants to live for one hundred years. \n",
        "He wants to live for 70 more years.\"\"\"\n",
        "\n",
        "text"
      ],
      "execution_count": 12,
      "outputs": [
        {
          "output_type": "execute_result",
          "data": {
            "text/plain": [
              "'Nancy wants to live a long time. She wants to live for one hundred years. \\nShe is five years old now. She wants to live 95 more years. \\nThen she will be 100. Her father is 30 years old.\\nHe wants to live a long time, too. He wants to live for one hundred years. \\nHe wants to live for 70 more years.'"
            ]
          },
          "metadata": {
            "tags": []
          },
          "execution_count": 12
        }
      ]
    },
    {
      "cell_type": "code",
      "metadata": {
        "id": "1sO_oeQ7PsxM",
        "colab_type": "code",
        "outputId": "223fd948-b3ee-4513-b695-a11e14e0331b",
        "colab": {
          "base_uri": "https://localhost:8080/",
          "height": 103
        }
      },
      "source": [
        "print(text)"
      ],
      "execution_count": 13,
      "outputs": [
        {
          "output_type": "stream",
          "text": [
            "Nancy wants to live a long time. She wants to live for one hundred years. \n",
            "She is five years old now. She wants to live 95 more years. \n",
            "Then she will be 100. Her father is 30 years old.\n",
            "He wants to live a long time, too. He wants to live for one hundred years. \n",
            "He wants to live for 70 more years.\n"
          ],
          "name": "stdout"
        }
      ]
    },
    {
      "cell_type": "markdown",
      "metadata": {
        "id": "xCP5zd--P7a6",
        "colab_type": "text"
      },
      "source": [
        "Tokenizacja zdań"
      ]
    },
    {
      "cell_type": "code",
      "metadata": {
        "id": "6FnPTANoPvtG",
        "colab_type": "code",
        "outputId": "518ffaa6-ebfc-4a9e-83bc-4fa242d18e52",
        "colab": {
          "base_uri": "https://localhost:8080/",
          "height": 171
        }
      },
      "source": [
        "from nltk.tokenize import sent_tokenize\n",
        "\n",
        "sent_tokenize(text)"
      ],
      "execution_count": 14,
      "outputs": [
        {
          "output_type": "execute_result",
          "data": {
            "text/plain": [
              "['Nancy wants to live a long time.',\n",
              " 'She wants to live for one hundred years.',\n",
              " 'She is five years old now.',\n",
              " 'She wants to live 95 more years.',\n",
              " 'Then she will be 100.',\n",
              " 'Her father is 30 years old.',\n",
              " 'He wants to live a long time, too.',\n",
              " 'He wants to live for one hundred years.',\n",
              " 'He wants to live for 70 more years.']"
            ]
          },
          "metadata": {
            "tags": []
          },
          "execution_count": 14
        }
      ]
    },
    {
      "cell_type": "code",
      "metadata": {
        "id": "vd_5xx3sDFOG",
        "colab_type": "code",
        "outputId": "28486ab6-dc6e-49ea-e416-87b94d5ad63b",
        "colab": {
          "base_uri": "https://localhost:8080/",
          "height": 68
        }
      },
      "source": [
        "nltk.download('punkt')"
      ],
      "execution_count": 6,
      "outputs": [
        {
          "output_type": "stream",
          "text": [
            "[nltk_data] Downloading package punkt to /root/nltk_data...\n",
            "[nltk_data]   Package punkt is already up-to-date!\n"
          ],
          "name": "stdout"
        },
        {
          "output_type": "execute_result",
          "data": {
            "text/plain": [
              "True"
            ]
          },
          "metadata": {
            "tags": []
          },
          "execution_count": 6
        }
      ]
    },
    {
      "cell_type": "code",
      "metadata": {
        "id": "REo1pjKPDJjd",
        "colab_type": "code",
        "outputId": "40beaec4-754e-4198-f15d-226affc0e3b6",
        "colab": {
          "base_uri": "https://localhost:8080/",
          "height": 257
        }
      },
      "source": [
        "sent_tokenize(text)"
      ],
      "execution_count": 7,
      "outputs": [
        {
          "output_type": "execute_result",
          "data": {
            "text/plain": [
              "['Nancy wants to live a long time.',\n",
              " 'She wants to live for one hundred years.',\n",
              " 'She is five years old now.',\n",
              " 'She wants to live 95 more years.',\n",
              " 'Then she will be 100.',\n",
              " 'Her father is 30 years old.',\n",
              " 'He wants to live a long time, too.',\n",
              " 'He wants to live for one hundred years.',\n",
              " 'He wants to live for 70 more years.',\n",
              " '\"Daddy, we will grow old together, okay?\"',\n",
              " 'Nancy said to her father.',\n",
              " '\"Yes, honey, we will grow old together,\" he said to Nancy.',\n",
              " 'Then Nancy smiled.',\n",
              " 'She gave her daddy a big hug.']"
            ]
          },
          "metadata": {
            "tags": []
          },
          "execution_count": 7
        }
      ]
    },
    {
      "cell_type": "markdown",
      "metadata": {
        "id": "s-6MjJovP-sQ",
        "colab_type": "text"
      },
      "source": [
        "Tokenizacja słów"
      ]
    },
    {
      "cell_type": "code",
      "metadata": {
        "id": "wxeSsn3vPx1Q",
        "colab_type": "code",
        "outputId": "fb7186e8-9a91-4961-b3f8-cee28eebb903",
        "colab": {
          "base_uri": "https://localhost:8080/",
          "height": 1000
        }
      },
      "source": [
        "from nltk.tokenize import word_tokenize\n",
        "\n",
        "tokenized_text = word_tokenize(text)\n",
        "tokenized_text"
      ],
      "execution_count": 15,
      "outputs": [
        {
          "output_type": "execute_result",
          "data": {
            "text/plain": [
              "['Nancy',\n",
              " 'wants',\n",
              " 'to',\n",
              " 'live',\n",
              " 'a',\n",
              " 'long',\n",
              " 'time',\n",
              " '.',\n",
              " 'She',\n",
              " 'wants',\n",
              " 'to',\n",
              " 'live',\n",
              " 'for',\n",
              " 'one',\n",
              " 'hundred',\n",
              " 'years',\n",
              " '.',\n",
              " 'She',\n",
              " 'is',\n",
              " 'five',\n",
              " 'years',\n",
              " 'old',\n",
              " 'now',\n",
              " '.',\n",
              " 'She',\n",
              " 'wants',\n",
              " 'to',\n",
              " 'live',\n",
              " '95',\n",
              " 'more',\n",
              " 'years',\n",
              " '.',\n",
              " 'Then',\n",
              " 'she',\n",
              " 'will',\n",
              " 'be',\n",
              " '100',\n",
              " '.',\n",
              " 'Her',\n",
              " 'father',\n",
              " 'is',\n",
              " '30',\n",
              " 'years',\n",
              " 'old',\n",
              " '.',\n",
              " 'He',\n",
              " 'wants',\n",
              " 'to',\n",
              " 'live',\n",
              " 'a',\n",
              " 'long',\n",
              " 'time',\n",
              " ',',\n",
              " 'too',\n",
              " '.',\n",
              " 'He',\n",
              " 'wants',\n",
              " 'to',\n",
              " 'live',\n",
              " 'for',\n",
              " 'one',\n",
              " 'hundred',\n",
              " 'years',\n",
              " '.',\n",
              " 'He',\n",
              " 'wants',\n",
              " 'to',\n",
              " 'live',\n",
              " 'for',\n",
              " '70',\n",
              " 'more',\n",
              " 'years',\n",
              " '.']"
            ]
          },
          "metadata": {
            "tags": []
          },
          "execution_count": 15
        }
      ]
    },
    {
      "cell_type": "code",
      "metadata": {
        "id": "Rih14-G4HPIj",
        "colab_type": "code",
        "colab": {
          "base_uri": "https://localhost:8080/",
          "height": 54
        },
        "outputId": "70e84f96-a764-46bf-9e76-e9f0fb805f51"
      },
      "source": [
        "print(tokenized_text)"
      ],
      "execution_count": 16,
      "outputs": [
        {
          "output_type": "stream",
          "text": [
            "['Nancy', 'wants', 'to', 'live', 'a', 'long', 'time', '.', 'She', 'wants', 'to', 'live', 'for', 'one', 'hundred', 'years', '.', 'She', 'is', 'five', 'years', 'old', 'now', '.', 'She', 'wants', 'to', 'live', '95', 'more', 'years', '.', 'Then', 'she', 'will', 'be', '100', '.', 'Her', 'father', 'is', '30', 'years', 'old', '.', 'He', 'wants', 'to', 'live', 'a', 'long', 'time', ',', 'too', '.', 'He', 'wants', 'to', 'live', 'for', 'one', 'hundred', 'years', '.', 'He', 'wants', 'to', 'live', 'for', '70', 'more', 'years', '.']\n"
          ],
          "name": "stdout"
        }
      ]
    },
    {
      "cell_type": "markdown",
      "metadata": {
        "id": "QEux3kRdQVnS",
        "colab_type": "text"
      },
      "source": [
        "Tokenizacja znaków"
      ]
    },
    {
      "cell_type": "code",
      "metadata": {
        "id": "A_NnFcvxP_0y",
        "colab_type": "code",
        "outputId": "bf1ac4b2-9933-4e51-e1f1-f1db93b7d31e",
        "colab": {
          "base_uri": "https://localhost:8080/",
          "height": 34
        }
      },
      "source": [
        "numbers = '98734984'\n",
        "tokens = list(numbers)\n",
        "tokens"
      ],
      "execution_count": 9,
      "outputs": [
        {
          "output_type": "execute_result",
          "data": {
            "text/plain": [
              "['9', '8', '7', '3', '4', '9', '8', '4']"
            ]
          },
          "metadata": {
            "tags": []
          },
          "execution_count": 9
        }
      ]
    },
    {
      "cell_type": "code",
      "metadata": {
        "id": "zvR3ggYFQSiM",
        "colab_type": "code",
        "outputId": "93ff1df2-45f8-4dd3-a2fd-39b0fa308cbf",
        "colab": {
          "base_uri": "https://localhost:8080/",
          "height": 171
        }
      },
      "source": [
        "sentences = sent_tokenize(text)\n",
        "tokens = [word_tokenize(sentence) for sentence in sentences]\n",
        "\n",
        "for line in tokens:\n",
        "    print(line)"
      ],
      "execution_count": 17,
      "outputs": [
        {
          "output_type": "stream",
          "text": [
            "['Nancy', 'wants', 'to', 'live', 'a', 'long', 'time', '.']\n",
            "['She', 'wants', 'to', 'live', 'for', 'one', 'hundred', 'years', '.']\n",
            "['She', 'is', 'five', 'years', 'old', 'now', '.']\n",
            "['She', 'wants', 'to', 'live', '95', 'more', 'years', '.']\n",
            "['Then', 'she', 'will', 'be', '100', '.']\n",
            "['Her', 'father', 'is', '30', 'years', 'old', '.']\n",
            "['He', 'wants', 'to', 'live', 'a', 'long', 'time', ',', 'too', '.']\n",
            "['He', 'wants', 'to', 'live', 'for', 'one', 'hundred', 'years', '.']\n",
            "['He', 'wants', 'to', 'live', 'for', '70', 'more', 'years', '.']\n"
          ],
          "name": "stdout"
        }
      ]
    },
    {
      "cell_type": "code",
      "metadata": {
        "id": "v4jMHUQ8Dqkc",
        "colab_type": "code",
        "colab": {}
      },
      "source": [
        ""
      ],
      "execution_count": 0,
      "outputs": []
    }
  ]
}