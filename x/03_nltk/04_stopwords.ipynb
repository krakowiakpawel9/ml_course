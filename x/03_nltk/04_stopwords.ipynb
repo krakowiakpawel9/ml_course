{
  "nbformat": 4,
  "nbformat_minor": 0,
  "metadata": {
    "colab": {
      "name": "01_preprocessing.ipynb",
      "provenance": [],
      "include_colab_link": true
    },
    "kernelspec": {
      "name": "python3",
      "display_name": "Python 3"
    }
  },
  "cells": [
    {
      "cell_type": "markdown",
      "metadata": {
        "id": "view-in-github",
        "colab_type": "text"
      },
      "source": [
        "<a href=\"https://colab.research.google.com/github/krakowiakpawel9/ml_course/blob/master/x/03_nltk/04_stopwords.ipynb\" target=\"_parent\"><img src=\"https://colab.research.google.com/assets/colab-badge.svg\" alt=\"Open In Colab\"/></a>"
      ]
    },
    {
      "cell_type": "markdown",
      "metadata": {
        "id": "UbjsT92Xd3z1",
        "colab_type": "text"
      },
      "source": [
        "* @author: krakowiakpawel9@gmail.com  \n",
        "* @site: e-smartdata.org\n",
        "\n",
        "### nltk\n",
        "Strona biblioteki: [https://www.nltk.org/](https://www.nltk.org/)  \n",
        "\n",
        "Podstawowa biblioteka do przetwarzania języka naturalnego w języku Python.\n",
        "\n",
        "Aby zainstalować bibliotekę nltk, użyj polecenia poniżej:\n",
        "```\n",
        "!pip install nltk\n",
        "```\n",
        "Aby zaktualizować do najnowszej wersji użyj polecenia poniżej:\n",
        "```\n",
        "!pip install --upgrade nltk\n",
        "```\n",
        "Kurs stworzony w oparciu o wersję `3.2.5`\n",
        "\n",
        "### Spis treści:\n",
        "1. [Import bibliotek](#0)\n",
        "2. [Tokenizacja](#1)\n",
        "3. [Stopwords](#2)\n",
        "4. [Stopwords - różne języki](#3)\n",
        "5. [Stopwords - lista dostępnych języków](#4)\n",
        "6. [Stopwords - język polski](#5)\n"
      ]
    },
    {
      "cell_type": "markdown",
      "metadata": {
        "id": "YkIALacsUnj7",
        "colab_type": "text"
      },
      "source": [
        "### <a name='0'></a> Import bibliotek"
      ]
    },
    {
      "cell_type": "code",
      "metadata": {
        "id": "A0uiwgITPOnq",
        "colab_type": "code",
        "outputId": "51a8af01-182a-429b-af64-570286139688",
        "colab": {
          "base_uri": "https://localhost:8080/",
          "height": 72
        }
      },
      "source": [
        "import matplotlib.pyplot as plt\n",
        "import seaborn as sns\n",
        "import nltk\n",
        "\n",
        "sns.set(font_scale=1.3)\n",
        "nltk.download('punkt')"
      ],
      "execution_count": 46,
      "outputs": [
        {
          "output_type": "stream",
          "text": [
            "[nltk_data] Downloading package punkt to /root/nltk_data...\n",
            "[nltk_data]   Package punkt is already up-to-date!\n"
          ],
          "name": "stdout"
        },
        {
          "output_type": "execute_result",
          "data": {
            "text/plain": [
              "True"
            ]
          },
          "metadata": {
            "tags": []
          },
          "execution_count": 46
        }
      ]
    },
    {
      "cell_type": "code",
      "metadata": {
        "id": "Vwij8ms5PTSw",
        "colab_type": "code",
        "outputId": "a2078a7e-59ec-4b5c-c774-f39d8db96355",
        "colab": {
          "base_uri": "https://localhost:8080/",
          "height": 55
        }
      },
      "source": [
        "text = \"\"\"Nancy wants to live a long time. She wants to live for one hundred years. She is five years old now.\n",
        "She wants to live 95 more years. Then she will be 100. Her father is 30 years old.\n",
        "He wants to live a long time, too. He wants to live for one hundred years. He wants to live for 70 more years.\n",
        "\"Daddy, we will grow old together, okay?\" Nancy said to her father. \"Yes, honey, we will grow old together,\" he said to Nancy.\n",
        "Then Nancy smiled. She gave her daddy a big hug.\"\"\"\n",
        "\n",
        "text"
      ],
      "execution_count": 2,
      "outputs": [
        {
          "output_type": "execute_result",
          "data": {
            "text/plain": [
              "'Nancy wants to live a long time. She wants to live for one hundred years. She is five years old now.\\nShe wants to live 95 more years. Then she will be 100. Her father is 30 years old.\\nHe wants to live a long time, too. He wants to live for one hundred years. He wants to live for 70 more years.\\n\"Daddy, we will grow old together, okay?\" Nancy said to her father. \"Yes, honey, we will grow old together,\" he said to Nancy.\\nThen Nancy smiled. She gave her daddy a big hug.'"
            ]
          },
          "metadata": {
            "tags": []
          },
          "execution_count": 2
        }
      ]
    },
    {
      "cell_type": "code",
      "metadata": {
        "id": "1sO_oeQ7PsxM",
        "colab_type": "code",
        "outputId": "32b94538-5a36-4c54-8093-451274f3cebf",
        "colab": {
          "base_uri": "https://localhost:8080/",
          "height": 108
        }
      },
      "source": [
        "print(text)"
      ],
      "execution_count": 3,
      "outputs": [
        {
          "output_type": "stream",
          "text": [
            "Nancy wants to live a long time. She wants to live for one hundred years. She is five years old now.\n",
            "She wants to live 95 more years. Then she will be 100. Her father is 30 years old.\n",
            "He wants to live a long time, too. He wants to live for one hundred years. He wants to live for 70 more years.\n",
            "\"Daddy, we will grow old together, okay?\" Nancy said to her father. \"Yes, honey, we will grow old together,\" he said to Nancy.\n",
            "Then Nancy smiled. She gave her daddy a big hug.\n"
          ],
          "name": "stdout"
        }
      ]
    },
    {
      "cell_type": "markdown",
      "metadata": {
        "id": "s-6MjJovP-sQ",
        "colab_type": "text"
      },
      "source": [
        "### <a name='1'></a> Tokenizacja"
      ]
    },
    {
      "cell_type": "code",
      "metadata": {
        "id": "wxeSsn3vPx1Q",
        "colab_type": "code",
        "outputId": "2fd47310-1e3f-4049-8411-cf5865cff872",
        "colab": {
          "base_uri": "https://localhost:8080/",
          "height": 35
        }
      },
      "source": [
        "from nltk.tokenize import word_tokenize\n",
        "\n",
        "tokenized_text = word_tokenize(text)\n",
        "tokenized_text[:10]"
      ],
      "execution_count": 4,
      "outputs": [
        {
          "output_type": "execute_result",
          "data": {
            "text/plain": [
              "['Nancy', 'wants', 'to', 'live', 'a', 'long', 'time', '.', 'She', 'wants']"
            ]
          },
          "metadata": {
            "tags": []
          },
          "execution_count": 4
        }
      ]
    },
    {
      "cell_type": "markdown",
      "metadata": {
        "id": "cCzmnaszRWbB",
        "colab_type": "text"
      },
      "source": [
        "Rozkład tokenów"
      ]
    },
    {
      "cell_type": "code",
      "metadata": {
        "id": "zvR3ggYFQSiM",
        "colab_type": "code",
        "outputId": "cdfe52b2-7ed8-4c48-e7f2-d0fcd1355e43",
        "colab": {
          "base_uri": "https://localhost:8080/",
          "height": 908
        }
      },
      "source": [
        "from nltk.probability import FreqDist\n",
        "\n",
        "freq_dist = FreqDist(tokenized_text)\n",
        "freq_dist"
      ],
      "execution_count": 5,
      "outputs": [
        {
          "output_type": "execute_result",
          "data": {
            "text/plain": [
              "FreqDist({\"''\": 2,\n",
              "          ',': 6,\n",
              "          '.': 13,\n",
              "          '100': 1,\n",
              "          '30': 1,\n",
              "          '70': 1,\n",
              "          '95': 1,\n",
              "          '?': 1,\n",
              "          'Daddy': 1,\n",
              "          'He': 3,\n",
              "          'Her': 1,\n",
              "          'Nancy': 4,\n",
              "          'She': 4,\n",
              "          'Then': 2,\n",
              "          'Yes': 1,\n",
              "          '``': 2,\n",
              "          'a': 3,\n",
              "          'be': 1,\n",
              "          'big': 1,\n",
              "          'daddy': 1,\n",
              "          'father': 2,\n",
              "          'five': 1,\n",
              "          'for': 3,\n",
              "          'gave': 1,\n",
              "          'grow': 2,\n",
              "          'he': 1,\n",
              "          'her': 2,\n",
              "          'honey': 1,\n",
              "          'hug': 1,\n",
              "          'hundred': 2,\n",
              "          'is': 2,\n",
              "          'live': 6,\n",
              "          'long': 2,\n",
              "          'more': 2,\n",
              "          'now': 1,\n",
              "          'okay': 1,\n",
              "          'old': 4,\n",
              "          'one': 2,\n",
              "          'said': 2,\n",
              "          'she': 1,\n",
              "          'smiled': 1,\n",
              "          'time': 2,\n",
              "          'to': 8,\n",
              "          'together': 2,\n",
              "          'too': 1,\n",
              "          'wants': 6,\n",
              "          'we': 2,\n",
              "          'will': 3,\n",
              "          'years': 6})"
            ]
          },
          "metadata": {
            "tags": []
          },
          "execution_count": 5
        }
      ]
    },
    {
      "cell_type": "code",
      "metadata": {
        "id": "n4tlm3MlRjUS",
        "colab_type": "code",
        "outputId": "5d5d9a25-6750-4298-e37a-864488a2f340",
        "colab": {
          "base_uri": "https://localhost:8080/",
          "height": 199
        }
      },
      "source": [
        "freq_dist.most_common(10)"
      ],
      "execution_count": 42,
      "outputs": [
        {
          "output_type": "execute_result",
          "data": {
            "text/plain": [
              "[('wants', 6),\n",
              " ('live', 6),\n",
              " ('years', 6),\n",
              " ('nancy', 4),\n",
              " ('she', 4),\n",
              " ('old', 4),\n",
              " ('he', 3),\n",
              " ('long', 2),\n",
              " ('time', 2),\n",
              " ('one', 2)]"
            ]
          },
          "metadata": {
            "tags": []
          },
          "execution_count": 42
        }
      ]
    },
    {
      "cell_type": "code",
      "metadata": {
        "id": "f2gJ4PabRo9b",
        "colab_type": "code",
        "outputId": "9c8455da-b50c-420b-fb31-d6b3b28785ee",
        "colab": {
          "base_uri": "https://localhost:8080/",
          "height": 448
        }
      },
      "source": [
        "plt.figure(figsize=(15, 6))\n",
        "freq_dist.plot(10, title='Rozkład słów', cumulative=False)"
      ],
      "execution_count": 7,
      "outputs": [
        {
          "output_type": "display_data",
          "data": {
            "image/png": "[encoded data removed]",
            "text/plain": [
              "<Figure size 1080x432 with 1 Axes>"
            ]
          },
          "metadata": {
            "tags": []
          }
        }
      ]
    },
    {
      "cell_type": "code",
      "metadata": {
        "id": "4QEs9ZTmRxfz",
        "colab_type": "code",
        "outputId": "daeb3ba5-f4dd-41ce-b26b-0e1b1ee57fe9",
        "colab": {
          "base_uri": "https://localhost:8080/",
          "height": 465
        }
      },
      "source": [
        "plt.figure(figsize=(15, 6))\n",
        "freq_dist.plot(30, title='Rozkład słów', cumulative=False)"
      ],
      "execution_count": 0,
      "outputs": [
        {
          "output_type": "display_data",
          "data": {
            "image/png": "[encoded data removed]",
            "text/plain": [
              "<Figure size 1080x432 with 1 Axes>"
            ]
          },
          "metadata": {
            "tags": []
          }
        }
      ]
    },
    {
      "cell_type": "code",
      "metadata": {
        "id": "0yq1yxxUSAsS",
        "colab_type": "code",
        "outputId": "23d5a195-1037-4862-81c5-285b707fd4aa",
        "colab": {
          "base_uri": "https://localhost:8080/",
          "height": 466
        }
      },
      "source": [
        "plt.figure(figsize=(15, 6))\n",
        "freq_dist.plot(30, title='Rozkład słów - skumulowany', cumulative=True)"
      ],
      "execution_count": 0,
      "outputs": [
        {
          "output_type": "display_data",
          "data": {
            "image/png": "[encoded data removed]",
            "text/plain": [
              "<Figure size 1080x432 with 1 Axes>"
            ]
          },
          "metadata": {
            "tags": []
          }
        }
      ]
    },
    {
      "cell_type": "markdown",
      "metadata": {
        "id": "JlN-UXDMTLiJ",
        "colab_type": "text"
      },
      "source": [
        "### <a name='2'></a> Stopwords"
      ]
    },
    {
      "cell_type": "code",
      "metadata": {
        "id": "_AZVvK9HSDEG",
        "colab_type": "code",
        "outputId": "aa92c3d3-6b09-4822-cc05-a56c16a4a98e",
        "colab": {
          "base_uri": "https://localhost:8080/",
          "height": 1000
        }
      },
      "source": [
        "from nltk.corpus import stopwords\n",
        "\n",
        "stop_words = stopwords.words('english')\n",
        "stop_words"
      ],
      "execution_count": 8,
      "outputs": [
        {
          "output_type": "error",
          "ename": "LookupError",
          "evalue": "ignored",
          "traceback": [
            "\u001b[0;31m---------------------------------------------------------------------------\u001b[0m",
            "\u001b[0;31mLookupError\u001b[0m                               Traceback (most recent call last)",
            "\u001b[0;32m/usr/local/lib/python3.6/dist-packages/nltk/corpus/util.py\u001b[0m in \u001b[0;36m__load\u001b[0;34m(self)\u001b[0m\n\u001b[1;32m     79\u001b[0m             \u001b[0;32mexcept\u001b[0m \u001b[0mLookupError\u001b[0m \u001b[0;32mas\u001b[0m \u001b[0me\u001b[0m\u001b[0;34m:\u001b[0m\u001b[0;34m\u001b[0m\u001b[0;34m\u001b[0m\u001b[0m\n\u001b[0;32m---> 80\u001b[0;31m                 \u001b[0;32mtry\u001b[0m\u001b[0;34m:\u001b[0m \u001b[0mroot\u001b[0m \u001b[0;34m=\u001b[0m \u001b[0mnltk\u001b[0m\u001b[0;34m.\u001b[0m\u001b[0mdata\u001b[0m\u001b[0;34m.\u001b[0m\u001b[0mfind\u001b[0m\u001b[0;34m(\u001b[0m\u001b[0;34m'{}/{}'\u001b[0m\u001b[0;34m.\u001b[0m\u001b[0mformat\u001b[0m\u001b[0;34m(\u001b[0m\u001b[0mself\u001b[0m\u001b[0;34m.\u001b[0m\u001b[0msubdir\u001b[0m\u001b[0;34m,\u001b[0m \u001b[0mzip_name\u001b[0m\u001b[0;34m)\u001b[0m\u001b[0;34m)\u001b[0m\u001b[0;34m\u001b[0m\u001b[0;34m\u001b[0m\u001b[0m\n\u001b[0m\u001b[1;32m     81\u001b[0m                 \u001b[0;32mexcept\u001b[0m \u001b[0mLookupError\u001b[0m\u001b[0;34m:\u001b[0m \u001b[0;32mraise\u001b[0m \u001b[0me\u001b[0m\u001b[0;34m\u001b[0m\u001b[0;34m\u001b[0m\u001b[0m\n",
            "\u001b[0;32m/usr/local/lib/python3.6/dist-packages/nltk/data.py\u001b[0m in \u001b[0;36mfind\u001b[0;34m(resource_name, paths)\u001b[0m\n\u001b[1;32m    672\u001b[0m     \u001b[0mresource_not_found\u001b[0m \u001b[0;34m=\u001b[0m \u001b[0;34m'\\n%s\\n%s\\n%s\\n'\u001b[0m \u001b[0;34m%\u001b[0m \u001b[0;34m(\u001b[0m\u001b[0msep\u001b[0m\u001b[0;34m,\u001b[0m \u001b[0mmsg\u001b[0m\u001b[0;34m,\u001b[0m \u001b[0msep\u001b[0m\u001b[0;34m)\u001b[0m\u001b[0;34m\u001b[0m\u001b[0;34m\u001b[0m\u001b[0m\n\u001b[0;32m--> 673\u001b[0;31m     \u001b[0;32mraise\u001b[0m \u001b[0mLookupError\u001b[0m\u001b[0;34m(\u001b[0m\u001b[0mresource_not_found\u001b[0m\u001b[0;34m)\u001b[0m\u001b[0;34m\u001b[0m\u001b[0;34m\u001b[0m\u001b[0m\n\u001b[0m\u001b[1;32m    674\u001b[0m \u001b[0;34m\u001b[0m\u001b[0m\n",
            "\u001b[0;31mLookupError\u001b[0m: \n**********************************************************************\n  Resource \u001b[93mstopwords\u001b[0m not found.\n  Please use the NLTK Downloader to obtain the resource:\n\n  \u001b[31m>>> import nltk\n  >>> nltk.download('stopwords')\n  \u001b[0m\n  Searched in:\n    - '/root/nltk_data'\n    - '/usr/share/nltk_data'\n    - '/usr/local/share/nltk_data'\n    - '/usr/lib/nltk_data'\n    - '/usr/local/lib/nltk_data'\n    - '/usr/nltk_data'\n    - '/usr/lib/nltk_data'\n**********************************************************************\n",
            "\nDuring handling of the above exception, another exception occurred:\n",
            "\u001b[0;31mLookupError\u001b[0m                               Traceback (most recent call last)",
            "\u001b[0;32m<ipython-input-8-294702ee7edc>\u001b[0m in \u001b[0;36m<module>\u001b[0;34m()\u001b[0m\n\u001b[1;32m      1\u001b[0m \u001b[0;32mfrom\u001b[0m \u001b[0mnltk\u001b[0m\u001b[0;34m.\u001b[0m\u001b[0mcorpus\u001b[0m \u001b[0;32mimport\u001b[0m \u001b[0mstopwords\u001b[0m\u001b[0;34m\u001b[0m\u001b[0;34m\u001b[0m\u001b[0m\n\u001b[1;32m      2\u001b[0m \u001b[0;34m\u001b[0m\u001b[0m\n\u001b[0;32m----> 3\u001b[0;31m \u001b[0mstop_words\u001b[0m \u001b[0;34m=\u001b[0m \u001b[0mstopwords\u001b[0m\u001b[0;34m.\u001b[0m\u001b[0mwords\u001b[0m\u001b[0;34m(\u001b[0m\u001b[0;34m'english'\u001b[0m\u001b[0;34m)\u001b[0m\u001b[0;34m\u001b[0m\u001b[0;34m\u001b[0m\u001b[0m\n\u001b[0m\u001b[1;32m      4\u001b[0m \u001b[0mstop_words\u001b[0m\u001b[0;34m\u001b[0m\u001b[0;34m\u001b[0m\u001b[0m\n",
            "\u001b[0;32m/usr/local/lib/python3.6/dist-packages/nltk/corpus/util.py\u001b[0m in \u001b[0;36m__getattr__\u001b[0;34m(self, attr)\u001b[0m\n\u001b[1;32m    114\u001b[0m             \u001b[0;32mraise\u001b[0m \u001b[0mAttributeError\u001b[0m\u001b[0;34m(\u001b[0m\u001b[0;34m\"LazyCorpusLoader object has no attribute '__bases__'\"\u001b[0m\u001b[0;34m)\u001b[0m\u001b[0;34m\u001b[0m\u001b[0;34m\u001b[0m\u001b[0m\n\u001b[1;32m    115\u001b[0m \u001b[0;34m\u001b[0m\u001b[0m\n\u001b[0;32m--> 116\u001b[0;31m         \u001b[0mself\u001b[0m\u001b[0;34m.\u001b[0m\u001b[0m__load\u001b[0m\u001b[0;34m(\u001b[0m\u001b[0;34m)\u001b[0m\u001b[0;34m\u001b[0m\u001b[0;34m\u001b[0m\u001b[0m\n\u001b[0m\u001b[1;32m    117\u001b[0m         \u001b[0;31m# This looks circular, but its not, since __load() changes our\u001b[0m\u001b[0;34m\u001b[0m\u001b[0;34m\u001b[0m\u001b[0;34m\u001b[0m\u001b[0m\n\u001b[1;32m    118\u001b[0m         \u001b[0;31m# __class__ to something new:\u001b[0m\u001b[0;34m\u001b[0m\u001b[0;34m\u001b[0m\u001b[0;34m\u001b[0m\u001b[0m\n",
            "\u001b[0;32m/usr/local/lib/python3.6/dist-packages/nltk/corpus/util.py\u001b[0m in \u001b[0;36m__load\u001b[0;34m(self)\u001b[0m\n\u001b[1;32m     79\u001b[0m             \u001b[0;32mexcept\u001b[0m \u001b[0mLookupError\u001b[0m \u001b[0;32mas\u001b[0m \u001b[0me\u001b[0m\u001b[0;34m:\u001b[0m\u001b[0;34m\u001b[0m\u001b[0;34m\u001b[0m\u001b[0m\n\u001b[1;32m     80\u001b[0m                 \u001b[0;32mtry\u001b[0m\u001b[0;34m:\u001b[0m \u001b[0mroot\u001b[0m \u001b[0;34m=\u001b[0m \u001b[0mnltk\u001b[0m\u001b[0;34m.\u001b[0m\u001b[0mdata\u001b[0m\u001b[0;34m.\u001b[0m\u001b[0mfind\u001b[0m\u001b[0;34m(\u001b[0m\u001b[0;34m'{}/{}'\u001b[0m\u001b[0;34m.\u001b[0m\u001b[0mformat\u001b[0m\u001b[0;34m(\u001b[0m\u001b[0mself\u001b[0m\u001b[0;34m.\u001b[0m\u001b[0msubdir\u001b[0m\u001b[0;34m,\u001b[0m \u001b[0mzip_name\u001b[0m\u001b[0;34m)\u001b[0m\u001b[0;34m)\u001b[0m\u001b[0;34m\u001b[0m\u001b[0;34m\u001b[0m\u001b[0m\n\u001b[0;32m---> 81\u001b[0;31m                 \u001b[0;32mexcept\u001b[0m \u001b[0mLookupError\u001b[0m\u001b[0;34m:\u001b[0m \u001b[0;32mraise\u001b[0m \u001b[0me\u001b[0m\u001b[0;34m\u001b[0m\u001b[0;34m\u001b[0m\u001b[0m\n\u001b[0m\u001b[1;32m     82\u001b[0m \u001b[0;34m\u001b[0m\u001b[0m\n\u001b[1;32m     83\u001b[0m         \u001b[0;31m# Load the corpus.\u001b[0m\u001b[0;34m\u001b[0m\u001b[0;34m\u001b[0m\u001b[0;34m\u001b[0m\u001b[0m\n",
            "\u001b[0;32m/usr/local/lib/python3.6/dist-packages/nltk/corpus/util.py\u001b[0m in \u001b[0;36m__load\u001b[0;34m(self)\u001b[0m\n\u001b[1;32m     76\u001b[0m         \u001b[0;32melse\u001b[0m\u001b[0;34m:\u001b[0m\u001b[0;34m\u001b[0m\u001b[0;34m\u001b[0m\u001b[0m\n\u001b[1;32m     77\u001b[0m             \u001b[0;32mtry\u001b[0m\u001b[0;34m:\u001b[0m\u001b[0;34m\u001b[0m\u001b[0;34m\u001b[0m\u001b[0m\n\u001b[0;32m---> 78\u001b[0;31m                 \u001b[0mroot\u001b[0m \u001b[0;34m=\u001b[0m \u001b[0mnltk\u001b[0m\u001b[0;34m.\u001b[0m\u001b[0mdata\u001b[0m\u001b[0;34m.\u001b[0m\u001b[0mfind\u001b[0m\u001b[0;34m(\u001b[0m\u001b[0;34m'{}/{}'\u001b[0m\u001b[0;34m.\u001b[0m\u001b[0mformat\u001b[0m\u001b[0;34m(\u001b[0m\u001b[0mself\u001b[0m\u001b[0;34m.\u001b[0m\u001b[0msubdir\u001b[0m\u001b[0;34m,\u001b[0m \u001b[0mself\u001b[0m\u001b[0;34m.\u001b[0m\u001b[0m__name\u001b[0m\u001b[0;34m)\u001b[0m\u001b[0;34m)\u001b[0m\u001b[0;34m\u001b[0m\u001b[0;34m\u001b[0m\u001b[0m\n\u001b[0m\u001b[1;32m     79\u001b[0m             \u001b[0;32mexcept\u001b[0m \u001b[0mLookupError\u001b[0m \u001b[0;32mas\u001b[0m \u001b[0me\u001b[0m\u001b[0;34m:\u001b[0m\u001b[0;34m\u001b[0m\u001b[0;34m\u001b[0m\u001b[0m\n\u001b[1;32m     80\u001b[0m                 \u001b[0;32mtry\u001b[0m\u001b[0;34m:\u001b[0m \u001b[0mroot\u001b[0m \u001b[0;34m=\u001b[0m \u001b[0mnltk\u001b[0m\u001b[0;34m.\u001b[0m\u001b[0mdata\u001b[0m\u001b[0;34m.\u001b[0m\u001b[0mfind\u001b[0m\u001b[0;34m(\u001b[0m\u001b[0;34m'{}/{}'\u001b[0m\u001b[0;34m.\u001b[0m\u001b[0mformat\u001b[0m\u001b[0;34m(\u001b[0m\u001b[0mself\u001b[0m\u001b[0;34m.\u001b[0m\u001b[0msubdir\u001b[0m\u001b[0;34m,\u001b[0m \u001b[0mzip_name\u001b[0m\u001b[0;34m)\u001b[0m\u001b[0;34m)\u001b[0m\u001b[0;34m\u001b[0m\u001b[0;34m\u001b[0m\u001b[0m\n",
            "\u001b[0;32m/usr/local/lib/python3.6/dist-packages/nltk/data.py\u001b[0m in \u001b[0;36mfind\u001b[0;34m(resource_name, paths)\u001b[0m\n\u001b[1;32m    671\u001b[0m     \u001b[0msep\u001b[0m \u001b[0;34m=\u001b[0m \u001b[0;34m'*'\u001b[0m \u001b[0;34m*\u001b[0m \u001b[0;36m70\u001b[0m\u001b[0;34m\u001b[0m\u001b[0;34m\u001b[0m\u001b[0m\n\u001b[1;32m    672\u001b[0m     \u001b[0mresource_not_found\u001b[0m \u001b[0;34m=\u001b[0m \u001b[0;34m'\\n%s\\n%s\\n%s\\n'\u001b[0m \u001b[0;34m%\u001b[0m \u001b[0;34m(\u001b[0m\u001b[0msep\u001b[0m\u001b[0;34m,\u001b[0m \u001b[0mmsg\u001b[0m\u001b[0;34m,\u001b[0m \u001b[0msep\u001b[0m\u001b[0;34m)\u001b[0m\u001b[0;34m\u001b[0m\u001b[0;34m\u001b[0m\u001b[0m\n\u001b[0;32m--> 673\u001b[0;31m     \u001b[0;32mraise\u001b[0m \u001b[0mLookupError\u001b[0m\u001b[0;34m(\u001b[0m\u001b[0mresource_not_found\u001b[0m\u001b[0;34m)\u001b[0m\u001b[0;34m\u001b[0m\u001b[0;34m\u001b[0m\u001b[0m\n\u001b[0m\u001b[1;32m    674\u001b[0m \u001b[0;34m\u001b[0m\u001b[0m\n\u001b[1;32m    675\u001b[0m \u001b[0;34m\u001b[0m\u001b[0m\n",
            "\u001b[0;31mLookupError\u001b[0m: \n**********************************************************************\n  Resource \u001b[93mstopwords\u001b[0m not found.\n  Please use the NLTK Downloader to obtain the resource:\n\n  \u001b[31m>>> import nltk\n  >>> nltk.download('stopwords')\n  \u001b[0m\n  Searched in:\n    - '/root/nltk_data'\n    - '/usr/share/nltk_data'\n    - '/usr/local/share/nltk_data'\n    - '/usr/lib/nltk_data'\n    - '/usr/local/lib/nltk_data'\n    - '/usr/nltk_data'\n    - '/usr/lib/nltk_data'\n**********************************************************************\n"
          ]
        }
      ]
    },
    {
      "cell_type": "code",
      "metadata": {
        "id": "7yBasuzEHOov",
        "colab_type": "code",
        "colab": {
          "base_uri": "https://localhost:8080/",
          "height": 72
        },
        "outputId": "842e4618-8a50-4ad0-a52b-c862a55d6be6"
      },
      "source": [
        "nltk.download('stopwords')"
      ],
      "execution_count": 9,
      "outputs": [
        {
          "output_type": "stream",
          "text": [
            "[nltk_data] Downloading package stopwords to /root/nltk_data...\n",
            "[nltk_data]   Unzipping corpora/stopwords.zip.\n"
          ],
          "name": "stdout"
        },
        {
          "output_type": "execute_result",
          "data": {
            "text/plain": [
              "True"
            ]
          },
          "metadata": {
            "tags": []
          },
          "execution_count": 9
        }
      ]
    },
    {
      "cell_type": "code",
      "metadata": {
        "id": "3SqyNsbIHRHw",
        "colab_type": "code",
        "colab": {
          "base_uri": "https://localhost:8080/",
          "height": 1000
        },
        "outputId": "03dc5c51-9f60-464a-bdc9-8b59e3a00e99"
      },
      "source": [
        "stop_words = stopwords.words('english')\n",
        "stop_words"
      ],
      "execution_count": 24,
      "outputs": [
        {
          "output_type": "execute_result",
          "data": {
            "text/plain": [
              "['i',\n",
              " 'me',\n",
              " 'my',\n",
              " 'myself',\n",
              " 'we',\n",
              " 'our',\n",
              " 'ours',\n",
              " 'ourselves',\n",
              " 'you',\n",
              " \"you're\",\n",
              " \"you've\",\n",
              " \"you'll\",\n",
              " \"you'd\",\n",
              " 'your',\n",
              " 'yours',\n",
              " 'yourself',\n",
              " 'yourselves',\n",
              " 'he',\n",
              " 'him',\n",
              " 'his',\n",
              " 'himself',\n",
              " 'she',\n",
              " \"she's\",\n",
              " 'her',\n",
              " 'hers',\n",
              " 'herself',\n",
              " 'it',\n",
              " \"it's\",\n",
              " 'its',\n",
              " 'itself',\n",
              " 'they',\n",
              " 'them',\n",
              " 'their',\n",
              " 'theirs',\n",
              " 'themselves',\n",
              " 'what',\n",
              " 'which',\n",
              " 'who',\n",
              " 'whom',\n",
              " 'this',\n",
              " 'that',\n",
              " \"that'll\",\n",
              " 'these',\n",
              " 'those',\n",
              " 'am',\n",
              " 'is',\n",
              " 'are',\n",
              " 'was',\n",
              " 'were',\n",
              " 'be',\n",
              " 'been',\n",
              " 'being',\n",
              " 'have',\n",
              " 'has',\n",
              " 'had',\n",
              " 'having',\n",
              " 'do',\n",
              " 'does',\n",
              " 'did',\n",
              " 'doing',\n",
              " 'a',\n",
              " 'an',\n",
              " 'the',\n",
              " 'and',\n",
              " 'but',\n",
              " 'if',\n",
              " 'or',\n",
              " 'because',\n",
              " 'as',\n",
              " 'until',\n",
              " 'while',\n",
              " 'of',\n",
              " 'at',\n",
              " 'by',\n",
              " 'for',\n",
              " 'with',\n",
              " 'about',\n",
              " 'against',\n",
              " 'between',\n",
              " 'into',\n",
              " 'through',\n",
              " 'during',\n",
              " 'before',\n",
              " 'after',\n",
              " 'above',\n",
              " 'below',\n",
              " 'to',\n",
              " 'from',\n",
              " 'up',\n",
              " 'down',\n",
              " 'in',\n",
              " 'out',\n",
              " 'on',\n",
              " 'off',\n",
              " 'over',\n",
              " 'under',\n",
              " 'again',\n",
              " 'further',\n",
              " 'then',\n",
              " 'once',\n",
              " 'here',\n",
              " 'there',\n",
              " 'when',\n",
              " 'where',\n",
              " 'why',\n",
              " 'how',\n",
              " 'all',\n",
              " 'any',\n",
              " 'both',\n",
              " 'each',\n",
              " 'few',\n",
              " 'more',\n",
              " 'most',\n",
              " 'other',\n",
              " 'some',\n",
              " 'such',\n",
              " 'no',\n",
              " 'nor',\n",
              " 'not',\n",
              " 'only',\n",
              " 'own',\n",
              " 'same',\n",
              " 'so',\n",
              " 'than',\n",
              " 'too',\n",
              " 'very',\n",
              " 's',\n",
              " 't',\n",
              " 'can',\n",
              " 'will',\n",
              " 'just',\n",
              " 'don',\n",
              " \"don't\",\n",
              " 'should',\n",
              " \"should've\",\n",
              " 'now',\n",
              " 'd',\n",
              " 'll',\n",
              " 'm',\n",
              " 'o',\n",
              " 're',\n",
              " 've',\n",
              " 'y',\n",
              " 'ain',\n",
              " 'aren',\n",
              " \"aren't\",\n",
              " 'couldn',\n",
              " \"couldn't\",\n",
              " 'didn',\n",
              " \"didn't\",\n",
              " 'doesn',\n",
              " \"doesn't\",\n",
              " 'hadn',\n",
              " \"hadn't\",\n",
              " 'hasn',\n",
              " \"hasn't\",\n",
              " 'haven',\n",
              " \"haven't\",\n",
              " 'isn',\n",
              " \"isn't\",\n",
              " 'ma',\n",
              " 'mightn',\n",
              " \"mightn't\",\n",
              " 'mustn',\n",
              " \"mustn't\",\n",
              " 'needn',\n",
              " \"needn't\",\n",
              " 'shan',\n",
              " \"shan't\",\n",
              " 'shouldn',\n",
              " \"shouldn't\",\n",
              " 'wasn',\n",
              " \"wasn't\",\n",
              " 'weren',\n",
              " \"weren't\",\n",
              " 'won',\n",
              " \"won't\",\n",
              " 'wouldn',\n",
              " \"wouldn't\"]"
            ]
          },
          "metadata": {
            "tags": []
          },
          "execution_count": 24
        }
      ]
    },
    {
      "cell_type": "code",
      "metadata": {
        "id": "dVt4aZ3RHbQS",
        "colab_type": "code",
        "colab": {
          "base_uri": "https://localhost:8080/",
          "height": 35
        },
        "outputId": "58823f7e-ee97-4918-9512-1284628699ca"
      },
      "source": [
        "tokenized_text[:10]"
      ],
      "execution_count": 12,
      "outputs": [
        {
          "output_type": "execute_result",
          "data": {
            "text/plain": [
              "['Nancy', 'wants', 'to', 'live', 'a', 'long', 'time', '.', 'She', 'wants']"
            ]
          },
          "metadata": {
            "tags": []
          },
          "execution_count": 12
        }
      ]
    },
    {
      "cell_type": "code",
      "metadata": {
        "id": "3oJco_E9TSDa",
        "colab_type": "code",
        "outputId": "743c6eb6-4435-43a5-cff3-62903704ee03",
        "colab": {
          "base_uri": "https://localhost:8080/",
          "height": 74
        }
      },
      "source": [
        "filtered_text = []\n",
        "for token in tokenized_text:\n",
        "    if token not in stop_words:\n",
        "        filtered_text.append(token)\n",
        "\n",
        "print(tokenized_text)\n",
        "print(filtered_text)"
      ],
      "execution_count": 13,
      "outputs": [
        {
          "output_type": "stream",
          "text": [
            "['Nancy', 'wants', 'to', 'live', 'a', 'long', 'time', '.', 'She', 'wants', 'to', 'live', 'for', 'one', 'hundred', 'years', '.', 'She', 'is', 'five', 'years', 'old', 'now', '.', 'She', 'wants', 'to', 'live', '95', 'more', 'years', '.', 'Then', 'she', 'will', 'be', '100', '.', 'Her', 'father', 'is', '30', 'years', 'old', '.', 'He', 'wants', 'to', 'live', 'a', 'long', 'time', ',', 'too', '.', 'He', 'wants', 'to', 'live', 'for', 'one', 'hundred', 'years', '.', 'He', 'wants', 'to', 'live', 'for', '70', 'more', 'years', '.', '``', 'Daddy', ',', 'we', 'will', 'grow', 'old', 'together', ',', 'okay', '?', \"''\", 'Nancy', 'said', 'to', 'her', 'father', '.', '``', 'Yes', ',', 'honey', ',', 'we', 'will', 'grow', 'old', 'together', ',', \"''\", 'he', 'said', 'to', 'Nancy', '.', 'Then', 'Nancy', 'smiled', '.', 'She', 'gave', 'her', 'daddy', 'a', 'big', 'hug', '.']\n",
            "['Nancy', 'wants', 'live', 'long', 'time', '.', 'She', 'wants', 'live', 'one', 'hundred', 'years', '.', 'She', 'five', 'years', 'old', '.', 'She', 'wants', 'live', '95', 'years', '.', 'Then', '100', '.', 'Her', 'father', '30', 'years', 'old', '.', 'He', 'wants', 'live', 'long', 'time', ',', '.', 'He', 'wants', 'live', 'one', 'hundred', 'years', '.', 'He', 'wants', 'live', '70', 'years', '.', '``', 'Daddy', ',', 'grow', 'old', 'together', ',', 'okay', '?', \"''\", 'Nancy', 'said', 'father', '.', '``', 'Yes', ',', 'honey', ',', 'grow', 'old', 'together', ',', \"''\", 'said', 'Nancy', '.', 'Then', 'Nancy', 'smiled', '.', 'She', 'gave', 'daddy', 'big', 'hug', '.']\n"
          ],
          "name": "stdout"
        }
      ]
    },
    {
      "cell_type": "code",
      "metadata": {
        "id": "T0qX5xQeTWL-",
        "colab_type": "code",
        "outputId": "9b01e48e-8300-4942-e93e-1b9643228f90",
        "colab": {
          "base_uri": "https://localhost:8080/",
          "height": 54
        }
      },
      "source": [
        "print(f'tokenized_text: {len(set(tokenized_text))}')\n",
        "print(f'filtered_text: {len(set(filtered_text))}')"
      ],
      "execution_count": 14,
      "outputs": [
        {
          "output_type": "stream",
          "text": [
            "tokenized_text: 49\n",
            "filtered_text: 36\n"
          ],
          "name": "stdout"
        }
      ]
    },
    {
      "cell_type": "code",
      "metadata": {
        "id": "F2dKCvPcTdL-",
        "colab_type": "code",
        "outputId": "796c975c-064d-4341-ad6f-254802ab44b5",
        "colab": {
          "base_uri": "https://localhost:8080/",
          "height": 672
        }
      },
      "source": [
        "freq_dist = FreqDist(filtered_text)\n",
        "freq_dist"
      ],
      "execution_count": 15,
      "outputs": [
        {
          "output_type": "execute_result",
          "data": {
            "text/plain": [
              "FreqDist({\"''\": 2,\n",
              "          ',': 6,\n",
              "          '.': 13,\n",
              "          '100': 1,\n",
              "          '30': 1,\n",
              "          '70': 1,\n",
              "          '95': 1,\n",
              "          '?': 1,\n",
              "          'Daddy': 1,\n",
              "          'He': 3,\n",
              "          'Her': 1,\n",
              "          'Nancy': 4,\n",
              "          'She': 4,\n",
              "          'Then': 2,\n",
              "          'Yes': 1,\n",
              "          '``': 2,\n",
              "          'big': 1,\n",
              "          'daddy': 1,\n",
              "          'father': 2,\n",
              "          'five': 1,\n",
              "          'gave': 1,\n",
              "          'grow': 2,\n",
              "          'honey': 1,\n",
              "          'hug': 1,\n",
              "          'hundred': 2,\n",
              "          'live': 6,\n",
              "          'long': 2,\n",
              "          'okay': 1,\n",
              "          'old': 4,\n",
              "          'one': 2,\n",
              "          'said': 2,\n",
              "          'smiled': 1,\n",
              "          'time': 2,\n",
              "          'together': 2,\n",
              "          'wants': 6,\n",
              "          'years': 6})"
            ]
          },
          "metadata": {
            "tags": []
          },
          "execution_count": 15
        }
      ]
    },
    {
      "cell_type": "code",
      "metadata": {
        "id": "x83kk4KmTlLH",
        "colab_type": "code",
        "outputId": "6a04e4a8-5099-4c62-dace-230e6f770a86",
        "colab": {
          "base_uri": "https://localhost:8080/",
          "height": 199
        }
      },
      "source": [
        "freq_dist.most_common(10)"
      ],
      "execution_count": 16,
      "outputs": [
        {
          "output_type": "execute_result",
          "data": {
            "text/plain": [
              "[('.', 13),\n",
              " ('wants', 6),\n",
              " ('live', 6),\n",
              " ('years', 6),\n",
              " (',', 6),\n",
              " ('Nancy', 4),\n",
              " ('She', 4),\n",
              " ('old', 4),\n",
              " ('He', 3),\n",
              " ('long', 2)]"
            ]
          },
          "metadata": {
            "tags": []
          },
          "execution_count": 16
        }
      ]
    },
    {
      "cell_type": "code",
      "metadata": {
        "id": "8y_DufqoToYO",
        "colab_type": "code",
        "outputId": "76e086da-c962-49c9-df45-313f8f1b8f91",
        "colab": {
          "base_uri": "https://localhost:8080/",
          "height": 465
        }
      },
      "source": [
        "plt.figure(figsize=(15, 6))\n",
        "freq_dist.plot(30, title='Rozkład słów', cumulative=False)"
      ],
      "execution_count": 17,
      "outputs": [
        {
          "output_type": "display_data",
          "data": {
            "image/png": "[encoded data removed]",
            "text/plain": [
              "<Figure size 1080x432 with 1 Axes>"
            ]
          },
          "metadata": {
            "tags": []
          }
        }
      ]
    },
    {
      "cell_type": "code",
      "metadata": {
        "id": "uIzyNbxDT7N5",
        "colab_type": "code",
        "outputId": "83cb4283-348d-4900-9288-0b7a6fe1af0e",
        "colab": {
          "base_uri": "https://localhost:8080/",
          "height": 35
        }
      },
      "source": [
        "[token for token in freq_dist.keys() if len(token) < 3]"
      ],
      "execution_count": 18,
      "outputs": [
        {
          "output_type": "execute_result",
          "data": {
            "text/plain": [
              "['.', '95', '30', 'He', ',', '70', '``', '?', \"''\"]"
            ]
          },
          "metadata": {
            "tags": []
          },
          "execution_count": 18
        }
      ]
    },
    {
      "cell_type": "code",
      "metadata": {
        "id": "yD9BmsPiTrxa",
        "colab_type": "code",
        "colab": {
          "base_uri": "https://localhost:8080/",
          "height": 35
        },
        "outputId": "db686f74-bbe4-4635-b57b-9eaa5c897ba2"
      },
      "source": [
        "stop_words.extend(['.', ',', '``', '?', '\\'\\''])\n",
        "stop_words[-10:]"
      ],
      "execution_count": 25,
      "outputs": [
        {
          "output_type": "execute_result",
          "data": {
            "text/plain": [
              "[\"weren't\", 'won', \"won't\", 'wouldn', \"wouldn't\", '.', ',', '``', '?', \"''\"]"
            ]
          },
          "metadata": {
            "tags": []
          },
          "execution_count": 25
        }
      ]
    },
    {
      "cell_type": "code",
      "metadata": {
        "id": "1j1nDDsRUYlC",
        "colab_type": "code",
        "outputId": "0e76102e-4c38-4179-9b6b-86f8ecf8de3e",
        "colab": {
          "base_uri": "https://localhost:8080/",
          "height": 74
        }
      },
      "source": [
        "filtered_text = []\n",
        "for token in tokenized_text:\n",
        "    if token not in stop_words:\n",
        "        filtered_text.append(token)\n",
        "\n",
        "print(tokenized_text)\n",
        "print(filtered_text)"
      ],
      "execution_count": 26,
      "outputs": [
        {
          "output_type": "stream",
          "text": [
            "['Nancy', 'wants', 'to', 'live', 'a', 'long', 'time', '.', 'She', 'wants', 'to', 'live', 'for', 'one', 'hundred', 'years', '.', 'She', 'is', 'five', 'years', 'old', 'now', '.', 'She', 'wants', 'to', 'live', '95', 'more', 'years', '.', 'Then', 'she', 'will', 'be', '100', '.', 'Her', 'father', 'is', '30', 'years', 'old', '.', 'He', 'wants', 'to', 'live', 'a', 'long', 'time', ',', 'too', '.', 'He', 'wants', 'to', 'live', 'for', 'one', 'hundred', 'years', '.', 'He', 'wants', 'to', 'live', 'for', '70', 'more', 'years', '.', '``', 'Daddy', ',', 'we', 'will', 'grow', 'old', 'together', ',', 'okay', '?', \"''\", 'Nancy', 'said', 'to', 'her', 'father', '.', '``', 'Yes', ',', 'honey', ',', 'we', 'will', 'grow', 'old', 'together', ',', \"''\", 'he', 'said', 'to', 'Nancy', '.', 'Then', 'Nancy', 'smiled', '.', 'She', 'gave', 'her', 'daddy', 'a', 'big', 'hug', '.']\n",
            "['Nancy', 'wants', 'live', 'long', 'time', 'She', 'wants', 'live', 'one', 'hundred', 'years', 'She', 'five', 'years', 'old', 'She', 'wants', 'live', '95', 'years', 'Then', '100', 'Her', 'father', '30', 'years', 'old', 'He', 'wants', 'live', 'long', 'time', 'He', 'wants', 'live', 'one', 'hundred', 'years', 'He', 'wants', 'live', '70', 'years', 'Daddy', 'grow', 'old', 'together', 'okay', 'Nancy', 'said', 'father', 'Yes', 'honey', 'grow', 'old', 'together', 'said', 'Nancy', 'Then', 'Nancy', 'smiled', 'She', 'gave', 'daddy', 'big', 'hug']\n"
          ],
          "name": "stdout"
        }
      ]
    },
    {
      "cell_type": "code",
      "metadata": {
        "id": "ylJ3M1asUcaR",
        "colab_type": "code",
        "outputId": "82d74af0-db3d-47c2-89a6-057bb1268521",
        "colab": {
          "base_uri": "https://localhost:8080/",
          "height": 54
        }
      },
      "source": [
        "print(f'tokenized_text: {len(set(tokenized_text))}')\n",
        "print(f'filtered_text: {len(set(filtered_text))}')"
      ],
      "execution_count": 27,
      "outputs": [
        {
          "output_type": "stream",
          "text": [
            "tokenized_text: 49\n",
            "filtered_text: 31\n"
          ],
          "name": "stdout"
        }
      ]
    },
    {
      "cell_type": "code",
      "metadata": {
        "id": "imkNGsf4Uf-l",
        "colab_type": "code",
        "outputId": "0bca880b-8745-4b7b-a581-e556c905ea37",
        "colab": {
          "base_uri": "https://localhost:8080/",
          "height": 199
        }
      },
      "source": [
        "freq_dist = FreqDist(filtered_text)\n",
        "freq_dist.most_common(10)"
      ],
      "execution_count": 28,
      "outputs": [
        {
          "output_type": "execute_result",
          "data": {
            "text/plain": [
              "[('wants', 6),\n",
              " ('live', 6),\n",
              " ('years', 6),\n",
              " ('Nancy', 4),\n",
              " ('She', 4),\n",
              " ('old', 4),\n",
              " ('He', 3),\n",
              " ('long', 2),\n",
              " ('time', 2),\n",
              " ('one', 2)]"
            ]
          },
          "metadata": {
            "tags": []
          },
          "execution_count": 28
        }
      ]
    },
    {
      "cell_type": "code",
      "metadata": {
        "id": "jpkfkCwlUiWc",
        "colab_type": "code",
        "outputId": "7c8b7bf5-a2d9-49c7-b88e-2b7bf026d011",
        "colab": {
          "base_uri": "https://localhost:8080/",
          "height": 465
        }
      },
      "source": [
        "plt.figure(figsize=(15, 6))\n",
        "freq_dist.plot(30, title='Rozkład słów', cumulative=False)"
      ],
      "execution_count": 29,
      "outputs": [
        {
          "output_type": "display_data",
          "data": {
            "image/png": "[encoded data removed]",
            "text/plain": [
              "<Figure size 1080x432 with 1 Axes>"
            ]
          },
          "metadata": {
            "tags": []
          }
        }
      ]
    },
    {
      "cell_type": "code",
      "metadata": {
        "id": "NtsjmyQlISpZ",
        "colab_type": "code",
        "colab": {
          "base_uri": "https://localhost:8080/",
          "height": 381
        },
        "outputId": "118d9902-1423-4bb9-9997-d5d03dd7b0e9"
      },
      "source": [
        "filtered_text_lower = [token.lower() for token in filtered_text]\n",
        "filtered_text_lower[:20]"
      ],
      "execution_count": 31,
      "outputs": [
        {
          "output_type": "execute_result",
          "data": {
            "text/plain": [
              "['nancy',\n",
              " 'wants',\n",
              " 'live',\n",
              " 'long',\n",
              " 'time',\n",
              " 'she',\n",
              " 'wants',\n",
              " 'live',\n",
              " 'one',\n",
              " 'hundred',\n",
              " 'years',\n",
              " 'she',\n",
              " 'five',\n",
              " 'years',\n",
              " 'old',\n",
              " 'she',\n",
              " 'wants',\n",
              " 'live',\n",
              " '95',\n",
              " 'years']"
            ]
          },
          "metadata": {
            "tags": []
          },
          "execution_count": 31
        }
      ]
    },
    {
      "cell_type": "code",
      "metadata": {
        "id": "cFyxiiX_Ifsj",
        "colab_type": "code",
        "colab": {
          "base_uri": "https://localhost:8080/",
          "height": 199
        },
        "outputId": "0c7ac8e5-afd0-4ffe-da8d-e389a9c7bb62"
      },
      "source": [
        "freq_dist = FreqDist(filtered_text_lower)\n",
        "freq_dist.most_common(10)"
      ],
      "execution_count": 34,
      "outputs": [
        {
          "output_type": "execute_result",
          "data": {
            "text/plain": [
              "[('wants', 6),\n",
              " ('live', 6),\n",
              " ('years', 6),\n",
              " ('nancy', 4),\n",
              " ('she', 4),\n",
              " ('old', 4),\n",
              " ('he', 3),\n",
              " ('long', 2),\n",
              " ('time', 2),\n",
              " ('one', 2)]"
            ]
          },
          "metadata": {
            "tags": []
          },
          "execution_count": 34
        }
      ]
    },
    {
      "cell_type": "code",
      "metadata": {
        "id": "Ua9cK5qLIiZa",
        "colab_type": "code",
        "colab": {
          "base_uri": "https://localhost:8080/",
          "height": 465
        },
        "outputId": "7ac83f3e-c556-409b-cfb5-640fa0378aeb"
      },
      "source": [
        "plt.figure(figsize=(15, 6))\n",
        "freq_dist.plot(30, title='Rozkład słów', cumulative=False)"
      ],
      "execution_count": 35,
      "outputs": [
        {
          "output_type": "display_data",
          "data": {
            "image/png": "[encoded data removed]",
            "text/plain": [
              "<Figure size 1080x432 with 1 Axes>"
            ]
          },
          "metadata": {
            "tags": []
          }
        }
      ]
    },
    {
      "cell_type": "markdown",
      "metadata": {
        "id": "2n4wTO4DVHvt",
        "colab_type": "text"
      },
      "source": [
        "### <a name='3'></a> Stopwords - różne języki"
      ]
    },
    {
      "cell_type": "code",
      "metadata": {
        "id": "UZzx4ZDqWdco",
        "colab_type": "code",
        "outputId": "0a288fdc-4f36-4595-80cd-7a34a3cbe60c",
        "colab": {
          "base_uri": "https://localhost:8080/",
          "height": 54
        }
      },
      "source": [
        "english_stopwords = stopwords.words('english')\n",
        "print(f'english: {len(english_stopwords)}')\n",
        "english_stopwords[:10]"
      ],
      "execution_count": 43,
      "outputs": [
        {
          "output_type": "stream",
          "text": [
            "english: 179\n"
          ],
          "name": "stdout"
        },
        {
          "output_type": "execute_result",
          "data": {
            "text/plain": [
              "['i', 'me', 'my', 'myself', 'we', 'our', 'ours', 'ourselves', 'you', \"you're\"]"
            ]
          },
          "metadata": {
            "tags": []
          },
          "execution_count": 43
        }
      ]
    },
    {
      "cell_type": "code",
      "metadata": {
        "id": "a7aUJ39wUnZ8",
        "colab_type": "code",
        "outputId": "b2a34a73-1f95-40da-e9e5-b94c28346b51",
        "colab": {
          "base_uri": "https://localhost:8080/",
          "height": 54
        }
      },
      "source": [
        "german_stopwords = stopwords.words('german')\n",
        "print(f'german: {len(german_stopwords)}')\n",
        "german_stopwords[:10]"
      ],
      "execution_count": 37,
      "outputs": [
        {
          "output_type": "stream",
          "text": [
            "german: 232\n"
          ],
          "name": "stdout"
        },
        {
          "output_type": "execute_result",
          "data": {
            "text/plain": [
              "['aber', 'alle', 'allem', 'allen', 'aller', 'alles', 'als', 'also', 'am', 'an']"
            ]
          },
          "metadata": {
            "tags": []
          },
          "execution_count": 37
        }
      ]
    },
    {
      "cell_type": "code",
      "metadata": {
        "id": "KJu6bBq9Vsaj",
        "colab_type": "code",
        "outputId": "170dc6c0-d172-4173-dcfc-6e949d3115c7",
        "colab": {
          "base_uri": "https://localhost:8080/",
          "height": 54
        }
      },
      "source": [
        "spanish_stopwords = stopwords.words('spanish')\n",
        "print(f'spanish: {len(spanish_stopwords)}')\n",
        "spanish_stopwords[:10]"
      ],
      "execution_count": 45,
      "outputs": [
        {
          "output_type": "stream",
          "text": [
            "spanish: 313\n"
          ],
          "name": "stdout"
        },
        {
          "output_type": "execute_result",
          "data": {
            "text/plain": [
              "['de', 'la', 'que', 'el', 'en', 'y', 'a', 'los', 'del', 'se']"
            ]
          },
          "metadata": {
            "tags": []
          },
          "execution_count": 45
        }
      ]
    },
    {
      "cell_type": "markdown",
      "metadata": {
        "id": "Nbh5_SmEVmQF",
        "colab_type": "text"
      },
      "source": [
        "### <a name='4'></a> Stopwords - lista dostępnych języków"
      ]
    },
    {
      "cell_type": "code",
      "metadata": {
        "id": "NXE8JaSKVMU2",
        "colab_type": "code",
        "outputId": "aabecf81-2bc5-49d5-bcf2-4f43ff0d6b6e",
        "colab": {
          "base_uri": "https://localhost:8080/",
          "height": 454
        }
      },
      "source": [
        "import os\n",
        "\n",
        "os.listdir('/root/nltk_data/corpora/stopwords/')"
      ],
      "execution_count": 47,
      "outputs": [
        {
          "output_type": "execute_result",
          "data": {
            "text/plain": [
              "['greek',\n",
              " 'azerbaijani',\n",
              " 'indonesian',\n",
              " 'arabic',\n",
              " 'tajik',\n",
              " 'README',\n",
              " 'portuguese',\n",
              " 'spanish',\n",
              " 'finnish',\n",
              " 'danish',\n",
              " 'norwegian',\n",
              " 'nepali',\n",
              " 'slovene',\n",
              " 'english',\n",
              " 'turkish',\n",
              " 'french',\n",
              " 'italian',\n",
              " 'swedish',\n",
              " 'kazakh',\n",
              " 'hungarian',\n",
              " 'dutch',\n",
              " 'russian',\n",
              " 'romanian',\n",
              " 'german']"
            ]
          },
          "metadata": {
            "tags": []
          },
          "execution_count": 47
        }
      ]
    },
    {
      "cell_type": "markdown",
      "metadata": {
        "id": "5kzXbbBUXa8F",
        "colab_type": "text"
      },
      "source": [
        "### <a name='5'></a> Stopwords - język polski"
      ]
    },
    {
      "cell_type": "code",
      "metadata": {
        "id": "JAhzCdtAWEbh",
        "colab_type": "code",
        "outputId": "4ac21ef2-ee7d-4a8e-fc30-b8ee268cd7ba",
        "colab": {
          "base_uri": "https://localhost:8080/",
          "height": 581
        }
      },
      "source": [
        "import requests\n",
        "\n",
        "url = 'https://raw.githubusercontent.com/krakowiakpawel9/ml_course/master/x/polish-stopwords.txt'\n",
        "response = requests.get(url)\n",
        "polish_stopwords = response.text.split()\n",
        "print(f'polish: {len(polish_stopwords)}')\n",
        "polish_stopwords[:30]"
      ],
      "execution_count": 55,
      "outputs": [
        {
          "output_type": "stream",
          "text": [
            "polish: 350\n"
          ],
          "name": "stdout"
        },
        {
          "output_type": "execute_result",
          "data": {
            "text/plain": [
              "['a',\n",
              " 'aby',\n",
              " 'ach',\n",
              " 'acz',\n",
              " 'aczkolwiek',\n",
              " 'aj',\n",
              " 'albo',\n",
              " 'ale',\n",
              " 'alez',\n",
              " 'ależ',\n",
              " 'ani',\n",
              " 'az',\n",
              " 'aż',\n",
              " 'bardziej',\n",
              " 'bardzo',\n",
              " 'beda',\n",
              " 'bedzie',\n",
              " 'bez',\n",
              " 'deda',\n",
              " 'będą',\n",
              " 'bede',\n",
              " 'będę',\n",
              " 'będzie',\n",
              " 'bo',\n",
              " 'bowiem',\n",
              " 'by',\n",
              " 'byc',\n",
              " 'być',\n",
              " 'byl',\n",
              " 'byla']"
            ]
          },
          "metadata": {
            "tags": []
          },
          "execution_count": 55
        }
      ]
    },
    {
      "cell_type": "code",
      "metadata": {
        "id": "XasA4I-ZXIlD",
        "colab_type": "code",
        "colab": {}
      },
      "source": [
        ""
      ],
      "execution_count": 0,
      "outputs": []
    }
  ]
}