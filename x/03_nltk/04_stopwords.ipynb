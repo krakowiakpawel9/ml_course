{
  "nbformat": 4,
  "nbformat_minor": 0,
  "metadata": {
    "colab": {
      "name": "01_preprocessing.ipynb",
      "provenance": [],
      "include_colab_link": true
    },
    "kernelspec": {
      "name": "python3",
      "display_name": "Python 3"
    }
  },
  "cells": [
    {
      "cell_type": "markdown",
      "metadata": {
        "id": "view-in-github",
        "colab_type": "text"
      },
      "source": [
        "<a href=\"https://colab.research.google.com/github/krakowiakpawel9/ml_course/blob/master/x/03_nltk/04_stopwords.ipynb\" target=\"_parent\"><img src=\"https://colab.research.google.com/assets/colab-badge.svg\" alt=\"Open In Colab\"/></a>"
      ]
    },
    {
      "cell_type": "markdown",
      "metadata": {
        "id": "UbjsT92Xd3z1",
        "colab_type": "text"
      },
      "source": [
        "* @author: krakowiakpawel9@gmail.com  \n",
        "* @site: e-smartdata.org\n",
        "\n",
        "### nltk\n",
        "Strona biblioteki: [https://www.nltk.org/](https://www.nltk.org/)  \n",
        "\n",
        "Podstawowa biblioteka do przetwarzania języka naturalnego w języku Python.\n",
        "\n",
        "Aby zainstalować bibliotekę nltk, użyj polecenia poniżej:\n",
        "```\n",
        "!pip install nltk\n",
        "```\n",
        "Aby zaktualizować do najnowszej wersji użyj polecenia poniżej:\n",
        "```\n",
        "!pip install --upgrade nltk\n",
        "```\n",
        "Kurs stworzony w oparciu o wersję `3.2.5`\n",
        "\n",
        "### Spis treści:\n",
        "1. [Import bibliotek](#0)\n",
        "2. [Tokenizacja](#1)\n",
        "3. [Stopwords](#2)\n",
        "4. [Stopwords - różne języki](#3)\n",
        "5. [Stopwords - lista dostępnych języków](#4)\n",
        "6. [Stopwords - język polski](#5)\n"
      ]
    },
    {
      "cell_type": "markdown",
      "metadata": {
        "id": "YkIALacsUnj7",
        "colab_type": "text"
      },
      "source": [
        "### <a name='0'></a> Import bibliotek"
      ]
    },
    {
      "cell_type": "code",
      "metadata": {
        "id": "A0uiwgITPOnq",
        "colab_type": "code",
        "outputId": "6d28f81d-11b1-4fe3-e5b8-1b233cd46b66",
        "colab": {
          "base_uri": "https://localhost:8080/",
          "height": 66
        }
      },
      "source": [
        "import matplotlib.pyplot as plt\n",
        "import seaborn as sns\n",
        "import nltk\n",
        "\n",
        "sns.set(font_scale=1.3)\n",
        "nltk.download('punkt')"
      ],
      "execution_count": 1,
      "outputs": [
        {
          "output_type": "stream",
          "text": [
            "[nltk_data] Downloading package punkt to /root/nltk_data...\n",
            "[nltk_data]   Package punkt is already up-to-date!\n"
          ],
          "name": "stdout"
        },
        {
          "output_type": "execute_result",
          "data": {
            "text/plain": [
              "True"
            ]
          },
          "metadata": {
            "tags": []
          },
          "execution_count": 1
        }
      ]
    },
    {
      "cell_type": "code",
      "metadata": {
        "id": "Vwij8ms5PTSw",
        "colab_type": "code",
        "outputId": "6dd5165d-0e89-4311-f15a-19960a9987e6",
        "colab": {
          "base_uri": "https://localhost:8080/",
          "height": 53
        }
      },
      "source": [
        "text = \"\"\"Nancy wants to live a long time. She wants to live for one hundred years. She is five years old now.\n",
        "She wants to live 95 more years. Then she will be 100. Her father is 30 years old.\n",
        "He wants to live a long time, too. He wants to live for one hundred years. He wants to live for 70 more years.\n",
        "\"Daddy, we will grow old together, okay?\" Nancy said to her father. \"Yes, honey, we will grow old together,\" he said to Nancy.\n",
        "Then Nancy smiled. She gave her daddy a big hug.\"\"\"\n",
        "\n",
        "text"
      ],
      "execution_count": 2,
      "outputs": [
        {
          "output_type": "execute_result",
          "data": {
            "text/plain": [
              "'Nancy wants to live a long time. She wants to live for one hundred years. She is five years old now.\\nShe wants to live 95 more years. Then she will be 100. Her father is 30 years old.\\nHe wants to live a long time, too. He wants to live for one hundred years. He wants to live for 70 more years.\\n\"Daddy, we will grow old together, okay?\" Nancy said to her father. \"Yes, honey, we will grow old together,\" he said to Nancy.\\nThen Nancy smiled. She gave her daddy a big hug.'"
            ]
          },
          "metadata": {
            "tags": []
          },
          "execution_count": 2
        }
      ]
    },
    {
      "cell_type": "code",
      "metadata": {
        "id": "1sO_oeQ7PsxM",
        "colab_type": "code",
        "outputId": "786a4b51-68c5-4569-d501-f9747501a96d",
        "colab": {
          "base_uri": "https://localhost:8080/",
          "height": 98
        }
      },
      "source": [
        "print(text)"
      ],
      "execution_count": 3,
      "outputs": [
        {
          "output_type": "stream",
          "text": [
            "Nancy wants to live a long time. She wants to live for one hundred years. She is five years old now.\n",
            "She wants to live 95 more years. Then she will be 100. Her father is 30 years old.\n",
            "He wants to live a long time, too. He wants to live for one hundred years. He wants to live for 70 more years.\n",
            "\"Daddy, we will grow old together, okay?\" Nancy said to her father. \"Yes, honey, we will grow old together,\" he said to Nancy.\n",
            "Then Nancy smiled. She gave her daddy a big hug.\n"
          ],
          "name": "stdout"
        }
      ]
    },
    {
      "cell_type": "markdown",
      "metadata": {
        "id": "s-6MjJovP-sQ",
        "colab_type": "text"
      },
      "source": [
        "### <a name='1'></a> Tokenizacja"
      ]
    },
    {
      "cell_type": "code",
      "metadata": {
        "id": "wxeSsn3vPx1Q",
        "colab_type": "code",
        "outputId": "eebc20d8-6580-44c9-d39f-4d760e235490",
        "colab": {
          "base_uri": "https://localhost:8080/",
          "height": 33
        }
      },
      "source": [
        "from nltk.tokenize import word_tokenize\n",
        "\n",
        "tokenized_text = word_tokenize(text)\n",
        "tokenized_text[:10]"
      ],
      "execution_count": 4,
      "outputs": [
        {
          "output_type": "execute_result",
          "data": {
            "text/plain": [
              "['Nancy', 'wants', 'to', 'live', 'a', 'long', 'time', '.', 'She', 'wants']"
            ]
          },
          "metadata": {
            "tags": []
          },
          "execution_count": 4
        }
      ]
    },
    {
      "cell_type": "markdown",
      "metadata": {
        "id": "cCzmnaszRWbB",
        "colab_type": "text"
      },
      "source": [
        "Rozkład tokenów"
      ]
    },
    {
      "cell_type": "code",
      "metadata": {
        "id": "zvR3ggYFQSiM",
        "colab_type": "code",
        "outputId": "17f049ee-b54c-4bfd-fb51-9a7786de3d63",
        "colab": {
          "base_uri": "https://localhost:8080/",
          "height": 813
        }
      },
      "source": [
        "from nltk.probability import FreqDist\n",
        "\n",
        "freq_dist = FreqDist(tokenized_text)\n",
        "freq_dist"
      ],
      "execution_count": 5,
      "outputs": [
        {
          "output_type": "execute_result",
          "data": {
            "text/plain": [
              "FreqDist({\"''\": 2,\n",
              "          ',': 6,\n",
              "          '.': 13,\n",
              "          '100': 1,\n",
              "          '30': 1,\n",
              "          '70': 1,\n",
              "          '95': 1,\n",
              "          '?': 1,\n",
              "          'Daddy': 1,\n",
              "          'He': 3,\n",
              "          'Her': 1,\n",
              "          'Nancy': 4,\n",
              "          'She': 4,\n",
              "          'Then': 2,\n",
              "          'Yes': 1,\n",
              "          '``': 2,\n",
              "          'a': 3,\n",
              "          'be': 1,\n",
              "          'big': 1,\n",
              "          'daddy': 1,\n",
              "          'father': 2,\n",
              "          'five': 1,\n",
              "          'for': 3,\n",
              "          'gave': 1,\n",
              "          'grow': 2,\n",
              "          'he': 1,\n",
              "          'her': 2,\n",
              "          'honey': 1,\n",
              "          'hug': 1,\n",
              "          'hundred': 2,\n",
              "          'is': 2,\n",
              "          'live': 6,\n",
              "          'long': 2,\n",
              "          'more': 2,\n",
              "          'now': 1,\n",
              "          'okay': 1,\n",
              "          'old': 4,\n",
              "          'one': 2,\n",
              "          'said': 2,\n",
              "          'she': 1,\n",
              "          'smiled': 1,\n",
              "          'time': 2,\n",
              "          'to': 8,\n",
              "          'together': 2,\n",
              "          'too': 1,\n",
              "          'wants': 6,\n",
              "          'we': 2,\n",
              "          'will': 3,\n",
              "          'years': 6})"
            ]
          },
          "metadata": {
            "tags": []
          },
          "execution_count": 5
        }
      ]
    },
    {
      "cell_type": "code",
      "metadata": {
        "id": "n4tlm3MlRjUS",
        "colab_type": "code",
        "outputId": "15e5cdd5-9170-490d-ad7d-840adad3fae4",
        "colab": {
          "base_uri": "https://localhost:8080/",
          "height": 180
        }
      },
      "source": [
        "freq_dist.most_common(10)"
      ],
      "execution_count": 6,
      "outputs": [
        {
          "output_type": "execute_result",
          "data": {
            "text/plain": [
              "[('.', 13),\n",
              " ('to', 8),\n",
              " ('wants', 6),\n",
              " ('live', 6),\n",
              " ('years', 6),\n",
              " (',', 6),\n",
              " ('Nancy', 4),\n",
              " ('She', 4),\n",
              " ('old', 4),\n",
              " ('a', 3)]"
            ]
          },
          "metadata": {
            "tags": []
          },
          "execution_count": 6
        }
      ]
    },
    {
      "cell_type": "code",
      "metadata": {
        "id": "f2gJ4PabRo9b",
        "colab_type": "code",
        "outputId": "ae6659eb-02be-4235-f357-8507422618b1",
        "colab": {
          "base_uri": "https://localhost:8080/",
          "height": 447
        }
      },
      "source": [
        "plt.figure(figsize=(15, 6))\n",
        "freq_dist.plot(10, title='Rozkład słów', cumulative=False)"
      ],
      "execution_count": 7,
      "outputs": [
        {
          "output_type": "display_data",
          "data": {
            "image/png": "[encoded data removed]",
            "text/plain": [
              "<Figure size 1080x432 with 1 Axes>"
            ]
          },
          "metadata": {
            "tags": []
          }
        }
      ]
    },
    {
      "cell_type": "code",
      "metadata": {
        "id": "4QEs9ZTmRxfz",
        "colab_type": "code",
        "outputId": "05a9a803-797f-4c0e-d8b9-32841c9e56c8",
        "colab": {
          "base_uri": "https://localhost:8080/",
          "height": 465
        }
      },
      "source": [
        "plt.figure(figsize=(15, 6))\n",
        "freq_dist.plot(30, title='Rozkład słów', cumulative=False)"
      ],
      "execution_count": 8,
      "outputs": [
        {
          "output_type": "display_data",
          "data": {
            "image/png": "[encoded data removed]",
            "text/plain": [
              "<Figure size 1080x432 with 1 Axes>"
            ]
          },
          "metadata": {
            "tags": []
          }
        }
      ]
    },
    {
      "cell_type": "code",
      "metadata": {
        "id": "0yq1yxxUSAsS",
        "colab_type": "code",
        "outputId": "f03e1478-e4ae-41c8-d969-b934153d74c7",
        "colab": {
          "base_uri": "https://localhost:8080/",
          "height": 466
        }
      },
      "source": [
        "plt.figure(figsize=(15, 6))\n",
        "freq_dist.plot(30, title='Rozkład słów - skumulowany', cumulative=True)"
      ],
      "execution_count": 9,
      "outputs": [
        {
          "output_type": "display_data",
          "data": {
            "image/png": "[encoded data removed]",
            "text/plain": [
              "<Figure size 1080x432 with 1 Axes>"
            ]
          },
          "metadata": {
            "tags": []
          }
        }
      ]
    },
    {
      "cell_type": "markdown",
      "metadata": {
        "id": "JlN-UXDMTLiJ",
        "colab_type": "text"
      },
      "source": [
        "### <a name='2'></a> Stopwords"
      ]
    },
    {
      "cell_type": "code",
      "metadata": {
        "id": "_AZVvK9HSDEG",
        "colab_type": "code",
        "outputId": "4831ac60-e1a3-474a-cf46-eca6dbbc6fc4",
        "colab": {
          "base_uri": "https://localhost:8080/",
          "height": 1000
        }
      },
      "source": [
        "from nltk.corpus import stopwords\n",
        "\n",
        "nltk.download('stopwords')\n",
        "\n",
        "stop_words = stopwords.words('english')\n",
        "stop_words"
      ],
      "execution_count": 10,
      "outputs": [
        {
          "output_type": "stream",
          "text": [
            "[nltk_data] Downloading package stopwords to /root/nltk_data...\n",
            "[nltk_data]   Package stopwords is already up-to-date!\n"
          ],
          "name": "stdout"
        },
        {
          "output_type": "execute_result",
          "data": {
            "text/plain": [
              "['i',\n",
              " 'me',\n",
              " 'my',\n",
              " 'myself',\n",
              " 'we',\n",
              " 'our',\n",
              " 'ours',\n",
              " 'ourselves',\n",
              " 'you',\n",
              " \"you're\",\n",
              " \"you've\",\n",
              " \"you'll\",\n",
              " \"you'd\",\n",
              " 'your',\n",
              " 'yours',\n",
              " 'yourself',\n",
              " 'yourselves',\n",
              " 'he',\n",
              " 'him',\n",
              " 'his',\n",
              " 'himself',\n",
              " 'she',\n",
              " \"she's\",\n",
              " 'her',\n",
              " 'hers',\n",
              " 'herself',\n",
              " 'it',\n",
              " \"it's\",\n",
              " 'its',\n",
              " 'itself',\n",
              " 'they',\n",
              " 'them',\n",
              " 'their',\n",
              " 'theirs',\n",
              " 'themselves',\n",
              " 'what',\n",
              " 'which',\n",
              " 'who',\n",
              " 'whom',\n",
              " 'this',\n",
              " 'that',\n",
              " \"that'll\",\n",
              " 'these',\n",
              " 'those',\n",
              " 'am',\n",
              " 'is',\n",
              " 'are',\n",
              " 'was',\n",
              " 'were',\n",
              " 'be',\n",
              " 'been',\n",
              " 'being',\n",
              " 'have',\n",
              " 'has',\n",
              " 'had',\n",
              " 'having',\n",
              " 'do',\n",
              " 'does',\n",
              " 'did',\n",
              " 'doing',\n",
              " 'a',\n",
              " 'an',\n",
              " 'the',\n",
              " 'and',\n",
              " 'but',\n",
              " 'if',\n",
              " 'or',\n",
              " 'because',\n",
              " 'as',\n",
              " 'until',\n",
              " 'while',\n",
              " 'of',\n",
              " 'at',\n",
              " 'by',\n",
              " 'for',\n",
              " 'with',\n",
              " 'about',\n",
              " 'against',\n",
              " 'between',\n",
              " 'into',\n",
              " 'through',\n",
              " 'during',\n",
              " 'before',\n",
              " 'after',\n",
              " 'above',\n",
              " 'below',\n",
              " 'to',\n",
              " 'from',\n",
              " 'up',\n",
              " 'down',\n",
              " 'in',\n",
              " 'out',\n",
              " 'on',\n",
              " 'off',\n",
              " 'over',\n",
              " 'under',\n",
              " 'again',\n",
              " 'further',\n",
              " 'then',\n",
              " 'once',\n",
              " 'here',\n",
              " 'there',\n",
              " 'when',\n",
              " 'where',\n",
              " 'why',\n",
              " 'how',\n",
              " 'all',\n",
              " 'any',\n",
              " 'both',\n",
              " 'each',\n",
              " 'few',\n",
              " 'more',\n",
              " 'most',\n",
              " 'other',\n",
              " 'some',\n",
              " 'such',\n",
              " 'no',\n",
              " 'nor',\n",
              " 'not',\n",
              " 'only',\n",
              " 'own',\n",
              " 'same',\n",
              " 'so',\n",
              " 'than',\n",
              " 'too',\n",
              " 'very',\n",
              " 's',\n",
              " 't',\n",
              " 'can',\n",
              " 'will',\n",
              " 'just',\n",
              " 'don',\n",
              " \"don't\",\n",
              " 'should',\n",
              " \"should've\",\n",
              " 'now',\n",
              " 'd',\n",
              " 'll',\n",
              " 'm',\n",
              " 'o',\n",
              " 're',\n",
              " 've',\n",
              " 'y',\n",
              " 'ain',\n",
              " 'aren',\n",
              " \"aren't\",\n",
              " 'couldn',\n",
              " \"couldn't\",\n",
              " 'didn',\n",
              " \"didn't\",\n",
              " 'doesn',\n",
              " \"doesn't\",\n",
              " 'hadn',\n",
              " \"hadn't\",\n",
              " 'hasn',\n",
              " \"hasn't\",\n",
              " 'haven',\n",
              " \"haven't\",\n",
              " 'isn',\n",
              " \"isn't\",\n",
              " 'ma',\n",
              " 'mightn',\n",
              " \"mightn't\",\n",
              " 'mustn',\n",
              " \"mustn't\",\n",
              " 'needn',\n",
              " \"needn't\",\n",
              " 'shan',\n",
              " \"shan't\",\n",
              " 'shouldn',\n",
              " \"shouldn't\",\n",
              " 'wasn',\n",
              " \"wasn't\",\n",
              " 'weren',\n",
              " \"weren't\",\n",
              " 'won',\n",
              " \"won't\",\n",
              " 'wouldn',\n",
              " \"wouldn't\"]"
            ]
          },
          "metadata": {
            "tags": []
          },
          "execution_count": 10
        }
      ]
    },
    {
      "cell_type": "code",
      "metadata": {
        "id": "7yBasuzEHOov",
        "colab_type": "code",
        "outputId": "04e41822-85c3-4e13-edfa-895da095f714",
        "colab": {
          "base_uri": "https://localhost:8080/",
          "height": 66
        }
      },
      "source": [
        "nltk.download('stopwords')"
      ],
      "execution_count": 11,
      "outputs": [
        {
          "output_type": "stream",
          "text": [
            "[nltk_data] Downloading package stopwords to /root/nltk_data...\n",
            "[nltk_data]   Package stopwords is already up-to-date!\n"
          ],
          "name": "stdout"
        },
        {
          "output_type": "execute_result",
          "data": {
            "text/plain": [
              "True"
            ]
          },
          "metadata": {
            "tags": []
          },
          "execution_count": 11
        }
      ]
    },
    {
      "cell_type": "code",
      "metadata": {
        "id": "3SqyNsbIHRHw",
        "colab_type": "code",
        "outputId": "1beb45e8-03a6-4d91-aa21-9ec3943d5948",
        "colab": {
          "base_uri": "https://localhost:8080/",
          "height": 1000
        }
      },
      "source": [
        "stop_words = stopwords.words('english')\n",
        "stop_words"
      ],
      "execution_count": 12,
      "outputs": [
        {
          "output_type": "execute_result",
          "data": {
            "text/plain": [
              "['i',\n",
              " 'me',\n",
              " 'my',\n",
              " 'myself',\n",
              " 'we',\n",
              " 'our',\n",
              " 'ours',\n",
              " 'ourselves',\n",
              " 'you',\n",
              " \"you're\",\n",
              " \"you've\",\n",
              " \"you'll\",\n",
              " \"you'd\",\n",
              " 'your',\n",
              " 'yours',\n",
              " 'yourself',\n",
              " 'yourselves',\n",
              " 'he',\n",
              " 'him',\n",
              " 'his',\n",
              " 'himself',\n",
              " 'she',\n",
              " \"she's\",\n",
              " 'her',\n",
              " 'hers',\n",
              " 'herself',\n",
              " 'it',\n",
              " \"it's\",\n",
              " 'its',\n",
              " 'itself',\n",
              " 'they',\n",
              " 'them',\n",
              " 'their',\n",
              " 'theirs',\n",
              " 'themselves',\n",
              " 'what',\n",
              " 'which',\n",
              " 'who',\n",
              " 'whom',\n",
              " 'this',\n",
              " 'that',\n",
              " \"that'll\",\n",
              " 'these',\n",
              " 'those',\n",
              " 'am',\n",
              " 'is',\n",
              " 'are',\n",
              " 'was',\n",
              " 'were',\n",
              " 'be',\n",
              " 'been',\n",
              " 'being',\n",
              " 'have',\n",
              " 'has',\n",
              " 'had',\n",
              " 'having',\n",
              " 'do',\n",
              " 'does',\n",
              " 'did',\n",
              " 'doing',\n",
              " 'a',\n",
              " 'an',\n",
              " 'the',\n",
              " 'and',\n",
              " 'but',\n",
              " 'if',\n",
              " 'or',\n",
              " 'because',\n",
              " 'as',\n",
              " 'until',\n",
              " 'while',\n",
              " 'of',\n",
              " 'at',\n",
              " 'by',\n",
              " 'for',\n",
              " 'with',\n",
              " 'about',\n",
              " 'against',\n",
              " 'between',\n",
              " 'into',\n",
              " 'through',\n",
              " 'during',\n",
              " 'before',\n",
              " 'after',\n",
              " 'above',\n",
              " 'below',\n",
              " 'to',\n",
              " 'from',\n",
              " 'up',\n",
              " 'down',\n",
              " 'in',\n",
              " 'out',\n",
              " 'on',\n",
              " 'off',\n",
              " 'over',\n",
              " 'under',\n",
              " 'again',\n",
              " 'further',\n",
              " 'then',\n",
              " 'once',\n",
              " 'here',\n",
              " 'there',\n",
              " 'when',\n",
              " 'where',\n",
              " 'why',\n",
              " 'how',\n",
              " 'all',\n",
              " 'any',\n",
              " 'both',\n",
              " 'each',\n",
              " 'few',\n",
              " 'more',\n",
              " 'most',\n",
              " 'other',\n",
              " 'some',\n",
              " 'such',\n",
              " 'no',\n",
              " 'nor',\n",
              " 'not',\n",
              " 'only',\n",
              " 'own',\n",
              " 'same',\n",
              " 'so',\n",
              " 'than',\n",
              " 'too',\n",
              " 'very',\n",
              " 's',\n",
              " 't',\n",
              " 'can',\n",
              " 'will',\n",
              " 'just',\n",
              " 'don',\n",
              " \"don't\",\n",
              " 'should',\n",
              " \"should've\",\n",
              " 'now',\n",
              " 'd',\n",
              " 'll',\n",
              " 'm',\n",
              " 'o',\n",
              " 're',\n",
              " 've',\n",
              " 'y',\n",
              " 'ain',\n",
              " 'aren',\n",
              " \"aren't\",\n",
              " 'couldn',\n",
              " \"couldn't\",\n",
              " 'didn',\n",
              " \"didn't\",\n",
              " 'doesn',\n",
              " \"doesn't\",\n",
              " 'hadn',\n",
              " \"hadn't\",\n",
              " 'hasn',\n",
              " \"hasn't\",\n",
              " 'haven',\n",
              " \"haven't\",\n",
              " 'isn',\n",
              " \"isn't\",\n",
              " 'ma',\n",
              " 'mightn',\n",
              " \"mightn't\",\n",
              " 'mustn',\n",
              " \"mustn't\",\n",
              " 'needn',\n",
              " \"needn't\",\n",
              " 'shan',\n",
              " \"shan't\",\n",
              " 'shouldn',\n",
              " \"shouldn't\",\n",
              " 'wasn',\n",
              " \"wasn't\",\n",
              " 'weren',\n",
              " \"weren't\",\n",
              " 'won',\n",
              " \"won't\",\n",
              " 'wouldn',\n",
              " \"wouldn't\"]"
            ]
          },
          "metadata": {
            "tags": []
          },
          "execution_count": 12
        }
      ]
    },
    {
      "cell_type": "code",
      "metadata": {
        "id": "dVt4aZ3RHbQS",
        "colab_type": "code",
        "outputId": "64144b21-818f-47a7-8e57-bd74d2172a46",
        "colab": {
          "base_uri": "https://localhost:8080/",
          "height": 33
        }
      },
      "source": [
        "tokenized_text[:10]"
      ],
      "execution_count": 13,
      "outputs": [
        {
          "output_type": "execute_result",
          "data": {
            "text/plain": [
              "['Nancy', 'wants', 'to', 'live', 'a', 'long', 'time', '.', 'She', 'wants']"
            ]
          },
          "metadata": {
            "tags": []
          },
          "execution_count": 13
        }
      ]
    },
    {
      "cell_type": "code",
      "metadata": {
        "id": "3oJco_E9TSDa",
        "colab_type": "code",
        "outputId": "be1b394d-db68-4c64-c54e-e1a7843070e8",
        "colab": {
          "base_uri": "https://localhost:8080/",
          "height": 70
        }
      },
      "source": [
        "filtered_text = []\n",
        "for token in tokenized_text:\n",
        "    if token not in stop_words:\n",
        "        filtered_text.append(token)\n",
        "\n",
        "print(tokenized_text)\n",
        "print(filtered_text)"
      ],
      "execution_count": 14,
      "outputs": [
        {
          "output_type": "stream",
          "text": [
            "['Nancy', 'wants', 'to', 'live', 'a', 'long', 'time', '.', 'She', 'wants', 'to', 'live', 'for', 'one', 'hundred', 'years', '.', 'She', 'is', 'five', 'years', 'old', 'now', '.', 'She', 'wants', 'to', 'live', '95', 'more', 'years', '.', 'Then', 'she', 'will', 'be', '100', '.', 'Her', 'father', 'is', '30', 'years', 'old', '.', 'He', 'wants', 'to', 'live', 'a', 'long', 'time', ',', 'too', '.', 'He', 'wants', 'to', 'live', 'for', 'one', 'hundred', 'years', '.', 'He', 'wants', 'to', 'live', 'for', '70', 'more', 'years', '.', '``', 'Daddy', ',', 'we', 'will', 'grow', 'old', 'together', ',', 'okay', '?', \"''\", 'Nancy', 'said', 'to', 'her', 'father', '.', '``', 'Yes', ',', 'honey', ',', 'we', 'will', 'grow', 'old', 'together', ',', \"''\", 'he', 'said', 'to', 'Nancy', '.', 'Then', 'Nancy', 'smiled', '.', 'She', 'gave', 'her', 'daddy', 'a', 'big', 'hug', '.']\n",
            "['Nancy', 'wants', 'live', 'long', 'time', '.', 'She', 'wants', 'live', 'one', 'hundred', 'years', '.', 'She', 'five', 'years', 'old', '.', 'She', 'wants', 'live', '95', 'years', '.', 'Then', '100', '.', 'Her', 'father', '30', 'years', 'old', '.', 'He', 'wants', 'live', 'long', 'time', ',', '.', 'He', 'wants', 'live', 'one', 'hundred', 'years', '.', 'He', 'wants', 'live', '70', 'years', '.', '``', 'Daddy', ',', 'grow', 'old', 'together', ',', 'okay', '?', \"''\", 'Nancy', 'said', 'father', '.', '``', 'Yes', ',', 'honey', ',', 'grow', 'old', 'together', ',', \"''\", 'said', 'Nancy', '.', 'Then', 'Nancy', 'smiled', '.', 'She', 'gave', 'daddy', 'big', 'hug', '.']\n"
          ],
          "name": "stdout"
        }
      ]
    },
    {
      "cell_type": "code",
      "metadata": {
        "id": "T0qX5xQeTWL-",
        "colab_type": "code",
        "outputId": "018cd6d9-c458-42fa-8929-9f2e1dfadeec",
        "colab": {
          "base_uri": "https://localhost:8080/",
          "height": 50
        }
      },
      "source": [
        "print(f'tokenized_text: {len(set(tokenized_text))}')\n",
        "print(f'filtered_text: {len(set(filtered_text))}')"
      ],
      "execution_count": 15,
      "outputs": [
        {
          "output_type": "stream",
          "text": [
            "tokenized_text: 49\n",
            "filtered_text: 36\n"
          ],
          "name": "stdout"
        }
      ]
    },
    {
      "cell_type": "code",
      "metadata": {
        "id": "F2dKCvPcTdL-",
        "colab_type": "code",
        "outputId": "01cf86d4-af30-4715-ce0e-2aa8791019c7",
        "colab": {
          "base_uri": "https://localhost:8080/",
          "height": 602
        }
      },
      "source": [
        "freq_dist = FreqDist(filtered_text)\n",
        "freq_dist"
      ],
      "execution_count": 16,
      "outputs": [
        {
          "output_type": "execute_result",
          "data": {
            "text/plain": [
              "FreqDist({\"''\": 2,\n",
              "          ',': 6,\n",
              "          '.': 13,\n",
              "          '100': 1,\n",
              "          '30': 1,\n",
              "          '70': 1,\n",
              "          '95': 1,\n",
              "          '?': 1,\n",
              "          'Daddy': 1,\n",
              "          'He': 3,\n",
              "          'Her': 1,\n",
              "          'Nancy': 4,\n",
              "          'She': 4,\n",
              "          'Then': 2,\n",
              "          'Yes': 1,\n",
              "          '``': 2,\n",
              "          'big': 1,\n",
              "          'daddy': 1,\n",
              "          'father': 2,\n",
              "          'five': 1,\n",
              "          'gave': 1,\n",
              "          'grow': 2,\n",
              "          'honey': 1,\n",
              "          'hug': 1,\n",
              "          'hundred': 2,\n",
              "          'live': 6,\n",
              "          'long': 2,\n",
              "          'okay': 1,\n",
              "          'old': 4,\n",
              "          'one': 2,\n",
              "          'said': 2,\n",
              "          'smiled': 1,\n",
              "          'time': 2,\n",
              "          'together': 2,\n",
              "          'wants': 6,\n",
              "          'years': 6})"
            ]
          },
          "metadata": {
            "tags": []
          },
          "execution_count": 16
        }
      ]
    },
    {
      "cell_type": "code",
      "metadata": {
        "id": "x83kk4KmTlLH",
        "colab_type": "code",
        "outputId": "6cfa1284-de61-4cfa-e015-1452de37fff9",
        "colab": {
          "base_uri": "https://localhost:8080/",
          "height": 180
        }
      },
      "source": [
        "freq_dist.most_common(10)"
      ],
      "execution_count": 17,
      "outputs": [
        {
          "output_type": "execute_result",
          "data": {
            "text/plain": [
              "[('.', 13),\n",
              " ('wants', 6),\n",
              " ('live', 6),\n",
              " ('years', 6),\n",
              " (',', 6),\n",
              " ('Nancy', 4),\n",
              " ('She', 4),\n",
              " ('old', 4),\n",
              " ('He', 3),\n",
              " ('long', 2)]"
            ]
          },
          "metadata": {
            "tags": []
          },
          "execution_count": 17
        }
      ]
    },
    {
      "cell_type": "code",
      "metadata": {
        "id": "8y_DufqoToYO",
        "colab_type": "code",
        "outputId": "49fae183-d346-4144-b73f-d5404f9d0f54",
        "colab": {
          "base_uri": "https://localhost:8080/",
          "height": 465
        }
      },
      "source": [
        "plt.figure(figsize=(15, 6))\n",
        "freq_dist.plot(30, title='Rozkład słów', cumulative=False)"
      ],
      "execution_count": 18,
      "outputs": [
        {
          "output_type": "display_data",
          "data": {
            "image/png": "[encoded data removed]",
            "text/plain": [
              "<Figure size 1080x432 with 1 Axes>"
            ]
          },
          "metadata": {
            "tags": []
          }
        }
      ]
    },
    {
      "cell_type": "code",
      "metadata": {
        "id": "uIzyNbxDT7N5",
        "colab_type": "code",
        "outputId": "127c8832-5793-4617-95b4-feaf890a84b3",
        "colab": {
          "base_uri": "https://localhost:8080/",
          "height": 33
        }
      },
      "source": [
        "[token for token in freq_dist.keys() if len(token) < 3]"
      ],
      "execution_count": 19,
      "outputs": [
        {
          "output_type": "execute_result",
          "data": {
            "text/plain": [
              "['.', '95', '30', 'He', ',', '70', '``', '?', \"''\"]"
            ]
          },
          "metadata": {
            "tags": []
          },
          "execution_count": 19
        }
      ]
    },
    {
      "cell_type": "code",
      "metadata": {
        "id": "yD9BmsPiTrxa",
        "colab_type": "code",
        "outputId": "b44cfa59-d6d9-4980-8d4d-1aa3294474d0",
        "colab": {
          "base_uri": "https://localhost:8080/",
          "height": 33
        }
      },
      "source": [
        "stop_words.extend(['.', ',', '``', '?', '\\'\\''])\n",
        "stop_words[-10:]"
      ],
      "execution_count": 20,
      "outputs": [
        {
          "output_type": "execute_result",
          "data": {
            "text/plain": [
              "[\"weren't\", 'won', \"won't\", 'wouldn', \"wouldn't\", '.', ',', '``', '?', \"''\"]"
            ]
          },
          "metadata": {
            "tags": []
          },
          "execution_count": 20
        }
      ]
    },
    {
      "cell_type": "code",
      "metadata": {
        "id": "1j1nDDsRUYlC",
        "colab_type": "code",
        "outputId": "37f41376-c022-4e88-98b5-63c131551326",
        "colab": {
          "base_uri": "https://localhost:8080/",
          "height": 70
        }
      },
      "source": [
        "filtered_text = []\n",
        "for token in tokenized_text:\n",
        "    if token not in stop_words:\n",
        "        filtered_text.append(token)\n",
        "\n",
        "print(tokenized_text)\n",
        "print(filtered_text)"
      ],
      "execution_count": 21,
      "outputs": [
        {
          "output_type": "stream",
          "text": [
            "['Nancy', 'wants', 'to', 'live', 'a', 'long', 'time', '.', 'She', 'wants', 'to', 'live', 'for', 'one', 'hundred', 'years', '.', 'She', 'is', 'five', 'years', 'old', 'now', '.', 'She', 'wants', 'to', 'live', '95', 'more', 'years', '.', 'Then', 'she', 'will', 'be', '100', '.', 'Her', 'father', 'is', '30', 'years', 'old', '.', 'He', 'wants', 'to', 'live', 'a', 'long', 'time', ',', 'too', '.', 'He', 'wants', 'to', 'live', 'for', 'one', 'hundred', 'years', '.', 'He', 'wants', 'to', 'live', 'for', '70', 'more', 'years', '.', '``', 'Daddy', ',', 'we', 'will', 'grow', 'old', 'together', ',', 'okay', '?', \"''\", 'Nancy', 'said', 'to', 'her', 'father', '.', '``', 'Yes', ',', 'honey', ',', 'we', 'will', 'grow', 'old', 'together', ',', \"''\", 'he', 'said', 'to', 'Nancy', '.', 'Then', 'Nancy', 'smiled', '.', 'She', 'gave', 'her', 'daddy', 'a', 'big', 'hug', '.']\n",
            "['Nancy', 'wants', 'live', 'long', 'time', 'She', 'wants', 'live', 'one', 'hundred', 'years', 'She', 'five', 'years', 'old', 'She', 'wants', 'live', '95', 'years', 'Then', '100', 'Her', 'father', '30', 'years', 'old', 'He', 'wants', 'live', 'long', 'time', 'He', 'wants', 'live', 'one', 'hundred', 'years', 'He', 'wants', 'live', '70', 'years', 'Daddy', 'grow', 'old', 'together', 'okay', 'Nancy', 'said', 'father', 'Yes', 'honey', 'grow', 'old', 'together', 'said', 'Nancy', 'Then', 'Nancy', 'smiled', 'She', 'gave', 'daddy', 'big', 'hug']\n"
          ],
          "name": "stdout"
        }
      ]
    },
    {
      "cell_type": "code",
      "metadata": {
        "id": "ylJ3M1asUcaR",
        "colab_type": "code",
        "outputId": "f5740d93-4dda-41ac-90bd-ad75db3a6121",
        "colab": {
          "base_uri": "https://localhost:8080/",
          "height": 50
        }
      },
      "source": [
        "print(f'tokenized_text: {len(set(tokenized_text))}')\n",
        "print(f'filtered_text: {len(set(filtered_text))}')"
      ],
      "execution_count": 22,
      "outputs": [
        {
          "output_type": "stream",
          "text": [
            "tokenized_text: 49\n",
            "filtered_text: 31\n"
          ],
          "name": "stdout"
        }
      ]
    },
    {
      "cell_type": "code",
      "metadata": {
        "id": "imkNGsf4Uf-l",
        "colab_type": "code",
        "outputId": "814848cb-2fa4-42ec-e9f4-351f0ffd3d2e",
        "colab": {
          "base_uri": "https://localhost:8080/",
          "height": 180
        }
      },
      "source": [
        "freq_dist = FreqDist(filtered_text)\n",
        "freq_dist.most_common(10)"
      ],
      "execution_count": 23,
      "outputs": [
        {
          "output_type": "execute_result",
          "data": {
            "text/plain": [
              "[('wants', 6),\n",
              " ('live', 6),\n",
              " ('years', 6),\n",
              " ('Nancy', 4),\n",
              " ('She', 4),\n",
              " ('old', 4),\n",
              " ('He', 3),\n",
              " ('long', 2),\n",
              " ('time', 2),\n",
              " ('one', 2)]"
            ]
          },
          "metadata": {
            "tags": []
          },
          "execution_count": 23
        }
      ]
    },
    {
      "cell_type": "code",
      "metadata": {
        "id": "jpkfkCwlUiWc",
        "colab_type": "code",
        "outputId": "a490613a-c45e-418d-c619-08cbadfe2c27",
        "colab": {
          "base_uri": "https://localhost:8080/",
          "height": 465
        }
      },
      "source": [
        "plt.figure(figsize=(15, 6))\n",
        "freq_dist.plot(30, title='Rozkład słów', cumulative=False)"
      ],
      "execution_count": 24,
      "outputs": [
        {
          "output_type": "display_data",
          "data": {
            "image/png": "[encoded data removed]",
            "text/plain": [
              "<Figure size 1080x432 with 1 Axes>"
            ]
          },
          "metadata": {
            "tags": []
          }
        }
      ]
    },
    {
      "cell_type": "code",
      "metadata": {
        "id": "NtsjmyQlISpZ",
        "colab_type": "code",
        "outputId": "b145ffbc-ff01-4209-f7cc-97110e99ef30",
        "colab": {
          "base_uri": "https://localhost:8080/",
          "height": 342
        }
      },
      "source": [
        "filtered_text_lower = [token.lower() for token in filtered_text]\n",
        "filtered_text_lower[:20]"
      ],
      "execution_count": 25,
      "outputs": [
        {
          "output_type": "execute_result",
          "data": {
            "text/plain": [
              "['nancy',\n",
              " 'wants',\n",
              " 'live',\n",
              " 'long',\n",
              " 'time',\n",
              " 'she',\n",
              " 'wants',\n",
              " 'live',\n",
              " 'one',\n",
              " 'hundred',\n",
              " 'years',\n",
              " 'she',\n",
              " 'five',\n",
              " 'years',\n",
              " 'old',\n",
              " 'she',\n",
              " 'wants',\n",
              " 'live',\n",
              " '95',\n",
              " 'years']"
            ]
          },
          "metadata": {
            "tags": []
          },
          "execution_count": 25
        }
      ]
    },
    {
      "cell_type": "code",
      "metadata": {
        "id": "cFyxiiX_Ifsj",
        "colab_type": "code",
        "outputId": "89967a66-0d66-4f7c-f79d-747cddadeb2f",
        "colab": {
          "base_uri": "https://localhost:8080/",
          "height": 180
        }
      },
      "source": [
        "freq_dist = FreqDist(filtered_text_lower)\n",
        "freq_dist.most_common(10)"
      ],
      "execution_count": 26,
      "outputs": [
        {
          "output_type": "execute_result",
          "data": {
            "text/plain": [
              "[('wants', 6),\n",
              " ('live', 6),\n",
              " ('years', 6),\n",
              " ('nancy', 4),\n",
              " ('she', 4),\n",
              " ('old', 4),\n",
              " ('he', 3),\n",
              " ('long', 2),\n",
              " ('time', 2),\n",
              " ('one', 2)]"
            ]
          },
          "metadata": {
            "tags": []
          },
          "execution_count": 26
        }
      ]
    },
    {
      "cell_type": "code",
      "metadata": {
        "id": "Ua9cK5qLIiZa",
        "colab_type": "code",
        "outputId": "696b0052-3152-46cb-827d-79cd7e799eea",
        "colab": {
          "base_uri": "https://localhost:8080/",
          "height": 465
        }
      },
      "source": [
        "plt.figure(figsize=(15, 6))\n",
        "freq_dist.plot(30, title='Rozkład słów', cumulative=False)"
      ],
      "execution_count": 27,
      "outputs": [
        {
          "output_type": "display_data",
          "data": {
            "image/png": "[encoded data removed]",
            "text/plain": [
              "<Figure size 1080x432 with 1 Axes>"
            ]
          },
          "metadata": {
            "tags": []
          }
        }
      ]
    },
    {
      "cell_type": "markdown",
      "metadata": {
        "id": "2n4wTO4DVHvt",
        "colab_type": "text"
      },
      "source": [
        "### <a name='3'></a> Stopwords - różne języki"
      ]
    },
    {
      "cell_type": "code",
      "metadata": {
        "id": "UZzx4ZDqWdco",
        "colab_type": "code",
        "outputId": "b5e7f3bf-01d9-4e7a-975d-142f959be702",
        "colab": {
          "base_uri": "https://localhost:8080/",
          "height": 50
        }
      },
      "source": [
        "english_stopwords = stopwords.words('english')\n",
        "print(f'english: {len(english_stopwords)}')\n",
        "english_stopwords[:10]"
      ],
      "execution_count": 28,
      "outputs": [
        {
          "output_type": "stream",
          "text": [
            "english: 179\n"
          ],
          "name": "stdout"
        },
        {
          "output_type": "execute_result",
          "data": {
            "text/plain": [
              "['i', 'me', 'my', 'myself', 'we', 'our', 'ours', 'ourselves', 'you', \"you're\"]"
            ]
          },
          "metadata": {
            "tags": []
          },
          "execution_count": 28
        }
      ]
    },
    {
      "cell_type": "code",
      "metadata": {
        "id": "a7aUJ39wUnZ8",
        "colab_type": "code",
        "outputId": "a6e106a0-5b3b-4914-9c6f-8b1fb5568a31",
        "colab": {
          "base_uri": "https://localhost:8080/",
          "height": 50
        }
      },
      "source": [
        "german_stopwords = stopwords.words('german')\n",
        "print(f'german: {len(german_stopwords)}')\n",
        "german_stopwords[:10]"
      ],
      "execution_count": 29,
      "outputs": [
        {
          "output_type": "stream",
          "text": [
            "german: 232\n"
          ],
          "name": "stdout"
        },
        {
          "output_type": "execute_result",
          "data": {
            "text/plain": [
              "['aber', 'alle', 'allem', 'allen', 'aller', 'alles', 'als', 'also', 'am', 'an']"
            ]
          },
          "metadata": {
            "tags": []
          },
          "execution_count": 29
        }
      ]
    },
    {
      "cell_type": "code",
      "metadata": {
        "id": "KJu6bBq9Vsaj",
        "colab_type": "code",
        "outputId": "e0d177e4-e13c-445b-af9b-1a6d18fa74c9",
        "colab": {
          "base_uri": "https://localhost:8080/",
          "height": 50
        }
      },
      "source": [
        "spanish_stopwords = stopwords.words('spanish')\n",
        "print(f'spanish: {len(spanish_stopwords)}')\n",
        "spanish_stopwords[:10]"
      ],
      "execution_count": 30,
      "outputs": [
        {
          "output_type": "stream",
          "text": [
            "spanish: 313\n"
          ],
          "name": "stdout"
        },
        {
          "output_type": "execute_result",
          "data": {
            "text/plain": [
              "['de', 'la', 'que', 'el', 'en', 'y', 'a', 'los', 'del', 'se']"
            ]
          },
          "metadata": {
            "tags": []
          },
          "execution_count": 30
        }
      ]
    },
    {
      "cell_type": "markdown",
      "metadata": {
        "id": "Nbh5_SmEVmQF",
        "colab_type": "text"
      },
      "source": [
        "### <a name='4'></a> Stopwords - lista dostępnych języków"
      ]
    },
    {
      "cell_type": "code",
      "metadata": {
        "id": "NXE8JaSKVMU2",
        "colab_type": "code",
        "outputId": "6940c330-ba59-4014-c808-e6e6c5220b43",
        "colab": {
          "base_uri": "https://localhost:8080/",
          "height": 407
        }
      },
      "source": [
        "import os\n",
        "\n",
        "os.listdir('/root/nltk_data/corpora/stopwords/')"
      ],
      "execution_count": 31,
      "outputs": [
        {
          "output_type": "execute_result",
          "data": {
            "text/plain": [
              "['hungarian',\n",
              " 'greek',\n",
              " 'romanian',\n",
              " 'russian',\n",
              " 'finnish',\n",
              " 'azerbaijani',\n",
              " 'french',\n",
              " 'english',\n",
              " 'spanish',\n",
              " 'italian',\n",
              " 'german',\n",
              " 'slovene',\n",
              " 'swedish',\n",
              " 'tajik',\n",
              " 'portuguese',\n",
              " 'danish',\n",
              " 'kazakh',\n",
              " 'nepali',\n",
              " 'arabic',\n",
              " 'indonesian',\n",
              " 'dutch',\n",
              " 'turkish',\n",
              " 'norwegian',\n",
              " 'README']"
            ]
          },
          "metadata": {
            "tags": []
          },
          "execution_count": 31
        }
      ]
    },
    {
      "cell_type": "markdown",
      "metadata": {
        "id": "5kzXbbBUXa8F",
        "colab_type": "text"
      },
      "source": [
        "### <a name='5'></a> Stopwords - język polski"
      ]
    },
    {
      "cell_type": "code",
      "metadata": {
        "id": "JAhzCdtAWEbh",
        "colab_type": "code",
        "outputId": "fe13930c-b07d-48ee-8042-04f748696bcf",
        "colab": {
          "base_uri": "https://localhost:8080/",
          "height": 1000
        }
      },
      "source": [
        "import requests\n",
        "\n",
        "url = 'https://raw.githubusercontent.com/krakowiakpawel9/ml_course/master/x/polish-stopwords.txt'\n",
        "response = requests.get(url)\n",
        "polish_stopwords = response.text.split()\n",
        "print(f'polish: {len(polish_stopwords)}')\n",
        "polish_stopwords"
      ],
      "execution_count": 32,
      "outputs": [
        {
          "output_type": "stream",
          "text": [
            "polish: 350\n"
          ],
          "name": "stdout"
        },
        {
          "output_type": "execute_result",
          "data": {
            "text/plain": [
              "['a',\n",
              " 'aby',\n",
              " 'ach',\n",
              " 'acz',\n",
              " 'aczkolwiek',\n",
              " 'aj',\n",
              " 'albo',\n",
              " 'ale',\n",
              " 'alez',\n",
              " 'ależ',\n",
              " 'ani',\n",
              " 'az',\n",
              " 'aż',\n",
              " 'bardziej',\n",
              " 'bardzo',\n",
              " 'beda',\n",
              " 'bedzie',\n",
              " 'bez',\n",
              " 'deda',\n",
              " 'będą',\n",
              " 'bede',\n",
              " 'będę',\n",
              " 'będzie',\n",
              " 'bo',\n",
              " 'bowiem',\n",
              " 'by',\n",
              " 'byc',\n",
              " 'być',\n",
              " 'byl',\n",
              " 'byla',\n",
              " 'byli',\n",
              " 'bylo',\n",
              " 'byly',\n",
              " 'był',\n",
              " 'była',\n",
              " 'było',\n",
              " 'były',\n",
              " 'bynajmniej',\n",
              " 'cala',\n",
              " 'cali',\n",
              " 'caly',\n",
              " 'cała',\n",
              " 'cały',\n",
              " 'ci',\n",
              " 'cie',\n",
              " 'ciebie',\n",
              " 'cię',\n",
              " 'co',\n",
              " 'cokolwiek',\n",
              " 'cos',\n",
              " 'coś',\n",
              " 'czasami',\n",
              " 'czasem',\n",
              " 'czemu',\n",
              " 'czy',\n",
              " 'czyli',\n",
              " 'daleko',\n",
              " 'dla',\n",
              " 'dlaczego',\n",
              " 'dlatego',\n",
              " 'do',\n",
              " 'dobrze',\n",
              " 'dokad',\n",
              " 'dokąd',\n",
              " 'dosc',\n",
              " 'dość',\n",
              " 'duzo',\n",
              " 'dużo',\n",
              " 'dwa',\n",
              " 'dwaj',\n",
              " 'dwie',\n",
              " 'dwoje',\n",
              " 'dzis',\n",
              " 'dzisiaj',\n",
              " 'dziś',\n",
              " 'gdy',\n",
              " 'gdyby',\n",
              " 'gdyz',\n",
              " 'gdyż',\n",
              " 'gdzie',\n",
              " 'gdziekolwiek',\n",
              " 'gdzies',\n",
              " 'gdzieś',\n",
              " 'go',\n",
              " 'i',\n",
              " 'ich',\n",
              " 'ile',\n",
              " 'im',\n",
              " 'inna',\n",
              " 'inne',\n",
              " 'inny',\n",
              " 'innych',\n",
              " 'iz',\n",
              " 'iż',\n",
              " 'ja',\n",
              " 'jak',\n",
              " 'jakas',\n",
              " 'jakaś',\n",
              " 'jakby',\n",
              " 'jaki',\n",
              " 'jakichs',\n",
              " 'jakichś',\n",
              " 'jakie',\n",
              " 'jakis',\n",
              " 'jakiś',\n",
              " 'jakiz',\n",
              " 'jakiż',\n",
              " 'jakkolwiek',\n",
              " 'jako',\n",
              " 'jakos',\n",
              " 'jakoś',\n",
              " 'ją',\n",
              " 'je',\n",
              " 'jeden',\n",
              " 'jedna',\n",
              " 'jednak',\n",
              " 'jednakze',\n",
              " 'jednakże',\n",
              " 'jedno',\n",
              " 'jego',\n",
              " 'jej',\n",
              " 'jemu',\n",
              " 'jesli',\n",
              " 'jest',\n",
              " 'jestem',\n",
              " 'jeszcze',\n",
              " 'jeśli',\n",
              " 'jezeli',\n",
              " 'jeżeli',\n",
              " 'juz',\n",
              " 'już',\n",
              " 'kazdy',\n",
              " 'każdy',\n",
              " 'kiedy',\n",
              " 'kilka',\n",
              " 'kims',\n",
              " 'kimś',\n",
              " 'kto',\n",
              " 'ktokolwiek',\n",
              " 'ktora',\n",
              " 'ktore',\n",
              " 'ktorego',\n",
              " 'ktorej',\n",
              " 'ktory',\n",
              " 'ktorych',\n",
              " 'ktorym',\n",
              " 'ktorzy',\n",
              " 'ktos',\n",
              " 'ktoś',\n",
              " 'która',\n",
              " 'które',\n",
              " 'którego',\n",
              " 'której',\n",
              " 'który',\n",
              " 'których',\n",
              " 'którym',\n",
              " 'którzy',\n",
              " 'ku',\n",
              " 'lat',\n",
              " 'lecz',\n",
              " 'lub',\n",
              " 'ma',\n",
              " 'mają',\n",
              " 'mało',\n",
              " 'mam',\n",
              " 'mi',\n",
              " 'miedzy',\n",
              " 'między',\n",
              " 'mimo',\n",
              " 'mna',\n",
              " 'mną',\n",
              " 'mnie',\n",
              " 'moga',\n",
              " 'mogą',\n",
              " 'moi',\n",
              " 'moim',\n",
              " 'moj',\n",
              " 'moja',\n",
              " 'moje',\n",
              " 'moze',\n",
              " 'mozliwe',\n",
              " 'mozna',\n",
              " 'może',\n",
              " 'możliwe',\n",
              " 'można',\n",
              " 'mój',\n",
              " 'mu',\n",
              " 'musi',\n",
              " 'my',\n",
              " 'na',\n",
              " 'nad',\n",
              " 'nam',\n",
              " 'nami',\n",
              " 'nas',\n",
              " 'nasi',\n",
              " 'nasz',\n",
              " 'nasza',\n",
              " 'nasze',\n",
              " 'naszego',\n",
              " 'naszych',\n",
              " 'natomiast',\n",
              " 'natychmiast',\n",
              " 'nawet',\n",
              " 'nia',\n",
              " 'nią',\n",
              " 'nic',\n",
              " 'nich',\n",
              " 'nie',\n",
              " 'niech',\n",
              " 'niego',\n",
              " 'niej',\n",
              " 'niemu',\n",
              " 'nigdy',\n",
              " 'nim',\n",
              " 'nimi',\n",
              " 'niz',\n",
              " 'niż',\n",
              " 'no',\n",
              " 'o',\n",
              " 'obok',\n",
              " 'od',\n",
              " 'około',\n",
              " 'on',\n",
              " 'ona',\n",
              " 'one',\n",
              " 'oni',\n",
              " 'ono',\n",
              " 'oraz',\n",
              " 'oto',\n",
              " 'owszem',\n",
              " 'pan',\n",
              " 'pana',\n",
              " 'pani',\n",
              " 'po',\n",
              " 'pod',\n",
              " 'podczas',\n",
              " 'pomimo',\n",
              " 'ponad',\n",
              " 'poniewaz',\n",
              " 'ponieważ',\n",
              " 'powinien',\n",
              " 'powinna',\n",
              " 'powinni',\n",
              " 'powinno',\n",
              " 'poza',\n",
              " 'prawie',\n",
              " 'przeciez',\n",
              " 'przecież',\n",
              " 'przed',\n",
              " 'przede',\n",
              " 'przedtem',\n",
              " 'przez',\n",
              " 'przy',\n",
              " 'roku',\n",
              " 'rowniez',\n",
              " 'również',\n",
              " 'sam',\n",
              " 'sama',\n",
              " 'są',\n",
              " 'sie',\n",
              " 'się',\n",
              " 'skad',\n",
              " 'skąd',\n",
              " 'soba',\n",
              " 'sobą',\n",
              " 'sobie',\n",
              " 'sposob',\n",
              " 'sposób',\n",
              " 'swoje',\n",
              " 'ta',\n",
              " 'tak',\n",
              " 'taka',\n",
              " 'taki',\n",
              " 'takie',\n",
              " 'takze',\n",
              " 'także',\n",
              " 'tam',\n",
              " 'te',\n",
              " 'tego',\n",
              " 'tej',\n",
              " 'ten',\n",
              " 'teraz',\n",
              " 'też',\n",
              " 'to',\n",
              " 'toba',\n",
              " 'tobą',\n",
              " 'tobie',\n",
              " 'totez',\n",
              " 'toteż',\n",
              " 'totobą',\n",
              " 'trzeba',\n",
              " 'tu',\n",
              " 'tutaj',\n",
              " 'twoi',\n",
              " 'twoim',\n",
              " 'twoj',\n",
              " 'twoja',\n",
              " 'twoje',\n",
              " 'twój',\n",
              " 'twym',\n",
              " 'ty',\n",
              " 'tych',\n",
              " 'tylko',\n",
              " 'tym',\n",
              " 'u',\n",
              " 'w',\n",
              " 'wam',\n",
              " 'wami',\n",
              " 'was',\n",
              " 'wasz',\n",
              " 'wasza',\n",
              " 'wasze',\n",
              " 'we',\n",
              " 'według',\n",
              " 'wiele',\n",
              " 'wielu',\n",
              " 'więc',\n",
              " 'więcej',\n",
              " 'wlasnie',\n",
              " 'właśnie',\n",
              " 'wszyscy',\n",
              " 'wszystkich',\n",
              " 'wszystkie',\n",
              " 'wszystkim',\n",
              " 'wszystko',\n",
              " 'wtedy',\n",
              " 'wy',\n",
              " 'z',\n",
              " 'za',\n",
              " 'zaden',\n",
              " 'zadna',\n",
              " 'zadne',\n",
              " 'zadnych',\n",
              " 'zapewne',\n",
              " 'zawsze',\n",
              " 'ze',\n",
              " 'zeby',\n",
              " 'zeznowu',\n",
              " 'zł',\n",
              " 'znow',\n",
              " 'znowu',\n",
              " 'znów',\n",
              " 'zostal',\n",
              " 'został',\n",
              " 'żaden',\n",
              " 'żadna',\n",
              " 'żadne',\n",
              " 'żadnych',\n",
              " 'że',\n",
              " 'żeby']"
            ]
          },
          "metadata": {
            "tags": []
          },
          "execution_count": 32
        }
      ]
    },
    {
      "cell_type": "code",
      "metadata": {
        "id": "XasA4I-ZXIlD",
        "colab_type": "code",
        "colab": {}
      },
      "source": [
        ""
      ],
      "execution_count": 0,
      "outputs": []
    }
  ]
}