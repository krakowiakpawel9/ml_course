{
  "nbformat": 4,
  "nbformat_minor": 0,
  "metadata": {
    "colab": {
      "name": "01_preprocessing.ipynb",
      "provenance": [],
      "include_colab_link": true
    },
    "kernelspec": {
      "name": "python3",
      "display_name": "Python 3"
    }
  },
  "cells": [
    {
      "cell_type": "markdown",
      "metadata": {
        "id": "view-in-github",
        "colab_type": "text"
      },
      "source": [
        "<a href=\"https://colab.research.google.com/github/krakowiakpawel9/ml_course/blob/master/x/03_nltk/05_stemming.ipynb\" target=\"_parent\"><img src=\"https://colab.research.google.com/assets/colab-badge.svg\" alt=\"Open In Colab\"/></a>"
      ]
    },
    {
      "cell_type": "markdown",
      "metadata": {
        "id": "UbjsT92Xd3z1",
        "colab_type": "text"
      },
      "source": [
        "* @author: krakowiakpawel9@gmail.com  \n",
        "* @site: e-smartdata.org\n",
        "\n",
        "### nltk\n",
        "Strona biblioteki: [https://www.nltk.org/](https://www.nltk.org/)  \n",
        "\n",
        "Podstawowa biblioteka do przetwarzania języka naturalnego w języku Python.\n",
        "\n",
        "Aby zainstalować bibliotekę nltk, użyj polecenia poniżej:\n",
        "```\n",
        "!pip install nltk\n",
        "```\n",
        "Aby zaktualizować do najnowszej wersji użyj polecenia poniżej:\n",
        "```\n",
        "!pip install --upgrade nltk\n",
        "```\n",
        "Kurs stworzony w oparciu o wersję `3.2.5`\n",
        "\n",
        "### Spis treści:\n",
        "1. [Import bibliotek](#0)\n",
        "2. [Stemming](#1)\n",
        "\n"
      ]
    },
    {
      "cell_type": "markdown",
      "metadata": {
        "id": "YkIALacsUnj7",
        "colab_type": "text"
      },
      "source": [
        "### <a name='0'></a> Import bibliotek"
      ]
    },
    {
      "cell_type": "code",
      "metadata": {
        "id": "lkblBFTOZ1Os",
        "colab_type": "code",
        "outputId": "1e38f5f0-9357-492f-d85e-6a96b186a861",
        "colab": {
          "base_uri": "https://localhost:8080/",
          "height": 35
        }
      },
      "source": [
        "import nltk\n",
        "nltk.__version__"
      ],
      "execution_count": 1,
      "outputs": [
        {
          "output_type": "execute_result",
          "data": {
            "text/plain": [
              "'3.2.5'"
            ]
          },
          "metadata": {
            "tags": []
          },
          "execution_count": 1
        }
      ]
    },
    {
      "cell_type": "markdown",
      "metadata": {
        "id": "0dWvjTndcjLa",
        "colab_type": "text"
      },
      "source": [
        "### <a name='1'></a> Stemming"
      ]
    },
    {
      "cell_type": "code",
      "metadata": {
        "id": "RbL2P-92Z4OC",
        "colab_type": "code",
        "colab": {}
      },
      "source": [
        "from nltk.stem import PorterStemmer\n",
        "from nltk.stem import LancasterStemmer\n",
        "\n",
        "porter = PorterStemmer()\n",
        "lancaster = LancasterStemmer()"
      ],
      "execution_count": 0,
      "outputs": []
    },
    {
      "cell_type": "code",
      "metadata": {
        "id": "5__VXtoFbhNO",
        "colab_type": "code",
        "outputId": "ebc9d400-a393-4722-85fa-7c91a0004fa9",
        "colab": {
          "base_uri": "https://localhost:8080/",
          "height": 90
        }
      },
      "source": [
        "for word in ['play', 'plays', 'playing', 'played']:\n",
        "    print(f'{word.ljust(8)}:{porter.stem(word).ljust(5)}:{lancaster.stem(word)}')"
      ],
      "execution_count": 3,
      "outputs": [
        {
          "output_type": "stream",
          "text": [
            "play    :play :play\n",
            "plays   :play :play\n",
            "playing :play :play\n",
            "played  :play :play\n"
          ],
          "name": "stdout"
        }
      ]
    },
    {
      "cell_type": "code",
      "metadata": {
        "id": "WCNtWNf5bk9z",
        "colab_type": "code",
        "outputId": "4bc16223-22e8-4e3f-dd43-35a348e7c2b8",
        "colab": {
          "base_uri": "https://localhost:8080/",
          "height": 90
        }
      },
      "source": [
        "for word in ['book', 'books', 'booking', 'booked']:\n",
        "    print(f'{word.ljust(8)}:{porter.stem(word).ljust(5)}:{lancaster.stem(word)}')"
      ],
      "execution_count": 4,
      "outputs": [
        {
          "output_type": "stream",
          "text": [
            "book    :book :book\n",
            "books   :book :book\n",
            "booking :book :book\n",
            "booked  :book :book\n"
          ],
          "name": "stdout"
        }
      ]
    },
    {
      "cell_type": "code",
      "metadata": {
        "id": "oYYVPRhzbo6F",
        "colab_type": "code",
        "outputId": "994301f8-f9c9-43ad-dd80-7c5745af82ef",
        "colab": {
          "base_uri": "https://localhost:8080/",
          "height": 90
        }
      },
      "source": [
        "for word in ['friendship', 'friend', 'parentship', 'parent']:\n",
        "    print(f'{word.ljust(11)}:{porter.stem(word).ljust(11)}:{lancaster.stem(word)}')"
      ],
      "execution_count": 5,
      "outputs": [
        {
          "output_type": "stream",
          "text": [
            "friendship :friendship :friend\n",
            "friend     :friend     :friend\n",
            "parentship :parentship :par\n",
            "parent     :parent     :par\n"
          ],
          "name": "stdout"
        }
      ]
    },
    {
      "cell_type": "code",
      "metadata": {
        "id": "3MN22OgOMt9B",
        "colab_type": "code",
        "colab": {
          "base_uri": "https://localhost:8080/",
          "height": 72
        },
        "outputId": "fd707431-6b6c-4be5-f998-acaea7f955b9"
      },
      "source": [
        "nltk.download('punkt')"
      ],
      "execution_count": 9,
      "outputs": [
        {
          "output_type": "stream",
          "text": [
            "[nltk_data] Downloading package punkt to /root/nltk_data...\n",
            "[nltk_data]   Package punkt is already up-to-date!\n"
          ],
          "name": "stdout"
        },
        {
          "output_type": "execute_result",
          "data": {
            "text/plain": [
              "True"
            ]
          },
          "metadata": {
            "tags": []
          },
          "execution_count": 9
        }
      ]
    },
    {
      "cell_type": "code",
      "metadata": {
        "id": "QGt7KeN5b9Cc",
        "colab_type": "code",
        "colab": {}
      },
      "source": [
        "sentences = \"Nancy wants to live a long time. She wants to live for one hundred years\""
      ],
      "execution_count": 0,
      "outputs": []
    },
    {
      "cell_type": "code",
      "metadata": {
        "id": "bUYimUr5M3mq",
        "colab_type": "code",
        "colab": {
          "base_uri": "https://localhost:8080/",
          "height": 308
        },
        "outputId": "140bae8f-0e39-470d-eb32-aa0f1418c88f"
      },
      "source": [
        "from nltk.tokenize import word_tokenize\n",
        "\n",
        "tokens = word_tokenize(sentences)\n",
        "tokens"
      ],
      "execution_count": 12,
      "outputs": [
        {
          "output_type": "execute_result",
          "data": {
            "text/plain": [
              "['Nancy',\n",
              " 'wants',\n",
              " 'to',\n",
              " 'live',\n",
              " 'a',\n",
              " 'long',\n",
              " 'time',\n",
              " '.',\n",
              " 'She',\n",
              " 'wants',\n",
              " 'to',\n",
              " 'live',\n",
              " 'for',\n",
              " 'one',\n",
              " 'hundred',\n",
              " 'years']"
            ]
          },
          "metadata": {
            "tags": []
          },
          "execution_count": 12
        }
      ]
    },
    {
      "cell_type": "code",
      "metadata": {
        "id": "2o00YNiRebR1",
        "colab_type": "code",
        "outputId": "98b16e12-baa3-4922-bdaf-97b2f2f7f4c1",
        "colab": {
          "base_uri": "https://localhost:8080/",
          "height": 308
        }
      },
      "source": [
        "from nltk.stem import PorterStemmer\n",
        "\n",
        "stemmer = PorterStemmer()\n",
        "\n",
        "stemmed_words = [stemmer.stem(word) for word in tokens]\n",
        "stemmed_words"
      ],
      "execution_count": 13,
      "outputs": [
        {
          "output_type": "execute_result",
          "data": {
            "text/plain": [
              "['nanci',\n",
              " 'want',\n",
              " 'to',\n",
              " 'live',\n",
              " 'a',\n",
              " 'long',\n",
              " 'time',\n",
              " '.',\n",
              " 'she',\n",
              " 'want',\n",
              " 'to',\n",
              " 'live',\n",
              " 'for',\n",
              " 'one',\n",
              " 'hundr',\n",
              " 'year']"
            ]
          },
          "metadata": {
            "tags": []
          },
          "execution_count": 13
        }
      ]
    },
    {
      "cell_type": "code",
      "metadata": {
        "id": "PXFHJTkHegZK",
        "colab_type": "code",
        "outputId": "c1e8467e-9fb0-40a4-c764-4c4171d9b312",
        "colab": {
          "base_uri": "https://localhost:8080/",
          "height": 54
        }
      },
      "source": [
        "stemmed_sentences = ' '.join(stemmed_words)\n",
        "\n",
        "print(sentences)\n",
        "print(stemmed_sentences)"
      ],
      "execution_count": 14,
      "outputs": [
        {
          "output_type": "stream",
          "text": [
            "Nancy wants to live a long time. She wants to live for one hundred years\n",
            "nanci want to live a long time . she want to live for one hundr year\n"
          ],
          "name": "stdout"
        }
      ]
    },
    {
      "cell_type": "code",
      "metadata": {
        "id": "uivEbsmXg3l4",
        "colab_type": "code",
        "colab": {}
      },
      "source": [
        ""
      ],
      "execution_count": 0,
      "outputs": []
    }
  ]
}