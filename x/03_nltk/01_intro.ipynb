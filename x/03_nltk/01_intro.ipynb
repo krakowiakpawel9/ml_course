{
  "nbformat": 4,
  "nbformat_minor": 0,
  "metadata": {
    "colab": {
      "name": "01_preprocessing.ipynb",
      "provenance": [],
      "include_colab_link": true
    },
    "kernelspec": {
      "name": "python3",
      "display_name": "Python 3"
    }
  },
  "cells": [
    {
      "cell_type": "markdown",
      "metadata": {
        "id": "view-in-github",
        "colab_type": "text"
      },
      "source": [
        "<a href=\"https://colab.research.google.com/github/krakowiakpawel9/ml_course/blob/master/x/03_nltk/01_intro.ipynb\" target=\"_parent\"><img src=\"https://colab.research.google.com/assets/colab-badge.svg\" alt=\"Open In Colab\"/></a>"
      ]
    },
    {
      "cell_type": "markdown",
      "metadata": {
        "id": "UbjsT92Xd3z1",
        "colab_type": "text"
      },
      "source": [
        "* @author: krakowiakpawel9@gmail.com  \n",
        "* @site: e-smartdata.org\n",
        "\n",
        "### nltk\n",
        "Strona biblioteki: [https://www.nltk.org/](https://www.nltk.org/)  \n",
        "\n",
        "Podstawowa biblioteka do przetwarzania języka naturalnego w języku Python.\n",
        "\n",
        "Aby zainstalować bibliotekę nltk, użyj polecenia poniżej:\n",
        "```\n",
        "!pip install nltk\n",
        "```\n",
        "Aby zaktualizować do najnowszej wersji użyj polecenia poniżej:\n",
        "```\n",
        "!pip install --upgrade nltk\n",
        "```\n",
        "Kurs stworzony w oparciu o wersję `3.2.5`\n",
        "\n",
        "### Spis treści:\n",
        "1. [Import bibliotek](#0)\n",
        "2. [Wygenerowanie danych](#1)\n",
        "\n"
      ]
    },
    {
      "cell_type": "markdown",
      "metadata": {
        "id": "YkIALacsUnj7",
        "colab_type": "text"
      },
      "source": [
        "### <a name='0'></a> Import bibliotek"
      ]
    },
    {
      "cell_type": "code",
      "metadata": {
        "id": "n5gCIYykFP2L",
        "colab_type": "code",
        "outputId": "b581c380-db8c-43b2-bc96-bd597542e47b",
        "colab": {
          "base_uri": "https://localhost:8080/",
          "height": 55
        }
      },
      "source": [
        "text = \"\"\"Python can be easy to pick up whether you're a first time programmer or you're experienced with other languages.\n",
        "Python is developed under an OSI-approved open source license, making it freely usable and distributable, even for commercial use.\"\"\"\n",
        "\n",
        "text"
      ],
      "execution_count": 2,
      "outputs": [
        {
          "output_type": "execute_result",
          "data": {
            "text/plain": [
              "\"Python can be easy to pick up whether you're a first time programmer or you're experienced with other languages.\\nPython is developed under an OSI-approved open source license, making it freely usable and distributable, even for commercial use.\""
            ]
          },
          "metadata": {
            "tags": []
          },
          "execution_count": 2
        }
      ]
    },
    {
      "cell_type": "code",
      "metadata": {
        "id": "yQcDwWpgFX7B",
        "colab_type": "code",
        "outputId": "fd5bfd3b-f163-4968-fbf3-4469e0df81fa",
        "colab": {
          "base_uri": "https://localhost:8080/",
          "height": 52
        }
      },
      "source": [
        "print(text)"
      ],
      "execution_count": 3,
      "outputs": [
        {
          "output_type": "stream",
          "text": [
            "Python can be easy to pick up whether you're a first time programmer or you're experienced with other languages.\n",
            "Python is developed under an OSI-approved open source license, making it freely usable and distributable, even for commercial use.\n"
          ],
          "name": "stdout"
        }
      ]
    },
    {
      "cell_type": "markdown",
      "metadata": {
        "id": "Vjibq7XgF10G",
        "colab_type": "text"
      },
      "source": [
        "Podział tekstu na słowa"
      ]
    },
    {
      "cell_type": "code",
      "metadata": {
        "id": "BOcF3ydFFhXR",
        "colab_type": "code",
        "outputId": "04eb54b7-ecc2-4972-8eb8-989b3e48fd8b",
        "colab": {
          "base_uri": "https://localhost:8080/",
          "height": 676
        }
      },
      "source": [
        "words = text.split()\n",
        "words"
      ],
      "execution_count": 4,
      "outputs": [
        {
          "output_type": "execute_result",
          "data": {
            "text/plain": [
              "['Python',\n",
              " 'can',\n",
              " 'be',\n",
              " 'easy',\n",
              " 'to',\n",
              " 'pick',\n",
              " 'up',\n",
              " 'whether',\n",
              " \"you're\",\n",
              " 'a',\n",
              " 'first',\n",
              " 'time',\n",
              " 'programmer',\n",
              " 'or',\n",
              " \"you're\",\n",
              " 'experienced',\n",
              " 'with',\n",
              " 'other',\n",
              " 'languages.',\n",
              " 'Python',\n",
              " 'is',\n",
              " 'developed',\n",
              " 'under',\n",
              " 'an',\n",
              " 'OSI-approved',\n",
              " 'open',\n",
              " 'source',\n",
              " 'license,',\n",
              " 'making',\n",
              " 'it',\n",
              " 'freely',\n",
              " 'usable',\n",
              " 'and',\n",
              " 'distributable,',\n",
              " 'even',\n",
              " 'for',\n",
              " 'commercial',\n",
              " 'use.']"
            ]
          },
          "metadata": {
            "tags": []
          },
          "execution_count": 4
        }
      ]
    },
    {
      "cell_type": "code",
      "metadata": {
        "id": "YT-JWaSeFmEx",
        "colab_type": "code",
        "outputId": "02f62954-dec3-467d-f7f3-0bed3530aaf2",
        "colab": {
          "base_uri": "https://localhost:8080/",
          "height": 35
        }
      },
      "source": [
        "print(len(words))"
      ],
      "execution_count": 5,
      "outputs": [
        {
          "output_type": "stream",
          "text": [
            "38\n"
          ],
          "name": "stdout"
        }
      ]
    },
    {
      "cell_type": "markdown",
      "metadata": {
        "id": "U_Hi_oR5JFap",
        "colab_type": "text"
      },
      "source": [
        "Liczba zdań"
      ]
    },
    {
      "cell_type": "code",
      "metadata": {
        "id": "yNVeBsxLJGo6",
        "colab_type": "code",
        "outputId": "15ed89a7-e1b5-4edd-a1f4-5a5edc5ac61b",
        "colab": {
          "base_uri": "https://localhost:8080/",
          "height": 52
        }
      },
      "source": [
        "sentences = text.split('\\n')\n",
        "sentences"
      ],
      "execution_count": 7,
      "outputs": [
        {
          "output_type": "execute_result",
          "data": {
            "text/plain": [
              "[\"Python can be easy to pick up whether you're a first time programmer or you're experienced with other languages.\",\n",
              " 'Python is developed under an OSI-approved open source license, making it freely usable and distributable, even for commercial use.']"
            ]
          },
          "metadata": {
            "tags": []
          },
          "execution_count": 7
        }
      ]
    },
    {
      "cell_type": "code",
      "metadata": {
        "id": "NsRytW7MJT2n",
        "colab_type": "code",
        "outputId": "8706341d-16cb-4147-f65d-b12a315a5ab3",
        "colab": {
          "base_uri": "https://localhost:8080/",
          "height": 35
        }
      },
      "source": [
        "len(sentences)"
      ],
      "execution_count": 8,
      "outputs": [
        {
          "output_type": "execute_result",
          "data": {
            "text/plain": [
              "2"
            ]
          },
          "metadata": {
            "tags": []
          },
          "execution_count": 8
        }
      ]
    },
    {
      "cell_type": "markdown",
      "metadata": {
        "id": "AjqcxPR8F3Qi",
        "colab_type": "text"
      },
      "source": [
        "Liczba znaków"
      ]
    },
    {
      "cell_type": "code",
      "metadata": {
        "id": "3n8qB7knFxge",
        "colab_type": "code",
        "outputId": "427a4f5b-c866-4c50-a62a-26b6fc72f704",
        "colab": {
          "base_uri": "https://localhost:8080/",
          "height": 35
        }
      },
      "source": [
        "print(len(text))"
      ],
      "execution_count": 9,
      "outputs": [
        {
          "output_type": "stream",
          "text": [
            "243\n"
          ],
          "name": "stdout"
        }
      ]
    },
    {
      "cell_type": "markdown",
      "metadata": {
        "id": "qxTpNEPpF9Gp",
        "colab_type": "text"
      },
      "source": [
        "Średnia długość słowa"
      ]
    },
    {
      "cell_type": "code",
      "metadata": {
        "id": "OTIH59f9F5JP",
        "colab_type": "code",
        "outputId": "fd0c4501-e2e8-4d7a-db63-3891cffaaddc",
        "colab": {
          "base_uri": "https://localhost:8080/",
          "height": 35
        }
      },
      "source": [
        "import numpy as np\n",
        "\n",
        "np.mean([len(word) for word in words])"
      ],
      "execution_count": 10,
      "outputs": [
        {
          "output_type": "execute_result",
          "data": {
            "text/plain": [
              "5.421052631578948"
            ]
          },
          "metadata": {
            "tags": []
          },
          "execution_count": 10
        }
      ]
    },
    {
      "cell_type": "markdown",
      "metadata": {
        "id": "Mdh_BookIfK8",
        "colab_type": "text"
      },
      "source": [
        "Odfiltrowanie tzw. stop words"
      ]
    },
    {
      "cell_type": "code",
      "metadata": {
        "id": "yeaCbwQUGDr0",
        "colab_type": "code",
        "outputId": "990dae68-b12c-450c-d6d0-925cf9ec7f8c",
        "colab": {
          "base_uri": "https://localhost:8080/",
          "height": 72
        }
      },
      "source": [
        "stop_words = ['a', 'an', 'and', 'be', 'can', 'for', 'is', 'it', 'or', 'other', 'to', 'under', 'up', 'with', 'you\\'re', 'you\\'re']\n",
        "\n",
        "filtered_words = []\n",
        "for word in words:\n",
        "    if word not in stop_words:\n",
        "        filtered_words.append(word)\n",
        "\n",
        "print(words)\n",
        "print(filtered_words)        "
      ],
      "execution_count": 11,
      "outputs": [
        {
          "output_type": "stream",
          "text": [
            "['Python', 'can', 'be', 'easy', 'to', 'pick', 'up', 'whether', \"you're\", 'a', 'first', 'time', 'programmer', 'or', \"you're\", 'experienced', 'with', 'other', 'languages.', 'Python', 'is', 'developed', 'under', 'an', 'OSI-approved', 'open', 'source', 'license,', 'making', 'it', 'freely', 'usable', 'and', 'distributable,', 'even', 'for', 'commercial', 'use.']\n",
            "['Python', 'easy', 'pick', 'whether', 'first', 'time', 'programmer', 'experienced', 'languages.', 'Python', 'developed', 'OSI-approved', 'open', 'source', 'license,', 'making', 'freely', 'usable', 'distributable,', 'even', 'commercial', 'use.']\n"
          ],
          "name": "stdout"
        }
      ]
    },
    {
      "cell_type": "code",
      "metadata": {
        "id": "-5tTEFvXGc0r",
        "colab_type": "code",
        "outputId": "71a00cc2-27f9-44a3-fd93-37376b8a2059",
        "colab": {
          "base_uri": "https://localhost:8080/",
          "height": 69
        }
      },
      "source": [
        "print(f'words: {len(words)}')\n",
        "print(f'filtered_words: {len(filtered_words)}')\n",
        "print(f'ratio: {len(filtered_words) / len(words):.4f}')  "
      ],
      "execution_count": 12,
      "outputs": [
        {
          "output_type": "stream",
          "text": [
            "words: 38\n",
            "filtered_words: 22\n",
            "ratio: 0.5789\n"
          ],
          "name": "stdout"
        }
      ]
    },
    {
      "cell_type": "code",
      "metadata": {
        "id": "HMcOHAylIuA8",
        "colab_type": "code",
        "colab": {}
      },
      "source": [
        ""
      ],
      "execution_count": 0,
      "outputs": []
    }
  ]
}