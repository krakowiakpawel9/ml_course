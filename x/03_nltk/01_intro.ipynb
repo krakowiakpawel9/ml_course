{
  "nbformat": 4,
  "nbformat_minor": 0,
  "metadata": {
    "colab": {
      "name": "01_preprocessing.ipynb",
      "provenance": [],
      "include_colab_link": true
    },
    "kernelspec": {
      "name": "python3",
      "display_name": "Python 3"
    }
  },
  "cells": [
    {
      "cell_type": "markdown",
      "metadata": {
        "id": "view-in-github",
        "colab_type": "text"
      },
      "source": [
        "<a href=\"https://colab.research.google.com/github/krakowiakpawel9/ml_course/blob/master/x/03_nltk/01_intro.ipynb\" target=\"_parent\"><img src=\"https://colab.research.google.com/assets/colab-badge.svg\" alt=\"Open In Colab\"/></a>"
      ]
    },
    {
      "cell_type": "markdown",
      "metadata": {
        "id": "UbjsT92Xd3z1",
        "colab_type": "text"
      },
      "source": [
        "* @author: krakowiakpawel9@gmail.com  \n",
        "* @site: e-smartdata.org\n",
        "\n",
        "### nltk\n",
        "Strona biblioteki: [https://www.nltk.org/](https://www.nltk.org/)  \n",
        "\n",
        "Podstawowa biblioteka do przetwarzania języka naturalnego w języku Python.\n",
        "\n",
        "Aby zainstalować bibliotekę nltk, użyj polecenia poniżej:\n",
        "```\n",
        "!pip install nltk\n",
        "```\n",
        "Aby zaktualizować do najnowszej wersji użyj polecenia poniżej:\n",
        "```\n",
        "!pip install --upgrade nltk\n",
        "```\n",
        "Kurs stworzony w oparciu o wersję `3.2.5`\n",
        "\n",
        "### Spis treści:\n",
        "1. [Praca z tekstem](#0)\n",
        "\n"
      ]
    },
    {
      "cell_type": "markdown",
      "metadata": {
        "id": "YkIALacsUnj7",
        "colab_type": "text"
      },
      "source": [
        "### <a name='0'></a> Praca z tekstem"
      ]
    },
    {
      "cell_type": "code",
      "metadata": {
        "id": "n5gCIYykFP2L",
        "colab_type": "code",
        "outputId": "43eb2956-dd06-466a-9630-d0b45194ee67",
        "colab": {
          "base_uri": "https://localhost:8080/",
          "height": 54
        }
      },
      "source": [
        "text = \"\"\"Python can be easy to pick up whether you're a first time programmer or you're experienced with other languages.\n",
        "Python is developed under an OSI-approved open source license, making it freely usable and distributable, even for commercial use.\"\"\"\n",
        "\n",
        "text"
      ],
      "execution_count": 1,
      "outputs": [
        {
          "output_type": "execute_result",
          "data": {
            "text/plain": [
              "\"Python can be easy to pick up whether you're a first time programmer or you're experienced with other languages.\\nPython is developed under an OSI-approved open source license, making it freely usable and distributable, even for commercial use.\""
            ]
          },
          "metadata": {
            "tags": []
          },
          "execution_count": 1
        }
      ]
    },
    {
      "cell_type": "code",
      "metadata": {
        "id": "yQcDwWpgFX7B",
        "colab_type": "code",
        "outputId": "8c503117-1b44-4ca7-bd83-0c0319906c08",
        "colab": {
          "base_uri": "https://localhost:8080/",
          "height": 52
        }
      },
      "source": [
        "print(text)"
      ],
      "execution_count": 2,
      "outputs": [
        {
          "output_type": "stream",
          "text": [
            "Python can be easy to pick up whether you're a first time programmer or you're experienced with other languages.\n",
            "Python is developed under an OSI-approved open source license, making it freely usable and distributable, even for commercial use.\n"
          ],
          "name": "stdout"
        }
      ]
    },
    {
      "cell_type": "markdown",
      "metadata": {
        "id": "Vjibq7XgF10G",
        "colab_type": "text"
      },
      "source": [
        "Podział tekstu na słowa"
      ]
    },
    {
      "cell_type": "code",
      "metadata": {
        "id": "BOcF3ydFFhXR",
        "colab_type": "code",
        "outputId": "0f9358f2-ea09-4b94-993a-1a397a9dfc7d",
        "colab": {
          "base_uri": "https://localhost:8080/",
          "height": 686
        }
      },
      "source": [
        "words = text.split()\n",
        "words"
      ],
      "execution_count": 3,
      "outputs": [
        {
          "output_type": "execute_result",
          "data": {
            "text/plain": [
              "['Python',\n",
              " 'can',\n",
              " 'be',\n",
              " 'easy',\n",
              " 'to',\n",
              " 'pick',\n",
              " 'up',\n",
              " 'whether',\n",
              " \"you're\",\n",
              " 'a',\n",
              " 'first',\n",
              " 'time',\n",
              " 'programmer',\n",
              " 'or',\n",
              " \"you're\",\n",
              " 'experienced',\n",
              " 'with',\n",
              " 'other',\n",
              " 'languages.',\n",
              " 'Python',\n",
              " 'is',\n",
              " 'developed',\n",
              " 'under',\n",
              " 'an',\n",
              " 'OSI-approved',\n",
              " 'open',\n",
              " 'source',\n",
              " 'license,',\n",
              " 'making',\n",
              " 'it',\n",
              " 'freely',\n",
              " 'usable',\n",
              " 'and',\n",
              " 'distributable,',\n",
              " 'even',\n",
              " 'for',\n",
              " 'commercial',\n",
              " 'use.']"
            ]
          },
          "metadata": {
            "tags": []
          },
          "execution_count": 3
        }
      ]
    },
    {
      "cell_type": "code",
      "metadata": {
        "id": "YT-JWaSeFmEx",
        "colab_type": "code",
        "outputId": "5d84e6ae-acd5-453b-cc87-40b28a780b06",
        "colab": {
          "base_uri": "https://localhost:8080/",
          "height": 34
        }
      },
      "source": [
        "print(len(words))"
      ],
      "execution_count": 4,
      "outputs": [
        {
          "output_type": "stream",
          "text": [
            "38\n"
          ],
          "name": "stdout"
        }
      ]
    },
    {
      "cell_type": "markdown",
      "metadata": {
        "id": "U_Hi_oR5JFap",
        "colab_type": "text"
      },
      "source": [
        "Liczba zdań"
      ]
    },
    {
      "cell_type": "code",
      "metadata": {
        "id": "yNVeBsxLJGo6",
        "colab_type": "code",
        "outputId": "75aae739-38fd-42b1-e0b3-552d6fceb031",
        "colab": {
          "base_uri": "https://localhost:8080/",
          "height": 52
        }
      },
      "source": [
        "sentences = text.split('\\n')\n",
        "sentences"
      ],
      "execution_count": 5,
      "outputs": [
        {
          "output_type": "execute_result",
          "data": {
            "text/plain": [
              "[\"Python can be easy to pick up whether you're a first time programmer or you're experienced with other languages.\",\n",
              " 'Python is developed under an OSI-approved open source license, making it freely usable and distributable, even for commercial use.']"
            ]
          },
          "metadata": {
            "tags": []
          },
          "execution_count": 5
        }
      ]
    },
    {
      "cell_type": "code",
      "metadata": {
        "id": "NsRytW7MJT2n",
        "colab_type": "code",
        "outputId": "d012920f-075a-4819-f927-914fcd703508",
        "colab": {
          "base_uri": "https://localhost:8080/",
          "height": 34
        }
      },
      "source": [
        "len(sentences)"
      ],
      "execution_count": 6,
      "outputs": [
        {
          "output_type": "execute_result",
          "data": {
            "text/plain": [
              "2"
            ]
          },
          "metadata": {
            "tags": []
          },
          "execution_count": 6
        }
      ]
    },
    {
      "cell_type": "markdown",
      "metadata": {
        "id": "AjqcxPR8F3Qi",
        "colab_type": "text"
      },
      "source": [
        "Liczba znaków"
      ]
    },
    {
      "cell_type": "code",
      "metadata": {
        "id": "3n8qB7knFxge",
        "colab_type": "code",
        "outputId": "af37dd87-2fa4-4549-befa-6580f875e23e",
        "colab": {
          "base_uri": "https://localhost:8080/",
          "height": 34
        }
      },
      "source": [
        "print(len(text))"
      ],
      "execution_count": 7,
      "outputs": [
        {
          "output_type": "stream",
          "text": [
            "243\n"
          ],
          "name": "stdout"
        }
      ]
    },
    {
      "cell_type": "markdown",
      "metadata": {
        "id": "qxTpNEPpF9Gp",
        "colab_type": "text"
      },
      "source": [
        "Średnia długość słowa"
      ]
    },
    {
      "cell_type": "code",
      "metadata": {
        "id": "OTIH59f9F5JP",
        "colab_type": "code",
        "outputId": "79dff7b8-28e6-4a62-99f1-2f62a4caf920",
        "colab": {
          "base_uri": "https://localhost:8080/",
          "height": 34
        }
      },
      "source": [
        "import numpy as np\n",
        "\n",
        "np.mean([len(word) for word in words])"
      ],
      "execution_count": 8,
      "outputs": [
        {
          "output_type": "execute_result",
          "data": {
            "text/plain": [
              "5.421052631578948"
            ]
          },
          "metadata": {
            "tags": []
          },
          "execution_count": 8
        }
      ]
    },
    {
      "cell_type": "markdown",
      "metadata": {
        "id": "Mdh_BookIfK8",
        "colab_type": "text"
      },
      "source": [
        "Odfiltrowanie tzw. stop words"
      ]
    },
    {
      "cell_type": "code",
      "metadata": {
        "id": "yeaCbwQUGDr0",
        "colab_type": "code",
        "outputId": "0c95aad2-65f1-4e90-9a7b-6061c1bfc469",
        "colab": {
          "base_uri": "https://localhost:8080/",
          "height": 72
        }
      },
      "source": [
        "stop_words = ['a', 'an', 'and', 'be', 'can', 'for', 'is', 'it', 'or', 'other', 'to', 'under', 'up', 'with', 'you\\'re', 'you\\'re']\n",
        "\n",
        "filtered_words = []\n",
        "for word in words:\n",
        "    if word not in stop_words:\n",
        "        filtered_words.append(word)\n",
        "\n",
        "print(words)\n",
        "print(filtered_words)        "
      ],
      "execution_count": 9,
      "outputs": [
        {
          "output_type": "stream",
          "text": [
            "['Python', 'can', 'be', 'easy', 'to', 'pick', 'up', 'whether', \"you're\", 'a', 'first', 'time', 'programmer', 'or', \"you're\", 'experienced', 'with', 'other', 'languages.', 'Python', 'is', 'developed', 'under', 'an', 'OSI-approved', 'open', 'source', 'license,', 'making', 'it', 'freely', 'usable', 'and', 'distributable,', 'even', 'for', 'commercial', 'use.']\n",
            "['Python', 'easy', 'pick', 'whether', 'first', 'time', 'programmer', 'experienced', 'languages.', 'Python', 'developed', 'OSI-approved', 'open', 'source', 'license,', 'making', 'freely', 'usable', 'distributable,', 'even', 'commercial', 'use.']\n"
          ],
          "name": "stdout"
        }
      ]
    },
    {
      "cell_type": "code",
      "metadata": {
        "id": "-5tTEFvXGc0r",
        "colab_type": "code",
        "outputId": "50c431e6-05cb-4b1d-d649-de3688a7f6e7",
        "colab": {
          "base_uri": "https://localhost:8080/",
          "height": 70
        }
      },
      "source": [
        "print(f'words: {len(words)}')\n",
        "print(f'filtered_words: {len(filtered_words)}')\n",
        "print(f'ratio: {len(filtered_words) / len(words):.4f}')  "
      ],
      "execution_count": 10,
      "outputs": [
        {
          "output_type": "stream",
          "text": [
            "words: 38\n",
            "filtered_words: 22\n",
            "ratio: 0.5789\n"
          ],
          "name": "stdout"
        }
      ]
    },
    {
      "cell_type": "markdown",
      "metadata": {
        "id": "OXZTynSokRGG",
        "colab_type": "text"
      },
      "source": [
        "### Metody tekstowe w języku Python"
      ]
    },
    {
      "cell_type": "code",
      "metadata": {
        "id": "HMcOHAylIuA8",
        "colab_type": "code",
        "colab": {
          "base_uri": "https://localhost:8080/",
          "height": 1000
        },
        "outputId": "2462db7d-9b56-4d23-a867-7b13cbd9a16b"
      },
      "source": [
        "dir(str)"
      ],
      "execution_count": 11,
      "outputs": [
        {
          "output_type": "execute_result",
          "data": {
            "text/plain": [
              "['__add__',\n",
              " '__class__',\n",
              " '__contains__',\n",
              " '__delattr__',\n",
              " '__dir__',\n",
              " '__doc__',\n",
              " '__eq__',\n",
              " '__format__',\n",
              " '__ge__',\n",
              " '__getattribute__',\n",
              " '__getitem__',\n",
              " '__getnewargs__',\n",
              " '__gt__',\n",
              " '__hash__',\n",
              " '__init__',\n",
              " '__init_subclass__',\n",
              " '__iter__',\n",
              " '__le__',\n",
              " '__len__',\n",
              " '__lt__',\n",
              " '__mod__',\n",
              " '__mul__',\n",
              " '__ne__',\n",
              " '__new__',\n",
              " '__reduce__',\n",
              " '__reduce_ex__',\n",
              " '__repr__',\n",
              " '__rmod__',\n",
              " '__rmul__',\n",
              " '__setattr__',\n",
              " '__sizeof__',\n",
              " '__str__',\n",
              " '__subclasshook__',\n",
              " 'capitalize',\n",
              " 'casefold',\n",
              " 'center',\n",
              " 'count',\n",
              " 'encode',\n",
              " 'endswith',\n",
              " 'expandtabs',\n",
              " 'find',\n",
              " 'format',\n",
              " 'format_map',\n",
              " 'index',\n",
              " 'isalnum',\n",
              " 'isalpha',\n",
              " 'isdecimal',\n",
              " 'isdigit',\n",
              " 'isidentifier',\n",
              " 'islower',\n",
              " 'isnumeric',\n",
              " 'isprintable',\n",
              " 'isspace',\n",
              " 'istitle',\n",
              " 'isupper',\n",
              " 'join',\n",
              " 'ljust',\n",
              " 'lower',\n",
              " 'lstrip',\n",
              " 'maketrans',\n",
              " 'partition',\n",
              " 'replace',\n",
              " 'rfind',\n",
              " 'rindex',\n",
              " 'rjust',\n",
              " 'rpartition',\n",
              " 'rsplit',\n",
              " 'rstrip',\n",
              " 'split',\n",
              " 'splitlines',\n",
              " 'startswith',\n",
              " 'strip',\n",
              " 'swapcase',\n",
              " 'title',\n",
              " 'translate',\n",
              " 'upper',\n",
              " 'zfill']"
            ]
          },
          "metadata": {
            "tags": []
          },
          "execution_count": 11
        }
      ]
    },
    {
      "cell_type": "markdown",
      "metadata": {
        "id": "evL2CGDbljxU",
        "colab_type": "text"
      },
      "source": [
        "str.capitalize()"
      ]
    },
    {
      "cell_type": "code",
      "metadata": {
        "id": "nnUAEWN6kPwD",
        "colab_type": "code",
        "colab": {
          "base_uri": "https://localhost:8080/",
          "height": 52
        },
        "outputId": "cd165575-35bf-4c61-e0e0-9fb5e395f392"
      },
      "source": [
        "text = 'python jest popularnym językiem programowania.'\n",
        "\n",
        "# str.capitalize() - zwraca ciąg znaków, pierwszy napisany jest dużą literą\n",
        "print(text)\n",
        "print(text.capitalize())"
      ],
      "execution_count": 15,
      "outputs": [
        {
          "output_type": "stream",
          "text": [
            "python jest popularnym językiem programowania.\n",
            "Python jest popularnym językiem programowania.\n"
          ],
          "name": "stdout"
        }
      ]
    },
    {
      "cell_type": "markdown",
      "metadata": {
        "id": "_aPTMdCgllWI",
        "colab_type": "text"
      },
      "source": [
        "str.center()"
      ]
    },
    {
      "cell_type": "code",
      "metadata": {
        "id": "HqY6y11TlCc1",
        "colab_type": "code",
        "colab": {
          "base_uri": "https://localhost:8080/",
          "height": 52
        },
        "outputId": "1ec8c37f-c9da-4187-e0c5-d921f9e161bb"
      },
      "source": [
        "text = 'python'\n",
        "\n",
        "print(text)\n",
        "print(text.center(10))"
      ],
      "execution_count": 18,
      "outputs": [
        {
          "output_type": "stream",
          "text": [
            "python\n",
            "  python  \n"
          ],
          "name": "stdout"
        }
      ]
    },
    {
      "cell_type": "code",
      "metadata": {
        "id": "nhvbuujIlWRv",
        "colab_type": "code",
        "colab": {
          "base_uri": "https://localhost:8080/",
          "height": 34
        },
        "outputId": "579c9d19-5282-48ec-c571-bd865c20fde1"
      },
      "source": [
        "text.center(10)"
      ],
      "execution_count": 19,
      "outputs": [
        {
          "output_type": "execute_result",
          "data": {
            "text/plain": [
              "'  python  '"
            ]
          },
          "metadata": {
            "tags": []
          },
          "execution_count": 19
        }
      ]
    },
    {
      "cell_type": "markdown",
      "metadata": {
        "id": "kF5yNGmClnKE",
        "colab_type": "text"
      },
      "source": [
        "str.count()"
      ]
    },
    {
      "cell_type": "code",
      "metadata": {
        "id": "z85IZQAZlYG3",
        "colab_type": "code",
        "colab": {
          "base_uri": "https://localhost:8080/",
          "height": 52
        },
        "outputId": "5cdb4f98-ff72-4997-813e-45a4dcfa8dda"
      },
      "source": [
        "text = 'python jest popularnym językiem programowania.'\n",
        "\n",
        "print(text)\n",
        "print(text.count('p'))"
      ],
      "execution_count": 20,
      "outputs": [
        {
          "output_type": "stream",
          "text": [
            "python jest popularnym językiem programowania.\n",
            "4\n"
          ],
          "name": "stdout"
        }
      ]
    },
    {
      "cell_type": "code",
      "metadata": {
        "id": "x4-8v52RlrBf",
        "colab_type": "code",
        "colab": {
          "base_uri": "https://localhost:8080/",
          "height": 52
        },
        "outputId": "9767b488-21bf-416c-84d0-d131e4ec12ac"
      },
      "source": [
        "print(text)\n",
        "print(text.count('python'))"
      ],
      "execution_count": 21,
      "outputs": [
        {
          "output_type": "stream",
          "text": [
            "python jest popularnym językiem programowania.\n",
            "1\n"
          ],
          "name": "stdout"
        }
      ]
    },
    {
      "cell_type": "markdown",
      "metadata": {
        "id": "ITtCEgRwl9lu",
        "colab_type": "text"
      },
      "source": [
        "str.endswith()"
      ]
    },
    {
      "cell_type": "code",
      "metadata": {
        "id": "CMhg7uC9lxIJ",
        "colab_type": "code",
        "colab": {
          "base_uri": "https://localhost:8080/",
          "height": 70
        },
        "outputId": "0d078027-bf5a-4bd7-bcd7-5fa0e366a93e"
      },
      "source": [
        "code = 'FVNISJND-XX'\n",
        "\n",
        "print(code)\n",
        "print(code.endswith('XX'))\n",
        "print(code.endswith('YY'))"
      ],
      "execution_count": 22,
      "outputs": [
        {
          "output_type": "stream",
          "text": [
            "FVNISJND-XX\n",
            "True\n",
            "False\n"
          ],
          "name": "stdout"
        }
      ]
    },
    {
      "cell_type": "markdown",
      "metadata": {
        "id": "4CJTHEErmS9g",
        "colab_type": "text"
      },
      "source": [
        "str.find()"
      ]
    },
    {
      "cell_type": "code",
      "metadata": {
        "id": "BzlR5WyomGnD",
        "colab_type": "code",
        "colab": {
          "base_uri": "https://localhost:8080/",
          "height": 70
        },
        "outputId": "d48facdb-b2dc-44ab-f156-a1d7e455424b"
      },
      "source": [
        "code = 'FVNISJND-XX'\n",
        "\n",
        "print(code)\n",
        "print(code.find('XX'))\n",
        "print(code.find('YY'))"
      ],
      "execution_count": 23,
      "outputs": [
        {
          "output_type": "stream",
          "text": [
            "FVNISJND-XX\n",
            "9\n",
            "-1\n"
          ],
          "name": "stdout"
        }
      ]
    },
    {
      "cell_type": "markdown",
      "metadata": {
        "id": "NTwHjyCemc-V",
        "colab_type": "text"
      },
      "source": [
        "str.format()"
      ]
    },
    {
      "cell_type": "code",
      "metadata": {
        "id": "x0By2y6DmX9H",
        "colab_type": "code",
        "colab": {
          "base_uri": "https://localhost:8080/",
          "height": 87
        },
        "outputId": "975bc493-1015-42cb-bb16-7d370ccc3739"
      },
      "source": [
        "print('Price: {} PLN'.format(3))\n",
        "print('Price: {:.2f} PLN'.format(3))\n",
        "print('Price: {:.2f} PLN'.format(3.1415))\n",
        "print('Price: {:.2f} PLN'.format(3.145))"
      ],
      "execution_count": 31,
      "outputs": [
        {
          "output_type": "stream",
          "text": [
            "Price: 3 PLN\n",
            "Price: 3.00 PLN\n",
            "Price: 3.14 PLN\n",
            "Price: 3.15 PLN\n"
          ],
          "name": "stdout"
        }
      ]
    },
    {
      "cell_type": "code",
      "metadata": {
        "id": "4ZJezE-it-Xm",
        "colab_type": "code",
        "colab": {
          "base_uri": "https://localhost:8080/",
          "height": 34
        },
        "outputId": "61dad5ab-fe9c-4d36-ae45-efc9e1d8ef5d"
      },
      "source": [
        "print(f'Price: {3.145:.2f} PLN')"
      ],
      "execution_count": 65,
      "outputs": [
        {
          "output_type": "stream",
          "text": [
            "Price: 3.15 PLN\n"
          ],
          "name": "stdout"
        }
      ]
    },
    {
      "cell_type": "markdown",
      "metadata": {
        "id": "ZBknLfVEnFvG",
        "colab_type": "text"
      },
      "source": [
        "str.index()"
      ]
    },
    {
      "cell_type": "code",
      "metadata": {
        "id": "IhMUNWn1mh8H",
        "colab_type": "code",
        "colab": {
          "base_uri": "https://localhost:8080/",
          "height": 52
        },
        "outputId": "da46bdc0-82e9-4574-d24d-cae3319feaf9"
      },
      "source": [
        "code = 'FVNISJND-XX'\n",
        "\n",
        "print(code)\n",
        "print(code.index('XX'))\n",
        "# wygeneruje błąd\n",
        "# print(code.index('YY'))"
      ],
      "execution_count": 33,
      "outputs": [
        {
          "output_type": "stream",
          "text": [
            "FVNISJND-XX\n",
            "9\n"
          ],
          "name": "stdout"
        }
      ]
    },
    {
      "cell_type": "markdown",
      "metadata": {
        "id": "IpzX1p97nT3e",
        "colab_type": "text"
      },
      "source": [
        "str.isalnum()"
      ]
    },
    {
      "cell_type": "code",
      "metadata": {
        "id": "dXDuPAxqnKIJ",
        "colab_type": "code",
        "colab": {
          "base_uri": "https://localhost:8080/",
          "height": 70
        },
        "outputId": "bb0fb0a5-95ff-4df3-c0fa-ad439117dd89"
      },
      "source": [
        "code1 = 'FVNISJND-XX'\n",
        "code2 = 'FVNISJNDXX'\n",
        "\n",
        "print(code1)\n",
        "print(code1.isalnum())\n",
        "print(code2.isalnum())"
      ],
      "execution_count": 36,
      "outputs": [
        {
          "output_type": "stream",
          "text": [
            "FVNISJND-XX\n",
            "False\n",
            "True\n"
          ],
          "name": "stdout"
        }
      ]
    },
    {
      "cell_type": "markdown",
      "metadata": {
        "id": "VaO6CCO8niAn",
        "colab_type": "text"
      },
      "source": [
        "str.isalpha()"
      ]
    },
    {
      "cell_type": "code",
      "metadata": {
        "id": "Mfnu92zAnXxr",
        "colab_type": "code",
        "colab": {
          "base_uri": "https://localhost:8080/",
          "height": 70
        },
        "outputId": "54fbdbed-00ec-4e66-9c92-c050fe345803"
      },
      "source": [
        "code1 = 'FVNISJNDXX'\n",
        "code2 = 'FVNISJNDXX2000'\n",
        "\n",
        "print(code1)\n",
        "print(code1.isalpha())\n",
        "print(code2.isalpha())"
      ],
      "execution_count": 39,
      "outputs": [
        {
          "output_type": "stream",
          "text": [
            "FVNISJNDXX\n",
            "True\n",
            "False\n"
          ],
          "name": "stdout"
        }
      ]
    },
    {
      "cell_type": "markdown",
      "metadata": {
        "id": "TKZ4V6Z-oeRB",
        "colab_type": "text"
      },
      "source": [
        "str.isdigit()"
      ]
    },
    {
      "cell_type": "code",
      "metadata": {
        "id": "WoLZQlnwn5uW",
        "colab_type": "code",
        "colab": {
          "base_uri": "https://localhost:8080/",
          "height": 70
        },
        "outputId": "c4cdc0c8-1284-4298-80a3-f0d311965210"
      },
      "source": [
        "code1 = 'FVNISJNDXX'\n",
        "code2 = '2000'\n",
        "\n",
        "print(code1)\n",
        "print(code1.isdigit())\n",
        "print(code2.isdigit())"
      ],
      "execution_count": 45,
      "outputs": [
        {
          "output_type": "stream",
          "text": [
            "FVNISJNDXX\n",
            "False\n",
            "True\n"
          ],
          "name": "stdout"
        }
      ]
    },
    {
      "cell_type": "markdown",
      "metadata": {
        "id": "rneoA-TzooWj",
        "colab_type": "text"
      },
      "source": [
        "str.islower()"
      ]
    },
    {
      "cell_type": "code",
      "metadata": {
        "id": "wUQhLF95oHyN",
        "colab_type": "code",
        "colab": {
          "base_uri": "https://localhost:8080/",
          "height": 87
        },
        "outputId": "49077185-7a09-466b-b06c-707c9a4d6a28"
      },
      "source": [
        "text = 'python jest popularnym językiem programowania.'\n",
        "\n",
        "print(text)\n",
        "print(text.islower())\n",
        "print(text.capitalize())\n",
        "print(text.capitalize().islower())"
      ],
      "execution_count": 49,
      "outputs": [
        {
          "output_type": "stream",
          "text": [
            "python jest popularnym językiem programowania.\n",
            "True\n",
            "Python jest popularnym językiem programowania.\n",
            "False\n"
          ],
          "name": "stdout"
        }
      ]
    },
    {
      "cell_type": "markdown",
      "metadata": {
        "id": "4aLig8M3pJZ_",
        "colab_type": "text"
      },
      "source": [
        "str.isspace()"
      ]
    },
    {
      "cell_type": "code",
      "metadata": {
        "id": "K1Gu-Z4Jotvd",
        "colab_type": "code",
        "colab": {
          "base_uri": "https://localhost:8080/",
          "height": 70
        },
        "outputId": "a3a1b246-92dc-408c-91ee-73881384c92f"
      },
      "source": [
        "text1 = '    '\n",
        "text2 = '    #'\n",
        "\n",
        "print(text1)\n",
        "print(text1.isspace())\n",
        "print(text2.isspace())"
      ],
      "execution_count": 53,
      "outputs": [
        {
          "output_type": "stream",
          "text": [
            "    \n",
            "True\n",
            "False\n"
          ],
          "name": "stdout"
        }
      ]
    },
    {
      "cell_type": "markdown",
      "metadata": {
        "id": "tkMFLlMjpZ7l",
        "colab_type": "text"
      },
      "source": [
        "str.istitle()"
      ]
    },
    {
      "cell_type": "code",
      "metadata": {
        "id": "fyyR8UV_pO-R",
        "colab_type": "code",
        "colab": {
          "base_uri": "https://localhost:8080/",
          "height": 70
        },
        "outputId": "255d08db-a446-47bd-ea4f-3bcb31325c9e"
      },
      "source": [
        "text1 = 'Google Colab'\n",
        "text2 = 'Google colab'\n",
        "\n",
        "print(text1)\n",
        "print(text1.istitle())\n",
        "print(text2.istitle())"
      ],
      "execution_count": 54,
      "outputs": [
        {
          "output_type": "stream",
          "text": [
            "Google Colab\n",
            "True\n",
            "False\n"
          ],
          "name": "stdout"
        }
      ]
    },
    {
      "cell_type": "markdown",
      "metadata": {
        "id": "qhxKDYXKtD3X",
        "colab_type": "text"
      },
      "source": [
        "str.isupper()"
      ]
    },
    {
      "cell_type": "code",
      "metadata": {
        "id": "stru7mFltASK",
        "colab_type": "code",
        "colab": {
          "base_uri": "https://localhost:8080/",
          "height": 70
        },
        "outputId": "36740ccf-d288-468f-acd5-3267abb64343"
      },
      "source": [
        "text1 = 'GOOGLE'\n",
        "text2 = 'Google'\n",
        "\n",
        "print(text1)\n",
        "print(text1.isupper())\n",
        "print(text2.isupper())"
      ],
      "execution_count": 55,
      "outputs": [
        {
          "output_type": "stream",
          "text": [
            "GOOGLE\n",
            "True\n",
            "False\n"
          ],
          "name": "stdout"
        }
      ]
    },
    {
      "cell_type": "markdown",
      "metadata": {
        "id": "s-0H0OFPtR-O",
        "colab_type": "text"
      },
      "source": [
        "str.join()"
      ]
    },
    {
      "cell_type": "code",
      "metadata": {
        "id": "Cmn4FZcUtPSf",
        "colab_type": "code",
        "colab": {
          "base_uri": "https://localhost:8080/",
          "height": 87
        },
        "outputId": "cfb06324-872e-4eae-e630-e7e805e3dad6"
      },
      "source": [
        "print(' '.join(('Google', 'Colab')))\n",
        "print(' '.join(['Google', 'Colab']))\n",
        "print(','.join(['Open', 'High', 'Low', 'Close']))\n",
        "print('#'.join(['Open', 'High', 'Low', 'Close']))"
      ],
      "execution_count": 61,
      "outputs": [
        {
          "output_type": "stream",
          "text": [
            "Google Colab\n",
            "Google Colab\n",
            "Open,High,Low,Close\n",
            "Open#High#Low#Close\n"
          ],
          "name": "stdout"
        }
      ]
    },
    {
      "cell_type": "markdown",
      "metadata": {
        "id": "Rkz920Mztt1X",
        "colab_type": "text"
      },
      "source": [
        "str.ljust()"
      ]
    },
    {
      "cell_type": "code",
      "metadata": {
        "id": "s53LEFHrtXad",
        "colab_type": "code",
        "colab": {
          "base_uri": "https://localhost:8080/",
          "height": 52
        },
        "outputId": "aeb4c29a-c33f-488d-fd3a-f5f99fa3701b"
      },
      "source": [
        "price = 9.99 \n",
        "count = 10\n",
        "\n",
        "print(f'To kosztuje {price}.')\n",
        "print(f'cena: {str(price).ljust(10)} ilość: {count}')"
      ],
      "execution_count": 73,
      "outputs": [
        {
          "output_type": "stream",
          "text": [
            "To kosztuje 9.99.\n",
            "cena: 9.99       ilość: 10\n"
          ],
          "name": "stdout"
        }
      ]
    },
    {
      "cell_type": "code",
      "metadata": {
        "id": "gpLGG7kYt03r",
        "colab_type": "code",
        "colab": {}
      },
      "source": [
        ""
      ],
      "execution_count": 0,
      "outputs": []
    }
  ]
}