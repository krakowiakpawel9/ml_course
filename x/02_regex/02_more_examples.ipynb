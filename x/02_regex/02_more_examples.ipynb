{
  "nbformat": 4,
  "nbformat_minor": 0,
  "metadata": {
    "colab": {
      "name": "Copy of 01_regex.ipynb",
      "provenance": [],
      "include_colab_link": true
    },
    "kernelspec": {
      "name": "python3",
      "display_name": "Python 3"
    }
  },
  "cells": [
    {
      "cell_type": "markdown",
      "metadata": {
        "id": "view-in-github",
        "colab_type": "text"
      },
      "source": [
        "<a href=\"https://colab.research.google.com/github/krakowiakpawel9/ml_course/blob/master/x/02_regex/02_more_examples.ipynb\" target=\"_parent\"><img src=\"https://colab.research.google.com/assets/colab-badge.svg\" alt=\"Open In Colab\"/></a>"
      ]
    },
    {
      "cell_type": "markdown",
      "metadata": {
        "id": "UbjsT92Xd3z1",
        "colab_type": "text"
      },
      "source": [
        "* @author: krakowiakpawel9@gmail.com  \n",
        "* @site: e-smartdata.org\n",
        "\n",
        "### Regex\n",
        "Strona biblioteki: [https://docs.python.org/3/library/re.html](https://docs.python.org/3/library/re.html)  \n",
        "\n",
        "Podstawowa biblioteka do wyrażeń regularnych w języku Python.\n",
        "\n",
        "### Spis treści:\n",
        "1. [Import bibliotek](#0)\n",
        "2. [Wygenerowanie danych](#1)\n",
        "\n"
      ]
    },
    {
      "cell_type": "markdown",
      "metadata": {
        "id": "YkIALacsUnj7",
        "colab_type": "text"
      },
      "source": [
        "### <a name='0'></a> Import bibliotek"
      ]
    },
    {
      "cell_type": "code",
      "metadata": {
        "id": "0xkyJJtkn2Xl",
        "colab_type": "code",
        "outputId": "12947243-b28c-4605-934e-4d9b0e989784",
        "colab": {
          "base_uri": "https://localhost:8080/",
          "height": 35
        }
      },
      "source": [
        "import re\n",
        "re.__version__"
      ],
      "execution_count": 1,
      "outputs": [
        {
          "output_type": "execute_result",
          "data": {
            "text/plain": [
              "'2.2.1'"
            ]
          },
          "metadata": {
            "tags": []
          },
          "execution_count": 1
        }
      ]
    },
    {
      "cell_type": "code",
      "metadata": {
        "id": "ktLDy2nj3MG5",
        "colab_type": "code",
        "outputId": "6250976f-a2b4-4c53-bf41-857a33d437c9",
        "colab": {
          "base_uri": "https://localhost:8080/",
          "height": 326
        }
      },
      "source": [
        "html = \"\"\"<!doctype html>\n",
        "\n",
        "<html lang=\"en\">\n",
        "<head>\n",
        "  <meta charset=\"utf-8\">\n",
        "\n",
        "  <title>The HTML5 Title</title>\n",
        "  <meta name=\"description\">\n",
        "\n",
        "  <link rel=\"stylesheet\" href=\"css/styles.css?v=1.0\">\n",
        "\n",
        "</head>\n",
        "\n",
        "<body>\n",
        "  <script src=\"js/scripts.js\"></script>\n",
        "</body>\n",
        "</html>\"\"\"\n",
        "\n",
        "print(html)"
      ],
      "execution_count": 2,
      "outputs": [
        {
          "output_type": "stream",
          "text": [
            "<!doctype html>\n",
            "\n",
            "<html lang=\"en\">\n",
            "<head>\n",
            "  <meta charset=\"utf-8\">\n",
            "\n",
            "  <title>The HTML5 Title</title>\n",
            "  <meta name=\"description\">\n",
            "\n",
            "  <link rel=\"stylesheet\" href=\"css/styles.css?v=1.0\">\n",
            "\n",
            "</head>\n",
            "\n",
            "<body>\n",
            "  <script src=\"js/scripts.js\"></script>\n",
            "</body>\n",
            "</html>\n"
          ],
          "name": "stdout"
        }
      ]
    },
    {
      "cell_type": "code",
      "metadata": {
        "id": "FlOjT96x4Gv5",
        "colab_type": "code",
        "outputId": "740e5bae-c455-4d9d-ac56-1d7be0010973",
        "colab": {
          "base_uri": "https://localhost:8080/",
          "height": 235
        }
      },
      "source": [
        "re.findall(r\"<.*>\", html)"
      ],
      "execution_count": 4,
      "outputs": [
        {
          "output_type": "execute_result",
          "data": {
            "text/plain": [
              "['<!doctype html>',\n",
              " '<html lang=\"en\">',\n",
              " '<head>',\n",
              " '<meta charset=\"utf-8\">',\n",
              " '<title>The HTML5 Title</title>',\n",
              " '<meta name=\"description\">',\n",
              " '<link rel=\"stylesheet\" href=\"css/styles.css?v=1.0\">',\n",
              " '</head>',\n",
              " '<body>',\n",
              " '<script src=\"js/scripts.js\"></script>',\n",
              " '</body>',\n",
              " '</html>']"
            ]
          },
          "metadata": {
            "tags": []
          },
          "execution_count": 4
        }
      ]
    },
    {
      "cell_type": "code",
      "metadata": {
        "id": "UUub7tPg4dlq",
        "colab_type": "code",
        "outputId": "b2caf0e3-f8a0-4ae7-ee32-07bef4bf745a",
        "colab": {
          "base_uri": "https://localhost:8080/",
          "height": 35
        }
      },
      "source": [
        "raw_text = \"Wyślij email na adres: info@template.com lub sales-info@template.it\"\n",
        "\n",
        "re.findall(r\"[\\w\\.-]+@[\\w\\.-]+\", raw_text)"
      ],
      "execution_count": 5,
      "outputs": [
        {
          "output_type": "execute_result",
          "data": {
            "text/plain": [
              "['info@template.com', 'sales-info@template.it']"
            ]
          },
          "metadata": {
            "tags": []
          },
          "execution_count": 5
        }
      ]
    },
    {
      "cell_type": "markdown",
      "metadata": {
        "id": "-NEqVRPQDDt6",
        "colab_type": "text"
      },
      "source": [
        "re.split"
      ]
    },
    {
      "cell_type": "code",
      "metadata": {
        "id": "4HZ4o7eH4r1R",
        "colab_type": "code",
        "outputId": "282f27b6-97aa-411e-e879-71a32d7164e5",
        "colab": {
          "base_uri": "https://localhost:8080/",
          "height": 35
        }
      },
      "source": [
        "re.split(pattern=r\"\\s+\", string=\"Machine Learning Bootcamp\")"
      ],
      "execution_count": 6,
      "outputs": [
        {
          "output_type": "execute_result",
          "data": {
            "text/plain": [
              "['Machine', 'Learning', 'Bootcamp']"
            ]
          },
          "metadata": {
            "tags": []
          },
          "execution_count": 6
        }
      ]
    },
    {
      "cell_type": "code",
      "metadata": {
        "id": "dO_WOdSQDK_n",
        "colab_type": "code",
        "outputId": "a5d9c857-06cf-49f5-b774-f1a0d54e14d6",
        "colab": {
          "base_uri": "https://localhost:8080/",
          "height": 35
        }
      },
      "source": [
        "re.split(pattern=r\"\\s+\", string=\"Machine Learning Bootcamp - Python\")"
      ],
      "execution_count": 7,
      "outputs": [
        {
          "output_type": "execute_result",
          "data": {
            "text/plain": [
              "['Machine', 'Learning', 'Bootcamp', '-', 'Python']"
            ]
          },
          "metadata": {
            "tags": []
          },
          "execution_count": 7
        }
      ]
    },
    {
      "cell_type": "code",
      "metadata": {
        "id": "cPvwE1wADltY",
        "colab_type": "code",
        "outputId": "edbb210d-dfb5-41be-d4e5-d5148fb2362e",
        "colab": {
          "base_uri": "https://localhost:8080/",
          "height": 35
        }
      },
      "source": [
        "text = \"Machine Learning Bootcamp - część 3. Język Python.\"\n",
        "\n",
        "# podział tekstu na zdania\n",
        "re.split(r\"[.]\", text)"
      ],
      "execution_count": 8,
      "outputs": [
        {
          "output_type": "execute_result",
          "data": {
            "text/plain": [
              "['Machine Learning Bootcamp - część 3', ' Język Python', '']"
            ]
          },
          "metadata": {
            "tags": []
          },
          "execution_count": 8
        }
      ]
    },
    {
      "cell_type": "code",
      "metadata": {
        "id": "lfPO7yZPD5Uv",
        "colab_type": "code",
        "outputId": "f3dd395f-4d15-4ceb-9d1e-98f5f4b6b0e6",
        "colab": {
          "base_uri": "https://localhost:8080/",
          "height": 35
        }
      },
      "source": [
        "# wydobycie słów rozpoczynających się od dużej litery\n",
        "re.findall(r\"[A-Z]\\w+\", text)"
      ],
      "execution_count": 9,
      "outputs": [
        {
          "output_type": "execute_result",
          "data": {
            "text/plain": [
              "['Machine', 'Learning', 'Bootcamp', 'Język', 'Python']"
            ]
          },
          "metadata": {
            "tags": []
          },
          "execution_count": 9
        }
      ]
    },
    {
      "cell_type": "code",
      "metadata": {
        "id": "fUSb3dCFEE_M",
        "colab_type": "code",
        "outputId": "0ae1a0f7-a50f-41e8-8f59-3cbab2b66834",
        "colab": {
          "base_uri": "https://localhost:8080/",
          "height": 35
        }
      },
      "source": [
        "# podział względem spacji\n",
        "re.split(r\"\\s+\", text)"
      ],
      "execution_count": 10,
      "outputs": [
        {
          "output_type": "execute_result",
          "data": {
            "text/plain": [
              "['Machine', 'Learning', 'Bootcamp', '-', 'część', '3.', 'Język', 'Python.']"
            ]
          },
          "metadata": {
            "tags": []
          },
          "execution_count": 10
        }
      ]
    },
    {
      "cell_type": "code",
      "metadata": {
        "id": "Ev2jULKdESdA",
        "colab_type": "code",
        "outputId": "4c5540cf-1851-4de6-885a-2bfdace14e43",
        "colab": {
          "base_uri": "https://localhost:8080/",
          "height": 35
        }
      },
      "source": [
        "# wydobycie cyfr\n",
        "re.findall(r\"\\d+\", text)"
      ],
      "execution_count": 11,
      "outputs": [
        {
          "output_type": "execute_result",
          "data": {
            "text/plain": [
              "['3']"
            ]
          },
          "metadata": {
            "tags": []
          },
          "execution_count": 11
        }
      ]
    },
    {
      "cell_type": "markdown",
      "metadata": {
        "id": "lPNVANq5vlao",
        "colab_type": "text"
      },
      "source": [
        "### Walidacja numeru telefonu\n",
        "\n",
        "Przykład: 123-456-789  \n",
        "Próbka: \n",
        "* 123-456-789\n",
        "* 456 458 789\n",
        "* 456\n",
        "\n",
        "\n"
      ]
    },
    {
      "cell_type": "code",
      "metadata": {
        "id": "vAfz-NdBEkVb",
        "colab_type": "code",
        "colab": {}
      },
      "source": [
        "def check_phone_number(phone_number):\n",
        "    valid_chars = '0123456789 -()'\n",
        "    for char in phone_number:\n",
        "        if char not in valid_chars:\n",
        "            return False\n",
        "        return True"
      ],
      "execution_count": 0,
      "outputs": []
    },
    {
      "cell_type": "code",
      "metadata": {
        "id": "dakGh8EYwbO6",
        "colab_type": "code",
        "outputId": "1abaf3bf-9e2f-4742-e0b9-d59448702cf5",
        "colab": {
          "base_uri": "https://localhost:8080/",
          "height": 35
        }
      },
      "source": [
        "check_phone_number('123-456-789')"
      ],
      "execution_count": 13,
      "outputs": [
        {
          "output_type": "execute_result",
          "data": {
            "text/plain": [
              "True"
            ]
          },
          "metadata": {
            "tags": []
          },
          "execution_count": 13
        }
      ]
    },
    {
      "cell_type": "code",
      "metadata": {
        "id": "vaeHN8J8wdd3",
        "colab_type": "code",
        "outputId": "be569a1a-1ae1-4cd9-8b2d-4960ea81438c",
        "colab": {
          "base_uri": "https://localhost:8080/",
          "height": 35
        }
      },
      "source": [
        "check_phone_number('123 456 789')"
      ],
      "execution_count": 14,
      "outputs": [
        {
          "output_type": "execute_result",
          "data": {
            "text/plain": [
              "True"
            ]
          },
          "metadata": {
            "tags": []
          },
          "execution_count": 14
        }
      ]
    },
    {
      "cell_type": "code",
      "metadata": {
        "id": "ZmoVLYa6wf8F",
        "colab_type": "code",
        "outputId": "00e6af96-b150-4404-ab12-73299e4e2503",
        "colab": {
          "base_uri": "https://localhost:8080/",
          "height": 35
        }
      },
      "source": [
        "check_phone_number('456')"
      ],
      "execution_count": 15,
      "outputs": [
        {
          "output_type": "execute_result",
          "data": {
            "text/plain": [
              "True"
            ]
          },
          "metadata": {
            "tags": []
          },
          "execution_count": 15
        }
      ]
    },
    {
      "cell_type": "code",
      "metadata": {
        "id": "tC4-Gd4ywoLL",
        "colab_type": "code",
        "outputId": "2f88567c-3240-4cb2-8afb-70c6717da4a7",
        "colab": {
          "base_uri": "https://localhost:8080/",
          "height": 35
        }
      },
      "source": [
        "re.match(r\"\\d{3}-\\d{3}-\\d{3}\", '123-456-789')"
      ],
      "execution_count": 16,
      "outputs": [
        {
          "output_type": "execute_result",
          "data": {
            "text/plain": [
              "<_sre.SRE_Match object; span=(0, 11), match='123-456-789'>"
            ]
          },
          "metadata": {
            "tags": []
          },
          "execution_count": 16
        }
      ]
    },
    {
      "cell_type": "code",
      "metadata": {
        "id": "lPxdJ4c8L-ss",
        "colab_type": "code",
        "colab": {
          "base_uri": "https://localhost:8080/",
          "height": 35
        },
        "outputId": "19fae82f-6130-485e-8973-8847ceb504a8"
      },
      "source": [
        "re.findall(r\"\\d{3}-\\d{3}-\\d{3}\", '123-456-789')"
      ],
      "execution_count": 18,
      "outputs": [
        {
          "output_type": "execute_result",
          "data": {
            "text/plain": [
              "['123-456-789']"
            ]
          },
          "metadata": {
            "tags": []
          },
          "execution_count": 18
        }
      ]
    },
    {
      "cell_type": "code",
      "metadata": {
        "id": "6MUJ8KwPxAzb",
        "colab_type": "code",
        "colab": {
          "base_uri": "https://localhost:8080/",
          "height": 35
        },
        "outputId": "318aace1-6f3c-4118-d49b-9cf67a7ab1f4"
      },
      "source": [
        "re.findall(r\"\\d{3}-\\d{3}-\\d{3}\", '456')"
      ],
      "execution_count": 19,
      "outputs": [
        {
          "output_type": "execute_result",
          "data": {
            "text/plain": [
              "[]"
            ]
          },
          "metadata": {
            "tags": []
          },
          "execution_count": 19
        }
      ]
    },
    {
      "cell_type": "markdown",
      "metadata": {
        "id": "hRBHWs0yxXrz",
        "colab_type": "text"
      },
      "source": [
        "https://regexone.com/"
      ]
    },
    {
      "cell_type": "code",
      "metadata": {
        "id": "wX3Msin_xD7k",
        "colab_type": "code",
        "colab": {}
      },
      "source": [
        ""
      ],
      "execution_count": 0,
      "outputs": []
    }
  ]
}