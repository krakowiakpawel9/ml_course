{
  "nbformat": 4,
  "nbformat_minor": 0,
  "metadata": {
    "colab": {
      "name": "Copy of 01_regex.ipynb",
      "provenance": [],
      "include_colab_link": true
    },
    "kernelspec": {
      "name": "python3",
      "display_name": "Python 3"
    }
  },
  "cells": [
    {
      "cell_type": "markdown",
      "metadata": {
        "id": "view-in-github",
        "colab_type": "text"
      },
      "source": [
        "<a href=\"https://colab.research.google.com/github/krakowiakpawel9/ml_course/blob/master/x/02_regex/01_intro.ipynb\" target=\"_parent\"><img src=\"https://colab.research.google.com/assets/colab-badge.svg\" alt=\"Open In Colab\"/></a>"
      ]
    },
    {
      "cell_type": "markdown",
      "metadata": {
        "id": "UbjsT92Xd3z1",
        "colab_type": "text"
      },
      "source": [
        "* @author: krakowiakpawel9@gmail.com  \n",
        "* @site: e-smartdata.org\n",
        "\n",
        "### Regex\n",
        "Strona biblioteki: [https://docs.python.org/3/library/re.html](https://docs.python.org/3/library/re.html)  \n",
        "\n",
        "Podstawowa biblioteka do wyrażeń regularnych w języku Python.\n",
        "\n",
        "### Spis treści:\n",
        "1. [Import bibliotek](#0)\n",
        "2. [Wygenerowanie danych](#1)\n",
        "\n"
      ]
    },
    {
      "cell_type": "markdown",
      "metadata": {
        "id": "YkIALacsUnj7",
        "colab_type": "text"
      },
      "source": [
        "### <a name='0'></a> Import bibliotek"
      ]
    },
    {
      "cell_type": "code",
      "metadata": {
        "id": "0xkyJJtkn2Xl",
        "colab_type": "code",
        "outputId": "439114e1-5008-4c1a-bafd-0fa25548eff9",
        "colab": {
          "base_uri": "https://localhost:8080/",
          "height": 35
        }
      },
      "source": [
        "import re\n",
        "re.__version__"
      ],
      "execution_count": 1,
      "outputs": [
        {
          "output_type": "execute_result",
          "data": {
            "text/plain": [
              "'2.2.1'"
            ]
          },
          "metadata": {
            "tags": []
          },
          "execution_count": 1
        }
      ]
    },
    {
      "cell_type": "markdown",
      "metadata": {
        "id": "fPhqWLmb-pNX",
        "colab_type": "text"
      },
      "source": [
        ". - dowolny znak z wyjątkiem znaku nowej linii"
      ]
    },
    {
      "cell_type": "code",
      "metadata": {
        "id": "M2Xf3XkF-Vgr",
        "colab_type": "code",
        "outputId": "026200b0-7317-41a5-d8cb-0045e4ea9f6d",
        "colab": {
          "base_uri": "https://localhost:8080/",
          "height": 35
        }
      },
      "source": [
        "re.search(pattern=r\".\", string='Python')"
      ],
      "execution_count": 2,
      "outputs": [
        {
          "output_type": "execute_result",
          "data": {
            "text/plain": [
              "<_sre.SRE_Match object; span=(0, 1), match='P'>"
            ]
          },
          "metadata": {
            "tags": []
          },
          "execution_count": 2
        }
      ]
    },
    {
      "cell_type": "code",
      "metadata": {
        "id": "i805bmpn_Om8",
        "colab_type": "code",
        "colab": {
          "base_uri": "https://localhost:8080/",
          "height": 35
        },
        "outputId": "08eecca9-6cb8-44bb-d0a0-6e8bb1cd5495"
      },
      "source": [
        "re.findall(pattern=r\".\", string='Python')"
      ],
      "execution_count": 4,
      "outputs": [
        {
          "output_type": "execute_result",
          "data": {
            "text/plain": [
              "['P', 'y', 't', 'h', 'o', 'n']"
            ]
          },
          "metadata": {
            "tags": []
          },
          "execution_count": 4
        }
      ]
    },
    {
      "cell_type": "code",
      "metadata": {
        "id": "1edh5tID-fJQ",
        "colab_type": "code",
        "outputId": "b56701ef-40b2-49fd-ff3d-230bfdaacf6a",
        "colab": {
          "base_uri": "https://localhost:8080/",
          "height": 35
        }
      },
      "source": [
        "re.search(pattern=r\".\", string='\\nPython')"
      ],
      "execution_count": 5,
      "outputs": [
        {
          "output_type": "execute_result",
          "data": {
            "text/plain": [
              "<_sre.SRE_Match object; span=(1, 2), match='P'>"
            ]
          },
          "metadata": {
            "tags": []
          },
          "execution_count": 5
        }
      ]
    },
    {
      "cell_type": "code",
      "metadata": {
        "id": "XgtYXrqY_i7w",
        "colab_type": "code",
        "colab": {
          "base_uri": "https://localhost:8080/",
          "height": 35
        },
        "outputId": "63e2adb4-33ea-43c3-eb99-e17937badcf1"
      },
      "source": [
        "re.findall(pattern=r\".\", string='\\nPython')"
      ],
      "execution_count": 6,
      "outputs": [
        {
          "output_type": "execute_result",
          "data": {
            "text/plain": [
              "['P', 'y', 't', 'h', 'o', 'n']"
            ]
          },
          "metadata": {
            "tags": []
          },
          "execution_count": 6
        }
      ]
    },
    {
      "cell_type": "markdown",
      "metadata": {
        "id": "buBQHh_9-x2U",
        "colab_type": "text"
      },
      "source": [
        "\\d - dowolna cyfra"
      ]
    },
    {
      "cell_type": "code",
      "metadata": {
        "id": "4GR8GQ7A-iCJ",
        "colab_type": "code",
        "outputId": "5b8693b0-41e5-4f2c-95c8-6cacd56384b0",
        "colab": {
          "base_uri": "https://localhost:8080/",
          "height": 35
        }
      },
      "source": [
        "re.search(pattern=r\"\\d\", string='Python 3.8')"
      ],
      "execution_count": 12,
      "outputs": [
        {
          "output_type": "execute_result",
          "data": {
            "text/plain": [
              "<_sre.SRE_Match object; span=(7, 8), match='3'>"
            ]
          },
          "metadata": {
            "tags": []
          },
          "execution_count": 12
        }
      ]
    },
    {
      "cell_type": "code",
      "metadata": {
        "id": "KJoep3A4_nBa",
        "colab_type": "code",
        "colab": {
          "base_uri": "https://localhost:8080/",
          "height": 35
        },
        "outputId": "99be8669-a8ea-40bf-d8f2-a4a404dcbf1e"
      },
      "source": [
        "re.findall(pattern=r\"\\d\", string='Python 3.8')"
      ],
      "execution_count": 13,
      "outputs": [
        {
          "output_type": "execute_result",
          "data": {
            "text/plain": [
              "['3', '8']"
            ]
          },
          "metadata": {
            "tags": []
          },
          "execution_count": 13
        }
      ]
    },
    {
      "cell_type": "markdown",
      "metadata": {
        "id": "UVqLt2kF-_ZN",
        "colab_type": "text"
      },
      "source": [
        "\\D - dowolny znak nie będący cyfrą"
      ]
    },
    {
      "cell_type": "code",
      "metadata": {
        "id": "wrARR4M0-1fw",
        "colab_type": "code",
        "outputId": "264701a6-a44e-4fe5-d733-f32e61e433cf",
        "colab": {
          "base_uri": "https://localhost:8080/",
          "height": 35
        }
      },
      "source": [
        "re.search(pattern=r\"\\D\", string='20-300 Miasto')"
      ],
      "execution_count": 16,
      "outputs": [
        {
          "output_type": "execute_result",
          "data": {
            "text/plain": [
              "<_sre.SRE_Match object; span=(2, 3), match='-'>"
            ]
          },
          "metadata": {
            "tags": []
          },
          "execution_count": 16
        }
      ]
    },
    {
      "cell_type": "code",
      "metadata": {
        "id": "txGKDhhC_xh1",
        "colab_type": "code",
        "colab": {
          "base_uri": "https://localhost:8080/",
          "height": 35
        },
        "outputId": "09c577d5-22ed-4a52-eccf-335275a9c4a3"
      },
      "source": [
        "re.findall(pattern=r\"\\D\", string='20-300 Miasto')"
      ],
      "execution_count": 17,
      "outputs": [
        {
          "output_type": "execute_result",
          "data": {
            "text/plain": [
              "['-', ' ', 'M', 'i', 'a', 's', 't', 'o']"
            ]
          },
          "metadata": {
            "tags": []
          },
          "execution_count": 17
        }
      ]
    },
    {
      "cell_type": "markdown",
      "metadata": {
        "id": "Zd1P5GLY_M7W",
        "colab_type": "text"
      },
      "source": [
        "\\s - dowolny biały znak"
      ]
    },
    {
      "cell_type": "code",
      "metadata": {
        "id": "C5w3a-HA-9dn",
        "colab_type": "code",
        "colab": {
          "base_uri": "https://localhost:8080/",
          "height": 35
        },
        "outputId": "6a7d3f27-7abc-4eb2-dc59-3007917a01a5"
      },
      "source": [
        "re.search(pattern=r\"\\s\", string='20-300 Miasto')"
      ],
      "execution_count": 21,
      "outputs": [
        {
          "output_type": "execute_result",
          "data": {
            "text/plain": [
              "<_sre.SRE_Match object; span=(6, 7), match=' '>"
            ]
          },
          "metadata": {
            "tags": []
          },
          "execution_count": 21
        }
      ]
    },
    {
      "cell_type": "code",
      "metadata": {
        "id": "2nKeAh-D_PQy",
        "colab_type": "code",
        "outputId": "4af300b8-7e17-46c4-b7b4-3bf00e0de4a2",
        "colab": {
          "base_uri": "https://localhost:8080/",
          "height": 35
        }
      },
      "source": [
        "re.findall(pattern=r\"\\s\", string='20-300 Miasto\\n')"
      ],
      "execution_count": 23,
      "outputs": [
        {
          "output_type": "execute_result",
          "data": {
            "text/plain": [
              "[' ', '\\n']"
            ]
          },
          "metadata": {
            "tags": []
          },
          "execution_count": 23
        }
      ]
    },
    {
      "cell_type": "markdown",
      "metadata": {
        "id": "U3S31eEr_Wbz",
        "colab_type": "text"
      },
      "source": [
        "\\S - dowolny znak nie będący białym znakiem"
      ]
    },
    {
      "cell_type": "code",
      "metadata": {
        "id": "QWuQ7_X1_T7D",
        "colab_type": "code",
        "outputId": "5cc55ac5-5e0d-469c-8d3c-8c8595f1677d",
        "colab": {
          "base_uri": "https://localhost:8080/",
          "height": 35
        }
      },
      "source": [
        "re.search(pattern=r\"\\S\", string='   Python  ')"
      ],
      "execution_count": 24,
      "outputs": [
        {
          "output_type": "execute_result",
          "data": {
            "text/plain": [
              "<_sre.SRE_Match object; span=(3, 4), match='P'>"
            ]
          },
          "metadata": {
            "tags": []
          },
          "execution_count": 24
        }
      ]
    },
    {
      "cell_type": "code",
      "metadata": {
        "id": "ppYfnHv4FwDH",
        "colab_type": "code",
        "colab": {
          "base_uri": "https://localhost:8080/",
          "height": 35
        },
        "outputId": "ee45a750-84e3-4e25-9640-d117a3e0f0da"
      },
      "source": [
        "re.findall(pattern=r\"\\S\", string='   Python  ')"
      ],
      "execution_count": 25,
      "outputs": [
        {
          "output_type": "execute_result",
          "data": {
            "text/plain": [
              "['P', 'y', 't', 'h', 'o', 'n']"
            ]
          },
          "metadata": {
            "tags": []
          },
          "execution_count": 25
        }
      ]
    },
    {
      "cell_type": "code",
      "metadata": {
        "id": "YWMEWYpn_gT-",
        "colab_type": "code",
        "outputId": "ce3e3799-b7cf-4747-867b-00c8f97a287f",
        "colab": {
          "base_uri": "https://localhost:8080/",
          "height": 35
        }
      },
      "source": [
        "re.search(pattern=r\"\\S\", string='\\nNew Paragraph.\\n')"
      ],
      "execution_count": 26,
      "outputs": [
        {
          "output_type": "execute_result",
          "data": {
            "text/plain": [
              "<_sre.SRE_Match object; span=(1, 2), match='N'>"
            ]
          },
          "metadata": {
            "tags": []
          },
          "execution_count": 26
        }
      ]
    },
    {
      "cell_type": "code",
      "metadata": {
        "id": "2XrBseCLF0xS",
        "colab_type": "code",
        "colab": {
          "base_uri": "https://localhost:8080/",
          "height": 35
        },
        "outputId": "035b0c5c-6469-41b5-a845-f6f4d0d9b536"
      },
      "source": [
        "re.findall(pattern=r\"\\S\", string='\\nNew Paragraph.\\n')"
      ],
      "execution_count": 27,
      "outputs": [
        {
          "output_type": "execute_result",
          "data": {
            "text/plain": [
              "['N', 'e', 'w', 'P', 'a', 'r', 'a', 'g', 'r', 'a', 'p', 'h', '.']"
            ]
          },
          "metadata": {
            "tags": []
          },
          "execution_count": 27
        }
      ]
    },
    {
      "cell_type": "markdown",
      "metadata": {
        "id": "MuZoOSuR_oNj",
        "colab_type": "text"
      },
      "source": [
        "\\w - dowolny znak alfanumeryczny (litera lub cyfra)"
      ]
    },
    {
      "cell_type": "code",
      "metadata": {
        "id": "sf-sZmJ4_mGL",
        "colab_type": "code",
        "outputId": "cc09db05-12ba-4b12-d4ac-cb6f8cd2c93a",
        "colab": {
          "base_uri": "https://localhost:8080/",
          "height": 35
        }
      },
      "source": [
        "re.search(pattern=r\"\\w\", string='!@#$%^&4')"
      ],
      "execution_count": 28,
      "outputs": [
        {
          "output_type": "execute_result",
          "data": {
            "text/plain": [
              "<_sre.SRE_Match object; span=(7, 8), match='4'>"
            ]
          },
          "metadata": {
            "tags": []
          },
          "execution_count": 28
        }
      ]
    },
    {
      "cell_type": "code",
      "metadata": {
        "id": "Nz2ASdplF6I0",
        "colab_type": "code",
        "colab": {
          "base_uri": "https://localhost:8080/",
          "height": 35
        },
        "outputId": "a7269b84-64eb-4ac3-b00b-8b2f03d9bf0f"
      },
      "source": [
        "re.findall(pattern=r\"\\w\", string='!@#$%^&45')"
      ],
      "execution_count": 30,
      "outputs": [
        {
          "output_type": "execute_result",
          "data": {
            "text/plain": [
              "['4', '5']"
            ]
          },
          "metadata": {
            "tags": []
          },
          "execution_count": 30
        }
      ]
    },
    {
      "cell_type": "markdown",
      "metadata": {
        "id": "KSSlSXsj_w2Y",
        "colab_type": "text"
      },
      "source": [
        "\\W - dowolny znak nie będący znakiem alfanumerycznym\n"
      ]
    },
    {
      "cell_type": "code",
      "metadata": {
        "id": "hYv58v38_vL8",
        "colab_type": "code",
        "outputId": "389ce9f2-887c-48b6-b342-ec0291337b33",
        "colab": {
          "base_uri": "https://localhost:8080/",
          "height": 35
        }
      },
      "source": [
        "re.search(pattern=r\"\\W\", string='!@#$%^&45')"
      ],
      "execution_count": 32,
      "outputs": [
        {
          "output_type": "execute_result",
          "data": {
            "text/plain": [
              "<_sre.SRE_Match object; span=(0, 1), match='!'>"
            ]
          },
          "metadata": {
            "tags": []
          },
          "execution_count": 32
        }
      ]
    },
    {
      "cell_type": "code",
      "metadata": {
        "id": "ge7f4mLAGCy-",
        "colab_type": "code",
        "colab": {
          "base_uri": "https://localhost:8080/",
          "height": 35
        },
        "outputId": "9a46a51f-0545-4fc5-9448-2d81f394b455"
      },
      "source": [
        "re.findall(pattern=r\"\\W\", string='!@#$%^& 45')"
      ],
      "execution_count": 34,
      "outputs": [
        {
          "output_type": "execute_result",
          "data": {
            "text/plain": [
              "['!', '@', '#', '$', '%', '^', '&', ' ']"
            ]
          },
          "metadata": {
            "tags": []
          },
          "execution_count": 34
        }
      ]
    },
    {
      "cell_type": "code",
      "metadata": {
        "id": "warMJVbc_6KR",
        "colab_type": "code",
        "outputId": "dc09803d-9364-4c13-b5a8-c82bab7a09e4",
        "colab": {
          "base_uri": "https://localhost:8080/",
          "height": 35
        }
      },
      "source": [
        "re.search(pattern=r\"\\W\", string='mode#summer')"
      ],
      "execution_count": 35,
      "outputs": [
        {
          "output_type": "execute_result",
          "data": {
            "text/plain": [
              "<_sre.SRE_Match object; span=(4, 5), match='#'>"
            ]
          },
          "metadata": {
            "tags": []
          },
          "execution_count": 35
        }
      ]
    },
    {
      "cell_type": "markdown",
      "metadata": {
        "id": "5_x0efxrAegT",
        "colab_type": "text"
      },
      "source": [
        "### Kwantyfikatory"
      ]
    },
    {
      "cell_type": "markdown",
      "metadata": {
        "id": "8_F15tAiA12U",
        "colab_type": "text"
      },
      "source": [
        "\\* - zero lub więcej wystąpień"
      ]
    },
    {
      "cell_type": "code",
      "metadata": {
        "id": "gwa2yc3xGPgX",
        "colab_type": "code",
        "colab": {
          "base_uri": "https://localhost:8080/",
          "height": 35
        },
        "outputId": "952a113c-6f39-43c0-8481-c983815a258d"
      },
      "source": [
        "re.findall(pattern=r\"a*b\", string='ababaabaaaaaab ba b aab')"
      ],
      "execution_count": 49,
      "outputs": [
        {
          "output_type": "execute_result",
          "data": {
            "text/plain": [
              "['ab', 'ab', 'aab', 'aaaaaab', 'b', 'b', 'aab']"
            ]
          },
          "metadata": {
            "tags": []
          },
          "execution_count": 49
        }
      ]
    },
    {
      "cell_type": "markdown",
      "metadata": {
        "id": "NtBx0O3vBKV8",
        "colab_type": "text"
      },
      "source": [
        "\\+ - jeden lub więcej wystąpień"
      ]
    },
    {
      "cell_type": "code",
      "metadata": {
        "id": "nJKFloqbBGo_",
        "colab_type": "code",
        "colab": {
          "base_uri": "https://localhost:8080/",
          "height": 35
        },
        "outputId": "5f48fc54-8b16-45d9-922a-8432b0426e82"
      },
      "source": [
        "re.findall(pattern=r\"a+b\", string='ababaabaaaaaab ba b aab')"
      ],
      "execution_count": 50,
      "outputs": [
        {
          "output_type": "execute_result",
          "data": {
            "text/plain": [
              "['ab', 'ab', 'aab', 'aaaaaab', 'aab']"
            ]
          },
          "metadata": {
            "tags": []
          },
          "execution_count": 50
        }
      ]
    },
    {
      "cell_type": "markdown",
      "metadata": {
        "id": "-5h2NwqpB3m-",
        "colab_type": "text"
      },
      "source": [
        "? - zero lub jedno wystąpienie"
      ]
    },
    {
      "cell_type": "code",
      "metadata": {
        "id": "TX3sbxqqHF4G",
        "colab_type": "code",
        "colab": {
          "base_uri": "https://localhost:8080/",
          "height": 35
        },
        "outputId": "a9c19367-2e77-4a81-c297-f2b8746d961e"
      },
      "source": [
        "re.findall(pattern=r\"a?b\", string='aba ba b aab aaaab')"
      ],
      "execution_count": 56,
      "outputs": [
        {
          "output_type": "execute_result",
          "data": {
            "text/plain": [
              "['ab', 'b', 'b', 'ab', 'ab']"
            ]
          },
          "metadata": {
            "tags": []
          },
          "execution_count": 56
        }
      ]
    },
    {
      "cell_type": "code",
      "metadata": {
        "id": "WJ96AOpcB2GU",
        "colab_type": "code",
        "outputId": "1840d99e-3b9c-467e-c5bf-b4ba40f5efee",
        "colab": {
          "base_uri": "https://localhost:8080/",
          "height": 35
        }
      },
      "source": [
        "re.findall(pattern=r\"a?b\", string='ababaabaaaaaab ba b aab')"
      ],
      "execution_count": 54,
      "outputs": [
        {
          "output_type": "execute_result",
          "data": {
            "text/plain": [
              "['ab', 'ab', 'ab', 'ab', 'b', 'b', 'ab']"
            ]
          },
          "metadata": {
            "tags": []
          },
          "execution_count": 54
        }
      ]
    },
    {
      "cell_type": "markdown",
      "metadata": {
        "id": "JEmptPZfCZF2",
        "colab_type": "text"
      },
      "source": [
        "{m} - dokładnie m wystąpień\n"
      ]
    },
    {
      "cell_type": "code",
      "metadata": {
        "id": "mNdBc06-CRl_",
        "colab_type": "code",
        "colab": {
          "base_uri": "https://localhost:8080/",
          "height": 35
        },
        "outputId": "b8f07b36-3e5f-4905-c3fa-8f8c3a5474b6"
      },
      "source": [
        "re.findall(pattern=r\"a{2}b\", string='ababaabaaaaaab ba b aab')"
      ],
      "execution_count": 57,
      "outputs": [
        {
          "output_type": "execute_result",
          "data": {
            "text/plain": [
              "['aab', 'aab', 'aab']"
            ]
          },
          "metadata": {
            "tags": []
          },
          "execution_count": 57
        }
      ]
    },
    {
      "cell_type": "markdown",
      "metadata": {
        "id": "vzdwyFfWCn-H",
        "colab_type": "text"
      },
      "source": [
        "{m,} - co najmniej m wystąpień\n"
      ]
    },
    {
      "cell_type": "code",
      "metadata": {
        "id": "RDFbYq9kCg76",
        "colab_type": "code",
        "outputId": "fdd15e57-24a0-46bb-813f-bbf866ca6d3e",
        "colab": {
          "base_uri": "https://localhost:8080/",
          "height": 35
        }
      },
      "source": [
        "re.findall(pattern=r\"a{2,}b\", string='ababaabaaaaaab ba b aab')"
      ],
      "execution_count": 58,
      "outputs": [
        {
          "output_type": "execute_result",
          "data": {
            "text/plain": [
              "['aab', 'aaaaaab', 'aab']"
            ]
          },
          "metadata": {
            "tags": []
          },
          "execution_count": 58
        }
      ]
    },
    {
      "cell_type": "markdown",
      "metadata": {
        "id": "35xZsoYnCv-d",
        "colab_type": "text"
      },
      "source": [
        "{m,n} - od m do n wystąpień\n"
      ]
    },
    {
      "cell_type": "code",
      "metadata": {
        "id": "YmGSlWfSCt0e",
        "colab_type": "code",
        "outputId": "7c0850f7-2098-4b51-f6d9-74cc4d839e95",
        "colab": {
          "base_uri": "https://localhost:8080/",
          "height": 35
        }
      },
      "source": [
        "re.findall(pattern=r\"a{2,3}b\", string='ababaabaaaaaab ba b aab')"
      ],
      "execution_count": 59,
      "outputs": [
        {
          "output_type": "execute_result",
          "data": {
            "text/plain": [
              "['aab', 'aaab', 'aab']"
            ]
          },
          "metadata": {
            "tags": []
          },
          "execution_count": 59
        }
      ]
    },
    {
      "cell_type": "markdown",
      "metadata": {
        "id": "5_VxH6NHC9Ow",
        "colab_type": "text"
      },
      "source": [
        "[...] - jeden znak spośród zbioru znaków\n"
      ]
    },
    {
      "cell_type": "code",
      "metadata": {
        "id": "OUOvG4kmDM3o",
        "colab_type": "code",
        "outputId": "9314c274-dcfc-4316-c73e-5cdec527a3de",
        "colab": {
          "base_uri": "https://localhost:8080/",
          "height": 35
        }
      },
      "source": [
        "re.findall(pattern=r\"[123]\", string='0010-000-423-x1010-a2 aab ax aax')"
      ],
      "execution_count": 64,
      "outputs": [
        {
          "output_type": "execute_result",
          "data": {
            "text/plain": [
              "['1', '2', '3', '1', '1', '2']"
            ]
          },
          "metadata": {
            "tags": []
          },
          "execution_count": 64
        }
      ]
    },
    {
      "cell_type": "code",
      "metadata": {
        "id": "83atiFzfDau3",
        "colab_type": "code",
        "outputId": "27abbe36-57a9-4ce2-c353-4207148cf3f7",
        "colab": {
          "base_uri": "https://localhost:8080/",
          "height": 35
        }
      },
      "source": [
        "re.findall(pattern=r\"[ax][123]\", string='0010-000-423-x1010-a2 aab ax aax')"
      ],
      "execution_count": 65,
      "outputs": [
        {
          "output_type": "execute_result",
          "data": {
            "text/plain": [
              "['x1', 'a2']"
            ]
          },
          "metadata": {
            "tags": []
          },
          "execution_count": 65
        }
      ]
    },
    {
      "cell_type": "code",
      "metadata": {
        "id": "lTmR5xMADle7",
        "colab_type": "code",
        "outputId": "5e90b7e2-3ed1-473c-e46b-9542e8cd6948",
        "colab": {
          "base_uri": "https://localhost:8080/",
          "height": 35
        }
      },
      "source": [
        "re.findall(pattern=r\"[x][01]\", string='0010-000-423-x1010-a2 aab ax aax')"
      ],
      "execution_count": 67,
      "outputs": [
        {
          "output_type": "execute_result",
          "data": {
            "text/plain": [
              "['x1']"
            ]
          },
          "metadata": {
            "tags": []
          },
          "execution_count": 67
        }
      ]
    },
    {
      "cell_type": "code",
      "metadata": {
        "id": "sJaXtJGuDJeS",
        "colab_type": "code",
        "colab": {
          "base_uri": "https://localhost:8080/",
          "height": 35
        },
        "outputId": "dac0a29f-d82f-4ce7-b0c9-8539b28d7502"
      },
      "source": [
        "re.findall(pattern=r\"[abc][xyz]\", string='0010-000-423-x1010-a2 aab ax aax')"
      ],
      "execution_count": 68,
      "outputs": [
        {
          "output_type": "execute_result",
          "data": {
            "text/plain": [
              "['ax', 'ax']"
            ]
          },
          "metadata": {
            "tags": []
          },
          "execution_count": 68
        }
      ]
    },
    {
      "cell_type": "markdown",
      "metadata": {
        "id": "yETmiJxKD34A",
        "colab_type": "text"
      },
      "source": [
        "[^...] - jeden znak spoza zbioru znaków\n"
      ]
    },
    {
      "cell_type": "code",
      "metadata": {
        "id": "LgUZ9U9SD16M",
        "colab_type": "code",
        "outputId": "477fdc98-98ab-4fd0-a9aa-ead014a9dd08",
        "colab": {
          "base_uri": "https://localhost:8080/",
          "height": 35
        }
      },
      "source": [
        "re.findall(pattern=r\"[^0-]\", string='0010-000-423')"
      ],
      "execution_count": 73,
      "outputs": [
        {
          "output_type": "execute_result",
          "data": {
            "text/plain": [
              "['1', '4', '2', '3']"
            ]
          },
          "metadata": {
            "tags": []
          },
          "execution_count": 73
        }
      ]
    },
    {
      "cell_type": "code",
      "metadata": {
        "id": "9sg5qUqCD99N",
        "colab_type": "code",
        "colab": {
          "base_uri": "https://localhost:8080/",
          "height": 35
        },
        "outputId": "da7415b0-dde9-4677-9984-5b70726b4678"
      },
      "source": [
        "re.findall(pattern=r\"[^-]+\", string='0010-000-423-22')"
      ],
      "execution_count": 79,
      "outputs": [
        {
          "output_type": "execute_result",
          "data": {
            "text/plain": [
              "['0010', '000', '423', '22']"
            ]
          },
          "metadata": {
            "tags": []
          },
          "execution_count": 79
        }
      ]
    },
    {
      "cell_type": "markdown",
      "metadata": {
        "id": "KjuG0l3jEMxm",
        "colab_type": "text"
      },
      "source": [
        "A|B - dopasowanie A lub B"
      ]
    },
    {
      "cell_type": "code",
      "metadata": {
        "id": "LIlRQoYSEOWp",
        "colab_type": "code",
        "outputId": "f264bd39-f3af-40e9-9808-dcafbeb37237",
        "colab": {
          "base_uri": "https://localhost:8080/",
          "height": 35
        }
      },
      "source": [
        "re.findall(pattern=r\"PL|\\d+\", string='PL code: 110')"
      ],
      "execution_count": 81,
      "outputs": [
        {
          "output_type": "execute_result",
          "data": {
            "text/plain": [
              "['PL', '110']"
            ]
          },
          "metadata": {
            "tags": []
          },
          "execution_count": 81
        }
      ]
    },
    {
      "cell_type": "code",
      "metadata": {
        "id": "YdGqcecPER-s",
        "colab_type": "code",
        "outputId": "6bbc4f24-9c1b-4700-d7cf-358d2ce6de7c",
        "colab": {
          "base_uri": "https://localhost:8080/",
          "height": 35
        }
      },
      "source": [
        "re.findall(pattern=r\"PL|\\d+\", string='GER code: 110')"
      ],
      "execution_count": 82,
      "outputs": [
        {
          "output_type": "execute_result",
          "data": {
            "text/plain": [
              "['110']"
            ]
          },
          "metadata": {
            "tags": []
          },
          "execution_count": 82
        }
      ]
    },
    {
      "cell_type": "markdown",
      "metadata": {
        "id": "KcKUQCQcFRAx",
        "colab_type": "text"
      },
      "source": [
        "^ - początek tekstu"
      ]
    },
    {
      "cell_type": "code",
      "metadata": {
        "id": "mvLivE7zKjsL",
        "colab_type": "code",
        "colab": {
          "base_uri": "https://localhost:8080/",
          "height": 35
        },
        "outputId": "5a31c02f-1585-4abb-dfe0-12175e14f796"
      },
      "source": [
        "re.findall(pattern=r\"^PL\", string='PL code: 110')"
      ],
      "execution_count": 84,
      "outputs": [
        {
          "output_type": "execute_result",
          "data": {
            "text/plain": [
              "['PL']"
            ]
          },
          "metadata": {
            "tags": []
          },
          "execution_count": 84
        }
      ]
    },
    {
      "cell_type": "code",
      "metadata": {
        "id": "WZkMDtbOFYZZ",
        "colab_type": "code",
        "colab": {
          "base_uri": "https://localhost:8080/",
          "height": 35
        },
        "outputId": "b27d9883-b01d-4555-991f-419295c5e8d8"
      },
      "source": [
        "re.findall(pattern=r\"^PL\", string=' PL code: 110')"
      ],
      "execution_count": 85,
      "outputs": [
        {
          "output_type": "execute_result",
          "data": {
            "text/plain": [
              "[]"
            ]
          },
          "metadata": {
            "tags": []
          },
          "execution_count": 85
        }
      ]
    },
    {
      "cell_type": "markdown",
      "metadata": {
        "id": "LddJNFDMFehJ",
        "colab_type": "text"
      },
      "source": [
        "$ - koniec tekstu"
      ]
    },
    {
      "cell_type": "code",
      "metadata": {
        "id": "c9sf4FBVFb8O",
        "colab_type": "code",
        "outputId": "27c257e1-5a3b-464e-806b-431a3ff4c973",
        "colab": {
          "base_uri": "https://localhost:8080/",
          "height": 35
        }
      },
      "source": [
        "re.findall(pattern=r\"10$\", string=' PL code: 110')"
      ],
      "execution_count": 86,
      "outputs": [
        {
          "output_type": "execute_result",
          "data": {
            "text/plain": [
              "['10']"
            ]
          },
          "metadata": {
            "tags": []
          },
          "execution_count": 86
        }
      ]
    },
    {
      "cell_type": "code",
      "metadata": {
        "id": "JK7vYW0RFjHI",
        "colab_type": "code",
        "outputId": "31c178c6-75c2-483c-c180-eea9a2944251",
        "colab": {
          "base_uri": "https://localhost:8080/",
          "height": 35
        }
      },
      "source": [
        "re.findall(pattern=r\"\\d$\", string=' PL code: 110')"
      ],
      "execution_count": 91,
      "outputs": [
        {
          "output_type": "execute_result",
          "data": {
            "text/plain": [
              "['0']"
            ]
          },
          "metadata": {
            "tags": []
          },
          "execution_count": 91
        }
      ]
    },
    {
      "cell_type": "code",
      "metadata": {
        "id": "FNcDmvPfFpHb",
        "colab_type": "code",
        "colab": {
          "base_uri": "https://localhost:8080/",
          "height": 35
        },
        "outputId": "8812d3c4-e169-4b4f-f451-63f532b9d549"
      },
      "source": [
        "re.findall(pattern=r\"\\d+$\", string=' PL code: 110')"
      ],
      "execution_count": 92,
      "outputs": [
        {
          "output_type": "execute_result",
          "data": {
            "text/plain": [
              "['110']"
            ]
          },
          "metadata": {
            "tags": []
          },
          "execution_count": 92
        }
      ]
    },
    {
      "cell_type": "code",
      "metadata": {
        "id": "YNKZbFw6KzWs",
        "colab_type": "code",
        "colab": {}
      },
      "source": [
        ""
      ],
      "execution_count": 0,
      "outputs": []
    }
  ]
}