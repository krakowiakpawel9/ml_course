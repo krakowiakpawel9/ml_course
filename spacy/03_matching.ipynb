{
  "nbformat": 4,
  "nbformat_minor": 0,
  "metadata": {
    "colab": {
      "name": "01_preprocessing.ipynb",
      "provenance": [],
      "include_colab_link": true
    },
    "kernelspec": {
      "name": "python3",
      "display_name": "Python 3"
    }
  },
  "cells": [
    {
      "cell_type": "markdown",
      "metadata": {
        "id": "view-in-github",
        "colab_type": "text"
      },
      "source": [
        "<a href=\"https://colab.research.google.com/github/krakowiakpawel9/ml_course/blob/master/spacy/03_matching.ipynb\" target=\"_parent\"><img src=\"https://colab.research.google.com/assets/colab-badge.svg\" alt=\"Open In Colab\"/></a>"
      ]
    },
    {
      "cell_type": "markdown",
      "metadata": {
        "id": "UbjsT92Xd3z1",
        "colab_type": "text"
      },
      "source": [
        "* @author: krakowiakpawel9@gmail.com  \n",
        "* @site: e-smartdata.org\n",
        "\n",
        "### nltk\n",
        "Strona biblioteki: [https://www.nltk.org/](https://www.nltk.org/)  \n",
        "\n",
        "Podstawowa biblioteka do przetwarzania języka naturalnego w języku Python.\n",
        "\n",
        "Aby zainstalować bibliotekę nltk, użyj polecenia poniżej:\n",
        "```\n",
        "!pip install nltk\n",
        "```\n",
        "Aby zaktualizować do najnowszej wersji użyj polecenia poniżej:\n",
        "```\n",
        "!pip install --upgrade nltk\n",
        "```\n",
        "Kurs stworzony w oparciu o wersję `3.2.5`\n",
        "\n",
        "### Spis treści:\n",
        "1. [Import bibliotek](#0)\n",
        "2. [Wygenerowanie danych](#1)\n",
        "\n"
      ]
    },
    {
      "cell_type": "markdown",
      "metadata": {
        "id": "YkIALacsUnj7",
        "colab_type": "text"
      },
      "source": [
        "### <a name='0'></a> Import bibliotek"
      ]
    },
    {
      "cell_type": "code",
      "metadata": {
        "id": "TGlnq0bLYkaJ",
        "colab_type": "code",
        "colab": {}
      },
      "source": [
        "import spacy\n",
        "from spacy.matcher import Matcher"
      ],
      "execution_count": 0,
      "outputs": []
    },
    {
      "cell_type": "code",
      "metadata": {
        "id": "fVyz8VLFYl0f",
        "colab_type": "code",
        "colab": {}
      },
      "source": [
        "nlp = spacy.load('en')\n",
        "matcher = Matcher(nlp.vocab)"
      ],
      "execution_count": 0,
      "outputs": []
    },
    {
      "cell_type": "markdown",
      "metadata": {
        "id": "F9c70zg-Zka3",
        "colab_type": "text"
      },
      "source": [
        "Pattern"
      ]
    },
    {
      "cell_type": "code",
      "metadata": {
        "id": "uc-2H227YwNI",
        "colab_type": "code",
        "colab": {}
      },
      "source": [
        "pattern = [{'TEXT': 'iPhone'}, {'TEXT': 'X'}]\n",
        "matcher.add('IPHONE_PATTERN', None, pattern)"
      ],
      "execution_count": 0,
      "outputs": []
    },
    {
      "cell_type": "code",
      "metadata": {
        "id": "5-QJmAupY_qg",
        "colab_type": "code",
        "colab": {}
      },
      "source": [
        "doc = nlp('New iPhone X release date leaked')\n",
        "matches = matcher(doc)"
      ],
      "execution_count": 0,
      "outputs": []
    },
    {
      "cell_type": "code",
      "metadata": {
        "id": "oQI8zDvbZHTv",
        "colab_type": "code",
        "colab": {
          "base_uri": "https://localhost:8080/",
          "height": 34
        },
        "outputId": "895239c2-40da-4e7d-c055-653ed7fa153a"
      },
      "source": [
        "for match_id, start, end in matches:\n",
        "    matched_span = doc[start:end]\n",
        "    print(matched_span.text)"
      ],
      "execution_count": 5,
      "outputs": [
        {
          "output_type": "stream",
          "text": [
            "iPhone X\n"
          ],
          "name": "stdout"
        }
      ]
    },
    {
      "cell_type": "markdown",
      "metadata": {
        "id": "2ckXgMwLZlhU",
        "colab_type": "text"
      },
      "source": [
        "Pattern"
      ]
    },
    {
      "cell_type": "code",
      "metadata": {
        "id": "EH4NAGLqZbQa",
        "colab_type": "code",
        "colab": {}
      },
      "source": [
        "pattern = [\n",
        "    {'IS_DIGIT': True},\n",
        "    {'LOWER': 'fifa'},\n",
        "    {'LOWER': 'world'},\n",
        "    {'LOWER': 'cup'},\n",
        "    {'IS_PUNCT': True}\n",
        "]\n",
        "\n",
        "doc = nlp('2018 FIFA World Cup: France won!')"
      ],
      "execution_count": 0,
      "outputs": []
    },
    {
      "cell_type": "code",
      "metadata": {
        "id": "DCNqjlMDZ8mw",
        "colab_type": "code",
        "colab": {
          "base_uri": "https://localhost:8080/",
          "height": 34
        },
        "outputId": "cafce92b-6ed2-4de9-fa57-99056ede64dd"
      },
      "source": [
        "matcher.add('FIFA_PATTERN', None, pattern)\n",
        "matches = matcher(doc)\n",
        "\n",
        "for match_id, start, end in matches:\n",
        "    matched_span = doc[start:end]\n",
        "    print(matched_span.text)"
      ],
      "execution_count": 8,
      "outputs": [
        {
          "output_type": "stream",
          "text": [
            "2018 FIFA World Cup:\n"
          ],
          "name": "stdout"
        }
      ]
    },
    {
      "cell_type": "markdown",
      "metadata": {
        "id": "QIvEgGS5jhtJ",
        "colab_type": "text"
      },
      "source": [
        "Pattern"
      ]
    },
    {
      "cell_type": "code",
      "metadata": {
        "id": "Oel4LDsgZ_VO",
        "colab_type": "code",
        "colab": {
          "base_uri": "https://localhost:8080/",
          "height": 87
        },
        "outputId": "23c0642b-f14f-435c-dc81-f96df612008f"
      },
      "source": [
        "pattern = [\n",
        "    {'LEMMA': 'love', 'POS': 'VERB'},\n",
        "    {'POS': 'NOUN'}\n",
        "]\n",
        "\n",
        "doc = nlp('I loved dogs but now I love cats more.')\n",
        "\n",
        "matcher.add('PATTERN', None, pattern)\n",
        "matches = matcher(doc)\n",
        "\n",
        "for match_id, start, end in matches:\n",
        "    matched_span = doc[start:end]\n",
        "    print(matched_span.text)"
      ],
      "execution_count": 13,
      "outputs": [
        {
          "output_type": "stream",
          "text": [
            "loved\n",
            "loved dogs\n",
            "love\n",
            "love cats\n"
          ],
          "name": "stdout"
        }
      ]
    },
    {
      "cell_type": "markdown",
      "metadata": {
        "id": "kf_Iqm9EkVOh",
        "colab_type": "text"
      },
      "source": [
        "Pattern"
      ]
    },
    {
      "cell_type": "code",
      "metadata": {
        "id": "022UZvJcj9np",
        "colab_type": "code",
        "colab": {
          "base_uri": "https://localhost:8080/",
          "height": 52
        },
        "outputId": "759efd4d-841c-4de3-98b4-98299e21182a"
      },
      "source": [
        "pattern = [\n",
        "    {'LEMMA': 'buy'},\n",
        "    {'POS': 'DET', 'OP': '?'}, # optional: dopasowuje 0 lub 1 raz\n",
        "    {'POS': 'NOUN'}\n",
        "]\n",
        "\n",
        "doc = nlp('I bought a smartphone. Now I\\'m buying apps.')\n",
        "\n",
        "matcher.add('OP_PATTERN', None, pattern)\n",
        "matches = matcher(doc)\n",
        "\n",
        "for match_id, start, end in matches:\n",
        "    matched_span = doc[start:end]\n",
        "    print(matched_span.text)"
      ],
      "execution_count": 14,
      "outputs": [
        {
          "output_type": "stream",
          "text": [
            "bought a smartphone\n",
            "buying apps\n"
          ],
          "name": "stdout"
        }
      ]
    },
    {
      "cell_type": "code",
      "metadata": {
        "id": "7-3UA-Z1k4cx",
        "colab_type": "code",
        "colab": {}
      },
      "source": [
        "# {'OP': '!'} - negacja, dopasowuje 0 razy\n",
        "# {'OP': '?'} - dopasowuje 0 lub 1 raz\n",
        "# {'OP': '+'} - dopasowuje 1 lub więcej razy\n",
        "# {'OP': '*'} - dopasowuje 0 lub więcej razy"
      ],
      "execution_count": 0,
      "outputs": []
    },
    {
      "cell_type": "code",
      "metadata": {
        "id": "92DFw5SNlZMq",
        "colab_type": "code",
        "colab": {}
      },
      "source": [
        ""
      ],
      "execution_count": 0,
      "outputs": []
    }
  ]
}