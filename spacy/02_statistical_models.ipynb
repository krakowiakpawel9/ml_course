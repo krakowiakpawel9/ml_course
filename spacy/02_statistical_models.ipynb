{
  "nbformat": 4,
  "nbformat_minor": 0,
  "metadata": {
    "colab": {
      "name": "01_preprocessing.ipynb",
      "provenance": [],
      "include_colab_link": true
    },
    "kernelspec": {
      "name": "python3",
      "display_name": "Python 3"
    }
  },
  "cells": [
    {
      "cell_type": "markdown",
      "metadata": {
        "id": "view-in-github",
        "colab_type": "text"
      },
      "source": [
        "<a href=\"https://colab.research.google.com/github/krakowiakpawel9/ml_course/blob/master/spacy/02_statistical_models.ipynb\" target=\"_parent\"><img src=\"https://colab.research.google.com/assets/colab-badge.svg\" alt=\"Open In Colab\"/></a>"
      ]
    },
    {
      "cell_type": "markdown",
      "metadata": {
        "id": "UbjsT92Xd3z1",
        "colab_type": "text"
      },
      "source": [
        "* @author: krakowiakpawel9@gmail.com  \n",
        "* @site: e-smartdata.org\n",
        "\n",
        "### nltk\n",
        "Strona biblioteki: [https://www.nltk.org/](https://www.nltk.org/)  \n",
        "\n",
        "Podstawowa biblioteka do przetwarzania języka naturalnego w języku Python.\n",
        "\n",
        "Aby zainstalować bibliotekę nltk, użyj polecenia poniżej:\n",
        "```\n",
        "!pip install nltk\n",
        "```\n",
        "Aby zaktualizować do najnowszej wersji użyj polecenia poniżej:\n",
        "```\n",
        "!pip install --upgrade nltk\n",
        "```\n",
        "Kurs stworzony w oparciu o wersję `3.2.5`\n",
        "\n",
        "### Spis treści:\n",
        "1. [Import bibliotek](#0)\n",
        "2. [Wygenerowanie danych](#1)\n",
        "\n"
      ]
    },
    {
      "cell_type": "markdown",
      "metadata": {
        "id": "YkIALacsUnj7",
        "colab_type": "text"
      },
      "source": [
        "### <a name='0'></a> Import bibliotek"
      ]
    },
    {
      "cell_type": "code",
      "metadata": {
        "id": "-SxDvgfSTc2q",
        "colab_type": "code",
        "colab": {}
      },
      "source": [
        "import spacy"
      ],
      "execution_count": 0,
      "outputs": []
    },
    {
      "cell_type": "code",
      "metadata": {
        "id": "2r0wmmIrTfp9",
        "colab_type": "code",
        "colab": {
          "base_uri": "https://localhost:8080/",
          "height": 34
        },
        "outputId": "241eff92-913a-4a17-8568-374885875c10"
      },
      "source": [
        "nlp = spacy.load('en')\n",
        "\n",
        "doc = nlp('He ate the pizza')\n",
        "doc"
      ],
      "execution_count": 13,
      "outputs": [
        {
          "output_type": "execute_result",
          "data": {
            "text/plain": [
              "He ate the pizza"
            ]
          },
          "metadata": {
            "tags": []
          },
          "execution_count": 13
        }
      ]
    },
    {
      "cell_type": "markdown",
      "metadata": {
        "id": "C-WOXFh4Vnx_",
        "colab_type": "text"
      },
      "source": [
        "Part of speech"
      ]
    },
    {
      "cell_type": "code",
      "metadata": {
        "id": "lLn9YH--VkBT",
        "colab_type": "code",
        "colab": {
          "base_uri": "https://localhost:8080/",
          "height": 87
        },
        "outputId": "daaab135-f8c3-4bae-a0aa-aaad2f031c55"
      },
      "source": [
        "for token in doc:\n",
        "    print(f'{token.text.ljust(6)}: {token.pos_}')"
      ],
      "execution_count": 14,
      "outputs": [
        {
          "output_type": "stream",
          "text": [
            "He    : PRON\n",
            "ate   : VERB\n",
            "the   : DET\n",
            "pizza : NOUN\n"
          ],
          "name": "stdout"
        }
      ]
    },
    {
      "cell_type": "markdown",
      "metadata": {
        "id": "ZoK8PXWXVqAQ",
        "colab_type": "text"
      },
      "source": [
        "Zależności składniowe"
      ]
    },
    {
      "cell_type": "code",
      "metadata": {
        "id": "gML5YBsLTi0S",
        "colab_type": "code",
        "colab": {
          "base_uri": "https://localhost:8080/",
          "height": 87
        },
        "outputId": "da191404-9bc9-4a5e-baef-6815a5067236"
      },
      "source": [
        "for token in doc:\n",
        "    print(f'{token.text.ljust(6)}: {token.pos_.ljust(5)}: {token.dep_.ljust(6)}: {token.head.text}')"
      ],
      "execution_count": 15,
      "outputs": [
        {
          "output_type": "stream",
          "text": [
            "He    : PRON : nsubj : ate\n",
            "ate   : VERB : ROOT  : ate\n",
            "the   : DET  : det   : pizza\n",
            "pizza : NOUN : dobj  : ate\n"
          ],
          "name": "stdout"
        }
      ]
    },
    {
      "cell_type": "code",
      "metadata": {
        "id": "BDwJbGsAWaah",
        "colab_type": "code",
        "colab": {
          "base_uri": "https://localhost:8080/",
          "height": 34
        },
        "outputId": "8345c604-d5d7-4496-e486-1c34b6504893"
      },
      "source": [
        "spacy.explain('nsubj')"
      ],
      "execution_count": 26,
      "outputs": [
        {
          "output_type": "execute_result",
          "data": {
            "text/plain": [
              "'nominal subject'"
            ]
          },
          "metadata": {
            "tags": []
          },
          "execution_count": 26
        }
      ]
    },
    {
      "cell_type": "code",
      "metadata": {
        "id": "fWhv4E3pWcUN",
        "colab_type": "code",
        "colab": {
          "base_uri": "https://localhost:8080/",
          "height": 34
        },
        "outputId": "d5398312-a30d-449b-b13f-ff618511a4d4"
      },
      "source": [
        "spacy.explain('det')"
      ],
      "execution_count": 28,
      "outputs": [
        {
          "output_type": "execute_result",
          "data": {
            "text/plain": [
              "'determiner'"
            ]
          },
          "metadata": {
            "tags": []
          },
          "execution_count": 28
        }
      ]
    },
    {
      "cell_type": "code",
      "metadata": {
        "id": "6ayEaY29WgU3",
        "colab_type": "code",
        "colab": {
          "base_uri": "https://localhost:8080/",
          "height": 34
        },
        "outputId": "cc242a39-2f6a-4cef-fcbd-ea6953f56476"
      },
      "source": [
        "spacy.explain('dobj')"
      ],
      "execution_count": 29,
      "outputs": [
        {
          "output_type": "execute_result",
          "data": {
            "text/plain": [
              "'direct object'"
            ]
          },
          "metadata": {
            "tags": []
          },
          "execution_count": 29
        }
      ]
    },
    {
      "cell_type": "markdown",
      "metadata": {
        "id": "0aayVeFEVzhH",
        "colab_type": "text"
      },
      "source": [
        "Names Entities"
      ]
    },
    {
      "cell_type": "code",
      "metadata": {
        "id": "EfBejznYT_Ij",
        "colab_type": "code",
        "colab": {
          "base_uri": "https://localhost:8080/",
          "height": 70
        },
        "outputId": "745ca145-6e6c-4eb6-a1ef-a04a8fc85687"
      },
      "source": [
        "doc = nlp('Apple is looking at buying U.K. startup for $1 billion')\n",
        "\n",
        "for entity in doc.ents:\n",
        "    print(f'{entity.text.ljust(11)}: {entity.label_}')"
      ],
      "execution_count": 22,
      "outputs": [
        {
          "output_type": "stream",
          "text": [
            "Apple      : ORG\n",
            "U.K.       : GPE\n",
            "$1 billion : MONEY\n"
          ],
          "name": "stdout"
        }
      ]
    },
    {
      "cell_type": "code",
      "metadata": {
        "id": "xgwOO3DYWBrO",
        "colab_type": "code",
        "colab": {
          "base_uri": "https://localhost:8080/",
          "height": 34
        },
        "outputId": "574616c6-a8d0-40c4-c3cd-4a777628643b"
      },
      "source": [
        "spacy.explain('GPE')"
      ],
      "execution_count": 23,
      "outputs": [
        {
          "output_type": "execute_result",
          "data": {
            "text/plain": [
              "'Countries, cities, states'"
            ]
          },
          "metadata": {
            "tags": []
          },
          "execution_count": 23
        }
      ]
    },
    {
      "cell_type": "code",
      "metadata": {
        "id": "APP4v08-WTLW",
        "colab_type": "code",
        "colab": {
          "base_uri": "https://localhost:8080/",
          "height": 34
        },
        "outputId": "c51d1f2e-5a87-4cd2-8c82-82bdd60220e1"
      },
      "source": [
        "spacy.explain('ORG')"
      ],
      "execution_count": 24,
      "outputs": [
        {
          "output_type": "execute_result",
          "data": {
            "text/plain": [
              "'Companies, agencies, institutions, etc.'"
            ]
          },
          "metadata": {
            "tags": []
          },
          "execution_count": 24
        }
      ]
    },
    {
      "cell_type": "code",
      "metadata": {
        "id": "X3M-aLmBWVdc",
        "colab_type": "code",
        "colab": {
          "base_uri": "https://localhost:8080/",
          "height": 34
        },
        "outputId": "7f9bc326-9516-46b7-cda6-2dbc600b2a99"
      },
      "source": [
        "spacy.explain('MONEY')"
      ],
      "execution_count": 25,
      "outputs": [
        {
          "output_type": "execute_result",
          "data": {
            "text/plain": [
              "'Monetary values, including unit'"
            ]
          },
          "metadata": {
            "tags": []
          },
          "execution_count": 25
        }
      ]
    },
    {
      "cell_type": "code",
      "metadata": {
        "id": "1i4NJnPmWX6F",
        "colab_type": "code",
        "colab": {}
      },
      "source": [
        ""
      ],
      "execution_count": 0,
      "outputs": []
    }
  ]
}