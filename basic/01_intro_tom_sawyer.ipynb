{
  "nbformat": 4,
  "nbformat_minor": 0,
  "metadata": {
    "colab": {
      "name": "01_preprocessing.ipynb",
      "provenance": [],
      "include_colab_link": true
    },
    "kernelspec": {
      "name": "python3",
      "display_name": "Python 3"
    }
  },
  "cells": [
    {
      "cell_type": "markdown",
      "metadata": {
        "id": "view-in-github",
        "colab_type": "text"
      },
      "source": [
        "<a href=\"https://colab.research.google.com/github/krakowiakpawel9/ml_course/blob/master/basic/01_intro_tom_sawyer.ipynb\" target=\"_parent\"><img src=\"https://colab.research.google.com/assets/colab-badge.svg\" alt=\"Open In Colab\"/></a>"
      ]
    },
    {
      "cell_type": "markdown",
      "metadata": {
        "id": "UbjsT92Xd3z1",
        "colab_type": "text"
      },
      "source": [
        "* @author: krakowiakpawel9@gmail.com  \n",
        "* @site: e-smartdata.org\n",
        "\n",
        "### nltk\n",
        "Strona biblioteki: [https://www.nltk.org/](https://www.nltk.org/)  \n",
        "\n",
        "Podstawowa biblioteka do przetwarzania języka naturalnego w języku Python.\n",
        "\n",
        "Aby zainstalować bibliotekę nltk, użyj polecenia poniżej:\n",
        "```\n",
        "!pip install nltk\n",
        "```\n",
        "Aby zaktualizować do najnowszej wersji użyj polecenia poniżej:\n",
        "```\n",
        "!pip install --upgrade nltk\n",
        "```\n",
        "Kurs stworzony w oparciu o wersję `3.2.5`\n",
        "\n",
        "### Spis treści:\n",
        "1. [Import bibliotek](#0)\n",
        "2. [Wygenerowanie danych](#1)\n",
        "\n"
      ]
    },
    {
      "cell_type": "markdown",
      "metadata": {
        "id": "EyCwJ3073MMK",
        "colab_type": "text"
      },
      "source": [
        "NLP nie jest łatwe - przykłady"
      ]
    },
    {
      "cell_type": "markdown",
      "metadata": {
        "id": "YkIALacsUnj7",
        "colab_type": "text"
      },
      "source": [
        "### <a name='0'></a> Import bibliotek"
      ]
    },
    {
      "cell_type": "code",
      "metadata": {
        "id": "XSST7ZtmyAK5",
        "colab_type": "code",
        "colab": {
          "base_uri": "https://localhost:8080/",
          "height": 217
        },
        "outputId": "07ecfeaf-d4b5-44a5-a245-d13e2b7ffd63"
      },
      "source": [
        "!wget http://www.gutenberg.org/files/74/74-0.txt\n",
        "!mv 74-0.txt tom-sawyer.txt"
      ],
      "execution_count": 1,
      "outputs": [
        {
          "output_type": "stream",
          "text": [
            "--2020-02-27 13:53:54--  http://www.gutenberg.org/files/74/74-0.txt\n",
            "Resolving www.gutenberg.org (www.gutenberg.org)... 152.19.134.47, 2610:28:3090:3000:0:bad:cafe:47\n",
            "Connecting to www.gutenberg.org (www.gutenberg.org)|152.19.134.47|:80... connected.\n",
            "HTTP request sent, awaiting response... 200 OK\n",
            "Length: 428104 (418K) [text/plain]\n",
            "Saving to: ‘74-0.txt’\n",
            "\n",
            "\r74-0.txt              0%[                    ]       0  --.-KB/s               \r74-0.txt             75%[==============>     ] 316.86K  1.41MB/s               \r74-0.txt            100%[===================>] 418.07K  1.69MB/s    in 0.2s    \n",
            "\n",
            "2020-02-27 13:53:55 (1.69 MB/s) - ‘74-0.txt’ saved [428104/428104]\n",
            "\n"
          ],
          "name": "stdout"
        }
      ]
    },
    {
      "cell_type": "code",
      "metadata": {
        "id": "MVYrOtvh4qwa",
        "colab_type": "code",
        "colab": {}
      },
      "source": [
        "open?"
      ],
      "execution_count": 0,
      "outputs": []
    },
    {
      "cell_type": "code",
      "metadata": {
        "id": "P0JAZtpUyBAW",
        "colab_type": "code",
        "colab": {}
      },
      "source": [
        "with open('tom-sawyer.txt', encoding='utf-8') as file:\n",
        "    text = file.read()"
      ],
      "execution_count": 0,
      "outputs": []
    },
    {
      "cell_type": "code",
      "metadata": {
        "id": "1nRKLqVOyfGb",
        "colab_type": "code",
        "colab": {
          "base_uri": "https://localhost:8080/",
          "height": 35
        },
        "outputId": "fd03a010-43e0-48c6-e98b-2896bde372b9"
      },
      "source": [
        "len(text)"
      ],
      "execution_count": 4,
      "outputs": [
        {
          "output_type": "execute_result",
          "data": {
            "text/plain": [
              "412717"
            ]
          },
          "metadata": {
            "tags": []
          },
          "execution_count": 4
        }
      ]
    },
    {
      "cell_type": "code",
      "metadata": {
        "id": "0VCnbSdiymkR",
        "colab_type": "code",
        "colab": {
          "base_uri": "https://localhost:8080/",
          "height": 35
        },
        "outputId": "4b2a6503-70a1-4a69-da5f-096ed0074e70"
      },
      "source": [
        "text[:150]"
      ],
      "execution_count": 5,
      "outputs": [
        {
          "output_type": "execute_result",
          "data": {
            "text/plain": [
              "'\\ufeff\\nThe Project Gutenberg EBook of The Adventures of Tom Sawyer, Complete by\\nMark Twain (Samuel Clemens)\\n\\nThis eBook is for the use of anyone anywhere a'"
            ]
          },
          "metadata": {
            "tags": []
          },
          "execution_count": 5
        }
      ]
    },
    {
      "cell_type": "code",
      "metadata": {
        "id": "oyDoL73kzFjL",
        "colab_type": "code",
        "colab": {
          "base_uri": "https://localhost:8080/",
          "height": 35
        },
        "outputId": "7c2d53db-f166-4db3-a4cc-2bd98842f3fd"
      },
      "source": [
        "text[-150:]"
      ],
      "execution_count": 6,
      "outputs": [
        {
          "output_type": "execute_result",
          "data": {
            "text/plain": [
              "'t Gutenberg Literary Archive\\nFoundation, how to help produce our new eBooks, and how to subscribe to\\nour email newsletter to hear about new eBooks.\\n\\n\\n'"
            ]
          },
          "metadata": {
            "tags": []
          },
          "execution_count": 6
        }
      ]
    },
    {
      "cell_type": "code",
      "metadata": {
        "id": "BKvox14V0Bya",
        "colab_type": "code",
        "colab": {
          "base_uri": "https://localhost:8080/",
          "height": 35
        },
        "outputId": "9371b3a2-19da-42c7-9581-6c1f3d9abeb8"
      },
      "source": [
        "splitted_text = text.splitlines()\n",
        "len(splitted_text)"
      ],
      "execution_count": 7,
      "outputs": [
        {
          "output_type": "execute_result",
          "data": {
            "text/plain": [
              "9209"
            ]
          },
          "metadata": {
            "tags": []
          },
          "execution_count": 7
        }
      ]
    },
    {
      "cell_type": "code",
      "metadata": {
        "id": "g8IjhstQ0jJs",
        "colab_type": "code",
        "colab": {
          "base_uri": "https://localhost:8080/",
          "height": 199
        },
        "outputId": "ca7af1a4-780b-491a-c2b9-18de2a7be4e6"
      },
      "source": [
        "splitted_text[:10]"
      ],
      "execution_count": 8,
      "outputs": [
        {
          "output_type": "execute_result",
          "data": {
            "text/plain": [
              "['\\ufeff',\n",
              " 'The Project Gutenberg EBook of The Adventures of Tom Sawyer, Complete by',\n",
              " 'Mark Twain (Samuel Clemens)',\n",
              " '',\n",
              " 'This eBook is for the use of anyone anywhere at no cost and with almost',\n",
              " 'no restrictions whatsoever. You may copy it, give it away or re-use',\n",
              " 'it under the terms of the Project Gutenberg License included with this',\n",
              " 'eBook or online at www.gutenberg.net',\n",
              " '',\n",
              " 'Title: The Adventures of Tom Sawyer, Complete']"
            ]
          },
          "metadata": {
            "tags": []
          },
          "execution_count": 8
        }
      ]
    },
    {
      "cell_type": "code",
      "metadata": {
        "id": "FjpHzY3p0M_W",
        "colab_type": "code",
        "colab": {
          "base_uri": "https://localhost:8080/",
          "height": 199
        },
        "outputId": "a941a356-dda6-4159-ccd4-e761c1a596b1"
      },
      "source": [
        "splitted_text[-10:]"
      ],
      "execution_count": 9,
      "outputs": [
        {
          "output_type": "execute_result",
          "data": {
            "text/plain": [
              "['Most people start at our Web site which has the main PG search facility:',\n",
              " '',\n",
              " 'http://www.gutenberg.net',\n",
              " '',\n",
              " 'This Web site includes information about Project Gutenberg-tm, including',\n",
              " 'how to make donations to the Project Gutenberg Literary Archive',\n",
              " 'Foundation, how to help produce our new eBooks, and how to subscribe to',\n",
              " 'our email newsletter to hear about new eBooks.',\n",
              " '',\n",
              " '']"
            ]
          },
          "metadata": {
            "tags": []
          },
          "execution_count": 9
        }
      ]
    },
    {
      "cell_type": "code",
      "metadata": {
        "id": "0z4F7eSLzKnO",
        "colab_type": "code",
        "colab": {
          "base_uri": "https://localhost:8080/",
          "height": 35
        },
        "outputId": "99ace7f1-1b99-4539-8482-779d57f8fffc"
      },
      "source": [
        "filtered_text = [line for line in splitted_text if len(line) > 0]\n",
        "len(filtered_text)"
      ],
      "execution_count": 10,
      "outputs": [
        {
          "output_type": "execute_result",
          "data": {
            "text/plain": [
              "6927"
            ]
          },
          "metadata": {
            "tags": []
          },
          "execution_count": 10
        }
      ]
    },
    {
      "cell_type": "code",
      "metadata": {
        "id": "9LyjnUaFzkYP",
        "colab_type": "code",
        "colab": {
          "base_uri": "https://localhost:8080/",
          "height": 199
        },
        "outputId": "79edf80c-aff8-41ba-c428-e26b9baa15eb"
      },
      "source": [
        "filtered_text[:10]"
      ],
      "execution_count": 11,
      "outputs": [
        {
          "output_type": "execute_result",
          "data": {
            "text/plain": [
              "['\\ufeff',\n",
              " 'The Project Gutenberg EBook of The Adventures of Tom Sawyer, Complete by',\n",
              " 'Mark Twain (Samuel Clemens)',\n",
              " 'This eBook is for the use of anyone anywhere at no cost and with almost',\n",
              " 'no restrictions whatsoever. You may copy it, give it away or re-use',\n",
              " 'it under the terms of the Project Gutenberg License included with this',\n",
              " 'eBook or online at www.gutenberg.net',\n",
              " 'Title: The Adventures of Tom Sawyer, Complete',\n",
              " 'Author: Mark Twain (Samuel Clemens)',\n",
              " 'Release Date: August 20, 2006 [EBook #74]']"
            ]
          },
          "metadata": {
            "tags": []
          },
          "execution_count": 11
        }
      ]
    },
    {
      "cell_type": "code",
      "metadata": {
        "id": "pq9ILO3Pzn6E",
        "colab_type": "code",
        "colab": {
          "base_uri": "https://localhost:8080/",
          "height": 199
        },
        "outputId": "514ac012-8808-4bd0-ad0d-ee91dc3c13d4"
      },
      "source": [
        "filtered_text[-10:]"
      ],
      "execution_count": 12,
      "outputs": [
        {
          "output_type": "execute_result",
          "data": {
            "text/plain": [
              "['Project Gutenberg-tm eBooks are often created from several printed',\n",
              " 'editions, all of which are confirmed as Public Domain in the U.S. unless',\n",
              " 'a copyright notice is included. Thus, we do not necessarily keep eBooks',\n",
              " 'in compliance with any particular paper edition.',\n",
              " 'Most people start at our Web site which has the main PG search facility:',\n",
              " 'http://www.gutenberg.net',\n",
              " 'This Web site includes information about Project Gutenberg-tm, including',\n",
              " 'how to make donations to the Project Gutenberg Literary Archive',\n",
              " 'Foundation, how to help produce our new eBooks, and how to subscribe to',\n",
              " 'our email newsletter to hear about new eBooks.']"
            ]
          },
          "metadata": {
            "tags": []
          },
          "execution_count": 12
        }
      ]
    },
    {
      "cell_type": "code",
      "metadata": {
        "id": "72VOpFDzzsQj",
        "colab_type": "code",
        "colab": {
          "base_uri": "https://localhost:8080/",
          "height": 35
        },
        "outputId": "827088d2-3bfe-4a9e-b9dd-1d5ac1f3b195"
      },
      "source": [
        "splitted_lines = [line.split() for line in filtered_text]\n",
        "print(splitted_lines[:3])"
      ],
      "execution_count": 13,
      "outputs": [
        {
          "output_type": "stream",
          "text": [
            "[['\\ufeff'], ['The', 'Project', 'Gutenberg', 'EBook', 'of', 'The', 'Adventures', 'of', 'Tom', 'Sawyer,', 'Complete', 'by'], ['Mark', 'Twain', '(Samuel', 'Clemens)']]\n"
          ],
          "name": "stdout"
        }
      ]
    },
    {
      "cell_type": "code",
      "metadata": {
        "id": "xZc2gnBN1EDB",
        "colab_type": "code",
        "colab": {
          "base_uri": "https://localhost:8080/",
          "height": 199
        },
        "outputId": "d3b8d668-9cb9-4ca2-88bd-5f5f18263bfd"
      },
      "source": [
        "for splitted_line in splitted_lines[:10]:\n",
        "    print(splitted_line)"
      ],
      "execution_count": 14,
      "outputs": [
        {
          "output_type": "stream",
          "text": [
            "['\\ufeff']\n",
            "['The', 'Project', 'Gutenberg', 'EBook', 'of', 'The', 'Adventures', 'of', 'Tom', 'Sawyer,', 'Complete', 'by']\n",
            "['Mark', 'Twain', '(Samuel', 'Clemens)']\n",
            "['This', 'eBook', 'is', 'for', 'the', 'use', 'of', 'anyone', 'anywhere', 'at', 'no', 'cost', 'and', 'with', 'almost']\n",
            "['no', 'restrictions', 'whatsoever.', 'You', 'may', 'copy', 'it,', 'give', 'it', 'away', 'or', 're-use']\n",
            "['it', 'under', 'the', 'terms', 'of', 'the', 'Project', 'Gutenberg', 'License', 'included', 'with', 'this']\n",
            "['eBook', 'or', 'online', 'at', 'www.gutenberg.net']\n",
            "['Title:', 'The', 'Adventures', 'of', 'Tom', 'Sawyer,', 'Complete']\n",
            "['Author:', 'Mark', 'Twain', '(Samuel', 'Clemens)']\n",
            "['Release', 'Date:', 'August', '20,', '2006', '[EBook', '#74]']\n"
          ],
          "name": "stdout"
        }
      ]
    },
    {
      "cell_type": "code",
      "metadata": {
        "id": "TT5NRwGA1eK2",
        "colab_type": "code",
        "colab": {
          "base_uri": "https://localhost:8080/",
          "height": 35
        },
        "outputId": "5ca16e8c-bc0c-418f-e8cd-7904e3ec0bc1"
      },
      "source": [
        "raw_text = ' '.join(text.split('\\n'))\n",
        "sentences = raw_text.split('.')\n",
        "len(sentences)"
      ],
      "execution_count": 15,
      "outputs": [
        {
          "output_type": "execute_result",
          "data": {
            "text/plain": [
              "4141"
            ]
          },
          "metadata": {
            "tags": []
          },
          "execution_count": 15
        }
      ]
    },
    {
      "cell_type": "code",
      "metadata": {
        "id": "0Jb74yc410hr",
        "colab_type": "code",
        "colab": {
          "base_uri": "https://localhost:8080/",
          "height": 219
        },
        "outputId": "75ca08e0-c2c7-4150-f521-41cebd0af4ec"
      },
      "source": [
        "sentences[:10]"
      ],
      "execution_count": 16,
      "outputs": [
        {
          "output_type": "execute_result",
          "data": {
            "text/plain": [
              "['\\ufeff The Project Gutenberg EBook of The Adventures of Tom Sawyer, Complete by Mark Twain (Samuel Clemens)  This eBook is for the use of anyone anywhere at no cost and with almost no restrictions whatsoever',\n",
              " ' You may copy it, give it away or re-use it under the terms of the Project Gutenberg License included with this eBook or online at www',\n",
              " 'gutenberg',\n",
              " 'net  Title: The Adventures of Tom Sawyer, Complete  Author: Mark Twain (Samuel Clemens)  Release Date: August 20, 2006 [EBook #74] Last Updated: February 23, 2018  Language: English  Character set encoding: UTF-8  *** START OF THIS PROJECT GUTENBERG EBOOK TOM SAWYER ***  Produced by David Widger      THE ADVENTURES OF TOM SAWYER  By Mark Twain  (Samuel Langhorne Clemens)     CONTENTS  CHAPTER I',\n",
              " ' Y-o-u-u Tom-Aunt Polly Decides Upon her Duty--Tom Practices Music--The Challenge--A Private Entrance  CHAPTER II',\n",
              " ' Strong Temptations--Strategic Movements--The Innocents Beguiled  CHAPTER III',\n",
              " ' Tom as a General--Triumph and Reward--Dismal Felicity--Commission and Omission  CHAPTER IV',\n",
              " ' Mental Acrobatics--Attending Sunday--School--The Superintendent--“Showing off”--Tom Lionized  CHAPTER V',\n",
              " ' A Useful Minister--In Church--The Climax  CHAPTER VI',\n",
              " ' Self-Examination--Dentistry--The Midnight Charm--Witches and Devils--Cautious Approaches--Happy Hours  CHAPTER VII']"
            ]
          },
          "metadata": {
            "tags": []
          },
          "execution_count": 16
        }
      ]
    },
    {
      "cell_type": "code",
      "metadata": {
        "id": "8fkHI29O3Cvq",
        "colab_type": "code",
        "colab": {
          "base_uri": "https://localhost:8080/",
          "height": 219
        },
        "outputId": "d94b9aaa-9d77-43ef-cbe4-075229fca499"
      },
      "source": [
        "sentences[-10:]"
      ],
      "execution_count": 17,
      "outputs": [
        {
          "output_type": "execute_result",
          "data": {
            "text/plain": [
              "[' Hart is the originator of the Project Gutenberg-tm concept of a library of electronic works that could be freely shared with anyone',\n",
              " ' For thirty years, he produced and distributed Project Gutenberg-tm eBooks with only a loose network of volunteer support',\n",
              " '  Project Gutenberg-tm eBooks are often created from several printed editions, all of which are confirmed as Public Domain in the U',\n",
              " 'S',\n",
              " ' unless a copyright notice is included',\n",
              " ' Thus, we do not necessarily keep eBooks in compliance with any particular paper edition',\n",
              " '  Most people start at our Web site which has the main PG search facility:  http://www',\n",
              " 'gutenberg',\n",
              " 'net  This Web site includes information about Project Gutenberg-tm, including how to make donations to the Project Gutenberg Literary Archive Foundation, how to help produce our new eBooks, and how to subscribe to our email newsletter to hear about new eBooks',\n",
              " '   ']"
            ]
          },
          "metadata": {
            "tags": []
          },
          "execution_count": 17
        }
      ]
    },
    {
      "cell_type": "code",
      "metadata": {
        "id": "spdonfoa3F7K",
        "colab_type": "code",
        "colab": {
          "base_uri": "https://localhost:8080/",
          "height": 219
        },
        "outputId": "09f741cf-97b6-41e9-df27-cf02add404d0"
      },
      "source": [
        "sentences = [sentence.strip() for sentence in sentences]\n",
        "sentences[:10]"
      ],
      "execution_count": 18,
      "outputs": [
        {
          "output_type": "execute_result",
          "data": {
            "text/plain": [
              "['\\ufeff The Project Gutenberg EBook of The Adventures of Tom Sawyer, Complete by Mark Twain (Samuel Clemens)  This eBook is for the use of anyone anywhere at no cost and with almost no restrictions whatsoever',\n",
              " 'You may copy it, give it away or re-use it under the terms of the Project Gutenberg License included with this eBook or online at www',\n",
              " 'gutenberg',\n",
              " 'net  Title: The Adventures of Tom Sawyer, Complete  Author: Mark Twain (Samuel Clemens)  Release Date: August 20, 2006 [EBook #74] Last Updated: February 23, 2018  Language: English  Character set encoding: UTF-8  *** START OF THIS PROJECT GUTENBERG EBOOK TOM SAWYER ***  Produced by David Widger      THE ADVENTURES OF TOM SAWYER  By Mark Twain  (Samuel Langhorne Clemens)     CONTENTS  CHAPTER I',\n",
              " 'Y-o-u-u Tom-Aunt Polly Decides Upon her Duty--Tom Practices Music--The Challenge--A Private Entrance  CHAPTER II',\n",
              " 'Strong Temptations--Strategic Movements--The Innocents Beguiled  CHAPTER III',\n",
              " 'Tom as a General--Triumph and Reward--Dismal Felicity--Commission and Omission  CHAPTER IV',\n",
              " 'Mental Acrobatics--Attending Sunday--School--The Superintendent--“Showing off”--Tom Lionized  CHAPTER V',\n",
              " 'A Useful Minister--In Church--The Climax  CHAPTER VI',\n",
              " 'Self-Examination--Dentistry--The Midnight Charm--Witches and Devils--Cautious Approaches--Happy Hours  CHAPTER VII']"
            ]
          },
          "metadata": {
            "tags": []
          },
          "execution_count": 18
        }
      ]
    },
    {
      "cell_type": "code",
      "metadata": {
        "id": "RGx6cQYR3Xgi",
        "colab_type": "code",
        "colab": {
          "base_uri": "https://localhost:8080/",
          "height": 219
        },
        "outputId": "31f9179e-850f-4927-86c0-d8eb8250ee17"
      },
      "source": [
        "sentences[-10:]"
      ],
      "execution_count": 19,
      "outputs": [
        {
          "output_type": "execute_result",
          "data": {
            "text/plain": [
              "['Hart is the originator of the Project Gutenberg-tm concept of a library of electronic works that could be freely shared with anyone',\n",
              " 'For thirty years, he produced and distributed Project Gutenberg-tm eBooks with only a loose network of volunteer support',\n",
              " 'Project Gutenberg-tm eBooks are often created from several printed editions, all of which are confirmed as Public Domain in the U',\n",
              " 'S',\n",
              " 'unless a copyright notice is included',\n",
              " 'Thus, we do not necessarily keep eBooks in compliance with any particular paper edition',\n",
              " 'Most people start at our Web site which has the main PG search facility:  http://www',\n",
              " 'gutenberg',\n",
              " 'net  This Web site includes information about Project Gutenberg-tm, including how to make donations to the Project Gutenberg Literary Archive Foundation, how to help produce our new eBooks, and how to subscribe to our email newsletter to hear about new eBooks',\n",
              " '']"
            ]
          },
          "metadata": {
            "tags": []
          },
          "execution_count": 19
        }
      ]
    },
    {
      "cell_type": "code",
      "metadata": {
        "id": "DDVPzHZj3bIo",
        "colab_type": "code",
        "colab": {
          "base_uri": "https://localhost:8080/",
          "height": 401
        },
        "outputId": "d3e7160f-604a-45e4-ed7a-0167cb49228f"
      },
      "source": [
        "for sentence in sentences[1000:1020]:\n",
        "    print(sentence)"
      ],
      "execution_count": 20,
      "outputs": [
        {
          "output_type": "stream",
          "text": [
            "But it occurred to him that he might as well have the marble he had just thrown away, and therefore he went and made a patient search for it\n",
            "But he could not find it\n",
            "Now he went back to his treasure-house and carefully placed himself just as he had been standing when he tossed the marble away; then he took another marble from his pocket and tossed it in the same way, saying:  “Brother, go find your brother!”  He watched where it stopped, and went there and looked\n",
            "But it must have fallen short or gone too far; so he tried twice more\n",
            "The last repetition was successful\n",
            "The two marbles lay within a foot of each other\n",
            "Just here the blast of a toy tin trumpet came faintly down the green aisles of the forest\n",
            "Tom flung off his jacket and trousers, turned a suspender into a belt, raked away some brush behind the rotten log, disclosing a rude bow and arrow, a lath sword and a tin trumpet, and in a moment had seized these things and bounded away, barelegged, with fluttering shirt\n",
            "He presently halted under a great elm, blew an answering blast, and then began to tiptoe and look warily out, this way and that\n",
            "He said cautiously--to an imaginary company:  “Hold, my merry men! Keep hid till I blow\n",
            "”  Now appeared Joe Harper, as airily clad and elaborately armed as Tom\n",
            "Tom called:  “Hold! Who comes here into Sherwood Forest without my pass?”  “Guy of Guisborne wants no man's pass\n",
            "Who art thou that--that--”  “Dares to hold such language,” said Tom, prompting--for they talked “by the book,” from memory\n",
            "“Who art thou that dares to hold such language?”  “I, indeed! I am Robin Hood, as thy caitiff carcase soon shall know\n",
            "”  “Then art thou indeed that famous outlaw? Right gladly will I dispute with thee the passes of the merry wood\n",
            "Have at thee!”  They took their lath swords, dumped their other traps on the ground, struck a fencing attitude, foot to foot, and began a grave, careful combat, “two up and two down\n",
            "” Presently Tom said:  “Now, if you've got the hang, go it lively!”  So they “went it lively,” panting and perspiring with the work\n",
            "By and by Tom shouted:  “Fall! fall! Why don't you fall?”  “I sha'n't! Why don't you fall yourself? You're getting the worst of it\n",
            "”  “Why, that ain't anything\n",
            "I can't fall; that ain't the way it is in the book\n"
          ],
          "name": "stdout"
        }
      ]
    },
    {
      "cell_type": "code",
      "metadata": {
        "id": "O_SyAJpP3s9L",
        "colab_type": "code",
        "colab": {
          "base_uri": "https://localhost:8080/",
          "height": 401
        },
        "outputId": "ca62d486-23c7-4050-b116-e5c813de8a5a"
      },
      "source": [
        "splitted_sentences = [sentence.split() for sentence in sentences]\n",
        "\n",
        "for sentence in splitted_sentences[100:120]:\n",
        "    print(sentence)"
      ],
      "execution_count": 21,
      "outputs": [
        {
          "output_type": "stream",
          "text": [
            "['But', 'I', 'forgive', 'ye,', 'Tom']\n",
            "['I', 'reckon', \"you're\", 'a', 'kind', 'of', 'a', 'singed', 'cat,', 'as', 'the', 'saying', \"is--better'n\", 'you', 'look']\n",
            "['_This_', 'time']\n",
            "['”', 'She', 'was', 'half', 'sorry', 'her', 'sagacity', 'had', 'miscarried,', 'and', 'half', 'glad', 'that', 'Tom', 'had', 'stumbled', 'into', 'obedient', 'conduct', 'for', 'once']\n",
            "['But', 'Sidney', 'said:', '“Well,', 'now,', 'if', 'I', \"didn't\", 'think', 'you', 'sewed', 'his', 'collar', 'with', 'white', 'thread,', 'but', \"it's\", 'black']\n",
            "['”', '“Why,', 'I', 'did', 'sew', 'it', 'with', 'white!', 'Tom!”', 'But', 'Tom', 'did', 'not', 'wait', 'for', 'the', 'rest']\n",
            "['As', 'he', 'went', 'out', 'at', 'the', 'door', 'he', 'said:', '“Siddy,', \"I'll\", 'lick', 'you', 'for', 'that']\n",
            "['”', 'In', 'a', 'safe', 'place', 'Tom', 'examined', 'two', 'large', 'needles', 'which', 'were', 'thrust', 'into', 'the', 'lapels', 'of', 'his', 'jacket,', 'and', 'had', 'thread', 'bound', 'about', 'them--one', 'needle', 'carried', 'white', 'thread', 'and', 'the', 'other', 'black']\n",
            "['He', 'said:', \"“She'd\", 'never', 'noticed', 'if', 'it', \"hadn't\", 'been', 'for', 'Sid']\n",
            "['Confound', 'it!', 'sometimes', 'she', 'sews', 'it', 'with', 'white,', 'and', 'sometimes', 'she', 'sews', 'it', 'with', 'black']\n",
            "['I', 'wish', 'to', 'gee-miny', \"she'd\", 'stick', 'to', 'one', 'or', \"t'other--I\", \"can't\", 'keep', 'the', 'run', 'of', \"'em\"]\n",
            "['But', 'I', 'bet', 'you', \"I'll\", 'lam', 'Sid', 'for', 'that']\n",
            "[\"I'll\", 'learn', 'him!”', 'He', 'was', 'not', 'the', 'Model', 'Boy', 'of', 'the', 'village']\n",
            "['He', 'knew', 'the', 'model', 'boy', 'very', 'well', 'though--and', 'loathed', 'him']\n",
            "['Within', 'two', 'minutes,', 'or', 'even', 'less,', 'he', 'had', 'forgotten', 'all', 'his', 'troubles']\n",
            "['Not', 'because', 'his', 'troubles', 'were', 'one', 'whit', 'less', 'heavy', 'and', 'bitter', 'to', 'him', 'than', 'a', \"man's\", 'are', 'to', 'a', 'man,', 'but', 'because', 'a', 'new', 'and', 'powerful', 'interest', 'bore', 'them', 'down', 'and', 'drove', 'them', 'out', 'of', 'his', 'mind', 'for', 'the', 'time--just', 'as', \"men's\", 'misfortunes', 'are', 'forgotten', 'in', 'the', 'excitement', 'of', 'new', 'enterprises']\n",
            "['This', 'new', 'interest', 'was', 'a', 'valued', 'novelty', 'in', 'whistling,', 'which', 'he', 'had', 'just', 'acquired', 'from', 'a', 'negro,', 'and', 'he', 'was', 'suffering', 'to', 'practise', 'it', 'un-disturbed']\n",
            "['It', 'consisted', 'in', 'a', 'peculiar', 'bird-like', 'turn,', 'a', 'sort', 'of', 'liquid', 'warble,', 'produced', 'by', 'touching', 'the', 'tongue', 'to', 'the', 'roof', 'of', 'the', 'mouth', 'at', 'short', 'intervals', 'in', 'the', 'midst', 'of', 'the', 'music--the', 'reader', 'probably', 'remembers', 'how', 'to', 'do', 'it,', 'if', 'he', 'has', 'ever', 'been', 'a', 'boy']\n",
            "['Diligence', 'and', 'attention', 'soon', 'gave', 'him', 'the', 'knack', 'of', 'it,', 'and', 'he', 'strode', 'down', 'the', 'street', 'with', 'his', 'mouth', 'full', 'of', 'harmony', 'and', 'his', 'soul', 'full', 'of', 'gratitude']\n",
            "['He', 'felt', 'much', 'as', 'an', 'astronomer', 'feels', 'who', 'has', 'discovered', 'a', 'new', 'planet--no', 'doubt,', 'as', 'far', 'as', 'strong,', 'deep,', 'unalloyed', 'pleasure', 'is', 'concerned,', 'the', 'advantage', 'was', 'with', 'the', 'boy,', 'not', 'the', 'astronomer']\n"
          ],
          "name": "stdout"
        }
      ]
    },
    {
      "cell_type": "code",
      "metadata": {
        "id": "43KOpxfM4D3_",
        "colab_type": "code",
        "colab": {
          "base_uri": "https://localhost:8080/",
          "height": 110
        },
        "outputId": "f435d520-3aa9-41d6-e8f8-7393e7695bb4"
      },
      "source": [
        "for sentence in splitted_sentences[100:120]:\n",
        "    if 'Tom' in sentence:\n",
        "        print(sentence)"
      ],
      "execution_count": 22,
      "outputs": [
        {
          "output_type": "stream",
          "text": [
            "['But', 'I', 'forgive', 'ye,', 'Tom']\n",
            "['”', 'She', 'was', 'half', 'sorry', 'her', 'sagacity', 'had', 'miscarried,', 'and', 'half', 'glad', 'that', 'Tom', 'had', 'stumbled', 'into', 'obedient', 'conduct', 'for', 'once']\n",
            "['”', '“Why,', 'I', 'did', 'sew', 'it', 'with', 'white!', 'Tom!”', 'But', 'Tom', 'did', 'not', 'wait', 'for', 'the', 'rest']\n",
            "['”', 'In', 'a', 'safe', 'place', 'Tom', 'examined', 'two', 'large', 'needles', 'which', 'were', 'thrust', 'into', 'the', 'lapels', 'of', 'his', 'jacket,', 'and', 'had', 'thread', 'bound', 'about', 'them--one', 'needle', 'carried', 'white', 'thread', 'and', 'the', 'other', 'black']\n"
          ],
          "name": "stdout"
        }
      ]
    },
    {
      "cell_type": "code",
      "metadata": {
        "id": "-idHfcZJ4gQS",
        "colab_type": "code",
        "colab": {
          "base_uri": "https://localhost:8080/",
          "height": 328
        },
        "outputId": "b149f059-8aae-46ab-df8b-9612a127d702"
      },
      "source": [
        "for sentence in splitted_sentences[:100]:\n",
        "    if 'The' in sentence:\n",
        "        print(sentence)"
      ],
      "execution_count": 23,
      "outputs": [
        {
          "output_type": "stream",
          "text": [
            "['\\ufeff', 'The', 'Project', 'Gutenberg', 'EBook', 'of', 'The', 'Adventures', 'of', 'Tom', 'Sawyer,', 'Complete', 'by', 'Mark', 'Twain', '(Samuel', 'Clemens)', 'This', 'eBook', 'is', 'for', 'the', 'use', 'of', 'anyone', 'anywhere', 'at', 'no', 'cost', 'and', 'with', 'almost', 'no', 'restrictions', 'whatsoever']\n",
            "['net', 'Title:', 'The', 'Adventures', 'of', 'Tom', 'Sawyer,', 'Complete', 'Author:', 'Mark', 'Twain', '(Samuel', 'Clemens)', 'Release', 'Date:', 'August', '20,', '2006', '[EBook', '#74]', 'Last', 'Updated:', 'February', '23,', '2018', 'Language:', 'English', 'Character', 'set', 'encoding:', 'UTF-8', '***', 'START', 'OF', 'THIS', 'PROJECT', 'GUTENBERG', 'EBOOK', 'TOM', 'SAWYER', '***', 'Produced', 'by', 'David', 'Widger', 'THE', 'ADVENTURES', 'OF', 'TOM', 'SAWYER', 'By', 'Mark', 'Twain', '(Samuel', 'Langhorne', 'Clemens)', 'CONTENTS', 'CHAPTER', 'I']\n",
            "['The', 'Solemn', 'Oath--Terror', 'Brings', 'Repentance--Mental', 'Punishment', 'CHAPTER', 'XI']\n",
            "['The', 'Young', 'Pirates--Going', 'to', 'the', 'Rendezvous--The', 'Camp--Fire', 'Talk', 'CHAPTER', 'XIV']\n",
            "['The', 'Haunted', 'House--Sleepy', 'Ghosts--A', 'Box', 'of', 'Gold--Bitter', 'Luck', 'CHAPTER', 'XXVII']\n",
            "['The', 'Pic-nic--Huck', 'on', 'Injun', \"Joe's\", 'Track--The', '“Revenge”', 'Job--Aid', 'for', 'the', 'Widow', 'CHAPTER', 'XXX']\n",
            "['The', 'Welchman', 'Reports--Huck', 'Under', 'Fire--The', 'Story', 'Circulated', '--A', 'New', 'Sensation--Hope', 'Giving', 'Way', 'to', 'Despair', 'CHAPTER', 'XXXI']\n",
            "['The', 'Fate', 'of', 'Injun', 'Joe--Huck', 'and', 'Tom', 'Compare', 'Notes', '--An', 'Expedition', 'to', 'the', 'Cave--Protection', 'Against', 'Ghosts--“An', 'Awful', 'Snug', 'Place”--A', 'Reception', 'at', 'the', 'Widow', \"Douglas's\", 'CHAPTER', 'XXXIV']\n",
            "['A', 'New', 'Order', 'of', 'Things--Poor', 'Huck--New', 'Adventures', 'Planned', 'ILLUSTRATIONS', 'Tom', 'Sawyer', 'Tom', 'at', 'Home', 'Aunt', 'Polly', 'Beguiled', 'A', 'Good', 'Opportunity', \"Who's\", 'Afraid', 'Late', 'Home', 'Jim', \"'Tendin'\", 'to', 'Business', \"Ain't\", 'that', 'Work?', 'Cat', 'and', 'Toys', 'Amusement', 'Becky', 'Thatcher', 'Paying', 'Off', 'After', 'the', 'Battle', '“Showing', 'Off”', 'Not', 'Amiss', 'Mary', 'Tom', 'Contemplating', 'Dampened', 'Ardor', 'Youth', 'Boyhood', 'Using', 'the', '“Barlow”', 'The', 'Church', 'Necessities', 'Tom', 'as', 'a', 'Sunday-School', 'Hero', 'The', 'Prize', 'At', 'Church', 'The', 'Model', 'Boy', 'The', 'Church', 'Choir', 'A', 'Side', 'Show', 'Result', 'of', 'Playing', 'in', 'Church', 'The', 'Pinch-Bug', 'Sid', 'Dentistry', 'Huckleberry', 'Finn', 'Mother', 'Hopkins', 'Result', 'of', \"Tom's\", 'Truthfulness', 'Tom', 'as', 'an', 'Artist', 'Interrupted', 'Courtship', 'The', 'Master', 'Vain', 'Pleading', 'Tail', 'Piece', 'The', 'Grave', 'in', 'the', 'Woods', 'Tom', 'Meditates', 'Robin', 'Hood', 'and', 'his', 'Foe', 'Death', 'of', 'Robin', 'Hood', 'Midnight', \"Tom's\", 'Mode', 'of', 'Egress', \"Tom's\", 'Effort', 'at', 'Prayer', 'Muff', 'Potter', 'Outwitted', 'The', 'Graveyard', 'Forewarnings', 'Disturbing', \"Muff's\", 'Sleep', \"Tom's\", 'Talk', 'with', 'his', 'Aunt', 'Muff', 'Potter', 'A', 'Suspicious', 'Incident', 'Injun', \"Joe's\", 'two', 'Victims', 'In', 'the', 'Coils', 'Peter', 'Aunt', 'Polly', 'seeks', 'Information', 'A', 'General', 'Good', 'Time', 'Demoralized', 'Joe', 'Harper', 'On', 'Board', 'Their', 'First', 'Prize', 'The', 'Pirates', 'Ashore', 'Wild', 'Life', 'The', \"Pirate's\", 'Bath', 'The', 'Pleasant', 'Stroll', 'The', 'Search', 'for', 'the', 'Drowned', 'The', 'Mysterious', 'Writing', 'River', 'View', 'What', 'Tom', 'Saw', 'Tom', 'Swims', 'the', 'River', 'Taking', 'Lessons', 'The', \"Pirates'\", 'Egg', 'Market', 'Tom', 'Looking', 'for', \"Joe's\", 'Knife', 'The', 'Thunder', 'Storm', 'Terrible', 'Slaughter', 'The', 'Mourner', \"Tom's\", 'Proudest', 'Moment', 'Amy', 'Lawrence', 'Tom', 'tries', 'to', 'Remember', 'The', 'Hero', 'A', 'Flirtation', 'Becky', 'Retaliates', 'A', 'Sudden', 'Frost', 'Counter-irritation', 'Aunt', 'Polly', 'Tom', 'justified', 'The', 'Discovery', 'Caught', 'in', 'the', 'Act', 'Tom', 'Astonishes', 'the', 'School', 'Literature', 'Tom', 'Declaims', 'Examination', 'Evening', 'On', 'Exhibition', 'Prize', 'Authors', 'The', \"Master's\", 'Dilemma', 'The', 'School', 'House', 'The', 'Cadet', 'Happy', 'for', 'Two', 'Days', 'Enjoying', 'the', 'Vacation', 'The', 'Stolen', 'Melons', 'The', 'Judge', 'Visiting', 'the', 'Prisoner', 'Tom', 'Swears', 'The', 'Court', 'Room', 'The', 'Detective', 'Tom', 'Dreams', 'The', 'Treasure', 'The', 'Private', 'Conference', 'A', 'King;', 'Poor', 'Fellow!', 'Business', 'The', \"Ha'nted\", 'House', 'Injun', 'Joe', 'The', 'Greatest', 'and', 'Best', 'Hidden', 'Treasures', 'Unearthed', 'The', \"Boy's\", 'Salvation', 'Room', 'No']\n",
            "['2', 'The', 'Next', \"Day's\", 'Conference', 'Treasures', 'Uncle', 'Jake', 'Buck', 'at', 'Home', 'The', 'Haunted', 'Room', '“Run', 'for', 'Your', 'Life”', \"McDougal's\", 'Cave', 'Inside', 'the', 'Cave', 'Huck', 'on', 'Duty', 'A', 'Rousing', 'Act', 'Tail', 'Piece', 'The', 'Welchman', 'Result', 'of', 'a', 'Sneeze', 'Cornered', 'Alarming', 'Discoveries', 'Tom', 'and', 'Becky', 'stir', 'up', 'the', 'Town', \"Tom's\", 'Marks', 'Huck', 'Questions', 'the', 'Widow', 'Vampires', 'Wonders', 'of', 'the', 'Cave', 'Attacked', 'by', 'Natives', 'Despair', 'The', 'Wedding', 'Cake', 'A', 'New', 'Terror', 'Daylight', '“Turn', 'Out”', 'to', 'Receive', 'Tom', 'and', 'Becky', 'The', 'Escape', 'from', 'the', 'Cave', 'Fate', 'of', 'the', 'Ragged', 'Man', 'The', 'Treasures', 'Found', 'Caught', 'at', 'Last', 'Drop', 'after', 'Drop', 'Having', 'a', 'Good', 'Time', 'A', 'Business', 'Trip', '“Got', 'it', 'at', 'Last!”', 'Tail', 'Piece', 'Widow', 'Douglas', 'Tom', 'Backs', 'his', 'Statement', 'Tail', 'Piece', 'Huck', 'Transformed', 'Comfortable', 'Once', 'More', 'High', 'up', 'in', 'Society', 'Contentment', 'PREFACE', 'Most', 'of', 'the', 'adventures', 'recorded', 'in', 'this', 'book', 'really', 'occurred;', 'one', 'or', 'two', 'were', 'experiences', 'of', 'my', 'own,', 'the', 'rest', 'those', 'of', 'boys', 'who', 'were', 'schoolmates', 'of', 'mine']\n",
            "['The', 'odd', 'superstitions', 'touched', 'upon', 'were', 'all', 'prevalent', 'among', 'children', 'and', 'slaves', 'in', 'the', 'West', 'at', 'the', 'period', 'of', 'this', 'story--that', 'is', 'to', 'say,', 'thirty', 'or', 'forty', 'years', 'ago']\n",
            "['The', 'old', 'lady', 'pulled', 'her', 'spectacles', 'down', 'and', 'looked', 'over', 'them', 'about', 'the', 'room;', 'then', 'she', 'put', 'them', 'up', 'and', 'looked', 'out', 'under', 'them']\n",
            "['”', 'The', 'switch', 'hovered', 'in', 'the', 'air--the', 'peril', 'was', 'desperate--', '“My!', 'Look', 'behind', 'you,', 'aunt!”', 'The', 'old', 'lady', 'whirled', 'round,', 'and', 'snatched', 'her', 'skirts', 'out', 'of', 'danger']\n",
            "['The', 'lad', 'fled', 'on', 'the', 'instant,', 'scrambled', 'up', 'the', 'high', 'board-fence,', 'and', 'disappeared', 'over', 'it']\n",
            "['”', 'The', 'old', 'lady', 'reached', 'out', 'her', 'hand', 'and', 'felt', \"Tom's\", 'shirt,', 'and', 'said:', '“But', 'you', \"ain't\", 'too', 'warm', 'now,', 'though']\n",
            "['Then', 'she', 'had', 'a', 'new', 'inspiration:', '“Tom,', 'you', \"didn't\", 'have', 'to', 'undo', 'your', 'shirt', 'collar', 'where', 'I', 'sewed', 'it,', 'to', 'pump', 'on', 'your', 'head,', 'did', 'you?', 'Unbutton', 'your', 'jacket!”', 'The', 'trouble', 'vanished', 'out', 'of', \"Tom's\", 'face']\n"
          ],
          "name": "stdout"
        }
      ]
    },
    {
      "cell_type": "code",
      "metadata": {
        "id": "MH5KyLXM5uER",
        "colab_type": "code",
        "colab": {
          "base_uri": "https://localhost:8080/",
          "height": 837
        },
        "outputId": "11e02c6b-25b7-48a9-cb90-a3fe4809a56c"
      },
      "source": [
        "for sentence in splitted_sentences[:100]:\n",
        "    if 'The' in sentence or 'the' in sentence:\n",
        "        print(sentence)"
      ],
      "execution_count": 24,
      "outputs": [
        {
          "output_type": "stream",
          "text": [
            "['\\ufeff', 'The', 'Project', 'Gutenberg', 'EBook', 'of', 'The', 'Adventures', 'of', 'Tom', 'Sawyer,', 'Complete', 'by', 'Mark', 'Twain', '(Samuel', 'Clemens)', 'This', 'eBook', 'is', 'for', 'the', 'use', 'of', 'anyone', 'anywhere', 'at', 'no', 'cost', 'and', 'with', 'almost', 'no', 'restrictions', 'whatsoever']\n",
            "['You', 'may', 'copy', 'it,', 'give', 'it', 'away', 'or', 're-use', 'it', 'under', 'the', 'terms', 'of', 'the', 'Project', 'Gutenberg', 'License', 'included', 'with', 'this', 'eBook', 'or', 'online', 'at', 'www']\n",
            "['net', 'Title:', 'The', 'Adventures', 'of', 'Tom', 'Sawyer,', 'Complete', 'Author:', 'Mark', 'Twain', '(Samuel', 'Clemens)', 'Release', 'Date:', 'August', '20,', '2006', '[EBook', '#74]', 'Last', 'Updated:', 'February', '23,', '2018', 'Language:', 'English', 'Character', 'set', 'encoding:', 'UTF-8', '***', 'START', 'OF', 'THIS', 'PROJECT', 'GUTENBERG', 'EBOOK', 'TOM', 'SAWYER', '***', 'Produced', 'by', 'David', 'Widger', 'THE', 'ADVENTURES', 'OF', 'TOM', 'SAWYER', 'By', 'Mark', 'Twain', '(Samuel', 'Langhorne', 'Clemens)', 'CONTENTS', 'CHAPTER', 'I']\n",
            "['The', 'Solemn', 'Oath--Terror', 'Brings', 'Repentance--Mental', 'Punishment', 'CHAPTER', 'XI']\n",
            "['The', 'Young', 'Pirates--Going', 'to', 'the', 'Rendezvous--The', 'Camp--Fire', 'Talk', 'CHAPTER', 'XIV']\n",
            "['Tom', 'Reconnoiters--Learns', 'the', 'Situation--Reports', 'at', 'Camp', 'CHAPTER', 'XVI']\n",
            "['Memories', 'of', 'the', 'Lost', 'Heroes--The', 'Point', 'in', \"Tom's\", 'Secret', 'CHAPTER', 'XVIII']\n",
            "['Tom', 'Tells', 'the', 'Truth', 'CHAPTER', 'XX']\n",
            "['Youthful', 'Eloquence--Compositions', 'by', 'the', 'Young', 'Ladies--A', 'Lengthy', 'Vision--The', \"Boy's\", 'Vengeance', 'Satisfied', 'CHAPTER', 'XXII']\n",
            "['Tom', 'as', 'the', 'Village', 'Hero--Days', 'of', 'Splendor', 'and', 'Nights', 'of', 'Horror--Pursuit', 'of', 'Injun', 'Joe', 'CHAPTER', 'XXV']\n",
            "['About', 'Kings', 'and', 'Diamonds--Search', 'for', 'the', 'Treasure--Dead', 'People', 'and', 'Ghosts', 'CHAPTER', 'XXVI']\n",
            "['The', 'Haunted', 'House--Sleepy', 'Ghosts--A', 'Box', 'of', 'Gold--Bitter', 'Luck', 'CHAPTER', 'XXVII']\n",
            "['The', 'Pic-nic--Huck', 'on', 'Injun', \"Joe's\", 'Track--The', '“Revenge”', 'Job--Aid', 'for', 'the', 'Widow', 'CHAPTER', 'XXX']\n",
            "['The', 'Welchman', 'Reports--Huck', 'Under', 'Fire--The', 'Story', 'Circulated', '--A', 'New', 'Sensation--Hope', 'Giving', 'Way', 'to', 'Despair', 'CHAPTER', 'XXXI']\n",
            "['An', 'Exploring', 'Expedition--Trouble', 'Commences--Lost', 'in', 'the', 'Cave--Total', 'Darkness--Found', 'but', 'not', 'Saved', 'CHAPTER', 'XXXII']\n",
            "['Tom', 'tells', 'the', 'Story', 'of', 'their', \"Escape--Tom's\", 'Enemy', 'in', 'Safe', 'Quarters', 'CHAPTER', 'XXXIII']\n",
            "['The', 'Fate', 'of', 'Injun', 'Joe--Huck', 'and', 'Tom', 'Compare', 'Notes', '--An', 'Expedition', 'to', 'the', 'Cave--Protection', 'Against', 'Ghosts--“An', 'Awful', 'Snug', 'Place”--A', 'Reception', 'at', 'the', 'Widow', \"Douglas's\", 'CHAPTER', 'XXXIV']\n",
            "['A', 'New', 'Order', 'of', 'Things--Poor', 'Huck--New', 'Adventures', 'Planned', 'ILLUSTRATIONS', 'Tom', 'Sawyer', 'Tom', 'at', 'Home', 'Aunt', 'Polly', 'Beguiled', 'A', 'Good', 'Opportunity', \"Who's\", 'Afraid', 'Late', 'Home', 'Jim', \"'Tendin'\", 'to', 'Business', \"Ain't\", 'that', 'Work?', 'Cat', 'and', 'Toys', 'Amusement', 'Becky', 'Thatcher', 'Paying', 'Off', 'After', 'the', 'Battle', '“Showing', 'Off”', 'Not', 'Amiss', 'Mary', 'Tom', 'Contemplating', 'Dampened', 'Ardor', 'Youth', 'Boyhood', 'Using', 'the', '“Barlow”', 'The', 'Church', 'Necessities', 'Tom', 'as', 'a', 'Sunday-School', 'Hero', 'The', 'Prize', 'At', 'Church', 'The', 'Model', 'Boy', 'The', 'Church', 'Choir', 'A', 'Side', 'Show', 'Result', 'of', 'Playing', 'in', 'Church', 'The', 'Pinch-Bug', 'Sid', 'Dentistry', 'Huckleberry', 'Finn', 'Mother', 'Hopkins', 'Result', 'of', \"Tom's\", 'Truthfulness', 'Tom', 'as', 'an', 'Artist', 'Interrupted', 'Courtship', 'The', 'Master', 'Vain', 'Pleading', 'Tail', 'Piece', 'The', 'Grave', 'in', 'the', 'Woods', 'Tom', 'Meditates', 'Robin', 'Hood', 'and', 'his', 'Foe', 'Death', 'of', 'Robin', 'Hood', 'Midnight', \"Tom's\", 'Mode', 'of', 'Egress', \"Tom's\", 'Effort', 'at', 'Prayer', 'Muff', 'Potter', 'Outwitted', 'The', 'Graveyard', 'Forewarnings', 'Disturbing', \"Muff's\", 'Sleep', \"Tom's\", 'Talk', 'with', 'his', 'Aunt', 'Muff', 'Potter', 'A', 'Suspicious', 'Incident', 'Injun', \"Joe's\", 'two', 'Victims', 'In', 'the', 'Coils', 'Peter', 'Aunt', 'Polly', 'seeks', 'Information', 'A', 'General', 'Good', 'Time', 'Demoralized', 'Joe', 'Harper', 'On', 'Board', 'Their', 'First', 'Prize', 'The', 'Pirates', 'Ashore', 'Wild', 'Life', 'The', \"Pirate's\", 'Bath', 'The', 'Pleasant', 'Stroll', 'The', 'Search', 'for', 'the', 'Drowned', 'The', 'Mysterious', 'Writing', 'River', 'View', 'What', 'Tom', 'Saw', 'Tom', 'Swims', 'the', 'River', 'Taking', 'Lessons', 'The', \"Pirates'\", 'Egg', 'Market', 'Tom', 'Looking', 'for', \"Joe's\", 'Knife', 'The', 'Thunder', 'Storm', 'Terrible', 'Slaughter', 'The', 'Mourner', \"Tom's\", 'Proudest', 'Moment', 'Amy', 'Lawrence', 'Tom', 'tries', 'to', 'Remember', 'The', 'Hero', 'A', 'Flirtation', 'Becky', 'Retaliates', 'A', 'Sudden', 'Frost', 'Counter-irritation', 'Aunt', 'Polly', 'Tom', 'justified', 'The', 'Discovery', 'Caught', 'in', 'the', 'Act', 'Tom', 'Astonishes', 'the', 'School', 'Literature', 'Tom', 'Declaims', 'Examination', 'Evening', 'On', 'Exhibition', 'Prize', 'Authors', 'The', \"Master's\", 'Dilemma', 'The', 'School', 'House', 'The', 'Cadet', 'Happy', 'for', 'Two', 'Days', 'Enjoying', 'the', 'Vacation', 'The', 'Stolen', 'Melons', 'The', 'Judge', 'Visiting', 'the', 'Prisoner', 'Tom', 'Swears', 'The', 'Court', 'Room', 'The', 'Detective', 'Tom', 'Dreams', 'The', 'Treasure', 'The', 'Private', 'Conference', 'A', 'King;', 'Poor', 'Fellow!', 'Business', 'The', \"Ha'nted\", 'House', 'Injun', 'Joe', 'The', 'Greatest', 'and', 'Best', 'Hidden', 'Treasures', 'Unearthed', 'The', \"Boy's\", 'Salvation', 'Room', 'No']\n",
            "['2', 'The', 'Next', \"Day's\", 'Conference', 'Treasures', 'Uncle', 'Jake', 'Buck', 'at', 'Home', 'The', 'Haunted', 'Room', '“Run', 'for', 'Your', 'Life”', \"McDougal's\", 'Cave', 'Inside', 'the', 'Cave', 'Huck', 'on', 'Duty', 'A', 'Rousing', 'Act', 'Tail', 'Piece', 'The', 'Welchman', 'Result', 'of', 'a', 'Sneeze', 'Cornered', 'Alarming', 'Discoveries', 'Tom', 'and', 'Becky', 'stir', 'up', 'the', 'Town', \"Tom's\", 'Marks', 'Huck', 'Questions', 'the', 'Widow', 'Vampires', 'Wonders', 'of', 'the', 'Cave', 'Attacked', 'by', 'Natives', 'Despair', 'The', 'Wedding', 'Cake', 'A', 'New', 'Terror', 'Daylight', '“Turn', 'Out”', 'to', 'Receive', 'Tom', 'and', 'Becky', 'The', 'Escape', 'from', 'the', 'Cave', 'Fate', 'of', 'the', 'Ragged', 'Man', 'The', 'Treasures', 'Found', 'Caught', 'at', 'Last', 'Drop', 'after', 'Drop', 'Having', 'a', 'Good', 'Time', 'A', 'Business', 'Trip', '“Got', 'it', 'at', 'Last!”', 'Tail', 'Piece', 'Widow', 'Douglas', 'Tom', 'Backs', 'his', 'Statement', 'Tail', 'Piece', 'Huck', 'Transformed', 'Comfortable', 'Once', 'More', 'High', 'up', 'in', 'Society', 'Contentment', 'PREFACE', 'Most', 'of', 'the', 'adventures', 'recorded', 'in', 'this', 'book', 'really', 'occurred;', 'one', 'or', 'two', 'were', 'experiences', 'of', 'my', 'own,', 'the', 'rest', 'those', 'of', 'boys', 'who', 'were', 'schoolmates', 'of', 'mine']\n",
            "['Huck', 'Finn', 'is', 'drawn', 'from', 'life;', 'Tom', 'Sawyer', 'also,', 'but', 'not', 'from', 'an', 'individual--he', 'is', 'a', 'combination', 'of', 'the', 'characteristics', 'of', 'three', 'boys', 'whom', 'I', 'knew,', 'and', 'therefore', 'belongs', 'to', 'the', 'composite', 'order', 'of', 'architecture']\n",
            "['The', 'odd', 'superstitions', 'touched', 'upon', 'were', 'all', 'prevalent', 'among', 'children', 'and', 'slaves', 'in', 'the', 'West', 'at', 'the', 'period', 'of', 'this', 'story--that', 'is', 'to', 'say,', 'thirty', 'or', 'forty', 'years', 'ago']\n",
            "['Although', 'my', 'book', 'is', 'intended', 'mainly', 'for', 'the', 'entertainment', 'of', 'boys', 'and', 'girls,', 'I', 'hope', 'it', 'will', 'not', 'be', 'shunned', 'by', 'men', 'and', 'women', 'on', 'that', 'account,', 'for', 'part', 'of', 'my', 'plan', 'has', 'been', 'to', 'try', 'to', 'pleasantly', 'remind', 'adults', 'of', 'what', 'they', 'once', 'were', 'themselves,', 'and', 'of', 'how', 'they', 'felt', 'and', 'thought', 'and', 'talked,', 'and', 'what', 'queer', 'enterprises', 'they', 'sometimes', 'engaged', 'in']\n",
            "['The', 'old', 'lady', 'pulled', 'her', 'spectacles', 'down', 'and', 'looked', 'over', 'them', 'about', 'the', 'room;', 'then', 'she', 'put', 'them', 'up', 'and', 'looked', 'out', 'under', 'them']\n",
            "['She', 'seldom', 'or', 'never', 'looked', '_through_', 'them', 'for', 'so', 'small', 'a', 'thing', 'as', 'a', 'boy;', 'they', 'were', 'her', 'state', 'pair,', 'the', 'pride', 'of', 'her', 'heart,', 'and', 'were', 'built', 'for', '“style,”', 'not', 'service--she', 'could', 'have', 'seen', 'through', 'a', 'pair', 'of', 'stove-lids', 'just', 'as', 'well']\n",
            "['She', 'looked', 'perplexed', 'for', 'a', 'moment,', 'and', 'then', 'said,', 'not', 'fiercely,', 'but', 'still', 'loud', 'enough', 'for', 'the', 'furniture', 'to', 'hear:', '“Well,', 'I', 'lay', 'if', 'I', 'get', 'hold', 'of', 'you', \"I'll--”\", 'She', 'did', 'not', 'finish,', 'for', 'by', 'this', 'time', 'she', 'was', 'bending', 'down', 'and', 'punching', 'under', 'the', 'bed', 'with', 'the', 'broom,', 'and', 'so', 'she', 'needed', 'breath', 'to', 'punctuate', 'the', 'punches', 'with']\n",
            "['She', 'resurrected', 'nothing', 'but', 'the', 'cat']\n",
            "['“I', 'never', 'did', 'see', 'the', 'beat', 'of', 'that', 'boy!”', 'She', 'went', 'to', 'the', 'open', 'door', 'and', 'stood', 'in', 'it', 'and', 'looked', 'out', 'among', 'the', 'tomato', 'vines', 'and', '“jimpson”', 'weeds', 'that', 'constituted', 'the', 'garden']\n",
            "['So', 'she', 'lifted', 'up', 'her', 'voice', 'at', 'an', 'angle', 'calculated', 'for', 'distance', 'and', 'shouted:', '“Y-o-u-u', 'TOM!”', 'There', 'was', 'a', 'slight', 'noise', 'behind', 'her', 'and', 'she', 'turned', 'just', 'in', 'time', 'to', 'seize', 'a', 'small', 'boy', 'by', 'the', 'slack', 'of', 'his', 'roundabout', 'and', 'arrest', 'his', 'flight']\n",
            "['”', 'The', 'switch', 'hovered', 'in', 'the', 'air--the', 'peril', 'was', 'desperate--', '“My!', 'Look', 'behind', 'you,', 'aunt!”', 'The', 'old', 'lady', 'whirled', 'round,', 'and', 'snatched', 'her', 'skirts', 'out', 'of', 'danger']\n",
            "['The', 'lad', 'fled', 'on', 'the', 'instant,', 'scrambled', 'up', 'the', 'high', 'board-fence,', 'and', 'disappeared', 'over', 'it']\n",
            "['“Hang', 'the', 'boy,', \"can't\", 'I', 'never', 'learn', 'anything?', \"Ain't\", 'he', 'played', 'me', 'tricks', 'enough', 'like', 'that', 'for', 'me', 'to', 'be', 'looking', 'out', 'for', 'him', 'by', 'this', 'time?', 'But', 'old', 'fools', 'is', 'the', 'biggest', 'fools', 'there', 'is']\n",
            "[\"Can't\", 'learn', 'an', 'old', 'dog', 'new', 'tricks,', 'as', 'the', 'saying', 'is']\n",
            "['I', \"ain't\", 'doing', 'my', 'duty', 'by', 'that', 'boy,', 'and', \"that's\", 'the', \"Lord's\", 'truth,', 'goodness', 'knows']\n",
            "['Spare', 'the', 'rod', 'and', 'spile', 'the', 'child,', 'as', 'the', 'Good', 'Book', 'says']\n",
            "[\"He's\", 'full', 'of', 'the', 'Old', 'Scratch,', 'but', 'laws-a-me!', \"he's\", 'my', 'own', 'dead', \"sister's\", 'boy,', 'poor', 'thing,', 'and', 'I', \"ain't\", 'got', 'the', 'heart', 'to', 'lash', 'him,', 'somehow']\n",
            "['Well-a-well,', 'man', 'that', 'is', 'born', 'of', 'woman', 'is', 'of', 'few', 'days', 'and', 'full', 'of', 'trouble,', 'as', 'the', 'Scripture', 'says,', 'and', 'I', 'reckon', \"it's\", 'so']\n",
            "[\"It's\", 'mighty', 'hard', 'to', 'make', 'him', 'work', 'Saturdays,', 'when', 'all', 'the', 'boys', 'is', 'having', 'holiday,', 'but', 'he', 'hates', 'work', 'more', 'than', 'he', 'hates', 'anything', 'else,', 'and', \"I've\", '_got_', 'to', 'do', 'some', 'of', 'my', 'duty', 'by', 'him,', 'or', \"I'll\", 'be', 'the', 'ruination', 'of', 'the', 'child']\n",
            "['He', 'got', 'back', 'home', 'barely', 'in', 'season', 'to', 'help', 'Jim,', 'the', 'small', 'colored', 'boy,', 'saw', \"next-day's\", 'wood', 'and', 'split', 'the', 'kindlings', 'before', 'supper--at', 'least', 'he', 'was', 'there', 'in', 'time', 'to', 'tell', 'his', 'adventures', 'to', 'Jim', 'while', 'Jim', 'did', 'three-fourths', 'of', 'the', 'work']\n",
            "[\"Tom's\", 'younger', 'brother', '(or', 'rather', 'half-brother)', 'Sid', 'was', 'already', 'through', 'with', 'his', 'part', 'of', 'the', 'work', '(picking', 'up', 'chips),', 'for', 'he', 'was', 'a', 'quiet', 'boy,', 'and', 'had', 'no', 'adventurous,', 'trouble-some', 'ways']\n",
            "['”', 'The', 'old', 'lady', 'reached', 'out', 'her', 'hand', 'and', 'felt', \"Tom's\", 'shirt,', 'and', 'said:', '“But', 'you', \"ain't\", 'too', 'warm', 'now,', 'though']\n",
            "['”', 'And', 'it', 'flattered', 'her', 'to', 'reflect', 'that', 'she', 'had', 'discovered', 'that', 'the', 'shirt', 'was', 'dry', 'without', 'anybody', 'knowing', 'that', 'that', 'was', 'what', 'she', 'had', 'in', 'her', 'mind']\n",
            "['But', 'in', 'spite', 'of', 'her,', 'Tom', 'knew', 'where', 'the', 'wind', 'lay,', 'now']\n",
            "['So', 'he', 'forestalled', 'what', 'might', 'be', 'the', 'next', 'move:', '“Some', 'of', 'us', 'pumped', 'on', 'our', \"heads--mine's\", 'damp', 'yet']\n",
            "['Then', 'she', 'had', 'a', 'new', 'inspiration:', '“Tom,', 'you', \"didn't\", 'have', 'to', 'undo', 'your', 'shirt', 'collar', 'where', 'I', 'sewed', 'it,', 'to', 'pump', 'on', 'your', 'head,', 'did', 'you?', 'Unbutton', 'your', 'jacket!”', 'The', 'trouble', 'vanished', 'out', 'of', \"Tom's\", 'face']\n"
          ],
          "name": "stdout"
        }
      ]
    },
    {
      "cell_type": "code",
      "metadata": {
        "id": "1koDoeRx5-Kw",
        "colab_type": "code",
        "colab": {
          "base_uri": "https://localhost:8080/",
          "height": 219
        },
        "outputId": "bfffc5b8-9141-44c7-dc36-9b12d898681a"
      },
      "source": [
        "splitted_sentences_lower = [[word.lower() for word in sentence] for sentence in splitted_sentences]\n",
        "\n",
        "for sentence in splitted_sentences_lower[:10]:\n",
        "    print(sentence)"
      ],
      "execution_count": 25,
      "outputs": [
        {
          "output_type": "stream",
          "text": [
            "['\\ufeff', 'the', 'project', 'gutenberg', 'ebook', 'of', 'the', 'adventures', 'of', 'tom', 'sawyer,', 'complete', 'by', 'mark', 'twain', '(samuel', 'clemens)', 'this', 'ebook', 'is', 'for', 'the', 'use', 'of', 'anyone', 'anywhere', 'at', 'no', 'cost', 'and', 'with', 'almost', 'no', 'restrictions', 'whatsoever']\n",
            "['you', 'may', 'copy', 'it,', 'give', 'it', 'away', 'or', 're-use', 'it', 'under', 'the', 'terms', 'of', 'the', 'project', 'gutenberg', 'license', 'included', 'with', 'this', 'ebook', 'or', 'online', 'at', 'www']\n",
            "['gutenberg']\n",
            "['net', 'title:', 'the', 'adventures', 'of', 'tom', 'sawyer,', 'complete', 'author:', 'mark', 'twain', '(samuel', 'clemens)', 'release', 'date:', 'august', '20,', '2006', '[ebook', '#74]', 'last', 'updated:', 'february', '23,', '2018', 'language:', 'english', 'character', 'set', 'encoding:', 'utf-8', '***', 'start', 'of', 'this', 'project', 'gutenberg', 'ebook', 'tom', 'sawyer', '***', 'produced', 'by', 'david', 'widger', 'the', 'adventures', 'of', 'tom', 'sawyer', 'by', 'mark', 'twain', '(samuel', 'langhorne', 'clemens)', 'contents', 'chapter', 'i']\n",
            "['y-o-u-u', 'tom-aunt', 'polly', 'decides', 'upon', 'her', 'duty--tom', 'practices', 'music--the', 'challenge--a', 'private', 'entrance', 'chapter', 'ii']\n",
            "['strong', 'temptations--strategic', 'movements--the', 'innocents', 'beguiled', 'chapter', 'iii']\n",
            "['tom', 'as', 'a', 'general--triumph', 'and', 'reward--dismal', 'felicity--commission', 'and', 'omission', 'chapter', 'iv']\n",
            "['mental', 'acrobatics--attending', 'sunday--school--the', 'superintendent--“showing', 'off”--tom', 'lionized', 'chapter', 'v']\n",
            "['a', 'useful', 'minister--in', 'church--the', 'climax', 'chapter', 'vi']\n",
            "['self-examination--dentistry--the', 'midnight', 'charm--witches', 'and', 'devils--cautious', 'approaches--happy', 'hours', 'chapter', 'vii']\n"
          ],
          "name": "stdout"
        }
      ]
    },
    {
      "cell_type": "code",
      "metadata": {
        "id": "DaTgCnZt6D10",
        "colab_type": "code",
        "colab": {
          "base_uri": "https://localhost:8080/",
          "height": 455
        },
        "outputId": "235ce7eb-4e18-4304-f838-ccdf7d778e0b"
      },
      "source": [
        "for sentence in splitted_sentences_lower[:50]:\n",
        "    if 'the' in sentence:\n",
        "        print(sentence)"
      ],
      "execution_count": 26,
      "outputs": [
        {
          "output_type": "stream",
          "text": [
            "['\\ufeff', 'the', 'project', 'gutenberg', 'ebook', 'of', 'the', 'adventures', 'of', 'tom', 'sawyer,', 'complete', 'by', 'mark', 'twain', '(samuel', 'clemens)', 'this', 'ebook', 'is', 'for', 'the', 'use', 'of', 'anyone', 'anywhere', 'at', 'no', 'cost', 'and', 'with', 'almost', 'no', 'restrictions', 'whatsoever']\n",
            "['you', 'may', 'copy', 'it,', 'give', 'it', 'away', 'or', 're-use', 'it', 'under', 'the', 'terms', 'of', 'the', 'project', 'gutenberg', 'license', 'included', 'with', 'this', 'ebook', 'or', 'online', 'at', 'www']\n",
            "['net', 'title:', 'the', 'adventures', 'of', 'tom', 'sawyer,', 'complete', 'author:', 'mark', 'twain', '(samuel', 'clemens)', 'release', 'date:', 'august', '20,', '2006', '[ebook', '#74]', 'last', 'updated:', 'february', '23,', '2018', 'language:', 'english', 'character', 'set', 'encoding:', 'utf-8', '***', 'start', 'of', 'this', 'project', 'gutenberg', 'ebook', 'tom', 'sawyer', '***', 'produced', 'by', 'david', 'widger', 'the', 'adventures', 'of', 'tom', 'sawyer', 'by', 'mark', 'twain', '(samuel', 'langhorne', 'clemens)', 'contents', 'chapter', 'i']\n",
            "['the', 'solemn', 'oath--terror', 'brings', 'repentance--mental', 'punishment', 'chapter', 'xi']\n",
            "['the', 'young', 'pirates--going', 'to', 'the', 'rendezvous--the', 'camp--fire', 'talk', 'chapter', 'xiv']\n",
            "['tom', 'reconnoiters--learns', 'the', 'situation--reports', 'at', 'camp', 'chapter', 'xvi']\n",
            "['memories', 'of', 'the', 'lost', 'heroes--the', 'point', 'in', \"tom's\", 'secret', 'chapter', 'xviii']\n",
            "['tom', 'tells', 'the', 'truth', 'chapter', 'xx']\n",
            "['youthful', 'eloquence--compositions', 'by', 'the', 'young', 'ladies--a', 'lengthy', 'vision--the', \"boy's\", 'vengeance', 'satisfied', 'chapter', 'xxii']\n",
            "['tom', 'as', 'the', 'village', 'hero--days', 'of', 'splendor', 'and', 'nights', 'of', 'horror--pursuit', 'of', 'injun', 'joe', 'chapter', 'xxv']\n",
            "['about', 'kings', 'and', 'diamonds--search', 'for', 'the', 'treasure--dead', 'people', 'and', 'ghosts', 'chapter', 'xxvi']\n",
            "['the', 'haunted', 'house--sleepy', 'ghosts--a', 'box', 'of', 'gold--bitter', 'luck', 'chapter', 'xxvii']\n",
            "['the', 'pic-nic--huck', 'on', 'injun', \"joe's\", 'track--the', '“revenge”', 'job--aid', 'for', 'the', 'widow', 'chapter', 'xxx']\n",
            "['the', 'welchman', 'reports--huck', 'under', 'fire--the', 'story', 'circulated', '--a', 'new', 'sensation--hope', 'giving', 'way', 'to', 'despair', 'chapter', 'xxxi']\n",
            "['an', 'exploring', 'expedition--trouble', 'commences--lost', 'in', 'the', 'cave--total', 'darkness--found', 'but', 'not', 'saved', 'chapter', 'xxxii']\n",
            "['tom', 'tells', 'the', 'story', 'of', 'their', \"escape--tom's\", 'enemy', 'in', 'safe', 'quarters', 'chapter', 'xxxiii']\n",
            "['the', 'fate', 'of', 'injun', 'joe--huck', 'and', 'tom', 'compare', 'notes', '--an', 'expedition', 'to', 'the', 'cave--protection', 'against', 'ghosts--“an', 'awful', 'snug', 'place”--a', 'reception', 'at', 'the', 'widow', \"douglas's\", 'chapter', 'xxxiv']\n",
            "['a', 'new', 'order', 'of', 'things--poor', 'huck--new', 'adventures', 'planned', 'illustrations', 'tom', 'sawyer', 'tom', 'at', 'home', 'aunt', 'polly', 'beguiled', 'a', 'good', 'opportunity', \"who's\", 'afraid', 'late', 'home', 'jim', \"'tendin'\", 'to', 'business', \"ain't\", 'that', 'work?', 'cat', 'and', 'toys', 'amusement', 'becky', 'thatcher', 'paying', 'off', 'after', 'the', 'battle', '“showing', 'off”', 'not', 'amiss', 'mary', 'tom', 'contemplating', 'dampened', 'ardor', 'youth', 'boyhood', 'using', 'the', '“barlow”', 'the', 'church', 'necessities', 'tom', 'as', 'a', 'sunday-school', 'hero', 'the', 'prize', 'at', 'church', 'the', 'model', 'boy', 'the', 'church', 'choir', 'a', 'side', 'show', 'result', 'of', 'playing', 'in', 'church', 'the', 'pinch-bug', 'sid', 'dentistry', 'huckleberry', 'finn', 'mother', 'hopkins', 'result', 'of', \"tom's\", 'truthfulness', 'tom', 'as', 'an', 'artist', 'interrupted', 'courtship', 'the', 'master', 'vain', 'pleading', 'tail', 'piece', 'the', 'grave', 'in', 'the', 'woods', 'tom', 'meditates', 'robin', 'hood', 'and', 'his', 'foe', 'death', 'of', 'robin', 'hood', 'midnight', \"tom's\", 'mode', 'of', 'egress', \"tom's\", 'effort', 'at', 'prayer', 'muff', 'potter', 'outwitted', 'the', 'graveyard', 'forewarnings', 'disturbing', \"muff's\", 'sleep', \"tom's\", 'talk', 'with', 'his', 'aunt', 'muff', 'potter', 'a', 'suspicious', 'incident', 'injun', \"joe's\", 'two', 'victims', 'in', 'the', 'coils', 'peter', 'aunt', 'polly', 'seeks', 'information', 'a', 'general', 'good', 'time', 'demoralized', 'joe', 'harper', 'on', 'board', 'their', 'first', 'prize', 'the', 'pirates', 'ashore', 'wild', 'life', 'the', \"pirate's\", 'bath', 'the', 'pleasant', 'stroll', 'the', 'search', 'for', 'the', 'drowned', 'the', 'mysterious', 'writing', 'river', 'view', 'what', 'tom', 'saw', 'tom', 'swims', 'the', 'river', 'taking', 'lessons', 'the', \"pirates'\", 'egg', 'market', 'tom', 'looking', 'for', \"joe's\", 'knife', 'the', 'thunder', 'storm', 'terrible', 'slaughter', 'the', 'mourner', \"tom's\", 'proudest', 'moment', 'amy', 'lawrence', 'tom', 'tries', 'to', 'remember', 'the', 'hero', 'a', 'flirtation', 'becky', 'retaliates', 'a', 'sudden', 'frost', 'counter-irritation', 'aunt', 'polly', 'tom', 'justified', 'the', 'discovery', 'caught', 'in', 'the', 'act', 'tom', 'astonishes', 'the', 'school', 'literature', 'tom', 'declaims', 'examination', 'evening', 'on', 'exhibition', 'prize', 'authors', 'the', \"master's\", 'dilemma', 'the', 'school', 'house', 'the', 'cadet', 'happy', 'for', 'two', 'days', 'enjoying', 'the', 'vacation', 'the', 'stolen', 'melons', 'the', 'judge', 'visiting', 'the', 'prisoner', 'tom', 'swears', 'the', 'court', 'room', 'the', 'detective', 'tom', 'dreams', 'the', 'treasure', 'the', 'private', 'conference', 'a', 'king;', 'poor', 'fellow!', 'business', 'the', \"ha'nted\", 'house', 'injun', 'joe', 'the', 'greatest', 'and', 'best', 'hidden', 'treasures', 'unearthed', 'the', \"boy's\", 'salvation', 'room', 'no']\n",
            "['2', 'the', 'next', \"day's\", 'conference', 'treasures', 'uncle', 'jake', 'buck', 'at', 'home', 'the', 'haunted', 'room', '“run', 'for', 'your', 'life”', \"mcdougal's\", 'cave', 'inside', 'the', 'cave', 'huck', 'on', 'duty', 'a', 'rousing', 'act', 'tail', 'piece', 'the', 'welchman', 'result', 'of', 'a', 'sneeze', 'cornered', 'alarming', 'discoveries', 'tom', 'and', 'becky', 'stir', 'up', 'the', 'town', \"tom's\", 'marks', 'huck', 'questions', 'the', 'widow', 'vampires', 'wonders', 'of', 'the', 'cave', 'attacked', 'by', 'natives', 'despair', 'the', 'wedding', 'cake', 'a', 'new', 'terror', 'daylight', '“turn', 'out”', 'to', 'receive', 'tom', 'and', 'becky', 'the', 'escape', 'from', 'the', 'cave', 'fate', 'of', 'the', 'ragged', 'man', 'the', 'treasures', 'found', 'caught', 'at', 'last', 'drop', 'after', 'drop', 'having', 'a', 'good', 'time', 'a', 'business', 'trip', '“got', 'it', 'at', 'last!”', 'tail', 'piece', 'widow', 'douglas', 'tom', 'backs', 'his', 'statement', 'tail', 'piece', 'huck', 'transformed', 'comfortable', 'once', 'more', 'high', 'up', 'in', 'society', 'contentment', 'preface', 'most', 'of', 'the', 'adventures', 'recorded', 'in', 'this', 'book', 'really', 'occurred;', 'one', 'or', 'two', 'were', 'experiences', 'of', 'my', 'own,', 'the', 'rest', 'those', 'of', 'boys', 'who', 'were', 'schoolmates', 'of', 'mine']\n",
            "['huck', 'finn', 'is', 'drawn', 'from', 'life;', 'tom', 'sawyer', 'also,', 'but', 'not', 'from', 'an', 'individual--he', 'is', 'a', 'combination', 'of', 'the', 'characteristics', 'of', 'three', 'boys', 'whom', 'i', 'knew,', 'and', 'therefore', 'belongs', 'to', 'the', 'composite', 'order', 'of', 'architecture']\n",
            "['the', 'odd', 'superstitions', 'touched', 'upon', 'were', 'all', 'prevalent', 'among', 'children', 'and', 'slaves', 'in', 'the', 'west', 'at', 'the', 'period', 'of', 'this', 'story--that', 'is', 'to', 'say,', 'thirty', 'or', 'forty', 'years', 'ago']\n",
            "['although', 'my', 'book', 'is', 'intended', 'mainly', 'for', 'the', 'entertainment', 'of', 'boys', 'and', 'girls,', 'i', 'hope', 'it', 'will', 'not', 'be', 'shunned', 'by', 'men', 'and', 'women', 'on', 'that', 'account,', 'for', 'part', 'of', 'my', 'plan', 'has', 'been', 'to', 'try', 'to', 'pleasantly', 'remind', 'adults', 'of', 'what', 'they', 'once', 'were', 'themselves,', 'and', 'of', 'how', 'they', 'felt', 'and', 'thought', 'and', 'talked,', 'and', 'what', 'queer', 'enterprises', 'they', 'sometimes', 'engaged', 'in']\n",
            "['the', 'author']\n"
          ],
          "name": "stdout"
        }
      ]
    },
    {
      "cell_type": "code",
      "metadata": {
        "id": "K3KWzLfs6_0K",
        "colab_type": "code",
        "colab": {}
      },
      "source": [
        "stopwords = ['and', 'an', 'the', 'for']"
      ],
      "execution_count": 0,
      "outputs": []
    }
  ]
}