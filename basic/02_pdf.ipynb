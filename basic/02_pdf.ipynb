{
  "nbformat": 4,
  "nbformat_minor": 0,
  "metadata": {
    "colab": {
      "name": "01_preprocessing.ipynb",
      "provenance": [],
      "include_colab_link": true
    },
    "kernelspec": {
      "name": "python3",
      "display_name": "Python 3"
    }
  },
  "cells": [
    {
      "cell_type": "markdown",
      "metadata": {
        "id": "view-in-github",
        "colab_type": "text"
      },
      "source": [
        "<a href=\"https://colab.research.google.com/github/krakowiakpawel9/ml_course/blob/master/basic/02_pdf.ipynb\" target=\"_parent\"><img src=\"https://colab.research.google.com/assets/colab-badge.svg\" alt=\"Open In Colab\"/></a>"
      ]
    },
    {
      "cell_type": "markdown",
      "metadata": {
        "id": "UbjsT92Xd3z1",
        "colab_type": "text"
      },
      "source": [
        "* @author: krakowiakpawel9@gmail.com  \n",
        "* @site: e-smartdata.org\n",
        "\n",
        "### nltk\n",
        "Strona biblioteki: [https://www.nltk.org/](https://www.nltk.org/)  \n",
        "\n",
        "Podstawowa biblioteka do przetwarzania języka naturalnego w języku Python.\n",
        "\n",
        "Aby zainstalować bibliotekę nltk, użyj polecenia poniżej:\n",
        "```\n",
        "!pip install nltk\n",
        "```\n",
        "Aby zaktualizować do najnowszej wersji użyj polecenia poniżej:\n",
        "```\n",
        "!pip install --upgrade nltk\n",
        "```\n",
        "Kurs stworzony w oparciu o wersję `3.2.5`\n",
        "\n",
        "### Spis treści:\n",
        "1. [Import bibliotek](#0)\n",
        "2. [Wygenerowanie danych](#1)\n",
        "\n"
      ]
    },
    {
      "cell_type": "markdown",
      "metadata": {
        "id": "YkIALacsUnj7",
        "colab_type": "text"
      },
      "source": [
        "### <a name='0'></a> Import bibliotek"
      ]
    },
    {
      "cell_type": "code",
      "metadata": {
        "id": "EYp5C7PPK4v4",
        "colab_type": "code",
        "colab": {}
      },
      "source": [
        "# !pip install PyPDF2"
      ],
      "execution_count": 0,
      "outputs": []
    },
    {
      "cell_type": "code",
      "metadata": {
        "id": "1QJK6NQ6KSnW",
        "colab_type": "code",
        "colab": {
          "base_uri": "https://localhost:8080/",
          "height": 35
        },
        "outputId": "838cf972-861f-4b92-88f6-8190935fc6e5"
      },
      "source": [
        "import PyPDF2\n",
        "PyPDF2.__version__"
      ],
      "execution_count": 2,
      "outputs": [
        {
          "output_type": "execute_result",
          "data": {
            "text/plain": [
              "'1.26.0'"
            ]
          },
          "metadata": {
            "tags": []
          },
          "execution_count": 2
        }
      ]
    },
    {
      "cell_type": "code",
      "metadata": {
        "id": "rvYz0c8OOTum",
        "colab_type": "code",
        "colab": {
          "base_uri": "https://localhost:8080/",
          "height": 435
        },
        "outputId": "6ad733ac-7115-47fc-813a-0594d462ad00"
      },
      "source": [
        "from PyPDF2 import PdfFileReader\n",
        "\n",
        "with open('sample.pdf', 'rb') as file:\n",
        "    pdf = PdfFileReader(file)\n",
        "    page = pdf.getPage(0)\n",
        "    text = page.extractText()\n",
        "\n",
        "print(text)"
      ],
      "execution_count": 3,
      "outputs": [
        {
          "output_type": "stream",
          "text": [
            "Adobe Acrobat PDF Files\n",
            "Adobe® Portable Document Format (PDF) is a universal file format that preserves all\n",
            "of the fonts, formatting, colours and graphics of any source document, regardless of\n",
            "\n",
            "the application and platform used to create it.\n",
            "Adobe PDF is an ideal format for electronic document distribution as it overcomes the\n",
            "problems commonly encountered with electronic file sharing.\n",
            " Anyone, anywhere can open a PDF file. All you need is the free Adobe Acrobat\n",
            "Reader. Recipients of other file formats sometimes can't open files because they\n",
            "don't have the applications used to create the documents.\n",
            " PDF files \n",
            "always print correctly\n",
            " on any printing device.\n",
            " PDF files always display \n",
            "exactly\n",
            " as created, regardless of fonts, software, and\n",
            "operating systems. Fonts, and graphics are not lost due to platform, software, and\n",
            "version incompatibilities.\n",
            " The free Acrobat Reader is easy to download and can be freely distributed by\n",
            "anyone.\n",
            " Compact PDF files are smaller than their source files and download a\n",
            "page at a time for fast display on the Web.\n",
            "\n"
          ],
          "name": "stdout"
        }
      ]
    },
    {
      "cell_type": "code",
      "metadata": {
        "id": "CYagUmv2OoRP",
        "colab_type": "code",
        "colab": {
          "base_uri": "https://localhost:8080/",
          "height": 435
        },
        "outputId": "86ec925e-b10c-490d-b496-7c31c82d4920"
      },
      "source": [
        "lines = text.split('\\n')\n",
        "lines"
      ],
      "execution_count": 4,
      "outputs": [
        {
          "output_type": "execute_result",
          "data": {
            "text/plain": [
              "['Adobe Acrobat PDF Files',\n",
              " 'Adobe® Portable Document Format (PDF) is a universal file format that preserves all',\n",
              " 'of the fonts, formatting, colours and graphics of any source document, regardless of',\n",
              " '',\n",
              " 'the application and platform used to create it.',\n",
              " 'Adobe PDF is an ideal format for electronic document distribution as it overcomes the',\n",
              " 'problems commonly encountered with electronic file sharing.',\n",
              " ' Anyone, anywhere can open a PDF file. All you need is the free Adobe Acrobat',\n",
              " \"Reader. Recipients of other file formats sometimes can't open files because they\",\n",
              " \"don't have the applications used to create the documents.\",\n",
              " ' PDF files ',\n",
              " 'always print correctly',\n",
              " ' on any printing device.',\n",
              " ' PDF files always display ',\n",
              " 'exactly',\n",
              " ' as created, regardless of fonts, software, and',\n",
              " 'operating systems. Fonts, and graphics are not lost due to platform, software, and',\n",
              " 'version incompatibilities.',\n",
              " ' The free Acrobat Reader is easy to download and can be freely distributed by',\n",
              " 'anyone.',\n",
              " ' Compact PDF files are smaller than their source files and download a',\n",
              " 'page at a time for fast display on the Web.',\n",
              " '']"
            ]
          },
          "metadata": {
            "tags": []
          },
          "execution_count": 4
        }
      ]
    },
    {
      "cell_type": "code",
      "metadata": {
        "id": "ieNaSBUYOouH",
        "colab_type": "code",
        "colab": {
          "base_uri": "https://localhost:8080/",
          "height": 435
        },
        "outputId": "daea538c-4b49-46a6-ae18-af586faeab9b"
      },
      "source": [
        "lines = [line.strip() for line in lines]\n",
        "lines"
      ],
      "execution_count": 5,
      "outputs": [
        {
          "output_type": "execute_result",
          "data": {
            "text/plain": [
              "['Adobe Acrobat PDF Files',\n",
              " 'Adobe® Portable Document Format (PDF) is a universal file format that preserves all',\n",
              " 'of the fonts, formatting, colours and graphics of any source document, regardless of',\n",
              " '',\n",
              " 'the application and platform used to create it.',\n",
              " 'Adobe PDF is an ideal format for electronic document distribution as it overcomes the',\n",
              " 'problems commonly encountered with electronic file sharing.',\n",
              " 'Anyone, anywhere can open a PDF file. All you need is the free Adobe Acrobat',\n",
              " \"Reader. Recipients of other file formats sometimes can't open files because they\",\n",
              " \"don't have the applications used to create the documents.\",\n",
              " 'PDF files',\n",
              " 'always print correctly',\n",
              " 'on any printing device.',\n",
              " 'PDF files always display',\n",
              " 'exactly',\n",
              " 'as created, regardless of fonts, software, and',\n",
              " 'operating systems. Fonts, and graphics are not lost due to platform, software, and',\n",
              " 'version incompatibilities.',\n",
              " 'The free Acrobat Reader is easy to download and can be freely distributed by',\n",
              " 'anyone.',\n",
              " 'Compact PDF files are smaller than their source files and download a',\n",
              " 'page at a time for fast display on the Web.',\n",
              " '']"
            ]
          },
          "metadata": {
            "tags": []
          },
          "execution_count": 5
        }
      ]
    },
    {
      "cell_type": "code",
      "metadata": {
        "id": "e_2YBIPUO0Vj",
        "colab_type": "code",
        "colab": {
          "base_uri": "https://localhost:8080/",
          "height": 399
        },
        "outputId": "bb49f41b-0fc2-4732-f804-c9230b93c1e2"
      },
      "source": [
        "lines = [line for line in lines if len(line) > 0]\n",
        "lines"
      ],
      "execution_count": 6,
      "outputs": [
        {
          "output_type": "execute_result",
          "data": {
            "text/plain": [
              "['Adobe Acrobat PDF Files',\n",
              " 'Adobe® Portable Document Format (PDF) is a universal file format that preserves all',\n",
              " 'of the fonts, formatting, colours and graphics of any source document, regardless of',\n",
              " 'the application and platform used to create it.',\n",
              " 'Adobe PDF is an ideal format for electronic document distribution as it overcomes the',\n",
              " 'problems commonly encountered with electronic file sharing.',\n",
              " 'Anyone, anywhere can open a PDF file. All you need is the free Adobe Acrobat',\n",
              " \"Reader. Recipients of other file formats sometimes can't open files because they\",\n",
              " \"don't have the applications used to create the documents.\",\n",
              " 'PDF files',\n",
              " 'always print correctly',\n",
              " 'on any printing device.',\n",
              " 'PDF files always display',\n",
              " 'exactly',\n",
              " 'as created, regardless of fonts, software, and',\n",
              " 'operating systems. Fonts, and graphics are not lost due to platform, software, and',\n",
              " 'version incompatibilities.',\n",
              " 'The free Acrobat Reader is easy to download and can be freely distributed by',\n",
              " 'anyone.',\n",
              " 'Compact PDF files are smaller than their source files and download a',\n",
              " 'page at a time for fast display on the Web.']"
            ]
          },
          "metadata": {
            "tags": []
          },
          "execution_count": 6
        }
      ]
    },
    {
      "cell_type": "code",
      "metadata": {
        "id": "5BL4U6ijO67c",
        "colab_type": "code",
        "colab": {
          "base_uri": "https://localhost:8080/",
          "height": 399
        },
        "outputId": "2f94273c-23e4-47d8-b364-4ec19dcb2d7d"
      },
      "source": [
        "splitted_lines = [line.split() for line in lines]\n",
        "\n",
        "for line in splitted_lines:\n",
        "    print(line)"
      ],
      "execution_count": 7,
      "outputs": [
        {
          "output_type": "stream",
          "text": [
            "['Adobe', 'Acrobat', 'PDF', 'Files']\n",
            "['Adobe®', 'Portable', 'Document', 'Format', '(PDF)', 'is', 'a', 'universal', 'file', 'format', 'that', 'preserves', 'all']\n",
            "['of', 'the', 'fonts,', 'formatting,', 'colours', 'and', 'graphics', 'of', 'any', 'source', 'document,', 'regardless', 'of']\n",
            "['the', 'application', 'and', 'platform', 'used', 'to', 'create', 'it.']\n",
            "['Adobe', 'PDF', 'is', 'an', 'ideal', 'format', 'for', 'electronic', 'document', 'distribution', 'as', 'it', 'overcomes', 'the']\n",
            "['problems', 'commonly', 'encountered', 'with', 'electronic', 'file', 'sharing.']\n",
            "['Anyone,', 'anywhere', 'can', 'open', 'a', 'PDF', 'file.', 'All', 'you', 'need', 'is', 'the', 'free', 'Adobe', 'Acrobat']\n",
            "['Reader.', 'Recipients', 'of', 'other', 'file', 'formats', 'sometimes', \"can't\", 'open', 'files', 'because', 'they']\n",
            "[\"don't\", 'have', 'the', 'applications', 'used', 'to', 'create', 'the', 'documents.']\n",
            "['PDF', 'files']\n",
            "['always', 'print', 'correctly']\n",
            "['on', 'any', 'printing', 'device.']\n",
            "['PDF', 'files', 'always', 'display']\n",
            "['exactly']\n",
            "['as', 'created,', 'regardless', 'of', 'fonts,', 'software,', 'and']\n",
            "['operating', 'systems.', 'Fonts,', 'and', 'graphics', 'are', 'not', 'lost', 'due', 'to', 'platform,', 'software,', 'and']\n",
            "['version', 'incompatibilities.']\n",
            "['The', 'free', 'Acrobat', 'Reader', 'is', 'easy', 'to', 'download', 'and', 'can', 'be', 'freely', 'distributed', 'by']\n",
            "['anyone.']\n",
            "['Compact', 'PDF', 'files', 'are', 'smaller', 'than', 'their', 'source', 'files', 'and', 'download', 'a']\n",
            "['page', 'at', 'a', 'time', 'for', 'fast', 'display', 'on', 'the', 'Web.']\n"
          ],
          "name": "stdout"
        }
      ]
    },
    {
      "cell_type": "code",
      "metadata": {
        "id": "tebzixltPCWY",
        "colab_type": "code",
        "colab": {
          "base_uri": "https://localhost:8080/",
          "height": 399
        },
        "outputId": "aab74e2e-01f1-4af1-9e70-2e27565d7856"
      },
      "source": [
        "splitted_lines_lower = [[token.lower() for token in line] for line in splitted_lines]\n",
        "\n",
        "for line in splitted_lines_lower:\n",
        "    print(line)"
      ],
      "execution_count": 11,
      "outputs": [
        {
          "output_type": "stream",
          "text": [
            "['adobe', 'acrobat', 'pdf', 'files']\n",
            "['adobe®', 'portable', 'document', 'format', '(pdf)', 'is', 'a', 'universal', 'file', 'format', 'that', 'preserves', 'all']\n",
            "['of', 'the', 'fonts,', 'formatting,', 'colours', 'and', 'graphics', 'of', 'any', 'source', 'document,', 'regardless', 'of']\n",
            "['the', 'application', 'and', 'platform', 'used', 'to', 'create', 'it.']\n",
            "['adobe', 'pdf', 'is', 'an', 'ideal', 'format', 'for', 'electronic', 'document', 'distribution', 'as', 'it', 'overcomes', 'the']\n",
            "['problems', 'commonly', 'encountered', 'with', 'electronic', 'file', 'sharing.']\n",
            "['anyone,', 'anywhere', 'can', 'open', 'a', 'pdf', 'file.', 'all', 'you', 'need', 'is', 'the', 'free', 'adobe', 'acrobat']\n",
            "['reader.', 'recipients', 'of', 'other', 'file', 'formats', 'sometimes', \"can't\", 'open', 'files', 'because', 'they']\n",
            "[\"don't\", 'have', 'the', 'applications', 'used', 'to', 'create', 'the', 'documents.']\n",
            "['pdf', 'files']\n",
            "['always', 'print', 'correctly']\n",
            "['on', 'any', 'printing', 'device.']\n",
            "['pdf', 'files', 'always', 'display']\n",
            "['exactly']\n",
            "['as', 'created,', 'regardless', 'of', 'fonts,', 'software,', 'and']\n",
            "['operating', 'systems.', 'fonts,', 'and', 'graphics', 'are', 'not', 'lost', 'due', 'to', 'platform,', 'software,', 'and']\n",
            "['version', 'incompatibilities.']\n",
            "['the', 'free', 'acrobat', 'reader', 'is', 'easy', 'to', 'download', 'and', 'can', 'be', 'freely', 'distributed', 'by']\n",
            "['anyone.']\n",
            "['compact', 'pdf', 'files', 'are', 'smaller', 'than', 'their', 'source', 'files', 'and', 'download', 'a']\n",
            "['page', 'at', 'a', 'time', 'for', 'fast', 'display', 'on', 'the', 'web.']\n"
          ],
          "name": "stdout"
        }
      ]
    },
    {
      "cell_type": "code",
      "metadata": {
        "id": "KxlrD0dxPXqE",
        "colab_type": "code",
        "colab": {
          "base_uri": "https://localhost:8080/",
          "height": 399
        },
        "outputId": "90627810-0be8-4524-f208-1d8f4360a0ee"
      },
      "source": [
        "joined_lines = [' '.join(line) for line in splitted_lines_lower]\n",
        "\n",
        "for line in joined_lines:\n",
        "    print(line)"
      ],
      "execution_count": 13,
      "outputs": [
        {
          "output_type": "stream",
          "text": [
            "adobe acrobat pdf files\n",
            "adobe® portable document format (pdf) is a universal file format that preserves all\n",
            "of the fonts, formatting, colours and graphics of any source document, regardless of\n",
            "the application and platform used to create it.\n",
            "adobe pdf is an ideal format for electronic document distribution as it overcomes the\n",
            "problems commonly encountered with electronic file sharing.\n",
            "anyone, anywhere can open a pdf file. all you need is the free adobe acrobat\n",
            "reader. recipients of other file formats sometimes can't open files because they\n",
            "don't have the applications used to create the documents.\n",
            "pdf files\n",
            "always print correctly\n",
            "on any printing device.\n",
            "pdf files always display\n",
            "exactly\n",
            "as created, regardless of fonts, software, and\n",
            "operating systems. fonts, and graphics are not lost due to platform, software, and\n",
            "version incompatibilities.\n",
            "the free acrobat reader is easy to download and can be freely distributed by\n",
            "anyone.\n",
            "compact pdf files are smaller than their source files and download a\n",
            "page at a time for fast display on the web.\n"
          ],
          "name": "stdout"
        }
      ]
    },
    {
      "cell_type": "code",
      "metadata": {
        "id": "OXukBWwUP0eb",
        "colab_type": "code",
        "colab": {}
      },
      "source": [
        ""
      ],
      "execution_count": 0,
      "outputs": []
    }
  ]
}