{
  "nbformat": 4,
  "nbformat_minor": 0,
  "metadata": {
    "colab": {
      "name": "01_preprocessing.ipynb",
      "provenance": [],
      "include_colab_link": true
    },
    "kernelspec": {
      "name": "python3",
      "display_name": "Python 3"
    }
  },
  "cells": [
    {
      "cell_type": "markdown",
      "metadata": {
        "id": "view-in-github",
        "colab_type": "text"
      },
      "source": [
        "<a href=\"https://colab.research.google.com/github/krakowiakpawel9/ml_course/blob/master/nlp/02_tokenization.ipynb\" target=\"_parent\"><img src=\"https://colab.research.google.com/assets/colab-badge.svg\" alt=\"Open In Colab\"/></a>"
      ]
    },
    {
      "cell_type": "markdown",
      "metadata": {
        "id": "UbjsT92Xd3z1",
        "colab_type": "text"
      },
      "source": [
        "* @author: krakowiakpawel9@gmail.com  \n",
        "* @site: e-smartdata.org\n",
        "\n",
        "### nltk\n",
        "Strona biblioteki: [https://www.nltk.org/](https://www.nltk.org/)  \n",
        "\n",
        "Podstawowa biblioteka do przetwarzania języka naturalnego w języku Python.\n",
        "\n",
        "Aby zainstalować bibliotekę nltk, użyj polecenia poniżej:\n",
        "```\n",
        "!pip install nltk\n",
        "```\n",
        "Aby zaktualizować do najnowszej wersji użyj polecenia poniżej:\n",
        "```\n",
        "!pip install --upgrade nltk\n",
        "```\n",
        "Kurs stworzony w oparciu o wersję `3.2.5`\n",
        "\n",
        "### Spis treści:\n",
        "1. [Import bibliotek](#0)\n",
        "2. [Wygenerowanie danych](#1)\n",
        "\n"
      ]
    },
    {
      "cell_type": "markdown",
      "metadata": {
        "id": "YkIALacsUnj7",
        "colab_type": "text"
      },
      "source": [
        "### <a name='0'></a> Import bibliotek"
      ]
    },
    {
      "cell_type": "code",
      "metadata": {
        "id": "A0uiwgITPOnq",
        "colab_type": "code",
        "colab": {
          "base_uri": "https://localhost:8080/",
          "height": 68
        },
        "outputId": "fcee6858-e789-4283-f2ec-929ca67bfb93"
      },
      "source": [
        "import nltk\n",
        "\n",
        "nltk.download('punkt')\n",
        "nltk.__version__"
      ],
      "execution_count": 50,
      "outputs": [
        {
          "output_type": "stream",
          "text": [
            "[nltk_data] Downloading package punkt to /root/nltk_data...\n",
            "[nltk_data]   Unzipping tokenizers/punkt.zip.\n"
          ],
          "name": "stdout"
        },
        {
          "output_type": "execute_result",
          "data": {
            "text/plain": [
              "'3.2.5'"
            ]
          },
          "metadata": {
            "tags": []
          },
          "execution_count": 50
        }
      ]
    },
    {
      "cell_type": "markdown",
      "metadata": {
        "id": "hQHOd6YDPSzh",
        "colab_type": "text"
      },
      "source": [
        "Token"
      ]
    },
    {
      "cell_type": "code",
      "metadata": {
        "id": "I83w5yg9PQUT",
        "colab_type": "code",
        "colab": {}
      },
      "source": [
        "text = 'Nancy wants to live a long time.'\n",
        "# token -> zdanie\n",
        "# token -> wyraz\n",
        "# token -> pojedynczy znak"
      ],
      "execution_count": 0,
      "outputs": []
    },
    {
      "cell_type": "code",
      "metadata": {
        "id": "Vwij8ms5PTSw",
        "colab_type": "code",
        "colab": {
          "base_uri": "https://localhost:8080/",
          "height": 54
        },
        "outputId": "4a11277e-0c79-4b47-b05c-10a020f99497"
      },
      "source": [
        "text = \"\"\"Nancy wants to live a long time. She wants to live for one hundred years. She is five years old now.\n",
        "She wants to live 95 more years. Then she will be 100. Her father is 30 years old.\n",
        "He wants to live a long time, too. He wants to live for one hundred years. He wants to live for 70 more years.\n",
        "\"Daddy, we will grow old together, okay?\" Nancy said to her father. \"Yes, honey, we will grow old together,\" he said to Nancy.\n",
        "Then Nancy smiled. She gave her daddy a big hug.\"\"\"\n",
        "\n",
        "text"
      ],
      "execution_count": 47,
      "outputs": [
        {
          "output_type": "execute_result",
          "data": {
            "text/plain": [
              "'Nancy wants to live a long time. She wants to live for one hundred years. She is five years old now.\\nShe wants to live 95 more years. Then she will be 100. Her father is 30 years old.\\nHe wants to live a long time, too. He wants to live for one hundred years. He wants to live for 70 more years.\\n\"Daddy, we will grow old together, okay?\" Nancy said to her father. \"Yes, honey, we will grow old together,\" he said to Nancy.\\nThen Nancy smiled. She gave her daddy a big hug.'"
            ]
          },
          "metadata": {
            "tags": []
          },
          "execution_count": 47
        }
      ]
    },
    {
      "cell_type": "code",
      "metadata": {
        "id": "1sO_oeQ7PsxM",
        "colab_type": "code",
        "colab": {
          "base_uri": "https://localhost:8080/",
          "height": 102
        },
        "outputId": "be1b1d15-ae63-4d6a-f193-c8c58ddeace2"
      },
      "source": [
        "print(text)"
      ],
      "execution_count": 48,
      "outputs": [
        {
          "output_type": "stream",
          "text": [
            "Nancy wants to live a long time. She wants to live for one hundred years. She is five years old now.\n",
            "She wants to live 95 more years. Then she will be 100. Her father is 30 years old.\n",
            "He wants to live a long time, too. He wants to live for one hundred years. He wants to live for 70 more years.\n",
            "\"Daddy, we will grow old together, okay?\" Nancy said to her father. \"Yes, honey, we will grow old together,\" he said to Nancy.\n",
            "Then Nancy smiled. She gave her daddy a big hug.\n"
          ],
          "name": "stdout"
        }
      ]
    },
    {
      "cell_type": "markdown",
      "metadata": {
        "id": "xCP5zd--P7a6",
        "colab_type": "text"
      },
      "source": [
        "Tokenizacja zdań"
      ]
    },
    {
      "cell_type": "code",
      "metadata": {
        "id": "6FnPTANoPvtG",
        "colab_type": "code",
        "colab": {
          "base_uri": "https://localhost:8080/",
          "height": 255
        },
        "outputId": "71cd4c8d-18b7-4da7-f78c-1b2c57487463"
      },
      "source": [
        "from nltk.tokenize import sent_tokenize\n",
        "\n",
        "sent_tokenize(text)"
      ],
      "execution_count": 51,
      "outputs": [
        {
          "output_type": "execute_result",
          "data": {
            "text/plain": [
              "['Nancy wants to live a long time.',\n",
              " 'She wants to live for one hundred years.',\n",
              " 'She is five years old now.',\n",
              " 'She wants to live 95 more years.',\n",
              " 'Then she will be 100.',\n",
              " 'Her father is 30 years old.',\n",
              " 'He wants to live a long time, too.',\n",
              " 'He wants to live for one hundred years.',\n",
              " 'He wants to live for 70 more years.',\n",
              " '\"Daddy, we will grow old together, okay?\"',\n",
              " 'Nancy said to her father.',\n",
              " '\"Yes, honey, we will grow old together,\" he said to Nancy.',\n",
              " 'Then Nancy smiled.',\n",
              " 'She gave her daddy a big hug.']"
            ]
          },
          "metadata": {
            "tags": []
          },
          "execution_count": 51
        }
      ]
    },
    {
      "cell_type": "markdown",
      "metadata": {
        "id": "s-6MjJovP-sQ",
        "colab_type": "text"
      },
      "source": [
        "Tokenizacja słów"
      ]
    },
    {
      "cell_type": "code",
      "metadata": {
        "id": "wxeSsn3vPx1Q",
        "colab_type": "code",
        "colab": {
          "base_uri": "https://localhost:8080/",
          "height": 1000
        },
        "outputId": "6a7d8fae-b94d-495b-8fff-9170aed646c4"
      },
      "source": [
        "from nltk.tokenize import word_tokenize\n",
        "\n",
        "tokenized_text = word_tokenize(text)\n",
        "tokenized_text"
      ],
      "execution_count": 52,
      "outputs": [
        {
          "output_type": "execute_result",
          "data": {
            "text/plain": [
              "['Nancy',\n",
              " 'wants',\n",
              " 'to',\n",
              " 'live',\n",
              " 'a',\n",
              " 'long',\n",
              " 'time',\n",
              " '.',\n",
              " 'She',\n",
              " 'wants',\n",
              " 'to',\n",
              " 'live',\n",
              " 'for',\n",
              " 'one',\n",
              " 'hundred',\n",
              " 'years',\n",
              " '.',\n",
              " 'She',\n",
              " 'is',\n",
              " 'five',\n",
              " 'years',\n",
              " 'old',\n",
              " 'now',\n",
              " '.',\n",
              " 'She',\n",
              " 'wants',\n",
              " 'to',\n",
              " 'live',\n",
              " '95',\n",
              " 'more',\n",
              " 'years',\n",
              " '.',\n",
              " 'Then',\n",
              " 'she',\n",
              " 'will',\n",
              " 'be',\n",
              " '100',\n",
              " '.',\n",
              " 'Her',\n",
              " 'father',\n",
              " 'is',\n",
              " '30',\n",
              " 'years',\n",
              " 'old',\n",
              " '.',\n",
              " 'He',\n",
              " 'wants',\n",
              " 'to',\n",
              " 'live',\n",
              " 'a',\n",
              " 'long',\n",
              " 'time',\n",
              " ',',\n",
              " 'too',\n",
              " '.',\n",
              " 'He',\n",
              " 'wants',\n",
              " 'to',\n",
              " 'live',\n",
              " 'for',\n",
              " 'one',\n",
              " 'hundred',\n",
              " 'years',\n",
              " '.',\n",
              " 'He',\n",
              " 'wants',\n",
              " 'to',\n",
              " 'live',\n",
              " 'for',\n",
              " '70',\n",
              " 'more',\n",
              " 'years',\n",
              " '.',\n",
              " '``',\n",
              " 'Daddy',\n",
              " ',',\n",
              " 'we',\n",
              " 'will',\n",
              " 'grow',\n",
              " 'old',\n",
              " 'together',\n",
              " ',',\n",
              " 'okay',\n",
              " '?',\n",
              " \"''\",\n",
              " 'Nancy',\n",
              " 'said',\n",
              " 'to',\n",
              " 'her',\n",
              " 'father',\n",
              " '.',\n",
              " '``',\n",
              " 'Yes',\n",
              " ',',\n",
              " 'honey',\n",
              " ',',\n",
              " 'we',\n",
              " 'will',\n",
              " 'grow',\n",
              " 'old',\n",
              " 'together',\n",
              " ',',\n",
              " \"''\",\n",
              " 'he',\n",
              " 'said',\n",
              " 'to',\n",
              " 'Nancy',\n",
              " '.',\n",
              " 'Then',\n",
              " 'Nancy',\n",
              " 'smiled',\n",
              " '.',\n",
              " 'She',\n",
              " 'gave',\n",
              " 'her',\n",
              " 'daddy',\n",
              " 'a',\n",
              " 'big',\n",
              " 'hug',\n",
              " '.']"
            ]
          },
          "metadata": {
            "tags": []
          },
          "execution_count": 52
        }
      ]
    },
    {
      "cell_type": "markdown",
      "metadata": {
        "id": "QEux3kRdQVnS",
        "colab_type": "text"
      },
      "source": [
        "Tokenizacja znaków"
      ]
    },
    {
      "cell_type": "code",
      "metadata": {
        "id": "A_NnFcvxP_0y",
        "colab_type": "code",
        "colab": {
          "base_uri": "https://localhost:8080/",
          "height": 34
        },
        "outputId": "cfb7cdce-4e76-41e8-a99c-2e8beb46d9d0"
      },
      "source": [
        "numbers = '98734984'\n",
        "tokens = list(numbers)\n",
        "tokens"
      ],
      "execution_count": 54,
      "outputs": [
        {
          "output_type": "execute_result",
          "data": {
            "text/plain": [
              "['9', '8', '7', '3', '4', '9', '8', '4']"
            ]
          },
          "metadata": {
            "tags": []
          },
          "execution_count": 54
        }
      ]
    },
    {
      "cell_type": "code",
      "metadata": {
        "id": "zvR3ggYFQSiM",
        "colab_type": "code",
        "colab": {}
      },
      "source": [
        ""
      ],
      "execution_count": 0,
      "outputs": []
    }
  ]
}