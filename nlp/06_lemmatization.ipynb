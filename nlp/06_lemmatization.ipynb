{
  "nbformat": 4,
  "nbformat_minor": 0,
  "metadata": {
    "colab": {
      "name": "01_preprocessing.ipynb",
      "provenance": [],
      "include_colab_link": true
    },
    "kernelspec": {
      "name": "python3",
      "display_name": "Python 3"
    }
  },
  "cells": [
    {
      "cell_type": "markdown",
      "metadata": {
        "id": "view-in-github",
        "colab_type": "text"
      },
      "source": [
        "<a href=\"https://colab.research.google.com/github/krakowiakpawel9/ml_course/blob/master/nlp/06_lemmatization.ipynb\" target=\"_parent\"><img src=\"https://colab.research.google.com/assets/colab-badge.svg\" alt=\"Open In Colab\"/></a>"
      ]
    },
    {
      "cell_type": "markdown",
      "metadata": {
        "id": "UbjsT92Xd3z1",
        "colab_type": "text"
      },
      "source": [
        "* @author: krakowiakpawel9@gmail.com  \n",
        "* @site: e-smartdata.org\n",
        "\n",
        "### nltk\n",
        "Strona biblioteki: [https://www.nltk.org/](https://www.nltk.org/)  \n",
        "\n",
        "Podstawowa biblioteka do przetwarzania języka naturalnego w języku Python.\n",
        "\n",
        "Aby zainstalować bibliotekę nltk, użyj polecenia poniżej:\n",
        "```\n",
        "!pip install nltk\n",
        "```\n",
        "Aby zaktualizować do najnowszej wersji użyj polecenia poniżej:\n",
        "```\n",
        "!pip install --upgrade nltk\n",
        "```\n",
        "Kurs stworzony w oparciu o wersję `3.2.5`\n",
        "\n",
        "### Spis treści:\n",
        "1. [Import bibliotek](#0)\n",
        "2. [Wygenerowanie danych](#1)\n",
        "\n"
      ]
    },
    {
      "cell_type": "markdown",
      "metadata": {
        "id": "YkIALacsUnj7",
        "colab_type": "text"
      },
      "source": [
        "### <a name='0'></a> Import bibliotek"
      ]
    },
    {
      "cell_type": "code",
      "metadata": {
        "id": "ZY9mB16a1v-H",
        "colab_type": "code",
        "colab": {
          "base_uri": "https://localhost:8080/",
          "height": 68
        },
        "outputId": "4c52700c-1f72-493b-d2b9-c87c69a27ed4"
      },
      "source": [
        "import nltk\n",
        "nltk.download('wordnet')\n",
        "nltk.__version__"
      ],
      "execution_count": 91,
      "outputs": [
        {
          "output_type": "stream",
          "text": [
            "[nltk_data] Downloading package wordnet to /root/nltk_data...\n",
            "[nltk_data]   Unzipping corpora/wordnet.zip.\n"
          ],
          "name": "stdout"
        },
        {
          "output_type": "execute_result",
          "data": {
            "text/plain": [
              "'3.2.5'"
            ]
          },
          "metadata": {
            "tags": []
          },
          "execution_count": 91
        }
      ]
    },
    {
      "cell_type": "code",
      "metadata": {
        "id": "iIEdWRL3175e",
        "colab_type": "code",
        "colab": {
          "base_uri": "https://localhost:8080/",
          "height": 85
        },
        "outputId": "ffd50ddd-c0ce-4374-dd5a-6745d8caa31b"
      },
      "source": [
        "from nltk.stem import WordNetLemmatizer\n",
        "\n",
        "lemmatizer = WordNetLemmatizer()\n",
        "\n",
        "for word in ['play', 'plays', 'playing', 'played']:\n",
        "    print(f'{word.ljust(8)}:{lemmatizer.lemmatize(word).ljust(5)}')"
      ],
      "execution_count": 92,
      "outputs": [
        {
          "output_type": "stream",
          "text": [
            "play    :play \n",
            "plays   :play \n",
            "playing :playing\n",
            "played  :played\n"
          ],
          "name": "stdout"
        }
      ]
    },
    {
      "cell_type": "code",
      "metadata": {
        "id": "RuqHbrgG2XVc",
        "colab_type": "code",
        "colab": {
          "base_uri": "https://localhost:8080/",
          "height": 85
        },
        "outputId": "d968595d-424d-4d30-e5d8-d4a9cf8088c4"
      },
      "source": [
        "for word in ['book', 'books', 'booking', 'booked']:\n",
        "    print(f'{word.ljust(8)}:{lemmatizer.lemmatize(word).ljust(5)}')"
      ],
      "execution_count": 93,
      "outputs": [
        {
          "output_type": "stream",
          "text": [
            "book    :book \n",
            "books   :book \n",
            "booking :booking\n",
            "booked  :booked\n"
          ],
          "name": "stdout"
        }
      ]
    },
    {
      "cell_type": "code",
      "metadata": {
        "id": "HVTjoKbe173P",
        "colab_type": "code",
        "colab": {
          "base_uri": "https://localhost:8080/",
          "height": 85
        },
        "outputId": "96c19fd1-560f-42e2-a4d7-a9ff30298b3f"
      },
      "source": [
        "for word in ['friendship', 'friends', 'parentship', 'parents']:\n",
        "    print(f'{word.ljust(11)}:{lemmatizer.lemmatize(word).ljust(5)}')"
      ],
      "execution_count": 97,
      "outputs": [
        {
          "output_type": "stream",
          "text": [
            "friendship :friendship\n",
            "friends    :friend\n",
            "parentship :parentship\n",
            "parents    :parent\n"
          ],
          "name": "stdout"
        }
      ]
    },
    {
      "cell_type": "markdown",
      "metadata": {
        "id": "wtpg9xCo2qy6",
        "colab_type": "text"
      },
      "source": [
        "Text"
      ]
    },
    {
      "cell_type": "code",
      "metadata": {
        "id": "eQw36gs71zW7",
        "colab_type": "code",
        "colab": {
          "base_uri": "https://localhost:8080/",
          "height": 102
        },
        "outputId": "8c7c858a-23c1-4560-dc73-44157fb39718"
      },
      "source": [
        "text = \"\"\"Nancy wants to live a long time. She wants to live for one hundred years. She is five years old now.\n",
        "She wants to live 95 more years. Then she will be 100. Her father is 30 years old.\n",
        "He wants to live a long time, too. He wants to live for one hundred years. He wants to live for 70 more years.\n",
        "\"Daddy, we will grow old together, okay?\" Nancy said to her father. \"Yes, honey, we will grow old together,\" he said to Nancy.\n",
        "Then Nancy smiled. She gave her daddy a big hug.\"\"\"\n",
        "\n",
        "print(text)"
      ],
      "execution_count": 89,
      "outputs": [
        {
          "output_type": "stream",
          "text": [
            "Nancy wants to live a long time. She wants to live for one hundred years. She is five years old now.\n",
            "She wants to live 95 more years. Then she will be 100. Her father is 30 years old.\n",
            "He wants to live a long time, too. He wants to live for one hundred years. He wants to live for 70 more years.\n",
            "\"Daddy, we will grow old together, okay?\" Nancy said to her father. \"Yes, honey, we will grow old together,\" he said to Nancy.\n",
            "Then Nancy smiled. She gave her daddy a big hug.\n"
          ],
          "name": "stdout"
        }
      ]
    },
    {
      "cell_type": "code",
      "metadata": {
        "id": "RX1vOno_11qo",
        "colab_type": "code",
        "colab": {
          "base_uri": "https://localhost:8080/",
          "height": 54
        },
        "outputId": "b624d346-22a5-4a08-dc21-f7c63dd84bd4"
      },
      "source": [
        "from nltk.tokenize import word_tokenize\n",
        "\n",
        "tokenized_text = word_tokenize(text)\n",
        "lemmatized_text = [lemmatizer.lemmatize(word) for word in tokenized_text]\n",
        "lemmatized_text = ' '.join(lemmatized_text)\n",
        "print(lemmatized_text)"
      ],
      "execution_count": 101,
      "outputs": [
        {
          "output_type": "stream",
          "text": [
            "Nancy want to live a long time . She want to live for one hundred year . She is five year old now . She want to live 95 more year . Then she will be 100 . Her father is 30 year old . He want to live a long time , too . He want to live for one hundred year . He want to live for 70 more year . `` Daddy , we will grow old together , okay ? '' Nancy said to her father . `` Yes , honey , we will grow old together , '' he said to Nancy . Then Nancy smiled . She gave her daddy a big hug .\n"
          ],
          "name": "stdout"
        }
      ]
    },
    {
      "cell_type": "code",
      "metadata": {
        "id": "UgSyQRI725HI",
        "colab_type": "code",
        "colab": {}
      },
      "source": [
        ""
      ],
      "execution_count": 0,
      "outputs": []
    }
  ]
}