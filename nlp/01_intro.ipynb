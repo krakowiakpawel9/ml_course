{
  "nbformat": 4,
  "nbformat_minor": 0,
  "metadata": {
    "colab": {
      "name": "01_preprocessing.ipynb",
      "provenance": [],
      "include_colab_link": true
    },
    "kernelspec": {
      "name": "python3",
      "display_name": "Python 3"
    }
  },
  "cells": [
    {
      "cell_type": "markdown",
      "metadata": {
        "id": "view-in-github",
        "colab_type": "text"
      },
      "source": [
        "<a href=\"https://colab.research.google.com/github/krakowiakpawel9/ml_course/blob/master/nlp/01_intro.ipynb\" target=\"_parent\"><img src=\"https://colab.research.google.com/assets/colab-badge.svg\" alt=\"Open In Colab\"/></a>"
      ]
    },
    {
      "cell_type": "markdown",
      "metadata": {
        "id": "UbjsT92Xd3z1",
        "colab_type": "text"
      },
      "source": [
        "* @author: krakowiakpawel9@gmail.com  \n",
        "* @site: e-smartdata.org\n",
        "\n",
        "### nltk\n",
        "Strona biblioteki: [https://www.nltk.org/](https://www.nltk.org/)  \n",
        "\n",
        "Podstawowa biblioteka do przetwarzania języka naturalnego w języku Python.\n",
        "\n",
        "Aby zainstalować bibliotekę nltk, użyj polecenia poniżej:\n",
        "```\n",
        "!pip install nltk\n",
        "```\n",
        "Aby zaktualizować do najnowszej wersji użyj polecenia poniżej:\n",
        "```\n",
        "!pip install --upgrade nltk\n",
        "```\n",
        "Kurs stworzony w oparciu o wersję `3.2.5`\n",
        "\n",
        "### Spis treści:\n",
        "1. [Import bibliotek](#0)\n",
        "2. [Wygenerowanie danych](#1)\n",
        "\n"
      ]
    },
    {
      "cell_type": "markdown",
      "metadata": {
        "id": "YkIALacsUnj7",
        "colab_type": "text"
      },
      "source": [
        "### <a name='0'></a> Import bibliotek"
      ]
    },
    {
      "cell_type": "code",
      "metadata": {
        "id": "n5gCIYykFP2L",
        "colab_type": "code",
        "colab": {
          "base_uri": "https://localhost:8080/",
          "height": 54
        },
        "outputId": "f95795bb-ec8d-44cc-a928-c6aea1a00baf"
      },
      "source": [
        "text = \"\"\"Python can be easy to pick up whether you're a first time programmer or you're experienced with other languages.\n",
        "Python is developed under an OSI-approved open source license, making it freely usable and distributable, even for commercial use.\"\"\"\n",
        "\n",
        "text"
      ],
      "execution_count": 3,
      "outputs": [
        {
          "output_type": "execute_result",
          "data": {
            "text/plain": [
              "\"Python can be easy to pick up whether you're a first time programmer or you're experienced with other languages.\\nPython is developed under an OSI-approved open source license, making it freely usable and distributable, even for commercial use.\""
            ]
          },
          "metadata": {
            "tags": []
          },
          "execution_count": 3
        }
      ]
    },
    {
      "cell_type": "code",
      "metadata": {
        "id": "yQcDwWpgFX7B",
        "colab_type": "code",
        "colab": {
          "base_uri": "https://localhost:8080/",
          "height": 51
        },
        "outputId": "9f5e0153-0b7e-4ff0-824c-194e26f68b29"
      },
      "source": [
        "print(text)"
      ],
      "execution_count": 4,
      "outputs": [
        {
          "output_type": "stream",
          "text": [
            "Python can be easy to pick up whether you're a first time programmer or you're experienced with other languages.\n",
            "Python is developed under an OSI-approved open source license, making it freely usable and distributable, even for commercial use.\n"
          ],
          "name": "stdout"
        }
      ]
    },
    {
      "cell_type": "markdown",
      "metadata": {
        "id": "Vjibq7XgF10G",
        "colab_type": "text"
      },
      "source": [
        "Liczba słów"
      ]
    },
    {
      "cell_type": "code",
      "metadata": {
        "id": "BOcF3ydFFhXR",
        "colab_type": "code",
        "colab": {
          "base_uri": "https://localhost:8080/",
          "height": 663
        },
        "outputId": "fae27b58-121b-4752-d025-fb09534ca8c3"
      },
      "source": [
        "words = text.split()\n",
        "words"
      ],
      "execution_count": 20,
      "outputs": [
        {
          "output_type": "execute_result",
          "data": {
            "text/plain": [
              "['Python',\n",
              " 'can',\n",
              " 'be',\n",
              " 'easy',\n",
              " 'to',\n",
              " 'pick',\n",
              " 'up',\n",
              " 'whether',\n",
              " \"you're\",\n",
              " 'a',\n",
              " 'first',\n",
              " 'time',\n",
              " 'programmer',\n",
              " 'or',\n",
              " \"you're\",\n",
              " 'experienced',\n",
              " 'with',\n",
              " 'other',\n",
              " 'languages.',\n",
              " 'Python',\n",
              " 'is',\n",
              " 'developed',\n",
              " 'under',\n",
              " 'an',\n",
              " 'OSI-approved',\n",
              " 'open',\n",
              " 'source',\n",
              " 'license,',\n",
              " 'making',\n",
              " 'it',\n",
              " 'freely',\n",
              " 'usable',\n",
              " 'and',\n",
              " 'distributable,',\n",
              " 'even',\n",
              " 'for',\n",
              " 'commercial',\n",
              " 'use.']"
            ]
          },
          "metadata": {
            "tags": []
          },
          "execution_count": 20
        }
      ]
    },
    {
      "cell_type": "code",
      "metadata": {
        "id": "YT-JWaSeFmEx",
        "colab_type": "code",
        "colab": {
          "base_uri": "https://localhost:8080/",
          "height": 34
        },
        "outputId": "ba138bfc-6ae4-4a40-bbfe-b90157f340a2"
      },
      "source": [
        "print(len(words))"
      ],
      "execution_count": 21,
      "outputs": [
        {
          "output_type": "stream",
          "text": [
            "38\n"
          ],
          "name": "stdout"
        }
      ]
    },
    {
      "cell_type": "markdown",
      "metadata": {
        "id": "U_Hi_oR5JFap",
        "colab_type": "text"
      },
      "source": [
        "Liczba zdań"
      ]
    },
    {
      "cell_type": "code",
      "metadata": {
        "id": "yNVeBsxLJGo6",
        "colab_type": "code",
        "colab": {
          "base_uri": "https://localhost:8080/",
          "height": 51
        },
        "outputId": "0aca58d1-85d2-4405-e920-7fc34d52746d"
      },
      "source": [
        "sentences = text.split('.\\n')\n",
        "sentences"
      ],
      "execution_count": 43,
      "outputs": [
        {
          "output_type": "execute_result",
          "data": {
            "text/plain": [
              "[\"Python can be easy to pick up whether you're a first time programmer or you're experienced with other languages\",\n",
              " 'Python is developed under an OSI-approved open source license, making it freely usable and distributable, even for commercial use.']"
            ]
          },
          "metadata": {
            "tags": []
          },
          "execution_count": 43
        }
      ]
    },
    {
      "cell_type": "code",
      "metadata": {
        "id": "NsRytW7MJT2n",
        "colab_type": "code",
        "colab": {
          "base_uri": "https://localhost:8080/",
          "height": 34
        },
        "outputId": "fbe47a6d-8550-49a4-d4f1-6cf216d53798"
      },
      "source": [
        "len(sentences)"
      ],
      "execution_count": 44,
      "outputs": [
        {
          "output_type": "execute_result",
          "data": {
            "text/plain": [
              "2"
            ]
          },
          "metadata": {
            "tags": []
          },
          "execution_count": 44
        }
      ]
    },
    {
      "cell_type": "markdown",
      "metadata": {
        "id": "AjqcxPR8F3Qi",
        "colab_type": "text"
      },
      "source": [
        "Liczba znaków"
      ]
    },
    {
      "cell_type": "code",
      "metadata": {
        "id": "3n8qB7knFxge",
        "colab_type": "code",
        "colab": {
          "base_uri": "https://localhost:8080/",
          "height": 34
        },
        "outputId": "fece1c0d-5f06-47ae-fc12-78e05117bd3b"
      },
      "source": [
        "print(len(text))"
      ],
      "execution_count": 22,
      "outputs": [
        {
          "output_type": "stream",
          "text": [
            "243\n"
          ],
          "name": "stdout"
        }
      ]
    },
    {
      "cell_type": "markdown",
      "metadata": {
        "id": "qxTpNEPpF9Gp",
        "colab_type": "text"
      },
      "source": [
        "Średnia długość słowa"
      ]
    },
    {
      "cell_type": "code",
      "metadata": {
        "id": "OTIH59f9F5JP",
        "colab_type": "code",
        "colab": {
          "base_uri": "https://localhost:8080/",
          "height": 34
        },
        "outputId": "61ae1acf-2979-4f86-8480-c4e41a165307"
      },
      "source": [
        "import numpy as np\n",
        "\n",
        "np.mean([len(word) for word in words])"
      ],
      "execution_count": 23,
      "outputs": [
        {
          "output_type": "execute_result",
          "data": {
            "text/plain": [
              "5.421052631578948"
            ]
          },
          "metadata": {
            "tags": []
          },
          "execution_count": 23
        }
      ]
    },
    {
      "cell_type": "markdown",
      "metadata": {
        "id": "Mdh_BookIfK8",
        "colab_type": "text"
      },
      "source": [
        "Wydobycie tzw. stop words"
      ]
    },
    {
      "cell_type": "code",
      "metadata": {
        "id": "yeaCbwQUGDr0",
        "colab_type": "code",
        "colab": {
          "base_uri": "https://localhost:8080/",
          "height": 71
        },
        "outputId": "4f1080cf-22f9-4ff1-c08c-82894e10bc5c"
      },
      "source": [
        "stop_words = ['a', 'an', 'and', 'be', 'can', 'for', 'is', 'it', 'or', 'other', 'to', 'under', 'up', 'with', 'you\\'re', 'you\\'re']\n",
        "\n",
        "filtered_words = []\n",
        "for word in words:\n",
        "    if word not in stop_words:\n",
        "        filtered_words.append(word)\n",
        "\n",
        "print(words)\n",
        "print(filtered_words)        "
      ],
      "execution_count": 33,
      "outputs": [
        {
          "output_type": "stream",
          "text": [
            "['Python', 'can', 'be', 'easy', 'to', 'pick', 'up', 'whether', \"you're\", 'a', 'first', 'time', 'programmer', 'or', \"you're\", 'experienced', 'with', 'other', 'languages.', 'Python', 'is', 'developed', 'under', 'an', 'OSI-approved', 'open', 'source', 'license,', 'making', 'it', 'freely', 'usable', 'and', 'distributable,', 'even', 'for', 'commercial', 'use.']\n",
            "['Python', 'easy', 'pick', 'whether', 'first', 'time', 'programmer', 'experienced', 'languages.', 'Python', 'developed', 'OSI-approved', 'open', 'source', 'license,', 'making', 'freely', 'usable', 'distributable,', 'even', 'commercial', 'use.']\n"
          ],
          "name": "stdout"
        }
      ]
    },
    {
      "cell_type": "code",
      "metadata": {
        "id": "-5tTEFvXGc0r",
        "colab_type": "code",
        "colab": {
          "base_uri": "https://localhost:8080/",
          "height": 68
        },
        "outputId": "4e9c1784-0ac1-4e2e-bd2d-ce1472bae1ca"
      },
      "source": [
        "print(f'words: {len(words)}')\n",
        "print(f'filtered_words: {len(filtered_words)}')\n",
        "print(f'ratio: {len(filtered_words) / len(words):.4f}')  "
      ],
      "execution_count": 36,
      "outputs": [
        {
          "output_type": "stream",
          "text": [
            "words: 38\n",
            "filtered_words: 22\n",
            "ratio: 0.5789\n"
          ],
          "name": "stdout"
        }
      ]
    },
    {
      "cell_type": "code",
      "metadata": {
        "id": "HMcOHAylIuA8",
        "colab_type": "code",
        "colab": {}
      },
      "source": [
        ""
      ],
      "execution_count": 0,
      "outputs": []
    }
  ]
}