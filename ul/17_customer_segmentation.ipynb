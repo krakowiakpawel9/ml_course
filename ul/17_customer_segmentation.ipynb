{
  "nbformat": 4,
  "nbformat_minor": 0,
  "metadata": {
    "colab": {
      "name": "Untitled71.ipynb",
      "provenance": [],
      "include_colab_link": true
    },
    "kernelspec": {
      "name": "python3",
      "display_name": "Python 3"
    }
  },
  "cells": [
    {
      "cell_type": "markdown",
      "metadata": {
        "id": "view-in-github",
        "colab_type": "text"
      },
      "source": [
        "<a href=\"https://colab.research.google.com/github/krakowiakpawel9/ml_course/blob/master/ul/17_customer_segmentation.ipynb\" target=\"_parent\"><img src=\"https://colab.research.google.com/assets/colab-badge.svg\" alt=\"Open In Colab\"/></a>"
      ]
    },
    {
      "cell_type": "markdown",
      "metadata": {
        "id": "C80St0V-_VIi",
        "colab_type": "text"
      },
      "source": [
        "### scikit-learn\n",
        "Strona biblioteki: [https://scikit-learn.org](https://scikit-learn.org)  \n",
        "\n",
        "Dokumentacja/User Guide: [https://scikit-learn.org/stable/user_guide.html](https://scikit-learn.org/stable/user_guide.html)\n",
        "\n",
        "Podstawowa biblioteka do uczenia maszynowego w języku Python.\n",
        "\n",
        "Aby zainstalować bibliotekę scikit-learn, użyj polecenia poniżej:\n",
        "```\n",
        "!pip install scikit-learn\n",
        "```\n",
        "Aby zaktualizować do najnowszej wersji bibliotekę scikit-learn, użyj polecenia poniżej:\n",
        "```\n",
        "!pip install --upgrade scikit-learn\n",
        "```\n",
        "Kurs stworzony w oparciu o wersję `0.22.1`\n",
        "\n",
        "### Spis treści:\n",
        "1. [Import bibliotek](#0)\n",
        "2. [Wygenerowanie danych](#1)\n",
        "3. [Wizualizacja danych](#2)\n",
        "4. [Algorytm K-średnich](#3)\n",
        "5. [Wizualizacja klastrów](#4)\n",
        "\n",
        "\n"
      ]
    },
    {
      "cell_type": "markdown",
      "metadata": {
        "id": "dCogYvFX_YD4",
        "colab_type": "text"
      },
      "source": [
        "### <a name='0'></a> Import bibliotek"
      ]
    },
    {
      "cell_type": "code",
      "metadata": {
        "id": "HxbO7mdbGS7y",
        "colab_type": "code",
        "colab": {}
      },
      "source": [
        "import numpy as np\n",
        "import pandas as pd\n",
        "import plotly.express as px"
      ],
      "execution_count": 0,
      "outputs": []
    },
    {
      "cell_type": "code",
      "metadata": {
        "id": "KzOrqsHyX1Ui",
        "colab_type": "code",
        "colab": {}
      },
      "source": [
        "url = 'https://storage.googleapis.com/esmartdata-courses-files/ml-course/OnlineRetail.csv'"
      ],
      "execution_count": 0,
      "outputs": []
    },
    {
      "cell_type": "code",
      "metadata": {
        "id": "oTn2wb-PGVeG",
        "colab_type": "code",
        "colab": {
          "base_uri": "https://localhost:8080/",
          "height": 141
        },
        "outputId": "4d9caedd-af88-4e5b-c8f5-79304a640b73"
      },
      "source": [
        "raw_data = pd.read_csv('OnlineRetail.csv', encoding='latin', parse_dates=['InvoiceDate'])\n",
        "data = raw_data.copy()\n",
        "data.head(3)"
      ],
      "execution_count": 3,
      "outputs": [
        {
          "output_type": "execute_result",
          "data": {
            "text/html": [
              "<div>\n",
              "<style scoped>\n",
              "    .dataframe tbody tr th:only-of-type {\n",
              "        vertical-align: middle;\n",
              "    }\n",
              "\n",
              "    .dataframe tbody tr th {\n",
              "        vertical-align: top;\n",
              "    }\n",
              "\n",
              "    .dataframe thead th {\n",
              "        text-align: right;\n",
              "    }\n",
              "</style>\n",
              "<table border=\"1\" class=\"dataframe\">\n",
              "  <thead>\n",
              "    <tr style=\"text-align: right;\">\n",
              "      <th></th>\n",
              "      <th>InvoiceNo</th>\n",
              "      <th>StockCode</th>\n",
              "      <th>Description</th>\n",
              "      <th>Quantity</th>\n",
              "      <th>InvoiceDate</th>\n",
              "      <th>UnitPrice</th>\n",
              "      <th>CustomerID</th>\n",
              "      <th>Country</th>\n",
              "    </tr>\n",
              "  </thead>\n",
              "  <tbody>\n",
              "    <tr>\n",
              "      <th>0</th>\n",
              "      <td>536365</td>\n",
              "      <td>85123A</td>\n",
              "      <td>WHITE HANGING HEART T-LIGHT HOLDER</td>\n",
              "      <td>6</td>\n",
              "      <td>2010-12-01 08:26:00</td>\n",
              "      <td>2.55</td>\n",
              "      <td>17850.0</td>\n",
              "      <td>United Kingdom</td>\n",
              "    </tr>\n",
              "    <tr>\n",
              "      <th>1</th>\n",
              "      <td>536365</td>\n",
              "      <td>71053</td>\n",
              "      <td>WHITE METAL LANTERN</td>\n",
              "      <td>6</td>\n",
              "      <td>2010-12-01 08:26:00</td>\n",
              "      <td>3.39</td>\n",
              "      <td>17850.0</td>\n",
              "      <td>United Kingdom</td>\n",
              "    </tr>\n",
              "    <tr>\n",
              "      <th>2</th>\n",
              "      <td>536365</td>\n",
              "      <td>84406B</td>\n",
              "      <td>CREAM CUPID HEARTS COAT HANGER</td>\n",
              "      <td>8</td>\n",
              "      <td>2010-12-01 08:26:00</td>\n",
              "      <td>2.75</td>\n",
              "      <td>17850.0</td>\n",
              "      <td>United Kingdom</td>\n",
              "    </tr>\n",
              "  </tbody>\n",
              "</table>\n",
              "</div>"
            ],
            "text/plain": [
              "  InvoiceNo StockCode  ... CustomerID         Country\n",
              "0    536365    85123A  ...    17850.0  United Kingdom\n",
              "1    536365     71053  ...    17850.0  United Kingdom\n",
              "2    536365    84406B  ...    17850.0  United Kingdom\n",
              "\n",
              "[3 rows x 8 columns]"
            ]
          },
          "metadata": {
            "tags": []
          },
          "execution_count": 3
        }
      ]
    },
    {
      "cell_type": "code",
      "metadata": {
        "id": "f-uW5CdDGaXO",
        "colab_type": "code",
        "colab": {
          "base_uri": "https://localhost:8080/",
          "height": 243
        },
        "outputId": "b8429294-fb7a-4122-a4e7-26efb0cb1f0a"
      },
      "source": [
        "data.info()"
      ],
      "execution_count": 4,
      "outputs": [
        {
          "output_type": "stream",
          "text": [
            "<class 'pandas.core.frame.DataFrame'>\n",
            "RangeIndex: 541909 entries, 0 to 541908\n",
            "Data columns (total 8 columns):\n",
            "InvoiceNo      541909 non-null object\n",
            "StockCode      541909 non-null object\n",
            "Description    540455 non-null object\n",
            "Quantity       541909 non-null int64\n",
            "InvoiceDate    541909 non-null datetime64[ns]\n",
            "UnitPrice      541909 non-null float64\n",
            "CustomerID     406829 non-null float64\n",
            "Country        541909 non-null object\n",
            "dtypes: datetime64[ns](1), float64(2), int64(1), object(4)\n",
            "memory usage: 33.1+ MB\n"
          ],
          "name": "stdout"
        }
      ]
    },
    {
      "cell_type": "code",
      "metadata": {
        "id": "UZTfBDU0Gt1p",
        "colab_type": "code",
        "colab": {
          "base_uri": "https://localhost:8080/",
          "height": 294
        },
        "outputId": "26003d97-4a2e-4456-8116-2704bef149b1"
      },
      "source": [
        "data.describe()"
      ],
      "execution_count": 5,
      "outputs": [
        {
          "output_type": "execute_result",
          "data": {
            "text/html": [
              "<div>\n",
              "<style scoped>\n",
              "    .dataframe tbody tr th:only-of-type {\n",
              "        vertical-align: middle;\n",
              "    }\n",
              "\n",
              "    .dataframe tbody tr th {\n",
              "        vertical-align: top;\n",
              "    }\n",
              "\n",
              "    .dataframe thead th {\n",
              "        text-align: right;\n",
              "    }\n",
              "</style>\n",
              "<table border=\"1\" class=\"dataframe\">\n",
              "  <thead>\n",
              "    <tr style=\"text-align: right;\">\n",
              "      <th></th>\n",
              "      <th>Quantity</th>\n",
              "      <th>UnitPrice</th>\n",
              "      <th>CustomerID</th>\n",
              "    </tr>\n",
              "  </thead>\n",
              "  <tbody>\n",
              "    <tr>\n",
              "      <th>count</th>\n",
              "      <td>541909.000000</td>\n",
              "      <td>541909.000000</td>\n",
              "      <td>406829.000000</td>\n",
              "    </tr>\n",
              "    <tr>\n",
              "      <th>mean</th>\n",
              "      <td>9.552250</td>\n",
              "      <td>4.611114</td>\n",
              "      <td>15287.690570</td>\n",
              "    </tr>\n",
              "    <tr>\n",
              "      <th>std</th>\n",
              "      <td>218.081158</td>\n",
              "      <td>96.759853</td>\n",
              "      <td>1713.600303</td>\n",
              "    </tr>\n",
              "    <tr>\n",
              "      <th>min</th>\n",
              "      <td>-80995.000000</td>\n",
              "      <td>-11062.060000</td>\n",
              "      <td>12346.000000</td>\n",
              "    </tr>\n",
              "    <tr>\n",
              "      <th>25%</th>\n",
              "      <td>1.000000</td>\n",
              "      <td>1.250000</td>\n",
              "      <td>13953.000000</td>\n",
              "    </tr>\n",
              "    <tr>\n",
              "      <th>50%</th>\n",
              "      <td>3.000000</td>\n",
              "      <td>2.080000</td>\n",
              "      <td>15152.000000</td>\n",
              "    </tr>\n",
              "    <tr>\n",
              "      <th>75%</th>\n",
              "      <td>10.000000</td>\n",
              "      <td>4.130000</td>\n",
              "      <td>16791.000000</td>\n",
              "    </tr>\n",
              "    <tr>\n",
              "      <th>max</th>\n",
              "      <td>80995.000000</td>\n",
              "      <td>38970.000000</td>\n",
              "      <td>18287.000000</td>\n",
              "    </tr>\n",
              "  </tbody>\n",
              "</table>\n",
              "</div>"
            ],
            "text/plain": [
              "            Quantity      UnitPrice     CustomerID\n",
              "count  541909.000000  541909.000000  406829.000000\n",
              "mean        9.552250       4.611114   15287.690570\n",
              "std       218.081158      96.759853    1713.600303\n",
              "min    -80995.000000  -11062.060000   12346.000000\n",
              "25%         1.000000       1.250000   13953.000000\n",
              "50%         3.000000       2.080000   15152.000000\n",
              "75%        10.000000       4.130000   16791.000000\n",
              "max     80995.000000   38970.000000   18287.000000"
            ]
          },
          "metadata": {
            "tags": []
          },
          "execution_count": 5
        }
      ]
    },
    {
      "cell_type": "code",
      "metadata": {
        "id": "IKXtY7xmG3H9",
        "colab_type": "code",
        "colab": {
          "base_uri": "https://localhost:8080/",
          "height": 171
        },
        "outputId": "e7bc0e96-55c3-488e-80b0-6066ce6a25bc"
      },
      "source": [
        "data.describe(include=['object'])"
      ],
      "execution_count": 6,
      "outputs": [
        {
          "output_type": "execute_result",
          "data": {
            "text/html": [
              "<div>\n",
              "<style scoped>\n",
              "    .dataframe tbody tr th:only-of-type {\n",
              "        vertical-align: middle;\n",
              "    }\n",
              "\n",
              "    .dataframe tbody tr th {\n",
              "        vertical-align: top;\n",
              "    }\n",
              "\n",
              "    .dataframe thead th {\n",
              "        text-align: right;\n",
              "    }\n",
              "</style>\n",
              "<table border=\"1\" class=\"dataframe\">\n",
              "  <thead>\n",
              "    <tr style=\"text-align: right;\">\n",
              "      <th></th>\n",
              "      <th>InvoiceNo</th>\n",
              "      <th>StockCode</th>\n",
              "      <th>Description</th>\n",
              "      <th>Country</th>\n",
              "    </tr>\n",
              "  </thead>\n",
              "  <tbody>\n",
              "    <tr>\n",
              "      <th>count</th>\n",
              "      <td>541909</td>\n",
              "      <td>541909</td>\n",
              "      <td>540455</td>\n",
              "      <td>541909</td>\n",
              "    </tr>\n",
              "    <tr>\n",
              "      <th>unique</th>\n",
              "      <td>25900</td>\n",
              "      <td>4070</td>\n",
              "      <td>4223</td>\n",
              "      <td>38</td>\n",
              "    </tr>\n",
              "    <tr>\n",
              "      <th>top</th>\n",
              "      <td>573585</td>\n",
              "      <td>85123A</td>\n",
              "      <td>WHITE HANGING HEART T-LIGHT HOLDER</td>\n",
              "      <td>United Kingdom</td>\n",
              "    </tr>\n",
              "    <tr>\n",
              "      <th>freq</th>\n",
              "      <td>1114</td>\n",
              "      <td>2313</td>\n",
              "      <td>2369</td>\n",
              "      <td>495478</td>\n",
              "    </tr>\n",
              "  </tbody>\n",
              "</table>\n",
              "</div>"
            ],
            "text/plain": [
              "       InvoiceNo StockCode                         Description         Country\n",
              "count     541909    541909                              540455          541909\n",
              "unique     25900      4070                                4223              38\n",
              "top       573585    85123A  WHITE HANGING HEART T-LIGHT HOLDER  United Kingdom\n",
              "freq        1114      2313                                2369          495478"
            ]
          },
          "metadata": {
            "tags": []
          },
          "execution_count": 6
        }
      ]
    },
    {
      "cell_type": "code",
      "metadata": {
        "id": "14vtSyVeG5kO",
        "colab_type": "code",
        "colab": {
          "base_uri": "https://localhost:8080/",
          "height": 233
        },
        "outputId": "fee40306-cdf1-4bb8-a979-2cc4c8f0311e"
      },
      "source": [
        "data.describe(include=['datetime'])"
      ],
      "execution_count": 7,
      "outputs": [
        {
          "output_type": "execute_result",
          "data": {
            "text/html": [
              "<div>\n",
              "<style scoped>\n",
              "    .dataframe tbody tr th:only-of-type {\n",
              "        vertical-align: middle;\n",
              "    }\n",
              "\n",
              "    .dataframe tbody tr th {\n",
              "        vertical-align: top;\n",
              "    }\n",
              "\n",
              "    .dataframe thead th {\n",
              "        text-align: right;\n",
              "    }\n",
              "</style>\n",
              "<table border=\"1\" class=\"dataframe\">\n",
              "  <thead>\n",
              "    <tr style=\"text-align: right;\">\n",
              "      <th></th>\n",
              "      <th>InvoiceDate</th>\n",
              "    </tr>\n",
              "  </thead>\n",
              "  <tbody>\n",
              "    <tr>\n",
              "      <th>count</th>\n",
              "      <td>541909</td>\n",
              "    </tr>\n",
              "    <tr>\n",
              "      <th>unique</th>\n",
              "      <td>23260</td>\n",
              "    </tr>\n",
              "    <tr>\n",
              "      <th>top</th>\n",
              "      <td>2011-10-31 14:41:00</td>\n",
              "    </tr>\n",
              "    <tr>\n",
              "      <th>freq</th>\n",
              "      <td>1114</td>\n",
              "    </tr>\n",
              "    <tr>\n",
              "      <th>first</th>\n",
              "      <td>2010-12-01 08:26:00</td>\n",
              "    </tr>\n",
              "    <tr>\n",
              "      <th>last</th>\n",
              "      <td>2011-12-09 12:50:00</td>\n",
              "    </tr>\n",
              "  </tbody>\n",
              "</table>\n",
              "</div>"
            ],
            "text/plain": [
              "                InvoiceDate\n",
              "count                541909\n",
              "unique                23260\n",
              "top     2011-10-31 14:41:00\n",
              "freq                   1114\n",
              "first   2010-12-01 08:26:00\n",
              "last    2011-12-09 12:50:00"
            ]
          },
          "metadata": {
            "tags": []
          },
          "execution_count": 7
        }
      ]
    },
    {
      "cell_type": "code",
      "metadata": {
        "id": "g8EVVUf8MHb7",
        "colab_type": "code",
        "colab": {
          "base_uri": "https://localhost:8080/",
          "height": 173
        },
        "outputId": "5e8e79bd-5b9c-4ab6-f075-abaf589d2016"
      },
      "source": [
        "data.isnull().sum()"
      ],
      "execution_count": 8,
      "outputs": [
        {
          "output_type": "execute_result",
          "data": {
            "text/plain": [
              "InvoiceNo           0\n",
              "StockCode           0\n",
              "Description      1454\n",
              "Quantity            0\n",
              "InvoiceDate         0\n",
              "UnitPrice           0\n",
              "CustomerID     135080\n",
              "Country             0\n",
              "dtype: int64"
            ]
          },
          "metadata": {
            "tags": []
          },
          "execution_count": 8
        }
      ]
    },
    {
      "cell_type": "code",
      "metadata": {
        "id": "5_B0R8UuMMmu",
        "colab_type": "code",
        "colab": {
          "base_uri": "https://localhost:8080/",
          "height": 173
        },
        "outputId": "d0102047-199a-43ec-b6cc-11366c22a837"
      },
      "source": [
        "data = data.dropna()\n",
        "data.isnull().sum()"
      ],
      "execution_count": 9,
      "outputs": [
        {
          "output_type": "execute_result",
          "data": {
            "text/plain": [
              "InvoiceNo      0\n",
              "StockCode      0\n",
              "Description    0\n",
              "Quantity       0\n",
              "InvoiceDate    0\n",
              "UnitPrice      0\n",
              "CustomerID     0\n",
              "Country        0\n",
              "dtype: int64"
            ]
          },
          "metadata": {
            "tags": []
          },
          "execution_count": 9
        }
      ]
    },
    {
      "cell_type": "code",
      "metadata": {
        "id": "4D6ngqcnL7tE",
        "colab_type": "code",
        "colab": {}
      },
      "source": [
        "data['CustomerID'] = data['CustomerID'].astype(int)"
      ],
      "execution_count": 0,
      "outputs": []
    },
    {
      "cell_type": "code",
      "metadata": {
        "id": "BShmCtGsHMDI",
        "colab_type": "code",
        "colab": {
          "base_uri": "https://localhost:8080/",
          "height": 676
        },
        "outputId": "c0c34eab-c418-4135-da88-578ddfbea07f"
      },
      "source": [
        "data['Country'].value_counts()"
      ],
      "execution_count": 11,
      "outputs": [
        {
          "output_type": "execute_result",
          "data": {
            "text/plain": [
              "United Kingdom          361878\n",
              "Germany                   9495\n",
              "France                    8491\n",
              "EIRE                      7485\n",
              "Spain                     2533\n",
              "Netherlands               2371\n",
              "Belgium                   2069\n",
              "Switzerland               1877\n",
              "Portugal                  1480\n",
              "Australia                 1259\n",
              "Norway                    1086\n",
              "Italy                      803\n",
              "Channel Islands            758\n",
              "Finland                    695\n",
              "Cyprus                     622\n",
              "Sweden                     462\n",
              "Austria                    401\n",
              "Denmark                    389\n",
              "Japan                      358\n",
              "Poland                     341\n",
              "USA                        291\n",
              "Israel                     250\n",
              "Unspecified                244\n",
              "Singapore                  229\n",
              "Iceland                    182\n",
              "Canada                     151\n",
              "Greece                     146\n",
              "Malta                      127\n",
              "United Arab Emirates        68\n",
              "European Community          61\n",
              "RSA                         58\n",
              "Lebanon                     45\n",
              "Lithuania                   35\n",
              "Brazil                      32\n",
              "Czech Republic              30\n",
              "Bahrain                     17\n",
              "Saudi Arabia                10\n",
              "Name: Country, dtype: int64"
            ]
          },
          "metadata": {
            "tags": []
          },
          "execution_count": 11
        }
      ]
    },
    {
      "cell_type": "code",
      "metadata": {
        "id": "frCf30hsQYG0",
        "colab_type": "code",
        "colab": {
          "base_uri": "https://localhost:8080/",
          "height": 542
        },
        "outputId": "92a62db7-1ba6-4f75-b4ba-82ebed04a4fd"
      },
      "source": [
        "tmp = data['Country'].value_counts().reset_index()\n",
        "tmp.columns = ['Country', 'Count']\n",
        "tmp.query(\"Count > 200\", inplace=True)\n",
        "px.bar(tmp, x='Country', y='Count', template='plotly_dark', color_discrete_sequence=['#03fcb5'])"
      ],
      "execution_count": 12,
      "outputs": [
        {
          "output_type": "display_data",
          "data": {
            "text/html": [
              "<html>\n",
              "<head><meta charset=\"utf-8\" /></head>\n",
              "<body>\n",
              "    <div>\n",
              "            <script src=\"https://cdnjs.cloudflare.com/ajax/libs/mathjax/2.7.5/MathJax.js?config=TeX-AMS-MML_SVG\"></script><script type=\"text/javascript\">if (window.MathJax) {MathJax.Hub.Config({SVG: {font: \"STIX-Web\"}});}</script>\n",
              "                <script type=\"text/javascript\">window.PlotlyConfig = {MathJaxConfig: 'local'};</script>\n",
              "        <script src=\"https://cdn.plot.ly/plotly-latest.min.js\"></script>    \n",
              "            <div id=\"1903f39a-101c-476e-9a58-fad1ab97ef8f\" class=\"plotly-graph-div\" style=\"height:525px; width:100%;\"></div>\n",
              "            <script type=\"text/javascript\">\n",
              "                \n",
              "                    window.PLOTLYENV=window.PLOTLYENV || {};\n",
              "                    \n",
              "                if (document.getElementById(\"1903f39a-101c-476e-9a58-fad1ab97ef8f\")) {\n",
              "                    Plotly.newPlot(\n",
              "                        '1903f39a-101c-476e-9a58-fad1ab97ef8f',\n",
              "                        [{\"alignmentgroup\": \"True\", \"hoverlabel\": {\"namelength\": 0}, \"hovertemplate\": \"Country=%{x}<br>Count=%{y}\", \"legendgroup\": \"\", \"marker\": {\"color\": \"#03fcb5\"}, \"name\": \"\", \"offsetgroup\": \"\", \"orientation\": \"v\", \"showlegend\": false, \"textposition\": \"auto\", \"type\": \"bar\", \"x\": [\"United Kingdom\", \"Germany\", \"France\", \"EIRE\", \"Spain\", \"Netherlands\", \"Belgium\", \"Switzerland\", \"Portugal\", \"Australia\", \"Norway\", \"Italy\", \"Channel Islands\", \"Finland\", \"Cyprus\", \"Sweden\", \"Austria\", \"Denmark\", \"Japan\", \"Poland\", \"USA\", \"Israel\", \"Unspecified\", \"Singapore\"], \"xaxis\": \"x\", \"y\": [361878, 9495, 8491, 7485, 2533, 2371, 2069, 1877, 1480, 1259, 1086, 803, 758, 695, 622, 462, 401, 389, 358, 341, 291, 250, 244, 229], \"yaxis\": \"y\"}],\n",
              "                        {\"barmode\": \"relative\", \"legend\": {\"tracegroupgap\": 0}, \"margin\": {\"t\": 60}, \"template\": {\"data\": {\"bar\": [{\"error_x\": {\"color\": \"#f2f5fa\"}, \"error_y\": {\"color\": \"#f2f5fa\"}, \"marker\": {\"line\": {\"color\": \"rgb(17,17,17)\", \"width\": 0.5}}, \"type\": \"bar\"}], \"barpolar\": [{\"marker\": {\"line\": {\"color\": \"rgb(17,17,17)\", \"width\": 0.5}}, \"type\": \"barpolar\"}], \"carpet\": [{\"aaxis\": {\"endlinecolor\": \"#A2B1C6\", \"gridcolor\": \"#506784\", \"linecolor\": \"#506784\", \"minorgridcolor\": \"#506784\", \"startlinecolor\": \"#A2B1C6\"}, \"baxis\": {\"endlinecolor\": \"#A2B1C6\", \"gridcolor\": \"#506784\", \"linecolor\": \"#506784\", \"minorgridcolor\": \"#506784\", \"startlinecolor\": \"#A2B1C6\"}, \"type\": \"carpet\"}], \"choropleth\": [{\"colorbar\": {\"outlinewidth\": 0, \"ticks\": \"\"}, \"type\": \"choropleth\"}], \"contour\": [{\"colorbar\": {\"outlinewidth\": 0, \"ticks\": \"\"}, \"colorscale\": [[0.0, \"#0d0887\"], [0.1111111111111111, \"#46039f\"], [0.2222222222222222, \"#7201a8\"], [0.3333333333333333, \"#9c179e\"], [0.4444444444444444, \"#bd3786\"], [0.5555555555555556, \"#d8576b\"], [0.6666666666666666, \"#ed7953\"], [0.7777777777777778, \"#fb9f3a\"], [0.8888888888888888, \"#fdca26\"], [1.0, \"#f0f921\"]], \"type\": \"contour\"}], \"contourcarpet\": [{\"colorbar\": {\"outlinewidth\": 0, \"ticks\": \"\"}, \"type\": \"contourcarpet\"}], \"heatmap\": [{\"colorbar\": {\"outlinewidth\": 0, \"ticks\": \"\"}, \"colorscale\": [[0.0, \"#0d0887\"], [0.1111111111111111, \"#46039f\"], [0.2222222222222222, \"#7201a8\"], [0.3333333333333333, \"#9c179e\"], [0.4444444444444444, \"#bd3786\"], [0.5555555555555556, \"#d8576b\"], [0.6666666666666666, \"#ed7953\"], [0.7777777777777778, \"#fb9f3a\"], [0.8888888888888888, \"#fdca26\"], [1.0, \"#f0f921\"]], \"type\": \"heatmap\"}], \"heatmapgl\": [{\"colorbar\": {\"outlinewidth\": 0, \"ticks\": \"\"}, \"colorscale\": [[0.0, \"#0d0887\"], [0.1111111111111111, \"#46039f\"], [0.2222222222222222, \"#7201a8\"], [0.3333333333333333, \"#9c179e\"], [0.4444444444444444, \"#bd3786\"], [0.5555555555555556, \"#d8576b\"], [0.6666666666666666, \"#ed7953\"], [0.7777777777777778, \"#fb9f3a\"], [0.8888888888888888, \"#fdca26\"], [1.0, \"#f0f921\"]], \"type\": \"heatmapgl\"}], \"histogram\": [{\"marker\": {\"colorbar\": {\"outlinewidth\": 0, \"ticks\": \"\"}}, \"type\": \"histogram\"}], \"histogram2d\": [{\"colorbar\": {\"outlinewidth\": 0, \"ticks\": \"\"}, \"colorscale\": [[0.0, \"#0d0887\"], [0.1111111111111111, \"#46039f\"], [0.2222222222222222, \"#7201a8\"], [0.3333333333333333, \"#9c179e\"], [0.4444444444444444, \"#bd3786\"], [0.5555555555555556, \"#d8576b\"], [0.6666666666666666, \"#ed7953\"], [0.7777777777777778, \"#fb9f3a\"], [0.8888888888888888, \"#fdca26\"], [1.0, \"#f0f921\"]], \"type\": \"histogram2d\"}], \"histogram2dcontour\": [{\"colorbar\": {\"outlinewidth\": 0, \"ticks\": \"\"}, \"colorscale\": [[0.0, \"#0d0887\"], [0.1111111111111111, \"#46039f\"], [0.2222222222222222, \"#7201a8\"], [0.3333333333333333, \"#9c179e\"], [0.4444444444444444, \"#bd3786\"], [0.5555555555555556, \"#d8576b\"], [0.6666666666666666, \"#ed7953\"], [0.7777777777777778, \"#fb9f3a\"], [0.8888888888888888, \"#fdca26\"], [1.0, \"#f0f921\"]], \"type\": \"histogram2dcontour\"}], \"mesh3d\": [{\"colorbar\": {\"outlinewidth\": 0, \"ticks\": \"\"}, \"type\": \"mesh3d\"}], \"parcoords\": [{\"line\": {\"colorbar\": {\"outlinewidth\": 0, \"ticks\": \"\"}}, \"type\": \"parcoords\"}], \"pie\": [{\"automargin\": true, \"type\": \"pie\"}], \"scatter\": [{\"marker\": {\"line\": {\"color\": \"#283442\"}}, \"type\": \"scatter\"}], \"scatter3d\": [{\"line\": {\"colorbar\": {\"outlinewidth\": 0, \"ticks\": \"\"}}, \"marker\": {\"colorbar\": {\"outlinewidth\": 0, \"ticks\": \"\"}}, \"type\": \"scatter3d\"}], \"scattercarpet\": [{\"marker\": {\"colorbar\": {\"outlinewidth\": 0, \"ticks\": \"\"}}, \"type\": \"scattercarpet\"}], \"scattergeo\": [{\"marker\": {\"colorbar\": {\"outlinewidth\": 0, \"ticks\": \"\"}}, \"type\": \"scattergeo\"}], \"scattergl\": [{\"marker\": {\"line\": {\"color\": \"#283442\"}}, \"type\": \"scattergl\"}], \"scattermapbox\": [{\"marker\": {\"colorbar\": {\"outlinewidth\": 0, \"ticks\": \"\"}}, \"type\": \"scattermapbox\"}], \"scatterpolar\": [{\"marker\": {\"colorbar\": {\"outlinewidth\": 0, \"ticks\": \"\"}}, \"type\": \"scatterpolar\"}], \"scatterpolargl\": [{\"marker\": {\"colorbar\": {\"outlinewidth\": 0, \"ticks\": \"\"}}, \"type\": \"scatterpolargl\"}], \"scatterternary\": [{\"marker\": {\"colorbar\": {\"outlinewidth\": 0, \"ticks\": \"\"}}, \"type\": \"scatterternary\"}], \"surface\": [{\"colorbar\": {\"outlinewidth\": 0, \"ticks\": \"\"}, \"colorscale\": [[0.0, \"#0d0887\"], [0.1111111111111111, \"#46039f\"], [0.2222222222222222, \"#7201a8\"], [0.3333333333333333, \"#9c179e\"], [0.4444444444444444, \"#bd3786\"], [0.5555555555555556, \"#d8576b\"], [0.6666666666666666, \"#ed7953\"], [0.7777777777777778, \"#fb9f3a\"], [0.8888888888888888, \"#fdca26\"], [1.0, \"#f0f921\"]], \"type\": \"surface\"}], \"table\": [{\"cells\": {\"fill\": {\"color\": \"#506784\"}, \"line\": {\"color\": \"rgb(17,17,17)\"}}, \"header\": {\"fill\": {\"color\": \"#2a3f5f\"}, \"line\": {\"color\": \"rgb(17,17,17)\"}}, \"type\": \"table\"}]}, \"layout\": {\"annotationdefaults\": {\"arrowcolor\": \"#f2f5fa\", \"arrowhead\": 0, \"arrowwidth\": 1}, \"coloraxis\": {\"colorbar\": {\"outlinewidth\": 0, \"ticks\": \"\"}}, \"colorscale\": {\"diverging\": [[0, \"#8e0152\"], [0.1, \"#c51b7d\"], [0.2, \"#de77ae\"], [0.3, \"#f1b6da\"], [0.4, \"#fde0ef\"], [0.5, \"#f7f7f7\"], [0.6, \"#e6f5d0\"], [0.7, \"#b8e186\"], [0.8, \"#7fbc41\"], [0.9, \"#4d9221\"], [1, \"#276419\"]], \"sequential\": [[0.0, \"#0d0887\"], [0.1111111111111111, \"#46039f\"], [0.2222222222222222, \"#7201a8\"], [0.3333333333333333, \"#9c179e\"], [0.4444444444444444, \"#bd3786\"], [0.5555555555555556, \"#d8576b\"], [0.6666666666666666, \"#ed7953\"], [0.7777777777777778, \"#fb9f3a\"], [0.8888888888888888, \"#fdca26\"], [1.0, \"#f0f921\"]], \"sequentialminus\": [[0.0, \"#0d0887\"], [0.1111111111111111, \"#46039f\"], [0.2222222222222222, \"#7201a8\"], [0.3333333333333333, \"#9c179e\"], [0.4444444444444444, \"#bd3786\"], [0.5555555555555556, \"#d8576b\"], [0.6666666666666666, \"#ed7953\"], [0.7777777777777778, \"#fb9f3a\"], [0.8888888888888888, \"#fdca26\"], [1.0, \"#f0f921\"]]}, \"colorway\": [\"#636efa\", \"#EF553B\", \"#00cc96\", \"#ab63fa\", \"#FFA15A\", \"#19d3f3\", \"#FF6692\", \"#B6E880\", \"#FF97FF\", \"#FECB52\"], \"font\": {\"color\": \"#f2f5fa\"}, \"geo\": {\"bgcolor\": \"rgb(17,17,17)\", \"lakecolor\": \"rgb(17,17,17)\", \"landcolor\": \"rgb(17,17,17)\", \"showlakes\": true, \"showland\": true, \"subunitcolor\": \"#506784\"}, \"hoverlabel\": {\"align\": \"left\"}, \"hovermode\": \"closest\", \"mapbox\": {\"style\": \"dark\"}, \"paper_bgcolor\": \"rgb(17,17,17)\", \"plot_bgcolor\": \"rgb(17,17,17)\", \"polar\": {\"angularaxis\": {\"gridcolor\": \"#506784\", \"linecolor\": \"#506784\", \"ticks\": \"\"}, \"bgcolor\": \"rgb(17,17,17)\", \"radialaxis\": {\"gridcolor\": \"#506784\", \"linecolor\": \"#506784\", \"ticks\": \"\"}}, \"scene\": {\"xaxis\": {\"backgroundcolor\": \"rgb(17,17,17)\", \"gridcolor\": \"#506784\", \"gridwidth\": 2, \"linecolor\": \"#506784\", \"showbackground\": true, \"ticks\": \"\", \"zerolinecolor\": \"#C8D4E3\"}, \"yaxis\": {\"backgroundcolor\": \"rgb(17,17,17)\", \"gridcolor\": \"#506784\", \"gridwidth\": 2, \"linecolor\": \"#506784\", \"showbackground\": true, \"ticks\": \"\", \"zerolinecolor\": \"#C8D4E3\"}, \"zaxis\": {\"backgroundcolor\": \"rgb(17,17,17)\", \"gridcolor\": \"#506784\", \"gridwidth\": 2, \"linecolor\": \"#506784\", \"showbackground\": true, \"ticks\": \"\", \"zerolinecolor\": \"#C8D4E3\"}}, \"shapedefaults\": {\"line\": {\"color\": \"#f2f5fa\"}}, \"sliderdefaults\": {\"bgcolor\": \"#C8D4E3\", \"bordercolor\": \"rgb(17,17,17)\", \"borderwidth\": 1, \"tickwidth\": 0}, \"ternary\": {\"aaxis\": {\"gridcolor\": \"#506784\", \"linecolor\": \"#506784\", \"ticks\": \"\"}, \"baxis\": {\"gridcolor\": \"#506784\", \"linecolor\": \"#506784\", \"ticks\": \"\"}, \"bgcolor\": \"rgb(17,17,17)\", \"caxis\": {\"gridcolor\": \"#506784\", \"linecolor\": \"#506784\", \"ticks\": \"\"}}, \"title\": {\"x\": 0.05}, \"updatemenudefaults\": {\"bgcolor\": \"#506784\", \"borderwidth\": 0}, \"xaxis\": {\"automargin\": true, \"gridcolor\": \"#283442\", \"linecolor\": \"#506784\", \"ticks\": \"\", \"title\": {\"standoff\": 15}, \"zerolinecolor\": \"#283442\", \"zerolinewidth\": 2}, \"yaxis\": {\"automargin\": true, \"gridcolor\": \"#283442\", \"linecolor\": \"#506784\", \"ticks\": \"\", \"title\": {\"standoff\": 15}, \"zerolinecolor\": \"#283442\", \"zerolinewidth\": 2}}}, \"xaxis\": {\"anchor\": \"y\", \"domain\": [0.0, 1.0], \"title\": {\"text\": \"Country\"}}, \"yaxis\": {\"anchor\": \"x\", \"domain\": [0.0, 1.0], \"title\": {\"text\": \"Count\"}}},\n",
              "                        {\"responsive\": true}\n",
              "                    ).then(function(){\n",
              "                            \n",
              "var gd = document.getElementById('1903f39a-101c-476e-9a58-fad1ab97ef8f');\n",
              "var x = new MutationObserver(function (mutations, observer) {{\n",
              "        var display = window.getComputedStyle(gd).display;\n",
              "        if (!display || display === 'none') {{\n",
              "            console.log([gd, 'removed!']);\n",
              "            Plotly.purge(gd);\n",
              "            observer.disconnect();\n",
              "        }}\n",
              "}});\n",
              "\n",
              "// Listen for the removal of the full notebook cells\n",
              "var notebookContainer = gd.closest('#notebook-container');\n",
              "if (notebookContainer) {{\n",
              "    x.observe(notebookContainer, {childList: true});\n",
              "}}\n",
              "\n",
              "// Listen for the clearing of the current output cell\n",
              "var outputEl = gd.closest('.output');\n",
              "if (outputEl) {{\n",
              "    x.observe(outputEl, {childList: true});\n",
              "}}\n",
              "\n",
              "                        })\n",
              "                };\n",
              "                \n",
              "            </script>\n",
              "        </div>\n",
              "</body>\n",
              "</html>"
            ]
          },
          "metadata": {
            "tags": []
          }
        }
      ]
    },
    {
      "cell_type": "code",
      "metadata": {
        "id": "1SjhqT8jHYK8",
        "colab_type": "code",
        "colab": {
          "base_uri": "https://localhost:8080/",
          "height": 202
        },
        "outputId": "d9f72008-3be2-4d58-c756-1d0e40b721cd"
      },
      "source": [
        "data_uk = data.query(\"Country == 'United Kingdom'\").copy()\n",
        "data_uk.head()"
      ],
      "execution_count": 13,
      "outputs": [
        {
          "output_type": "execute_result",
          "data": {
            "text/html": [
              "<div>\n",
              "<style scoped>\n",
              "    .dataframe tbody tr th:only-of-type {\n",
              "        vertical-align: middle;\n",
              "    }\n",
              "\n",
              "    .dataframe tbody tr th {\n",
              "        vertical-align: top;\n",
              "    }\n",
              "\n",
              "    .dataframe thead th {\n",
              "        text-align: right;\n",
              "    }\n",
              "</style>\n",
              "<table border=\"1\" class=\"dataframe\">\n",
              "  <thead>\n",
              "    <tr style=\"text-align: right;\">\n",
              "      <th></th>\n",
              "      <th>InvoiceNo</th>\n",
              "      <th>StockCode</th>\n",
              "      <th>Description</th>\n",
              "      <th>Quantity</th>\n",
              "      <th>InvoiceDate</th>\n",
              "      <th>UnitPrice</th>\n",
              "      <th>CustomerID</th>\n",
              "      <th>Country</th>\n",
              "    </tr>\n",
              "  </thead>\n",
              "  <tbody>\n",
              "    <tr>\n",
              "      <th>0</th>\n",
              "      <td>536365</td>\n",
              "      <td>85123A</td>\n",
              "      <td>WHITE HANGING HEART T-LIGHT HOLDER</td>\n",
              "      <td>6</td>\n",
              "      <td>2010-12-01 08:26:00</td>\n",
              "      <td>2.55</td>\n",
              "      <td>17850</td>\n",
              "      <td>United Kingdom</td>\n",
              "    </tr>\n",
              "    <tr>\n",
              "      <th>1</th>\n",
              "      <td>536365</td>\n",
              "      <td>71053</td>\n",
              "      <td>WHITE METAL LANTERN</td>\n",
              "      <td>6</td>\n",
              "      <td>2010-12-01 08:26:00</td>\n",
              "      <td>3.39</td>\n",
              "      <td>17850</td>\n",
              "      <td>United Kingdom</td>\n",
              "    </tr>\n",
              "    <tr>\n",
              "      <th>2</th>\n",
              "      <td>536365</td>\n",
              "      <td>84406B</td>\n",
              "      <td>CREAM CUPID HEARTS COAT HANGER</td>\n",
              "      <td>8</td>\n",
              "      <td>2010-12-01 08:26:00</td>\n",
              "      <td>2.75</td>\n",
              "      <td>17850</td>\n",
              "      <td>United Kingdom</td>\n",
              "    </tr>\n",
              "    <tr>\n",
              "      <th>3</th>\n",
              "      <td>536365</td>\n",
              "      <td>84029G</td>\n",
              "      <td>KNITTED UNION FLAG HOT WATER BOTTLE</td>\n",
              "      <td>6</td>\n",
              "      <td>2010-12-01 08:26:00</td>\n",
              "      <td>3.39</td>\n",
              "      <td>17850</td>\n",
              "      <td>United Kingdom</td>\n",
              "    </tr>\n",
              "    <tr>\n",
              "      <th>4</th>\n",
              "      <td>536365</td>\n",
              "      <td>84029E</td>\n",
              "      <td>RED WOOLLY HOTTIE WHITE HEART.</td>\n",
              "      <td>6</td>\n",
              "      <td>2010-12-01 08:26:00</td>\n",
              "      <td>3.39</td>\n",
              "      <td>17850</td>\n",
              "      <td>United Kingdom</td>\n",
              "    </tr>\n",
              "  </tbody>\n",
              "</table>\n",
              "</div>"
            ],
            "text/plain": [
              "  InvoiceNo StockCode  ... CustomerID         Country\n",
              "0    536365    85123A  ...      17850  United Kingdom\n",
              "1    536365     71053  ...      17850  United Kingdom\n",
              "2    536365    84406B  ...      17850  United Kingdom\n",
              "3    536365    84029G  ...      17850  United Kingdom\n",
              "4    536365    84029E  ...      17850  United Kingdom\n",
              "\n",
              "[5 rows x 8 columns]"
            ]
          },
          "metadata": {
            "tags": []
          },
          "execution_count": 13
        }
      ]
    },
    {
      "cell_type": "code",
      "metadata": {
        "id": "hE_haEdMRXfs",
        "colab_type": "code",
        "colab": {
          "base_uri": "https://localhost:8080/",
          "height": 202
        },
        "outputId": "61335911-81df-4651-8cbd-441dece7cabd"
      },
      "source": [
        "tmp = data_uk.groupby(data_uk['InvoiceDate'].dt.date)['CustomerID'].count().reset_index()\n",
        "tmp.columns = ['InvoiceDate', 'Count']\n",
        "tmp.head()"
      ],
      "execution_count": 14,
      "outputs": [
        {
          "output_type": "execute_result",
          "data": {
            "text/html": [
              "<div>\n",
              "<style scoped>\n",
              "    .dataframe tbody tr th:only-of-type {\n",
              "        vertical-align: middle;\n",
              "    }\n",
              "\n",
              "    .dataframe tbody tr th {\n",
              "        vertical-align: top;\n",
              "    }\n",
              "\n",
              "    .dataframe thead th {\n",
              "        text-align: right;\n",
              "    }\n",
              "</style>\n",
              "<table border=\"1\" class=\"dataframe\">\n",
              "  <thead>\n",
              "    <tr style=\"text-align: right;\">\n",
              "      <th></th>\n",
              "      <th>InvoiceDate</th>\n",
              "      <th>Count</th>\n",
              "    </tr>\n",
              "  </thead>\n",
              "  <tbody>\n",
              "    <tr>\n",
              "      <th>0</th>\n",
              "      <td>2010-12-01</td>\n",
              "      <td>1809</td>\n",
              "    </tr>\n",
              "    <tr>\n",
              "      <th>1</th>\n",
              "      <td>2010-12-02</td>\n",
              "      <td>2029</td>\n",
              "    </tr>\n",
              "    <tr>\n",
              "      <th>2</th>\n",
              "      <td>2010-12-03</td>\n",
              "      <td>937</td>\n",
              "    </tr>\n",
              "    <tr>\n",
              "      <th>3</th>\n",
              "      <td>2010-12-05</td>\n",
              "      <td>2492</td>\n",
              "    </tr>\n",
              "    <tr>\n",
              "      <th>4</th>\n",
              "      <td>2010-12-06</td>\n",
              "      <td>1915</td>\n",
              "    </tr>\n",
              "  </tbody>\n",
              "</table>\n",
              "</div>"
            ],
            "text/plain": [
              "  InvoiceDate  Count\n",
              "0  2010-12-01   1809\n",
              "1  2010-12-02   2029\n",
              "2  2010-12-03    937\n",
              "3  2010-12-05   2492\n",
              "4  2010-12-06   1915"
            ]
          },
          "metadata": {
            "tags": []
          },
          "execution_count": 14
        }
      ]
    },
    {
      "cell_type": "code",
      "metadata": {
        "id": "CZx5L4C2SvHv",
        "colab_type": "code",
        "colab": {
          "base_uri": "https://localhost:8080/",
          "height": 542
        },
        "outputId": "05336c8b-0129-4ee6-e886-b228ebc47fd6"
      },
      "source": [
        "from plotly.subplots import make_subplots\n",
        "\n",
        "fig = make_subplots(rows=2, cols=1, shared_xaxes=True, vertical_spacing=0.02)\n",
        "\n",
        "trace1 = px.line(tmp, x='InvoiceDate', y='Count', template='plotly_dark', color_discrete_sequence=['#03fcb5'])['data'][0]\n",
        "trace2 = px.scatter(tmp, x='InvoiceDate', y='Count', template='plotly_dark', color_discrete_sequence=['#03fcb5'])['data'][0]\n",
        "\n",
        "fig.add_trace(trace1, row=1, col=1)\n",
        "fig.add_trace(trace2, row=2, col=1)\n",
        "fig.update_layout(template='plotly_dark', title='Count by day', width=950)\n",
        "fig.show()"
      ],
      "execution_count": 15,
      "outputs": [
        {
          "output_type": "display_data",
          "data": {
            "text/html": [
              "<html>\n",
              "<head><meta charset=\"utf-8\" /></head>\n",
              "<body>\n",
              "    <div>\n",
              "            <script src=\"https://cdnjs.cloudflare.com/ajax/libs/mathjax/2.7.5/MathJax.js?config=TeX-AMS-MML_SVG\"></script><script type=\"text/javascript\">if (window.MathJax) {MathJax.Hub.Config({SVG: {font: \"STIX-Web\"}});}</script>\n",
              "                <script type=\"text/javascript\">window.PlotlyConfig = {MathJaxConfig: 'local'};</script>\n",
              "        <script src=\"https://cdn.plot.ly/plotly-latest.min.js\"></script>    \n",
              "            <div id=\"d3b62949-1b86-4127-b958-93e6e47239c7\" class=\"plotly-graph-div\" style=\"height:525px; width:950px;\"></div>\n",
              "            <script type=\"text/javascript\">\n",
              "                \n",
              "                    window.PLOTLYENV=window.PLOTLYENV || {};\n",
              "                    \n",
              "                if (document.getElementById(\"d3b62949-1b86-4127-b958-93e6e47239c7\")) {\n",
              "                    Plotly.newPlot(\n",
              "                        'd3b62949-1b86-4127-b958-93e6e47239c7',\n",
              "                        [{\"hoverlabel\": {\"namelength\": 0}, \"hovertemplate\": \"InvoiceDate=%{x}<br>Count=%{y}\", \"legendgroup\": \"\", \"line\": {\"color\": \"#03fcb5\", \"dash\": \"solid\"}, \"mode\": \"lines\", \"name\": \"\", \"showlegend\": false, \"type\": \"scatter\", \"x\": [\"2010-12-01\", \"2010-12-02\", \"2010-12-03\", \"2010-12-05\", \"2010-12-06\", \"2010-12-07\", \"2010-12-08\", \"2010-12-09\", \"2010-12-10\", \"2010-12-12\", \"2010-12-13\", \"2010-12-14\", \"2010-12-15\", \"2010-12-16\", \"2010-12-17\", \"2010-12-19\", \"2010-12-20\", \"2010-12-21\", \"2010-12-22\", \"2010-12-23\", \"2011-01-04\", \"2011-01-05\", \"2011-01-06\", \"2011-01-07\", \"2011-01-09\", \"2011-01-10\", \"2011-01-11\", \"2011-01-12\", \"2011-01-13\", \"2011-01-14\", \"2011-01-16\", \"2011-01-17\", \"2011-01-18\", \"2011-01-19\", \"2011-01-20\", \"2011-01-21\", \"2011-01-23\", \"2011-01-24\", \"2011-01-25\", \"2011-01-26\", \"2011-01-27\", \"2011-01-28\", \"2011-01-30\", \"2011-01-31\", \"2011-02-01\", \"2011-02-02\", \"2011-02-03\", \"2011-02-04\", \"2011-02-06\", \"2011-02-07\", \"2011-02-08\", \"2011-02-09\", \"2011-02-10\", \"2011-02-11\", \"2011-02-13\", \"2011-02-14\", \"2011-02-15\", \"2011-02-16\", \"2011-02-17\", \"2011-02-18\", \"2011-02-20\", \"2011-02-21\", \"2011-02-22\", \"2011-02-23\", \"2011-02-24\", \"2011-02-25\", \"2011-02-27\", \"2011-02-28\", \"2011-03-01\", \"2011-03-02\", \"2011-03-03\", \"2011-03-04\", \"2011-03-06\", \"2011-03-07\", \"2011-03-08\", \"2011-03-09\", \"2011-03-10\", \"2011-03-11\", \"2011-03-13\", \"2011-03-14\", \"2011-03-15\", \"2011-03-16\", \"2011-03-17\", \"2011-03-18\", \"2011-03-20\", \"2011-03-21\", \"2011-03-22\", \"2011-03-23\", \"2011-03-24\", \"2011-03-25\", \"2011-03-27\", \"2011-03-28\", \"2011-03-29\", \"2011-03-30\", \"2011-03-31\", \"2011-04-01\", \"2011-04-03\", \"2011-04-04\", \"2011-04-05\", \"2011-04-06\", \"2011-04-07\", \"2011-04-08\", \"2011-04-10\", \"2011-04-11\", \"2011-04-12\", \"2011-04-13\", \"2011-04-14\", \"2011-04-15\", \"2011-04-17\", \"2011-04-18\", \"2011-04-19\", \"2011-04-20\", \"2011-04-21\", \"2011-04-26\", \"2011-04-27\", \"2011-04-28\", \"2011-05-01\", \"2011-05-03\", \"2011-05-04\", \"2011-05-05\", \"2011-05-06\", \"2011-05-08\", \"2011-05-09\", \"2011-05-10\", \"2011-05-11\", \"2011-05-12\", \"2011-05-13\", \"2011-05-15\", \"2011-05-16\", \"2011-05-17\", \"2011-05-18\", \"2011-05-19\", \"2011-05-20\", \"2011-05-22\", \"2011-05-23\", \"2011-05-24\", \"2011-05-25\", \"2011-05-26\", \"2011-05-27\", \"2011-05-29\", \"2011-05-31\", \"2011-06-01\", \"2011-06-02\", \"2011-06-03\", \"2011-06-05\", \"2011-06-06\", \"2011-06-07\", \"2011-06-08\", \"2011-06-09\", \"2011-06-10\", \"2011-06-12\", \"2011-06-13\", \"2011-06-14\", \"2011-06-15\", \"2011-06-16\", \"2011-06-17\", \"2011-06-19\", \"2011-06-20\", \"2011-06-21\", \"2011-06-22\", \"2011-06-23\", \"2011-06-24\", \"2011-06-26\", \"2011-06-27\", \"2011-06-28\", \"2011-06-29\", \"2011-06-30\", \"2011-07-01\", \"2011-07-03\", \"2011-07-04\", \"2011-07-05\", \"2011-07-06\", \"2011-07-07\", \"2011-07-08\", \"2011-07-10\", \"2011-07-11\", \"2011-07-12\", \"2011-07-13\", \"2011-07-14\", \"2011-07-15\", \"2011-07-17\", \"2011-07-18\", \"2011-07-19\", \"2011-07-20\", \"2011-07-21\", \"2011-07-22\", \"2011-07-24\", \"2011-07-25\", \"2011-07-26\", \"2011-07-27\", \"2011-07-28\", \"2011-07-29\", \"2011-07-31\", \"2011-08-01\", \"2011-08-02\", \"2011-08-03\", \"2011-08-04\", \"2011-08-05\", \"2011-08-07\", \"2011-08-08\", \"2011-08-09\", \"2011-08-10\", \"2011-08-11\", \"2011-08-12\", \"2011-08-14\", \"2011-08-15\", \"2011-08-16\", \"2011-08-17\", \"2011-08-18\", \"2011-08-19\", \"2011-08-21\", \"2011-08-22\", \"2011-08-23\", \"2011-08-24\", \"2011-08-25\", \"2011-08-26\", \"2011-08-28\", \"2011-08-30\", \"2011-08-31\", \"2011-09-01\", \"2011-09-02\", \"2011-09-04\", \"2011-09-05\", \"2011-09-06\", \"2011-09-07\", \"2011-09-08\", \"2011-09-09\", \"2011-09-11\", \"2011-09-12\", \"2011-09-13\", \"2011-09-14\", \"2011-09-15\", \"2011-09-16\", \"2011-09-18\", \"2011-09-19\", \"2011-09-20\", \"2011-09-21\", \"2011-09-22\", \"2011-09-23\", \"2011-09-25\", \"2011-09-26\", \"2011-09-27\", \"2011-09-28\", \"2011-09-29\", \"2011-09-30\", \"2011-10-02\", \"2011-10-03\", \"2011-10-04\", \"2011-10-05\", \"2011-10-06\", \"2011-10-07\", \"2011-10-09\", \"2011-10-10\", \"2011-10-11\", \"2011-10-12\", \"2011-10-13\", \"2011-10-14\", \"2011-10-16\", \"2011-10-17\", \"2011-10-18\", \"2011-10-19\", \"2011-10-20\", \"2011-10-21\", \"2011-10-23\", \"2011-10-24\", \"2011-10-25\", \"2011-10-26\", \"2011-10-27\", \"2011-10-28\", \"2011-10-30\", \"2011-10-31\", \"2011-11-01\", \"2011-11-02\", \"2011-11-03\", \"2011-11-04\", \"2011-11-06\", \"2011-11-07\", \"2011-11-08\", \"2011-11-09\", \"2011-11-10\", \"2011-11-11\", \"2011-11-13\", \"2011-11-14\", \"2011-11-15\", \"2011-11-16\", \"2011-11-17\", \"2011-11-18\", \"2011-11-20\", \"2011-11-21\", \"2011-11-22\", \"2011-11-23\", \"2011-11-24\", \"2011-11-25\", \"2011-11-27\", \"2011-11-28\", \"2011-11-29\", \"2011-11-30\", \"2011-12-01\", \"2011-12-02\", \"2011-12-04\", \"2011-12-05\", \"2011-12-06\", \"2011-12-07\", \"2011-12-08\", \"2011-12-09\"], \"xaxis\": \"x\", \"y\": [1809, 2029, 937, 2492, 1915, 1024, 1866, 1566, 1320, 1400, 1258, 1604, 1254, 1662, 461, 456, 744, 298, 180, 261, 746, 1003, 1221, 738, 1043, 633, 796, 803, 660, 571, 646, 825, 452, 728, 598, 616, 867, 624, 1086, 823, 1132, 566, 722, 839, 1133, 951, 732, 590, 279, 864, 576, 306, 689, 539, 624, 561, 832, 866, 953, 540, 864, 691, 1121, 921, 1056, 752, 797, 873, 793, 887, 788, 732, 843, 1095, 1086, 911, 769, 575, 519, 920, 720, 766, 929, 933, 1148, 933, 1062, 915, 1442, 794, 724, 1114, 965, 1215, 1009, 1048, 725, 1146, 849, 741, 1173, 901, 914, 1017, 1094, 980, 1373, 707, 912, 1459, 1080, 901, 1207, 1162, 1017, 952, 419, 896, 1075, 1085, 1249, 1394, 974, 1229, 1352, 1378, 1028, 735, 1023, 1163, 1079, 1337, 917, 1422, 1122, 1079, 897, 744, 782, 602, 757, 664, 884, 576, 1345, 953, 1405, 1250, 1165, 635, 1046, 937, 1026, 1062, 1129, 686, 1062, 863, 855, 882, 1475, 639, 675, 754, 701, 558, 1069, 772, 602, 850, 767, 1127, 1183, 659, 820, 892, 643, 1088, 1227, 675, 1181, 1052, 1112, 1123, 1244, 678, 988, 929, 832, 692, 1074, 876, 1084, 927, 586, 1335, 1271, 966, 534, 978, 798, 650, 1256, 509, 553, 759, 885, 1320, 1190, 592, 992, 1154, 1145, 1450, 1012, 654, 1078, 373, 656, 1319, 981, 1132, 1216, 942, 689, 1222, 1068, 1930, 1507, 1813, 1035, 1544, 1177, 1274, 982, 1282, 1543, 2180, 1549, 1893, 1432, 1335, 1810, 2129, 1349, 1423, 1690, 2017, 1698, 2362, 1757, 1272, 2539, 1303, 1152, 1565, 1264, 1254, 1973, 1781, 1615, 1904, 1185, 1726, 1879, 1950, 1625, 2087, 1264, 2705, 1631, 1595, 1643, 1818, 2307, 3145, 1668, 2255, 2116, 2847, 2037, 2626, 2746, 2008, 2557, 2466, 1852, 2957, 2162, 2597, 3145, 2095, 1597, 2449, 2573, 2589, 1841, 2116, 1828, 1810, 3267, 2436, 1745, 2431, 444], \"yaxis\": \"y\"}, {\"hoverlabel\": {\"namelength\": 0}, \"hovertemplate\": \"InvoiceDate=%{x}<br>Count=%{y}\", \"legendgroup\": \"\", \"marker\": {\"color\": \"#03fcb5\", \"symbol\": \"circle\"}, \"mode\": \"markers\", \"name\": \"\", \"showlegend\": false, \"type\": \"scatter\", \"x\": [\"2010-12-01\", \"2010-12-02\", \"2010-12-03\", \"2010-12-05\", \"2010-12-06\", \"2010-12-07\", \"2010-12-08\", \"2010-12-09\", \"2010-12-10\", \"2010-12-12\", \"2010-12-13\", \"2010-12-14\", \"2010-12-15\", \"2010-12-16\", \"2010-12-17\", \"2010-12-19\", \"2010-12-20\", \"2010-12-21\", \"2010-12-22\", \"2010-12-23\", \"2011-01-04\", \"2011-01-05\", \"2011-01-06\", \"2011-01-07\", \"2011-01-09\", \"2011-01-10\", \"2011-01-11\", \"2011-01-12\", \"2011-01-13\", \"2011-01-14\", \"2011-01-16\", \"2011-01-17\", \"2011-01-18\", \"2011-01-19\", \"2011-01-20\", \"2011-01-21\", \"2011-01-23\", \"2011-01-24\", \"2011-01-25\", \"2011-01-26\", \"2011-01-27\", \"2011-01-28\", \"2011-01-30\", \"2011-01-31\", \"2011-02-01\", \"2011-02-02\", \"2011-02-03\", \"2011-02-04\", \"2011-02-06\", \"2011-02-07\", \"2011-02-08\", \"2011-02-09\", \"2011-02-10\", \"2011-02-11\", \"2011-02-13\", \"2011-02-14\", \"2011-02-15\", \"2011-02-16\", \"2011-02-17\", \"2011-02-18\", \"2011-02-20\", \"2011-02-21\", \"2011-02-22\", \"2011-02-23\", \"2011-02-24\", \"2011-02-25\", \"2011-02-27\", \"2011-02-28\", \"2011-03-01\", \"2011-03-02\", \"2011-03-03\", \"2011-03-04\", \"2011-03-06\", \"2011-03-07\", \"2011-03-08\", \"2011-03-09\", \"2011-03-10\", \"2011-03-11\", \"2011-03-13\", \"2011-03-14\", \"2011-03-15\", \"2011-03-16\", \"2011-03-17\", \"2011-03-18\", \"2011-03-20\", \"2011-03-21\", \"2011-03-22\", \"2011-03-23\", \"2011-03-24\", \"2011-03-25\", \"2011-03-27\", \"2011-03-28\", \"2011-03-29\", \"2011-03-30\", \"2011-03-31\", \"2011-04-01\", \"2011-04-03\", \"2011-04-04\", \"2011-04-05\", \"2011-04-06\", \"2011-04-07\", \"2011-04-08\", \"2011-04-10\", \"2011-04-11\", \"2011-04-12\", \"2011-04-13\", \"2011-04-14\", \"2011-04-15\", \"2011-04-17\", \"2011-04-18\", \"2011-04-19\", \"2011-04-20\", \"2011-04-21\", \"2011-04-26\", \"2011-04-27\", \"2011-04-28\", \"2011-05-01\", \"2011-05-03\", \"2011-05-04\", \"2011-05-05\", \"2011-05-06\", \"2011-05-08\", \"2011-05-09\", \"2011-05-10\", \"2011-05-11\", \"2011-05-12\", \"2011-05-13\", \"2011-05-15\", \"2011-05-16\", \"2011-05-17\", \"2011-05-18\", \"2011-05-19\", \"2011-05-20\", \"2011-05-22\", \"2011-05-23\", \"2011-05-24\", \"2011-05-25\", \"2011-05-26\", \"2011-05-27\", \"2011-05-29\", \"2011-05-31\", \"2011-06-01\", \"2011-06-02\", \"2011-06-03\", \"2011-06-05\", \"2011-06-06\", \"2011-06-07\", \"2011-06-08\", \"2011-06-09\", \"2011-06-10\", \"2011-06-12\", \"2011-06-13\", \"2011-06-14\", \"2011-06-15\", \"2011-06-16\", \"2011-06-17\", \"2011-06-19\", \"2011-06-20\", \"2011-06-21\", \"2011-06-22\", \"2011-06-23\", \"2011-06-24\", \"2011-06-26\", \"2011-06-27\", \"2011-06-28\", \"2011-06-29\", \"2011-06-30\", \"2011-07-01\", \"2011-07-03\", \"2011-07-04\", \"2011-07-05\", \"2011-07-06\", \"2011-07-07\", \"2011-07-08\", \"2011-07-10\", \"2011-07-11\", \"2011-07-12\", \"2011-07-13\", \"2011-07-14\", \"2011-07-15\", \"2011-07-17\", \"2011-07-18\", \"2011-07-19\", \"2011-07-20\", \"2011-07-21\", \"2011-07-22\", \"2011-07-24\", \"2011-07-25\", \"2011-07-26\", \"2011-07-27\", \"2011-07-28\", \"2011-07-29\", \"2011-07-31\", \"2011-08-01\", \"2011-08-02\", \"2011-08-03\", \"2011-08-04\", \"2011-08-05\", \"2011-08-07\", \"2011-08-08\", \"2011-08-09\", \"2011-08-10\", \"2011-08-11\", \"2011-08-12\", \"2011-08-14\", \"2011-08-15\", \"2011-08-16\", \"2011-08-17\", \"2011-08-18\", \"2011-08-19\", \"2011-08-21\", \"2011-08-22\", \"2011-08-23\", \"2011-08-24\", \"2011-08-25\", \"2011-08-26\", \"2011-08-28\", \"2011-08-30\", \"2011-08-31\", \"2011-09-01\", \"2011-09-02\", \"2011-09-04\", \"2011-09-05\", \"2011-09-06\", \"2011-09-07\", \"2011-09-08\", \"2011-09-09\", \"2011-09-11\", \"2011-09-12\", \"2011-09-13\", \"2011-09-14\", \"2011-09-15\", \"2011-09-16\", \"2011-09-18\", \"2011-09-19\", \"2011-09-20\", \"2011-09-21\", \"2011-09-22\", \"2011-09-23\", \"2011-09-25\", \"2011-09-26\", \"2011-09-27\", \"2011-09-28\", \"2011-09-29\", \"2011-09-30\", \"2011-10-02\", \"2011-10-03\", \"2011-10-04\", \"2011-10-05\", \"2011-10-06\", \"2011-10-07\", \"2011-10-09\", \"2011-10-10\", \"2011-10-11\", \"2011-10-12\", \"2011-10-13\", \"2011-10-14\", \"2011-10-16\", \"2011-10-17\", \"2011-10-18\", \"2011-10-19\", \"2011-10-20\", \"2011-10-21\", \"2011-10-23\", \"2011-10-24\", \"2011-10-25\", \"2011-10-26\", \"2011-10-27\", \"2011-10-28\", \"2011-10-30\", \"2011-10-31\", \"2011-11-01\", \"2011-11-02\", \"2011-11-03\", \"2011-11-04\", \"2011-11-06\", \"2011-11-07\", \"2011-11-08\", \"2011-11-09\", \"2011-11-10\", \"2011-11-11\", \"2011-11-13\", \"2011-11-14\", \"2011-11-15\", \"2011-11-16\", \"2011-11-17\", \"2011-11-18\", \"2011-11-20\", \"2011-11-21\", \"2011-11-22\", \"2011-11-23\", \"2011-11-24\", \"2011-11-25\", \"2011-11-27\", \"2011-11-28\", \"2011-11-29\", \"2011-11-30\", \"2011-12-01\", \"2011-12-02\", \"2011-12-04\", \"2011-12-05\", \"2011-12-06\", \"2011-12-07\", \"2011-12-08\", \"2011-12-09\"], \"xaxis\": \"x2\", \"y\": [1809, 2029, 937, 2492, 1915, 1024, 1866, 1566, 1320, 1400, 1258, 1604, 1254, 1662, 461, 456, 744, 298, 180, 261, 746, 1003, 1221, 738, 1043, 633, 796, 803, 660, 571, 646, 825, 452, 728, 598, 616, 867, 624, 1086, 823, 1132, 566, 722, 839, 1133, 951, 732, 590, 279, 864, 576, 306, 689, 539, 624, 561, 832, 866, 953, 540, 864, 691, 1121, 921, 1056, 752, 797, 873, 793, 887, 788, 732, 843, 1095, 1086, 911, 769, 575, 519, 920, 720, 766, 929, 933, 1148, 933, 1062, 915, 1442, 794, 724, 1114, 965, 1215, 1009, 1048, 725, 1146, 849, 741, 1173, 901, 914, 1017, 1094, 980, 1373, 707, 912, 1459, 1080, 901, 1207, 1162, 1017, 952, 419, 896, 1075, 1085, 1249, 1394, 974, 1229, 1352, 1378, 1028, 735, 1023, 1163, 1079, 1337, 917, 1422, 1122, 1079, 897, 744, 782, 602, 757, 664, 884, 576, 1345, 953, 1405, 1250, 1165, 635, 1046, 937, 1026, 1062, 1129, 686, 1062, 863, 855, 882, 1475, 639, 675, 754, 701, 558, 1069, 772, 602, 850, 767, 1127, 1183, 659, 820, 892, 643, 1088, 1227, 675, 1181, 1052, 1112, 1123, 1244, 678, 988, 929, 832, 692, 1074, 876, 1084, 927, 586, 1335, 1271, 966, 534, 978, 798, 650, 1256, 509, 553, 759, 885, 1320, 1190, 592, 992, 1154, 1145, 1450, 1012, 654, 1078, 373, 656, 1319, 981, 1132, 1216, 942, 689, 1222, 1068, 1930, 1507, 1813, 1035, 1544, 1177, 1274, 982, 1282, 1543, 2180, 1549, 1893, 1432, 1335, 1810, 2129, 1349, 1423, 1690, 2017, 1698, 2362, 1757, 1272, 2539, 1303, 1152, 1565, 1264, 1254, 1973, 1781, 1615, 1904, 1185, 1726, 1879, 1950, 1625, 2087, 1264, 2705, 1631, 1595, 1643, 1818, 2307, 3145, 1668, 2255, 2116, 2847, 2037, 2626, 2746, 2008, 2557, 2466, 1852, 2957, 2162, 2597, 3145, 2095, 1597, 2449, 2573, 2589, 1841, 2116, 1828, 1810, 3267, 2436, 1745, 2431, 444], \"yaxis\": \"y2\"}],\n",
              "                        {\"template\": {\"data\": {\"bar\": [{\"error_x\": {\"color\": \"#f2f5fa\"}, \"error_y\": {\"color\": \"#f2f5fa\"}, \"marker\": {\"line\": {\"color\": \"rgb(17,17,17)\", \"width\": 0.5}}, \"type\": \"bar\"}], \"barpolar\": [{\"marker\": {\"line\": {\"color\": \"rgb(17,17,17)\", \"width\": 0.5}}, \"type\": \"barpolar\"}], \"carpet\": [{\"aaxis\": {\"endlinecolor\": \"#A2B1C6\", \"gridcolor\": \"#506784\", \"linecolor\": \"#506784\", \"minorgridcolor\": \"#506784\", \"startlinecolor\": \"#A2B1C6\"}, \"baxis\": {\"endlinecolor\": \"#A2B1C6\", \"gridcolor\": \"#506784\", \"linecolor\": \"#506784\", \"minorgridcolor\": \"#506784\", \"startlinecolor\": \"#A2B1C6\"}, \"type\": \"carpet\"}], \"choropleth\": [{\"colorbar\": {\"outlinewidth\": 0, \"ticks\": \"\"}, \"type\": \"choropleth\"}], \"contour\": [{\"colorbar\": {\"outlinewidth\": 0, \"ticks\": \"\"}, \"colorscale\": [[0.0, \"#0d0887\"], [0.1111111111111111, \"#46039f\"], [0.2222222222222222, \"#7201a8\"], [0.3333333333333333, \"#9c179e\"], [0.4444444444444444, \"#bd3786\"], [0.5555555555555556, \"#d8576b\"], [0.6666666666666666, \"#ed7953\"], [0.7777777777777778, \"#fb9f3a\"], [0.8888888888888888, \"#fdca26\"], [1.0, \"#f0f921\"]], \"type\": \"contour\"}], \"contourcarpet\": [{\"colorbar\": {\"outlinewidth\": 0, \"ticks\": \"\"}, \"type\": \"contourcarpet\"}], \"heatmap\": [{\"colorbar\": {\"outlinewidth\": 0, \"ticks\": \"\"}, \"colorscale\": [[0.0, \"#0d0887\"], [0.1111111111111111, \"#46039f\"], [0.2222222222222222, \"#7201a8\"], [0.3333333333333333, \"#9c179e\"], [0.4444444444444444, \"#bd3786\"], [0.5555555555555556, \"#d8576b\"], [0.6666666666666666, \"#ed7953\"], [0.7777777777777778, \"#fb9f3a\"], [0.8888888888888888, \"#fdca26\"], [1.0, \"#f0f921\"]], \"type\": \"heatmap\"}], \"heatmapgl\": [{\"colorbar\": {\"outlinewidth\": 0, \"ticks\": \"\"}, \"colorscale\": [[0.0, \"#0d0887\"], [0.1111111111111111, \"#46039f\"], [0.2222222222222222, \"#7201a8\"], [0.3333333333333333, \"#9c179e\"], [0.4444444444444444, \"#bd3786\"], [0.5555555555555556, \"#d8576b\"], [0.6666666666666666, \"#ed7953\"], [0.7777777777777778, \"#fb9f3a\"], [0.8888888888888888, \"#fdca26\"], [1.0, \"#f0f921\"]], \"type\": \"heatmapgl\"}], \"histogram\": [{\"marker\": {\"colorbar\": {\"outlinewidth\": 0, \"ticks\": \"\"}}, \"type\": \"histogram\"}], \"histogram2d\": [{\"colorbar\": {\"outlinewidth\": 0, \"ticks\": \"\"}, \"colorscale\": [[0.0, \"#0d0887\"], [0.1111111111111111, \"#46039f\"], [0.2222222222222222, \"#7201a8\"], [0.3333333333333333, \"#9c179e\"], [0.4444444444444444, \"#bd3786\"], [0.5555555555555556, \"#d8576b\"], [0.6666666666666666, \"#ed7953\"], [0.7777777777777778, \"#fb9f3a\"], [0.8888888888888888, \"#fdca26\"], [1.0, \"#f0f921\"]], \"type\": \"histogram2d\"}], \"histogram2dcontour\": [{\"colorbar\": {\"outlinewidth\": 0, \"ticks\": \"\"}, \"colorscale\": [[0.0, \"#0d0887\"], [0.1111111111111111, \"#46039f\"], [0.2222222222222222, \"#7201a8\"], [0.3333333333333333, \"#9c179e\"], [0.4444444444444444, \"#bd3786\"], [0.5555555555555556, \"#d8576b\"], [0.6666666666666666, \"#ed7953\"], [0.7777777777777778, \"#fb9f3a\"], [0.8888888888888888, \"#fdca26\"], [1.0, \"#f0f921\"]], \"type\": \"histogram2dcontour\"}], \"mesh3d\": [{\"colorbar\": {\"outlinewidth\": 0, \"ticks\": \"\"}, \"type\": \"mesh3d\"}], \"parcoords\": [{\"line\": {\"colorbar\": {\"outlinewidth\": 0, \"ticks\": \"\"}}, \"type\": \"parcoords\"}], \"pie\": [{\"automargin\": true, \"type\": \"pie\"}], \"scatter\": [{\"marker\": {\"line\": {\"color\": \"#283442\"}}, \"type\": \"scatter\"}], \"scatter3d\": [{\"line\": {\"colorbar\": {\"outlinewidth\": 0, \"ticks\": \"\"}}, \"marker\": {\"colorbar\": {\"outlinewidth\": 0, \"ticks\": \"\"}}, \"type\": \"scatter3d\"}], \"scattercarpet\": [{\"marker\": {\"colorbar\": {\"outlinewidth\": 0, \"ticks\": \"\"}}, \"type\": \"scattercarpet\"}], \"scattergeo\": [{\"marker\": {\"colorbar\": {\"outlinewidth\": 0, \"ticks\": \"\"}}, \"type\": \"scattergeo\"}], \"scattergl\": [{\"marker\": {\"line\": {\"color\": \"#283442\"}}, \"type\": \"scattergl\"}], \"scattermapbox\": [{\"marker\": {\"colorbar\": {\"outlinewidth\": 0, \"ticks\": \"\"}}, \"type\": \"scattermapbox\"}], \"scatterpolar\": [{\"marker\": {\"colorbar\": {\"outlinewidth\": 0, \"ticks\": \"\"}}, \"type\": \"scatterpolar\"}], \"scatterpolargl\": [{\"marker\": {\"colorbar\": {\"outlinewidth\": 0, \"ticks\": \"\"}}, \"type\": \"scatterpolargl\"}], \"scatterternary\": [{\"marker\": {\"colorbar\": {\"outlinewidth\": 0, \"ticks\": \"\"}}, \"type\": \"scatterternary\"}], \"surface\": [{\"colorbar\": {\"outlinewidth\": 0, \"ticks\": \"\"}, \"colorscale\": [[0.0, \"#0d0887\"], [0.1111111111111111, \"#46039f\"], [0.2222222222222222, \"#7201a8\"], [0.3333333333333333, \"#9c179e\"], [0.4444444444444444, \"#bd3786\"], [0.5555555555555556, \"#d8576b\"], [0.6666666666666666, \"#ed7953\"], [0.7777777777777778, \"#fb9f3a\"], [0.8888888888888888, \"#fdca26\"], [1.0, \"#f0f921\"]], \"type\": \"surface\"}], \"table\": [{\"cells\": {\"fill\": {\"color\": \"#506784\"}, \"line\": {\"color\": \"rgb(17,17,17)\"}}, \"header\": {\"fill\": {\"color\": \"#2a3f5f\"}, \"line\": {\"color\": \"rgb(17,17,17)\"}}, \"type\": \"table\"}]}, \"layout\": {\"annotationdefaults\": {\"arrowcolor\": \"#f2f5fa\", \"arrowhead\": 0, \"arrowwidth\": 1}, \"coloraxis\": {\"colorbar\": {\"outlinewidth\": 0, \"ticks\": \"\"}}, \"colorscale\": {\"diverging\": [[0, \"#8e0152\"], [0.1, \"#c51b7d\"], [0.2, \"#de77ae\"], [0.3, \"#f1b6da\"], [0.4, \"#fde0ef\"], [0.5, \"#f7f7f7\"], [0.6, \"#e6f5d0\"], [0.7, \"#b8e186\"], [0.8, \"#7fbc41\"], [0.9, \"#4d9221\"], [1, \"#276419\"]], \"sequential\": [[0.0, \"#0d0887\"], [0.1111111111111111, \"#46039f\"], [0.2222222222222222, \"#7201a8\"], [0.3333333333333333, \"#9c179e\"], [0.4444444444444444, \"#bd3786\"], [0.5555555555555556, \"#d8576b\"], [0.6666666666666666, \"#ed7953\"], [0.7777777777777778, \"#fb9f3a\"], [0.8888888888888888, \"#fdca26\"], [1.0, \"#f0f921\"]], \"sequentialminus\": [[0.0, \"#0d0887\"], [0.1111111111111111, \"#46039f\"], [0.2222222222222222, \"#7201a8\"], [0.3333333333333333, \"#9c179e\"], [0.4444444444444444, \"#bd3786\"], [0.5555555555555556, \"#d8576b\"], [0.6666666666666666, \"#ed7953\"], [0.7777777777777778, \"#fb9f3a\"], [0.8888888888888888, \"#fdca26\"], [1.0, \"#f0f921\"]]}, \"colorway\": [\"#636efa\", \"#EF553B\", \"#00cc96\", \"#ab63fa\", \"#FFA15A\", \"#19d3f3\", \"#FF6692\", \"#B6E880\", \"#FF97FF\", \"#FECB52\"], \"font\": {\"color\": \"#f2f5fa\"}, \"geo\": {\"bgcolor\": \"rgb(17,17,17)\", \"lakecolor\": \"rgb(17,17,17)\", \"landcolor\": \"rgb(17,17,17)\", \"showlakes\": true, \"showland\": true, \"subunitcolor\": \"#506784\"}, \"hoverlabel\": {\"align\": \"left\"}, \"hovermode\": \"closest\", \"mapbox\": {\"style\": \"dark\"}, \"paper_bgcolor\": \"rgb(17,17,17)\", \"plot_bgcolor\": \"rgb(17,17,17)\", \"polar\": {\"angularaxis\": {\"gridcolor\": \"#506784\", \"linecolor\": \"#506784\", \"ticks\": \"\"}, \"bgcolor\": \"rgb(17,17,17)\", \"radialaxis\": {\"gridcolor\": \"#506784\", \"linecolor\": \"#506784\", \"ticks\": \"\"}}, \"scene\": {\"xaxis\": {\"backgroundcolor\": \"rgb(17,17,17)\", \"gridcolor\": \"#506784\", \"gridwidth\": 2, \"linecolor\": \"#506784\", \"showbackground\": true, \"ticks\": \"\", \"zerolinecolor\": \"#C8D4E3\"}, \"yaxis\": {\"backgroundcolor\": \"rgb(17,17,17)\", \"gridcolor\": \"#506784\", \"gridwidth\": 2, \"linecolor\": \"#506784\", \"showbackground\": true, \"ticks\": \"\", \"zerolinecolor\": \"#C8D4E3\"}, \"zaxis\": {\"backgroundcolor\": \"rgb(17,17,17)\", \"gridcolor\": \"#506784\", \"gridwidth\": 2, \"linecolor\": \"#506784\", \"showbackground\": true, \"ticks\": \"\", \"zerolinecolor\": \"#C8D4E3\"}}, \"shapedefaults\": {\"line\": {\"color\": \"#f2f5fa\"}}, \"sliderdefaults\": {\"bgcolor\": \"#C8D4E3\", \"bordercolor\": \"rgb(17,17,17)\", \"borderwidth\": 1, \"tickwidth\": 0}, \"ternary\": {\"aaxis\": {\"gridcolor\": \"#506784\", \"linecolor\": \"#506784\", \"ticks\": \"\"}, \"baxis\": {\"gridcolor\": \"#506784\", \"linecolor\": \"#506784\", \"ticks\": \"\"}, \"bgcolor\": \"rgb(17,17,17)\", \"caxis\": {\"gridcolor\": \"#506784\", \"linecolor\": \"#506784\", \"ticks\": \"\"}}, \"title\": {\"x\": 0.05}, \"updatemenudefaults\": {\"bgcolor\": \"#506784\", \"borderwidth\": 0}, \"xaxis\": {\"automargin\": true, \"gridcolor\": \"#283442\", \"linecolor\": \"#506784\", \"ticks\": \"\", \"title\": {\"standoff\": 15}, \"zerolinecolor\": \"#283442\", \"zerolinewidth\": 2}, \"yaxis\": {\"automargin\": true, \"gridcolor\": \"#283442\", \"linecolor\": \"#506784\", \"ticks\": \"\", \"title\": {\"standoff\": 15}, \"zerolinecolor\": \"#283442\", \"zerolinewidth\": 2}}}, \"title\": {\"text\": \"Count by day\"}, \"width\": 950, \"xaxis\": {\"anchor\": \"y\", \"domain\": [0.0, 1.0], \"matches\": \"x2\", \"showticklabels\": false}, \"xaxis2\": {\"anchor\": \"y2\", \"domain\": [0.0, 1.0]}, \"yaxis\": {\"anchor\": \"x\", \"domain\": [0.51, 1.0]}, \"yaxis2\": {\"anchor\": \"x2\", \"domain\": [0.0, 0.49]}},\n",
              "                        {\"responsive\": true}\n",
              "                    ).then(function(){\n",
              "                            \n",
              "var gd = document.getElementById('d3b62949-1b86-4127-b958-93e6e47239c7');\n",
              "var x = new MutationObserver(function (mutations, observer) {{\n",
              "        var display = window.getComputedStyle(gd).display;\n",
              "        if (!display || display === 'none') {{\n",
              "            console.log([gd, 'removed!']);\n",
              "            Plotly.purge(gd);\n",
              "            observer.disconnect();\n",
              "        }}\n",
              "}});\n",
              "\n",
              "// Listen for the removal of the full notebook cells\n",
              "var notebookContainer = gd.closest('#notebook-container');\n",
              "if (notebookContainer) {{\n",
              "    x.observe(notebookContainer, {childList: true});\n",
              "}}\n",
              "\n",
              "// Listen for the clearing of the current output cell\n",
              "var outputEl = gd.closest('.output');\n",
              "if (outputEl) {{\n",
              "    x.observe(outputEl, {childList: true});\n",
              "}}\n",
              "\n",
              "                        })\n",
              "                };\n",
              "                \n",
              "            </script>\n",
              "        </div>\n",
              "</body>\n",
              "</html>"
            ]
          },
          "metadata": {
            "tags": []
          }
        }
      ]
    },
    {
      "cell_type": "code",
      "metadata": {
        "id": "EdJDhoffTqa9",
        "colab_type": "code",
        "colab": {
          "base_uri": "https://localhost:8080/",
          "height": 202
        },
        "outputId": "0e6c6a18-b6fa-4584-de48-651be37e3fee"
      },
      "source": [
        "data_uk.head()"
      ],
      "execution_count": 16,
      "outputs": [
        {
          "output_type": "execute_result",
          "data": {
            "text/html": [
              "<div>\n",
              "<style scoped>\n",
              "    .dataframe tbody tr th:only-of-type {\n",
              "        vertical-align: middle;\n",
              "    }\n",
              "\n",
              "    .dataframe tbody tr th {\n",
              "        vertical-align: top;\n",
              "    }\n",
              "\n",
              "    .dataframe thead th {\n",
              "        text-align: right;\n",
              "    }\n",
              "</style>\n",
              "<table border=\"1\" class=\"dataframe\">\n",
              "  <thead>\n",
              "    <tr style=\"text-align: right;\">\n",
              "      <th></th>\n",
              "      <th>InvoiceNo</th>\n",
              "      <th>StockCode</th>\n",
              "      <th>Description</th>\n",
              "      <th>Quantity</th>\n",
              "      <th>InvoiceDate</th>\n",
              "      <th>UnitPrice</th>\n",
              "      <th>CustomerID</th>\n",
              "      <th>Country</th>\n",
              "    </tr>\n",
              "  </thead>\n",
              "  <tbody>\n",
              "    <tr>\n",
              "      <th>0</th>\n",
              "      <td>536365</td>\n",
              "      <td>85123A</td>\n",
              "      <td>WHITE HANGING HEART T-LIGHT HOLDER</td>\n",
              "      <td>6</td>\n",
              "      <td>2010-12-01 08:26:00</td>\n",
              "      <td>2.55</td>\n",
              "      <td>17850</td>\n",
              "      <td>United Kingdom</td>\n",
              "    </tr>\n",
              "    <tr>\n",
              "      <th>1</th>\n",
              "      <td>536365</td>\n",
              "      <td>71053</td>\n",
              "      <td>WHITE METAL LANTERN</td>\n",
              "      <td>6</td>\n",
              "      <td>2010-12-01 08:26:00</td>\n",
              "      <td>3.39</td>\n",
              "      <td>17850</td>\n",
              "      <td>United Kingdom</td>\n",
              "    </tr>\n",
              "    <tr>\n",
              "      <th>2</th>\n",
              "      <td>536365</td>\n",
              "      <td>84406B</td>\n",
              "      <td>CREAM CUPID HEARTS COAT HANGER</td>\n",
              "      <td>8</td>\n",
              "      <td>2010-12-01 08:26:00</td>\n",
              "      <td>2.75</td>\n",
              "      <td>17850</td>\n",
              "      <td>United Kingdom</td>\n",
              "    </tr>\n",
              "    <tr>\n",
              "      <th>3</th>\n",
              "      <td>536365</td>\n",
              "      <td>84029G</td>\n",
              "      <td>KNITTED UNION FLAG HOT WATER BOTTLE</td>\n",
              "      <td>6</td>\n",
              "      <td>2010-12-01 08:26:00</td>\n",
              "      <td>3.39</td>\n",
              "      <td>17850</td>\n",
              "      <td>United Kingdom</td>\n",
              "    </tr>\n",
              "    <tr>\n",
              "      <th>4</th>\n",
              "      <td>536365</td>\n",
              "      <td>84029E</td>\n",
              "      <td>RED WOOLLY HOTTIE WHITE HEART.</td>\n",
              "      <td>6</td>\n",
              "      <td>2010-12-01 08:26:00</td>\n",
              "      <td>3.39</td>\n",
              "      <td>17850</td>\n",
              "      <td>United Kingdom</td>\n",
              "    </tr>\n",
              "  </tbody>\n",
              "</table>\n",
              "</div>"
            ],
            "text/plain": [
              "  InvoiceNo StockCode  ... CustomerID         Country\n",
              "0    536365    85123A  ...      17850  United Kingdom\n",
              "1    536365     71053  ...      17850  United Kingdom\n",
              "2    536365    84406B  ...      17850  United Kingdom\n",
              "3    536365    84029G  ...      17850  United Kingdom\n",
              "4    536365    84029E  ...      17850  United Kingdom\n",
              "\n",
              "[5 rows x 8 columns]"
            ]
          },
          "metadata": {
            "tags": []
          },
          "execution_count": 16
        }
      ]
    },
    {
      "cell_type": "code",
      "metadata": {
        "id": "_qhvZRx7Ts6l",
        "colab_type": "code",
        "colab": {
          "base_uri": "https://localhost:8080/",
          "height": 202
        },
        "outputId": "4353fb8f-25e7-4f1e-b25e-b0b33ca85da9"
      },
      "source": [
        "data_uk['Sales'] = data_uk['Quantity'] * data_uk['UnitPrice']\n",
        "data_uk.head()"
      ],
      "execution_count": 17,
      "outputs": [
        {
          "output_type": "execute_result",
          "data": {
            "text/html": [
              "<div>\n",
              "<style scoped>\n",
              "    .dataframe tbody tr th:only-of-type {\n",
              "        vertical-align: middle;\n",
              "    }\n",
              "\n",
              "    .dataframe tbody tr th {\n",
              "        vertical-align: top;\n",
              "    }\n",
              "\n",
              "    .dataframe thead th {\n",
              "        text-align: right;\n",
              "    }\n",
              "</style>\n",
              "<table border=\"1\" class=\"dataframe\">\n",
              "  <thead>\n",
              "    <tr style=\"text-align: right;\">\n",
              "      <th></th>\n",
              "      <th>InvoiceNo</th>\n",
              "      <th>StockCode</th>\n",
              "      <th>Description</th>\n",
              "      <th>Quantity</th>\n",
              "      <th>InvoiceDate</th>\n",
              "      <th>UnitPrice</th>\n",
              "      <th>CustomerID</th>\n",
              "      <th>Country</th>\n",
              "      <th>Sales</th>\n",
              "    </tr>\n",
              "  </thead>\n",
              "  <tbody>\n",
              "    <tr>\n",
              "      <th>0</th>\n",
              "      <td>536365</td>\n",
              "      <td>85123A</td>\n",
              "      <td>WHITE HANGING HEART T-LIGHT HOLDER</td>\n",
              "      <td>6</td>\n",
              "      <td>2010-12-01 08:26:00</td>\n",
              "      <td>2.55</td>\n",
              "      <td>17850</td>\n",
              "      <td>United Kingdom</td>\n",
              "      <td>15.30</td>\n",
              "    </tr>\n",
              "    <tr>\n",
              "      <th>1</th>\n",
              "      <td>536365</td>\n",
              "      <td>71053</td>\n",
              "      <td>WHITE METAL LANTERN</td>\n",
              "      <td>6</td>\n",
              "      <td>2010-12-01 08:26:00</td>\n",
              "      <td>3.39</td>\n",
              "      <td>17850</td>\n",
              "      <td>United Kingdom</td>\n",
              "      <td>20.34</td>\n",
              "    </tr>\n",
              "    <tr>\n",
              "      <th>2</th>\n",
              "      <td>536365</td>\n",
              "      <td>84406B</td>\n",
              "      <td>CREAM CUPID HEARTS COAT HANGER</td>\n",
              "      <td>8</td>\n",
              "      <td>2010-12-01 08:26:00</td>\n",
              "      <td>2.75</td>\n",
              "      <td>17850</td>\n",
              "      <td>United Kingdom</td>\n",
              "      <td>22.00</td>\n",
              "    </tr>\n",
              "    <tr>\n",
              "      <th>3</th>\n",
              "      <td>536365</td>\n",
              "      <td>84029G</td>\n",
              "      <td>KNITTED UNION FLAG HOT WATER BOTTLE</td>\n",
              "      <td>6</td>\n",
              "      <td>2010-12-01 08:26:00</td>\n",
              "      <td>3.39</td>\n",
              "      <td>17850</td>\n",
              "      <td>United Kingdom</td>\n",
              "      <td>20.34</td>\n",
              "    </tr>\n",
              "    <tr>\n",
              "      <th>4</th>\n",
              "      <td>536365</td>\n",
              "      <td>84029E</td>\n",
              "      <td>RED WOOLLY HOTTIE WHITE HEART.</td>\n",
              "      <td>6</td>\n",
              "      <td>2010-12-01 08:26:00</td>\n",
              "      <td>3.39</td>\n",
              "      <td>17850</td>\n",
              "      <td>United Kingdom</td>\n",
              "      <td>20.34</td>\n",
              "    </tr>\n",
              "  </tbody>\n",
              "</table>\n",
              "</div>"
            ],
            "text/plain": [
              "  InvoiceNo StockCode  ...         Country  Sales\n",
              "0    536365    85123A  ...  United Kingdom  15.30\n",
              "1    536365     71053  ...  United Kingdom  20.34\n",
              "2    536365    84406B  ...  United Kingdom  22.00\n",
              "3    536365    84029G  ...  United Kingdom  20.34\n",
              "4    536365    84029E  ...  United Kingdom  20.34\n",
              "\n",
              "[5 rows x 9 columns]"
            ]
          },
          "metadata": {
            "tags": []
          },
          "execution_count": 17
        }
      ]
    },
    {
      "cell_type": "code",
      "metadata": {
        "id": "lL0mL0edTlyX",
        "colab_type": "code",
        "colab": {
          "base_uri": "https://localhost:8080/",
          "height": 202
        },
        "outputId": "b95e2621-be95-42ab-a348-b6163384c91e"
      },
      "source": [
        "tmp = data_uk.groupby(data_uk['InvoiceDate'].dt.date)['Sales'].sum().reset_index()\n",
        "tmp.columns = ['InvoiceDate', 'Sales']\n",
        "tmp.head()"
      ],
      "execution_count": 18,
      "outputs": [
        {
          "output_type": "execute_result",
          "data": {
            "text/html": [
              "<div>\n",
              "<style scoped>\n",
              "    .dataframe tbody tr th:only-of-type {\n",
              "        vertical-align: middle;\n",
              "    }\n",
              "\n",
              "    .dataframe tbody tr th {\n",
              "        vertical-align: top;\n",
              "    }\n",
              "\n",
              "    .dataframe thead th {\n",
              "        text-align: right;\n",
              "    }\n",
              "</style>\n",
              "<table border=\"1\" class=\"dataframe\">\n",
              "  <thead>\n",
              "    <tr style=\"text-align: right;\">\n",
              "      <th></th>\n",
              "      <th>InvoiceDate</th>\n",
              "      <th>Sales</th>\n",
              "    </tr>\n",
              "  </thead>\n",
              "  <tbody>\n",
              "    <tr>\n",
              "      <th>0</th>\n",
              "      <td>2010-12-01</td>\n",
              "      <td>42030.85</td>\n",
              "    </tr>\n",
              "    <tr>\n",
              "      <th>1</th>\n",
              "      <td>2010-12-02</td>\n",
              "      <td>45622.08</td>\n",
              "    </tr>\n",
              "    <tr>\n",
              "      <th>2</th>\n",
              "      <td>2010-12-03</td>\n",
              "      <td>17512.44</td>\n",
              "    </tr>\n",
              "    <tr>\n",
              "      <th>3</th>\n",
              "      <td>2010-12-05</td>\n",
              "      <td>25458.85</td>\n",
              "    </tr>\n",
              "    <tr>\n",
              "      <th>4</th>\n",
              "      <td>2010-12-06</td>\n",
              "      <td>29007.74</td>\n",
              "    </tr>\n",
              "  </tbody>\n",
              "</table>\n",
              "</div>"
            ],
            "text/plain": [
              "  InvoiceDate     Sales\n",
              "0  2010-12-01  42030.85\n",
              "1  2010-12-02  45622.08\n",
              "2  2010-12-03  17512.44\n",
              "3  2010-12-05  25458.85\n",
              "4  2010-12-06  29007.74"
            ]
          },
          "metadata": {
            "tags": []
          },
          "execution_count": 18
        }
      ]
    },
    {
      "cell_type": "code",
      "metadata": {
        "id": "yQBo1oOpUs1Z",
        "colab_type": "code",
        "colab": {
          "base_uri": "https://localhost:8080/",
          "height": 542
        },
        "outputId": "9808b9d2-657e-43fb-9e57-f49a3b38a7cc"
      },
      "source": [
        "fig = make_subplots(rows=2, cols=1, shared_xaxes=True, vertical_spacing=0.02)\n",
        "\n",
        "trace1 = px.line(tmp, x='InvoiceDate', y='Sales', template='plotly_dark', color_discrete_sequence=['#03fcb5'])['data'][0]\n",
        "trace2 = px.scatter(tmp, x='InvoiceDate', y='Sales', template='plotly_dark', color_discrete_sequence=['#03fcb5'])['data'][0]\n",
        "\n",
        "fig.add_trace(trace1, row=1, col=1)\n",
        "fig.add_trace(trace2, row=2, col=1)\n",
        "fig.update_layout(template='plotly_dark', title='Sales by day', width=950)\n",
        "fig.show()"
      ],
      "execution_count": 19,
      "outputs": [
        {
          "output_type": "display_data",
          "data": {
            "text/html": [
              "<html>\n",
              "<head><meta charset=\"utf-8\" /></head>\n",
              "<body>\n",
              "    <div>\n",
              "            <script src=\"https://cdnjs.cloudflare.com/ajax/libs/mathjax/2.7.5/MathJax.js?config=TeX-AMS-MML_SVG\"></script><script type=\"text/javascript\">if (window.MathJax) {MathJax.Hub.Config({SVG: {font: \"STIX-Web\"}});}</script>\n",
              "                <script type=\"text/javascript\">window.PlotlyConfig = {MathJaxConfig: 'local'};</script>\n",
              "        <script src=\"https://cdn.plot.ly/plotly-latest.min.js\"></script>    \n",
              "            <div id=\"2e925c73-c261-4b5d-9a36-c22c11ac5ce1\" class=\"plotly-graph-div\" style=\"height:525px; width:950px;\"></div>\n",
              "            <script type=\"text/javascript\">\n",
              "                \n",
              "                    window.PLOTLYENV=window.PLOTLYENV || {};\n",
              "                    \n",
              "                if (document.getElementById(\"2e925c73-c261-4b5d-9a36-c22c11ac5ce1\")) {\n",
              "                    Plotly.newPlot(\n",
              "                        '2e925c73-c261-4b5d-9a36-c22c11ac5ce1',\n",
              "                        [{\"hoverlabel\": {\"namelength\": 0}, \"hovertemplate\": \"InvoiceDate=%{x}<br>Sales=%{y}\", \"legendgroup\": \"\", \"line\": {\"color\": \"#03fcb5\", \"dash\": \"solid\"}, \"mode\": \"lines\", \"name\": \"\", \"showlegend\": false, \"type\": \"scatter\", \"x\": [\"2010-12-01\", \"2010-12-02\", \"2010-12-03\", \"2010-12-05\", \"2010-12-06\", \"2010-12-07\", \"2010-12-08\", \"2010-12-09\", \"2010-12-10\", \"2010-12-12\", \"2010-12-13\", \"2010-12-14\", \"2010-12-15\", \"2010-12-16\", \"2010-12-17\", \"2010-12-19\", \"2010-12-20\", \"2010-12-21\", \"2010-12-22\", \"2010-12-23\", \"2011-01-04\", \"2011-01-05\", \"2011-01-06\", \"2011-01-07\", \"2011-01-09\", \"2011-01-10\", \"2011-01-11\", \"2011-01-12\", \"2011-01-13\", \"2011-01-14\", \"2011-01-16\", \"2011-01-17\", \"2011-01-18\", \"2011-01-19\", \"2011-01-20\", \"2011-01-21\", \"2011-01-23\", \"2011-01-24\", \"2011-01-25\", \"2011-01-26\", \"2011-01-27\", \"2011-01-28\", \"2011-01-30\", \"2011-01-31\", \"2011-02-01\", \"2011-02-02\", \"2011-02-03\", \"2011-02-04\", \"2011-02-06\", \"2011-02-07\", \"2011-02-08\", \"2011-02-09\", \"2011-02-10\", \"2011-02-11\", \"2011-02-13\", \"2011-02-14\", \"2011-02-15\", \"2011-02-16\", \"2011-02-17\", \"2011-02-18\", \"2011-02-20\", \"2011-02-21\", \"2011-02-22\", \"2011-02-23\", \"2011-02-24\", \"2011-02-25\", \"2011-02-27\", \"2011-02-28\", \"2011-03-01\", \"2011-03-02\", \"2011-03-03\", \"2011-03-04\", \"2011-03-06\", \"2011-03-07\", \"2011-03-08\", \"2011-03-09\", \"2011-03-10\", \"2011-03-11\", \"2011-03-13\", \"2011-03-14\", \"2011-03-15\", \"2011-03-16\", \"2011-03-17\", \"2011-03-18\", \"2011-03-20\", \"2011-03-21\", \"2011-03-22\", \"2011-03-23\", \"2011-03-24\", \"2011-03-25\", \"2011-03-27\", \"2011-03-28\", \"2011-03-29\", \"2011-03-30\", \"2011-03-31\", \"2011-04-01\", \"2011-04-03\", \"2011-04-04\", \"2011-04-05\", \"2011-04-06\", \"2011-04-07\", \"2011-04-08\", \"2011-04-10\", \"2011-04-11\", \"2011-04-12\", \"2011-04-13\", \"2011-04-14\", \"2011-04-15\", \"2011-04-17\", \"2011-04-18\", \"2011-04-19\", \"2011-04-20\", \"2011-04-21\", \"2011-04-26\", \"2011-04-27\", \"2011-04-28\", \"2011-05-01\", \"2011-05-03\", \"2011-05-04\", \"2011-05-05\", \"2011-05-06\", \"2011-05-08\", \"2011-05-09\", \"2011-05-10\", \"2011-05-11\", \"2011-05-12\", \"2011-05-13\", \"2011-05-15\", \"2011-05-16\", \"2011-05-17\", \"2011-05-18\", \"2011-05-19\", \"2011-05-20\", \"2011-05-22\", \"2011-05-23\", \"2011-05-24\", \"2011-05-25\", \"2011-05-26\", \"2011-05-27\", \"2011-05-29\", \"2011-05-31\", \"2011-06-01\", \"2011-06-02\", \"2011-06-03\", \"2011-06-05\", \"2011-06-06\", \"2011-06-07\", \"2011-06-08\", \"2011-06-09\", \"2011-06-10\", \"2011-06-12\", \"2011-06-13\", \"2011-06-14\", \"2011-06-15\", \"2011-06-16\", \"2011-06-17\", \"2011-06-19\", \"2011-06-20\", \"2011-06-21\", \"2011-06-22\", \"2011-06-23\", \"2011-06-24\", \"2011-06-26\", \"2011-06-27\", \"2011-06-28\", \"2011-06-29\", \"2011-06-30\", \"2011-07-01\", \"2011-07-03\", \"2011-07-04\", \"2011-07-05\", \"2011-07-06\", \"2011-07-07\", \"2011-07-08\", \"2011-07-10\", \"2011-07-11\", \"2011-07-12\", \"2011-07-13\", \"2011-07-14\", \"2011-07-15\", \"2011-07-17\", \"2011-07-18\", \"2011-07-19\", \"2011-07-20\", \"2011-07-21\", \"2011-07-22\", \"2011-07-24\", \"2011-07-25\", \"2011-07-26\", \"2011-07-27\", \"2011-07-28\", \"2011-07-29\", \"2011-07-31\", \"2011-08-01\", \"2011-08-02\", \"2011-08-03\", \"2011-08-04\", \"2011-08-05\", \"2011-08-07\", \"2011-08-08\", \"2011-08-09\", \"2011-08-10\", \"2011-08-11\", \"2011-08-12\", \"2011-08-14\", \"2011-08-15\", \"2011-08-16\", \"2011-08-17\", \"2011-08-18\", \"2011-08-19\", \"2011-08-21\", \"2011-08-22\", \"2011-08-23\", \"2011-08-24\", \"2011-08-25\", \"2011-08-26\", \"2011-08-28\", \"2011-08-30\", \"2011-08-31\", \"2011-09-01\", \"2011-09-02\", \"2011-09-04\", \"2011-09-05\", \"2011-09-06\", \"2011-09-07\", \"2011-09-08\", \"2011-09-09\", \"2011-09-11\", \"2011-09-12\", \"2011-09-13\", \"2011-09-14\", \"2011-09-15\", \"2011-09-16\", \"2011-09-18\", \"2011-09-19\", \"2011-09-20\", \"2011-09-21\", \"2011-09-22\", \"2011-09-23\", \"2011-09-25\", \"2011-09-26\", \"2011-09-27\", \"2011-09-28\", \"2011-09-29\", \"2011-09-30\", \"2011-10-02\", \"2011-10-03\", \"2011-10-04\", \"2011-10-05\", \"2011-10-06\", \"2011-10-07\", \"2011-10-09\", \"2011-10-10\", \"2011-10-11\", \"2011-10-12\", \"2011-10-13\", \"2011-10-14\", \"2011-10-16\", \"2011-10-17\", \"2011-10-18\", \"2011-10-19\", \"2011-10-20\", \"2011-10-21\", \"2011-10-23\", \"2011-10-24\", \"2011-10-25\", \"2011-10-26\", \"2011-10-27\", \"2011-10-28\", \"2011-10-30\", \"2011-10-31\", \"2011-11-01\", \"2011-11-02\", \"2011-11-03\", \"2011-11-04\", \"2011-11-06\", \"2011-11-07\", \"2011-11-08\", \"2011-11-09\", \"2011-11-10\", \"2011-11-11\", \"2011-11-13\", \"2011-11-14\", \"2011-11-15\", \"2011-11-16\", \"2011-11-17\", \"2011-11-18\", \"2011-11-20\", \"2011-11-21\", \"2011-11-22\", \"2011-11-23\", \"2011-11-24\", \"2011-11-25\", \"2011-11-27\", \"2011-11-28\", \"2011-11-29\", \"2011-11-30\", \"2011-12-01\", \"2011-12-02\", \"2011-12-04\", \"2011-12-05\", \"2011-12-06\", \"2011-12-07\", \"2011-12-08\", \"2011-12-09\"], \"xaxis\": \"x\", \"y\": [42030.8500000002, 45622.079999999914, 17512.440000000053, 25458.850000000166, 29007.740000000176, 50368.42000000011, 34026.01000000017, 27639.750000000153, 27105.04000000011, 13627.030000000028, 26560.870000000046, 25410.19000000013, 29415.400000000107, 46652.569999999956, 7789.719999999994, 6518.819999999993, 15559.91000000004, 5624.330000000001, 4110.0, 3759.719999999997, 10542.299999999988, 27230.53000000011, 25238.41000000011, 16014.450000000015, 14238.640000000012, 11288.459999999994, 52746.62000000004, 13577.950000000004, 12718.100000000019, 9667.149999999998, 7116.609999999981, 13426.770000000028, 6771.790000000012, 8815.429999999995, 10089.349999999995, 14622.720000000001, 9771.44999999997, 11798.089999999997, 18033.810000000027, 13471.360000000015, 15959.440000000031, 10816.449999999993, 6456.439999999991, 11568.960000000017, 22829.88000000001, 15797.830000000044, 18821.800000000065, 15521.960000000017, 3457.1099999999965, 20902.910000000007, 12367.990000000014, 4715.209999999993, 12056.080000000007, 13667.730000000005, 5535.399999999994, 18399.100000000046, 17215.470000000045, 19220.55000000003, 15458.09, 12682.860000000015, 9578.890000000032, 10330.899999999992, 25789.500000000047, 16940.97000000003, 19632.380000000045, 16690.94000000002, 8967.899999999972, 12272.180000000031, 12626.020000000006, 17491.899999999998, 13886.000000000007, 14447.510000000015, 9588.279999999986, 18844.270000000048, 19748.89000000005, 17542.810000000016, 15780.850000000015, 15730.080000000002, 3794.329999999997, 18588.570000000043, 10428.809999999996, 19274.590000000033, 24122.970000000063, 19974.919999999987, 18452.050000000065, 15179.170000000024, 15655.400000000007, 17220.690000000013, 33702.300000000076, 20700.709999999985, 8827.519999999991, 15162.629999999994, 18762.570000000032, 25521.73000000005, 15862.299999999988, 20882.880000000023, 6853.449999999998, 18598.990000000023, 17949.620000000014, 11688.780000000019, 13880.760000000028, 17559.660000000007, 8887.389999999968, 17437.66000000004, 23233.340000000106, 22532.060000000027, 30170.700000000103, 15717.431000000017, 11627.34, 16740.209999999995, 14754.480000000021, 24374.97, 23915.89, 20212.520000000026, 21357.51999999999, 18368.760000000028, 5870.3299999999945, 10375.710000000015, 24721.560000000096, 21082.660000000058, 25384.680000000048, 16889.96000000002, 19474.010000000017, 24995.11000000008, 26704.43000000011, 25152.510000000013, 22646.79, 8924.869999999999, 30295.039999999997, 31723.89000000002, 29604.83000000006, 25155.31999999998, 22515.960000000046, 21590.850000000046, 22890.35999999998, 31170.460000000083, 17701.790000000005, 21303.689999999995, 19107.230000000032, 6625.569999999985, 13665.74000000001, 8926.29999999999, 25711.00000000006, 13018.390000000012, 19392.040000000026, 12643.71000000003, 32371.13000000009, 23508.410000000065, 36068.61000000001, 11245.359999999977, 11495.629999999981, 11878.200000000006, 33203.12000000013, 13605.859999999986, 28208.65000000002, 13786.220000000003, 15683.989999999996, 16639.34000000003, 15570.759999999997, 16470.850000000002, 19268.27000000002, 13754.149999999998, 5368.689999999985, 12202.740000000014, 16187.589999999993, 9370.300000000003, 36929.94000000007, 9041.939999999984, 5977.139999999991, 24837.970000000056, 24086.310000000016, 18021.240000000016, 24903.949999999993, 14507.21000000001, 5692.069999999985, 17391.680000000026, 15310.010000000011, 13553.51999999999, 23352.460000000036, 9265.64999999999, 16443.370000000054, 5023.879999999993, 28491.620000000035, 18962.980000000003, 25818.70999999996, 12866.049999999983, 24469.170000000024, 15894.850000000004, 15861.990999999978, 16515.670000000024, 46069.94000000007, 15221.769999999975, 13566.450000000004, 17941.00000000002, 13387.179999999988, 23912.110000000095, 53681.140000000094, 15169.240000000016, 7354.769999999993, 13900.929999999986, 12433.739999999969, 16178.359999999997, 32209.220000000027, 12478.939999999984, 5542.989999999998, 13072.029999999993, 15504.390000000016, 43352.67000000006, 25843.230000000072, 12783.879999999996, 11797.940000000017, 24936.230000000043, 17753.809999999987, 35217.030000000115, 17830.300000000036, 13208.599999999988, 9538.289999999979, 8226.53, 3753.8599999999974, 29027.47, 26160.520000000106, 12992.359999999977, 24411.939999999984, 19761.900000000027, 15374.490000000002, 17596.959999999985, 18782.420000000002, 33699.20000000018, 27290.380000000056, 34964.25, 19486.39000000007, 65610.96000000002, 21062.46, 15692.330000000029, 18745.719999999983, 100460.37999999989, 25031.81000000008, 44438.73000000005, 22709.36000000003, 28587.751000000084, 26194.171000000115, 27073.619999999995, 31851.56000000012, 38400.84000000018, 31121.8700000001, 11572.000000000013, 59782.21000000004, 37006.380000000114, 46656.92999999996, 45117.879999999896, 42067.20999999988, 11864.649999999994, 35085.14000000011, 22469.290000000008, 19957.580000000027, 22632.990000000078, 22033.769999999997, 21605.440000000053, 30565.130000000154, 30077.27000000014, 22555.67000000005, 28868.530000000126, 52357.030000000035, 12318.110000000013, 30499.80000000008, 32560.890000000054, 29668.700000000114, 32098.400000000067, 24675.880000000085, 30556.170000000096, 28124.83000000004, 24722.350000000133, 31343.480000000036, 56294.59999999996, 48555.26999999994, 33121.79000000022, 24382.060000000056, 35110.37999999995, 55634.32999999991, 54440.31000000021, 28114.550000000017, 23994.220000000092, 51462.64999999995, 38029.94000000013, 36746.610000000175, 35965.60000000015, 28127.450000000077, 26558.81000000006, 39837.63000000011, 43046.950000000004, 55013.450000000084, 27925.08000000012, 22652.550000000083, 16431.470000000045, 46195.85000000008, 41183.029999999955, 31219.250000000062, 40602.13999999987, 40467.06999999999, 17335.01000000006, 53598.45999999997, 39738.14000000016, 48943.63000000001, 46462.30999999999, 10773.709999999992], \"yaxis\": \"y\"}, {\"hoverlabel\": {\"namelength\": 0}, \"hovertemplate\": \"InvoiceDate=%{x}<br>Sales=%{y}\", \"legendgroup\": \"\", \"marker\": {\"color\": \"#03fcb5\", \"symbol\": \"circle\"}, \"mode\": \"markers\", \"name\": \"\", \"showlegend\": false, \"type\": \"scatter\", \"x\": [\"2010-12-01\", \"2010-12-02\", \"2010-12-03\", \"2010-12-05\", \"2010-12-06\", \"2010-12-07\", \"2010-12-08\", \"2010-12-09\", \"2010-12-10\", \"2010-12-12\", \"2010-12-13\", \"2010-12-14\", \"2010-12-15\", \"2010-12-16\", \"2010-12-17\", \"2010-12-19\", \"2010-12-20\", \"2010-12-21\", \"2010-12-22\", \"2010-12-23\", \"2011-01-04\", \"2011-01-05\", \"2011-01-06\", \"2011-01-07\", \"2011-01-09\", \"2011-01-10\", \"2011-01-11\", \"2011-01-12\", \"2011-01-13\", \"2011-01-14\", \"2011-01-16\", \"2011-01-17\", \"2011-01-18\", \"2011-01-19\", \"2011-01-20\", \"2011-01-21\", \"2011-01-23\", \"2011-01-24\", \"2011-01-25\", \"2011-01-26\", \"2011-01-27\", \"2011-01-28\", \"2011-01-30\", \"2011-01-31\", \"2011-02-01\", \"2011-02-02\", \"2011-02-03\", \"2011-02-04\", \"2011-02-06\", \"2011-02-07\", \"2011-02-08\", \"2011-02-09\", \"2011-02-10\", \"2011-02-11\", \"2011-02-13\", \"2011-02-14\", \"2011-02-15\", \"2011-02-16\", \"2011-02-17\", \"2011-02-18\", \"2011-02-20\", \"2011-02-21\", \"2011-02-22\", \"2011-02-23\", \"2011-02-24\", \"2011-02-25\", \"2011-02-27\", \"2011-02-28\", \"2011-03-01\", \"2011-03-02\", \"2011-03-03\", \"2011-03-04\", \"2011-03-06\", \"2011-03-07\", \"2011-03-08\", \"2011-03-09\", \"2011-03-10\", \"2011-03-11\", \"2011-03-13\", \"2011-03-14\", \"2011-03-15\", \"2011-03-16\", \"2011-03-17\", \"2011-03-18\", \"2011-03-20\", \"2011-03-21\", \"2011-03-22\", \"2011-03-23\", \"2011-03-24\", \"2011-03-25\", \"2011-03-27\", \"2011-03-28\", \"2011-03-29\", \"2011-03-30\", \"2011-03-31\", \"2011-04-01\", \"2011-04-03\", \"2011-04-04\", \"2011-04-05\", \"2011-04-06\", \"2011-04-07\", \"2011-04-08\", \"2011-04-10\", \"2011-04-11\", \"2011-04-12\", \"2011-04-13\", \"2011-04-14\", \"2011-04-15\", \"2011-04-17\", \"2011-04-18\", \"2011-04-19\", \"2011-04-20\", \"2011-04-21\", \"2011-04-26\", \"2011-04-27\", \"2011-04-28\", \"2011-05-01\", \"2011-05-03\", \"2011-05-04\", \"2011-05-05\", \"2011-05-06\", \"2011-05-08\", \"2011-05-09\", \"2011-05-10\", \"2011-05-11\", \"2011-05-12\", \"2011-05-13\", \"2011-05-15\", \"2011-05-16\", \"2011-05-17\", \"2011-05-18\", \"2011-05-19\", \"2011-05-20\", \"2011-05-22\", \"2011-05-23\", \"2011-05-24\", \"2011-05-25\", \"2011-05-26\", \"2011-05-27\", \"2011-05-29\", \"2011-05-31\", \"2011-06-01\", \"2011-06-02\", \"2011-06-03\", \"2011-06-05\", \"2011-06-06\", \"2011-06-07\", \"2011-06-08\", \"2011-06-09\", \"2011-06-10\", \"2011-06-12\", \"2011-06-13\", \"2011-06-14\", \"2011-06-15\", \"2011-06-16\", \"2011-06-17\", \"2011-06-19\", \"2011-06-20\", \"2011-06-21\", \"2011-06-22\", \"2011-06-23\", \"2011-06-24\", \"2011-06-26\", \"2011-06-27\", \"2011-06-28\", \"2011-06-29\", \"2011-06-30\", \"2011-07-01\", \"2011-07-03\", \"2011-07-04\", \"2011-07-05\", \"2011-07-06\", \"2011-07-07\", \"2011-07-08\", \"2011-07-10\", \"2011-07-11\", \"2011-07-12\", \"2011-07-13\", \"2011-07-14\", \"2011-07-15\", \"2011-07-17\", \"2011-07-18\", \"2011-07-19\", \"2011-07-20\", \"2011-07-21\", \"2011-07-22\", \"2011-07-24\", \"2011-07-25\", \"2011-07-26\", \"2011-07-27\", \"2011-07-28\", \"2011-07-29\", \"2011-07-31\", \"2011-08-01\", \"2011-08-02\", \"2011-08-03\", \"2011-08-04\", \"2011-08-05\", \"2011-08-07\", \"2011-08-08\", \"2011-08-09\", \"2011-08-10\", \"2011-08-11\", \"2011-08-12\", \"2011-08-14\", \"2011-08-15\", \"2011-08-16\", \"2011-08-17\", \"2011-08-18\", \"2011-08-19\", \"2011-08-21\", \"2011-08-22\", \"2011-08-23\", \"2011-08-24\", \"2011-08-25\", \"2011-08-26\", \"2011-08-28\", \"2011-08-30\", \"2011-08-31\", \"2011-09-01\", \"2011-09-02\", \"2011-09-04\", \"2011-09-05\", \"2011-09-06\", \"2011-09-07\", \"2011-09-08\", \"2011-09-09\", \"2011-09-11\", \"2011-09-12\", \"2011-09-13\", \"2011-09-14\", \"2011-09-15\", \"2011-09-16\", \"2011-09-18\", \"2011-09-19\", \"2011-09-20\", \"2011-09-21\", \"2011-09-22\", \"2011-09-23\", \"2011-09-25\", \"2011-09-26\", \"2011-09-27\", \"2011-09-28\", \"2011-09-29\", \"2011-09-30\", \"2011-10-02\", \"2011-10-03\", \"2011-10-04\", \"2011-10-05\", \"2011-10-06\", \"2011-10-07\", \"2011-10-09\", \"2011-10-10\", \"2011-10-11\", \"2011-10-12\", \"2011-10-13\", \"2011-10-14\", \"2011-10-16\", \"2011-10-17\", \"2011-10-18\", \"2011-10-19\", \"2011-10-20\", \"2011-10-21\", \"2011-10-23\", \"2011-10-24\", \"2011-10-25\", \"2011-10-26\", \"2011-10-27\", \"2011-10-28\", \"2011-10-30\", \"2011-10-31\", \"2011-11-01\", \"2011-11-02\", \"2011-11-03\", \"2011-11-04\", \"2011-11-06\", \"2011-11-07\", \"2011-11-08\", \"2011-11-09\", \"2011-11-10\", \"2011-11-11\", \"2011-11-13\", \"2011-11-14\", \"2011-11-15\", \"2011-11-16\", \"2011-11-17\", \"2011-11-18\", \"2011-11-20\", \"2011-11-21\", \"2011-11-22\", \"2011-11-23\", \"2011-11-24\", \"2011-11-25\", \"2011-11-27\", \"2011-11-28\", \"2011-11-29\", \"2011-11-30\", \"2011-12-01\", \"2011-12-02\", \"2011-12-04\", \"2011-12-05\", \"2011-12-06\", \"2011-12-07\", \"2011-12-08\", \"2011-12-09\"], \"xaxis\": \"x2\", \"y\": [42030.8500000002, 45622.079999999914, 17512.440000000053, 25458.850000000166, 29007.740000000176, 50368.42000000011, 34026.01000000017, 27639.750000000153, 27105.04000000011, 13627.030000000028, 26560.870000000046, 25410.19000000013, 29415.400000000107, 46652.569999999956, 7789.719999999994, 6518.819999999993, 15559.91000000004, 5624.330000000001, 4110.0, 3759.719999999997, 10542.299999999988, 27230.53000000011, 25238.41000000011, 16014.450000000015, 14238.640000000012, 11288.459999999994, 52746.62000000004, 13577.950000000004, 12718.100000000019, 9667.149999999998, 7116.609999999981, 13426.770000000028, 6771.790000000012, 8815.429999999995, 10089.349999999995, 14622.720000000001, 9771.44999999997, 11798.089999999997, 18033.810000000027, 13471.360000000015, 15959.440000000031, 10816.449999999993, 6456.439999999991, 11568.960000000017, 22829.88000000001, 15797.830000000044, 18821.800000000065, 15521.960000000017, 3457.1099999999965, 20902.910000000007, 12367.990000000014, 4715.209999999993, 12056.080000000007, 13667.730000000005, 5535.399999999994, 18399.100000000046, 17215.470000000045, 19220.55000000003, 15458.09, 12682.860000000015, 9578.890000000032, 10330.899999999992, 25789.500000000047, 16940.97000000003, 19632.380000000045, 16690.94000000002, 8967.899999999972, 12272.180000000031, 12626.020000000006, 17491.899999999998, 13886.000000000007, 14447.510000000015, 9588.279999999986, 18844.270000000048, 19748.89000000005, 17542.810000000016, 15780.850000000015, 15730.080000000002, 3794.329999999997, 18588.570000000043, 10428.809999999996, 19274.590000000033, 24122.970000000063, 19974.919999999987, 18452.050000000065, 15179.170000000024, 15655.400000000007, 17220.690000000013, 33702.300000000076, 20700.709999999985, 8827.519999999991, 15162.629999999994, 18762.570000000032, 25521.73000000005, 15862.299999999988, 20882.880000000023, 6853.449999999998, 18598.990000000023, 17949.620000000014, 11688.780000000019, 13880.760000000028, 17559.660000000007, 8887.389999999968, 17437.66000000004, 23233.340000000106, 22532.060000000027, 30170.700000000103, 15717.431000000017, 11627.34, 16740.209999999995, 14754.480000000021, 24374.97, 23915.89, 20212.520000000026, 21357.51999999999, 18368.760000000028, 5870.3299999999945, 10375.710000000015, 24721.560000000096, 21082.660000000058, 25384.680000000048, 16889.96000000002, 19474.010000000017, 24995.11000000008, 26704.43000000011, 25152.510000000013, 22646.79, 8924.869999999999, 30295.039999999997, 31723.89000000002, 29604.83000000006, 25155.31999999998, 22515.960000000046, 21590.850000000046, 22890.35999999998, 31170.460000000083, 17701.790000000005, 21303.689999999995, 19107.230000000032, 6625.569999999985, 13665.74000000001, 8926.29999999999, 25711.00000000006, 13018.390000000012, 19392.040000000026, 12643.71000000003, 32371.13000000009, 23508.410000000065, 36068.61000000001, 11245.359999999977, 11495.629999999981, 11878.200000000006, 33203.12000000013, 13605.859999999986, 28208.65000000002, 13786.220000000003, 15683.989999999996, 16639.34000000003, 15570.759999999997, 16470.850000000002, 19268.27000000002, 13754.149999999998, 5368.689999999985, 12202.740000000014, 16187.589999999993, 9370.300000000003, 36929.94000000007, 9041.939999999984, 5977.139999999991, 24837.970000000056, 24086.310000000016, 18021.240000000016, 24903.949999999993, 14507.21000000001, 5692.069999999985, 17391.680000000026, 15310.010000000011, 13553.51999999999, 23352.460000000036, 9265.64999999999, 16443.370000000054, 5023.879999999993, 28491.620000000035, 18962.980000000003, 25818.70999999996, 12866.049999999983, 24469.170000000024, 15894.850000000004, 15861.990999999978, 16515.670000000024, 46069.94000000007, 15221.769999999975, 13566.450000000004, 17941.00000000002, 13387.179999999988, 23912.110000000095, 53681.140000000094, 15169.240000000016, 7354.769999999993, 13900.929999999986, 12433.739999999969, 16178.359999999997, 32209.220000000027, 12478.939999999984, 5542.989999999998, 13072.029999999993, 15504.390000000016, 43352.67000000006, 25843.230000000072, 12783.879999999996, 11797.940000000017, 24936.230000000043, 17753.809999999987, 35217.030000000115, 17830.300000000036, 13208.599999999988, 9538.289999999979, 8226.53, 3753.8599999999974, 29027.47, 26160.520000000106, 12992.359999999977, 24411.939999999984, 19761.900000000027, 15374.490000000002, 17596.959999999985, 18782.420000000002, 33699.20000000018, 27290.380000000056, 34964.25, 19486.39000000007, 65610.96000000002, 21062.46, 15692.330000000029, 18745.719999999983, 100460.37999999989, 25031.81000000008, 44438.73000000005, 22709.36000000003, 28587.751000000084, 26194.171000000115, 27073.619999999995, 31851.56000000012, 38400.84000000018, 31121.8700000001, 11572.000000000013, 59782.21000000004, 37006.380000000114, 46656.92999999996, 45117.879999999896, 42067.20999999988, 11864.649999999994, 35085.14000000011, 22469.290000000008, 19957.580000000027, 22632.990000000078, 22033.769999999997, 21605.440000000053, 30565.130000000154, 30077.27000000014, 22555.67000000005, 28868.530000000126, 52357.030000000035, 12318.110000000013, 30499.80000000008, 32560.890000000054, 29668.700000000114, 32098.400000000067, 24675.880000000085, 30556.170000000096, 28124.83000000004, 24722.350000000133, 31343.480000000036, 56294.59999999996, 48555.26999999994, 33121.79000000022, 24382.060000000056, 35110.37999999995, 55634.32999999991, 54440.31000000021, 28114.550000000017, 23994.220000000092, 51462.64999999995, 38029.94000000013, 36746.610000000175, 35965.60000000015, 28127.450000000077, 26558.81000000006, 39837.63000000011, 43046.950000000004, 55013.450000000084, 27925.08000000012, 22652.550000000083, 16431.470000000045, 46195.85000000008, 41183.029999999955, 31219.250000000062, 40602.13999999987, 40467.06999999999, 17335.01000000006, 53598.45999999997, 39738.14000000016, 48943.63000000001, 46462.30999999999, 10773.709999999992], \"yaxis\": \"y2\"}],\n",
              "                        {\"template\": {\"data\": {\"bar\": [{\"error_x\": {\"color\": \"#f2f5fa\"}, \"error_y\": {\"color\": \"#f2f5fa\"}, \"marker\": {\"line\": {\"color\": \"rgb(17,17,17)\", \"width\": 0.5}}, \"type\": \"bar\"}], \"barpolar\": [{\"marker\": {\"line\": {\"color\": \"rgb(17,17,17)\", \"width\": 0.5}}, \"type\": \"barpolar\"}], \"carpet\": [{\"aaxis\": {\"endlinecolor\": \"#A2B1C6\", \"gridcolor\": \"#506784\", \"linecolor\": \"#506784\", \"minorgridcolor\": \"#506784\", \"startlinecolor\": \"#A2B1C6\"}, \"baxis\": {\"endlinecolor\": \"#A2B1C6\", \"gridcolor\": \"#506784\", \"linecolor\": \"#506784\", \"minorgridcolor\": \"#506784\", \"startlinecolor\": \"#A2B1C6\"}, \"type\": \"carpet\"}], \"choropleth\": [{\"colorbar\": {\"outlinewidth\": 0, \"ticks\": \"\"}, \"type\": \"choropleth\"}], \"contour\": [{\"colorbar\": {\"outlinewidth\": 0, \"ticks\": \"\"}, \"colorscale\": [[0.0, \"#0d0887\"], [0.1111111111111111, \"#46039f\"], [0.2222222222222222, \"#7201a8\"], [0.3333333333333333, \"#9c179e\"], [0.4444444444444444, \"#bd3786\"], [0.5555555555555556, \"#d8576b\"], [0.6666666666666666, \"#ed7953\"], [0.7777777777777778, \"#fb9f3a\"], [0.8888888888888888, \"#fdca26\"], [1.0, \"#f0f921\"]], \"type\": \"contour\"}], \"contourcarpet\": [{\"colorbar\": {\"outlinewidth\": 0, \"ticks\": \"\"}, \"type\": \"contourcarpet\"}], \"heatmap\": [{\"colorbar\": {\"outlinewidth\": 0, \"ticks\": \"\"}, \"colorscale\": [[0.0, \"#0d0887\"], [0.1111111111111111, \"#46039f\"], [0.2222222222222222, \"#7201a8\"], [0.3333333333333333, \"#9c179e\"], [0.4444444444444444, \"#bd3786\"], [0.5555555555555556, \"#d8576b\"], [0.6666666666666666, \"#ed7953\"], [0.7777777777777778, \"#fb9f3a\"], [0.8888888888888888, \"#fdca26\"], [1.0, \"#f0f921\"]], \"type\": \"heatmap\"}], \"heatmapgl\": [{\"colorbar\": {\"outlinewidth\": 0, \"ticks\": \"\"}, \"colorscale\": [[0.0, \"#0d0887\"], [0.1111111111111111, \"#46039f\"], [0.2222222222222222, \"#7201a8\"], [0.3333333333333333, \"#9c179e\"], [0.4444444444444444, \"#bd3786\"], [0.5555555555555556, \"#d8576b\"], [0.6666666666666666, \"#ed7953\"], [0.7777777777777778, \"#fb9f3a\"], [0.8888888888888888, \"#fdca26\"], [1.0, \"#f0f921\"]], \"type\": \"heatmapgl\"}], \"histogram\": [{\"marker\": {\"colorbar\": {\"outlinewidth\": 0, \"ticks\": \"\"}}, \"type\": \"histogram\"}], \"histogram2d\": [{\"colorbar\": {\"outlinewidth\": 0, \"ticks\": \"\"}, \"colorscale\": [[0.0, \"#0d0887\"], [0.1111111111111111, \"#46039f\"], [0.2222222222222222, \"#7201a8\"], [0.3333333333333333, \"#9c179e\"], [0.4444444444444444, \"#bd3786\"], [0.5555555555555556, \"#d8576b\"], [0.6666666666666666, \"#ed7953\"], [0.7777777777777778, \"#fb9f3a\"], [0.8888888888888888, \"#fdca26\"], [1.0, \"#f0f921\"]], \"type\": \"histogram2d\"}], \"histogram2dcontour\": [{\"colorbar\": {\"outlinewidth\": 0, \"ticks\": \"\"}, \"colorscale\": [[0.0, \"#0d0887\"], [0.1111111111111111, \"#46039f\"], [0.2222222222222222, \"#7201a8\"], [0.3333333333333333, \"#9c179e\"], [0.4444444444444444, \"#bd3786\"], [0.5555555555555556, \"#d8576b\"], [0.6666666666666666, \"#ed7953\"], [0.7777777777777778, \"#fb9f3a\"], [0.8888888888888888, \"#fdca26\"], [1.0, \"#f0f921\"]], \"type\": \"histogram2dcontour\"}], \"mesh3d\": [{\"colorbar\": {\"outlinewidth\": 0, \"ticks\": \"\"}, \"type\": \"mesh3d\"}], \"parcoords\": [{\"line\": {\"colorbar\": {\"outlinewidth\": 0, \"ticks\": \"\"}}, \"type\": \"parcoords\"}], \"pie\": [{\"automargin\": true, \"type\": \"pie\"}], \"scatter\": [{\"marker\": {\"line\": {\"color\": \"#283442\"}}, \"type\": \"scatter\"}], \"scatter3d\": [{\"line\": {\"colorbar\": {\"outlinewidth\": 0, \"ticks\": \"\"}}, \"marker\": {\"colorbar\": {\"outlinewidth\": 0, \"ticks\": \"\"}}, \"type\": \"scatter3d\"}], \"scattercarpet\": [{\"marker\": {\"colorbar\": {\"outlinewidth\": 0, \"ticks\": \"\"}}, \"type\": \"scattercarpet\"}], \"scattergeo\": [{\"marker\": {\"colorbar\": {\"outlinewidth\": 0, \"ticks\": \"\"}}, \"type\": \"scattergeo\"}], \"scattergl\": [{\"marker\": {\"line\": {\"color\": \"#283442\"}}, \"type\": \"scattergl\"}], \"scattermapbox\": [{\"marker\": {\"colorbar\": {\"outlinewidth\": 0, \"ticks\": \"\"}}, \"type\": \"scattermapbox\"}], \"scatterpolar\": [{\"marker\": {\"colorbar\": {\"outlinewidth\": 0, \"ticks\": \"\"}}, \"type\": \"scatterpolar\"}], \"scatterpolargl\": [{\"marker\": {\"colorbar\": {\"outlinewidth\": 0, \"ticks\": \"\"}}, \"type\": \"scatterpolargl\"}], \"scatterternary\": [{\"marker\": {\"colorbar\": {\"outlinewidth\": 0, \"ticks\": \"\"}}, \"type\": \"scatterternary\"}], \"surface\": [{\"colorbar\": {\"outlinewidth\": 0, \"ticks\": \"\"}, \"colorscale\": [[0.0, \"#0d0887\"], [0.1111111111111111, \"#46039f\"], [0.2222222222222222, \"#7201a8\"], [0.3333333333333333, \"#9c179e\"], [0.4444444444444444, \"#bd3786\"], [0.5555555555555556, \"#d8576b\"], [0.6666666666666666, \"#ed7953\"], [0.7777777777777778, \"#fb9f3a\"], [0.8888888888888888, \"#fdca26\"], [1.0, \"#f0f921\"]], \"type\": \"surface\"}], \"table\": [{\"cells\": {\"fill\": {\"color\": \"#506784\"}, \"line\": {\"color\": \"rgb(17,17,17)\"}}, \"header\": {\"fill\": {\"color\": \"#2a3f5f\"}, \"line\": {\"color\": \"rgb(17,17,17)\"}}, \"type\": \"table\"}]}, \"layout\": {\"annotationdefaults\": {\"arrowcolor\": \"#f2f5fa\", \"arrowhead\": 0, \"arrowwidth\": 1}, \"coloraxis\": {\"colorbar\": {\"outlinewidth\": 0, \"ticks\": \"\"}}, \"colorscale\": {\"diverging\": [[0, \"#8e0152\"], [0.1, \"#c51b7d\"], [0.2, \"#de77ae\"], [0.3, \"#f1b6da\"], [0.4, \"#fde0ef\"], [0.5, \"#f7f7f7\"], [0.6, \"#e6f5d0\"], [0.7, \"#b8e186\"], [0.8, \"#7fbc41\"], [0.9, \"#4d9221\"], [1, \"#276419\"]], \"sequential\": [[0.0, \"#0d0887\"], [0.1111111111111111, \"#46039f\"], [0.2222222222222222, \"#7201a8\"], [0.3333333333333333, \"#9c179e\"], [0.4444444444444444, \"#bd3786\"], [0.5555555555555556, \"#d8576b\"], [0.6666666666666666, \"#ed7953\"], [0.7777777777777778, \"#fb9f3a\"], [0.8888888888888888, \"#fdca26\"], [1.0, \"#f0f921\"]], \"sequentialminus\": [[0.0, \"#0d0887\"], [0.1111111111111111, \"#46039f\"], [0.2222222222222222, \"#7201a8\"], [0.3333333333333333, \"#9c179e\"], [0.4444444444444444, \"#bd3786\"], [0.5555555555555556, \"#d8576b\"], [0.6666666666666666, \"#ed7953\"], [0.7777777777777778, \"#fb9f3a\"], [0.8888888888888888, \"#fdca26\"], [1.0, \"#f0f921\"]]}, \"colorway\": [\"#636efa\", \"#EF553B\", \"#00cc96\", \"#ab63fa\", \"#FFA15A\", \"#19d3f3\", \"#FF6692\", \"#B6E880\", \"#FF97FF\", \"#FECB52\"], \"font\": {\"color\": \"#f2f5fa\"}, \"geo\": {\"bgcolor\": \"rgb(17,17,17)\", \"lakecolor\": \"rgb(17,17,17)\", \"landcolor\": \"rgb(17,17,17)\", \"showlakes\": true, \"showland\": true, \"subunitcolor\": \"#506784\"}, \"hoverlabel\": {\"align\": \"left\"}, \"hovermode\": \"closest\", \"mapbox\": {\"style\": \"dark\"}, \"paper_bgcolor\": \"rgb(17,17,17)\", \"plot_bgcolor\": \"rgb(17,17,17)\", \"polar\": {\"angularaxis\": {\"gridcolor\": \"#506784\", \"linecolor\": \"#506784\", \"ticks\": \"\"}, \"bgcolor\": \"rgb(17,17,17)\", \"radialaxis\": {\"gridcolor\": \"#506784\", \"linecolor\": \"#506784\", \"ticks\": \"\"}}, \"scene\": {\"xaxis\": {\"backgroundcolor\": \"rgb(17,17,17)\", \"gridcolor\": \"#506784\", \"gridwidth\": 2, \"linecolor\": \"#506784\", \"showbackground\": true, \"ticks\": \"\", \"zerolinecolor\": \"#C8D4E3\"}, \"yaxis\": {\"backgroundcolor\": \"rgb(17,17,17)\", \"gridcolor\": \"#506784\", \"gridwidth\": 2, \"linecolor\": \"#506784\", \"showbackground\": true, \"ticks\": \"\", \"zerolinecolor\": \"#C8D4E3\"}, \"zaxis\": {\"backgroundcolor\": \"rgb(17,17,17)\", \"gridcolor\": \"#506784\", \"gridwidth\": 2, \"linecolor\": \"#506784\", \"showbackground\": true, \"ticks\": \"\", \"zerolinecolor\": \"#C8D4E3\"}}, \"shapedefaults\": {\"line\": {\"color\": \"#f2f5fa\"}}, \"sliderdefaults\": {\"bgcolor\": \"#C8D4E3\", \"bordercolor\": \"rgb(17,17,17)\", \"borderwidth\": 1, \"tickwidth\": 0}, \"ternary\": {\"aaxis\": {\"gridcolor\": \"#506784\", \"linecolor\": \"#506784\", \"ticks\": \"\"}, \"baxis\": {\"gridcolor\": \"#506784\", \"linecolor\": \"#506784\", \"ticks\": \"\"}, \"bgcolor\": \"rgb(17,17,17)\", \"caxis\": {\"gridcolor\": \"#506784\", \"linecolor\": \"#506784\", \"ticks\": \"\"}}, \"title\": {\"x\": 0.05}, \"updatemenudefaults\": {\"bgcolor\": \"#506784\", \"borderwidth\": 0}, \"xaxis\": {\"automargin\": true, \"gridcolor\": \"#283442\", \"linecolor\": \"#506784\", \"ticks\": \"\", \"title\": {\"standoff\": 15}, \"zerolinecolor\": \"#283442\", \"zerolinewidth\": 2}, \"yaxis\": {\"automargin\": true, \"gridcolor\": \"#283442\", \"linecolor\": \"#506784\", \"ticks\": \"\", \"title\": {\"standoff\": 15}, \"zerolinecolor\": \"#283442\", \"zerolinewidth\": 2}}}, \"title\": {\"text\": \"Sales by day\"}, \"width\": 950, \"xaxis\": {\"anchor\": \"y\", \"domain\": [0.0, 1.0], \"matches\": \"x2\", \"showticklabels\": false}, \"xaxis2\": {\"anchor\": \"y2\", \"domain\": [0.0, 1.0]}, \"yaxis\": {\"anchor\": \"x\", \"domain\": [0.51, 1.0]}, \"yaxis2\": {\"anchor\": \"x2\", \"domain\": [0.0, 0.49]}},\n",
              "                        {\"responsive\": true}\n",
              "                    ).then(function(){\n",
              "                            \n",
              "var gd = document.getElementById('2e925c73-c261-4b5d-9a36-c22c11ac5ce1');\n",
              "var x = new MutationObserver(function (mutations, observer) {{\n",
              "        var display = window.getComputedStyle(gd).display;\n",
              "        if (!display || display === 'none') {{\n",
              "            console.log([gd, 'removed!']);\n",
              "            Plotly.purge(gd);\n",
              "            observer.disconnect();\n",
              "        }}\n",
              "}});\n",
              "\n",
              "// Listen for the removal of the full notebook cells\n",
              "var notebookContainer = gd.closest('#notebook-container');\n",
              "if (notebookContainer) {{\n",
              "    x.observe(notebookContainer, {childList: true});\n",
              "}}\n",
              "\n",
              "// Listen for the clearing of the current output cell\n",
              "var outputEl = gd.closest('.output');\n",
              "if (outputEl) {{\n",
              "    x.observe(outputEl, {childList: true});\n",
              "}}\n",
              "\n",
              "                        })\n",
              "                };\n",
              "                \n",
              "            </script>\n",
              "        </div>\n",
              "</body>\n",
              "</html>"
            ]
          },
          "metadata": {
            "tags": []
          }
        }
      ]
    },
    {
      "cell_type": "code",
      "metadata": {
        "id": "RGEfwmk6IFyU",
        "colab_type": "code",
        "colab": {
          "base_uri": "https://localhost:8080/",
          "height": 141
        },
        "outputId": "33988ff5-2b87-40be-a611-e4d93e1a632d"
      },
      "source": [
        "data_user = pd.DataFrame(data['CustomerID'].unique(), columns=['CustomerID'])\n",
        "data_user.head(3)"
      ],
      "execution_count": 20,
      "outputs": [
        {
          "output_type": "execute_result",
          "data": {
            "text/html": [
              "<div>\n",
              "<style scoped>\n",
              "    .dataframe tbody tr th:only-of-type {\n",
              "        vertical-align: middle;\n",
              "    }\n",
              "\n",
              "    .dataframe tbody tr th {\n",
              "        vertical-align: top;\n",
              "    }\n",
              "\n",
              "    .dataframe thead th {\n",
              "        text-align: right;\n",
              "    }\n",
              "</style>\n",
              "<table border=\"1\" class=\"dataframe\">\n",
              "  <thead>\n",
              "    <tr style=\"text-align: right;\">\n",
              "      <th></th>\n",
              "      <th>CustomerID</th>\n",
              "    </tr>\n",
              "  </thead>\n",
              "  <tbody>\n",
              "    <tr>\n",
              "      <th>0</th>\n",
              "      <td>17850</td>\n",
              "    </tr>\n",
              "    <tr>\n",
              "      <th>1</th>\n",
              "      <td>13047</td>\n",
              "    </tr>\n",
              "    <tr>\n",
              "      <th>2</th>\n",
              "      <td>12583</td>\n",
              "    </tr>\n",
              "  </tbody>\n",
              "</table>\n",
              "</div>"
            ],
            "text/plain": [
              "   CustomerID\n",
              "0       17850\n",
              "1       13047\n",
              "2       12583"
            ]
          },
          "metadata": {
            "tags": []
          },
          "execution_count": 20
        }
      ]
    },
    {
      "cell_type": "code",
      "metadata": {
        "id": "_dLRkvF5ITjf",
        "colab_type": "code",
        "colab": {
          "base_uri": "https://localhost:8080/",
          "height": 415
        },
        "outputId": "0550e640-9abd-4297-d1fd-e91bbb4e5508"
      },
      "source": [
        "last_purchase = data_uk.groupby('CustomerID')['InvoiceDate'].max().reset_index()\n",
        "last_purchase.columns = ['CustomerID', 'LastPurchaseDate']\n",
        "last_purchase"
      ],
      "execution_count": 21,
      "outputs": [
        {
          "output_type": "execute_result",
          "data": {
            "text/html": [
              "<div>\n",
              "<style scoped>\n",
              "    .dataframe tbody tr th:only-of-type {\n",
              "        vertical-align: middle;\n",
              "    }\n",
              "\n",
              "    .dataframe tbody tr th {\n",
              "        vertical-align: top;\n",
              "    }\n",
              "\n",
              "    .dataframe thead th {\n",
              "        text-align: right;\n",
              "    }\n",
              "</style>\n",
              "<table border=\"1\" class=\"dataframe\">\n",
              "  <thead>\n",
              "    <tr style=\"text-align: right;\">\n",
              "      <th></th>\n",
              "      <th>CustomerID</th>\n",
              "      <th>LastPurchaseDate</th>\n",
              "    </tr>\n",
              "  </thead>\n",
              "  <tbody>\n",
              "    <tr>\n",
              "      <th>0</th>\n",
              "      <td>12346</td>\n",
              "      <td>2011-01-18 10:17:00</td>\n",
              "    </tr>\n",
              "    <tr>\n",
              "      <th>1</th>\n",
              "      <td>12747</td>\n",
              "      <td>2011-12-07 14:34:00</td>\n",
              "    </tr>\n",
              "    <tr>\n",
              "      <th>2</th>\n",
              "      <td>12748</td>\n",
              "      <td>2011-12-09 12:20:00</td>\n",
              "    </tr>\n",
              "    <tr>\n",
              "      <th>3</th>\n",
              "      <td>12749</td>\n",
              "      <td>2011-12-06 09:56:00</td>\n",
              "    </tr>\n",
              "    <tr>\n",
              "      <th>4</th>\n",
              "      <td>12820</td>\n",
              "      <td>2011-12-06 15:12:00</td>\n",
              "    </tr>\n",
              "    <tr>\n",
              "      <th>...</th>\n",
              "      <td>...</td>\n",
              "      <td>...</td>\n",
              "    </tr>\n",
              "    <tr>\n",
              "      <th>3945</th>\n",
              "      <td>18280</td>\n",
              "      <td>2011-03-07 09:52:00</td>\n",
              "    </tr>\n",
              "    <tr>\n",
              "      <th>3946</th>\n",
              "      <td>18281</td>\n",
              "      <td>2011-06-12 10:53:00</td>\n",
              "    </tr>\n",
              "    <tr>\n",
              "      <th>3947</th>\n",
              "      <td>18282</td>\n",
              "      <td>2011-12-02 11:43:00</td>\n",
              "    </tr>\n",
              "    <tr>\n",
              "      <th>3948</th>\n",
              "      <td>18283</td>\n",
              "      <td>2011-12-06 12:02:00</td>\n",
              "    </tr>\n",
              "    <tr>\n",
              "      <th>3949</th>\n",
              "      <td>18287</td>\n",
              "      <td>2011-10-28 09:29:00</td>\n",
              "    </tr>\n",
              "  </tbody>\n",
              "</table>\n",
              "<p>3950 rows × 2 columns</p>\n",
              "</div>"
            ],
            "text/plain": [
              "      CustomerID    LastPurchaseDate\n",
              "0          12346 2011-01-18 10:17:00\n",
              "1          12747 2011-12-07 14:34:00\n",
              "2          12748 2011-12-09 12:20:00\n",
              "3          12749 2011-12-06 09:56:00\n",
              "4          12820 2011-12-06 15:12:00\n",
              "...          ...                 ...\n",
              "3945       18280 2011-03-07 09:52:00\n",
              "3946       18281 2011-06-12 10:53:00\n",
              "3947       18282 2011-12-02 11:43:00\n",
              "3948       18283 2011-12-06 12:02:00\n",
              "3949       18287 2011-10-28 09:29:00\n",
              "\n",
              "[3950 rows x 2 columns]"
            ]
          },
          "metadata": {
            "tags": []
          },
          "execution_count": 21
        }
      ]
    },
    {
      "cell_type": "code",
      "metadata": {
        "id": "L4fG35Q2OprR",
        "colab_type": "code",
        "colab": {
          "base_uri": "https://localhost:8080/",
          "height": 35
        },
        "outputId": "53f82e9c-8d4e-4026-f244-b6d17980a26f"
      },
      "source": [
        "last_purchase['LastPurchaseDate'].max()"
      ],
      "execution_count": 22,
      "outputs": [
        {
          "output_type": "execute_result",
          "data": {
            "text/plain": [
              "Timestamp('2011-12-09 12:49:00')"
            ]
          },
          "metadata": {
            "tags": []
          },
          "execution_count": 22
        }
      ]
    },
    {
      "cell_type": "code",
      "metadata": {
        "id": "FdK7YWalO2oa",
        "colab_type": "code",
        "colab": {
          "base_uri": "https://localhost:8080/",
          "height": 35
        },
        "outputId": "76693b6f-d7cb-4bcd-bac1-4b705714afaf"
      },
      "source": [
        "last_purchase['LastPurchaseDate'].min()"
      ],
      "execution_count": 23,
      "outputs": [
        {
          "output_type": "execute_result",
          "data": {
            "text/plain": [
              "Timestamp('2010-12-01 09:53:00')"
            ]
          },
          "metadata": {
            "tags": []
          },
          "execution_count": 23
        }
      ]
    },
    {
      "cell_type": "code",
      "metadata": {
        "id": "4ZaNGuX2L0Hh",
        "colab_type": "code",
        "colab": {
          "base_uri": "https://localhost:8080/",
          "height": 415
        },
        "outputId": "552803da-7ea4-467d-f696-d31284ae999c"
      },
      "source": [
        "last_purchase['Retention'] = (last_purchase['LastPurchaseDate'].max() - last_purchase['LastPurchaseDate']).dt.days\n",
        "last_purchase"
      ],
      "execution_count": 24,
      "outputs": [
        {
          "output_type": "execute_result",
          "data": {
            "text/html": [
              "<div>\n",
              "<style scoped>\n",
              "    .dataframe tbody tr th:only-of-type {\n",
              "        vertical-align: middle;\n",
              "    }\n",
              "\n",
              "    .dataframe tbody tr th {\n",
              "        vertical-align: top;\n",
              "    }\n",
              "\n",
              "    .dataframe thead th {\n",
              "        text-align: right;\n",
              "    }\n",
              "</style>\n",
              "<table border=\"1\" class=\"dataframe\">\n",
              "  <thead>\n",
              "    <tr style=\"text-align: right;\">\n",
              "      <th></th>\n",
              "      <th>CustomerID</th>\n",
              "      <th>LastPurchaseDate</th>\n",
              "      <th>Retention</th>\n",
              "    </tr>\n",
              "  </thead>\n",
              "  <tbody>\n",
              "    <tr>\n",
              "      <th>0</th>\n",
              "      <td>12346</td>\n",
              "      <td>2011-01-18 10:17:00</td>\n",
              "      <td>325</td>\n",
              "    </tr>\n",
              "    <tr>\n",
              "      <th>1</th>\n",
              "      <td>12747</td>\n",
              "      <td>2011-12-07 14:34:00</td>\n",
              "      <td>1</td>\n",
              "    </tr>\n",
              "    <tr>\n",
              "      <th>2</th>\n",
              "      <td>12748</td>\n",
              "      <td>2011-12-09 12:20:00</td>\n",
              "      <td>0</td>\n",
              "    </tr>\n",
              "    <tr>\n",
              "      <th>3</th>\n",
              "      <td>12749</td>\n",
              "      <td>2011-12-06 09:56:00</td>\n",
              "      <td>3</td>\n",
              "    </tr>\n",
              "    <tr>\n",
              "      <th>4</th>\n",
              "      <td>12820</td>\n",
              "      <td>2011-12-06 15:12:00</td>\n",
              "      <td>2</td>\n",
              "    </tr>\n",
              "    <tr>\n",
              "      <th>...</th>\n",
              "      <td>...</td>\n",
              "      <td>...</td>\n",
              "      <td>...</td>\n",
              "    </tr>\n",
              "    <tr>\n",
              "      <th>3945</th>\n",
              "      <td>18280</td>\n",
              "      <td>2011-03-07 09:52:00</td>\n",
              "      <td>277</td>\n",
              "    </tr>\n",
              "    <tr>\n",
              "      <th>3946</th>\n",
              "      <td>18281</td>\n",
              "      <td>2011-06-12 10:53:00</td>\n",
              "      <td>180</td>\n",
              "    </tr>\n",
              "    <tr>\n",
              "      <th>3947</th>\n",
              "      <td>18282</td>\n",
              "      <td>2011-12-02 11:43:00</td>\n",
              "      <td>7</td>\n",
              "    </tr>\n",
              "    <tr>\n",
              "      <th>3948</th>\n",
              "      <td>18283</td>\n",
              "      <td>2011-12-06 12:02:00</td>\n",
              "      <td>3</td>\n",
              "    </tr>\n",
              "    <tr>\n",
              "      <th>3949</th>\n",
              "      <td>18287</td>\n",
              "      <td>2011-10-28 09:29:00</td>\n",
              "      <td>42</td>\n",
              "    </tr>\n",
              "  </tbody>\n",
              "</table>\n",
              "<p>3950 rows × 3 columns</p>\n",
              "</div>"
            ],
            "text/plain": [
              "      CustomerID    LastPurchaseDate  Retention\n",
              "0          12346 2011-01-18 10:17:00        325\n",
              "1          12747 2011-12-07 14:34:00          1\n",
              "2          12748 2011-12-09 12:20:00          0\n",
              "3          12749 2011-12-06 09:56:00          3\n",
              "4          12820 2011-12-06 15:12:00          2\n",
              "...          ...                 ...        ...\n",
              "3945       18280 2011-03-07 09:52:00        277\n",
              "3946       18281 2011-06-12 10:53:00        180\n",
              "3947       18282 2011-12-02 11:43:00          7\n",
              "3948       18283 2011-12-06 12:02:00          3\n",
              "3949       18287 2011-10-28 09:29:00         42\n",
              "\n",
              "[3950 rows x 3 columns]"
            ]
          },
          "metadata": {
            "tags": []
          },
          "execution_count": 24
        }
      ]
    },
    {
      "cell_type": "code",
      "metadata": {
        "id": "mYq9z8ZiO4EY",
        "colab_type": "code",
        "colab": {
          "base_uri": "https://localhost:8080/",
          "height": 225
        },
        "outputId": "45de04a2-3779-4d5e-9b75-1d617fdd0611"
      },
      "source": [
        "last_purchase['Retention'].value_counts()"
      ],
      "execution_count": 25,
      "outputs": [
        {
          "output_type": "execute_result",
          "data": {
            "text/plain": [
              "3      114\n",
              "8       97\n",
              "0       97\n",
              "2       92\n",
              "1       77\n",
              "      ... \n",
              "243      1\n",
              "370      1\n",
              "285      1\n",
              "295      1\n",
              "174      1\n",
              "Name: Retention, Length: 348, dtype: int64"
            ]
          },
          "metadata": {
            "tags": []
          },
          "execution_count": 25
        }
      ]
    },
    {
      "cell_type": "code",
      "metadata": {
        "id": "H8BDcx1NPm8J",
        "colab_type": "code",
        "colab": {
          "base_uri": "https://localhost:8080/",
          "height": 517
        },
        "outputId": "06864bba-5a32-47ef-a952-122182ef1615"
      },
      "source": [
        "px.histogram(last_purchase, x='Retention', template='plotly_dark', \n",
        "             width=950, height=500, title='Retention', nbins=100, \n",
        "             color_discrete_sequence=['#03fcb5'])"
      ],
      "execution_count": 26,
      "outputs": [
        {
          "output_type": "display_data",
          "data": {
            "text/html": [
              "<html>\n",
              "<head><meta charset=\"utf-8\" /></head>\n",
              "<body>\n",
              "    <div>\n",
              "            <script src=\"https://cdnjs.cloudflare.com/ajax/libs/mathjax/2.7.5/MathJax.js?config=TeX-AMS-MML_SVG\"></script><script type=\"text/javascript\">if (window.MathJax) {MathJax.Hub.Config({SVG: {font: \"STIX-Web\"}});}</script>\n",
              "                <script type=\"text/javascript\">window.PlotlyConfig = {MathJaxConfig: 'local'};</script>\n",
              "        <script src=\"https://cdn.plot.ly/plotly-latest.min.js\"></script>    \n",
              "            <div id=\"9e3457cf-ae5b-423c-bd61-01ed0e0b81f9\" class=\"plotly-graph-div\" style=\"height:500px; width:950px;\"></div>\n",
              "            <script type=\"text/javascript\">\n",
              "                \n",
              "                    window.PLOTLYENV=window.PLOTLYENV || {};\n",
              "                    \n",
              "                if (document.getElementById(\"9e3457cf-ae5b-423c-bd61-01ed0e0b81f9\")) {\n",
              "                    Plotly.newPlot(\n",
              "                        '9e3457cf-ae5b-423c-bd61-01ed0e0b81f9',\n",
              "                        [{\"alignmentgroup\": \"True\", \"bingroup\": \"x\", \"hoverlabel\": {\"namelength\": 0}, \"hovertemplate\": \"Retention=%{x}<br>count=%{y}\", \"legendgroup\": \"\", \"marker\": {\"color\": \"#03fcb5\"}, \"name\": \"\", \"nbinsx\": 100, \"offsetgroup\": \"\", \"orientation\": \"v\", \"showlegend\": false, \"type\": \"histogram\", \"x\": [325, 1, 0, 3, 2, 213, 70, 74, 59, 2, 5, 2, 321, 37, 261, 31, 144, 282, 58, 172, 33, 2, 143, 4, 69, 65, 28, 266, 21, 30, 96, 289, 107, 78, 372, 7, 210, 51, 137, 25, 185, 365, 83, 326, 281, 142, 3, 17, 44, 275, 8, 24, 87, 62, 67, 213, 23, 185, 30, 41, 204, 8, 264, 17, 11, 58, 39, 22, 2, 4, 148, 138, 127, 7, 16, 3, 160, 63, 87, 4, 34, 121, 77, 21, 23, 1, 16, 14, 25, 63, 45, 130, 300, 35, 287, 143, 15, 30, 1, 8, 5, 9, 0, 305, 3, 6, 7, 88, 9, 2, 111, 6, 3, 197, 211, 155, 155, 29, 239, 18, 0, 73, 291, 2, 30, 22, 22, 3, 77, 21, 195, 106, 3, 317, 105, 11, 173, 55, 322, 371, 8, 0, 2, 52, 72, 6, 15, 3, 63, 0, 113, 22, 30, 10, 38, 356, 54, 57, 137, 79, 8, 253, 290, 98, 30, 31, 13, 63, 8, 211, 63, 24, 249, 253, 71, 190, 12, 372, 23, 81, 9, 0, 191, 266, 129, 0, 0, 3, 178, 0, 125, 3, 157, 2, 8, 20, 70, 266, 20, 70, 32, 0, 98, 233, 0, 39, 2, 128, 43, 372, 2, 30, 0, 8, 116, 21, 19, 238, 268, 93, 89, 4, 77, 93, 22, 261, 273, 72, 196, 49, 10, 21, 15, 107, 84, 18, 332, 39, 25, 9, 28, 13, 202, 5, 143, 32, 48, 94, 8, 21, 312, 121, 45, 281, 18, 35, 63, 26, 7, 3, 15, 45, 64, 25, 44, 7, 14, 267, 39, 336, 10, 18, 94, 60, 135, 10, 9, 3, 18, 9, 14, 58, 29, 93, 9, 8, 56, 267, 121, 126, 77, 239, 199, 59, 2, 272, 201, 80, 225, 3, 12, 73, 211, 23, 10, 261, 95, 111, 202, 92, 50, 17, 17, 124, 91, 156, 3, 13, 11, 61, 60, 268, 262, 0, 52, 10, 2, 17, 0, 365, 36, 30, 112, 63, 15, 40, 63, 121, 17, 59, 322, 22, 155, 38, 189, 359, 136, 7, 0, 267, 164, 103, 154, 350, 3, 119, 22, 6, 8, 3, 21, 1, 36, 63, 0, 4, 69, 71, 16, 2, 31, 81, 38, 315, 31, 92, 13, 81, 76, 153, 200, 44, 260, 172, 67, 276, 69, 63, 10, 15, 65, 7, 70, 121, 79, 256, 268, 58, 2, 17, 66, 8, 49, 256, 353, 365, 89, 60, 80, 98, 25, 20, 280, 30, 329, 120, 10, 74, 203, 1, 184, 21, 72, 191, 126, 17, 0, 73, 1, 8, 106, 133, 43, 4, 11, 63, 134, 39, 50, 107, 0, 18, 9, 10, 18, 66, 73, 4, 1, 13, 254, 91, 22, 16, 23, 26, 25, 258, 165, 24, 17, 6, 28, 38, 182, 57, 99, 10, 1, 98, 0, 60, 235, 190, 178, 37, 197, 45, 231, 65, 240, 232, 77, 57, 16, 104, 51, 311, 7, 10, 282, 17, 22, 16, 70, 63, 311, 2, 243, 8, 0, 260, 126, 73, 72, 20, 59, 85, 49, 0, 29, 32, 40, 14, 33, 78, 204, 33, 182, 1, 0, 42, 85, 39, 11, 95, 25, 318, 65, 73, 27, 5, 6, 215, 81, 83, 143, 18, 40, 172, 16, 242, 12, 205, 49, 22, 9, 24, 14, 308, 155, 306, 31, 15, 14, 10, 64, 35, 107, 52, 5, 46, 0, 311, 44, 64, 25, 28, 39, 11, 88, 23, 312, 39, 173, 116, 30, 252, 58, 22, 4, 99, 24, 32, 67, 36, 51, 15, 73, 215, 30, 8, 119, 9, 256, 16, 34, 45, 42, 113, 164, 10, 9, 196, 85, 178, 59, 148, 2, 50, 74, 300, 18, 150, 151, 0, 17, 186, 285, 2, 182, 62, 58, 24, 324, 3, 30, 38, 154, 25, 317, 4, 7, 302, 266, 270, 3, 31, 218, 246, 280, 268, 31, 245, 14, 116, 35, 119, 216, 49, 38, 28, 36, 135, 218, 27, 24, 4, 199, 17, 240, 71, 16, 2, 94, 150, 373, 95, 53, 287, 123, 287, 151, 3, 1, 11, 32, 53, 49, 203, 62, 70, 1, 1, 63, 33, 81, 0, 102, 6, 250, 12, 9, 366, 75, 3, 42, 65, 0, 116, 309, 66, 137, 254, 30, 51, 63, 366, 5, 301, 144, 5, 18, 32, 157, 57, 21, 358, 15, 17, 158, 24, 211, 5, 252, 58, 10, 64, 24, 91, 51, 87, 95, 8, 8, 168, 56, 325, 0, 17, 244, 57, 73, 30, 6, 122, 1, 22, 119, 357, 53, 63, 85, 54, 20, 2, 2, 0, 6, 188, 70, 203, 119, 92, 0, 26, 297, 21, 20, 49, 325, 15, 182, 71, 36, 79, 56, 3, 49, 49, 351, 53, 1, 35, 22, 74, 10, 168, 57, 85, 294, 108, 263, 170, 168, 34, 22, 16, 21, 78, 64, 360, 2, 10, 175, 210, 6, 0, 153, 4, 371, 78, 20, 21, 307, 145, 6, 8, 70, 286, 48, 30, 206, 14, 72, 59, 38, 29, 26, 3, 16, 19, 65, 212, 11, 29, 31, 3, 14, 9, 205, 45, 133, 42, 9, 115, 197, 277, 109, 76, 52, 46, 16, 154, 224, 6, 121, 60, 62, 17, 6, 1, 21, 28, 284, 175, 77, 32, 40, 265, 26, 108, 283, 8, 276, 16, 31, 0, 19, 123, 64, 105, 0, 23, 266, 4, 9, 28, 266, 63, 319, 3, 20, 4, 128, 40, 101, 124, 32, 266, 364, 3, 1, 2, 9, 56, 324, 7, 11, 3, 36, 15, 137, 73, 4, 153, 84, 51, 30, 22, 3, 13, 22, 3, 273, 19, 143, 353, 3, 83, 10, 7, 122, 60, 1, 318, 1, 129, 1, 1, 45, 3, 2, 372, 133, 46, 8, 48, 233, 212, 35, 74, 238, 265, 19, 39, 19, 215, 173, 86, 70, 275, 38, 97, 10, 32, 50, 296, 84, 8, 40, 10, 66, 330, 8, 1, 1, 67, 4, 201, 106, 3, 217, 59, 1, 10, 238, 94, 10, 90, 52, 89, 371, 30, 11, 2, 1, 42, 3, 246, 41, 176, 91, 109, 28, 25, 51, 178, 31, 43, 21, 9, 80, 372, 325, 42, 29, 183, 234, 8, 175, 110, 277, 317, 6, 1, 253, 50, 8, 141, 50, 7, 154, 150, 331, 225, 73, 50, 87, 196, 2, 30, 20, 23, 7, 211, 8, 10, 1, 7, 2, 39, 17, 2, 7, 18, 107, 222, 70, 50, 88, 7, 224, 46, 106, 20, 64, 206, 10, 114, 234, 162, 8, 123, 22, 63, 16, 16, 157, 234, 218, 44, 20, 126, 38, 120, 259, 9, 270, 164, 156, 214, 5, 365, 59, 42, 18, 31, 21, 108, 7, 319, 294, 357, 184, 190, 43, 51, 25, 37, 8, 296, 32, 8, 8, 9, 217, 1, 64, 0, 140, 3, 129, 33, 118, 106, 10, 70, 15, 310, 34, 361, 91, 0, 21, 3, 10, 84, 56, 0, 217, 17, 18, 49, 6, 298, 9, 21, 98, 142, 305, 7, 0, 53, 0, 18, 8, 18, 180, 59, 10, 189, 4, 310, 154, 109, 147, 63, 97, 246, 28, 17, 11, 103, 73, 42, 71, 256, 19, 253, 10, 164, 17, 149, 49, 38, 26, 50, 206, 174, 6, 25, 50, 311, 300, 42, 25, 87, 63, 19, 2, 46, 16, 16, 23, 21, 10, 187, 100, 60, 17, 32, 63, 1, 23, 107, 31, 8, 2, 36, 59, 25, 235, 24, 2, 58, 259, 57, 64, 15, 9, 58, 185, 3, 23, 3, 3, 150, 310, 10, 17, 151, 18, 9, 56, 63, 6, 75, 3, 95, 34, 0, 280, 2, 179, 371, 12, 2, 16, 40, 5, 168, 49, 226, 18, 371, 14, 34, 21, 6, 19, 10, 43, 305, 10, 274, 0, 15, 3, 71, 242, 8, 238, 203, 0, 184, 31, 56, 184, 8, 311, 90, 3, 50, 262, 265, 35, 50, 51, 15, 21, 58, 169, 8, 156, 200, 4, 66, 76, 0, 3, 168, 17, 4, 8, 86, 26, 28, 19, 60, 23, 10, 241, 279, 234, 2, 15, 30, 371, 24, 70, 187, 25, 106, 7, 208, 43, 30, 136, 263, 3, 217, 1, 213, 31, 10, 0, 14, 10, 198, 2, 14, 13, 9, 28, 8, 23, 24, 42, 1, 5, 146, 9, 24, 273, 373, 0, 46, 7, 8, 3, 3, 38, 1, 190, 11, 15, 112, 247, 28, 43, 86, 44, 9, 14, 74, 144, 4, 293, 58, 263, 43, 28, 7, 16, 2, 231, 111, 57, 50, 3, 126, 280, 54, 319, 25, 9, 6, 28, 16, 63, 3, 2, 165, 0, 52, 50, 47, 60, 161, 8, 14, 74, 39, 40, 369, 36, 196, 199, 73, 63, 20, 366, 179, 9, 3, 196, 28, 52, 17, 9, 89, 267, 52, 34, 63, 148, 21, 311, 22, 57, 8, 77, 118, 35, 59, 12, 8, 51, 25, 28, 6, 10, 185, 2, 3, 261, 2, 209, 8, 12, 76, 19, 26, 18, 131, 252, 78, 206, 335, 253, 147, 9, 84, 7, 204, 7, 22, 10, 20, 20, 1, 153, 2, 73, 2, 35, 85, 70, 115, 212, 29, 50, 245, 31, 29, 13, 71, 22, 8, 78, 45, 24, 11, 252, 146, 58, 7, 10, 270, 9, 246, 95, 14, 49, 29, 67, 34, 127, 106, 36, 56, 56, 71, 245, 18, 197, 15, 211, 38, 45, 169, 47, 115, 146, 15, 50, 158, 11, 35, 53, 42, 172, 33, 38, 266, 8, 11, 2, 9, 32, 79, 30, 7, 71, 3, 255, 4, 15, 89, 71, 42, 9, 169, 198, 30, 18, 151, 8, 269, 64, 273, 24, 22, 318, 4, 11, 274, 24, 40, 7, 3, 70, 212, 37, 31, 77, 45, 178, 372, 93, 9, 104, 77, 172, 6, 212, 21, 256, 281, 20, 9, 307, 53, 214, 17, 103, 42, 3, 181, 83, 329, 8, 30, 166, 17, 17, 310, 240, 23, 28, 9, 29, 17, 17, 14, 133, 245, 129, 49, 84, 6, 22, 24, 65, 59, 49, 169, 17, 127, 14, 232, 2, 239, 51, 45, 225, 7, 3, 164, 218, 10, 133, 16, 9, 30, 73, 0, 3, 44, 1, 356, 17, 68, 372, 320, 25, 324, 8, 322, 71, 259, 17, 366, 65, 153, 28, 69, 13, 1, 0, 119, 60, 2, 2, 8, 91, 58, 78, 25, 356, 84, 9, 0, 224, 59, 238, 318, 1, 44, 87, 10, 175, 51, 365, 318, 225, 357, 233, 310, 36, 65, 238, 112, 276, 217, 298, 1, 28, 9, 44, 66, 73, 64, 133, 237, 121, 31, 8, 35, 15, 126, 66, 148, 280, 168, 99, 134, 323, 106, 63, 150, 337, 21, 23, 15, 6, 56, 3, 30, 65, 46, 354, 171, 58, 49, 21, 42, 28, 4, 25, 200, 43, 9, 1, 66, 63, 50, 289, 60, 63, 95, 270, 0, 74, 109, 198, 63, 326, 3, 283, 43, 48, 63, 103, 333, 52, 34, 31, 207, 156, 52, 65, 80, 115, 86, 0, 34, 332, 365, 71, 157, 372, 11, 254, 28, 30, 4, 39, 361, 240, 95, 25, 74, 56, 20, 143, 40, 136, 7, 128, 39, 168, 8, 213, 14, 169, 39, 185, 171, 4, 15, 9, 325, 112, 289, 15, 0, 91, 148, 188, 17, 33, 263, 83, 25, 170, 9, 312, 64, 84, 24, 58, 322, 37, 253, 18, 32, 14, 26, 22, 78, 7, 21, 11, 261, 130, 54, 248, 1, 8, 263, 330, 312, 25, 29, 29, 1, 361, 282, 261, 24, 353, 93, 28, 337, 19, 84, 8, 34, 42, 1, 112, 13, 76, 39, 15, 160, 0, 29, 92, 22, 94, 27, 32, 20, 17, 0, 7, 15, 362, 80, 52, 22, 171, 188, 330, 11, 155, 30, 11, 44, 232, 63, 1, 35, 32, 83, 24, 1, 32, 18, 253, 22, 21, 7, 24, 18, 172, 162, 6, 10, 113, 287, 8, 53, 6, 76, 3, 36, 216, 59, 277, 11, 23, 28, 11, 351, 8, 49, 18, 2, 103, 6, 11, 4, 31, 177, 37, 150, 161, 68, 120, 24, 23, 176, 49, 252, 288, 46, 70, 15, 100, 29, 34, 26, 10, 7, 78, 51, 35, 56, 336, 27, 182, 51, 9, 35, 9, 32, 10, 49, 3, 2, 140, 116, 99, 74, 4, 44, 15, 16, 89, 52, 300, 133, 3, 104, 178, 165, 18, 157, 203, 335, 36, 90, 92, 8, 232, 44, 22, 189, 43, 24, 316, 105, 50, 167, 39, 217, 39, 296, 18, 87, 72, 80, 8, 48, 52, 23, 8, 17, 116, 8, 119, 3, 251, 27, 0, 266, 32, 17, 171, 1, 264, 139, 200, 59, 34, 40, 283, 8, 142, 11, 145, 233, 32, 23, 11, 35, 364, 200, 14, 16, 48, 197, 65, 211, 282, 114, 14, 18, 65, 48, 15, 77, 8, 133, 12, 39, 234, 2, 39, 304, 50, 0, 60, 65, 24, 217, 64, 31, 80, 63, 115, 6, 5, 68, 244, 132, 240, 183, 24, 9, 10, 29, 43, 25, 357, 9, 43, 8, 149, 0, 112, 75, 106, 45, 142, 50, 0, 22, 45, 49, 305, 35, 78, 16, 106, 207, 2, 63, 48, 319, 43, 2, 336, 171, 50, 72, 98, 28, 57, 253, 69, 43, 44, 64, 10, 24, 58, 63, 303, 45, 17, 37, 18, 186, 51, 3, 136, 3, 18, 15, 40, 11, 7, 25, 21, 40, 100, 4, 276, 32, 14, 62, 1, 368, 311, 198, 1, 92, 59, 79, 156, 226, 252, 149, 193, 0, 368, 23, 16, 9, 7, 19, 3, 173, 0, 177, 15, 247, 190, 19, 153, 172, 371, 372, 193, 66, 3, 20, 238, 63, 111, 89, 310, 133, 276, 364, 82, 7, 16, 1, 0, 33, 14, 23, 31, 73, 19, 16, 22, 2, 303, 16, 235, 38, 83, 164, 16, 76, 88, 24, 21, 2, 122, 29, 11, 18, 43, 3, 8, 54, 87, 36, 2, 29, 11, 210, 47, 23, 21, 245, 7, 34, 3, 35, 3, 2, 46, 38, 1, 16, 259, 45, 11, 29, 42, 91, 38, 309, 91, 5, 195, 86, 269, 7, 64, 30, 21, 36, 119, 85, 39, 173, 53, 32, 144, 220, 44, 3, 65, 268, 9, 259, 364, 16, 21, 44, 287, 291, 2, 283, 16, 81, 55, 100, 298, 22, 58, 154, 98, 106, 11, 263, 239, 87, 49, 8, 41, 6, 61, 248, 65, 17, 84, 218, 44, 142, 182, 170, 9, 205, 189, 7, 58, 56, 72, 51, 315, 366, 28, 38, 17, 51, 3, 21, 262, 59, 367, 18, 52, 87, 249, 2, 246, 8, 156, 133, 295, 4, 38, 268, 49, 8, 15, 281, 63, 1, 251, 224, 16, 10, 7, 50, 58, 94, 15, 125, 93, 49, 137, 60, 99, 72, 71, 66, 63, 16, 22, 31, 44, 15, 39, 2, 236, 74, 3, 2, 360, 58, 22, 30, 54, 24, 44, 88, 1, 80, 18, 78, 170, 80, 266, 234, 29, 36, 317, 56, 44, 202, 218, 86, 189, 32, 70, 40, 77, 56, 7, 9, 7, 33, 211, 23, 169, 61, 52, 260, 365, 31, 16, 257, 176, 44, 50, 16, 360, 8, 73, 70, 352, 2, 116, 372, 196, 176, 22, 20, 71, 339, 5, 30, 169, 116, 8, 9, 212, 22, 107, 25, 138, 213, 37, 91, 17, 2, 330, 63, 119, 34, 217, 0, 195, 127, 43, 5, 13, 17, 27, 7, 36, 156, 283, 106, 24, 74, 15, 157, 43, 10, 31, 290, 20, 332, 17, 3, 62, 197, 32, 0, 6, 4, 9, 31, 52, 11, 17, 18, 36, 1, 17, 81, 32, 65, 8, 266, 246, 3, 60, 74, 89, 59, 28, 322, 52, 269, 1, 49, 59, 144, 18, 94, 0, 264, 301, 69, 301, 18, 12, 35, 18, 53, 56, 21, 43, 25, 44, 112, 16, 24, 190, 301, 1, 262, 80, 105, 56, 212, 63, 27, 28, 5, 7, 66, 1, 45, 33, 0, 135, 197, 190, 149, 87, 44, 63, 98, 217, 2, 27, 177, 63, 20, 19, 33, 73, 23, 51, 274, 164, 6, 87, 63, 24, 9, 75, 15, 191, 173, 76, 32, 46, 72, 296, 2, 8, 49, 160, 359, 4, 106, 24, 31, 19, 296, 371, 21, 4, 51, 29, 276, 60, 24, 185, 1, 1, 171, 80, 3, 189, 21, 17, 18, 4, 106, 2, 53, 164, 290, 9, 108, 95, 242, 162, 2, 34, 66, 23, 0, 20, 5, 53, 363, 14, 193, 2, 8, 2, 126, 73, 70, 364, 154, 112, 373, 79, 248, 231, 70, 68, 3, 50, 74, 60, 15, 3, 276, 3, 40, 30, 74, 17, 14, 218, 185, 32, 69, 182, 14, 235, 30, 253, 3, 51, 245, 80, 273, 0, 78, 29, 73, 16, 222, 31, 22, 24, 105, 4, 245, 177, 169, 38, 71, 53, 15, 140, 17, 21, 9, 367, 188, 15, 361, 18, 67, 14, 23, 16, 27, 1, 54, 33, 2, 365, 42, 72, 4, 3, 60, 46, 0, 75, 43, 255, 68, 134, 240, 226, 8, 8, 0, 36, 45, 84, 18, 2, 8, 18, 218, 77, 266, 8, 368, 14, 25, 261, 16, 90, 301, 25, 363, 45, 35, 51, 31, 51, 78, 52, 297, 171, 46, 28, 10, 86, 4, 24, 17, 44, 30, 372, 57, 371, 113, 214, 318, 64, 7, 96, 19, 184, 3, 293, 272, 30, 47, 259, 57, 32, 56, 67, 9, 59, 79, 73, 1, 99, 364, 9, 19, 122, 7, 3, 28, 281, 56, 0, 364, 88, 10, 162, 64, 22, 173, 102, 142, 98, 22, 191, 4, 360, 7, 13, 102, 2, 10, 95, 226, 15, 38, 50, 92, 156, 38, 183, 0, 227, 127, 39, 30, 196, 8, 36, 63, 42, 49, 42, 52, 186, 333, 3, 9, 23, 14, 365, 105, 59, 28, 140, 22, 21, 76, 4, 63, 11, 24, 30, 66, 66, 186, 37, 14, 34, 194, 1, 0, 366, 64, 298, 25, 7, 11, 115, 28, 3, 4, 81, 28, 63, 3, 22, 289, 35, 8, 23, 276, 48, 155, 60, 11, 20, 370, 115, 79, 3, 25, 4, 52, 0, 54, 25, 8, 51, 12, 211, 21, 235, 138, 3, 56, 122, 108, 29, 0, 184, 8, 238, 86, 38, 115, 186, 226, 7, 188, 3, 38, 2, 266, 76, 3, 254, 60, 12, 77, 16, 29, 2, 4, 6, 218, 10, 371, 29, 287, 149, 22, 0, 72, 45, 4, 50, 16, 29, 7, 28, 2, 40, 10, 30, 44, 60, 184, 78, 110, 63, 11, 85, 15, 245, 77, 29, 137, 26, 2, 31, 8, 112, 156, 84, 114, 2, 95, 193, 27, 128, 27, 81, 29, 265, 73, 313, 8, 58, 142, 11, 27, 113, 8, 17, 17, 35, 35, 77, 21, 24, 32, 108, 34, 122, 6, 27, 3, 2, 49, 317, 21, 8, 17, 9, 261, 158, 32, 28, 164, 46, 5, 7, 287, 317, 2, 232, 118, 161, 184, 49, 151, 334, 4, 15, 106, 15, 275, 15, 246, 238, 0, 105, 22, 51, 194, 23, 74, 17, 7, 31, 21, 30, 28, 21, 32, 283, 38, 49, 288, 74, 4, 217, 43, 201, 177, 55, 56, 7, 46, 226, 10, 105, 58, 27, 35, 273, 29, 23, 53, 35, 168, 53, 52, 26, 252, 39, 59, 233, 3, 31, 23, 6, 64, 309, 308, 18, 15, 95, 263, 11, 2, 34, 182, 24, 12, 10, 2, 312, 107, 0, 52, 204, 14, 119, 3, 362, 116, 17, 4, 40, 106, 147, 51, 207, 138, 1, 126, 107, 41, 34, 227, 240, 57, 129, 59, 21, 25, 8, 31, 3, 307, 7, 28, 16, 100, 11, 20, 14, 360, 10, 364, 94, 77, 138, 17, 24, 0, 45, 99, 7, 14, 17, 279, 13, 22, 123, 85, 300, 150, 16, 93, 8, 156, 354, 45, 14, 3, 85, 14, 178, 7, 35, 128, 50, 311, 23, 302, 10, 16, 48, 238, 0, 12, 237, 22, 72, 16, 40, 39, 218, 189, 70, 23, 10, 8, 64, 3, 18, 14, 7, 19, 77, 0, 163, 306, 218, 38, 21, 114, 125, 4, 35, 0, 329, 162, 184, 15, 11, 2, 43, 78, 29, 41, 10, 49, 15, 44, 18, 3, 71, 0, 120, 32, 312, 17, 87, 1, 1, 246, 147, 28, 176, 39, 144, 1, 7, 0, 17, 191, 203, 364, 126, 14, 42, 78, 22, 50, 15, 157, 9, 9, 15, 44, 190, 78, 73, 3, 64, 260, 58, 0, 0, 247, 7, 358, 75, 289, 16, 220, 8, 2, 205, 160, 69, 261, 57, 24, 2, 28, 71, 127, 30, 14, 308, 16, 53, 23, 1, 10, 360, 359, 0, 53, 0, 0, 120, 53, 279, 176, 29, 25, 8, 269, 42, 371, 217, 23, 196, 358, 42, 129, 0, 19, 205, 13, 94, 18, 13, 23, 7, 6, 331, 49, 70, 28, 242, 7, 190, 4, 252, 0, 235, 6, 108, 99, 59, 1, 72, 3, 84, 11, 22, 213, 17, 238, 1, 49, 216, 32, 40, 3, 52, 22, 56, 129, 173, 5, 311, 59, 20, 32, 14, 17, 80, 5, 169, 1, 30, 35, 8, 30, 275, 86, 119, 372, 0, 218, 64, 60, 134, 20, 11, 24, 28, 276, 10, 72, 10, 3, 140, 25, 18, 3, 65, 0, 42, 227, 15, 43, 0, 73, 0, 3, 1, 263, 52, 23, 9, 43, 16, 6, 29, 357, 126, 135, 141, 131, 37, 235, 260, 16, 252, 29, 34, 168, 2, 3, 184, 187, 169, 10, 44, 320, 200, 22, 231, 37, 25, 95, 126, 57, 15, 8, 3, 2, 78, 372, 38, 53, 1, 8, 8, 18, 11, 112, 3, 234, 99, 177, 4, 358, 0, 0, 18, 16, 21, 32, 262, 50, 158, 14, 7, 12, 198, 56, 10, 96, 254, 24, 20, 158, 71, 52, 84, 152, 73, 280, 26, 29, 24, 179, 39, 21, 21, 36, 81, 73, 10, 15, 3, 12, 13, 36, 3, 71, 190, 50, 4, 1, 32, 49, 2, 46, 41, 26, 41, 1, 302, 84, 80, 217, 301, 11, 184, 372, 1, 2, 5, 304, 368, 2, 323, 58, 12, 30, 142, 29, 106, 1, 204, 79, 184, 169, 43, 173, 364, 303, 2, 3, 11, 31, 128, 18, 211, 322, 161, 55, 224, 71, 43, 22, 172, 84, 158, 164, 28, 20, 70, 246, 373, 8, 309, 58, 3, 44, 87, 3, 63, 281, 0, 372, 132, 44, 10, 35, 133, 28, 51, 137, 4, 8, 159, 48, 130, 7, 232, 36, 146, 0, 71, 39, 4, 198, 248, 65, 116, 170, 20, 141, 31, 37, 37, 371, 373, 165, 210, 241, 51, 24, 14, 371, 28, 364, 35, 165, 144, 21, 55, 184, 11, 236, 224, 121, 281, 73, 36, 11, 361, 3, 22, 69, 234, 256, 372, 154, 27, 3, 31, 80, 107, 51, 35, 152, 98, 3, 333, 64, 21, 35, 31, 153, 18, 11, 53, 24, 3, 44, 202, 358, 65, 6, 287, 9, 8, 21, 172, 132, 5, 74, 39, 288, 25, 257, 154, 113, 373, 22, 7, 216, 44, 18, 35, 25, 15, 329, 273, 97, 60, 1, 92, 81, 311, 11, 7, 126, 10, 0, 36, 37, 329, 248, 1, 18, 11, 368, 289, 67, 25, 10, 367, 213, 148, 7, 23, 29, 60, 18, 242, 8, 210, 28, 62, 294, 16, 360, 150, 116, 7, 12, 140, 45, 50, 31, 134, 2, 74, 12, 8, 300, 56, 9, 30, 176, 3, 175, 60, 32, 58, 14, 86, 6, 353, 30, 113, 8, 4, 23, 217, 14, 248, 14, 77, 191, 261, 71, 150, 63, 94, 3, 105, 199, 156, 70, 35, 28, 1, 25, 325, 236, 88, 30, 28, 205, 2, 219, 21, 92, 1, 263, 2, 38, 217, 49, 11, 8, 191, 81, 325, 71, 29, 2, 218, 45, 9, 71, 6, 23, 113, 16, 300, 86, 50, 88, 354, 38, 24, 172, 42, 139, 22, 71, 133, 357, 37, 2, 1, 17, 20, 57, 73, 277, 180, 7, 3, 42], \"xaxis\": \"x\", \"yaxis\": \"y\"}],\n",
              "                        {\"barmode\": \"relative\", \"height\": 500, \"legend\": {\"tracegroupgap\": 0}, \"template\": {\"data\": {\"bar\": [{\"error_x\": {\"color\": \"#f2f5fa\"}, \"error_y\": {\"color\": \"#f2f5fa\"}, \"marker\": {\"line\": {\"color\": \"rgb(17,17,17)\", \"width\": 0.5}}, \"type\": \"bar\"}], \"barpolar\": [{\"marker\": {\"line\": {\"color\": \"rgb(17,17,17)\", \"width\": 0.5}}, \"type\": \"barpolar\"}], \"carpet\": [{\"aaxis\": {\"endlinecolor\": \"#A2B1C6\", \"gridcolor\": \"#506784\", \"linecolor\": \"#506784\", \"minorgridcolor\": \"#506784\", \"startlinecolor\": \"#A2B1C6\"}, \"baxis\": {\"endlinecolor\": \"#A2B1C6\", \"gridcolor\": \"#506784\", \"linecolor\": \"#506784\", \"minorgridcolor\": \"#506784\", \"startlinecolor\": \"#A2B1C6\"}, \"type\": \"carpet\"}], \"choropleth\": [{\"colorbar\": {\"outlinewidth\": 0, \"ticks\": \"\"}, \"type\": \"choropleth\"}], \"contour\": [{\"colorbar\": {\"outlinewidth\": 0, \"ticks\": \"\"}, \"colorscale\": [[0.0, \"#0d0887\"], [0.1111111111111111, \"#46039f\"], [0.2222222222222222, \"#7201a8\"], [0.3333333333333333, \"#9c179e\"], [0.4444444444444444, \"#bd3786\"], [0.5555555555555556, \"#d8576b\"], [0.6666666666666666, \"#ed7953\"], [0.7777777777777778, \"#fb9f3a\"], [0.8888888888888888, \"#fdca26\"], [1.0, \"#f0f921\"]], \"type\": \"contour\"}], \"contourcarpet\": [{\"colorbar\": {\"outlinewidth\": 0, \"ticks\": \"\"}, \"type\": \"contourcarpet\"}], \"heatmap\": [{\"colorbar\": {\"outlinewidth\": 0, \"ticks\": \"\"}, \"colorscale\": [[0.0, \"#0d0887\"], [0.1111111111111111, \"#46039f\"], [0.2222222222222222, \"#7201a8\"], [0.3333333333333333, \"#9c179e\"], [0.4444444444444444, \"#bd3786\"], [0.5555555555555556, \"#d8576b\"], [0.6666666666666666, \"#ed7953\"], [0.7777777777777778, \"#fb9f3a\"], [0.8888888888888888, \"#fdca26\"], [1.0, \"#f0f921\"]], \"type\": \"heatmap\"}], \"heatmapgl\": [{\"colorbar\": {\"outlinewidth\": 0, \"ticks\": \"\"}, \"colorscale\": [[0.0, \"#0d0887\"], [0.1111111111111111, \"#46039f\"], [0.2222222222222222, \"#7201a8\"], [0.3333333333333333, \"#9c179e\"], [0.4444444444444444, \"#bd3786\"], [0.5555555555555556, \"#d8576b\"], [0.6666666666666666, \"#ed7953\"], [0.7777777777777778, \"#fb9f3a\"], [0.8888888888888888, \"#fdca26\"], [1.0, \"#f0f921\"]], \"type\": \"heatmapgl\"}], \"histogram\": [{\"marker\": {\"colorbar\": {\"outlinewidth\": 0, \"ticks\": \"\"}}, \"type\": \"histogram\"}], \"histogram2d\": [{\"colorbar\": {\"outlinewidth\": 0, \"ticks\": \"\"}, \"colorscale\": [[0.0, \"#0d0887\"], [0.1111111111111111, \"#46039f\"], [0.2222222222222222, \"#7201a8\"], [0.3333333333333333, \"#9c179e\"], [0.4444444444444444, \"#bd3786\"], [0.5555555555555556, \"#d8576b\"], [0.6666666666666666, \"#ed7953\"], [0.7777777777777778, \"#fb9f3a\"], [0.8888888888888888, \"#fdca26\"], [1.0, \"#f0f921\"]], \"type\": \"histogram2d\"}], \"histogram2dcontour\": [{\"colorbar\": {\"outlinewidth\": 0, \"ticks\": \"\"}, \"colorscale\": [[0.0, \"#0d0887\"], [0.1111111111111111, \"#46039f\"], [0.2222222222222222, \"#7201a8\"], [0.3333333333333333, \"#9c179e\"], [0.4444444444444444, \"#bd3786\"], [0.5555555555555556, \"#d8576b\"], [0.6666666666666666, \"#ed7953\"], [0.7777777777777778, \"#fb9f3a\"], [0.8888888888888888, \"#fdca26\"], [1.0, \"#f0f921\"]], \"type\": \"histogram2dcontour\"}], \"mesh3d\": [{\"colorbar\": {\"outlinewidth\": 0, \"ticks\": \"\"}, \"type\": \"mesh3d\"}], \"parcoords\": [{\"line\": {\"colorbar\": {\"outlinewidth\": 0, \"ticks\": \"\"}}, \"type\": \"parcoords\"}], \"pie\": [{\"automargin\": true, \"type\": \"pie\"}], \"scatter\": [{\"marker\": {\"line\": {\"color\": \"#283442\"}}, \"type\": \"scatter\"}], \"scatter3d\": [{\"line\": {\"colorbar\": {\"outlinewidth\": 0, \"ticks\": \"\"}}, \"marker\": {\"colorbar\": {\"outlinewidth\": 0, \"ticks\": \"\"}}, \"type\": \"scatter3d\"}], \"scattercarpet\": [{\"marker\": {\"colorbar\": {\"outlinewidth\": 0, \"ticks\": \"\"}}, \"type\": \"scattercarpet\"}], \"scattergeo\": [{\"marker\": {\"colorbar\": {\"outlinewidth\": 0, \"ticks\": \"\"}}, \"type\": \"scattergeo\"}], \"scattergl\": [{\"marker\": {\"line\": {\"color\": \"#283442\"}}, \"type\": \"scattergl\"}], \"scattermapbox\": [{\"marker\": {\"colorbar\": {\"outlinewidth\": 0, \"ticks\": \"\"}}, \"type\": \"scattermapbox\"}], \"scatterpolar\": [{\"marker\": {\"colorbar\": {\"outlinewidth\": 0, \"ticks\": \"\"}}, \"type\": \"scatterpolar\"}], \"scatterpolargl\": [{\"marker\": {\"colorbar\": {\"outlinewidth\": 0, \"ticks\": \"\"}}, \"type\": \"scatterpolargl\"}], \"scatterternary\": [{\"marker\": {\"colorbar\": {\"outlinewidth\": 0, \"ticks\": \"\"}}, \"type\": \"scatterternary\"}], \"surface\": [{\"colorbar\": {\"outlinewidth\": 0, \"ticks\": \"\"}, \"colorscale\": [[0.0, \"#0d0887\"], [0.1111111111111111, \"#46039f\"], [0.2222222222222222, \"#7201a8\"], [0.3333333333333333, \"#9c179e\"], [0.4444444444444444, \"#bd3786\"], [0.5555555555555556, \"#d8576b\"], [0.6666666666666666, \"#ed7953\"], [0.7777777777777778, \"#fb9f3a\"], [0.8888888888888888, \"#fdca26\"], [1.0, \"#f0f921\"]], \"type\": \"surface\"}], \"table\": [{\"cells\": {\"fill\": {\"color\": \"#506784\"}, \"line\": {\"color\": \"rgb(17,17,17)\"}}, \"header\": {\"fill\": {\"color\": \"#2a3f5f\"}, \"line\": {\"color\": \"rgb(17,17,17)\"}}, \"type\": \"table\"}]}, \"layout\": {\"annotationdefaults\": {\"arrowcolor\": \"#f2f5fa\", \"arrowhead\": 0, \"arrowwidth\": 1}, \"coloraxis\": {\"colorbar\": {\"outlinewidth\": 0, \"ticks\": \"\"}}, \"colorscale\": {\"diverging\": [[0, \"#8e0152\"], [0.1, \"#c51b7d\"], [0.2, \"#de77ae\"], [0.3, \"#f1b6da\"], [0.4, \"#fde0ef\"], [0.5, \"#f7f7f7\"], [0.6, \"#e6f5d0\"], [0.7, \"#b8e186\"], [0.8, \"#7fbc41\"], [0.9, \"#4d9221\"], [1, \"#276419\"]], \"sequential\": [[0.0, \"#0d0887\"], [0.1111111111111111, \"#46039f\"], [0.2222222222222222, \"#7201a8\"], [0.3333333333333333, \"#9c179e\"], [0.4444444444444444, \"#bd3786\"], [0.5555555555555556, \"#d8576b\"], [0.6666666666666666, \"#ed7953\"], [0.7777777777777778, \"#fb9f3a\"], [0.8888888888888888, \"#fdca26\"], [1.0, \"#f0f921\"]], \"sequentialminus\": [[0.0, \"#0d0887\"], [0.1111111111111111, \"#46039f\"], [0.2222222222222222, \"#7201a8\"], [0.3333333333333333, \"#9c179e\"], [0.4444444444444444, \"#bd3786\"], [0.5555555555555556, \"#d8576b\"], [0.6666666666666666, \"#ed7953\"], [0.7777777777777778, \"#fb9f3a\"], [0.8888888888888888, \"#fdca26\"], [1.0, \"#f0f921\"]]}, \"colorway\": [\"#636efa\", \"#EF553B\", \"#00cc96\", \"#ab63fa\", \"#FFA15A\", \"#19d3f3\", \"#FF6692\", \"#B6E880\", \"#FF97FF\", \"#FECB52\"], \"font\": {\"color\": \"#f2f5fa\"}, \"geo\": {\"bgcolor\": \"rgb(17,17,17)\", \"lakecolor\": \"rgb(17,17,17)\", \"landcolor\": \"rgb(17,17,17)\", \"showlakes\": true, \"showland\": true, \"subunitcolor\": \"#506784\"}, \"hoverlabel\": {\"align\": \"left\"}, \"hovermode\": \"closest\", \"mapbox\": {\"style\": \"dark\"}, \"paper_bgcolor\": \"rgb(17,17,17)\", \"plot_bgcolor\": \"rgb(17,17,17)\", \"polar\": {\"angularaxis\": {\"gridcolor\": \"#506784\", \"linecolor\": \"#506784\", \"ticks\": \"\"}, \"bgcolor\": \"rgb(17,17,17)\", \"radialaxis\": {\"gridcolor\": \"#506784\", \"linecolor\": \"#506784\", \"ticks\": \"\"}}, \"scene\": {\"xaxis\": {\"backgroundcolor\": \"rgb(17,17,17)\", \"gridcolor\": \"#506784\", \"gridwidth\": 2, \"linecolor\": \"#506784\", \"showbackground\": true, \"ticks\": \"\", \"zerolinecolor\": \"#C8D4E3\"}, \"yaxis\": {\"backgroundcolor\": \"rgb(17,17,17)\", \"gridcolor\": \"#506784\", \"gridwidth\": 2, \"linecolor\": \"#506784\", \"showbackground\": true, \"ticks\": \"\", \"zerolinecolor\": \"#C8D4E3\"}, \"zaxis\": {\"backgroundcolor\": \"rgb(17,17,17)\", \"gridcolor\": \"#506784\", \"gridwidth\": 2, \"linecolor\": \"#506784\", \"showbackground\": true, \"ticks\": \"\", \"zerolinecolor\": \"#C8D4E3\"}}, \"shapedefaults\": {\"line\": {\"color\": \"#f2f5fa\"}}, \"sliderdefaults\": {\"bgcolor\": \"#C8D4E3\", \"bordercolor\": \"rgb(17,17,17)\", \"borderwidth\": 1, \"tickwidth\": 0}, \"ternary\": {\"aaxis\": {\"gridcolor\": \"#506784\", \"linecolor\": \"#506784\", \"ticks\": \"\"}, \"baxis\": {\"gridcolor\": \"#506784\", \"linecolor\": \"#506784\", \"ticks\": \"\"}, \"bgcolor\": \"rgb(17,17,17)\", \"caxis\": {\"gridcolor\": \"#506784\", \"linecolor\": \"#506784\", \"ticks\": \"\"}}, \"title\": {\"x\": 0.05}, \"updatemenudefaults\": {\"bgcolor\": \"#506784\", \"borderwidth\": 0}, \"xaxis\": {\"automargin\": true, \"gridcolor\": \"#283442\", \"linecolor\": \"#506784\", \"ticks\": \"\", \"title\": {\"standoff\": 15}, \"zerolinecolor\": \"#283442\", \"zerolinewidth\": 2}, \"yaxis\": {\"automargin\": true, \"gridcolor\": \"#283442\", \"linecolor\": \"#506784\", \"ticks\": \"\", \"title\": {\"standoff\": 15}, \"zerolinecolor\": \"#283442\", \"zerolinewidth\": 2}}}, \"title\": {\"text\": \"Retention\"}, \"width\": 950, \"xaxis\": {\"anchor\": \"y\", \"domain\": [0.0, 1.0], \"title\": {\"text\": \"Retention\"}}, \"yaxis\": {\"anchor\": \"x\", \"domain\": [0.0, 1.0], \"title\": {\"text\": \"count\"}}},\n",
              "                        {\"responsive\": true}\n",
              "                    ).then(function(){\n",
              "                            \n",
              "var gd = document.getElementById('9e3457cf-ae5b-423c-bd61-01ed0e0b81f9');\n",
              "var x = new MutationObserver(function (mutations, observer) {{\n",
              "        var display = window.getComputedStyle(gd).display;\n",
              "        if (!display || display === 'none') {{\n",
              "            console.log([gd, 'removed!']);\n",
              "            Plotly.purge(gd);\n",
              "            observer.disconnect();\n",
              "        }}\n",
              "}});\n",
              "\n",
              "// Listen for the removal of the full notebook cells\n",
              "var notebookContainer = gd.closest('#notebook-container');\n",
              "if (notebookContainer) {{\n",
              "    x.observe(notebookContainer, {childList: true});\n",
              "}}\n",
              "\n",
              "// Listen for the clearing of the current output cell\n",
              "var outputEl = gd.closest('.output');\n",
              "if (outputEl) {{\n",
              "    x.observe(outputEl, {childList: true});\n",
              "}}\n",
              "\n",
              "                        })\n",
              "                };\n",
              "                \n",
              "            </script>\n",
              "        </div>\n",
              "</body>\n",
              "</html>"
            ]
          },
          "metadata": {
            "tags": []
          }
        }
      ]
    },
    {
      "cell_type": "code",
      "metadata": {
        "id": "gnmF0FxvPtR5",
        "colab_type": "code",
        "colab": {
          "base_uri": "https://localhost:8080/",
          "height": 202
        },
        "outputId": "0dc9be63-1a98-4de4-f87f-0f0e4d15eedd"
      },
      "source": [
        "data_user = pd.merge(data_user, last_purchase, on='CustomerID')\n",
        "data_user = data_user[['CustomerID', 'Retention']]\n",
        "data_user.head()"
      ],
      "execution_count": 27,
      "outputs": [
        {
          "output_type": "execute_result",
          "data": {
            "text/html": [
              "<div>\n",
              "<style scoped>\n",
              "    .dataframe tbody tr th:only-of-type {\n",
              "        vertical-align: middle;\n",
              "    }\n",
              "\n",
              "    .dataframe tbody tr th {\n",
              "        vertical-align: top;\n",
              "    }\n",
              "\n",
              "    .dataframe thead th {\n",
              "        text-align: right;\n",
              "    }\n",
              "</style>\n",
              "<table border=\"1\" class=\"dataframe\">\n",
              "  <thead>\n",
              "    <tr style=\"text-align: right;\">\n",
              "      <th></th>\n",
              "      <th>CustomerID</th>\n",
              "      <th>Retention</th>\n",
              "    </tr>\n",
              "  </thead>\n",
              "  <tbody>\n",
              "    <tr>\n",
              "      <th>0</th>\n",
              "      <td>17850</td>\n",
              "      <td>301</td>\n",
              "    </tr>\n",
              "    <tr>\n",
              "      <th>1</th>\n",
              "      <td>13047</td>\n",
              "      <td>31</td>\n",
              "    </tr>\n",
              "    <tr>\n",
              "      <th>2</th>\n",
              "      <td>13748</td>\n",
              "      <td>95</td>\n",
              "    </tr>\n",
              "    <tr>\n",
              "      <th>3</th>\n",
              "      <td>15100</td>\n",
              "      <td>329</td>\n",
              "    </tr>\n",
              "    <tr>\n",
              "      <th>4</th>\n",
              "      <td>15291</td>\n",
              "      <td>25</td>\n",
              "    </tr>\n",
              "  </tbody>\n",
              "</table>\n",
              "</div>"
            ],
            "text/plain": [
              "   CustomerID  Retention\n",
              "0       17850        301\n",
              "1       13047         31\n",
              "2       13748         95\n",
              "3       15100        329\n",
              "4       15291         25"
            ]
          },
          "metadata": {
            "tags": []
          },
          "execution_count": 27
        }
      ]
    },
    {
      "cell_type": "code",
      "metadata": {
        "id": "BESyvXtYV7IO",
        "colab_type": "code",
        "colab": {
          "base_uri": "https://localhost:8080/",
          "height": 542
        },
        "outputId": "8980f5d9-2ccb-470e-ed38-b7f0940b410d"
      },
      "source": [
        "px.scatter(data_user, x='CustomerID', y='Retention', template='plotly_dark',\n",
        "           color_discrete_sequence=['#03fcb5'])"
      ],
      "execution_count": 28,
      "outputs": [
        {
          "output_type": "display_data",
          "data": {
            "text/html": [
              "<html>\n",
              "<head><meta charset=\"utf-8\" /></head>\n",
              "<body>\n",
              "    <div>\n",
              "            <script src=\"https://cdnjs.cloudflare.com/ajax/libs/mathjax/2.7.5/MathJax.js?config=TeX-AMS-MML_SVG\"></script><script type=\"text/javascript\">if (window.MathJax) {MathJax.Hub.Config({SVG: {font: \"STIX-Web\"}});}</script>\n",
              "                <script type=\"text/javascript\">window.PlotlyConfig = {MathJaxConfig: 'local'};</script>\n",
              "        <script src=\"https://cdn.plot.ly/plotly-latest.min.js\"></script>    \n",
              "            <div id=\"5776b775-bee3-4a15-8adf-0fe1177d1996\" class=\"plotly-graph-div\" style=\"height:525px; width:100%;\"></div>\n",
              "            <script type=\"text/javascript\">\n",
              "                \n",
              "                    window.PLOTLYENV=window.PLOTLYENV || {};\n",
              "                    \n",
              "                if (document.getElementById(\"5776b775-bee3-4a15-8adf-0fe1177d1996\")) {\n",
              "                    Plotly.newPlot(\n",
              "                        '5776b775-bee3-4a15-8adf-0fe1177d1996',\n",
              "                        [{\"hoverlabel\": {\"namelength\": 0}, \"hovertemplate\": \"CustomerID=%{x}<br>Retention=%{y}\", \"legendgroup\": \"\", \"marker\": {\"color\": \"#03fcb5\", \"symbol\": \"circle\"}, \"mode\": \"markers\", \"name\": \"\", \"showlegend\": false, \"type\": \"scattergl\", \"x\": [17850, 13047, 13748, 15100, 15291, 14688, 17809, 15311, 14527, 16098, 18074, 17420, 16029, 16250, 17511, 17548, 13705, 13747, 13408, 13767, 17924, 13448, 15862, 15513, 16218, 14045, 14307, 17908, 17920, 12838, 13255, 16583, 18085, 13758, 13694, 15983, 14849, 17968, 16210, 17897, 17377, 16552, 17181, 17951, 14729, 12748, 15012, 12868, 17572, 14078, 14001, 15525, 14237, 17905, 15485, 16955, 15350, 15605, 18144, 15922, 14594, 15165, 16456, 17841, 17346, 17643, 17873, 13093, 12921, 13468, 17760, 16928, 16048, 16274, 14496, 14696, 16539, 17025, 13777, 17690, 12947, 17460, 18229, 14142, 17069, 13065, 14606, 16835, 15235, 13576, 18011, 13090, 15694, 14741, 13715, 14092, 17732, 12855, 15752, 17855, 14047, 17925, 13941, 17017, 14135, 13108, 15601, 13418, 14766, 15658, 14388, 14901, 18041, 15955, 15070, 16244, 15111, 14390, 16546, 15260, 13305, 14491, 14060, 15923, 16752, 17287, 15363, 12915, 15544, 15738, 16042, 17381, 15827, 14180, 13117, 16916, 17964, 14466, 17235, 16510, 17802, 15107, 17976, 14449, 15838, 16781, 17547, 13491, 16186, 17685, 17581, 15732, 13138, 15823, 17567, 15061, 16203, 15640, 15574, 16770, 17838, 17228, 14829, 17412, 14031, 14775, 12971, 15834, 17659, 15299, 15646, 13958, 14443, 16995, 13402, 18168, 17757, 14625, 13011, 13798, 15384, 14264, 13295, 16754, 16634, 18239, 14576, 13145, 14395, 14865, 15093, 16150, 17552, 14236, 17961, 14573, 17135, 17396, 14213, 12967, 14679, 15240, 18225, 13370, 16883, 12841, 16905, 17967, 16891, 14589, 14680, 17884, 14083, 13013, 14210, 16477, 16013, 17949, 16926, 17787, 14723, 17954, 17819, 15373, 16140, 17198, 17238, 15769, 14396, 14898, 16725, 16455, 13081, 15545, 17243, 15465, 15708, 13089, 16033, 13838, 15351, 18055, 15038, 18109, 13069, 16241, 14800, 16839, 16168, 16931, 16814, 13269, 14813, 17062, 14810, 16353, 18118, 13831, 13506, 17796, 15716, 18156, 15221, 16983, 17059, 16327, 17211, 17026, 15570, 15880, 16718, 15808, 17858, 16393, 14161, 17863, 16411, 16402, 15023, 17402, 15426, 15894, 15867, 14506, 15555, 13034, 15889, 15953, 16143, 16422, 12747, 15502, 14081, 17965, 14404, 13579, 13174, 15987, 17677, 13652, 17428, 16161, 16858, 18219, 14293, 14748, 16638, 17674, 13094, 15899, 15898, 17691, 17227, 15039, 15919, 13497, 15860, 14189, 15304, 14867, 14344, 16719, 15048, 15301, 14708, 16898, 14825, 18113, 17596, 15078, 14085, 17860, 13155, 15028, 16919, 17259, 17019, 14487, 16722, 15882, 14667, 16710, 16550, 15984, 17682, 16658, 17068, 15356, 17223, 16817, 13030, 17191, 15194, 14409, 16654, 16861, 16138, 13481, 13495, 17519, 17218, 17812, 14215, 15602, 17320, 16782, 12913, 17869, 13564, 14850, 15021, 13963, 17450, 17091, 17470, 17616, 15649, 14907, 17735, 16059, 17720, 15018, 14733, 13756, 14176, 13319, 15353, 18119, 17491, 14282, 13569, 15498, 14673, 13488, 16221, 15002, 15965, 15024, 17675, 13769, 16904, 16086, 13786, 13880, 13173, 15858, 15180, 14739, 16293, 17419, 16775, 16306, 16950, 17591, 12839, 13807, 16125, 15081, 18102, 16365, 17870, 14821, 16863, 13078, 13267, 13050, 15628, 14796, 16779, 13599, 13329, 18077, 14744, 17406, 15750, 13983, 13842, 13199, 14032, 17706, 16081, 16525, 14952, 17975, 16122, 13126, 15973, 16558, 16713, 16893, 15529, 18043, 16016, 17722, 17324, 17341, 14051, 15916, 16233, 16385, 15032, 17213, 18061, 13113, 16553, 13455, 14217, 17262, 14299, 18259, 17676, 16679, 18269, 15298, 18193, 13523, 12870, 15005, 15581, 15680, 13649, 17894, 13270, 14618, 14866, 13077, 13115, 13531, 13848, 13140, 15713, 17999, 15347, 17340, 13984, 15996, 14030, 16252, 16596, 16700, 16011, 17655, 16717, 14243, 12963, 15079, 14437, 12942, 15660, 18092, 15358, 18071, 13854, 13369, 17857, 17411, 14987, 14355, 17526, 14896, 14440, 13240, 14479, 16065, 17430, 16520, 15945, 15181, 15856, 13102, 14205, 17702, 15271, 13982, 15288, 17978, 16795, 16519, 17816, 13021, 16255, 17671, 17646, 16350, 12872, 17339, 18230, 16499, 15192, 14441, 15279, 16579, 15380, 17442, 17950, 12826, 17456, 17307, 15811, 13327, 17700, 13136, 15535, 15329, 15211, 15596, 16163, 16907, 17576, 14713, 14702, 13230, 13969, 17530, 15805, 17696, 17076, 17827, 16265, 17880, 13000, 17790, 14419, 14082, 17912, 15723, 16656, 14037, 14256, 14543, 16062, 18116, 16019, 18178, 18065, 13148, 12989, 14107, 15881, 16727, 15514, 13787, 17865, 17220, 16565, 16873, 14062, 15179, 18016, 14448, 15503, 17251, 16923, 14159, 17126, 15224, 14577, 17236, 17372, 16367, 12875, 17917, 16010, 17085, 13668, 14684, 17188, 15547, 15998, 14413, 18004, 13959, 16665, 15454, 15044, 17937, 14608, 17618, 14505, 18037, 13198, 13225, 15361, 15689, 14290, 13209, 13999, 14498, 15854, 16701, 16927, 17990, 14544, 17338, 17231, 17799, 14565, 16726, 17303, 14639, 17611, 17179, 17524, 17293, 17890, 17375, 17371, 17969, 15159, 13211, 15777, 14525, 13324, 13802, 13948, 13008, 14206, 16202, 16442, 18075, 15468, 16570, 14524, 18141, 16810, 14961, 17041, 16458, 16083, 16262, 17194, 14057, 14871, 13178, 18044, 16812, 16191, 14298, 17158, 14415, 16899, 16531, 16556, 16805, 16503, 17739, 13238, 12829, 13097, 12867, 15392, 13846, 14401, 16145, 17629, 14150, 13496, 13611, 16954, 17454, 17449, 17230, 15950, 15512, 17525, 13458, 14426, 16003, 13092, 13426, 15101, 17033, 13221, 14201, 17692, 15822, 16134, 17551, 18050, 14913, 15641, 13124, 17214, 15456, 15062, 12928, 15727, 17980, 15290, 17752, 15615, 17044, 13829, 17633, 13266, 17820, 15664, 17189, 17496, 16607, 13317, 13890, 17001, 15246, 16996, 15482, 16037, 14841, 16670, 16985, 16705, 16470, 14414, 15563, 12980, 16746, 14878, 16743, 17146, 12877, 15394, 14621, 15379, 14309, 17288, 14709, 15157, 17744, 16316, 15620, 15789, 16560, 13534, 17580, 14777, 15759, 14373, 18176, 15366, 14735, 16271, 18223, 15532, 16816, 16684, 14334, 16945, 14643, 15197, 14220, 13874, 18260, 17848, 17392, 14985, 13004, 14560, 12931, 13627, 14769, 15780, 17315, 16711, 15204, 17888, 17007, 15160, 13033, 13869, 14146, 16885, 17913, 14472, 17358, 16686, 18245, 17343, 18256, 16153, 12944, 15312, 14099, 14113, 13104, 17204, 13027, 17621, 17090, 14119, 15527, 18097, 15460, 15034, 15208, 17306, 14737, 13029, 16270, 13487, 17400, 17593, 13953, 14533, 14944, 17239, 14532, 15562, 15587, 13922, 13165, 13304, 13313, 16875, 16282, 12957, 14462, 13397, 13680, 15164, 17457, 14732, 14221, 14553, 13253, 17389, 15841, 16112, 13629, 16600, 15661, 16532, 15266, 14653, 16771, 17585, 15046, 13082, 15464, 18226, 18062, 17368, 14258, 15719, 13368, 17634, 16676, 16424, 18283, 13764, 13656, 14312, 13280, 15845, 16094, 13187, 16567, 14828, 16551, 16889, 16473, 13750, 15607, 15139, 17707, 18198, 18179, 17284, 13233, 14889, 14672, 13593, 13162, 13183, 17095, 12939, 15611, 17114, 15059, 16326, 17128, 14761, 17555, 16735, 16833, 17800, 16748, 14755, 16549, 13565, 15799, 18032, 13451, 14794, 18171, 16279, 17811, 16850, 14321, 15326, 17849, 13672, 14229, 13107, 16497, 16303, 15281, 13473, 14320, 17742, 16351, 13144, 15346, 15370, 14295, 16034, 17365, 15189, 14669, 18095, 15518, 15749, 14209, 15569, 17569, 13784, 13862, 16791, 16235, 14270, 16655, 16359, 16554, 15939, 14587, 14715, 14185, 14040, 14514, 15171, 14167, 17048, 17364, 13284, 16500, 12951, 15835, 18190, 13993, 14114, 15447, 16315, 14978, 16395, 15510, 13614, 13246, 15687, 16493, 13385, 15626, 15213, 14175, 18106, 15033, 14329, 16401, 16206, 13782, 12924, 16593, 13700, 13064, 13048, 18069, 13634, 16843, 17064, 17609, 15673, 14976, 13527, 15696, 15316, 15296, 17988, 12820, 13001, 14101, 14238, 17730, 13929, 14657, 13859, 18212, 14292, 13883, 18233, 17018, 14242, 12346, 13898, 16948, 16997, 15395, 13693, 13263, 14428, 17708, 14090, 15606, 15831, 13310, 14916, 17602, 14572, 13502, 14784, 15938, 17418, 14779, 15262, 17862, 16892, 17771, 15422, 14770, 16912, 15174, 14895, 17504, 16387, 16618, 17277, 14088, 17094, 14692, 12970, 17889, 17644, 17714, 12916, 17769, 14450, 16085, 13659, 15167, 15443, 14224, 13742, 17673, 14068, 13068, 14368, 15497, 13819, 14501, 14782, 17861, 18161, 15820, 18136, 16660, 13396, 12935, 16730, 14541, 13551, 15797, 15052, 14130, 15222, 13615, 13901, 13158, 14257, 15218, 15110, 14534, 15967, 16757, 12854, 18008, 18277, 14389, 13703, 15339, 16222, 14341, 13168, 16943, 17515, 17082, 14248, 13002, 16133, 13049, 14548, 13405, 14049, 16043, 15812, 13837, 17118, 14616, 14233, 17075, 16714, 13098, 17027, 17786, 16124, 16409, 13754, 15227, 12997, 15215, 16918, 16882, 16496, 17311, 15910, 16949, 14970, 14701, 16767, 14738, 17540, 14239, 18125, 13328, 15549, 15864, 14662, 17180, 15057, 13330, 13552, 12853, 13538, 16755, 14133, 16523, 14659, 13141, 15365, 13707, 13709, 17329, 14805, 16897, 15579, 14595, 13161, 15415, 17431, 17463, 14502, 15448, 17314, 17373, 18145, 14467, 12908, 15144, 14776, 16403, 16407, 17619, 17256, 17604, 14006, 13600, 15058, 17147, 13881, 16612, 14627, 17356, 12836, 13939, 16745, 13606, 13494, 12929, 16419, 17035, 15203, 16515, 18202, 14549, 15981, 16110, 17376, 13110, 16716, 15940, 15971, 14665, 14457, 15589, 14411, 17560, 15226, 14460, 16156, 13728, 14127, 16378, 13894, 13824, 18250, 15270, 14188, 18017, 15421, 17446, 14798, 12990, 16992, 17337, 16405, 17071, 13873, 17362, 13394, 16333, 16030, 14044, 13800, 17672, 13581, 14540, 13539, 15885, 14497, 17507, 13208, 17334, 13871, 16938, 17929, 14778, 17517, 17226, 13137, 13725, 13309, 12842, 16109, 17291, 15090, 15199, 13911, 14194, 14842, 13584, 17105, 14438, 12956, 15781, 14410, 14600, 17302, 17613, 13334, 13955, 17162, 17774, 15407, 15577, 16332, 14048, 14475, 17859, 15753, 14562, 16951, 16998, 13133, 17881, 15843, 17083, 15970, 13590, 17537, 17843, 13706, 17940, 17686, 14431, 15809, 14465, 18093, 16027, 12857, 16425, 16842, 15796, 14555, 15114, 15133, 17705, 18087, 12897, 17512, 15550, 14676, 18159, 14304, 15638, 12943, 13875, 15406, 18084, 17282, 16434, 17050, 13171, 17472, 17255, 16084, 17667, 14631, 13381, 15236, 13475, 13717, 13157, 14644, 12993, 17571, 16979, 16738, 15122, 17612, 17348, 13893, 14035, 13623, 14346, 16431, 16317, 16073, 14477, 14760, 14897, 15810, 16509, 14386, 14530, 15670, 16126, 14609, 13414, 12823, 16494, 14959, 16148, 17422, 17175, 18257, 13018, 13718, 15382, 14754, 13151, 13085, 15903, 15785, 18138, 14379, 14211, 14371, 13425, 12852, 15228, 13012, 16182, 13489, 13904, 15755, 13932, 13799, 13951, 16765, 18172, 16566, 12891, 16466, 16115, 14162, 13301, 14803, 13744, 12988, 17323, 18094, 15129, 17361, 18155, 15321, 13477, 15065, 16980, 15146, 13410, 13044, 16441, 16014, 14520, 17994, 13038, 17002, 15722, 16349, 16913, 18114, 15303, 12845, 18188, 16045, 16573, 13421, 18196, 13285, 13184, 18151, 13804, 17499, 15397, 14276, 13453, 16394, 17711, 13865, 16940, 14289, 16208, 17063, 13149, 18068, 15932, 16692, 15590, 17171, 18231, 14004, 17139, 14513, 13118, 15974, 17830, 14231, 17867, 14880, 15121, 17117, 12945, 18056, 16072, 16838, 15543, 13751, 15847, 13851, 13345, 13870, 17034, 16592, 15712, 13362, 14470, 17388, 16841, 13753, 13666, 14481, 13792, 17663, 13973, 15990, 13684, 13261, 16598, 14147, 15951, 13971, 17516, 13630, 14157, 13636, 13610, 14745, 14036, 16057, 15724, 13675, 14227, 16668, 16667, 13509, 15874, 16187, 16339, 14046, 13292, 16427, 14056, 15656, 16518, 17165, 17462, 14620, 14740, 16462, 16078, 16915, 15676, 15709, 15241, 12933, 15092, 15319, 16212, 15257, 14656, 13884, 13166, 16389, 15416, 15733, 16678, 12834, 13722, 15067, 16128, 17770, 15622, 14473, 15104, 15643, 16792, 15031, 15636, 12873, 17923, 16217, 17738, 17426, 16957, 16571, 14483, 15087, 16709, 17856, 15053, 18218, 16159, 17995, 17374, 17789, 17416, 17652, 13476, 15393, 13014, 13931, 13382, 15220, 14570, 14447, 13557, 16449, 17325, 14995, 16414, 15681, 14670, 15675, 17535, 15400, 14903, 14499, 18211, 14504, 15572, 17107, 14247, 15554, 14915, 16136, 18280, 13344, 16621, 16225, 14214, 14012, 16356, 17654, 15026, 16517, 14817, 17092, 16242, 15869, 17817, 15234, 15764, 15806, 15819, 14586, 15944, 13340, 16917, 14407, 13908, 13975, 14730, 14367, 13373, 16712, 17639, 16426, 16495, 14336, 14507, 17049, 15206, 14013, 14645, 15071, 14112, 13026, 12881, 17864, 17138, 16572, 14165, 15367, 14291, 15632, 14297, 13899, 16471, 18183, 14603, 18173, 14854, 16625, 14064, 15308, 18086, 14350, 16080, 14727, 16778, 14077, 16808, 16475, 13265, 15049, 18149, 13654, 16652, 16766, 16801, 17164, 13226, 13043, 14352, 17351, 16768, 16693, 13956, 13708, 15918, 15671, 14962, 16807, 15125, 16871, 12901, 13452, 15493, 16005, 16804, 13499, 15047, 14193, 17542, 17080, 16392, 15106, 16214, 13716, 15150, 16061, 14226, 13121, 16297, 12994, 16152, 14636, 16040, 15793, 13358, 12849, 15182, 13299, 16383, 15381, 15030, 12955, 18189, 13946, 17716, 13185, 14840, 13216, 13650, 13533, 13268, 15433, 12937, 17603, 16216, 16377, 16976, 18210, 13631, 14422, 15648, 17725, 15861, 13072, 15695, 14110, 14059, 16672, 16511, 16256, 13591, 14066, 15483, 16626, 15019, 18270, 14315, 17921, 14041, 17060, 16023, 17133, 12878, 14155, 17043, 13046, 14633, 12948, 15703, 14071, 17134, 17795, 12902, 16444, 14232, 14693, 16728, 16096, 13985, 13592, 15140, 12843, 14408, 15408, 15445, 15452, 14223, 16619, 14762, 13934, 15669, 16384, 18224, 14245, 17678, 15855, 16036, 17763, 13262, 17152, 14632, 13900, 14875, 15132, 17272, 16135, 12831, 15437, 16809, 14711, 14377, 16374, 13196, 15457, 16721, 17733, 17102, 15410, 13239, 15449, 14870, 13821, 17096, 18191, 14461, 13132, 16859, 15245, 17486, 16308, 14607, 13249, 15644, 14075, 17250, 17966, 14129, 15651, 13035, 13341, 13512, 16620, 17698, 14267, 13736, 16022, 14235, 16769, 17754, 16063, 15178, 14348, 15815, 13695, 17979, 13139, 14758, 14536, 13662, 17946, 13743, 18078, 16780, 18273, 15045, 17625, 13357, 16777, 14476, 16245, 17765, 15083, 18010, 15249, 13760, 15624, 17749, 15068, 14538, 14851, 14021, 13037, 18177, 14128, 17874, 17719, 17931, 13803, 17398, 15906, 16253, 13439, 12888, 13588, 15521, 13720, 15674, 17594, 17775, 13988, 16657, 15424, 13316, 16788, 16584, 15364, 18108, 14272, 15980, 15832, 16092, 15528, 16398, 17088, 17438, 13060, 14790, 14890, 16386, 14818, 13571, 12909, 16698, 16681, 13573, 14957, 13918, 17212, 17781, 14886, 13626, 16609, 16180, 13462, 18263, 16960, 13841, 17701, 12949, 14852, 13169, 16162, 15691, 14195, 13781, 17758, 14023, 17669, 16142, 17648, 13059, 16224, 15223, 17886, 13294, 15289, 18185, 17956, 15756, 14747, 14719, 13015, 16586, 16105, 14546, 15442, 16906, 14535, 16170, 15244, 16696, 15145, 17492, 13525, 17409, 17783, 13863, 13515, 15917, 17440, 17045, 17140, 15201, 14964, 16031, 14403, 17042, 13771, 17906, 18272, 16144, 13731, 15530, 13950, 13752, 13892, 14446, 16209, 15754, 13712, 15800, 16469, 13005, 14981, 17928, 16261, 17883, 14619, 13995, 16643, 14246, 18040, 16837, 15119, 16325, 14924, 15109, 16623, 12999, 13962, 18036, 14958, 13562, 15775, 17054, 17268, 13548, 13508, 13570, 13232, 18129, 13632, 15665, 17550, 15655, 14286, 16188, 15214, 17574, 15737, 18080, 14311, 14339, 12982, 14273, 13549, 15414, 13203, 14628, 14326, 15935, 13655, 12910, 13577, 15251, 14111, 17160, 16172, 17972, 14844, 17278, 15212, 16729, 14998, 13484, 16697, 18236, 13740, 16454, 15230, 15134, 16309, 13544, 14262, 13134, 17589, 16097, 13122, 16966, 17746, 16175, 14834, 16348, 15147, 16131, 15813, 17058, 17704, 16933, 13772, 16249, 14198, 13989, 17930, 14154, 14482, 14163, 14105, 17601, 17142, 15135, 16806, 13952, 13120, 13516, 14323, 18079, 14700, 15027, 17367, 18213, 17029, 13220, 15985, 16193, 15172, 13692, 15745, 17582, 13474, 17697, 16639, 16947, 15491, 16617, 15265, 16226, 18009, 16399, 14623, 15625, 18064, 15508, 16628, 13647, 15594, 13479, 13735, 13376, 15717, 13719, 16633, 13101, 15225, 14152, 15436, 17217, 17734, 14905, 14148, 16103, 14626, 14868, 18246, 13485, 15517, 17115, 17120, 16611, 15912, 17588, 14759, 16185, 13389, 17631, 17061, 17718, 17630, 13223, 16146, 17109, 16587, 16750, 13482, 14512, 17670, 16834, 16942, 14640, 16823, 15237, 17854, 18220, 17436, 16965, 12840, 15891, 17187, 13637, 17991, 16418, 16099, 15768, 16637, 14240, 15143, 13229, 14973, 14271, 15952, 16227, 17893, 14022, 15210, 16370, 15376, 14655, 17615, 16055, 14149, 17501, 14191, 13282, 15582, 16230, 18146, 15976, 12886, 17974, 13524, 17955, 15128, 16610, 17394, 14173, 16258, 14948, 17384, 16990, 13762, 14340, 17429, 13711, 14515, 16457, 17527, 14199, 13888, 14423, 14697, 17522, 13867, 17624, 14393, 17578, 13450, 17423, 18241, 15668, 16319, 15757, 17174, 13365, 18227, 14145, 18235, 13741, 16832, 15258, 15552, 18170, 13723, 14005, 15561, 16121, 18142, 13642, 15117, 13561, 15704, 16007, 16232, 17410, 13835, 13427, 14353, 13003, 16756, 16440, 18120, 17723, 14699, 12821, 13055, 13320, 16357, 18242, 15865, 17597, 14397, 13242, 14288, 15063, 14591, 13990, 12749, 14691, 16229, 14920, 17489, 13404, 15729, 16644, 14731, 15187, 13052, 18133, 17664, 14649, 13235, 14883, 12976, 14681, 14421, 16116, 14988, 15489, 14364, 16006, 16184, 17932, 18221, 14853, 17658, 17764, 14651, 14000, 13601, 17970, 15826, 15907, 14342, 14873, 14689, 15440, 16076, 15333, 16283, 17263, 16877, 16642, 12871, 14038, 14489, 14888, 17190, 13456, 17898, 13976, 16139, 15730, 16266, 15123, 17505, 16446, 17556, 14583, 16818, 13572, 14009, 13258, 14463, 13192, 16987, 13417, 17047, 15116, 17469, 16647, 15630, 17245, 16008, 17871, 13529, 15599, 16813, 14859, 16463, 15791, 13658, 13887, 14551, 17166, 17926, 13391, 17455, 13308, 13856, 13243, 15095, 18048, 18287, 18150, 16690, 13555, 16038, 13972, 13227, 13657, 17176, 14837, 14682, 14921, 16341, 14647, 15292, 15705, 13339, 13885, 13546, 17715, 18160, 15434, 15734, 13737, 13213, 18018, 15314, 17521, 15042, 12863, 16091, 15804, 14593, 14287, 16763, 14705, 14522, 16448, 14584, 12974, 12987, 14816, 15852, 16624, 18232, 18073, 16369, 14280, 13135, 17345, 16275, 14338, 15402, 16323, 14451, 14823, 15897, 17051, 15925, 15863, 16483, 13398, 13070, 14819, 15163, 18204, 15124, 16969, 14597, 13917, 13062, 16484, 15184, 18135, 14453, 17900, 13437, 16529, 17531, 16239, 14500, 16117, 13248, 16967, 15405, 16659, 16880, 13435, 13131, 14891, 16682, 15453, 16963, 13682, 15152, 15462, 15349, 16849, 15073, 16298, 18248, 15386, 17252, 14542, 16825, 18072, 13643, 15969, 13283, 17015, 14375, 17124, 17987, 13395, 15743, 17414, 14622, 15609, 14561, 16872, 16358, 15238, 13466, 17360, 13510, 14241, 14132, 14963, 17169, 15252, 17731, 16113, 16107, 17483, 15679, 13686, 16581, 15267, 17234, 17797, 16614, 15411, 14178, 15098, 18281, 14984, 17265, 13617, 17242, 17289, 16018, 14704, 16794, 13761, 13517, 13936, 16342, 14177, 16205, 15036, 13589, 17579, 15069, 17349, 13080, 13663, 14503, 16774, 13384, 17101, 14997, 17155, 16461, 13343, 18165, 17536, 16324, 17651, 14222, 15585, 17490, 16739, 16276, 17193, 16257, 14285, 17642, 13826, 13575, 17157, 16852, 15219, 15014, 14765, 16869, 15909, 13618, 16050, 17879, 17562, 15334, 13568, 14820, 16744, 15700, 17299, 12837, 15076, 15921, 15747, 15840, 15016, 14808, 12904, 15825, 15389, 15280, 17159, 12830, 15507, 18252, 16526, 17695, 12930, 14960, 17960, 15412, 13763, 13849, 16114, 13420, 13780, 17877, 16247, 15041, 16287, 12919, 15130, 17370, 17709, 15253, 13300, 17759, 13937, 15850, 15186, 13791, 14795, 17768, 18112, 17386, 14104, 17110, 13895, 16545, 16671, 14351, 17391, 16824, 17750, 16200, 17997, 14383, 13461, 17408, 15537, 14327, 17837, 15578, 15584, 13745, 16498, 17891, 17123, 16866, 13730, 16589, 12922, 16009, 14053, 17939, 17312, 13833, 17899, 15007, 17464, 18265, 16344, 13338, 17024, 14034, 18203, 16616, 16338, 17046, 13109, 16829, 13217, 14002, 12977, 13291, 13583, 16929, 17892, 15505, 14459, 18013, 13681, 13699, 14493, 13486, 13302, 16012, 17031, 18121, 15901, 14918, 15920, 17353, 18024, 15467, 16174, 13678, 14690, 13058, 14552, 13224, 16989, 13207, 18122, 17405, 13311, 15051, 15895, 15795, 13669, 16450, 13667, 14400, 14847, 14862, 16488, 15256, 14716, 13933, 14857, 15306, 15839, 13994, 17554, 14332, 17266, 17948, 15004, 14722, 13507, 13967, 16054, 12833, 16474, 17984, 17448, 16762, 15369, 13154, 13940, 14029, 14117, 13167, 17779, 13991, 18101, 17065, 13827, 16764, 18180, 17866, 15802, 17229, 14456, 16464, 17962, 16149, 14259, 18143, 17935, 14517, 17694, 17660, 16041, 15623, 15829, 15232, 13079, 18262, 13563, 15506, 16305, 12864, 17724, 17703, 13116, 14019, 17649, 16178, 17040, 14100, 16557, 13296, 16364, 17693, 15372, 15618, 13930, 13379, 13194, 16447, 14305, 14331, 15261, 15105, 18268, 14855, 13925, 18237, 15639, 15118, 15746, 15942, 14143, 15120, 16147, 13277, 18127, 15149, 18081, 14511, 15776, 12981, 13106, 13928, 14885, 13388, 15438, 17173, 17941, 14947, 17053, 12844, 14567, 12828, 16984, 13023, 17553, 13075, 15342, 17788, 13850, 14076, 13805, 17887, 13186, 15374, 17656, 16102, 15089, 14972, 17514, 12917, 14768, 17584, 15254, 18099, 15205, 13218, 17267, 16302, 13513, 14720, 18282, 13200, 14079, 17298, 14024, 16066, 15198, 12885, 17331, 13016, 13500, 15247, 13355, 16053, 16292, 14116, 14495, 15494, 15608, 17248, 17653, 13645, 15469, 13307, 17122, 14406, 15683, 14301, 14658, 13621, 16272, 17958, 16836, 16961, 16902, 15706, 15315, 15653, 13159, 13189, 17637, 13470, 15786, 15541, 16734, 16706, 17070, 12962, 13273, 17736, 15472, 16582, 17747, 15396, 16828, 14712, 12991, 14772, 12968, 16330, 15701, 14529, 16536, 15313, 15801, 16201, 16555, 16952, 14387, 17073, 18147, 14523, 14418, 16968, 16723, 13411, 16340, 13236, 14196, 15263, 14314, 16093, 14687, 14050, 16429, 14055, 15663, 18200, 18167, 13644, 17451, 16641, 14141, 15074, 17183, 15325, 13778, 14869, 14096, 14108, 15866, 14660, 13726, 15690, 17777, 16278, 13276, 13147, 13045, 13099, 14420, 14436, 18027, 12832, 16674, 16173, 14171, 13434, 16761, 14067, 13808, 12851, 14965, 15136, 16629, 18261, 15307, 16820, 17309, 13949, 14360, 16400, 14208, 13130, 13210, 17481, 17573, 14452, 13889, 15488, 18222, 13244, 17004, 13441, 13823, 12879, 16603, 14824, 16910, 15652, 16362, 15035, 14508, 13272, 17317, 14212, 13372, 18255, 14250, 16796, 14432, 15782, 12883, 12965, 15533, 18215, 18158, 13375, 13431, 16211, 12884, 16141, 17919, 16360, 17433, 13704, 14020, 14359, 16451, 12940, 15216, 15522, 17037, 12822, 15343, 14753, 16959, 18251, 13032, 12895, 17640, 13860, 18001, 17728, 15933, 14284, 17347, 15103, 15707, 13430, 13321, 13877, 15272, 15322, 17333, 13518, 14306, 17679, 16160, 15573, 14894, 17434, 15466, 15511, 17846, 16189, 15417, 12995, 14557, 16108, 17144, 16924, 15099, 13323, 14124, 15975, 15523, 16878, 15947, 13247, 13566, 18194, 16689, 16438, 13067, 16460, 13325, 13774, 15504, 15500, 17557, 13228, 14356, 13416, 17628, 16527, 16428, 15341, 16215, 14164, 15888, 17564, 13356, 18228, 17415, 13350, 16627, 17475, 14951, 14780, 14887, 15399, 17466, 16379, 17172, 15239, 16213, 15603, 14261, 15571, 15484, 12936, 16236, 16669, 15398, 12906, 17079, 14125, 17163, 12952, 13279, 16715, 13519, 15744, 13127, 15714, 17480, 15763, 15075, 16978, 14014, 16240, 13336, 14652, 15807, 15762, 15475, 15978, 16485, 13083, 16169, 17506, 16480, 17006, 17498, 17131, 13536, 15429, 17154, 16594, 16049, 14757, 16198, 13670, 18066, 14806, 13429, 15154, 13390, 12925, 13927, 18205, 14908, 13639, 15958, 15492, 15243, 16468, 15344, 13866, 16999, 13514, 13314, 17805, 18278, 13979, 16181, 15568, 16354, 14412, 16119, 14109, 16157, 15348, 16281, 13924, 14434, 13061, 17513, 16909, 16650, 18192, 17447, 17427, 15175, 13960, 17528, 16361, 13886, 13354, 15050, 13503, 16653, 16574, 13759, 17813, 15949, 13364, 16268, 18053, 16101, 15565, 18217, 13954, 15593, 13095, 15287, 13347, 15185, 16404, 16613, 16591, 15774, 13558, 16930, 16533, 18059, 14488, 16747, 14333, 13635, 17330, 17321, 14815, 15091, 15088, 15930, 16183, 13297, 13801, 16881, 17014, 15255, 14184, 13351, 15739, 17957, 15276, 15127, 16106, 17666, 13483, 16478, 17382, 16020, 17222, 16803, 13947, 16758, 17647, 14054, 18033, 13845, 15837, 13177, 14317, 16295, 13602, 16895, 17295, 13504, 13422, 15264, 16432, 14518, 13882, 15937, 12923, 17453, 15766, 15300, 13348, 14592, 14792, 17030, 14427, 13359, 14138, 15297, 13876, 17086, 13806, 18096, 13587, 12856, 13419, 17509, 16900, 13689, 13755, 16104, 13259, 16248, 15612, 15787, 16595, 13260, 15821, 18088, 16685, 13193, 13212, 14801, 16380, 16921, 15193, 14027, 16179, 15473, 17425, 18169, 18126, 16688, 16982, 15330, 17186, 13685, 16776, 13980, 13352, 15553, 15886, 17203, 17459, 16561, 14121, 17119, 17620, 12824, 14710, 16120, 14624, 16171, 13690, 17934, 14642, 16753, 17737, 13464, 14537, 17279, 14251, 14234, 14975, 13853, 16773, 16430, 16793, 18130, 17614, 13858, 14856, 14089, 15478, 16413, 16416, 13006, 17986, 14910, 16243, 13878, 16934, 15994, 14547, 16052, 15113, 16542, 18042, 16563, 17201, 17520, 13923, 16412, 17205, 17534, 15335, 16737, 15066, 17206, 17785, 16932, 16363, 14830, 17244, 15355, 15598, 15637, 16848, 15678, 14015, 13594, 15327, 14861, 14554, 14179, 15604, 14381, 16123, 16851, 17148, 17549, 17973, 15610, 15853, 18019, 14698, 16826, 17824, 15803, 15006, 17350, 14799, 15814, 16260, 14638, 17354, 13245, 14923, 16177, 13366, 16284, 16846, 14484, 13897, 14585, 17125, 15836, 16313, 13460, 14967, 15286, 17832, 16015, 16311, 15728, 15740, 13974, 15677, 15000, 16017, 13471, 13598, 18005, 15427, 15022, 17111, 17836, 14629, 15592, 15277, 16491, 15516, 14764, 16742, 15142, 17344, 18240, 17081, 14474, 14139, 15844, 13176, 15345, 16708, 15963, 18045, 13182, 15158, 13028, 13978, 16056, 16071, 14539, 14550, 17712, 14102, 14598, 15320, 16415, 12827, 16345, 15993, 17895, 15948, 15659, 18154, 13363, 18276, 17684, 17878, 14752, 16847, 14971, 17545, 16026, 16513, 14357, 16855, 16680, 18035, 16648, 16164, 14218, 15096, 18030, 14416, 17839, 16601, 12912, 13278, 14582, 15748, 16079, 17590, 15054, 14158, 15385, 16506, 13822, 18067, 16190, 15444, 13607, 15360, 13103, 15667, 13651, 16127, 15977, 13697, 14345, 17503, 16830, 17495, 14485, 13868, 15423, 17668, 16971, 16352, 16884, 15830, 14216, 15275, 16790, 15576, 18105, 18164, 14974, 17947, 13318, 18104, 13271, 17595, 14528, 17432, 16337, 14098, 15551, 16347, 13721, 16322, 17403, 16914, 16602, 13914, 13467, 17221, 17078, 13447, 15010, 18022, 16318, 17274, 15597, 17233, 16887, 13938, 17084, 14882, 15017, 12882, 17387, 13727, 13532, 16445, 15156, 16372, 17608, 14174, 14039, 13040, 15883, 14664, 15526, 17831, 15025, 17761, 15870, 14080, 17623, 13673, 14073, 16070, 13066, 14929, 13710, 16732, 14140, 17219, 16505, 15957, 18123, 15043, 17313, 18216, 17022, 15153, 16759, 16751, 12893, 14836, 17011, 17038, 14968, 16516, 13522, 15986, 13992, 14354, 16986, 16953, 18274, 15450, 15531, 17500, 17197, 16025, 17461, 17791, 15463, 17977, 14863, 16903, 17502, 17901, 14789, 18209, 12985, 15557, 16433, 15692, 17052, 16368, 18014, 13732, 13091, 14661, 13170, 15654, 13146, 14788, 13603, 14382, 16720, 14904, 14494, 14902, 16936, 12938, 15168, 17538, 18082, 18117, 15458, 17566, 16207, 17793, 14953, 16504, 15009, 16423, 15419, 17510, 15758, 15524, 14725, 14666, 14714, 17153, 12950, 15720, 18181, 15556, 17357, 12890, 13449, 15269, 14385, 15900, 17680, 13926, 16204, 17896, 17835, 15432, 18006, 15657, 17237, 13160, 12847, 17397, 17985, 14362, 13828, 15435, 14641, 15621, 18034, 17286, 17904, 17301, 15368, 14793, 17650, 14881, 16784, 14052, 18110, 17561, 15988, 17523, 14950, 16666, 14860, 17636, 13832, 13142, 16366, 14300, 15567, 15645, 16406, 15857, 12984, 17253, 13739, 18139, 15274, 17010, 15115, 17100, 15699, 13403, 16956, 17600, 15877, 14424, 13322, 17297, 13986, 12920, 18249, 15634, 16376, 16811, 14581, 14675, 17290, 16343, 13638, 16482, 17458, 14785, 17254, 17767, 15725, 17247, 18184, 15428, 17727, 14756, 16856, 14703, 17385, 15872, 14966, 17232, 17468, 13332, 14946, 13256, 13596, 16024, 14954, 17885, 14093, 14893, 15721, 17852, 13844, 15540, 17379, 16800, 17806, 17359, 13188, 14480, 13349, 15619, 15148, 14601, 15783, 17772, 14126, 16479, 13428, 15790, 13521, 14349, 18058, 12953, 12966, 15060, 17911, 14804, 15904, 16789, 17942, 13560, 15539, 13017, 18174, 13153, 15773, 17936, 16535, 16988, 15097, 18015, 16597, 13790, 14219, 17383, 15992, 15318, 17914, 16528, 16569, 14578, 16000, 15195, 14087, 14204, 15471, 13436, 15520, 13298, 14569], \"xaxis\": \"x\", \"y\": [301, 31, 95, 329, 25, 7, 15, 0, 2, 87, 373, 49, 38, 260, 2, 217, 7, 373, 1, 1, 0, 16, 7, 30, 29, 108, 88, 373, 3, 33, 3, 373, 329, 11, 3, 21, 21, 373, 1, 172, 23, 242, 56, 39, 373, 0, 53, 185, 70, 101, 45, 1, 372, 70, 29, 184, 372, 35, 7, 371, 6, 372, 98, 1, 3, 372, 79, 266, 3, 1, 21, 79, 85, 372, 311, 3, 2, 60, 0, 29, 143, 78, 11, 372, 27, 372, 0, 127, 217, 9, 372, 8, 0, 11, 280, 7, 372, 372, 39, 372, 8, 372, 21, 2, 1, 372, 10, 11, 7, 189, 8, 10, 11, 23, 372, 211, 28, 9, 290, 99, 3, 174, 4, 372, 372, 25, 240, 148, 8, 18, 21, 8, 72, 10, 21, 23, 31, 28, 24, 371, 81, 310, 371, 18, 10, 364, 371, 51, 22, 16, 0, 211, 21, 336, 6, 3, 58, 3, 177, 57, 26, 15, 28, 2, 6, 57, 3, 69, 3, 66, 157, 371, 53, 371, 126, 175, 0, 184, 371, 0, 169, 154, 359, 371, 222, 218, 371, 39, 1, 6, 17, 38, 42, 80, 20, 179, 15, 38, 371, 2, 371, 44, 2, 365, 186, 4, 4, 371, 1, 371, 24, 3, 3, 0, 90, 63, 3, 0, 370, 152, 9, 4, 71, 7, 52, 23, 2, 6, 64, 22, 301, 63, 0, 53, 0, 19, 40, 2, 5, 5, 11, 6, 42, 1, 0, 9, 47, 8, 10, 4, 13, 0, 369, 313, 40, 3, 10, 15, 311, 39, 145, 12, 365, 12, 29, 13, 26, 184, 6, 368, 368, 305, 5, 1, 215, 58, 18, 264, 2, 4, 18, 252, 4, 16, 11, 54, 156, 14, 2, 16, 1, 15, 266, 37, 33, 14, 15, 11, 1, 45, 0, 1, 365, 2, 2, 28, 22, 73, 20, 368, 0, 357, 18, 9, 19, 282, 40, 1, 60, 185, 126, 14, 64, 50, 2, 25, 3, 368, 22, 6, 1, 368, 32, 7, 155, 147, 10, 26, 16, 198, 10, 18, 108, 2, 9, 367, 11, 30, 309, 2, 10, 27, 2, 70, 140, 59, 367, 45, 7, 16, 3, 12, 11, 7, 99, 9, 4, 106, 143, 311, 8, 307, 7, 2, 44, 173, 335, 2, 1, 65, 25, 38, 8, 1, 296, 4, 254, 367, 0, 2, 16, 0, 2, 16, 36, 115, 16, 9, 0, 1, 3, 58, 366, 20, 3, 15, 366, 1, 8, 10, 9, 213, 56, 72, 2, 366, 366, 21, 0, 17, 1, 366, 28, 0, 2, 8, 4, 0, 1, 0, 31, 7, 15, 329, 2, 29, 58, 3, 1, 3, 55, 1, 45, 14, 72, 4, 235, 0, 18, 366, 22, 24, 2, 95, 17, 156, 0, 15, 70, 59, 255, 39, 21, 0, 162, 24, 1, 51, 7, 24, 3, 365, 357, 1, 150, 32, 365, 15, 120, 8, 256, 71, 365, 8, 10, 0, 8, 204, 91, 107, 142, 36, 365, 8, 26, 87, 17, 365, 15, 8, 7, 10, 8, 8, 7, 212, 142, 130, 24, 1, 4, 257, 8, 353, 2, 11, 15, 365, 0, 204, 7, 95, 253, 364, 32, 185, 364, 65, 3, 0, 10, 29, 6, 38, 42, 364, 364, 24, 36, 3, 16, 15, 218, 20, 326, 93, 8, 359, 119, 0, 354, 364, 8, 28, 71, 2, 364, 364, 16, 38, 16, 49, 172, 34, 59, 100, 224, 28, 7, 8, 0, 3, 6, 0, 22, 37, 35, 4, 8, 364, 106, 26, 10, 364, 309, 364, 21, 175, 253, 3, 9, 67, 1, 113, 5, 28, 2, 51, 311, 363, 11, 75, 30, 23, 363, 4, 9, 17, 31, 8, 362, 362, 11, 19, 151, 357, 12, 12, 40, 36, 142, 44, 245, 122, 2, 25, 10, 6, 36, 361, 361, 78, 361, 361, 18, 8, 3, 5, 16, 153, 9, 2, 361, 119, 10, 29, 9, 42, 3, 8, 115, 236, 23, 16, 11, 21, 95, 25, 360, 51, 3, 177, 360, 7, 322, 189, 16, 165, 1, 9, 240, 8, 31, 137, 360, 322, 238, 360, 1, 22, 34, 8, 31, 360, 191, 10, 26, 2, 100, 360, 273, 23, 2, 25, 3, 360, 2, 2, 31, 0, 7, 21, 66, 173, 106, 11, 10, 321, 32, 25, 4, 24, 3, 8, 5, 35, 10, 88, 0, 191, 1, 263, 1, 155, 359, 6, 18, 29, 70, 0, 8, 85, 239, 59, 126, 2, 21, 358, 358, 35, 104, 89, 59, 282, 70, 34, 16, 165, 4, 358, 9, 8, 358, 30, 10, 190, 50, 105, 358, 17, 63, 0, 0, 237, 29, 15, 269, 52, 16, 16, 0, 51, 91, 8, 155, 4, 12, 28, 105, 3, 9, 0, 168, 7, 8, 14, 3, 3, 63, 49, 357, 20, 1, 252, 3, 217, 357, 353, 74, 3, 2, 1, 24, 102, 3, 16, 21, 169, 8, 246, 357, 172, 80, 306, 197, 11, 6, 21, 58, 2, 183, 0, 2, 356, 18, 50, 356, 356, 122, 8, 14, 58, 103, 302, 46, 6, 354, 354, 49, 35, 74, 15, 3, 2, 168, 113, 20, 3, 353, 18, 7, 353, 15, 0, 10, 3, 30, 352, 57, 125, 3, 6, 24, 29, 312, 235, 351, 49, 351, 45, 350, 21, 63, 339, 3, 63, 72, 0, 68, 126, 7, 41, 18, 156, 0, 63, 142, 22, 3, 316, 17, 337, 0, 32, 108, 8, 125, 337, 38, 172, 22, 8, 32, 256, 35, 33, 190, 3, 70, 164, 46, 121, 17, 11, 336, 193, 196, 95, 194, 164, 53, 336, 239, 184, 3, 8, 59, 73, 335, 234, 107, 121, 7, 21, 63, 9, 5, 40, 5, 334, 58, 19, 78, 0, 36, 17, 9, 9, 18, 75, 333, 25, 2, 58, 20, 3, 333, 10, 333, 217, 300, 51, 43, 49, 25, 58, 60, 206, 112, 332, 332, 332, 40, 39, 195, 12, 0, 241, 311, 63, 234, 10, 103, 331, 9, 17, 28, 40, 331, 17, 6, 2, 89, 18, 24, 330, 40, 60, 324, 38, 114, 0, 322, 4, 8, 43, 191, 31, 273, 330, 330, 71, 59, 330, 23, 17, 8, 72, 329, 74, 318, 50, 329, 4, 8, 0, 54, 12, 87, 50, 25, 12, 13, 25, 32, 42, 58, 40, 87, 56, 33, 32, 326, 43, 11, 2, 3, 73, 325, 2, 168, 17, 325, 325, 7, 0, 325, 40, 234, 325, 325, 138, 287, 325, 324, 0, 6, 187, 324, 56, 57, 8, 70, 1, 2, 16, 25, 111, 41, 280, 323, 323, 0, 56, 322, 231, 22, 322, 7, 205, 322, 30, 227, 9, 317, 136, 6, 211, 0, 320, 138, 12, 180, 22, 196, 320, 1, 109, 16, 0, 319, 9, 319, 17, 301, 63, 319, 2, 9, 319, 62, 15, 21, 1, 51, 58, 318, 112, 318, 318, 318, 312, 71, 94, 50, 10, 23, 2, 22, 318, 78, 69, 57, 8, 317, 65, 317, 44, 35, 211, 30, 32, 317, 317, 3, 63, 150, 73, 16, 36, 106, 211, 317, 242, 43, 17, 218, 0, 78, 84, 315, 35, 151, 36, 21, 44, 48, 66, 8, 77, 0, 3, 67, 10, 30, 38, 8, 42, 29, 315, 76, 21, 28, 55, 274, 92, 65, 107, 42, 113, 129, 1, 8, 84, 25, 266, 3, 13, 14, 298, 68, 19, 312, 312, 312, 15, 19, 312, 24, 39, 12, 17, 58, 7, 50, 301, 12, 311, 106, 216, 115, 311, 24, 22, 2, 32, 311, 311, 58, 22, 86, 28, 311, 121, 112, 245, 25, 51, 199, 310, 24, 44, 70, 30, 266, 310, 16, 60, 310, 252, 310, 94, 310, 109, 8, 36, 122, 246, 21, 32, 300, 15, 8, 80, 58, 176, 52, 30, 10, 150, 301, 8, 119, 238, 1, 7, 309, 26, 309, 43, 308, 9, 85, 92, 300, 261, 58, 300, 22, 8, 10, 126, 308, 308, 10, 49, 6, 69, 218, 307, 307, 58, 56, 4, 34, 306, 158, 305, 305, 24, 15, 305, 14, 22, 81, 153, 28, 96, 33, 150, 27, 276, 71, 304, 304, 3, 122, 149, 273, 303, 303, 108, 303, 10, 29, 302, 302, 48, 6, 298, 35, 246, 92, 91, 210, 301, 63, 0, 56, 29, 127, 2, 97, 204, 28, 3, 30, 300, 222, 300, 300, 53, 17, 15, 129, 28, 95, 7, 190, 40, 298, 65, 50, 20, 298, 190, 31, 48, 8, 22, 49, 3, 297, 84, 52, 14, 297, 28, 30, 120, 212, 119, 291, 19, 293, 7, 78, 296, 296, 25, 296, 28, 71, 133, 74, 296, 58, 295, 15, 43, 38, 15, 245, 14, 44, 202, 157, 9, 29, 294, 43, 52, 294, 107, 289, 65, 8, 71, 104, 36, 0, 294, 116, 175, 293, 14, 14, 185, 33, 9, 173, 103, 161, 94, 291, 14, 81, 49, 48, 74, 48, 37, 37, 254, 164, 8, 290, 66, 35, 1, 121, 79, 72, 35, 290, 289, 289, 289, 266, 14, 119, 73, 39, 94, 22, 14, 134, 30, 289, 289, 87, 165, 49, 10, 57, 51, 8, 44, 8, 13, 288, 3, 255, 288, 288, 191, 42, 15, 100, 19, 38, 1, 178, 29, 76, 49, 287, 287, 287, 287, 196, 287, 287, 37, 95, 276, 1, 15, 3, 8, 2, 11, 77, 36, 287, 59, 164, 65, 25, 286, 43, 285, 268, 276, 48, 0, 8, 14, 4, 19, 36, 11, 112, 284, 3, 200, 150, 25, 14, 67, 8, 62, 31, 283, 283, 38, 262, 0, 44, 60, 283, 50, 203, 190, 63, 283, 8, 8, 283, 66, 23, 214, 283, 18, 280, 168, 6, 281, 52, 64, 282, 2, 282, 119, 77, 17, 198, 2, 73, 166, 178, 281, 3, 89, 281, 281, 234, 18, 3, 238, 2, 149, 281, 84, 1, 4, 205, 281, 281, 218, 280, 29, 24, 178, 15, 2, 85, 280, 51, 280, 18, 27, 190, 279, 38, 21, 17, 279, 80, 279, 91, 20, 25, 25, 46, 4, 32, 277, 277, 85, 59, 277, 67, 51, 44, 30, 277, 197, 276, 79, 276, 199, 49, 7, 276, 3, 276, 80, 45, 48, 226, 276, 44, 276, 106, 79, 30, 0, 7, 60, 8, 275, 1, 2, 16, 23, 2, 9, 109, 156, 93, 22, 0, 275, 12, 275, 126, 275, 56, 1, 15, 17, 15, 274, 217, 274, 86, 77, 273, 28, 270, 273, 270, 81, 273, 73, 40, 98, 87, 52, 273, 50, 42, 53, 272, 162, 32, 272, 253, 156, 35, 47, 68, 4, 270, 190, 18, 270, 142, 24, 21, 8, 258, 32, 11, 22, 17, 269, 67, 269, 21, 269, 17, 170, 268, 16, 268, 28, 268, 212, 3, 268, 35, 64, 8, 268, 30, 153, 267, 74, 213, 71, 0, 77, 78, 22, 267, 267, 267, 16, 182, 17, 78, 14, 49, 266, 266, 266, 1, 99, 0, 203, 15, 11, 266, 266, 3, 266, 1, 21, 257, 64, 266, 160, 0, 266, 37, 20, 63, 265, 265, 45, 15, 17, 265, 31, 30, 265, 15, 264, 3, 106, 179, 264, 45, 31, 263, 45, 263, 3, 35, 51, 65, 10, 263, 263, 29, 91, 253, 263, 263, 39, 89, 263, 175, 263, 136, 86, 262, 262, 194, 262, 182, 8, 17, 41, 262, 261, 261, 22, 9, 190, 65, 10, 261, 261, 38, 261, 83, 261, 25, 261, 144, 8, 261, 147, 261, 105, 133, 260, 37, 15, 91, 165, 4, 3, 37, 1, 36, 57, 260, 260, 3, 260, 150, 4, 259, 9, 259, 0, 259, 259, 259, 63, 30, 35, 15, 144, 259, 85, 232, 2, 216, 99, 1, 151, 17, 256, 79, 256, 23, 158, 256, 256, 31, 53, 116, 177, 45, 64, 22, 154, 137, 30, 60, 184, 37, 133, 254, 114, 19, 31, 254, 213, 15, 35, 116, 72, 84, 254, 19, 9, 253, 36, 122, 79, 95, 248, 73, 88, 253, 98, 253, 144, 27, 246, 253, 16, 253, 28, 73, 12, 39, 226, 72, 49, 252, 49, 252, 158, 252, 252, 14, 99, 182, 22, 38, 252, 252, 30, 57, 63, 251, 251, 201, 250, 18, 6, 42, 249, 60, 249, 56, 225, 31, 189, 28, 248, 248, 60, 247, 1, 52, 248, 248, 3, 248, 81, 58, 50, 64, 134, 3, 247, 14, 184, 71, 244, 72, 247, 147, 112, 246, 78, 246, 91, 129, 2, 63, 246, 2, 246, 218, 21, 10, 123, 26, 0, 88, 50, 246, 106, 23, 173, 245, 44, 16, 2, 238, 14, 245, 110, 18, 30, 245, 43, 245, 240, 245, 195, 21, 31, 146, 81, 244, 27, 107, 95, 243, 242, 12, 242, 24, 167, 196, 232, 23, 44, 1, 242, 14, 18, 224, 234, 239, 50, 25, 9, 9, 90, 234, 238, 113, 22, 24, 8, 13, 30, 94, 241, 63, 240, 238, 35, 169, 240, 240, 29, 240, 44, 238, 14, 91, 39, 7, 72, 59, 239, 93, 7, 234, 93, 17, 31, 218, 51, 207, 81, 168, 0, 33, 52, 3, 65, 35, 238, 17, 86, 84, 238, 238, 232, 102, 210, 238, 20, 114, 44, 31, 30, 237, 236, 110, 77, 122, 236, 8, 24, 8, 235, 235, 235, 24, 235, 94, 235, 150, 202, 234, 18, 31, 99, 132, 188, 29, 9, 15, 197, 24, 98, 233, 14, 16, 233, 233, 74, 11, 233, 53, 153, 233, 6, 8, 2, 23, 232, 232, 7, 232, 185, 177, 99, 4, 16, 10, 1, 73, 231, 169, 199, 156, 28, 231, 44, 231, 187, 227, 227, 12, 15, 226, 1, 184, 219, 1, 226, 143, 226, 226, 51, 224, 44, 49, 115, 31, 29, 225, 225, 106, 225, 33, 218, 224, 224, 224, 81, 39, 3, 129, 220, 212, 220, 1, 17, 24, 189, 140, 164, 67, 24, 40, 198, 59, 218, 218, 10, 44, 22, 18, 218, 203, 218, 120, 218, 17, 217, 53, 217, 119, 217, 217, 1, 30, 14, 217, 190, 26, 44, 9, 217, 217, 65, 217, 8, 217, 46, 71, 71, 183, 168, 216, 32, 216, 9, 11, 56, 150, 215, 14, 215, 139, 47, 32, 15, 24, 18, 214, 105, 214, 7, 213, 126, 213, 213, 63, 69, 32, 71, 40, 213, 0, 111, 211, 212, 14, 212, 3, 30, 86, 212, 58, 0, 197, 177, 46, 1, 211, 210, 18, 4, 211, 18, 211, 70, 56, 205, 211, 22, 108, 210, 63, 28, 21, 8, 10, 50, 66, 205, 44, 210, 50, 3, 20, 209, 208, 54, 2, 207, 5, 207, 11, 4, 83, 77, 206, 206, 58, 17, 84, 206, 18, 65, 73, 6, 160, 0, 205, 5, 10, 205, 197, 11, 97, 94, 2, 4, 84, 17, 15, 169, 44, 204, 23, 204, 78, 26, 7, 12, 20, 43, 9, 203, 17, 38, 132, 203, 203, 22, 168, 202, 103, 202, 42, 31, 43, 73, 7, 70, 201, 10, 201, 89, 187, 29, 24, 200, 200, 200, 200, 188, 11, 200, 56, 7, 114, 199, 56, 107, 198, 23, 198, 51, 154, 0, 21, 7, 184, 198, 23, 197, 168, 197, 73, 196, 186, 80, 81, 113, 17, 196, 196, 14, 196, 157, 148, 195, 59, 179, 193, 193, 193, 25, 191, 191, 191, 63, 17, 70, 22, 38, 10, 49, 190, 173, 28, 28, 189, 164, 13, 189, 120, 56, 87, 189, 124, 188, 188, 188, 30, 4, 22, 147, 4, 1, 186, 186, 9, 93, 157, 186, 9, 22, 113, 185, 116, 185, 38, 154, 30, 2, 59, 28, 184, 184, 184, 184, 15, 43, 184, 182, 75, 76, 0, 28, 99, 16, 0, 183, 1, 9, 49, 35, 78, 182, 17, 64, 23, 182, 154, 21, 182, 21, 182, 25, 8, 181, 180, 18, 138, 39, 107, 31, 38, 10, 0, 49, 59, 170, 74, 84, 30, 71, 14, 4, 178, 178, 178, 178, 2, 67, 30, 9, 45, 17, 177, 172, 176, 176, 127, 11, 176, 176, 0, 171, 176, 35, 176, 20, 119, 157, 22, 7, 9, 175, 42, 28, 22, 173, 173, 173, 173, 13, 156, 172, 20, 10, 171, 11, 172, 172, 172, 12, 58, 172, 39, 17, 171, 171, 171, 21, 37, 171, 50, 171, 131, 77, 7, 170, 170, 62, 51, 170, 134, 6, 169, 169, 169, 169, 7, 169, 72, 169, 15, 164, 16, 168, 18, 13, 42, 165, 7, 11, 7, 153, 164, 20, 164, 27, 164, 163, 15, 4, 3, 73, 37, 38, 162, 162, 162, 41, 161, 23, 150, 160, 161, 161, 140, 135, 70, 160, 21, 123, 159, 138, 158, 158, 158, 157, 71, 157, 153, 44, 21, 156, 14, 156, 156, 2, 156, 121, 133, 155, 155, 155, 3, 55, 52, 154, 154, 17, 154, 6, 77, 154, 34, 11, 148, 16, 115, 153, 128, 152, 8, 125, 151, 43, 24, 151, 59, 6, 14, 7, 0, 3, 22, 149, 149, 50, 149, 148, 140, 148, 25, 32, 148, 42, 108, 59, 63, 24, 3, 0, 22, 1, 146, 146, 146, 2, 145, 144, 144, 6, 144, 144, 19, 143, 143, 16, 62, 143, 18, 20, 11, 10, 142, 57, 3, 4, 142, 142, 95, 4, 19, 141, 4, 141, 116, 137, 32, 141, 140, 30, 140, 98, 112, 3, 139, 83, 22, 138, 137, 57, 34, 116, 46, 134, 137, 137, 137, 23, 136, 11, 135, 136, 32, 57, 25, 135, 135, 70, 123, 134, 17, 133, 118, 35, 2, 133, 133, 133, 133, 133, 129, 133, 15, 18, 133, 35, 10, 132, 29, 128, 10, 131, 120, 130, 4, 130, 71, 128, 28, 34, 2, 77, 63, 129, 129, 115, 73, 87, 128, 51, 128, 39, 128, 72, 41, 9, 127, 127, 127, 16, 6, 126, 126, 84, 126, 126, 107, 126, 5, 7, 18, 124, 100, 121, 16, 91, 62, 123, 72, 22, 121, 121, 32, 116, 19, 50, 20, 27, 119, 28, 119, 42, 119, 118, 118, 116, 107, 4, 116, 116, 116, 39, 115, 115, 59, 63, 92, 8, 18, 30, 98, 43, 113, 51, 36, 113, 6, 112, 8, 112, 112, 99, 112, 92, 28, 22, 111, 111, 17, 1, 59, 106, 109, 45, 2, 34, 108, 32, 17, 45, 107, 3, 3, 90, 106, 106, 23, 106, 106, 106, 106, 106, 31, 105, 105, 105, 105, 3, 8, 0, 105, 2, 104, 7, 103, 102, 3, 3, 30, 100, 86, 38, 3, 24, 22, 63, 9, 98, 98, 84, 98, 98, 31, 54, 15, 97, 73, 96, 63, 5, 96, 95, 2, 73, 42, 95, 95, 94, 2, 31, 94, 94, 93, 93, 3, 28, 10, 92, 92, 92, 92, 45, 91, 18, 44, 74, 9, 3, 90, 31, 89, 21, 30, 45, 89, 89, 88, 6, 88, 9, 9, 24, 88, 18, 88, 8, 80, 66, 80, 87, 87, 87, 4, 87, 4, 16, 18, 87, 45, 87, 32, 77, 70, 86, 86, 86, 86, 38, 41, 86, 0, 11, 3, 20, 30, 85, 30, 34, 18, 71, 85, 56, 63, 85, 85, 50, 52, 63, 31, 84, 1, 84, 11, 84, 15, 84, 77, 63, 84, 0, 20, 83, 2, 83, 83, 83, 24, 82, 17, 40, 63, 75, 5, 81, 27, 81, 81, 80, 7, 13, 80, 59, 43, 80, 80, 80, 80, 80, 70, 79, 23, 79, 49, 78, 15, 78, 78, 78, 54, 78, 0, 9, 3, 74, 9, 78, 78, 50, 11, 0, 16, 77, 23, 15, 11, 77, 10, 21, 5, 63, 77, 49, 77, 77, 11, 73, 31, 77, 76, 76, 7, 76, 76, 49, 64, 76, 76, 76, 3, 7, 69, 75, 4, 75, 4, 0, 26, 74, 74, 39, 74, 74, 74, 74, 74, 10, 73, 74, 4, 74, 35, 73, 73, 73, 27, 73, 73, 0, 73, 22, 73, 1, 73, 73, 72, 72, 2, 62, 34, 7, 22, 15, 71, 71, 1, 21, 71, 71, 63, 71, 71, 39, 71, 71, 20, 0, 9, 70, 70, 24, 70, 15, 70, 32, 13, 16, 66, 70, 65, 8, 49, 28, 0, 70, 70, 21, 69, 69, 69, 69, 68, 68, 5, 25, 18, 8, 50, 24, 63, 67, 22, 7, 36, 53, 20, 66, 66, 7, 66, 66, 7, 66, 66, 65, 65, 65, 65, 65, 65, 3, 65, 24, 64, 16, 64, 64, 64, 64, 64, 64, 64, 64, 64, 64, 64, 9, 64, 64, 28, 63, 50, 63, 63, 63, 2, 63, 63, 17, 63, 63, 63, 34, 63, 63, 49, 58, 1, 9, 63, 6, 63, 11, 31, 7, 63, 57, 11, 62, 3, 61, 61, 61, 35, 25, 60, 60, 43, 60, 60, 60, 8, 60, 60, 60, 60, 60, 60, 13, 18, 60, 60, 0, 60, 31, 46, 2, 59, 59, 7, 59, 59, 35, 42, 5, 3, 2, 59, 59, 13, 58, 56, 58, 58, 51, 58, 57, 8, 57, 57, 57, 1, 21, 56, 8, 56, 56, 56, 8, 56, 56, 35, 56, 39, 56, 25, 55, 55, 2, 33, 54, 54, 54, 3, 53, 9, 53, 53, 53, 53, 53, 53, 53, 53, 53, 52, 52, 31, 52, 52, 52, 52, 52, 52, 28, 34, 52, 52, 52, 52, 52, 52, 51, 9, 40, 51, 51, 51, 3, 51, 23, 51, 51, 51, 51, 1, 50, 50, 50, 50, 7, 50, 2, 50, 50, 50, 50, 50, 49, 49, 30, 49, 49, 49, 49, 49, 44, 2, 28, 49, 49, 49, 3, 17, 48, 48, 48, 48, 47, 46, 0, 46, 3, 32, 11, 46, 46, 3, 46, 46, 46, 44, 43, 46, 45, 45, 45, 24, 42, 45, 45, 45, 34, 45, 19, 44, 44, 44, 22, 14, 44, 44, 15, 10, 44, 4, 43, 43, 43, 5, 43, 8, 43, 7, 43, 2, 17, 20, 43, 43, 43, 42, 34, 42, 42, 4, 42, 23, 42, 35, 38, 16, 42, 42, 3, 21, 41, 40, 2, 40, 40, 39, 16, 1, 11, 39, 39, 19, 5, 39, 39, 8, 39, 39, 39, 39, 34, 38, 16, 38, 38, 2, 38, 7, 38, 6, 37, 0, 2, 17, 37, 28, 2, 30, 3, 37, 37, 30, 36, 36, 0, 36, 36, 11, 36, 17, 36, 36, 36, 10, 35, 0, 35, 35, 30, 3, 10, 6, 35, 22, 35, 35, 34, 34, 29, 34, 34, 34, 34, 26, 33, 8, 19, 28, 33, 33, 0, 32, 32, 32, 32, 8, 1, 19, 32, 32, 32, 32, 32, 32, 32, 18, 20, 21, 23, 31, 31, 31, 3, 31, 31, 31, 23, 30, 17, 30, 30, 30, 7, 30, 30, 9, 29, 29, 29, 29, 29, 29, 29, 5, 29, 29, 17, 29, 7, 16, 29, 29, 22, 29, 28, 28, 28, 28, 8, 28, 28, 28, 0, 28, 27, 27, 27, 1, 27, 27, 20, 26, 26, 8, 25, 6, 25, 25, 25, 1, 25, 20, 25, 25, 25, 25, 25, 25, 24, 7, 24, 24, 24, 24, 11, 24, 24, 24, 24, 24, 24, 23, 23, 23, 1, 23, 23, 23, 23, 23, 23, 23, 8, 23, 23, 22, 22, 22, 2, 22, 22, 22, 10, 21, 21, 21, 21, 21, 21, 21, 21, 3, 21, 21, 20, 20, 20, 3, 20, 19, 19, 19, 18, 18, 18, 10, 8, 18, 8, 8, 17, 18, 18, 18, 18, 18, 18, 18, 18, 17, 17, 16, 3, 16, 17, 17, 17, 17, 8, 17, 1, 17, 16, 16, 16, 16, 16, 16, 8, 4, 16, 15, 3, 15, 15, 15, 14, 9, 4, 14, 14, 14, 14, 14, 8, 14, 14, 14, 14, 14, 14, 2, 9, 13, 13, 13, 5, 11, 11, 11, 11, 9, 11, 11, 10, 10, 10, 10, 10, 10, 10, 10, 10, 10, 10, 10, 10, 10, 7, 9, 9, 9, 0, 9, 9, 9, 9, 7, 8, 8, 7, 7, 7, 6, 6, 6, 6, 5, 5, 4, 4, 4, 3, 3, 3, 3, 3, 3, 3, 3, 3, 3, 2, 2, 2, 2, 2, 1, 1, 1, 1, 0, 0], \"yaxis\": \"y\"}],\n",
              "                        {\"legend\": {\"tracegroupgap\": 0}, \"margin\": {\"t\": 60}, \"template\": {\"data\": {\"bar\": [{\"error_x\": {\"color\": \"#f2f5fa\"}, \"error_y\": {\"color\": \"#f2f5fa\"}, \"marker\": {\"line\": {\"color\": \"rgb(17,17,17)\", \"width\": 0.5}}, \"type\": \"bar\"}], \"barpolar\": [{\"marker\": {\"line\": {\"color\": \"rgb(17,17,17)\", \"width\": 0.5}}, \"type\": \"barpolar\"}], \"carpet\": [{\"aaxis\": {\"endlinecolor\": \"#A2B1C6\", \"gridcolor\": \"#506784\", \"linecolor\": \"#506784\", \"minorgridcolor\": \"#506784\", \"startlinecolor\": \"#A2B1C6\"}, \"baxis\": {\"endlinecolor\": \"#A2B1C6\", \"gridcolor\": \"#506784\", \"linecolor\": \"#506784\", \"minorgridcolor\": \"#506784\", \"startlinecolor\": \"#A2B1C6\"}, \"type\": \"carpet\"}], \"choropleth\": [{\"colorbar\": {\"outlinewidth\": 0, \"ticks\": \"\"}, \"type\": \"choropleth\"}], \"contour\": [{\"colorbar\": {\"outlinewidth\": 0, \"ticks\": \"\"}, \"colorscale\": [[0.0, \"#0d0887\"], [0.1111111111111111, \"#46039f\"], [0.2222222222222222, \"#7201a8\"], [0.3333333333333333, \"#9c179e\"], [0.4444444444444444, \"#bd3786\"], [0.5555555555555556, \"#d8576b\"], [0.6666666666666666, \"#ed7953\"], [0.7777777777777778, \"#fb9f3a\"], [0.8888888888888888, \"#fdca26\"], [1.0, \"#f0f921\"]], \"type\": \"contour\"}], \"contourcarpet\": [{\"colorbar\": {\"outlinewidth\": 0, \"ticks\": \"\"}, \"type\": \"contourcarpet\"}], \"heatmap\": [{\"colorbar\": {\"outlinewidth\": 0, \"ticks\": \"\"}, \"colorscale\": [[0.0, \"#0d0887\"], [0.1111111111111111, \"#46039f\"], [0.2222222222222222, \"#7201a8\"], [0.3333333333333333, \"#9c179e\"], [0.4444444444444444, \"#bd3786\"], [0.5555555555555556, \"#d8576b\"], [0.6666666666666666, \"#ed7953\"], [0.7777777777777778, \"#fb9f3a\"], [0.8888888888888888, \"#fdca26\"], [1.0, \"#f0f921\"]], \"type\": \"heatmap\"}], \"heatmapgl\": [{\"colorbar\": {\"outlinewidth\": 0, \"ticks\": \"\"}, \"colorscale\": [[0.0, \"#0d0887\"], [0.1111111111111111, \"#46039f\"], [0.2222222222222222, \"#7201a8\"], [0.3333333333333333, \"#9c179e\"], [0.4444444444444444, \"#bd3786\"], [0.5555555555555556, \"#d8576b\"], [0.6666666666666666, \"#ed7953\"], [0.7777777777777778, \"#fb9f3a\"], [0.8888888888888888, \"#fdca26\"], [1.0, \"#f0f921\"]], \"type\": \"heatmapgl\"}], \"histogram\": [{\"marker\": {\"colorbar\": {\"outlinewidth\": 0, \"ticks\": \"\"}}, \"type\": \"histogram\"}], \"histogram2d\": [{\"colorbar\": {\"outlinewidth\": 0, \"ticks\": \"\"}, \"colorscale\": [[0.0, \"#0d0887\"], [0.1111111111111111, \"#46039f\"], [0.2222222222222222, \"#7201a8\"], [0.3333333333333333, \"#9c179e\"], [0.4444444444444444, \"#bd3786\"], [0.5555555555555556, \"#d8576b\"], [0.6666666666666666, \"#ed7953\"], [0.7777777777777778, \"#fb9f3a\"], [0.8888888888888888, \"#fdca26\"], [1.0, \"#f0f921\"]], \"type\": \"histogram2d\"}], \"histogram2dcontour\": [{\"colorbar\": {\"outlinewidth\": 0, \"ticks\": \"\"}, \"colorscale\": [[0.0, \"#0d0887\"], [0.1111111111111111, \"#46039f\"], [0.2222222222222222, \"#7201a8\"], [0.3333333333333333, \"#9c179e\"], [0.4444444444444444, \"#bd3786\"], [0.5555555555555556, \"#d8576b\"], [0.6666666666666666, \"#ed7953\"], [0.7777777777777778, \"#fb9f3a\"], [0.8888888888888888, \"#fdca26\"], [1.0, \"#f0f921\"]], \"type\": \"histogram2dcontour\"}], \"mesh3d\": [{\"colorbar\": {\"outlinewidth\": 0, \"ticks\": \"\"}, \"type\": \"mesh3d\"}], \"parcoords\": [{\"line\": {\"colorbar\": {\"outlinewidth\": 0, \"ticks\": \"\"}}, \"type\": \"parcoords\"}], \"pie\": [{\"automargin\": true, \"type\": \"pie\"}], \"scatter\": [{\"marker\": {\"line\": {\"color\": \"#283442\"}}, \"type\": \"scatter\"}], \"scatter3d\": [{\"line\": {\"colorbar\": {\"outlinewidth\": 0, \"ticks\": \"\"}}, \"marker\": {\"colorbar\": {\"outlinewidth\": 0, \"ticks\": \"\"}}, \"type\": \"scatter3d\"}], \"scattercarpet\": [{\"marker\": {\"colorbar\": {\"outlinewidth\": 0, \"ticks\": \"\"}}, \"type\": \"scattercarpet\"}], \"scattergeo\": [{\"marker\": {\"colorbar\": {\"outlinewidth\": 0, \"ticks\": \"\"}}, \"type\": \"scattergeo\"}], \"scattergl\": [{\"marker\": {\"line\": {\"color\": \"#283442\"}}, \"type\": \"scattergl\"}], \"scattermapbox\": [{\"marker\": {\"colorbar\": {\"outlinewidth\": 0, \"ticks\": \"\"}}, \"type\": \"scattermapbox\"}], \"scatterpolar\": [{\"marker\": {\"colorbar\": {\"outlinewidth\": 0, \"ticks\": \"\"}}, \"type\": \"scatterpolar\"}], \"scatterpolargl\": [{\"marker\": {\"colorbar\": {\"outlinewidth\": 0, \"ticks\": \"\"}}, \"type\": \"scatterpolargl\"}], \"scatterternary\": [{\"marker\": {\"colorbar\": {\"outlinewidth\": 0, \"ticks\": \"\"}}, \"type\": \"scatterternary\"}], \"surface\": [{\"colorbar\": {\"outlinewidth\": 0, \"ticks\": \"\"}, \"colorscale\": [[0.0, \"#0d0887\"], [0.1111111111111111, \"#46039f\"], [0.2222222222222222, \"#7201a8\"], [0.3333333333333333, \"#9c179e\"], [0.4444444444444444, \"#bd3786\"], [0.5555555555555556, \"#d8576b\"], [0.6666666666666666, \"#ed7953\"], [0.7777777777777778, \"#fb9f3a\"], [0.8888888888888888, \"#fdca26\"], [1.0, \"#f0f921\"]], \"type\": \"surface\"}], \"table\": [{\"cells\": {\"fill\": {\"color\": \"#506784\"}, \"line\": {\"color\": \"rgb(17,17,17)\"}}, \"header\": {\"fill\": {\"color\": \"#2a3f5f\"}, \"line\": {\"color\": \"rgb(17,17,17)\"}}, \"type\": \"table\"}]}, \"layout\": {\"annotationdefaults\": {\"arrowcolor\": \"#f2f5fa\", \"arrowhead\": 0, \"arrowwidth\": 1}, \"coloraxis\": {\"colorbar\": {\"outlinewidth\": 0, \"ticks\": \"\"}}, \"colorscale\": {\"diverging\": [[0, \"#8e0152\"], [0.1, \"#c51b7d\"], [0.2, \"#de77ae\"], [0.3, \"#f1b6da\"], [0.4, \"#fde0ef\"], [0.5, \"#f7f7f7\"], [0.6, \"#e6f5d0\"], [0.7, \"#b8e186\"], [0.8, \"#7fbc41\"], [0.9, \"#4d9221\"], [1, \"#276419\"]], \"sequential\": [[0.0, \"#0d0887\"], [0.1111111111111111, \"#46039f\"], [0.2222222222222222, \"#7201a8\"], [0.3333333333333333, \"#9c179e\"], [0.4444444444444444, \"#bd3786\"], [0.5555555555555556, \"#d8576b\"], [0.6666666666666666, \"#ed7953\"], [0.7777777777777778, \"#fb9f3a\"], [0.8888888888888888, \"#fdca26\"], [1.0, \"#f0f921\"]], \"sequentialminus\": [[0.0, \"#0d0887\"], [0.1111111111111111, \"#46039f\"], [0.2222222222222222, \"#7201a8\"], [0.3333333333333333, \"#9c179e\"], [0.4444444444444444, \"#bd3786\"], [0.5555555555555556, \"#d8576b\"], [0.6666666666666666, \"#ed7953\"], [0.7777777777777778, \"#fb9f3a\"], [0.8888888888888888, \"#fdca26\"], [1.0, \"#f0f921\"]]}, \"colorway\": [\"#636efa\", \"#EF553B\", \"#00cc96\", \"#ab63fa\", \"#FFA15A\", \"#19d3f3\", \"#FF6692\", \"#B6E880\", \"#FF97FF\", \"#FECB52\"], \"font\": {\"color\": \"#f2f5fa\"}, \"geo\": {\"bgcolor\": \"rgb(17,17,17)\", \"lakecolor\": \"rgb(17,17,17)\", \"landcolor\": \"rgb(17,17,17)\", \"showlakes\": true, \"showland\": true, \"subunitcolor\": \"#506784\"}, \"hoverlabel\": {\"align\": \"left\"}, \"hovermode\": \"closest\", \"mapbox\": {\"style\": \"dark\"}, \"paper_bgcolor\": \"rgb(17,17,17)\", \"plot_bgcolor\": \"rgb(17,17,17)\", \"polar\": {\"angularaxis\": {\"gridcolor\": \"#506784\", \"linecolor\": \"#506784\", \"ticks\": \"\"}, \"bgcolor\": \"rgb(17,17,17)\", \"radialaxis\": {\"gridcolor\": \"#506784\", \"linecolor\": \"#506784\", \"ticks\": \"\"}}, \"scene\": {\"xaxis\": {\"backgroundcolor\": \"rgb(17,17,17)\", \"gridcolor\": \"#506784\", \"gridwidth\": 2, \"linecolor\": \"#506784\", \"showbackground\": true, \"ticks\": \"\", \"zerolinecolor\": \"#C8D4E3\"}, \"yaxis\": {\"backgroundcolor\": \"rgb(17,17,17)\", \"gridcolor\": \"#506784\", \"gridwidth\": 2, \"linecolor\": \"#506784\", \"showbackground\": true, \"ticks\": \"\", \"zerolinecolor\": \"#C8D4E3\"}, \"zaxis\": {\"backgroundcolor\": \"rgb(17,17,17)\", \"gridcolor\": \"#506784\", \"gridwidth\": 2, \"linecolor\": \"#506784\", \"showbackground\": true, \"ticks\": \"\", \"zerolinecolor\": \"#C8D4E3\"}}, \"shapedefaults\": {\"line\": {\"color\": \"#f2f5fa\"}}, \"sliderdefaults\": {\"bgcolor\": \"#C8D4E3\", \"bordercolor\": \"rgb(17,17,17)\", \"borderwidth\": 1, \"tickwidth\": 0}, \"ternary\": {\"aaxis\": {\"gridcolor\": \"#506784\", \"linecolor\": \"#506784\", \"ticks\": \"\"}, \"baxis\": {\"gridcolor\": \"#506784\", \"linecolor\": \"#506784\", \"ticks\": \"\"}, \"bgcolor\": \"rgb(17,17,17)\", \"caxis\": {\"gridcolor\": \"#506784\", \"linecolor\": \"#506784\", \"ticks\": \"\"}}, \"title\": {\"x\": 0.05}, \"updatemenudefaults\": {\"bgcolor\": \"#506784\", \"borderwidth\": 0}, \"xaxis\": {\"automargin\": true, \"gridcolor\": \"#283442\", \"linecolor\": \"#506784\", \"ticks\": \"\", \"title\": {\"standoff\": 15}, \"zerolinecolor\": \"#283442\", \"zerolinewidth\": 2}, \"yaxis\": {\"automargin\": true, \"gridcolor\": \"#283442\", \"linecolor\": \"#506784\", \"ticks\": \"\", \"title\": {\"standoff\": 15}, \"zerolinecolor\": \"#283442\", \"zerolinewidth\": 2}}}, \"xaxis\": {\"anchor\": \"y\", \"domain\": [0.0, 1.0], \"title\": {\"text\": \"CustomerID\"}}, \"yaxis\": {\"anchor\": \"x\", \"domain\": [0.0, 1.0], \"title\": {\"text\": \"Retention\"}}},\n",
              "                        {\"responsive\": true}\n",
              "                    ).then(function(){\n",
              "                            \n",
              "var gd = document.getElementById('5776b775-bee3-4a15-8adf-0fe1177d1996');\n",
              "var x = new MutationObserver(function (mutations, observer) {{\n",
              "        var display = window.getComputedStyle(gd).display;\n",
              "        if (!display || display === 'none') {{\n",
              "            console.log([gd, 'removed!']);\n",
              "            Plotly.purge(gd);\n",
              "            observer.disconnect();\n",
              "        }}\n",
              "}});\n",
              "\n",
              "// Listen for the removal of the full notebook cells\n",
              "var notebookContainer = gd.closest('#notebook-container');\n",
              "if (notebookContainer) {{\n",
              "    x.observe(notebookContainer, {childList: true});\n",
              "}}\n",
              "\n",
              "// Listen for the clearing of the current output cell\n",
              "var outputEl = gd.closest('.output');\n",
              "if (outputEl) {{\n",
              "    x.observe(outputEl, {childList: true});\n",
              "}}\n",
              "\n",
              "                        })\n",
              "                };\n",
              "                \n",
              "            </script>\n",
              "        </div>\n",
              "</body>\n",
              "</html>"
            ]
          },
          "metadata": {
            "tags": []
          }
        }
      ]
    },
    {
      "cell_type": "code",
      "metadata": {
        "id": "vvMPtPFdasb0",
        "colab_type": "code",
        "colab": {
          "base_uri": "https://localhost:8080/",
          "height": 202
        },
        "outputId": "a96820df-52c2-4a6b-af11-1bc54baa6235"
      },
      "source": [
        "data_retention = data_user[['Retention']]\n",
        "data_retention.head()"
      ],
      "execution_count": 62,
      "outputs": [
        {
          "output_type": "execute_result",
          "data": {
            "text/html": [
              "<div>\n",
              "<style scoped>\n",
              "    .dataframe tbody tr th:only-of-type {\n",
              "        vertical-align: middle;\n",
              "    }\n",
              "\n",
              "    .dataframe tbody tr th {\n",
              "        vertical-align: top;\n",
              "    }\n",
              "\n",
              "    .dataframe thead th {\n",
              "        text-align: right;\n",
              "    }\n",
              "</style>\n",
              "<table border=\"1\" class=\"dataframe\">\n",
              "  <thead>\n",
              "    <tr style=\"text-align: right;\">\n",
              "      <th></th>\n",
              "      <th>Retention</th>\n",
              "    </tr>\n",
              "  </thead>\n",
              "  <tbody>\n",
              "    <tr>\n",
              "      <th>0</th>\n",
              "      <td>301</td>\n",
              "    </tr>\n",
              "    <tr>\n",
              "      <th>1</th>\n",
              "      <td>31</td>\n",
              "    </tr>\n",
              "    <tr>\n",
              "      <th>2</th>\n",
              "      <td>95</td>\n",
              "    </tr>\n",
              "    <tr>\n",
              "      <th>3</th>\n",
              "      <td>329</td>\n",
              "    </tr>\n",
              "    <tr>\n",
              "      <th>4</th>\n",
              "      <td>25</td>\n",
              "    </tr>\n",
              "  </tbody>\n",
              "</table>\n",
              "</div>"
            ],
            "text/plain": [
              "   Retention\n",
              "0        301\n",
              "1         31\n",
              "2         95\n",
              "3        329\n",
              "4         25"
            ]
          },
          "metadata": {
            "tags": []
          },
          "execution_count": 62
        }
      ]
    },
    {
      "cell_type": "code",
      "metadata": {
        "id": "ycObTYqOWhRC",
        "colab_type": "code",
        "colab": {}
      },
      "source": [
        "from sklearn.cluster import KMeans\n",
        "\n",
        "wcss = []\n",
        "for i in range(1, 10):\n",
        "    kmeans = KMeans(n_clusters=i)\n",
        "    kmeans.fit(data_retention)\n",
        "    wcss.append(kmeans.inertia_)"
      ],
      "execution_count": 0,
      "outputs": []
    },
    {
      "cell_type": "code",
      "metadata": {
        "id": "cxf6lAhbYqYM",
        "colab_type": "code",
        "colab": {
          "base_uri": "https://localhost:8080/",
          "height": 325
        },
        "outputId": "2bba3e3b-b4f4-438b-f3b1-06ef3dc754c9"
      },
      "source": [
        "wcss = pd.DataFrame(data=np.c_[range(1, 10), wcss], columns=['number_of_clusters', 'wcss'])\n",
        "wcss"
      ],
      "execution_count": 64,
      "outputs": [
        {
          "output_type": "execute_result",
          "data": {
            "text/html": [
              "<div>\n",
              "<style scoped>\n",
              "    .dataframe tbody tr th:only-of-type {\n",
              "        vertical-align: middle;\n",
              "    }\n",
              "\n",
              "    .dataframe tbody tr th {\n",
              "        vertical-align: top;\n",
              "    }\n",
              "\n",
              "    .dataframe thead th {\n",
              "        text-align: right;\n",
              "    }\n",
              "</style>\n",
              "<table border=\"1\" class=\"dataframe\">\n",
              "  <thead>\n",
              "    <tr style=\"text-align: right;\">\n",
              "      <th></th>\n",
              "      <th>number_of_clusters</th>\n",
              "      <th>wcss</th>\n",
              "    </tr>\n",
              "  </thead>\n",
              "  <tbody>\n",
              "    <tr>\n",
              "      <th>0</th>\n",
              "      <td>1.0</td>\n",
              "      <td>3.967214e+07</td>\n",
              "    </tr>\n",
              "    <tr>\n",
              "      <th>1</th>\n",
              "      <td>2.0</td>\n",
              "      <td>8.179631e+06</td>\n",
              "    </tr>\n",
              "    <tr>\n",
              "      <th>2</th>\n",
              "      <td>3.0</td>\n",
              "      <td>3.895369e+06</td>\n",
              "    </tr>\n",
              "    <tr>\n",
              "      <th>3</th>\n",
              "      <td>4.0</td>\n",
              "      <td>2.219888e+06</td>\n",
              "    </tr>\n",
              "    <tr>\n",
              "      <th>4</th>\n",
              "      <td>5.0</td>\n",
              "      <td>1.369992e+06</td>\n",
              "    </tr>\n",
              "    <tr>\n",
              "      <th>5</th>\n",
              "      <td>6.0</td>\n",
              "      <td>9.518109e+05</td>\n",
              "    </tr>\n",
              "    <tr>\n",
              "      <th>6</th>\n",
              "      <td>7.0</td>\n",
              "      <td>7.129182e+05</td>\n",
              "    </tr>\n",
              "    <tr>\n",
              "      <th>7</th>\n",
              "      <td>8.0</td>\n",
              "      <td>5.485204e+05</td>\n",
              "    </tr>\n",
              "    <tr>\n",
              "      <th>8</th>\n",
              "      <td>9.0</td>\n",
              "      <td>4.134445e+05</td>\n",
              "    </tr>\n",
              "  </tbody>\n",
              "</table>\n",
              "</div>"
            ],
            "text/plain": [
              "   number_of_clusters          wcss\n",
              "0                 1.0  3.967214e+07\n",
              "1                 2.0  8.179631e+06\n",
              "2                 3.0  3.895369e+06\n",
              "3                 4.0  2.219888e+06\n",
              "4                 5.0  1.369992e+06\n",
              "5                 6.0  9.518109e+05\n",
              "6                 7.0  7.129182e+05\n",
              "7                 8.0  5.485204e+05\n",
              "8                 9.0  4.134445e+05"
            ]
          },
          "metadata": {
            "tags": []
          },
          "execution_count": 64
        }
      ]
    },
    {
      "cell_type": "code",
      "metadata": {
        "id": "TVplqRWOZWta",
        "colab_type": "code",
        "colab": {
          "base_uri": "https://localhost:8080/",
          "height": 717
        },
        "outputId": "4b54863c-154b-44c8-d4be-1b8ba20dfa93"
      },
      "source": [
        "fig = make_subplots(rows=2, cols=1, shared_xaxes=True, vertical_spacing=0.02)\n",
        "\n",
        "trace1 = px.line(wcss, x='number_of_clusters', y='wcss', template='plotly_dark', color_discrete_sequence=['#03fcb5'])['data'][0]\n",
        "trace2 = px.scatter(wcss, x='number_of_clusters', y='wcss', template='plotly_dark', color_discrete_sequence=['#03fcb5'])['data'][0]\n",
        "\n",
        "fig.add_trace(trace1, row=1, col=1)\n",
        "fig.add_trace(trace2, row=2, col=1)\n",
        "fig.update_layout(template='plotly_dark', title='WCSS', width=950, height=700)\n",
        "fig.show()"
      ],
      "execution_count": 65,
      "outputs": [
        {
          "output_type": "display_data",
          "data": {
            "text/html": [
              "<html>\n",
              "<head><meta charset=\"utf-8\" /></head>\n",
              "<body>\n",
              "    <div>\n",
              "            <script src=\"https://cdnjs.cloudflare.com/ajax/libs/mathjax/2.7.5/MathJax.js?config=TeX-AMS-MML_SVG\"></script><script type=\"text/javascript\">if (window.MathJax) {MathJax.Hub.Config({SVG: {font: \"STIX-Web\"}});}</script>\n",
              "                <script type=\"text/javascript\">window.PlotlyConfig = {MathJaxConfig: 'local'};</script>\n",
              "        <script src=\"https://cdn.plot.ly/plotly-latest.min.js\"></script>    \n",
              "            <div id=\"9f5678f2-fac6-454e-8fba-156f851ffdd4\" class=\"plotly-graph-div\" style=\"height:700px; width:950px;\"></div>\n",
              "            <script type=\"text/javascript\">\n",
              "                \n",
              "                    window.PLOTLYENV=window.PLOTLYENV || {};\n",
              "                    \n",
              "                if (document.getElementById(\"9f5678f2-fac6-454e-8fba-156f851ffdd4\")) {\n",
              "                    Plotly.newPlot(\n",
              "                        '9f5678f2-fac6-454e-8fba-156f851ffdd4',\n",
              "                        [{\"hoverlabel\": {\"namelength\": 0}, \"hovertemplate\": \"number_of_clusters=%{x}<br>wcss=%{y}\", \"legendgroup\": \"\", \"line\": {\"color\": \"#03fcb5\", \"dash\": \"solid\"}, \"mode\": \"lines\", \"name\": \"\", \"showlegend\": false, \"type\": \"scatter\", \"x\": [1.0, 2.0, 3.0, 4.0, 5.0, 6.0, 7.0, 8.0, 9.0], \"xaxis\": \"x\", \"y\": [39672139.17088608, 8179631.146517279, 3895369.486435839, 2219888.3413860584, 1369992.3827217827, 951810.8863909093, 712918.1504945005, 548520.423923123, 413444.4785247486], \"yaxis\": \"y\"}, {\"hoverlabel\": {\"namelength\": 0}, \"hovertemplate\": \"number_of_clusters=%{x}<br>wcss=%{y}\", \"legendgroup\": \"\", \"marker\": {\"color\": \"#03fcb5\", \"symbol\": \"circle\"}, \"mode\": \"markers\", \"name\": \"\", \"showlegend\": false, \"type\": \"scatter\", \"x\": [1.0, 2.0, 3.0, 4.0, 5.0, 6.0, 7.0, 8.0, 9.0], \"xaxis\": \"x2\", \"y\": [39672139.17088608, 8179631.146517279, 3895369.486435839, 2219888.3413860584, 1369992.3827217827, 951810.8863909093, 712918.1504945005, 548520.423923123, 413444.4785247486], \"yaxis\": \"y2\"}],\n",
              "                        {\"height\": 700, \"template\": {\"data\": {\"bar\": [{\"error_x\": {\"color\": \"#f2f5fa\"}, \"error_y\": {\"color\": \"#f2f5fa\"}, \"marker\": {\"line\": {\"color\": \"rgb(17,17,17)\", \"width\": 0.5}}, \"type\": \"bar\"}], \"barpolar\": [{\"marker\": {\"line\": {\"color\": \"rgb(17,17,17)\", \"width\": 0.5}}, \"type\": \"barpolar\"}], \"carpet\": [{\"aaxis\": {\"endlinecolor\": \"#A2B1C6\", \"gridcolor\": \"#506784\", \"linecolor\": \"#506784\", \"minorgridcolor\": \"#506784\", \"startlinecolor\": \"#A2B1C6\"}, \"baxis\": {\"endlinecolor\": \"#A2B1C6\", \"gridcolor\": \"#506784\", \"linecolor\": \"#506784\", \"minorgridcolor\": \"#506784\", \"startlinecolor\": \"#A2B1C6\"}, \"type\": \"carpet\"}], \"choropleth\": [{\"colorbar\": {\"outlinewidth\": 0, \"ticks\": \"\"}, \"type\": \"choropleth\"}], \"contour\": [{\"colorbar\": {\"outlinewidth\": 0, \"ticks\": \"\"}, \"colorscale\": [[0.0, \"#0d0887\"], [0.1111111111111111, \"#46039f\"], [0.2222222222222222, \"#7201a8\"], [0.3333333333333333, \"#9c179e\"], [0.4444444444444444, \"#bd3786\"], [0.5555555555555556, \"#d8576b\"], [0.6666666666666666, \"#ed7953\"], [0.7777777777777778, \"#fb9f3a\"], [0.8888888888888888, \"#fdca26\"], [1.0, \"#f0f921\"]], \"type\": \"contour\"}], \"contourcarpet\": [{\"colorbar\": {\"outlinewidth\": 0, \"ticks\": \"\"}, \"type\": \"contourcarpet\"}], \"heatmap\": [{\"colorbar\": {\"outlinewidth\": 0, \"ticks\": \"\"}, \"colorscale\": [[0.0, \"#0d0887\"], [0.1111111111111111, \"#46039f\"], [0.2222222222222222, \"#7201a8\"], [0.3333333333333333, \"#9c179e\"], [0.4444444444444444, \"#bd3786\"], [0.5555555555555556, \"#d8576b\"], [0.6666666666666666, \"#ed7953\"], [0.7777777777777778, \"#fb9f3a\"], [0.8888888888888888, \"#fdca26\"], [1.0, \"#f0f921\"]], \"type\": \"heatmap\"}], \"heatmapgl\": [{\"colorbar\": {\"outlinewidth\": 0, \"ticks\": \"\"}, \"colorscale\": [[0.0, \"#0d0887\"], [0.1111111111111111, \"#46039f\"], [0.2222222222222222, \"#7201a8\"], [0.3333333333333333, \"#9c179e\"], [0.4444444444444444, \"#bd3786\"], [0.5555555555555556, \"#d8576b\"], [0.6666666666666666, \"#ed7953\"], [0.7777777777777778, \"#fb9f3a\"], [0.8888888888888888, \"#fdca26\"], [1.0, \"#f0f921\"]], \"type\": \"heatmapgl\"}], \"histogram\": [{\"marker\": {\"colorbar\": {\"outlinewidth\": 0, \"ticks\": \"\"}}, \"type\": \"histogram\"}], \"histogram2d\": [{\"colorbar\": {\"outlinewidth\": 0, \"ticks\": \"\"}, \"colorscale\": [[0.0, \"#0d0887\"], [0.1111111111111111, \"#46039f\"], [0.2222222222222222, \"#7201a8\"], [0.3333333333333333, \"#9c179e\"], [0.4444444444444444, \"#bd3786\"], [0.5555555555555556, \"#d8576b\"], [0.6666666666666666, \"#ed7953\"], [0.7777777777777778, \"#fb9f3a\"], [0.8888888888888888, \"#fdca26\"], [1.0, \"#f0f921\"]], \"type\": \"histogram2d\"}], \"histogram2dcontour\": [{\"colorbar\": {\"outlinewidth\": 0, \"ticks\": \"\"}, \"colorscale\": [[0.0, \"#0d0887\"], [0.1111111111111111, \"#46039f\"], [0.2222222222222222, \"#7201a8\"], [0.3333333333333333, \"#9c179e\"], [0.4444444444444444, \"#bd3786\"], [0.5555555555555556, \"#d8576b\"], [0.6666666666666666, \"#ed7953\"], [0.7777777777777778, \"#fb9f3a\"], [0.8888888888888888, \"#fdca26\"], [1.0, \"#f0f921\"]], \"type\": \"histogram2dcontour\"}], \"mesh3d\": [{\"colorbar\": {\"outlinewidth\": 0, \"ticks\": \"\"}, \"type\": \"mesh3d\"}], \"parcoords\": [{\"line\": {\"colorbar\": {\"outlinewidth\": 0, \"ticks\": \"\"}}, \"type\": \"parcoords\"}], \"pie\": [{\"automargin\": true, \"type\": \"pie\"}], \"scatter\": [{\"marker\": {\"line\": {\"color\": \"#283442\"}}, \"type\": \"scatter\"}], \"scatter3d\": [{\"line\": {\"colorbar\": {\"outlinewidth\": 0, \"ticks\": \"\"}}, \"marker\": {\"colorbar\": {\"outlinewidth\": 0, \"ticks\": \"\"}}, \"type\": \"scatter3d\"}], \"scattercarpet\": [{\"marker\": {\"colorbar\": {\"outlinewidth\": 0, \"ticks\": \"\"}}, \"type\": \"scattercarpet\"}], \"scattergeo\": [{\"marker\": {\"colorbar\": {\"outlinewidth\": 0, \"ticks\": \"\"}}, \"type\": \"scattergeo\"}], \"scattergl\": [{\"marker\": {\"line\": {\"color\": \"#283442\"}}, \"type\": \"scattergl\"}], \"scattermapbox\": [{\"marker\": {\"colorbar\": {\"outlinewidth\": 0, \"ticks\": \"\"}}, \"type\": \"scattermapbox\"}], \"scatterpolar\": [{\"marker\": {\"colorbar\": {\"outlinewidth\": 0, \"ticks\": \"\"}}, \"type\": \"scatterpolar\"}], \"scatterpolargl\": [{\"marker\": {\"colorbar\": {\"outlinewidth\": 0, \"ticks\": \"\"}}, \"type\": \"scatterpolargl\"}], \"scatterternary\": [{\"marker\": {\"colorbar\": {\"outlinewidth\": 0, \"ticks\": \"\"}}, \"type\": \"scatterternary\"}], \"surface\": [{\"colorbar\": {\"outlinewidth\": 0, \"ticks\": \"\"}, \"colorscale\": [[0.0, \"#0d0887\"], [0.1111111111111111, \"#46039f\"], [0.2222222222222222, \"#7201a8\"], [0.3333333333333333, \"#9c179e\"], [0.4444444444444444, \"#bd3786\"], [0.5555555555555556, \"#d8576b\"], [0.6666666666666666, \"#ed7953\"], [0.7777777777777778, \"#fb9f3a\"], [0.8888888888888888, \"#fdca26\"], [1.0, \"#f0f921\"]], \"type\": \"surface\"}], \"table\": [{\"cells\": {\"fill\": {\"color\": \"#506784\"}, \"line\": {\"color\": \"rgb(17,17,17)\"}}, \"header\": {\"fill\": {\"color\": \"#2a3f5f\"}, \"line\": {\"color\": \"rgb(17,17,17)\"}}, \"type\": \"table\"}]}, \"layout\": {\"annotationdefaults\": {\"arrowcolor\": \"#f2f5fa\", \"arrowhead\": 0, \"arrowwidth\": 1}, \"coloraxis\": {\"colorbar\": {\"outlinewidth\": 0, \"ticks\": \"\"}}, \"colorscale\": {\"diverging\": [[0, \"#8e0152\"], [0.1, \"#c51b7d\"], [0.2, \"#de77ae\"], [0.3, \"#f1b6da\"], [0.4, \"#fde0ef\"], [0.5, \"#f7f7f7\"], [0.6, \"#e6f5d0\"], [0.7, \"#b8e186\"], [0.8, \"#7fbc41\"], [0.9, \"#4d9221\"], [1, \"#276419\"]], \"sequential\": [[0.0, \"#0d0887\"], [0.1111111111111111, \"#46039f\"], [0.2222222222222222, \"#7201a8\"], [0.3333333333333333, \"#9c179e\"], [0.4444444444444444, \"#bd3786\"], [0.5555555555555556, \"#d8576b\"], [0.6666666666666666, \"#ed7953\"], [0.7777777777777778, \"#fb9f3a\"], [0.8888888888888888, \"#fdca26\"], [1.0, \"#f0f921\"]], \"sequentialminus\": [[0.0, \"#0d0887\"], [0.1111111111111111, \"#46039f\"], [0.2222222222222222, \"#7201a8\"], [0.3333333333333333, \"#9c179e\"], [0.4444444444444444, \"#bd3786\"], [0.5555555555555556, \"#d8576b\"], [0.6666666666666666, \"#ed7953\"], [0.7777777777777778, \"#fb9f3a\"], [0.8888888888888888, \"#fdca26\"], [1.0, \"#f0f921\"]]}, \"colorway\": [\"#636efa\", \"#EF553B\", \"#00cc96\", \"#ab63fa\", \"#FFA15A\", \"#19d3f3\", \"#FF6692\", \"#B6E880\", \"#FF97FF\", \"#FECB52\"], \"font\": {\"color\": \"#f2f5fa\"}, \"geo\": {\"bgcolor\": \"rgb(17,17,17)\", \"lakecolor\": \"rgb(17,17,17)\", \"landcolor\": \"rgb(17,17,17)\", \"showlakes\": true, \"showland\": true, \"subunitcolor\": \"#506784\"}, \"hoverlabel\": {\"align\": \"left\"}, \"hovermode\": \"closest\", \"mapbox\": {\"style\": \"dark\"}, \"paper_bgcolor\": \"rgb(17,17,17)\", \"plot_bgcolor\": \"rgb(17,17,17)\", \"polar\": {\"angularaxis\": {\"gridcolor\": \"#506784\", \"linecolor\": \"#506784\", \"ticks\": \"\"}, \"bgcolor\": \"rgb(17,17,17)\", \"radialaxis\": {\"gridcolor\": \"#506784\", \"linecolor\": \"#506784\", \"ticks\": \"\"}}, \"scene\": {\"xaxis\": {\"backgroundcolor\": \"rgb(17,17,17)\", \"gridcolor\": \"#506784\", \"gridwidth\": 2, \"linecolor\": \"#506784\", \"showbackground\": true, \"ticks\": \"\", \"zerolinecolor\": \"#C8D4E3\"}, \"yaxis\": {\"backgroundcolor\": \"rgb(17,17,17)\", \"gridcolor\": \"#506784\", \"gridwidth\": 2, \"linecolor\": \"#506784\", \"showbackground\": true, \"ticks\": \"\", \"zerolinecolor\": \"#C8D4E3\"}, \"zaxis\": {\"backgroundcolor\": \"rgb(17,17,17)\", \"gridcolor\": \"#506784\", \"gridwidth\": 2, \"linecolor\": \"#506784\", \"showbackground\": true, \"ticks\": \"\", \"zerolinecolor\": \"#C8D4E3\"}}, \"shapedefaults\": {\"line\": {\"color\": \"#f2f5fa\"}}, \"sliderdefaults\": {\"bgcolor\": \"#C8D4E3\", \"bordercolor\": \"rgb(17,17,17)\", \"borderwidth\": 1, \"tickwidth\": 0}, \"ternary\": {\"aaxis\": {\"gridcolor\": \"#506784\", \"linecolor\": \"#506784\", \"ticks\": \"\"}, \"baxis\": {\"gridcolor\": \"#506784\", \"linecolor\": \"#506784\", \"ticks\": \"\"}, \"bgcolor\": \"rgb(17,17,17)\", \"caxis\": {\"gridcolor\": \"#506784\", \"linecolor\": \"#506784\", \"ticks\": \"\"}}, \"title\": {\"x\": 0.05}, \"updatemenudefaults\": {\"bgcolor\": \"#506784\", \"borderwidth\": 0}, \"xaxis\": {\"automargin\": true, \"gridcolor\": \"#283442\", \"linecolor\": \"#506784\", \"ticks\": \"\", \"title\": {\"standoff\": 15}, \"zerolinecolor\": \"#283442\", \"zerolinewidth\": 2}, \"yaxis\": {\"automargin\": true, \"gridcolor\": \"#283442\", \"linecolor\": \"#506784\", \"ticks\": \"\", \"title\": {\"standoff\": 15}, \"zerolinecolor\": \"#283442\", \"zerolinewidth\": 2}}}, \"title\": {\"text\": \"WCSS\"}, \"width\": 950, \"xaxis\": {\"anchor\": \"y\", \"domain\": [0.0, 1.0], \"matches\": \"x2\", \"showticklabels\": false}, \"xaxis2\": {\"anchor\": \"y2\", \"domain\": [0.0, 1.0]}, \"yaxis\": {\"anchor\": \"x\", \"domain\": [0.51, 1.0]}, \"yaxis2\": {\"anchor\": \"x2\", \"domain\": [0.0, 0.49]}},\n",
              "                        {\"responsive\": true}\n",
              "                    ).then(function(){\n",
              "                            \n",
              "var gd = document.getElementById('9f5678f2-fac6-454e-8fba-156f851ffdd4');\n",
              "var x = new MutationObserver(function (mutations, observer) {{\n",
              "        var display = window.getComputedStyle(gd).display;\n",
              "        if (!display || display === 'none') {{\n",
              "            console.log([gd, 'removed!']);\n",
              "            Plotly.purge(gd);\n",
              "            observer.disconnect();\n",
              "        }}\n",
              "}});\n",
              "\n",
              "// Listen for the removal of the full notebook cells\n",
              "var notebookContainer = gd.closest('#notebook-container');\n",
              "if (notebookContainer) {{\n",
              "    x.observe(notebookContainer, {childList: true});\n",
              "}}\n",
              "\n",
              "// Listen for the clearing of the current output cell\n",
              "var outputEl = gd.closest('.output');\n",
              "if (outputEl) {{\n",
              "    x.observe(outputEl, {childList: true});\n",
              "}}\n",
              "\n",
              "                        })\n",
              "                };\n",
              "                \n",
              "            </script>\n",
              "        </div>\n",
              "</body>\n",
              "</html>"
            ]
          },
          "metadata": {
            "tags": []
          }
        }
      ]
    },
    {
      "cell_type": "code",
      "metadata": {
        "id": "Xl7Wf0M9ZoMM",
        "colab_type": "code",
        "colab": {
          "base_uri": "https://localhost:8080/",
          "height": 69
        },
        "outputId": "7790e849-de1e-494b-942f-66b8563cef10"
      },
      "source": [
        "kmeans = KMeans(n_clusters=3)\n",
        "kmeans.fit(data_user)"
      ],
      "execution_count": 66,
      "outputs": [
        {
          "output_type": "execute_result",
          "data": {
            "text/plain": [
              "KMeans(algorithm='auto', copy_x=True, init='k-means++', max_iter=300,\n",
              "       n_clusters=3, n_init=10, n_jobs=None, precompute_distances='auto',\n",
              "       random_state=None, tol=0.0001, verbose=0)"
            ]
          },
          "metadata": {
            "tags": []
          },
          "execution_count": 66
        }
      ]
    },
    {
      "cell_type": "code",
      "metadata": {
        "id": "elLhjAh2aPZ0",
        "colab_type": "code",
        "colab": {
          "base_uri": "https://localhost:8080/",
          "height": 202
        },
        "outputId": "5c7ea69f-5c9d-434a-a384-9cfccadd327c"
      },
      "source": [
        "data_user['Cluster'] = kmeans.labels_\n",
        "data_user.head()"
      ],
      "execution_count": 67,
      "outputs": [
        {
          "output_type": "execute_result",
          "data": {
            "text/html": [
              "<div>\n",
              "<style scoped>\n",
              "    .dataframe tbody tr th:only-of-type {\n",
              "        vertical-align: middle;\n",
              "    }\n",
              "\n",
              "    .dataframe tbody tr th {\n",
              "        vertical-align: top;\n",
              "    }\n",
              "\n",
              "    .dataframe thead th {\n",
              "        text-align: right;\n",
              "    }\n",
              "</style>\n",
              "<table border=\"1\" class=\"dataframe\">\n",
              "  <thead>\n",
              "    <tr style=\"text-align: right;\">\n",
              "      <th></th>\n",
              "      <th>CustomerID</th>\n",
              "      <th>Retention</th>\n",
              "      <th>cluster</th>\n",
              "      <th>Cluster</th>\n",
              "    </tr>\n",
              "  </thead>\n",
              "  <tbody>\n",
              "    <tr>\n",
              "      <th>0</th>\n",
              "      <td>17850</td>\n",
              "      <td>301</td>\n",
              "      <td>1</td>\n",
              "      <td>1</td>\n",
              "    </tr>\n",
              "    <tr>\n",
              "      <th>1</th>\n",
              "      <td>13047</td>\n",
              "      <td>31</td>\n",
              "      <td>0</td>\n",
              "      <td>0</td>\n",
              "    </tr>\n",
              "    <tr>\n",
              "      <th>2</th>\n",
              "      <td>13748</td>\n",
              "      <td>95</td>\n",
              "      <td>0</td>\n",
              "      <td>0</td>\n",
              "    </tr>\n",
              "    <tr>\n",
              "      <th>3</th>\n",
              "      <td>15100</td>\n",
              "      <td>329</td>\n",
              "      <td>2</td>\n",
              "      <td>2</td>\n",
              "    </tr>\n",
              "    <tr>\n",
              "      <th>4</th>\n",
              "      <td>15291</td>\n",
              "      <td>25</td>\n",
              "      <td>2</td>\n",
              "      <td>2</td>\n",
              "    </tr>\n",
              "  </tbody>\n",
              "</table>\n",
              "</div>"
            ],
            "text/plain": [
              "   CustomerID  Retention  cluster  Cluster\n",
              "0       17850        301        1        1\n",
              "1       13047         31        0        0\n",
              "2       13748         95        0        0\n",
              "3       15100        329        2        2\n",
              "4       15291         25        2        2"
            ]
          },
          "metadata": {
            "tags": []
          },
          "execution_count": 67
        }
      ]
    },
    {
      "cell_type": "code",
      "metadata": {
        "id": "PMc0YC6taWAQ",
        "colab_type": "code",
        "colab": {
          "base_uri": "https://localhost:8080/",
          "height": 222
        },
        "outputId": "3b8d0138-c222-4ff0-f203-6b57462c5634"
      },
      "source": [
        "data_user.groupby('Cluster').describe()"
      ],
      "execution_count": 68,
      "outputs": [
        {
          "output_type": "execute_result",
          "data": {
            "text/html": [
              "<div>\n",
              "<style scoped>\n",
              "    .dataframe tbody tr th:only-of-type {\n",
              "        vertical-align: middle;\n",
              "    }\n",
              "\n",
              "    .dataframe tbody tr th {\n",
              "        vertical-align: top;\n",
              "    }\n",
              "\n",
              "    .dataframe thead tr th {\n",
              "        text-align: left;\n",
              "    }\n",
              "\n",
              "    .dataframe thead tr:last-of-type th {\n",
              "        text-align: right;\n",
              "    }\n",
              "</style>\n",
              "<table border=\"1\" class=\"dataframe\">\n",
              "  <thead>\n",
              "    <tr>\n",
              "      <th></th>\n",
              "      <th colspan=\"8\" halign=\"left\">CustomerID</th>\n",
              "      <th colspan=\"8\" halign=\"left\">Retention</th>\n",
              "      <th colspan=\"8\" halign=\"left\">cluster</th>\n",
              "    </tr>\n",
              "    <tr>\n",
              "      <th></th>\n",
              "      <th>count</th>\n",
              "      <th>mean</th>\n",
              "      <th>std</th>\n",
              "      <th>min</th>\n",
              "      <th>25%</th>\n",
              "      <th>50%</th>\n",
              "      <th>75%</th>\n",
              "      <th>max</th>\n",
              "      <th>count</th>\n",
              "      <th>mean</th>\n",
              "      <th>std</th>\n",
              "      <th>min</th>\n",
              "      <th>25%</th>\n",
              "      <th>50%</th>\n",
              "      <th>75%</th>\n",
              "      <th>max</th>\n",
              "      <th>count</th>\n",
              "      <th>mean</th>\n",
              "      <th>std</th>\n",
              "      <th>min</th>\n",
              "      <th>25%</th>\n",
              "      <th>50%</th>\n",
              "      <th>75%</th>\n",
              "      <th>max</th>\n",
              "    </tr>\n",
              "    <tr>\n",
              "      <th>Cluster</th>\n",
              "      <th></th>\n",
              "      <th></th>\n",
              "      <th></th>\n",
              "      <th></th>\n",
              "      <th></th>\n",
              "      <th></th>\n",
              "      <th></th>\n",
              "      <th></th>\n",
              "      <th></th>\n",
              "      <th></th>\n",
              "      <th></th>\n",
              "      <th></th>\n",
              "      <th></th>\n",
              "      <th></th>\n",
              "      <th></th>\n",
              "      <th></th>\n",
              "      <th></th>\n",
              "      <th></th>\n",
              "      <th></th>\n",
              "      <th></th>\n",
              "      <th></th>\n",
              "      <th></th>\n",
              "      <th></th>\n",
              "      <th></th>\n",
              "    </tr>\n",
              "  </thead>\n",
              "  <tbody>\n",
              "    <tr>\n",
              "      <th>0</th>\n",
              "      <td>1322.0</td>\n",
              "      <td>13742.080938</td>\n",
              "      <td>540.070579</td>\n",
              "      <td>12346.0</td>\n",
              "      <td>13271.25</td>\n",
              "      <td>13740.5</td>\n",
              "      <td>14211.75</td>\n",
              "      <td>14667.0</td>\n",
              "      <td>1322.0</td>\n",
              "      <td>88.684569</td>\n",
              "      <td>98.434120</td>\n",
              "      <td>0.0</td>\n",
              "      <td>15.0</td>\n",
              "      <td>49.0</td>\n",
              "      <td>136.75</td>\n",
              "      <td>373.0</td>\n",
              "      <td>1322.0</td>\n",
              "      <td>0.025719</td>\n",
              "      <td>0.225420</td>\n",
              "      <td>0.0</td>\n",
              "      <td>0.0</td>\n",
              "      <td>0.0</td>\n",
              "      <td>0.0</td>\n",
              "      <td>2.0</td>\n",
              "    </tr>\n",
              "    <tr>\n",
              "      <th>1</th>\n",
              "      <td>1297.0</td>\n",
              "      <td>17391.124133</td>\n",
              "      <td>520.450080</td>\n",
              "      <td>16493.0</td>\n",
              "      <td>16932.00</td>\n",
              "      <td>17396.0</td>\n",
              "      <td>17849.00</td>\n",
              "      <td>18287.0</td>\n",
              "      <td>1297.0</td>\n",
              "      <td>91.850424</td>\n",
              "      <td>102.641896</td>\n",
              "      <td>0.0</td>\n",
              "      <td>15.0</td>\n",
              "      <td>46.0</td>\n",
              "      <td>146.00</td>\n",
              "      <td>373.0</td>\n",
              "      <td>1297.0</td>\n",
              "      <td>1.000000</td>\n",
              "      <td>0.000000</td>\n",
              "      <td>1.0</td>\n",
              "      <td>1.0</td>\n",
              "      <td>1.0</td>\n",
              "      <td>1.0</td>\n",
              "      <td>1.0</td>\n",
              "    </tr>\n",
              "    <tr>\n",
              "      <th>2</th>\n",
              "      <td>1331.0</td>\n",
              "      <td>15587.300526</td>\n",
              "      <td>523.020524</td>\n",
              "      <td>14669.0</td>\n",
              "      <td>15141.00</td>\n",
              "      <td>15589.0</td>\n",
              "      <td>16041.50</td>\n",
              "      <td>16491.0</td>\n",
              "      <td>1331.0</td>\n",
              "      <td>91.813674</td>\n",
              "      <td>99.661336</td>\n",
              "      <td>0.0</td>\n",
              "      <td>17.0</td>\n",
              "      <td>49.0</td>\n",
              "      <td>145.50</td>\n",
              "      <td>373.0</td>\n",
              "      <td>1331.0</td>\n",
              "      <td>1.990233</td>\n",
              "      <td>0.098382</td>\n",
              "      <td>1.0</td>\n",
              "      <td>2.0</td>\n",
              "      <td>2.0</td>\n",
              "      <td>2.0</td>\n",
              "      <td>2.0</td>\n",
              "    </tr>\n",
              "  </tbody>\n",
              "</table>\n",
              "</div>"
            ],
            "text/plain": [
              "        CustomerID                                     ... cluster               \n",
              "             count          mean         std      min  ...     25%  50%  75%  max\n",
              "Cluster                                                ...                       \n",
              "0           1322.0  13742.080938  540.070579  12346.0  ...     0.0  0.0  0.0  2.0\n",
              "1           1297.0  17391.124133  520.450080  16493.0  ...     1.0  1.0  1.0  1.0\n",
              "2           1331.0  15587.300526  523.020524  14669.0  ...     2.0  2.0  2.0  2.0\n",
              "\n",
              "[3 rows x 24 columns]"
            ]
          },
          "metadata": {
            "tags": []
          },
          "execution_count": 68
        }
      ]
    },
    {
      "cell_type": "code",
      "metadata": {
        "id": "i_DB6HGMakF3",
        "colab_type": "code",
        "colab": {
          "base_uri": "https://localhost:8080/",
          "height": 542
        },
        "outputId": "0c421b4f-9302-4663-b370-cb12c374e7b7"
      },
      "source": [
        "px.scatter(data_user, x='CustomerID', y='Retention', color='Cluster', template='plotly_dark',\n",
        "           color_discrete_sequence=['#03fcb5'])"
      ],
      "execution_count": 69,
      "outputs": [
        {
          "output_type": "display_data",
          "data": {
            "text/html": [
              "<html>\n",
              "<head><meta charset=\"utf-8\" /></head>\n",
              "<body>\n",
              "    <div>\n",
              "            <script src=\"https://cdnjs.cloudflare.com/ajax/libs/mathjax/2.7.5/MathJax.js?config=TeX-AMS-MML_SVG\"></script><script type=\"text/javascript\">if (window.MathJax) {MathJax.Hub.Config({SVG: {font: \"STIX-Web\"}});}</script>\n",
              "                <script type=\"text/javascript\">window.PlotlyConfig = {MathJaxConfig: 'local'};</script>\n",
              "        <script src=\"https://cdn.plot.ly/plotly-latest.min.js\"></script>    \n",
              "            <div id=\"7b0ca64e-a1aa-441c-a6e1-0dcf9065662a\" class=\"plotly-graph-div\" style=\"height:525px; width:100%;\"></div>\n",
              "            <script type=\"text/javascript\">\n",
              "                \n",
              "                    window.PLOTLYENV=window.PLOTLYENV || {};\n",
              "                    \n",
              "                if (document.getElementById(\"7b0ca64e-a1aa-441c-a6e1-0dcf9065662a\")) {\n",
              "                    Plotly.newPlot(\n",
              "                        '7b0ca64e-a1aa-441c-a6e1-0dcf9065662a',\n",
              "                        [{\"hoverlabel\": {\"namelength\": 0}, \"hovertemplate\": \"CustomerID=%{x}<br>Retention=%{y}<br>Cluster=%{marker.color}\", \"legendgroup\": \"\", \"marker\": {\"color\": [1, 0, 0, 2, 2, 2, 1, 2, 0, 2, 1, 1, 2, 2, 1, 1, 0, 0, 0, 0, 1, 0, 2, 2, 2, 0, 0, 1, 1, 0, 0, 1, 1, 0, 0, 2, 2, 1, 2, 1, 1, 1, 1, 1, 2, 0, 2, 0, 1, 0, 0, 2, 0, 1, 2, 1, 2, 2, 1, 2, 0, 2, 2, 1, 1, 1, 1, 0, 0, 0, 1, 1, 2, 2, 0, 2, 1, 1, 0, 1, 0, 1, 1, 0, 1, 0, 0, 1, 2, 0, 1, 0, 2, 2, 0, 0, 1, 0, 2, 1, 0, 1, 0, 1, 0, 0, 2, 0, 2, 2, 0, 2, 1, 2, 2, 2, 2, 0, 1, 2, 0, 0, 0, 2, 1, 1, 2, 0, 2, 2, 2, 1, 2, 0, 0, 1, 1, 0, 1, 1, 1, 2, 1, 0, 2, 1, 1, 0, 2, 1, 1, 2, 0, 2, 1, 2, 2, 2, 2, 1, 1, 1, 2, 1, 0, 2, 0, 2, 1, 2, 2, 0, 0, 1, 0, 1, 1, 0, 0, 0, 2, 0, 0, 1, 1, 1, 0, 0, 0, 2, 2, 2, 1, 0, 1, 0, 1, 1, 0, 0, 2, 2, 1, 0, 1, 0, 1, 1, 1, 0, 2, 1, 0, 0, 0, 2, 2, 1, 1, 1, 2, 1, 1, 2, 2, 1, 1, 2, 0, 2, 1, 2, 0, 2, 1, 2, 2, 0, 2, 0, 2, 1, 2, 1, 0, 2, 2, 1, 2, 1, 1, 0, 2, 1, 2, 2, 1, 0, 0, 1, 2, 1, 2, 1, 1, 2, 1, 1, 2, 2, 1, 2, 1, 2, 0, 1, 2, 2, 2, 1, 2, 2, 2, 0, 2, 0, 2, 2, 2, 2, 0, 2, 0, 1, 0, 0, 0, 2, 1, 0, 1, 2, 1, 1, 0, 2, 1, 1, 0, 2, 2, 1, 1, 2, 2, 0, 2, 0, 2, 2, 0, 1, 2, 2, 2, 1, 2, 1, 1, 2, 0, 1, 0, 2, 1, 1, 1, 0, 1, 2, 0, 1, 1, 2, 1, 1, 1, 2, 1, 1, 0, 1, 2, 0, 1, 1, 2, 0, 0, 1, 1, 1, 0, 2, 1, 1, 0, 1, 0, 2, 2, 0, 1, 1, 1, 1, 2, 2, 1, 2, 1, 2, 2, 0, 0, 0, 2, 1, 1, 0, 0, 2, 2, 0, 2, 2, 2, 2, 1, 0, 1, 2, 0, 0, 0, 2, 2, 2, 2, 1, 1, 2, 1, 1, 0, 0, 2, 2, 1, 2, 1, 2, 1, 0, 0, 0, 2, 2, 1, 0, 0, 1, 2, 1, 2, 0, 0, 0, 0, 1, 2, 1, 2, 1, 2, 0, 2, 1, 1, 1, 2, 1, 2, 1, 1, 1, 0, 2, 2, 2, 2, 1, 1, 0, 1, 0, 0, 1, 0, 1, 1, 1, 1, 2, 1, 0, 0, 2, 2, 2, 0, 1, 0, 0, 2, 0, 0, 0, 0, 0, 2, 1, 2, 1, 0, 2, 0, 2, 1, 1, 2, 1, 1, 0, 0, 2, 0, 0, 2, 1, 2, 1, 0, 0, 1, 1, 2, 0, 1, 2, 0, 0, 0, 2, 1, 1, 2, 2, 2, 0, 0, 1, 2, 0, 2, 1, 1, 1, 1, 0, 2, 1, 1, 2, 0, 1, 1, 1, 2, 0, 2, 1, 2, 1, 1, 0, 1, 1, 2, 0, 1, 0, 2, 2, 2, 2, 2, 1, 1, 2, 2, 0, 0, 1, 2, 1, 1, 1, 2, 1, 0, 1, 0, 0, 1, 2, 1, 0, 0, 0, 2, 1, 2, 1, 1, 0, 0, 0, 2, 1, 2, 0, 1, 1, 1, 1, 0, 2, 1, 0, 2, 1, 1, 0, 1, 2, 0, 1, 1, 2, 0, 1, 2, 1, 0, 2, 1, 2, 2, 0, 1, 0, 1, 2, 2, 1, 0, 1, 0, 1, 0, 0, 2, 2, 0, 0, 0, 0, 2, 1, 1, 1, 0, 1, 1, 1, 0, 1, 1, 0, 1, 1, 1, 1, 1, 1, 1, 1, 2, 0, 2, 0, 0, 0, 0, 0, 0, 2, 2, 1, 2, 1, 0, 1, 1, 2, 1, 2, 2, 2, 1, 0, 2, 0, 1, 1, 2, 0, 1, 0, 1, 1, 1, 1, 1, 1, 0, 0, 0, 0, 2, 0, 0, 2, 1, 0, 0, 0, 1, 1, 1, 1, 2, 2, 1, 0, 0, 2, 0, 0, 2, 1, 0, 0, 1, 2, 2, 1, 1, 2, 2, 0, 1, 2, 2, 0, 2, 1, 2, 1, 2, 1, 0, 1, 0, 1, 2, 1, 1, 1, 0, 0, 1, 2, 1, 2, 2, 2, 1, 1, 1, 2, 0, 2, 0, 1, 2, 1, 1, 0, 2, 0, 2, 0, 1, 2, 2, 1, 2, 2, 2, 1, 0, 1, 2, 2, 0, 1, 2, 2, 2, 1, 2, 1, 1, 0, 1, 0, 2, 0, 0, 1, 1, 1, 2, 0, 0, 0, 0, 2, 2, 1, 1, 2, 1, 1, 2, 0, 0, 0, 1, 1, 0, 1, 1, 1, 1, 1, 2, 0, 2, 0, 0, 0, 1, 0, 1, 1, 0, 2, 1, 2, 2, 2, 1, 2, 0, 2, 0, 1, 1, 0, 0, 2, 1, 0, 2, 2, 0, 0, 0, 0, 1, 2, 0, 0, 0, 0, 2, 1, 2, 0, 0, 0, 1, 2, 2, 0, 1, 2, 1, 2, 0, 1, 1, 2, 0, 2, 1, 1, 1, 0, 2, 0, 1, 1, 2, 1, 0, 0, 0, 0, 2, 2, 0, 1, 2, 1, 1, 2, 0, 2, 2, 1, 1, 1, 1, 0, 2, 2, 0, 0, 0, 1, 0, 2, 1, 2, 2, 1, 2, 1, 1, 1, 1, 1, 2, 1, 0, 2, 1, 0, 2, 1, 2, 1, 1, 0, 2, 1, 0, 0, 0, 1, 2, 2, 0, 0, 1, 2, 0, 2, 2, 0, 2, 1, 2, 2, 1, 2, 2, 0, 2, 1, 0, 0, 1, 2, 0, 1, 2, 1, 2, 0, 2, 0, 0, 0, 2, 0, 1, 1, 0, 1, 0, 2, 1, 0, 0, 2, 2, 2, 2, 2, 0, 0, 2, 1, 0, 2, 2, 0, 1, 2, 0, 2, 2, 0, 0, 1, 0, 0, 0, 1, 0, 1, 1, 1, 2, 2, 0, 2, 2, 2, 1, 0, 0, 0, 0, 1, 0, 0, 0, 1, 0, 0, 1, 1, 0, 0, 0, 1, 1, 2, 0, 0, 0, 1, 0, 2, 2, 0, 2, 1, 0, 0, 2, 2, 1, 2, 2, 1, 1, 1, 2, 2, 1, 2, 2, 1, 2, 1, 1, 0, 1, 2, 0, 1, 1, 1, 0, 1, 0, 2, 0, 2, 2, 0, 0, 1, 0, 0, 0, 2, 0, 0, 2, 1, 1, 2, 1, 1, 0, 0, 1, 0, 0, 2, 2, 0, 2, 0, 0, 0, 0, 2, 2, 0, 2, 1, 0, 1, 1, 0, 0, 2, 2, 0, 0, 1, 1, 1, 0, 0, 2, 0, 0, 0, 0, 2, 2, 0, 1, 0, 0, 1, 1, 0, 1, 1, 2, 2, 0, 2, 0, 2, 1, 1, 1, 1, 2, 1, 2, 2, 1, 2, 1, 0, 1, 0, 2, 2, 0, 1, 2, 0, 0, 0, 0, 1, 0, 1, 0, 0, 2, 0, 0, 1, 2, 1, 2, 0, 0, 2, 1, 1, 0, 2, 1, 1, 1, 0, 0, 2, 2, 2, 2, 1, 1, 1, 0, 0, 2, 1, 0, 1, 0, 1, 0, 0, 1, 0, 0, 0, 2, 1, 2, 1, 1, 0, 2, 2, 1, 0, 1, 2, 2, 0, 0, 2, 0, 1, 2, 0, 2, 0, 0, 2, 0, 0, 1, 2, 0, 1, 2, 1, 2, 0, 1, 1, 2, 1, 0, 1, 0, 2, 2, 0, 0, 1, 0, 0, 0, 2, 0, 1, 0, 1, 0, 1, 1, 2, 1, 1, 0, 0, 0, 0, 2, 1, 2, 2, 0, 0, 2, 0, 1, 0, 0, 2, 0, 0, 1, 1, 0, 0, 1, 1, 2, 2, 2, 0, 0, 1, 2, 0, 1, 1, 0, 1, 2, 1, 2, 0, 1, 1, 0, 1, 1, 0, 2, 0, 1, 2, 0, 2, 1, 2, 0, 2, 2, 1, 1, 0, 1, 2, 2, 1, 0, 2, 0, 0, 2, 1, 1, 2, 1, 0, 1, 1, 2, 1, 0, 0, 2, 0, 0, 0, 0, 0, 1, 1, 1, 2, 1, 1, 0, 0, 0, 0, 2, 2, 2, 0, 2, 2, 2, 1, 0, 0, 2, 2, 0, 0, 0, 1, 2, 2, 1, 1, 1, 0, 0, 2, 2, 0, 0, 2, 2, 1, 0, 0, 0, 0, 0, 2, 0, 2, 0, 0, 2, 0, 0, 0, 1, 1, 1, 0, 2, 2, 0, 0, 2, 0, 0, 1, 1, 2, 1, 1, 2, 0, 2, 1, 2, 0, 0, 2, 2, 0, 1, 0, 1, 2, 2, 1, 1, 2, 0, 1, 2, 1, 0, 1, 0, 0, 1, 0, 1, 2, 0, 0, 2, 1, 0, 1, 0, 2, 1, 0, 1, 2, 1, 2, 1, 1, 0, 1, 0, 0, 2, 1, 0, 1, 2, 2, 1, 0, 1, 2, 1, 2, 0, 2, 0, 0, 0, 1, 1, 2, 0, 0, 1, 1, 0, 0, 0, 0, 1, 0, 2, 0, 0, 1, 0, 2, 0, 1, 0, 0, 0, 0, 2, 0, 2, 2, 0, 0, 1, 1, 0, 2, 2, 2, 0, 0, 2, 0, 2, 1, 1, 1, 0, 2, 2, 2, 1, 2, 2, 2, 0, 2, 2, 2, 2, 0, 0, 0, 2, 2, 2, 1, 0, 0, 2, 2, 1, 2, 0, 2, 2, 1, 2, 2, 0, 1, 2, 1, 1, 1, 1, 0, 2, 1, 1, 2, 1, 2, 1, 1, 1, 1, 1, 0, 2, 0, 0, 0, 2, 0, 0, 0, 2, 1, 2, 2, 2, 2, 2, 1, 2, 2, 0, 1, 0, 2, 1, 0, 2, 2, 2, 1, 0, 1, 2, 0, 0, 2, 1, 2, 1, 2, 1, 2, 2, 1, 2, 2, 2, 2, 0, 2, 0, 1, 0, 0, 0, 2, 0, 0, 1, 1, 2, 1, 0, 0, 1, 2, 0, 0, 2, 0, 0, 0, 1, 1, 1, 0, 2, 0, 2, 0, 0, 2, 1, 0, 1, 2, 1, 0, 2, 1, 0, 2, 2, 1, 0, 1, 2, 0, 2, 1, 0, 1, 1, 1, 1, 0, 0, 0, 1, 1, 1, 0, 0, 2, 2, 2, 1, 2, 1, 0, 0, 2, 2, 1, 0, 2, 0, 1, 1, 2, 2, 2, 0, 2, 2, 0, 0, 2, 0, 2, 0, 2, 2, 0, 0, 2, 0, 2, 2, 2, 0, 1, 0, 1, 0, 2, 0, 0, 0, 0, 2, 0, 1, 2, 2, 1, 1, 0, 0, 2, 1, 2, 0, 2, 0, 0, 1, 1, 2, 0, 0, 2, 1, 2, 1, 0, 1, 0, 1, 2, 1, 0, 0, 1, 0, 0, 0, 2, 0, 1, 1, 0, 2, 0, 2, 1, 2, 0, 0, 2, 0, 0, 2, 2, 2, 0, 1, 2, 0, 2, 2, 1, 0, 1, 2, 2, 1, 0, 1, 0, 0, 2, 2, 1, 2, 0, 2, 1, 2, 0, 2, 0, 2, 1, 1, 1, 2, 0, 2, 2, 0, 1, 1, 0, 0, 1, 2, 1, 2, 0, 0, 2, 0, 1, 1, 0, 2, 0, 0, 0, 1, 1, 0, 0, 2, 0, 1, 1, 2, 2, 0, 2, 0, 1, 0, 2, 0, 0, 1, 0, 1, 1, 1, 2, 1, 0, 1, 0, 2, 1, 2, 1, 2, 0, 2, 1, 2, 0, 2, 0, 0, 1, 0, 1, 1, 1, 0, 1, 2, 2, 0, 0, 0, 2, 0, 2, 1, 1, 0, 1, 2, 0, 1, 1, 2, 1, 0, 2, 2, 2, 2, 2, 1, 1, 0, 2, 2, 2, 2, 0, 0, 1, 1, 0, 2, 0, 1, 1, 2, 0, 1, 2, 0, 1, 1, 0, 1, 0, 2, 0, 2, 2, 0, 0, 1, 0, 1, 2, 1, 0, 2, 2, 1, 0, 2, 1, 1, 2, 2, 2, 0, 1, 2, 0, 2, 1, 0, 2, 2, 1, 2, 1, 0, 1, 1, 0, 0, 2, 1, 1, 1, 2, 2, 2, 0, 1, 0, 1, 1, 2, 0, 2, 0, 0, 0, 0, 2, 2, 0, 2, 2, 0, 2, 1, 2, 1, 0, 0, 1, 0, 1, 1, 2, 2, 2, 2, 1, 0, 0, 1, 2, 0, 2, 1, 1, 0, 0, 0, 0, 1, 0, 2, 1, 2, 0, 2, 2, 1, 2, 1, 0, 0, 0, 0, 0, 2, 0, 0, 0, 2, 0, 0, 0, 2, 0, 1, 2, 1, 2, 1, 2, 1, 2, 0, 1, 1, 0, 2, 2, 2, 2, 0, 0, 0, 1, 2, 0, 1, 1, 2, 2, 2, 2, 2, 2, 1, 1, 1, 0, 2, 0, 0, 1, 0, 0, 0, 0, 1, 1, 2, 1, 0, 0, 0, 0, 1, 2, 2, 1, 1, 1, 0, 2, 2, 2, 0, 2, 1, 0, 1, 1, 1, 2, 1, 2, 2, 1, 2, 0, 2, 1, 2, 1, 0, 2, 0, 0, 0, 2, 0, 1, 0, 2, 0, 2, 1, 1, 2, 0, 2, 0, 2, 1, 0, 2, 1, 1, 1, 2, 1, 2, 2, 0, 1, 1, 1, 1, 0, 2, 1, 1, 1, 0, 0, 1, 1, 1, 0, 1, 2, 1, 1, 1, 1, 0, 2, 1, 0, 1, 2, 2, 2, 1, 0, 2, 0, 2, 0, 2, 2, 1, 0, 2, 2, 2, 0, 1, 2, 0, 1, 0, 0, 2, 2, 1, 2, 0, 1, 0, 1, 2, 1, 1, 0, 2, 2, 1, 1, 0, 0, 1, 0, 0, 2, 1, 0, 0, 0, 2, 1, 0, 1, 0, 1, 0, 1, 1, 2, 2, 2, 1, 0, 1, 0, 1, 0, 1, 2, 2, 1, 0, 0, 2, 2, 1, 0, 2, 0, 2, 2, 2, 1, 0, 0, 0, 0, 1, 2, 1, 1, 2, 0, 0, 0, 2, 1, 2, 1, 0, 0, 0, 2, 0, 0, 0, 2, 2, 2, 1, 0, 2, 1, 2, 2, 0, 1, 1, 0, 0, 2, 0, 2, 0, 2, 2, 2, 0, 2, 2, 1, 1, 2, 1, 1, 0, 0, 0, 1, 2, 2, 0, 2, 2, 2, 2, 2, 2, 1, 1, 1, 0, 0, 0, 2, 1, 0, 1, 0, 2, 2, 2, 2, 1, 2, 1, 0, 1, 0, 0, 0, 0, 0, 1, 0, 1, 2, 1, 1, 2, 1, 2, 1, 0, 2, 1, 2, 2, 2, 0, 0, 0, 1, 1, 0, 1, 0, 0, 0, 2, 1, 1, 1, 1, 0, 2, 0, 0, 0, 1, 2, 2, 2, 2, 0, 2, 2, 0, 0, 0, 1, 1, 2, 2, 0, 0, 1, 2, 1, 2, 0, 2, 2, 0, 0, 1, 2, 0, 2, 0, 0, 0, 2, 2, 1, 1, 1, 2, 0, 0, 1, 2, 0, 2, 2, 0, 2, 2, 1, 2, 2, 2, 0, 0, 2, 2, 1, 2, 1, 0, 0, 0, 2, 2, 1, 0, 1, 0, 1, 1, 2, 0, 2, 0, 1, 2, 1, 1, 0, 0, 2, 1, 2, 1, 0, 2, 2, 2, 1, 2, 2, 1, 2, 1, 0, 1, 1, 0, 2, 0, 1, 0, 1, 1, 0, 2, 1, 0, 2, 0, 1, 2, 2, 0, 1, 0, 0, 0, 2, 1, 2, 1, 2, 2, 1, 2, 0, 1, 2, 1, 1, 1, 2, 0, 2, 1, 2, 1, 0, 1, 1, 2, 2, 1, 0, 0, 0, 2, 0, 2, 2, 0, 1, 2, 1, 0, 0, 0, 1, 0, 1, 2, 1, 2, 0, 1, 1, 2, 1, 0, 2, 1, 1, 2, 1, 2, 0, 1, 0, 0, 1, 1, 2, 2, 2, 1, 2, 0, 2, 1, 1, 2, 0, 2, 1, 2, 1, 0, 2, 2, 2, 2, 2, 2, 0, 2, 2, 2, 1, 0, 2, 1, 1, 1, 0, 2, 1, 2, 0, 0, 2, 0, 0, 1, 2, 2, 2, 0, 2, 1, 1, 2, 0, 1, 0, 2, 2, 0, 2, 1, 1, 1, 0, 1, 0, 1, 1, 0, 1, 1, 1, 2, 1, 0, 0, 1, 2, 0, 1, 2, 2, 0, 1, 1, 1, 1, 0, 1, 0, 2, 0, 1, 1, 0, 1, 2, 1, 1, 2, 0, 1, 0, 1, 1, 2, 1, 0, 1, 0, 0, 0, 0, 0, 1, 1, 2, 0, 1, 0, 0, 0, 0, 0, 2, 1, 1, 2, 2, 2, 1, 1, 2, 2, 0, 2, 0, 0, 0, 1, 0, 1, 1, 0, 2, 2, 2, 0, 2, 0, 0, 2, 2, 2, 2, 2, 0, 2, 2, 2, 0, 1, 0, 1, 1, 2, 2, 0, 0, 2, 0, 2, 1, 1, 1, 2, 0, 0, 0, 0, 0, 1, 0, 1, 1, 0, 1, 1, 1, 2, 1, 0, 2, 1, 2, 0, 1, 1, 0, 1, 1, 2, 2, 2, 2, 0, 1, 0, 2, 2, 0, 1, 1, 0, 0, 1, 2, 1, 0, 1, 0, 2, 1, 2, 2, 0, 0, 0, 2, 0, 0, 2, 2, 1, 2, 0, 1, 2, 2, 2, 2, 0, 2, 2, 0, 1, 2, 1, 0, 2, 0, 0, 0, 2, 0, 2, 1, 1, 2, 1, 0, 0, 0, 1, 0, 1, 0, 2, 1, 0, 0, 0, 1, 0, 2, 1, 2, 2, 2, 1, 0, 2, 1, 2, 1, 2, 0, 1, 2, 0, 2, 1, 0, 0, 1, 0, 2, 2, 0, 1, 0, 0, 2, 0, 2, 2, 0, 0, 2, 2, 1, 1, 0, 2, 0, 1, 0, 2, 0, 0, 0, 2, 1, 1, 1, 1, 2, 2, 2, 0, 0, 1, 0, 2, 2, 1, 1, 1, 0, 0, 1, 2, 1, 1, 2, 1, 2, 0, 2, 0, 2, 2, 0, 1, 2, 2, 2, 1, 1, 0, 1, 1, 0, 0, 1, 1, 0, 2, 0, 0, 2, 0, 2, 2, 0, 2, 0, 2, 1, 1, 0, 1, 1, 0, 2, 1, 2, 0, 2, 0, 0, 2, 0, 0, 2, 1, 2, 0, 0, 0, 0, 0, 0, 1, 0, 1, 2, 0, 0, 1, 0, 0, 0, 2, 2, 1, 1, 2, 1, 1, 0, 0, 2, 0, 0, 0, 1, 1, 0, 0, 2, 1, 0, 1, 0, 0, 0, 1, 2, 1, 2, 2, 2, 0, 0, 1, 0, 0, 1, 0, 1, 0, 2, 0, 0, 2, 1, 1, 0, 0, 2, 0, 2, 1, 2, 1, 0, 0, 0, 2, 0, 2, 2, 1, 0, 2, 2, 1, 1, 0, 0, 1, 0, 1, 1, 2, 0, 1, 2, 2, 0, 0, 0, 2, 2, 1, 0, 0, 1, 2, 2, 2, 1, 2, 2, 1, 2, 2, 0, 0, 2, 1, 1, 2, 0, 0, 2, 2, 1, 2, 0, 0, 1, 1, 2, 0, 2, 0, 0, 2, 2, 1, 0, 0, 0, 1, 1, 2, 2, 2, 0, 2, 1, 0, 1, 1, 0, 1, 1, 2, 2, 2, 2, 1, 2, 1, 2, 2, 2, 0, 2, 2, 0, 2, 1, 2, 0, 1, 0, 1, 0, 0, 1, 0, 2, 0, 2, 1, 2, 2, 1, 0, 2, 0, 0, 2, 2, 2, 2, 2, 0, 2, 1, 2, 1, 1, 1, 0, 2, 1, 1, 2, 2, 2, 0, 1, 2, 0, 2, 0, 0, 0, 1, 2, 0, 2, 2, 2, 2, 2, 0, 1, 0, 0, 1, 1, 0, 2, 2, 2, 0, 2, 0, 2, 2, 2, 0, 0, 0, 1, 1, 1, 1, 1, 1, 2, 0, 1, 2, 0, 0, 2, 0, 1, 1, 0, 1, 2, 0, 2, 1, 2, 2, 1, 0, 2, 0, 2, 0, 2, 2, 1, 1, 2, 0, 1, 1, 1, 0, 1, 0, 0, 1, 1, 2, 2, 2, 2, 2, 0, 0, 1, 1, 2, 0, 0, 2, 1, 2, 2, 2, 1, 0, 2, 1, 2, 1, 1, 0, 1, 1, 0, 1, 0, 2, 0, 0, 2, 0, 1, 1, 0, 0, 2, 2, 0, 0, 2, 0, 1, 2, 2, 0, 0, 2, 1, 0, 0, 0, 2, 0, 1, 0, 1, 0, 0, 0, 1, 1, 0, 0, 2, 0, 2, 2, 2, 1, 0, 2, 1, 1, 0, 0, 2, 2, 1, 2, 0, 2, 2, 1, 1, 1, 1, 1, 2, 1, 0, 1, 0, 0, 2, 2, 1, 1, 1, 0, 1, 1, 0, 2, 2, 0, 2, 0, 1, 0, 1, 1, 0, 0, 1, 0, 0, 2, 0, 1, 2, 1, 1, 1, 0, 2, 0, 2, 2, 2, 0, 1, 2, 2, 0, 1, 2, 0, 2, 2, 1, 1, 1, 1, 1, 0, 2, 1, 1, 2, 1, 2, 1, 1, 1, 2, 2, 1, 2, 2, 2, 1, 2, 0, 0, 2, 2, 0, 0, 2, 0, 2, 1, 1, 1, 1, 2, 2, 1, 2, 1, 1, 2, 2, 1, 2, 2, 2, 0, 1, 0, 2, 2, 0, 2, 1, 0, 0, 0, 1, 2, 2, 0, 2, 2, 1, 2, 2, 2, 2, 0, 2, 2, 2, 0, 0, 1, 2, 2, 1, 1, 0, 2, 2, 2, 2, 2, 1, 2, 1, 1, 1, 0, 0, 2, 0, 2, 1, 2, 1, 0, 2, 0, 0, 2, 2, 0, 0, 1, 0, 0, 2, 2, 0, 2, 2, 1, 2, 2, 1, 0, 1, 1, 1, 2, 1, 2, 1, 2, 1, 0, 1, 1, 1, 1, 2, 0, 2, 1, 0, 1, 1, 0, 0, 0, 2, 2, 1, 2, 0, 2, 1, 0, 1, 2, 2, 0, 2, 0, 2, 0, 2, 2, 0, 0, 1, 1, 1, 0, 0, 2, 1, 1, 2, 1, 2, 0, 2, 1, 2, 1, 1, 2, 1, 0, 1, 0, 1, 0, 1, 2, 0, 2, 2, 0, 2, 1, 1, 1, 0, 0, 1, 1, 0, 2, 1, 2, 1, 2, 1, 1, 0, 1, 2, 2, 0, 1, 0, 0, 2, 2, 2, 1, 0, 0, 0, 2, 0, 2, 1, 2, 1, 2, 0, 1, 0, 0, 2, 0, 2, 0, 1, 0, 1, 1, 2, 1, 2, 1, 1, 1, 2, 1, 1, 0, 2, 1, 1, 2, 1, 0, 2, 0, 0, 1, 1, 1, 2, 2, 1, 1, 2, 1, 1, 2, 1, 2, 1, 1, 1, 2, 1, 0, 2, 2, 2, 1, 2, 1, 0, 0, 0, 0, 2, 0, 2, 0, 0, 1, 2, 0, 2, 1, 0, 2, 1, 1, 1, 2, 1, 2, 1, 2, 1, 2, 2, 2, 1, 2, 2, 2, 0, 2, 1, 0, 2, 1, 2, 1, 0, 0, 2, 0, 2, 1, 0, 2, 1, 1, 2, 1, 2, 1, 0, 0, 1, 1, 0, 0, 2, 0, 2, 1, 1, 1, 1, 2, 2, 1, 2, 1, 0, 1, 1, 2, 1, 2, 1, 2, 1, 0, 0, 2, 0, 2, 2, 2, 2, 0, 1, 0, 1, 2, 1, 2, 1, 2, 0, 1, 1, 2, 0, 0, 1, 0, 0, 1, 2, 2, 1, 0, 2, 1, 2, 0, 2, 1, 2, 1, 1, 2, 1, 1, 2, 1, 2, 1, 2, 1, 2, 2, 1, 1, 0, 2, 0, 0, 2, 2, 1, 0, 2, 2, 1, 0, 2, 1, 1, 1, 1, 0, 0, 0, 2, 2, 0, 2, 1, 0, 2, 0, 2, 0, 0, 1, 0, 0, 2, 1, 2, 2, 1, 1, 0, 2, 0, 1, 0, 2, 1, 1, 1, 2, 1, 1, 0, 0, 1, 2, 2, 1, 1, 1, 0, 2, 2, 0, 0, 2, 0, 2, 0, 0], \"coloraxis\": \"coloraxis\", \"symbol\": \"circle\"}, \"mode\": \"markers\", \"name\": \"\", \"showlegend\": false, \"type\": \"scattergl\", \"x\": [17850, 13047, 13748, 15100, 15291, 14688, 17809, 15311, 14527, 16098, 18074, 17420, 16029, 16250, 17511, 17548, 13705, 13747, 13408, 13767, 17924, 13448, 15862, 15513, 16218, 14045, 14307, 17908, 17920, 12838, 13255, 16583, 18085, 13758, 13694, 15983, 14849, 17968, 16210, 17897, 17377, 16552, 17181, 17951, 14729, 12748, 15012, 12868, 17572, 14078, 14001, 15525, 14237, 17905, 15485, 16955, 15350, 15605, 18144, 15922, 14594, 15165, 16456, 17841, 17346, 17643, 17873, 13093, 12921, 13468, 17760, 16928, 16048, 16274, 14496, 14696, 16539, 17025, 13777, 17690, 12947, 17460, 18229, 14142, 17069, 13065, 14606, 16835, 15235, 13576, 18011, 13090, 15694, 14741, 13715, 14092, 17732, 12855, 15752, 17855, 14047, 17925, 13941, 17017, 14135, 13108, 15601, 13418, 14766, 15658, 14388, 14901, 18041, 15955, 15070, 16244, 15111, 14390, 16546, 15260, 13305, 14491, 14060, 15923, 16752, 17287, 15363, 12915, 15544, 15738, 16042, 17381, 15827, 14180, 13117, 16916, 17964, 14466, 17235, 16510, 17802, 15107, 17976, 14449, 15838, 16781, 17547, 13491, 16186, 17685, 17581, 15732, 13138, 15823, 17567, 15061, 16203, 15640, 15574, 16770, 17838, 17228, 14829, 17412, 14031, 14775, 12971, 15834, 17659, 15299, 15646, 13958, 14443, 16995, 13402, 18168, 17757, 14625, 13011, 13798, 15384, 14264, 13295, 16754, 16634, 18239, 14576, 13145, 14395, 14865, 15093, 16150, 17552, 14236, 17961, 14573, 17135, 17396, 14213, 12967, 14679, 15240, 18225, 13370, 16883, 12841, 16905, 17967, 16891, 14589, 14680, 17884, 14083, 13013, 14210, 16477, 16013, 17949, 16926, 17787, 14723, 17954, 17819, 15373, 16140, 17198, 17238, 15769, 14396, 14898, 16725, 16455, 13081, 15545, 17243, 15465, 15708, 13089, 16033, 13838, 15351, 18055, 15038, 18109, 13069, 16241, 14800, 16839, 16168, 16931, 16814, 13269, 14813, 17062, 14810, 16353, 18118, 13831, 13506, 17796, 15716, 18156, 15221, 16983, 17059, 16327, 17211, 17026, 15570, 15880, 16718, 15808, 17858, 16393, 14161, 17863, 16411, 16402, 15023, 17402, 15426, 15894, 15867, 14506, 15555, 13034, 15889, 15953, 16143, 16422, 12747, 15502, 14081, 17965, 14404, 13579, 13174, 15987, 17677, 13652, 17428, 16161, 16858, 18219, 14293, 14748, 16638, 17674, 13094, 15899, 15898, 17691, 17227, 15039, 15919, 13497, 15860, 14189, 15304, 14867, 14344, 16719, 15048, 15301, 14708, 16898, 14825, 18113, 17596, 15078, 14085, 17860, 13155, 15028, 16919, 17259, 17019, 14487, 16722, 15882, 14667, 16710, 16550, 15984, 17682, 16658, 17068, 15356, 17223, 16817, 13030, 17191, 15194, 14409, 16654, 16861, 16138, 13481, 13495, 17519, 17218, 17812, 14215, 15602, 17320, 16782, 12913, 17869, 13564, 14850, 15021, 13963, 17450, 17091, 17470, 17616, 15649, 14907, 17735, 16059, 17720, 15018, 14733, 13756, 14176, 13319, 15353, 18119, 17491, 14282, 13569, 15498, 14673, 13488, 16221, 15002, 15965, 15024, 17675, 13769, 16904, 16086, 13786, 13880, 13173, 15858, 15180, 14739, 16293, 17419, 16775, 16306, 16950, 17591, 12839, 13807, 16125, 15081, 18102, 16365, 17870, 14821, 16863, 13078, 13267, 13050, 15628, 14796, 16779, 13599, 13329, 18077, 14744, 17406, 15750, 13983, 13842, 13199, 14032, 17706, 16081, 16525, 14952, 17975, 16122, 13126, 15973, 16558, 16713, 16893, 15529, 18043, 16016, 17722, 17324, 17341, 14051, 15916, 16233, 16385, 15032, 17213, 18061, 13113, 16553, 13455, 14217, 17262, 14299, 18259, 17676, 16679, 18269, 15298, 18193, 13523, 12870, 15005, 15581, 15680, 13649, 17894, 13270, 14618, 14866, 13077, 13115, 13531, 13848, 13140, 15713, 17999, 15347, 17340, 13984, 15996, 14030, 16252, 16596, 16700, 16011, 17655, 16717, 14243, 12963, 15079, 14437, 12942, 15660, 18092, 15358, 18071, 13854, 13369, 17857, 17411, 14987, 14355, 17526, 14896, 14440, 13240, 14479, 16065, 17430, 16520, 15945, 15181, 15856, 13102, 14205, 17702, 15271, 13982, 15288, 17978, 16795, 16519, 17816, 13021, 16255, 17671, 17646, 16350, 12872, 17339, 18230, 16499, 15192, 14441, 15279, 16579, 15380, 17442, 17950, 12826, 17456, 17307, 15811, 13327, 17700, 13136, 15535, 15329, 15211, 15596, 16163, 16907, 17576, 14713, 14702, 13230, 13969, 17530, 15805, 17696, 17076, 17827, 16265, 17880, 13000, 17790, 14419, 14082, 17912, 15723, 16656, 14037, 14256, 14543, 16062, 18116, 16019, 18178, 18065, 13148, 12989, 14107, 15881, 16727, 15514, 13787, 17865, 17220, 16565, 16873, 14062, 15179, 18016, 14448, 15503, 17251, 16923, 14159, 17126, 15224, 14577, 17236, 17372, 16367, 12875, 17917, 16010, 17085, 13668, 14684, 17188, 15547, 15998, 14413, 18004, 13959, 16665, 15454, 15044, 17937, 14608, 17618, 14505, 18037, 13198, 13225, 15361, 15689, 14290, 13209, 13999, 14498, 15854, 16701, 16927, 17990, 14544, 17338, 17231, 17799, 14565, 16726, 17303, 14639, 17611, 17179, 17524, 17293, 17890, 17375, 17371, 17969, 15159, 13211, 15777, 14525, 13324, 13802, 13948, 13008, 14206, 16202, 16442, 18075, 15468, 16570, 14524, 18141, 16810, 14961, 17041, 16458, 16083, 16262, 17194, 14057, 14871, 13178, 18044, 16812, 16191, 14298, 17158, 14415, 16899, 16531, 16556, 16805, 16503, 17739, 13238, 12829, 13097, 12867, 15392, 13846, 14401, 16145, 17629, 14150, 13496, 13611, 16954, 17454, 17449, 17230, 15950, 15512, 17525, 13458, 14426, 16003, 13092, 13426, 15101, 17033, 13221, 14201, 17692, 15822, 16134, 17551, 18050, 14913, 15641, 13124, 17214, 15456, 15062, 12928, 15727, 17980, 15290, 17752, 15615, 17044, 13829, 17633, 13266, 17820, 15664, 17189, 17496, 16607, 13317, 13890, 17001, 15246, 16996, 15482, 16037, 14841, 16670, 16985, 16705, 16470, 14414, 15563, 12980, 16746, 14878, 16743, 17146, 12877, 15394, 14621, 15379, 14309, 17288, 14709, 15157, 17744, 16316, 15620, 15789, 16560, 13534, 17580, 14777, 15759, 14373, 18176, 15366, 14735, 16271, 18223, 15532, 16816, 16684, 14334, 16945, 14643, 15197, 14220, 13874, 18260, 17848, 17392, 14985, 13004, 14560, 12931, 13627, 14769, 15780, 17315, 16711, 15204, 17888, 17007, 15160, 13033, 13869, 14146, 16885, 17913, 14472, 17358, 16686, 18245, 17343, 18256, 16153, 12944, 15312, 14099, 14113, 13104, 17204, 13027, 17621, 17090, 14119, 15527, 18097, 15460, 15034, 15208, 17306, 14737, 13029, 16270, 13487, 17400, 17593, 13953, 14533, 14944, 17239, 14532, 15562, 15587, 13922, 13165, 13304, 13313, 16875, 16282, 12957, 14462, 13397, 13680, 15164, 17457, 14732, 14221, 14553, 13253, 17389, 15841, 16112, 13629, 16600, 15661, 16532, 15266, 14653, 16771, 17585, 15046, 13082, 15464, 18226, 18062, 17368, 14258, 15719, 13368, 17634, 16676, 16424, 18283, 13764, 13656, 14312, 13280, 15845, 16094, 13187, 16567, 14828, 16551, 16889, 16473, 13750, 15607, 15139, 17707, 18198, 18179, 17284, 13233, 14889, 14672, 13593, 13162, 13183, 17095, 12939, 15611, 17114, 15059, 16326, 17128, 14761, 17555, 16735, 16833, 17800, 16748, 14755, 16549, 13565, 15799, 18032, 13451, 14794, 18171, 16279, 17811, 16850, 14321, 15326, 17849, 13672, 14229, 13107, 16497, 16303, 15281, 13473, 14320, 17742, 16351, 13144, 15346, 15370, 14295, 16034, 17365, 15189, 14669, 18095, 15518, 15749, 14209, 15569, 17569, 13784, 13862, 16791, 16235, 14270, 16655, 16359, 16554, 15939, 14587, 14715, 14185, 14040, 14514, 15171, 14167, 17048, 17364, 13284, 16500, 12951, 15835, 18190, 13993, 14114, 15447, 16315, 14978, 16395, 15510, 13614, 13246, 15687, 16493, 13385, 15626, 15213, 14175, 18106, 15033, 14329, 16401, 16206, 13782, 12924, 16593, 13700, 13064, 13048, 18069, 13634, 16843, 17064, 17609, 15673, 14976, 13527, 15696, 15316, 15296, 17988, 12820, 13001, 14101, 14238, 17730, 13929, 14657, 13859, 18212, 14292, 13883, 18233, 17018, 14242, 12346, 13898, 16948, 16997, 15395, 13693, 13263, 14428, 17708, 14090, 15606, 15831, 13310, 14916, 17602, 14572, 13502, 14784, 15938, 17418, 14779, 15262, 17862, 16892, 17771, 15422, 14770, 16912, 15174, 14895, 17504, 16387, 16618, 17277, 14088, 17094, 14692, 12970, 17889, 17644, 17714, 12916, 17769, 14450, 16085, 13659, 15167, 15443, 14224, 13742, 17673, 14068, 13068, 14368, 15497, 13819, 14501, 14782, 17861, 18161, 15820, 18136, 16660, 13396, 12935, 16730, 14541, 13551, 15797, 15052, 14130, 15222, 13615, 13901, 13158, 14257, 15218, 15110, 14534, 15967, 16757, 12854, 18008, 18277, 14389, 13703, 15339, 16222, 14341, 13168, 16943, 17515, 17082, 14248, 13002, 16133, 13049, 14548, 13405, 14049, 16043, 15812, 13837, 17118, 14616, 14233, 17075, 16714, 13098, 17027, 17786, 16124, 16409, 13754, 15227, 12997, 15215, 16918, 16882, 16496, 17311, 15910, 16949, 14970, 14701, 16767, 14738, 17540, 14239, 18125, 13328, 15549, 15864, 14662, 17180, 15057, 13330, 13552, 12853, 13538, 16755, 14133, 16523, 14659, 13141, 15365, 13707, 13709, 17329, 14805, 16897, 15579, 14595, 13161, 15415, 17431, 17463, 14502, 15448, 17314, 17373, 18145, 14467, 12908, 15144, 14776, 16403, 16407, 17619, 17256, 17604, 14006, 13600, 15058, 17147, 13881, 16612, 14627, 17356, 12836, 13939, 16745, 13606, 13494, 12929, 16419, 17035, 15203, 16515, 18202, 14549, 15981, 16110, 17376, 13110, 16716, 15940, 15971, 14665, 14457, 15589, 14411, 17560, 15226, 14460, 16156, 13728, 14127, 16378, 13894, 13824, 18250, 15270, 14188, 18017, 15421, 17446, 14798, 12990, 16992, 17337, 16405, 17071, 13873, 17362, 13394, 16333, 16030, 14044, 13800, 17672, 13581, 14540, 13539, 15885, 14497, 17507, 13208, 17334, 13871, 16938, 17929, 14778, 17517, 17226, 13137, 13725, 13309, 12842, 16109, 17291, 15090, 15199, 13911, 14194, 14842, 13584, 17105, 14438, 12956, 15781, 14410, 14600, 17302, 17613, 13334, 13955, 17162, 17774, 15407, 15577, 16332, 14048, 14475, 17859, 15753, 14562, 16951, 16998, 13133, 17881, 15843, 17083, 15970, 13590, 17537, 17843, 13706, 17940, 17686, 14431, 15809, 14465, 18093, 16027, 12857, 16425, 16842, 15796, 14555, 15114, 15133, 17705, 18087, 12897, 17512, 15550, 14676, 18159, 14304, 15638, 12943, 13875, 15406, 18084, 17282, 16434, 17050, 13171, 17472, 17255, 16084, 17667, 14631, 13381, 15236, 13475, 13717, 13157, 14644, 12993, 17571, 16979, 16738, 15122, 17612, 17348, 13893, 14035, 13623, 14346, 16431, 16317, 16073, 14477, 14760, 14897, 15810, 16509, 14386, 14530, 15670, 16126, 14609, 13414, 12823, 16494, 14959, 16148, 17422, 17175, 18257, 13018, 13718, 15382, 14754, 13151, 13085, 15903, 15785, 18138, 14379, 14211, 14371, 13425, 12852, 15228, 13012, 16182, 13489, 13904, 15755, 13932, 13799, 13951, 16765, 18172, 16566, 12891, 16466, 16115, 14162, 13301, 14803, 13744, 12988, 17323, 18094, 15129, 17361, 18155, 15321, 13477, 15065, 16980, 15146, 13410, 13044, 16441, 16014, 14520, 17994, 13038, 17002, 15722, 16349, 16913, 18114, 15303, 12845, 18188, 16045, 16573, 13421, 18196, 13285, 13184, 18151, 13804, 17499, 15397, 14276, 13453, 16394, 17711, 13865, 16940, 14289, 16208, 17063, 13149, 18068, 15932, 16692, 15590, 17171, 18231, 14004, 17139, 14513, 13118, 15974, 17830, 14231, 17867, 14880, 15121, 17117, 12945, 18056, 16072, 16838, 15543, 13751, 15847, 13851, 13345, 13870, 17034, 16592, 15712, 13362, 14470, 17388, 16841, 13753, 13666, 14481, 13792, 17663, 13973, 15990, 13684, 13261, 16598, 14147, 15951, 13971, 17516, 13630, 14157, 13636, 13610, 14745, 14036, 16057, 15724, 13675, 14227, 16668, 16667, 13509, 15874, 16187, 16339, 14046, 13292, 16427, 14056, 15656, 16518, 17165, 17462, 14620, 14740, 16462, 16078, 16915, 15676, 15709, 15241, 12933, 15092, 15319, 16212, 15257, 14656, 13884, 13166, 16389, 15416, 15733, 16678, 12834, 13722, 15067, 16128, 17770, 15622, 14473, 15104, 15643, 16792, 15031, 15636, 12873, 17923, 16217, 17738, 17426, 16957, 16571, 14483, 15087, 16709, 17856, 15053, 18218, 16159, 17995, 17374, 17789, 17416, 17652, 13476, 15393, 13014, 13931, 13382, 15220, 14570, 14447, 13557, 16449, 17325, 14995, 16414, 15681, 14670, 15675, 17535, 15400, 14903, 14499, 18211, 14504, 15572, 17107, 14247, 15554, 14915, 16136, 18280, 13344, 16621, 16225, 14214, 14012, 16356, 17654, 15026, 16517, 14817, 17092, 16242, 15869, 17817, 15234, 15764, 15806, 15819, 14586, 15944, 13340, 16917, 14407, 13908, 13975, 14730, 14367, 13373, 16712, 17639, 16426, 16495, 14336, 14507, 17049, 15206, 14013, 14645, 15071, 14112, 13026, 12881, 17864, 17138, 16572, 14165, 15367, 14291, 15632, 14297, 13899, 16471, 18183, 14603, 18173, 14854, 16625, 14064, 15308, 18086, 14350, 16080, 14727, 16778, 14077, 16808, 16475, 13265, 15049, 18149, 13654, 16652, 16766, 16801, 17164, 13226, 13043, 14352, 17351, 16768, 16693, 13956, 13708, 15918, 15671, 14962, 16807, 15125, 16871, 12901, 13452, 15493, 16005, 16804, 13499, 15047, 14193, 17542, 17080, 16392, 15106, 16214, 13716, 15150, 16061, 14226, 13121, 16297, 12994, 16152, 14636, 16040, 15793, 13358, 12849, 15182, 13299, 16383, 15381, 15030, 12955, 18189, 13946, 17716, 13185, 14840, 13216, 13650, 13533, 13268, 15433, 12937, 17603, 16216, 16377, 16976, 18210, 13631, 14422, 15648, 17725, 15861, 13072, 15695, 14110, 14059, 16672, 16511, 16256, 13591, 14066, 15483, 16626, 15019, 18270, 14315, 17921, 14041, 17060, 16023, 17133, 12878, 14155, 17043, 13046, 14633, 12948, 15703, 14071, 17134, 17795, 12902, 16444, 14232, 14693, 16728, 16096, 13985, 13592, 15140, 12843, 14408, 15408, 15445, 15452, 14223, 16619, 14762, 13934, 15669, 16384, 18224, 14245, 17678, 15855, 16036, 17763, 13262, 17152, 14632, 13900, 14875, 15132, 17272, 16135, 12831, 15437, 16809, 14711, 14377, 16374, 13196, 15457, 16721, 17733, 17102, 15410, 13239, 15449, 14870, 13821, 17096, 18191, 14461, 13132, 16859, 15245, 17486, 16308, 14607, 13249, 15644, 14075, 17250, 17966, 14129, 15651, 13035, 13341, 13512, 16620, 17698, 14267, 13736, 16022, 14235, 16769, 17754, 16063, 15178, 14348, 15815, 13695, 17979, 13139, 14758, 14536, 13662, 17946, 13743, 18078, 16780, 18273, 15045, 17625, 13357, 16777, 14476, 16245, 17765, 15083, 18010, 15249, 13760, 15624, 17749, 15068, 14538, 14851, 14021, 13037, 18177, 14128, 17874, 17719, 17931, 13803, 17398, 15906, 16253, 13439, 12888, 13588, 15521, 13720, 15674, 17594, 17775, 13988, 16657, 15424, 13316, 16788, 16584, 15364, 18108, 14272, 15980, 15832, 16092, 15528, 16398, 17088, 17438, 13060, 14790, 14890, 16386, 14818, 13571, 12909, 16698, 16681, 13573, 14957, 13918, 17212, 17781, 14886, 13626, 16609, 16180, 13462, 18263, 16960, 13841, 17701, 12949, 14852, 13169, 16162, 15691, 14195, 13781, 17758, 14023, 17669, 16142, 17648, 13059, 16224, 15223, 17886, 13294, 15289, 18185, 17956, 15756, 14747, 14719, 13015, 16586, 16105, 14546, 15442, 16906, 14535, 16170, 15244, 16696, 15145, 17492, 13525, 17409, 17783, 13863, 13515, 15917, 17440, 17045, 17140, 15201, 14964, 16031, 14403, 17042, 13771, 17906, 18272, 16144, 13731, 15530, 13950, 13752, 13892, 14446, 16209, 15754, 13712, 15800, 16469, 13005, 14981, 17928, 16261, 17883, 14619, 13995, 16643, 14246, 18040, 16837, 15119, 16325, 14924, 15109, 16623, 12999, 13962, 18036, 14958, 13562, 15775, 17054, 17268, 13548, 13508, 13570, 13232, 18129, 13632, 15665, 17550, 15655, 14286, 16188, 15214, 17574, 15737, 18080, 14311, 14339, 12982, 14273, 13549, 15414, 13203, 14628, 14326, 15935, 13655, 12910, 13577, 15251, 14111, 17160, 16172, 17972, 14844, 17278, 15212, 16729, 14998, 13484, 16697, 18236, 13740, 16454, 15230, 15134, 16309, 13544, 14262, 13134, 17589, 16097, 13122, 16966, 17746, 16175, 14834, 16348, 15147, 16131, 15813, 17058, 17704, 16933, 13772, 16249, 14198, 13989, 17930, 14154, 14482, 14163, 14105, 17601, 17142, 15135, 16806, 13952, 13120, 13516, 14323, 18079, 14700, 15027, 17367, 18213, 17029, 13220, 15985, 16193, 15172, 13692, 15745, 17582, 13474, 17697, 16639, 16947, 15491, 16617, 15265, 16226, 18009, 16399, 14623, 15625, 18064, 15508, 16628, 13647, 15594, 13479, 13735, 13376, 15717, 13719, 16633, 13101, 15225, 14152, 15436, 17217, 17734, 14905, 14148, 16103, 14626, 14868, 18246, 13485, 15517, 17115, 17120, 16611, 15912, 17588, 14759, 16185, 13389, 17631, 17061, 17718, 17630, 13223, 16146, 17109, 16587, 16750, 13482, 14512, 17670, 16834, 16942, 14640, 16823, 15237, 17854, 18220, 17436, 16965, 12840, 15891, 17187, 13637, 17991, 16418, 16099, 15768, 16637, 14240, 15143, 13229, 14973, 14271, 15952, 16227, 17893, 14022, 15210, 16370, 15376, 14655, 17615, 16055, 14149, 17501, 14191, 13282, 15582, 16230, 18146, 15976, 12886, 17974, 13524, 17955, 15128, 16610, 17394, 14173, 16258, 14948, 17384, 16990, 13762, 14340, 17429, 13711, 14515, 16457, 17527, 14199, 13888, 14423, 14697, 17522, 13867, 17624, 14393, 17578, 13450, 17423, 18241, 15668, 16319, 15757, 17174, 13365, 18227, 14145, 18235, 13741, 16832, 15258, 15552, 18170, 13723, 14005, 15561, 16121, 18142, 13642, 15117, 13561, 15704, 16007, 16232, 17410, 13835, 13427, 14353, 13003, 16756, 16440, 18120, 17723, 14699, 12821, 13055, 13320, 16357, 18242, 15865, 17597, 14397, 13242, 14288, 15063, 14591, 13990, 12749, 14691, 16229, 14920, 17489, 13404, 15729, 16644, 14731, 15187, 13052, 18133, 17664, 14649, 13235, 14883, 12976, 14681, 14421, 16116, 14988, 15489, 14364, 16006, 16184, 17932, 18221, 14853, 17658, 17764, 14651, 14000, 13601, 17970, 15826, 15907, 14342, 14873, 14689, 15440, 16076, 15333, 16283, 17263, 16877, 16642, 12871, 14038, 14489, 14888, 17190, 13456, 17898, 13976, 16139, 15730, 16266, 15123, 17505, 16446, 17556, 14583, 16818, 13572, 14009, 13258, 14463, 13192, 16987, 13417, 17047, 15116, 17469, 16647, 15630, 17245, 16008, 17871, 13529, 15599, 16813, 14859, 16463, 15791, 13658, 13887, 14551, 17166, 17926, 13391, 17455, 13308, 13856, 13243, 15095, 18048, 18287, 18150, 16690, 13555, 16038, 13972, 13227, 13657, 17176, 14837, 14682, 14921, 16341, 14647, 15292, 15705, 13339, 13885, 13546, 17715, 18160, 15434, 15734, 13737, 13213, 18018, 15314, 17521, 15042, 12863, 16091, 15804, 14593, 14287, 16763, 14705, 14522, 16448, 14584, 12974, 12987, 14816, 15852, 16624, 18232, 18073, 16369, 14280, 13135, 17345, 16275, 14338, 15402, 16323, 14451, 14823, 15897, 17051, 15925, 15863, 16483, 13398, 13070, 14819, 15163, 18204, 15124, 16969, 14597, 13917, 13062, 16484, 15184, 18135, 14453, 17900, 13437, 16529, 17531, 16239, 14500, 16117, 13248, 16967, 15405, 16659, 16880, 13435, 13131, 14891, 16682, 15453, 16963, 13682, 15152, 15462, 15349, 16849, 15073, 16298, 18248, 15386, 17252, 14542, 16825, 18072, 13643, 15969, 13283, 17015, 14375, 17124, 17987, 13395, 15743, 17414, 14622, 15609, 14561, 16872, 16358, 15238, 13466, 17360, 13510, 14241, 14132, 14963, 17169, 15252, 17731, 16113, 16107, 17483, 15679, 13686, 16581, 15267, 17234, 17797, 16614, 15411, 14178, 15098, 18281, 14984, 17265, 13617, 17242, 17289, 16018, 14704, 16794, 13761, 13517, 13936, 16342, 14177, 16205, 15036, 13589, 17579, 15069, 17349, 13080, 13663, 14503, 16774, 13384, 17101, 14997, 17155, 16461, 13343, 18165, 17536, 16324, 17651, 14222, 15585, 17490, 16739, 16276, 17193, 16257, 14285, 17642, 13826, 13575, 17157, 16852, 15219, 15014, 14765, 16869, 15909, 13618, 16050, 17879, 17562, 15334, 13568, 14820, 16744, 15700, 17299, 12837, 15076, 15921, 15747, 15840, 15016, 14808, 12904, 15825, 15389, 15280, 17159, 12830, 15507, 18252, 16526, 17695, 12930, 14960, 17960, 15412, 13763, 13849, 16114, 13420, 13780, 17877, 16247, 15041, 16287, 12919, 15130, 17370, 17709, 15253, 13300, 17759, 13937, 15850, 15186, 13791, 14795, 17768, 18112, 17386, 14104, 17110, 13895, 16545, 16671, 14351, 17391, 16824, 17750, 16200, 17997, 14383, 13461, 17408, 15537, 14327, 17837, 15578, 15584, 13745, 16498, 17891, 17123, 16866, 13730, 16589, 12922, 16009, 14053, 17939, 17312, 13833, 17899, 15007, 17464, 18265, 16344, 13338, 17024, 14034, 18203, 16616, 16338, 17046, 13109, 16829, 13217, 14002, 12977, 13291, 13583, 16929, 17892, 15505, 14459, 18013, 13681, 13699, 14493, 13486, 13302, 16012, 17031, 18121, 15901, 14918, 15920, 17353, 18024, 15467, 16174, 13678, 14690, 13058, 14552, 13224, 16989, 13207, 18122, 17405, 13311, 15051, 15895, 15795, 13669, 16450, 13667, 14400, 14847, 14862, 16488, 15256, 14716, 13933, 14857, 15306, 15839, 13994, 17554, 14332, 17266, 17948, 15004, 14722, 13507, 13967, 16054, 12833, 16474, 17984, 17448, 16762, 15369, 13154, 13940, 14029, 14117, 13167, 17779, 13991, 18101, 17065, 13827, 16764, 18180, 17866, 15802, 17229, 14456, 16464, 17962, 16149, 14259, 18143, 17935, 14517, 17694, 17660, 16041, 15623, 15829, 15232, 13079, 18262, 13563, 15506, 16305, 12864, 17724, 17703, 13116, 14019, 17649, 16178, 17040, 14100, 16557, 13296, 16364, 17693, 15372, 15618, 13930, 13379, 13194, 16447, 14305, 14331, 15261, 15105, 18268, 14855, 13925, 18237, 15639, 15118, 15746, 15942, 14143, 15120, 16147, 13277, 18127, 15149, 18081, 14511, 15776, 12981, 13106, 13928, 14885, 13388, 15438, 17173, 17941, 14947, 17053, 12844, 14567, 12828, 16984, 13023, 17553, 13075, 15342, 17788, 13850, 14076, 13805, 17887, 13186, 15374, 17656, 16102, 15089, 14972, 17514, 12917, 14768, 17584, 15254, 18099, 15205, 13218, 17267, 16302, 13513, 14720, 18282, 13200, 14079, 17298, 14024, 16066, 15198, 12885, 17331, 13016, 13500, 15247, 13355, 16053, 16292, 14116, 14495, 15494, 15608, 17248, 17653, 13645, 15469, 13307, 17122, 14406, 15683, 14301, 14658, 13621, 16272, 17958, 16836, 16961, 16902, 15706, 15315, 15653, 13159, 13189, 17637, 13470, 15786, 15541, 16734, 16706, 17070, 12962, 13273, 17736, 15472, 16582, 17747, 15396, 16828, 14712, 12991, 14772, 12968, 16330, 15701, 14529, 16536, 15313, 15801, 16201, 16555, 16952, 14387, 17073, 18147, 14523, 14418, 16968, 16723, 13411, 16340, 13236, 14196, 15263, 14314, 16093, 14687, 14050, 16429, 14055, 15663, 18200, 18167, 13644, 17451, 16641, 14141, 15074, 17183, 15325, 13778, 14869, 14096, 14108, 15866, 14660, 13726, 15690, 17777, 16278, 13276, 13147, 13045, 13099, 14420, 14436, 18027, 12832, 16674, 16173, 14171, 13434, 16761, 14067, 13808, 12851, 14965, 15136, 16629, 18261, 15307, 16820, 17309, 13949, 14360, 16400, 14208, 13130, 13210, 17481, 17573, 14452, 13889, 15488, 18222, 13244, 17004, 13441, 13823, 12879, 16603, 14824, 16910, 15652, 16362, 15035, 14508, 13272, 17317, 14212, 13372, 18255, 14250, 16796, 14432, 15782, 12883, 12965, 15533, 18215, 18158, 13375, 13431, 16211, 12884, 16141, 17919, 16360, 17433, 13704, 14020, 14359, 16451, 12940, 15216, 15522, 17037, 12822, 15343, 14753, 16959, 18251, 13032, 12895, 17640, 13860, 18001, 17728, 15933, 14284, 17347, 15103, 15707, 13430, 13321, 13877, 15272, 15322, 17333, 13518, 14306, 17679, 16160, 15573, 14894, 17434, 15466, 15511, 17846, 16189, 15417, 12995, 14557, 16108, 17144, 16924, 15099, 13323, 14124, 15975, 15523, 16878, 15947, 13247, 13566, 18194, 16689, 16438, 13067, 16460, 13325, 13774, 15504, 15500, 17557, 13228, 14356, 13416, 17628, 16527, 16428, 15341, 16215, 14164, 15888, 17564, 13356, 18228, 17415, 13350, 16627, 17475, 14951, 14780, 14887, 15399, 17466, 16379, 17172, 15239, 16213, 15603, 14261, 15571, 15484, 12936, 16236, 16669, 15398, 12906, 17079, 14125, 17163, 12952, 13279, 16715, 13519, 15744, 13127, 15714, 17480, 15763, 15075, 16978, 14014, 16240, 13336, 14652, 15807, 15762, 15475, 15978, 16485, 13083, 16169, 17506, 16480, 17006, 17498, 17131, 13536, 15429, 17154, 16594, 16049, 14757, 16198, 13670, 18066, 14806, 13429, 15154, 13390, 12925, 13927, 18205, 14908, 13639, 15958, 15492, 15243, 16468, 15344, 13866, 16999, 13514, 13314, 17805, 18278, 13979, 16181, 15568, 16354, 14412, 16119, 14109, 16157, 15348, 16281, 13924, 14434, 13061, 17513, 16909, 16650, 18192, 17447, 17427, 15175, 13960, 17528, 16361, 13886, 13354, 15050, 13503, 16653, 16574, 13759, 17813, 15949, 13364, 16268, 18053, 16101, 15565, 18217, 13954, 15593, 13095, 15287, 13347, 15185, 16404, 16613, 16591, 15774, 13558, 16930, 16533, 18059, 14488, 16747, 14333, 13635, 17330, 17321, 14815, 15091, 15088, 15930, 16183, 13297, 13801, 16881, 17014, 15255, 14184, 13351, 15739, 17957, 15276, 15127, 16106, 17666, 13483, 16478, 17382, 16020, 17222, 16803, 13947, 16758, 17647, 14054, 18033, 13845, 15837, 13177, 14317, 16295, 13602, 16895, 17295, 13504, 13422, 15264, 16432, 14518, 13882, 15937, 12923, 17453, 15766, 15300, 13348, 14592, 14792, 17030, 14427, 13359, 14138, 15297, 13876, 17086, 13806, 18096, 13587, 12856, 13419, 17509, 16900, 13689, 13755, 16104, 13259, 16248, 15612, 15787, 16595, 13260, 15821, 18088, 16685, 13193, 13212, 14801, 16380, 16921, 15193, 14027, 16179, 15473, 17425, 18169, 18126, 16688, 16982, 15330, 17186, 13685, 16776, 13980, 13352, 15553, 15886, 17203, 17459, 16561, 14121, 17119, 17620, 12824, 14710, 16120, 14624, 16171, 13690, 17934, 14642, 16753, 17737, 13464, 14537, 17279, 14251, 14234, 14975, 13853, 16773, 16430, 16793, 18130, 17614, 13858, 14856, 14089, 15478, 16413, 16416, 13006, 17986, 14910, 16243, 13878, 16934, 15994, 14547, 16052, 15113, 16542, 18042, 16563, 17201, 17520, 13923, 16412, 17205, 17534, 15335, 16737, 15066, 17206, 17785, 16932, 16363, 14830, 17244, 15355, 15598, 15637, 16848, 15678, 14015, 13594, 15327, 14861, 14554, 14179, 15604, 14381, 16123, 16851, 17148, 17549, 17973, 15610, 15853, 18019, 14698, 16826, 17824, 15803, 15006, 17350, 14799, 15814, 16260, 14638, 17354, 13245, 14923, 16177, 13366, 16284, 16846, 14484, 13897, 14585, 17125, 15836, 16313, 13460, 14967, 15286, 17832, 16015, 16311, 15728, 15740, 13974, 15677, 15000, 16017, 13471, 13598, 18005, 15427, 15022, 17111, 17836, 14629, 15592, 15277, 16491, 15516, 14764, 16742, 15142, 17344, 18240, 17081, 14474, 14139, 15844, 13176, 15345, 16708, 15963, 18045, 13182, 15158, 13028, 13978, 16056, 16071, 14539, 14550, 17712, 14102, 14598, 15320, 16415, 12827, 16345, 15993, 17895, 15948, 15659, 18154, 13363, 18276, 17684, 17878, 14752, 16847, 14971, 17545, 16026, 16513, 14357, 16855, 16680, 18035, 16648, 16164, 14218, 15096, 18030, 14416, 17839, 16601, 12912, 13278, 14582, 15748, 16079, 17590, 15054, 14158, 15385, 16506, 13822, 18067, 16190, 15444, 13607, 15360, 13103, 15667, 13651, 16127, 15977, 13697, 14345, 17503, 16830, 17495, 14485, 13868, 15423, 17668, 16971, 16352, 16884, 15830, 14216, 15275, 16790, 15576, 18105, 18164, 14974, 17947, 13318, 18104, 13271, 17595, 14528, 17432, 16337, 14098, 15551, 16347, 13721, 16322, 17403, 16914, 16602, 13914, 13467, 17221, 17078, 13447, 15010, 18022, 16318, 17274, 15597, 17233, 16887, 13938, 17084, 14882, 15017, 12882, 17387, 13727, 13532, 16445, 15156, 16372, 17608, 14174, 14039, 13040, 15883, 14664, 15526, 17831, 15025, 17761, 15870, 14080, 17623, 13673, 14073, 16070, 13066, 14929, 13710, 16732, 14140, 17219, 16505, 15957, 18123, 15043, 17313, 18216, 17022, 15153, 16759, 16751, 12893, 14836, 17011, 17038, 14968, 16516, 13522, 15986, 13992, 14354, 16986, 16953, 18274, 15450, 15531, 17500, 17197, 16025, 17461, 17791, 15463, 17977, 14863, 16903, 17502, 17901, 14789, 18209, 12985, 15557, 16433, 15692, 17052, 16368, 18014, 13732, 13091, 14661, 13170, 15654, 13146, 14788, 13603, 14382, 16720, 14904, 14494, 14902, 16936, 12938, 15168, 17538, 18082, 18117, 15458, 17566, 16207, 17793, 14953, 16504, 15009, 16423, 15419, 17510, 15758, 15524, 14725, 14666, 14714, 17153, 12950, 15720, 18181, 15556, 17357, 12890, 13449, 15269, 14385, 15900, 17680, 13926, 16204, 17896, 17835, 15432, 18006, 15657, 17237, 13160, 12847, 17397, 17985, 14362, 13828, 15435, 14641, 15621, 18034, 17286, 17904, 17301, 15368, 14793, 17650, 14881, 16784, 14052, 18110, 17561, 15988, 17523, 14950, 16666, 14860, 17636, 13832, 13142, 16366, 14300, 15567, 15645, 16406, 15857, 12984, 17253, 13739, 18139, 15274, 17010, 15115, 17100, 15699, 13403, 16956, 17600, 15877, 14424, 13322, 17297, 13986, 12920, 18249, 15634, 16376, 16811, 14581, 14675, 17290, 16343, 13638, 16482, 17458, 14785, 17254, 17767, 15725, 17247, 18184, 15428, 17727, 14756, 16856, 14703, 17385, 15872, 14966, 17232, 17468, 13332, 14946, 13256, 13596, 16024, 14954, 17885, 14093, 14893, 15721, 17852, 13844, 15540, 17379, 16800, 17806, 17359, 13188, 14480, 13349, 15619, 15148, 14601, 15783, 17772, 14126, 16479, 13428, 15790, 13521, 14349, 18058, 12953, 12966, 15060, 17911, 14804, 15904, 16789, 17942, 13560, 15539, 13017, 18174, 13153, 15773, 17936, 16535, 16988, 15097, 18015, 16597, 13790, 14219, 17383, 15992, 15318, 17914, 16528, 16569, 14578, 16000, 15195, 14087, 14204, 15471, 13436, 15520, 13298, 14569], \"xaxis\": \"x\", \"y\": [301, 31, 95, 329, 25, 7, 15, 0, 2, 87, 373, 49, 38, 260, 2, 217, 7, 373, 1, 1, 0, 16, 7, 30, 29, 108, 88, 373, 3, 33, 3, 373, 329, 11, 3, 21, 21, 373, 1, 172, 23, 242, 56, 39, 373, 0, 53, 185, 70, 101, 45, 1, 372, 70, 29, 184, 372, 35, 7, 371, 6, 372, 98, 1, 3, 372, 79, 266, 3, 1, 21, 79, 85, 372, 311, 3, 2, 60, 0, 29, 143, 78, 11, 372, 27, 372, 0, 127, 217, 9, 372, 8, 0, 11, 280, 7, 372, 372, 39, 372, 8, 372, 21, 2, 1, 372, 10, 11, 7, 189, 8, 10, 11, 23, 372, 211, 28, 9, 290, 99, 3, 174, 4, 372, 372, 25, 240, 148, 8, 18, 21, 8, 72, 10, 21, 23, 31, 28, 24, 371, 81, 310, 371, 18, 10, 364, 371, 51, 22, 16, 0, 211, 21, 336, 6, 3, 58, 3, 177, 57, 26, 15, 28, 2, 6, 57, 3, 69, 3, 66, 157, 371, 53, 371, 126, 175, 0, 184, 371, 0, 169, 154, 359, 371, 222, 218, 371, 39, 1, 6, 17, 38, 42, 80, 20, 179, 15, 38, 371, 2, 371, 44, 2, 365, 186, 4, 4, 371, 1, 371, 24, 3, 3, 0, 90, 63, 3, 0, 370, 152, 9, 4, 71, 7, 52, 23, 2, 6, 64, 22, 301, 63, 0, 53, 0, 19, 40, 2, 5, 5, 11, 6, 42, 1, 0, 9, 47, 8, 10, 4, 13, 0, 369, 313, 40, 3, 10, 15, 311, 39, 145, 12, 365, 12, 29, 13, 26, 184, 6, 368, 368, 305, 5, 1, 215, 58, 18, 264, 2, 4, 18, 252, 4, 16, 11, 54, 156, 14, 2, 16, 1, 15, 266, 37, 33, 14, 15, 11, 1, 45, 0, 1, 365, 2, 2, 28, 22, 73, 20, 368, 0, 357, 18, 9, 19, 282, 40, 1, 60, 185, 126, 14, 64, 50, 2, 25, 3, 368, 22, 6, 1, 368, 32, 7, 155, 147, 10, 26, 16, 198, 10, 18, 108, 2, 9, 367, 11, 30, 309, 2, 10, 27, 2, 70, 140, 59, 367, 45, 7, 16, 3, 12, 11, 7, 99, 9, 4, 106, 143, 311, 8, 307, 7, 2, 44, 173, 335, 2, 1, 65, 25, 38, 8, 1, 296, 4, 254, 367, 0, 2, 16, 0, 2, 16, 36, 115, 16, 9, 0, 1, 3, 58, 366, 20, 3, 15, 366, 1, 8, 10, 9, 213, 56, 72, 2, 366, 366, 21, 0, 17, 1, 366, 28, 0, 2, 8, 4, 0, 1, 0, 31, 7, 15, 329, 2, 29, 58, 3, 1, 3, 55, 1, 45, 14, 72, 4, 235, 0, 18, 366, 22, 24, 2, 95, 17, 156, 0, 15, 70, 59, 255, 39, 21, 0, 162, 24, 1, 51, 7, 24, 3, 365, 357, 1, 150, 32, 365, 15, 120, 8, 256, 71, 365, 8, 10, 0, 8, 204, 91, 107, 142, 36, 365, 8, 26, 87, 17, 365, 15, 8, 7, 10, 8, 8, 7, 212, 142, 130, 24, 1, 4, 257, 8, 353, 2, 11, 15, 365, 0, 204, 7, 95, 253, 364, 32, 185, 364, 65, 3, 0, 10, 29, 6, 38, 42, 364, 364, 24, 36, 3, 16, 15, 218, 20, 326, 93, 8, 359, 119, 0, 354, 364, 8, 28, 71, 2, 364, 364, 16, 38, 16, 49, 172, 34, 59, 100, 224, 28, 7, 8, 0, 3, 6, 0, 22, 37, 35, 4, 8, 364, 106, 26, 10, 364, 309, 364, 21, 175, 253, 3, 9, 67, 1, 113, 5, 28, 2, 51, 311, 363, 11, 75, 30, 23, 363, 4, 9, 17, 31, 8, 362, 362, 11, 19, 151, 357, 12, 12, 40, 36, 142, 44, 245, 122, 2, 25, 10, 6, 36, 361, 361, 78, 361, 361, 18, 8, 3, 5, 16, 153, 9, 2, 361, 119, 10, 29, 9, 42, 3, 8, 115, 236, 23, 16, 11, 21, 95, 25, 360, 51, 3, 177, 360, 7, 322, 189, 16, 165, 1, 9, 240, 8, 31, 137, 360, 322, 238, 360, 1, 22, 34, 8, 31, 360, 191, 10, 26, 2, 100, 360, 273, 23, 2, 25, 3, 360, 2, 2, 31, 0, 7, 21, 66, 173, 106, 11, 10, 321, 32, 25, 4, 24, 3, 8, 5, 35, 10, 88, 0, 191, 1, 263, 1, 155, 359, 6, 18, 29, 70, 0, 8, 85, 239, 59, 126, 2, 21, 358, 358, 35, 104, 89, 59, 282, 70, 34, 16, 165, 4, 358, 9, 8, 358, 30, 10, 190, 50, 105, 358, 17, 63, 0, 0, 237, 29, 15, 269, 52, 16, 16, 0, 51, 91, 8, 155, 4, 12, 28, 105, 3, 9, 0, 168, 7, 8, 14, 3, 3, 63, 49, 357, 20, 1, 252, 3, 217, 357, 353, 74, 3, 2, 1, 24, 102, 3, 16, 21, 169, 8, 246, 357, 172, 80, 306, 197, 11, 6, 21, 58, 2, 183, 0, 2, 356, 18, 50, 356, 356, 122, 8, 14, 58, 103, 302, 46, 6, 354, 354, 49, 35, 74, 15, 3, 2, 168, 113, 20, 3, 353, 18, 7, 353, 15, 0, 10, 3, 30, 352, 57, 125, 3, 6, 24, 29, 312, 235, 351, 49, 351, 45, 350, 21, 63, 339, 3, 63, 72, 0, 68, 126, 7, 41, 18, 156, 0, 63, 142, 22, 3, 316, 17, 337, 0, 32, 108, 8, 125, 337, 38, 172, 22, 8, 32, 256, 35, 33, 190, 3, 70, 164, 46, 121, 17, 11, 336, 193, 196, 95, 194, 164, 53, 336, 239, 184, 3, 8, 59, 73, 335, 234, 107, 121, 7, 21, 63, 9, 5, 40, 5, 334, 58, 19, 78, 0, 36, 17, 9, 9, 18, 75, 333, 25, 2, 58, 20, 3, 333, 10, 333, 217, 300, 51, 43, 49, 25, 58, 60, 206, 112, 332, 332, 332, 40, 39, 195, 12, 0, 241, 311, 63, 234, 10, 103, 331, 9, 17, 28, 40, 331, 17, 6, 2, 89, 18, 24, 330, 40, 60, 324, 38, 114, 0, 322, 4, 8, 43, 191, 31, 273, 330, 330, 71, 59, 330, 23, 17, 8, 72, 329, 74, 318, 50, 329, 4, 8, 0, 54, 12, 87, 50, 25, 12, 13, 25, 32, 42, 58, 40, 87, 56, 33, 32, 326, 43, 11, 2, 3, 73, 325, 2, 168, 17, 325, 325, 7, 0, 325, 40, 234, 325, 325, 138, 287, 325, 324, 0, 6, 187, 324, 56, 57, 8, 70, 1, 2, 16, 25, 111, 41, 280, 323, 323, 0, 56, 322, 231, 22, 322, 7, 205, 322, 30, 227, 9, 317, 136, 6, 211, 0, 320, 138, 12, 180, 22, 196, 320, 1, 109, 16, 0, 319, 9, 319, 17, 301, 63, 319, 2, 9, 319, 62, 15, 21, 1, 51, 58, 318, 112, 318, 318, 318, 312, 71, 94, 50, 10, 23, 2, 22, 318, 78, 69, 57, 8, 317, 65, 317, 44, 35, 211, 30, 32, 317, 317, 3, 63, 150, 73, 16, 36, 106, 211, 317, 242, 43, 17, 218, 0, 78, 84, 315, 35, 151, 36, 21, 44, 48, 66, 8, 77, 0, 3, 67, 10, 30, 38, 8, 42, 29, 315, 76, 21, 28, 55, 274, 92, 65, 107, 42, 113, 129, 1, 8, 84, 25, 266, 3, 13, 14, 298, 68, 19, 312, 312, 312, 15, 19, 312, 24, 39, 12, 17, 58, 7, 50, 301, 12, 311, 106, 216, 115, 311, 24, 22, 2, 32, 311, 311, 58, 22, 86, 28, 311, 121, 112, 245, 25, 51, 199, 310, 24, 44, 70, 30, 266, 310, 16, 60, 310, 252, 310, 94, 310, 109, 8, 36, 122, 246, 21, 32, 300, 15, 8, 80, 58, 176, 52, 30, 10, 150, 301, 8, 119, 238, 1, 7, 309, 26, 309, 43, 308, 9, 85, 92, 300, 261, 58, 300, 22, 8, 10, 126, 308, 308, 10, 49, 6, 69, 218, 307, 307, 58, 56, 4, 34, 306, 158, 305, 305, 24, 15, 305, 14, 22, 81, 153, 28, 96, 33, 150, 27, 276, 71, 304, 304, 3, 122, 149, 273, 303, 303, 108, 303, 10, 29, 302, 302, 48, 6, 298, 35, 246, 92, 91, 210, 301, 63, 0, 56, 29, 127, 2, 97, 204, 28, 3, 30, 300, 222, 300, 300, 53, 17, 15, 129, 28, 95, 7, 190, 40, 298, 65, 50, 20, 298, 190, 31, 48, 8, 22, 49, 3, 297, 84, 52, 14, 297, 28, 30, 120, 212, 119, 291, 19, 293, 7, 78, 296, 296, 25, 296, 28, 71, 133, 74, 296, 58, 295, 15, 43, 38, 15, 245, 14, 44, 202, 157, 9, 29, 294, 43, 52, 294, 107, 289, 65, 8, 71, 104, 36, 0, 294, 116, 175, 293, 14, 14, 185, 33, 9, 173, 103, 161, 94, 291, 14, 81, 49, 48, 74, 48, 37, 37, 254, 164, 8, 290, 66, 35, 1, 121, 79, 72, 35, 290, 289, 289, 289, 266, 14, 119, 73, 39, 94, 22, 14, 134, 30, 289, 289, 87, 165, 49, 10, 57, 51, 8, 44, 8, 13, 288, 3, 255, 288, 288, 191, 42, 15, 100, 19, 38, 1, 178, 29, 76, 49, 287, 287, 287, 287, 196, 287, 287, 37, 95, 276, 1, 15, 3, 8, 2, 11, 77, 36, 287, 59, 164, 65, 25, 286, 43, 285, 268, 276, 48, 0, 8, 14, 4, 19, 36, 11, 112, 284, 3, 200, 150, 25, 14, 67, 8, 62, 31, 283, 283, 38, 262, 0, 44, 60, 283, 50, 203, 190, 63, 283, 8, 8, 283, 66, 23, 214, 283, 18, 280, 168, 6, 281, 52, 64, 282, 2, 282, 119, 77, 17, 198, 2, 73, 166, 178, 281, 3, 89, 281, 281, 234, 18, 3, 238, 2, 149, 281, 84, 1, 4, 205, 281, 281, 218, 280, 29, 24, 178, 15, 2, 85, 280, 51, 280, 18, 27, 190, 279, 38, 21, 17, 279, 80, 279, 91, 20, 25, 25, 46, 4, 32, 277, 277, 85, 59, 277, 67, 51, 44, 30, 277, 197, 276, 79, 276, 199, 49, 7, 276, 3, 276, 80, 45, 48, 226, 276, 44, 276, 106, 79, 30, 0, 7, 60, 8, 275, 1, 2, 16, 23, 2, 9, 109, 156, 93, 22, 0, 275, 12, 275, 126, 275, 56, 1, 15, 17, 15, 274, 217, 274, 86, 77, 273, 28, 270, 273, 270, 81, 273, 73, 40, 98, 87, 52, 273, 50, 42, 53, 272, 162, 32, 272, 253, 156, 35, 47, 68, 4, 270, 190, 18, 270, 142, 24, 21, 8, 258, 32, 11, 22, 17, 269, 67, 269, 21, 269, 17, 170, 268, 16, 268, 28, 268, 212, 3, 268, 35, 64, 8, 268, 30, 153, 267, 74, 213, 71, 0, 77, 78, 22, 267, 267, 267, 16, 182, 17, 78, 14, 49, 266, 266, 266, 1, 99, 0, 203, 15, 11, 266, 266, 3, 266, 1, 21, 257, 64, 266, 160, 0, 266, 37, 20, 63, 265, 265, 45, 15, 17, 265, 31, 30, 265, 15, 264, 3, 106, 179, 264, 45, 31, 263, 45, 263, 3, 35, 51, 65, 10, 263, 263, 29, 91, 253, 263, 263, 39, 89, 263, 175, 263, 136, 86, 262, 262, 194, 262, 182, 8, 17, 41, 262, 261, 261, 22, 9, 190, 65, 10, 261, 261, 38, 261, 83, 261, 25, 261, 144, 8, 261, 147, 261, 105, 133, 260, 37, 15, 91, 165, 4, 3, 37, 1, 36, 57, 260, 260, 3, 260, 150, 4, 259, 9, 259, 0, 259, 259, 259, 63, 30, 35, 15, 144, 259, 85, 232, 2, 216, 99, 1, 151, 17, 256, 79, 256, 23, 158, 256, 256, 31, 53, 116, 177, 45, 64, 22, 154, 137, 30, 60, 184, 37, 133, 254, 114, 19, 31, 254, 213, 15, 35, 116, 72, 84, 254, 19, 9, 253, 36, 122, 79, 95, 248, 73, 88, 253, 98, 253, 144, 27, 246, 253, 16, 253, 28, 73, 12, 39, 226, 72, 49, 252, 49, 252, 158, 252, 252, 14, 99, 182, 22, 38, 252, 252, 30, 57, 63, 251, 251, 201, 250, 18, 6, 42, 249, 60, 249, 56, 225, 31, 189, 28, 248, 248, 60, 247, 1, 52, 248, 248, 3, 248, 81, 58, 50, 64, 134, 3, 247, 14, 184, 71, 244, 72, 247, 147, 112, 246, 78, 246, 91, 129, 2, 63, 246, 2, 246, 218, 21, 10, 123, 26, 0, 88, 50, 246, 106, 23, 173, 245, 44, 16, 2, 238, 14, 245, 110, 18, 30, 245, 43, 245, 240, 245, 195, 21, 31, 146, 81, 244, 27, 107, 95, 243, 242, 12, 242, 24, 167, 196, 232, 23, 44, 1, 242, 14, 18, 224, 234, 239, 50, 25, 9, 9, 90, 234, 238, 113, 22, 24, 8, 13, 30, 94, 241, 63, 240, 238, 35, 169, 240, 240, 29, 240, 44, 238, 14, 91, 39, 7, 72, 59, 239, 93, 7, 234, 93, 17, 31, 218, 51, 207, 81, 168, 0, 33, 52, 3, 65, 35, 238, 17, 86, 84, 238, 238, 232, 102, 210, 238, 20, 114, 44, 31, 30, 237, 236, 110, 77, 122, 236, 8, 24, 8, 235, 235, 235, 24, 235, 94, 235, 150, 202, 234, 18, 31, 99, 132, 188, 29, 9, 15, 197, 24, 98, 233, 14, 16, 233, 233, 74, 11, 233, 53, 153, 233, 6, 8, 2, 23, 232, 232, 7, 232, 185, 177, 99, 4, 16, 10, 1, 73, 231, 169, 199, 156, 28, 231, 44, 231, 187, 227, 227, 12, 15, 226, 1, 184, 219, 1, 226, 143, 226, 226, 51, 224, 44, 49, 115, 31, 29, 225, 225, 106, 225, 33, 218, 224, 224, 224, 81, 39, 3, 129, 220, 212, 220, 1, 17, 24, 189, 140, 164, 67, 24, 40, 198, 59, 218, 218, 10, 44, 22, 18, 218, 203, 218, 120, 218, 17, 217, 53, 217, 119, 217, 217, 1, 30, 14, 217, 190, 26, 44, 9, 217, 217, 65, 217, 8, 217, 46, 71, 71, 183, 168, 216, 32, 216, 9, 11, 56, 150, 215, 14, 215, 139, 47, 32, 15, 24, 18, 214, 105, 214, 7, 213, 126, 213, 213, 63, 69, 32, 71, 40, 213, 0, 111, 211, 212, 14, 212, 3, 30, 86, 212, 58, 0, 197, 177, 46, 1, 211, 210, 18, 4, 211, 18, 211, 70, 56, 205, 211, 22, 108, 210, 63, 28, 21, 8, 10, 50, 66, 205, 44, 210, 50, 3, 20, 209, 208, 54, 2, 207, 5, 207, 11, 4, 83, 77, 206, 206, 58, 17, 84, 206, 18, 65, 73, 6, 160, 0, 205, 5, 10, 205, 197, 11, 97, 94, 2, 4, 84, 17, 15, 169, 44, 204, 23, 204, 78, 26, 7, 12, 20, 43, 9, 203, 17, 38, 132, 203, 203, 22, 168, 202, 103, 202, 42, 31, 43, 73, 7, 70, 201, 10, 201, 89, 187, 29, 24, 200, 200, 200, 200, 188, 11, 200, 56, 7, 114, 199, 56, 107, 198, 23, 198, 51, 154, 0, 21, 7, 184, 198, 23, 197, 168, 197, 73, 196, 186, 80, 81, 113, 17, 196, 196, 14, 196, 157, 148, 195, 59, 179, 193, 193, 193, 25, 191, 191, 191, 63, 17, 70, 22, 38, 10, 49, 190, 173, 28, 28, 189, 164, 13, 189, 120, 56, 87, 189, 124, 188, 188, 188, 30, 4, 22, 147, 4, 1, 186, 186, 9, 93, 157, 186, 9, 22, 113, 185, 116, 185, 38, 154, 30, 2, 59, 28, 184, 184, 184, 184, 15, 43, 184, 182, 75, 76, 0, 28, 99, 16, 0, 183, 1, 9, 49, 35, 78, 182, 17, 64, 23, 182, 154, 21, 182, 21, 182, 25, 8, 181, 180, 18, 138, 39, 107, 31, 38, 10, 0, 49, 59, 170, 74, 84, 30, 71, 14, 4, 178, 178, 178, 178, 2, 67, 30, 9, 45, 17, 177, 172, 176, 176, 127, 11, 176, 176, 0, 171, 176, 35, 176, 20, 119, 157, 22, 7, 9, 175, 42, 28, 22, 173, 173, 173, 173, 13, 156, 172, 20, 10, 171, 11, 172, 172, 172, 12, 58, 172, 39, 17, 171, 171, 171, 21, 37, 171, 50, 171, 131, 77, 7, 170, 170, 62, 51, 170, 134, 6, 169, 169, 169, 169, 7, 169, 72, 169, 15, 164, 16, 168, 18, 13, 42, 165, 7, 11, 7, 153, 164, 20, 164, 27, 164, 163, 15, 4, 3, 73, 37, 38, 162, 162, 162, 41, 161, 23, 150, 160, 161, 161, 140, 135, 70, 160, 21, 123, 159, 138, 158, 158, 158, 157, 71, 157, 153, 44, 21, 156, 14, 156, 156, 2, 156, 121, 133, 155, 155, 155, 3, 55, 52, 154, 154, 17, 154, 6, 77, 154, 34, 11, 148, 16, 115, 153, 128, 152, 8, 125, 151, 43, 24, 151, 59, 6, 14, 7, 0, 3, 22, 149, 149, 50, 149, 148, 140, 148, 25, 32, 148, 42, 108, 59, 63, 24, 3, 0, 22, 1, 146, 146, 146, 2, 145, 144, 144, 6, 144, 144, 19, 143, 143, 16, 62, 143, 18, 20, 11, 10, 142, 57, 3, 4, 142, 142, 95, 4, 19, 141, 4, 141, 116, 137, 32, 141, 140, 30, 140, 98, 112, 3, 139, 83, 22, 138, 137, 57, 34, 116, 46, 134, 137, 137, 137, 23, 136, 11, 135, 136, 32, 57, 25, 135, 135, 70, 123, 134, 17, 133, 118, 35, 2, 133, 133, 133, 133, 133, 129, 133, 15, 18, 133, 35, 10, 132, 29, 128, 10, 131, 120, 130, 4, 130, 71, 128, 28, 34, 2, 77, 63, 129, 129, 115, 73, 87, 128, 51, 128, 39, 128, 72, 41, 9, 127, 127, 127, 16, 6, 126, 126, 84, 126, 126, 107, 126, 5, 7, 18, 124, 100, 121, 16, 91, 62, 123, 72, 22, 121, 121, 32, 116, 19, 50, 20, 27, 119, 28, 119, 42, 119, 118, 118, 116, 107, 4, 116, 116, 116, 39, 115, 115, 59, 63, 92, 8, 18, 30, 98, 43, 113, 51, 36, 113, 6, 112, 8, 112, 112, 99, 112, 92, 28, 22, 111, 111, 17, 1, 59, 106, 109, 45, 2, 34, 108, 32, 17, 45, 107, 3, 3, 90, 106, 106, 23, 106, 106, 106, 106, 106, 31, 105, 105, 105, 105, 3, 8, 0, 105, 2, 104, 7, 103, 102, 3, 3, 30, 100, 86, 38, 3, 24, 22, 63, 9, 98, 98, 84, 98, 98, 31, 54, 15, 97, 73, 96, 63, 5, 96, 95, 2, 73, 42, 95, 95, 94, 2, 31, 94, 94, 93, 93, 3, 28, 10, 92, 92, 92, 92, 45, 91, 18, 44, 74, 9, 3, 90, 31, 89, 21, 30, 45, 89, 89, 88, 6, 88, 9, 9, 24, 88, 18, 88, 8, 80, 66, 80, 87, 87, 87, 4, 87, 4, 16, 18, 87, 45, 87, 32, 77, 70, 86, 86, 86, 86, 38, 41, 86, 0, 11, 3, 20, 30, 85, 30, 34, 18, 71, 85, 56, 63, 85, 85, 50, 52, 63, 31, 84, 1, 84, 11, 84, 15, 84, 77, 63, 84, 0, 20, 83, 2, 83, 83, 83, 24, 82, 17, 40, 63, 75, 5, 81, 27, 81, 81, 80, 7, 13, 80, 59, 43, 80, 80, 80, 80, 80, 70, 79, 23, 79, 49, 78, 15, 78, 78, 78, 54, 78, 0, 9, 3, 74, 9, 78, 78, 50, 11, 0, 16, 77, 23, 15, 11, 77, 10, 21, 5, 63, 77, 49, 77, 77, 11, 73, 31, 77, 76, 76, 7, 76, 76, 49, 64, 76, 76, 76, 3, 7, 69, 75, 4, 75, 4, 0, 26, 74, 74, 39, 74, 74, 74, 74, 74, 10, 73, 74, 4, 74, 35, 73, 73, 73, 27, 73, 73, 0, 73, 22, 73, 1, 73, 73, 72, 72, 2, 62, 34, 7, 22, 15, 71, 71, 1, 21, 71, 71, 63, 71, 71, 39, 71, 71, 20, 0, 9, 70, 70, 24, 70, 15, 70, 32, 13, 16, 66, 70, 65, 8, 49, 28, 0, 70, 70, 21, 69, 69, 69, 69, 68, 68, 5, 25, 18, 8, 50, 24, 63, 67, 22, 7, 36, 53, 20, 66, 66, 7, 66, 66, 7, 66, 66, 65, 65, 65, 65, 65, 65, 3, 65, 24, 64, 16, 64, 64, 64, 64, 64, 64, 64, 64, 64, 64, 64, 9, 64, 64, 28, 63, 50, 63, 63, 63, 2, 63, 63, 17, 63, 63, 63, 34, 63, 63, 49, 58, 1, 9, 63, 6, 63, 11, 31, 7, 63, 57, 11, 62, 3, 61, 61, 61, 35, 25, 60, 60, 43, 60, 60, 60, 8, 60, 60, 60, 60, 60, 60, 13, 18, 60, 60, 0, 60, 31, 46, 2, 59, 59, 7, 59, 59, 35, 42, 5, 3, 2, 59, 59, 13, 58, 56, 58, 58, 51, 58, 57, 8, 57, 57, 57, 1, 21, 56, 8, 56, 56, 56, 8, 56, 56, 35, 56, 39, 56, 25, 55, 55, 2, 33, 54, 54, 54, 3, 53, 9, 53, 53, 53, 53, 53, 53, 53, 53, 53, 52, 52, 31, 52, 52, 52, 52, 52, 52, 28, 34, 52, 52, 52, 52, 52, 52, 51, 9, 40, 51, 51, 51, 3, 51, 23, 51, 51, 51, 51, 1, 50, 50, 50, 50, 7, 50, 2, 50, 50, 50, 50, 50, 49, 49, 30, 49, 49, 49, 49, 49, 44, 2, 28, 49, 49, 49, 3, 17, 48, 48, 48, 48, 47, 46, 0, 46, 3, 32, 11, 46, 46, 3, 46, 46, 46, 44, 43, 46, 45, 45, 45, 24, 42, 45, 45, 45, 34, 45, 19, 44, 44, 44, 22, 14, 44, 44, 15, 10, 44, 4, 43, 43, 43, 5, 43, 8, 43, 7, 43, 2, 17, 20, 43, 43, 43, 42, 34, 42, 42, 4, 42, 23, 42, 35, 38, 16, 42, 42, 3, 21, 41, 40, 2, 40, 40, 39, 16, 1, 11, 39, 39, 19, 5, 39, 39, 8, 39, 39, 39, 39, 34, 38, 16, 38, 38, 2, 38, 7, 38, 6, 37, 0, 2, 17, 37, 28, 2, 30, 3, 37, 37, 30, 36, 36, 0, 36, 36, 11, 36, 17, 36, 36, 36, 10, 35, 0, 35, 35, 30, 3, 10, 6, 35, 22, 35, 35, 34, 34, 29, 34, 34, 34, 34, 26, 33, 8, 19, 28, 33, 33, 0, 32, 32, 32, 32, 8, 1, 19, 32, 32, 32, 32, 32, 32, 32, 18, 20, 21, 23, 31, 31, 31, 3, 31, 31, 31, 23, 30, 17, 30, 30, 30, 7, 30, 30, 9, 29, 29, 29, 29, 29, 29, 29, 5, 29, 29, 17, 29, 7, 16, 29, 29, 22, 29, 28, 28, 28, 28, 8, 28, 28, 28, 0, 28, 27, 27, 27, 1, 27, 27, 20, 26, 26, 8, 25, 6, 25, 25, 25, 1, 25, 20, 25, 25, 25, 25, 25, 25, 24, 7, 24, 24, 24, 24, 11, 24, 24, 24, 24, 24, 24, 23, 23, 23, 1, 23, 23, 23, 23, 23, 23, 23, 8, 23, 23, 22, 22, 22, 2, 22, 22, 22, 10, 21, 21, 21, 21, 21, 21, 21, 21, 3, 21, 21, 20, 20, 20, 3, 20, 19, 19, 19, 18, 18, 18, 10, 8, 18, 8, 8, 17, 18, 18, 18, 18, 18, 18, 18, 18, 17, 17, 16, 3, 16, 17, 17, 17, 17, 8, 17, 1, 17, 16, 16, 16, 16, 16, 16, 8, 4, 16, 15, 3, 15, 15, 15, 14, 9, 4, 14, 14, 14, 14, 14, 8, 14, 14, 14, 14, 14, 14, 2, 9, 13, 13, 13, 5, 11, 11, 11, 11, 9, 11, 11, 10, 10, 10, 10, 10, 10, 10, 10, 10, 10, 10, 10, 10, 10, 7, 9, 9, 9, 0, 9, 9, 9, 9, 7, 8, 8, 7, 7, 7, 6, 6, 6, 6, 5, 5, 4, 4, 4, 3, 3, 3, 3, 3, 3, 3, 3, 3, 3, 2, 2, 2, 2, 2, 1, 1, 1, 1, 0, 0], \"yaxis\": \"y\"}],\n",
              "                        {\"coloraxis\": {\"colorbar\": {\"title\": {\"text\": \"Cluster\"}}, \"colorscale\": [[0.0, \"#0d0887\"], [0.1111111111111111, \"#46039f\"], [0.2222222222222222, \"#7201a8\"], [0.3333333333333333, \"#9c179e\"], [0.4444444444444444, \"#bd3786\"], [0.5555555555555556, \"#d8576b\"], [0.6666666666666666, \"#ed7953\"], [0.7777777777777778, \"#fb9f3a\"], [0.8888888888888888, \"#fdca26\"], [1.0, \"#f0f921\"]]}, \"legend\": {\"tracegroupgap\": 0}, \"margin\": {\"t\": 60}, \"template\": {\"data\": {\"bar\": [{\"error_x\": {\"color\": \"#f2f5fa\"}, \"error_y\": {\"color\": \"#f2f5fa\"}, \"marker\": {\"line\": {\"color\": \"rgb(17,17,17)\", \"width\": 0.5}}, \"type\": \"bar\"}], \"barpolar\": [{\"marker\": {\"line\": {\"color\": \"rgb(17,17,17)\", \"width\": 0.5}}, \"type\": \"barpolar\"}], \"carpet\": [{\"aaxis\": {\"endlinecolor\": \"#A2B1C6\", \"gridcolor\": \"#506784\", \"linecolor\": \"#506784\", \"minorgridcolor\": \"#506784\", \"startlinecolor\": \"#A2B1C6\"}, \"baxis\": {\"endlinecolor\": \"#A2B1C6\", \"gridcolor\": \"#506784\", \"linecolor\": \"#506784\", \"minorgridcolor\": \"#506784\", \"startlinecolor\": \"#A2B1C6\"}, \"type\": \"carpet\"}], \"choropleth\": [{\"colorbar\": {\"outlinewidth\": 0, \"ticks\": \"\"}, \"type\": \"choropleth\"}], \"contour\": [{\"colorbar\": {\"outlinewidth\": 0, \"ticks\": \"\"}, \"colorscale\": [[0.0, \"#0d0887\"], [0.1111111111111111, \"#46039f\"], [0.2222222222222222, \"#7201a8\"], [0.3333333333333333, \"#9c179e\"], [0.4444444444444444, \"#bd3786\"], [0.5555555555555556, \"#d8576b\"], [0.6666666666666666, \"#ed7953\"], [0.7777777777777778, \"#fb9f3a\"], [0.8888888888888888, \"#fdca26\"], [1.0, \"#f0f921\"]], \"type\": \"contour\"}], \"contourcarpet\": [{\"colorbar\": {\"outlinewidth\": 0, \"ticks\": \"\"}, \"type\": \"contourcarpet\"}], \"heatmap\": [{\"colorbar\": {\"outlinewidth\": 0, \"ticks\": \"\"}, \"colorscale\": [[0.0, \"#0d0887\"], [0.1111111111111111, \"#46039f\"], [0.2222222222222222, \"#7201a8\"], [0.3333333333333333, \"#9c179e\"], [0.4444444444444444, \"#bd3786\"], [0.5555555555555556, \"#d8576b\"], [0.6666666666666666, \"#ed7953\"], [0.7777777777777778, \"#fb9f3a\"], [0.8888888888888888, \"#fdca26\"], [1.0, \"#f0f921\"]], \"type\": \"heatmap\"}], \"heatmapgl\": [{\"colorbar\": {\"outlinewidth\": 0, \"ticks\": \"\"}, \"colorscale\": [[0.0, \"#0d0887\"], [0.1111111111111111, \"#46039f\"], [0.2222222222222222, \"#7201a8\"], [0.3333333333333333, \"#9c179e\"], [0.4444444444444444, \"#bd3786\"], [0.5555555555555556, \"#d8576b\"], [0.6666666666666666, \"#ed7953\"], [0.7777777777777778, \"#fb9f3a\"], [0.8888888888888888, \"#fdca26\"], [1.0, \"#f0f921\"]], \"type\": \"heatmapgl\"}], \"histogram\": [{\"marker\": {\"colorbar\": {\"outlinewidth\": 0, \"ticks\": \"\"}}, \"type\": \"histogram\"}], \"histogram2d\": [{\"colorbar\": {\"outlinewidth\": 0, \"ticks\": \"\"}, \"colorscale\": [[0.0, \"#0d0887\"], [0.1111111111111111, \"#46039f\"], [0.2222222222222222, \"#7201a8\"], [0.3333333333333333, \"#9c179e\"], [0.4444444444444444, \"#bd3786\"], [0.5555555555555556, \"#d8576b\"], [0.6666666666666666, \"#ed7953\"], [0.7777777777777778, \"#fb9f3a\"], [0.8888888888888888, \"#fdca26\"], [1.0, \"#f0f921\"]], \"type\": \"histogram2d\"}], \"histogram2dcontour\": [{\"colorbar\": {\"outlinewidth\": 0, \"ticks\": \"\"}, \"colorscale\": [[0.0, \"#0d0887\"], [0.1111111111111111, \"#46039f\"], [0.2222222222222222, \"#7201a8\"], [0.3333333333333333, \"#9c179e\"], [0.4444444444444444, \"#bd3786\"], [0.5555555555555556, \"#d8576b\"], [0.6666666666666666, \"#ed7953\"], [0.7777777777777778, \"#fb9f3a\"], [0.8888888888888888, \"#fdca26\"], [1.0, \"#f0f921\"]], \"type\": \"histogram2dcontour\"}], \"mesh3d\": [{\"colorbar\": {\"outlinewidth\": 0, \"ticks\": \"\"}, \"type\": \"mesh3d\"}], \"parcoords\": [{\"line\": {\"colorbar\": {\"outlinewidth\": 0, \"ticks\": \"\"}}, \"type\": \"parcoords\"}], \"pie\": [{\"automargin\": true, \"type\": \"pie\"}], \"scatter\": [{\"marker\": {\"line\": {\"color\": \"#283442\"}}, \"type\": \"scatter\"}], \"scatter3d\": [{\"line\": {\"colorbar\": {\"outlinewidth\": 0, \"ticks\": \"\"}}, \"marker\": {\"colorbar\": {\"outlinewidth\": 0, \"ticks\": \"\"}}, \"type\": \"scatter3d\"}], \"scattercarpet\": [{\"marker\": {\"colorbar\": {\"outlinewidth\": 0, \"ticks\": \"\"}}, \"type\": \"scattercarpet\"}], \"scattergeo\": [{\"marker\": {\"colorbar\": {\"outlinewidth\": 0, \"ticks\": \"\"}}, \"type\": \"scattergeo\"}], \"scattergl\": [{\"marker\": {\"line\": {\"color\": \"#283442\"}}, \"type\": \"scattergl\"}], \"scattermapbox\": [{\"marker\": {\"colorbar\": {\"outlinewidth\": 0, \"ticks\": \"\"}}, \"type\": \"scattermapbox\"}], \"scatterpolar\": [{\"marker\": {\"colorbar\": {\"outlinewidth\": 0, \"ticks\": \"\"}}, \"type\": \"scatterpolar\"}], \"scatterpolargl\": [{\"marker\": {\"colorbar\": {\"outlinewidth\": 0, \"ticks\": \"\"}}, \"type\": \"scatterpolargl\"}], \"scatterternary\": [{\"marker\": {\"colorbar\": {\"outlinewidth\": 0, \"ticks\": \"\"}}, \"type\": \"scatterternary\"}], \"surface\": [{\"colorbar\": {\"outlinewidth\": 0, \"ticks\": \"\"}, \"colorscale\": [[0.0, \"#0d0887\"], [0.1111111111111111, \"#46039f\"], [0.2222222222222222, \"#7201a8\"], [0.3333333333333333, \"#9c179e\"], [0.4444444444444444, \"#bd3786\"], [0.5555555555555556, \"#d8576b\"], [0.6666666666666666, \"#ed7953\"], [0.7777777777777778, \"#fb9f3a\"], [0.8888888888888888, \"#fdca26\"], [1.0, \"#f0f921\"]], \"type\": \"surface\"}], \"table\": [{\"cells\": {\"fill\": {\"color\": \"#506784\"}, \"line\": {\"color\": \"rgb(17,17,17)\"}}, \"header\": {\"fill\": {\"color\": \"#2a3f5f\"}, \"line\": {\"color\": \"rgb(17,17,17)\"}}, \"type\": \"table\"}]}, \"layout\": {\"annotationdefaults\": {\"arrowcolor\": \"#f2f5fa\", \"arrowhead\": 0, \"arrowwidth\": 1}, \"coloraxis\": {\"colorbar\": {\"outlinewidth\": 0, \"ticks\": \"\"}}, \"colorscale\": {\"diverging\": [[0, \"#8e0152\"], [0.1, \"#c51b7d\"], [0.2, \"#de77ae\"], [0.3, \"#f1b6da\"], [0.4, \"#fde0ef\"], [0.5, \"#f7f7f7\"], [0.6, \"#e6f5d0\"], [0.7, \"#b8e186\"], [0.8, \"#7fbc41\"], [0.9, \"#4d9221\"], [1, \"#276419\"]], \"sequential\": [[0.0, \"#0d0887\"], [0.1111111111111111, \"#46039f\"], [0.2222222222222222, \"#7201a8\"], [0.3333333333333333, \"#9c179e\"], [0.4444444444444444, \"#bd3786\"], [0.5555555555555556, \"#d8576b\"], [0.6666666666666666, \"#ed7953\"], [0.7777777777777778, \"#fb9f3a\"], [0.8888888888888888, \"#fdca26\"], [1.0, \"#f0f921\"]], \"sequentialminus\": [[0.0, \"#0d0887\"], [0.1111111111111111, \"#46039f\"], [0.2222222222222222, \"#7201a8\"], [0.3333333333333333, \"#9c179e\"], [0.4444444444444444, \"#bd3786\"], [0.5555555555555556, \"#d8576b\"], [0.6666666666666666, \"#ed7953\"], [0.7777777777777778, \"#fb9f3a\"], [0.8888888888888888, \"#fdca26\"], [1.0, \"#f0f921\"]]}, \"colorway\": [\"#636efa\", \"#EF553B\", \"#00cc96\", \"#ab63fa\", \"#FFA15A\", \"#19d3f3\", \"#FF6692\", \"#B6E880\", \"#FF97FF\", \"#FECB52\"], \"font\": {\"color\": \"#f2f5fa\"}, \"geo\": {\"bgcolor\": \"rgb(17,17,17)\", \"lakecolor\": \"rgb(17,17,17)\", \"landcolor\": \"rgb(17,17,17)\", \"showlakes\": true, \"showland\": true, \"subunitcolor\": \"#506784\"}, \"hoverlabel\": {\"align\": \"left\"}, \"hovermode\": \"closest\", \"mapbox\": {\"style\": \"dark\"}, \"paper_bgcolor\": \"rgb(17,17,17)\", \"plot_bgcolor\": \"rgb(17,17,17)\", \"polar\": {\"angularaxis\": {\"gridcolor\": \"#506784\", \"linecolor\": \"#506784\", \"ticks\": \"\"}, \"bgcolor\": \"rgb(17,17,17)\", \"radialaxis\": {\"gridcolor\": \"#506784\", \"linecolor\": \"#506784\", \"ticks\": \"\"}}, \"scene\": {\"xaxis\": {\"backgroundcolor\": \"rgb(17,17,17)\", \"gridcolor\": \"#506784\", \"gridwidth\": 2, \"linecolor\": \"#506784\", \"showbackground\": true, \"ticks\": \"\", \"zerolinecolor\": \"#C8D4E3\"}, \"yaxis\": {\"backgroundcolor\": \"rgb(17,17,17)\", \"gridcolor\": \"#506784\", \"gridwidth\": 2, \"linecolor\": \"#506784\", \"showbackground\": true, \"ticks\": \"\", \"zerolinecolor\": \"#C8D4E3\"}, \"zaxis\": {\"backgroundcolor\": \"rgb(17,17,17)\", \"gridcolor\": \"#506784\", \"gridwidth\": 2, \"linecolor\": \"#506784\", \"showbackground\": true, \"ticks\": \"\", \"zerolinecolor\": \"#C8D4E3\"}}, \"shapedefaults\": {\"line\": {\"color\": \"#f2f5fa\"}}, \"sliderdefaults\": {\"bgcolor\": \"#C8D4E3\", \"bordercolor\": \"rgb(17,17,17)\", \"borderwidth\": 1, \"tickwidth\": 0}, \"ternary\": {\"aaxis\": {\"gridcolor\": \"#506784\", \"linecolor\": \"#506784\", \"ticks\": \"\"}, \"baxis\": {\"gridcolor\": \"#506784\", \"linecolor\": \"#506784\", \"ticks\": \"\"}, \"bgcolor\": \"rgb(17,17,17)\", \"caxis\": {\"gridcolor\": \"#506784\", \"linecolor\": \"#506784\", \"ticks\": \"\"}}, \"title\": {\"x\": 0.05}, \"updatemenudefaults\": {\"bgcolor\": \"#506784\", \"borderwidth\": 0}, \"xaxis\": {\"automargin\": true, \"gridcolor\": \"#283442\", \"linecolor\": \"#506784\", \"ticks\": \"\", \"title\": {\"standoff\": 15}, \"zerolinecolor\": \"#283442\", \"zerolinewidth\": 2}, \"yaxis\": {\"automargin\": true, \"gridcolor\": \"#283442\", \"linecolor\": \"#506784\", \"ticks\": \"\", \"title\": {\"standoff\": 15}, \"zerolinecolor\": \"#283442\", \"zerolinewidth\": 2}}}, \"xaxis\": {\"anchor\": \"y\", \"domain\": [0.0, 1.0], \"title\": {\"text\": \"CustomerID\"}}, \"yaxis\": {\"anchor\": \"x\", \"domain\": [0.0, 1.0], \"title\": {\"text\": \"Retention\"}}},\n",
              "                        {\"responsive\": true}\n",
              "                    ).then(function(){\n",
              "                            \n",
              "var gd = document.getElementById('7b0ca64e-a1aa-441c-a6e1-0dcf9065662a');\n",
              "var x = new MutationObserver(function (mutations, observer) {{\n",
              "        var display = window.getComputedStyle(gd).display;\n",
              "        if (!display || display === 'none') {{\n",
              "            console.log([gd, 'removed!']);\n",
              "            Plotly.purge(gd);\n",
              "            observer.disconnect();\n",
              "        }}\n",
              "}});\n",
              "\n",
              "// Listen for the removal of the full notebook cells\n",
              "var notebookContainer = gd.closest('#notebook-container');\n",
              "if (notebookContainer) {{\n",
              "    x.observe(notebookContainer, {childList: true});\n",
              "}}\n",
              "\n",
              "// Listen for the clearing of the current output cell\n",
              "var outputEl = gd.closest('.output');\n",
              "if (outputEl) {{\n",
              "    x.observe(outputEl, {childList: true});\n",
              "}}\n",
              "\n",
              "                        })\n",
              "                };\n",
              "                \n",
              "            </script>\n",
              "        </div>\n",
              "</body>\n",
              "</html>"
            ]
          },
          "metadata": {
            "tags": []
          }
        }
      ]
    },
    {
      "cell_type": "code",
      "metadata": {
        "id": "L6b1tny9bC1N",
        "colab_type": "code",
        "colab": {}
      },
      "source": [
        ""
      ],
      "execution_count": 0,
      "outputs": []
    }
  ]
}