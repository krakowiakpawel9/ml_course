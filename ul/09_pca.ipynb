{
  "nbformat": 4,
  "nbformat_minor": 0,
  "metadata": {
    "colab": {
      "name": "Untitled71.ipynb",
      "provenance": [],
      "include_colab_link": true
    },
    "kernelspec": {
      "name": "python3",
      "display_name": "Python 3"
    }
  },
  "cells": [
    {
      "cell_type": "markdown",
      "metadata": {
        "id": "view-in-github",
        "colab_type": "text"
      },
      "source": [
        "<a href=\"https://colab.research.google.com/github/krakowiakpawel9/ml_course/blob/master/ul/09_pca.ipynb\" target=\"_parent\"><img src=\"https://colab.research.google.com/assets/colab-badge.svg\" alt=\"Open In Colab\"/></a>"
      ]
    },
    {
      "cell_type": "markdown",
      "metadata": {
        "id": "C80St0V-_VIi",
        "colab_type": "text"
      },
      "source": [
        "### scikit-learn\n",
        "Strona biblioteki: [https://scikit-learn.org](https://scikit-learn.org)  \n",
        "\n",
        "Dokumentacja/User Guide: [https://scikit-learn.org/stable/user_guide.html](https://scikit-learn.org/stable/user_guide.html)\n",
        "\n",
        "Podstawowa biblioteka do uczenia maszynowego w języku Python.\n",
        "\n",
        "Aby zainstalować bibliotekę scikit-learn, użyj polecenia poniżej:\n",
        "```\n",
        "!pip install scikit-learn\n",
        "```\n",
        "Aby zaktualizować do najnowszej wersji bibliotekę scikit-learn, użyj polecenia poniżej:\n",
        "```\n",
        "!pip install --upgrade scikit-learn\n",
        "```\n",
        "Kurs stworzony w oparciu o wersję `0.22.1`\n",
        "\n",
        "### Spis treści:\n",
        "1. [Import bibliotek](#0)\n",
        "2. [Wygenerowanie danych](#1)\n",
        "3. [Wizualizacja danych](#2)\n",
        "4. [Algorytm K-średnich](#3)\n",
        "5. [Wizualizacja klastrów](#4)\n",
        "\n",
        "\n"
      ]
    },
    {
      "cell_type": "markdown",
      "metadata": {
        "id": "dCogYvFX_YD4",
        "colab_type": "text"
      },
      "source": [
        "### <a name='0'></a> Import bibliotek"
      ]
    },
    {
      "cell_type": "code",
      "metadata": {
        "id": "nGHVxtC7mp-X",
        "colab_type": "code",
        "colab": {}
      },
      "source": [
        "import numpy as np\n",
        "import pandas as pd\n",
        "import plotly.graph_objects as go\n",
        "import plotly.express as px\n",
        "from sklearn.datasets import load_breast_cancer\n",
        "\n",
        "np.set_printoptions(precision=4, suppress=True, edgeitems=5, linewidth=200)"
      ],
      "execution_count": 0,
      "outputs": []
    },
    {
      "cell_type": "code",
      "metadata": {
        "id": "c-EXRI6wnCoB",
        "colab_type": "code",
        "colab": {
          "base_uri": "https://localhost:8080/",
          "height": 35
        },
        "outputId": "ce0959e2-5583-439c-c53d-8c73e2ae50c9"
      },
      "source": [
        "raw_data = load_breast_cancer()\n",
        "all_data = raw_data.copy()\n",
        "all_data.keys()"
      ],
      "execution_count": 2,
      "outputs": [
        {
          "output_type": "execute_result",
          "data": {
            "text/plain": [
              "dict_keys(['data', 'target', 'target_names', 'DESCR', 'feature_names', 'filename'])"
            ]
          },
          "metadata": {
            "tags": []
          },
          "execution_count": 2
        }
      ]
    },
    {
      "cell_type": "code",
      "metadata": {
        "id": "_Xr8SsELmznU",
        "colab_type": "code",
        "colab": {
          "base_uri": "https://localhost:8080/",
          "height": 217
        },
        "outputId": "9d6a8d8a-6b86-4620-e336-acca450a8fbb"
      },
      "source": [
        "data = all_data['data']\n",
        "target = all_data['target']\n",
        "\n",
        "data"
      ],
      "execution_count": 3,
      "outputs": [
        {
          "output_type": "execute_result",
          "data": {
            "text/plain": [
              "array([[  17.99  ,   10.38  ,  122.8   , 1001.    ,    0.1184, ...,    0.6656,    0.7119,    0.2654,    0.4601,    0.1189],\n",
              "       [  20.57  ,   17.77  ,  132.9   , 1326.    ,    0.0847, ...,    0.1866,    0.2416,    0.186 ,    0.275 ,    0.089 ],\n",
              "       [  19.69  ,   21.25  ,  130.    , 1203.    ,    0.1096, ...,    0.4245,    0.4504,    0.243 ,    0.3613,    0.0876],\n",
              "       [  11.42  ,   20.38  ,   77.58  ,  386.1   ,    0.1425, ...,    0.8663,    0.6869,    0.2575,    0.6638,    0.173 ],\n",
              "       [  20.29  ,   14.34  ,  135.1   , 1297.    ,    0.1003, ...,    0.205 ,    0.4   ,    0.1625,    0.2364,    0.0768],\n",
              "       ...,\n",
              "       [  21.56  ,   22.39  ,  142.    , 1479.    ,    0.111 , ...,    0.2113,    0.4107,    0.2216,    0.206 ,    0.0712],\n",
              "       [  20.13  ,   28.25  ,  131.2   , 1261.    ,    0.0978, ...,    0.1922,    0.3215,    0.1628,    0.2572,    0.0664],\n",
              "       [  16.6   ,   28.08  ,  108.3   ,  858.1   ,    0.0846, ...,    0.3094,    0.3403,    0.1418,    0.2218,    0.0782],\n",
              "       [  20.6   ,   29.33  ,  140.1   , 1265.    ,    0.1178, ...,    0.8681,    0.9387,    0.265 ,    0.4087,    0.124 ],\n",
              "       [   7.76  ,   24.54  ,   47.92  ,  181.    ,    0.0526, ...,    0.0644,    0.    ,    0.    ,    0.2871,    0.0704]])"
            ]
          },
          "metadata": {
            "tags": []
          },
          "execution_count": 3
        }
      ]
    },
    {
      "cell_type": "code",
      "metadata": {
        "id": "YK9tMlMim_61",
        "colab_type": "code",
        "colab": {
          "base_uri": "https://localhost:8080/",
          "height": 181
        },
        "outputId": "62d42395-c055-4637-9e27-f54c416a2a5f"
      },
      "source": [
        "target"
      ],
      "execution_count": 4,
      "outputs": [
        {
          "output_type": "execute_result",
          "data": {
            "text/plain": [
              "array([0, 0, 0, 0, 0, 0, 0, 0, 0, 0, 0, 0, 0, 0, 0, 0, 0, 0, 0, 1, 1, 1, 0, 0, 0, 0, 0, 0, 0, 0, 0, 0, 0, 0, 0, 0, 0, 1, 0, 0, 0, 0, 0, 0, 0, 0, 1, 0, 1, 1, 1, 1, 1, 0, 0, 1, 0, 0, 1, 1, 1, 1, 0, 1,\n",
              "       0, 0, 1, 1, 1, 1, 0, 1, 0, 0, 1, 0, 1, 0, 0, 1, 1, 1, 0, 0, 1, 0, 0, 0, 1, 1, 1, 0, 1, 1, 0, 0, 1, 1, 1, 0, 0, 1, 1, 1, 1, 0, 1, 1, 0, 1, 1, 1, 1, 1, 1, 1, 1, 0, 0, 0, 1, 0, 0, 1, 1, 1, 0, 0,\n",
              "       1, 0, 1, 0, 0, 1, 0, 0, 1, 1, 0, 1, 1, 0, 1, 1, 1, 1, 0, 1, 1, 1, 1, 1, 1, 1, 1, 1, 0, 1, 1, 1, 1, 0, 0, 1, 0, 1, 1, 0, 0, 1, 1, 0, 0, 1, 1, 1, 1, 0, 1, 1, 0, 0, 0, 1, 0, 1, 0, 1, 1, 1, 0, 1,\n",
              "       1, 0, 0, 1, 0, 0, 0, 0, 1, 0, 0, 0, 1, 0, 1, 0, 1, 1, 0, 1, 0, 0, 0, 0, 1, 1, 0, 0, 1, 1, 1, 0, 1, 1, 1, 1, 1, 0, 0, 1, 1, 0, 1, 1, 0, 0, 1, 0, 1, 1, 1, 1, 0, 1, 1, 1, 1, 1, 0, 1, 0, 0, 0, 0,\n",
              "       0, 0, 0, 0, 0, 0, 0, 0, 0, 0, 1, 1, 1, 1, 1, 1, 0, 1, 0, 1, 1, 0, 1, 1, 0, 1, 0, 0, 1, 1, 1, 1, 1, 1, 1, 1, 1, 1, 1, 1, 1, 0, 1, 1, 0, 1, 0, 1, 1, 1, 1, 1, 1, 1, 1, 1, 1, 1, 1, 1, 1, 0, 1, 1,\n",
              "       1, 0, 1, 0, 1, 1, 1, 1, 0, 0, 0, 1, 1, 1, 1, 0, 1, 0, 1, 0, 1, 1, 1, 0, 1, 1, 1, 1, 1, 1, 1, 0, 0, 0, 1, 1, 1, 1, 1, 1, 1, 1, 1, 1, 1, 0, 0, 1, 0, 0, 0, 1, 0, 0, 1, 1, 1, 1, 1, 0, 1, 1, 1, 1,\n",
              "       1, 0, 1, 1, 1, 0, 1, 1, 0, 0, 1, 1, 1, 1, 1, 1, 0, 1, 1, 1, 1, 1, 1, 1, 0, 1, 1, 1, 1, 1, 0, 1, 1, 0, 1, 1, 1, 1, 1, 1, 1, 1, 1, 1, 1, 1, 0, 1, 0, 0, 1, 0, 1, 1, 1, 1, 1, 0, 1, 1, 0, 1, 0, 1,\n",
              "       1, 0, 1, 0, 1, 1, 1, 1, 1, 1, 1, 1, 0, 0, 1, 1, 1, 1, 1, 1, 0, 1, 1, 1, 1, 1, 1, 1, 1, 1, 1, 0, 1, 1, 1, 1, 1, 1, 1, 0, 1, 0, 1, 1, 0, 1, 1, 1, 1, 1, 0, 0, 1, 0, 1, 0, 1, 1, 1, 1, 1, 0, 1, 1,\n",
              "       0, 1, 0, 1, 0, 0, 1, 1, 1, 0, 1, 1, 1, 1, 1, 1, 1, 1, 1, 1, 1, 0, 1, 0, 0, 1, 1, 1, 1, 1, 1, 1, 1, 1, 1, 1, 1, 1, 1, 1, 1, 1, 1, 1, 1, 1, 1, 1, 1, 1, 0, 0, 0, 0, 0, 0, 1])"
            ]
          },
          "metadata": {
            "tags": []
          },
          "execution_count": 4
        }
      ]
    },
    {
      "cell_type": "code",
      "metadata": {
        "id": "7rC7rPjZnYzT",
        "colab_type": "code",
        "colab": {
          "base_uri": "https://localhost:8080/",
          "height": 199
        },
        "outputId": "d76b4e47-d02a-44ea-dd65-36a82089ccd5"
      },
      "source": [
        "from sklearn.preprocessing import StandardScaler\n",
        "\n",
        "scaler = StandardScaler()\n",
        "data_std = scaler.fit_transform(data)\n",
        "data_std[:5]"
      ],
      "execution_count": 5,
      "outputs": [
        {
          "output_type": "execute_result",
          "data": {
            "text/plain": [
              "array([[ 1.0971, -2.0733,  1.2699,  0.9844,  1.5685,  3.2835,  2.6529,  2.5325,  2.2175,  2.2557,  2.4897, -0.5653,  2.833 ,  2.4876, -0.214 ,  1.3169,  0.724 ,  0.6608,  1.1488,  0.9071,  1.8867,\n",
              "        -1.3593,  2.3036,  2.0012,  1.3077,  2.6167,  2.1095,  2.2961,  2.7506,  1.937 ],\n",
              "       [ 1.8298, -0.3536,  1.686 ,  1.9087, -0.827 , -0.4871, -0.0238,  0.5481,  0.0014, -0.8687,  0.4993, -0.8762,  0.2633,  0.7424, -0.6054, -0.6929, -0.4408,  0.2602, -0.8055, -0.0994,  1.8059,\n",
              "        -0.3692,  1.5351,  1.8905, -0.3756, -0.4304, -0.1467,  1.0871, -0.2439,  0.2812],\n",
              "       [ 1.5799,  0.4562,  1.5665,  1.5589,  0.9422,  1.0529,  1.3635,  2.0372,  0.9397, -0.398 ,  1.2287, -0.7801,  0.8509,  1.1813, -0.297 ,  0.815 ,  0.2131,  1.4248,  0.237 ,  0.2936,  1.5119,\n",
              "        -0.024 ,  1.3475,  1.4563,  0.5274,  1.0829,  0.855 ,  1.955 ,  1.1523,  0.2014],\n",
              "       [-0.7689,  0.2537, -0.5927, -0.7645,  3.2836,  3.4029,  1.9159,  1.4517,  2.8674,  4.9109,  0.3264, -0.1104,  0.2866, -0.2884,  0.6897,  2.7443,  0.8195,  1.115 ,  4.7327,  2.0475, -0.2815,\n",
              "         0.134 , -0.2499, -0.55  ,  3.3943,  3.8934,  1.9896,  2.1758,  6.046 ,  4.935 ],\n",
              "       [ 1.7503, -1.1518,  1.7766,  1.8262,  0.2804,  0.5393,  1.371 ,  1.4285, -0.0096, -0.5624,  1.2705, -0.7902,  1.2732,  1.1904,  1.4831, -0.0485,  0.8285,  1.1442, -0.3611,  0.4993,  1.2986,\n",
              "        -1.4668,  1.3385,  1.2207,  0.2206, -0.3134,  0.6132,  0.7293, -0.8684, -0.3971]])"
            ]
          },
          "metadata": {
            "tags": []
          },
          "execution_count": 5
        }
      ]
    },
    {
      "cell_type": "code",
      "metadata": {
        "id": "xXYEobtZoocW",
        "colab_type": "code",
        "colab": {
          "base_uri": "https://localhost:8080/",
          "height": 108
        },
        "outputId": "20fa0233-d62f-46e9-e3f9-1a511b3488e0"
      },
      "source": [
        "from sklearn.decomposition import PCA\n",
        "\n",
        "pca = PCA(n_components=2)\n",
        "data_pca = pca.fit_transform(data_std)\n",
        "data_pca[:5]"
      ],
      "execution_count": 6,
      "outputs": [
        {
          "output_type": "execute_result",
          "data": {
            "text/plain": [
              "array([[ 9.1928,  1.9486],\n",
              "       [ 2.3878, -3.7682],\n",
              "       [ 5.7339, -1.0752],\n",
              "       [ 7.123 , 10.2756],\n",
              "       [ 3.9353, -1.9481]])"
            ]
          },
          "metadata": {
            "tags": []
          },
          "execution_count": 6
        }
      ]
    },
    {
      "cell_type": "code",
      "metadata": {
        "id": "jDr3JmFMo6AD",
        "colab_type": "code",
        "colab": {
          "base_uri": "https://localhost:8080/",
          "height": 198
        },
        "outputId": "3ac79ad9-e6e3-4ae5-de07-415e39ba8b0d"
      },
      "source": [
        "pca_2 = pd.DataFrame(data={'pca_1': data_pca[:, 0], 'pca_2': data_pca[:, 1], 'class': target})\n",
        "\n",
        "pca_2.replace(0, 'Benign', inplace=True)\n",
        "pca_2.replace(1, 'Malignant', inplace=True)\n",
        "\n",
        "pca_2.head()"
      ],
      "execution_count": 7,
      "outputs": [
        {
          "output_type": "execute_result",
          "data": {
            "text/html": [
              "<div>\n",
              "<style scoped>\n",
              "    .dataframe tbody tr th:only-of-type {\n",
              "        vertical-align: middle;\n",
              "    }\n",
              "\n",
              "    .dataframe tbody tr th {\n",
              "        vertical-align: top;\n",
              "    }\n",
              "\n",
              "    .dataframe thead th {\n",
              "        text-align: right;\n",
              "    }\n",
              "</style>\n",
              "<table border=\"1\" class=\"dataframe\">\n",
              "  <thead>\n",
              "    <tr style=\"text-align: right;\">\n",
              "      <th></th>\n",
              "      <th>pca_1</th>\n",
              "      <th>pca_2</th>\n",
              "      <th>class</th>\n",
              "    </tr>\n",
              "  </thead>\n",
              "  <tbody>\n",
              "    <tr>\n",
              "      <th>0</th>\n",
              "      <td>9.192837</td>\n",
              "      <td>1.948583</td>\n",
              "      <td>Benign</td>\n",
              "    </tr>\n",
              "    <tr>\n",
              "      <th>1</th>\n",
              "      <td>2.387802</td>\n",
              "      <td>-3.768172</td>\n",
              "      <td>Benign</td>\n",
              "    </tr>\n",
              "    <tr>\n",
              "      <th>2</th>\n",
              "      <td>5.733896</td>\n",
              "      <td>-1.075174</td>\n",
              "      <td>Benign</td>\n",
              "    </tr>\n",
              "    <tr>\n",
              "      <th>3</th>\n",
              "      <td>7.122953</td>\n",
              "      <td>10.275589</td>\n",
              "      <td>Benign</td>\n",
              "    </tr>\n",
              "    <tr>\n",
              "      <th>4</th>\n",
              "      <td>3.935302</td>\n",
              "      <td>-1.948072</td>\n",
              "      <td>Benign</td>\n",
              "    </tr>\n",
              "  </tbody>\n",
              "</table>\n",
              "</div>"
            ],
            "text/plain": [
              "      pca_1      pca_2   class\n",
              "0  9.192837   1.948583  Benign\n",
              "1  2.387802  -3.768172  Benign\n",
              "2  5.733896  -1.075174  Benign\n",
              "3  7.122953  10.275589  Benign\n",
              "4  3.935302  -1.948072  Benign"
            ]
          },
          "metadata": {
            "tags": []
          },
          "execution_count": 7
        }
      ]
    },
    {
      "cell_type": "code",
      "metadata": {
        "id": "m9s0SRpypIOZ",
        "colab_type": "code",
        "colab": {
          "base_uri": "https://localhost:8080/",
          "height": 108
        },
        "outputId": "fdd32fc8-caa1-495c-b4eb-830570410942"
      },
      "source": [
        "results = pd.DataFrame(data={'explained_variance_ratio': pca.explained_variance_ratio_})\n",
        "results['cumulative'] = results['explained_variance_ratio'].cumsum()\n",
        "results"
      ],
      "execution_count": 8,
      "outputs": [
        {
          "output_type": "execute_result",
          "data": {
            "text/html": [
              "<div>\n",
              "<style scoped>\n",
              "    .dataframe tbody tr th:only-of-type {\n",
              "        vertical-align: middle;\n",
              "    }\n",
              "\n",
              "    .dataframe tbody tr th {\n",
              "        vertical-align: top;\n",
              "    }\n",
              "\n",
              "    .dataframe thead th {\n",
              "        text-align: right;\n",
              "    }\n",
              "</style>\n",
              "<table border=\"1\" class=\"dataframe\">\n",
              "  <thead>\n",
              "    <tr style=\"text-align: right;\">\n",
              "      <th></th>\n",
              "      <th>explained_variance_ratio</th>\n",
              "      <th>cumulative</th>\n",
              "    </tr>\n",
              "  </thead>\n",
              "  <tbody>\n",
              "    <tr>\n",
              "      <th>0</th>\n",
              "      <td>0.442720</td>\n",
              "      <td>0.442720</td>\n",
              "    </tr>\n",
              "    <tr>\n",
              "      <th>1</th>\n",
              "      <td>0.189712</td>\n",
              "      <td>0.632432</td>\n",
              "    </tr>\n",
              "  </tbody>\n",
              "</table>\n",
              "</div>"
            ],
            "text/plain": [
              "   explained_variance_ratio  cumulative\n",
              "0                  0.442720    0.442720\n",
              "1                  0.189712    0.632432"
            ]
          },
          "metadata": {
            "tags": []
          },
          "execution_count": 8
        }
      ]
    },
    {
      "cell_type": "code",
      "metadata": {
        "id": "x3MooTBCpKpg",
        "colab_type": "code",
        "colab": {
          "base_uri": "https://localhost:8080/",
          "height": 542
        },
        "outputId": "3bca5e51-bab1-49b0-e463-666a63a86703"
      },
      "source": [
        "fig = go.Figure(data=[go.Bar(x=results.index, y=results['explained_variance_ratio'], name='explained_variance_ratio'),\n",
        "                      go.Scatter(x=results.index, y=results['cumulative'], name='cumulative')],\n",
        "                layout=go.Layout(title='PCA - 2 components', width=700))\n",
        "fig.show()"
      ],
      "execution_count": 9,
      "outputs": [
        {
          "output_type": "display_data",
          "data": {
            "text/html": [
              "<html>\n",
              "<head><meta charset=\"utf-8\" /></head>\n",
              "<body>\n",
              "    <div>\n",
              "            <script src=\"https://cdnjs.cloudflare.com/ajax/libs/mathjax/2.7.5/MathJax.js?config=TeX-AMS-MML_SVG\"></script><script type=\"text/javascript\">if (window.MathJax) {MathJax.Hub.Config({SVG: {font: \"STIX-Web\"}});}</script>\n",
              "                <script type=\"text/javascript\">window.PlotlyConfig = {MathJaxConfig: 'local'};</script>\n",
              "        <script src=\"https://cdn.plot.ly/plotly-latest.min.js\"></script>    \n",
              "            <div id=\"067218b2-c291-46a3-8b00-76faafad9757\" class=\"plotly-graph-div\" style=\"height:525px; width:700px;\"></div>\n",
              "            <script type=\"text/javascript\">\n",
              "                \n",
              "                    window.PLOTLYENV=window.PLOTLYENV || {};\n",
              "                    \n",
              "                if (document.getElementById(\"067218b2-c291-46a3-8b00-76faafad9757\")) {\n",
              "                    Plotly.newPlot(\n",
              "                        '067218b2-c291-46a3-8b00-76faafad9757',\n",
              "                        [{\"name\": \"explained_variance_ratio\", \"type\": \"bar\", \"x\": [0, 1], \"y\": [0.44272025607526316, 0.18971182044033094]}, {\"name\": \"cumulative\", \"type\": \"scatter\", \"x\": [0, 1], \"y\": [0.44272025607526316, 0.6324320765155941]}],\n",
              "                        {\"template\": {\"data\": {\"bar\": [{\"error_x\": {\"color\": \"#2a3f5f\"}, \"error_y\": {\"color\": \"#2a3f5f\"}, \"marker\": {\"line\": {\"color\": \"#E5ECF6\", \"width\": 0.5}}, \"type\": \"bar\"}], \"barpolar\": [{\"marker\": {\"line\": {\"color\": \"#E5ECF6\", \"width\": 0.5}}, \"type\": \"barpolar\"}], \"carpet\": [{\"aaxis\": {\"endlinecolor\": \"#2a3f5f\", \"gridcolor\": \"white\", \"linecolor\": \"white\", \"minorgridcolor\": \"white\", \"startlinecolor\": \"#2a3f5f\"}, \"baxis\": {\"endlinecolor\": \"#2a3f5f\", \"gridcolor\": \"white\", \"linecolor\": \"white\", \"minorgridcolor\": \"white\", \"startlinecolor\": \"#2a3f5f\"}, \"type\": \"carpet\"}], \"choropleth\": [{\"colorbar\": {\"outlinewidth\": 0, \"ticks\": \"\"}, \"type\": \"choropleth\"}], \"contour\": [{\"colorbar\": {\"outlinewidth\": 0, \"ticks\": \"\"}, \"colorscale\": [[0.0, \"#0d0887\"], [0.1111111111111111, \"#46039f\"], [0.2222222222222222, \"#7201a8\"], [0.3333333333333333, \"#9c179e\"], [0.4444444444444444, \"#bd3786\"], [0.5555555555555556, \"#d8576b\"], [0.6666666666666666, \"#ed7953\"], [0.7777777777777778, \"#fb9f3a\"], [0.8888888888888888, \"#fdca26\"], [1.0, \"#f0f921\"]], \"type\": \"contour\"}], \"contourcarpet\": [{\"colorbar\": {\"outlinewidth\": 0, \"ticks\": \"\"}, \"type\": \"contourcarpet\"}], \"heatmap\": [{\"colorbar\": {\"outlinewidth\": 0, \"ticks\": \"\"}, \"colorscale\": [[0.0, \"#0d0887\"], [0.1111111111111111, \"#46039f\"], [0.2222222222222222, \"#7201a8\"], [0.3333333333333333, \"#9c179e\"], [0.4444444444444444, \"#bd3786\"], [0.5555555555555556, \"#d8576b\"], [0.6666666666666666, \"#ed7953\"], [0.7777777777777778, \"#fb9f3a\"], [0.8888888888888888, \"#fdca26\"], [1.0, \"#f0f921\"]], \"type\": \"heatmap\"}], \"heatmapgl\": [{\"colorbar\": {\"outlinewidth\": 0, \"ticks\": \"\"}, \"colorscale\": [[0.0, \"#0d0887\"], [0.1111111111111111, \"#46039f\"], [0.2222222222222222, \"#7201a8\"], [0.3333333333333333, \"#9c179e\"], [0.4444444444444444, \"#bd3786\"], [0.5555555555555556, \"#d8576b\"], [0.6666666666666666, \"#ed7953\"], [0.7777777777777778, \"#fb9f3a\"], [0.8888888888888888, \"#fdca26\"], [1.0, \"#f0f921\"]], \"type\": \"heatmapgl\"}], \"histogram\": [{\"marker\": {\"colorbar\": {\"outlinewidth\": 0, \"ticks\": \"\"}}, \"type\": \"histogram\"}], \"histogram2d\": [{\"colorbar\": {\"outlinewidth\": 0, \"ticks\": \"\"}, \"colorscale\": [[0.0, \"#0d0887\"], [0.1111111111111111, \"#46039f\"], [0.2222222222222222, \"#7201a8\"], [0.3333333333333333, \"#9c179e\"], [0.4444444444444444, \"#bd3786\"], [0.5555555555555556, \"#d8576b\"], [0.6666666666666666, \"#ed7953\"], [0.7777777777777778, \"#fb9f3a\"], [0.8888888888888888, \"#fdca26\"], [1.0, \"#f0f921\"]], \"type\": \"histogram2d\"}], \"histogram2dcontour\": [{\"colorbar\": {\"outlinewidth\": 0, \"ticks\": \"\"}, \"colorscale\": [[0.0, \"#0d0887\"], [0.1111111111111111, \"#46039f\"], [0.2222222222222222, \"#7201a8\"], [0.3333333333333333, \"#9c179e\"], [0.4444444444444444, \"#bd3786\"], [0.5555555555555556, \"#d8576b\"], [0.6666666666666666, \"#ed7953\"], [0.7777777777777778, \"#fb9f3a\"], [0.8888888888888888, \"#fdca26\"], [1.0, \"#f0f921\"]], \"type\": \"histogram2dcontour\"}], \"mesh3d\": [{\"colorbar\": {\"outlinewidth\": 0, \"ticks\": \"\"}, \"type\": \"mesh3d\"}], \"parcoords\": [{\"line\": {\"colorbar\": {\"outlinewidth\": 0, \"ticks\": \"\"}}, \"type\": \"parcoords\"}], \"pie\": [{\"automargin\": true, \"type\": \"pie\"}], \"scatter\": [{\"marker\": {\"colorbar\": {\"outlinewidth\": 0, \"ticks\": \"\"}}, \"type\": \"scatter\"}], \"scatter3d\": [{\"line\": {\"colorbar\": {\"outlinewidth\": 0, \"ticks\": \"\"}}, \"marker\": {\"colorbar\": {\"outlinewidth\": 0, \"ticks\": \"\"}}, \"type\": \"scatter3d\"}], \"scattercarpet\": [{\"marker\": {\"colorbar\": {\"outlinewidth\": 0, \"ticks\": \"\"}}, \"type\": \"scattercarpet\"}], \"scattergeo\": [{\"marker\": {\"colorbar\": {\"outlinewidth\": 0, \"ticks\": \"\"}}, \"type\": \"scattergeo\"}], \"scattergl\": [{\"marker\": {\"colorbar\": {\"outlinewidth\": 0, \"ticks\": \"\"}}, \"type\": \"scattergl\"}], \"scattermapbox\": [{\"marker\": {\"colorbar\": {\"outlinewidth\": 0, \"ticks\": \"\"}}, \"type\": \"scattermapbox\"}], \"scatterpolar\": [{\"marker\": {\"colorbar\": {\"outlinewidth\": 0, \"ticks\": \"\"}}, \"type\": \"scatterpolar\"}], \"scatterpolargl\": [{\"marker\": {\"colorbar\": {\"outlinewidth\": 0, \"ticks\": \"\"}}, \"type\": \"scatterpolargl\"}], \"scatterternary\": [{\"marker\": {\"colorbar\": {\"outlinewidth\": 0, \"ticks\": \"\"}}, \"type\": \"scatterternary\"}], \"surface\": [{\"colorbar\": {\"outlinewidth\": 0, \"ticks\": \"\"}, \"colorscale\": [[0.0, \"#0d0887\"], [0.1111111111111111, \"#46039f\"], [0.2222222222222222, \"#7201a8\"], [0.3333333333333333, \"#9c179e\"], [0.4444444444444444, \"#bd3786\"], [0.5555555555555556, \"#d8576b\"], [0.6666666666666666, \"#ed7953\"], [0.7777777777777778, \"#fb9f3a\"], [0.8888888888888888, \"#fdca26\"], [1.0, \"#f0f921\"]], \"type\": \"surface\"}], \"table\": [{\"cells\": {\"fill\": {\"color\": \"#EBF0F8\"}, \"line\": {\"color\": \"white\"}}, \"header\": {\"fill\": {\"color\": \"#C8D4E3\"}, \"line\": {\"color\": \"white\"}}, \"type\": \"table\"}]}, \"layout\": {\"annotationdefaults\": {\"arrowcolor\": \"#2a3f5f\", \"arrowhead\": 0, \"arrowwidth\": 1}, \"coloraxis\": {\"colorbar\": {\"outlinewidth\": 0, \"ticks\": \"\"}}, \"colorscale\": {\"diverging\": [[0, \"#8e0152\"], [0.1, \"#c51b7d\"], [0.2, \"#de77ae\"], [0.3, \"#f1b6da\"], [0.4, \"#fde0ef\"], [0.5, \"#f7f7f7\"], [0.6, \"#e6f5d0\"], [0.7, \"#b8e186\"], [0.8, \"#7fbc41\"], [0.9, \"#4d9221\"], [1, \"#276419\"]], \"sequential\": [[0.0, \"#0d0887\"], [0.1111111111111111, \"#46039f\"], [0.2222222222222222, \"#7201a8\"], [0.3333333333333333, \"#9c179e\"], [0.4444444444444444, \"#bd3786\"], [0.5555555555555556, \"#d8576b\"], [0.6666666666666666, \"#ed7953\"], [0.7777777777777778, \"#fb9f3a\"], [0.8888888888888888, \"#fdca26\"], [1.0, \"#f0f921\"]], \"sequentialminus\": [[0.0, \"#0d0887\"], [0.1111111111111111, \"#46039f\"], [0.2222222222222222, \"#7201a8\"], [0.3333333333333333, \"#9c179e\"], [0.4444444444444444, \"#bd3786\"], [0.5555555555555556, \"#d8576b\"], [0.6666666666666666, \"#ed7953\"], [0.7777777777777778, \"#fb9f3a\"], [0.8888888888888888, \"#fdca26\"], [1.0, \"#f0f921\"]]}, \"colorway\": [\"#636efa\", \"#EF553B\", \"#00cc96\", \"#ab63fa\", \"#FFA15A\", \"#19d3f3\", \"#FF6692\", \"#B6E880\", \"#FF97FF\", \"#FECB52\"], \"font\": {\"color\": \"#2a3f5f\"}, \"geo\": {\"bgcolor\": \"white\", \"lakecolor\": \"white\", \"landcolor\": \"#E5ECF6\", \"showlakes\": true, \"showland\": true, \"subunitcolor\": \"white\"}, \"hoverlabel\": {\"align\": \"left\"}, \"hovermode\": \"closest\", \"mapbox\": {\"style\": \"light\"}, \"paper_bgcolor\": \"white\", \"plot_bgcolor\": \"#E5ECF6\", \"polar\": {\"angularaxis\": {\"gridcolor\": \"white\", \"linecolor\": \"white\", \"ticks\": \"\"}, \"bgcolor\": \"#E5ECF6\", \"radialaxis\": {\"gridcolor\": \"white\", \"linecolor\": \"white\", \"ticks\": \"\"}}, \"scene\": {\"xaxis\": {\"backgroundcolor\": \"#E5ECF6\", \"gridcolor\": \"white\", \"gridwidth\": 2, \"linecolor\": \"white\", \"showbackground\": true, \"ticks\": \"\", \"zerolinecolor\": \"white\"}, \"yaxis\": {\"backgroundcolor\": \"#E5ECF6\", \"gridcolor\": \"white\", \"gridwidth\": 2, \"linecolor\": \"white\", \"showbackground\": true, \"ticks\": \"\", \"zerolinecolor\": \"white\"}, \"zaxis\": {\"backgroundcolor\": \"#E5ECF6\", \"gridcolor\": \"white\", \"gridwidth\": 2, \"linecolor\": \"white\", \"showbackground\": true, \"ticks\": \"\", \"zerolinecolor\": \"white\"}}, \"shapedefaults\": {\"line\": {\"color\": \"#2a3f5f\"}}, \"ternary\": {\"aaxis\": {\"gridcolor\": \"white\", \"linecolor\": \"white\", \"ticks\": \"\"}, \"baxis\": {\"gridcolor\": \"white\", \"linecolor\": \"white\", \"ticks\": \"\"}, \"bgcolor\": \"#E5ECF6\", \"caxis\": {\"gridcolor\": \"white\", \"linecolor\": \"white\", \"ticks\": \"\"}}, \"title\": {\"x\": 0.05}, \"xaxis\": {\"automargin\": true, \"gridcolor\": \"white\", \"linecolor\": \"white\", \"ticks\": \"\", \"title\": {\"standoff\": 15}, \"zerolinecolor\": \"white\", \"zerolinewidth\": 2}, \"yaxis\": {\"automargin\": true, \"gridcolor\": \"white\", \"linecolor\": \"white\", \"ticks\": \"\", \"title\": {\"standoff\": 15}, \"zerolinecolor\": \"white\", \"zerolinewidth\": 2}}}, \"title\": {\"text\": \"PCA - 2 components\"}, \"width\": 700},\n",
              "                        {\"responsive\": true}\n",
              "                    ).then(function(){\n",
              "                            \n",
              "var gd = document.getElementById('067218b2-c291-46a3-8b00-76faafad9757');\n",
              "var x = new MutationObserver(function (mutations, observer) {{\n",
              "        var display = window.getComputedStyle(gd).display;\n",
              "        if (!display || display === 'none') {{\n",
              "            console.log([gd, 'removed!']);\n",
              "            Plotly.purge(gd);\n",
              "            observer.disconnect();\n",
              "        }}\n",
              "}});\n",
              "\n",
              "// Listen for the removal of the full notebook cells\n",
              "var notebookContainer = gd.closest('#notebook-container');\n",
              "if (notebookContainer) {{\n",
              "    x.observe(notebookContainer, {childList: true});\n",
              "}}\n",
              "\n",
              "// Listen for the clearing of the current output cell\n",
              "var outputEl = gd.closest('.output');\n",
              "if (outputEl) {{\n",
              "    x.observe(outputEl, {childList: true});\n",
              "}}\n",
              "\n",
              "                        })\n",
              "                };\n",
              "                \n",
              "            </script>\n",
              "        </div>\n",
              "</body>\n",
              "</html>"
            ]
          },
          "metadata": {
            "tags": []
          }
        }
      ]
    },
    {
      "cell_type": "code",
      "metadata": {
        "id": "ZuJDHT5ApMyI",
        "colab_type": "code",
        "colab": {
          "base_uri": "https://localhost:8080/",
          "height": 542
        },
        "outputId": "a98fad70-7160-4625-e7b3-bdc9b0826695"
      },
      "source": [
        "px.scatter(pca_2, 'pca_1', 'pca_2', color=pca_2['class'], width=700)"
      ],
      "execution_count": 10,
      "outputs": [
        {
          "output_type": "display_data",
          "data": {
            "text/html": [
              "<html>\n",
              "<head><meta charset=\"utf-8\" /></head>\n",
              "<body>\n",
              "    <div>\n",
              "            <script src=\"https://cdnjs.cloudflare.com/ajax/libs/mathjax/2.7.5/MathJax.js?config=TeX-AMS-MML_SVG\"></script><script type=\"text/javascript\">if (window.MathJax) {MathJax.Hub.Config({SVG: {font: \"STIX-Web\"}});}</script>\n",
              "                <script type=\"text/javascript\">window.PlotlyConfig = {MathJaxConfig: 'local'};</script>\n",
              "        <script src=\"https://cdn.plot.ly/plotly-latest.min.js\"></script>    \n",
              "            <div id=\"1d984ebf-754c-4e64-bb79-96f43bdf241a\" class=\"plotly-graph-div\" style=\"height:525px; width:700px;\"></div>\n",
              "            <script type=\"text/javascript\">\n",
              "                \n",
              "                    window.PLOTLYENV=window.PLOTLYENV || {};\n",
              "                    \n",
              "                if (document.getElementById(\"1d984ebf-754c-4e64-bb79-96f43bdf241a\")) {\n",
              "                    Plotly.newPlot(\n",
              "                        '1d984ebf-754c-4e64-bb79-96f43bdf241a',\n",
              "                        [{\"hoverlabel\": {\"namelength\": 0}, \"hovertemplate\": \"class=Benign<br>pca_1=%{x}<br>pca_2=%{y}\", \"legendgroup\": \"class=Benign\", \"marker\": {\"color\": \"#636efa\", \"symbol\": \"circle\"}, \"mode\": \"markers\", \"name\": \"class=Benign\", \"showlegend\": true, \"type\": \"scatter\", \"x\": [9.192836826213542, 2.387801795802195, 5.733896279731745, 7.122953197708587, 3.9353020736780477, 2.3802471503458866, 2.238883308052306, 2.143298500377744, 3.1749242930836883, 6.351746789526548, -0.8104137708455005, 2.651100477242899, 8.18503445814824, 0.3421259139901575, 4.342379194648131, 4.075656175346062, 0.23005501570990414, 4.418010915982917, 4.9487035505651, 4.733210788210124, 4.208524209049859, 4.9496320739836595, 7.0985628549124575, 3.510262603972308, 3.0640538860632325, 4.007264143655886, 1.7153097265431942, 6.059445513504974, 2.9022361049998686, 4.5547826888155205, 4.990602722476097, 2.985340788971048, 2.7663691577776746, 1.296198765020799, -0.9980689008797465, 0.7652641153962835, -2.1509534707303963, -0.0933313865673773, 9.087999677261879, 0.9904537655030082, -0.29354655092813264, 5.380940406937143, 1.70000688683721, 3.3025509513786773, -0.6746192855719094, 4.648738872436804, 2.1768628822290372, 4.759112153866579, 1.6916079231690222, 1.8123054050067233, 2.7045961726303145, 5.503705315294006, -0.3617091926935135, 1.428167592895693, 6.23089651190311, 11.668714648329011, 10.769242819274544, 5.034811085482498, 3.288235384718568, 0.6076079451780773, 3.5835636260633756, 0.25249756752660646, 2.775865569002874, 4.396227954702684, 0.6162808698254268, -0.4328602208167565, 3.2139167651769225, 13.056121858663676, 3.110527693352334, 4.9567255700021855, 0.8510142626641989, 3.3341331980203655, 12.894612133969188, -0.6388804999704708, 1.9191334226487613, 4.643691316587166, 1.4320694267973009, 1.3526270253944235, 2.1714160183037845, -1.9768403553188183, 3.7820264555800494, 1.345020437737661, 2.399997843153959, 4.100787726595421, 3.3873307646413138, 6.1498861899659225, 5.494152797674749, 1.2136346121481503, 5.069661081475263, -0.9474878917479979, 2.819368343465739, 2.9563018671444454, 9.512669844166076, 9.007165526292418, 0.7588784847612117, -0.3900189810591048, 0.3648761518406382, 6.523116620293373, 1.7796614892325588, 2.611484893160534, 2.498438877724091, 1.2770271752994713, 3.473197342850613, 1.2566751119852493, 1.6494606959342237, 9.036589480304983, 4.554590064788121, -0.22309260678399703, 0.44654439641738036, 4.808969244732053, 12.285019759540877, 3.372196590643961, 2.5087663116227263, 1.318068476542908, 4.943581014506935, 4.298077329827786, 1.8032470204666935, 2.7555680011538692, 3.257254673478833, 3.3163241134463712, 8.403847113457367, 2.6475686330837664, 3.350295790635024, 3.795565641825057, 7.143842039052431, 7.085010648787722, 1.3140990035987234, 3.7116495147796216, 0.46047909084783056, 6.39264992053516, 5.2555449497783, 8.733861502954673, 3.6913178802284157, 3.378250872695543, -0.840209653836977, 3.2843726199736896, -1.9087689281364129, 1.6147819253558582, 6.619726346836578, 7.676149471669803, 0.3373454926436581, 0.01743079148721161, 4.960268117827755, 3.785060102923501, 2.6372557772722685, -2.3858827584204847, 6.590235943344241, 7.182933102086008, 1.8953162763187736, 1.8348404671475746, 7.236485314391776, 2.2505103740994956, 2.107801227877583, 1.78594998031961, 3.3196739715198063, 4.6801662624006495, 7.353218575027459, 4.975162358414997, 6.182283741691776, 10.93429815842683, 2.1184969319272677, 2.735011771675466, 6.2270259886893164, 5.307140022001242, 7.2480010612735395, 4.207220618955351, 3.635014946683025, 3.519248275013538, 3.76593215410559, -0.5429013641687075, 4.703500731699137, 4.1490973424487985, 7.672141552625958, 6.289673469534762, 2.7633707862902686, -0.9340908103737892, 6.0036165913734605, 4.949858461550564, 4.549111146627527, 4.442342818131164, 0.664440914691157, 2.4723569167740287, 0.9817275418953217, 3.245413648902967, 4.331653344535932, 2.5117531022605353, 3.47549374813066, 16.3192332310321, 5.930964859583983, 3.8244330429412265, 4.754614870668605, -0.7417817670631274, 3.103519703927825, 3.715705103463387, 5.094841843796586, 2.790399829433799, 7.2591788407931075, 4.0941425572404375, 2.226994489205826, -0.7337724522411333, 2.697223754399315, 3.379014667722279, 8.630755859095842, 4.028435261074375, 5.165410948305011, 0.5359319494274919, 5.917612589142604, 8.741338077267534, 6.4393154839539815, 3.7933823700326452, 1.2561792761502675, 10.374794059770048], \"xaxis\": \"x\", \"y\": [1.9485830712608647, -3.7681717420509435, -1.0751737965655788, 10.275589121418207, -1.9480715678391705, 3.9499288954792697, -2.690031277428197, 2.34024400724888, 3.391812951771887, 7.72717406753035, -2.659275497977196, 0.06656792727241054, 2.7009764930515052, -0.9682792608469416, 4.8610833128929745, 2.977061180378411, -1.564757725404645, 1.4186703333458108, -4.11433352496806, 3.3049637288485214, -5.128366514001218, -1.5437522882539527, 2.0186103377624507, 2.1716251163935834, -1.8765523475001449, 0.5372421605931076, -1.5237050228982822, -0.7571774509946801, 4.00529551252569, 0.3375361535130014, -1.13258890559048, 0.758423242795753, -0.35435594260190045, 0.9131962761967839, -3.351292922678239, 0.8862439529463559, -1.923991615802872, 2.260752005934789, 2.0186731000893006, 0.9849300203360098, -0.13709909086391875, -0.13487697763420495, 2.3522717937420112, -1.1309378054413213, -2.116409716978859, -2.310332570081181, 0.9721160459321626, 3.0116805070741743, 1.5406765571357925, 0.72274019087589, -4.437141769657562, 0.9383254156064035, 0.11973908647483984, -1.9671014113768313, 0.9200695433223622, 4.748617201495485, -2.2579828977728402, 0.7744091559415993, -1.6682370620716835, 0.1622145253968409, -2.2066618395342714, -0.5313515475004613, 0.5580005272309688, -2.123507712077452, 0.638911669503647, -1.3920442990773356, 4.046756221999396, 0.9815132266660782, 1.5693895564237625, 2.384846218569473, -2.306735368217114, -1.3255573540881327, 2.3166224646314095, -0.911366029013924, -3.5380823680379794, -1.4820171696829805, -1.049603949304677, -1.154141471565028, -2.826260726400765, -0.41938744716725707, 0.860381597214016, -1.2747709559863267, 4.837988819481693, -0.3788038198795132, -2.91103710680733, -2.017652755022331, -4.1658293054254605, -2.039038957012163, -1.785152334376998, -1.6847535464873176, 1.2651031317306738, 0.7064218524169451, -5.603484193122787, 0.5810310775106399, -1.6085325754716344, -0.989242353190778, -3.574461226100444, 8.011169612250985, 2.776587169962008, 1.5614217091879221, 2.278482852270618, -2.4432589641248423, -2.2778489092813574, 0.3823932642980404, -2.1022910703953688, -0.6551728254458963, 3.086639155961137, -0.7018214902031169, -2.7877077408222717, -3.0291029670561866, -7.543410170146741, 2.587825428350103, 2.614648477829941, 2.154479501527726, -2.848324457292281, -4.666275179270919, 0.16646095726034543, 3.4657736040504017, -0.1252004919843461, -3.9391522598360824, -4.153904776760506, -3.9511729513112765, -2.154570027239974, -1.0262326418104057, -2.074842233318175, 0.5282231718230682, -1.7754258313028313, -2.8074771107728287, 0.39416628858771213, -1.8230941629946902, 3.894530989930436, 3.2798773760480193, 1.0656460672946442, -3.371227892554313, -3.500085032282931, -0.9906732002265555, -3.1219458055300686, -2.4745733479697165, -6.00327641799151, -3.075306303781831, -3.1443734579087286, -3.4593432914710767, -1.3411230476925953, -1.9019074161370813, 0.5771549959109331, -0.8241155707165133, -1.4848624501821153, 0.05514605985123702, -2.3922380031551866, -4.321522964618116, -0.03570179740245298, -0.3485359405951908, 1.121973942365527, -0.2692216350910274, -1.5770528425810315, -0.968592953249011, -5.242623143218673, -1.3325721795180627, 5.10800544867649, -3.7032540805132728, 0.29662906922110605, -3.9451682305120217, -1.3901096910640955, -6.723414983478828, -3.655469129840568, 1.1762428817003816, -1.956440910424576, -3.8586071201262055, 5.985295349336081, -1.317067910034867, -0.19595575436724905, 0.7674888442821828, -0.8604841509469969, 2.0365473967386993, -1.0786335087269725, -2.1059455916843968, -0.09102922174215655, 3.006064129900624, -0.8160005061486949, -0.9924388977001416, 0.43686085553732085, -1.4998247511502452, -2.210429947198196, -1.7783586326836383, -4.049332418268089, -2.5288075837326573, -1.67288439152115, -7.775852804146647, 1.228296682453355, 2.3052363164651006, -1.4894235605929513, -2.4520349660776923, -1.2361532113712193, -1.0586862195159858, -2.0192078341435518, 3.3855607718339313, -5.49573571918468, 2.802927249697257, 1.9416347588731295, -1.9436971834688146, -1.943709946148864, -2.333428945126664, -3.45945191532374, -2.9414300977916503, -2.3822032317563635, 0.3807151456293509, 3.482636658983684, -0.5738546727459992, -3.576817444094879, -3.5840478640699787, -1.9022967130731063, 1.6720101056243735], \"yaxis\": \"y\"}, {\"hoverlabel\": {\"namelength\": 0}, \"hovertemplate\": \"class=Malignant<br>pca_1=%{x}<br>pca_2=%{y}\", \"legendgroup\": \"class=Malignant\", \"marker\": {\"color\": \"#EF553B\", \"symbol\": \"circle\"}, \"mode\": \"markers\", \"name\": \"class=Malignant\", \"showlegend\": true, \"type\": \"scatter\", \"x\": [-1.237063356955088, -1.5781612348122482, -3.5573363735499637, -3.7493133959386564, -4.5819366721865, -2.136445277284196, -1.567478997208127, -3.542905557464007, -3.1578140501813614, -3.450488543516018, -2.858158440046777, -3.7214589928321473, -4.135962943790087, -2.385835663134634, -2.57888325196863, -2.314132249371106, -2.785924756666485, -3.5186483396477426, 4.3300026490832915, -3.261279472772657, -0.3078557704769882, -2.6299766385630527, -0.8345178814909163, -2.0215776584355756, -1.6383849373650372, 1.1674616110728098, -2.174464309546027, -0.9341581043942478, 1.259604647349524, -1.5882639721787823, -2.8474315866957625, -1.964950112937943, -2.592082827805438, -3.9043381501530257, -2.8182312131424188, -4.555028840448402, -3.448183541217454, -2.115960264030318, -2.6913522049621017, -0.7492713563494278, -3.1590060374147333, -2.228679813442365, -2.492831035611709, -0.10335042641382922, 3.5912941186901204, -1.3489486828723232, -2.5101176755589303, -2.046029572451809, -2.0970691694485177, -2.9659992066224086, -0.7707436775322035, -2.2025155237821936, -3.14341224560276, 1.4088683633930612, -1.8774673636140229, -0.7091148317234978, -2.600789504020751, -3.2580073594687846, -1.9920347221449113, -5.0150086899760264, -2.4559688106880766, -1.837281669517368, -4.346489712228465, -0.7328129161440166, 0.3930986639315944, -0.4123278127954925, -3.0499249404514948, -1.4425637316071704, 0.08318610261284859, 7.093306714187492, -3.743404542996196, -0.9691728143624798, -2.418719908122912, -0.7516030055349477, -3.6546465282535543, -4.6802115760127805, -0.5977817666139665, -1.3250313470426653, -2.9974032071316836, -4.386732721106669, -1.9777014396330646, -2.514876418889886, -3.4839862980199117, -4.658729577965951, -5.3516181149368895, 1.170897778905114, -4.975702062159933, -4.064025658740081, -2.6593596153534436, -3.8890655271865793, -2.835890918156754, -3.310283620739789, -3.357304402555019, -1.7177351761081274, -5.565735898980741, -2.8190385096118242, -1.4734313692160486, -0.7811899668984418, -3.4548953860957967, 0.31443822596123794, -2.059191942545337, -2.9987105282382864, -0.38875629875534445, -2.7569329912569867, -2.373501801975165, -0.9671903116026367, -2.9757987879411023, -2.4783595123722657, -0.8260392924372725, -3.8946973283396424, -0.38957809021704126, -1.4573213567984264, -4.019140240564283, -3.6764132931677422, -4.03660736175803, -2.3342333502301282, -0.6817688659204346, -2.227720518819731, -4.477584655730664, 1.3226214188390464, -1.8500898601406823, -2.281318099239441, -3.228770118277337, 1.0259007876490869, -2.5825558372819053, -2.485883225506299, -3.0324811407726844, -1.4646759334587431, -2.012152428518647, -2.2843402520706073, -0.7397430856452146, -4.506562510681621, -3.158754301407452, -3.6391359671590218, -1.2765833791511796, -4.346014054230342, -3.492426037286909, -1.8665488536839872, -2.4707226852229853, -1.372685023666478, -4.138882573259196, -0.6869402913906459, -4.312129582742914, 0.40330942137751347, -3.0036057953214006, 3.134008205439638, -0.41783686688156474, -1.4202231350823349, -2.8705883477858447, -3.365845704071295, -3.3150001548362353, -4.769710159700333, -2.7870960094309156, -3.3938417715187237, -1.4553305178967177, -3.5788354034472873, -3.057032641873528, -3.0744358315608187, -3.853539733255822, -5.3902563937741474, -4.65768233449482, -4.027542388108103, -3.3478219416102424, -3.2998420114681735, -2.1364041423510183, -4.0380171417369555, -3.765414553258832, -4.871239383481158, -4.747248516354657, 1.5729311406089839, -4.026620252659271, -1.2948661700950261, -1.8103805588913253, -3.145650188520997, -2.8872680582397114, -3.14965398382089, -4.628379483050227, -0.5276966174018859, -3.213500980500959, -4.386422966517943, -3.810017869830672, -2.3932759643304227, -3.067695140604605, 0.2953131832478969, -1.9389694969465723, -2.077178921431149, -2.1769168795843403, -2.431551455008592, -3.3679657788781743, -1.2065977905128549, -3.3260792487090987, -1.9287954022350773, -4.041835089954596, -3.0121949701584736, -0.9826485812694539, 0.3578938625182182, -3.193917865505754, -2.993233301244198, -3.1939141504690003, -4.591961853505463, -2.4859161544121156, -2.398665346211342, -0.7796151997478856, -3.1399884257527813, -2.2237757455793563, -2.4996363741119914, -2.6149483072401005, -0.09610811657674646, 2.0448569345667, -3.066749527557637, -1.603586443385986, -0.9255666032079256, -3.288349594100744, -1.5548521496523855, -0.39877991758132086, -2.3005678213334493, -2.0588194558297204, -3.4245180552308536, -0.4724065518529555, -3.6433802386142005, -3.5946893435893337, -2.010379413757434, -2.920833494836697, -0.5007378002660727, -1.9114985749228328, -3.7850992277955973, -2.7083939682133704, -3.4307706912385103, -2.0013884663890096, -2.473293094287327, -3.647257746394322, -2.346186850942376, -1.1429969265478002, -1.350857303332006, -1.9693236050363334, -2.931187055439901, -2.9263743861506155, -3.9961882774107527, 0.1551380594686941, -1.929621730254939, -2.62233860170367, -2.921877804574763, -3.341944803949525, -2.014915033411765, 1.9884621055516989, -1.669603930600589, -0.37117811351846947, -1.848959929836846, -4.703042202111379, -1.283187150786058, -2.314246819304829, -4.65908517641117, -3.943473381734799, -0.9158035193313866, -2.1949843010206256, -2.240876053643261, -2.125180436920053, -2.6153174112222013, -3.210967975662053, -0.30675039870745036, -3.4547183721129544, -3.900526848057842, -1.2572515710232195, -1.557219412537193, -1.2492580966982538, -1.077451329893229, -2.217092305447971, -1.1738306467790667, -2.8363014443334915, -1.857085898875109, -1.32861437295813, -2.8027713567763786, -3.174568796763735, -4.087077360931474, -2.5601150180169823, -2.9688887959171937, -2.7574304510199625, 1.3703398754409848, -0.4176644925527771, -3.8383986229812286, 0.6454786474869154, -2.6838464009790326, -2.041664052105302, -1.3992963501118203, -3.5364152954177794, -1.9905294465907266, -1.9981853671292151, -0.5206581123168593, -3.172370488248012, -2.202710189056902, -2.9854846903263854, -2.4810551072777067, -1.2721114612783921, -2.2351568880782606, -0.05618310431170397, 2.3173906062807323, -2.284331260851874, -1.7263109176880609, -2.8943106610120894, -1.6545218459207558, -4.064270597765301, -2.7933306574627563, -1.4749199376089237, -0.2293946370434082, -2.553258407613521, -0.6006161135561172, -1.408771214399263, 1.2988665487857103, 1.0766932756334902, -1.2497605247722596, -1.2569284056193057, -1.1665352144776675, -1.8876392413594958, -2.767435702845945, -1.1315768907450283, -2.333670736811438, -0.19987058014165388, -1.1760259132353355, -1.2926365392816983, -4.42945637106603, -0.6198387404461196, -3.2523157686119935, -3.3529270535366495, -0.8598029860026934, -3.1566219686827117, 0.34652811320885485, -2.4614066509247667, -1.530100721587381, -1.773585066060633, -2.6804416239660047, -2.136351228598557, 0.34312338294325234, -4.197079986346256, -1.1428318645964926, -1.6654751532167282, 1.0117124957302335, -1.3009297119684495, -2.3734287250097954, -1.6658710117955908, -1.927678192371116, -4.237216617940897, -2.677870720842224, -3.836497851796012, -2.551440295950006, -4.694923445156781, -2.0250371641273617, -2.8959482055189616, -3.502201040544151, -2.153903667396193, -2.0550840679911633, -3.87728957939748, -4.063862114727939, -0.09866733268848112, -1.0893761900700822, -0.4817709648476178, -4.870309518086869, -5.475243302544394], \"xaxis\": \"x\", \"y\": [-0.18821495354053042, 0.5728081923637676, 1.6629499037335216, -1.4134731178687872, 1.484220317719699, 0.09582960930617207, -1.2084332137359735, -1.2824955788480137, -1.688958595483681, -0.4982187142711655, 0.15272313589369516, -1.7876416503973458, 2.403792485172976, 2.757658129447316, 3.1386719224772612, 3.2679896798729633, 2.310648712256711, -0.6583094693682121, 9.202525683906696, -0.9378381207412804, 7.3878121769920435, -0.6973093684470583, 1.965604864452412, -0.25489983405061883, 1.715949113778318, 2.5145158502851865, 0.49687798504611136, 0.9277014811994839, 1.0155770703320448, -1.61965682870664, -2.8936475979495393, -0.9651569881538125, 0.2136339297484482, 1.1900666335878092, 0.3678839812038701, 3.528786017504705, -1.4246224556108396, 1.8493736052469416, 1.4200617399513118, 1.7976385173032765, -1.035749426893272, 0.6674106361855132, 2.5986862678594527, 2.2801435371409866, 3.926333154558858, 3.556225100365719, 3.251319503016277, 0.30488486676773396, 3.667095883845476, 0.3715064824792643, -0.06410922027283958, -0.7356052298781083, -1.8774090267659571, 1.3049294066932242, 1.423230644048765, -1.5682323233060724, -0.48233546733865174, -0.41832140555439906, 1.3293551732085678, 0.574699978729171, 0.898455292283857, -0.09102676534540723, -0.8935722659650883, 3.702182382384003, 1.0830680629197789, -0.3896313169015327, -2.237784522332945, 0.30587044931587803, 7.150359800144046, 12.573194225996561, 0.25050152674460097, 0.9449443021729041, 0.005552413067565274, -3.0706486577974363, -0.6746487418690477, -1.1038572474767392, 1.785650874792987, 1.4692940245192476, -2.7388610521701344, 0.006872281186412434, -1.8427794204362424, 0.11425229902737877, 1.619691982739065, -0.22291481477938396, 1.026757858244283, 7.014486578188407, -3.386204867631653, -1.2461661740841161, 0.5399358006537625, 0.8160717110511277, -0.3987296943258879, 0.15574119471587747, -1.1037324233554862, -0.5431655276597588, -0.4778475782453992, -0.9701105667950056, 0.11689025691634396, 0.6528492587578801, 1.3069387228776284, 2.07756072760595, -2.47278778771914, -0.3967780284237313, 2.2767978951093886, 1.0868346855371447, -0.7334025642168829, 0.43843818159948944, 1.8109737754302044, -1.4185764469208457, -1.2502474727480335, 0.5385707443487874, -0.6144154694923847, -0.20172675690868547, -1.3542473811564977, -1.29162906087814, 1.1625461079278856, -1.348979732043447, -1.1359911306507409, -1.214999686873248, -1.7411293627466735, 4.7894765840224265, -1.5841281499303606, 2.077685979799179, -1.172073478625222, 2.3612619447898577, 0.7292131137405939, 0.460596402748589, -0.6494687999858931, 1.6866318141926364, -1.1034865579731934, 0.009493639194357134, 3.152520604627237, -3.169272587970424, 0.4103017949245052, 1.5895870646800607, 0.8490529839968912, -0.32197805661665135, -2.634082400831095, -0.9020642093711944, -0.13802626368852514, 0.005805461640303467, -1.3765082404939766, 1.6950096248266768, -1.9784861330565933, 3.7234340051502937, 0.35416022751500975, 4.273459557744141, -0.8085765706266657, 1.3939781128452353, -0.26864450868804385, -0.8076006152555145, -1.442176229698547, -0.5429618600098444, -2.533034002623369, 0.7539639563904189, 0.5919428676196065, 0.8915829912676939, -0.17921338632415026, -0.3060584353939577, -1.5247264227581592, 0.5562555046552715, -3.0653874337211096, -2.542907043503997, -0.06856304785074584, -3.1387093940338566, -0.0043928484738448795, -0.24069805431201705, 4.3982004930352705, -2.339214787858859, -1.798401975621961, 6.509099306871459, -1.402206462017736, 3.470808639263885, 0.39620730220439215, -0.7425265418647605, -0.4647316248727181, -1.7712483965026122, -1.835618362081307, 1.2658716228430535, 1.1034431416260995, -0.7611037295282256, -0.9099185549066636, 0.9900307772327921, 1.1358375686377333, 0.22693503629527714, 2.54498811270107, 1.8065194886111373, 0.9589112591907252, 3.4472038674059386, -0.5629288977901415, -1.3170443383887314, 0.47517158140016047, 1.4614697977469089, -1.3569174567696087, 0.24375997570552985, 0.7972523940158399, 2.1278386319904454, -1.849152073326072, 1.6313922063757684, 0.5793394415517955, -2.761127097256131, -1.1889394043018648, -0.2507447903305451, -2.1243434274161723, -1.4880221619594771, -0.3571607109065944, -2.018535626591567, -1.102474459277814, -0.12984758300906568, 6.426819838888387, -2.1820957001528054, 0.2925962227094573, 2.302481430162494, 0.20131133685247798, 0.9798577293184177, 2.161212691784091, -0.9320775837933175, 0.32043514591135475, -2.4455184117993225, 3.702829438898086, 0.786859916318844, 2.605087217222924, 0.429689560707393, -1.7004724746800726, 0.10673146476167968, -0.651393879636909, -0.32614636748170533, -0.21966574152433488, -0.9926100343821298, -0.29332646309080335, -0.3350470267644749, -1.2413651253278766, 0.6827413169712568, -1.9621714941758468, 0.3695739019632006, -0.17584850798261611, -0.4948562290117298, 0.37733225690544864, 0.9598560892240189, -0.4380082279330928, 0.8924666904041314, 2.5021016183633917, -0.009212681102744662, -0.022224730871267005, 0.7784521315048106, 2.31604805456199, 0.8623188525856318, 0.11361265880765216, 2.541229649675388, -0.43230243091838527, 2.5509093104745455, 0.40203147755343793, -0.7822987567415909, -2.0300162870081255, 2.4790131285677726, -1.8053532378188542, -0.45458951163225114, -1.1947969116793726, -1.83206043256042, -2.235142703999283, 2.1849988339714392, -2.1364615483136986, 0.7307759712862513, 1.0676915146336767, -1.0379271066705376, -1.5888387893166223, 1.8036181633188544, 0.02989128790096123, -0.47483950548479914, -1.0181258063984728, -1.5713931195700488, 0.777095660477601, -1.6663016345706416, -2.0757336194166602, -0.4847100794985892, -2.4940454476639027, -0.0688471358690373, -1.793918767883774, 2.1100113495753017, 0.11651969716993608, 0.8991786485794901, 3.426011421359095, 1.4435555293154556, -0.9032559291395722, -1.7722262450939388, -1.2468541534726176, 1.899462550851309, -0.20637113658781103, -0.9733678104062955, -2.089052297686326, 1.286039318381962, -0.6733392442626658, -2.363958760532313, 0.5098338480958504, -1.2987044939851011, -0.2273833929127059, 4.389134335020491, -2.4668407564275054, 0.9981778352989071, -0.9779443193879113, -4.555664122384851, -0.5609542214479263, -1.0778881328041403, -1.5910942016299776, 1.5159034178299187, -0.7639004852162739, -0.8384546631865387, 1.5057705918143272, 7.729852800976856, 8.294775448883485, 1.5956838541701355, 4.1171866811335125, -1.6656937357640471, 1.672191738779315, -2.1610487948780275, -1.4110019654756771, 0.7901466071926332, 1.076360002922488, 1.0113701776862982, 4.9642247019181776, -0.786036036054196, 0.6363492701323243, 1.2859251613446152, 2.67330059765218, 0.0968485224345925, -0.8715426234564141, 1.5412252764332657, 0.6008479688168314, 0.4052177893970651, 0.804210012251766, -1.484708900735156, 1.5185806394638544, 3.534481052507258, 2.3673922825919638, 5.599458470420924, 2.3896181252989694, 1.0923896497281707, -1.821415301918134, -1.681576238447448, -0.21396274035371254, -1.1377399162751012, 0.18427249691123393, 2.3157928230896663, 0.4962499283192368, 0.2283299577108932, -0.7674779441723809, 1.2612418997882746, -1.4516357646770501, 1.8008324917224858, -0.8300688188291303, 1.6164592681453303, 1.0842547449500481, 0.12216843544011885, -0.21355983843867898, 1.2928478983530014, -0.17801969136464152, -2.1311061072588577, -0.6706367907482196], \"yaxis\": \"y\"}],\n",
              "                        {\"legend\": {\"tracegroupgap\": 0}, \"margin\": {\"t\": 60}, \"template\": {\"data\": {\"bar\": [{\"error_x\": {\"color\": \"#2a3f5f\"}, \"error_y\": {\"color\": \"#2a3f5f\"}, \"marker\": {\"line\": {\"color\": \"#E5ECF6\", \"width\": 0.5}}, \"type\": \"bar\"}], \"barpolar\": [{\"marker\": {\"line\": {\"color\": \"#E5ECF6\", \"width\": 0.5}}, \"type\": \"barpolar\"}], \"carpet\": [{\"aaxis\": {\"endlinecolor\": \"#2a3f5f\", \"gridcolor\": \"white\", \"linecolor\": \"white\", \"minorgridcolor\": \"white\", \"startlinecolor\": \"#2a3f5f\"}, \"baxis\": {\"endlinecolor\": \"#2a3f5f\", \"gridcolor\": \"white\", \"linecolor\": \"white\", \"minorgridcolor\": \"white\", \"startlinecolor\": \"#2a3f5f\"}, \"type\": \"carpet\"}], \"choropleth\": [{\"colorbar\": {\"outlinewidth\": 0, \"ticks\": \"\"}, \"type\": \"choropleth\"}], \"contour\": [{\"colorbar\": {\"outlinewidth\": 0, \"ticks\": \"\"}, \"colorscale\": [[0.0, \"#0d0887\"], [0.1111111111111111, \"#46039f\"], [0.2222222222222222, \"#7201a8\"], [0.3333333333333333, \"#9c179e\"], [0.4444444444444444, \"#bd3786\"], [0.5555555555555556, \"#d8576b\"], [0.6666666666666666, \"#ed7953\"], [0.7777777777777778, \"#fb9f3a\"], [0.8888888888888888, \"#fdca26\"], [1.0, \"#f0f921\"]], \"type\": \"contour\"}], \"contourcarpet\": [{\"colorbar\": {\"outlinewidth\": 0, \"ticks\": \"\"}, \"type\": \"contourcarpet\"}], \"heatmap\": [{\"colorbar\": {\"outlinewidth\": 0, \"ticks\": \"\"}, \"colorscale\": [[0.0, \"#0d0887\"], [0.1111111111111111, \"#46039f\"], [0.2222222222222222, \"#7201a8\"], [0.3333333333333333, \"#9c179e\"], [0.4444444444444444, \"#bd3786\"], [0.5555555555555556, \"#d8576b\"], [0.6666666666666666, \"#ed7953\"], [0.7777777777777778, \"#fb9f3a\"], [0.8888888888888888, \"#fdca26\"], [1.0, \"#f0f921\"]], \"type\": \"heatmap\"}], \"heatmapgl\": [{\"colorbar\": {\"outlinewidth\": 0, \"ticks\": \"\"}, \"colorscale\": [[0.0, \"#0d0887\"], [0.1111111111111111, \"#46039f\"], [0.2222222222222222, \"#7201a8\"], [0.3333333333333333, \"#9c179e\"], [0.4444444444444444, \"#bd3786\"], [0.5555555555555556, \"#d8576b\"], [0.6666666666666666, \"#ed7953\"], [0.7777777777777778, \"#fb9f3a\"], [0.8888888888888888, \"#fdca26\"], [1.0, \"#f0f921\"]], \"type\": \"heatmapgl\"}], \"histogram\": [{\"marker\": {\"colorbar\": {\"outlinewidth\": 0, \"ticks\": \"\"}}, \"type\": \"histogram\"}], \"histogram2d\": [{\"colorbar\": {\"outlinewidth\": 0, \"ticks\": \"\"}, \"colorscale\": [[0.0, \"#0d0887\"], [0.1111111111111111, \"#46039f\"], [0.2222222222222222, \"#7201a8\"], [0.3333333333333333, \"#9c179e\"], [0.4444444444444444, \"#bd3786\"], [0.5555555555555556, \"#d8576b\"], [0.6666666666666666, \"#ed7953\"], [0.7777777777777778, \"#fb9f3a\"], [0.8888888888888888, \"#fdca26\"], [1.0, \"#f0f921\"]], \"type\": \"histogram2d\"}], \"histogram2dcontour\": [{\"colorbar\": {\"outlinewidth\": 0, \"ticks\": \"\"}, \"colorscale\": [[0.0, \"#0d0887\"], [0.1111111111111111, \"#46039f\"], [0.2222222222222222, \"#7201a8\"], [0.3333333333333333, \"#9c179e\"], [0.4444444444444444, \"#bd3786\"], [0.5555555555555556, \"#d8576b\"], [0.6666666666666666, \"#ed7953\"], [0.7777777777777778, \"#fb9f3a\"], [0.8888888888888888, \"#fdca26\"], [1.0, \"#f0f921\"]], \"type\": \"histogram2dcontour\"}], \"mesh3d\": [{\"colorbar\": {\"outlinewidth\": 0, \"ticks\": \"\"}, \"type\": \"mesh3d\"}], \"parcoords\": [{\"line\": {\"colorbar\": {\"outlinewidth\": 0, \"ticks\": \"\"}}, \"type\": \"parcoords\"}], \"pie\": [{\"automargin\": true, \"type\": \"pie\"}], \"scatter\": [{\"marker\": {\"colorbar\": {\"outlinewidth\": 0, \"ticks\": \"\"}}, \"type\": \"scatter\"}], \"scatter3d\": [{\"line\": {\"colorbar\": {\"outlinewidth\": 0, \"ticks\": \"\"}}, \"marker\": {\"colorbar\": {\"outlinewidth\": 0, \"ticks\": \"\"}}, \"type\": \"scatter3d\"}], \"scattercarpet\": [{\"marker\": {\"colorbar\": {\"outlinewidth\": 0, \"ticks\": \"\"}}, \"type\": \"scattercarpet\"}], \"scattergeo\": [{\"marker\": {\"colorbar\": {\"outlinewidth\": 0, \"ticks\": \"\"}}, \"type\": \"scattergeo\"}], \"scattergl\": [{\"marker\": {\"colorbar\": {\"outlinewidth\": 0, \"ticks\": \"\"}}, \"type\": \"scattergl\"}], \"scattermapbox\": [{\"marker\": {\"colorbar\": {\"outlinewidth\": 0, \"ticks\": \"\"}}, \"type\": \"scattermapbox\"}], \"scatterpolar\": [{\"marker\": {\"colorbar\": {\"outlinewidth\": 0, \"ticks\": \"\"}}, \"type\": \"scatterpolar\"}], \"scatterpolargl\": [{\"marker\": {\"colorbar\": {\"outlinewidth\": 0, \"ticks\": \"\"}}, \"type\": \"scatterpolargl\"}], \"scatterternary\": [{\"marker\": {\"colorbar\": {\"outlinewidth\": 0, \"ticks\": \"\"}}, \"type\": \"scatterternary\"}], \"surface\": [{\"colorbar\": {\"outlinewidth\": 0, \"ticks\": \"\"}, \"colorscale\": [[0.0, \"#0d0887\"], [0.1111111111111111, \"#46039f\"], [0.2222222222222222, \"#7201a8\"], [0.3333333333333333, \"#9c179e\"], [0.4444444444444444, \"#bd3786\"], [0.5555555555555556, \"#d8576b\"], [0.6666666666666666, \"#ed7953\"], [0.7777777777777778, \"#fb9f3a\"], [0.8888888888888888, \"#fdca26\"], [1.0, \"#f0f921\"]], \"type\": \"surface\"}], \"table\": [{\"cells\": {\"fill\": {\"color\": \"#EBF0F8\"}, \"line\": {\"color\": \"white\"}}, \"header\": {\"fill\": {\"color\": \"#C8D4E3\"}, \"line\": {\"color\": \"white\"}}, \"type\": \"table\"}]}, \"layout\": {\"annotationdefaults\": {\"arrowcolor\": \"#2a3f5f\", \"arrowhead\": 0, \"arrowwidth\": 1}, \"coloraxis\": {\"colorbar\": {\"outlinewidth\": 0, \"ticks\": \"\"}}, \"colorscale\": {\"diverging\": [[0, \"#8e0152\"], [0.1, \"#c51b7d\"], [0.2, \"#de77ae\"], [0.3, \"#f1b6da\"], [0.4, \"#fde0ef\"], [0.5, \"#f7f7f7\"], [0.6, \"#e6f5d0\"], [0.7, \"#b8e186\"], [0.8, \"#7fbc41\"], [0.9, \"#4d9221\"], [1, \"#276419\"]], \"sequential\": [[0.0, \"#0d0887\"], [0.1111111111111111, \"#46039f\"], [0.2222222222222222, \"#7201a8\"], [0.3333333333333333, \"#9c179e\"], [0.4444444444444444, \"#bd3786\"], [0.5555555555555556, \"#d8576b\"], [0.6666666666666666, \"#ed7953\"], [0.7777777777777778, \"#fb9f3a\"], [0.8888888888888888, \"#fdca26\"], [1.0, \"#f0f921\"]], \"sequentialminus\": [[0.0, \"#0d0887\"], [0.1111111111111111, \"#46039f\"], [0.2222222222222222, \"#7201a8\"], [0.3333333333333333, \"#9c179e\"], [0.4444444444444444, \"#bd3786\"], [0.5555555555555556, \"#d8576b\"], [0.6666666666666666, \"#ed7953\"], [0.7777777777777778, \"#fb9f3a\"], [0.8888888888888888, \"#fdca26\"], [1.0, \"#f0f921\"]]}, \"colorway\": [\"#636efa\", \"#EF553B\", \"#00cc96\", \"#ab63fa\", \"#FFA15A\", \"#19d3f3\", \"#FF6692\", \"#B6E880\", \"#FF97FF\", \"#FECB52\"], \"font\": {\"color\": \"#2a3f5f\"}, \"geo\": {\"bgcolor\": \"white\", \"lakecolor\": \"white\", \"landcolor\": \"#E5ECF6\", \"showlakes\": true, \"showland\": true, \"subunitcolor\": \"white\"}, \"hoverlabel\": {\"align\": \"left\"}, \"hovermode\": \"closest\", \"mapbox\": {\"style\": \"light\"}, \"paper_bgcolor\": \"white\", \"plot_bgcolor\": \"#E5ECF6\", \"polar\": {\"angularaxis\": {\"gridcolor\": \"white\", \"linecolor\": \"white\", \"ticks\": \"\"}, \"bgcolor\": \"#E5ECF6\", \"radialaxis\": {\"gridcolor\": \"white\", \"linecolor\": \"white\", \"ticks\": \"\"}}, \"scene\": {\"xaxis\": {\"backgroundcolor\": \"#E5ECF6\", \"gridcolor\": \"white\", \"gridwidth\": 2, \"linecolor\": \"white\", \"showbackground\": true, \"ticks\": \"\", \"zerolinecolor\": \"white\"}, \"yaxis\": {\"backgroundcolor\": \"#E5ECF6\", \"gridcolor\": \"white\", \"gridwidth\": 2, \"linecolor\": \"white\", \"showbackground\": true, \"ticks\": \"\", \"zerolinecolor\": \"white\"}, \"zaxis\": {\"backgroundcolor\": \"#E5ECF6\", \"gridcolor\": \"white\", \"gridwidth\": 2, \"linecolor\": \"white\", \"showbackground\": true, \"ticks\": \"\", \"zerolinecolor\": \"white\"}}, \"shapedefaults\": {\"line\": {\"color\": \"#2a3f5f\"}}, \"ternary\": {\"aaxis\": {\"gridcolor\": \"white\", \"linecolor\": \"white\", \"ticks\": \"\"}, \"baxis\": {\"gridcolor\": \"white\", \"linecolor\": \"white\", \"ticks\": \"\"}, \"bgcolor\": \"#E5ECF6\", \"caxis\": {\"gridcolor\": \"white\", \"linecolor\": \"white\", \"ticks\": \"\"}}, \"title\": {\"x\": 0.05}, \"xaxis\": {\"automargin\": true, \"gridcolor\": \"white\", \"linecolor\": \"white\", \"ticks\": \"\", \"title\": {\"standoff\": 15}, \"zerolinecolor\": \"white\", \"zerolinewidth\": 2}, \"yaxis\": {\"automargin\": true, \"gridcolor\": \"white\", \"linecolor\": \"white\", \"ticks\": \"\", \"title\": {\"standoff\": 15}, \"zerolinecolor\": \"white\", \"zerolinewidth\": 2}}}, \"width\": 700, \"xaxis\": {\"anchor\": \"y\", \"domain\": [0.0, 1.0], \"title\": {\"text\": \"pca_1\"}}, \"yaxis\": {\"anchor\": \"x\", \"domain\": [0.0, 1.0], \"title\": {\"text\": \"pca_2\"}}},\n",
              "                        {\"responsive\": true}\n",
              "                    ).then(function(){\n",
              "                            \n",
              "var gd = document.getElementById('1d984ebf-754c-4e64-bb79-96f43bdf241a');\n",
              "var x = new MutationObserver(function (mutations, observer) {{\n",
              "        var display = window.getComputedStyle(gd).display;\n",
              "        if (!display || display === 'none') {{\n",
              "            console.log([gd, 'removed!']);\n",
              "            Plotly.purge(gd);\n",
              "            observer.disconnect();\n",
              "        }}\n",
              "}});\n",
              "\n",
              "// Listen for the removal of the full notebook cells\n",
              "var notebookContainer = gd.closest('#notebook-container');\n",
              "if (notebookContainer) {{\n",
              "    x.observe(notebookContainer, {childList: true});\n",
              "}}\n",
              "\n",
              "// Listen for the clearing of the current output cell\n",
              "var outputEl = gd.closest('.output');\n",
              "if (outputEl) {{\n",
              "    x.observe(outputEl, {childList: true});\n",
              "}}\n",
              "\n",
              "                        })\n",
              "                };\n",
              "                \n",
              "            </script>\n",
              "        </div>\n",
              "</body>\n",
              "</html>"
            ]
          },
          "metadata": {
            "tags": []
          }
        }
      ]
    },
    {
      "cell_type": "code",
      "metadata": {
        "id": "WqKcTFwopPNd",
        "colab_type": "code",
        "colab": {
          "base_uri": "https://localhost:8080/",
          "height": 199
        },
        "outputId": "ae9897df-fb76-4c2e-b5b5-2bf673c7ea29"
      },
      "source": [
        "pca = PCA(n_components=3)\n",
        "data_pca = pca.fit_transform(data_std)\n",
        "data_pca[:10]"
      ],
      "execution_count": 11,
      "outputs": [
        {
          "output_type": "execute_result",
          "data": {
            "text/plain": [
              "array([[ 9.1928,  1.9486, -1.1232],\n",
              "       [ 2.3878, -3.7682, -0.5293],\n",
              "       [ 5.7339, -1.0752, -0.5517],\n",
              "       [ 7.123 , 10.2756, -3.2328],\n",
              "       [ 3.9353, -1.9481,  1.3898],\n",
              "       [ 2.3802,  3.9499, -2.9349],\n",
              "       [ 2.2389, -2.69  , -1.6399],\n",
              "       [ 2.1433,  2.3402, -0.8719],\n",
              "       [ 3.1749,  3.3918, -3.12  ],\n",
              "       [ 6.3517,  7.7272, -4.3419]])"
            ]
          },
          "metadata": {
            "tags": []
          },
          "execution_count": 11
        }
      ]
    },
    {
      "cell_type": "code",
      "metadata": {
        "id": "djR8143Fpswa",
        "colab_type": "code",
        "colab": {
          "base_uri": "https://localhost:8080/",
          "height": 198
        },
        "outputId": "9302e8ba-d16e-4a43-aaa4-f3f3c3b64eaf"
      },
      "source": [
        "pca_3 = pd.DataFrame(data={'pca_1': data_pca[:, 0], 'pca_2': data_pca[:, 1], 'pca_3': data_pca[:, 2], 'class': target})\n",
        "\n",
        "pca_3.replace(0, 'Benign', inplace=True)\n",
        "pca_3.replace(1, 'Malignant', inplace=True)\n",
        "\n",
        "pca_3.head()"
      ],
      "execution_count": 12,
      "outputs": [
        {
          "output_type": "execute_result",
          "data": {
            "text/html": [
              "<div>\n",
              "<style scoped>\n",
              "    .dataframe tbody tr th:only-of-type {\n",
              "        vertical-align: middle;\n",
              "    }\n",
              "\n",
              "    .dataframe tbody tr th {\n",
              "        vertical-align: top;\n",
              "    }\n",
              "\n",
              "    .dataframe thead th {\n",
              "        text-align: right;\n",
              "    }\n",
              "</style>\n",
              "<table border=\"1\" class=\"dataframe\">\n",
              "  <thead>\n",
              "    <tr style=\"text-align: right;\">\n",
              "      <th></th>\n",
              "      <th>pca_1</th>\n",
              "      <th>pca_2</th>\n",
              "      <th>pca_3</th>\n",
              "      <th>class</th>\n",
              "    </tr>\n",
              "  </thead>\n",
              "  <tbody>\n",
              "    <tr>\n",
              "      <th>0</th>\n",
              "      <td>9.192837</td>\n",
              "      <td>1.948583</td>\n",
              "      <td>-1.123162</td>\n",
              "      <td>Benign</td>\n",
              "    </tr>\n",
              "    <tr>\n",
              "      <th>1</th>\n",
              "      <td>2.387802</td>\n",
              "      <td>-3.768172</td>\n",
              "      <td>-0.529281</td>\n",
              "      <td>Benign</td>\n",
              "    </tr>\n",
              "    <tr>\n",
              "      <th>2</th>\n",
              "      <td>5.733896</td>\n",
              "      <td>-1.075174</td>\n",
              "      <td>-0.551749</td>\n",
              "      <td>Benign</td>\n",
              "    </tr>\n",
              "    <tr>\n",
              "      <th>3</th>\n",
              "      <td>7.122953</td>\n",
              "      <td>10.275589</td>\n",
              "      <td>-3.232782</td>\n",
              "      <td>Benign</td>\n",
              "    </tr>\n",
              "    <tr>\n",
              "      <th>4</th>\n",
              "      <td>3.935302</td>\n",
              "      <td>-1.948072</td>\n",
              "      <td>1.389778</td>\n",
              "      <td>Benign</td>\n",
              "    </tr>\n",
              "  </tbody>\n",
              "</table>\n",
              "</div>"
            ],
            "text/plain": [
              "      pca_1      pca_2     pca_3   class\n",
              "0  9.192837   1.948583 -1.123162  Benign\n",
              "1  2.387802  -3.768172 -0.529281  Benign\n",
              "2  5.733896  -1.075174 -0.551749  Benign\n",
              "3  7.122953  10.275589 -3.232782  Benign\n",
              "4  3.935302  -1.948072  1.389778  Benign"
            ]
          },
          "metadata": {
            "tags": []
          },
          "execution_count": 12
        }
      ]
    },
    {
      "cell_type": "code",
      "metadata": {
        "id": "snMpoosIp80J",
        "colab_type": "code",
        "colab": {
          "base_uri": "https://localhost:8080/",
          "height": 138
        },
        "outputId": "984554c8-2eaf-46e5-f9e8-839a23698788"
      },
      "source": [
        "results = pd.DataFrame(data={'explained_variance_ratio': pca.explained_variance_ratio_})\n",
        "results['cumulative'] = results['explained_variance_ratio'].cumsum()\n",
        "results"
      ],
      "execution_count": 13,
      "outputs": [
        {
          "output_type": "execute_result",
          "data": {
            "text/html": [
              "<div>\n",
              "<style scoped>\n",
              "    .dataframe tbody tr th:only-of-type {\n",
              "        vertical-align: middle;\n",
              "    }\n",
              "\n",
              "    .dataframe tbody tr th {\n",
              "        vertical-align: top;\n",
              "    }\n",
              "\n",
              "    .dataframe thead th {\n",
              "        text-align: right;\n",
              "    }\n",
              "</style>\n",
              "<table border=\"1\" class=\"dataframe\">\n",
              "  <thead>\n",
              "    <tr style=\"text-align: right;\">\n",
              "      <th></th>\n",
              "      <th>explained_variance_ratio</th>\n",
              "      <th>cumulative</th>\n",
              "    </tr>\n",
              "  </thead>\n",
              "  <tbody>\n",
              "    <tr>\n",
              "      <th>0</th>\n",
              "      <td>0.442720</td>\n",
              "      <td>0.442720</td>\n",
              "    </tr>\n",
              "    <tr>\n",
              "      <th>1</th>\n",
              "      <td>0.189712</td>\n",
              "      <td>0.632432</td>\n",
              "    </tr>\n",
              "    <tr>\n",
              "      <th>2</th>\n",
              "      <td>0.093932</td>\n",
              "      <td>0.726364</td>\n",
              "    </tr>\n",
              "  </tbody>\n",
              "</table>\n",
              "</div>"
            ],
            "text/plain": [
              "   explained_variance_ratio  cumulative\n",
              "0                  0.442720    0.442720\n",
              "1                  0.189712    0.632432\n",
              "2                  0.093932    0.726364"
            ]
          },
          "metadata": {
            "tags": []
          },
          "execution_count": 13
        }
      ]
    },
    {
      "cell_type": "code",
      "metadata": {
        "id": "AXFYaXRup-_2",
        "colab_type": "code",
        "colab": {
          "base_uri": "https://localhost:8080/",
          "height": 542
        },
        "outputId": "c7ba4da3-36a1-4861-af96-cfd6eeef0847"
      },
      "source": [
        "fig = go.Figure(data=[go.Bar(x=results.index, y=results['explained_variance_ratio'], name='explained_variance_ratio'),\n",
        "                      go.Scatter(x=results.index, y=results['cumulative'], name='cumulative')],\n",
        "                layout=go.Layout(title='PCA - 3 components', width=700))\n",
        "fig.show()"
      ],
      "execution_count": 14,
      "outputs": [
        {
          "output_type": "display_data",
          "data": {
            "text/html": [
              "<html>\n",
              "<head><meta charset=\"utf-8\" /></head>\n",
              "<body>\n",
              "    <div>\n",
              "            <script src=\"https://cdnjs.cloudflare.com/ajax/libs/mathjax/2.7.5/MathJax.js?config=TeX-AMS-MML_SVG\"></script><script type=\"text/javascript\">if (window.MathJax) {MathJax.Hub.Config({SVG: {font: \"STIX-Web\"}});}</script>\n",
              "                <script type=\"text/javascript\">window.PlotlyConfig = {MathJaxConfig: 'local'};</script>\n",
              "        <script src=\"https://cdn.plot.ly/plotly-latest.min.js\"></script>    \n",
              "            <div id=\"6dc2137f-e228-405b-a41e-ff9db84fec54\" class=\"plotly-graph-div\" style=\"height:525px; width:700px;\"></div>\n",
              "            <script type=\"text/javascript\">\n",
              "                \n",
              "                    window.PLOTLYENV=window.PLOTLYENV || {};\n",
              "                    \n",
              "                if (document.getElementById(\"6dc2137f-e228-405b-a41e-ff9db84fec54\")) {\n",
              "                    Plotly.newPlot(\n",
              "                        '6dc2137f-e228-405b-a41e-ff9db84fec54',\n",
              "                        [{\"name\": \"explained_variance_ratio\", \"type\": \"bar\", \"x\": [0, 1, 2], \"y\": [0.44272025607526316, 0.1897118204403293, 0.0939316325729589]}, {\"name\": \"cumulative\", \"type\": \"scatter\", \"x\": [0, 1, 2], \"y\": [0.44272025607526316, 0.6324320765155924, 0.7263637090885513]}],\n",
              "                        {\"template\": {\"data\": {\"bar\": [{\"error_x\": {\"color\": \"#2a3f5f\"}, \"error_y\": {\"color\": \"#2a3f5f\"}, \"marker\": {\"line\": {\"color\": \"#E5ECF6\", \"width\": 0.5}}, \"type\": \"bar\"}], \"barpolar\": [{\"marker\": {\"line\": {\"color\": \"#E5ECF6\", \"width\": 0.5}}, \"type\": \"barpolar\"}], \"carpet\": [{\"aaxis\": {\"endlinecolor\": \"#2a3f5f\", \"gridcolor\": \"white\", \"linecolor\": \"white\", \"minorgridcolor\": \"white\", \"startlinecolor\": \"#2a3f5f\"}, \"baxis\": {\"endlinecolor\": \"#2a3f5f\", \"gridcolor\": \"white\", \"linecolor\": \"white\", \"minorgridcolor\": \"white\", \"startlinecolor\": \"#2a3f5f\"}, \"type\": \"carpet\"}], \"choropleth\": [{\"colorbar\": {\"outlinewidth\": 0, \"ticks\": \"\"}, \"type\": \"choropleth\"}], \"contour\": [{\"colorbar\": {\"outlinewidth\": 0, \"ticks\": \"\"}, \"colorscale\": [[0.0, \"#0d0887\"], [0.1111111111111111, \"#46039f\"], [0.2222222222222222, \"#7201a8\"], [0.3333333333333333, \"#9c179e\"], [0.4444444444444444, \"#bd3786\"], [0.5555555555555556, \"#d8576b\"], [0.6666666666666666, \"#ed7953\"], [0.7777777777777778, \"#fb9f3a\"], [0.8888888888888888, \"#fdca26\"], [1.0, \"#f0f921\"]], \"type\": \"contour\"}], \"contourcarpet\": [{\"colorbar\": {\"outlinewidth\": 0, \"ticks\": \"\"}, \"type\": \"contourcarpet\"}], \"heatmap\": [{\"colorbar\": {\"outlinewidth\": 0, \"ticks\": \"\"}, \"colorscale\": [[0.0, \"#0d0887\"], [0.1111111111111111, \"#46039f\"], [0.2222222222222222, \"#7201a8\"], [0.3333333333333333, \"#9c179e\"], [0.4444444444444444, \"#bd3786\"], [0.5555555555555556, \"#d8576b\"], [0.6666666666666666, \"#ed7953\"], [0.7777777777777778, \"#fb9f3a\"], [0.8888888888888888, \"#fdca26\"], [1.0, \"#f0f921\"]], \"type\": \"heatmap\"}], \"heatmapgl\": [{\"colorbar\": {\"outlinewidth\": 0, \"ticks\": \"\"}, \"colorscale\": [[0.0, \"#0d0887\"], [0.1111111111111111, \"#46039f\"], [0.2222222222222222, \"#7201a8\"], [0.3333333333333333, \"#9c179e\"], [0.4444444444444444, \"#bd3786\"], [0.5555555555555556, \"#d8576b\"], [0.6666666666666666, \"#ed7953\"], [0.7777777777777778, \"#fb9f3a\"], [0.8888888888888888, \"#fdca26\"], [1.0, \"#f0f921\"]], \"type\": \"heatmapgl\"}], \"histogram\": [{\"marker\": {\"colorbar\": {\"outlinewidth\": 0, \"ticks\": \"\"}}, \"type\": \"histogram\"}], \"histogram2d\": [{\"colorbar\": {\"outlinewidth\": 0, \"ticks\": \"\"}, \"colorscale\": [[0.0, \"#0d0887\"], [0.1111111111111111, \"#46039f\"], [0.2222222222222222, \"#7201a8\"], [0.3333333333333333, \"#9c179e\"], [0.4444444444444444, \"#bd3786\"], [0.5555555555555556, \"#d8576b\"], [0.6666666666666666, \"#ed7953\"], [0.7777777777777778, \"#fb9f3a\"], [0.8888888888888888, \"#fdca26\"], [1.0, \"#f0f921\"]], \"type\": \"histogram2d\"}], \"histogram2dcontour\": [{\"colorbar\": {\"outlinewidth\": 0, \"ticks\": \"\"}, \"colorscale\": [[0.0, \"#0d0887\"], [0.1111111111111111, \"#46039f\"], [0.2222222222222222, \"#7201a8\"], [0.3333333333333333, \"#9c179e\"], [0.4444444444444444, \"#bd3786\"], [0.5555555555555556, \"#d8576b\"], [0.6666666666666666, \"#ed7953\"], [0.7777777777777778, \"#fb9f3a\"], [0.8888888888888888, \"#fdca26\"], [1.0, \"#f0f921\"]], \"type\": \"histogram2dcontour\"}], \"mesh3d\": [{\"colorbar\": {\"outlinewidth\": 0, \"ticks\": \"\"}, \"type\": \"mesh3d\"}], \"parcoords\": [{\"line\": {\"colorbar\": {\"outlinewidth\": 0, \"ticks\": \"\"}}, \"type\": \"parcoords\"}], \"pie\": [{\"automargin\": true, \"type\": \"pie\"}], \"scatter\": [{\"marker\": {\"colorbar\": {\"outlinewidth\": 0, \"ticks\": \"\"}}, \"type\": \"scatter\"}], \"scatter3d\": [{\"line\": {\"colorbar\": {\"outlinewidth\": 0, \"ticks\": \"\"}}, \"marker\": {\"colorbar\": {\"outlinewidth\": 0, \"ticks\": \"\"}}, \"type\": \"scatter3d\"}], \"scattercarpet\": [{\"marker\": {\"colorbar\": {\"outlinewidth\": 0, \"ticks\": \"\"}}, \"type\": \"scattercarpet\"}], \"scattergeo\": [{\"marker\": {\"colorbar\": {\"outlinewidth\": 0, \"ticks\": \"\"}}, \"type\": \"scattergeo\"}], \"scattergl\": [{\"marker\": {\"colorbar\": {\"outlinewidth\": 0, \"ticks\": \"\"}}, \"type\": \"scattergl\"}], \"scattermapbox\": [{\"marker\": {\"colorbar\": {\"outlinewidth\": 0, \"ticks\": \"\"}}, \"type\": \"scattermapbox\"}], \"scatterpolar\": [{\"marker\": {\"colorbar\": {\"outlinewidth\": 0, \"ticks\": \"\"}}, \"type\": \"scatterpolar\"}], \"scatterpolargl\": [{\"marker\": {\"colorbar\": {\"outlinewidth\": 0, \"ticks\": \"\"}}, \"type\": \"scatterpolargl\"}], \"scatterternary\": [{\"marker\": {\"colorbar\": {\"outlinewidth\": 0, \"ticks\": \"\"}}, \"type\": \"scatterternary\"}], \"surface\": [{\"colorbar\": {\"outlinewidth\": 0, \"ticks\": \"\"}, \"colorscale\": [[0.0, \"#0d0887\"], [0.1111111111111111, \"#46039f\"], [0.2222222222222222, \"#7201a8\"], [0.3333333333333333, \"#9c179e\"], [0.4444444444444444, \"#bd3786\"], [0.5555555555555556, \"#d8576b\"], [0.6666666666666666, \"#ed7953\"], [0.7777777777777778, \"#fb9f3a\"], [0.8888888888888888, \"#fdca26\"], [1.0, \"#f0f921\"]], \"type\": \"surface\"}], \"table\": [{\"cells\": {\"fill\": {\"color\": \"#EBF0F8\"}, \"line\": {\"color\": \"white\"}}, \"header\": {\"fill\": {\"color\": \"#C8D4E3\"}, \"line\": {\"color\": \"white\"}}, \"type\": \"table\"}]}, \"layout\": {\"annotationdefaults\": {\"arrowcolor\": \"#2a3f5f\", \"arrowhead\": 0, \"arrowwidth\": 1}, \"coloraxis\": {\"colorbar\": {\"outlinewidth\": 0, \"ticks\": \"\"}}, \"colorscale\": {\"diverging\": [[0, \"#8e0152\"], [0.1, \"#c51b7d\"], [0.2, \"#de77ae\"], [0.3, \"#f1b6da\"], [0.4, \"#fde0ef\"], [0.5, \"#f7f7f7\"], [0.6, \"#e6f5d0\"], [0.7, \"#b8e186\"], [0.8, \"#7fbc41\"], [0.9, \"#4d9221\"], [1, \"#276419\"]], \"sequential\": [[0.0, \"#0d0887\"], [0.1111111111111111, \"#46039f\"], [0.2222222222222222, \"#7201a8\"], [0.3333333333333333, \"#9c179e\"], [0.4444444444444444, \"#bd3786\"], [0.5555555555555556, \"#d8576b\"], [0.6666666666666666, \"#ed7953\"], [0.7777777777777778, \"#fb9f3a\"], [0.8888888888888888, \"#fdca26\"], [1.0, \"#f0f921\"]], \"sequentialminus\": [[0.0, \"#0d0887\"], [0.1111111111111111, \"#46039f\"], [0.2222222222222222, \"#7201a8\"], [0.3333333333333333, \"#9c179e\"], [0.4444444444444444, \"#bd3786\"], [0.5555555555555556, \"#d8576b\"], [0.6666666666666666, \"#ed7953\"], [0.7777777777777778, \"#fb9f3a\"], [0.8888888888888888, \"#fdca26\"], [1.0, \"#f0f921\"]]}, \"colorway\": [\"#636efa\", \"#EF553B\", \"#00cc96\", \"#ab63fa\", \"#FFA15A\", \"#19d3f3\", \"#FF6692\", \"#B6E880\", \"#FF97FF\", \"#FECB52\"], \"font\": {\"color\": \"#2a3f5f\"}, \"geo\": {\"bgcolor\": \"white\", \"lakecolor\": \"white\", \"landcolor\": \"#E5ECF6\", \"showlakes\": true, \"showland\": true, \"subunitcolor\": \"white\"}, \"hoverlabel\": {\"align\": \"left\"}, \"hovermode\": \"closest\", \"mapbox\": {\"style\": \"light\"}, \"paper_bgcolor\": \"white\", \"plot_bgcolor\": \"#E5ECF6\", \"polar\": {\"angularaxis\": {\"gridcolor\": \"white\", \"linecolor\": \"white\", \"ticks\": \"\"}, \"bgcolor\": \"#E5ECF6\", \"radialaxis\": {\"gridcolor\": \"white\", \"linecolor\": \"white\", \"ticks\": \"\"}}, \"scene\": {\"xaxis\": {\"backgroundcolor\": \"#E5ECF6\", \"gridcolor\": \"white\", \"gridwidth\": 2, \"linecolor\": \"white\", \"showbackground\": true, \"ticks\": \"\", \"zerolinecolor\": \"white\"}, \"yaxis\": {\"backgroundcolor\": \"#E5ECF6\", \"gridcolor\": \"white\", \"gridwidth\": 2, \"linecolor\": \"white\", \"showbackground\": true, \"ticks\": \"\", \"zerolinecolor\": \"white\"}, \"zaxis\": {\"backgroundcolor\": \"#E5ECF6\", \"gridcolor\": \"white\", \"gridwidth\": 2, \"linecolor\": \"white\", \"showbackground\": true, \"ticks\": \"\", \"zerolinecolor\": \"white\"}}, \"shapedefaults\": {\"line\": {\"color\": \"#2a3f5f\"}}, \"ternary\": {\"aaxis\": {\"gridcolor\": \"white\", \"linecolor\": \"white\", \"ticks\": \"\"}, \"baxis\": {\"gridcolor\": \"white\", \"linecolor\": \"white\", \"ticks\": \"\"}, \"bgcolor\": \"#E5ECF6\", \"caxis\": {\"gridcolor\": \"white\", \"linecolor\": \"white\", \"ticks\": \"\"}}, \"title\": {\"x\": 0.05}, \"xaxis\": {\"automargin\": true, \"gridcolor\": \"white\", \"linecolor\": \"white\", \"ticks\": \"\", \"title\": {\"standoff\": 15}, \"zerolinecolor\": \"white\", \"zerolinewidth\": 2}, \"yaxis\": {\"automargin\": true, \"gridcolor\": \"white\", \"linecolor\": \"white\", \"ticks\": \"\", \"title\": {\"standoff\": 15}, \"zerolinecolor\": \"white\", \"zerolinewidth\": 2}}}, \"title\": {\"text\": \"PCA - 3 components\"}, \"width\": 700},\n",
              "                        {\"responsive\": true}\n",
              "                    ).then(function(){\n",
              "                            \n",
              "var gd = document.getElementById('6dc2137f-e228-405b-a41e-ff9db84fec54');\n",
              "var x = new MutationObserver(function (mutations, observer) {{\n",
              "        var display = window.getComputedStyle(gd).display;\n",
              "        if (!display || display === 'none') {{\n",
              "            console.log([gd, 'removed!']);\n",
              "            Plotly.purge(gd);\n",
              "            observer.disconnect();\n",
              "        }}\n",
              "}});\n",
              "\n",
              "// Listen for the removal of the full notebook cells\n",
              "var notebookContainer = gd.closest('#notebook-container');\n",
              "if (notebookContainer) {{\n",
              "    x.observe(notebookContainer, {childList: true});\n",
              "}}\n",
              "\n",
              "// Listen for the clearing of the current output cell\n",
              "var outputEl = gd.closest('.output');\n",
              "if (outputEl) {{\n",
              "    x.observe(outputEl, {childList: true});\n",
              "}}\n",
              "\n",
              "                        })\n",
              "                };\n",
              "                \n",
              "            </script>\n",
              "        </div>\n",
              "</body>\n",
              "</html>"
            ]
          },
          "metadata": {
            "tags": []
          }
        }
      ]
    },
    {
      "cell_type": "code",
      "metadata": {
        "id": "sCeGG2tLqA3i",
        "colab_type": "code",
        "colab": {
          "base_uri": "https://localhost:8080/",
          "height": 542
        },
        "outputId": "66fc389d-b334-41c5-f046-51af5b260a37"
      },
      "source": [
        "px.scatter_3d(pca_3, x='pca_1', y='pca_2', z='pca_3', color='class', symbol='class', opacity=0.7, size_max=10, width=800)"
      ],
      "execution_count": 16,
      "outputs": [
        {
          "output_type": "display_data",
          "data": {
            "text/html": [
              "<html>\n",
              "<head><meta charset=\"utf-8\" /></head>\n",
              "<body>\n",
              "    <div>\n",
              "            <script src=\"https://cdnjs.cloudflare.com/ajax/libs/mathjax/2.7.5/MathJax.js?config=TeX-AMS-MML_SVG\"></script><script type=\"text/javascript\">if (window.MathJax) {MathJax.Hub.Config({SVG: {font: \"STIX-Web\"}});}</script>\n",
              "                <script type=\"text/javascript\">window.PlotlyConfig = {MathJaxConfig: 'local'};</script>\n",
              "        <script src=\"https://cdn.plot.ly/plotly-latest.min.js\"></script>    \n",
              "            <div id=\"d7c01914-031d-49e1-858b-6174721b607e\" class=\"plotly-graph-div\" style=\"height:525px; width:800px;\"></div>\n",
              "            <script type=\"text/javascript\">\n",
              "                \n",
              "                    window.PLOTLYENV=window.PLOTLYENV || {};\n",
              "                    \n",
              "                if (document.getElementById(\"d7c01914-031d-49e1-858b-6174721b607e\")) {\n",
              "                    Plotly.newPlot(\n",
              "                        'd7c01914-031d-49e1-858b-6174721b607e',\n",
              "                        [{\"hoverlabel\": {\"namelength\": 0}, \"hovertemplate\": \"class=Benign<br>pca_1=%{x}<br>pca_2=%{y}<br>pca_3=%{z}\", \"legendgroup\": \"class=Benign\", \"marker\": {\"color\": \"#636efa\", \"opacity\": 0.7, \"symbol\": \"circle\"}, \"mode\": \"markers\", \"name\": \"class=Benign\", \"scene\": \"scene\", \"showlegend\": true, \"type\": \"scatter3d\", \"x\": [9.192836820681418, 2.3878017906191302, 5.733896280712014, 7.122953193328418, 3.9353020680627377, 2.3802471501653675, 2.2388833060713673, 2.1432985007591796, 3.1749242937894118, 6.351746790551216, -0.810413771800877, 2.651100483406138, 8.185034458981908, 0.34212591276948057, 4.34237919536797, 4.07565617884229, 0.2300550145677872, 4.418010910921251, 4.948703549505872, 4.7332107857140215, 4.208524210963843, 4.949632075056067, 7.098562848753735, 3.5102625996586787, 3.0640538838121456, 4.0072641455038625, 1.7153097281173548, 6.059445512985052, 2.902236102864929, 4.5547826889530905, 4.99060272389681, 2.9853407892189097, 2.766369160225611, 1.2961987663900563, -0.9980688980238693, 0.765264111474282, -2.15095347044574, -0.09333138474349242, 9.087999688672811, 0.9904537640688033, -0.29354655146464526, 5.380940409856024, 1.7000068852435917, 3.3025509554304437, -0.6746192856925142, 4.648738875059342, 2.176862882473907, 4.759112157413344, 1.691607925272454, 1.8123054059905799, 2.7045961713882174, 5.503705324653265, -0.36170919393561163, 1.428167593084388, 6.230896517185398, 11.668714639773363, 10.769242813988154, 5.034811087638094, 3.2882353816360865, 0.6076079471446233, 3.5835636215290445, 0.25249755936059715, 2.7758655675728856, 4.3962279575594065, 0.6162808693383798, -0.4328602216462675, 3.2139167616348967, 13.056121866686215, 3.1105276937536055, 4.956725566745562, 0.8510142612480234, 3.3341331965742187, 12.894612144401401, -0.6388804990918191, 1.919133427721711, 4.643691314198878, 1.432069427476638, 1.3526270307068455, 2.171416018553612, -1.976840357016418, 3.782026453369174, 1.3450204368830878, 2.3999978364145673, 4.100787733296472, 3.387330760650869, 6.14988618655741, 5.4941527938314785, 1.2136346129307058, 5.069661080849499, -0.9474878914363168, 2.8193683389455164, 2.956301865595534, 9.5126698399584, 9.007165521554004, 0.7588784912710697, -0.39001898268580276, 0.36487615118741545, 6.523116645538512, 1.779661491467547, 2.611484892508553, 2.4984388764971572, 1.2770271820510934, 3.4731973491994244, 1.2566751091774089, 1.6494606962270055, 9.036589475152738, 4.5545900712365235, -0.2230926068713352, 0.44654439852914957, 4.808969244969513, 12.285019757950653, 3.3721965943689787, 2.5087663082619094, 1.3180684768572448, 4.943581017952212, 4.29807733481437, 1.8032470230401552, 2.7555679987422863, 3.257254669736467, 3.3163241110847044, 8.403847107299683, 2.647568636719902, 3.3502957889810285, 3.795565641281881, 7.143842036055256, 7.085010647018607, 1.314099002615215, 3.7116495157142237, 0.46047909628847544, 6.39264992080766, 5.25554494816703, 8.733861491192716, 3.691317879310216, 3.378250873891943, -0.8402096493341438, 3.284372630906406, -1.9087689269771824, 1.6147819265270635, 6.619726349074001, 7.676149474473296, 0.3373454938627907, 0.017430790644509045, 4.960268115659048, 3.785060102884751, 2.6372557750754684, -2.3858827596526457, 6.590235942894708, 7.1829330958897835, 1.8953162759787188, 1.8348404639525153, 7.236485307588529, 2.2505103763375014, 2.107801229096544, 1.7859499811877972, 3.3196739704633433, 4.680166266236818, 7.353218573678103, 4.975162356551883, 6.182283737998017, 10.934298156730895, 2.118496927566221, 2.7350117710626742, 6.22702598664227, 5.307140026000177, 7.2480010560111925, 4.207220616560429, 3.635014941080852, 3.519248274654237, 3.765932157044767, -0.5429013664870604, 4.703500728467795, 4.149097340326358, 7.6721415495448255, 6.289673466375753, 2.7633707872538023, -0.9340908094650545, 6.003616591904042, 4.949858457126938, 4.549111142427168, 4.442342821630145, 0.664440912005828, 2.4723569218123673, 0.9817275392236398, 3.2454136455435423, 4.331653341502234, 2.511753100862365, 3.475493747413202, 16.31923323811005, 5.93096485735994, 3.8244330421075836, 4.754614869382665, -0.7417817638457189, 3.103519703764705, 3.7157051004604345, 5.094841841053415, 2.790399830950344, 7.25917884151898, 4.0941425582646165, 2.226994481467024, -0.7337724515300154, 2.6972237547270796, 3.3790146672319605, 8.630755851776883, 4.028435262610696, 5.165410942985906, 0.535931951526989, 5.917612582322143, 8.741338067736752, 6.439315480398302, 3.7933823701227674, 1.256179278748807, 10.374794060814931], \"y\": [1.9485826820565262, -3.7681720216994217, -1.075173728213808, 10.275588844606345, -1.9480718832588209, 3.9499288904455727, -2.690031391391608, 2.340244032359002, 3.391812969409337, 7.72717422353093, -2.659275560924682, 0.06656829733964752, 2.700976537777177, -0.9682793180394801, 4.861083385638533, 2.9770614377563693, -1.5647578017871269, 1.4186700063201263, -4.114333581545629, 3.3049635657054943, -5.1283664140195455, -1.5437522515271376, 2.0186099685439007, 2.171624871561057, -1.8765524577332597, 0.5372422489547655, -1.523704935992427, -0.7571774746604855, 4.00529540322609, 0.33753616016439847, -1.1325887990118433, 0.7584232706433939, -0.3543558127689759, 0.91319638594025, -3.3512927194326574, 0.8862437708568209, -1.923991602857134, 2.2607521096574272, 2.018673784060456, 0.9849299175721482, -0.13709913148992903, -0.13487678295271596, 2.352271733438067, -1.130937557313123, -2.116409716255922, -2.310332438227892, 0.9721160700722411, 3.0116807103829517, 1.5406766879169937, 0.7227402302434649, -4.437141856740669, 0.938326023341882, 0.11973902631540954, -1.9671013989097814, 0.9200698522726819, 4.74861665510899, -2.2579832470405834, 0.7744092799772352, -1.6682372439449762, 0.16221464919042122, -2.2066620819692453, -0.5313520349681883, 0.5580004374896905, -2.123507535352686, 0.6389116438734155, -1.3920443536095197, 4.046756067995657, 0.9815136607718488, 1.5693895782911893, 2.384846054559797, -2.306735436299694, -1.3255574252058737, 2.316623041723872, -0.9113659979496159, -3.538082044579158, -1.4820173201218827, -1.0496038929738019, -1.1541411760697495, -2.8262607248075904, -0.4193875562174515, 0.8603815040838894, -1.274771010172504, 4.837988402863943, -0.3788034283883251, -2.911037309491674, -2.017652961063523, -4.165829522195368, -2.039038897567328, -1.78515237097299, -1.6847535387626236, 1.2651028750610827, 0.7064217662994099, -5.6034844729450475, 0.5810307835717494, -1.6085321996471669, -0.9892424383361992, -3.5744612837967478, 8.011171104008367, 2.7765873269266477, 1.56142164340078, 2.2784827810146915, -2.443258563614545, -2.2778485333969782, 0.3823930579197468, -2.102291056857392, -0.6551731255847469, 3.086639486652798, -0.701821488935549, -2.78770759671834, -3.029102938295502, -7.543410198110076, 2.5878256263265462, 2.6146482908143445, 2.154479517246829, -2.848324236802166, -4.666274910700826, 0.16646111141379394, 3.465773490615593, -0.1252006989268559, -3.9391523920780025, -4.153905169207783, -3.951172718637649, -2.154570117568311, -1.0262326859382167, -2.0748423910943314, 0.5282231331332424, -1.7754258829254148, -2.807477044608423, 0.3941666184832994, -1.8230941516403192, 3.8945309090845757, 3.279876595693476, 1.065646030636667, -3.371227830621466, -3.500084765717885, -0.990672540527549, -3.121945757142991, -2.474573272338244, -6.003276328142466, -3.0753061701263014, -3.1443733698593492, -3.459343320149536, -1.3411231704760096, -1.9019074500694684, 0.5771548774142664, -0.8241156329831065, -1.4848624628645009, 0.055145660589604684, -2.392238004591429, -4.321523147291103, -0.03570224864724167, -0.3485358179051004, 1.1219740488785443, -0.2692215705390757, -1.5770529007000316, -0.968592732138392, -5.2426232141180975, -1.332572285415833, 5.108005237786753, -3.7032542292563524, 0.2966288387552513, -3.9451682787474036, -1.3901098189100891, -6.7234147632064465, -3.6554694517752644, 1.1762427430422493, -1.95644123655135, -3.8586071479963584, 5.985295541352888, -1.3170680292174126, -0.195955913510726, 0.7674887233718924, -0.860484339279213, 2.0365472313347794, -1.0786334436451344, -2.105945519610795, -0.09102917369802746, 3.006063901639417, -0.8160007430755851, -0.992438694568215, 0.43686069820529216, -1.4998244410686632, -2.2104300981360914, -1.7783588103738464, -4.0493326059440635, -2.528807656926031, -1.6728844308242028, -7.775852413924806, 1.2282965596834106, 2.3052362710410974, -1.489423646363928, -2.452034810612821, -1.2361532167871294, -1.058686396252266, -2.0192079915398695, 3.385560881467516, -5.495735688443741, 2.802927308571072, 1.941634301071467, -1.9436971563860161, -1.9437099325037581, -2.333428955989031, -3.459452376451776, -2.941430004820092, -2.38220356565734, 0.38071528366747387, 3.482636328967407, -0.5738552315143745, -3.5768176335168964, -3.5840478611883837, -1.9022965432883068, 1.6720101799569345], \"z\": [-1.1231623961264259, -0.5292812925620182, -0.5517488658568588, -3.232782183797377, 1.3897780231271966, -2.9348760650809234, -1.6399098071776237, -0.8719471777670812, -3.1199889561939695, -4.34190927498164, -0.48882795893241576, -1.5264657847209846, 5.730230632657544, 1.7171749873401736, -2.816114166256476, -3.1252761533068774, -0.8025183928773786, -2.270312291097696, -0.31474862394795605, -1.4665336645495572, -0.7524074745920106, -1.7132000848516187, -0.02900069171039177, -3.8945378744449726, 2.5817534008468455, -2.7616313532865795, 0.14618403693775045, -0.3492388252680155, -3.0014575120629687, -0.7543023480932273, -2.577384530573698, -3.4937606023072854, -1.8969678511784047, -1.575768870580788, 4.305572500137989, -2.704908624535936, -1.1804851927530786, -1.9047302852765438, 2.141206279253685, -2.310732683088119, -3.3019316091915627, -1.6788466985104, -3.0780839058911478, 0.82638577553623, -1.3962192063373067, -0.7288155006346725, -1.9438878949127203, -0.16624812944426542, -1.7998492742974865, -1.4662526371121885, 0.30734548884608265, -2.210144646469793, -2.040952759283721, 1.111937877785609, 0.08981821069543415, 2.0058916526128963, 0.03884264301829743, 2.682333604970076, 0.146937266299524, 1.6373719308659493, -1.7045264673869431, 0.5893417075937152, -0.6057703049650466, 0.5795059777663619, -0.19991760671417402, -0.08271926693861896, -2.715374783966869, 0.598795136243479, -2.6139376495149866, -1.9350998859749071, 0.5674656068540029, 0.7280173247220414, 6.328677261920467, -2.1427272646694093, 1.2549174310518774, -1.1706770649422225, -1.2620126302535526, -1.2098037709800638, -0.5621086985968041, -0.3805724398223069, 3.6710057445563127, 0.5558445519429767, -1.0281464888418097, 1.446305240178977, 3.0072467271410988, -1.5661398585092692, -0.6012520677919573, 0.9806952740737631, 1.173646669114774, -0.3511887275794149, -2.15313652969587, -1.0423321785596622, -0.6372340413400406, -3.1347076814010952, -1.515107735158656, -2.5851648385362505, -2.2239785965049093, -0.3264665243632313, -0.9427648809241652, -0.21818784276225697, 1.3194809500227331, 2.466305593684528, -1.2386946939907, -3.838317868968534, -0.9752726318626337, 0.22129032651762665, -2.2704193075101196, -2.270760880228979, 0.44437976214356234, 2.7440198318845685, 10.112436279892298, 7.092068497674705, 0.20638706186262187, -1.7866326414013847, 0.9138734835945698, -0.006852602214408106, -2.6286032510912776, -2.4740448919072064, -2.896090724374352, -0.2054486573536874, 0.046977422885979864, 1.3718767500447866, -1.1089412393019507, 0.8986363624418421, 1.0883931726606981, -1.2799797963117594, -1.672629699948233, -1.7561949710714575, -1.0047078431483527, 0.47984820664212957, -0.8338502607402043, 2.9037135354787766, -3.515585792128431, -1.7667802074784282, 0.1824766598689131, 2.554367888276175, -1.0630592845430862, -1.9911371707335745, 0.989369325826554, 1.4819522048056217, -0.11572187872955929, 0.30692450411345823, -1.457049385527173, -1.7442439065936821, -1.9946953051464265, 1.9839659757466892, 0.3613410227154652, 2.012927291259616, -1.6764898076475616, 0.3166914776690177, -2.84105791409069, -1.0647554363363207, 1.7751579610815698, -1.7225162572146, 1.3607298178373568, -0.2912787590125515, 0.31695796463896386, 0.8709810161417, 0.5211470454262344, -0.8916952131211828, 0.8674946015138193, -0.01716880365622074, 2.7342402497701777, 1.4856560959603906, -0.15569483244566423, -1.590013862205493, -0.8287643919488678, -1.022529452583415, -4.88036469951091, 0.9957594892887867, 3.757042197096874, -0.8879720308610116, -2.153645496401506, -3.1820757761769376, -1.1796250239845767, 1.4329168974522226, 1.711200444064272, -1.7540625769735971, -0.5187466225092178, 1.4423132914659855, -2.680777195227859, 0.5914451751858272, -1.699913792340239, -1.7931469596446614, -0.19250139065053534, 0.7982059234320001, 0.8568278986522924, 6.235404588969761, 1.7215917253295603, 0.02754796464314988, -1.2537501258634132, -1.9977163343261632, 1.2873557650253638, 0.5219588832776076, -0.7093644267064013, -0.7530769707502829, 1.910923586855649, -0.5074348392056433, -2.2855905063057667, -0.27523864031166295, -0.9605655040219535, -1.2019298034816686, -0.17904523142160594, 1.659483270520644, -0.4222697399653428, -0.44313750128073637, -3.262774884478162, 0.8971068466088933, 2.459494146893553, 2.0884766141745246, 0.562727147421769, -1.8770307769397498]}, {\"hoverlabel\": {\"namelength\": 0}, \"hovertemplate\": \"class=Malignant<br>pca_1=%{x}<br>pca_2=%{y}<br>pca_3=%{z}\", \"legendgroup\": \"class=Malignant\", \"marker\": {\"color\": \"#EF553B\", \"opacity\": 0.7, \"symbol\": \"diamond\"}, \"mode\": \"markers\", \"name\": \"class=Malignant\", \"scene\": \"scene\", \"showlegend\": true, \"type\": \"scatter3d\", \"x\": [-1.2370633576000345, -1.578161230641883, -3.5573363782406338, -3.7493133998642603, -4.581936674763131, -2.1364452726166623, -1.5674789980170252, -3.5429055588449083, -3.157814053804203, -3.4504885486141257, -2.8581584420601396, -3.7214589912400733, -4.13596294825438, -2.3858356607479516, -2.5788832418518104, -2.3141322553564985, -2.78592475712654, -3.518648344390689, 4.330002646137923, -3.261279472892425, -0.3078557653846068, -2.629976635799039, -0.8345178742809773, -2.0215776538297825, -1.6383849359803089, 1.1674616115961813, -2.174464303879884, -0.9341581073413401, 1.2596046553841846, -1.5882639698698142, -2.847431588934855, -1.964950106392365, -2.5920828295394447, -3.904338151642368, -2.818231217485747, -4.555028840754186, -3.448183543126834, -2.1159602626710807, -2.691352201419553, -0.7492713515386731, -3.159006037808366, -2.228679816675446, -2.4928310379503715, -0.10335043264567476, 3.5912941095073836, -1.3489486844183267, -2.5101176773298133, -2.046029566446641, -2.0970691706293447, -2.9659992041494663, -0.7707436779587883, -2.2025155246863886, -3.1434122435147094, 1.40886836714131, -1.8774673581930448, -0.7091148320199708, -2.6007894995488314, -3.2580073566935335, -1.9920347141797246, -5.015008689921387, -2.455968805642462, -1.837281671411971, -4.346489711245681, -0.7328129111340342, 0.3930986663434737, -0.4123278129809699, -3.0499249381779587, -1.442563726321093, 0.08318609828493681, 7.0933067116413575, -3.7434045437813026, -0.9691728159934173, -2.418719909800101, -0.75160300054237, -3.654646527022447, -4.6802115784562615, -0.5977817641945357, -1.3250313459169145, -2.9974032042903103, -4.386732722184751, -1.9777014338637395, -2.5148764177782055, -3.483986303890494, -4.658729577460956, -5.351618119595781, 1.1708977833157816, -4.975702065398988, -4.064025661899463, -2.6593596134799222, -3.8890655256405715, -2.835890921952133, -3.310283616603815, -3.357304399084646, -1.7177351790166073, -5.565735906371493, -2.8190385103274487, -1.4734313673929913, -0.7811899667718734, -3.4548953831751756, 0.314438223519554, -2.0591919432311587, -2.9987105264096616, -0.38875629390356536, -2.756932990156396, -2.3735018002076083, -0.9671903075746993, -2.9757987887346875, -2.478359513595901, -0.8260392887852882, -3.8946973261044717, -0.389578087495237, -1.4573213587468175, -4.01914024027079, -3.676413295230796, -4.03660736951517, -2.3342333480225017, -0.681768867859953, -2.2277205181900843, -4.477584657182848, 1.3226214192803627, -1.8500898564976944, -2.281318103482993, -3.2287701194241794, 1.025900791290555, -2.5825558362784182, -2.485883224641779, -3.032481141168648, -1.4646759317909637, -2.0121524272995917, -2.284340244835145, -0.739743079254651, -4.50656251454809, -3.15875430236935, -3.6391359707516466, -1.2765833787090128, -4.346014050159484, -3.492426037033831, -1.866548850796909, -2.4707226932369166, -1.3726850249973366, -4.138882573031039, -0.6869402903614739, -4.3121295860618885, 0.4033094245254338, -3.0036057969196412, 3.1340082220471426, -0.4178368659130554, -1.4202231370828524, -2.87058834671504, -3.3658457016120154, -3.3150001534821363, -4.769710161870192, -2.7870960113841443, -3.3938417768704054, -1.455330518587771, -3.578835404557306, -3.0570326403962045, -3.074435832617693, -3.8535397307801333, -5.390256406752447, -4.657682334340524, -4.027542386642788, -3.347821942403981, -3.299842011296811, -2.1364041404126763, -4.038017140778465, -3.765414561314593, -4.871239383698528, -4.747248518492795, 1.57293113099145, -4.026620257802981, -1.2948661698554507, -1.8103805529079697, -3.145650187320477, -2.8872680548742653, -3.1496539806611987, -4.6283794868576, -0.5276966154868019, -3.2135009776900127, -4.386422966248631, -3.8100178713689443, -2.393275967376427, -3.0676951380312873, 0.29531318540119644, -1.9389695005452667, -2.077178925084027, -2.176916878893776, -2.4315514547063293, -3.367965779534312, -1.2065977926779647, -3.3260792528068692, -1.9287953926153916, -4.041835094445605, -3.0121949717152203, -0.9826485833969071, 0.3578938664884684, -3.193917865438288, -2.993233308339821, -3.1939141540162796, -4.591961853897749, -2.4859161501668647, -2.3986653433244367, -0.7796151954825438, -3.139988424727888, -2.2237757436421512, -2.49963637387262, -2.614948305059876, -0.09610811924981454, 2.0448569259893516, -3.0667495287638236, -1.6035864397495665, -0.9255666012581883, -3.288349595921627, -1.5548521559019124, -0.3987799109576058, -2.300567818376567, -2.0588194568209155, -3.4245180559501223, -0.47240654915306074, -3.643380237881578, -3.5946893413491487, -2.0103794096926233, -2.920833496886241, -0.5007377979752395, -1.9114985739821881, -3.7850992304893314, -2.7083939635602388, -3.4307706864228913, -2.001388462504348, -2.4732930919613128, -3.6472577501209855, -2.3461868528444643, -1.142996926002223, -1.3508572995763461, -1.9693236001750773, -2.9311870531753814, -2.9263743830816917, -3.996188280575326, 0.15513806047856485, -1.9296217252711465, -2.6223386014526078, -2.92187780722335, -3.341944801320997, -2.014915033842434, 1.9884621055763076, -1.6696039286159132, -0.371178114604733, -1.8489599304725055, -4.703042207268875, -1.2831871482582446, -2.3142468164118104, -4.659085182339506, -3.943473382870975, -0.9158035178800591, -2.1949842983109886, -2.240876054010937, -2.1251804391701503, -2.6153174096844842, -3.2109679781419698, -0.30675039868191606, -3.454718370466554, -3.9005268490057925, -1.2572515764743193, -1.5572194107812345, -1.249258096256898, -1.0774513305381863, -2.2170923048492264, -1.1738306469592195, -2.836301445251274, -1.857085899512923, -1.3286143717084695, -2.8027713548433435, -3.174568794385525, -4.087077363492262, -2.5601150186598534, -2.968888795848577, -2.7574304530731495, 1.3703398829579843, -0.4176644922741574, -3.838398626804192, 0.6454786459696754, -2.6838464014213965, -2.0416640509902937, -1.3992963505848977, -3.5364152972942473, -1.9905294422051727, -1.9981853657739446, -0.5206581081342828, -3.172370489457232, -2.2027101855605653, -2.98548468836299, -2.481055107512144, -1.2721114626845331, -2.23515688732093, -0.05618310472949424, 2.3173906094816354, -2.2843312566240153, -1.726310916096464, -2.8943106607874283, -1.6545218467964649, -4.064270605008654, -2.7933306577960386, -1.4749199378583302, -0.2293946374954718, -2.553258406992446, -0.6006161179492484, -1.4087712126203593, 1.298866554423253, 1.0766932643411427, -1.249760522797057, -1.256928410950628, -1.166535216114416, -1.8876392462254765, -2.767435702272528, -1.1315768864725833, -2.333670734902255, -0.19987057678428174, -1.176025909017012, -1.292636537037693, -4.429456373492305, -0.6198387424182725, -3.252315771023138, -3.3529270551042165, -0.8598029810245169, -3.1566219671484164, 0.3465281189603016, -2.461406650034716, -1.530100721786761, -1.7735850611631352, -2.6804416235065394, -2.1363512252642356, 0.34312338731032194, -4.197079997549099, -1.1428318647808824, -1.6654751497731615, 1.0117124997671243, -1.3009297145851837, -2.3734287256461535, -1.665871011482086, -1.9276781879090528, -4.237216616635544, -2.6778707230849452, -3.836497855492519, -2.551440296291743, -4.694923449692954, -2.0250371608160225, -2.8959482072006617, -3.50220104685985, -2.153903668115189, -2.055084070346151, -3.877289577530438, -4.063862117695506, -0.09866732962410457, -1.0893761922387484, -0.4817709631961691, -4.870309518459392, -5.475243313819504], \"y\": [-0.18821497968055131, 0.5728084090816288, 1.6629496210698405, -1.413473324532404, 1.4842201314643562, 0.0958298957951826, -1.208433265625762, -1.2824956561284768, -1.6889588198528769, -0.49821900798000346, 0.15272303666105647, -1.7876415282852456, 2.403792184517, 2.7576583324158657, 3.138672515978934, 3.2679893242767215, 2.3106486732494127, -0.6583097421942178, 9.202525489426934, -0.937838103742374, 7.387812441074487, -0.6973092053374988, 1.9656053219534402, -0.2548995575268642, 1.7159491751303515, 2.514515882508477, 0.49687832385344377, 0.9277013159463163, 1.0155775601238866, -1.6196566815470361, -2.8936477421443723, -0.9651566057618598, 0.21363385521235295, 1.1900665547357971, 0.3678837104966879, 3.5287859776164616, -1.4246225825894863, 1.8493736978922046, 1.4200619624347528, 1.7976388106629537, -1.03574948608611, 0.6674104282979171, 2.5986861256858194, 2.2801431504726692, 3.926332570554488, 3.5562249859674653, 3.2513193844699524, 0.3048852346141272, 3.6670957391607684, 0.37150662218406255, -0.06410924190523763, -0.7356052907642104, -1.877408910167588, 1.304929626716179, 1.4232309721778407, -1.5682323387075179, -0.48233518692668603, -0.4183212522051604, 1.3293556446645842, 0.5746999865236684, 0.898455585013714, -0.09102690800097107, -0.8935722273313, 3.702182692527884, 1.0830682204777426, -0.3896313256356657, -2.237784387839396, 0.30587080261964567, 7.1503595760043455, 12.573194065496367, 0.25050148074812584, 0.9449441981131737, 0.0055523093620569045, -3.070648374575803, -0.6746486605291497, -1.1038574057395587, 1.7856510327134778, 1.4692940888023553, -2.7388608824667626, 0.006872206330914708, -1.8427790779609434, 0.11425237418344025, 1.6196916590287662, -0.2229147773599493, 1.0267575851101693, 7.014486839856864, -3.386205072739348, -1.246166351982637, 0.5399359015402944, 0.816071799412335, -0.3987299207945381, 0.15574143837582582, -1.1037322215827443, -0.5431656510370053, -0.477847989774327, -0.9701106149262024, 0.11689037805201462, 0.6528492712414004, 1.306938894220984, 2.07756054511244, -2.47278781751212, -0.3967779220570786, 2.276798165473714, 1.0868347439278683, -0.7334024598737763, 0.43843841906315467, 1.8109737300271918, -1.4185765115767532, -1.2502472418890822, 0.5385708776774, -0.6144153017713225, -0.20172684775394095, -1.3542473689082957, -1.291629178210339, 1.1625456471436928, -1.3489796004030885, -1.1359912726043493, -1.2149996357361557, -1.7411294689348038, 4.789476635034709, -1.5841279161465438, 2.0776857396522916, -1.1720735637503437, 2.361262220334853, 0.7292131554901915, 0.46059646692614514, -0.6494688183373845, 1.6866319165672057, -1.103486499701871, 0.00949406321488551, 3.1525209770323013, -3.169272826131302, 0.4103017437962143, 1.5895868617896196, 0.8490530649002493, -0.3219778073108867, -2.6340823949768386, -0.9020640388530572, -0.1380267331533521, 0.005805367363697813, -1.376508219202398, 1.6950096845798168, -1.9784863334160714, 3.723434171334089, 0.35416014711778493, 4.273460552383635, -0.8085765033965032, 1.3939780162363806, -0.26864446001581044, -0.8076004861956698, -1.4421761575873433, -0.5429619670104051, -2.5330341244994217, 0.7539636632915091, 0.5919428283688692, 0.8915829242505854, -0.17921330733023946, -0.30605850970273585, -1.5247262689230736, 0.5562547008527736, -3.0653874327902515, -2.5429069438194682, -0.06856312070329239, -3.1387093953066767, -0.004392730534184747, -0.24069801863166362, 4.398200071463685, -2.3392148057797235, -1.7984020970323493, 6.509098680100556, -1.4022067236643743, 3.4708086562610565, 0.39620765608738784, -0.7425264860879266, -0.46473142387177335, -1.771248206164823, -1.8356186048270917, 1.2658717370313772, 1.1034433245241573, -0.7611037336583841, -0.9099186604131863, 0.9900305937785276, 1.1358377097946224, 0.22693517193188073, 2.54498789235773, 1.806519257825714, 0.9589113208936645, 3.4472038759883747, -0.5629289515382158, -1.3170444600029099, 0.47517133323422084, 1.461470385768806, -1.356917716566152, 0.24375988577410088, 0.7972522591605953, 2.127838872466324, -1.849152086620607, 1.6313917835842957, 0.5793392109490804, -2.761127107505586, -1.1889391585753963, -0.2507446276911728, -2.124343184328366, -1.4880221047547972, -0.35716060370963926, -2.018535604586446, -1.102474326369936, -0.12984774257683004, 6.426819298555281, -2.182095796614609, 0.292596460088122, 2.302481545859156, 0.20131119701056072, 0.9798573551653699, 2.161213121850596, -0.9320774044890875, 0.32043510060644453, -2.4455184588689125, 3.702829588429396, 0.7868599426040519, 2.605087349540151, 0.42968977660894553, -1.7004726147455052, 0.1067316021965073, -0.6513938206906896, -0.3261465214849443, -0.21966546421998864, -0.9926097539312138, -0.29332625496906695, -0.33504690689458677, -1.241365323045905, 0.6827411903575776, -1.9621714659793361, 0.36957412987963134, -0.1758482342697771, -0.49485613343438106, 0.3773324191912766, 0.9598558832493372, -0.4380081454769714, 0.8924669697318375, 2.5021016507770684, -0.009212821453069111, -0.022224581211376035, 0.7784521006920414, 2.316048018301508, 0.8623189659492914, 0.1136126105876341, 2.5412296321376866, -0.4323027502405887, 2.5509094540447017, 0.4020316492750955, -0.7822991123888028, -2.0300163578404127, 2.479013207401579, -1.8053530804154778, -0.45458955285117086, -1.194797046588006, -1.8320603452023112, -2.235142844696558, 2.1849988207705513, -2.13646144824395, 0.7307759353016078, 1.0676911947852674, -1.0379270143992705, -1.5888387632534255, 1.803618116318177, 0.029891326054430914, -0.4748394944657778, -1.0181258680110017, -1.571393162020901, 0.7770957216008977, -1.6663015178561118, -2.075733478493647, -0.4847102392825663, -2.494045481187027, -0.06884714178239977, -1.7939188974648619, 2.1100118474772476, 0.11651971966484297, 0.8991783997549441, 3.426011315322786, 1.4435555081785845, -0.9032558363709493, -1.772226253346025, -1.2468542449737094, 1.8994628481861089, -0.2063710506978297, -0.9733675725424656, -2.0890523586384346, 1.2860395293900821, -0.6733391528527872, -2.3639587656699215, 0.509833755439807, -1.2987044536807055, -0.22738341210525534, 4.389134520751211, -2.4668405132780467, 0.998177942861052, -0.9779443271332263, -4.555664181024069, -0.5609546289198695, -1.077888164936601, -1.5910942230551692, 1.5159033921996348, -0.7639004722943606, -0.8384549477204489, 1.505770692831689, 7.729853131347961, 8.294774732178318, 1.595683985829039, 4.117186391790854, -1.6656938006123545, 1.6721914588932079, -2.16104874599433, -1.411001703768057, 0.7901467116737192, 1.0763601721018947, 1.011370432200552, 4.964224829381793, -0.7860361967228198, 0.63634914037695, 1.2859249882025479, 2.673300499340013, 0.09684879760036975, -0.8715425491617369, 1.5412256422451018, 0.6008480167706671, 0.4052177491904851, 0.8042102962848826, -1.4847088907809893, 1.5185808124240667, 3.5344813028529147, 2.3673916222127636, 5.599458408561581, 2.3896183011099894, 1.0923899093978273, -1.821415443740229, -1.68157629068892, -0.21396273027583554, -1.1377396506405006, 0.1842725720161073, 2.315792693556995, 0.4962497139819723, 0.22832992330119498, -0.767478206765916, 1.261242100909444, -1.4516358607627662, 1.8008321410574328, -0.8300688560173272, 1.6164591407864335, 1.0842548540841, 0.1221682722496088, -0.21355967413176566, 1.292847746856436, -0.17801956929093243, -2.131106138435367, -0.6706374858899599], \"z\": [-0.5932819295714504, -1.8014551452749987, 0.45119525088650797, 1.7323166370651055, 0.04207653400050455, -1.4924195114427086, -0.36915809588237497, 1.0182134049909648, -0.49628754530222335, -0.152508636268704, 0.4289394101505007, 1.2799315889986644, -1.2429525306813038, 1.2140849627982464, 1.4002624687280305, 2.7962338844015164, 0.4727258801951266, 0.5913829467356456, 1.4929681757576132, 0.20513167234475777, 3.819071923753242, -0.5839466148178293, 0.7904211411041445, -0.6478793971063311, 0.4342031887234602, -1.9057197583670034, -0.949101333598524, -0.04015791767453441, -0.08060605335995995, 0.30999621732208127, 0.5279908161119296, -0.08121961492475133, 1.0356166585513618, 1.5519843143315597, -1.3514290918391336, -0.21526479540038157, -0.08872157192226027, -0.5566760157832257, 0.9691454264838081, -0.568373286815798, -1.4906854842730526, -1.0915557235042477, 1.6697288920145272, 2.1095726533656087, 2.0470192314226168, 1.7321929896791177, -1.687621648753416, -0.5338483610535831, 3.6321978321573205, -2.0665378834669474, -1.134407524713891, 0.26708095010012145, -0.6703726766448065, 0.6414221570532467, -1.0708205908699013, -0.6699935507192079, 1.8723658704219615, -0.6918114358141602, 1.1352305559344713, -0.8424380383643623, 0.35312472901349556, -1.445279265602145, 0.6392524989131982, 0.6584971111041711, 2.247602439655754, -1.0457700340398737, -0.46945684996567305, 0.5515417506447748, -0.05999979211926595, 7.358711897243457, -0.09738190992541755, -0.8908086202368478, -0.7983775281646702, 1.4491730313609856, -0.9069875267738087, -0.2573052135056142, 1.481732322062097, 0.8484197229974196, -0.16118808419567102, -0.9481072267401595, -0.2773692934235171, -0.49662435672240934, 2.6754811681815243, 1.55935775167526, 0.3249935039936461, 4.2718533786999675, 0.4398431524414159, 0.5744840914215891, 1.7070106877565692, 1.0157138281805367, -0.347438909896051, 0.5414720949500538, 0.15208299277850185, 3.298382833510186, 4.127476608624335, -0.38259056571091526, -0.21467069573745842, -0.6436572084834328, -0.0292696500430127, -2.0833088314572064, -1.461717079025258, -0.5964692240727374, 0.627322982217716, 1.7072355742776804, -1.5260300945211478, -1.4477032838449113, -0.22343354598601262, -0.31653076180545137, 0.26795475299788635, -0.8815622949609153, -1.3528733216937356, -1.0988734513657803, -0.3604735271321377, 0.42461430998078453, 0.1897607765892744, 0.23268399884605948, 1.2336681340189637, -0.1924142215547228, -0.8882055445621548, -0.6625337150981159, 1.2639118238811116, 2.4306569953319266, 0.2646657534169986, -1.6168884480683992, -0.5481453810874141, -0.5989211913007852, 0.31068314283882886, 1.169902460755846, 1.3380213340756741, -0.45045187966195566, 1.4698463451748074, -0.1880550950135139, -1.108815309411654, 0.7162864858789977, 3.0700701283967033, 0.3884681300110988, -0.07218881829577944, -0.8711735300929964, 1.7948991513872021, 1.5492904007460184, 0.8780488009524375, 1.026210718887629, -0.2513010627308162, 4.5864620243802205, 1.2340184409860038, 5.866248643479245, -1.0932921044301278, -0.8369811717193384, -0.4689902152476953, -0.80708432836266, -0.5836349260279101, 0.8938724857873739, -0.8840313019678004, 1.7718044054794206, 1.1463415371545234, 0.261489610497284, 0.6217699942968051, 1.2592546660524242, -1.1445125672739156, 0.5600901563522456, -0.07600998210035796, 0.35321506803897246, -0.27019294130153826, 0.14889127060971663, -0.055142169728729123, -1.3281294215131014, 3.9502242963758154, -0.16829484014840987, 0.16972412033241996, 2.1671717657901746, 3.186511090536627, 1.1095273216892017, -1.2303440726160213, -0.8623544485860345, -0.4757487931641779, -0.03583874961843093, 0.06423654697420003, -0.9204440013035333, 1.6119775210360832, -0.40059908091129154, 0.44316990911780463, -0.7575037231488714, 0.3746173456635841, -1.0894197164463573, -1.0014179888020345, -1.1670735379405657, -0.23426470155501564, 3.4569434756168818, -0.1925730821290106, -0.9307366238523282, -0.8982786451661353, -0.10065752895657853, 0.5383491891832951, 1.9837351365846025, 2.3694240324739377, 0.7082025077437041, 0.0993976227460796, 2.556728758203469, 0.48976840935685334, 0.9805435721874999, 0.34876921556866297, -0.32714279084672276, 0.32078141759948536, -1.198880134382947, -1.1016864399959967, -0.7312741437333597, -1.2407390203137512, -1.671458311968777, 1.27413458758452, -0.2790615834745219, -1.5862296632996604, -1.596115347370605, -0.627755394524726, 1.1965700928608507, -0.9456135755412715, -1.1299583214412592, -0.12245596940131229, 0.045049823892397, 1.9537794690551975, -1.1621483761668208, 1.8520248931921812, -0.10409735859954826, 0.2957300557372666, -1.028751808916254, 1.4502864029637326, -1.0580752420583743, -0.3145127388048719, -0.7317037016115181, 0.619195847805867, -1.4823663628185, 1.3866320553320477, 1.132735969200625, -1.2407204867244128, 2.4866691374478154, 0.4207218400021252, -1.0170773618085038, -0.8868000874431282, 0.20440860072883127, -0.4614453221763004, 0.04233523033835218, 2.435000024882427, -0.9012972953987163, 0.5032965705558491, 0.1255794351086156, 1.2363016508101803, -1.0103101680800486, -0.9983608770342004, 2.0053494710792594, 0.005313182513705251, -0.08386503175500598, 0.27461793543319707, 0.19213181743092372, 0.6917370456951771, 0.36260455927877205, -0.43511401393412796, -0.465527831959374, 0.4903758548704627, 0.7643268056328962, -0.1662195942157722, 0.039284896265167187, 0.19716005337313036, 2.1360741383196595, 0.2594851874114885, -1.301248102514612, -0.3264141882574021, 1.7810419547366265, 0.6364594307984965, -0.4815693109017623, -1.4866289347114634, 0.8264838982581884, 1.2567553940353808, -0.1940212579224659, 0.07489608076765364, 0.6313675907348643, 0.17031415409716574, -0.7784122968902624, -0.7578117511158259, -0.853729740146658, -0.5361431093869151, 0.700568738819319, 0.6082865416288347, 0.3394043550737809, 2.8432407653116494, -1.4795594781100092, 3.385415621902335, -2.0310029033936634, -1.641327067228865, -0.3241432601480166, -0.9788027609922861, -0.8874042526188035, -0.5904946118878582, -0.43261383974909656, -2.2389892219214063, -0.9014381909419625, -2.2555144315363433, 1.7784055630771811, -0.8211963018685053, -0.08024040544675919, -0.8056456236475197, 0.7523243721991072, 2.1766983102611737, 0.8445421134220178, 0.31999174806220193, -2.2162817193252136, -1.6094056235004615, -0.6870355940364239, -0.3538988174172605, -0.6889238956508918, 0.43420931591670514, -1.356476455753477, -0.4127179761339452, -0.7378724489268728, 0.11980662174110186, -0.02109597383311738, -0.5650603830193819, -0.35004723536747945, -0.6731562570279915, -0.7117748015647306, 0.3459235082012003, -0.4734154926955386, -0.4888479071849749, -0.21847434110238398, -1.7790843056877663, -2.814053934505198, -2.195718487036439, 2.846446592148241, -1.1714666758256786, 0.6044631526089794, -2.0279265728682283, -1.741694902828949, 0.178958262375736, 0.06966161622949077, 1.3271635854825516, 1.3010343472387513, 1.5022421171048514, -0.6327037155498555, 0.3733131087819998, 0.3845284600463557, -0.14807257573809285, 0.4781948538371808, -0.326420718324271, -0.053844250328930775, 0.9232460424635499, 1.4141773084343536, 1.5439723403456047, 0.5049206273658567, 0.7805493740863859, 2.7664688112298452, 0.5647983983689238, 1.8389645417598852, 1.8599405206514417, 3.238777561646912, 0.3889235992701216, 1.4293812894798947, 1.0321066315111913, 3.414188611474587, 1.4904590334810657]}],\n",
              "                        {\"legend\": {\"tracegroupgap\": 0}, \"margin\": {\"t\": 60}, \"scene\": {\"domain\": {\"x\": [0.0, 1.0], \"y\": [0.0, 1.0]}, \"xaxis\": {\"title\": {\"text\": \"pca_1\"}}, \"yaxis\": {\"title\": {\"text\": \"pca_2\"}}, \"zaxis\": {\"title\": {\"text\": \"pca_3\"}}}, \"template\": {\"data\": {\"bar\": [{\"error_x\": {\"color\": \"#2a3f5f\"}, \"error_y\": {\"color\": \"#2a3f5f\"}, \"marker\": {\"line\": {\"color\": \"#E5ECF6\", \"width\": 0.5}}, \"type\": \"bar\"}], \"barpolar\": [{\"marker\": {\"line\": {\"color\": \"#E5ECF6\", \"width\": 0.5}}, \"type\": \"barpolar\"}], \"carpet\": [{\"aaxis\": {\"endlinecolor\": \"#2a3f5f\", \"gridcolor\": \"white\", \"linecolor\": \"white\", \"minorgridcolor\": \"white\", \"startlinecolor\": \"#2a3f5f\"}, \"baxis\": {\"endlinecolor\": \"#2a3f5f\", \"gridcolor\": \"white\", \"linecolor\": \"white\", \"minorgridcolor\": \"white\", \"startlinecolor\": \"#2a3f5f\"}, \"type\": \"carpet\"}], \"choropleth\": [{\"colorbar\": {\"outlinewidth\": 0, \"ticks\": \"\"}, \"type\": \"choropleth\"}], \"contour\": [{\"colorbar\": {\"outlinewidth\": 0, \"ticks\": \"\"}, \"colorscale\": [[0.0, \"#0d0887\"], [0.1111111111111111, \"#46039f\"], [0.2222222222222222, \"#7201a8\"], [0.3333333333333333, \"#9c179e\"], [0.4444444444444444, \"#bd3786\"], [0.5555555555555556, \"#d8576b\"], [0.6666666666666666, \"#ed7953\"], [0.7777777777777778, \"#fb9f3a\"], [0.8888888888888888, \"#fdca26\"], [1.0, \"#f0f921\"]], \"type\": \"contour\"}], \"contourcarpet\": [{\"colorbar\": {\"outlinewidth\": 0, \"ticks\": \"\"}, \"type\": \"contourcarpet\"}], \"heatmap\": [{\"colorbar\": {\"outlinewidth\": 0, \"ticks\": \"\"}, \"colorscale\": [[0.0, \"#0d0887\"], [0.1111111111111111, \"#46039f\"], [0.2222222222222222, \"#7201a8\"], [0.3333333333333333, \"#9c179e\"], [0.4444444444444444, \"#bd3786\"], [0.5555555555555556, \"#d8576b\"], [0.6666666666666666, \"#ed7953\"], [0.7777777777777778, \"#fb9f3a\"], [0.8888888888888888, \"#fdca26\"], [1.0, \"#f0f921\"]], \"type\": \"heatmap\"}], \"heatmapgl\": [{\"colorbar\": {\"outlinewidth\": 0, \"ticks\": \"\"}, \"colorscale\": [[0.0, \"#0d0887\"], [0.1111111111111111, \"#46039f\"], [0.2222222222222222, \"#7201a8\"], [0.3333333333333333, \"#9c179e\"], [0.4444444444444444, \"#bd3786\"], [0.5555555555555556, \"#d8576b\"], [0.6666666666666666, \"#ed7953\"], [0.7777777777777778, \"#fb9f3a\"], [0.8888888888888888, \"#fdca26\"], [1.0, \"#f0f921\"]], \"type\": \"heatmapgl\"}], \"histogram\": [{\"marker\": {\"colorbar\": {\"outlinewidth\": 0, \"ticks\": \"\"}}, \"type\": \"histogram\"}], \"histogram2d\": [{\"colorbar\": {\"outlinewidth\": 0, \"ticks\": \"\"}, \"colorscale\": [[0.0, \"#0d0887\"], [0.1111111111111111, \"#46039f\"], [0.2222222222222222, \"#7201a8\"], [0.3333333333333333, \"#9c179e\"], [0.4444444444444444, \"#bd3786\"], [0.5555555555555556, \"#d8576b\"], [0.6666666666666666, \"#ed7953\"], [0.7777777777777778, \"#fb9f3a\"], [0.8888888888888888, \"#fdca26\"], [1.0, \"#f0f921\"]], \"type\": \"histogram2d\"}], \"histogram2dcontour\": [{\"colorbar\": {\"outlinewidth\": 0, \"ticks\": \"\"}, \"colorscale\": [[0.0, \"#0d0887\"], [0.1111111111111111, \"#46039f\"], [0.2222222222222222, \"#7201a8\"], [0.3333333333333333, \"#9c179e\"], [0.4444444444444444, \"#bd3786\"], [0.5555555555555556, \"#d8576b\"], [0.6666666666666666, \"#ed7953\"], [0.7777777777777778, \"#fb9f3a\"], [0.8888888888888888, \"#fdca26\"], [1.0, \"#f0f921\"]], \"type\": \"histogram2dcontour\"}], \"mesh3d\": [{\"colorbar\": {\"outlinewidth\": 0, \"ticks\": \"\"}, \"type\": \"mesh3d\"}], \"parcoords\": [{\"line\": {\"colorbar\": {\"outlinewidth\": 0, \"ticks\": \"\"}}, \"type\": \"parcoords\"}], \"pie\": [{\"automargin\": true, \"type\": \"pie\"}], \"scatter\": [{\"marker\": {\"colorbar\": {\"outlinewidth\": 0, \"ticks\": \"\"}}, \"type\": \"scatter\"}], \"scatter3d\": [{\"line\": {\"colorbar\": {\"outlinewidth\": 0, \"ticks\": \"\"}}, \"marker\": {\"colorbar\": {\"outlinewidth\": 0, \"ticks\": \"\"}}, \"type\": \"scatter3d\"}], \"scattercarpet\": [{\"marker\": {\"colorbar\": {\"outlinewidth\": 0, \"ticks\": \"\"}}, \"type\": \"scattercarpet\"}], \"scattergeo\": [{\"marker\": {\"colorbar\": {\"outlinewidth\": 0, \"ticks\": \"\"}}, \"type\": \"scattergeo\"}], \"scattergl\": [{\"marker\": {\"colorbar\": {\"outlinewidth\": 0, \"ticks\": \"\"}}, \"type\": \"scattergl\"}], \"scattermapbox\": [{\"marker\": {\"colorbar\": {\"outlinewidth\": 0, \"ticks\": \"\"}}, \"type\": \"scattermapbox\"}], \"scatterpolar\": [{\"marker\": {\"colorbar\": {\"outlinewidth\": 0, \"ticks\": \"\"}}, \"type\": \"scatterpolar\"}], \"scatterpolargl\": [{\"marker\": {\"colorbar\": {\"outlinewidth\": 0, \"ticks\": \"\"}}, \"type\": \"scatterpolargl\"}], \"scatterternary\": [{\"marker\": {\"colorbar\": {\"outlinewidth\": 0, \"ticks\": \"\"}}, \"type\": \"scatterternary\"}], \"surface\": [{\"colorbar\": {\"outlinewidth\": 0, \"ticks\": \"\"}, \"colorscale\": [[0.0, \"#0d0887\"], [0.1111111111111111, \"#46039f\"], [0.2222222222222222, \"#7201a8\"], [0.3333333333333333, \"#9c179e\"], [0.4444444444444444, \"#bd3786\"], [0.5555555555555556, \"#d8576b\"], [0.6666666666666666, \"#ed7953\"], [0.7777777777777778, \"#fb9f3a\"], [0.8888888888888888, \"#fdca26\"], [1.0, \"#f0f921\"]], \"type\": \"surface\"}], \"table\": [{\"cells\": {\"fill\": {\"color\": \"#EBF0F8\"}, \"line\": {\"color\": \"white\"}}, \"header\": {\"fill\": {\"color\": \"#C8D4E3\"}, \"line\": {\"color\": \"white\"}}, \"type\": \"table\"}]}, \"layout\": {\"annotationdefaults\": {\"arrowcolor\": \"#2a3f5f\", \"arrowhead\": 0, \"arrowwidth\": 1}, \"coloraxis\": {\"colorbar\": {\"outlinewidth\": 0, \"ticks\": \"\"}}, \"colorscale\": {\"diverging\": [[0, \"#8e0152\"], [0.1, \"#c51b7d\"], [0.2, \"#de77ae\"], [0.3, \"#f1b6da\"], [0.4, \"#fde0ef\"], [0.5, \"#f7f7f7\"], [0.6, \"#e6f5d0\"], [0.7, \"#b8e186\"], [0.8, \"#7fbc41\"], [0.9, \"#4d9221\"], [1, \"#276419\"]], \"sequential\": [[0.0, \"#0d0887\"], [0.1111111111111111, \"#46039f\"], [0.2222222222222222, \"#7201a8\"], [0.3333333333333333, \"#9c179e\"], [0.4444444444444444, \"#bd3786\"], [0.5555555555555556, \"#d8576b\"], [0.6666666666666666, \"#ed7953\"], [0.7777777777777778, \"#fb9f3a\"], [0.8888888888888888, \"#fdca26\"], [1.0, \"#f0f921\"]], \"sequentialminus\": [[0.0, \"#0d0887\"], [0.1111111111111111, \"#46039f\"], [0.2222222222222222, \"#7201a8\"], [0.3333333333333333, \"#9c179e\"], [0.4444444444444444, \"#bd3786\"], [0.5555555555555556, \"#d8576b\"], [0.6666666666666666, \"#ed7953\"], [0.7777777777777778, \"#fb9f3a\"], [0.8888888888888888, \"#fdca26\"], [1.0, \"#f0f921\"]]}, \"colorway\": [\"#636efa\", \"#EF553B\", \"#00cc96\", \"#ab63fa\", \"#FFA15A\", \"#19d3f3\", \"#FF6692\", \"#B6E880\", \"#FF97FF\", \"#FECB52\"], \"font\": {\"color\": \"#2a3f5f\"}, \"geo\": {\"bgcolor\": \"white\", \"lakecolor\": \"white\", \"landcolor\": \"#E5ECF6\", \"showlakes\": true, \"showland\": true, \"subunitcolor\": \"white\"}, \"hoverlabel\": {\"align\": \"left\"}, \"hovermode\": \"closest\", \"mapbox\": {\"style\": \"light\"}, \"paper_bgcolor\": \"white\", \"plot_bgcolor\": \"#E5ECF6\", \"polar\": {\"angularaxis\": {\"gridcolor\": \"white\", \"linecolor\": \"white\", \"ticks\": \"\"}, \"bgcolor\": \"#E5ECF6\", \"radialaxis\": {\"gridcolor\": \"white\", \"linecolor\": \"white\", \"ticks\": \"\"}}, \"scene\": {\"xaxis\": {\"backgroundcolor\": \"#E5ECF6\", \"gridcolor\": \"white\", \"gridwidth\": 2, \"linecolor\": \"white\", \"showbackground\": true, \"ticks\": \"\", \"zerolinecolor\": \"white\"}, \"yaxis\": {\"backgroundcolor\": \"#E5ECF6\", \"gridcolor\": \"white\", \"gridwidth\": 2, \"linecolor\": \"white\", \"showbackground\": true, \"ticks\": \"\", \"zerolinecolor\": \"white\"}, \"zaxis\": {\"backgroundcolor\": \"#E5ECF6\", \"gridcolor\": \"white\", \"gridwidth\": 2, \"linecolor\": \"white\", \"showbackground\": true, \"ticks\": \"\", \"zerolinecolor\": \"white\"}}, \"shapedefaults\": {\"line\": {\"color\": \"#2a3f5f\"}}, \"ternary\": {\"aaxis\": {\"gridcolor\": \"white\", \"linecolor\": \"white\", \"ticks\": \"\"}, \"baxis\": {\"gridcolor\": \"white\", \"linecolor\": \"white\", \"ticks\": \"\"}, \"bgcolor\": \"#E5ECF6\", \"caxis\": {\"gridcolor\": \"white\", \"linecolor\": \"white\", \"ticks\": \"\"}}, \"title\": {\"x\": 0.05}, \"xaxis\": {\"automargin\": true, \"gridcolor\": \"white\", \"linecolor\": \"white\", \"ticks\": \"\", \"title\": {\"standoff\": 15}, \"zerolinecolor\": \"white\", \"zerolinewidth\": 2}, \"yaxis\": {\"automargin\": true, \"gridcolor\": \"white\", \"linecolor\": \"white\", \"ticks\": \"\", \"title\": {\"standoff\": 15}, \"zerolinecolor\": \"white\", \"zerolinewidth\": 2}}}, \"width\": 800},\n",
              "                        {\"responsive\": true}\n",
              "                    ).then(function(){\n",
              "                            \n",
              "var gd = document.getElementById('d7c01914-031d-49e1-858b-6174721b607e');\n",
              "var x = new MutationObserver(function (mutations, observer) {{\n",
              "        var display = window.getComputedStyle(gd).display;\n",
              "        if (!display || display === 'none') {{\n",
              "            console.log([gd, 'removed!']);\n",
              "            Plotly.purge(gd);\n",
              "            observer.disconnect();\n",
              "        }}\n",
              "}});\n",
              "\n",
              "// Listen for the removal of the full notebook cells\n",
              "var notebookContainer = gd.closest('#notebook-container');\n",
              "if (notebookContainer) {{\n",
              "    x.observe(notebookContainer, {childList: true});\n",
              "}}\n",
              "\n",
              "// Listen for the clearing of the current output cell\n",
              "var outputEl = gd.closest('.output');\n",
              "if (outputEl) {{\n",
              "    x.observe(outputEl, {childList: true});\n",
              "}}\n",
              "\n",
              "                        })\n",
              "                };\n",
              "                \n",
              "            </script>\n",
              "        </div>\n",
              "</body>\n",
              "</html>"
            ]
          },
          "metadata": {
            "tags": []
          }
        }
      ]
    },
    {
      "cell_type": "code",
      "metadata": {
        "id": "o--6VyCJqCvH",
        "colab_type": "code",
        "colab": {}
      },
      "source": [
        ""
      ],
      "execution_count": 0,
      "outputs": []
    }
  ]
}