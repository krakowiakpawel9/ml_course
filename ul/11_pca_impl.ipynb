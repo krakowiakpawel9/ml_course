{
  "nbformat": 4,
  "nbformat_minor": 0,
  "metadata": {
    "colab": {
      "name": "Untitled71.ipynb",
      "provenance": [],
      "include_colab_link": true
    },
    "kernelspec": {
      "name": "python3",
      "display_name": "Python 3"
    }
  },
  "cells": [
    {
      "cell_type": "markdown",
      "metadata": {
        "id": "view-in-github",
        "colab_type": "text"
      },
      "source": [
        "<a href=\"https://colab.research.google.com/github/krakowiakpawel9/ml_course/blob/master/ul/11_pca_impl.ipynb\" target=\"_parent\"><img src=\"https://colab.research.google.com/assets/colab-badge.svg\" alt=\"Open In Colab\"/></a>"
      ]
    },
    {
      "cell_type": "markdown",
      "metadata": {
        "id": "C80St0V-_VIi",
        "colab_type": "text"
      },
      "source": [
        "### scikit-learn\n",
        "Strona biblioteki: [https://scikit-learn.org](https://scikit-learn.org)  \n",
        "\n",
        "Dokumentacja/User Guide: [https://scikit-learn.org/stable/user_guide.html](https://scikit-learn.org/stable/user_guide.html)\n",
        "\n",
        "Podstawowa biblioteka do uczenia maszynowego w języku Python.\n",
        "\n",
        "Aby zainstalować bibliotekę scikit-learn, użyj polecenia poniżej:\n",
        "```\n",
        "!pip install scikit-learn\n",
        "```\n",
        "Aby zaktualizować do najnowszej wersji bibliotekę scikit-learn, użyj polecenia poniżej:\n",
        "```\n",
        "!pip install --upgrade scikit-learn\n",
        "```\n",
        "Kurs stworzony w oparciu o wersję `0.22.1`\n",
        "\n",
        "### Spis treści:\n",
        "1. [Import bibliotek](#0)\n",
        "2. [Wygenerowanie danych](#1)\n",
        "3. [Wizualizacja danych](#2)\n",
        "4. [Algorytm K-średnich](#3)\n",
        "5. [Wizualizacja klastrów](#4)\n",
        "\n",
        "\n"
      ]
    },
    {
      "cell_type": "markdown",
      "metadata": {
        "id": "dCogYvFX_YD4",
        "colab_type": "text"
      },
      "source": [
        "### <a name='0'></a> Import bibliotek"
      ]
    },
    {
      "cell_type": "code",
      "metadata": {
        "id": "EqD-NhQ1Ie_y",
        "colab_type": "code",
        "colab": {}
      },
      "source": [
        "import pandas as pd\n",
        "import numpy as np\n",
        "import matplotlib.pyplot as plt\n",
        "import seaborn as sns\n",
        "\n",
        "sns.set()\n",
        "np.set_printoptions(precision=4, suppress=True, edgeitems=5, linewidth=200)"
      ],
      "execution_count": 0,
      "outputs": []
    },
    {
      "cell_type": "code",
      "metadata": {
        "id": "Tvfl2t_eIgRu",
        "colab_type": "code",
        "colab": {
          "base_uri": "https://localhost:8080/",
          "height": 195
        },
        "outputId": "39b28bd0-0bc9-4e24-8f0d-0bc28e00ec84"
      },
      "source": [
        "df_raw = pd.read_csv('https://archive.ics.uci.edu/ml/machine-learning-databases/wine/wine.data', header=None)\n",
        "df = df_raw.copy()\n",
        "df.head()"
      ],
      "execution_count": 26,
      "outputs": [
        {
          "output_type": "execute_result",
          "data": {
            "text/html": [
              "<div>\n",
              "<style scoped>\n",
              "    .dataframe tbody tr th:only-of-type {\n",
              "        vertical-align: middle;\n",
              "    }\n",
              "\n",
              "    .dataframe tbody tr th {\n",
              "        vertical-align: top;\n",
              "    }\n",
              "\n",
              "    .dataframe thead th {\n",
              "        text-align: right;\n",
              "    }\n",
              "</style>\n",
              "<table border=\"1\" class=\"dataframe\">\n",
              "  <thead>\n",
              "    <tr style=\"text-align: right;\">\n",
              "      <th></th>\n",
              "      <th>0</th>\n",
              "      <th>1</th>\n",
              "      <th>2</th>\n",
              "      <th>3</th>\n",
              "      <th>4</th>\n",
              "      <th>5</th>\n",
              "      <th>6</th>\n",
              "      <th>7</th>\n",
              "      <th>8</th>\n",
              "      <th>9</th>\n",
              "      <th>10</th>\n",
              "      <th>11</th>\n",
              "      <th>12</th>\n",
              "      <th>13</th>\n",
              "    </tr>\n",
              "  </thead>\n",
              "  <tbody>\n",
              "    <tr>\n",
              "      <th>0</th>\n",
              "      <td>1</td>\n",
              "      <td>14.23</td>\n",
              "      <td>1.71</td>\n",
              "      <td>2.43</td>\n",
              "      <td>15.6</td>\n",
              "      <td>127</td>\n",
              "      <td>2.80</td>\n",
              "      <td>3.06</td>\n",
              "      <td>0.28</td>\n",
              "      <td>2.29</td>\n",
              "      <td>5.64</td>\n",
              "      <td>1.04</td>\n",
              "      <td>3.92</td>\n",
              "      <td>1065</td>\n",
              "    </tr>\n",
              "    <tr>\n",
              "      <th>1</th>\n",
              "      <td>1</td>\n",
              "      <td>13.20</td>\n",
              "      <td>1.78</td>\n",
              "      <td>2.14</td>\n",
              "      <td>11.2</td>\n",
              "      <td>100</td>\n",
              "      <td>2.65</td>\n",
              "      <td>2.76</td>\n",
              "      <td>0.26</td>\n",
              "      <td>1.28</td>\n",
              "      <td>4.38</td>\n",
              "      <td>1.05</td>\n",
              "      <td>3.40</td>\n",
              "      <td>1050</td>\n",
              "    </tr>\n",
              "    <tr>\n",
              "      <th>2</th>\n",
              "      <td>1</td>\n",
              "      <td>13.16</td>\n",
              "      <td>2.36</td>\n",
              "      <td>2.67</td>\n",
              "      <td>18.6</td>\n",
              "      <td>101</td>\n",
              "      <td>2.80</td>\n",
              "      <td>3.24</td>\n",
              "      <td>0.30</td>\n",
              "      <td>2.81</td>\n",
              "      <td>5.68</td>\n",
              "      <td>1.03</td>\n",
              "      <td>3.17</td>\n",
              "      <td>1185</td>\n",
              "    </tr>\n",
              "    <tr>\n",
              "      <th>3</th>\n",
              "      <td>1</td>\n",
              "      <td>14.37</td>\n",
              "      <td>1.95</td>\n",
              "      <td>2.50</td>\n",
              "      <td>16.8</td>\n",
              "      <td>113</td>\n",
              "      <td>3.85</td>\n",
              "      <td>3.49</td>\n",
              "      <td>0.24</td>\n",
              "      <td>2.18</td>\n",
              "      <td>7.80</td>\n",
              "      <td>0.86</td>\n",
              "      <td>3.45</td>\n",
              "      <td>1480</td>\n",
              "    </tr>\n",
              "    <tr>\n",
              "      <th>4</th>\n",
              "      <td>1</td>\n",
              "      <td>13.24</td>\n",
              "      <td>2.59</td>\n",
              "      <td>2.87</td>\n",
              "      <td>21.0</td>\n",
              "      <td>118</td>\n",
              "      <td>2.80</td>\n",
              "      <td>2.69</td>\n",
              "      <td>0.39</td>\n",
              "      <td>1.82</td>\n",
              "      <td>4.32</td>\n",
              "      <td>1.04</td>\n",
              "      <td>2.93</td>\n",
              "      <td>735</td>\n",
              "    </tr>\n",
              "  </tbody>\n",
              "</table>\n",
              "</div>"
            ],
            "text/plain": [
              "   0      1     2     3     4    5   ...    8     9     10    11    12    13\n",
              "0   1  14.23  1.71  2.43  15.6  127  ...  0.28  2.29  5.64  1.04  3.92  1065\n",
              "1   1  13.20  1.78  2.14  11.2  100  ...  0.26  1.28  4.38  1.05  3.40  1050\n",
              "2   1  13.16  2.36  2.67  18.6  101  ...  0.30  2.81  5.68  1.03  3.17  1185\n",
              "3   1  14.37  1.95  2.50  16.8  113  ...  0.24  2.18  7.80  0.86  3.45  1480\n",
              "4   1  13.24  2.59  2.87  21.0  118  ...  0.39  1.82  4.32  1.04  2.93   735\n",
              "\n",
              "[5 rows x 14 columns]"
            ]
          },
          "metadata": {
            "tags": []
          },
          "execution_count": 26
        }
      ]
    },
    {
      "cell_type": "code",
      "metadata": {
        "id": "2JenZ_1PJWMy",
        "colab_type": "code",
        "colab": {
          "base_uri": "https://localhost:8080/",
          "height": 195
        },
        "outputId": "01ee6613-3472-4619-913b-4d4ae60390ba"
      },
      "source": [
        "data = df.iloc[:, 1:]\n",
        "target = df.iloc[:, 0]\n",
        "\n",
        "data.head()"
      ],
      "execution_count": 29,
      "outputs": [
        {
          "output_type": "execute_result",
          "data": {
            "text/html": [
              "<div>\n",
              "<style scoped>\n",
              "    .dataframe tbody tr th:only-of-type {\n",
              "        vertical-align: middle;\n",
              "    }\n",
              "\n",
              "    .dataframe tbody tr th {\n",
              "        vertical-align: top;\n",
              "    }\n",
              "\n",
              "    .dataframe thead th {\n",
              "        text-align: right;\n",
              "    }\n",
              "</style>\n",
              "<table border=\"1\" class=\"dataframe\">\n",
              "  <thead>\n",
              "    <tr style=\"text-align: right;\">\n",
              "      <th></th>\n",
              "      <th>1</th>\n",
              "      <th>2</th>\n",
              "      <th>3</th>\n",
              "      <th>4</th>\n",
              "      <th>5</th>\n",
              "      <th>6</th>\n",
              "      <th>7</th>\n",
              "      <th>8</th>\n",
              "      <th>9</th>\n",
              "      <th>10</th>\n",
              "      <th>11</th>\n",
              "      <th>12</th>\n",
              "      <th>13</th>\n",
              "    </tr>\n",
              "  </thead>\n",
              "  <tbody>\n",
              "    <tr>\n",
              "      <th>0</th>\n",
              "      <td>14.23</td>\n",
              "      <td>1.71</td>\n",
              "      <td>2.43</td>\n",
              "      <td>15.6</td>\n",
              "      <td>127</td>\n",
              "      <td>2.80</td>\n",
              "      <td>3.06</td>\n",
              "      <td>0.28</td>\n",
              "      <td>2.29</td>\n",
              "      <td>5.64</td>\n",
              "      <td>1.04</td>\n",
              "      <td>3.92</td>\n",
              "      <td>1065</td>\n",
              "    </tr>\n",
              "    <tr>\n",
              "      <th>1</th>\n",
              "      <td>13.20</td>\n",
              "      <td>1.78</td>\n",
              "      <td>2.14</td>\n",
              "      <td>11.2</td>\n",
              "      <td>100</td>\n",
              "      <td>2.65</td>\n",
              "      <td>2.76</td>\n",
              "      <td>0.26</td>\n",
              "      <td>1.28</td>\n",
              "      <td>4.38</td>\n",
              "      <td>1.05</td>\n",
              "      <td>3.40</td>\n",
              "      <td>1050</td>\n",
              "    </tr>\n",
              "    <tr>\n",
              "      <th>2</th>\n",
              "      <td>13.16</td>\n",
              "      <td>2.36</td>\n",
              "      <td>2.67</td>\n",
              "      <td>18.6</td>\n",
              "      <td>101</td>\n",
              "      <td>2.80</td>\n",
              "      <td>3.24</td>\n",
              "      <td>0.30</td>\n",
              "      <td>2.81</td>\n",
              "      <td>5.68</td>\n",
              "      <td>1.03</td>\n",
              "      <td>3.17</td>\n",
              "      <td>1185</td>\n",
              "    </tr>\n",
              "    <tr>\n",
              "      <th>3</th>\n",
              "      <td>14.37</td>\n",
              "      <td>1.95</td>\n",
              "      <td>2.50</td>\n",
              "      <td>16.8</td>\n",
              "      <td>113</td>\n",
              "      <td>3.85</td>\n",
              "      <td>3.49</td>\n",
              "      <td>0.24</td>\n",
              "      <td>2.18</td>\n",
              "      <td>7.80</td>\n",
              "      <td>0.86</td>\n",
              "      <td>3.45</td>\n",
              "      <td>1480</td>\n",
              "    </tr>\n",
              "    <tr>\n",
              "      <th>4</th>\n",
              "      <td>13.24</td>\n",
              "      <td>2.59</td>\n",
              "      <td>2.87</td>\n",
              "      <td>21.0</td>\n",
              "      <td>118</td>\n",
              "      <td>2.80</td>\n",
              "      <td>2.69</td>\n",
              "      <td>0.39</td>\n",
              "      <td>1.82</td>\n",
              "      <td>4.32</td>\n",
              "      <td>1.04</td>\n",
              "      <td>2.93</td>\n",
              "      <td>735</td>\n",
              "    </tr>\n",
              "  </tbody>\n",
              "</table>\n",
              "</div>"
            ],
            "text/plain": [
              "      1     2     3     4    5     6     7     8     9     10    11    12    13\n",
              "0  14.23  1.71  2.43  15.6  127  2.80  3.06  0.28  2.29  5.64  1.04  3.92  1065\n",
              "1  13.20  1.78  2.14  11.2  100  2.65  2.76  0.26  1.28  4.38  1.05  3.40  1050\n",
              "2  13.16  2.36  2.67  18.6  101  2.80  3.24  0.30  2.81  5.68  1.03  3.17  1185\n",
              "3  14.37  1.95  2.50  16.8  113  3.85  3.49  0.24  2.18  7.80  0.86  3.45  1480\n",
              "4  13.24  2.59  2.87  21.0  118  2.80  2.69  0.39  1.82  4.32  1.04  2.93   735"
            ]
          },
          "metadata": {
            "tags": []
          },
          "execution_count": 29
        }
      ]
    },
    {
      "cell_type": "code",
      "metadata": {
        "id": "8t0ug5duJeuO",
        "colab_type": "code",
        "colab": {
          "base_uri": "https://localhost:8080/",
          "height": 122
        },
        "outputId": "70e5a24b-da48-49bd-99bf-a03171e65ddc"
      },
      "source": [
        "target.head()"
      ],
      "execution_count": 30,
      "outputs": [
        {
          "output_type": "execute_result",
          "data": {
            "text/plain": [
              "0    1\n",
              "1    1\n",
              "2    1\n",
              "3    1\n",
              "4    1\n",
              "Name: 0, dtype: int64"
            ]
          },
          "metadata": {
            "tags": []
          },
          "execution_count": 30
        }
      ]
    },
    {
      "cell_type": "code",
      "metadata": {
        "id": "ArjDd8phJDGE",
        "colab_type": "code",
        "colab": {
          "base_uri": "https://localhost:8080/",
          "height": 52
        },
        "outputId": "cf403635-e1fe-46e3-f50f-e9e97183794a"
      },
      "source": [
        "from sklearn.model_selection import train_test_split\n",
        "\n",
        "X_train, X_test, y_train, y_test = train_test_split(data, target)\n",
        "\n",
        "print(f'X_train shape: {X_train.shape}')\n",
        "print(f'X_test shape: {X_test.shape}')"
      ],
      "execution_count": 32,
      "outputs": [
        {
          "output_type": "stream",
          "text": [
            "X_train shape: (133, 13)\n",
            "X_test shape: (45, 13)\n"
          ],
          "name": "stdout"
        }
      ]
    },
    {
      "cell_type": "code",
      "metadata": {
        "id": "9FRqLsLaImpX",
        "colab_type": "code",
        "colab": {
          "base_uri": "https://localhost:8080/",
          "height": 210
        },
        "outputId": "1c8b14e3-4d09-4729-9741-0162ca968ac5"
      },
      "source": [
        "from sklearn.preprocessing import StandardScaler\n",
        "\n",
        "scaler = StandardScaler()\n",
        "X_train_std = scaler.fit_transform(X_train)\n",
        "X_test_std = scaler.transform(X_test)\n",
        "X_train_std"
      ],
      "execution_count": 49,
      "outputs": [
        {
          "output_type": "execute_result",
          "data": {
            "text/plain": [
              "array([[ 0.7431, -0.4397,  1.2253, -0.6387,  0.8491, ..., -0.268 ,  0.8644,  1.3724,  0.4096,  1.8113],\n",
              "       [-0.7727,  1.782 ,  1.3348,  2.0212,  0.1298, ...,  0.1789, -1.3434, -0.1398,  0.7404, -1.2676],\n",
              "       [ 0.6804, -0.5669, -0.0159, -0.0953,  0.4175, ...,  0.6079,  0.6952,  0.5743,  0.4096,  2.4792],\n",
              "       [-1.1987, -0.7959,  0.4952,  0.8771, -1.165 , ..., -1.0188, -0.9966, -0.0978,  0.8368, -1.2024],\n",
              "       [-0.7727, -0.6093, -0.6365,  0.8771,  0.5614, ...,  0.0001, -1.3519,  0.4483,  0.5198, -1.3328],\n",
              "       ...,\n",
              "       [-0.2716,  0.8831, -0.235 ,  0.0191, -0.8773, ..., -1.144 ,  2.1163, -0.9799, -1.148 , -0.225 ],\n",
              "       [-0.2341,  0.7983,  0.7872,  0.7341,  0.4175, ..., -1.1619,  0.1369, -0.3498, -0.6518, -0.5997],\n",
              "       [ 0.0165, -0.4737, -0.9651, -0.6959,  0.4895, ...,  0.751 , -0.0915, -0.3078,  1.0574,  0.4266],\n",
              "       [ 0.0541,  1.3326, -0.0159,  0.5911,  0.9211, ..., -0.8401,  1.7526, -1.61  , -1.7269, -0.6649],\n",
              "       [ 1.0062,  1.5191,  0.0571,  0.0191, -0.8053, ..., -0.0892,  1.5876, -1.61  , -1.2996, -0.8929]])"
            ]
          },
          "metadata": {
            "tags": []
          },
          "execution_count": 49
        }
      ]
    },
    {
      "cell_type": "code",
      "metadata": {
        "id": "qL4W4dANI_E3",
        "colab_type": "code",
        "colab": {
          "base_uri": "https://localhost:8080/",
          "height": 246
        },
        "outputId": "0eea6aa9-c059-4919-a17d-4f923ac6b726"
      },
      "source": [
        "cov_mat = np.cov(X_train_std.T)\n",
        "cov_mat"
      ],
      "execution_count": 52,
      "outputs": [
        {
          "output_type": "execute_result",
          "data": {
            "text/plain": [
              "array([[ 1.0076,  0.0606,  0.2018, -0.3215,  0.2168,  0.309 ,  0.2448, -0.1337,  0.1605,  0.5217, -0.123 ,  0.0945,  0.632 ],\n",
              "       [ 0.0606,  1.0076,  0.1735,  0.3346, -0.0951, -0.3596, -0.4311,  0.3638, -0.229 ,  0.2518, -0.5838, -0.3853, -0.2056],\n",
              "       [ 0.2018,  0.1735,  1.0076,  0.4877,  0.241 ,  0.1021,  0.0827,  0.2192, -0.0199,  0.2428, -0.1222, -0.0104,  0.1842],\n",
              "       [-0.3215,  0.3346,  0.4877,  1.0076, -0.0397, -0.3051, -0.3576,  0.3813, -0.2206,  0.0421, -0.2699, -0.2808, -0.4736],\n",
              "       [ 0.2168, -0.0951,  0.241 , -0.0397,  1.0076,  0.1734,  0.1761, -0.2555,  0.1763,  0.1825,  0.0068,  0.0731,  0.3555],\n",
              "       [ 0.309 , -0.3596,  0.1021, -0.3051,  0.1734,  1.0076,  0.8606, -0.4528,  0.6127, -0.0681,  0.4165,  0.7316,  0.4839],\n",
              "       [ 0.2448, -0.4311,  0.0827, -0.3576,  0.1761,  0.8606,  1.0076, -0.5813,  0.6425, -0.1975,  0.5447,  0.8184,  0.4729],\n",
              "       [-0.1337,  0.3638,  0.2192,  0.3813, -0.2555, -0.4528, -0.5813,  1.0076, -0.3915,  0.2022, -0.317 , -0.5671, -0.304 ],\n",
              "       [ 0.1605, -0.229 , -0.0199, -0.2206,  0.1763,  0.6127,  0.6425, -0.3915,  1.0076,  0.0135,  0.2564,  0.5183,  0.3066],\n",
              "       [ 0.5217,  0.2518,  0.2428,  0.0421,  0.1825, -0.0681, -0.1975,  0.2022,  0.0135,  1.0076, -0.583 , -0.4355,  0.2775],\n",
              "       [-0.123 , -0.5838, -0.1222, -0.2699,  0.0068,  0.4165,  0.5447, -0.317 ,  0.2564, -0.583 ,  1.0076,  0.6013,  0.1779],\n",
              "       [ 0.0945, -0.3853, -0.0104, -0.2808,  0.0731,  0.7316,  0.8184, -0.5671,  0.5183, -0.4355,  0.6013,  1.0076,  0.3262],\n",
              "       [ 0.632 , -0.2056,  0.1842, -0.4736,  0.3555,  0.4839,  0.4729, -0.304 ,  0.3066,  0.2775,  0.1779,  0.3262,  1.0076]])"
            ]
          },
          "metadata": {
            "tags": []
          },
          "execution_count": 52
        }
      ]
    },
    {
      "cell_type": "code",
      "metadata": {
        "id": "-qdrpS-vJ2NI",
        "colab_type": "code",
        "colab": {}
      },
      "source": [
        "eigen_vals, eigen_vecs = np.linalg.eig(cov_mat)"
      ],
      "execution_count": 0,
      "outputs": []
    },
    {
      "cell_type": "code",
      "metadata": {
        "id": "RfQR5rYEJ5pS",
        "colab_type": "code",
        "colab": {
          "base_uri": "https://localhost:8080/",
          "height": 34
        },
        "outputId": "c4c58be5-bc24-4229-d37e-aa350f2e7ce7"
      },
      "source": [
        "eigen_vals"
      ],
      "execution_count": 54,
      "outputs": [
        {
          "output_type": "execute_result",
          "data": {
            "text/plain": [
              "array([4.7947, 2.4749, 1.4808, 0.9681, 0.8714, 0.6559, 0.5011, 0.1045, 0.3242, 0.3123, 0.1641, 0.2342, 0.2124])"
            ]
          },
          "metadata": {
            "tags": []
          },
          "execution_count": 54
        }
      ]
    },
    {
      "cell_type": "code",
      "metadata": {
        "id": "DVXa-ueMKW2c",
        "colab_type": "code",
        "colab": {
          "base_uri": "https://localhost:8080/",
          "height": 246
        },
        "outputId": "29c7cc81-b755-49ea-f465-d203acb57147"
      },
      "source": [
        "eigen_vecs"
      ],
      "execution_count": 56,
      "outputs": [
        {
          "output_type": "execute_result",
          "data": {
            "text/plain": [
              "array([[-0.1327, -0.4931,  0.1911, -0.1039,  0.2605,  0.1897, -0.1334,  0.0484,  0.2382, -0.6155, -0.1556,  0.2542, -0.209 ],\n",
              "       [ 0.2642, -0.1936, -0.1004, -0.4078, -0.2411,  0.6196,  0.3838, -0.0192,  0.0523, -0.0143,  0.0054, -0.1639,  0.311 ],\n",
              "       [ 0.0346, -0.3029, -0.6257,  0.1217,  0.2869,  0.0684, -0.1323, -0.1759,  0.1044,  0.329 ,  0.0093,  0.4486,  0.212 ],\n",
              "       [ 0.2449,  0.0239, -0.6131, -0.0067, -0.1029, -0.0846, -0.255 ,  0.1558,  0.1907, -0.2668, -0.1175, -0.4996, -0.2924],\n",
              "       [-0.1147, -0.2768, -0.1346,  0.7006, -0.432 ,  0.0562,  0.3444,  0.0255, -0.2001, -0.217 ,  0.0531,  0.0403, -0.026 ],\n",
              "       [-0.3856, -0.0986, -0.17  , -0.2394,  0.0264, -0.0846, -0.0068, -0.4278, -0.5631, -0.1057, -0.4408, -0.1948,  0.0632],\n",
              "       [-0.4194, -0.0232, -0.1659, -0.1594, -0.0011,  0.0059, -0.052 ,  0.8157, -0.2021,  0.022 , -0.0036,  0.0493,  0.2422],\n",
              "       [ 0.3165, -0.0427, -0.1257, -0.1238,  0.4678, -0.3054,  0.6083,  0.1439, -0.2903, -0.1284,  0.1387,  0.044 , -0.2053],\n",
              "       [-0.302 , -0.0812, -0.1234, -0.3399, -0.3967, -0.4511,  0.3569, -0.0854,  0.4717,  0.0687, -0.0597,  0.1784, -0.1154],\n",
              "       [ 0.114 , -0.5244,  0.1302, -0.0945, -0.0616, -0.4138, -0.2259, -0.0735, -0.0699, -0.054 ,  0.4556, -0.2887,  0.395 ],\n",
              "       [-0.2965,  0.3109, -0.0864,  0.2163,  0.3682, -0.0126,  0.2322, -0.1368,  0.3676, -0.3073,  0.0516, -0.2633,  0.5012],\n",
              "       [-0.3877,  0.1273, -0.1889, -0.1626,  0.0087,  0.2653, -0.0427, -0.1908, -0.1139, -0.0811,  0.724 , -0.0029, -0.3449],\n",
              "       [-0.2666, -0.3794,  0.1427,  0.1464,  0.2796,  0.1394,  0.164 ,  0.0672,  0.1885,  0.5076, -0.0867, -0.4788, -0.2902]])"
            ]
          },
          "metadata": {
            "tags": []
          },
          "execution_count": 56
        }
      ]
    },
    {
      "cell_type": "code",
      "metadata": {
        "id": "zN_bsrSuKYOy",
        "colab_type": "code",
        "colab": {
          "base_uri": "https://localhost:8080/",
          "height": 285
        },
        "outputId": "19543f89-5810-4e4e-9742-cdf686b21fc5"
      },
      "source": [
        "# skumulowana suma wariancji\n",
        "total = sum(eigen_vals)\n",
        "var_exp = [(i / total) for i in sorted(eigen_vals, reverse=True)]\n",
        "cum_var_exp = np.cumsum(var_exp)\n",
        "\n",
        "# plot explained variances\n",
        "plt.bar(range(1,14), var_exp, alpha=0.5, align='center', label='individual explained variance')\n",
        "plt.plot(range(1,14), cum_var_exp, label='cumulative explained variance')\n",
        "plt.step(range(1,14), cum_var_exp, where='mid', label='cumulative explained variance - step')\n",
        "plt.ylabel('Explained variance ratio')\n",
        "plt.xlabel('Principal component index')\n",
        "plt.legend()\n",
        "plt.show()"
      ],
      "execution_count": 69,
      "outputs": [
        {
          "output_type": "display_data",
          "data": {
            "image/png": "[encoded data removed]",
            "text/plain": [
              "<Figure size 432x288 with 1 Axes>"
            ]
          },
          "metadata": {
            "tags": []
          }
        }
      ]
    },
    {
      "cell_type": "code",
      "metadata": {
        "id": "cZNyIS4wKhLo",
        "colab_type": "code",
        "colab": {}
      },
      "source": [
        "# Make a list of (eigenvalue, eigenvector) tuples\n",
        "eigen_pairs = [(np.abs(eigen_vals[i]), eigen_vecs[:, i]) for i in range(len(eigen_vals))]\n",
        "\n",
        "# Sort the (eigenvalue, eigenvector) tuples from high to low\n",
        "eigen_pairs.sort(key=lambda k: k[0], reverse=True)"
      ],
      "execution_count": 0,
      "outputs": []
    },
    {
      "cell_type": "code",
      "metadata": {
        "id": "QPEv2SvPMJz-",
        "colab_type": "code",
        "colab": {
          "base_uri": "https://localhost:8080/",
          "height": 263
        },
        "outputId": "14b22757-1cfb-4e04-cb4d-754f216e810d"
      },
      "source": [
        "w = np.hstack((eigen_pairs[0][1][:, np.newaxis], eigen_pairs[1][1][:, np.newaxis]))\n",
        "print('Matrix W:\\n', w)"
      ],
      "execution_count": 72,
      "outputs": [
        {
          "output_type": "stream",
          "text": [
            "Matrix W:\n",
            " [[-0.1327 -0.4931]\n",
            " [ 0.2642 -0.1936]\n",
            " [ 0.0346 -0.3029]\n",
            " [ 0.2449  0.0239]\n",
            " [-0.1147 -0.2768]\n",
            " [-0.3856 -0.0986]\n",
            " [-0.4194 -0.0232]\n",
            " [ 0.3165 -0.0427]\n",
            " [-0.302  -0.0812]\n",
            " [ 0.114  -0.5244]\n",
            " [-0.2965  0.3109]\n",
            " [-0.3877  0.1273]\n",
            " [-0.2666 -0.3794]]\n"
          ],
          "name": "stdout"
        }
      ]
    },
    {
      "cell_type": "code",
      "metadata": {
        "id": "f3FWv1D3MMX1",
        "colab_type": "code",
        "colab": {
          "base_uri": "https://localhost:8080/",
          "height": 34
        },
        "outputId": "d6102f4c-1f30-4a16-fe87-3e8f764a6593"
      },
      "source": [
        "X_train_std[0].dot(w)"
      ],
      "execution_count": 73,
      "outputs": [
        {
          "output_type": "execute_result",
          "data": {
            "text/plain": [
              "array([-2.1946, -1.6344])"
            ]
          },
          "metadata": {
            "tags": []
          },
          "execution_count": 73
        }
      ]
    },
    {
      "cell_type": "code",
      "metadata": {
        "id": "8wZNBE18MUFq",
        "colab_type": "code",
        "colab": {
          "base_uri": "https://localhost:8080/",
          "height": 1000
        },
        "outputId": "97277533-382d-4dfe-f913-a8309cc397e2"
      },
      "source": [
        "X_train_std.dot(w)"
      ],
      "execution_count": 74,
      "outputs": [
        {
          "output_type": "execute_result",
          "data": {
            "text/plain": [
              "array([[-2.1946, -1.6344],\n",
              "       [ 1.1489,  0.8529],\n",
              "       [-2.6297, -1.5355],\n",
              "       [ 0.4031,  2.0017],\n",
              "       [ 0.018 ,  2.0283],\n",
              "       [-1.3174, -0.6054],\n",
              "       [-1.0737, -0.1664],\n",
              "       [ 0.3819,  2.3643],\n",
              "       [ 2.6868, -0.2182],\n",
              "       [ 2.2224, -0.1383],\n",
              "       [ 2.1878, -0.8399],\n",
              "       [-1.9158,  1.2611],\n",
              "       [ 1.6904,  1.3366],\n",
              "       [-2.5072, -0.2445],\n",
              "       [ 2.7207, -2.433 ],\n",
              "       [-0.5638,  3.9403],\n",
              "       [ 1.3926,  1.6201],\n",
              "       [-0.4937, -0.2595],\n",
              "       [ 2.4382, -2.0576],\n",
              "       [ 0.3677,  1.9768],\n",
              "       [-1.3671, -0.6534],\n",
              "       [ 1.6573, -2.3251],\n",
              "       [ 0.6203,  1.1998],\n",
              "       [ 0.5452,  0.6437],\n",
              "       [ 2.3553, -1.9958],\n",
              "       [ 1.5014,  1.0841],\n",
              "       [-2.2422,  0.2886],\n",
              "       [-0.8989,  3.4244],\n",
              "       [ 1.7721,  1.0409],\n",
              "       [-2.8121, -0.8269],\n",
              "       [ 0.5939,  2.133 ],\n",
              "       [ 1.8442,  1.6813],\n",
              "       [ 0.5017,  2.5315],\n",
              "       [-0.5139,  2.2218],\n",
              "       [-1.768 ,  0.2886],\n",
              "       [ 0.8013,  0.3594],\n",
              "       [ 3.9349, -0.2755],\n",
              "       [ 2.3359, -0.1931],\n",
              "       [-1.1135,  1.4713],\n",
              "       [ 3.3823, -1.8708],\n",
              "       [-0.525 ,  2.1084],\n",
              "       [ 3.8719,  0.2331],\n",
              "       [-2.0185,  1.4701],\n",
              "       [-2.0477, -1.0255],\n",
              "       [-1.6068, -0.0775],\n",
              "       [-1.2786,  0.7805],\n",
              "       [-1.1142, -0.0617],\n",
              "       [-1.689 ,  0.9683],\n",
              "       [-1.154 ,  2.5771],\n",
              "       [ 2.3654, -0.0341],\n",
              "       [-2.2816, -0.2903],\n",
              "       [-3.0445, -1.2694],\n",
              "       [ 1.4917,  1.9971],\n",
              "       [-2.6358, -1.8359],\n",
              "       [ 0.707 ,  3.2305],\n",
              "       [ 3.4105, -1.0427],\n",
              "       [-1.2838,  0.0911],\n",
              "       [ 2.8667,  0.0711],\n",
              "       [-1.9694, -1.3058],\n",
              "       [-0.8653,  2.0802],\n",
              "       [-1.5409,  1.3402],\n",
              "       [-3.2306, -0.3054],\n",
              "       [-2.1454,  1.8831],\n",
              "       [-2.4564, -1.13  ],\n",
              "       [ 0.7567,  2.6582],\n",
              "       [ 3.0957, -0.4651],\n",
              "       [-2.7026, -1.5363],\n",
              "       [-2.5088, -1.0237],\n",
              "       [-1.5501,  0.7848],\n",
              "       [-2.7479, -0.9008],\n",
              "       [-1.7547, -0.7469],\n",
              "       [-2.1141, -1.9035],\n",
              "       [ 2.2668, -0.8767],\n",
              "       [-2.842 , -0.7839],\n",
              "       [-3.0846, -0.8774],\n",
              "       [ 1.0397,  1.9239],\n",
              "       [-1.232 , -0.2462],\n",
              "       [-1.7497, -0.6202],\n",
              "       [ 1.2854,  0.0965],\n",
              "       [ 3.548 , -0.9428],\n",
              "       [-2.0961, -0.7301],\n",
              "       [-2.9589, -2.2388],\n",
              "       [-0.3315,  2.4829],\n",
              "       [-1.7668, -1.6192],\n",
              "       [-0.033 ,  2.1407],\n",
              "       [-4.2131, -2.3149],\n",
              "       [-0.9267,  2.4545],\n",
              "       [ 0.7313,  2.3963],\n",
              "       [ 1.2609,  2.2447],\n",
              "       [ 2.2256, -1.8178],\n",
              "       [ 3.6006, -1.5033],\n",
              "       [-1.0877,  1.4127],\n",
              "       [-0.2235,  2.2816],\n",
              "       [-1.8026, -1.6423],\n",
              "       [ 3.4859, -0.5574],\n",
              "       [ 3.2619, -2.4818],\n",
              "       [ 2.5644, -0.3945],\n",
              "       [-3.2399, -1.5688],\n",
              "       [-3.6667, -2.9448],\n",
              "       [ 1.1439, -3.4816],\n",
              "       [ 2.4923,  0.2876],\n",
              "       [ 2.3048,  0.6023],\n",
              "       [ 0.4131,  2.4941],\n",
              "       [-2.5427,  0.0057],\n",
              "       [ 2.7832, -1.325 ],\n",
              "       [ 0.3454,  0.7216],\n",
              "       [ 3.0301, -0.1117],\n",
              "       [-1.1042, -1.7187],\n",
              "       [ 2.7851, -1.9363],\n",
              "       [-3.3923, -1.3365],\n",
              "       [ 1.8264, -1.273 ],\n",
              "       [-0.8963,  0.8047],\n",
              "       [-2.5542, -0.8957],\n",
              "       [-0.4082,  1.1109],\n",
              "       [-3.0879, -1.853 ],\n",
              "       [-0.8575,  2.3667],\n",
              "       [-2.4258, -1.3922],\n",
              "       [-2.4172, -1.2837],\n",
              "       [ 2.5557, -0.3211],\n",
              "       [ 2.477 , -1.9673],\n",
              "       [-0.8644, -0.881 ],\n",
              "       [-2.3809,  1.7391],\n",
              "       [-0.9068,  1.4524],\n",
              "       [ 4.1788, -0.2495],\n",
              "       [ 2.484 , -2.2581],\n",
              "       [ 2.5571, -1.7165],\n",
              "       [ 2.7665, -0.0184],\n",
              "       [-2.132 , -1.0423],\n",
              "       [ 2.9073, -0.957 ],\n",
              "       [ 2.8619, -0.2632],\n",
              "       [-2.1388, -0.0236],\n",
              "       [ 2.908 , -1.6771],\n",
              "       [ 2.88  , -1.6715]])"
            ]
          },
          "metadata": {
            "tags": []
          },
          "execution_count": 74
        }
      ]
    },
    {
      "cell_type": "code",
      "metadata": {
        "id": "7dq2snfkMZsx",
        "colab_type": "code",
        "colab": {}
      },
      "source": [
        ""
      ],
      "execution_count": 0,
      "outputs": []
    }
  ]
}