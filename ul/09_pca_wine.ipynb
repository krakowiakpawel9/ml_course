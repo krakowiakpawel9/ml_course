{
  "nbformat": 4,
  "nbformat_minor": 0,
  "metadata": {
    "colab": {
      "name": "Untitled71.ipynb",
      "provenance": [],
      "include_colab_link": true
    },
    "kernelspec": {
      "name": "python3",
      "display_name": "Python 3"
    }
  },
  "cells": [
    {
      "cell_type": "markdown",
      "metadata": {
        "id": "view-in-github",
        "colab_type": "text"
      },
      "source": [
        "<a href=\"https://colab.research.google.com/github/krakowiakpawel9/ml_course/blob/master/ul/09_pca_wine.ipynb\" target=\"_parent\"><img src=\"https://colab.research.google.com/assets/colab-badge.svg\" alt=\"Open In Colab\"/></a>"
      ]
    },
    {
      "cell_type": "markdown",
      "metadata": {
        "id": "C80St0V-_VIi",
        "colab_type": "text"
      },
      "source": [
        "### scikit-learn\n",
        "Strona biblioteki: [https://scikit-learn.org](https://scikit-learn.org)  \n",
        "\n",
        "Dokumentacja/User Guide: [https://scikit-learn.org/stable/user_guide.html](https://scikit-learn.org/stable/user_guide.html)\n",
        "\n",
        "Podstawowa biblioteka do uczenia maszynowego w języku Python.\n",
        "\n",
        "Aby zainstalować bibliotekę scikit-learn, użyj polecenia poniżej:\n",
        "```\n",
        "!pip install scikit-learn\n",
        "```\n",
        "Aby zaktualizować do najnowszej wersji bibliotekę scikit-learn, użyj polecenia poniżej:\n",
        "```\n",
        "!pip install --upgrade scikit-learn\n",
        "```\n",
        "Kurs stworzony w oparciu o wersję `0.22.1`\n",
        "\n",
        "### Spis treści:\n",
        "1. [Import bibliotek](#0)\n",
        "2. [Wygenerowanie danych](#1)\n",
        "3. [Wizualizacja danych](#2)\n",
        "4. [Algorytm K-średnich](#3)\n",
        "5. [Wizualizacja klastrów](#4)\n",
        "\n",
        "\n"
      ]
    },
    {
      "cell_type": "markdown",
      "metadata": {
        "id": "dCogYvFX_YD4",
        "colab_type": "text"
      },
      "source": [
        "### <a name='0'></a> Import bibliotek"
      ]
    },
    {
      "cell_type": "code",
      "metadata": {
        "id": "EqD-NhQ1Ie_y",
        "colab_type": "code",
        "colab": {}
      },
      "source": [
        "import pandas as pd\n",
        "import numpy as np\n",
        "import matplotlib.pyplot as plt\n",
        "import seaborn as sns\n",
        "\n",
        "sns.set()\n",
        "np.set_printoptions(precision=4, suppress=True, edgeitems=5, linewidth=200)"
      ],
      "execution_count": 0,
      "outputs": []
    },
    {
      "cell_type": "code",
      "metadata": {
        "id": "Tvfl2t_eIgRu",
        "colab_type": "code",
        "outputId": "06edc63a-8513-41a6-8ef9-992a9125f9a2",
        "colab": {
          "base_uri": "https://localhost:8080/",
          "height": 202
        }
      },
      "source": [
        "df_raw = pd.read_csv('https://archive.ics.uci.edu/ml/machine-learning-databases/wine/wine.data', header=None)\n",
        "df = df_raw.copy()\n",
        "df.head()"
      ],
      "execution_count": 0,
      "outputs": [
        {
          "output_type": "execute_result",
          "data": {
            "text/html": [
              "<div>\n",
              "<style scoped>\n",
              "    .dataframe tbody tr th:only-of-type {\n",
              "        vertical-align: middle;\n",
              "    }\n",
              "\n",
              "    .dataframe tbody tr th {\n",
              "        vertical-align: top;\n",
              "    }\n",
              "\n",
              "    .dataframe thead th {\n",
              "        text-align: right;\n",
              "    }\n",
              "</style>\n",
              "<table border=\"1\" class=\"dataframe\">\n",
              "  <thead>\n",
              "    <tr style=\"text-align: right;\">\n",
              "      <th></th>\n",
              "      <th>0</th>\n",
              "      <th>1</th>\n",
              "      <th>2</th>\n",
              "      <th>3</th>\n",
              "      <th>4</th>\n",
              "      <th>5</th>\n",
              "      <th>6</th>\n",
              "      <th>7</th>\n",
              "      <th>8</th>\n",
              "      <th>9</th>\n",
              "      <th>10</th>\n",
              "      <th>11</th>\n",
              "      <th>12</th>\n",
              "      <th>13</th>\n",
              "    </tr>\n",
              "  </thead>\n",
              "  <tbody>\n",
              "    <tr>\n",
              "      <th>0</th>\n",
              "      <td>1</td>\n",
              "      <td>14.23</td>\n",
              "      <td>1.71</td>\n",
              "      <td>2.43</td>\n",
              "      <td>15.6</td>\n",
              "      <td>127</td>\n",
              "      <td>2.80</td>\n",
              "      <td>3.06</td>\n",
              "      <td>0.28</td>\n",
              "      <td>2.29</td>\n",
              "      <td>5.64</td>\n",
              "      <td>1.04</td>\n",
              "      <td>3.92</td>\n",
              "      <td>1065</td>\n",
              "    </tr>\n",
              "    <tr>\n",
              "      <th>1</th>\n",
              "      <td>1</td>\n",
              "      <td>13.20</td>\n",
              "      <td>1.78</td>\n",
              "      <td>2.14</td>\n",
              "      <td>11.2</td>\n",
              "      <td>100</td>\n",
              "      <td>2.65</td>\n",
              "      <td>2.76</td>\n",
              "      <td>0.26</td>\n",
              "      <td>1.28</td>\n",
              "      <td>4.38</td>\n",
              "      <td>1.05</td>\n",
              "      <td>3.40</td>\n",
              "      <td>1050</td>\n",
              "    </tr>\n",
              "    <tr>\n",
              "      <th>2</th>\n",
              "      <td>1</td>\n",
              "      <td>13.16</td>\n",
              "      <td>2.36</td>\n",
              "      <td>2.67</td>\n",
              "      <td>18.6</td>\n",
              "      <td>101</td>\n",
              "      <td>2.80</td>\n",
              "      <td>3.24</td>\n",
              "      <td>0.30</td>\n",
              "      <td>2.81</td>\n",
              "      <td>5.68</td>\n",
              "      <td>1.03</td>\n",
              "      <td>3.17</td>\n",
              "      <td>1185</td>\n",
              "    </tr>\n",
              "    <tr>\n",
              "      <th>3</th>\n",
              "      <td>1</td>\n",
              "      <td>14.37</td>\n",
              "      <td>1.95</td>\n",
              "      <td>2.50</td>\n",
              "      <td>16.8</td>\n",
              "      <td>113</td>\n",
              "      <td>3.85</td>\n",
              "      <td>3.49</td>\n",
              "      <td>0.24</td>\n",
              "      <td>2.18</td>\n",
              "      <td>7.80</td>\n",
              "      <td>0.86</td>\n",
              "      <td>3.45</td>\n",
              "      <td>1480</td>\n",
              "    </tr>\n",
              "    <tr>\n",
              "      <th>4</th>\n",
              "      <td>1</td>\n",
              "      <td>13.24</td>\n",
              "      <td>2.59</td>\n",
              "      <td>2.87</td>\n",
              "      <td>21.0</td>\n",
              "      <td>118</td>\n",
              "      <td>2.80</td>\n",
              "      <td>2.69</td>\n",
              "      <td>0.39</td>\n",
              "      <td>1.82</td>\n",
              "      <td>4.32</td>\n",
              "      <td>1.04</td>\n",
              "      <td>2.93</td>\n",
              "      <td>735</td>\n",
              "    </tr>\n",
              "  </tbody>\n",
              "</table>\n",
              "</div>"
            ],
            "text/plain": [
              "   0      1     2     3     4    5   ...    8     9     10    11    12    13\n",
              "0   1  14.23  1.71  2.43  15.6  127  ...  0.28  2.29  5.64  1.04  3.92  1065\n",
              "1   1  13.20  1.78  2.14  11.2  100  ...  0.26  1.28  4.38  1.05  3.40  1050\n",
              "2   1  13.16  2.36  2.67  18.6  101  ...  0.30  2.81  5.68  1.03  3.17  1185\n",
              "3   1  14.37  1.95  2.50  16.8  113  ...  0.24  2.18  7.80  0.86  3.45  1480\n",
              "4   1  13.24  2.59  2.87  21.0  118  ...  0.39  1.82  4.32  1.04  2.93   735\n",
              "\n",
              "[5 rows x 14 columns]"
            ]
          },
          "metadata": {
            "tags": []
          },
          "execution_count": 2
        }
      ]
    },
    {
      "cell_type": "code",
      "metadata": {
        "id": "2JenZ_1PJWMy",
        "colab_type": "code",
        "outputId": "6e66891c-1afe-4000-de12-fd03bc438136",
        "colab": {
          "base_uri": "https://localhost:8080/",
          "height": 202
        }
      },
      "source": [
        "data = df.iloc[:, 1:]\n",
        "target = df.iloc[:, 0]\n",
        "\n",
        "data.head()"
      ],
      "execution_count": 0,
      "outputs": [
        {
          "output_type": "execute_result",
          "data": {
            "text/html": [
              "<div>\n",
              "<style scoped>\n",
              "    .dataframe tbody tr th:only-of-type {\n",
              "        vertical-align: middle;\n",
              "    }\n",
              "\n",
              "    .dataframe tbody tr th {\n",
              "        vertical-align: top;\n",
              "    }\n",
              "\n",
              "    .dataframe thead th {\n",
              "        text-align: right;\n",
              "    }\n",
              "</style>\n",
              "<table border=\"1\" class=\"dataframe\">\n",
              "  <thead>\n",
              "    <tr style=\"text-align: right;\">\n",
              "      <th></th>\n",
              "      <th>1</th>\n",
              "      <th>2</th>\n",
              "      <th>3</th>\n",
              "      <th>4</th>\n",
              "      <th>5</th>\n",
              "      <th>6</th>\n",
              "      <th>7</th>\n",
              "      <th>8</th>\n",
              "      <th>9</th>\n",
              "      <th>10</th>\n",
              "      <th>11</th>\n",
              "      <th>12</th>\n",
              "      <th>13</th>\n",
              "    </tr>\n",
              "  </thead>\n",
              "  <tbody>\n",
              "    <tr>\n",
              "      <th>0</th>\n",
              "      <td>14.23</td>\n",
              "      <td>1.71</td>\n",
              "      <td>2.43</td>\n",
              "      <td>15.6</td>\n",
              "      <td>127</td>\n",
              "      <td>2.80</td>\n",
              "      <td>3.06</td>\n",
              "      <td>0.28</td>\n",
              "      <td>2.29</td>\n",
              "      <td>5.64</td>\n",
              "      <td>1.04</td>\n",
              "      <td>3.92</td>\n",
              "      <td>1065</td>\n",
              "    </tr>\n",
              "    <tr>\n",
              "      <th>1</th>\n",
              "      <td>13.20</td>\n",
              "      <td>1.78</td>\n",
              "      <td>2.14</td>\n",
              "      <td>11.2</td>\n",
              "      <td>100</td>\n",
              "      <td>2.65</td>\n",
              "      <td>2.76</td>\n",
              "      <td>0.26</td>\n",
              "      <td>1.28</td>\n",
              "      <td>4.38</td>\n",
              "      <td>1.05</td>\n",
              "      <td>3.40</td>\n",
              "      <td>1050</td>\n",
              "    </tr>\n",
              "    <tr>\n",
              "      <th>2</th>\n",
              "      <td>13.16</td>\n",
              "      <td>2.36</td>\n",
              "      <td>2.67</td>\n",
              "      <td>18.6</td>\n",
              "      <td>101</td>\n",
              "      <td>2.80</td>\n",
              "      <td>3.24</td>\n",
              "      <td>0.30</td>\n",
              "      <td>2.81</td>\n",
              "      <td>5.68</td>\n",
              "      <td>1.03</td>\n",
              "      <td>3.17</td>\n",
              "      <td>1185</td>\n",
              "    </tr>\n",
              "    <tr>\n",
              "      <th>3</th>\n",
              "      <td>14.37</td>\n",
              "      <td>1.95</td>\n",
              "      <td>2.50</td>\n",
              "      <td>16.8</td>\n",
              "      <td>113</td>\n",
              "      <td>3.85</td>\n",
              "      <td>3.49</td>\n",
              "      <td>0.24</td>\n",
              "      <td>2.18</td>\n",
              "      <td>7.80</td>\n",
              "      <td>0.86</td>\n",
              "      <td>3.45</td>\n",
              "      <td>1480</td>\n",
              "    </tr>\n",
              "    <tr>\n",
              "      <th>4</th>\n",
              "      <td>13.24</td>\n",
              "      <td>2.59</td>\n",
              "      <td>2.87</td>\n",
              "      <td>21.0</td>\n",
              "      <td>118</td>\n",
              "      <td>2.80</td>\n",
              "      <td>2.69</td>\n",
              "      <td>0.39</td>\n",
              "      <td>1.82</td>\n",
              "      <td>4.32</td>\n",
              "      <td>1.04</td>\n",
              "      <td>2.93</td>\n",
              "      <td>735</td>\n",
              "    </tr>\n",
              "  </tbody>\n",
              "</table>\n",
              "</div>"
            ],
            "text/plain": [
              "      1     2     3     4    5     6     7     8     9     10    11    12    13\n",
              "0  14.23  1.71  2.43  15.6  127  2.80  3.06  0.28  2.29  5.64  1.04  3.92  1065\n",
              "1  13.20  1.78  2.14  11.2  100  2.65  2.76  0.26  1.28  4.38  1.05  3.40  1050\n",
              "2  13.16  2.36  2.67  18.6  101  2.80  3.24  0.30  2.81  5.68  1.03  3.17  1185\n",
              "3  14.37  1.95  2.50  16.8  113  3.85  3.49  0.24  2.18  7.80  0.86  3.45  1480\n",
              "4  13.24  2.59  2.87  21.0  118  2.80  2.69  0.39  1.82  4.32  1.04  2.93   735"
            ]
          },
          "metadata": {
            "tags": []
          },
          "execution_count": 3
        }
      ]
    },
    {
      "cell_type": "code",
      "metadata": {
        "id": "8t0ug5duJeuO",
        "colab_type": "code",
        "outputId": "d554ce8b-6570-48be-c248-3e1b5079da32",
        "colab": {
          "base_uri": "https://localhost:8080/",
          "height": 121
        }
      },
      "source": [
        "target.head()"
      ],
      "execution_count": 0,
      "outputs": [
        {
          "output_type": "execute_result",
          "data": {
            "text/plain": [
              "0    1\n",
              "1    1\n",
              "2    1\n",
              "3    1\n",
              "4    1\n",
              "Name: 0, dtype: int64"
            ]
          },
          "metadata": {
            "tags": []
          },
          "execution_count": 4
        }
      ]
    },
    {
      "cell_type": "code",
      "metadata": {
        "id": "ArjDd8phJDGE",
        "colab_type": "code",
        "outputId": "f61b7a27-934b-4a8e-b950-334753f80838",
        "colab": {
          "base_uri": "https://localhost:8080/",
          "height": 52
        }
      },
      "source": [
        "from sklearn.model_selection import train_test_split\n",
        "\n",
        "X_train, X_test, y_train, y_test = train_test_split(data, target)\n",
        "\n",
        "print(f'X_train shape: {X_train.shape}')\n",
        "print(f'X_test shape: {X_test.shape}')"
      ],
      "execution_count": 0,
      "outputs": [
        {
          "output_type": "stream",
          "text": [
            "X_train shape: (133, 13)\n",
            "X_test shape: (45, 13)\n"
          ],
          "name": "stdout"
        }
      ]
    },
    {
      "cell_type": "code",
      "metadata": {
        "id": "9FRqLsLaImpX",
        "colab_type": "code",
        "outputId": "059102e3-116f-4d6d-ee9b-55f2682872ab",
        "colab": {
          "base_uri": "https://localhost:8080/",
          "height": 208
        }
      },
      "source": [
        "from sklearn.preprocessing import StandardScaler\n",
        "\n",
        "scaler = StandardScaler()\n",
        "X_train_std = scaler.fit_transform(X_train)\n",
        "X_test_std = scaler.transform(X_test)\n",
        "X_train_std"
      ],
      "execution_count": 0,
      "outputs": [
        {
          "output_type": "execute_result",
          "data": {
            "text/plain": [
              "array([[ 1.0814, -0.9347, -0.464 , -1.1174, -0.1167, ...,  0.4618,  0.8958,  0.2591,  1.3878,  0.9301],\n",
              "       [ 1.0568,  1.4974, -0.0521, -0.0478, -0.7754, ..., -0.0282,  1.6692, -1.5938, -1.2312, -0.8557],\n",
              "       [-1.5005,  0.233 ,  1.9702,  0.105 ,  0.2493, ..., -0.89  , -0.5819,  1.1856, -0.052 , -0.4543],\n",
              "       [ 0.9215,  1.7081, -0.5015,  0.869 , -0.8486, ..., -0.721 ,  0.6366, -0.7094, -1.0803, -0.7293],\n",
              "       [ 0.3929, -0.6098, -0.9509, -0.8118, -0.4094, ..., -0.3831, -0.5171,  0.3012,  0.3183,  1.6887],\n",
              "       ...,\n",
              "       [ 0.1593, -1.2332, -2.5986, -1.423 , -1.5805, ...,  1.1885,  0.0662,  0.7224,  0.8804, -0.7862],\n",
              "       [ 1.3764, -0.3464,  0.0228, -0.2617,  0.2493, ...,  1.3574,  0.4551,  0.5118,  0.2908,  0.9775],\n",
              "       [ 0.8601, -0.5133, -0.127 , -0.7507,  0.3225, ...,  0.6646, -0.5646,  1.1856,  0.4554,  0.7563],\n",
              "       [-0.062 ,  0.3472,  1.1463,  0.4106, -0.2631, ..., -1.397 , -0.2362, -0.7515, -0.3125, -0.4764],\n",
              "       [ 0.3806, -0.3903,  1.0714, -0.8729,  0.1761, ...,  0.1408,  0.3687,  0.5118,  0.4142,  1.6413]])"
            ]
          },
          "metadata": {
            "tags": []
          },
          "execution_count": 6
        }
      ]
    },
    {
      "cell_type": "code",
      "metadata": {
        "id": "qL4W4dANI_E3",
        "colab_type": "code",
        "outputId": "21b051b0-a5de-4807-fe47-bc8d43981e68",
        "colab": {
          "base_uri": "https://localhost:8080/",
          "height": 243
        }
      },
      "source": [
        "cov_mat = np.cov(X_train_std.T)\n",
        "cov_mat"
      ],
      "execution_count": 0,
      "outputs": [
        {
          "output_type": "execute_result",
          "data": {
            "text/plain": [
              "array([[ 1.0076,  0.1089,  0.1414, -0.3335,  0.2458,  0.2478,  0.2245, -0.1842,  0.1179,  0.5331, -0.0682,  0.0963,  0.6725],\n",
              "       [ 0.1089,  1.0076,  0.1471,  0.3371, -0.0707, -0.3723, -0.4627,  0.3063, -0.2569,  0.2962, -0.5786, -0.4007, -0.2328],\n",
              "       [ 0.1414,  0.1471,  1.0076,  0.4406,  0.31  ,  0.115 ,  0.1634,  0.1031,  0.041 ,  0.2049,  0.0067,  0.1079,  0.2182],\n",
              "       [-0.3335,  0.3371,  0.4406,  1.0076,  0.0116, -0.3235, -0.3282,  0.3103, -0.2292,  0.0098, -0.2488, -0.2229, -0.4162],\n",
              "       [ 0.2458, -0.0707,  0.31  ,  0.0116,  1.0076,  0.2123,  0.2299, -0.2863,  0.2761,  0.1925,  0.0496,  0.0647,  0.3449],\n",
              "       [ 0.2478, -0.3723,  0.115 , -0.3235,  0.2123,  1.0076,  0.88  , -0.4757,  0.654 , -0.0999,  0.4747,  0.7567,  0.5275],\n",
              "       [ 0.2245, -0.4627,  0.1634, -0.3282,  0.2299,  0.88  ,  1.0076, -0.5467,  0.6874, -0.186 ,  0.5781,  0.8158,  0.5162],\n",
              "       [-0.1842,  0.3063,  0.1031,  0.3103, -0.2863, -0.4757, -0.5467,  1.0076, -0.3623,  0.1501, -0.2222, -0.4923, -0.3284],\n",
              "       [ 0.1179, -0.2569,  0.041 , -0.2292,  0.2761,  0.654 ,  0.6874, -0.3623,  1.0076, -0.0837,  0.3562,  0.5696,  0.3757],\n",
              "       [ 0.5331,  0.2962,  0.2049,  0.0098,  0.1925, -0.0999, -0.186 ,  0.1501, -0.0837,  1.0076, -0.5401, -0.4241,  0.3103],\n",
              "       [-0.0682, -0.5786,  0.0067, -0.2488,  0.0496,  0.4747,  0.5781, -0.2222,  0.3562, -0.5401,  1.0076,  0.5813,  0.2455],\n",
              "       [ 0.0963, -0.4007,  0.1079, -0.2229,  0.0647,  0.7567,  0.8158, -0.4923,  0.5696, -0.4241,  0.5813,  1.0076,  0.3333],\n",
              "       [ 0.6725, -0.2328,  0.2182, -0.4162,  0.3449,  0.5275,  0.5162, -0.3284,  0.3757,  0.3103,  0.2455,  0.3333,  1.0076]])"
            ]
          },
          "metadata": {
            "tags": []
          },
          "execution_count": 7
        }
      ]
    },
    {
      "cell_type": "code",
      "metadata": {
        "id": "-qdrpS-vJ2NI",
        "colab_type": "code",
        "colab": {}
      },
      "source": [
        "eigen_vals, eigen_vecs = np.linalg.eig(cov_mat)"
      ],
      "execution_count": 0,
      "outputs": []
    },
    {
      "cell_type": "code",
      "metadata": {
        "id": "RfQR5rYEJ5pS",
        "colab_type": "code",
        "outputId": "c551712a-ec4f-4270-dfd2-c8945c8ebc87",
        "colab": {
          "base_uri": "https://localhost:8080/",
          "height": 35
        }
      },
      "source": [
        "eigen_vals"
      ],
      "execution_count": 0,
      "outputs": [
        {
          "output_type": "execute_result",
          "data": {
            "text/plain": [
              "array([4.8769, 2.4249, 1.5609, 0.8947, 0.8665, 0.6372, 0.5197, 0.0963, 0.1346, 0.3239, 0.2908, 0.2376, 0.2346])"
            ]
          },
          "metadata": {
            "tags": []
          },
          "execution_count": 9
        }
      ]
    },
    {
      "cell_type": "code",
      "metadata": {
        "id": "DVXa-ueMKW2c",
        "colab_type": "code",
        "outputId": "fba6a5fe-b228-44a9-bc8d-31960d993ed9",
        "colab": {
          "base_uri": "https://localhost:8080/",
          "height": 243
        }
      },
      "source": [
        "eigen_vecs"
      ],
      "execution_count": 0,
      "outputs": [
        {
          "output_type": "execute_result",
          "data": {
            "text/plain": [
              "array([[-0.1341, -0.4997, -0.221 ,  0.2246, -0.0054,  0.2652,  0.2125,  0.0364, -0.3527, -0.3796, -0.2136,  0.4196, -0.1614],\n",
              "       [ 0.2583, -0.2343,  0.134 , -0.0022, -0.5794,  0.1289,  0.5969, -0.0651,  0.1423,  0.1023,  0.0348, -0.3223, -0.1088],\n",
              "       [-0.0289, -0.2556,  0.6322,  0.2518,  0.171 ,  0.1952, -0.0947,  0.1348, -0.1293,  0.3956,  0.373 ,  0.1652, -0.1912],\n",
              "       [ 0.2138,  0.0305,  0.6135, -0.0356, -0.0739,  0.0795, -0.2224, -0.0654, -0.0469, -0.6459, -0.1947, -0.1384,  0.1837],\n",
              "       [-0.1369, -0.2936,  0.2491, -0.6208,  0.4147, -0.1698,  0.3479, -0.0253,  0.0845,  0.1208, -0.3054,  0.0636,  0.0783],\n",
              "       [-0.3983, -0.0412,  0.0805,  0.0954, -0.239 , -0.1006, -0.1351,  0.4649, -0.358 ,  0.22  , -0.4361, -0.3811,  0.1022],\n",
              "       [-0.4226,  0.0034,  0.1138,  0.068 , -0.1428, -0.0195, -0.1218, -0.8283, -0.1158,  0.1305, -0.1484, -0.0775, -0.1538],\n",
              "       [ 0.286 ,  0.0152,  0.103 ,  0.5776,  0.1556, -0.5522,  0.2347, -0.1161,  0.0093,  0.1257, -0.2971,  0.1521,  0.2207],\n",
              "       [-0.3263, -0.0271,  0.1139, -0.1352, -0.323 , -0.64  ,  0.086 ,  0.1143, -0.0875, -0.2715,  0.439 ,  0.2165, -0.0792],\n",
              "       [ 0.1026, -0.5431, -0.1014,  0.0536, -0.0256, -0.2516, -0.4523,  0.0502,  0.475 , -0.0329, -0.1398, -0.1579, -0.373 ],\n",
              "       [-0.2995,  0.2836,  0.0686,  0.2666,  0.3826,  0.0155,  0.3381,  0.1195,  0.1924, -0.2887,  0.0037, -0.3385, -0.4939],\n",
              "       [-0.3778,  0.1484,  0.1526,  0.1267, -0.2533,  0.2159,  0.0347,  0.1367,  0.6285,  0.0344, -0.214 ,  0.4274,  0.2015],\n",
              "       [-0.2856, -0.378 , -0.1171,  0.2095,  0.2012,  0.0682,  0.0592, -0.0842,  0.1493, -0.129 ,  0.3525, -0.3552,  0.6107]])"
            ]
          },
          "metadata": {
            "tags": []
          },
          "execution_count": 10
        }
      ]
    },
    {
      "cell_type": "code",
      "metadata": {
        "id": "zN_bsrSuKYOy",
        "colab_type": "code",
        "outputId": "96e9188a-0a62-4a7d-ba6f-222396d4ef3f",
        "colab": {
          "base_uri": "https://localhost:8080/",
          "height": 285
        }
      },
      "source": [
        "# skumulowana suma wariancji\n",
        "total = sum(eigen_vals)\n",
        "var_exp = [(i / total) for i in sorted(eigen_vals, reverse=True)]\n",
        "cum_var_exp = np.cumsum(var_exp)\n",
        "\n",
        "# plot explained variances\n",
        "plt.bar(range(1,14), var_exp, alpha=0.5, align='center', label='individual explained variance')\n",
        "plt.plot(range(1,14), cum_var_exp, label='cumulative explained variance')\n",
        "plt.step(range(1,14), cum_var_exp, where='mid', label='cumulative explained variance - step')\n",
        "plt.ylabel('Explained variance ratio')\n",
        "plt.xlabel('Principal component index')\n",
        "plt.legend()\n",
        "plt.show()"
      ],
      "execution_count": 0,
      "outputs": [
        {
          "output_type": "display_data",
          "data": {
            "image/png": "[encoded data removed]",
            "text/plain": [
              "<Figure size 432x288 with 1 Axes>"
            ]
          },
          "metadata": {
            "tags": []
          }
        }
      ]
    },
    {
      "cell_type": "code",
      "metadata": {
        "id": "cZNyIS4wKhLo",
        "colab_type": "code",
        "colab": {}
      },
      "source": [
        "# Make a list of (eigenvalue, eigenvector) tuples\n",
        "eigen_pairs = [(np.abs(eigen_vals[i]), eigen_vecs[:, i]) for i in range(len(eigen_vals))]\n",
        "\n",
        "# Sort the (eigenvalue, eigenvector) tuples from high to low\n",
        "eigen_pairs.sort(key=lambda k: k[0], reverse=True)"
      ],
      "execution_count": 0,
      "outputs": []
    },
    {
      "cell_type": "code",
      "metadata": {
        "id": "QPEv2SvPMJz-",
        "colab_type": "code",
        "outputId": "8a0b91e4-6eb3-493a-e9d5-b23f4ecb7e98",
        "colab": {
          "base_uri": "https://localhost:8080/",
          "height": 260
        }
      },
      "source": [
        "w = np.hstack((eigen_pairs[0][1][:, np.newaxis], eigen_pairs[1][1][:, np.newaxis]))\n",
        "print('Matrix W:\\n', w)"
      ],
      "execution_count": 0,
      "outputs": [
        {
          "output_type": "stream",
          "text": [
            "Matrix W:\n",
            " [[-0.1341 -0.4997]\n",
            " [ 0.2583 -0.2343]\n",
            " [-0.0289 -0.2556]\n",
            " [ 0.2138  0.0305]\n",
            " [-0.1369 -0.2936]\n",
            " [-0.3983 -0.0412]\n",
            " [-0.4226  0.0034]\n",
            " [ 0.286   0.0152]\n",
            " [-0.3263 -0.0271]\n",
            " [ 0.1026 -0.5431]\n",
            " [-0.2995  0.2836]\n",
            " [-0.3778  0.1484]\n",
            " [-0.2856 -0.378 ]]\n"
          ],
          "name": "stdout"
        }
      ]
    },
    {
      "cell_type": "code",
      "metadata": {
        "id": "f3FWv1D3MMX1",
        "colab_type": "code",
        "outputId": "f2abeea4-20e1-4fcf-a74b-a72c419da93c",
        "colab": {
          "base_uri": "https://localhost:8080/",
          "height": 35
        }
      },
      "source": [
        "X_train_std[0].dot(w)"
      ],
      "execution_count": 0,
      "outputs": [
        {
          "output_type": "execute_result",
          "data": {
            "text/plain": [
              "array([-2.7863, -0.8341])"
            ]
          },
          "metadata": {
            "tags": []
          },
          "execution_count": 14
        }
      ]
    },
    {
      "cell_type": "code",
      "metadata": {
        "id": "8wZNBE18MUFq",
        "colab_type": "code",
        "outputId": "6cf9a0a1-c514-4bd2-92bc-3fcee455d326",
        "colab": {
          "base_uri": "https://localhost:8080/",
          "height": 1000
        }
      },
      "source": [
        "X_train_std.dot(w)"
      ],
      "execution_count": 0,
      "outputs": [
        {
          "output_type": "execute_result",
          "data": {
            "text/plain": [
              "array([[-2.7863, -0.8341],\n",
              "       [ 2.7232, -1.8165],\n",
              "       [ 1.0511,  1.0237],\n",
              "       [ 3.3403, -0.7917],\n",
              "       [-1.3176,  0.0506],\n",
              "       [ 2.9664, -2.5365],\n",
              "       [-0.8976,  1.5342],\n",
              "       [-3.5181, -1.3318],\n",
              "       [ 1.3579,  1.5196],\n",
              "       [ 2.4141, -0.6432],\n",
              "       [ 0.2394,  2.4662],\n",
              "       [-2.404 , -1.6027],\n",
              "       [-1.2229, -1.7628],\n",
              "       [ 2.5261, -2.725 ],\n",
              "       [ 0.4162,  2.0484],\n",
              "       [-0.737 , -0.2021],\n",
              "       [-3.4847, -1.0692],\n",
              "       [-1.2003, -0.6731],\n",
              "       [ 0.5236,  2.7249],\n",
              "       [ 2.3939, -1.6273],\n",
              "       [-1.5068,  1.4567],\n",
              "       [-1.517 ,  2.3001],\n",
              "       [-1.1066,  2.5617],\n",
              "       [-1.5343, -0.5347],\n",
              "       [-2.301 , -2.2213],\n",
              "       [-3.1639, -0.8229],\n",
              "       [-2.5152, -1.1886],\n",
              "       [ 2.4365, -0.5051],\n",
              "       [ 2.1177, -2.2826],\n",
              "       [-0.0594,  1.9916],\n",
              "       [-2.7401, -1.7652],\n",
              "       [ 2.1949, -2.1886],\n",
              "       [-0.1088,  1.198 ],\n",
              "       [-1.8967,  0.384 ],\n",
              "       [-2.1614,  0.0598],\n",
              "       [ 1.3383,  2.0077],\n",
              "       [ 2.2111, -2.4666],\n",
              "       [ 2.7748, -1.2368],\n",
              "       [ 1.699 ,  0.8887],\n",
              "       [ 2.1525, -2.4468],\n",
              "       [ 1.5976,  1.2915],\n",
              "       [-0.8568,  2.344 ],\n",
              "       [ 1.1554, -0.1661],\n",
              "       [ 0.8978,  2.8898],\n",
              "       [-1.5933,  0.1161],\n",
              "       [-2.6378, -0.9165],\n",
              "       [-0.5019,  2.0813],\n",
              "       [-3.8015, -2.729 ],\n",
              "       [-1.3634,  0.7545],\n",
              "       [ 2.1072, -0.3479],\n",
              "       [ 0.2797,  2.0921],\n",
              "       [-2.7912, -1.4468],\n",
              "       [-4.3132, -2.1008],\n",
              "       [ 0.7632,  2.4105],\n",
              "       [-2.75  , -0.1319],\n",
              "       [ 0.8971,  1.9697],\n",
              "       [ 0.1391,  1.9798],\n",
              "       [-1.2594, -0.0434],\n",
              "       [ 2.615 , -1.4526],\n",
              "       [-1.7687,  1.6435],\n",
              "       [ 3.6629, -0.3986],\n",
              "       [ 2.9178, -0.2547],\n",
              "       [ 0.2703,  2.5432],\n",
              "       [-2.3307, -0.549 ],\n",
              "       [ 2.2068, -0.385 ],\n",
              "       [-2.0074, -0.1421],\n",
              "       [-2.188 , -0.6651],\n",
              "       [ 0.93  ,  0.8911],\n",
              "       [ 0.3154,  2.5495],\n",
              "       [-2.3129, -0.235 ],\n",
              "       [-2.944 , -0.7271],\n",
              "       [ 2.5917, -2.004 ],\n",
              "       [ 2.2053, -0.3477],\n",
              "       [-3.105 , -2.085 ],\n",
              "       [ 1.566 ,  1.8873],\n",
              "       [ 2.7177, -0.1998],\n",
              "       [-1.1106,  1.5521],\n",
              "       [-2.677 , -0.1155],\n",
              "       [ 3.3754, -1.1425],\n",
              "       [ 1.1538,  2.2606],\n",
              "       [-1.0164,  1.5812],\n",
              "       [ 1.3763,  0.9299],\n",
              "       [-2.6433, -1.1033],\n",
              "       [ 3.6642,  0.0283],\n",
              "       [ 3.1012, -1.0449],\n",
              "       [-3.2037, -1.7008],\n",
              "       [-1.0725,  2.2577],\n",
              "       [ 2.7261, -0.3074],\n",
              "       [ 0.6087,  2.3615],\n",
              "       [ 1.3965, -2.1733],\n",
              "       [ 2.3077,  1.2645],\n",
              "       [ 3.4954, -0.7744],\n",
              "       [ 3.1884, -2.1025],\n",
              "       [ 4.102 , -0.6158],\n",
              "       [-1.0597,  0.9083],\n",
              "       [-2.0238, -1.5056],\n",
              "       [-1.261 , -0.6332],\n",
              "       [ 1.9495, -1.9327],\n",
              "       [-3.1304, -1.1459],\n",
              "       [-2.5719, -1.8229],\n",
              "       [-2.3405, -1.7747],\n",
              "       [-1.9666,  1.3306],\n",
              "       [-1.8902, -0.6038],\n",
              "       [ 1.7235,  1.7128],\n",
              "       [ 2.5437, -0.3218],\n",
              "       [ 3.0114,  0.3142],\n",
              "       [ 2.7321, -1.9914],\n",
              "       [-1.8305, -0.648 ],\n",
              "       [-1.2163, -0.1755],\n",
              "       [ 0.2891,  2.1128],\n",
              "       [-0.5355,  1.1812],\n",
              "       [ 2.9401, -0.5708],\n",
              "       [-2.8426, -0.6986],\n",
              "       [-1.1327,  1.4497],\n",
              "       [ 2.1649,  0.6207],\n",
              "       [ 1.9718, -0.3465],\n",
              "       [-0.045 ,  2.194 ],\n",
              "       [-2.3195,  1.48  ],\n",
              "       [-0.6522,  4.0371],\n",
              "       [ 2.3693, -1.9951],\n",
              "       [ 0.5678,  1.0881],\n",
              "       [-2.6041,  0.07  ],\n",
              "       [ 3.4037, -1.6397],\n",
              "       [ 0.3043,  0.4555],\n",
              "       [ 2.1221, -0.0793],\n",
              "       [-3.5762, -2.4956],\n",
              "       [ 2.8739, -0.2297],\n",
              "       [-0.9142,  2.0467],\n",
              "       [-2.2422,  1.8034],\n",
              "       [-2.1004, -1.1928],\n",
              "       [-1.7341,  0.0107],\n",
              "       [ 2.5243, -0.1051],\n",
              "       [-2.2825, -1.1192]])"
            ]
          },
          "metadata": {
            "tags": []
          },
          "execution_count": 15
        }
      ]
    },
    {
      "cell_type": "code",
      "metadata": {
        "id": "7dq2snfkMZsx",
        "colab_type": "code",
        "colab": {}
      },
      "source": [
        "from sklearn.decomposition import PCA\n",
        "\n",
        "pca = PCA()\n",
        "X_pca = pca.fit_transform(X_train_std)\n"
      ],
      "execution_count": 0,
      "outputs": []
    },
    {
      "cell_type": "code",
      "metadata": {
        "id": "YliIszYRQ7xK",
        "colab_type": "code",
        "outputId": "2a73f8e9-1d56-4e8e-8250-3456d318900e",
        "colab": {
          "base_uri": "https://localhost:8080/",
          "height": 447
        }
      },
      "source": [
        "results = pd.DataFrame(data={'explained_variance_ratio': pca.explained_variance_ratio_})\n",
        "results['cumulative'] = results['explained_variance_ratio'].cumsum()\n",
        "results['component'] = results.index + 1\n",
        "results"
      ],
      "execution_count": 0,
      "outputs": [
        {
          "output_type": "execute_result",
          "data": {
            "text/html": [
              "<div>\n",
              "<style scoped>\n",
              "    .dataframe tbody tr th:only-of-type {\n",
              "        vertical-align: middle;\n",
              "    }\n",
              "\n",
              "    .dataframe tbody tr th {\n",
              "        vertical-align: top;\n",
              "    }\n",
              "\n",
              "    .dataframe thead th {\n",
              "        text-align: right;\n",
              "    }\n",
              "</style>\n",
              "<table border=\"1\" class=\"dataframe\">\n",
              "  <thead>\n",
              "    <tr style=\"text-align: right;\">\n",
              "      <th></th>\n",
              "      <th>explained_variance_ratio</th>\n",
              "      <th>cumulative</th>\n",
              "      <th>component</th>\n",
              "    </tr>\n",
              "  </thead>\n",
              "  <tbody>\n",
              "    <tr>\n",
              "      <th>0</th>\n",
              "      <td>0.372325</td>\n",
              "      <td>0.372325</td>\n",
              "      <td>1</td>\n",
              "    </tr>\n",
              "    <tr>\n",
              "      <th>1</th>\n",
              "      <td>0.185131</td>\n",
              "      <td>0.557456</td>\n",
              "      <td>2</td>\n",
              "    </tr>\n",
              "    <tr>\n",
              "      <th>2</th>\n",
              "      <td>0.119163</td>\n",
              "      <td>0.676619</td>\n",
              "      <td>3</td>\n",
              "    </tr>\n",
              "    <tr>\n",
              "      <th>3</th>\n",
              "      <td>0.068303</td>\n",
              "      <td>0.744922</td>\n",
              "      <td>4</td>\n",
              "    </tr>\n",
              "    <tr>\n",
              "      <th>4</th>\n",
              "      <td>0.066155</td>\n",
              "      <td>0.811077</td>\n",
              "      <td>5</td>\n",
              "    </tr>\n",
              "    <tr>\n",
              "      <th>5</th>\n",
              "      <td>0.048645</td>\n",
              "      <td>0.859721</td>\n",
              "      <td>6</td>\n",
              "    </tr>\n",
              "    <tr>\n",
              "      <th>6</th>\n",
              "      <td>0.039677</td>\n",
              "      <td>0.899399</td>\n",
              "      <td>7</td>\n",
              "    </tr>\n",
              "    <tr>\n",
              "      <th>7</th>\n",
              "      <td>0.024728</td>\n",
              "      <td>0.924127</td>\n",
              "      <td>8</td>\n",
              "    </tr>\n",
              "    <tr>\n",
              "      <th>8</th>\n",
              "      <td>0.022198</td>\n",
              "      <td>0.946325</td>\n",
              "      <td>9</td>\n",
              "    </tr>\n",
              "    <tr>\n",
              "      <th>9</th>\n",
              "      <td>0.018139</td>\n",
              "      <td>0.964464</td>\n",
              "      <td>10</td>\n",
              "    </tr>\n",
              "    <tr>\n",
              "      <th>10</th>\n",
              "      <td>0.017912</td>\n",
              "      <td>0.982376</td>\n",
              "      <td>11</td>\n",
              "    </tr>\n",
              "    <tr>\n",
              "      <th>11</th>\n",
              "      <td>0.010274</td>\n",
              "      <td>0.992651</td>\n",
              "      <td>12</td>\n",
              "    </tr>\n",
              "    <tr>\n",
              "      <th>12</th>\n",
              "      <td>0.007349</td>\n",
              "      <td>1.000000</td>\n",
              "      <td>13</td>\n",
              "    </tr>\n",
              "  </tbody>\n",
              "</table>\n",
              "</div>"
            ],
            "text/plain": [
              "    explained_variance_ratio  cumulative  component\n",
              "0                   0.372325    0.372325          1\n",
              "1                   0.185131    0.557456          2\n",
              "2                   0.119163    0.676619          3\n",
              "3                   0.068303    0.744922          4\n",
              "4                   0.066155    0.811077          5\n",
              "5                   0.048645    0.859721          6\n",
              "6                   0.039677    0.899399          7\n",
              "7                   0.024728    0.924127          8\n",
              "8                   0.022198    0.946325          9\n",
              "9                   0.018139    0.964464         10\n",
              "10                  0.017912    0.982376         11\n",
              "11                  0.010274    0.992651         12\n",
              "12                  0.007349    1.000000         13"
            ]
          },
          "metadata": {
            "tags": []
          },
          "execution_count": 19
        }
      ]
    },
    {
      "cell_type": "code",
      "metadata": {
        "id": "TwbezZoIQvaV",
        "colab_type": "code",
        "outputId": "4d5d1c75-f16c-4079-b497-172c987f97da",
        "colab": {
          "base_uri": "https://localhost:8080/",
          "height": 542
        }
      },
      "source": [
        "import plotly.graph_objects as go\n",
        "\n",
        "fig = go.Figure(data=[go.Bar(x=results['component'], y=results['explained_variance_ratio'], name='explained variance ratio'),\n",
        "                      go.Scatter(x=results['component'], y=results['cumulative'], name='cumulative explained variance')],\n",
        "                layout=go.Layout(title=f'PCA - {pca.n_components_} components', width=700))\n",
        "fig.show()"
      ],
      "execution_count": 0,
      "outputs": [
        {
          "output_type": "display_data",
          "data": {
            "text/html": [
              "<html>\n",
              "<head><meta charset=\"utf-8\" /></head>\n",
              "<body>\n",
              "    <div>\n",
              "            <script src=\"https://cdnjs.cloudflare.com/ajax/libs/mathjax/2.7.5/MathJax.js?config=TeX-AMS-MML_SVG\"></script><script type=\"text/javascript\">if (window.MathJax) {MathJax.Hub.Config({SVG: {font: \"STIX-Web\"}});}</script>\n",
              "                <script type=\"text/javascript\">window.PlotlyConfig = {MathJaxConfig: 'local'};</script>\n",
              "        <script src=\"https://cdn.plot.ly/plotly-latest.min.js\"></script>    \n",
              "            <div id=\"85b02c3a-d8b2-4893-9494-f3b75ba834a5\" class=\"plotly-graph-div\" style=\"height:525px; width:700px;\"></div>\n",
              "            <script type=\"text/javascript\">\n",
              "                \n",
              "                    window.PLOTLYENV=window.PLOTLYENV || {};\n",
              "                    \n",
              "                if (document.getElementById(\"85b02c3a-d8b2-4893-9494-f3b75ba834a5\")) {\n",
              "                    Plotly.newPlot(\n",
              "                        '85b02c3a-d8b2-4893-9494-f3b75ba834a5',\n",
              "                        [{\"name\": \"explained variance ratio\", \"type\": \"bar\", \"x\": [1, 2, 3, 4, 5, 6, 7, 8, 9, 10, 11, 12, 13], \"y\": [0.3723251040764051, 0.18513080241764654, 0.1191630368456206, 0.06830277030332878, 0.06615485595403257, 0.048644733413362645, 0.039677356179983636, 0.024728153440391407, 0.022198149425147307, 0.018139111372822442, 0.01791220813739225, 0.010274259153475039, 0.007349459280391714]}, {\"name\": \"cumulative explained variance\", \"type\": \"scatter\", \"x\": [1, 2, 3, 4, 5, 6, 7, 8, 9, 10, 11, 12, 13], \"y\": [0.3723251040764051, 0.5574559064940516, 0.6766189433396722, 0.744921713643001, 0.8110765695970336, 0.8597213030103962, 0.8993986591903798, 0.9241268126307711, 0.9463249620559184, 0.9644640734287409, 0.9823762815661331, 0.9926505407196081, 0.9999999999999999]}],\n",
              "                        {\"template\": {\"data\": {\"bar\": [{\"error_x\": {\"color\": \"#2a3f5f\"}, \"error_y\": {\"color\": \"#2a3f5f\"}, \"marker\": {\"line\": {\"color\": \"#E5ECF6\", \"width\": 0.5}}, \"type\": \"bar\"}], \"barpolar\": [{\"marker\": {\"line\": {\"color\": \"#E5ECF6\", \"width\": 0.5}}, \"type\": \"barpolar\"}], \"carpet\": [{\"aaxis\": {\"endlinecolor\": \"#2a3f5f\", \"gridcolor\": \"white\", \"linecolor\": \"white\", \"minorgridcolor\": \"white\", \"startlinecolor\": \"#2a3f5f\"}, \"baxis\": {\"endlinecolor\": \"#2a3f5f\", \"gridcolor\": \"white\", \"linecolor\": \"white\", \"minorgridcolor\": \"white\", \"startlinecolor\": \"#2a3f5f\"}, \"type\": \"carpet\"}], \"choropleth\": [{\"colorbar\": {\"outlinewidth\": 0, \"ticks\": \"\"}, \"type\": \"choropleth\"}], \"contour\": [{\"colorbar\": {\"outlinewidth\": 0, \"ticks\": \"\"}, \"colorscale\": [[0.0, \"#0d0887\"], [0.1111111111111111, \"#46039f\"], [0.2222222222222222, \"#7201a8\"], [0.3333333333333333, \"#9c179e\"], [0.4444444444444444, \"#bd3786\"], [0.5555555555555556, \"#d8576b\"], [0.6666666666666666, \"#ed7953\"], [0.7777777777777778, \"#fb9f3a\"], [0.8888888888888888, \"#fdca26\"], [1.0, \"#f0f921\"]], \"type\": \"contour\"}], \"contourcarpet\": [{\"colorbar\": {\"outlinewidth\": 0, \"ticks\": \"\"}, \"type\": \"contourcarpet\"}], \"heatmap\": [{\"colorbar\": {\"outlinewidth\": 0, \"ticks\": \"\"}, \"colorscale\": [[0.0, \"#0d0887\"], [0.1111111111111111, \"#46039f\"], [0.2222222222222222, \"#7201a8\"], [0.3333333333333333, \"#9c179e\"], [0.4444444444444444, \"#bd3786\"], [0.5555555555555556, \"#d8576b\"], [0.6666666666666666, \"#ed7953\"], [0.7777777777777778, \"#fb9f3a\"], [0.8888888888888888, \"#fdca26\"], [1.0, \"#f0f921\"]], \"type\": \"heatmap\"}], \"heatmapgl\": [{\"colorbar\": {\"outlinewidth\": 0, \"ticks\": \"\"}, \"colorscale\": [[0.0, \"#0d0887\"], [0.1111111111111111, \"#46039f\"], [0.2222222222222222, \"#7201a8\"], [0.3333333333333333, \"#9c179e\"], [0.4444444444444444, \"#bd3786\"], [0.5555555555555556, \"#d8576b\"], [0.6666666666666666, \"#ed7953\"], [0.7777777777777778, \"#fb9f3a\"], [0.8888888888888888, \"#fdca26\"], [1.0, \"#f0f921\"]], \"type\": \"heatmapgl\"}], \"histogram\": [{\"marker\": {\"colorbar\": {\"outlinewidth\": 0, \"ticks\": \"\"}}, \"type\": \"histogram\"}], \"histogram2d\": [{\"colorbar\": {\"outlinewidth\": 0, \"ticks\": \"\"}, \"colorscale\": [[0.0, \"#0d0887\"], [0.1111111111111111, \"#46039f\"], [0.2222222222222222, \"#7201a8\"], [0.3333333333333333, \"#9c179e\"], [0.4444444444444444, \"#bd3786\"], [0.5555555555555556, \"#d8576b\"], [0.6666666666666666, \"#ed7953\"], [0.7777777777777778, \"#fb9f3a\"], [0.8888888888888888, \"#fdca26\"], [1.0, \"#f0f921\"]], \"type\": \"histogram2d\"}], \"histogram2dcontour\": [{\"colorbar\": {\"outlinewidth\": 0, \"ticks\": \"\"}, \"colorscale\": [[0.0, \"#0d0887\"], [0.1111111111111111, \"#46039f\"], [0.2222222222222222, \"#7201a8\"], [0.3333333333333333, \"#9c179e\"], [0.4444444444444444, \"#bd3786\"], [0.5555555555555556, \"#d8576b\"], [0.6666666666666666, \"#ed7953\"], [0.7777777777777778, \"#fb9f3a\"], [0.8888888888888888, \"#fdca26\"], [1.0, \"#f0f921\"]], \"type\": \"histogram2dcontour\"}], \"mesh3d\": [{\"colorbar\": {\"outlinewidth\": 0, \"ticks\": \"\"}, \"type\": \"mesh3d\"}], \"parcoords\": [{\"line\": {\"colorbar\": {\"outlinewidth\": 0, \"ticks\": \"\"}}, \"type\": \"parcoords\"}], \"pie\": [{\"automargin\": true, \"type\": \"pie\"}], \"scatter\": [{\"marker\": {\"colorbar\": {\"outlinewidth\": 0, \"ticks\": \"\"}}, \"type\": \"scatter\"}], \"scatter3d\": [{\"line\": {\"colorbar\": {\"outlinewidth\": 0, \"ticks\": \"\"}}, \"marker\": {\"colorbar\": {\"outlinewidth\": 0, \"ticks\": \"\"}}, \"type\": \"scatter3d\"}], \"scattercarpet\": [{\"marker\": {\"colorbar\": {\"outlinewidth\": 0, \"ticks\": \"\"}}, \"type\": \"scattercarpet\"}], \"scattergeo\": [{\"marker\": {\"colorbar\": {\"outlinewidth\": 0, \"ticks\": \"\"}}, \"type\": \"scattergeo\"}], \"scattergl\": [{\"marker\": {\"colorbar\": {\"outlinewidth\": 0, \"ticks\": \"\"}}, \"type\": \"scattergl\"}], \"scattermapbox\": [{\"marker\": {\"colorbar\": {\"outlinewidth\": 0, \"ticks\": \"\"}}, \"type\": \"scattermapbox\"}], \"scatterpolar\": [{\"marker\": {\"colorbar\": {\"outlinewidth\": 0, \"ticks\": \"\"}}, \"type\": \"scatterpolar\"}], \"scatterpolargl\": [{\"marker\": {\"colorbar\": {\"outlinewidth\": 0, \"ticks\": \"\"}}, \"type\": \"scatterpolargl\"}], \"scatterternary\": [{\"marker\": {\"colorbar\": {\"outlinewidth\": 0, \"ticks\": \"\"}}, \"type\": \"scatterternary\"}], \"surface\": [{\"colorbar\": {\"outlinewidth\": 0, \"ticks\": \"\"}, \"colorscale\": [[0.0, \"#0d0887\"], [0.1111111111111111, \"#46039f\"], [0.2222222222222222, \"#7201a8\"], [0.3333333333333333, \"#9c179e\"], [0.4444444444444444, \"#bd3786\"], [0.5555555555555556, \"#d8576b\"], [0.6666666666666666, \"#ed7953\"], [0.7777777777777778, \"#fb9f3a\"], [0.8888888888888888, \"#fdca26\"], [1.0, \"#f0f921\"]], \"type\": \"surface\"}], \"table\": [{\"cells\": {\"fill\": {\"color\": \"#EBF0F8\"}, \"line\": {\"color\": \"white\"}}, \"header\": {\"fill\": {\"color\": \"#C8D4E3\"}, \"line\": {\"color\": \"white\"}}, \"type\": \"table\"}]}, \"layout\": {\"annotationdefaults\": {\"arrowcolor\": \"#2a3f5f\", \"arrowhead\": 0, \"arrowwidth\": 1}, \"coloraxis\": {\"colorbar\": {\"outlinewidth\": 0, \"ticks\": \"\"}}, \"colorscale\": {\"diverging\": [[0, \"#8e0152\"], [0.1, \"#c51b7d\"], [0.2, \"#de77ae\"], [0.3, \"#f1b6da\"], [0.4, \"#fde0ef\"], [0.5, \"#f7f7f7\"], [0.6, \"#e6f5d0\"], [0.7, \"#b8e186\"], [0.8, \"#7fbc41\"], [0.9, \"#4d9221\"], [1, \"#276419\"]], \"sequential\": [[0.0, \"#0d0887\"], [0.1111111111111111, \"#46039f\"], [0.2222222222222222, \"#7201a8\"], [0.3333333333333333, \"#9c179e\"], [0.4444444444444444, \"#bd3786\"], [0.5555555555555556, \"#d8576b\"], [0.6666666666666666, \"#ed7953\"], [0.7777777777777778, \"#fb9f3a\"], [0.8888888888888888, \"#fdca26\"], [1.0, \"#f0f921\"]], \"sequentialminus\": [[0.0, \"#0d0887\"], [0.1111111111111111, \"#46039f\"], [0.2222222222222222, \"#7201a8\"], [0.3333333333333333, \"#9c179e\"], [0.4444444444444444, \"#bd3786\"], [0.5555555555555556, \"#d8576b\"], [0.6666666666666666, \"#ed7953\"], [0.7777777777777778, \"#fb9f3a\"], [0.8888888888888888, \"#fdca26\"], [1.0, \"#f0f921\"]]}, \"colorway\": [\"#636efa\", \"#EF553B\", \"#00cc96\", \"#ab63fa\", \"#FFA15A\", \"#19d3f3\", \"#FF6692\", \"#B6E880\", \"#FF97FF\", \"#FECB52\"], \"font\": {\"color\": \"#2a3f5f\"}, \"geo\": {\"bgcolor\": \"white\", \"lakecolor\": \"white\", \"landcolor\": \"#E5ECF6\", \"showlakes\": true, \"showland\": true, \"subunitcolor\": \"white\"}, \"hoverlabel\": {\"align\": \"left\"}, \"hovermode\": \"closest\", \"mapbox\": {\"style\": \"light\"}, \"paper_bgcolor\": \"white\", \"plot_bgcolor\": \"#E5ECF6\", \"polar\": {\"angularaxis\": {\"gridcolor\": \"white\", \"linecolor\": \"white\", \"ticks\": \"\"}, \"bgcolor\": \"#E5ECF6\", \"radialaxis\": {\"gridcolor\": \"white\", \"linecolor\": \"white\", \"ticks\": \"\"}}, \"scene\": {\"xaxis\": {\"backgroundcolor\": \"#E5ECF6\", \"gridcolor\": \"white\", \"gridwidth\": 2, \"linecolor\": \"white\", \"showbackground\": true, \"ticks\": \"\", \"zerolinecolor\": \"white\"}, \"yaxis\": {\"backgroundcolor\": \"#E5ECF6\", \"gridcolor\": \"white\", \"gridwidth\": 2, \"linecolor\": \"white\", \"showbackground\": true, \"ticks\": \"\", \"zerolinecolor\": \"white\"}, \"zaxis\": {\"backgroundcolor\": \"#E5ECF6\", \"gridcolor\": \"white\", \"gridwidth\": 2, \"linecolor\": \"white\", \"showbackground\": true, \"ticks\": \"\", \"zerolinecolor\": \"white\"}}, \"shapedefaults\": {\"line\": {\"color\": \"#2a3f5f\"}}, \"ternary\": {\"aaxis\": {\"gridcolor\": \"white\", \"linecolor\": \"white\", \"ticks\": \"\"}, \"baxis\": {\"gridcolor\": \"white\", \"linecolor\": \"white\", \"ticks\": \"\"}, \"bgcolor\": \"#E5ECF6\", \"caxis\": {\"gridcolor\": \"white\", \"linecolor\": \"white\", \"ticks\": \"\"}}, \"title\": {\"x\": 0.05}, \"xaxis\": {\"automargin\": true, \"gridcolor\": \"white\", \"linecolor\": \"white\", \"ticks\": \"\", \"title\": {\"standoff\": 15}, \"zerolinecolor\": \"white\", \"zerolinewidth\": 2}, \"yaxis\": {\"automargin\": true, \"gridcolor\": \"white\", \"linecolor\": \"white\", \"ticks\": \"\", \"title\": {\"standoff\": 15}, \"zerolinecolor\": \"white\", \"zerolinewidth\": 2}}}, \"title\": {\"text\": \"PCA - 13 components\"}, \"width\": 700},\n",
              "                        {\"responsive\": true}\n",
              "                    ).then(function(){\n",
              "                            \n",
              "var gd = document.getElementById('85b02c3a-d8b2-4893-9494-f3b75ba834a5');\n",
              "var x = new MutationObserver(function (mutations, observer) {{\n",
              "        var display = window.getComputedStyle(gd).display;\n",
              "        if (!display || display === 'none') {{\n",
              "            console.log([gd, 'removed!']);\n",
              "            Plotly.purge(gd);\n",
              "            observer.disconnect();\n",
              "        }}\n",
              "}});\n",
              "\n",
              "// Listen for the removal of the full notebook cells\n",
              "var notebookContainer = gd.closest('#notebook-container');\n",
              "if (notebookContainer) {{\n",
              "    x.observe(notebookContainer, {childList: true});\n",
              "}}\n",
              "\n",
              "// Listen for the clearing of the current output cell\n",
              "var outputEl = gd.closest('.output');\n",
              "if (outputEl) {{\n",
              "    x.observe(outputEl, {childList: true});\n",
              "}}\n",
              "\n",
              "                        })\n",
              "                };\n",
              "                \n",
              "            </script>\n",
              "        </div>\n",
              "</body>\n",
              "</html>"
            ]
          },
          "metadata": {
            "tags": []
          }
        }
      ]
    },
    {
      "cell_type": "code",
      "metadata": {
        "id": "9idaMSOhQ3Li",
        "colab_type": "code",
        "colab": {}
      },
      "source": [
        ""
      ],
      "execution_count": 0,
      "outputs": []
    }
  ]
}