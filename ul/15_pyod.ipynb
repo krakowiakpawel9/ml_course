{
  "nbformat": 4,
  "nbformat_minor": 0,
  "metadata": {
    "colab": {
      "name": "Untitled71.ipynb",
      "provenance": [],
      "include_colab_link": true
    },
    "kernelspec": {
      "name": "python3",
      "display_name": "Python 3"
    }
  },
  "cells": [
    {
      "cell_type": "markdown",
      "metadata": {
        "id": "view-in-github",
        "colab_type": "text"
      },
      "source": [
        "<a href=\"https://colab.research.google.com/github/krakowiakpawel9/ml_course/blob/master/ul/15_pyod.ipynb\" target=\"_parent\"><img src=\"https://colab.research.google.com/assets/colab-badge.svg\" alt=\"Open In Colab\"/></a>"
      ]
    },
    {
      "cell_type": "markdown",
      "metadata": {
        "id": "C80St0V-_VIi",
        "colab_type": "text"
      },
      "source": [
        "### scikit-learn\n",
        "Strona biblioteki: [https://scikit-learn.org](https://scikit-learn.org)  \n",
        "\n",
        "Dokumentacja/User Guide: [https://scikit-learn.org/stable/user_guide.html](https://scikit-learn.org/stable/user_guide.html)\n",
        "\n",
        "Podstawowa biblioteka do uczenia maszynowego w języku Python.\n",
        "\n",
        "Aby zainstalować bibliotekę scikit-learn, użyj polecenia poniżej:\n",
        "```\n",
        "!pip install scikit-learn\n",
        "```\n",
        "Aby zaktualizować do najnowszej wersji bibliotekę scikit-learn, użyj polecenia poniżej:\n",
        "```\n",
        "!pip install --upgrade scikit-learn\n",
        "```\n",
        "Kurs stworzony w oparciu o wersję `0.22.1`\n",
        "\n",
        "### Spis treści:\n",
        "1. [Import bibliotek](#0)\n",
        "2. [Wygenerowanie danych](#1)\n",
        "3. [Wizualizacja danych](#2)\n",
        "4. [Algorytm K-średnich](#3)\n",
        "5. [Wizualizacja klastrów](#4)\n",
        "\n",
        "\n"
      ]
    },
    {
      "cell_type": "markdown",
      "metadata": {
        "id": "dCogYvFX_YD4",
        "colab_type": "text"
      },
      "source": [
        "### <a name='0'></a> Import bibliotek"
      ]
    },
    {
      "cell_type": "code",
      "metadata": {
        "id": "KgJ83sSjTVyG",
        "colab_type": "code",
        "colab": {
          "base_uri": "https://localhost:8080/",
          "height": 615
        },
        "outputId": "ab6b2c68-95a1-416c-8c62-419d5f4bd213"
      },
      "source": [
        "!pip install -q pyod"
      ],
      "execution_count": 2,
      "outputs": [
        {
          "output_type": "stream",
          "text": [
            "Collecting pyod\n",
            "\u001b[?25l  Downloading https://files.pythonhosted.org/packages/17/d5/12bf702a918ac36e944fedb2257d51167b049b951f2b72503fc9a54dc9e8/pyod-0.7.7.1.tar.gz (87kB)\n",
            "\r\u001b[K     |███▊                            | 10kB 14.1MB/s eta 0:00:01\r\u001b[K     |███████▌                        | 20kB 3.2MB/s eta 0:00:01\r\u001b[K     |███████████▎                    | 30kB 3.9MB/s eta 0:00:01\r\u001b[K     |███████████████                 | 40kB 3.0MB/s eta 0:00:01\r\u001b[K     |██████████████████▊             | 51kB 3.3MB/s eta 0:00:01\r\u001b[K     |██████████████████████▌         | 61kB 3.9MB/s eta 0:00:01\r\u001b[K     |██████████████████████████▎     | 71kB 4.2MB/s eta 0:00:01\r\u001b[K     |██████████████████████████████  | 81kB 4.7MB/s eta 0:00:01\r\u001b[K     |████████████████████████████████| 92kB 3.8MB/s \n",
            "\u001b[?25hCollecting combo\n",
            "  Downloading https://files.pythonhosted.org/packages/8e/4e/9ab16d4aa21da464903bd5630b28b36c65298fd74639308089b2d173d5a7/combo-0.0.8.tar.gz\n",
            "Requirement already satisfied: joblib in /usr/local/lib/python3.6/dist-packages (from pyod) (0.14.1)\n",
            "Requirement already satisfied: matplotlib in /usr/local/lib/python3.6/dist-packages (from pyod) (3.1.3)\n",
            "Requirement already satisfied: numpy>=1.13 in /usr/local/lib/python3.6/dist-packages (from pyod) (1.17.5)\n",
            "Requirement already satisfied: numba>=0.35 in /usr/local/lib/python3.6/dist-packages (from pyod) (0.47.0)\n",
            "Requirement already satisfied: scipy>=0.19.1 in /usr/local/lib/python3.6/dist-packages (from pyod) (1.4.1)\n",
            "Requirement already satisfied: scikit_learn>=0.19.1 in /usr/local/lib/python3.6/dist-packages (from pyod) (0.22.1)\n",
            "Requirement already satisfied: six in /usr/local/lib/python3.6/dist-packages (from pyod) (1.12.0)\n",
            "Collecting suod\n",
            "\u001b[?25l  Downloading https://files.pythonhosted.org/packages/98/1f/cb5f3567ee8537e058bab70e8d60f78fdff43fee7c40ac3fe8209a765237/suod-0.0.2.tar.gz (2.1MB)\n",
            "\u001b[K     |████████████████████████████████| 2.1MB 14.2MB/s \n",
            "\u001b[?25hRequirement already satisfied: pyparsing!=2.0.4,!=2.1.2,!=2.1.6,>=2.0.1 in /usr/local/lib/python3.6/dist-packages (from matplotlib->pyod) (2.4.6)\n",
            "Requirement already satisfied: kiwisolver>=1.0.1 in /usr/local/lib/python3.6/dist-packages (from matplotlib->pyod) (1.1.0)\n",
            "Requirement already satisfied: cycler>=0.10 in /usr/local/lib/python3.6/dist-packages (from matplotlib->pyod) (0.10.0)\n",
            "Requirement already satisfied: python-dateutil>=2.1 in /usr/local/lib/python3.6/dist-packages (from matplotlib->pyod) (2.6.1)\n",
            "Requirement already satisfied: setuptools in /usr/local/lib/python3.6/dist-packages (from numba>=0.35->pyod) (45.1.0)\n",
            "Requirement already satisfied: llvmlite>=0.31.0dev0 in /usr/local/lib/python3.6/dist-packages (from numba>=0.35->pyod) (0.31.0)\n",
            "Building wheels for collected packages: pyod, combo, suod\n",
            "  Building wheel for pyod (setup.py) ... \u001b[?25l\u001b[?25hdone\n",
            "  Created wheel for pyod: filename=pyod-0.7.7.1-cp36-none-any.whl size=98961 sha256=cf5a22b0ff31b6c7ea74c060891b59f9e0afa0c98cf3b5755b53c849a0ade354\n",
            "  Stored in directory: /root/.cache/pip/wheels/9c/9e/bc/5bac69bdb00bfefbbfa74a43409d328962c349ad1b0954470a\n",
            "  Building wheel for combo (setup.py) ... \u001b[?25l\u001b[?25hdone\n",
            "  Created wheel for combo: filename=combo-0.0.8-cp36-none-any.whl size=41508 sha256=681cc521bd28b41df0e4586bf018471320f861d382ab6ffacea3be332ba1938c\n",
            "  Stored in directory: /root/.cache/pip/wheels/dc/60/47/7b9c8b8e5561f6a51ccb7b0da69de7ae6af3a407e45e1e016f\n",
            "  Building wheel for suod (setup.py) ... \u001b[?25l\u001b[?25hdone\n",
            "  Created wheel for suod: filename=suod-0.0.2-cp36-none-any.whl size=2163438 sha256=555a60c913425d67cfce21c3e4a1247607025989b7be3491ea5b53bd1fed76f7\n",
            "  Stored in directory: /root/.cache/pip/wheels/4a/7c/ad/b54ac3a67ecdee6d89e9a3100c4531ab2dbcd2f1d9c606d326\n",
            "Successfully built pyod combo suod\n",
            "Installing collected packages: combo, suod, pyod\n",
            "Successfully installed combo-0.0.8 pyod-0.7.7.1 suod-0.0.2\n"
          ],
          "name": "stdout"
        }
      ]
    },
    {
      "cell_type": "code",
      "metadata": {
        "id": "wo4J6pShTF_Q",
        "colab_type": "code",
        "colab": {}
      },
      "source": [
        "import numpy as np\n",
        "import pandas as pd\n",
        "from scipy import stats\n",
        "import matplotlib.pyplot as plt\n",
        "import seaborn as sns\n",
        "import plotly.express as px\n",
        "\n",
        "from pyod.models.abod import ABOD\n",
        "from pyod.models.knn import KNN\n",
        "\n",
        "from pyod.utils.data import generate_data, get_outliers_inliers\n",
        "\n",
        "sns.set()\n",
        "np.random.seed(42)"
      ],
      "execution_count": 0,
      "outputs": []
    },
    {
      "cell_type": "code",
      "metadata": {
        "id": "Xyi7wpyNTqvk",
        "colab_type": "code",
        "colab": {
          "base_uri": "https://localhost:8080/",
          "height": 542
        },
        "outputId": "529ae07d-aeac-429a-dd27-08a4d5f68e60"
      },
      "source": [
        "X_train, y_train = generate_data(n_train=300, train_only=True, n_features=2, random_state=42)\n",
        "\n",
        "tmp = pd.DataFrame(data=X_train, columns=['x1', 'x2'])\n",
        "px.scatter(tmp, x='x1', y='x2', width=700)"
      ],
      "execution_count": 31,
      "outputs": [
        {
          "output_type": "display_data",
          "data": {
            "text/html": [
              "<html>\n",
              "<head><meta charset=\"utf-8\" /></head>\n",
              "<body>\n",
              "    <div>\n",
              "            <script src=\"https://cdnjs.cloudflare.com/ajax/libs/mathjax/2.7.5/MathJax.js?config=TeX-AMS-MML_SVG\"></script><script type=\"text/javascript\">if (window.MathJax) {MathJax.Hub.Config({SVG: {font: \"STIX-Web\"}});}</script>\n",
              "                <script type=\"text/javascript\">window.PlotlyConfig = {MathJaxConfig: 'local'};</script>\n",
              "        <script src=\"https://cdn.plot.ly/plotly-latest.min.js\"></script>    \n",
              "            <div id=\"c3567a95-38ac-46e0-a66d-5824dc483cbc\" class=\"plotly-graph-div\" style=\"height:525px; width:700px;\"></div>\n",
              "            <script type=\"text/javascript\">\n",
              "                \n",
              "                    window.PLOTLYENV=window.PLOTLYENV || {};\n",
              "                    \n",
              "                if (document.getElementById(\"c3567a95-38ac-46e0-a66d-5824dc483cbc\")) {\n",
              "                    Plotly.newPlot(\n",
              "                        'c3567a95-38ac-46e0-a66d-5824dc483cbc',\n",
              "                        [{\"hoverlabel\": {\"namelength\": 0}, \"hovertemplate\": \"x1=%{x}<br>x2=%{y}\", \"legendgroup\": \"\", \"marker\": {\"color\": \"#636efa\", \"symbol\": \"circle\"}, \"mode\": \"markers\", \"name\": \"\", \"showlegend\": false, \"type\": \"scatter\", \"x\": [6.433658544295078, 5.044697884885776, 5.924535683526583, 5.293990746037809, 5.615090763565967, 6.185903473182608, 7.166309414019816, 4.054708262992056, 5.799781643859625, 4.822563606931028, 5.980495944697186, 6.332584285954669, 5.7660015684708705, 6.075866902151711, 5.8881697208048385, 5.402579272106107, 6.756742966806223, 5.706367847765728, 5.048405021856402, 5.6437044728857435, 6.257606223076583, 4.262684798408284, 6.137730654514321, 6.594855046765659, 6.45018449479305, 6.377391957536446, 7.866845822782684, 6.076896286668339, 5.239919370427467, 4.504067144710054, 6.507480676664031, 6.379664427049181, 6.168749737791324, 5.285134160819143, 7.17154382030606, 6.757670140666133, 6.36518303194932, 6.260673116166046, 6.37308642475504, 5.3781542332379795, 5.879942777059898, 6.1200215088461665, 8.100351963047707, 5.376283240745273, 6.69601983049951, 7.29434886248142, 6.233727346099177, 5.513241955338244, 4.817702938366111, 6.76774780970135, 5.382667489054385, 6.577487519157417, 6.677848695683732, 5.305894387060102, 4.955258016280949, 5.1256809032385995, 5.468788023511444, 6.240317886678463, 5.471437706041627, 5.325265061761334, 6.866711515856472, 5.647672606342959, 6.986573493603861, 6.269587600985718, 7.567199694905307, 5.391772213099696, 4.9457463085301105, 5.890504522856595, 5.9637894306911505, 6.408679954053717, 6.022410529927894, 6.629798007343148, 5.125292895946922, 6.7078286638346984, 5.425531387345951, 5.885582704878711, 6.996083895603352, 6.932493359010419, 6.164014822123887, 5.180356407826156, 4.635779130830372, 6.797930279925264, 5.520359844477208, 6.650916880340921, 5.7723100101747224, 6.681099945413171, 6.45212239044889, 5.8859585828394225, 6.120157063537161, 4.939208757044005, 7.071234387890892, 5.234442768032771, 6.5058339002697405, 4.948383615604198, 6.251936577612247, 6.7261726343109745, 4.455656733803784, 7.088194326947852, 5.70242140703138, 8.220310264831346, 5.990761804543311, 6.48408922036097, 6.483414222669735, 6.268292474846177, 5.826568713126368, 5.513998537684041, 4.151240925594411, 6.87437013493445, 6.506529560838786, 4.958650072813969, 5.182119770878607, 6.358714130068494, 5.468083988670538, 6.52382410525835, 5.056294802016213, 5.868158476252238, 6.054513060960981, 7.5069954814819475, 5.271514236748297, 5.670804870155115, 4.411663005284719, 5.5683015921305, 5.962002092298705, 5.687840229729749, 7.326927927324379, 5.91450779810508, 7.270471458207666, 5.4156464733229335, 5.8917595535370655, 5.706145295195176, 5.9079049917464905, 5.74530059737062, 6.216183396715462, 5.37185361995556, 5.056049520469886, 5.729324842039238, 6.55755622631985, 5.616183925929488, 5.664994090437903, 6.001446432889205, 7.542083363897184, 6.452819679866175, 6.935067935790923, 6.597443979080083, 6.181029737564863, 6.355934939609355, 6.399909393490221, 5.466463818087543, 5.565309072304902, 6.087968655392724, 6.981146437454908, 7.240117675861463, 5.012457668552656, 7.556229747778585, 6.4222475793142495, 5.92815841784117, 6.040470488510542, 7.338520789168138, 7.284698440848021, 5.706693371866875, 6.832376191520674, 4.776517123194759, 6.91268549248031, 5.500053902391699, 5.740022407505411, 4.767796923840031, 6.312670259711664, 5.840327989474601, 5.319488517258843, 6.1610298642047105, 4.8510175116636365, 7.446477058095035, 6.071836760055582, 5.793900747118504, 5.59688805927461, 4.738563003986163, 6.845947835224956, 5.7468847510590475, 6.148512348939965, 7.057943872468035, 4.134071168583907, 5.187031361586861, 5.422312661375066, 5.54204966145845, 7.268219136798768, 6.516455428428362, 6.67007261584474, 5.569529873980314, 5.3245339375228, 3.9548270367747502, 4.487262556696468, 5.865956320773065, 5.6236237199731525, 5.623657389982823, 5.284415456366586, 6.292626032418668, 5.301701836392304, 5.212642268996874, 5.03567291794995, 5.39633485580068, 4.94276882146305, 5.605301217602087, 5.485327797789393, 4.792061455239427, 5.902070694244084, 6.622302985204387, 5.017641764672566, 7.116238490928039, 6.2716553048826675, 7.094530286958956, 6.919991254639632, 5.446388762922689, 6.273124113258663, 6.254844955065042, 7.272992610935194, 5.48616284844894, 5.410122237491424, 5.32326826699743, 6.265720024708619, 3.2260105365509935, 5.586942712573253, 5.550777044641155, 7.114002922839614, 6.916873824055993, 6.186199008654556, 6.043123846559852, 6.656659025072014, 6.200338788428352, 4.381601162799396, 5.7900534182891565, 7.520042950417288, 5.844742097889371, 6.367457617022153, 4.78521372989532, 6.299547629575121, 6.386883406684363, 7.8678258981648135, 7.285474016570797, 6.4468040868434855, 6.795242252316191, 6.373074296474621, 4.910823627137983, 5.5986464725821055, 5.811891664127228, 7.342206199062123, 6.626895868812179, 5.701191485121819, 5.50134567158963, 7.566576178246187, 5.022170024982883, 6.14206507672619, 6.637788126226518, 6.613093220168757, 7.420208274888285, 6.319191833056556, 6.3763023078958785, 5.0670593893523215, 6.2342112776088605, 6.207298544843609, 4.755429452030186, 5.721032414531266, 7.071179043042087, 8.05233726846812, 6.320261814908501, 7.179912153662967, 4.785281227227514, 6.180242541003223, 5.9910456312722, 6.396042428110341, 5.835515564667393, 4.209810214033755, 3.6703786408937216, 4.107768423578179, -5.7810902228596674, 5.967066417220732, 0.9119810136679192, -5.936399923228735, -0.1110146488945869, 3.85033767784023, 0.4204407845389264, 4.062990704431497, 5.6159287980508115, -3.605916871940163, 0.35808027817340005, 3.2133540173140656, 0.07324747631216422, -2.1522936940858286, -1.5692342218812465, 0.5832374152578383, -3.57923445203717, -4.945582665088118, -5.967469207028044, -0.32200558737729335, 3.53147339959755, 4.208729520197457, -1.0977804847689967, 5.891153717488688, -1.449256980434395, 2.659158609015325, 3.3781737810169794], \"xaxis\": \"x\", \"y\": [5.509168303351839, 7.708064662864441, 5.2592196628192225, 5.671261968134861, 6.130928500753153, 6.09410577556185, 7.227191331197893, 6.481270317011509, 5.869308930462587, 7.185931234685254, 6.283567459439914, 6.6639241159756235, 5.9762024582691895, 6.530090409746342, 5.973526836566881, 5.379206889146465, 7.260796298169314, 6.299528939832377, 5.673763524518238, 7.21564822456406, 4.888690091034736, 5.167447740603721, 6.258562453410412, 4.535245917697237, 6.02033787898853, 6.525732838781236, 6.854156724936898, 6.334251945097757, 5.164278149773868, 4.909932490565405, 5.276851289732855, 7.039725901852607, 6.4761687704025706, 5.910684899140926, 5.103642765343698, 7.376971101210977, 4.656708413527084, 5.935304147009302, 6.5870892182473355, 5.326956376170826, 5.2299262503710695, 5.9095416764277715, 5.182445950734572, 6.338112822139758, 7.824161042072091, 6.656962538586324, 6.715101274334465, 5.74784410631499, 5.81748426836319, 5.83276126760302, 5.7130614633967935, 5.796016707506542, 4.9541625602522785, 5.59593025334259, 8.347698113491681, 6.72965957474047, 5.590232389411087, 4.836770058450031, 5.88318164021749, 5.344029372162361, 6.801520238590926, 5.932874726575258, 4.862321769582929, 7.574805410186468, 4.452837412471496, 6.134513111424156, 5.4670445316144445, 7.117614186257408, 6.173016364543195, 6.433455594138251, 5.045271607973425, 6.3441313953295255, 5.455835172771618, 6.48289882466974, 5.784716215556934, 6.492087034187886, 6.052358025644886, 6.696507824003307, 4.848759976205162, 6.5911712700561385, 6.09489046179885, 6.121562189746062, 5.324788657107295, 6.376206842208177, 6.849616537483111, 7.426480487251214, 5.86880383239871, 4.457097107989308, 5.9874666599317505, 5.9798320315714, 5.414166673269685, 6.881227751608888, 8.441355020338802, 6.574539792711149, 6.0472793723486955, 5.97629274944451, 5.324195946090539, 6.934743432626686, 6.401640306712102, 5.975127187839408, 6.152010660568729, 5.721736308572352, 4.449393322658887, 6.040379450621451, 5.62096183482941, 5.35118195445669, 5.786243843137878, 5.7324952900366934, 5.138493371698889, 5.401235157259115, 5.056475054801873, 7.418768634621189, 4.650702214685463, 4.854807371681379, 6.394780312526879, 5.451948258169105, 5.673478858419005, 5.461016673734782, 5.637091483297464, 6.475051417164355, 6.33977394231451, 6.619549739211336, 6.413681127076087, 6.34934185065996, 5.4104271684613945, 5.612220813657378, 5.653912921002618, 5.5387993028047235, 5.367145638116805, 6.125375237054093, 6.663323342678591, 5.836809541060501, 7.790329765481247, 7.5341731592596055, 6.182613762423742, 5.3497863821859655, 6.4784433530572745, 4.33010927615183, 6.111021262435722, 6.6028908825131465, 6.3300829738873015, 6.118181300642247, 6.423814351958862, 7.442720832517956, 5.783895948104337, 6.906202091392289, 6.84590486013242, 5.307665514024653, 4.989208133758056, 5.657036269343534, 4.970193065466331, 5.217450553926383, 5.342305117026907, 5.968030379810832, 5.853338434233476, 5.596538911350508, 6.394464675072091, 4.505030494768005, 6.421071135914698, 5.563166977427127, 6.1826202272737785, 6.2895636158837975, 6.6841839422919875, 4.929691486337037, 8.59519301665868, 5.327882534015874, 5.900685762094623, 7.614802032304355, 5.988610649329279, 5.358187900548886, 6.214792406386761, 6.322672250604591, 6.0659810788725625, 6.943878024501533, 4.917905252228212, 6.0630130852090875, 6.189404696913816, 6.3656266409601185, 6.658922418073694, 5.238832846227972, 5.719634291636962, 6.663522417063459, 4.503985901911092, 4.810086340154768, 6.376154733079111, 6.427504203684362, 6.903888983807814, 4.867519557996873, 5.963911479928641, 6.911373014124661, 6.477802680489804, 6.227439580199921, 6.173231503144226, 5.556421627741735, 7.216914981546649, 6.167082753561659, 5.812698358570035, 5.608275972244346, 7.267410757748236, 5.302087021871625, 5.384930492687196, 5.960537929684779, 4.72344391505873, 6.542057802593031, 6.517520253782774, 6.1204927642700175, 6.151202123488535, 5.6431569171281915, 5.989011488403377, 5.459436454941729, 5.700912903345606, 6.087618130791596, 7.524527031847295, 6.154147562741916, 6.4793663579305925, 7.081444671192716, 5.482197386426856, 5.253304343714156, 5.794311937372223, 5.786048676308514, 6.712066607787484, 8.025167243210452, 5.68902970214622, 6.418878918073517, 6.640149677347252, 6.191690378913341, 7.636919290041172, 5.638077652390894, 7.564223829169224, 6.426533398612015, 6.181522634851226, 7.132250226874998, 6.467444414606624, 6.961769216284428, 4.906098509349846, 4.355047113552509, 5.121223431736262, 5.3516330039688516, 5.272538505824043, 5.812323187715098, 6.012014491879714, 6.402046890574321, 6.833681887138502, 5.938777482710477, 7.899457722708101, 5.770993429053615, 5.3470699118552885, 5.781784467931783, 5.842707239553915, 6.033229841591507, 6.028420811087271, 6.055034861639101, 5.377642630628277, 6.201363484517382, 5.374318040980761, 6.519252369937161, 4.676803139122621, 5.610185055114126, 4.970343235871618, 6.1648437316744165, 4.316626399537423, 4.957087276051831, 5.502319834191451, 7.3135126329507, 7.584029161734037, 5.0940984384465855, 6.669734679829171, 4.6936293442978965, 5.845076167626082, 4.183236619859853, -4.9453485055182735, -5.332158127716296, -5.380374265505846, 2.3635375483970584, 4.75932315568825, 5.00874735702638, 5.7008059553417105, 2.674753159461307, 2.621487250038644, -0.2805661904830563, -3.5390692782064908, 2.5314297460409794, 2.8349662043818586, 2.4867611477333345, -4.952517844923895, 5.18417210708321, 1.1265971706947857, -0.5487843333708042, 0.5870637586677274, 2.2148585745580007, -4.334102718695755, -4.599647230299825, 1.273222572670063, -4.719608998638767, 2.951694306584617, 5.195256805199456, -3.539978279361153, 5.117393083076534, -5.422864272430948, 3.9352906461299035], \"yaxis\": \"y\"}],\n",
              "                        {\"legend\": {\"tracegroupgap\": 0}, \"margin\": {\"t\": 60}, \"template\": {\"data\": {\"bar\": [{\"error_x\": {\"color\": \"#2a3f5f\"}, \"error_y\": {\"color\": \"#2a3f5f\"}, \"marker\": {\"line\": {\"color\": \"#E5ECF6\", \"width\": 0.5}}, \"type\": \"bar\"}], \"barpolar\": [{\"marker\": {\"line\": {\"color\": \"#E5ECF6\", \"width\": 0.5}}, \"type\": \"barpolar\"}], \"carpet\": [{\"aaxis\": {\"endlinecolor\": \"#2a3f5f\", \"gridcolor\": \"white\", \"linecolor\": \"white\", \"minorgridcolor\": \"white\", \"startlinecolor\": \"#2a3f5f\"}, \"baxis\": {\"endlinecolor\": \"#2a3f5f\", \"gridcolor\": \"white\", \"linecolor\": \"white\", \"minorgridcolor\": \"white\", \"startlinecolor\": \"#2a3f5f\"}, \"type\": \"carpet\"}], \"choropleth\": [{\"colorbar\": {\"outlinewidth\": 0, \"ticks\": \"\"}, \"type\": \"choropleth\"}], \"contour\": [{\"colorbar\": {\"outlinewidth\": 0, \"ticks\": \"\"}, \"colorscale\": [[0.0, \"#0d0887\"], [0.1111111111111111, \"#46039f\"], [0.2222222222222222, \"#7201a8\"], [0.3333333333333333, \"#9c179e\"], [0.4444444444444444, \"#bd3786\"], [0.5555555555555556, \"#d8576b\"], [0.6666666666666666, \"#ed7953\"], [0.7777777777777778, \"#fb9f3a\"], [0.8888888888888888, \"#fdca26\"], [1.0, \"#f0f921\"]], \"type\": \"contour\"}], \"contourcarpet\": [{\"colorbar\": {\"outlinewidth\": 0, \"ticks\": \"\"}, \"type\": \"contourcarpet\"}], \"heatmap\": [{\"colorbar\": {\"outlinewidth\": 0, \"ticks\": \"\"}, \"colorscale\": [[0.0, \"#0d0887\"], [0.1111111111111111, \"#46039f\"], [0.2222222222222222, \"#7201a8\"], [0.3333333333333333, \"#9c179e\"], [0.4444444444444444, \"#bd3786\"], [0.5555555555555556, \"#d8576b\"], [0.6666666666666666, \"#ed7953\"], [0.7777777777777778, \"#fb9f3a\"], [0.8888888888888888, \"#fdca26\"], [1.0, \"#f0f921\"]], \"type\": \"heatmap\"}], \"heatmapgl\": [{\"colorbar\": {\"outlinewidth\": 0, \"ticks\": \"\"}, \"colorscale\": [[0.0, \"#0d0887\"], [0.1111111111111111, \"#46039f\"], [0.2222222222222222, \"#7201a8\"], [0.3333333333333333, \"#9c179e\"], [0.4444444444444444, \"#bd3786\"], [0.5555555555555556, \"#d8576b\"], [0.6666666666666666, \"#ed7953\"], [0.7777777777777778, \"#fb9f3a\"], [0.8888888888888888, \"#fdca26\"], [1.0, \"#f0f921\"]], \"type\": \"heatmapgl\"}], \"histogram\": [{\"marker\": {\"colorbar\": {\"outlinewidth\": 0, \"ticks\": \"\"}}, \"type\": \"histogram\"}], \"histogram2d\": [{\"colorbar\": {\"outlinewidth\": 0, \"ticks\": \"\"}, \"colorscale\": [[0.0, \"#0d0887\"], [0.1111111111111111, \"#46039f\"], [0.2222222222222222, \"#7201a8\"], [0.3333333333333333, \"#9c179e\"], [0.4444444444444444, \"#bd3786\"], [0.5555555555555556, \"#d8576b\"], [0.6666666666666666, \"#ed7953\"], [0.7777777777777778, \"#fb9f3a\"], [0.8888888888888888, \"#fdca26\"], [1.0, \"#f0f921\"]], \"type\": \"histogram2d\"}], \"histogram2dcontour\": [{\"colorbar\": {\"outlinewidth\": 0, \"ticks\": \"\"}, \"colorscale\": [[0.0, \"#0d0887\"], [0.1111111111111111, \"#46039f\"], [0.2222222222222222, \"#7201a8\"], [0.3333333333333333, \"#9c179e\"], [0.4444444444444444, \"#bd3786\"], [0.5555555555555556, \"#d8576b\"], [0.6666666666666666, \"#ed7953\"], [0.7777777777777778, \"#fb9f3a\"], [0.8888888888888888, \"#fdca26\"], [1.0, \"#f0f921\"]], \"type\": \"histogram2dcontour\"}], \"mesh3d\": [{\"colorbar\": {\"outlinewidth\": 0, \"ticks\": \"\"}, \"type\": \"mesh3d\"}], \"parcoords\": [{\"line\": {\"colorbar\": {\"outlinewidth\": 0, \"ticks\": \"\"}}, \"type\": \"parcoords\"}], \"pie\": [{\"automargin\": true, \"type\": \"pie\"}], \"scatter\": [{\"marker\": {\"colorbar\": {\"outlinewidth\": 0, \"ticks\": \"\"}}, \"type\": \"scatter\"}], \"scatter3d\": [{\"line\": {\"colorbar\": {\"outlinewidth\": 0, \"ticks\": \"\"}}, \"marker\": {\"colorbar\": {\"outlinewidth\": 0, \"ticks\": \"\"}}, \"type\": \"scatter3d\"}], \"scattercarpet\": [{\"marker\": {\"colorbar\": {\"outlinewidth\": 0, \"ticks\": \"\"}}, \"type\": \"scattercarpet\"}], \"scattergeo\": [{\"marker\": {\"colorbar\": {\"outlinewidth\": 0, \"ticks\": \"\"}}, \"type\": \"scattergeo\"}], \"scattergl\": [{\"marker\": {\"colorbar\": {\"outlinewidth\": 0, \"ticks\": \"\"}}, \"type\": \"scattergl\"}], \"scattermapbox\": [{\"marker\": {\"colorbar\": {\"outlinewidth\": 0, \"ticks\": \"\"}}, \"type\": \"scattermapbox\"}], \"scatterpolar\": [{\"marker\": {\"colorbar\": {\"outlinewidth\": 0, \"ticks\": \"\"}}, \"type\": \"scatterpolar\"}], \"scatterpolargl\": [{\"marker\": {\"colorbar\": {\"outlinewidth\": 0, \"ticks\": \"\"}}, \"type\": \"scatterpolargl\"}], \"scatterternary\": [{\"marker\": {\"colorbar\": {\"outlinewidth\": 0, \"ticks\": \"\"}}, \"type\": \"scatterternary\"}], \"surface\": [{\"colorbar\": {\"outlinewidth\": 0, \"ticks\": \"\"}, \"colorscale\": [[0.0, \"#0d0887\"], [0.1111111111111111, \"#46039f\"], [0.2222222222222222, \"#7201a8\"], [0.3333333333333333, \"#9c179e\"], [0.4444444444444444, \"#bd3786\"], [0.5555555555555556, \"#d8576b\"], [0.6666666666666666, \"#ed7953\"], [0.7777777777777778, \"#fb9f3a\"], [0.8888888888888888, \"#fdca26\"], [1.0, \"#f0f921\"]], \"type\": \"surface\"}], \"table\": [{\"cells\": {\"fill\": {\"color\": \"#EBF0F8\"}, \"line\": {\"color\": \"white\"}}, \"header\": {\"fill\": {\"color\": \"#C8D4E3\"}, \"line\": {\"color\": \"white\"}}, \"type\": \"table\"}]}, \"layout\": {\"annotationdefaults\": {\"arrowcolor\": \"#2a3f5f\", \"arrowhead\": 0, \"arrowwidth\": 1}, \"coloraxis\": {\"colorbar\": {\"outlinewidth\": 0, \"ticks\": \"\"}}, \"colorscale\": {\"diverging\": [[0, \"#8e0152\"], [0.1, \"#c51b7d\"], [0.2, \"#de77ae\"], [0.3, \"#f1b6da\"], [0.4, \"#fde0ef\"], [0.5, \"#f7f7f7\"], [0.6, \"#e6f5d0\"], [0.7, \"#b8e186\"], [0.8, \"#7fbc41\"], [0.9, \"#4d9221\"], [1, \"#276419\"]], \"sequential\": [[0.0, \"#0d0887\"], [0.1111111111111111, \"#46039f\"], [0.2222222222222222, \"#7201a8\"], [0.3333333333333333, \"#9c179e\"], [0.4444444444444444, \"#bd3786\"], [0.5555555555555556, \"#d8576b\"], [0.6666666666666666, \"#ed7953\"], [0.7777777777777778, \"#fb9f3a\"], [0.8888888888888888, \"#fdca26\"], [1.0, \"#f0f921\"]], \"sequentialminus\": [[0.0, \"#0d0887\"], [0.1111111111111111, \"#46039f\"], [0.2222222222222222, \"#7201a8\"], [0.3333333333333333, \"#9c179e\"], [0.4444444444444444, \"#bd3786\"], [0.5555555555555556, \"#d8576b\"], [0.6666666666666666, \"#ed7953\"], [0.7777777777777778, \"#fb9f3a\"], [0.8888888888888888, \"#fdca26\"], [1.0, \"#f0f921\"]]}, \"colorway\": [\"#636efa\", \"#EF553B\", \"#00cc96\", \"#ab63fa\", \"#FFA15A\", \"#19d3f3\", \"#FF6692\", \"#B6E880\", \"#FF97FF\", \"#FECB52\"], \"font\": {\"color\": \"#2a3f5f\"}, \"geo\": {\"bgcolor\": \"white\", \"lakecolor\": \"white\", \"landcolor\": \"#E5ECF6\", \"showlakes\": true, \"showland\": true, \"subunitcolor\": \"white\"}, \"hoverlabel\": {\"align\": \"left\"}, \"hovermode\": \"closest\", \"mapbox\": {\"style\": \"light\"}, \"paper_bgcolor\": \"white\", \"plot_bgcolor\": \"#E5ECF6\", \"polar\": {\"angularaxis\": {\"gridcolor\": \"white\", \"linecolor\": \"white\", \"ticks\": \"\"}, \"bgcolor\": \"#E5ECF6\", \"radialaxis\": {\"gridcolor\": \"white\", \"linecolor\": \"white\", \"ticks\": \"\"}}, \"scene\": {\"xaxis\": {\"backgroundcolor\": \"#E5ECF6\", \"gridcolor\": \"white\", \"gridwidth\": 2, \"linecolor\": \"white\", \"showbackground\": true, \"ticks\": \"\", \"zerolinecolor\": \"white\"}, \"yaxis\": {\"backgroundcolor\": \"#E5ECF6\", \"gridcolor\": \"white\", \"gridwidth\": 2, \"linecolor\": \"white\", \"showbackground\": true, \"ticks\": \"\", \"zerolinecolor\": \"white\"}, \"zaxis\": {\"backgroundcolor\": \"#E5ECF6\", \"gridcolor\": \"white\", \"gridwidth\": 2, \"linecolor\": \"white\", \"showbackground\": true, \"ticks\": \"\", \"zerolinecolor\": \"white\"}}, \"shapedefaults\": {\"line\": {\"color\": \"#2a3f5f\"}}, \"ternary\": {\"aaxis\": {\"gridcolor\": \"white\", \"linecolor\": \"white\", \"ticks\": \"\"}, \"baxis\": {\"gridcolor\": \"white\", \"linecolor\": \"white\", \"ticks\": \"\"}, \"bgcolor\": \"#E5ECF6\", \"caxis\": {\"gridcolor\": \"white\", \"linecolor\": \"white\", \"ticks\": \"\"}}, \"title\": {\"x\": 0.05}, \"xaxis\": {\"automargin\": true, \"gridcolor\": \"white\", \"linecolor\": \"white\", \"ticks\": \"\", \"title\": {\"standoff\": 15}, \"zerolinecolor\": \"white\", \"zerolinewidth\": 2}, \"yaxis\": {\"automargin\": true, \"gridcolor\": \"white\", \"linecolor\": \"white\", \"ticks\": \"\", \"title\": {\"standoff\": 15}, \"zerolinecolor\": \"white\", \"zerolinewidth\": 2}}}, \"width\": 700, \"xaxis\": {\"anchor\": \"y\", \"domain\": [0.0, 1.0], \"title\": {\"text\": \"x1\"}}, \"yaxis\": {\"anchor\": \"x\", \"domain\": [0.0, 1.0], \"title\": {\"text\": \"x2\"}}},\n",
              "                        {\"responsive\": true}\n",
              "                    ).then(function(){\n",
              "                            \n",
              "var gd = document.getElementById('c3567a95-38ac-46e0-a66d-5824dc483cbc');\n",
              "var x = new MutationObserver(function (mutations, observer) {{\n",
              "        var display = window.getComputedStyle(gd).display;\n",
              "        if (!display || display === 'none') {{\n",
              "            console.log([gd, 'removed!']);\n",
              "            Plotly.purge(gd);\n",
              "            observer.disconnect();\n",
              "        }}\n",
              "}});\n",
              "\n",
              "// Listen for the removal of the full notebook cells\n",
              "var notebookContainer = gd.closest('#notebook-container');\n",
              "if (notebookContainer) {{\n",
              "    x.observe(notebookContainer, {childList: true});\n",
              "}}\n",
              "\n",
              "// Listen for the clearing of the current output cell\n",
              "var outputEl = gd.closest('.output');\n",
              "if (outputEl) {{\n",
              "    x.observe(outputEl, {childList: true});\n",
              "}}\n",
              "\n",
              "                        })\n",
              "                };\n",
              "                \n",
              "            </script>\n",
              "        </div>\n",
              "</body>\n",
              "</html>"
            ]
          },
          "metadata": {
            "tags": []
          }
        }
      ]
    },
    {
      "cell_type": "code",
      "metadata": {
        "id": "LAauLD4TTycC",
        "colab_type": "code",
        "colab": {
          "base_uri": "https://localhost:8080/",
          "height": 542
        },
        "outputId": "2a2d3263-e83c-4af2-dde3-c91738b2c2c9"
      },
      "source": [
        "X_out, y_out = get_outliers_inliers(X_train, y_train)\n",
        "\n",
        "tmp = pd.DataFrame(data=X_out, columns=['x1', 'x2'])\n",
        "px.scatter(tmp, x='x1', y='x2', width=700)"
      ],
      "execution_count": 32,
      "outputs": [
        {
          "output_type": "display_data",
          "data": {
            "text/html": [
              "<html>\n",
              "<head><meta charset=\"utf-8\" /></head>\n",
              "<body>\n",
              "    <div>\n",
              "            <script src=\"https://cdnjs.cloudflare.com/ajax/libs/mathjax/2.7.5/MathJax.js?config=TeX-AMS-MML_SVG\"></script><script type=\"text/javascript\">if (window.MathJax) {MathJax.Hub.Config({SVG: {font: \"STIX-Web\"}});}</script>\n",
              "                <script type=\"text/javascript\">window.PlotlyConfig = {MathJaxConfig: 'local'};</script>\n",
              "        <script src=\"https://cdn.plot.ly/plotly-latest.min.js\"></script>    \n",
              "            <div id=\"85be4709-db18-44e8-8594-e5bf4800cd91\" class=\"plotly-graph-div\" style=\"height:525px; width:700px;\"></div>\n",
              "            <script type=\"text/javascript\">\n",
              "                \n",
              "                    window.PLOTLYENV=window.PLOTLYENV || {};\n",
              "                    \n",
              "                if (document.getElementById(\"85be4709-db18-44e8-8594-e5bf4800cd91\")) {\n",
              "                    Plotly.newPlot(\n",
              "                        '85be4709-db18-44e8-8594-e5bf4800cd91',\n",
              "                        [{\"hoverlabel\": {\"namelength\": 0}, \"hovertemplate\": \"x1=%{x}<br>x2=%{y}\", \"legendgroup\": \"\", \"marker\": {\"color\": \"#636efa\", \"symbol\": \"circle\"}, \"mode\": \"markers\", \"name\": \"\", \"showlegend\": false, \"type\": \"scatter\", \"x\": [4.209810214033755, 3.6703786408937216, 4.107768423578179, -5.7810902228596674, 5.967066417220732, 0.9119810136679192, -5.936399923228735, -0.1110146488945869, 3.85033767784023, 0.4204407845389264, 4.062990704431497, 5.6159287980508115, -3.605916871940163, 0.35808027817340005, 3.2133540173140656, 0.07324747631216422, -2.1522936940858286, -1.5692342218812465, 0.5832374152578383, -3.57923445203717, -4.945582665088118, -5.967469207028044, -0.32200558737729335, 3.53147339959755, 4.208729520197457, -1.0977804847689967, 5.891153717488688, -1.449256980434395, 2.659158609015325, 3.3781737810169794], \"xaxis\": \"x\", \"y\": [-4.9453485055182735, -5.332158127716296, -5.380374265505846, 2.3635375483970584, 4.75932315568825, 5.00874735702638, 5.7008059553417105, 2.674753159461307, 2.621487250038644, -0.2805661904830563, -3.5390692782064908, 2.5314297460409794, 2.8349662043818586, 2.4867611477333345, -4.952517844923895, 5.18417210708321, 1.1265971706947857, -0.5487843333708042, 0.5870637586677274, 2.2148585745580007, -4.334102718695755, -4.599647230299825, 1.273222572670063, -4.719608998638767, 2.951694306584617, 5.195256805199456, -3.539978279361153, 5.117393083076534, -5.422864272430948, 3.9352906461299035], \"yaxis\": \"y\"}],\n",
              "                        {\"legend\": {\"tracegroupgap\": 0}, \"margin\": {\"t\": 60}, \"template\": {\"data\": {\"bar\": [{\"error_x\": {\"color\": \"#2a3f5f\"}, \"error_y\": {\"color\": \"#2a3f5f\"}, \"marker\": {\"line\": {\"color\": \"#E5ECF6\", \"width\": 0.5}}, \"type\": \"bar\"}], \"barpolar\": [{\"marker\": {\"line\": {\"color\": \"#E5ECF6\", \"width\": 0.5}}, \"type\": \"barpolar\"}], \"carpet\": [{\"aaxis\": {\"endlinecolor\": \"#2a3f5f\", \"gridcolor\": \"white\", \"linecolor\": \"white\", \"minorgridcolor\": \"white\", \"startlinecolor\": \"#2a3f5f\"}, \"baxis\": {\"endlinecolor\": \"#2a3f5f\", \"gridcolor\": \"white\", \"linecolor\": \"white\", \"minorgridcolor\": \"white\", \"startlinecolor\": \"#2a3f5f\"}, \"type\": \"carpet\"}], \"choropleth\": [{\"colorbar\": {\"outlinewidth\": 0, \"ticks\": \"\"}, \"type\": \"choropleth\"}], \"contour\": [{\"colorbar\": {\"outlinewidth\": 0, \"ticks\": \"\"}, \"colorscale\": [[0.0, \"#0d0887\"], [0.1111111111111111, \"#46039f\"], [0.2222222222222222, \"#7201a8\"], [0.3333333333333333, \"#9c179e\"], [0.4444444444444444, \"#bd3786\"], [0.5555555555555556, \"#d8576b\"], [0.6666666666666666, \"#ed7953\"], [0.7777777777777778, \"#fb9f3a\"], [0.8888888888888888, \"#fdca26\"], [1.0, \"#f0f921\"]], \"type\": \"contour\"}], \"contourcarpet\": [{\"colorbar\": {\"outlinewidth\": 0, \"ticks\": \"\"}, \"type\": \"contourcarpet\"}], \"heatmap\": [{\"colorbar\": {\"outlinewidth\": 0, \"ticks\": \"\"}, \"colorscale\": [[0.0, \"#0d0887\"], [0.1111111111111111, \"#46039f\"], [0.2222222222222222, \"#7201a8\"], [0.3333333333333333, \"#9c179e\"], [0.4444444444444444, \"#bd3786\"], [0.5555555555555556, \"#d8576b\"], [0.6666666666666666, \"#ed7953\"], [0.7777777777777778, \"#fb9f3a\"], [0.8888888888888888, \"#fdca26\"], [1.0, \"#f0f921\"]], \"type\": \"heatmap\"}], \"heatmapgl\": [{\"colorbar\": {\"outlinewidth\": 0, \"ticks\": \"\"}, \"colorscale\": [[0.0, \"#0d0887\"], [0.1111111111111111, \"#46039f\"], [0.2222222222222222, \"#7201a8\"], [0.3333333333333333, \"#9c179e\"], [0.4444444444444444, \"#bd3786\"], [0.5555555555555556, \"#d8576b\"], [0.6666666666666666, \"#ed7953\"], [0.7777777777777778, \"#fb9f3a\"], [0.8888888888888888, \"#fdca26\"], [1.0, \"#f0f921\"]], \"type\": \"heatmapgl\"}], \"histogram\": [{\"marker\": {\"colorbar\": {\"outlinewidth\": 0, \"ticks\": \"\"}}, \"type\": \"histogram\"}], \"histogram2d\": [{\"colorbar\": {\"outlinewidth\": 0, \"ticks\": \"\"}, \"colorscale\": [[0.0, \"#0d0887\"], [0.1111111111111111, \"#46039f\"], [0.2222222222222222, \"#7201a8\"], [0.3333333333333333, \"#9c179e\"], [0.4444444444444444, \"#bd3786\"], [0.5555555555555556, \"#d8576b\"], [0.6666666666666666, \"#ed7953\"], [0.7777777777777778, \"#fb9f3a\"], [0.8888888888888888, \"#fdca26\"], [1.0, \"#f0f921\"]], \"type\": \"histogram2d\"}], \"histogram2dcontour\": [{\"colorbar\": {\"outlinewidth\": 0, \"ticks\": \"\"}, \"colorscale\": [[0.0, \"#0d0887\"], [0.1111111111111111, \"#46039f\"], [0.2222222222222222, \"#7201a8\"], [0.3333333333333333, \"#9c179e\"], [0.4444444444444444, \"#bd3786\"], [0.5555555555555556, \"#d8576b\"], [0.6666666666666666, \"#ed7953\"], [0.7777777777777778, \"#fb9f3a\"], [0.8888888888888888, \"#fdca26\"], [1.0, \"#f0f921\"]], \"type\": \"histogram2dcontour\"}], \"mesh3d\": [{\"colorbar\": {\"outlinewidth\": 0, \"ticks\": \"\"}, \"type\": \"mesh3d\"}], \"parcoords\": [{\"line\": {\"colorbar\": {\"outlinewidth\": 0, \"ticks\": \"\"}}, \"type\": \"parcoords\"}], \"pie\": [{\"automargin\": true, \"type\": \"pie\"}], \"scatter\": [{\"marker\": {\"colorbar\": {\"outlinewidth\": 0, \"ticks\": \"\"}}, \"type\": \"scatter\"}], \"scatter3d\": [{\"line\": {\"colorbar\": {\"outlinewidth\": 0, \"ticks\": \"\"}}, \"marker\": {\"colorbar\": {\"outlinewidth\": 0, \"ticks\": \"\"}}, \"type\": \"scatter3d\"}], \"scattercarpet\": [{\"marker\": {\"colorbar\": {\"outlinewidth\": 0, \"ticks\": \"\"}}, \"type\": \"scattercarpet\"}], \"scattergeo\": [{\"marker\": {\"colorbar\": {\"outlinewidth\": 0, \"ticks\": \"\"}}, \"type\": \"scattergeo\"}], \"scattergl\": [{\"marker\": {\"colorbar\": {\"outlinewidth\": 0, \"ticks\": \"\"}}, \"type\": \"scattergl\"}], \"scattermapbox\": [{\"marker\": {\"colorbar\": {\"outlinewidth\": 0, \"ticks\": \"\"}}, \"type\": \"scattermapbox\"}], \"scatterpolar\": [{\"marker\": {\"colorbar\": {\"outlinewidth\": 0, \"ticks\": \"\"}}, \"type\": \"scatterpolar\"}], \"scatterpolargl\": [{\"marker\": {\"colorbar\": {\"outlinewidth\": 0, \"ticks\": \"\"}}, \"type\": \"scatterpolargl\"}], \"scatterternary\": [{\"marker\": {\"colorbar\": {\"outlinewidth\": 0, \"ticks\": \"\"}}, \"type\": \"scatterternary\"}], \"surface\": [{\"colorbar\": {\"outlinewidth\": 0, \"ticks\": \"\"}, \"colorscale\": [[0.0, \"#0d0887\"], [0.1111111111111111, \"#46039f\"], [0.2222222222222222, \"#7201a8\"], [0.3333333333333333, \"#9c179e\"], [0.4444444444444444, \"#bd3786\"], [0.5555555555555556, \"#d8576b\"], [0.6666666666666666, \"#ed7953\"], [0.7777777777777778, \"#fb9f3a\"], [0.8888888888888888, \"#fdca26\"], [1.0, \"#f0f921\"]], \"type\": \"surface\"}], \"table\": [{\"cells\": {\"fill\": {\"color\": \"#EBF0F8\"}, \"line\": {\"color\": \"white\"}}, \"header\": {\"fill\": {\"color\": \"#C8D4E3\"}, \"line\": {\"color\": \"white\"}}, \"type\": \"table\"}]}, \"layout\": {\"annotationdefaults\": {\"arrowcolor\": \"#2a3f5f\", \"arrowhead\": 0, \"arrowwidth\": 1}, \"coloraxis\": {\"colorbar\": {\"outlinewidth\": 0, \"ticks\": \"\"}}, \"colorscale\": {\"diverging\": [[0, \"#8e0152\"], [0.1, \"#c51b7d\"], [0.2, \"#de77ae\"], [0.3, \"#f1b6da\"], [0.4, \"#fde0ef\"], [0.5, \"#f7f7f7\"], [0.6, \"#e6f5d0\"], [0.7, \"#b8e186\"], [0.8, \"#7fbc41\"], [0.9, \"#4d9221\"], [1, \"#276419\"]], \"sequential\": [[0.0, \"#0d0887\"], [0.1111111111111111, \"#46039f\"], [0.2222222222222222, \"#7201a8\"], [0.3333333333333333, \"#9c179e\"], [0.4444444444444444, \"#bd3786\"], [0.5555555555555556, \"#d8576b\"], [0.6666666666666666, \"#ed7953\"], [0.7777777777777778, \"#fb9f3a\"], [0.8888888888888888, \"#fdca26\"], [1.0, \"#f0f921\"]], \"sequentialminus\": [[0.0, \"#0d0887\"], [0.1111111111111111, \"#46039f\"], [0.2222222222222222, \"#7201a8\"], [0.3333333333333333, \"#9c179e\"], [0.4444444444444444, \"#bd3786\"], [0.5555555555555556, \"#d8576b\"], [0.6666666666666666, \"#ed7953\"], [0.7777777777777778, \"#fb9f3a\"], [0.8888888888888888, \"#fdca26\"], [1.0, \"#f0f921\"]]}, \"colorway\": [\"#636efa\", \"#EF553B\", \"#00cc96\", \"#ab63fa\", \"#FFA15A\", \"#19d3f3\", \"#FF6692\", \"#B6E880\", \"#FF97FF\", \"#FECB52\"], \"font\": {\"color\": \"#2a3f5f\"}, \"geo\": {\"bgcolor\": \"white\", \"lakecolor\": \"white\", \"landcolor\": \"#E5ECF6\", \"showlakes\": true, \"showland\": true, \"subunitcolor\": \"white\"}, \"hoverlabel\": {\"align\": \"left\"}, \"hovermode\": \"closest\", \"mapbox\": {\"style\": \"light\"}, \"paper_bgcolor\": \"white\", \"plot_bgcolor\": \"#E5ECF6\", \"polar\": {\"angularaxis\": {\"gridcolor\": \"white\", \"linecolor\": \"white\", \"ticks\": \"\"}, \"bgcolor\": \"#E5ECF6\", \"radialaxis\": {\"gridcolor\": \"white\", \"linecolor\": \"white\", \"ticks\": \"\"}}, \"scene\": {\"xaxis\": {\"backgroundcolor\": \"#E5ECF6\", \"gridcolor\": \"white\", \"gridwidth\": 2, \"linecolor\": \"white\", \"showbackground\": true, \"ticks\": \"\", \"zerolinecolor\": \"white\"}, \"yaxis\": {\"backgroundcolor\": \"#E5ECF6\", \"gridcolor\": \"white\", \"gridwidth\": 2, \"linecolor\": \"white\", \"showbackground\": true, \"ticks\": \"\", \"zerolinecolor\": \"white\"}, \"zaxis\": {\"backgroundcolor\": \"#E5ECF6\", \"gridcolor\": \"white\", \"gridwidth\": 2, \"linecolor\": \"white\", \"showbackground\": true, \"ticks\": \"\", \"zerolinecolor\": \"white\"}}, \"shapedefaults\": {\"line\": {\"color\": \"#2a3f5f\"}}, \"ternary\": {\"aaxis\": {\"gridcolor\": \"white\", \"linecolor\": \"white\", \"ticks\": \"\"}, \"baxis\": {\"gridcolor\": \"white\", \"linecolor\": \"white\", \"ticks\": \"\"}, \"bgcolor\": \"#E5ECF6\", \"caxis\": {\"gridcolor\": \"white\", \"linecolor\": \"white\", \"ticks\": \"\"}}, \"title\": {\"x\": 0.05}, \"xaxis\": {\"automargin\": true, \"gridcolor\": \"white\", \"linecolor\": \"white\", \"ticks\": \"\", \"title\": {\"standoff\": 15}, \"zerolinecolor\": \"white\", \"zerolinewidth\": 2}, \"yaxis\": {\"automargin\": true, \"gridcolor\": \"white\", \"linecolor\": \"white\", \"ticks\": \"\", \"title\": {\"standoff\": 15}, \"zerolinecolor\": \"white\", \"zerolinewidth\": 2}}}, \"width\": 700, \"xaxis\": {\"anchor\": \"y\", \"domain\": [0.0, 1.0], \"title\": {\"text\": \"x1\"}}, \"yaxis\": {\"anchor\": \"x\", \"domain\": [0.0, 1.0], \"title\": {\"text\": \"x2\"}}},\n",
              "                        {\"responsive\": true}\n",
              "                    ).then(function(){\n",
              "                            \n",
              "var gd = document.getElementById('85be4709-db18-44e8-8594-e5bf4800cd91');\n",
              "var x = new MutationObserver(function (mutations, observer) {{\n",
              "        var display = window.getComputedStyle(gd).display;\n",
              "        if (!display || display === 'none') {{\n",
              "            console.log([gd, 'removed!']);\n",
              "            Plotly.purge(gd);\n",
              "            observer.disconnect();\n",
              "        }}\n",
              "}});\n",
              "\n",
              "// Listen for the removal of the full notebook cells\n",
              "var notebookContainer = gd.closest('#notebook-container');\n",
              "if (notebookContainer) {{\n",
              "    x.observe(notebookContainer, {childList: true});\n",
              "}}\n",
              "\n",
              "// Listen for the clearing of the current output cell\n",
              "var outputEl = gd.closest('.output');\n",
              "if (outputEl) {{\n",
              "    x.observe(outputEl, {childList: true});\n",
              "}}\n",
              "\n",
              "                        })\n",
              "                };\n",
              "                \n",
              "            </script>\n",
              "        </div>\n",
              "</body>\n",
              "</html>"
            ]
          },
          "metadata": {
            "tags": []
          }
        }
      ]
    },
    {
      "cell_type": "code",
      "metadata": {
        "id": "k7pqMdZFUl_l",
        "colab_type": "code",
        "colab": {
          "base_uri": "https://localhost:8080/",
          "height": 70
        },
        "outputId": "9381c00a-f3ee-4169-e144-d020e4dd5de2"
      },
      "source": [
        "model = KNN(contamination=0.1)\n",
        "model.fit(X_train)"
      ],
      "execution_count": 33,
      "outputs": [
        {
          "output_type": "execute_result",
          "data": {
            "text/plain": [
              "KNN(algorithm='auto', contamination=0.1, leaf_size=30, method='largest',\n",
              "  metric='minkowski', metric_params=None, n_jobs=1, n_neighbors=5, p=2,\n",
              "  radius=1.0)"
            ]
          },
          "metadata": {
            "tags": []
          },
          "execution_count": 33
        }
      ]
    },
    {
      "cell_type": "code",
      "metadata": {
        "id": "oqfgTu_9WJ9F",
        "colab_type": "code",
        "colab": {
          "base_uri": "https://localhost:8080/",
          "height": 263
        },
        "outputId": "9f745d50-30cf-4016-9db3-ca41359a6eac"
      },
      "source": [
        "model.predict(X_train)"
      ],
      "execution_count": 35,
      "outputs": [
        {
          "output_type": "execute_result",
          "data": {
            "text/plain": [
              "array([0, 0, 0, 0, 0, 0, 0, 0, 0, 0, 0, 0, 0, 0, 0, 0, 0, 0, 0, 0, 0, 0,\n",
              "       0, 0, 0, 0, 0, 0, 0, 0, 0, 0, 0, 0, 0, 0, 0, 0, 0, 0, 0, 0, 0, 0,\n",
              "       0, 0, 0, 0, 0, 0, 0, 0, 0, 0, 0, 0, 0, 0, 0, 0, 0, 0, 0, 0, 0, 0,\n",
              "       0, 0, 0, 0, 0, 0, 0, 0, 0, 0, 0, 0, 0, 0, 0, 0, 0, 0, 0, 0, 0, 0,\n",
              "       0, 0, 0, 0, 0, 0, 0, 0, 0, 0, 0, 0, 0, 0, 0, 0, 0, 0, 0, 0, 0, 0,\n",
              "       0, 0, 0, 0, 0, 0, 0, 0, 0, 0, 0, 0, 0, 0, 0, 0, 0, 0, 0, 0, 0, 0,\n",
              "       0, 0, 0, 0, 0, 0, 0, 0, 0, 0, 0, 0, 0, 0, 0, 0, 0, 0, 0, 0, 0, 0,\n",
              "       0, 0, 0, 0, 0, 0, 0, 0, 0, 0, 0, 0, 0, 0, 0, 0, 0, 0, 0, 0, 0, 0,\n",
              "       0, 0, 0, 0, 0, 0, 0, 0, 0, 0, 0, 0, 0, 0, 0, 0, 0, 0, 0, 0, 0, 0,\n",
              "       0, 0, 0, 0, 0, 0, 0, 0, 0, 0, 0, 0, 0, 0, 0, 0, 0, 0, 0, 0, 0, 1,\n",
              "       0, 0, 0, 0, 0, 0, 0, 0, 0, 0, 0, 0, 0, 0, 0, 0, 0, 0, 0, 0, 0, 0,\n",
              "       0, 0, 0, 0, 0, 0, 0, 0, 0, 0, 0, 0, 0, 0, 0, 0, 0, 0, 0, 0, 0, 0,\n",
              "       0, 0, 0, 0, 0, 0, 1, 0, 1, 1, 0, 1, 1, 1, 1, 1, 1, 1, 1, 1, 1, 1,\n",
              "       1, 1, 1, 1, 1, 1, 1, 0, 1, 1, 1, 1, 1, 1])"
            ]
          },
          "metadata": {
            "tags": []
          },
          "execution_count": 35
        }
      ]
    },
    {
      "cell_type": "code",
      "metadata": {
        "id": "BPigd9ZfWN2J",
        "colab_type": "code",
        "colab": {}
      },
      "source": [
        "xx , yy = np.meshgrid(np.linspace(-10, 10, 200), np.linspace(-10, 10, 200))"
      ],
      "execution_count": 0,
      "outputs": []
    }
  ]
}