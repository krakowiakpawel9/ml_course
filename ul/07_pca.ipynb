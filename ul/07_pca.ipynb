{
  "nbformat": 4,
  "nbformat_minor": 0,
  "metadata": {
    "colab": {
      "name": "Untitled71.ipynb",
      "provenance": [],
      "include_colab_link": true
    },
    "kernelspec": {
      "name": "python3",
      "display_name": "Python 3"
    }
  },
  "cells": [
    {
      "cell_type": "markdown",
      "metadata": {
        "id": "view-in-github",
        "colab_type": "text"
      },
      "source": [
        "<a href=\"https://colab.research.google.com/github/krakowiakpawel9/ml_course/blob/master/ul/07_pca.ipynb\" target=\"_parent\"><img src=\"https://colab.research.google.com/assets/colab-badge.svg\" alt=\"Open In Colab\"/></a>"
      ]
    },
    {
      "cell_type": "markdown",
      "metadata": {
        "id": "C80St0V-_VIi",
        "colab_type": "text"
      },
      "source": [
        "### scikit-learn\n",
        "Strona biblioteki: [https://scikit-learn.org](https://scikit-learn.org)  \n",
        "\n",
        "Dokumentacja/User Guide: [https://scikit-learn.org/stable/user_guide.html](https://scikit-learn.org/stable/user_guide.html)\n",
        "\n",
        "Podstawowa biblioteka do uczenia maszynowego w języku Python.\n",
        "\n",
        "Aby zainstalować bibliotekę scikit-learn, użyj polecenia poniżej:\n",
        "```\n",
        "!pip install scikit-learn\n",
        "```\n",
        "Aby zaktualizować do najnowszej wersji bibliotekę scikit-learn, użyj polecenia poniżej:\n",
        "```\n",
        "!pip install --upgrade scikit-learn\n",
        "```\n",
        "Kurs stworzony w oparciu o wersję `0.22.1`\n",
        "\n",
        "### Spis treści:\n",
        "1. [Import bibliotek](#0)\n",
        "2. [Wygenerowanie danych](#1)\n",
        "3. [Wizualizacja danych](#2)\n",
        "4. [Algorytm K-średnich](#3)\n",
        "5. [Wizualizacja klastrów](#4)\n",
        "\n",
        "\n"
      ]
    },
    {
      "cell_type": "markdown",
      "metadata": {
        "id": "dCogYvFX_YD4",
        "colab_type": "text"
      },
      "source": [
        "### <a name='0'></a> Import bibliotek"
      ]
    },
    {
      "cell_type": "code",
      "metadata": {
        "id": "65KnjG1MLRHN",
        "colab_type": "code",
        "colab": {}
      },
      "source": [
        "from sklearn.datasets import load_iris\n",
        "import pandas as pd\n",
        "import numpy as np\n",
        "import matplotlib.pyplot as plt\n",
        "import seaborn as sns\n",
        "import plotly.express as px\n",
        "\n",
        "sns.set()\n",
        "np.random.seed(42)\n",
        "np.set_printoptions(precision=6, suppress=True)"
      ],
      "execution_count": 0,
      "outputs": []
    },
    {
      "cell_type": "code",
      "metadata": {
        "id": "6a9SoX3lLWSz",
        "colab_type": "code",
        "outputId": "d8e965f4-a644-4480-ad5d-033987babc7f",
        "colab": {
          "base_uri": "https://localhost:8080/",
          "height": 34
        }
      },
      "source": [
        "raw_data = load_iris()\n",
        "all_data = raw_data.copy()\n",
        "all_data.keys()"
      ],
      "execution_count": 2,
      "outputs": [
        {
          "output_type": "execute_result",
          "data": {
            "text/plain": [
              "dict_keys(['data', 'target', 'target_names', 'DESCR', 'feature_names', 'filename'])"
            ]
          },
          "metadata": {
            "tags": []
          },
          "execution_count": 2
        }
      ]
    },
    {
      "cell_type": "code",
      "metadata": {
        "id": "aaLswnLDLZYE",
        "colab_type": "code",
        "outputId": "1c96fee1-9a5a-44d7-a6a8-d291a9b3d20c",
        "colab": {
          "base_uri": "https://localhost:8080/",
          "height": 204
        }
      },
      "source": [
        "df = pd.DataFrame(data=np.c_[all_data['data'], all_data['target']], columns=all_data['feature_names'] + ['target'])\n",
        "df.head()"
      ],
      "execution_count": 3,
      "outputs": [
        {
          "output_type": "execute_result",
          "data": {
            "text/html": [
              "<div>\n",
              "<style scoped>\n",
              "    .dataframe tbody tr th:only-of-type {\n",
              "        vertical-align: middle;\n",
              "    }\n",
              "\n",
              "    .dataframe tbody tr th {\n",
              "        vertical-align: top;\n",
              "    }\n",
              "\n",
              "    .dataframe thead th {\n",
              "        text-align: right;\n",
              "    }\n",
              "</style>\n",
              "<table border=\"1\" class=\"dataframe\">\n",
              "  <thead>\n",
              "    <tr style=\"text-align: right;\">\n",
              "      <th></th>\n",
              "      <th>sepal length (cm)</th>\n",
              "      <th>sepal width (cm)</th>\n",
              "      <th>petal length (cm)</th>\n",
              "      <th>petal width (cm)</th>\n",
              "      <th>target</th>\n",
              "    </tr>\n",
              "  </thead>\n",
              "  <tbody>\n",
              "    <tr>\n",
              "      <th>0</th>\n",
              "      <td>5.1</td>\n",
              "      <td>3.5</td>\n",
              "      <td>1.4</td>\n",
              "      <td>0.2</td>\n",
              "      <td>0.0</td>\n",
              "    </tr>\n",
              "    <tr>\n",
              "      <th>1</th>\n",
              "      <td>4.9</td>\n",
              "      <td>3.0</td>\n",
              "      <td>1.4</td>\n",
              "      <td>0.2</td>\n",
              "      <td>0.0</td>\n",
              "    </tr>\n",
              "    <tr>\n",
              "      <th>2</th>\n",
              "      <td>4.7</td>\n",
              "      <td>3.2</td>\n",
              "      <td>1.3</td>\n",
              "      <td>0.2</td>\n",
              "      <td>0.0</td>\n",
              "    </tr>\n",
              "    <tr>\n",
              "      <th>3</th>\n",
              "      <td>4.6</td>\n",
              "      <td>3.1</td>\n",
              "      <td>1.5</td>\n",
              "      <td>0.2</td>\n",
              "      <td>0.0</td>\n",
              "    </tr>\n",
              "    <tr>\n",
              "      <th>4</th>\n",
              "      <td>5.0</td>\n",
              "      <td>3.6</td>\n",
              "      <td>1.4</td>\n",
              "      <td>0.2</td>\n",
              "      <td>0.0</td>\n",
              "    </tr>\n",
              "  </tbody>\n",
              "</table>\n",
              "</div>"
            ],
            "text/plain": [
              "   sepal length (cm)  sepal width (cm)  ...  petal width (cm)  target\n",
              "0                5.1               3.5  ...               0.2     0.0\n",
              "1                4.9               3.0  ...               0.2     0.0\n",
              "2                4.7               3.2  ...               0.2     0.0\n",
              "3                4.6               3.1  ...               0.2     0.0\n",
              "4                5.0               3.6  ...               0.2     0.0\n",
              "\n",
              "[5 rows x 5 columns]"
            ]
          },
          "metadata": {
            "tags": []
          },
          "execution_count": 3
        }
      ]
    },
    {
      "cell_type": "code",
      "metadata": {
        "id": "llf-VvJVdd_a",
        "colab_type": "code",
        "colab": {
          "base_uri": "https://localhost:8080/",
          "height": 817
        },
        "outputId": "3ce67ac2-26b2-48fa-be2d-e44c8d4cc3ef"
      },
      "source": [
        "px.scatter_3d(df, x='petal length (cm)', y='petal width (cm)', z='sepal length (cm)', color='target', symbol='target', opacity=0.7, width=1000, height=800)"
      ],
      "execution_count": 4,
      "outputs": [
        {
          "output_type": "display_data",
          "data": {
            "text/html": [
              "<html>\n",
              "<head><meta charset=\"utf-8\" /></head>\n",
              "<body>\n",
              "    <div>\n",
              "            <script src=\"https://cdnjs.cloudflare.com/ajax/libs/mathjax/2.7.5/MathJax.js?config=TeX-AMS-MML_SVG\"></script><script type=\"text/javascript\">if (window.MathJax) {MathJax.Hub.Config({SVG: {font: \"STIX-Web\"}});}</script>\n",
              "                <script type=\"text/javascript\">window.PlotlyConfig = {MathJaxConfig: 'local'};</script>\n",
              "        <script src=\"https://cdn.plot.ly/plotly-latest.min.js\"></script>    \n",
              "            <div id=\"0cfad8cb-1fad-4ee5-bd17-c9ef9f36004d\" class=\"plotly-graph-div\" style=\"height:800px; width:1000px;\"></div>\n",
              "            <script type=\"text/javascript\">\n",
              "                \n",
              "                    window.PLOTLYENV=window.PLOTLYENV || {};\n",
              "                    \n",
              "                if (document.getElementById(\"0cfad8cb-1fad-4ee5-bd17-c9ef9f36004d\")) {\n",
              "                    Plotly.newPlot(\n",
              "                        '0cfad8cb-1fad-4ee5-bd17-c9ef9f36004d',\n",
              "                        [{\"hoverlabel\": {\"namelength\": 0}, \"hovertemplate\": \"target=%{marker.color}<br>petal length (cm)=%{x}<br>petal width (cm)=%{y}<br>sepal length (cm)=%{z}\", \"legendgroup\": \"target=0.0\", \"marker\": {\"color\": [0.0, 0.0, 0.0, 0.0, 0.0, 0.0, 0.0, 0.0, 0.0, 0.0, 0.0, 0.0, 0.0, 0.0, 0.0, 0.0, 0.0, 0.0, 0.0, 0.0, 0.0, 0.0, 0.0, 0.0, 0.0, 0.0, 0.0, 0.0, 0.0, 0.0, 0.0, 0.0, 0.0, 0.0, 0.0, 0.0, 0.0, 0.0, 0.0, 0.0, 0.0, 0.0, 0.0, 0.0, 0.0, 0.0, 0.0, 0.0, 0.0, 0.0], \"coloraxis\": \"coloraxis\", \"opacity\": 0.7, \"symbol\": \"circle\"}, \"mode\": \"markers\", \"name\": \"target=0.0\", \"scene\": \"scene\", \"showlegend\": true, \"type\": \"scatter3d\", \"x\": [1.4, 1.4, 1.3, 1.5, 1.4, 1.7, 1.4, 1.5, 1.4, 1.5, 1.5, 1.6, 1.4, 1.1, 1.2, 1.5, 1.3, 1.4, 1.7, 1.5, 1.7, 1.5, 1.0, 1.7, 1.9, 1.6, 1.6, 1.5, 1.4, 1.6, 1.6, 1.5, 1.5, 1.4, 1.5, 1.2, 1.3, 1.4, 1.3, 1.5, 1.3, 1.3, 1.3, 1.6, 1.9, 1.4, 1.6, 1.4, 1.5, 1.4], \"y\": [0.2, 0.2, 0.2, 0.2, 0.2, 0.4, 0.3, 0.2, 0.2, 0.1, 0.2, 0.2, 0.1, 0.1, 0.2, 0.4, 0.4, 0.3, 0.3, 0.3, 0.2, 0.4, 0.2, 0.5, 0.2, 0.2, 0.4, 0.2, 0.2, 0.2, 0.2, 0.4, 0.1, 0.2, 0.2, 0.2, 0.2, 0.1, 0.2, 0.2, 0.3, 0.3, 0.2, 0.6, 0.4, 0.3, 0.2, 0.2, 0.2, 0.2], \"z\": [5.1, 4.9, 4.7, 4.6, 5.0, 5.4, 4.6, 5.0, 4.4, 4.9, 5.4, 4.8, 4.8, 4.3, 5.8, 5.7, 5.4, 5.1, 5.7, 5.1, 5.4, 5.1, 4.6, 5.1, 4.8, 5.0, 5.0, 5.2, 5.2, 4.7, 4.8, 5.4, 5.2, 5.5, 4.9, 5.0, 5.5, 4.9, 4.4, 5.1, 5.0, 4.5, 4.4, 5.0, 5.1, 4.8, 5.1, 4.6, 5.3, 5.0]}, {\"hoverlabel\": {\"namelength\": 0}, \"hovertemplate\": \"target=%{marker.color}<br>petal length (cm)=%{x}<br>petal width (cm)=%{y}<br>sepal length (cm)=%{z}\", \"legendgroup\": \"target=1.0\", \"marker\": {\"color\": [1.0, 1.0, 1.0, 1.0, 1.0, 1.0, 1.0, 1.0, 1.0, 1.0, 1.0, 1.0, 1.0, 1.0, 1.0, 1.0, 1.0, 1.0, 1.0, 1.0, 1.0, 1.0, 1.0, 1.0, 1.0, 1.0, 1.0, 1.0, 1.0, 1.0, 1.0, 1.0, 1.0, 1.0, 1.0, 1.0, 1.0, 1.0, 1.0, 1.0, 1.0, 1.0, 1.0, 1.0, 1.0, 1.0, 1.0, 1.0, 1.0, 1.0], \"coloraxis\": \"coloraxis\", \"opacity\": 0.7, \"symbol\": \"diamond\"}, \"mode\": \"markers\", \"name\": \"target=1.0\", \"scene\": \"scene\", \"showlegend\": true, \"type\": \"scatter3d\", \"x\": [4.7, 4.5, 4.9, 4.0, 4.6, 4.5, 4.7, 3.3, 4.6, 3.9, 3.5, 4.2, 4.0, 4.7, 3.6, 4.4, 4.5, 4.1, 4.5, 3.9, 4.8, 4.0, 4.9, 4.7, 4.3, 4.4, 4.8, 5.0, 4.5, 3.5, 3.8, 3.7, 3.9, 5.1, 4.5, 4.5, 4.7, 4.4, 4.1, 4.0, 4.4, 4.6, 4.0, 3.3, 4.2, 4.2, 4.2, 4.3, 3.0, 4.1], \"y\": [1.4, 1.5, 1.5, 1.3, 1.5, 1.3, 1.6, 1.0, 1.3, 1.4, 1.0, 1.5, 1.0, 1.4, 1.3, 1.4, 1.5, 1.0, 1.5, 1.1, 1.8, 1.3, 1.5, 1.2, 1.3, 1.4, 1.4, 1.7, 1.5, 1.0, 1.1, 1.0, 1.2, 1.6, 1.5, 1.6, 1.5, 1.3, 1.3, 1.3, 1.2, 1.4, 1.2, 1.0, 1.3, 1.2, 1.3, 1.3, 1.1, 1.3], \"z\": [7.0, 6.4, 6.9, 5.5, 6.5, 5.7, 6.3, 4.9, 6.6, 5.2, 5.0, 5.9, 6.0, 6.1, 5.6, 6.7, 5.6, 5.8, 6.2, 5.6, 5.9, 6.1, 6.3, 6.1, 6.4, 6.6, 6.8, 6.7, 6.0, 5.7, 5.5, 5.5, 5.8, 6.0, 5.4, 6.0, 6.7, 6.3, 5.6, 5.5, 5.5, 6.1, 5.8, 5.0, 5.6, 5.7, 5.7, 6.2, 5.1, 5.7]}, {\"hoverlabel\": {\"namelength\": 0}, \"hovertemplate\": \"target=%{marker.color}<br>petal length (cm)=%{x}<br>petal width (cm)=%{y}<br>sepal length (cm)=%{z}\", \"legendgroup\": \"target=2.0\", \"marker\": {\"color\": [2.0, 2.0, 2.0, 2.0, 2.0, 2.0, 2.0, 2.0, 2.0, 2.0, 2.0, 2.0, 2.0, 2.0, 2.0, 2.0, 2.0, 2.0, 2.0, 2.0, 2.0, 2.0, 2.0, 2.0, 2.0, 2.0, 2.0, 2.0, 2.0, 2.0, 2.0, 2.0, 2.0, 2.0, 2.0, 2.0, 2.0, 2.0, 2.0, 2.0, 2.0, 2.0, 2.0, 2.0, 2.0, 2.0, 2.0, 2.0, 2.0, 2.0], \"coloraxis\": \"coloraxis\", \"opacity\": 0.7, \"symbol\": \"square\"}, \"mode\": \"markers\", \"name\": \"target=2.0\", \"scene\": \"scene\", \"showlegend\": true, \"type\": \"scatter3d\", \"x\": [6.0, 5.1, 5.9, 5.6, 5.8, 6.6, 4.5, 6.3, 5.8, 6.1, 5.1, 5.3, 5.5, 5.0, 5.1, 5.3, 5.5, 6.7, 6.9, 5.0, 5.7, 4.9, 6.7, 4.9, 5.7, 6.0, 4.8, 4.9, 5.6, 5.8, 6.1, 6.4, 5.6, 5.1, 5.6, 6.1, 5.6, 5.5, 4.8, 5.4, 5.6, 5.1, 5.1, 5.9, 5.7, 5.2, 5.0, 5.2, 5.4, 5.1], \"y\": [2.5, 1.9, 2.1, 1.8, 2.2, 2.1, 1.7, 1.8, 1.8, 2.5, 2.0, 1.9, 2.1, 2.0, 2.4, 2.3, 1.8, 2.2, 2.3, 1.5, 2.3, 2.0, 2.0, 1.8, 2.1, 1.8, 1.8, 1.8, 2.1, 1.6, 1.9, 2.0, 2.2, 1.5, 1.4, 2.3, 2.4, 1.8, 1.8, 2.1, 2.4, 2.3, 1.9, 2.3, 2.5, 2.3, 1.9, 2.0, 2.3, 1.8], \"z\": [6.3, 5.8, 7.1, 6.3, 6.5, 7.6, 4.9, 7.3, 6.7, 7.2, 6.5, 6.4, 6.8, 5.7, 5.8, 6.4, 6.5, 7.7, 7.7, 6.0, 6.9, 5.6, 7.7, 6.3, 6.7, 7.2, 6.2, 6.1, 6.4, 7.2, 7.4, 7.9, 6.4, 6.3, 6.1, 7.7, 6.3, 6.4, 6.0, 6.9, 6.7, 6.9, 5.8, 6.8, 6.7, 6.7, 6.3, 6.5, 6.2, 5.9]}],\n",
              "                        {\"coloraxis\": {\"colorbar\": {\"title\": {\"text\": \"target\"}}, \"colorscale\": [[0.0, \"#0d0887\"], [0.1111111111111111, \"#46039f\"], [0.2222222222222222, \"#7201a8\"], [0.3333333333333333, \"#9c179e\"], [0.4444444444444444, \"#bd3786\"], [0.5555555555555556, \"#d8576b\"], [0.6666666666666666, \"#ed7953\"], [0.7777777777777778, \"#fb9f3a\"], [0.8888888888888888, \"#fdca26\"], [1.0, \"#f0f921\"]]}, \"height\": 800, \"legend\": {\"tracegroupgap\": 0}, \"margin\": {\"t\": 60}, \"scene\": {\"domain\": {\"x\": [0.0, 1.0], \"y\": [0.0, 1.0]}, \"xaxis\": {\"title\": {\"text\": \"petal length (cm)\"}}, \"yaxis\": {\"title\": {\"text\": \"petal width (cm)\"}}, \"zaxis\": {\"title\": {\"text\": \"sepal length (cm)\"}}}, \"template\": {\"data\": {\"bar\": [{\"error_x\": {\"color\": \"#2a3f5f\"}, \"error_y\": {\"color\": \"#2a3f5f\"}, \"marker\": {\"line\": {\"color\": \"#E5ECF6\", \"width\": 0.5}}, \"type\": \"bar\"}], \"barpolar\": [{\"marker\": {\"line\": {\"color\": \"#E5ECF6\", \"width\": 0.5}}, \"type\": \"barpolar\"}], \"carpet\": [{\"aaxis\": {\"endlinecolor\": \"#2a3f5f\", \"gridcolor\": \"white\", \"linecolor\": \"white\", \"minorgridcolor\": \"white\", \"startlinecolor\": \"#2a3f5f\"}, \"baxis\": {\"endlinecolor\": \"#2a3f5f\", \"gridcolor\": \"white\", \"linecolor\": \"white\", \"minorgridcolor\": \"white\", \"startlinecolor\": \"#2a3f5f\"}, \"type\": \"carpet\"}], \"choropleth\": [{\"colorbar\": {\"outlinewidth\": 0, \"ticks\": \"\"}, \"type\": \"choropleth\"}], \"contour\": [{\"colorbar\": {\"outlinewidth\": 0, \"ticks\": \"\"}, \"colorscale\": [[0.0, \"#0d0887\"], [0.1111111111111111, \"#46039f\"], [0.2222222222222222, \"#7201a8\"], [0.3333333333333333, \"#9c179e\"], [0.4444444444444444, \"#bd3786\"], [0.5555555555555556, \"#d8576b\"], [0.6666666666666666, \"#ed7953\"], [0.7777777777777778, \"#fb9f3a\"], [0.8888888888888888, \"#fdca26\"], [1.0, \"#f0f921\"]], \"type\": \"contour\"}], \"contourcarpet\": [{\"colorbar\": {\"outlinewidth\": 0, \"ticks\": \"\"}, \"type\": \"contourcarpet\"}], \"heatmap\": [{\"colorbar\": {\"outlinewidth\": 0, \"ticks\": \"\"}, \"colorscale\": [[0.0, \"#0d0887\"], [0.1111111111111111, \"#46039f\"], [0.2222222222222222, \"#7201a8\"], [0.3333333333333333, \"#9c179e\"], [0.4444444444444444, \"#bd3786\"], [0.5555555555555556, \"#d8576b\"], [0.6666666666666666, \"#ed7953\"], [0.7777777777777778, \"#fb9f3a\"], [0.8888888888888888, \"#fdca26\"], [1.0, \"#f0f921\"]], \"type\": \"heatmap\"}], \"heatmapgl\": [{\"colorbar\": {\"outlinewidth\": 0, \"ticks\": \"\"}, \"colorscale\": [[0.0, \"#0d0887\"], [0.1111111111111111, \"#46039f\"], [0.2222222222222222, \"#7201a8\"], [0.3333333333333333, \"#9c179e\"], [0.4444444444444444, \"#bd3786\"], [0.5555555555555556, \"#d8576b\"], [0.6666666666666666, \"#ed7953\"], [0.7777777777777778, \"#fb9f3a\"], [0.8888888888888888, \"#fdca26\"], [1.0, \"#f0f921\"]], \"type\": \"heatmapgl\"}], \"histogram\": [{\"marker\": {\"colorbar\": {\"outlinewidth\": 0, \"ticks\": \"\"}}, \"type\": \"histogram\"}], \"histogram2d\": [{\"colorbar\": {\"outlinewidth\": 0, \"ticks\": \"\"}, \"colorscale\": [[0.0, \"#0d0887\"], [0.1111111111111111, \"#46039f\"], [0.2222222222222222, \"#7201a8\"], [0.3333333333333333, \"#9c179e\"], [0.4444444444444444, \"#bd3786\"], [0.5555555555555556, \"#d8576b\"], [0.6666666666666666, \"#ed7953\"], [0.7777777777777778, \"#fb9f3a\"], [0.8888888888888888, \"#fdca26\"], [1.0, \"#f0f921\"]], \"type\": \"histogram2d\"}], \"histogram2dcontour\": [{\"colorbar\": {\"outlinewidth\": 0, \"ticks\": \"\"}, \"colorscale\": [[0.0, \"#0d0887\"], [0.1111111111111111, \"#46039f\"], [0.2222222222222222, \"#7201a8\"], [0.3333333333333333, \"#9c179e\"], [0.4444444444444444, \"#bd3786\"], [0.5555555555555556, \"#d8576b\"], [0.6666666666666666, \"#ed7953\"], [0.7777777777777778, \"#fb9f3a\"], [0.8888888888888888, \"#fdca26\"], [1.0, \"#f0f921\"]], \"type\": \"histogram2dcontour\"}], \"mesh3d\": [{\"colorbar\": {\"outlinewidth\": 0, \"ticks\": \"\"}, \"type\": \"mesh3d\"}], \"parcoords\": [{\"line\": {\"colorbar\": {\"outlinewidth\": 0, \"ticks\": \"\"}}, \"type\": \"parcoords\"}], \"pie\": [{\"automargin\": true, \"type\": \"pie\"}], \"scatter\": [{\"marker\": {\"colorbar\": {\"outlinewidth\": 0, \"ticks\": \"\"}}, \"type\": \"scatter\"}], \"scatter3d\": [{\"line\": {\"colorbar\": {\"outlinewidth\": 0, \"ticks\": \"\"}}, \"marker\": {\"colorbar\": {\"outlinewidth\": 0, \"ticks\": \"\"}}, \"type\": \"scatter3d\"}], \"scattercarpet\": [{\"marker\": {\"colorbar\": {\"outlinewidth\": 0, \"ticks\": \"\"}}, \"type\": \"scattercarpet\"}], \"scattergeo\": [{\"marker\": {\"colorbar\": {\"outlinewidth\": 0, \"ticks\": \"\"}}, \"type\": \"scattergeo\"}], \"scattergl\": [{\"marker\": {\"colorbar\": {\"outlinewidth\": 0, \"ticks\": \"\"}}, \"type\": \"scattergl\"}], \"scattermapbox\": [{\"marker\": {\"colorbar\": {\"outlinewidth\": 0, \"ticks\": \"\"}}, \"type\": \"scattermapbox\"}], \"scatterpolar\": [{\"marker\": {\"colorbar\": {\"outlinewidth\": 0, \"ticks\": \"\"}}, \"type\": \"scatterpolar\"}], \"scatterpolargl\": [{\"marker\": {\"colorbar\": {\"outlinewidth\": 0, \"ticks\": \"\"}}, \"type\": \"scatterpolargl\"}], \"scatterternary\": [{\"marker\": {\"colorbar\": {\"outlinewidth\": 0, \"ticks\": \"\"}}, \"type\": \"scatterternary\"}], \"surface\": [{\"colorbar\": {\"outlinewidth\": 0, \"ticks\": \"\"}, \"colorscale\": [[0.0, \"#0d0887\"], [0.1111111111111111, \"#46039f\"], [0.2222222222222222, \"#7201a8\"], [0.3333333333333333, \"#9c179e\"], [0.4444444444444444, \"#bd3786\"], [0.5555555555555556, \"#d8576b\"], [0.6666666666666666, \"#ed7953\"], [0.7777777777777778, \"#fb9f3a\"], [0.8888888888888888, \"#fdca26\"], [1.0, \"#f0f921\"]], \"type\": \"surface\"}], \"table\": [{\"cells\": {\"fill\": {\"color\": \"#EBF0F8\"}, \"line\": {\"color\": \"white\"}}, \"header\": {\"fill\": {\"color\": \"#C8D4E3\"}, \"line\": {\"color\": \"white\"}}, \"type\": \"table\"}]}, \"layout\": {\"annotationdefaults\": {\"arrowcolor\": \"#2a3f5f\", \"arrowhead\": 0, \"arrowwidth\": 1}, \"coloraxis\": {\"colorbar\": {\"outlinewidth\": 0, \"ticks\": \"\"}}, \"colorscale\": {\"diverging\": [[0, \"#8e0152\"], [0.1, \"#c51b7d\"], [0.2, \"#de77ae\"], [0.3, \"#f1b6da\"], [0.4, \"#fde0ef\"], [0.5, \"#f7f7f7\"], [0.6, \"#e6f5d0\"], [0.7, \"#b8e186\"], [0.8, \"#7fbc41\"], [0.9, \"#4d9221\"], [1, \"#276419\"]], \"sequential\": [[0.0, \"#0d0887\"], [0.1111111111111111, \"#46039f\"], [0.2222222222222222, \"#7201a8\"], [0.3333333333333333, \"#9c179e\"], [0.4444444444444444, \"#bd3786\"], [0.5555555555555556, \"#d8576b\"], [0.6666666666666666, \"#ed7953\"], [0.7777777777777778, \"#fb9f3a\"], [0.8888888888888888, \"#fdca26\"], [1.0, \"#f0f921\"]], \"sequentialminus\": [[0.0, \"#0d0887\"], [0.1111111111111111, \"#46039f\"], [0.2222222222222222, \"#7201a8\"], [0.3333333333333333, \"#9c179e\"], [0.4444444444444444, \"#bd3786\"], [0.5555555555555556, \"#d8576b\"], [0.6666666666666666, \"#ed7953\"], [0.7777777777777778, \"#fb9f3a\"], [0.8888888888888888, \"#fdca26\"], [1.0, \"#f0f921\"]]}, \"colorway\": [\"#636efa\", \"#EF553B\", \"#00cc96\", \"#ab63fa\", \"#FFA15A\", \"#19d3f3\", \"#FF6692\", \"#B6E880\", \"#FF97FF\", \"#FECB52\"], \"font\": {\"color\": \"#2a3f5f\"}, \"geo\": {\"bgcolor\": \"white\", \"lakecolor\": \"white\", \"landcolor\": \"#E5ECF6\", \"showlakes\": true, \"showland\": true, \"subunitcolor\": \"white\"}, \"hoverlabel\": {\"align\": \"left\"}, \"hovermode\": \"closest\", \"mapbox\": {\"style\": \"light\"}, \"paper_bgcolor\": \"white\", \"plot_bgcolor\": \"#E5ECF6\", \"polar\": {\"angularaxis\": {\"gridcolor\": \"white\", \"linecolor\": \"white\", \"ticks\": \"\"}, \"bgcolor\": \"#E5ECF6\", \"radialaxis\": {\"gridcolor\": \"white\", \"linecolor\": \"white\", \"ticks\": \"\"}}, \"scene\": {\"xaxis\": {\"backgroundcolor\": \"#E5ECF6\", \"gridcolor\": \"white\", \"gridwidth\": 2, \"linecolor\": \"white\", \"showbackground\": true, \"ticks\": \"\", \"zerolinecolor\": \"white\"}, \"yaxis\": {\"backgroundcolor\": \"#E5ECF6\", \"gridcolor\": \"white\", \"gridwidth\": 2, \"linecolor\": \"white\", \"showbackground\": true, \"ticks\": \"\", \"zerolinecolor\": \"white\"}, \"zaxis\": {\"backgroundcolor\": \"#E5ECF6\", \"gridcolor\": \"white\", \"gridwidth\": 2, \"linecolor\": \"white\", \"showbackground\": true, \"ticks\": \"\", \"zerolinecolor\": \"white\"}}, \"shapedefaults\": {\"line\": {\"color\": \"#2a3f5f\"}}, \"ternary\": {\"aaxis\": {\"gridcolor\": \"white\", \"linecolor\": \"white\", \"ticks\": \"\"}, \"baxis\": {\"gridcolor\": \"white\", \"linecolor\": \"white\", \"ticks\": \"\"}, \"bgcolor\": \"#E5ECF6\", \"caxis\": {\"gridcolor\": \"white\", \"linecolor\": \"white\", \"ticks\": \"\"}}, \"title\": {\"x\": 0.05}, \"xaxis\": {\"automargin\": true, \"gridcolor\": \"white\", \"linecolor\": \"white\", \"ticks\": \"\", \"title\": {\"standoff\": 15}, \"zerolinecolor\": \"white\", \"zerolinewidth\": 2}, \"yaxis\": {\"automargin\": true, \"gridcolor\": \"white\", \"linecolor\": \"white\", \"ticks\": \"\", \"title\": {\"standoff\": 15}, \"zerolinecolor\": \"white\", \"zerolinewidth\": 2}}}, \"width\": 1000},\n",
              "                        {\"responsive\": true}\n",
              "                    ).then(function(){\n",
              "                            \n",
              "var gd = document.getElementById('0cfad8cb-1fad-4ee5-bd17-c9ef9f36004d');\n",
              "var x = new MutationObserver(function (mutations, observer) {{\n",
              "        var display = window.getComputedStyle(gd).display;\n",
              "        if (!display || display === 'none') {{\n",
              "            console.log([gd, 'removed!']);\n",
              "            Plotly.purge(gd);\n",
              "            observer.disconnect();\n",
              "        }}\n",
              "}});\n",
              "\n",
              "// Listen for the removal of the full notebook cells\n",
              "var notebookContainer = gd.closest('#notebook-container');\n",
              "if (notebookContainer) {{\n",
              "    x.observe(notebookContainer, {childList: true});\n",
              "}}\n",
              "\n",
              "// Listen for the clearing of the current output cell\n",
              "var outputEl = gd.closest('.output');\n",
              "if (outputEl) {{\n",
              "    x.observe(outputEl, {childList: true});\n",
              "}}\n",
              "\n",
              "                        })\n",
              "                };\n",
              "                \n",
              "            </script>\n",
              "        </div>\n",
              "</body>\n",
              "</html>"
            ]
          },
          "metadata": {
            "tags": []
          }
        }
      ]
    },
    {
      "cell_type": "code",
      "metadata": {
        "id": "MPLghi5kLp97",
        "colab_type": "code",
        "outputId": "b179f3cb-beb8-4515-bc5f-51480a23a58c",
        "colab": {
          "base_uri": "https://localhost:8080/",
          "height": 204
        }
      },
      "source": [
        "data = df[['petal length (cm)', 'petal width (cm)', 'sepal length (cm)']]\n",
        "data.head()"
      ],
      "execution_count": 5,
      "outputs": [
        {
          "output_type": "execute_result",
          "data": {
            "text/html": [
              "<div>\n",
              "<style scoped>\n",
              "    .dataframe tbody tr th:only-of-type {\n",
              "        vertical-align: middle;\n",
              "    }\n",
              "\n",
              "    .dataframe tbody tr th {\n",
              "        vertical-align: top;\n",
              "    }\n",
              "\n",
              "    .dataframe thead th {\n",
              "        text-align: right;\n",
              "    }\n",
              "</style>\n",
              "<table border=\"1\" class=\"dataframe\">\n",
              "  <thead>\n",
              "    <tr style=\"text-align: right;\">\n",
              "      <th></th>\n",
              "      <th>petal length (cm)</th>\n",
              "      <th>petal width (cm)</th>\n",
              "      <th>sepal length (cm)</th>\n",
              "    </tr>\n",
              "  </thead>\n",
              "  <tbody>\n",
              "    <tr>\n",
              "      <th>0</th>\n",
              "      <td>1.4</td>\n",
              "      <td>0.2</td>\n",
              "      <td>5.1</td>\n",
              "    </tr>\n",
              "    <tr>\n",
              "      <th>1</th>\n",
              "      <td>1.4</td>\n",
              "      <td>0.2</td>\n",
              "      <td>4.9</td>\n",
              "    </tr>\n",
              "    <tr>\n",
              "      <th>2</th>\n",
              "      <td>1.3</td>\n",
              "      <td>0.2</td>\n",
              "      <td>4.7</td>\n",
              "    </tr>\n",
              "    <tr>\n",
              "      <th>3</th>\n",
              "      <td>1.5</td>\n",
              "      <td>0.2</td>\n",
              "      <td>4.6</td>\n",
              "    </tr>\n",
              "    <tr>\n",
              "      <th>4</th>\n",
              "      <td>1.4</td>\n",
              "      <td>0.2</td>\n",
              "      <td>5.0</td>\n",
              "    </tr>\n",
              "  </tbody>\n",
              "</table>\n",
              "</div>"
            ],
            "text/plain": [
              "   petal length (cm)  petal width (cm)  sepal length (cm)\n",
              "0                1.4               0.2                5.1\n",
              "1                1.4               0.2                4.9\n",
              "2                1.3               0.2                4.7\n",
              "3                1.5               0.2                4.6\n",
              "4                1.4               0.2                5.0"
            ]
          },
          "metadata": {
            "tags": []
          },
          "execution_count": 5
        }
      ]
    },
    {
      "cell_type": "code",
      "metadata": {
        "id": "7tzoVO_lL6gp",
        "colab_type": "code",
        "outputId": "66a1ee9d-8955-456a-f398-04165a3c51f9",
        "colab": {
          "base_uri": "https://localhost:8080/",
          "height": 187
        }
      },
      "source": [
        "from sklearn.preprocessing import StandardScaler\n",
        "\n",
        "scaler = StandardScaler()\n",
        "data = scaler.fit_transform(data)\n",
        "data[:10]"
      ],
      "execution_count": 6,
      "outputs": [
        {
          "output_type": "execute_result",
          "data": {
            "text/plain": [
              "array([[-1.340227, -1.315444, -0.900681],\n",
              "       [-1.340227, -1.315444, -1.143017],\n",
              "       [-1.397064, -1.315444, -1.385353],\n",
              "       [-1.283389, -1.315444, -1.506521],\n",
              "       [-1.340227, -1.315444, -1.021849],\n",
              "       [-1.169714, -1.05218 , -0.537178],\n",
              "       [-1.340227, -1.183812, -1.506521],\n",
              "       [-1.283389, -1.315444, -1.021849],\n",
              "       [-1.340227, -1.315444, -1.748856],\n",
              "       [-1.283389, -1.447076, -1.143017]])"
            ]
          },
          "metadata": {
            "tags": []
          },
          "execution_count": 6
        }
      ]
    },
    {
      "cell_type": "code",
      "metadata": {
        "id": "DiWtensKMK80",
        "colab_type": "code",
        "outputId": "47587866-742b-434c-9398-ffcd1f41b3c7",
        "colab": {
          "base_uri": "https://localhost:8080/",
          "height": 1000
        }
      },
      "source": [
        "from sklearn.decomposition import PCA\n",
        "\n",
        "pca = PCA(random_state=42)\n",
        "pca.fit_transform(data)"
      ],
      "execution_count": 7,
      "outputs": [
        {
          "output_type": "execute_result",
          "data": {
            "text/plain": [
              "array([[-2.06036 , -0.298674, -0.059476],\n",
              "       [-2.195981, -0.101727, -0.020166],\n",
              "       [-2.365221,  0.080749, -0.024341],\n",
              "       [-2.365794,  0.208165,  0.082282],\n",
              "       [-2.128171, -0.200201, -0.039821],\n",
              "       [-1.603256, -0.412703, -0.152053],\n",
              "       [-2.323005,  0.262683, -0.043234],\n",
              "       [-2.094552, -0.18573 ,  0.003663],\n",
              "       [-2.535034,  0.390641,  0.078108],\n",
              "       [-2.238771, -0.156245,  0.10535 ],\n",
              "       [-1.82331 , -0.579624, -0.074957],\n",
              "       [-2.196554,  0.025689,  0.086457],\n",
              "       [-2.3402  , -0.072243,  0.081521],\n",
              "       [-2.780109,  0.376712,  0.049343],\n",
              "       [-1.652923, -1.016932, -0.284029],\n",
              "       [-1.467062, -0.737067, -0.297986],\n",
              "       [-1.737731, -0.470588, -0.32599 ],\n",
              "       [-1.983952, -0.229685, -0.141509],\n",
              "       [-1.476232, -0.777114, -0.128986],\n",
              "       [-1.950333, -0.215214, -0.098024],\n",
              "       [-1.756072, -0.550682,  0.012011],\n",
              "       [-1.873925, -0.146225, -0.180057],\n",
              "       [-2.533888,  0.135809, -0.135138],\n",
              "       [-1.730279, -0.048293, -0.175121],\n",
              "       [-2.095698,  0.069102,  0.216909],\n",
              "       [-2.060933, -0.171258,  0.047147],\n",
              "       [-1.908117, -0.03328 , -0.116918],\n",
              "       [-1.958931, -0.382677, -0.035647],\n",
              "       [-1.992549, -0.397148, -0.079131],\n",
              "       [-2.264365,  0.124163,  0.106112],\n",
              "       [-2.196554,  0.025689,  0.086457],\n",
              "       [-1.670493, -0.441646, -0.239022],\n",
              "       [-2.035339, -0.451666,  0.046385],\n",
              "       [-1.789118, -0.692569, -0.138096],\n",
              "       [-2.162363, -0.087256,  0.023318],\n",
              "       [-2.195408, -0.229143, -0.126789],\n",
              "       [-1.822736, -0.70704 , -0.18158 ],\n",
              "       [-2.272389, -0.170716,  0.061866],\n",
              "       [-2.568653,  0.37617 ,  0.034624],\n",
              "       [-2.026741, -0.284203, -0.015992],\n",
              "       [-2.085381, -0.145683, -0.165338],\n",
              "       [-2.424434,  0.346686, -0.067063],\n",
              "       [-2.568653,  0.37617 ,  0.034624],\n",
              "       [-1.7553  ,  0.104699, -0.280982],\n",
              "       [-1.73945 , -0.08834 , -0.006121],\n",
              "       [-2.187384,  0.065736, -0.082544],\n",
              "       [-1.993123, -0.269732,  0.027492],\n",
              "       [-2.399413,  0.193694,  0.038798],\n",
              "       [-1.89112 , -0.481151, -0.055302],\n",
              "       [-2.128171, -0.200201, -0.039821],\n",
              "       [ 1.254356, -0.864256,  0.017666],\n",
              "       [ 0.856664, -0.233367, -0.033405],\n",
              "       [ 1.330191, -0.66785 ,  0.042257],\n",
              "       [-0.074541,  0.442562,  0.090134],\n",
              "       [ 0.958093, -0.317369, -0.009575],\n",
              "       [ 0.229173,  0.317971,  0.268245],\n",
              "       [ 0.932499, -0.036961, -0.008814],\n",
              "       [-0.94596 ,  0.725139,  0.149772],\n",
              "       [ 0.873087, -0.553821,  0.134834],\n",
              "       [-0.235184,  0.792501,  0.023583],\n",
              "       [-0.810912,  0.655607,  0.217085],\n",
              "       [ 0.416755,  0.215588, -0.065582],\n",
              "       [ 0.035287, -0.256774,  0.237956],\n",
              "       [ 0.644061,  0.022007,  0.194561],\n",
              "       [-0.141206,  0.286204, -0.103457],\n",
              "       [ 0.950068, -0.612248, -0.053821],\n",
              "       [ 0.314179,  0.554423,  0.123835],\n",
              "       [-0.066716, -0.045355,  0.32075 ],\n",
              "       [ 0.721042, -0.036419,  0.005905],\n",
              "       [-0.193166,  0.191639,  0.19106 ],\n",
              "       [ 0.847691,  0.509383, -0.050775],\n",
              "       [ 0.332322, -0.14828 , -0.027795],\n",
              "       [ 0.923328, -0.077008,  0.160187],\n",
              "       [ 0.491245, -0.115971,  0.358625],\n",
              "       [ 0.63661 , -0.400287,  0.043692],\n",
              "       [ 0.882258, -0.513774, -0.034166],\n",
              "       [ 1.152354, -0.652837,  0.10046 ],\n",
              "       [ 1.381005, -0.318453, -0.039014],\n",
              "       [ 0.585421,  0.160528,  0.045215],\n",
              "       [-0.336238, -0.033709,  0.079501],\n",
              "       [-0.294595,  0.275641,  0.167231],\n",
              "       [-0.404622,  0.192181,  0.205779],\n",
              "       [ 0.018863,  0.063681,  0.069718],\n",
              "       [ 0.863542,  0.316344,  0.224087],\n",
              "       [ 0.178558,  0.75137 ,  0.163145],\n",
              "       [ 0.66183 ,  0.229517, -0.036817],\n",
              "       [ 1.127333, -0.499845, -0.005401],\n",
              "       [ 0.602418, -0.287343,  0.106831],\n",
              "       [ 0.026888,  0.35856 ,  0.113963],\n",
              "       [-0.074541,  0.442562,  0.090134],\n",
              "       [-0.016475,  0.431458,  0.346103],\n",
              "       [ 0.610442,  0.007536,  0.151077],\n",
              "       [ 0.052482,  0.078152,  0.113202],\n",
              "       [-0.87815 ,  0.626665,  0.130117],\n",
              "       [ 0.060506,  0.373031,  0.157447],\n",
              "       [ 0.051909,  0.205568,  0.219825],\n",
              "       [ 0.128317,  0.274557,  0.137792],\n",
              "       [ 0.500989, -0.20334 ,  0.083002],\n",
              "       [-0.834787,  0.553767, -0.102022],\n",
              "       [ 0.094698,  0.260086,  0.094308],\n",
              "       [ 2.057216,  0.772067, -0.181812],\n",
              "       [ 0.957145,  0.720259,  0.0173  ],\n",
              "       [ 2.260448, -0.306151, -0.054406],\n",
              "       [ 1.387883,  0.231257,  0.218478],\n",
              "       [ 1.896375,  0.339209, -0.061993],\n",
              "       [ 2.834832, -0.697221,  0.151708],\n",
              "       [-0.007679,  1.381717,  0.097355],\n",
              "       [ 2.30132 , -0.652181,  0.326317],\n",
              "       [ 1.726363, -0.133695,  0.226826],\n",
              "       [ 2.701129, -0.099725, -0.315222],\n",
              "       [ 1.508227,  0.099933, -0.202317],\n",
              "       [ 1.431246,  0.15836 , -0.013661],\n",
              "       [ 1.922542, -0.068614, -0.169378],\n",
              "       [ 0.932124,  0.873251, -0.088561],\n",
              "       [ 1.339186,  1.065206, -0.392861],\n",
              "       [ 1.736879,  0.434317, -0.341791],\n",
              "       [ 1.489886,  0.019839,  0.135684],\n",
              "       [ 3.01267 , -0.712234,  0.093504],\n",
              "       [ 3.156315, -0.614303,  0.09844 ],\n",
              "       [ 0.753515,  0.232884,  0.262635],\n",
              "       [ 2.210406, -0.000167, -0.266129],\n",
              "       [ 0.830695,  0.957254, -0.11239 ],\n",
              "       [ 2.859853, -0.850213,  0.257569],\n",
              "       [ 1.152552,  0.129959, -0.08591 ],\n",
              "       [ 1.921969,  0.058802, -0.062754],\n",
              "       [ 2.132653, -0.597121,  0.21552 ],\n",
              "       [ 1.051123,  0.213962, -0.109739],\n",
              "       [ 1.016931,  0.326907, -0.0466  ],\n",
              "       [ 1.684918,  0.339751, -0.047274],\n",
              "       [ 1.912599, -0.764042,  0.292616],\n",
              "       [ 2.378301, -0.710608,  0.137662],\n",
              "       [ 2.894618, -1.090574,  0.087807],\n",
              "       [ 1.761327,  0.408741, -0.129306],\n",
              "       [ 0.990565, -0.048066,  0.247155],\n",
              "       [ 0.946629,  0.152248,  0.585917],\n",
              "       [ 2.887366, -0.730072, -0.249432],\n",
              "       [ 1.846333,  0.645193, -0.273716],\n",
              "       [ 1.422075,  0.118313,  0.155339],\n",
              "       [ 0.915502,  0.410909, -0.07043 ],\n",
              "       [ 1.956734, -0.181559, -0.232517],\n",
              "       [ 2.117575,  0.251298, -0.352335],\n",
              "       [ 2.008694, -0.086994, -0.527033],\n",
              "       [ 0.957145,  0.720259,  0.0173  ],\n",
              "       [ 2.209833,  0.127249, -0.159506],\n",
              "       [ 2.227602,  0.334759, -0.390884],\n",
              "       [ 1.906692,  0.124424, -0.444239],\n",
              "       [ 1.262579,  0.21342 , -0.124459],\n",
              "       [ 1.541846,  0.114404, -0.158833],\n",
              "       [ 1.634876,  0.645735, -0.258997],\n",
              "       [ 0.948548,  0.552796,  0.079678]])"
            ]
          },
          "metadata": {
            "tags": []
          },
          "execution_count": 7
        }
      ]
    },
    {
      "cell_type": "code",
      "metadata": {
        "id": "bktmtUAxMdYV",
        "colab_type": "code",
        "outputId": "7cf75582-f44a-468e-f03c-36a612344459",
        "colab": {
          "base_uri": "https://localhost:8080/",
          "height": 34
        }
      },
      "source": [
        "pca.explained_variance_ratio_"
      ],
      "execution_count": 8,
      "outputs": [
        {
          "output_type": "execute_result",
          "data": {
            "text/plain": [
              "array([0.923247, 0.066471, 0.010282])"
            ]
          },
          "metadata": {
            "tags": []
          },
          "execution_count": 8
        }
      ]
    },
    {
      "cell_type": "code",
      "metadata": {
        "id": "D0dyAlGhDn5z",
        "colab_type": "code",
        "outputId": "d3f3c4b6-ab58-47d5-d333-7bd0798d9fa9",
        "colab": {
          "base_uri": "https://localhost:8080/",
          "height": 142
        }
      },
      "source": [
        "explained_variance = pd.DataFrame(data={'explained_variance_ratio': pca.explained_variance_ratio_})\n",
        "explained_variance = explained_variance.reset_index().rename(columns={'index': 'principal_component'})\n",
        "explained_variance"
      ],
      "execution_count": 9,
      "outputs": [
        {
          "output_type": "execute_result",
          "data": {
            "text/html": [
              "<div>\n",
              "<style scoped>\n",
              "    .dataframe tbody tr th:only-of-type {\n",
              "        vertical-align: middle;\n",
              "    }\n",
              "\n",
              "    .dataframe tbody tr th {\n",
              "        vertical-align: top;\n",
              "    }\n",
              "\n",
              "    .dataframe thead th {\n",
              "        text-align: right;\n",
              "    }\n",
              "</style>\n",
              "<table border=\"1\" class=\"dataframe\">\n",
              "  <thead>\n",
              "    <tr style=\"text-align: right;\">\n",
              "      <th></th>\n",
              "      <th>principal_component</th>\n",
              "      <th>explained_variance_ratio</th>\n",
              "    </tr>\n",
              "  </thead>\n",
              "  <tbody>\n",
              "    <tr>\n",
              "      <th>0</th>\n",
              "      <td>0</td>\n",
              "      <td>0.923247</td>\n",
              "    </tr>\n",
              "    <tr>\n",
              "      <th>1</th>\n",
              "      <td>1</td>\n",
              "      <td>0.066471</td>\n",
              "    </tr>\n",
              "    <tr>\n",
              "      <th>2</th>\n",
              "      <td>2</td>\n",
              "      <td>0.010282</td>\n",
              "    </tr>\n",
              "  </tbody>\n",
              "</table>\n",
              "</div>"
            ],
            "text/plain": [
              "   principal_component  explained_variance_ratio\n",
              "0                    0                  0.923247\n",
              "1                    1                  0.066471\n",
              "2                    2                  0.010282"
            ]
          },
          "metadata": {
            "tags": []
          },
          "execution_count": 9
        }
      ]
    },
    {
      "cell_type": "code",
      "metadata": {
        "id": "Gwkj0N8JDE_g",
        "colab_type": "code",
        "outputId": "88a5694a-3a9f-456d-ca23-63e505bce847",
        "colab": {
          "base_uri": "https://localhost:8080/",
          "height": 417
        }
      },
      "source": [
        "px.bar(explained_variance, x='principal_component', y='explained_variance_ratio', width=700, height=400)"
      ],
      "execution_count": 10,
      "outputs": [
        {
          "output_type": "display_data",
          "data": {
            "text/html": [
              "<html>\n",
              "<head><meta charset=\"utf-8\" /></head>\n",
              "<body>\n",
              "    <div>\n",
              "            <script src=\"https://cdnjs.cloudflare.com/ajax/libs/mathjax/2.7.5/MathJax.js?config=TeX-AMS-MML_SVG\"></script><script type=\"text/javascript\">if (window.MathJax) {MathJax.Hub.Config({SVG: {font: \"STIX-Web\"}});}</script>\n",
              "                <script type=\"text/javascript\">window.PlotlyConfig = {MathJaxConfig: 'local'};</script>\n",
              "        <script src=\"https://cdn.plot.ly/plotly-latest.min.js\"></script>    \n",
              "            <div id=\"85d65a68-fd9b-4c87-a0fb-6c5b450e77e8\" class=\"plotly-graph-div\" style=\"height:400px; width:700px;\"></div>\n",
              "            <script type=\"text/javascript\">\n",
              "                \n",
              "                    window.PLOTLYENV=window.PLOTLYENV || {};\n",
              "                    \n",
              "                if (document.getElementById(\"85d65a68-fd9b-4c87-a0fb-6c5b450e77e8\")) {\n",
              "                    Plotly.newPlot(\n",
              "                        '85d65a68-fd9b-4c87-a0fb-6c5b450e77e8',\n",
              "                        [{\"alignmentgroup\": \"True\", \"hoverlabel\": {\"namelength\": 0}, \"hovertemplate\": \"principal_component=%{x}<br>explained_variance_ratio=%{y}\", \"legendgroup\": \"\", \"marker\": {\"color\": \"#636efa\"}, \"name\": \"\", \"offsetgroup\": \"\", \"orientation\": \"v\", \"showlegend\": false, \"textposition\": \"auto\", \"type\": \"bar\", \"x\": [0, 1, 2], \"xaxis\": \"x\", \"y\": [0.9232471536035968, 0.06647059464767177, 0.01028225174873164], \"yaxis\": \"y\"}],\n",
              "                        {\"barmode\": \"relative\", \"height\": 400, \"legend\": {\"tracegroupgap\": 0}, \"margin\": {\"t\": 60}, \"template\": {\"data\": {\"bar\": [{\"error_x\": {\"color\": \"#2a3f5f\"}, \"error_y\": {\"color\": \"#2a3f5f\"}, \"marker\": {\"line\": {\"color\": \"#E5ECF6\", \"width\": 0.5}}, \"type\": \"bar\"}], \"barpolar\": [{\"marker\": {\"line\": {\"color\": \"#E5ECF6\", \"width\": 0.5}}, \"type\": \"barpolar\"}], \"carpet\": [{\"aaxis\": {\"endlinecolor\": \"#2a3f5f\", \"gridcolor\": \"white\", \"linecolor\": \"white\", \"minorgridcolor\": \"white\", \"startlinecolor\": \"#2a3f5f\"}, \"baxis\": {\"endlinecolor\": \"#2a3f5f\", \"gridcolor\": \"white\", \"linecolor\": \"white\", \"minorgridcolor\": \"white\", \"startlinecolor\": \"#2a3f5f\"}, \"type\": \"carpet\"}], \"choropleth\": [{\"colorbar\": {\"outlinewidth\": 0, \"ticks\": \"\"}, \"type\": \"choropleth\"}], \"contour\": [{\"colorbar\": {\"outlinewidth\": 0, \"ticks\": \"\"}, \"colorscale\": [[0.0, \"#0d0887\"], [0.1111111111111111, \"#46039f\"], [0.2222222222222222, \"#7201a8\"], [0.3333333333333333, \"#9c179e\"], [0.4444444444444444, \"#bd3786\"], [0.5555555555555556, \"#d8576b\"], [0.6666666666666666, \"#ed7953\"], [0.7777777777777778, \"#fb9f3a\"], [0.8888888888888888, \"#fdca26\"], [1.0, \"#f0f921\"]], \"type\": \"contour\"}], \"contourcarpet\": [{\"colorbar\": {\"outlinewidth\": 0, \"ticks\": \"\"}, \"type\": \"contourcarpet\"}], \"heatmap\": [{\"colorbar\": {\"outlinewidth\": 0, \"ticks\": \"\"}, \"colorscale\": [[0.0, \"#0d0887\"], [0.1111111111111111, \"#46039f\"], [0.2222222222222222, \"#7201a8\"], [0.3333333333333333, \"#9c179e\"], [0.4444444444444444, \"#bd3786\"], [0.5555555555555556, \"#d8576b\"], [0.6666666666666666, \"#ed7953\"], [0.7777777777777778, \"#fb9f3a\"], [0.8888888888888888, \"#fdca26\"], [1.0, \"#f0f921\"]], \"type\": \"heatmap\"}], \"heatmapgl\": [{\"colorbar\": {\"outlinewidth\": 0, \"ticks\": \"\"}, \"colorscale\": [[0.0, \"#0d0887\"], [0.1111111111111111, \"#46039f\"], [0.2222222222222222, \"#7201a8\"], [0.3333333333333333, \"#9c179e\"], [0.4444444444444444, \"#bd3786\"], [0.5555555555555556, \"#d8576b\"], [0.6666666666666666, \"#ed7953\"], [0.7777777777777778, \"#fb9f3a\"], [0.8888888888888888, \"#fdca26\"], [1.0, \"#f0f921\"]], \"type\": \"heatmapgl\"}], \"histogram\": [{\"marker\": {\"colorbar\": {\"outlinewidth\": 0, \"ticks\": \"\"}}, \"type\": \"histogram\"}], \"histogram2d\": [{\"colorbar\": {\"outlinewidth\": 0, \"ticks\": \"\"}, \"colorscale\": [[0.0, \"#0d0887\"], [0.1111111111111111, \"#46039f\"], [0.2222222222222222, \"#7201a8\"], [0.3333333333333333, \"#9c179e\"], [0.4444444444444444, \"#bd3786\"], [0.5555555555555556, \"#d8576b\"], [0.6666666666666666, \"#ed7953\"], [0.7777777777777778, \"#fb9f3a\"], [0.8888888888888888, \"#fdca26\"], [1.0, \"#f0f921\"]], \"type\": \"histogram2d\"}], \"histogram2dcontour\": [{\"colorbar\": {\"outlinewidth\": 0, \"ticks\": \"\"}, \"colorscale\": [[0.0, \"#0d0887\"], [0.1111111111111111, \"#46039f\"], [0.2222222222222222, \"#7201a8\"], [0.3333333333333333, \"#9c179e\"], [0.4444444444444444, \"#bd3786\"], [0.5555555555555556, \"#d8576b\"], [0.6666666666666666, \"#ed7953\"], [0.7777777777777778, \"#fb9f3a\"], [0.8888888888888888, \"#fdca26\"], [1.0, \"#f0f921\"]], \"type\": \"histogram2dcontour\"}], \"mesh3d\": [{\"colorbar\": {\"outlinewidth\": 0, \"ticks\": \"\"}, \"type\": \"mesh3d\"}], \"parcoords\": [{\"line\": {\"colorbar\": {\"outlinewidth\": 0, \"ticks\": \"\"}}, \"type\": \"parcoords\"}], \"pie\": [{\"automargin\": true, \"type\": \"pie\"}], \"scatter\": [{\"marker\": {\"colorbar\": {\"outlinewidth\": 0, \"ticks\": \"\"}}, \"type\": \"scatter\"}], \"scatter3d\": [{\"line\": {\"colorbar\": {\"outlinewidth\": 0, \"ticks\": \"\"}}, \"marker\": {\"colorbar\": {\"outlinewidth\": 0, \"ticks\": \"\"}}, \"type\": \"scatter3d\"}], \"scattercarpet\": [{\"marker\": {\"colorbar\": {\"outlinewidth\": 0, \"ticks\": \"\"}}, \"type\": \"scattercarpet\"}], \"scattergeo\": [{\"marker\": {\"colorbar\": {\"outlinewidth\": 0, \"ticks\": \"\"}}, \"type\": \"scattergeo\"}], \"scattergl\": [{\"marker\": {\"colorbar\": {\"outlinewidth\": 0, \"ticks\": \"\"}}, \"type\": \"scattergl\"}], \"scattermapbox\": [{\"marker\": {\"colorbar\": {\"outlinewidth\": 0, \"ticks\": \"\"}}, \"type\": \"scattermapbox\"}], \"scatterpolar\": [{\"marker\": {\"colorbar\": {\"outlinewidth\": 0, \"ticks\": \"\"}}, \"type\": \"scatterpolar\"}], \"scatterpolargl\": [{\"marker\": {\"colorbar\": {\"outlinewidth\": 0, \"ticks\": \"\"}}, \"type\": \"scatterpolargl\"}], \"scatterternary\": [{\"marker\": {\"colorbar\": {\"outlinewidth\": 0, \"ticks\": \"\"}}, \"type\": \"scatterternary\"}], \"surface\": [{\"colorbar\": {\"outlinewidth\": 0, \"ticks\": \"\"}, \"colorscale\": [[0.0, \"#0d0887\"], [0.1111111111111111, \"#46039f\"], [0.2222222222222222, \"#7201a8\"], [0.3333333333333333, \"#9c179e\"], [0.4444444444444444, \"#bd3786\"], [0.5555555555555556, \"#d8576b\"], [0.6666666666666666, \"#ed7953\"], [0.7777777777777778, \"#fb9f3a\"], [0.8888888888888888, \"#fdca26\"], [1.0, \"#f0f921\"]], \"type\": \"surface\"}], \"table\": [{\"cells\": {\"fill\": {\"color\": \"#EBF0F8\"}, \"line\": {\"color\": \"white\"}}, \"header\": {\"fill\": {\"color\": \"#C8D4E3\"}, \"line\": {\"color\": \"white\"}}, \"type\": \"table\"}]}, \"layout\": {\"annotationdefaults\": {\"arrowcolor\": \"#2a3f5f\", \"arrowhead\": 0, \"arrowwidth\": 1}, \"coloraxis\": {\"colorbar\": {\"outlinewidth\": 0, \"ticks\": \"\"}}, \"colorscale\": {\"diverging\": [[0, \"#8e0152\"], [0.1, \"#c51b7d\"], [0.2, \"#de77ae\"], [0.3, \"#f1b6da\"], [0.4, \"#fde0ef\"], [0.5, \"#f7f7f7\"], [0.6, \"#e6f5d0\"], [0.7, \"#b8e186\"], [0.8, \"#7fbc41\"], [0.9, \"#4d9221\"], [1, \"#276419\"]], \"sequential\": [[0.0, \"#0d0887\"], [0.1111111111111111, \"#46039f\"], [0.2222222222222222, \"#7201a8\"], [0.3333333333333333, \"#9c179e\"], [0.4444444444444444, \"#bd3786\"], [0.5555555555555556, \"#d8576b\"], [0.6666666666666666, \"#ed7953\"], [0.7777777777777778, \"#fb9f3a\"], [0.8888888888888888, \"#fdca26\"], [1.0, \"#f0f921\"]], \"sequentialminus\": [[0.0, \"#0d0887\"], [0.1111111111111111, \"#46039f\"], [0.2222222222222222, \"#7201a8\"], [0.3333333333333333, \"#9c179e\"], [0.4444444444444444, \"#bd3786\"], [0.5555555555555556, \"#d8576b\"], [0.6666666666666666, \"#ed7953\"], [0.7777777777777778, \"#fb9f3a\"], [0.8888888888888888, \"#fdca26\"], [1.0, \"#f0f921\"]]}, \"colorway\": [\"#636efa\", \"#EF553B\", \"#00cc96\", \"#ab63fa\", \"#FFA15A\", \"#19d3f3\", \"#FF6692\", \"#B6E880\", \"#FF97FF\", \"#FECB52\"], \"font\": {\"color\": \"#2a3f5f\"}, \"geo\": {\"bgcolor\": \"white\", \"lakecolor\": \"white\", \"landcolor\": \"#E5ECF6\", \"showlakes\": true, \"showland\": true, \"subunitcolor\": \"white\"}, \"hoverlabel\": {\"align\": \"left\"}, \"hovermode\": \"closest\", \"mapbox\": {\"style\": \"light\"}, \"paper_bgcolor\": \"white\", \"plot_bgcolor\": \"#E5ECF6\", \"polar\": {\"angularaxis\": {\"gridcolor\": \"white\", \"linecolor\": \"white\", \"ticks\": \"\"}, \"bgcolor\": \"#E5ECF6\", \"radialaxis\": {\"gridcolor\": \"white\", \"linecolor\": \"white\", \"ticks\": \"\"}}, \"scene\": {\"xaxis\": {\"backgroundcolor\": \"#E5ECF6\", \"gridcolor\": \"white\", \"gridwidth\": 2, \"linecolor\": \"white\", \"showbackground\": true, \"ticks\": \"\", \"zerolinecolor\": \"white\"}, \"yaxis\": {\"backgroundcolor\": \"#E5ECF6\", \"gridcolor\": \"white\", \"gridwidth\": 2, \"linecolor\": \"white\", \"showbackground\": true, \"ticks\": \"\", \"zerolinecolor\": \"white\"}, \"zaxis\": {\"backgroundcolor\": \"#E5ECF6\", \"gridcolor\": \"white\", \"gridwidth\": 2, \"linecolor\": \"white\", \"showbackground\": true, \"ticks\": \"\", \"zerolinecolor\": \"white\"}}, \"shapedefaults\": {\"line\": {\"color\": \"#2a3f5f\"}}, \"ternary\": {\"aaxis\": {\"gridcolor\": \"white\", \"linecolor\": \"white\", \"ticks\": \"\"}, \"baxis\": {\"gridcolor\": \"white\", \"linecolor\": \"white\", \"ticks\": \"\"}, \"bgcolor\": \"#E5ECF6\", \"caxis\": {\"gridcolor\": \"white\", \"linecolor\": \"white\", \"ticks\": \"\"}}, \"title\": {\"x\": 0.05}, \"xaxis\": {\"automargin\": true, \"gridcolor\": \"white\", \"linecolor\": \"white\", \"ticks\": \"\", \"title\": {\"standoff\": 15}, \"zerolinecolor\": \"white\", \"zerolinewidth\": 2}, \"yaxis\": {\"automargin\": true, \"gridcolor\": \"white\", \"linecolor\": \"white\", \"ticks\": \"\", \"title\": {\"standoff\": 15}, \"zerolinecolor\": \"white\", \"zerolinewidth\": 2}}}, \"width\": 700, \"xaxis\": {\"anchor\": \"y\", \"domain\": [0.0, 1.0], \"title\": {\"text\": \"principal_component\"}}, \"yaxis\": {\"anchor\": \"x\", \"domain\": [0.0, 1.0], \"title\": {\"text\": \"explained_variance_ratio\"}}},\n",
              "                        {\"responsive\": true}\n",
              "                    ).then(function(){\n",
              "                            \n",
              "var gd = document.getElementById('85d65a68-fd9b-4c87-a0fb-6c5b450e77e8');\n",
              "var x = new MutationObserver(function (mutations, observer) {{\n",
              "        var display = window.getComputedStyle(gd).display;\n",
              "        if (!display || display === 'none') {{\n",
              "            console.log([gd, 'removed!']);\n",
              "            Plotly.purge(gd);\n",
              "            observer.disconnect();\n",
              "        }}\n",
              "}});\n",
              "\n",
              "// Listen for the removal of the full notebook cells\n",
              "var notebookContainer = gd.closest('#notebook-container');\n",
              "if (notebookContainer) {{\n",
              "    x.observe(notebookContainer, {childList: true});\n",
              "}}\n",
              "\n",
              "// Listen for the clearing of the current output cell\n",
              "var outputEl = gd.closest('.output');\n",
              "if (outputEl) {{\n",
              "    x.observe(outputEl, {childList: true});\n",
              "}}\n",
              "\n",
              "                        })\n",
              "                };\n",
              "                \n",
              "            </script>\n",
              "        </div>\n",
              "</body>\n",
              "</html>"
            ]
          },
          "metadata": {
            "tags": []
          }
        }
      ]
    },
    {
      "cell_type": "code",
      "metadata": {
        "id": "EtHIFvQaMtrS",
        "colab_type": "code",
        "outputId": "01bd38aa-1b81-415f-cfde-14f89e6cec99",
        "colab": {
          "base_uri": "https://localhost:8080/",
          "height": 1000
        }
      },
      "source": [
        "pca = PCA(n_components=2, random_state=42)\n",
        "data_pca_2 = pca.fit_transform(data)\n",
        "data_pca_2"
      ],
      "execution_count": 11,
      "outputs": [
        {
          "output_type": "execute_result",
          "data": {
            "text/plain": [
              "array([[-2.06036 , -0.298674],\n",
              "       [-2.195981, -0.101727],\n",
              "       [-2.365221,  0.080749],\n",
              "       [-2.365794,  0.208165],\n",
              "       [-2.128171, -0.200201],\n",
              "       [-1.603256, -0.412703],\n",
              "       [-2.323005,  0.262683],\n",
              "       [-2.094552, -0.18573 ],\n",
              "       [-2.535034,  0.390641],\n",
              "       [-2.238771, -0.156245],\n",
              "       [-1.82331 , -0.579624],\n",
              "       [-2.196554,  0.025689],\n",
              "       [-2.3402  , -0.072243],\n",
              "       [-2.780109,  0.376712],\n",
              "       [-1.652923, -1.016932],\n",
              "       [-1.467062, -0.737067],\n",
              "       [-1.737731, -0.470588],\n",
              "       [-1.983952, -0.229685],\n",
              "       [-1.476232, -0.777114],\n",
              "       [-1.950333, -0.215214],\n",
              "       [-1.756072, -0.550682],\n",
              "       [-1.873925, -0.146225],\n",
              "       [-2.533888,  0.135809],\n",
              "       [-1.730279, -0.048293],\n",
              "       [-2.095698,  0.069102],\n",
              "       [-2.060933, -0.171258],\n",
              "       [-1.908117, -0.03328 ],\n",
              "       [-1.958931, -0.382677],\n",
              "       [-1.992549, -0.397148],\n",
              "       [-2.264365,  0.124163],\n",
              "       [-2.196554,  0.025689],\n",
              "       [-1.670493, -0.441646],\n",
              "       [-2.035339, -0.451666],\n",
              "       [-1.789118, -0.692569],\n",
              "       [-2.162363, -0.087256],\n",
              "       [-2.195408, -0.229143],\n",
              "       [-1.822736, -0.70704 ],\n",
              "       [-2.272389, -0.170716],\n",
              "       [-2.568653,  0.37617 ],\n",
              "       [-2.026741, -0.284203],\n",
              "       [-2.085381, -0.145683],\n",
              "       [-2.424434,  0.346686],\n",
              "       [-2.568653,  0.37617 ],\n",
              "       [-1.7553  ,  0.104699],\n",
              "       [-1.73945 , -0.08834 ],\n",
              "       [-2.187384,  0.065736],\n",
              "       [-1.993123, -0.269732],\n",
              "       [-2.399413,  0.193694],\n",
              "       [-1.89112 , -0.481151],\n",
              "       [-2.128171, -0.200201],\n",
              "       [ 1.254356, -0.864256],\n",
              "       [ 0.856664, -0.233367],\n",
              "       [ 1.330191, -0.66785 ],\n",
              "       [-0.074541,  0.442562],\n",
              "       [ 0.958093, -0.317369],\n",
              "       [ 0.229173,  0.317971],\n",
              "       [ 0.932499, -0.036961],\n",
              "       [-0.94596 ,  0.725139],\n",
              "       [ 0.873087, -0.553821],\n",
              "       [-0.235184,  0.792501],\n",
              "       [-0.810912,  0.655607],\n",
              "       [ 0.416755,  0.215588],\n",
              "       [ 0.035287, -0.256774],\n",
              "       [ 0.644061,  0.022007],\n",
              "       [-0.141206,  0.286204],\n",
              "       [ 0.950068, -0.612248],\n",
              "       [ 0.314179,  0.554423],\n",
              "       [-0.066716, -0.045355],\n",
              "       [ 0.721042, -0.036419],\n",
              "       [-0.193166,  0.191639],\n",
              "       [ 0.847691,  0.509383],\n",
              "       [ 0.332322, -0.14828 ],\n",
              "       [ 0.923328, -0.077008],\n",
              "       [ 0.491245, -0.115971],\n",
              "       [ 0.63661 , -0.400287],\n",
              "       [ 0.882258, -0.513774],\n",
              "       [ 1.152354, -0.652837],\n",
              "       [ 1.381005, -0.318453],\n",
              "       [ 0.585421,  0.160528],\n",
              "       [-0.336238, -0.033709],\n",
              "       [-0.294595,  0.275641],\n",
              "       [-0.404622,  0.192181],\n",
              "       [ 0.018863,  0.063681],\n",
              "       [ 0.863542,  0.316344],\n",
              "       [ 0.178558,  0.75137 ],\n",
              "       [ 0.66183 ,  0.229517],\n",
              "       [ 1.127333, -0.499845],\n",
              "       [ 0.602418, -0.287343],\n",
              "       [ 0.026888,  0.35856 ],\n",
              "       [-0.074541,  0.442562],\n",
              "       [-0.016475,  0.431458],\n",
              "       [ 0.610442,  0.007536],\n",
              "       [ 0.052482,  0.078152],\n",
              "       [-0.87815 ,  0.626665],\n",
              "       [ 0.060506,  0.373031],\n",
              "       [ 0.051909,  0.205568],\n",
              "       [ 0.128317,  0.274557],\n",
              "       [ 0.500989, -0.20334 ],\n",
              "       [-0.834787,  0.553767],\n",
              "       [ 0.094698,  0.260086],\n",
              "       [ 2.057216,  0.772067],\n",
              "       [ 0.957145,  0.720259],\n",
              "       [ 2.260448, -0.306151],\n",
              "       [ 1.387883,  0.231257],\n",
              "       [ 1.896375,  0.339209],\n",
              "       [ 2.834832, -0.697221],\n",
              "       [-0.007679,  1.381717],\n",
              "       [ 2.30132 , -0.652181],\n",
              "       [ 1.726363, -0.133695],\n",
              "       [ 2.701129, -0.099725],\n",
              "       [ 1.508227,  0.099933],\n",
              "       [ 1.431246,  0.15836 ],\n",
              "       [ 1.922542, -0.068614],\n",
              "       [ 0.932124,  0.873251],\n",
              "       [ 1.339186,  1.065206],\n",
              "       [ 1.736879,  0.434317],\n",
              "       [ 1.489886,  0.019839],\n",
              "       [ 3.01267 , -0.712234],\n",
              "       [ 3.156315, -0.614303],\n",
              "       [ 0.753515,  0.232884],\n",
              "       [ 2.210406, -0.000167],\n",
              "       [ 0.830695,  0.957254],\n",
              "       [ 2.859853, -0.850213],\n",
              "       [ 1.152552,  0.129959],\n",
              "       [ 1.921969,  0.058802],\n",
              "       [ 2.132653, -0.597121],\n",
              "       [ 1.051123,  0.213962],\n",
              "       [ 1.016931,  0.326907],\n",
              "       [ 1.684918,  0.339751],\n",
              "       [ 1.912599, -0.764042],\n",
              "       [ 2.378301, -0.710608],\n",
              "       [ 2.894618, -1.090574],\n",
              "       [ 1.761327,  0.408741],\n",
              "       [ 0.990565, -0.048066],\n",
              "       [ 0.946629,  0.152248],\n",
              "       [ 2.887366, -0.730072],\n",
              "       [ 1.846333,  0.645193],\n",
              "       [ 1.422075,  0.118313],\n",
              "       [ 0.915502,  0.410909],\n",
              "       [ 1.956734, -0.181559],\n",
              "       [ 2.117575,  0.251298],\n",
              "       [ 2.008694, -0.086994],\n",
              "       [ 0.957145,  0.720259],\n",
              "       [ 2.209833,  0.127249],\n",
              "       [ 2.227602,  0.334759],\n",
              "       [ 1.906692,  0.124424],\n",
              "       [ 1.262579,  0.21342 ],\n",
              "       [ 1.541846,  0.114404],\n",
              "       [ 1.634876,  0.645735],\n",
              "       [ 0.948548,  0.552796]])"
            ]
          },
          "metadata": {
            "tags": []
          },
          "execution_count": 11
        }
      ]
    },
    {
      "cell_type": "code",
      "metadata": {
        "id": "0jiKzsB7NIXG",
        "colab_type": "code",
        "outputId": "a08dae99-d52c-4e6d-c16c-7cbbb5c7d3ec",
        "colab": {
          "base_uri": "https://localhost:8080/",
          "height": 34
        }
      },
      "source": [
        "pca.explained_variance_ratio_"
      ],
      "execution_count": 12,
      "outputs": [
        {
          "output_type": "execute_result",
          "data": {
            "text/plain": [
              "array([0.923247, 0.066471])"
            ]
          },
          "metadata": {
            "tags": []
          },
          "execution_count": 12
        }
      ]
    },
    {
      "cell_type": "code",
      "metadata": {
        "id": "1-hmm4RFFIhE",
        "colab_type": "code",
        "outputId": "81133a43-a2e0-4814-833b-10fedfb40f1a",
        "colab": {
          "base_uri": "https://localhost:8080/",
          "height": 221
        }
      },
      "source": [
        "df['target']"
      ],
      "execution_count": 13,
      "outputs": [
        {
          "output_type": "execute_result",
          "data": {
            "text/plain": [
              "0      0.0\n",
              "1      0.0\n",
              "2      0.0\n",
              "3      0.0\n",
              "4      0.0\n",
              "      ... \n",
              "145    2.0\n",
              "146    2.0\n",
              "147    2.0\n",
              "148    2.0\n",
              "149    2.0\n",
              "Name: target, Length: 150, dtype: float64"
            ]
          },
          "metadata": {
            "tags": []
          },
          "execution_count": 13
        }
      ]
    },
    {
      "cell_type": "code",
      "metadata": {
        "id": "cAatp_vENK5w",
        "colab_type": "code",
        "outputId": "1c8684e2-757b-4159-f074-e04874ca17fa",
        "colab": {
          "base_uri": "https://localhost:8080/",
          "height": 419
        }
      },
      "source": [
        "data_pca = pd.DataFrame(data={'pca_1': data_pca_2[:, 0], 'pca_2': data_pca_2[:, 1], 'target': df['target']})\n",
        "data_pca"
      ],
      "execution_count": 20,
      "outputs": [
        {
          "output_type": "execute_result",
          "data": {
            "text/html": [
              "<div>\n",
              "<style scoped>\n",
              "    .dataframe tbody tr th:only-of-type {\n",
              "        vertical-align: middle;\n",
              "    }\n",
              "\n",
              "    .dataframe tbody tr th {\n",
              "        vertical-align: top;\n",
              "    }\n",
              "\n",
              "    .dataframe thead th {\n",
              "        text-align: right;\n",
              "    }\n",
              "</style>\n",
              "<table border=\"1\" class=\"dataframe\">\n",
              "  <thead>\n",
              "    <tr style=\"text-align: right;\">\n",
              "      <th></th>\n",
              "      <th>pca_1</th>\n",
              "      <th>pca_2</th>\n",
              "      <th>target</th>\n",
              "    </tr>\n",
              "  </thead>\n",
              "  <tbody>\n",
              "    <tr>\n",
              "      <th>0</th>\n",
              "      <td>-2.060360</td>\n",
              "      <td>-0.298674</td>\n",
              "      <td>0.0</td>\n",
              "    </tr>\n",
              "    <tr>\n",
              "      <th>1</th>\n",
              "      <td>-2.195981</td>\n",
              "      <td>-0.101727</td>\n",
              "      <td>0.0</td>\n",
              "    </tr>\n",
              "    <tr>\n",
              "      <th>2</th>\n",
              "      <td>-2.365221</td>\n",
              "      <td>0.080749</td>\n",
              "      <td>0.0</td>\n",
              "    </tr>\n",
              "    <tr>\n",
              "      <th>3</th>\n",
              "      <td>-2.365794</td>\n",
              "      <td>0.208165</td>\n",
              "      <td>0.0</td>\n",
              "    </tr>\n",
              "    <tr>\n",
              "      <th>4</th>\n",
              "      <td>-2.128171</td>\n",
              "      <td>-0.200201</td>\n",
              "      <td>0.0</td>\n",
              "    </tr>\n",
              "    <tr>\n",
              "      <th>...</th>\n",
              "      <td>...</td>\n",
              "      <td>...</td>\n",
              "      <td>...</td>\n",
              "    </tr>\n",
              "    <tr>\n",
              "      <th>145</th>\n",
              "      <td>1.906692</td>\n",
              "      <td>0.124424</td>\n",
              "      <td>2.0</td>\n",
              "    </tr>\n",
              "    <tr>\n",
              "      <th>146</th>\n",
              "      <td>1.262579</td>\n",
              "      <td>0.213420</td>\n",
              "      <td>2.0</td>\n",
              "    </tr>\n",
              "    <tr>\n",
              "      <th>147</th>\n",
              "      <td>1.541846</td>\n",
              "      <td>0.114404</td>\n",
              "      <td>2.0</td>\n",
              "    </tr>\n",
              "    <tr>\n",
              "      <th>148</th>\n",
              "      <td>1.634876</td>\n",
              "      <td>0.645735</td>\n",
              "      <td>2.0</td>\n",
              "    </tr>\n",
              "    <tr>\n",
              "      <th>149</th>\n",
              "      <td>0.948548</td>\n",
              "      <td>0.552796</td>\n",
              "      <td>2.0</td>\n",
              "    </tr>\n",
              "  </tbody>\n",
              "</table>\n",
              "<p>150 rows × 3 columns</p>\n",
              "</div>"
            ],
            "text/plain": [
              "        pca_1     pca_2  target\n",
              "0   -2.060360 -0.298674     0.0\n",
              "1   -2.195981 -0.101727     0.0\n",
              "2   -2.365221  0.080749     0.0\n",
              "3   -2.365794  0.208165     0.0\n",
              "4   -2.128171 -0.200201     0.0\n",
              "..        ...       ...     ...\n",
              "145  1.906692  0.124424     2.0\n",
              "146  1.262579  0.213420     2.0\n",
              "147  1.541846  0.114404     2.0\n",
              "148  1.634876  0.645735     2.0\n",
              "149  0.948548  0.552796     2.0\n",
              "\n",
              "[150 rows x 3 columns]"
            ]
          },
          "metadata": {
            "tags": []
          },
          "execution_count": 20
        }
      ]
    },
    {
      "cell_type": "code",
      "metadata": {
        "id": "kyjaw9YWEyQr",
        "colab_type": "code",
        "outputId": "8140f4f1-4d42-40db-bfa2-5f4cd2cbaaaa",
        "colab": {
          "base_uri": "https://localhost:8080/",
          "height": 617
        }
      },
      "source": [
        "px.scatter(data_pca, x='pca_1', y='pca_2', color='target', width=800, height=600, color_continuous_midpoint=1.2)"
      ],
      "execution_count": 28,
      "outputs": [
        {
          "output_type": "display_data",
          "data": {
            "text/html": [
              "<html>\n",
              "<head><meta charset=\"utf-8\" /></head>\n",
              "<body>\n",
              "    <div>\n",
              "            <script src=\"https://cdnjs.cloudflare.com/ajax/libs/mathjax/2.7.5/MathJax.js?config=TeX-AMS-MML_SVG\"></script><script type=\"text/javascript\">if (window.MathJax) {MathJax.Hub.Config({SVG: {font: \"STIX-Web\"}});}</script>\n",
              "                <script type=\"text/javascript\">window.PlotlyConfig = {MathJaxConfig: 'local'};</script>\n",
              "        <script src=\"https://cdn.plot.ly/plotly-latest.min.js\"></script>    \n",
              "            <div id=\"0bb490a4-e6d7-4c86-a0a5-e0b81f848ac5\" class=\"plotly-graph-div\" style=\"height:600px; width:800px;\"></div>\n",
              "            <script type=\"text/javascript\">\n",
              "                \n",
              "                    window.PLOTLYENV=window.PLOTLYENV || {};\n",
              "                    \n",
              "                if (document.getElementById(\"0bb490a4-e6d7-4c86-a0a5-e0b81f848ac5\")) {\n",
              "                    Plotly.newPlot(\n",
              "                        '0bb490a4-e6d7-4c86-a0a5-e0b81f848ac5',\n",
              "                        [{\"hoverlabel\": {\"namelength\": 0}, \"hovertemplate\": \"pca_1=%{x}<br>pca_2=%{y}<br>target=%{marker.color}\", \"legendgroup\": \"\", \"marker\": {\"color\": [0.0, 0.0, 0.0, 0.0, 0.0, 0.0, 0.0, 0.0, 0.0, 0.0, 0.0, 0.0, 0.0, 0.0, 0.0, 0.0, 0.0, 0.0, 0.0, 0.0, 0.0, 0.0, 0.0, 0.0, 0.0, 0.0, 0.0, 0.0, 0.0, 0.0, 0.0, 0.0, 0.0, 0.0, 0.0, 0.0, 0.0, 0.0, 0.0, 0.0, 0.0, 0.0, 0.0, 0.0, 0.0, 0.0, 0.0, 0.0, 0.0, 0.0, 1.0, 1.0, 1.0, 1.0, 1.0, 1.0, 1.0, 1.0, 1.0, 1.0, 1.0, 1.0, 1.0, 1.0, 1.0, 1.0, 1.0, 1.0, 1.0, 1.0, 1.0, 1.0, 1.0, 1.0, 1.0, 1.0, 1.0, 1.0, 1.0, 1.0, 1.0, 1.0, 1.0, 1.0, 1.0, 1.0, 1.0, 1.0, 1.0, 1.0, 1.0, 1.0, 1.0, 1.0, 1.0, 1.0, 1.0, 1.0, 1.0, 1.0, 2.0, 2.0, 2.0, 2.0, 2.0, 2.0, 2.0, 2.0, 2.0, 2.0, 2.0, 2.0, 2.0, 2.0, 2.0, 2.0, 2.0, 2.0, 2.0, 2.0, 2.0, 2.0, 2.0, 2.0, 2.0, 2.0, 2.0, 2.0, 2.0, 2.0, 2.0, 2.0, 2.0, 2.0, 2.0, 2.0, 2.0, 2.0, 2.0, 2.0, 2.0, 2.0, 2.0, 2.0, 2.0, 2.0, 2.0, 2.0, 2.0, 2.0], \"coloraxis\": \"coloraxis\", \"symbol\": \"circle\"}, \"mode\": \"markers\", \"name\": \"\", \"showlegend\": false, \"type\": \"scatter\", \"x\": [-2.0603600621485167, -2.1959811968817893, -2.3652210190555936, -2.365794211541165, -2.1281706295151532, -1.6032558477852963, -2.323004674010839, -2.094551942074621, -2.535034033714969, -2.2387707344121153, -1.8233096726080773, -2.196554389367361, -2.3401999892192835, -2.7801088883740595, -1.65292346546313, -1.4670615205664528, -1.7377305975474249, -1.9839518371776599, -1.4762323706562468, -1.9503331497371277, -1.7560722977270127, -1.873924924766269, -2.5338876487438253, -1.7302793249143464, -2.0956983270457648, -2.060933254634089, -1.9081168046923727, -1.9589308073413494, -1.9925494947818816, -2.264364956733997, -2.196554389367361, -1.6704932226663607, -2.035339032312207, -1.789117792681974, -2.162362509441257, -2.195408004396217, -1.8227364801225057, -2.2723894218526475, -2.568652721155501, -2.0267413747079854, -2.0853810919848272, -2.424433928818007, -2.568652721155501, -1.7553003547506558, -1.7394501750041407, -2.1873835392775676, -1.9931226872674532, -2.3994128989816974, -1.8911202399747138, -2.1281706295151532, 1.2543561030054244, 0.856663548895403, 1.3301911354907112, -0.07454144454869806, 0.9580928037025707, 0.22917312738723458, 0.9324985813806894, -0.9459603357448131, 0.87308692112749, -0.2351836091182797, -0.8109123934971129, 0.4167546497406269, 0.03528671737190696, 0.6440609967057006, -0.1412056269441906, 0.9500683385839205, 0.31417900996231474, -0.06671572992083308, 0.7210424141621309, -0.19316601456431087, 0.8476914492963942, 0.33232195965111755, 0.9233277312908951, 0.4912445467639841, 0.6366097240726222, 0.8822577712172842, 1.152353655712684, 1.381005138139688, 0.5854212794288588, -0.3362384219306613, -0.29459526937147873, -0.4046221817828691, 0.018863345139819365, 0.8635416290429095, 0.17855787522904334, 0.6618295043997171, 1.1273326258763752, 0.6024178441465181, 0.026887810258469765, -0.07454144454869806, -0.01647491975742776, 0.6104423092651683, 0.052482032580351494, -0.8781497683781772, 0.060506497699002, 0.05190884009478003, 0.1283170650656383, 0.5009885893393501, -0.8347870383622796, 0.09469837762510609, 2.0572155428453307, 0.9571451692222123, 2.260448494454453, 1.3878832182871945, 1.8963746277849638, 2.8348321433713584, -0.007678511662419777, 2.301319704037279, 1.7263628626348027, 2.701129336585587, 1.5082273657595222, 1.4312459483030926, 1.9225420425924173, 0.9321241393859029, 1.3391862940765036, 1.7368788481865258, 1.4898856655799344, 3.0126696231493844, 3.156315223001307, 0.7535147166315191, 2.2104064347818344, 0.8306948845787345, 2.859853173207667, 1.1525524062034698, 1.921968850106846, 2.132653074349047, 1.0511231513963017, 1.016931271470198, 1.6849184605664058, 1.912599249526266, 2.3783011214937093, 2.8946182456193434, 1.7613266855372642, 0.990565106171959, 0.9466291836704895, 2.88736572347705, 1.8463325681123441, 1.4220750982132988, 0.9155020166630299, 1.9567339225185214, 2.1175748375788883, 2.008694310138641, 0.9571451692222123, 2.209833242296262, 2.2276017499902787, 1.9066918628459015, 1.2625793186148602, 1.5418460532000549, 1.6348764008937857, 0.9485475116179904], \"xaxis\": \"x\", \"y\": [-0.2986744029973017, -0.10172706562502663, 0.08074913316742643, 0.20816507901321, -0.2002007343111645, -0.4127034958141718, 0.262683189184425, -0.18572959573134173, 0.39064127780566216, -0.15624517579624195, -0.5796242704758933, 0.02568888022075699, -0.07224264568992647, 0.3767122820012945, -1.0169323609599124, -0.737066779032231, -0.4705880501334631, -0.229685154246264, -0.7771137506236231, -0.21521401566644116, -0.5506819933162477, -0.14622476691540326, 0.13580938611409601, -0.048293241004719704, 0.06910229596022542, -0.1712584571515189, -0.033279959649443136, -0.3826769331036175, -0.3971480716834402, 0.12416254890689454, 0.02568888022075699, -0.44164577297381746, -0.45166618185465524, -0.6925690777418534, -0.08725592704520413, -0.22914301147081007, -0.7070402163216766, -0.17071631437606477, 0.3761701392258394, -0.284203264417479, -0.14568262413994953, 0.34668571929073977, 0.3761701392258394, 0.10469853785263258, -0.08834021259611202, 0.06573585181214918, -0.2697321258376562, 0.1936939404333872, -0.4811506017897549, -0.2002007343111645, -0.864255549887314, -0.23336656617909507, -0.6678503552904931, 0.44256226159495626, -0.31736909628540977, 0.3179706171217944, -0.03696137158227309, 0.7251385573999094, -0.5538212624736228, 0.7925013778245844, 0.6556071658734174, 0.21558836151212576, -0.25677382808884675, 0.022007468287926858, 0.2862040385895275, -0.6122479595683693, 0.5544227833100085, -0.04535535213674809, -0.03641922880681913, 0.19163895682692006, 0.5093829392441762, -0.1482797505218706, -0.0770083431736654, -0.11597102921414885, -0.40028734084081646, -0.5137742908822308, -0.6528370739352154, -0.31845338183631877, 0.16052810856545668, -0.033708514929547455, 0.2756414869332348, 0.19218109960237403, 0.063680868205682, 0.31634418879543136, 0.7513701206822834, 0.2295173573164946, -0.49984529507786285, -0.2873425335748552, 0.35855973148864134, 0.44256226159495626, 0.4314575671632095, 0.007536329708103999, 0.07815200678550485, 0.6266648887137719, 0.37303087006846436, 0.20556795263128796, 0.274557201382326, -0.2033400034685405, 0.553767053039204, 0.260086062802503, 0.7720666687147643, 0.7202592724208209, -0.3061508143583126, 0.23125737313820793, 0.3392093079297293, -0.6972211877302423, 1.3817169616150482, -0.652181343664411, -0.13369502444669826, -0.09972521088065397, 0.09993284036889359, 0.1583595374636389, -0.06861436261919049, 0.8732510512781735, 1.0652055161760103, 0.43431653246779023, 0.019838897186109202, -0.7122344690855196, -0.6143029431748365, 0.23288380146457066, -0.0001672566436076851, 0.9572535813844891, -0.8502129665875955, 0.12995940307944825, 0.05880158322659262, -0.5971210907177418, 0.21396193318576293, 0.32690674045172413, 0.33975145070518314, -0.7640418653794631, -0.7106080407591571, -1.09057371969934, 0.40874069945622105, -0.04806606601401991, 0.152247715506332, -0.730072051813419, 0.645192865644435, 0.11831256587224667, 0.4109092705580388, -0.18155916988515178, 0.25129819089988314, -0.08699408812254464, 0.7202592724208209, 0.12724868920217638, 0.334758578230744, 0.12442438782955416, 0.21341979041030895, 0.11440397894871654, 0.6457350084198891, 0.5527963549836448], \"yaxis\": \"y\"}],\n",
              "                        {\"coloraxis\": {\"cmid\": 1.2, \"colorbar\": {\"title\": {\"text\": \"target\"}}, \"colorscale\": [[0.0, \"#0d0887\"], [0.1111111111111111, \"#46039f\"], [0.2222222222222222, \"#7201a8\"], [0.3333333333333333, \"#9c179e\"], [0.4444444444444444, \"#bd3786\"], [0.5555555555555556, \"#d8576b\"], [0.6666666666666666, \"#ed7953\"], [0.7777777777777778, \"#fb9f3a\"], [0.8888888888888888, \"#fdca26\"], [1.0, \"#f0f921\"]]}, \"height\": 600, \"legend\": {\"tracegroupgap\": 0}, \"margin\": {\"t\": 60}, \"template\": {\"data\": {\"bar\": [{\"error_x\": {\"color\": \"#2a3f5f\"}, \"error_y\": {\"color\": \"#2a3f5f\"}, \"marker\": {\"line\": {\"color\": \"#E5ECF6\", \"width\": 0.5}}, \"type\": \"bar\"}], \"barpolar\": [{\"marker\": {\"line\": {\"color\": \"#E5ECF6\", \"width\": 0.5}}, \"type\": \"barpolar\"}], \"carpet\": [{\"aaxis\": {\"endlinecolor\": \"#2a3f5f\", \"gridcolor\": \"white\", \"linecolor\": \"white\", \"minorgridcolor\": \"white\", \"startlinecolor\": \"#2a3f5f\"}, \"baxis\": {\"endlinecolor\": \"#2a3f5f\", \"gridcolor\": \"white\", \"linecolor\": \"white\", \"minorgridcolor\": \"white\", \"startlinecolor\": \"#2a3f5f\"}, \"type\": \"carpet\"}], \"choropleth\": [{\"colorbar\": {\"outlinewidth\": 0, \"ticks\": \"\"}, \"type\": \"choropleth\"}], \"contour\": [{\"colorbar\": {\"outlinewidth\": 0, \"ticks\": \"\"}, \"colorscale\": [[0.0, \"#0d0887\"], [0.1111111111111111, \"#46039f\"], [0.2222222222222222, \"#7201a8\"], [0.3333333333333333, \"#9c179e\"], [0.4444444444444444, \"#bd3786\"], [0.5555555555555556, \"#d8576b\"], [0.6666666666666666, \"#ed7953\"], [0.7777777777777778, \"#fb9f3a\"], [0.8888888888888888, \"#fdca26\"], [1.0, \"#f0f921\"]], \"type\": \"contour\"}], \"contourcarpet\": [{\"colorbar\": {\"outlinewidth\": 0, \"ticks\": \"\"}, \"type\": \"contourcarpet\"}], \"heatmap\": [{\"colorbar\": {\"outlinewidth\": 0, \"ticks\": \"\"}, \"colorscale\": [[0.0, \"#0d0887\"], [0.1111111111111111, \"#46039f\"], [0.2222222222222222, \"#7201a8\"], [0.3333333333333333, \"#9c179e\"], [0.4444444444444444, \"#bd3786\"], [0.5555555555555556, \"#d8576b\"], [0.6666666666666666, \"#ed7953\"], [0.7777777777777778, \"#fb9f3a\"], [0.8888888888888888, \"#fdca26\"], [1.0, \"#f0f921\"]], \"type\": \"heatmap\"}], \"heatmapgl\": [{\"colorbar\": {\"outlinewidth\": 0, \"ticks\": \"\"}, \"colorscale\": [[0.0, \"#0d0887\"], [0.1111111111111111, \"#46039f\"], [0.2222222222222222, \"#7201a8\"], [0.3333333333333333, \"#9c179e\"], [0.4444444444444444, \"#bd3786\"], [0.5555555555555556, \"#d8576b\"], [0.6666666666666666, \"#ed7953\"], [0.7777777777777778, \"#fb9f3a\"], [0.8888888888888888, \"#fdca26\"], [1.0, \"#f0f921\"]], \"type\": \"heatmapgl\"}], \"histogram\": [{\"marker\": {\"colorbar\": {\"outlinewidth\": 0, \"ticks\": \"\"}}, \"type\": \"histogram\"}], \"histogram2d\": [{\"colorbar\": {\"outlinewidth\": 0, \"ticks\": \"\"}, \"colorscale\": [[0.0, \"#0d0887\"], [0.1111111111111111, \"#46039f\"], [0.2222222222222222, \"#7201a8\"], [0.3333333333333333, \"#9c179e\"], [0.4444444444444444, \"#bd3786\"], [0.5555555555555556, \"#d8576b\"], [0.6666666666666666, \"#ed7953\"], [0.7777777777777778, \"#fb9f3a\"], [0.8888888888888888, \"#fdca26\"], [1.0, \"#f0f921\"]], \"type\": \"histogram2d\"}], \"histogram2dcontour\": [{\"colorbar\": {\"outlinewidth\": 0, \"ticks\": \"\"}, \"colorscale\": [[0.0, \"#0d0887\"], [0.1111111111111111, \"#46039f\"], [0.2222222222222222, \"#7201a8\"], [0.3333333333333333, \"#9c179e\"], [0.4444444444444444, \"#bd3786\"], [0.5555555555555556, \"#d8576b\"], [0.6666666666666666, \"#ed7953\"], [0.7777777777777778, \"#fb9f3a\"], [0.8888888888888888, \"#fdca26\"], [1.0, \"#f0f921\"]], \"type\": \"histogram2dcontour\"}], \"mesh3d\": [{\"colorbar\": {\"outlinewidth\": 0, \"ticks\": \"\"}, \"type\": \"mesh3d\"}], \"parcoords\": [{\"line\": {\"colorbar\": {\"outlinewidth\": 0, \"ticks\": \"\"}}, \"type\": \"parcoords\"}], \"pie\": [{\"automargin\": true, \"type\": \"pie\"}], \"scatter\": [{\"marker\": {\"colorbar\": {\"outlinewidth\": 0, \"ticks\": \"\"}}, \"type\": \"scatter\"}], \"scatter3d\": [{\"line\": {\"colorbar\": {\"outlinewidth\": 0, \"ticks\": \"\"}}, \"marker\": {\"colorbar\": {\"outlinewidth\": 0, \"ticks\": \"\"}}, \"type\": \"scatter3d\"}], \"scattercarpet\": [{\"marker\": {\"colorbar\": {\"outlinewidth\": 0, \"ticks\": \"\"}}, \"type\": \"scattercarpet\"}], \"scattergeo\": [{\"marker\": {\"colorbar\": {\"outlinewidth\": 0, \"ticks\": \"\"}}, \"type\": \"scattergeo\"}], \"scattergl\": [{\"marker\": {\"colorbar\": {\"outlinewidth\": 0, \"ticks\": \"\"}}, \"type\": \"scattergl\"}], \"scattermapbox\": [{\"marker\": {\"colorbar\": {\"outlinewidth\": 0, \"ticks\": \"\"}}, \"type\": \"scattermapbox\"}], \"scatterpolar\": [{\"marker\": {\"colorbar\": {\"outlinewidth\": 0, \"ticks\": \"\"}}, \"type\": \"scatterpolar\"}], \"scatterpolargl\": [{\"marker\": {\"colorbar\": {\"outlinewidth\": 0, \"ticks\": \"\"}}, \"type\": \"scatterpolargl\"}], \"scatterternary\": [{\"marker\": {\"colorbar\": {\"outlinewidth\": 0, \"ticks\": \"\"}}, \"type\": \"scatterternary\"}], \"surface\": [{\"colorbar\": {\"outlinewidth\": 0, \"ticks\": \"\"}, \"colorscale\": [[0.0, \"#0d0887\"], [0.1111111111111111, \"#46039f\"], [0.2222222222222222, \"#7201a8\"], [0.3333333333333333, \"#9c179e\"], [0.4444444444444444, \"#bd3786\"], [0.5555555555555556, \"#d8576b\"], [0.6666666666666666, \"#ed7953\"], [0.7777777777777778, \"#fb9f3a\"], [0.8888888888888888, \"#fdca26\"], [1.0, \"#f0f921\"]], \"type\": \"surface\"}], \"table\": [{\"cells\": {\"fill\": {\"color\": \"#EBF0F8\"}, \"line\": {\"color\": \"white\"}}, \"header\": {\"fill\": {\"color\": \"#C8D4E3\"}, \"line\": {\"color\": \"white\"}}, \"type\": \"table\"}]}, \"layout\": {\"annotationdefaults\": {\"arrowcolor\": \"#2a3f5f\", \"arrowhead\": 0, \"arrowwidth\": 1}, \"coloraxis\": {\"colorbar\": {\"outlinewidth\": 0, \"ticks\": \"\"}}, \"colorscale\": {\"diverging\": [[0, \"#8e0152\"], [0.1, \"#c51b7d\"], [0.2, \"#de77ae\"], [0.3, \"#f1b6da\"], [0.4, \"#fde0ef\"], [0.5, \"#f7f7f7\"], [0.6, \"#e6f5d0\"], [0.7, \"#b8e186\"], [0.8, \"#7fbc41\"], [0.9, \"#4d9221\"], [1, \"#276419\"]], \"sequential\": [[0.0, \"#0d0887\"], [0.1111111111111111, \"#46039f\"], [0.2222222222222222, \"#7201a8\"], [0.3333333333333333, \"#9c179e\"], [0.4444444444444444, \"#bd3786\"], [0.5555555555555556, \"#d8576b\"], [0.6666666666666666, \"#ed7953\"], [0.7777777777777778, \"#fb9f3a\"], [0.8888888888888888, \"#fdca26\"], [1.0, \"#f0f921\"]], \"sequentialminus\": [[0.0, \"#0d0887\"], [0.1111111111111111, \"#46039f\"], [0.2222222222222222, \"#7201a8\"], [0.3333333333333333, \"#9c179e\"], [0.4444444444444444, \"#bd3786\"], [0.5555555555555556, \"#d8576b\"], [0.6666666666666666, \"#ed7953\"], [0.7777777777777778, \"#fb9f3a\"], [0.8888888888888888, \"#fdca26\"], [1.0, \"#f0f921\"]]}, \"colorway\": [\"#636efa\", \"#EF553B\", \"#00cc96\", \"#ab63fa\", \"#FFA15A\", \"#19d3f3\", \"#FF6692\", \"#B6E880\", \"#FF97FF\", \"#FECB52\"], \"font\": {\"color\": \"#2a3f5f\"}, \"geo\": {\"bgcolor\": \"white\", \"lakecolor\": \"white\", \"landcolor\": \"#E5ECF6\", \"showlakes\": true, \"showland\": true, \"subunitcolor\": \"white\"}, \"hoverlabel\": {\"align\": \"left\"}, \"hovermode\": \"closest\", \"mapbox\": {\"style\": \"light\"}, \"paper_bgcolor\": \"white\", \"plot_bgcolor\": \"#E5ECF6\", \"polar\": {\"angularaxis\": {\"gridcolor\": \"white\", \"linecolor\": \"white\", \"ticks\": \"\"}, \"bgcolor\": \"#E5ECF6\", \"radialaxis\": {\"gridcolor\": \"white\", \"linecolor\": \"white\", \"ticks\": \"\"}}, \"scene\": {\"xaxis\": {\"backgroundcolor\": \"#E5ECF6\", \"gridcolor\": \"white\", \"gridwidth\": 2, \"linecolor\": \"white\", \"showbackground\": true, \"ticks\": \"\", \"zerolinecolor\": \"white\"}, \"yaxis\": {\"backgroundcolor\": \"#E5ECF6\", \"gridcolor\": \"white\", \"gridwidth\": 2, \"linecolor\": \"white\", \"showbackground\": true, \"ticks\": \"\", \"zerolinecolor\": \"white\"}, \"zaxis\": {\"backgroundcolor\": \"#E5ECF6\", \"gridcolor\": \"white\", \"gridwidth\": 2, \"linecolor\": \"white\", \"showbackground\": true, \"ticks\": \"\", \"zerolinecolor\": \"white\"}}, \"shapedefaults\": {\"line\": {\"color\": \"#2a3f5f\"}}, \"ternary\": {\"aaxis\": {\"gridcolor\": \"white\", \"linecolor\": \"white\", \"ticks\": \"\"}, \"baxis\": {\"gridcolor\": \"white\", \"linecolor\": \"white\", \"ticks\": \"\"}, \"bgcolor\": \"#E5ECF6\", \"caxis\": {\"gridcolor\": \"white\", \"linecolor\": \"white\", \"ticks\": \"\"}}, \"title\": {\"x\": 0.05}, \"xaxis\": {\"automargin\": true, \"gridcolor\": \"white\", \"linecolor\": \"white\", \"ticks\": \"\", \"title\": {\"standoff\": 15}, \"zerolinecolor\": \"white\", \"zerolinewidth\": 2}, \"yaxis\": {\"automargin\": true, \"gridcolor\": \"white\", \"linecolor\": \"white\", \"ticks\": \"\", \"title\": {\"standoff\": 15}, \"zerolinecolor\": \"white\", \"zerolinewidth\": 2}}}, \"width\": 800, \"xaxis\": {\"anchor\": \"y\", \"domain\": [0.0, 1.0], \"title\": {\"text\": \"pca_1\"}}, \"yaxis\": {\"anchor\": \"x\", \"domain\": [0.0, 1.0], \"title\": {\"text\": \"pca_2\"}}},\n",
              "                        {\"responsive\": true}\n",
              "                    ).then(function(){\n",
              "                            \n",
              "var gd = document.getElementById('0bb490a4-e6d7-4c86-a0a5-e0b81f848ac5');\n",
              "var x = new MutationObserver(function (mutations, observer) {{\n",
              "        var display = window.getComputedStyle(gd).display;\n",
              "        if (!display || display === 'none') {{\n",
              "            console.log([gd, 'removed!']);\n",
              "            Plotly.purge(gd);\n",
              "            observer.disconnect();\n",
              "        }}\n",
              "}});\n",
              "\n",
              "// Listen for the removal of the full notebook cells\n",
              "var notebookContainer = gd.closest('#notebook-container');\n",
              "if (notebookContainer) {{\n",
              "    x.observe(notebookContainer, {childList: true});\n",
              "}}\n",
              "\n",
              "// Listen for the clearing of the current output cell\n",
              "var outputEl = gd.closest('.output');\n",
              "if (outputEl) {{\n",
              "    x.observe(outputEl, {childList: true});\n",
              "}}\n",
              "\n",
              "                        })\n",
              "                };\n",
              "                \n",
              "            </script>\n",
              "        </div>\n",
              "</body>\n",
              "</html>"
            ]
          },
          "metadata": {
            "tags": []
          }
        }
      ]
    },
    {
      "cell_type": "code",
      "metadata": {
        "id": "ECpHPtKsGsqX",
        "colab_type": "code",
        "outputId": "51f36ee5-76a8-44ff-a323-eea118924dca",
        "colab": {
          "base_uri": "https://localhost:8080/",
          "height": 1000
        }
      },
      "source": [
        "pca = PCA(n_components=0.99, random_state=42)\n",
        "data_pca = pca.fit_transform(data)\n",
        "data_pca"
      ],
      "execution_count": 16,
      "outputs": [
        {
          "output_type": "execute_result",
          "data": {
            "text/plain": [
              "array([[-2.06036 , -0.298674, -0.059476],\n",
              "       [-2.195981, -0.101727, -0.020166],\n",
              "       [-2.365221,  0.080749, -0.024341],\n",
              "       [-2.365794,  0.208165,  0.082282],\n",
              "       [-2.128171, -0.200201, -0.039821],\n",
              "       [-1.603256, -0.412703, -0.152053],\n",
              "       [-2.323005,  0.262683, -0.043234],\n",
              "       [-2.094552, -0.18573 ,  0.003663],\n",
              "       [-2.535034,  0.390641,  0.078108],\n",
              "       [-2.238771, -0.156245,  0.10535 ],\n",
              "       [-1.82331 , -0.579624, -0.074957],\n",
              "       [-2.196554,  0.025689,  0.086457],\n",
              "       [-2.3402  , -0.072243,  0.081521],\n",
              "       [-2.780109,  0.376712,  0.049343],\n",
              "       [-1.652923, -1.016932, -0.284029],\n",
              "       [-1.467062, -0.737067, -0.297986],\n",
              "       [-1.737731, -0.470588, -0.32599 ],\n",
              "       [-1.983952, -0.229685, -0.141509],\n",
              "       [-1.476232, -0.777114, -0.128986],\n",
              "       [-1.950333, -0.215214, -0.098024],\n",
              "       [-1.756072, -0.550682,  0.012011],\n",
              "       [-1.873925, -0.146225, -0.180057],\n",
              "       [-2.533888,  0.135809, -0.135138],\n",
              "       [-1.730279, -0.048293, -0.175121],\n",
              "       [-2.095698,  0.069102,  0.216909],\n",
              "       [-2.060933, -0.171258,  0.047147],\n",
              "       [-1.908117, -0.03328 , -0.116918],\n",
              "       [-1.958931, -0.382677, -0.035647],\n",
              "       [-1.992549, -0.397148, -0.079131],\n",
              "       [-2.264365,  0.124163,  0.106112],\n",
              "       [-2.196554,  0.025689,  0.086457],\n",
              "       [-1.670493, -0.441646, -0.239022],\n",
              "       [-2.035339, -0.451666,  0.046385],\n",
              "       [-1.789118, -0.692569, -0.138096],\n",
              "       [-2.162363, -0.087256,  0.023318],\n",
              "       [-2.195408, -0.229143, -0.126789],\n",
              "       [-1.822736, -0.70704 , -0.18158 ],\n",
              "       [-2.272389, -0.170716,  0.061866],\n",
              "       [-2.568653,  0.37617 ,  0.034624],\n",
              "       [-2.026741, -0.284203, -0.015992],\n",
              "       [-2.085381, -0.145683, -0.165338],\n",
              "       [-2.424434,  0.346686, -0.067063],\n",
              "       [-2.568653,  0.37617 ,  0.034624],\n",
              "       [-1.7553  ,  0.104699, -0.280982],\n",
              "       [-1.73945 , -0.08834 , -0.006121],\n",
              "       [-2.187384,  0.065736, -0.082544],\n",
              "       [-1.993123, -0.269732,  0.027492],\n",
              "       [-2.399413,  0.193694,  0.038798],\n",
              "       [-1.89112 , -0.481151, -0.055302],\n",
              "       [-2.128171, -0.200201, -0.039821],\n",
              "       [ 1.254356, -0.864256,  0.017666],\n",
              "       [ 0.856664, -0.233367, -0.033405],\n",
              "       [ 1.330191, -0.66785 ,  0.042257],\n",
              "       [-0.074541,  0.442562,  0.090134],\n",
              "       [ 0.958093, -0.317369, -0.009575],\n",
              "       [ 0.229173,  0.317971,  0.268245],\n",
              "       [ 0.932499, -0.036961, -0.008814],\n",
              "       [-0.94596 ,  0.725139,  0.149772],\n",
              "       [ 0.873087, -0.553821,  0.134834],\n",
              "       [-0.235184,  0.792501,  0.023583],\n",
              "       [-0.810912,  0.655607,  0.217085],\n",
              "       [ 0.416755,  0.215588, -0.065582],\n",
              "       [ 0.035287, -0.256774,  0.237956],\n",
              "       [ 0.644061,  0.022007,  0.194561],\n",
              "       [-0.141206,  0.286204, -0.103457],\n",
              "       [ 0.950068, -0.612248, -0.053821],\n",
              "       [ 0.314179,  0.554423,  0.123835],\n",
              "       [-0.066716, -0.045355,  0.32075 ],\n",
              "       [ 0.721042, -0.036419,  0.005905],\n",
              "       [-0.193166,  0.191639,  0.19106 ],\n",
              "       [ 0.847691,  0.509383, -0.050775],\n",
              "       [ 0.332322, -0.14828 , -0.027795],\n",
              "       [ 0.923328, -0.077008,  0.160187],\n",
              "       [ 0.491245, -0.115971,  0.358625],\n",
              "       [ 0.63661 , -0.400287,  0.043692],\n",
              "       [ 0.882258, -0.513774, -0.034166],\n",
              "       [ 1.152354, -0.652837,  0.10046 ],\n",
              "       [ 1.381005, -0.318453, -0.039014],\n",
              "       [ 0.585421,  0.160528,  0.045215],\n",
              "       [-0.336238, -0.033709,  0.079501],\n",
              "       [-0.294595,  0.275641,  0.167231],\n",
              "       [-0.404622,  0.192181,  0.205779],\n",
              "       [ 0.018863,  0.063681,  0.069718],\n",
              "       [ 0.863542,  0.316344,  0.224087],\n",
              "       [ 0.178558,  0.75137 ,  0.163145],\n",
              "       [ 0.66183 ,  0.229517, -0.036817],\n",
              "       [ 1.127333, -0.499845, -0.005401],\n",
              "       [ 0.602418, -0.287343,  0.106831],\n",
              "       [ 0.026888,  0.35856 ,  0.113963],\n",
              "       [-0.074541,  0.442562,  0.090134],\n",
              "       [-0.016475,  0.431458,  0.346103],\n",
              "       [ 0.610442,  0.007536,  0.151077],\n",
              "       [ 0.052482,  0.078152,  0.113202],\n",
              "       [-0.87815 ,  0.626665,  0.130117],\n",
              "       [ 0.060506,  0.373031,  0.157447],\n",
              "       [ 0.051909,  0.205568,  0.219825],\n",
              "       [ 0.128317,  0.274557,  0.137792],\n",
              "       [ 0.500989, -0.20334 ,  0.083002],\n",
              "       [-0.834787,  0.553767, -0.102022],\n",
              "       [ 0.094698,  0.260086,  0.094308],\n",
              "       [ 2.057216,  0.772067, -0.181812],\n",
              "       [ 0.957145,  0.720259,  0.0173  ],\n",
              "       [ 2.260448, -0.306151, -0.054406],\n",
              "       [ 1.387883,  0.231257,  0.218478],\n",
              "       [ 1.896375,  0.339209, -0.061993],\n",
              "       [ 2.834832, -0.697221,  0.151708],\n",
              "       [-0.007679,  1.381717,  0.097355],\n",
              "       [ 2.30132 , -0.652181,  0.326317],\n",
              "       [ 1.726363, -0.133695,  0.226826],\n",
              "       [ 2.701129, -0.099725, -0.315222],\n",
              "       [ 1.508227,  0.099933, -0.202317],\n",
              "       [ 1.431246,  0.15836 , -0.013661],\n",
              "       [ 1.922542, -0.068614, -0.169378],\n",
              "       [ 0.932124,  0.873251, -0.088561],\n",
              "       [ 1.339186,  1.065206, -0.392861],\n",
              "       [ 1.736879,  0.434317, -0.341791],\n",
              "       [ 1.489886,  0.019839,  0.135684],\n",
              "       [ 3.01267 , -0.712234,  0.093504],\n",
              "       [ 3.156315, -0.614303,  0.09844 ],\n",
              "       [ 0.753515,  0.232884,  0.262635],\n",
              "       [ 2.210406, -0.000167, -0.266129],\n",
              "       [ 0.830695,  0.957254, -0.11239 ],\n",
              "       [ 2.859853, -0.850213,  0.257569],\n",
              "       [ 1.152552,  0.129959, -0.08591 ],\n",
              "       [ 1.921969,  0.058802, -0.062754],\n",
              "       [ 2.132653, -0.597121,  0.21552 ],\n",
              "       [ 1.051123,  0.213962, -0.109739],\n",
              "       [ 1.016931,  0.326907, -0.0466  ],\n",
              "       [ 1.684918,  0.339751, -0.047274],\n",
              "       [ 1.912599, -0.764042,  0.292616],\n",
              "       [ 2.378301, -0.710608,  0.137662],\n",
              "       [ 2.894618, -1.090574,  0.087807],\n",
              "       [ 1.761327,  0.408741, -0.129306],\n",
              "       [ 0.990565, -0.048066,  0.247155],\n",
              "       [ 0.946629,  0.152248,  0.585917],\n",
              "       [ 2.887366, -0.730072, -0.249432],\n",
              "       [ 1.846333,  0.645193, -0.273716],\n",
              "       [ 1.422075,  0.118313,  0.155339],\n",
              "       [ 0.915502,  0.410909, -0.07043 ],\n",
              "       [ 1.956734, -0.181559, -0.232517],\n",
              "       [ 2.117575,  0.251298, -0.352335],\n",
              "       [ 2.008694, -0.086994, -0.527033],\n",
              "       [ 0.957145,  0.720259,  0.0173  ],\n",
              "       [ 2.209833,  0.127249, -0.159506],\n",
              "       [ 2.227602,  0.334759, -0.390884],\n",
              "       [ 1.906692,  0.124424, -0.444239],\n",
              "       [ 1.262579,  0.21342 , -0.124459],\n",
              "       [ 1.541846,  0.114404, -0.158833],\n",
              "       [ 1.634876,  0.645735, -0.258997],\n",
              "       [ 0.948548,  0.552796,  0.079678]])"
            ]
          },
          "metadata": {
            "tags": []
          },
          "execution_count": 16
        }
      ]
    },
    {
      "cell_type": "code",
      "metadata": {
        "id": "nCSDC1gVGuau",
        "colab_type": "code",
        "outputId": "dfc8ef75-894e-4823-f1c6-c981d034d695",
        "colab": {
          "base_uri": "https://localhost:8080/",
          "height": 419
        }
      },
      "source": [
        "data_pca_3d = pd.DataFrame(data={'pca_1': data_pca[:, 0], 'pca_2': data_pca[:, 1], 'pca_3': data_pca[:, 2], 'target': df['target']})\n",
        "data_pca_3d"
      ],
      "execution_count": 17,
      "outputs": [
        {
          "output_type": "execute_result",
          "data": {
            "text/html": [
              "<div>\n",
              "<style scoped>\n",
              "    .dataframe tbody tr th:only-of-type {\n",
              "        vertical-align: middle;\n",
              "    }\n",
              "\n",
              "    .dataframe tbody tr th {\n",
              "        vertical-align: top;\n",
              "    }\n",
              "\n",
              "    .dataframe thead th {\n",
              "        text-align: right;\n",
              "    }\n",
              "</style>\n",
              "<table border=\"1\" class=\"dataframe\">\n",
              "  <thead>\n",
              "    <tr style=\"text-align: right;\">\n",
              "      <th></th>\n",
              "      <th>pca_1</th>\n",
              "      <th>pca_2</th>\n",
              "      <th>pca_3</th>\n",
              "      <th>target</th>\n",
              "    </tr>\n",
              "  </thead>\n",
              "  <tbody>\n",
              "    <tr>\n",
              "      <th>0</th>\n",
              "      <td>-2.060360</td>\n",
              "      <td>-0.298674</td>\n",
              "      <td>-0.059476</td>\n",
              "      <td>0.0</td>\n",
              "    </tr>\n",
              "    <tr>\n",
              "      <th>1</th>\n",
              "      <td>-2.195981</td>\n",
              "      <td>-0.101727</td>\n",
              "      <td>-0.020166</td>\n",
              "      <td>0.0</td>\n",
              "    </tr>\n",
              "    <tr>\n",
              "      <th>2</th>\n",
              "      <td>-2.365221</td>\n",
              "      <td>0.080749</td>\n",
              "      <td>-0.024341</td>\n",
              "      <td>0.0</td>\n",
              "    </tr>\n",
              "    <tr>\n",
              "      <th>3</th>\n",
              "      <td>-2.365794</td>\n",
              "      <td>0.208165</td>\n",
              "      <td>0.082282</td>\n",
              "      <td>0.0</td>\n",
              "    </tr>\n",
              "    <tr>\n",
              "      <th>4</th>\n",
              "      <td>-2.128171</td>\n",
              "      <td>-0.200201</td>\n",
              "      <td>-0.039821</td>\n",
              "      <td>0.0</td>\n",
              "    </tr>\n",
              "    <tr>\n",
              "      <th>...</th>\n",
              "      <td>...</td>\n",
              "      <td>...</td>\n",
              "      <td>...</td>\n",
              "      <td>...</td>\n",
              "    </tr>\n",
              "    <tr>\n",
              "      <th>145</th>\n",
              "      <td>1.906692</td>\n",
              "      <td>0.124424</td>\n",
              "      <td>-0.444239</td>\n",
              "      <td>2.0</td>\n",
              "    </tr>\n",
              "    <tr>\n",
              "      <th>146</th>\n",
              "      <td>1.262579</td>\n",
              "      <td>0.213420</td>\n",
              "      <td>-0.124459</td>\n",
              "      <td>2.0</td>\n",
              "    </tr>\n",
              "    <tr>\n",
              "      <th>147</th>\n",
              "      <td>1.541846</td>\n",
              "      <td>0.114404</td>\n",
              "      <td>-0.158833</td>\n",
              "      <td>2.0</td>\n",
              "    </tr>\n",
              "    <tr>\n",
              "      <th>148</th>\n",
              "      <td>1.634876</td>\n",
              "      <td>0.645735</td>\n",
              "      <td>-0.258997</td>\n",
              "      <td>2.0</td>\n",
              "    </tr>\n",
              "    <tr>\n",
              "      <th>149</th>\n",
              "      <td>0.948548</td>\n",
              "      <td>0.552796</td>\n",
              "      <td>0.079678</td>\n",
              "      <td>2.0</td>\n",
              "    </tr>\n",
              "  </tbody>\n",
              "</table>\n",
              "<p>150 rows × 4 columns</p>\n",
              "</div>"
            ],
            "text/plain": [
              "        pca_1     pca_2     pca_3  target\n",
              "0   -2.060360 -0.298674 -0.059476     0.0\n",
              "1   -2.195981 -0.101727 -0.020166     0.0\n",
              "2   -2.365221  0.080749 -0.024341     0.0\n",
              "3   -2.365794  0.208165  0.082282     0.0\n",
              "4   -2.128171 -0.200201 -0.039821     0.0\n",
              "..        ...       ...       ...     ...\n",
              "145  1.906692  0.124424 -0.444239     2.0\n",
              "146  1.262579  0.213420 -0.124459     2.0\n",
              "147  1.541846  0.114404 -0.158833     2.0\n",
              "148  1.634876  0.645735 -0.258997     2.0\n",
              "149  0.948548  0.552796  0.079678     2.0\n",
              "\n",
              "[150 rows x 4 columns]"
            ]
          },
          "metadata": {
            "tags": []
          },
          "execution_count": 17
        }
      ]
    },
    {
      "cell_type": "code",
      "metadata": {
        "id": "st0H9ZMqHIH0",
        "colab_type": "code",
        "outputId": "11fc1b13-fec9-4fa7-c32f-8ea2ccea047b",
        "colab": {
          "base_uri": "https://localhost:8080/",
          "height": 542
        }
      },
      "source": [
        "px.scatter_3d(data_pca_3d, x='pca_1', y='pca_2', z='pca_3', color='target', symbol='target', opacity=0.7, width=700)"
      ],
      "execution_count": 18,
      "outputs": [
        {
          "output_type": "display_data",
          "data": {
            "text/html": [
              "<html>\n",
              "<head><meta charset=\"utf-8\" /></head>\n",
              "<body>\n",
              "    <div>\n",
              "            <script src=\"https://cdnjs.cloudflare.com/ajax/libs/mathjax/2.7.5/MathJax.js?config=TeX-AMS-MML_SVG\"></script><script type=\"text/javascript\">if (window.MathJax) {MathJax.Hub.Config({SVG: {font: \"STIX-Web\"}});}</script>\n",
              "                <script type=\"text/javascript\">window.PlotlyConfig = {MathJaxConfig: 'local'};</script>\n",
              "        <script src=\"https://cdn.plot.ly/plotly-latest.min.js\"></script>    \n",
              "            <div id=\"900ee60f-f310-49e4-b56b-851759efd769\" class=\"plotly-graph-div\" style=\"height:525px; width:700px;\"></div>\n",
              "            <script type=\"text/javascript\">\n",
              "                \n",
              "                    window.PLOTLYENV=window.PLOTLYENV || {};\n",
              "                    \n",
              "                if (document.getElementById(\"900ee60f-f310-49e4-b56b-851759efd769\")) {\n",
              "                    Plotly.newPlot(\n",
              "                        '900ee60f-f310-49e4-b56b-851759efd769',\n",
              "                        [{\"hoverlabel\": {\"namelength\": 0}, \"hovertemplate\": \"target=%{marker.color}<br>pca_1=%{x}<br>pca_2=%{y}<br>pca_3=%{z}\", \"legendgroup\": \"target=0.0\", \"marker\": {\"color\": [0.0, 0.0, 0.0, 0.0, 0.0, 0.0, 0.0, 0.0, 0.0, 0.0, 0.0, 0.0, 0.0, 0.0, 0.0, 0.0, 0.0, 0.0, 0.0, 0.0, 0.0, 0.0, 0.0, 0.0, 0.0, 0.0, 0.0, 0.0, 0.0, 0.0, 0.0, 0.0, 0.0, 0.0, 0.0, 0.0, 0.0, 0.0, 0.0, 0.0, 0.0, 0.0, 0.0, 0.0, 0.0, 0.0, 0.0, 0.0, 0.0, 0.0], \"coloraxis\": \"coloraxis\", \"opacity\": 0.7, \"symbol\": \"circle\"}, \"mode\": \"markers\", \"name\": \"target=0.0\", \"scene\": \"scene\", \"showlegend\": true, \"type\": \"scatter3d\", \"x\": [-2.0603600621485167, -2.1959811968817893, -2.3652210190555936, -2.365794211541165, -2.1281706295151532, -1.6032558477852963, -2.323004674010839, -2.094551942074621, -2.535034033714969, -2.2387707344121153, -1.8233096726080773, -2.196554389367361, -2.3401999892192835, -2.7801088883740595, -1.65292346546313, -1.4670615205664528, -1.7377305975474249, -1.9839518371776599, -1.4762323706562468, -1.9503331497371277, -1.7560722977270127, -1.873924924766269, -2.5338876487438253, -1.7302793249143464, -2.0956983270457648, -2.060933254634089, -1.9081168046923727, -1.9589308073413494, -1.9925494947818816, -2.264364956733997, -2.196554389367361, -1.6704932226663607, -2.035339032312207, -1.789117792681974, -2.162362509441257, -2.195408004396217, -1.8227364801225057, -2.2723894218526475, -2.568652721155501, -2.0267413747079854, -2.0853810919848272, -2.424433928818007, -2.568652721155501, -1.7553003547506558, -1.7394501750041407, -2.1873835392775676, -1.9931226872674532, -2.3994128989816974, -1.8911202399747138, -2.1281706295151532], \"y\": [-0.2986744029973017, -0.10172706562502663, 0.08074913316742643, 0.20816507901321, -0.2002007343111645, -0.4127034958141718, 0.262683189184425, -0.18572959573134173, 0.39064127780566216, -0.15624517579624195, -0.5796242704758933, 0.02568888022075699, -0.07224264568992647, 0.3767122820012945, -1.0169323609599124, -0.737066779032231, -0.4705880501334631, -0.229685154246264, -0.7771137506236231, -0.21521401566644116, -0.5506819933162477, -0.14622476691540326, 0.13580938611409601, -0.048293241004719704, 0.06910229596022542, -0.1712584571515189, -0.033279959649443136, -0.3826769331036175, -0.3971480716834402, 0.12416254890689454, 0.02568888022075699, -0.44164577297381746, -0.45166618185465524, -0.6925690777418534, -0.08725592704520413, -0.22914301147081007, -0.7070402163216766, -0.17071631437606477, 0.3761701392258394, -0.284203264417479, -0.14568262413994953, 0.34668571929073977, 0.3761701392258394, 0.10469853785263258, -0.08834021259611202, 0.06573585181214918, -0.2697321258376562, 0.1936939404333872, -0.4811506017897549, -0.2002007343111645], \"z\": [-0.0594762285145166, -0.020166364268649453, -0.02434055573448485, 0.08228248781185658, -0.039821296391583355, -0.1520534627622803, -0.043233870406883, 0.003662759320120325, 0.07810829634602087, 0.1053499939500902, -0.0749569691716159, 0.08645667927769214, 0.08152087036132066, 0.049343363840880027, -0.2840288647984629, -0.29798637055449, -0.3259896856090952, -0.1415085310215532, -0.12898595662404638, -0.0980244753098495, 0.012011142251791599, -0.18005677781688556, -0.13513779074666168, -0.17512096890051398, 0.21690884641280322, 0.04714681503182402, -0.11691778998224792, -0.035647104925747776, -0.07913116063745146, 0.10611161140062614, 0.08645667927769214, -0.23902157418568784, 0.046385197581288104, -0.13809595700625352, 0.023317691443054324, -0.12678940781499057, -0.1815800127179573, 0.06186593823838652, 0.03462424063431717, -0.01599217280281361, -0.16533765461032293, -0.06706299399565266, 0.03462424063431717, -0.2809823949963198, -0.006120554970070797, -0.08254373465275111, 0.02749188290889007, 0.038798432100152914, -0.05530203704868174, -0.039821296391583355]}, {\"hoverlabel\": {\"namelength\": 0}, \"hovertemplate\": \"target=%{marker.color}<br>pca_1=%{x}<br>pca_2=%{y}<br>pca_3=%{z}\", \"legendgroup\": \"target=1.0\", \"marker\": {\"color\": [1.0, 1.0, 1.0, 1.0, 1.0, 1.0, 1.0, 1.0, 1.0, 1.0, 1.0, 1.0, 1.0, 1.0, 1.0, 1.0, 1.0, 1.0, 1.0, 1.0, 1.0, 1.0, 1.0, 1.0, 1.0, 1.0, 1.0, 1.0, 1.0, 1.0, 1.0, 1.0, 1.0, 1.0, 1.0, 1.0, 1.0, 1.0, 1.0, 1.0, 1.0, 1.0, 1.0, 1.0, 1.0, 1.0, 1.0, 1.0, 1.0, 1.0], \"coloraxis\": \"coloraxis\", \"opacity\": 0.7, \"symbol\": \"diamond\"}, \"mode\": \"markers\", \"name\": \"target=1.0\", \"scene\": \"scene\", \"showlegend\": true, \"type\": \"scatter3d\", \"x\": [1.2543561030054244, 0.856663548895403, 1.3301911354907112, -0.07454144454869806, 0.9580928037025707, 0.22917312738723458, 0.9324985813806894, -0.9459603357448131, 0.87308692112749, -0.2351836091182797, -0.8109123934971129, 0.4167546497406269, 0.03528671737190696, 0.6440609967057006, -0.1412056269441906, 0.9500683385839205, 0.31417900996231474, -0.06671572992083308, 0.7210424141621309, -0.19316601456431087, 0.8476914492963942, 0.33232195965111755, 0.9233277312908951, 0.4912445467639841, 0.6366097240726222, 0.8822577712172842, 1.152353655712684, 1.381005138139688, 0.5854212794288588, -0.3362384219306613, -0.29459526937147873, -0.4046221817828691, 0.018863345139819365, 0.8635416290429095, 0.17855787522904334, 0.6618295043997171, 1.1273326258763752, 0.6024178441465181, 0.026887810258469765, -0.07454144454869806, -0.01647491975742776, 0.6104423092651683, 0.052482032580351494, -0.8781497683781772, 0.060506497699002, 0.05190884009478003, 0.1283170650656383, 0.5009885893393501, -0.8347870383622796, 0.09469837762510609], \"y\": [-0.864255549887314, -0.23336656617909507, -0.6678503552904931, 0.44256226159495626, -0.31736909628540977, 0.3179706171217944, -0.03696137158227309, 0.7251385573999094, -0.5538212624736228, 0.7925013778245844, 0.6556071658734174, 0.21558836151212576, -0.25677382808884675, 0.022007468287926858, 0.2862040385895275, -0.6122479595683693, 0.5544227833100085, -0.04535535213674809, -0.03641922880681913, 0.19163895682692006, 0.5093829392441762, -0.1482797505218706, -0.0770083431736654, -0.11597102921414885, -0.40028734084081646, -0.5137742908822308, -0.6528370739352154, -0.31845338183631877, 0.16052810856545668, -0.033708514929547455, 0.2756414869332348, 0.19218109960237403, 0.063680868205682, 0.31634418879543136, 0.7513701206822834, 0.2295173573164946, -0.49984529507786285, -0.2873425335748552, 0.35855973148864134, 0.44256226159495626, 0.4314575671632095, 0.007536329708103999, 0.07815200678550485, 0.6266648887137719, 0.37303087006846436, 0.20556795263128796, 0.274557201382326, -0.2033400034685405, 0.553767053039204, 0.260086062802503], \"z\": [0.01766626955152605, -0.03340455164131319, 0.04225701059083132, 0.09013416392064674, -0.00957542805254366, 0.268244578233297, -0.008813810602007656, 0.14977227419743303, 0.1348342448385942, 0.023582602070709297, 0.2170854534979064, -0.06558205816175393, 0.23795641082708435, 0.19456065865793257, -0.10345699104910197, -0.053821101214782834, 0.12383490534215937, 0.320750330784656, 0.005905312604554956, 0.1910597811000809, -0.050774631412639874, -0.027795428816957506, 0.16018660332843573, 0.35862526367200437, 0.04369194194935122, -0.03416616909184866, 0.1004601895090977, -0.03901367446566893, 0.04521517685042308, 0.07950092863736807, 0.16723065751131114, 0.20577890430664367, 0.06971761434717691, 0.22408720861360892, 0.1631447695880273, -0.036817125656612965, -0.005401236586707922, 0.10683092978398927, 0.11396328750941626, 0.09013416392064674, 0.34610268927449767, 0.15107660294622863, 0.1132016700588806, 0.13011734207449902, 0.1574473432211202, 0.21982471360522207, 0.13779241109818605, 0.08300180619521937, -0.10202205969058196, 0.0943083553864821]}, {\"hoverlabel\": {\"namelength\": 0}, \"hovertemplate\": \"target=%{marker.color}<br>pca_1=%{x}<br>pca_2=%{y}<br>pca_3=%{z}\", \"legendgroup\": \"target=2.0\", \"marker\": {\"color\": [2.0, 2.0, 2.0, 2.0, 2.0, 2.0, 2.0, 2.0, 2.0, 2.0, 2.0, 2.0, 2.0, 2.0, 2.0, 2.0, 2.0, 2.0, 2.0, 2.0, 2.0, 2.0, 2.0, 2.0, 2.0, 2.0, 2.0, 2.0, 2.0, 2.0, 2.0, 2.0, 2.0, 2.0, 2.0, 2.0, 2.0, 2.0, 2.0, 2.0, 2.0, 2.0, 2.0, 2.0, 2.0, 2.0, 2.0, 2.0, 2.0, 2.0], \"coloraxis\": \"coloraxis\", \"opacity\": 0.7, \"symbol\": \"square\"}, \"mode\": \"markers\", \"name\": \"target=2.0\", \"scene\": \"scene\", \"showlegend\": true, \"type\": \"scatter3d\", \"x\": [2.0572155428453307, 0.9571451692222123, 2.260448494454453, 1.3878832182871945, 1.8963746277849638, 2.8348321433713584, -0.007678511662419777, 2.301319704037279, 1.7263628626348027, 2.701129336585587, 1.5082273657595222, 1.4312459483030926, 1.9225420425924173, 0.9321241393859029, 1.3391862940765036, 1.7368788481865258, 1.4898856655799344, 3.0126696231493844, 3.156315223001307, 0.7535147166315191, 2.2104064347818344, 0.8306948845787345, 2.859853173207667, 1.1525524062034698, 1.921968850106846, 2.132653074349047, 1.0511231513963017, 1.016931271470198, 1.6849184605664058, 1.912599249526266, 2.3783011214937093, 2.8946182456193434, 1.7613266855372642, 0.990565106171959, 0.9466291836704895, 2.88736572347705, 1.8463325681123441, 1.4220750982132988, 0.9155020166630299, 1.9567339225185214, 2.1175748375788883, 2.008694310138641, 0.9571451692222123, 2.209833242296262, 2.2276017499902787, 1.9066918628459015, 1.2625793186148602, 1.5418460532000549, 1.6348764008937857, 0.9485475116179904], \"y\": [0.7720666687147643, 0.7202592724208209, -0.3061508143583126, 0.23125737313820793, 0.3392093079297293, -0.6972211877302423, 1.3817169616150482, -0.652181343664411, -0.13369502444669826, -0.09972521088065397, 0.09993284036889359, 0.1583595374636389, -0.06861436261919049, 0.8732510512781735, 1.0652055161760103, 0.43431653246779023, 0.019838897186109202, -0.7122344690855196, -0.6143029431748365, 0.23288380146457066, -0.0001672566436076851, 0.9572535813844891, -0.8502129665875955, 0.12995940307944825, 0.05880158322659262, -0.5971210907177418, 0.21396193318576293, 0.32690674045172413, 0.33975145070518314, -0.7640418653794631, -0.7106080407591571, -1.09057371969934, 0.40874069945622105, -0.04806606601401991, 0.152247715506332, -0.730072051813419, 0.645192865644435, 0.11831256587224667, 0.4109092705580388, -0.18155916988515178, 0.25129819089988314, -0.08699408812254464, 0.7202592724208209, 0.12724868920217638, 0.334758578230744, 0.12442438782955416, 0.21341979041030895, 0.11440397894871654, 0.6457350084198891, 0.5527963549836448], \"z\": [-0.18181180891318316, 0.01730016533836931, -0.05440611158021541, 0.2184780857892535, -0.06199287706135104, 0.1517076177870397, 0.09735482518862563, 0.32631715454183874, 0.22682646872092474, -0.3152221423078862, -0.20231666202920504, -0.013661315975827594, -0.16937753805822828, -0.08856126075743623, -0.39286134719681043, -0.3417905260039712, 0.1356841658316817, 0.09350443886877367, 0.09844024778514525, 0.2626354554089414, -0.26612896377182643, -0.11239038434620563, 0.25756904388284574, -0.08591030419267214, -0.0627544945118867, 0.21551991952966193, -0.10973942778144197, -0.046600439946804004, -0.047273753854788526, 0.2926164131203264, 0.13766180848846138, 0.0878070125018665, -0.12930605636182452, 0.24715471475184284, 0.5859171600632656, -0.24943219790848434, -0.27371572925296195, 0.15533909795461565, -0.07042956353557384, -0.23251652589286603, -0.35233545774469827, -0.527033298042049, 0.01730016533836931, -0.15950592022548496, -0.39088370454003046, -0.44423937808447694, -0.12445855098800453, -0.1588326063175011, -0.2589966060463993, 0.07967753572247101]}],\n",
              "                        {\"coloraxis\": {\"colorbar\": {\"title\": {\"text\": \"target\"}}, \"colorscale\": [[0.0, \"#0d0887\"], [0.1111111111111111, \"#46039f\"], [0.2222222222222222, \"#7201a8\"], [0.3333333333333333, \"#9c179e\"], [0.4444444444444444, \"#bd3786\"], [0.5555555555555556, \"#d8576b\"], [0.6666666666666666, \"#ed7953\"], [0.7777777777777778, \"#fb9f3a\"], [0.8888888888888888, \"#fdca26\"], [1.0, \"#f0f921\"]]}, \"legend\": {\"tracegroupgap\": 0}, \"margin\": {\"t\": 60}, \"scene\": {\"domain\": {\"x\": [0.0, 1.0], \"y\": [0.0, 1.0]}, \"xaxis\": {\"title\": {\"text\": \"pca_1\"}}, \"yaxis\": {\"title\": {\"text\": \"pca_2\"}}, \"zaxis\": {\"title\": {\"text\": \"pca_3\"}}}, \"template\": {\"data\": {\"bar\": [{\"error_x\": {\"color\": \"#2a3f5f\"}, \"error_y\": {\"color\": \"#2a3f5f\"}, \"marker\": {\"line\": {\"color\": \"#E5ECF6\", \"width\": 0.5}}, \"type\": \"bar\"}], \"barpolar\": [{\"marker\": {\"line\": {\"color\": \"#E5ECF6\", \"width\": 0.5}}, \"type\": \"barpolar\"}], \"carpet\": [{\"aaxis\": {\"endlinecolor\": \"#2a3f5f\", \"gridcolor\": \"white\", \"linecolor\": \"white\", \"minorgridcolor\": \"white\", \"startlinecolor\": \"#2a3f5f\"}, \"baxis\": {\"endlinecolor\": \"#2a3f5f\", \"gridcolor\": \"white\", \"linecolor\": \"white\", \"minorgridcolor\": \"white\", \"startlinecolor\": \"#2a3f5f\"}, \"type\": \"carpet\"}], \"choropleth\": [{\"colorbar\": {\"outlinewidth\": 0, \"ticks\": \"\"}, \"type\": \"choropleth\"}], \"contour\": [{\"colorbar\": {\"outlinewidth\": 0, \"ticks\": \"\"}, \"colorscale\": [[0.0, \"#0d0887\"], [0.1111111111111111, \"#46039f\"], [0.2222222222222222, \"#7201a8\"], [0.3333333333333333, \"#9c179e\"], [0.4444444444444444, \"#bd3786\"], [0.5555555555555556, \"#d8576b\"], [0.6666666666666666, \"#ed7953\"], [0.7777777777777778, \"#fb9f3a\"], [0.8888888888888888, \"#fdca26\"], [1.0, \"#f0f921\"]], \"type\": \"contour\"}], \"contourcarpet\": [{\"colorbar\": {\"outlinewidth\": 0, \"ticks\": \"\"}, \"type\": \"contourcarpet\"}], \"heatmap\": [{\"colorbar\": {\"outlinewidth\": 0, \"ticks\": \"\"}, \"colorscale\": [[0.0, \"#0d0887\"], [0.1111111111111111, \"#46039f\"], [0.2222222222222222, \"#7201a8\"], [0.3333333333333333, \"#9c179e\"], [0.4444444444444444, \"#bd3786\"], [0.5555555555555556, \"#d8576b\"], [0.6666666666666666, \"#ed7953\"], [0.7777777777777778, \"#fb9f3a\"], [0.8888888888888888, \"#fdca26\"], [1.0, \"#f0f921\"]], \"type\": \"heatmap\"}], \"heatmapgl\": [{\"colorbar\": {\"outlinewidth\": 0, \"ticks\": \"\"}, \"colorscale\": [[0.0, \"#0d0887\"], [0.1111111111111111, \"#46039f\"], [0.2222222222222222, \"#7201a8\"], [0.3333333333333333, \"#9c179e\"], [0.4444444444444444, \"#bd3786\"], [0.5555555555555556, \"#d8576b\"], [0.6666666666666666, \"#ed7953\"], [0.7777777777777778, \"#fb9f3a\"], [0.8888888888888888, \"#fdca26\"], [1.0, \"#f0f921\"]], \"type\": \"heatmapgl\"}], \"histogram\": [{\"marker\": {\"colorbar\": {\"outlinewidth\": 0, \"ticks\": \"\"}}, \"type\": \"histogram\"}], \"histogram2d\": [{\"colorbar\": {\"outlinewidth\": 0, \"ticks\": \"\"}, \"colorscale\": [[0.0, \"#0d0887\"], [0.1111111111111111, \"#46039f\"], [0.2222222222222222, \"#7201a8\"], [0.3333333333333333, \"#9c179e\"], [0.4444444444444444, \"#bd3786\"], [0.5555555555555556, \"#d8576b\"], [0.6666666666666666, \"#ed7953\"], [0.7777777777777778, \"#fb9f3a\"], [0.8888888888888888, \"#fdca26\"], [1.0, \"#f0f921\"]], \"type\": \"histogram2d\"}], \"histogram2dcontour\": [{\"colorbar\": {\"outlinewidth\": 0, \"ticks\": \"\"}, \"colorscale\": [[0.0, \"#0d0887\"], [0.1111111111111111, \"#46039f\"], [0.2222222222222222, \"#7201a8\"], [0.3333333333333333, \"#9c179e\"], [0.4444444444444444, \"#bd3786\"], [0.5555555555555556, \"#d8576b\"], [0.6666666666666666, \"#ed7953\"], [0.7777777777777778, \"#fb9f3a\"], [0.8888888888888888, \"#fdca26\"], [1.0, \"#f0f921\"]], \"type\": \"histogram2dcontour\"}], \"mesh3d\": [{\"colorbar\": {\"outlinewidth\": 0, \"ticks\": \"\"}, \"type\": \"mesh3d\"}], \"parcoords\": [{\"line\": {\"colorbar\": {\"outlinewidth\": 0, \"ticks\": \"\"}}, \"type\": \"parcoords\"}], \"pie\": [{\"automargin\": true, \"type\": \"pie\"}], \"scatter\": [{\"marker\": {\"colorbar\": {\"outlinewidth\": 0, \"ticks\": \"\"}}, \"type\": \"scatter\"}], \"scatter3d\": [{\"line\": {\"colorbar\": {\"outlinewidth\": 0, \"ticks\": \"\"}}, \"marker\": {\"colorbar\": {\"outlinewidth\": 0, \"ticks\": \"\"}}, \"type\": \"scatter3d\"}], \"scattercarpet\": [{\"marker\": {\"colorbar\": {\"outlinewidth\": 0, \"ticks\": \"\"}}, \"type\": \"scattercarpet\"}], \"scattergeo\": [{\"marker\": {\"colorbar\": {\"outlinewidth\": 0, \"ticks\": \"\"}}, \"type\": \"scattergeo\"}], \"scattergl\": [{\"marker\": {\"colorbar\": {\"outlinewidth\": 0, \"ticks\": \"\"}}, \"type\": \"scattergl\"}], \"scattermapbox\": [{\"marker\": {\"colorbar\": {\"outlinewidth\": 0, \"ticks\": \"\"}}, \"type\": \"scattermapbox\"}], \"scatterpolar\": [{\"marker\": {\"colorbar\": {\"outlinewidth\": 0, \"ticks\": \"\"}}, \"type\": \"scatterpolar\"}], \"scatterpolargl\": [{\"marker\": {\"colorbar\": {\"outlinewidth\": 0, \"ticks\": \"\"}}, \"type\": \"scatterpolargl\"}], \"scatterternary\": [{\"marker\": {\"colorbar\": {\"outlinewidth\": 0, \"ticks\": \"\"}}, \"type\": \"scatterternary\"}], \"surface\": [{\"colorbar\": {\"outlinewidth\": 0, \"ticks\": \"\"}, \"colorscale\": [[0.0, \"#0d0887\"], [0.1111111111111111, \"#46039f\"], [0.2222222222222222, \"#7201a8\"], [0.3333333333333333, \"#9c179e\"], [0.4444444444444444, \"#bd3786\"], [0.5555555555555556, \"#d8576b\"], [0.6666666666666666, \"#ed7953\"], [0.7777777777777778, \"#fb9f3a\"], [0.8888888888888888, \"#fdca26\"], [1.0, \"#f0f921\"]], \"type\": \"surface\"}], \"table\": [{\"cells\": {\"fill\": {\"color\": \"#EBF0F8\"}, \"line\": {\"color\": \"white\"}}, \"header\": {\"fill\": {\"color\": \"#C8D4E3\"}, \"line\": {\"color\": \"white\"}}, \"type\": \"table\"}]}, \"layout\": {\"annotationdefaults\": {\"arrowcolor\": \"#2a3f5f\", \"arrowhead\": 0, \"arrowwidth\": 1}, \"coloraxis\": {\"colorbar\": {\"outlinewidth\": 0, \"ticks\": \"\"}}, \"colorscale\": {\"diverging\": [[0, \"#8e0152\"], [0.1, \"#c51b7d\"], [0.2, \"#de77ae\"], [0.3, \"#f1b6da\"], [0.4, \"#fde0ef\"], [0.5, \"#f7f7f7\"], [0.6, \"#e6f5d0\"], [0.7, \"#b8e186\"], [0.8, \"#7fbc41\"], [0.9, \"#4d9221\"], [1, \"#276419\"]], \"sequential\": [[0.0, \"#0d0887\"], [0.1111111111111111, \"#46039f\"], [0.2222222222222222, \"#7201a8\"], [0.3333333333333333, \"#9c179e\"], [0.4444444444444444, \"#bd3786\"], [0.5555555555555556, \"#d8576b\"], [0.6666666666666666, \"#ed7953\"], [0.7777777777777778, \"#fb9f3a\"], [0.8888888888888888, \"#fdca26\"], [1.0, \"#f0f921\"]], \"sequentialminus\": [[0.0, \"#0d0887\"], [0.1111111111111111, \"#46039f\"], [0.2222222222222222, \"#7201a8\"], [0.3333333333333333, \"#9c179e\"], [0.4444444444444444, \"#bd3786\"], [0.5555555555555556, \"#d8576b\"], [0.6666666666666666, \"#ed7953\"], [0.7777777777777778, \"#fb9f3a\"], [0.8888888888888888, \"#fdca26\"], [1.0, \"#f0f921\"]]}, \"colorway\": [\"#636efa\", \"#EF553B\", \"#00cc96\", \"#ab63fa\", \"#FFA15A\", \"#19d3f3\", \"#FF6692\", \"#B6E880\", \"#FF97FF\", \"#FECB52\"], \"font\": {\"color\": \"#2a3f5f\"}, \"geo\": {\"bgcolor\": \"white\", \"lakecolor\": \"white\", \"landcolor\": \"#E5ECF6\", \"showlakes\": true, \"showland\": true, \"subunitcolor\": \"white\"}, \"hoverlabel\": {\"align\": \"left\"}, \"hovermode\": \"closest\", \"mapbox\": {\"style\": \"light\"}, \"paper_bgcolor\": \"white\", \"plot_bgcolor\": \"#E5ECF6\", \"polar\": {\"angularaxis\": {\"gridcolor\": \"white\", \"linecolor\": \"white\", \"ticks\": \"\"}, \"bgcolor\": \"#E5ECF6\", \"radialaxis\": {\"gridcolor\": \"white\", \"linecolor\": \"white\", \"ticks\": \"\"}}, \"scene\": {\"xaxis\": {\"backgroundcolor\": \"#E5ECF6\", \"gridcolor\": \"white\", \"gridwidth\": 2, \"linecolor\": \"white\", \"showbackground\": true, \"ticks\": \"\", \"zerolinecolor\": \"white\"}, \"yaxis\": {\"backgroundcolor\": \"#E5ECF6\", \"gridcolor\": \"white\", \"gridwidth\": 2, \"linecolor\": \"white\", \"showbackground\": true, \"ticks\": \"\", \"zerolinecolor\": \"white\"}, \"zaxis\": {\"backgroundcolor\": \"#E5ECF6\", \"gridcolor\": \"white\", \"gridwidth\": 2, \"linecolor\": \"white\", \"showbackground\": true, \"ticks\": \"\", \"zerolinecolor\": \"white\"}}, \"shapedefaults\": {\"line\": {\"color\": \"#2a3f5f\"}}, \"ternary\": {\"aaxis\": {\"gridcolor\": \"white\", \"linecolor\": \"white\", \"ticks\": \"\"}, \"baxis\": {\"gridcolor\": \"white\", \"linecolor\": \"white\", \"ticks\": \"\"}, \"bgcolor\": \"#E5ECF6\", \"caxis\": {\"gridcolor\": \"white\", \"linecolor\": \"white\", \"ticks\": \"\"}}, \"title\": {\"x\": 0.05}, \"xaxis\": {\"automargin\": true, \"gridcolor\": \"white\", \"linecolor\": \"white\", \"ticks\": \"\", \"title\": {\"standoff\": 15}, \"zerolinecolor\": \"white\", \"zerolinewidth\": 2}, \"yaxis\": {\"automargin\": true, \"gridcolor\": \"white\", \"linecolor\": \"white\", \"ticks\": \"\", \"title\": {\"standoff\": 15}, \"zerolinecolor\": \"white\", \"zerolinewidth\": 2}}}, \"width\": 700},\n",
              "                        {\"responsive\": true}\n",
              "                    ).then(function(){\n",
              "                            \n",
              "var gd = document.getElementById('900ee60f-f310-49e4-b56b-851759efd769');\n",
              "var x = new MutationObserver(function (mutations, observer) {{\n",
              "        var display = window.getComputedStyle(gd).display;\n",
              "        if (!display || display === 'none') {{\n",
              "            console.log([gd, 'removed!']);\n",
              "            Plotly.purge(gd);\n",
              "            observer.disconnect();\n",
              "        }}\n",
              "}});\n",
              "\n",
              "// Listen for the removal of the full notebook cells\n",
              "var notebookContainer = gd.closest('#notebook-container');\n",
              "if (notebookContainer) {{\n",
              "    x.observe(notebookContainer, {childList: true});\n",
              "}}\n",
              "\n",
              "// Listen for the clearing of the current output cell\n",
              "var outputEl = gd.closest('.output');\n",
              "if (outputEl) {{\n",
              "    x.observe(outputEl, {childList: true});\n",
              "}}\n",
              "\n",
              "                        })\n",
              "                };\n",
              "                \n",
              "            </script>\n",
              "        </div>\n",
              "</body>\n",
              "</html>"
            ]
          },
          "metadata": {
            "tags": []
          }
        }
      ]
    },
    {
      "cell_type": "code",
      "metadata": {
        "id": "AgMYUJSEcxX9",
        "colab_type": "code",
        "colab": {}
      },
      "source": [
        ""
      ],
      "execution_count": 0,
      "outputs": []
    }
  ]
}