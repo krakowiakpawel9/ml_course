{
  "nbformat": 4,
  "nbformat_minor": 0,
  "metadata": {
    "colab": {
      "name": "Untitled71.ipynb",
      "provenance": [],
      "include_colab_link": true
    },
    "kernelspec": {
      "name": "python3",
      "display_name": "Python 3"
    }
  },
  "cells": [
    {
      "cell_type": "markdown",
      "metadata": {
        "id": "view-in-github",
        "colab_type": "text"
      },
      "source": [
        "<a href=\"https://colab.research.google.com/github/krakowiakpawel9/ml_course/blob/master/ul/07_pca.ipynb\" target=\"_parent\"><img src=\"https://colab.research.google.com/assets/colab-badge.svg\" alt=\"Open In Colab\"/></a>"
      ]
    },
    {
      "cell_type": "markdown",
      "metadata": {
        "id": "C80St0V-_VIi",
        "colab_type": "text"
      },
      "source": [
        "### scikit-learn\n",
        "Strona biblioteki: [https://scikit-learn.org](https://scikit-learn.org)  \n",
        "\n",
        "Dokumentacja/User Guide: [https://scikit-learn.org/stable/user_guide.html](https://scikit-learn.org/stable/user_guide.html)\n",
        "\n",
        "Podstawowa biblioteka do uczenia maszynowego w języku Python.\n",
        "\n",
        "Aby zainstalować bibliotekę scikit-learn, użyj polecenia poniżej:\n",
        "```\n",
        "!pip install scikit-learn\n",
        "```\n",
        "Aby zaktualizować do najnowszej wersji bibliotekę scikit-learn, użyj polecenia poniżej:\n",
        "```\n",
        "!pip install --upgrade scikit-learn\n",
        "```\n",
        "Kurs stworzony w oparciu o wersję `0.22.1`\n",
        "\n",
        "### Spis treści:\n",
        "1. [Import bibliotek](#0)\n",
        "2. [Wygenerowanie danych](#1)\n",
        "3. [Wizualizacja danych](#2)\n",
        "4. [Algorytm K-średnich](#3)\n",
        "5. [Wizualizacja klastrów](#4)\n",
        "\n",
        "\n"
      ]
    },
    {
      "cell_type": "markdown",
      "metadata": {
        "id": "dCogYvFX_YD4",
        "colab_type": "text"
      },
      "source": [
        "### <a name='0'></a> Import bibliotek"
      ]
    },
    {
      "cell_type": "code",
      "metadata": {
        "id": "65KnjG1MLRHN",
        "colab_type": "code",
        "colab": {}
      },
      "source": [
        "from sklearn.datasets import load_iris\n",
        "import pandas as pd\n",
        "import numpy as np\n",
        "import matplotlib.pyplot as plt\n",
        "import seaborn as sns\n",
        "\n",
        "sns.set()\n",
        "np.random.seed(42)\n",
        "np.set_printoptions(precision=6, suppress=True)"
      ],
      "execution_count": 0,
      "outputs": []
    },
    {
      "cell_type": "code",
      "metadata": {
        "id": "6a9SoX3lLWSz",
        "colab_type": "code",
        "colab": {
          "base_uri": "https://localhost:8080/",
          "height": 34
        },
        "outputId": "5ef38189-baf6-43f0-e4c9-652bef9e6aaa"
      },
      "source": [
        "raw_data = load_iris()\n",
        "all_data = raw_data.copy()\n",
        "all_data.keys()"
      ],
      "execution_count": 3,
      "outputs": [
        {
          "output_type": "execute_result",
          "data": {
            "text/plain": [
              "dict_keys(['data', 'target', 'target_names', 'DESCR', 'feature_names', 'filename'])"
            ]
          },
          "metadata": {
            "tags": []
          },
          "execution_count": 3
        }
      ]
    },
    {
      "cell_type": "code",
      "metadata": {
        "id": "aaLswnLDLZYE",
        "colab_type": "code",
        "colab": {
          "base_uri": "https://localhost:8080/",
          "height": 204
        },
        "outputId": "20f7ed91-c6f6-4c47-ccf6-bc27fef17b88"
      },
      "source": [
        "df = pd.DataFrame(data=np.c_[all_data['data'], all_data['target']], columns=all_data['feature_names'] + ['target'])\n",
        "df.head()"
      ],
      "execution_count": 11,
      "outputs": [
        {
          "output_type": "execute_result",
          "data": {
            "text/html": [
              "<div>\n",
              "<style scoped>\n",
              "    .dataframe tbody tr th:only-of-type {\n",
              "        vertical-align: middle;\n",
              "    }\n",
              "\n",
              "    .dataframe tbody tr th {\n",
              "        vertical-align: top;\n",
              "    }\n",
              "\n",
              "    .dataframe thead th {\n",
              "        text-align: right;\n",
              "    }\n",
              "</style>\n",
              "<table border=\"1\" class=\"dataframe\">\n",
              "  <thead>\n",
              "    <tr style=\"text-align: right;\">\n",
              "      <th></th>\n",
              "      <th>sepal length (cm)</th>\n",
              "      <th>sepal width (cm)</th>\n",
              "      <th>petal length (cm)</th>\n",
              "      <th>petal width (cm)</th>\n",
              "      <th>target</th>\n",
              "    </tr>\n",
              "  </thead>\n",
              "  <tbody>\n",
              "    <tr>\n",
              "      <th>0</th>\n",
              "      <td>5.1</td>\n",
              "      <td>3.5</td>\n",
              "      <td>1.4</td>\n",
              "      <td>0.2</td>\n",
              "      <td>0.0</td>\n",
              "    </tr>\n",
              "    <tr>\n",
              "      <th>1</th>\n",
              "      <td>4.9</td>\n",
              "      <td>3.0</td>\n",
              "      <td>1.4</td>\n",
              "      <td>0.2</td>\n",
              "      <td>0.0</td>\n",
              "    </tr>\n",
              "    <tr>\n",
              "      <th>2</th>\n",
              "      <td>4.7</td>\n",
              "      <td>3.2</td>\n",
              "      <td>1.3</td>\n",
              "      <td>0.2</td>\n",
              "      <td>0.0</td>\n",
              "    </tr>\n",
              "    <tr>\n",
              "      <th>3</th>\n",
              "      <td>4.6</td>\n",
              "      <td>3.1</td>\n",
              "      <td>1.5</td>\n",
              "      <td>0.2</td>\n",
              "      <td>0.0</td>\n",
              "    </tr>\n",
              "    <tr>\n",
              "      <th>4</th>\n",
              "      <td>5.0</td>\n",
              "      <td>3.6</td>\n",
              "      <td>1.4</td>\n",
              "      <td>0.2</td>\n",
              "      <td>0.0</td>\n",
              "    </tr>\n",
              "  </tbody>\n",
              "</table>\n",
              "</div>"
            ],
            "text/plain": [
              "   sepal length (cm)  sepal width (cm)  ...  petal width (cm)  target\n",
              "0                5.1               3.5  ...               0.2     0.0\n",
              "1                4.9               3.0  ...               0.2     0.0\n",
              "2                4.7               3.2  ...               0.2     0.0\n",
              "3                4.6               3.1  ...               0.2     0.0\n",
              "4                5.0               3.6  ...               0.2     0.0\n",
              "\n",
              "[5 rows x 5 columns]"
            ]
          },
          "metadata": {
            "tags": []
          },
          "execution_count": 11
        }
      ]
    },
    {
      "cell_type": "code",
      "metadata": {
        "id": "MPLghi5kLp97",
        "colab_type": "code",
        "colab": {
          "base_uri": "https://localhost:8080/",
          "height": 204
        },
        "outputId": "5217fa9d-7c28-451b-9eaf-5a1463fb8fca"
      },
      "source": [
        "data = df.iloc[:, :4]\n",
        "data.head()"
      ],
      "execution_count": 10,
      "outputs": [
        {
          "output_type": "execute_result",
          "data": {
            "text/html": [
              "<div>\n",
              "<style scoped>\n",
              "    .dataframe tbody tr th:only-of-type {\n",
              "        vertical-align: middle;\n",
              "    }\n",
              "\n",
              "    .dataframe tbody tr th {\n",
              "        vertical-align: top;\n",
              "    }\n",
              "\n",
              "    .dataframe thead th {\n",
              "        text-align: right;\n",
              "    }\n",
              "</style>\n",
              "<table border=\"1\" class=\"dataframe\">\n",
              "  <thead>\n",
              "    <tr style=\"text-align: right;\">\n",
              "      <th></th>\n",
              "      <th>sepal length (cm)</th>\n",
              "      <th>sepal width (cm)</th>\n",
              "      <th>petal length (cm)</th>\n",
              "      <th>petal width (cm)</th>\n",
              "    </tr>\n",
              "  </thead>\n",
              "  <tbody>\n",
              "    <tr>\n",
              "      <th>0</th>\n",
              "      <td>5.1</td>\n",
              "      <td>3.5</td>\n",
              "      <td>1.4</td>\n",
              "      <td>0.2</td>\n",
              "    </tr>\n",
              "    <tr>\n",
              "      <th>1</th>\n",
              "      <td>4.9</td>\n",
              "      <td>3.0</td>\n",
              "      <td>1.4</td>\n",
              "      <td>0.2</td>\n",
              "    </tr>\n",
              "    <tr>\n",
              "      <th>2</th>\n",
              "      <td>4.7</td>\n",
              "      <td>3.2</td>\n",
              "      <td>1.3</td>\n",
              "      <td>0.2</td>\n",
              "    </tr>\n",
              "    <tr>\n",
              "      <th>3</th>\n",
              "      <td>4.6</td>\n",
              "      <td>3.1</td>\n",
              "      <td>1.5</td>\n",
              "      <td>0.2</td>\n",
              "    </tr>\n",
              "    <tr>\n",
              "      <th>4</th>\n",
              "      <td>5.0</td>\n",
              "      <td>3.6</td>\n",
              "      <td>1.4</td>\n",
              "      <td>0.2</td>\n",
              "    </tr>\n",
              "  </tbody>\n",
              "</table>\n",
              "</div>"
            ],
            "text/plain": [
              "   sepal length (cm)  sepal width (cm)  petal length (cm)  petal width (cm)\n",
              "0                5.1               3.5                1.4               0.2\n",
              "1                4.9               3.0                1.4               0.2\n",
              "2                4.7               3.2                1.3               0.2\n",
              "3                4.6               3.1                1.5               0.2\n",
              "4                5.0               3.6                1.4               0.2"
            ]
          },
          "metadata": {
            "tags": []
          },
          "execution_count": 10
        }
      ]
    },
    {
      "cell_type": "code",
      "metadata": {
        "id": "7tzoVO_lL6gp",
        "colab_type": "code",
        "colab": {
          "base_uri": "https://localhost:8080/",
          "height": 187
        },
        "outputId": "a5324829-41a0-4264-b1e5-9f2309caa93e"
      },
      "source": [
        "from sklearn.preprocessing import StandardScaler\n",
        "from sklearn.decomposition import PCA\n",
        "\n",
        "scaler = StandardScaler()\n",
        "data = scaler.fit_transform(data)\n",
        "data[:10]"
      ],
      "execution_count": 16,
      "outputs": [
        {
          "output_type": "execute_result",
          "data": {
            "text/plain": [
              "array([[-0.900681,  1.019004, -1.340227, -1.315444],\n",
              "       [-1.143017, -0.131979, -1.340227, -1.315444],\n",
              "       [-1.385353,  0.328414, -1.397064, -1.315444],\n",
              "       [-1.506521,  0.098217, -1.283389, -1.315444],\n",
              "       [-1.021849,  1.249201, -1.340227, -1.315444],\n",
              "       [-0.537178,  1.939791, -1.169714, -1.05218 ],\n",
              "       [-1.506521,  0.788808, -1.340227, -1.183812],\n",
              "       [-1.021849,  0.788808, -1.283389, -1.315444],\n",
              "       [-1.748856, -0.362176, -1.340227, -1.315444],\n",
              "       [-1.143017,  0.098217, -1.283389, -1.447076]])"
            ]
          },
          "metadata": {
            "tags": []
          },
          "execution_count": 16
        }
      ]
    },
    {
      "cell_type": "code",
      "metadata": {
        "id": "DiWtensKMK80",
        "colab_type": "code",
        "colab": {
          "base_uri": "https://localhost:8080/",
          "height": 1000
        },
        "outputId": "886c699b-7aab-453e-b244-fcd90b43274a"
      },
      "source": [
        "pca = PCA()\n",
        "pca.fit_transform(data)"
      ],
      "execution_count": 17,
      "outputs": [
        {
          "output_type": "execute_result",
          "data": {
            "text/plain": [
              "array([[-2.264703,  0.480027, -0.127706, -0.024168],\n",
              "       [-2.080961, -0.674134, -0.234609, -0.103007],\n",
              "       [-2.364229, -0.341908,  0.044201, -0.028377],\n",
              "       [-2.299384, -0.597395,  0.09129 ,  0.065956],\n",
              "       [-2.389842,  0.646835,  0.015738,  0.035923],\n",
              "       [-2.075631,  1.489178,  0.026968, -0.006608],\n",
              "       [-2.444029,  0.047644,  0.33547 ,  0.036776],\n",
              "       [-2.232847,  0.223148, -0.088695,  0.024612],\n",
              "       [-2.33464 , -1.115328,  0.145077,  0.026859],\n",
              "       [-2.184328, -0.469014, -0.253766,  0.039899],\n",
              "       [-2.16631 ,  1.043691, -0.268681, -0.016731],\n",
              "       [-2.326131,  0.133078,  0.093759,  0.133483],\n",
              "       [-2.218451, -0.728676, -0.230911, -0.002425],\n",
              "       [-2.633101, -0.961507,  0.180796,  0.019216],\n",
              "       [-2.198741,  1.860057, -0.472901, -0.194732],\n",
              "       [-2.262215,  2.686284,  0.030527, -0.050534],\n",
              "       [-2.207588,  1.483609, -0.005344, -0.188817],\n",
              "       [-2.19035 ,  0.488838, -0.044215, -0.09309 ],\n",
              "       [-1.898572,  1.405019, -0.374343, -0.061096],\n",
              "       [-2.343369,  1.127849,  0.13263 ,  0.037756],\n",
              "       [-1.914323,  0.408856, -0.421293, -0.010921],\n",
              "       [-2.207013,  0.924121,  0.159865, -0.059597],\n",
              "       [-2.774345,  0.458344,  0.332179, -0.019648],\n",
              "       [-1.81867 ,  0.085559,  0.034489, -0.151141],\n",
              "       [-2.227163,  0.137254,  0.117994,  0.27014 ],\n",
              "       [-1.951846, -0.625619, -0.305641, -0.043562],\n",
              "       [-2.051151,  0.242164,  0.086364, -0.06768 ],\n",
              "       [-2.168577,  0.52715 , -0.206816, -0.010275],\n",
              "       [-2.139563,  0.313218, -0.27115 , -0.084259],\n",
              "       [-2.265261, -0.337732,  0.068436,  0.10828 ],\n",
              "       [-2.140122, -0.504541, -0.075008,  0.048189],\n",
              "       [-1.831595,  0.423695, -0.270467, -0.23987 ],\n",
              "       [-2.614948,  1.793576,  0.047228,  0.229236],\n",
              "       [-2.446177,  2.150728, -0.082668,  0.048214],\n",
              "       [-2.109975, -0.460202, -0.170275, -0.029023],\n",
              "       [-2.207809, -0.206107, -0.225442, -0.168908],\n",
              "       [-2.045146,  0.661558, -0.484537, -0.196359],\n",
              "       [-2.527332,  0.592293,  0.019436,  0.136505],\n",
              "       [-2.429633, -0.90418 ,  0.193255,  0.009738],\n",
              "       [-2.169711,  0.268879, -0.175884, -0.007047],\n",
              "       [-2.286475,  0.441715,  0.034895, -0.106983],\n",
              "       [-1.858122, -2.337415, -0.204234, -0.289864],\n",
              "       [-2.553638, -0.479101,  0.305766,  0.066601],\n",
              "       [-1.964448,  0.472327,  0.309601, -0.177093],\n",
              "       [-2.137059,  1.142229,  0.248434,  0.151043],\n",
              "       [-2.069744, -0.711053, -0.06393 , -0.14027 ],\n",
              "       [-2.384733,  1.12043 ,  0.057218,  0.152231],\n",
              "       [-2.394376, -0.386247,  0.139468,  0.048835],\n",
              "       [-2.229447,  0.99796 , -0.181493,  0.014928],\n",
              "       [-2.203833,  0.009216, -0.153029, -0.049372],\n",
              "       [ 1.101781,  0.862972, -0.684586, -0.034834],\n",
              "       [ 0.731337,  0.594615, -0.094122, -0.004904],\n",
              "       [ 1.240979,  0.616298, -0.554007, -0.009423],\n",
              "       [ 0.407483, -1.754404, -0.023102, -0.065769],\n",
              "       [ 1.075475, -0.208421, -0.398256, -0.104737],\n",
              "       [ 0.388687, -0.593284,  0.124192,  0.240831],\n",
              "       [ 0.74653 ,  0.773019,  0.148969,  0.07737 ],\n",
              "       [-0.487323, -1.852429,  0.249265,  0.04052 ],\n",
              "       [ 0.927902,  0.032226, -0.596169,  0.02988 ],\n",
              "       [ 0.011426, -1.034018,  0.538899,  0.028461],\n",
              "       [-0.110196, -2.654073, -0.04679 , -0.013761],\n",
              "       [ 0.440693, -0.063295,  0.205074, -0.040126],\n",
              "       [ 0.562108, -1.764724, -0.765771, -0.045731],\n",
              "       [ 0.719562, -0.186225, -0.068659,  0.164807],\n",
              "       [-0.033355, -0.439003,  0.194933, -0.109048],\n",
              "       [ 0.875407,  0.509064, -0.503511, -0.104944],\n",
              "       [ 0.350252, -0.196312,  0.490873,  0.191509],\n",
              "       [ 0.15881 , -0.792096, -0.302037,  0.205298],\n",
              "       [ 1.225094, -1.622244, -0.482304, -0.2259  ],\n",
              "       [ 0.164918, -1.302609, -0.172838,  0.051727],\n",
              "       [ 0.737683,  0.396572,  0.616526,  0.083284],\n",
              "       [ 0.476287, -0.41732 , -0.264952, -0.113568],\n",
              "       [ 1.234178, -0.933326, -0.368412,  0.009945],\n",
              "       [ 0.632858, -0.416388, -0.291896,  0.27422 ],\n",
              "       [ 0.702661, -0.063412, -0.446027, -0.043458],\n",
              "       [ 0.874274,  0.250793, -0.472579, -0.101716],\n",
              "       [ 1.256509, -0.077256, -0.727155, -0.039689],\n",
              "       [ 1.358405,  0.331312, -0.260827, -0.066828],\n",
              "       [ 0.6648  , -0.225928,  0.085864,  0.03644 ],\n",
              "       [-0.040259, -1.058719, -0.319573, -0.064788],\n",
              "       [ 0.130795, -1.562272, -0.149983,  0.009403],\n",
              "       [ 0.023453, -1.572476, -0.241552,  0.032772],\n",
              "       [ 0.241538, -0.777256, -0.151212, -0.023651],\n",
              "       [ 1.061095, -0.633843,  0.105311,  0.183968],\n",
              "       [ 0.223979, -0.287774,  0.66525 ,  0.254828],\n",
              "       [ 0.429139,  0.845582,  0.450634,  0.109675],\n",
              "       [ 1.048728,  0.522052, -0.395786, -0.037209],\n",
              "       [ 1.044531, -1.382989, -0.688296, -0.136836],\n",
              "       [ 0.069588, -0.219503,  0.291579,  0.147145],\n",
              "       [ 0.283477, -1.329325,  0.08941 , -0.008906],\n",
              "       [ 0.279078, -1.120029,  0.094488,  0.270657],\n",
              "       [ 0.62457 ,  0.024923, -0.020481,  0.147686],\n",
              "       [ 0.33653 , -0.988404, -0.19939 , -0.006531],\n",
              "       [-0.362183, -2.019238,  0.105821, -0.019571],\n",
              "       [ 0.288586, -0.85573 ,  0.13089 ,  0.107402],\n",
              "       [ 0.091361, -0.181192,  0.128978,  0.22996 ],\n",
              "       [ 0.227717, -0.38492 ,  0.156213,  0.132606],\n",
              "       [ 0.576388, -0.154874, -0.27165 ,  0.019861],\n",
              "       [-0.447667, -1.543792,  0.190401, -0.199946],\n",
              "       [ 0.256731, -0.598852,  0.091879,  0.058622],\n",
              "       [ 1.844569,  0.870421,  1.005401,  0.04925 ],\n",
              "       [ 1.157882, -0.69887 ,  0.53016 ,  0.040521],\n",
              "       [ 2.205267,  0.56201 , -0.202914, -0.059184],\n",
              "       [ 1.440151, -0.046988,  0.16363 ,  0.23577 ],\n",
              "       [ 1.867812,  0.295045,  0.395628,  0.016298],\n",
              "       [ 2.751873,  0.800409, -0.582309,  0.101384],\n",
              "       [ 0.367018, -1.561503,  0.986893,  0.133124],\n",
              "       [ 2.302439,  0.420066, -0.651706,  0.238041],\n",
              "       [ 2.006686, -0.711439, -0.393991,  0.086511],\n",
              "       [ 2.259777,  1.92101 ,  0.397552, -0.104839],\n",
              "       [ 1.364175,  0.692756,  0.284612, -0.10786 ],\n",
              "       [ 1.602679, -0.4217  ,  0.023186, -0.058332],\n",
              "       [ 1.883901,  0.41925 ,  0.026338, -0.146415],\n",
              "       [ 1.260115, -1.16226 ,  0.580249, -0.099157],\n",
              "       [ 1.467645, -0.442272,  1.00387 , -0.275659],\n",
              "       [ 1.590077,  0.676245,  0.638429, -0.191863],\n",
              "       [ 1.471431,  0.255622,  0.037431,  0.15533 ],\n",
              "       [ 2.426329,  2.556661, -0.127881,  0.273807],\n",
              "       [ 3.310696,  0.017781, -0.703305, -0.045189],\n",
              "       [ 1.263767, -1.706745, -0.267537,  0.065181],\n",
              "       [ 2.037716,  0.910467,  0.234799, -0.167951],\n",
              "       [ 0.977981, -0.571764,  0.828127, -0.027756],\n",
              "       [ 2.897651,  0.413641, -0.857422,  0.127337],\n",
              "       [ 1.333232, -0.481811, -0.005428, -0.139959],\n",
              "       [ 1.700734,  1.013922,  0.298451,  0.061644],\n",
              "       [ 1.954327,  1.007778, -0.419985,  0.218338],\n",
              "       [ 1.175104, -0.316394,  0.129938, -0.12542 ],\n",
              "       [ 1.020951,  0.064346,  0.337716,  0.008654],\n",
              "       [ 1.78835 , -0.187361,  0.270658, -0.031088],\n",
              "       [ 1.863648,  0.562291, -0.715634,  0.208215],\n",
              "       [ 2.435954,  0.259284, -0.727816,  0.017923],\n",
              "       [ 2.304928,  2.626323, -0.493474,  0.211676],\n",
              "       [ 1.862703, -0.178549,  0.354149, -0.10001 ],\n",
              "       [ 1.114148, -0.292923, -0.183488,  0.186344],\n",
              "       [ 1.202473, -0.811315, -0.164724,  0.489483],\n",
              "       [ 2.79877 ,  0.856803, -0.542906, -0.295881],\n",
              "       [ 1.576256,  1.068581,  0.945854, -0.035606],\n",
              "       [ 1.346292,  0.422431,  0.180875,  0.215421],\n",
              "       [ 0.924825,  0.017223,  0.416826, -0.005238],\n",
              "       [ 1.852045,  0.676128, -0.012672, -0.195195],\n",
              "       [ 2.01481 ,  0.613886,  0.428333, -0.247538],\n",
              "       [ 1.901784,  0.689575,  0.130075, -0.469697],\n",
              "       [ 1.157882, -0.69887 ,  0.53016 ,  0.040521],\n",
              "       [ 2.040558,  0.867521,  0.338144, -0.045187],\n",
              "       [ 1.998147,  1.049169,  0.632413, -0.214045],\n",
              "       [ 1.870503,  0.386966,  0.256274, -0.389257],\n",
              "       [ 1.56458 , -0.896687, -0.026371, -0.220192],\n",
              "       [ 1.52117 ,  0.269069,  0.180178, -0.119171],\n",
              "       [ 1.372788,  1.011254,  0.933395, -0.026129],\n",
              "       [ 0.960656, -0.024332,  0.528249,  0.163078]])"
            ]
          },
          "metadata": {
            "tags": []
          },
          "execution_count": 17
        }
      ]
    },
    {
      "cell_type": "code",
      "metadata": {
        "id": "bktmtUAxMdYV",
        "colab_type": "code",
        "colab": {
          "base_uri": "https://localhost:8080/",
          "height": 34
        },
        "outputId": "6ca3c51b-08ac-421b-9be1-272cd025768c"
      },
      "source": [
        "pca.explained_variance_"
      ],
      "execution_count": 18,
      "outputs": [
        {
          "output_type": "execute_result",
          "data": {
            "text/plain": [
              "array([2.938085, 0.920165, 0.147742, 0.020854])"
            ]
          },
          "metadata": {
            "tags": []
          },
          "execution_count": 18
        }
      ]
    },
    {
      "cell_type": "code",
      "metadata": {
        "id": "naCaqq2AMkwW",
        "colab_type": "code",
        "colab": {
          "base_uri": "https://localhost:8080/",
          "height": 302
        },
        "outputId": "5c2bbf15-0cad-4577-dc86-44356cf4f37e"
      },
      "source": [
        "plt.bar(range(4), pca.explained_variance_, alpha=0.5)\n",
        "plt.xlabel('Variance ratio')\n",
        "plt.ylabel('Principal components')"
      ],
      "execution_count": 22,
      "outputs": [
        {
          "output_type": "execute_result",
          "data": {
            "text/plain": [
              "Text(0, 0.5, 'Principal components')"
            ]
          },
          "metadata": {
            "tags": []
          },
          "execution_count": 22
        },
        {
          "output_type": "display_data",
          "data": {
            "image/png": "[encoded data removed]",
            "text/plain": [
              "<Figure size 432x288 with 1 Axes>"
            ]
          },
          "metadata": {
            "tags": []
          }
        }
      ]
    },
    {
      "cell_type": "code",
      "metadata": {
        "id": "EtHIFvQaMtrS",
        "colab_type": "code",
        "colab": {
          "base_uri": "https://localhost:8080/",
          "height": 1000
        },
        "outputId": "06238a35-b40f-4a22-ac53-6c71491f5c08"
      },
      "source": [
        "pca = PCA(n_components=2)\n",
        "pca.fit_transform(data)"
      ],
      "execution_count": 23,
      "outputs": [
        {
          "output_type": "execute_result",
          "data": {
            "text/plain": [
              "array([[-2.264703,  0.480027],\n",
              "       [-2.080961, -0.674134],\n",
              "       [-2.364229, -0.341908],\n",
              "       [-2.299384, -0.597395],\n",
              "       [-2.389842,  0.646835],\n",
              "       [-2.075631,  1.489178],\n",
              "       [-2.444029,  0.047644],\n",
              "       [-2.232847,  0.223148],\n",
              "       [-2.33464 , -1.115328],\n",
              "       [-2.184328, -0.469014],\n",
              "       [-2.16631 ,  1.043691],\n",
              "       [-2.326131,  0.133078],\n",
              "       [-2.218451, -0.728676],\n",
              "       [-2.633101, -0.961507],\n",
              "       [-2.198741,  1.860057],\n",
              "       [-2.262215,  2.686284],\n",
              "       [-2.207588,  1.483609],\n",
              "       [-2.19035 ,  0.488838],\n",
              "       [-1.898572,  1.405019],\n",
              "       [-2.343369,  1.127849],\n",
              "       [-1.914323,  0.408856],\n",
              "       [-2.207013,  0.924121],\n",
              "       [-2.774345,  0.458344],\n",
              "       [-1.81867 ,  0.085559],\n",
              "       [-2.227163,  0.137254],\n",
              "       [-1.951846, -0.625619],\n",
              "       [-2.051151,  0.242164],\n",
              "       [-2.168577,  0.52715 ],\n",
              "       [-2.139563,  0.313218],\n",
              "       [-2.265261, -0.337732],\n",
              "       [-2.140122, -0.504541],\n",
              "       [-1.831595,  0.423695],\n",
              "       [-2.614948,  1.793576],\n",
              "       [-2.446177,  2.150728],\n",
              "       [-2.109975, -0.460202],\n",
              "       [-2.207809, -0.206107],\n",
              "       [-2.045146,  0.661558],\n",
              "       [-2.527332,  0.592293],\n",
              "       [-2.429633, -0.90418 ],\n",
              "       [-2.169711,  0.268879],\n",
              "       [-2.286475,  0.441715],\n",
              "       [-1.858122, -2.337415],\n",
              "       [-2.553638, -0.479101],\n",
              "       [-1.964448,  0.472327],\n",
              "       [-2.137059,  1.142229],\n",
              "       [-2.069744, -0.711053],\n",
              "       [-2.384733,  1.12043 ],\n",
              "       [-2.394376, -0.386247],\n",
              "       [-2.229447,  0.99796 ],\n",
              "       [-2.203833,  0.009216],\n",
              "       [ 1.101781,  0.862972],\n",
              "       [ 0.731337,  0.594615],\n",
              "       [ 1.240979,  0.616298],\n",
              "       [ 0.407483, -1.754404],\n",
              "       [ 1.075475, -0.208421],\n",
              "       [ 0.388687, -0.593284],\n",
              "       [ 0.74653 ,  0.773019],\n",
              "       [-0.487323, -1.852429],\n",
              "       [ 0.927902,  0.032226],\n",
              "       [ 0.011426, -1.034018],\n",
              "       [-0.110196, -2.654073],\n",
              "       [ 0.440693, -0.063295],\n",
              "       [ 0.562108, -1.764724],\n",
              "       [ 0.719562, -0.186225],\n",
              "       [-0.033355, -0.439003],\n",
              "       [ 0.875407,  0.509064],\n",
              "       [ 0.350252, -0.196312],\n",
              "       [ 0.15881 , -0.792096],\n",
              "       [ 1.225094, -1.622244],\n",
              "       [ 0.164918, -1.302609],\n",
              "       [ 0.737683,  0.396572],\n",
              "       [ 0.476287, -0.41732 ],\n",
              "       [ 1.234178, -0.933326],\n",
              "       [ 0.632858, -0.416388],\n",
              "       [ 0.702661, -0.063412],\n",
              "       [ 0.874274,  0.250793],\n",
              "       [ 1.256509, -0.077256],\n",
              "       [ 1.358405,  0.331312],\n",
              "       [ 0.6648  , -0.225928],\n",
              "       [-0.040259, -1.058719],\n",
              "       [ 0.130795, -1.562272],\n",
              "       [ 0.023453, -1.572476],\n",
              "       [ 0.241538, -0.777256],\n",
              "       [ 1.061095, -0.633843],\n",
              "       [ 0.223979, -0.287774],\n",
              "       [ 0.429139,  0.845582],\n",
              "       [ 1.048728,  0.522052],\n",
              "       [ 1.044531, -1.382989],\n",
              "       [ 0.069588, -0.219503],\n",
              "       [ 0.283477, -1.329325],\n",
              "       [ 0.279078, -1.120029],\n",
              "       [ 0.62457 ,  0.024923],\n",
              "       [ 0.33653 , -0.988404],\n",
              "       [-0.362183, -2.019238],\n",
              "       [ 0.288586, -0.85573 ],\n",
              "       [ 0.091361, -0.181192],\n",
              "       [ 0.227717, -0.38492 ],\n",
              "       [ 0.576388, -0.154874],\n",
              "       [-0.447667, -1.543792],\n",
              "       [ 0.256731, -0.598852],\n",
              "       [ 1.844569,  0.870421],\n",
              "       [ 1.157882, -0.69887 ],\n",
              "       [ 2.205267,  0.56201 ],\n",
              "       [ 1.440151, -0.046988],\n",
              "       [ 1.867812,  0.295045],\n",
              "       [ 2.751873,  0.800409],\n",
              "       [ 0.367018, -1.561503],\n",
              "       [ 2.302439,  0.420066],\n",
              "       [ 2.006686, -0.711439],\n",
              "       [ 2.259777,  1.92101 ],\n",
              "       [ 1.364175,  0.692756],\n",
              "       [ 1.602679, -0.4217  ],\n",
              "       [ 1.883901,  0.41925 ],\n",
              "       [ 1.260115, -1.16226 ],\n",
              "       [ 1.467645, -0.442272],\n",
              "       [ 1.590077,  0.676245],\n",
              "       [ 1.471431,  0.255622],\n",
              "       [ 2.426329,  2.556661],\n",
              "       [ 3.310696,  0.017781],\n",
              "       [ 1.263767, -1.706745],\n",
              "       [ 2.037716,  0.910467],\n",
              "       [ 0.977981, -0.571764],\n",
              "       [ 2.897651,  0.413641],\n",
              "       [ 1.333232, -0.481811],\n",
              "       [ 1.700734,  1.013922],\n",
              "       [ 1.954327,  1.007778],\n",
              "       [ 1.175104, -0.316394],\n",
              "       [ 1.020951,  0.064346],\n",
              "       [ 1.78835 , -0.187361],\n",
              "       [ 1.863648,  0.562291],\n",
              "       [ 2.435954,  0.259284],\n",
              "       [ 2.304928,  2.626323],\n",
              "       [ 1.862703, -0.178549],\n",
              "       [ 1.114148, -0.292923],\n",
              "       [ 1.202473, -0.811315],\n",
              "       [ 2.79877 ,  0.856803],\n",
              "       [ 1.576256,  1.068581],\n",
              "       [ 1.346292,  0.422431],\n",
              "       [ 0.924825,  0.017223],\n",
              "       [ 1.852045,  0.676128],\n",
              "       [ 2.01481 ,  0.613886],\n",
              "       [ 1.901784,  0.689575],\n",
              "       [ 1.157882, -0.69887 ],\n",
              "       [ 2.040558,  0.867521],\n",
              "       [ 1.998147,  1.049169],\n",
              "       [ 1.870503,  0.386966],\n",
              "       [ 1.56458 , -0.896687],\n",
              "       [ 1.52117 ,  0.269069],\n",
              "       [ 1.372788,  1.011254],\n",
              "       [ 0.960656, -0.024332]])"
            ]
          },
          "metadata": {
            "tags": []
          },
          "execution_count": 23
        }
      ]
    },
    {
      "cell_type": "code",
      "metadata": {
        "id": "0jiKzsB7NIXG",
        "colab_type": "code",
        "colab": {
          "base_uri": "https://localhost:8080/",
          "height": 34
        },
        "outputId": "0f83c5c7-f3f7-4b1e-9d81-c473900d7685"
      },
      "source": [
        "pca.explained_variance_"
      ],
      "execution_count": 24,
      "outputs": [
        {
          "output_type": "execute_result",
          "data": {
            "text/plain": [
              "array([2.938085, 0.920165])"
            ]
          },
          "metadata": {
            "tags": []
          },
          "execution_count": 24
        }
      ]
    },
    {
      "cell_type": "code",
      "metadata": {
        "id": "cAatp_vENK5w",
        "colab_type": "code",
        "colab": {}
      },
      "source": [
        ""
      ],
      "execution_count": 0,
      "outputs": []
    }
  ]
}