{
  "nbformat": 4,
  "nbformat_minor": 0,
  "metadata": {
    "colab": {
      "name": "Untitled71.ipynb",
      "provenance": [],
      "include_colab_link": true
    },
    "kernelspec": {
      "name": "python3",
      "display_name": "Python 3"
    }
  },
  "cells": [
    {
      "cell_type": "markdown",
      "metadata": {
        "id": "view-in-github",
        "colab_type": "text"
      },
      "source": [
        "<a href=\"https://colab.research.google.com/github/krakowiakpawel9/ml_course/blob/master/ul/07_pca.ipynb\" target=\"_parent\"><img src=\"https://colab.research.google.com/assets/colab-badge.svg\" alt=\"Open In Colab\"/></a>"
      ]
    },
    {
      "cell_type": "markdown",
      "metadata": {
        "id": "C80St0V-_VIi",
        "colab_type": "text"
      },
      "source": [
        "### scikit-learn\n",
        "Strona biblioteki: [https://scikit-learn.org](https://scikit-learn.org)  \n",
        "\n",
        "Dokumentacja/User Guide: [https://scikit-learn.org/stable/user_guide.html](https://scikit-learn.org/stable/user_guide.html)\n",
        "\n",
        "Podstawowa biblioteka do uczenia maszynowego w języku Python.\n",
        "\n",
        "Aby zainstalować bibliotekę scikit-learn, użyj polecenia poniżej:\n",
        "```\n",
        "!pip install scikit-learn\n",
        "```\n",
        "Aby zaktualizować do najnowszej wersji bibliotekę scikit-learn, użyj polecenia poniżej:\n",
        "```\n",
        "!pip install --upgrade scikit-learn\n",
        "```\n",
        "Kurs stworzony w oparciu o wersję `0.22.1`\n",
        "\n",
        "### Spis treści:\n",
        "1. [Import bibliotek](#0)\n",
        "2. [Wygenerowanie danych](#1)\n",
        "3. [Wizualizacja danych](#2)\n",
        "4. [Algorytm K-średnich](#3)\n",
        "5. [Wizualizacja klastrów](#4)\n",
        "\n",
        "\n"
      ]
    },
    {
      "cell_type": "markdown",
      "metadata": {
        "id": "dCogYvFX_YD4",
        "colab_type": "text"
      },
      "source": [
        "### <a name='0'></a> Import bibliotek"
      ]
    },
    {
      "cell_type": "code",
      "metadata": {
        "id": "65KnjG1MLRHN",
        "colab_type": "code",
        "colab": {}
      },
      "source": [
        "from sklearn.datasets import load_iris\n",
        "import pandas as pd\n",
        "import numpy as np\n",
        "import matplotlib.pyplot as plt\n",
        "import seaborn as sns\n",
        "\n",
        "sns.set()\n",
        "np.random.seed(42)\n",
        "np.set_printoptions(precision=6, suppress=True)"
      ],
      "execution_count": 0,
      "outputs": []
    },
    {
      "cell_type": "code",
      "metadata": {
        "id": "6a9SoX3lLWSz",
        "colab_type": "code",
        "outputId": "8c6c2939-55cb-4401-e7f2-53d8239cbd49",
        "colab": {
          "base_uri": "https://localhost:8080/",
          "height": 35
        }
      },
      "source": [
        "raw_data = load_iris()\n",
        "all_data = raw_data.copy()\n",
        "all_data.keys()"
      ],
      "execution_count": 2,
      "outputs": [
        {
          "output_type": "execute_result",
          "data": {
            "text/plain": [
              "dict_keys(['data', 'target', 'target_names', 'DESCR', 'feature_names', 'filename'])"
            ]
          },
          "metadata": {
            "tags": []
          },
          "execution_count": 2
        }
      ]
    },
    {
      "cell_type": "code",
      "metadata": {
        "id": "aaLswnLDLZYE",
        "colab_type": "code",
        "outputId": "42f20cff-a2cc-41eb-af26-5ce4afe7e5ab",
        "colab": {
          "base_uri": "https://localhost:8080/",
          "height": 198
        }
      },
      "source": [
        "df = pd.DataFrame(data=np.c_[all_data['data'], all_data['target']], columns=all_data['feature_names'] + ['target'])\n",
        "df.head()"
      ],
      "execution_count": 3,
      "outputs": [
        {
          "output_type": "execute_result",
          "data": {
            "text/html": [
              "<div>\n",
              "<style scoped>\n",
              "    .dataframe tbody tr th:only-of-type {\n",
              "        vertical-align: middle;\n",
              "    }\n",
              "\n",
              "    .dataframe tbody tr th {\n",
              "        vertical-align: top;\n",
              "    }\n",
              "\n",
              "    .dataframe thead th {\n",
              "        text-align: right;\n",
              "    }\n",
              "</style>\n",
              "<table border=\"1\" class=\"dataframe\">\n",
              "  <thead>\n",
              "    <tr style=\"text-align: right;\">\n",
              "      <th></th>\n",
              "      <th>sepal length (cm)</th>\n",
              "      <th>sepal width (cm)</th>\n",
              "      <th>petal length (cm)</th>\n",
              "      <th>petal width (cm)</th>\n",
              "      <th>target</th>\n",
              "    </tr>\n",
              "  </thead>\n",
              "  <tbody>\n",
              "    <tr>\n",
              "      <th>0</th>\n",
              "      <td>5.1</td>\n",
              "      <td>3.5</td>\n",
              "      <td>1.4</td>\n",
              "      <td>0.2</td>\n",
              "      <td>0.0</td>\n",
              "    </tr>\n",
              "    <tr>\n",
              "      <th>1</th>\n",
              "      <td>4.9</td>\n",
              "      <td>3.0</td>\n",
              "      <td>1.4</td>\n",
              "      <td>0.2</td>\n",
              "      <td>0.0</td>\n",
              "    </tr>\n",
              "    <tr>\n",
              "      <th>2</th>\n",
              "      <td>4.7</td>\n",
              "      <td>3.2</td>\n",
              "      <td>1.3</td>\n",
              "      <td>0.2</td>\n",
              "      <td>0.0</td>\n",
              "    </tr>\n",
              "    <tr>\n",
              "      <th>3</th>\n",
              "      <td>4.6</td>\n",
              "      <td>3.1</td>\n",
              "      <td>1.5</td>\n",
              "      <td>0.2</td>\n",
              "      <td>0.0</td>\n",
              "    </tr>\n",
              "    <tr>\n",
              "      <th>4</th>\n",
              "      <td>5.0</td>\n",
              "      <td>3.6</td>\n",
              "      <td>1.4</td>\n",
              "      <td>0.2</td>\n",
              "      <td>0.0</td>\n",
              "    </tr>\n",
              "  </tbody>\n",
              "</table>\n",
              "</div>"
            ],
            "text/plain": [
              "   sepal length (cm)  sepal width (cm)  ...  petal width (cm)  target\n",
              "0                5.1               3.5  ...               0.2     0.0\n",
              "1                4.9               3.0  ...               0.2     0.0\n",
              "2                4.7               3.2  ...               0.2     0.0\n",
              "3                4.6               3.1  ...               0.2     0.0\n",
              "4                5.0               3.6  ...               0.2     0.0\n",
              "\n",
              "[5 rows x 5 columns]"
            ]
          },
          "metadata": {
            "tags": []
          },
          "execution_count": 3
        }
      ]
    },
    {
      "cell_type": "code",
      "metadata": {
        "id": "MPLghi5kLp97",
        "colab_type": "code",
        "outputId": "aa8d7dc4-2040-4cf7-9895-649a7fe0f6e7",
        "colab": {
          "base_uri": "https://localhost:8080/",
          "height": 198
        }
      },
      "source": [
        "data = df.iloc[:, :4]\n",
        "data.head()"
      ],
      "execution_count": 4,
      "outputs": [
        {
          "output_type": "execute_result",
          "data": {
            "text/html": [
              "<div>\n",
              "<style scoped>\n",
              "    .dataframe tbody tr th:only-of-type {\n",
              "        vertical-align: middle;\n",
              "    }\n",
              "\n",
              "    .dataframe tbody tr th {\n",
              "        vertical-align: top;\n",
              "    }\n",
              "\n",
              "    .dataframe thead th {\n",
              "        text-align: right;\n",
              "    }\n",
              "</style>\n",
              "<table border=\"1\" class=\"dataframe\">\n",
              "  <thead>\n",
              "    <tr style=\"text-align: right;\">\n",
              "      <th></th>\n",
              "      <th>sepal length (cm)</th>\n",
              "      <th>sepal width (cm)</th>\n",
              "      <th>petal length (cm)</th>\n",
              "      <th>petal width (cm)</th>\n",
              "    </tr>\n",
              "  </thead>\n",
              "  <tbody>\n",
              "    <tr>\n",
              "      <th>0</th>\n",
              "      <td>5.1</td>\n",
              "      <td>3.5</td>\n",
              "      <td>1.4</td>\n",
              "      <td>0.2</td>\n",
              "    </tr>\n",
              "    <tr>\n",
              "      <th>1</th>\n",
              "      <td>4.9</td>\n",
              "      <td>3.0</td>\n",
              "      <td>1.4</td>\n",
              "      <td>0.2</td>\n",
              "    </tr>\n",
              "    <tr>\n",
              "      <th>2</th>\n",
              "      <td>4.7</td>\n",
              "      <td>3.2</td>\n",
              "      <td>1.3</td>\n",
              "      <td>0.2</td>\n",
              "    </tr>\n",
              "    <tr>\n",
              "      <th>3</th>\n",
              "      <td>4.6</td>\n",
              "      <td>3.1</td>\n",
              "      <td>1.5</td>\n",
              "      <td>0.2</td>\n",
              "    </tr>\n",
              "    <tr>\n",
              "      <th>4</th>\n",
              "      <td>5.0</td>\n",
              "      <td>3.6</td>\n",
              "      <td>1.4</td>\n",
              "      <td>0.2</td>\n",
              "    </tr>\n",
              "  </tbody>\n",
              "</table>\n",
              "</div>"
            ],
            "text/plain": [
              "   sepal length (cm)  sepal width (cm)  petal length (cm)  petal width (cm)\n",
              "0                5.1               3.5                1.4               0.2\n",
              "1                4.9               3.0                1.4               0.2\n",
              "2                4.7               3.2                1.3               0.2\n",
              "3                4.6               3.1                1.5               0.2\n",
              "4                5.0               3.6                1.4               0.2"
            ]
          },
          "metadata": {
            "tags": []
          },
          "execution_count": 4
        }
      ]
    },
    {
      "cell_type": "code",
      "metadata": {
        "id": "7tzoVO_lL6gp",
        "colab_type": "code",
        "outputId": "5e0e3b40-5a19-4466-fb6a-c54f3c2fc46e",
        "colab": {
          "base_uri": "https://localhost:8080/",
          "height": 199
        }
      },
      "source": [
        "from sklearn.preprocessing import StandardScaler\n",
        "\n",
        "scaler = StandardScaler()\n",
        "data = scaler.fit_transform(data)\n",
        "data[:10]"
      ],
      "execution_count": 5,
      "outputs": [
        {
          "output_type": "execute_result",
          "data": {
            "text/plain": [
              "array([[-0.900681,  1.019004, -1.340227, -1.315444],\n",
              "       [-1.143017, -0.131979, -1.340227, -1.315444],\n",
              "       [-1.385353,  0.328414, -1.397064, -1.315444],\n",
              "       [-1.506521,  0.098217, -1.283389, -1.315444],\n",
              "       [-1.021849,  1.249201, -1.340227, -1.315444],\n",
              "       [-0.537178,  1.939791, -1.169714, -1.05218 ],\n",
              "       [-1.506521,  0.788808, -1.340227, -1.183812],\n",
              "       [-1.021849,  0.788808, -1.283389, -1.315444],\n",
              "       [-1.748856, -0.362176, -1.340227, -1.315444],\n",
              "       [-1.143017,  0.098217, -1.283389, -1.447076]])"
            ]
          },
          "metadata": {
            "tags": []
          },
          "execution_count": 5
        }
      ]
    },
    {
      "cell_type": "code",
      "metadata": {
        "id": "DiWtensKMK80",
        "colab_type": "code",
        "outputId": "f3c153c8-e8ab-4328-fa01-e348e4533249",
        "colab": {
          "base_uri": "https://localhost:8080/",
          "height": 1000
        }
      },
      "source": [
        "from sklearn.decomposition import PCA\n",
        "\n",
        "pca = PCA(random_state=42)\n",
        "pca.fit_transform(data)"
      ],
      "execution_count": 6,
      "outputs": [
        {
          "output_type": "execute_result",
          "data": {
            "text/plain": [
              "array([[-2.264703,  0.480027, -0.127706, -0.024168],\n",
              "       [-2.080961, -0.674134, -0.234609, -0.103007],\n",
              "       [-2.364229, -0.341908,  0.044201, -0.028377],\n",
              "       [-2.299384, -0.597395,  0.09129 ,  0.065956],\n",
              "       [-2.389842,  0.646835,  0.015738,  0.035923],\n",
              "       [-2.075631,  1.489178,  0.026968, -0.006608],\n",
              "       [-2.444029,  0.047644,  0.33547 ,  0.036776],\n",
              "       [-2.232847,  0.223148, -0.088695,  0.024612],\n",
              "       [-2.33464 , -1.115328,  0.145077,  0.026859],\n",
              "       [-2.184328, -0.469014, -0.253766,  0.039899],\n",
              "       [-2.16631 ,  1.043691, -0.268681, -0.016731],\n",
              "       [-2.326131,  0.133078,  0.093759,  0.133483],\n",
              "       [-2.218451, -0.728676, -0.230911, -0.002425],\n",
              "       [-2.633101, -0.961507,  0.180796,  0.019216],\n",
              "       [-2.198741,  1.860057, -0.472901, -0.194732],\n",
              "       [-2.262215,  2.686284,  0.030527, -0.050534],\n",
              "       [-2.207588,  1.483609, -0.005344, -0.188817],\n",
              "       [-2.19035 ,  0.488838, -0.044215, -0.09309 ],\n",
              "       [-1.898572,  1.405019, -0.374343, -0.061096],\n",
              "       [-2.343369,  1.127849,  0.13263 ,  0.037756],\n",
              "       [-1.914323,  0.408856, -0.421293, -0.010921],\n",
              "       [-2.207013,  0.924121,  0.159865, -0.059597],\n",
              "       [-2.774345,  0.458344,  0.332179, -0.019648],\n",
              "       [-1.81867 ,  0.085559,  0.034489, -0.151141],\n",
              "       [-2.227163,  0.137254,  0.117994,  0.27014 ],\n",
              "       [-1.951846, -0.625619, -0.305641, -0.043562],\n",
              "       [-2.051151,  0.242164,  0.086364, -0.06768 ],\n",
              "       [-2.168577,  0.52715 , -0.206816, -0.010275],\n",
              "       [-2.139563,  0.313218, -0.27115 , -0.084259],\n",
              "       [-2.265261, -0.337732,  0.068436,  0.10828 ],\n",
              "       [-2.140122, -0.504541, -0.075008,  0.048189],\n",
              "       [-1.831595,  0.423695, -0.270467, -0.23987 ],\n",
              "       [-2.614948,  1.793576,  0.047228,  0.229236],\n",
              "       [-2.446177,  2.150728, -0.082668,  0.048214],\n",
              "       [-2.109975, -0.460202, -0.170275, -0.029023],\n",
              "       [-2.207809, -0.206107, -0.225442, -0.168908],\n",
              "       [-2.045146,  0.661558, -0.484537, -0.196359],\n",
              "       [-2.527332,  0.592293,  0.019436,  0.136505],\n",
              "       [-2.429633, -0.90418 ,  0.193255,  0.009738],\n",
              "       [-2.169711,  0.268879, -0.175884, -0.007047],\n",
              "       [-2.286475,  0.441715,  0.034895, -0.106983],\n",
              "       [-1.858122, -2.337415, -0.204234, -0.289864],\n",
              "       [-2.553638, -0.479101,  0.305766,  0.066601],\n",
              "       [-1.964448,  0.472327,  0.309601, -0.177093],\n",
              "       [-2.137059,  1.142229,  0.248434,  0.151043],\n",
              "       [-2.069744, -0.711053, -0.06393 , -0.14027 ],\n",
              "       [-2.384733,  1.12043 ,  0.057218,  0.152231],\n",
              "       [-2.394376, -0.386247,  0.139468,  0.048835],\n",
              "       [-2.229447,  0.99796 , -0.181493,  0.014928],\n",
              "       [-2.203833,  0.009216, -0.153029, -0.049372],\n",
              "       [ 1.101781,  0.862972, -0.684586, -0.034834],\n",
              "       [ 0.731337,  0.594615, -0.094122, -0.004904],\n",
              "       [ 1.240979,  0.616298, -0.554007, -0.009423],\n",
              "       [ 0.407483, -1.754404, -0.023102, -0.065769],\n",
              "       [ 1.075475, -0.208421, -0.398256, -0.104737],\n",
              "       [ 0.388687, -0.593284,  0.124192,  0.240831],\n",
              "       [ 0.74653 ,  0.773019,  0.148969,  0.07737 ],\n",
              "       [-0.487323, -1.852429,  0.249265,  0.04052 ],\n",
              "       [ 0.927902,  0.032226, -0.596169,  0.02988 ],\n",
              "       [ 0.011426, -1.034018,  0.538899,  0.028461],\n",
              "       [-0.110196, -2.654073, -0.04679 , -0.013761],\n",
              "       [ 0.440693, -0.063295,  0.205074, -0.040126],\n",
              "       [ 0.562108, -1.764724, -0.765771, -0.045731],\n",
              "       [ 0.719562, -0.186225, -0.068659,  0.164807],\n",
              "       [-0.033355, -0.439003,  0.194933, -0.109048],\n",
              "       [ 0.875407,  0.509064, -0.503511, -0.104944],\n",
              "       [ 0.350252, -0.196312,  0.490873,  0.191509],\n",
              "       [ 0.15881 , -0.792096, -0.302037,  0.205298],\n",
              "       [ 1.225094, -1.622244, -0.482304, -0.2259  ],\n",
              "       [ 0.164918, -1.302609, -0.172838,  0.051727],\n",
              "       [ 0.737683,  0.396572,  0.616526,  0.083284],\n",
              "       [ 0.476287, -0.41732 , -0.264952, -0.113568],\n",
              "       [ 1.234178, -0.933326, -0.368412,  0.009945],\n",
              "       [ 0.632858, -0.416388, -0.291896,  0.27422 ],\n",
              "       [ 0.702661, -0.063412, -0.446027, -0.043458],\n",
              "       [ 0.874274,  0.250793, -0.472579, -0.101716],\n",
              "       [ 1.256509, -0.077256, -0.727155, -0.039689],\n",
              "       [ 1.358405,  0.331312, -0.260827, -0.066828],\n",
              "       [ 0.6648  , -0.225928,  0.085864,  0.03644 ],\n",
              "       [-0.040259, -1.058719, -0.319573, -0.064788],\n",
              "       [ 0.130795, -1.562272, -0.149983,  0.009403],\n",
              "       [ 0.023453, -1.572476, -0.241552,  0.032772],\n",
              "       [ 0.241538, -0.777256, -0.151212, -0.023651],\n",
              "       [ 1.061095, -0.633843,  0.105311,  0.183968],\n",
              "       [ 0.223979, -0.287774,  0.66525 ,  0.254828],\n",
              "       [ 0.429139,  0.845582,  0.450634,  0.109675],\n",
              "       [ 1.048728,  0.522052, -0.395786, -0.037209],\n",
              "       [ 1.044531, -1.382989, -0.688296, -0.136836],\n",
              "       [ 0.069588, -0.219503,  0.291579,  0.147145],\n",
              "       [ 0.283477, -1.329325,  0.08941 , -0.008906],\n",
              "       [ 0.279078, -1.120029,  0.094488,  0.270657],\n",
              "       [ 0.62457 ,  0.024923, -0.020481,  0.147686],\n",
              "       [ 0.33653 , -0.988404, -0.19939 , -0.006531],\n",
              "       [-0.362183, -2.019238,  0.105821, -0.019571],\n",
              "       [ 0.288586, -0.85573 ,  0.13089 ,  0.107402],\n",
              "       [ 0.091361, -0.181192,  0.128978,  0.22996 ],\n",
              "       [ 0.227717, -0.38492 ,  0.156213,  0.132606],\n",
              "       [ 0.576388, -0.154874, -0.27165 ,  0.019861],\n",
              "       [-0.447667, -1.543792,  0.190401, -0.199946],\n",
              "       [ 0.256731, -0.598852,  0.091879,  0.058622],\n",
              "       [ 1.844569,  0.870421,  1.005401,  0.04925 ],\n",
              "       [ 1.157882, -0.69887 ,  0.53016 ,  0.040521],\n",
              "       [ 2.205267,  0.56201 , -0.202914, -0.059184],\n",
              "       [ 1.440151, -0.046988,  0.16363 ,  0.23577 ],\n",
              "       [ 1.867812,  0.295045,  0.395628,  0.016298],\n",
              "       [ 2.751873,  0.800409, -0.582309,  0.101384],\n",
              "       [ 0.367018, -1.561503,  0.986893,  0.133124],\n",
              "       [ 2.302439,  0.420066, -0.651706,  0.238041],\n",
              "       [ 2.006686, -0.711439, -0.393991,  0.086511],\n",
              "       [ 2.259777,  1.92101 ,  0.397552, -0.104839],\n",
              "       [ 1.364175,  0.692756,  0.284612, -0.10786 ],\n",
              "       [ 1.602679, -0.4217  ,  0.023186, -0.058332],\n",
              "       [ 1.883901,  0.41925 ,  0.026338, -0.146415],\n",
              "       [ 1.260115, -1.16226 ,  0.580249, -0.099157],\n",
              "       [ 1.467645, -0.442272,  1.00387 , -0.275659],\n",
              "       [ 1.590077,  0.676245,  0.638429, -0.191863],\n",
              "       [ 1.471431,  0.255622,  0.037431,  0.15533 ],\n",
              "       [ 2.426329,  2.556661, -0.127881,  0.273807],\n",
              "       [ 3.310696,  0.017781, -0.703305, -0.045189],\n",
              "       [ 1.263767, -1.706745, -0.267537,  0.065181],\n",
              "       [ 2.037716,  0.910467,  0.234799, -0.167951],\n",
              "       [ 0.977981, -0.571764,  0.828127, -0.027756],\n",
              "       [ 2.897651,  0.413641, -0.857422,  0.127337],\n",
              "       [ 1.333232, -0.481811, -0.005428, -0.139959],\n",
              "       [ 1.700734,  1.013922,  0.298451,  0.061644],\n",
              "       [ 1.954327,  1.007778, -0.419985,  0.218338],\n",
              "       [ 1.175104, -0.316394,  0.129938, -0.12542 ],\n",
              "       [ 1.020951,  0.064346,  0.337716,  0.008654],\n",
              "       [ 1.78835 , -0.187361,  0.270658, -0.031088],\n",
              "       [ 1.863648,  0.562291, -0.715634,  0.208215],\n",
              "       [ 2.435954,  0.259284, -0.727816,  0.017923],\n",
              "       [ 2.304928,  2.626323, -0.493474,  0.211676],\n",
              "       [ 1.862703, -0.178549,  0.354149, -0.10001 ],\n",
              "       [ 1.114148, -0.292923, -0.183488,  0.186344],\n",
              "       [ 1.202473, -0.811315, -0.164724,  0.489483],\n",
              "       [ 2.79877 ,  0.856803, -0.542906, -0.295881],\n",
              "       [ 1.576256,  1.068581,  0.945854, -0.035606],\n",
              "       [ 1.346292,  0.422431,  0.180875,  0.215421],\n",
              "       [ 0.924825,  0.017223,  0.416826, -0.005238],\n",
              "       [ 1.852045,  0.676128, -0.012672, -0.195195],\n",
              "       [ 2.01481 ,  0.613886,  0.428333, -0.247538],\n",
              "       [ 1.901784,  0.689575,  0.130075, -0.469697],\n",
              "       [ 1.157882, -0.69887 ,  0.53016 ,  0.040521],\n",
              "       [ 2.040558,  0.867521,  0.338144, -0.045187],\n",
              "       [ 1.998147,  1.049169,  0.632413, -0.214045],\n",
              "       [ 1.870503,  0.386966,  0.256274, -0.389257],\n",
              "       [ 1.56458 , -0.896687, -0.026371, -0.220192],\n",
              "       [ 1.52117 ,  0.269069,  0.180178, -0.119171],\n",
              "       [ 1.372788,  1.011254,  0.933395, -0.026129],\n",
              "       [ 0.960656, -0.024332,  0.528249,  0.163078]])"
            ]
          },
          "metadata": {
            "tags": []
          },
          "execution_count": 6
        }
      ]
    },
    {
      "cell_type": "code",
      "metadata": {
        "id": "bktmtUAxMdYV",
        "colab_type": "code",
        "outputId": "1de56f6d-5782-40da-d46c-bcf09971993e",
        "colab": {
          "base_uri": "https://localhost:8080/",
          "height": 35
        }
      },
      "source": [
        "pca.explained_variance_ratio_"
      ],
      "execution_count": 7,
      "outputs": [
        {
          "output_type": "execute_result",
          "data": {
            "text/plain": [
              "array([0.729624, 0.228508, 0.036689, 0.005179])"
            ]
          },
          "metadata": {
            "tags": []
          },
          "execution_count": 7
        }
      ]
    },
    {
      "cell_type": "code",
      "metadata": {
        "id": "D0dyAlGhDn5z",
        "colab_type": "code",
        "colab": {
          "base_uri": "https://localhost:8080/",
          "height": 168
        },
        "outputId": "fea89348-df43-40bd-a9dc-b44270c5776c"
      },
      "source": [
        "explained_variance = pd.DataFrame(data={'explained_variance_ratio': pca.explained_variance_ratio_})\n",
        "explained_variance = explained_variance.reset_index().rename(columns={'index': 'principal_component'})\n",
        "explained_variance"
      ],
      "execution_count": 8,
      "outputs": [
        {
          "output_type": "execute_result",
          "data": {
            "text/html": [
              "<div>\n",
              "<style scoped>\n",
              "    .dataframe tbody tr th:only-of-type {\n",
              "        vertical-align: middle;\n",
              "    }\n",
              "\n",
              "    .dataframe tbody tr th {\n",
              "        vertical-align: top;\n",
              "    }\n",
              "\n",
              "    .dataframe thead th {\n",
              "        text-align: right;\n",
              "    }\n",
              "</style>\n",
              "<table border=\"1\" class=\"dataframe\">\n",
              "  <thead>\n",
              "    <tr style=\"text-align: right;\">\n",
              "      <th></th>\n",
              "      <th>principal_component</th>\n",
              "      <th>explained_variance_ratio</th>\n",
              "    </tr>\n",
              "  </thead>\n",
              "  <tbody>\n",
              "    <tr>\n",
              "      <th>0</th>\n",
              "      <td>0</td>\n",
              "      <td>0.729624</td>\n",
              "    </tr>\n",
              "    <tr>\n",
              "      <th>1</th>\n",
              "      <td>1</td>\n",
              "      <td>0.228508</td>\n",
              "    </tr>\n",
              "    <tr>\n",
              "      <th>2</th>\n",
              "      <td>2</td>\n",
              "      <td>0.036689</td>\n",
              "    </tr>\n",
              "    <tr>\n",
              "      <th>3</th>\n",
              "      <td>3</td>\n",
              "      <td>0.005179</td>\n",
              "    </tr>\n",
              "  </tbody>\n",
              "</table>\n",
              "</div>"
            ],
            "text/plain": [
              "   principal_component  explained_variance_ratio\n",
              "0                    0                  0.729624\n",
              "1                    1                  0.228508\n",
              "2                    2                  0.036689\n",
              "3                    3                  0.005179"
            ]
          },
          "metadata": {
            "tags": []
          },
          "execution_count": 8
        }
      ]
    },
    {
      "cell_type": "code",
      "metadata": {
        "id": "Gwkj0N8JDE_g",
        "colab_type": "code",
        "colab": {
          "base_uri": "https://localhost:8080/",
          "height": 417
        },
        "outputId": "d2ff757f-a494-4724-9007-53d52989735d"
      },
      "source": [
        "import plotly.express as px\n",
        "\n",
        "px.bar(explained_variance, x='principal_component', y='explained_variance_ratio', width=700, height=400)"
      ],
      "execution_count": 9,
      "outputs": [
        {
          "output_type": "display_data",
          "data": {
            "text/html": [
              "<html>\n",
              "<head><meta charset=\"utf-8\" /></head>\n",
              "<body>\n",
              "    <div>\n",
              "            <script src=\"https://cdnjs.cloudflare.com/ajax/libs/mathjax/2.7.5/MathJax.js?config=TeX-AMS-MML_SVG\"></script><script type=\"text/javascript\">if (window.MathJax) {MathJax.Hub.Config({SVG: {font: \"STIX-Web\"}});}</script>\n",
              "                <script type=\"text/javascript\">window.PlotlyConfig = {MathJaxConfig: 'local'};</script>\n",
              "        <script src=\"https://cdn.plot.ly/plotly-latest.min.js\"></script>    \n",
              "            <div id=\"3e6c3b29-bd73-4f4e-a057-1f052d6ef589\" class=\"plotly-graph-div\" style=\"height:400px; width:700px;\"></div>\n",
              "            <script type=\"text/javascript\">\n",
              "                \n",
              "                    window.PLOTLYENV=window.PLOTLYENV || {};\n",
              "                    \n",
              "                if (document.getElementById(\"3e6c3b29-bd73-4f4e-a057-1f052d6ef589\")) {\n",
              "                    Plotly.newPlot(\n",
              "                        '3e6c3b29-bd73-4f4e-a057-1f052d6ef589',\n",
              "                        [{\"alignmentgroup\": \"True\", \"hoverlabel\": {\"namelength\": 0}, \"hovertemplate\": \"principal_component=%{x}<br>explained_variance_ratio=%{y}\", \"legendgroup\": \"\", \"marker\": {\"color\": \"#636efa\"}, \"name\": \"\", \"offsetgroup\": \"\", \"orientation\": \"v\", \"showlegend\": false, \"textposition\": \"auto\", \"type\": \"bar\", \"x\": [0, 1, 2, 3], \"xaxis\": \"x\", \"y\": [0.7296244541329987, 0.2285076178670178, 0.036689218892828765, 0.005178709107154797], \"yaxis\": \"y\"}],\n",
              "                        {\"barmode\": \"relative\", \"height\": 400, \"legend\": {\"tracegroupgap\": 0}, \"margin\": {\"t\": 60}, \"template\": {\"data\": {\"bar\": [{\"error_x\": {\"color\": \"#2a3f5f\"}, \"error_y\": {\"color\": \"#2a3f5f\"}, \"marker\": {\"line\": {\"color\": \"#E5ECF6\", \"width\": 0.5}}, \"type\": \"bar\"}], \"barpolar\": [{\"marker\": {\"line\": {\"color\": \"#E5ECF6\", \"width\": 0.5}}, \"type\": \"barpolar\"}], \"carpet\": [{\"aaxis\": {\"endlinecolor\": \"#2a3f5f\", \"gridcolor\": \"white\", \"linecolor\": \"white\", \"minorgridcolor\": \"white\", \"startlinecolor\": \"#2a3f5f\"}, \"baxis\": {\"endlinecolor\": \"#2a3f5f\", \"gridcolor\": \"white\", \"linecolor\": \"white\", \"minorgridcolor\": \"white\", \"startlinecolor\": \"#2a3f5f\"}, \"type\": \"carpet\"}], \"choropleth\": [{\"colorbar\": {\"outlinewidth\": 0, \"ticks\": \"\"}, \"type\": \"choropleth\"}], \"contour\": [{\"colorbar\": {\"outlinewidth\": 0, \"ticks\": \"\"}, \"colorscale\": [[0.0, \"#0d0887\"], [0.1111111111111111, \"#46039f\"], [0.2222222222222222, \"#7201a8\"], [0.3333333333333333, \"#9c179e\"], [0.4444444444444444, \"#bd3786\"], [0.5555555555555556, \"#d8576b\"], [0.6666666666666666, \"#ed7953\"], [0.7777777777777778, \"#fb9f3a\"], [0.8888888888888888, \"#fdca26\"], [1.0, \"#f0f921\"]], \"type\": \"contour\"}], \"contourcarpet\": [{\"colorbar\": {\"outlinewidth\": 0, \"ticks\": \"\"}, \"type\": \"contourcarpet\"}], \"heatmap\": [{\"colorbar\": {\"outlinewidth\": 0, \"ticks\": \"\"}, \"colorscale\": [[0.0, \"#0d0887\"], [0.1111111111111111, \"#46039f\"], [0.2222222222222222, \"#7201a8\"], [0.3333333333333333, \"#9c179e\"], [0.4444444444444444, \"#bd3786\"], [0.5555555555555556, \"#d8576b\"], [0.6666666666666666, \"#ed7953\"], [0.7777777777777778, \"#fb9f3a\"], [0.8888888888888888, \"#fdca26\"], [1.0, \"#f0f921\"]], \"type\": \"heatmap\"}], \"heatmapgl\": [{\"colorbar\": {\"outlinewidth\": 0, \"ticks\": \"\"}, \"colorscale\": [[0.0, \"#0d0887\"], [0.1111111111111111, \"#46039f\"], [0.2222222222222222, \"#7201a8\"], [0.3333333333333333, \"#9c179e\"], [0.4444444444444444, \"#bd3786\"], [0.5555555555555556, \"#d8576b\"], [0.6666666666666666, \"#ed7953\"], [0.7777777777777778, \"#fb9f3a\"], [0.8888888888888888, \"#fdca26\"], [1.0, \"#f0f921\"]], \"type\": \"heatmapgl\"}], \"histogram\": [{\"marker\": {\"colorbar\": {\"outlinewidth\": 0, \"ticks\": \"\"}}, \"type\": \"histogram\"}], \"histogram2d\": [{\"colorbar\": {\"outlinewidth\": 0, \"ticks\": \"\"}, \"colorscale\": [[0.0, \"#0d0887\"], [0.1111111111111111, \"#46039f\"], [0.2222222222222222, \"#7201a8\"], [0.3333333333333333, \"#9c179e\"], [0.4444444444444444, \"#bd3786\"], [0.5555555555555556, \"#d8576b\"], [0.6666666666666666, \"#ed7953\"], [0.7777777777777778, \"#fb9f3a\"], [0.8888888888888888, \"#fdca26\"], [1.0, \"#f0f921\"]], \"type\": \"histogram2d\"}], \"histogram2dcontour\": [{\"colorbar\": {\"outlinewidth\": 0, \"ticks\": \"\"}, \"colorscale\": [[0.0, \"#0d0887\"], [0.1111111111111111, \"#46039f\"], [0.2222222222222222, \"#7201a8\"], [0.3333333333333333, \"#9c179e\"], [0.4444444444444444, \"#bd3786\"], [0.5555555555555556, \"#d8576b\"], [0.6666666666666666, \"#ed7953\"], [0.7777777777777778, \"#fb9f3a\"], [0.8888888888888888, \"#fdca26\"], [1.0, \"#f0f921\"]], \"type\": \"histogram2dcontour\"}], \"mesh3d\": [{\"colorbar\": {\"outlinewidth\": 0, \"ticks\": \"\"}, \"type\": \"mesh3d\"}], \"parcoords\": [{\"line\": {\"colorbar\": {\"outlinewidth\": 0, \"ticks\": \"\"}}, \"type\": \"parcoords\"}], \"pie\": [{\"automargin\": true, \"type\": \"pie\"}], \"scatter\": [{\"marker\": {\"colorbar\": {\"outlinewidth\": 0, \"ticks\": \"\"}}, \"type\": \"scatter\"}], \"scatter3d\": [{\"line\": {\"colorbar\": {\"outlinewidth\": 0, \"ticks\": \"\"}}, \"marker\": {\"colorbar\": {\"outlinewidth\": 0, \"ticks\": \"\"}}, \"type\": \"scatter3d\"}], \"scattercarpet\": [{\"marker\": {\"colorbar\": {\"outlinewidth\": 0, \"ticks\": \"\"}}, \"type\": \"scattercarpet\"}], \"scattergeo\": [{\"marker\": {\"colorbar\": {\"outlinewidth\": 0, \"ticks\": \"\"}}, \"type\": \"scattergeo\"}], \"scattergl\": [{\"marker\": {\"colorbar\": {\"outlinewidth\": 0, \"ticks\": \"\"}}, \"type\": \"scattergl\"}], \"scattermapbox\": [{\"marker\": {\"colorbar\": {\"outlinewidth\": 0, \"ticks\": \"\"}}, \"type\": \"scattermapbox\"}], \"scatterpolar\": [{\"marker\": {\"colorbar\": {\"outlinewidth\": 0, \"ticks\": \"\"}}, \"type\": \"scatterpolar\"}], \"scatterpolargl\": [{\"marker\": {\"colorbar\": {\"outlinewidth\": 0, \"ticks\": \"\"}}, \"type\": \"scatterpolargl\"}], \"scatterternary\": [{\"marker\": {\"colorbar\": {\"outlinewidth\": 0, \"ticks\": \"\"}}, \"type\": \"scatterternary\"}], \"surface\": [{\"colorbar\": {\"outlinewidth\": 0, \"ticks\": \"\"}, \"colorscale\": [[0.0, \"#0d0887\"], [0.1111111111111111, \"#46039f\"], [0.2222222222222222, \"#7201a8\"], [0.3333333333333333, \"#9c179e\"], [0.4444444444444444, \"#bd3786\"], [0.5555555555555556, \"#d8576b\"], [0.6666666666666666, \"#ed7953\"], [0.7777777777777778, \"#fb9f3a\"], [0.8888888888888888, \"#fdca26\"], [1.0, \"#f0f921\"]], \"type\": \"surface\"}], \"table\": [{\"cells\": {\"fill\": {\"color\": \"#EBF0F8\"}, \"line\": {\"color\": \"white\"}}, \"header\": {\"fill\": {\"color\": \"#C8D4E3\"}, \"line\": {\"color\": \"white\"}}, \"type\": \"table\"}]}, \"layout\": {\"annotationdefaults\": {\"arrowcolor\": \"#2a3f5f\", \"arrowhead\": 0, \"arrowwidth\": 1}, \"coloraxis\": {\"colorbar\": {\"outlinewidth\": 0, \"ticks\": \"\"}}, \"colorscale\": {\"diverging\": [[0, \"#8e0152\"], [0.1, \"#c51b7d\"], [0.2, \"#de77ae\"], [0.3, \"#f1b6da\"], [0.4, \"#fde0ef\"], [0.5, \"#f7f7f7\"], [0.6, \"#e6f5d0\"], [0.7, \"#b8e186\"], [0.8, \"#7fbc41\"], [0.9, \"#4d9221\"], [1, \"#276419\"]], \"sequential\": [[0.0, \"#0d0887\"], [0.1111111111111111, \"#46039f\"], [0.2222222222222222, \"#7201a8\"], [0.3333333333333333, \"#9c179e\"], [0.4444444444444444, \"#bd3786\"], [0.5555555555555556, \"#d8576b\"], [0.6666666666666666, \"#ed7953\"], [0.7777777777777778, \"#fb9f3a\"], [0.8888888888888888, \"#fdca26\"], [1.0, \"#f0f921\"]], \"sequentialminus\": [[0.0, \"#0d0887\"], [0.1111111111111111, \"#46039f\"], [0.2222222222222222, \"#7201a8\"], [0.3333333333333333, \"#9c179e\"], [0.4444444444444444, \"#bd3786\"], [0.5555555555555556, \"#d8576b\"], [0.6666666666666666, \"#ed7953\"], [0.7777777777777778, \"#fb9f3a\"], [0.8888888888888888, \"#fdca26\"], [1.0, \"#f0f921\"]]}, \"colorway\": [\"#636efa\", \"#EF553B\", \"#00cc96\", \"#ab63fa\", \"#FFA15A\", \"#19d3f3\", \"#FF6692\", \"#B6E880\", \"#FF97FF\", \"#FECB52\"], \"font\": {\"color\": \"#2a3f5f\"}, \"geo\": {\"bgcolor\": \"white\", \"lakecolor\": \"white\", \"landcolor\": \"#E5ECF6\", \"showlakes\": true, \"showland\": true, \"subunitcolor\": \"white\"}, \"hoverlabel\": {\"align\": \"left\"}, \"hovermode\": \"closest\", \"mapbox\": {\"style\": \"light\"}, \"paper_bgcolor\": \"white\", \"plot_bgcolor\": \"#E5ECF6\", \"polar\": {\"angularaxis\": {\"gridcolor\": \"white\", \"linecolor\": \"white\", \"ticks\": \"\"}, \"bgcolor\": \"#E5ECF6\", \"radialaxis\": {\"gridcolor\": \"white\", \"linecolor\": \"white\", \"ticks\": \"\"}}, \"scene\": {\"xaxis\": {\"backgroundcolor\": \"#E5ECF6\", \"gridcolor\": \"white\", \"gridwidth\": 2, \"linecolor\": \"white\", \"showbackground\": true, \"ticks\": \"\", \"zerolinecolor\": \"white\"}, \"yaxis\": {\"backgroundcolor\": \"#E5ECF6\", \"gridcolor\": \"white\", \"gridwidth\": 2, \"linecolor\": \"white\", \"showbackground\": true, \"ticks\": \"\", \"zerolinecolor\": \"white\"}, \"zaxis\": {\"backgroundcolor\": \"#E5ECF6\", \"gridcolor\": \"white\", \"gridwidth\": 2, \"linecolor\": \"white\", \"showbackground\": true, \"ticks\": \"\", \"zerolinecolor\": \"white\"}}, \"shapedefaults\": {\"line\": {\"color\": \"#2a3f5f\"}}, \"ternary\": {\"aaxis\": {\"gridcolor\": \"white\", \"linecolor\": \"white\", \"ticks\": \"\"}, \"baxis\": {\"gridcolor\": \"white\", \"linecolor\": \"white\", \"ticks\": \"\"}, \"bgcolor\": \"#E5ECF6\", \"caxis\": {\"gridcolor\": \"white\", \"linecolor\": \"white\", \"ticks\": \"\"}}, \"title\": {\"x\": 0.05}, \"xaxis\": {\"automargin\": true, \"gridcolor\": \"white\", \"linecolor\": \"white\", \"ticks\": \"\", \"title\": {\"standoff\": 15}, \"zerolinecolor\": \"white\", \"zerolinewidth\": 2}, \"yaxis\": {\"automargin\": true, \"gridcolor\": \"white\", \"linecolor\": \"white\", \"ticks\": \"\", \"title\": {\"standoff\": 15}, \"zerolinecolor\": \"white\", \"zerolinewidth\": 2}}}, \"width\": 700, \"xaxis\": {\"anchor\": \"y\", \"domain\": [0.0, 1.0], \"title\": {\"text\": \"principal_component\"}}, \"yaxis\": {\"anchor\": \"x\", \"domain\": [0.0, 1.0], \"title\": {\"text\": \"explained_variance_ratio\"}}},\n",
              "                        {\"responsive\": true}\n",
              "                    ).then(function(){\n",
              "                            \n",
              "var gd = document.getElementById('3e6c3b29-bd73-4f4e-a057-1f052d6ef589');\n",
              "var x = new MutationObserver(function (mutations, observer) {{\n",
              "        var display = window.getComputedStyle(gd).display;\n",
              "        if (!display || display === 'none') {{\n",
              "            console.log([gd, 'removed!']);\n",
              "            Plotly.purge(gd);\n",
              "            observer.disconnect();\n",
              "        }}\n",
              "}});\n",
              "\n",
              "// Listen for the removal of the full notebook cells\n",
              "var notebookContainer = gd.closest('#notebook-container');\n",
              "if (notebookContainer) {{\n",
              "    x.observe(notebookContainer, {childList: true});\n",
              "}}\n",
              "\n",
              "// Listen for the clearing of the current output cell\n",
              "var outputEl = gd.closest('.output');\n",
              "if (outputEl) {{\n",
              "    x.observe(outputEl, {childList: true});\n",
              "}}\n",
              "\n",
              "                        })\n",
              "                };\n",
              "                \n",
              "            </script>\n",
              "        </div>\n",
              "</body>\n",
              "</html>"
            ]
          },
          "metadata": {
            "tags": []
          }
        }
      ]
    },
    {
      "cell_type": "code",
      "metadata": {
        "id": "EtHIFvQaMtrS",
        "colab_type": "code",
        "outputId": "3be816fb-828a-46e4-a82d-df869a6ab05c",
        "colab": {
          "base_uri": "https://localhost:8080/",
          "height": 1000
        }
      },
      "source": [
        "pca = PCA(n_components=2, random_state=42)\n",
        "data_pca_2 = pca.fit_transform(data)\n",
        "data_pca_2"
      ],
      "execution_count": 10,
      "outputs": [
        {
          "output_type": "execute_result",
          "data": {
            "text/plain": [
              "array([[-2.264703,  0.480027],\n",
              "       [-2.080961, -0.674134],\n",
              "       [-2.364229, -0.341908],\n",
              "       [-2.299384, -0.597395],\n",
              "       [-2.389842,  0.646835],\n",
              "       [-2.075631,  1.489178],\n",
              "       [-2.444029,  0.047644],\n",
              "       [-2.232847,  0.223148],\n",
              "       [-2.33464 , -1.115328],\n",
              "       [-2.184328, -0.469014],\n",
              "       [-2.16631 ,  1.043691],\n",
              "       [-2.326131,  0.133078],\n",
              "       [-2.218451, -0.728676],\n",
              "       [-2.633101, -0.961507],\n",
              "       [-2.198741,  1.860057],\n",
              "       [-2.262215,  2.686284],\n",
              "       [-2.207588,  1.483609],\n",
              "       [-2.19035 ,  0.488838],\n",
              "       [-1.898572,  1.405019],\n",
              "       [-2.343369,  1.127849],\n",
              "       [-1.914323,  0.408856],\n",
              "       [-2.207013,  0.924121],\n",
              "       [-2.774345,  0.458344],\n",
              "       [-1.81867 ,  0.085559],\n",
              "       [-2.227163,  0.137254],\n",
              "       [-1.951846, -0.625619],\n",
              "       [-2.051151,  0.242164],\n",
              "       [-2.168577,  0.52715 ],\n",
              "       [-2.139563,  0.313218],\n",
              "       [-2.265261, -0.337732],\n",
              "       [-2.140122, -0.504541],\n",
              "       [-1.831595,  0.423695],\n",
              "       [-2.614948,  1.793576],\n",
              "       [-2.446177,  2.150728],\n",
              "       [-2.109975, -0.460202],\n",
              "       [-2.207809, -0.206107],\n",
              "       [-2.045146,  0.661558],\n",
              "       [-2.527332,  0.592293],\n",
              "       [-2.429633, -0.90418 ],\n",
              "       [-2.169711,  0.268879],\n",
              "       [-2.286475,  0.441715],\n",
              "       [-1.858122, -2.337415],\n",
              "       [-2.553638, -0.479101],\n",
              "       [-1.964448,  0.472327],\n",
              "       [-2.137059,  1.142229],\n",
              "       [-2.069744, -0.711053],\n",
              "       [-2.384733,  1.12043 ],\n",
              "       [-2.394376, -0.386247],\n",
              "       [-2.229447,  0.99796 ],\n",
              "       [-2.203833,  0.009216],\n",
              "       [ 1.101781,  0.862972],\n",
              "       [ 0.731337,  0.594615],\n",
              "       [ 1.240979,  0.616298],\n",
              "       [ 0.407483, -1.754404],\n",
              "       [ 1.075475, -0.208421],\n",
              "       [ 0.388687, -0.593284],\n",
              "       [ 0.74653 ,  0.773019],\n",
              "       [-0.487323, -1.852429],\n",
              "       [ 0.927902,  0.032226],\n",
              "       [ 0.011426, -1.034018],\n",
              "       [-0.110196, -2.654073],\n",
              "       [ 0.440693, -0.063295],\n",
              "       [ 0.562108, -1.764724],\n",
              "       [ 0.719562, -0.186225],\n",
              "       [-0.033355, -0.439003],\n",
              "       [ 0.875407,  0.509064],\n",
              "       [ 0.350252, -0.196312],\n",
              "       [ 0.15881 , -0.792096],\n",
              "       [ 1.225094, -1.622244],\n",
              "       [ 0.164918, -1.302609],\n",
              "       [ 0.737683,  0.396572],\n",
              "       [ 0.476287, -0.41732 ],\n",
              "       [ 1.234178, -0.933326],\n",
              "       [ 0.632858, -0.416388],\n",
              "       [ 0.702661, -0.063412],\n",
              "       [ 0.874274,  0.250793],\n",
              "       [ 1.256509, -0.077256],\n",
              "       [ 1.358405,  0.331312],\n",
              "       [ 0.6648  , -0.225928],\n",
              "       [-0.040259, -1.058719],\n",
              "       [ 0.130795, -1.562272],\n",
              "       [ 0.023453, -1.572476],\n",
              "       [ 0.241538, -0.777256],\n",
              "       [ 1.061095, -0.633843],\n",
              "       [ 0.223979, -0.287774],\n",
              "       [ 0.429139,  0.845582],\n",
              "       [ 1.048728,  0.522052],\n",
              "       [ 1.044531, -1.382989],\n",
              "       [ 0.069588, -0.219503],\n",
              "       [ 0.283477, -1.329325],\n",
              "       [ 0.279078, -1.120029],\n",
              "       [ 0.62457 ,  0.024923],\n",
              "       [ 0.33653 , -0.988404],\n",
              "       [-0.362183, -2.019238],\n",
              "       [ 0.288586, -0.85573 ],\n",
              "       [ 0.091361, -0.181192],\n",
              "       [ 0.227717, -0.38492 ],\n",
              "       [ 0.576388, -0.154874],\n",
              "       [-0.447667, -1.543792],\n",
              "       [ 0.256731, -0.598852],\n",
              "       [ 1.844569,  0.870421],\n",
              "       [ 1.157882, -0.69887 ],\n",
              "       [ 2.205267,  0.56201 ],\n",
              "       [ 1.440151, -0.046988],\n",
              "       [ 1.867812,  0.295045],\n",
              "       [ 2.751873,  0.800409],\n",
              "       [ 0.367018, -1.561503],\n",
              "       [ 2.302439,  0.420066],\n",
              "       [ 2.006686, -0.711439],\n",
              "       [ 2.259777,  1.92101 ],\n",
              "       [ 1.364175,  0.692756],\n",
              "       [ 1.602679, -0.4217  ],\n",
              "       [ 1.883901,  0.41925 ],\n",
              "       [ 1.260115, -1.16226 ],\n",
              "       [ 1.467645, -0.442272],\n",
              "       [ 1.590077,  0.676245],\n",
              "       [ 1.471431,  0.255622],\n",
              "       [ 2.426329,  2.556661],\n",
              "       [ 3.310696,  0.017781],\n",
              "       [ 1.263767, -1.706745],\n",
              "       [ 2.037716,  0.910467],\n",
              "       [ 0.977981, -0.571764],\n",
              "       [ 2.897651,  0.413641],\n",
              "       [ 1.333232, -0.481811],\n",
              "       [ 1.700734,  1.013922],\n",
              "       [ 1.954327,  1.007778],\n",
              "       [ 1.175104, -0.316394],\n",
              "       [ 1.020951,  0.064346],\n",
              "       [ 1.78835 , -0.187361],\n",
              "       [ 1.863648,  0.562291],\n",
              "       [ 2.435954,  0.259284],\n",
              "       [ 2.304928,  2.626323],\n",
              "       [ 1.862703, -0.178549],\n",
              "       [ 1.114148, -0.292923],\n",
              "       [ 1.202473, -0.811315],\n",
              "       [ 2.79877 ,  0.856803],\n",
              "       [ 1.576256,  1.068581],\n",
              "       [ 1.346292,  0.422431],\n",
              "       [ 0.924825,  0.017223],\n",
              "       [ 1.852045,  0.676128],\n",
              "       [ 2.01481 ,  0.613886],\n",
              "       [ 1.901784,  0.689575],\n",
              "       [ 1.157882, -0.69887 ],\n",
              "       [ 2.040558,  0.867521],\n",
              "       [ 1.998147,  1.049169],\n",
              "       [ 1.870503,  0.386966],\n",
              "       [ 1.56458 , -0.896687],\n",
              "       [ 1.52117 ,  0.269069],\n",
              "       [ 1.372788,  1.011254],\n",
              "       [ 0.960656, -0.024332]])"
            ]
          },
          "metadata": {
            "tags": []
          },
          "execution_count": 10
        }
      ]
    },
    {
      "cell_type": "code",
      "metadata": {
        "id": "0jiKzsB7NIXG",
        "colab_type": "code",
        "outputId": "cf44c833-b632-4fa5-d846-d361a1224357",
        "colab": {
          "base_uri": "https://localhost:8080/",
          "height": 35
        }
      },
      "source": [
        "pca.explained_variance_ratio_"
      ],
      "execution_count": 11,
      "outputs": [
        {
          "output_type": "execute_result",
          "data": {
            "text/plain": [
              "array([0.729624, 0.228508])"
            ]
          },
          "metadata": {
            "tags": []
          },
          "execution_count": 11
        }
      ]
    },
    {
      "cell_type": "code",
      "metadata": {
        "id": "1-hmm4RFFIhE",
        "colab_type": "code",
        "colab": {
          "base_uri": "https://localhost:8080/",
          "height": 235
        },
        "outputId": "a738bc16-a281-4345-e822-25fa891a6d42"
      },
      "source": [
        "df['target']"
      ],
      "execution_count": 12,
      "outputs": [
        {
          "output_type": "execute_result",
          "data": {
            "text/plain": [
              "0      0.0\n",
              "1      0.0\n",
              "2      0.0\n",
              "3      0.0\n",
              "4      0.0\n",
              "      ... \n",
              "145    2.0\n",
              "146    2.0\n",
              "147    2.0\n",
              "148    2.0\n",
              "149    2.0\n",
              "Name: target, Length: 150, dtype: float64"
            ]
          },
          "metadata": {
            "tags": []
          },
          "execution_count": 12
        }
      ]
    },
    {
      "cell_type": "code",
      "metadata": {
        "id": "cAatp_vENK5w",
        "colab_type": "code",
        "colab": {
          "base_uri": "https://localhost:8080/",
          "height": 407
        },
        "outputId": "e05238cd-3092-4179-9cdd-bf2d47df84ff"
      },
      "source": [
        "data_pca = pd.DataFrame(data={'pca_1': data_pca_2[:, 0], 'pca_2': data_pca_2[:, 1], 'target': df['target']})\n",
        "data_pca"
      ],
      "execution_count": 13,
      "outputs": [
        {
          "output_type": "execute_result",
          "data": {
            "text/html": [
              "<div>\n",
              "<style scoped>\n",
              "    .dataframe tbody tr th:only-of-type {\n",
              "        vertical-align: middle;\n",
              "    }\n",
              "\n",
              "    .dataframe tbody tr th {\n",
              "        vertical-align: top;\n",
              "    }\n",
              "\n",
              "    .dataframe thead th {\n",
              "        text-align: right;\n",
              "    }\n",
              "</style>\n",
              "<table border=\"1\" class=\"dataframe\">\n",
              "  <thead>\n",
              "    <tr style=\"text-align: right;\">\n",
              "      <th></th>\n",
              "      <th>pca_1</th>\n",
              "      <th>pca_2</th>\n",
              "      <th>target</th>\n",
              "    </tr>\n",
              "  </thead>\n",
              "  <tbody>\n",
              "    <tr>\n",
              "      <th>0</th>\n",
              "      <td>-2.264703</td>\n",
              "      <td>0.480027</td>\n",
              "      <td>0.0</td>\n",
              "    </tr>\n",
              "    <tr>\n",
              "      <th>1</th>\n",
              "      <td>-2.080961</td>\n",
              "      <td>-0.674134</td>\n",
              "      <td>0.0</td>\n",
              "    </tr>\n",
              "    <tr>\n",
              "      <th>2</th>\n",
              "      <td>-2.364229</td>\n",
              "      <td>-0.341908</td>\n",
              "      <td>0.0</td>\n",
              "    </tr>\n",
              "    <tr>\n",
              "      <th>3</th>\n",
              "      <td>-2.299384</td>\n",
              "      <td>-0.597395</td>\n",
              "      <td>0.0</td>\n",
              "    </tr>\n",
              "    <tr>\n",
              "      <th>4</th>\n",
              "      <td>-2.389842</td>\n",
              "      <td>0.646835</td>\n",
              "      <td>0.0</td>\n",
              "    </tr>\n",
              "    <tr>\n",
              "      <th>...</th>\n",
              "      <td>...</td>\n",
              "      <td>...</td>\n",
              "      <td>...</td>\n",
              "    </tr>\n",
              "    <tr>\n",
              "      <th>145</th>\n",
              "      <td>1.870503</td>\n",
              "      <td>0.386966</td>\n",
              "      <td>2.0</td>\n",
              "    </tr>\n",
              "    <tr>\n",
              "      <th>146</th>\n",
              "      <td>1.564580</td>\n",
              "      <td>-0.896687</td>\n",
              "      <td>2.0</td>\n",
              "    </tr>\n",
              "    <tr>\n",
              "      <th>147</th>\n",
              "      <td>1.521170</td>\n",
              "      <td>0.269069</td>\n",
              "      <td>2.0</td>\n",
              "    </tr>\n",
              "    <tr>\n",
              "      <th>148</th>\n",
              "      <td>1.372788</td>\n",
              "      <td>1.011254</td>\n",
              "      <td>2.0</td>\n",
              "    </tr>\n",
              "    <tr>\n",
              "      <th>149</th>\n",
              "      <td>0.960656</td>\n",
              "      <td>-0.024332</td>\n",
              "      <td>2.0</td>\n",
              "    </tr>\n",
              "  </tbody>\n",
              "</table>\n",
              "<p>150 rows × 3 columns</p>\n",
              "</div>"
            ],
            "text/plain": [
              "        pca_1     pca_2  target\n",
              "0   -2.264703  0.480027     0.0\n",
              "1   -2.080961 -0.674134     0.0\n",
              "2   -2.364229 -0.341908     0.0\n",
              "3   -2.299384 -0.597395     0.0\n",
              "4   -2.389842  0.646835     0.0\n",
              "..        ...       ...     ...\n",
              "145  1.870503  0.386966     2.0\n",
              "146  1.564580 -0.896687     2.0\n",
              "147  1.521170  0.269069     2.0\n",
              "148  1.372788  1.011254     2.0\n",
              "149  0.960656 -0.024332     2.0\n",
              "\n",
              "[150 rows x 3 columns]"
            ]
          },
          "metadata": {
            "tags": []
          },
          "execution_count": 13
        }
      ]
    },
    {
      "cell_type": "code",
      "metadata": {
        "id": "kyjaw9YWEyQr",
        "colab_type": "code",
        "colab": {
          "base_uri": "https://localhost:8080/",
          "height": 517
        },
        "outputId": "934e64f8-2124-4f54-dd54-55e6ee7bddd0"
      },
      "source": [
        "px.scatter(data_pca, x='pca_1', y='pca_2', color='target', width=700, height=500, color_continuous_midpoint=1.2)"
      ],
      "execution_count": 14,
      "outputs": [
        {
          "output_type": "display_data",
          "data": {
            "text/html": [
              "<html>\n",
              "<head><meta charset=\"utf-8\" /></head>\n",
              "<body>\n",
              "    <div>\n",
              "            <script src=\"https://cdnjs.cloudflare.com/ajax/libs/mathjax/2.7.5/MathJax.js?config=TeX-AMS-MML_SVG\"></script><script type=\"text/javascript\">if (window.MathJax) {MathJax.Hub.Config({SVG: {font: \"STIX-Web\"}});}</script>\n",
              "                <script type=\"text/javascript\">window.PlotlyConfig = {MathJaxConfig: 'local'};</script>\n",
              "        <script src=\"https://cdn.plot.ly/plotly-latest.min.js\"></script>    \n",
              "            <div id=\"157a828b-1ddb-4638-9233-2f0145c78a04\" class=\"plotly-graph-div\" style=\"height:500px; width:700px;\"></div>\n",
              "            <script type=\"text/javascript\">\n",
              "                \n",
              "                    window.PLOTLYENV=window.PLOTLYENV || {};\n",
              "                    \n",
              "                if (document.getElementById(\"157a828b-1ddb-4638-9233-2f0145c78a04\")) {\n",
              "                    Plotly.newPlot(\n",
              "                        '157a828b-1ddb-4638-9233-2f0145c78a04',\n",
              "                        [{\"hoverlabel\": {\"namelength\": 0}, \"hovertemplate\": \"pca_1=%{x}<br>pca_2=%{y}<br>target=%{marker.color}\", \"legendgroup\": \"\", \"marker\": {\"color\": [0.0, 0.0, 0.0, 0.0, 0.0, 0.0, 0.0, 0.0, 0.0, 0.0, 0.0, 0.0, 0.0, 0.0, 0.0, 0.0, 0.0, 0.0, 0.0, 0.0, 0.0, 0.0, 0.0, 0.0, 0.0, 0.0, 0.0, 0.0, 0.0, 0.0, 0.0, 0.0, 0.0, 0.0, 0.0, 0.0, 0.0, 0.0, 0.0, 0.0, 0.0, 0.0, 0.0, 0.0, 0.0, 0.0, 0.0, 0.0, 0.0, 0.0, 1.0, 1.0, 1.0, 1.0, 1.0, 1.0, 1.0, 1.0, 1.0, 1.0, 1.0, 1.0, 1.0, 1.0, 1.0, 1.0, 1.0, 1.0, 1.0, 1.0, 1.0, 1.0, 1.0, 1.0, 1.0, 1.0, 1.0, 1.0, 1.0, 1.0, 1.0, 1.0, 1.0, 1.0, 1.0, 1.0, 1.0, 1.0, 1.0, 1.0, 1.0, 1.0, 1.0, 1.0, 1.0, 1.0, 1.0, 1.0, 1.0, 1.0, 2.0, 2.0, 2.0, 2.0, 2.0, 2.0, 2.0, 2.0, 2.0, 2.0, 2.0, 2.0, 2.0, 2.0, 2.0, 2.0, 2.0, 2.0, 2.0, 2.0, 2.0, 2.0, 2.0, 2.0, 2.0, 2.0, 2.0, 2.0, 2.0, 2.0, 2.0, 2.0, 2.0, 2.0, 2.0, 2.0, 2.0, 2.0, 2.0, 2.0, 2.0, 2.0, 2.0, 2.0, 2.0, 2.0, 2.0, 2.0, 2.0, 2.0], \"coloraxis\": \"coloraxis\", \"symbol\": \"circle\"}, \"mode\": \"markers\", \"name\": \"\", \"showlegend\": false, \"type\": \"scatter\", \"x\": [-2.2647028088075962, -2.0809611519657683, -2.3642290538903006, -2.299384217042709, -2.389842166313845, -2.0756309481765123, -2.4440288351341533, -2.2328471588720156, -2.334640477907622, -2.1843281749339427, -2.1663101007013226, -2.3261308664426994, -2.2184508988224096, -2.633100695765229, -2.19874060326669, -2.262214531601021, -2.207587695824593, -2.190349509192299, -1.898571995802842, -2.3433690530749938, -1.914322996082568, -2.207012843194798, -2.774344702927333, -1.818669528695849, -2.2271633057066396, -1.9518463309003766, -2.0511513727294157, -2.168577174654217, -2.139563451301332, -2.2652614931542416, -2.1401221356479847, -1.8315947706760285, -2.614947935858935, -2.446177391696515, -2.109974875318653, -2.207808899078266, -2.0451462067542012, -2.5273319131704866, -2.4296325750845473, -2.169710711630664, -2.2864751433456707, -1.8581224563735714, -2.5536383956143567, -1.9644476837637412, -2.1370590058116234, -2.06974429959183, -2.3847331657782633, -2.3943763142196337, -2.229446547942675, -2.203833435519131, 1.1017811830529487, 0.7313374253960883, 1.2409793195158325, 0.40748305881738545, 1.0754747006090792, 0.38868733653566523, 0.7465297413291615, -0.4873227421256398, 0.9279016383549465, 0.011426188736980135, -0.11019628000062902, 0.44069344898307883, 0.5621083064431794, 0.7195618886754972, -0.03335470317877198, 0.8754071908577387, 0.3502516679950831, 0.1588100475479715, 1.2250936335624325, 0.1649178993863276, 0.7376826487712588, 0.4762871909409719, 1.23417809765715, 0.6328581997098222, 0.7026611831361831, 0.8742736538812915, 1.2565091165418847, 1.3584051214406332, 0.6648003672253953, -0.04025861090059523, 0.13079517549786088, 0.023452688970551062, 0.24153827295451125, 1.0610946088426148, 0.2239787735123796, 0.4291391155161612, 1.0487280512090886, 1.04453138439628, 0.06958832111642312, 0.28347723828757554, 0.2790777760554609, 0.6245697914985721, 0.3365303701314363, -0.3621833846193835, 0.28858623882315765, 0.0913606556545055, 0.22771686553470033, 0.5763882886534792, -0.44766701902861156, 0.25673058888758504, 1.8445688677230303, 1.1578816132057803, 2.20526679107538, 1.4401506638275403, 1.867812220330539, 2.7518733356662795, 0.3670176878607246, 2.3024394446251994, 2.006686467676607, 2.2597773490125026, 1.364175492186009, 1.6026786704779319, 1.8839007017032443, 1.2601150991975083, 1.4676452010173249, 1.5900773176145668, 1.4714314611333195, 2.4263289873157023, 3.31069558393389, 1.2637666736398292, 2.0377163014694064, 0.9779807342494222, 2.8976514907341713, 1.3332321759732098, 1.7007338974912185, 1.9543267058530729, 1.1751036315549332, 1.0209505506957919, 1.788349920179667, 1.8636475533282626, 2.4359537279227057, 2.3049277218317665, 1.862703219794957, 1.1141477406864755, 1.2024733016783917, 2.7987704475781103, 1.5762559101947553, 1.3462921036270628, 0.9248249165424202, 1.8520450517676719, 2.0148104299548772, 1.901784090262191, 1.1578816132057803, 2.0405582280520944, 1.9981470959523777, 1.8705032929564123, 1.5645804830303291, 1.521170499627839, 1.3727877895140739, 0.9606560300371285], \"xaxis\": \"x\", \"y\": [0.48002659652098845, -0.6741335566053535, -0.34190802388467617, -0.597394507674676, 0.6468353829020274, 1.4891775233211668, 0.047644197630014214, 0.22314807268959172, -1.1153276754616666, -0.46901356140237593, 1.0436906530538599, 0.13307833523923154, -0.728676165316571, -0.9615067291701631, 1.8600571132939314, 2.6862844851105923, 1.4836093631555727, 0.4888383164863276, 1.4050187944665495, 1.1278493819084767, 0.4088557077559061, 0.9241214267468988, 0.4583436677529156, 0.08555852628736624, 0.13725445536342712, -0.6256185877766768, 0.2421635526616672, 0.5271495253082672, 0.31321781013995187, -0.33773190376048073, -0.5045406901415185, 0.42369506760378595, 1.793575856104429, 2.150727877392924, -0.4602018414370375, -0.20610739768843694, 0.6615581114631083, 0.5922927741908095, -0.9041800403761481, 0.2688789614354709, 0.4417153876990501, -2.337415157553349, -0.47910069012231404, 0.47232666771926096, 1.1422292620394092, -0.7110527253858941, 1.1204297019845368, -0.3862468725891574, 0.9979597643079806, 0.009216357521276194, 0.862972418262159, 0.5946147256694247, 0.6162976544374986, -1.7544039893234114, -0.20842104605096534, -0.5932836359900753, 0.7730193120985969, -1.8524290868575748, 0.03222607789115382, -1.034018275129441, -2.6540728185365654, -0.06329518843800135, -1.7647243806169455, -0.18622460583150582, -0.4390032099816246, 0.5090639567734088, -0.19631173455144407, -0.7920957424327216, -1.622243803091502, -1.302609230295773, 0.3965715619602392, -0.4173202812135508, -0.9333257287992788, -0.4163877208890996, -0.06341181972480012, 0.25079339290061226, -0.07725601969586891, 0.3313116817908983, -0.2259278546948436, -1.0587185465539086, -1.562271834209968, -1.5724755942167052, -0.7772563825848416, -0.6338432447349469, -0.2877735120432024, 0.8455822409050792, 0.5220517968629429, -1.3829887191907821, -0.21950333464771507, -1.3293246390695768, -1.120028523742404, 0.024923029254012633, -0.9884040176703606, -2.019237873238612, -0.8557303199870664, -0.18119212582577537, -0.38492008098735386, -0.15487359721655886, -1.5437920343977565, -0.5988517961556694, 0.8704213123248238, -0.6988698623306903, 0.5620104770083558, -0.04698758810580656, 0.29504482445701996, 0.8004092010275421, -1.5615028914765063, 0.42006557964277635, -0.711438653547159, 1.9210103764598871, 0.6927564544903874, -0.4217004497726171, 0.4192496506051238, -1.1622604214064634, -0.44227158737708216, 0.6762448057233205, 0.2556218244714706, 2.556661250795492, 0.01778094932062698, -1.706745380376268, 0.9104674096183113, -0.5717643248129917, 0.4136410595956476, -0.4818112186494293, 1.0139218673227917, 1.0077775961534527, -0.31639447230979095, 0.06434602923956201, -0.18736121459082863, 0.5622907258861447, 0.25928443314428035, 2.626323468232379, -0.17854949462549016, -0.29292262333573144, -0.8113152708396693, 0.8568033294971058, 1.0685811073208082, 0.42243061085250844, 0.01722310045228429, 0.676128174436522, 0.6138856369235756, 0.6895754942430032, -0.6988698623306903, 0.8675206009552289, 1.0491687471841455, 0.386966081665726, -0.8966868088965264, 0.26906914427795187, 1.0112544185267935, -0.024331668169399266], \"yaxis\": \"y\"}],\n",
              "                        {\"coloraxis\": {\"cmid\": 1.2, \"colorbar\": {\"title\": {\"text\": \"target\"}}, \"colorscale\": [[0.0, \"#0d0887\"], [0.1111111111111111, \"#46039f\"], [0.2222222222222222, \"#7201a8\"], [0.3333333333333333, \"#9c179e\"], [0.4444444444444444, \"#bd3786\"], [0.5555555555555556, \"#d8576b\"], [0.6666666666666666, \"#ed7953\"], [0.7777777777777778, \"#fb9f3a\"], [0.8888888888888888, \"#fdca26\"], [1.0, \"#f0f921\"]]}, \"height\": 500, \"legend\": {\"tracegroupgap\": 0}, \"margin\": {\"t\": 60}, \"template\": {\"data\": {\"bar\": [{\"error_x\": {\"color\": \"#2a3f5f\"}, \"error_y\": {\"color\": \"#2a3f5f\"}, \"marker\": {\"line\": {\"color\": \"#E5ECF6\", \"width\": 0.5}}, \"type\": \"bar\"}], \"barpolar\": [{\"marker\": {\"line\": {\"color\": \"#E5ECF6\", \"width\": 0.5}}, \"type\": \"barpolar\"}], \"carpet\": [{\"aaxis\": {\"endlinecolor\": \"#2a3f5f\", \"gridcolor\": \"white\", \"linecolor\": \"white\", \"minorgridcolor\": \"white\", \"startlinecolor\": \"#2a3f5f\"}, \"baxis\": {\"endlinecolor\": \"#2a3f5f\", \"gridcolor\": \"white\", \"linecolor\": \"white\", \"minorgridcolor\": \"white\", \"startlinecolor\": \"#2a3f5f\"}, \"type\": \"carpet\"}], \"choropleth\": [{\"colorbar\": {\"outlinewidth\": 0, \"ticks\": \"\"}, \"type\": \"choropleth\"}], \"contour\": [{\"colorbar\": {\"outlinewidth\": 0, \"ticks\": \"\"}, \"colorscale\": [[0.0, \"#0d0887\"], [0.1111111111111111, \"#46039f\"], [0.2222222222222222, \"#7201a8\"], [0.3333333333333333, \"#9c179e\"], [0.4444444444444444, \"#bd3786\"], [0.5555555555555556, \"#d8576b\"], [0.6666666666666666, \"#ed7953\"], [0.7777777777777778, \"#fb9f3a\"], [0.8888888888888888, \"#fdca26\"], [1.0, \"#f0f921\"]], \"type\": \"contour\"}], \"contourcarpet\": [{\"colorbar\": {\"outlinewidth\": 0, \"ticks\": \"\"}, \"type\": \"contourcarpet\"}], \"heatmap\": [{\"colorbar\": {\"outlinewidth\": 0, \"ticks\": \"\"}, \"colorscale\": [[0.0, \"#0d0887\"], [0.1111111111111111, \"#46039f\"], [0.2222222222222222, \"#7201a8\"], [0.3333333333333333, \"#9c179e\"], [0.4444444444444444, \"#bd3786\"], [0.5555555555555556, \"#d8576b\"], [0.6666666666666666, \"#ed7953\"], [0.7777777777777778, \"#fb9f3a\"], [0.8888888888888888, \"#fdca26\"], [1.0, \"#f0f921\"]], \"type\": \"heatmap\"}], \"heatmapgl\": [{\"colorbar\": {\"outlinewidth\": 0, \"ticks\": \"\"}, \"colorscale\": [[0.0, \"#0d0887\"], [0.1111111111111111, \"#46039f\"], [0.2222222222222222, \"#7201a8\"], [0.3333333333333333, \"#9c179e\"], [0.4444444444444444, \"#bd3786\"], [0.5555555555555556, \"#d8576b\"], [0.6666666666666666, \"#ed7953\"], [0.7777777777777778, \"#fb9f3a\"], [0.8888888888888888, \"#fdca26\"], [1.0, \"#f0f921\"]], \"type\": \"heatmapgl\"}], \"histogram\": [{\"marker\": {\"colorbar\": {\"outlinewidth\": 0, \"ticks\": \"\"}}, \"type\": \"histogram\"}], \"histogram2d\": [{\"colorbar\": {\"outlinewidth\": 0, \"ticks\": \"\"}, \"colorscale\": [[0.0, \"#0d0887\"], [0.1111111111111111, \"#46039f\"], [0.2222222222222222, \"#7201a8\"], [0.3333333333333333, \"#9c179e\"], [0.4444444444444444, \"#bd3786\"], [0.5555555555555556, \"#d8576b\"], [0.6666666666666666, \"#ed7953\"], [0.7777777777777778, \"#fb9f3a\"], [0.8888888888888888, \"#fdca26\"], [1.0, \"#f0f921\"]], \"type\": \"histogram2d\"}], \"histogram2dcontour\": [{\"colorbar\": {\"outlinewidth\": 0, \"ticks\": \"\"}, \"colorscale\": [[0.0, \"#0d0887\"], [0.1111111111111111, \"#46039f\"], [0.2222222222222222, \"#7201a8\"], [0.3333333333333333, \"#9c179e\"], [0.4444444444444444, \"#bd3786\"], [0.5555555555555556, \"#d8576b\"], [0.6666666666666666, \"#ed7953\"], [0.7777777777777778, \"#fb9f3a\"], [0.8888888888888888, \"#fdca26\"], [1.0, \"#f0f921\"]], \"type\": \"histogram2dcontour\"}], \"mesh3d\": [{\"colorbar\": {\"outlinewidth\": 0, \"ticks\": \"\"}, \"type\": \"mesh3d\"}], \"parcoords\": [{\"line\": {\"colorbar\": {\"outlinewidth\": 0, \"ticks\": \"\"}}, \"type\": \"parcoords\"}], \"pie\": [{\"automargin\": true, \"type\": \"pie\"}], \"scatter\": [{\"marker\": {\"colorbar\": {\"outlinewidth\": 0, \"ticks\": \"\"}}, \"type\": \"scatter\"}], \"scatter3d\": [{\"line\": {\"colorbar\": {\"outlinewidth\": 0, \"ticks\": \"\"}}, \"marker\": {\"colorbar\": {\"outlinewidth\": 0, \"ticks\": \"\"}}, \"type\": \"scatter3d\"}], \"scattercarpet\": [{\"marker\": {\"colorbar\": {\"outlinewidth\": 0, \"ticks\": \"\"}}, \"type\": \"scattercarpet\"}], \"scattergeo\": [{\"marker\": {\"colorbar\": {\"outlinewidth\": 0, \"ticks\": \"\"}}, \"type\": \"scattergeo\"}], \"scattergl\": [{\"marker\": {\"colorbar\": {\"outlinewidth\": 0, \"ticks\": \"\"}}, \"type\": \"scattergl\"}], \"scattermapbox\": [{\"marker\": {\"colorbar\": {\"outlinewidth\": 0, \"ticks\": \"\"}}, \"type\": \"scattermapbox\"}], \"scatterpolar\": [{\"marker\": {\"colorbar\": {\"outlinewidth\": 0, \"ticks\": \"\"}}, \"type\": \"scatterpolar\"}], \"scatterpolargl\": [{\"marker\": {\"colorbar\": {\"outlinewidth\": 0, \"ticks\": \"\"}}, \"type\": \"scatterpolargl\"}], \"scatterternary\": [{\"marker\": {\"colorbar\": {\"outlinewidth\": 0, \"ticks\": \"\"}}, \"type\": \"scatterternary\"}], \"surface\": [{\"colorbar\": {\"outlinewidth\": 0, \"ticks\": \"\"}, \"colorscale\": [[0.0, \"#0d0887\"], [0.1111111111111111, \"#46039f\"], [0.2222222222222222, \"#7201a8\"], [0.3333333333333333, \"#9c179e\"], [0.4444444444444444, \"#bd3786\"], [0.5555555555555556, \"#d8576b\"], [0.6666666666666666, \"#ed7953\"], [0.7777777777777778, \"#fb9f3a\"], [0.8888888888888888, \"#fdca26\"], [1.0, \"#f0f921\"]], \"type\": \"surface\"}], \"table\": [{\"cells\": {\"fill\": {\"color\": \"#EBF0F8\"}, \"line\": {\"color\": \"white\"}}, \"header\": {\"fill\": {\"color\": \"#C8D4E3\"}, \"line\": {\"color\": \"white\"}}, \"type\": \"table\"}]}, \"layout\": {\"annotationdefaults\": {\"arrowcolor\": \"#2a3f5f\", \"arrowhead\": 0, \"arrowwidth\": 1}, \"coloraxis\": {\"colorbar\": {\"outlinewidth\": 0, \"ticks\": \"\"}}, \"colorscale\": {\"diverging\": [[0, \"#8e0152\"], [0.1, \"#c51b7d\"], [0.2, \"#de77ae\"], [0.3, \"#f1b6da\"], [0.4, \"#fde0ef\"], [0.5, \"#f7f7f7\"], [0.6, \"#e6f5d0\"], [0.7, \"#b8e186\"], [0.8, \"#7fbc41\"], [0.9, \"#4d9221\"], [1, \"#276419\"]], \"sequential\": [[0.0, \"#0d0887\"], [0.1111111111111111, \"#46039f\"], [0.2222222222222222, \"#7201a8\"], [0.3333333333333333, \"#9c179e\"], [0.4444444444444444, \"#bd3786\"], [0.5555555555555556, \"#d8576b\"], [0.6666666666666666, \"#ed7953\"], [0.7777777777777778, \"#fb9f3a\"], [0.8888888888888888, \"#fdca26\"], [1.0, \"#f0f921\"]], \"sequentialminus\": [[0.0, \"#0d0887\"], [0.1111111111111111, \"#46039f\"], [0.2222222222222222, \"#7201a8\"], [0.3333333333333333, \"#9c179e\"], [0.4444444444444444, \"#bd3786\"], [0.5555555555555556, \"#d8576b\"], [0.6666666666666666, \"#ed7953\"], [0.7777777777777778, \"#fb9f3a\"], [0.8888888888888888, \"#fdca26\"], [1.0, \"#f0f921\"]]}, \"colorway\": [\"#636efa\", \"#EF553B\", \"#00cc96\", \"#ab63fa\", \"#FFA15A\", \"#19d3f3\", \"#FF6692\", \"#B6E880\", \"#FF97FF\", \"#FECB52\"], \"font\": {\"color\": \"#2a3f5f\"}, \"geo\": {\"bgcolor\": \"white\", \"lakecolor\": \"white\", \"landcolor\": \"#E5ECF6\", \"showlakes\": true, \"showland\": true, \"subunitcolor\": \"white\"}, \"hoverlabel\": {\"align\": \"left\"}, \"hovermode\": \"closest\", \"mapbox\": {\"style\": \"light\"}, \"paper_bgcolor\": \"white\", \"plot_bgcolor\": \"#E5ECF6\", \"polar\": {\"angularaxis\": {\"gridcolor\": \"white\", \"linecolor\": \"white\", \"ticks\": \"\"}, \"bgcolor\": \"#E5ECF6\", \"radialaxis\": {\"gridcolor\": \"white\", \"linecolor\": \"white\", \"ticks\": \"\"}}, \"scene\": {\"xaxis\": {\"backgroundcolor\": \"#E5ECF6\", \"gridcolor\": \"white\", \"gridwidth\": 2, \"linecolor\": \"white\", \"showbackground\": true, \"ticks\": \"\", \"zerolinecolor\": \"white\"}, \"yaxis\": {\"backgroundcolor\": \"#E5ECF6\", \"gridcolor\": \"white\", \"gridwidth\": 2, \"linecolor\": \"white\", \"showbackground\": true, \"ticks\": \"\", \"zerolinecolor\": \"white\"}, \"zaxis\": {\"backgroundcolor\": \"#E5ECF6\", \"gridcolor\": \"white\", \"gridwidth\": 2, \"linecolor\": \"white\", \"showbackground\": true, \"ticks\": \"\", \"zerolinecolor\": \"white\"}}, \"shapedefaults\": {\"line\": {\"color\": \"#2a3f5f\"}}, \"ternary\": {\"aaxis\": {\"gridcolor\": \"white\", \"linecolor\": \"white\", \"ticks\": \"\"}, \"baxis\": {\"gridcolor\": \"white\", \"linecolor\": \"white\", \"ticks\": \"\"}, \"bgcolor\": \"#E5ECF6\", \"caxis\": {\"gridcolor\": \"white\", \"linecolor\": \"white\", \"ticks\": \"\"}}, \"title\": {\"x\": 0.05}, \"xaxis\": {\"automargin\": true, \"gridcolor\": \"white\", \"linecolor\": \"white\", \"ticks\": \"\", \"title\": {\"standoff\": 15}, \"zerolinecolor\": \"white\", \"zerolinewidth\": 2}, \"yaxis\": {\"automargin\": true, \"gridcolor\": \"white\", \"linecolor\": \"white\", \"ticks\": \"\", \"title\": {\"standoff\": 15}, \"zerolinecolor\": \"white\", \"zerolinewidth\": 2}}}, \"width\": 700, \"xaxis\": {\"anchor\": \"y\", \"domain\": [0.0, 1.0], \"title\": {\"text\": \"pca_1\"}}, \"yaxis\": {\"anchor\": \"x\", \"domain\": [0.0, 1.0], \"title\": {\"text\": \"pca_2\"}}},\n",
              "                        {\"responsive\": true}\n",
              "                    ).then(function(){\n",
              "                            \n",
              "var gd = document.getElementById('157a828b-1ddb-4638-9233-2f0145c78a04');\n",
              "var x = new MutationObserver(function (mutations, observer) {{\n",
              "        var display = window.getComputedStyle(gd).display;\n",
              "        if (!display || display === 'none') {{\n",
              "            console.log([gd, 'removed!']);\n",
              "            Plotly.purge(gd);\n",
              "            observer.disconnect();\n",
              "        }}\n",
              "}});\n",
              "\n",
              "// Listen for the removal of the full notebook cells\n",
              "var notebookContainer = gd.closest('#notebook-container');\n",
              "if (notebookContainer) {{\n",
              "    x.observe(notebookContainer, {childList: true});\n",
              "}}\n",
              "\n",
              "// Listen for the clearing of the current output cell\n",
              "var outputEl = gd.closest('.output');\n",
              "if (outputEl) {{\n",
              "    x.observe(outputEl, {childList: true});\n",
              "}}\n",
              "\n",
              "                        })\n",
              "                };\n",
              "                \n",
              "            </script>\n",
              "        </div>\n",
              "</body>\n",
              "</html>"
            ]
          },
          "metadata": {
            "tags": []
          }
        }
      ]
    },
    {
      "cell_type": "code",
      "metadata": {
        "id": "ECpHPtKsGsqX",
        "colab_type": "code",
        "colab": {
          "base_uri": "https://localhost:8080/",
          "height": 1000
        },
        "outputId": "20821e56-8a51-4d8d-e756-e46eaa18b5a7"
      },
      "source": [
        "pca = PCA(n_components=0.97, random_state=42)\n",
        "data_pca = pca.fit_transform(data)\n",
        "data_pca"
      ],
      "execution_count": 17,
      "outputs": [
        {
          "output_type": "execute_result",
          "data": {
            "text/plain": [
              "array([[-2.264703,  0.480027, -0.127706],\n",
              "       [-2.080961, -0.674134, -0.234609],\n",
              "       [-2.364229, -0.341908,  0.044201],\n",
              "       [-2.299384, -0.597395,  0.09129 ],\n",
              "       [-2.389842,  0.646835,  0.015738],\n",
              "       [-2.075631,  1.489178,  0.026968],\n",
              "       [-2.444029,  0.047644,  0.33547 ],\n",
              "       [-2.232847,  0.223148, -0.088695],\n",
              "       [-2.33464 , -1.115328,  0.145077],\n",
              "       [-2.184328, -0.469014, -0.253766],\n",
              "       [-2.16631 ,  1.043691, -0.268681],\n",
              "       [-2.326131,  0.133078,  0.093759],\n",
              "       [-2.218451, -0.728676, -0.230911],\n",
              "       [-2.633101, -0.961507,  0.180796],\n",
              "       [-2.198741,  1.860057, -0.472901],\n",
              "       [-2.262215,  2.686284,  0.030527],\n",
              "       [-2.207588,  1.483609, -0.005344],\n",
              "       [-2.19035 ,  0.488838, -0.044215],\n",
              "       [-1.898572,  1.405019, -0.374343],\n",
              "       [-2.343369,  1.127849,  0.13263 ],\n",
              "       [-1.914323,  0.408856, -0.421293],\n",
              "       [-2.207013,  0.924121,  0.159865],\n",
              "       [-2.774345,  0.458344,  0.332179],\n",
              "       [-1.81867 ,  0.085559,  0.034489],\n",
              "       [-2.227163,  0.137254,  0.117994],\n",
              "       [-1.951846, -0.625619, -0.305641],\n",
              "       [-2.051151,  0.242164,  0.086364],\n",
              "       [-2.168577,  0.52715 , -0.206816],\n",
              "       [-2.139563,  0.313218, -0.27115 ],\n",
              "       [-2.265261, -0.337732,  0.068436],\n",
              "       [-2.140122, -0.504541, -0.075008],\n",
              "       [-1.831595,  0.423695, -0.270467],\n",
              "       [-2.614948,  1.793576,  0.047228],\n",
              "       [-2.446177,  2.150728, -0.082668],\n",
              "       [-2.109975, -0.460202, -0.170275],\n",
              "       [-2.207809, -0.206107, -0.225442],\n",
              "       [-2.045146,  0.661558, -0.484537],\n",
              "       [-2.527332,  0.592293,  0.019436],\n",
              "       [-2.429633, -0.90418 ,  0.193255],\n",
              "       [-2.169711,  0.268879, -0.175884],\n",
              "       [-2.286475,  0.441715,  0.034895],\n",
              "       [-1.858122, -2.337415, -0.204234],\n",
              "       [-2.553638, -0.479101,  0.305766],\n",
              "       [-1.964448,  0.472327,  0.309601],\n",
              "       [-2.137059,  1.142229,  0.248434],\n",
              "       [-2.069744, -0.711053, -0.06393 ],\n",
              "       [-2.384733,  1.12043 ,  0.057218],\n",
              "       [-2.394376, -0.386247,  0.139468],\n",
              "       [-2.229447,  0.99796 , -0.181493],\n",
              "       [-2.203833,  0.009216, -0.153029],\n",
              "       [ 1.101781,  0.862972, -0.684586],\n",
              "       [ 0.731337,  0.594615, -0.094122],\n",
              "       [ 1.240979,  0.616298, -0.554007],\n",
              "       [ 0.407483, -1.754404, -0.023102],\n",
              "       [ 1.075475, -0.208421, -0.398256],\n",
              "       [ 0.388687, -0.593284,  0.124192],\n",
              "       [ 0.74653 ,  0.773019,  0.148969],\n",
              "       [-0.487323, -1.852429,  0.249265],\n",
              "       [ 0.927902,  0.032226, -0.596169],\n",
              "       [ 0.011426, -1.034018,  0.538899],\n",
              "       [-0.110196, -2.654073, -0.04679 ],\n",
              "       [ 0.440693, -0.063295,  0.205074],\n",
              "       [ 0.562108, -1.764724, -0.765771],\n",
              "       [ 0.719562, -0.186225, -0.068659],\n",
              "       [-0.033355, -0.439003,  0.194933],\n",
              "       [ 0.875407,  0.509064, -0.503511],\n",
              "       [ 0.350252, -0.196312,  0.490873],\n",
              "       [ 0.15881 , -0.792096, -0.302037],\n",
              "       [ 1.225094, -1.622244, -0.482304],\n",
              "       [ 0.164918, -1.302609, -0.172838],\n",
              "       [ 0.737683,  0.396572,  0.616526],\n",
              "       [ 0.476287, -0.41732 , -0.264952],\n",
              "       [ 1.234178, -0.933326, -0.368412],\n",
              "       [ 0.632858, -0.416388, -0.291896],\n",
              "       [ 0.702661, -0.063412, -0.446027],\n",
              "       [ 0.874274,  0.250793, -0.472579],\n",
              "       [ 1.256509, -0.077256, -0.727155],\n",
              "       [ 1.358405,  0.331312, -0.260827],\n",
              "       [ 0.6648  , -0.225928,  0.085864],\n",
              "       [-0.040259, -1.058719, -0.319573],\n",
              "       [ 0.130795, -1.562272, -0.149983],\n",
              "       [ 0.023453, -1.572476, -0.241552],\n",
              "       [ 0.241538, -0.777256, -0.151212],\n",
              "       [ 1.061095, -0.633843,  0.105311],\n",
              "       [ 0.223979, -0.287774,  0.66525 ],\n",
              "       [ 0.429139,  0.845582,  0.450634],\n",
              "       [ 1.048728,  0.522052, -0.395786],\n",
              "       [ 1.044531, -1.382989, -0.688296],\n",
              "       [ 0.069588, -0.219503,  0.291579],\n",
              "       [ 0.283477, -1.329325,  0.08941 ],\n",
              "       [ 0.279078, -1.120029,  0.094488],\n",
              "       [ 0.62457 ,  0.024923, -0.020481],\n",
              "       [ 0.33653 , -0.988404, -0.19939 ],\n",
              "       [-0.362183, -2.019238,  0.105821],\n",
              "       [ 0.288586, -0.85573 ,  0.13089 ],\n",
              "       [ 0.091361, -0.181192,  0.128978],\n",
              "       [ 0.227717, -0.38492 ,  0.156213],\n",
              "       [ 0.576388, -0.154874, -0.27165 ],\n",
              "       [-0.447667, -1.543792,  0.190401],\n",
              "       [ 0.256731, -0.598852,  0.091879],\n",
              "       [ 1.844569,  0.870421,  1.005401],\n",
              "       [ 1.157882, -0.69887 ,  0.53016 ],\n",
              "       [ 2.205267,  0.56201 , -0.202914],\n",
              "       [ 1.440151, -0.046988,  0.16363 ],\n",
              "       [ 1.867812,  0.295045,  0.395628],\n",
              "       [ 2.751873,  0.800409, -0.582309],\n",
              "       [ 0.367018, -1.561503,  0.986893],\n",
              "       [ 2.302439,  0.420066, -0.651706],\n",
              "       [ 2.006686, -0.711439, -0.393991],\n",
              "       [ 2.259777,  1.92101 ,  0.397552],\n",
              "       [ 1.364175,  0.692756,  0.284612],\n",
              "       [ 1.602679, -0.4217  ,  0.023186],\n",
              "       [ 1.883901,  0.41925 ,  0.026338],\n",
              "       [ 1.260115, -1.16226 ,  0.580249],\n",
              "       [ 1.467645, -0.442272,  1.00387 ],\n",
              "       [ 1.590077,  0.676245,  0.638429],\n",
              "       [ 1.471431,  0.255622,  0.037431],\n",
              "       [ 2.426329,  2.556661, -0.127881],\n",
              "       [ 3.310696,  0.017781, -0.703305],\n",
              "       [ 1.263767, -1.706745, -0.267537],\n",
              "       [ 2.037716,  0.910467,  0.234799],\n",
              "       [ 0.977981, -0.571764,  0.828127],\n",
              "       [ 2.897651,  0.413641, -0.857422],\n",
              "       [ 1.333232, -0.481811, -0.005428],\n",
              "       [ 1.700734,  1.013922,  0.298451],\n",
              "       [ 1.954327,  1.007778, -0.419985],\n",
              "       [ 1.175104, -0.316394,  0.129938],\n",
              "       [ 1.020951,  0.064346,  0.337716],\n",
              "       [ 1.78835 , -0.187361,  0.270658],\n",
              "       [ 1.863648,  0.562291, -0.715634],\n",
              "       [ 2.435954,  0.259284, -0.727816],\n",
              "       [ 2.304928,  2.626323, -0.493474],\n",
              "       [ 1.862703, -0.178549,  0.354149],\n",
              "       [ 1.114148, -0.292923, -0.183488],\n",
              "       [ 1.202473, -0.811315, -0.164724],\n",
              "       [ 2.79877 ,  0.856803, -0.542906],\n",
              "       [ 1.576256,  1.068581,  0.945854],\n",
              "       [ 1.346292,  0.422431,  0.180875],\n",
              "       [ 0.924825,  0.017223,  0.416826],\n",
              "       [ 1.852045,  0.676128, -0.012672],\n",
              "       [ 2.01481 ,  0.613886,  0.428333],\n",
              "       [ 1.901784,  0.689575,  0.130075],\n",
              "       [ 1.157882, -0.69887 ,  0.53016 ],\n",
              "       [ 2.040558,  0.867521,  0.338144],\n",
              "       [ 1.998147,  1.049169,  0.632413],\n",
              "       [ 1.870503,  0.386966,  0.256274],\n",
              "       [ 1.56458 , -0.896687, -0.026371],\n",
              "       [ 1.52117 ,  0.269069,  0.180178],\n",
              "       [ 1.372788,  1.011254,  0.933395],\n",
              "       [ 0.960656, -0.024332,  0.528249]])"
            ]
          },
          "metadata": {
            "tags": []
          },
          "execution_count": 17
        }
      ]
    },
    {
      "cell_type": "code",
      "metadata": {
        "id": "nCSDC1gVGuau",
        "colab_type": "code",
        "colab": {
          "base_uri": "https://localhost:8080/",
          "height": 407
        },
        "outputId": "3fb819ec-c0c0-42ab-b819-b05a38fae9f6"
      },
      "source": [
        "data_pca_3d = pd.DataFrame(data={'pca_1': data_pca[:, 0], 'pca_2': data_pca[:, 1], 'pca_3': data_pca[:, 2], 'target': df['target']})\n",
        "data_pca_3d"
      ],
      "execution_count": 19,
      "outputs": [
        {
          "output_type": "execute_result",
          "data": {
            "text/html": [
              "<div>\n",
              "<style scoped>\n",
              "    .dataframe tbody tr th:only-of-type {\n",
              "        vertical-align: middle;\n",
              "    }\n",
              "\n",
              "    .dataframe tbody tr th {\n",
              "        vertical-align: top;\n",
              "    }\n",
              "\n",
              "    .dataframe thead th {\n",
              "        text-align: right;\n",
              "    }\n",
              "</style>\n",
              "<table border=\"1\" class=\"dataframe\">\n",
              "  <thead>\n",
              "    <tr style=\"text-align: right;\">\n",
              "      <th></th>\n",
              "      <th>pca_1</th>\n",
              "      <th>pca_2</th>\n",
              "      <th>pca_3</th>\n",
              "      <th>target</th>\n",
              "    </tr>\n",
              "  </thead>\n",
              "  <tbody>\n",
              "    <tr>\n",
              "      <th>0</th>\n",
              "      <td>-2.264703</td>\n",
              "      <td>0.480027</td>\n",
              "      <td>-0.127706</td>\n",
              "      <td>0.0</td>\n",
              "    </tr>\n",
              "    <tr>\n",
              "      <th>1</th>\n",
              "      <td>-2.080961</td>\n",
              "      <td>-0.674134</td>\n",
              "      <td>-0.234609</td>\n",
              "      <td>0.0</td>\n",
              "    </tr>\n",
              "    <tr>\n",
              "      <th>2</th>\n",
              "      <td>-2.364229</td>\n",
              "      <td>-0.341908</td>\n",
              "      <td>0.044201</td>\n",
              "      <td>0.0</td>\n",
              "    </tr>\n",
              "    <tr>\n",
              "      <th>3</th>\n",
              "      <td>-2.299384</td>\n",
              "      <td>-0.597395</td>\n",
              "      <td>0.091290</td>\n",
              "      <td>0.0</td>\n",
              "    </tr>\n",
              "    <tr>\n",
              "      <th>4</th>\n",
              "      <td>-2.389842</td>\n",
              "      <td>0.646835</td>\n",
              "      <td>0.015738</td>\n",
              "      <td>0.0</td>\n",
              "    </tr>\n",
              "    <tr>\n",
              "      <th>...</th>\n",
              "      <td>...</td>\n",
              "      <td>...</td>\n",
              "      <td>...</td>\n",
              "      <td>...</td>\n",
              "    </tr>\n",
              "    <tr>\n",
              "      <th>145</th>\n",
              "      <td>1.870503</td>\n",
              "      <td>0.386966</td>\n",
              "      <td>0.256274</td>\n",
              "      <td>2.0</td>\n",
              "    </tr>\n",
              "    <tr>\n",
              "      <th>146</th>\n",
              "      <td>1.564580</td>\n",
              "      <td>-0.896687</td>\n",
              "      <td>-0.026371</td>\n",
              "      <td>2.0</td>\n",
              "    </tr>\n",
              "    <tr>\n",
              "      <th>147</th>\n",
              "      <td>1.521170</td>\n",
              "      <td>0.269069</td>\n",
              "      <td>0.180178</td>\n",
              "      <td>2.0</td>\n",
              "    </tr>\n",
              "    <tr>\n",
              "      <th>148</th>\n",
              "      <td>1.372788</td>\n",
              "      <td>1.011254</td>\n",
              "      <td>0.933395</td>\n",
              "      <td>2.0</td>\n",
              "    </tr>\n",
              "    <tr>\n",
              "      <th>149</th>\n",
              "      <td>0.960656</td>\n",
              "      <td>-0.024332</td>\n",
              "      <td>0.528249</td>\n",
              "      <td>2.0</td>\n",
              "    </tr>\n",
              "  </tbody>\n",
              "</table>\n",
              "<p>150 rows × 4 columns</p>\n",
              "</div>"
            ],
            "text/plain": [
              "        pca_1     pca_2     pca_3  target\n",
              "0   -2.264703  0.480027 -0.127706     0.0\n",
              "1   -2.080961 -0.674134 -0.234609     0.0\n",
              "2   -2.364229 -0.341908  0.044201     0.0\n",
              "3   -2.299384 -0.597395  0.091290     0.0\n",
              "4   -2.389842  0.646835  0.015738     0.0\n",
              "..        ...       ...       ...     ...\n",
              "145  1.870503  0.386966  0.256274     2.0\n",
              "146  1.564580 -0.896687 -0.026371     2.0\n",
              "147  1.521170  0.269069  0.180178     2.0\n",
              "148  1.372788  1.011254  0.933395     2.0\n",
              "149  0.960656 -0.024332  0.528249     2.0\n",
              "\n",
              "[150 rows x 4 columns]"
            ]
          },
          "metadata": {
            "tags": []
          },
          "execution_count": 19
        }
      ]
    },
    {
      "cell_type": "code",
      "metadata": {
        "id": "st0H9ZMqHIH0",
        "colab_type": "code",
        "colab": {
          "base_uri": "https://localhost:8080/",
          "height": 542
        },
        "outputId": "1b5fe304-90b6-4c82-f635-3348a2c78dcd"
      },
      "source": [
        "px.scatter_3d(data_pca_3d, x='pca_1', y='pca_2', z='pca_3', color='target', symbol='target', opacity=0.7, width=700)"
      ],
      "execution_count": 24,
      "outputs": [
        {
          "output_type": "display_data",
          "data": {
            "text/html": [
              "<html>\n",
              "<head><meta charset=\"utf-8\" /></head>\n",
              "<body>\n",
              "    <div>\n",
              "            <script src=\"https://cdnjs.cloudflare.com/ajax/libs/mathjax/2.7.5/MathJax.js?config=TeX-AMS-MML_SVG\"></script><script type=\"text/javascript\">if (window.MathJax) {MathJax.Hub.Config({SVG: {font: \"STIX-Web\"}});}</script>\n",
              "                <script type=\"text/javascript\">window.PlotlyConfig = {MathJaxConfig: 'local'};</script>\n",
              "        <script src=\"https://cdn.plot.ly/plotly-latest.min.js\"></script>    \n",
              "            <div id=\"23413a89-4e31-4c7b-bf58-955bc3791211\" class=\"plotly-graph-div\" style=\"height:525px; width:700px;\"></div>\n",
              "            <script type=\"text/javascript\">\n",
              "                \n",
              "                    window.PLOTLYENV=window.PLOTLYENV || {};\n",
              "                    \n",
              "                if (document.getElementById(\"23413a89-4e31-4c7b-bf58-955bc3791211\")) {\n",
              "                    Plotly.newPlot(\n",
              "                        '23413a89-4e31-4c7b-bf58-955bc3791211',\n",
              "                        [{\"hoverlabel\": {\"namelength\": 0}, \"hovertemplate\": \"target=%{marker.color}<br>pca_1=%{x}<br>pca_2=%{y}<br>pca_3=%{z}\", \"legendgroup\": \"target=0.0\", \"marker\": {\"color\": [0.0, 0.0, 0.0, 0.0, 0.0, 0.0, 0.0, 0.0, 0.0, 0.0, 0.0, 0.0, 0.0, 0.0, 0.0, 0.0, 0.0, 0.0, 0.0, 0.0, 0.0, 0.0, 0.0, 0.0, 0.0, 0.0, 0.0, 0.0, 0.0, 0.0, 0.0, 0.0, 0.0, 0.0, 0.0, 0.0, 0.0, 0.0, 0.0, 0.0, 0.0, 0.0, 0.0, 0.0, 0.0, 0.0, 0.0, 0.0, 0.0, 0.0], \"coloraxis\": \"coloraxis\", \"opacity\": 0.7, \"symbol\": \"circle\"}, \"mode\": \"markers\", \"name\": \"target=0.0\", \"scene\": \"scene\", \"showlegend\": true, \"type\": \"scatter3d\", \"x\": [-2.2647028088075962, -2.0809611519657683, -2.3642290538903006, -2.299384217042709, -2.389842166313845, -2.0756309481765123, -2.4440288351341533, -2.2328471588720156, -2.334640477907622, -2.1843281749339427, -2.1663101007013226, -2.3261308664426994, -2.2184508988224096, -2.633100695765229, -2.19874060326669, -2.262214531601021, -2.207587695824593, -2.190349509192299, -1.898571995802842, -2.3433690530749938, -1.914322996082568, -2.207012843194798, -2.774344702927333, -1.818669528695849, -2.2271633057066396, -1.9518463309003766, -2.0511513727294157, -2.168577174654217, -2.139563451301332, -2.2652614931542416, -2.1401221356479847, -1.8315947706760285, -2.614947935858935, -2.446177391696515, -2.109974875318653, -2.207808899078266, -2.0451462067542012, -2.5273319131704866, -2.4296325750845473, -2.169710711630664, -2.2864751433456707, -1.8581224563735714, -2.5536383956143567, -1.9644476837637412, -2.1370590058116234, -2.06974429959183, -2.3847331657782633, -2.3943763142196337, -2.229446547942675, -2.203833435519131], \"y\": [0.48002659652098845, -0.6741335566053535, -0.34190802388467617, -0.597394507674676, 0.6468353829020274, 1.4891775233211668, 0.047644197630014214, 0.22314807268959172, -1.1153276754616666, -0.46901356140237593, 1.0436906530538599, 0.13307833523923154, -0.728676165316571, -0.9615067291701631, 1.8600571132939314, 2.6862844851105923, 1.4836093631555727, 0.4888383164863276, 1.4050187944665495, 1.1278493819084767, 0.4088557077559061, 0.9241214267468988, 0.4583436677529156, 0.08555852628736624, 0.13725445536342712, -0.6256185877766768, 0.2421635526616672, 0.5271495253082672, 0.31321781013995187, -0.33773190376048073, -0.5045406901415185, 0.42369506760378595, 1.793575856104429, 2.150727877392924, -0.4602018414370375, -0.20610739768843694, 0.6615581114631083, 0.5922927741908095, -0.9041800403761481, 0.2688789614354709, 0.4417153876990501, -2.337415157553349, -0.47910069012231404, 0.47232666771926096, 1.1422292620394092, -0.7110527253858941, 1.1204297019845368, -0.3862468725891574, 0.9979597643079806, 0.009216357521276194], \"z\": [-0.12770602230015693, -0.23460885398456796, 0.04420148483874489, 0.09129010632068192, 0.015738195676258632, 0.026968294439781614, 0.3354704011431137, -0.0886954979477264, 0.14507686363699987, -0.2537655673000065, -0.2686811022161348, 0.09375924438111159, -0.2309112372066025, 0.180796084403179, -0.47290099787307666, 0.030526609265510513, -0.005344094078264253, -0.044215316478453795, -0.37434327455765465, 0.1326304667813021, -0.4212925940873566, 0.15986527722625277, 0.3321790975568659, 0.03448859579998134, 0.11799353576964579, -0.3056409823252076, 0.08636401082518226, -0.2068162477703047, -0.27115024027656437, 0.0684357762272782, -0.07500844174913289, -0.2704673767029821, 0.04722841866848565, -0.08266804506156811, -0.17027486147830798, -0.22544158008975695, -0.4845374098283167, 0.01943581245422292, 0.19325466188423665, -0.17588382054738916, 0.03489490899169739, -0.2042342225309649, 0.3057664526377331, 0.30960131784532763, 0.2484335611210466, -0.06392982556320546, 0.05721785808911494, 0.13946790456791894, -0.181492779616471, -0.1530294904539861]}, {\"hoverlabel\": {\"namelength\": 0}, \"hovertemplate\": \"target=%{marker.color}<br>pca_1=%{x}<br>pca_2=%{y}<br>pca_3=%{z}\", \"legendgroup\": \"target=1.0\", \"marker\": {\"color\": [1.0, 1.0, 1.0, 1.0, 1.0, 1.0, 1.0, 1.0, 1.0, 1.0, 1.0, 1.0, 1.0, 1.0, 1.0, 1.0, 1.0, 1.0, 1.0, 1.0, 1.0, 1.0, 1.0, 1.0, 1.0, 1.0, 1.0, 1.0, 1.0, 1.0, 1.0, 1.0, 1.0, 1.0, 1.0, 1.0, 1.0, 1.0, 1.0, 1.0, 1.0, 1.0, 1.0, 1.0, 1.0, 1.0, 1.0, 1.0, 1.0, 1.0], \"coloraxis\": \"coloraxis\", \"opacity\": 0.7, \"symbol\": \"diamond\"}, \"mode\": \"markers\", \"name\": \"target=1.0\", \"scene\": \"scene\", \"showlegend\": true, \"type\": \"scatter3d\", \"x\": [1.1017811830529487, 0.7313374253960883, 1.2409793195158325, 0.40748305881738545, 1.0754747006090792, 0.38868733653566523, 0.7465297413291615, -0.4873227421256398, 0.9279016383549465, 0.011426188736980135, -0.11019628000062902, 0.44069344898307883, 0.5621083064431794, 0.7195618886754972, -0.03335470317877198, 0.8754071908577387, 0.3502516679950831, 0.1588100475479715, 1.2250936335624325, 0.1649178993863276, 0.7376826487712588, 0.4762871909409719, 1.23417809765715, 0.6328581997098222, 0.7026611831361831, 0.8742736538812915, 1.2565091165418847, 1.3584051214406332, 0.6648003672253953, -0.04025861090059523, 0.13079517549786088, 0.023452688970551062, 0.24153827295451125, 1.0610946088426148, 0.2239787735123796, 0.4291391155161612, 1.0487280512090886, 1.04453138439628, 0.06958832111642312, 0.28347723828757554, 0.2790777760554609, 0.6245697914985721, 0.3365303701314363, -0.3621833846193835, 0.28858623882315765, 0.0913606556545055, 0.22771686553470033, 0.5763882886534792, -0.44766701902861156, 0.25673058888758504], \"y\": [0.862972418262159, 0.5946147256694247, 0.6162976544374986, -1.7544039893234114, -0.20842104605096534, -0.5932836359900753, 0.7730193120985969, -1.8524290868575748, 0.03222607789115382, -1.034018275129441, -2.6540728185365654, -0.06329518843800135, -1.7647243806169455, -0.18622460583150582, -0.4390032099816246, 0.5090639567734088, -0.19631173455144407, -0.7920957424327216, -1.622243803091502, -1.302609230295773, 0.3965715619602392, -0.4173202812135508, -0.9333257287992788, -0.4163877208890996, -0.06341181972480012, 0.25079339290061226, -0.07725601969586891, 0.3313116817908983, -0.2259278546948436, -1.0587185465539086, -1.562271834209968, -1.5724755942167052, -0.7772563825848416, -0.6338432447349469, -0.2877735120432024, 0.8455822409050792, 0.5220517968629429, -1.3829887191907821, -0.21950333464771507, -1.3293246390695768, -1.120028523742404, 0.024923029254012633, -0.9884040176703606, -2.019237873238612, -0.8557303199870664, -0.18119212582577537, -0.38492008098735386, -0.15487359721655886, -1.5437920343977565, -0.5988517961556694], \"z\": [-0.6845861626897368, -0.09412171552908227, -0.5540068353861008, -0.023101767813801515, -0.39825552250622664, 0.12419154951817014, 0.14896940252805102, 0.24926526578924932, -0.5961693613725384, 0.5388993901843677, -0.04679044405838323, 0.20507381532720287, -0.7657713936539614, -0.06865894542301254, 0.194932893328979, -0.5035113816560302, 0.49087307451472745, -0.3020371744413824, -0.4823040240972376, -0.1728378084328765, 0.6165263063228639, -0.26495222652803935, -0.3684122720486101, -0.29189625244315787, -0.446027007561747, -0.47257895443311454, -0.7271550018678918, -0.26082657679061383, 0.08586388873932607, -0.3195733299955364, -0.14998347833947343, -0.2415522812906835, -0.1512119570570081, 0.10531138658459725, 0.6652497197140529, 0.45063407144476575, -0.39578638444579717, -0.6882959600930609, 0.29157927435328435, 0.08941002293969495, 0.09448760101279027, -0.02048114717577578, -0.19938975530424488, 0.10582104781283835, 0.1308896853525515, 0.12897834306143352, 0.15621315350638404, -0.27165036236242046, 0.19040093039983647, 0.09187916100012435]}, {\"hoverlabel\": {\"namelength\": 0}, \"hovertemplate\": \"target=%{marker.color}<br>pca_1=%{x}<br>pca_2=%{y}<br>pca_3=%{z}\", \"legendgroup\": \"target=2.0\", \"marker\": {\"color\": [2.0, 2.0, 2.0, 2.0, 2.0, 2.0, 2.0, 2.0, 2.0, 2.0, 2.0, 2.0, 2.0, 2.0, 2.0, 2.0, 2.0, 2.0, 2.0, 2.0, 2.0, 2.0, 2.0, 2.0, 2.0, 2.0, 2.0, 2.0, 2.0, 2.0, 2.0, 2.0, 2.0, 2.0, 2.0, 2.0, 2.0, 2.0, 2.0, 2.0, 2.0, 2.0, 2.0, 2.0, 2.0, 2.0, 2.0, 2.0, 2.0, 2.0], \"coloraxis\": \"coloraxis\", \"opacity\": 0.7, \"symbol\": \"square\"}, \"mode\": \"markers\", \"name\": \"target=2.0\", \"scene\": \"scene\", \"showlegend\": true, \"type\": \"scatter3d\", \"x\": [1.8445688677230303, 1.1578816132057803, 2.20526679107538, 1.4401506638275403, 1.867812220330539, 2.7518733356662795, 0.3670176878607246, 2.3024394446251994, 2.006686467676607, 2.2597773490125026, 1.364175492186009, 1.6026786704779319, 1.8839007017032443, 1.2601150991975083, 1.4676452010173249, 1.5900773176145668, 1.4714314611333195, 2.4263289873157023, 3.31069558393389, 1.2637666736398292, 2.0377163014694064, 0.9779807342494222, 2.8976514907341713, 1.3332321759732098, 1.7007338974912185, 1.9543267058530729, 1.1751036315549332, 1.0209505506957919, 1.788349920179667, 1.8636475533282626, 2.4359537279227057, 2.3049277218317665, 1.862703219794957, 1.1141477406864755, 1.2024733016783917, 2.7987704475781103, 1.5762559101947553, 1.3462921036270628, 0.9248249165424202, 1.8520450517676719, 2.0148104299548772, 1.901784090262191, 1.1578816132057803, 2.0405582280520944, 1.9981470959523777, 1.8705032929564123, 1.5645804830303291, 1.521170499627839, 1.3727877895140739, 0.9606560300371285], \"y\": [0.8704213123248238, -0.6988698623306903, 0.5620104770083558, -0.04698758810580656, 0.29504482445701996, 0.8004092010275421, -1.5615028914765063, 0.42006557964277635, -0.711438653547159, 1.9210103764598871, 0.6927564544903874, -0.4217004497726171, 0.4192496506051238, -1.1622604214064634, -0.44227158737708216, 0.6762448057233205, 0.2556218244714706, 2.556661250795492, 0.01778094932062698, -1.706745380376268, 0.9104674096183113, -0.5717643248129917, 0.4136410595956476, -0.4818112186494293, 1.0139218673227917, 1.0077775961534527, -0.31639447230979095, 0.06434602923956201, -0.18736121459082863, 0.5622907258861447, 0.25928443314428035, 2.626323468232379, -0.17854949462549016, -0.29292262333573144, -0.8113152708396693, 0.8568033294971058, 1.0685811073208082, 0.42243061085250844, 0.01722310045228429, 0.676128174436522, 0.6138856369235756, 0.6895754942430032, -0.6988698623306903, 0.8675206009552289, 1.0491687471841455, 0.386966081665726, -0.8966868088965264, 0.26906914427795187, 1.0112544185267935, -0.024331668169399266], \"z\": [1.005401017606987, 0.5301601492490194, -0.20291416973686852, 0.16363010683005855, 0.3956283745532976, -0.5823091028286044, 0.9868932674720252, -0.6517064392599933, -0.39399057081656447, 0.39755189746977393, 0.28461207375681646, 0.02318640791006275, 0.026338409544075105, 0.5802492897873729, 1.0038695737342602, 0.6384287080805979, 0.03743125987796868, -0.12788145946307244, -0.703305303903329, -0.2675368932503538, 0.23479948360032768, 0.8281272013877699, -0.8574218248739516, -0.0054283638300178065, 0.2984506125330053, -0.41998472191862013, 0.12993775701688154, 0.3377159674995531, 0.2706580063187424, -0.7156341185745366, -0.7278161456737295, -0.49347380769433047, 0.354148712140441, -0.1834883916593428, -0.16472375738765394, -0.5429064994324281, 0.945853818643991, 0.18087547785437977, 0.4168261929697045, -0.01267211480835184, 0.4283328421150931, 0.1300750054465105, 0.5301601492490194, 0.3381440004590144, 0.6324134358197994, 0.25627385239860045, -0.026371351632304366, 0.1801783801328315, 0.9333952411629322, 0.5282488069579018]}],\n",
              "                        {\"coloraxis\": {\"colorbar\": {\"title\": {\"text\": \"target\"}}, \"colorscale\": [[0.0, \"#0d0887\"], [0.1111111111111111, \"#46039f\"], [0.2222222222222222, \"#7201a8\"], [0.3333333333333333, \"#9c179e\"], [0.4444444444444444, \"#bd3786\"], [0.5555555555555556, \"#d8576b\"], [0.6666666666666666, \"#ed7953\"], [0.7777777777777778, \"#fb9f3a\"], [0.8888888888888888, \"#fdca26\"], [1.0, \"#f0f921\"]]}, \"legend\": {\"tracegroupgap\": 0}, \"margin\": {\"t\": 60}, \"scene\": {\"domain\": {\"x\": [0.0, 1.0], \"y\": [0.0, 1.0]}, \"xaxis\": {\"title\": {\"text\": \"pca_1\"}}, \"yaxis\": {\"title\": {\"text\": \"pca_2\"}}, \"zaxis\": {\"title\": {\"text\": \"pca_3\"}}}, \"template\": {\"data\": {\"bar\": [{\"error_x\": {\"color\": \"#2a3f5f\"}, \"error_y\": {\"color\": \"#2a3f5f\"}, \"marker\": {\"line\": {\"color\": \"#E5ECF6\", \"width\": 0.5}}, \"type\": \"bar\"}], \"barpolar\": [{\"marker\": {\"line\": {\"color\": \"#E5ECF6\", \"width\": 0.5}}, \"type\": \"barpolar\"}], \"carpet\": [{\"aaxis\": {\"endlinecolor\": \"#2a3f5f\", \"gridcolor\": \"white\", \"linecolor\": \"white\", \"minorgridcolor\": \"white\", \"startlinecolor\": \"#2a3f5f\"}, \"baxis\": {\"endlinecolor\": \"#2a3f5f\", \"gridcolor\": \"white\", \"linecolor\": \"white\", \"minorgridcolor\": \"white\", \"startlinecolor\": \"#2a3f5f\"}, \"type\": \"carpet\"}], \"choropleth\": [{\"colorbar\": {\"outlinewidth\": 0, \"ticks\": \"\"}, \"type\": \"choropleth\"}], \"contour\": [{\"colorbar\": {\"outlinewidth\": 0, \"ticks\": \"\"}, \"colorscale\": [[0.0, \"#0d0887\"], [0.1111111111111111, \"#46039f\"], [0.2222222222222222, \"#7201a8\"], [0.3333333333333333, \"#9c179e\"], [0.4444444444444444, \"#bd3786\"], [0.5555555555555556, \"#d8576b\"], [0.6666666666666666, \"#ed7953\"], [0.7777777777777778, \"#fb9f3a\"], [0.8888888888888888, \"#fdca26\"], [1.0, \"#f0f921\"]], \"type\": \"contour\"}], \"contourcarpet\": [{\"colorbar\": {\"outlinewidth\": 0, \"ticks\": \"\"}, \"type\": \"contourcarpet\"}], \"heatmap\": [{\"colorbar\": {\"outlinewidth\": 0, \"ticks\": \"\"}, \"colorscale\": [[0.0, \"#0d0887\"], [0.1111111111111111, \"#46039f\"], [0.2222222222222222, \"#7201a8\"], [0.3333333333333333, \"#9c179e\"], [0.4444444444444444, \"#bd3786\"], [0.5555555555555556, \"#d8576b\"], [0.6666666666666666, \"#ed7953\"], [0.7777777777777778, \"#fb9f3a\"], [0.8888888888888888, \"#fdca26\"], [1.0, \"#f0f921\"]], \"type\": \"heatmap\"}], \"heatmapgl\": [{\"colorbar\": {\"outlinewidth\": 0, \"ticks\": \"\"}, \"colorscale\": [[0.0, \"#0d0887\"], [0.1111111111111111, \"#46039f\"], [0.2222222222222222, \"#7201a8\"], [0.3333333333333333, \"#9c179e\"], [0.4444444444444444, \"#bd3786\"], [0.5555555555555556, \"#d8576b\"], [0.6666666666666666, \"#ed7953\"], [0.7777777777777778, \"#fb9f3a\"], [0.8888888888888888, \"#fdca26\"], [1.0, \"#f0f921\"]], \"type\": \"heatmapgl\"}], \"histogram\": [{\"marker\": {\"colorbar\": {\"outlinewidth\": 0, \"ticks\": \"\"}}, \"type\": \"histogram\"}], \"histogram2d\": [{\"colorbar\": {\"outlinewidth\": 0, \"ticks\": \"\"}, \"colorscale\": [[0.0, \"#0d0887\"], [0.1111111111111111, \"#46039f\"], [0.2222222222222222, \"#7201a8\"], [0.3333333333333333, \"#9c179e\"], [0.4444444444444444, \"#bd3786\"], [0.5555555555555556, \"#d8576b\"], [0.6666666666666666, \"#ed7953\"], [0.7777777777777778, \"#fb9f3a\"], [0.8888888888888888, \"#fdca26\"], [1.0, \"#f0f921\"]], \"type\": \"histogram2d\"}], \"histogram2dcontour\": [{\"colorbar\": {\"outlinewidth\": 0, \"ticks\": \"\"}, \"colorscale\": [[0.0, \"#0d0887\"], [0.1111111111111111, \"#46039f\"], [0.2222222222222222, \"#7201a8\"], [0.3333333333333333, \"#9c179e\"], [0.4444444444444444, \"#bd3786\"], [0.5555555555555556, \"#d8576b\"], [0.6666666666666666, \"#ed7953\"], [0.7777777777777778, \"#fb9f3a\"], [0.8888888888888888, \"#fdca26\"], [1.0, \"#f0f921\"]], \"type\": \"histogram2dcontour\"}], \"mesh3d\": [{\"colorbar\": {\"outlinewidth\": 0, \"ticks\": \"\"}, \"type\": \"mesh3d\"}], \"parcoords\": [{\"line\": {\"colorbar\": {\"outlinewidth\": 0, \"ticks\": \"\"}}, \"type\": \"parcoords\"}], \"pie\": [{\"automargin\": true, \"type\": \"pie\"}], \"scatter\": [{\"marker\": {\"colorbar\": {\"outlinewidth\": 0, \"ticks\": \"\"}}, \"type\": \"scatter\"}], \"scatter3d\": [{\"line\": {\"colorbar\": {\"outlinewidth\": 0, \"ticks\": \"\"}}, \"marker\": {\"colorbar\": {\"outlinewidth\": 0, \"ticks\": \"\"}}, \"type\": \"scatter3d\"}], \"scattercarpet\": [{\"marker\": {\"colorbar\": {\"outlinewidth\": 0, \"ticks\": \"\"}}, \"type\": \"scattercarpet\"}], \"scattergeo\": [{\"marker\": {\"colorbar\": {\"outlinewidth\": 0, \"ticks\": \"\"}}, \"type\": \"scattergeo\"}], \"scattergl\": [{\"marker\": {\"colorbar\": {\"outlinewidth\": 0, \"ticks\": \"\"}}, \"type\": \"scattergl\"}], \"scattermapbox\": [{\"marker\": {\"colorbar\": {\"outlinewidth\": 0, \"ticks\": \"\"}}, \"type\": \"scattermapbox\"}], \"scatterpolar\": [{\"marker\": {\"colorbar\": {\"outlinewidth\": 0, \"ticks\": \"\"}}, \"type\": \"scatterpolar\"}], \"scatterpolargl\": [{\"marker\": {\"colorbar\": {\"outlinewidth\": 0, \"ticks\": \"\"}}, \"type\": \"scatterpolargl\"}], \"scatterternary\": [{\"marker\": {\"colorbar\": {\"outlinewidth\": 0, \"ticks\": \"\"}}, \"type\": \"scatterternary\"}], \"surface\": [{\"colorbar\": {\"outlinewidth\": 0, \"ticks\": \"\"}, \"colorscale\": [[0.0, \"#0d0887\"], [0.1111111111111111, \"#46039f\"], [0.2222222222222222, \"#7201a8\"], [0.3333333333333333, \"#9c179e\"], [0.4444444444444444, \"#bd3786\"], [0.5555555555555556, \"#d8576b\"], [0.6666666666666666, \"#ed7953\"], [0.7777777777777778, \"#fb9f3a\"], [0.8888888888888888, \"#fdca26\"], [1.0, \"#f0f921\"]], \"type\": \"surface\"}], \"table\": [{\"cells\": {\"fill\": {\"color\": \"#EBF0F8\"}, \"line\": {\"color\": \"white\"}}, \"header\": {\"fill\": {\"color\": \"#C8D4E3\"}, \"line\": {\"color\": \"white\"}}, \"type\": \"table\"}]}, \"layout\": {\"annotationdefaults\": {\"arrowcolor\": \"#2a3f5f\", \"arrowhead\": 0, \"arrowwidth\": 1}, \"coloraxis\": {\"colorbar\": {\"outlinewidth\": 0, \"ticks\": \"\"}}, \"colorscale\": {\"diverging\": [[0, \"#8e0152\"], [0.1, \"#c51b7d\"], [0.2, \"#de77ae\"], [0.3, \"#f1b6da\"], [0.4, \"#fde0ef\"], [0.5, \"#f7f7f7\"], [0.6, \"#e6f5d0\"], [0.7, \"#b8e186\"], [0.8, \"#7fbc41\"], [0.9, \"#4d9221\"], [1, \"#276419\"]], \"sequential\": [[0.0, \"#0d0887\"], [0.1111111111111111, \"#46039f\"], [0.2222222222222222, \"#7201a8\"], [0.3333333333333333, \"#9c179e\"], [0.4444444444444444, \"#bd3786\"], [0.5555555555555556, \"#d8576b\"], [0.6666666666666666, \"#ed7953\"], [0.7777777777777778, \"#fb9f3a\"], [0.8888888888888888, \"#fdca26\"], [1.0, \"#f0f921\"]], \"sequentialminus\": [[0.0, \"#0d0887\"], [0.1111111111111111, \"#46039f\"], [0.2222222222222222, \"#7201a8\"], [0.3333333333333333, \"#9c179e\"], [0.4444444444444444, \"#bd3786\"], [0.5555555555555556, \"#d8576b\"], [0.6666666666666666, \"#ed7953\"], [0.7777777777777778, \"#fb9f3a\"], [0.8888888888888888, \"#fdca26\"], [1.0, \"#f0f921\"]]}, \"colorway\": [\"#636efa\", \"#EF553B\", \"#00cc96\", \"#ab63fa\", \"#FFA15A\", \"#19d3f3\", \"#FF6692\", \"#B6E880\", \"#FF97FF\", \"#FECB52\"], \"font\": {\"color\": \"#2a3f5f\"}, \"geo\": {\"bgcolor\": \"white\", \"lakecolor\": \"white\", \"landcolor\": \"#E5ECF6\", \"showlakes\": true, \"showland\": true, \"subunitcolor\": \"white\"}, \"hoverlabel\": {\"align\": \"left\"}, \"hovermode\": \"closest\", \"mapbox\": {\"style\": \"light\"}, \"paper_bgcolor\": \"white\", \"plot_bgcolor\": \"#E5ECF6\", \"polar\": {\"angularaxis\": {\"gridcolor\": \"white\", \"linecolor\": \"white\", \"ticks\": \"\"}, \"bgcolor\": \"#E5ECF6\", \"radialaxis\": {\"gridcolor\": \"white\", \"linecolor\": \"white\", \"ticks\": \"\"}}, \"scene\": {\"xaxis\": {\"backgroundcolor\": \"#E5ECF6\", \"gridcolor\": \"white\", \"gridwidth\": 2, \"linecolor\": \"white\", \"showbackground\": true, \"ticks\": \"\", \"zerolinecolor\": \"white\"}, \"yaxis\": {\"backgroundcolor\": \"#E5ECF6\", \"gridcolor\": \"white\", \"gridwidth\": 2, \"linecolor\": \"white\", \"showbackground\": true, \"ticks\": \"\", \"zerolinecolor\": \"white\"}, \"zaxis\": {\"backgroundcolor\": \"#E5ECF6\", \"gridcolor\": \"white\", \"gridwidth\": 2, \"linecolor\": \"white\", \"showbackground\": true, \"ticks\": \"\", \"zerolinecolor\": \"white\"}}, \"shapedefaults\": {\"line\": {\"color\": \"#2a3f5f\"}}, \"ternary\": {\"aaxis\": {\"gridcolor\": \"white\", \"linecolor\": \"white\", \"ticks\": \"\"}, \"baxis\": {\"gridcolor\": \"white\", \"linecolor\": \"white\", \"ticks\": \"\"}, \"bgcolor\": \"#E5ECF6\", \"caxis\": {\"gridcolor\": \"white\", \"linecolor\": \"white\", \"ticks\": \"\"}}, \"title\": {\"x\": 0.05}, \"xaxis\": {\"automargin\": true, \"gridcolor\": \"white\", \"linecolor\": \"white\", \"ticks\": \"\", \"title\": {\"standoff\": 15}, \"zerolinecolor\": \"white\", \"zerolinewidth\": 2}, \"yaxis\": {\"automargin\": true, \"gridcolor\": \"white\", \"linecolor\": \"white\", \"ticks\": \"\", \"title\": {\"standoff\": 15}, \"zerolinecolor\": \"white\", \"zerolinewidth\": 2}}}, \"width\": 700},\n",
              "                        {\"responsive\": true}\n",
              "                    ).then(function(){\n",
              "                            \n",
              "var gd = document.getElementById('23413a89-4e31-4c7b-bf58-955bc3791211');\n",
              "var x = new MutationObserver(function (mutations, observer) {{\n",
              "        var display = window.getComputedStyle(gd).display;\n",
              "        if (!display || display === 'none') {{\n",
              "            console.log([gd, 'removed!']);\n",
              "            Plotly.purge(gd);\n",
              "            observer.disconnect();\n",
              "        }}\n",
              "}});\n",
              "\n",
              "// Listen for the removal of the full notebook cells\n",
              "var notebookContainer = gd.closest('#notebook-container');\n",
              "if (notebookContainer) {{\n",
              "    x.observe(notebookContainer, {childList: true});\n",
              "}}\n",
              "\n",
              "// Listen for the clearing of the current output cell\n",
              "var outputEl = gd.closest('.output');\n",
              "if (outputEl) {{\n",
              "    x.observe(outputEl, {childList: true});\n",
              "}}\n",
              "\n",
              "                        })\n",
              "                };\n",
              "                \n",
              "            </script>\n",
              "        </div>\n",
              "</body>\n",
              "</html>"
            ]
          },
          "metadata": {
            "tags": []
          }
        }
      ]
    },
    {
      "cell_type": "code",
      "metadata": {
        "id": "MgK4ftXjHRPd",
        "colab_type": "code",
        "colab": {}
      },
      "source": [
        ""
      ],
      "execution_count": 0,
      "outputs": []
    }
  ]
}