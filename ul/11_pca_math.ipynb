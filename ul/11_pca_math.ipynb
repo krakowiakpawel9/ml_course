{
  "nbformat": 4,
  "nbformat_minor": 0,
  "metadata": {
    "colab": {
      "name": "Untitled71.ipynb",
      "provenance": [],
      "include_colab_link": true
    },
    "kernelspec": {
      "name": "python3",
      "display_name": "Python 3"
    }
  },
  "cells": [
    {
      "cell_type": "markdown",
      "metadata": {
        "id": "view-in-github",
        "colab_type": "text"
      },
      "source": [
        "<a href=\"https://colab.research.google.com/github/krakowiakpawel9/ml_course/blob/master/ul/11_pca_math.ipynb\" target=\"_parent\"><img src=\"https://colab.research.google.com/assets/colab-badge.svg\" alt=\"Open In Colab\"/></a>"
      ]
    },
    {
      "cell_type": "markdown",
      "metadata": {
        "id": "C80St0V-_VIi",
        "colab_type": "text"
      },
      "source": [
        "### scikit-learn\n",
        "Strona biblioteki: [https://scikit-learn.org](https://scikit-learn.org)  \n",
        "\n",
        "Dokumentacja/User Guide: [https://scikit-learn.org/stable/user_guide.html](https://scikit-learn.org/stable/user_guide.html)\n",
        "\n",
        "Podstawowa biblioteka do uczenia maszynowego w języku Python.\n",
        "\n",
        "Aby zainstalować bibliotekę scikit-learn, użyj polecenia poniżej:\n",
        "```\n",
        "!pip install scikit-learn\n",
        "```\n",
        "Aby zaktualizować do najnowszej wersji bibliotekę scikit-learn, użyj polecenia poniżej:\n",
        "```\n",
        "!pip install --upgrade scikit-learn\n",
        "```\n",
        "Kurs stworzony w oparciu o wersję `0.22.1`\n",
        "\n",
        "### Spis treści:\n",
        "1. [Import bibliotek](#0)\n",
        "2. [Wygenerowanie danych](#1)\n",
        "3. [Wizualizacja danych](#2)\n",
        "4. [Algorytm K-średnich](#3)\n",
        "5. [Wizualizacja klastrów](#4)\n",
        "\n",
        "\n"
      ]
    },
    {
      "cell_type": "markdown",
      "metadata": {
        "id": "dCogYvFX_YD4",
        "colab_type": "text"
      },
      "source": [
        "### <a name='0'></a> Import bibliotek"
      ]
    },
    {
      "cell_type": "code",
      "metadata": {
        "id": "0VLpyDxWU7qi",
        "colab_type": "code",
        "colab": {}
      },
      "source": [
        "import pandas as pd\n",
        "import numpy as np\n",
        "import matplotlib.pyplot as plt\n",
        "import plotly.graph_objects as go\n",
        "import plotly.express as px\n",
        "\n",
        "np.set_printoptions(precision=8, suppress=True, edgeitems=5, linewidth=200)"
      ],
      "execution_count": 0,
      "outputs": []
    },
    {
      "cell_type": "code",
      "metadata": {
        "id": "dktaajNto95U",
        "colab_type": "code",
        "colab": {}
      },
      "source": [
        "from sklearn.datasets import load_iris"
      ],
      "execution_count": 0,
      "outputs": []
    },
    {
      "cell_type": "code",
      "metadata": {
        "id": "z0yk5XkYpFFN",
        "colab_type": "code",
        "colab": {}
      },
      "source": [
        "raw_data = load_iris()\n",
        "data = raw_data['data']\n",
        "target = raw_data['target']\n",
        "feature_names = list(raw_data['feature_names'])"
      ],
      "execution_count": 0,
      "outputs": []
    },
    {
      "cell_type": "code",
      "metadata": {
        "id": "iQo1rhgFpoOV",
        "colab_type": "code",
        "colab": {
          "base_uri": "https://localhost:8080/",
          "height": 34
        },
        "outputId": "d9427dc2-b384-43a1-9209-85433ffadc2a"
      },
      "source": [
        "raw_data['target_names']"
      ],
      "execution_count": 4,
      "outputs": [
        {
          "output_type": "execute_result",
          "data": {
            "text/plain": [
              "array(['setosa', 'versicolor', 'virginica'], dtype='<U10')"
            ]
          },
          "metadata": {
            "tags": []
          },
          "execution_count": 4
        }
      ]
    },
    {
      "cell_type": "code",
      "metadata": {
        "id": "Mp1I3HCupGH3",
        "colab_type": "code",
        "colab": {
          "base_uri": "https://localhost:8080/",
          "height": 402
        },
        "outputId": "557d90b4-bbb0-46ad-dcc2-568772c36b65"
      },
      "source": [
        "df = pd.DataFrame(data=np.c_[data, target], columns=feature_names + ['class'])\n",
        "df['class'] = df['class'].map({0.0: 'setosa', 1.0: 'versicolor', 2.0: 'virginica'})\n",
        "df"
      ],
      "execution_count": 5,
      "outputs": [
        {
          "output_type": "execute_result",
          "data": {
            "text/html": [
              "<div>\n",
              "<style scoped>\n",
              "    .dataframe tbody tr th:only-of-type {\n",
              "        vertical-align: middle;\n",
              "    }\n",
              "\n",
              "    .dataframe tbody tr th {\n",
              "        vertical-align: top;\n",
              "    }\n",
              "\n",
              "    .dataframe thead th {\n",
              "        text-align: right;\n",
              "    }\n",
              "</style>\n",
              "<table border=\"1\" class=\"dataframe\">\n",
              "  <thead>\n",
              "    <tr style=\"text-align: right;\">\n",
              "      <th></th>\n",
              "      <th>sepal length (cm)</th>\n",
              "      <th>sepal width (cm)</th>\n",
              "      <th>petal length (cm)</th>\n",
              "      <th>petal width (cm)</th>\n",
              "      <th>class</th>\n",
              "    </tr>\n",
              "  </thead>\n",
              "  <tbody>\n",
              "    <tr>\n",
              "      <th>0</th>\n",
              "      <td>5.1</td>\n",
              "      <td>3.5</td>\n",
              "      <td>1.4</td>\n",
              "      <td>0.2</td>\n",
              "      <td>setosa</td>\n",
              "    </tr>\n",
              "    <tr>\n",
              "      <th>1</th>\n",
              "      <td>4.9</td>\n",
              "      <td>3.0</td>\n",
              "      <td>1.4</td>\n",
              "      <td>0.2</td>\n",
              "      <td>setosa</td>\n",
              "    </tr>\n",
              "    <tr>\n",
              "      <th>2</th>\n",
              "      <td>4.7</td>\n",
              "      <td>3.2</td>\n",
              "      <td>1.3</td>\n",
              "      <td>0.2</td>\n",
              "      <td>setosa</td>\n",
              "    </tr>\n",
              "    <tr>\n",
              "      <th>3</th>\n",
              "      <td>4.6</td>\n",
              "      <td>3.1</td>\n",
              "      <td>1.5</td>\n",
              "      <td>0.2</td>\n",
              "      <td>setosa</td>\n",
              "    </tr>\n",
              "    <tr>\n",
              "      <th>4</th>\n",
              "      <td>5.0</td>\n",
              "      <td>3.6</td>\n",
              "      <td>1.4</td>\n",
              "      <td>0.2</td>\n",
              "      <td>setosa</td>\n",
              "    </tr>\n",
              "    <tr>\n",
              "      <th>...</th>\n",
              "      <td>...</td>\n",
              "      <td>...</td>\n",
              "      <td>...</td>\n",
              "      <td>...</td>\n",
              "      <td>...</td>\n",
              "    </tr>\n",
              "    <tr>\n",
              "      <th>145</th>\n",
              "      <td>6.7</td>\n",
              "      <td>3.0</td>\n",
              "      <td>5.2</td>\n",
              "      <td>2.3</td>\n",
              "      <td>virginica</td>\n",
              "    </tr>\n",
              "    <tr>\n",
              "      <th>146</th>\n",
              "      <td>6.3</td>\n",
              "      <td>2.5</td>\n",
              "      <td>5.0</td>\n",
              "      <td>1.9</td>\n",
              "      <td>virginica</td>\n",
              "    </tr>\n",
              "    <tr>\n",
              "      <th>147</th>\n",
              "      <td>6.5</td>\n",
              "      <td>3.0</td>\n",
              "      <td>5.2</td>\n",
              "      <td>2.0</td>\n",
              "      <td>virginica</td>\n",
              "    </tr>\n",
              "    <tr>\n",
              "      <th>148</th>\n",
              "      <td>6.2</td>\n",
              "      <td>3.4</td>\n",
              "      <td>5.4</td>\n",
              "      <td>2.3</td>\n",
              "      <td>virginica</td>\n",
              "    </tr>\n",
              "    <tr>\n",
              "      <th>149</th>\n",
              "      <td>5.9</td>\n",
              "      <td>3.0</td>\n",
              "      <td>5.1</td>\n",
              "      <td>1.8</td>\n",
              "      <td>virginica</td>\n",
              "    </tr>\n",
              "  </tbody>\n",
              "</table>\n",
              "<p>150 rows × 5 columns</p>\n",
              "</div>"
            ],
            "text/plain": [
              "     sepal length (cm)  sepal width (cm)  ...  petal width (cm)      class\n",
              "0                  5.1               3.5  ...               0.2     setosa\n",
              "1                  4.9               3.0  ...               0.2     setosa\n",
              "2                  4.7               3.2  ...               0.2     setosa\n",
              "3                  4.6               3.1  ...               0.2     setosa\n",
              "4                  5.0               3.6  ...               0.2     setosa\n",
              "..                 ...               ...  ...               ...        ...\n",
              "145                6.7               3.0  ...               2.3  virginica\n",
              "146                6.3               2.5  ...               1.9  virginica\n",
              "147                6.5               3.0  ...               2.0  virginica\n",
              "148                6.2               3.4  ...               2.3  virginica\n",
              "149                5.9               3.0  ...               1.8  virginica\n",
              "\n",
              "[150 rows x 5 columns]"
            ]
          },
          "metadata": {
            "tags": []
          },
          "execution_count": 5
        }
      ]
    },
    {
      "cell_type": "code",
      "metadata": {
        "id": "GkANmjKepUFm",
        "colab_type": "code",
        "colab": {}
      },
      "source": [
        "X = df.iloc[:, 0:4]\n",
        "y = df.iloc[:, -1]"
      ],
      "execution_count": 0,
      "outputs": []
    },
    {
      "cell_type": "code",
      "metadata": {
        "id": "CFI5CMDkqChf",
        "colab_type": "code",
        "colab": {
          "base_uri": "https://localhost:8080/",
          "height": 1000
        },
        "outputId": "da08ff50-d624-4877-b042-3be19583481b"
      },
      "source": [
        "from sklearn.preprocessing import StandardScaler\n",
        "\n",
        "scaler = StandardScaler()\n",
        "X_std = scaler.fit_transform(X)\n",
        "X_std"
      ],
      "execution_count": 7,
      "outputs": [
        {
          "output_type": "execute_result",
          "data": {
            "text/plain": [
              "array([[-0.90068117,  1.01900435, -1.34022653, -1.3154443 ],\n",
              "       [-1.14301691, -0.13197948, -1.34022653, -1.3154443 ],\n",
              "       [-1.38535265,  0.32841405, -1.39706395, -1.3154443 ],\n",
              "       [-1.50652052,  0.09821729, -1.2833891 , -1.3154443 ],\n",
              "       [-1.02184904,  1.24920112, -1.34022653, -1.3154443 ],\n",
              "       [-0.53717756,  1.93979142, -1.16971425, -1.05217993],\n",
              "       [-1.50652052,  0.78880759, -1.34022653, -1.18381211],\n",
              "       [-1.02184904,  0.78880759, -1.2833891 , -1.3154443 ],\n",
              "       [-1.74885626, -0.36217625, -1.34022653, -1.3154443 ],\n",
              "       [-1.14301691,  0.09821729, -1.2833891 , -1.44707648],\n",
              "       [-0.53717756,  1.47939788, -1.2833891 , -1.3154443 ],\n",
              "       [-1.26418478,  0.78880759, -1.22655167, -1.3154443 ],\n",
              "       [-1.26418478, -0.13197948, -1.34022653, -1.44707648],\n",
              "       [-1.87002413, -0.13197948, -1.51073881, -1.44707648],\n",
              "       [-0.05250608,  2.16998818, -1.45390138, -1.3154443 ],\n",
              "       [-0.17367395,  3.09077525, -1.2833891 , -1.05217993],\n",
              "       [-0.53717756,  1.93979142, -1.39706395, -1.05217993],\n",
              "       [-0.90068117,  1.01900435, -1.34022653, -1.18381211],\n",
              "       [-0.17367395,  1.70959465, -1.16971425, -1.18381211],\n",
              "       [-0.90068117,  1.70959465, -1.2833891 , -1.18381211],\n",
              "       [-0.53717756,  0.78880759, -1.16971425, -1.3154443 ],\n",
              "       [-0.90068117,  1.47939788, -1.2833891 , -1.05217993],\n",
              "       [-1.50652052,  1.24920112, -1.56757623, -1.3154443 ],\n",
              "       [-0.90068117,  0.55861082, -1.16971425, -0.92054774],\n",
              "       [-1.26418478,  0.78880759, -1.05603939, -1.3154443 ],\n",
              "       [-1.02184904, -0.13197948, -1.22655167, -1.3154443 ],\n",
              "       [-1.02184904,  0.78880759, -1.22655167, -1.05217993],\n",
              "       [-0.7795133 ,  1.01900435, -1.2833891 , -1.3154443 ],\n",
              "       [-0.7795133 ,  0.78880759, -1.34022653, -1.3154443 ],\n",
              "       [-1.38535265,  0.32841405, -1.22655167, -1.3154443 ],\n",
              "       [-1.26418478,  0.09821729, -1.22655167, -1.3154443 ],\n",
              "       [-0.53717756,  0.78880759, -1.2833891 , -1.05217993],\n",
              "       [-0.7795133 ,  2.40018495, -1.2833891 , -1.44707648],\n",
              "       [-0.41600969,  2.63038172, -1.34022653, -1.3154443 ],\n",
              "       [-1.14301691,  0.09821729, -1.2833891 , -1.3154443 ],\n",
              "       [-1.02184904,  0.32841405, -1.45390138, -1.3154443 ],\n",
              "       [-0.41600969,  1.01900435, -1.39706395, -1.3154443 ],\n",
              "       [-1.14301691,  1.24920112, -1.34022653, -1.44707648],\n",
              "       [-1.74885626, -0.13197948, -1.39706395, -1.3154443 ],\n",
              "       [-0.90068117,  0.78880759, -1.2833891 , -1.3154443 ],\n",
              "       [-1.02184904,  1.01900435, -1.39706395, -1.18381211],\n",
              "       [-1.62768839, -1.74335684, -1.39706395, -1.18381211],\n",
              "       [-1.74885626,  0.32841405, -1.39706395, -1.3154443 ],\n",
              "       [-1.02184904,  1.01900435, -1.22655167, -0.78891556],\n",
              "       [-0.90068117,  1.70959465, -1.05603939, -1.05217993],\n",
              "       [-1.26418478, -0.13197948, -1.34022653, -1.18381211],\n",
              "       [-0.90068117,  1.70959465, -1.22655167, -1.3154443 ],\n",
              "       [-1.50652052,  0.32841405, -1.34022653, -1.3154443 ],\n",
              "       [-0.65834543,  1.47939788, -1.2833891 , -1.3154443 ],\n",
              "       [-1.02184904,  0.55861082, -1.34022653, -1.3154443 ],\n",
              "       [ 1.40150837,  0.32841405,  0.53540856,  0.26414192],\n",
              "       [ 0.67450115,  0.32841405,  0.42173371,  0.3957741 ],\n",
              "       [ 1.2803405 ,  0.09821729,  0.64908342,  0.3957741 ],\n",
              "       [-0.41600969, -1.74335684,  0.13754657,  0.13250973],\n",
              "       [ 0.79566902, -0.59237301,  0.47857113,  0.3957741 ],\n",
              "       [-0.17367395, -0.59237301,  0.42173371,  0.13250973],\n",
              "       [ 0.55333328,  0.55861082,  0.53540856,  0.52740629],\n",
              "       [-1.14301691, -1.51316008, -0.26031542, -0.26238682],\n",
              "       [ 0.91683689, -0.36217625,  0.47857113,  0.13250973],\n",
              "       [-0.7795133 , -0.82256978,  0.08070915,  0.26414192],\n",
              "       [-1.02184904, -2.43394714, -0.14664056, -0.26238682],\n",
              "       [ 0.06866179, -0.13197948,  0.25122143,  0.3957741 ],\n",
              "       [ 0.18982966, -1.97355361,  0.13754657, -0.26238682],\n",
              "       [ 0.31099753, -0.36217625,  0.53540856,  0.26414192],\n",
              "       [-0.29484182, -0.36217625, -0.08980313,  0.13250973],\n",
              "       [ 1.03800476,  0.09821729,  0.36489628,  0.26414192],\n",
              "       [-0.29484182, -0.13197948,  0.42173371,  0.3957741 ],\n",
              "       [-0.05250608, -0.82256978,  0.194384  , -0.26238682],\n",
              "       [ 0.4321654 , -1.97355361,  0.42173371,  0.3957741 ],\n",
              "       [-0.29484182, -1.28296331,  0.08070915, -0.13075464],\n",
              "       [ 0.06866179,  0.32841405,  0.59224599,  0.79067065],\n",
              "       [ 0.31099753, -0.59237301,  0.13754657,  0.13250973],\n",
              "       [ 0.55333328, -1.28296331,  0.64908342,  0.3957741 ],\n",
              "       [ 0.31099753, -0.59237301,  0.53540856,  0.00087755],\n",
              "       [ 0.67450115, -0.36217625,  0.30805885,  0.13250973],\n",
              "       [ 0.91683689, -0.13197948,  0.36489628,  0.26414192],\n",
              "       [ 1.15917263, -0.59237301,  0.59224599,  0.26414192],\n",
              "       [ 1.03800476, -0.13197948,  0.70592084,  0.65903847],\n",
              "       [ 0.18982966, -0.36217625,  0.42173371,  0.3957741 ],\n",
              "       [-0.17367395, -1.05276654, -0.14664056, -0.26238682],\n",
              "       [-0.41600969, -1.51316008,  0.02387172, -0.13075464],\n",
              "       [-0.41600969, -1.51316008, -0.03296571, -0.26238682],\n",
              "       [-0.05250608, -0.82256978,  0.08070915,  0.00087755],\n",
              "       [ 0.18982966, -0.82256978,  0.76275827,  0.52740629],\n",
              "       [-0.53717756, -0.13197948,  0.42173371,  0.3957741 ],\n",
              "       [ 0.18982966,  0.78880759,  0.42173371,  0.52740629],\n",
              "       [ 1.03800476,  0.09821729,  0.53540856,  0.3957741 ],\n",
              "       [ 0.55333328, -1.74335684,  0.36489628,  0.13250973],\n",
              "       [-0.29484182, -0.13197948,  0.194384  ,  0.13250973],\n",
              "       [-0.41600969, -1.28296331,  0.13754657,  0.13250973],\n",
              "       [-0.41600969, -1.05276654,  0.36489628,  0.00087755],\n",
              "       [ 0.31099753, -0.13197948,  0.47857113,  0.26414192],\n",
              "       [-0.05250608, -1.05276654,  0.13754657,  0.00087755],\n",
              "       [-1.02184904, -1.74335684, -0.26031542, -0.26238682],\n",
              "       [-0.29484182, -0.82256978,  0.25122143,  0.13250973],\n",
              "       [-0.17367395, -0.13197948,  0.25122143,  0.00087755],\n",
              "       [-0.17367395, -0.36217625,  0.25122143,  0.13250973],\n",
              "       [ 0.4321654 , -0.36217625,  0.30805885,  0.13250973],\n",
              "       [-0.90068117, -1.28296331, -0.4308277 , -0.13075464],\n",
              "       [-0.17367395, -0.59237301,  0.194384  ,  0.13250973],\n",
              "       [ 0.55333328,  0.55861082,  1.27429511,  1.71209594],\n",
              "       [-0.05250608, -0.82256978,  0.76275827,  0.92230284],\n",
              "       [ 1.52267624, -0.13197948,  1.21745768,  1.18556721],\n",
              "       [ 0.55333328, -0.36217625,  1.0469454 ,  0.79067065],\n",
              "       [ 0.79566902, -0.13197948,  1.16062026,  1.31719939],\n",
              "       [ 2.12851559, -0.13197948,  1.61531967,  1.18556721],\n",
              "       [-1.14301691, -1.28296331,  0.42173371,  0.65903847],\n",
              "       [ 1.76501198, -0.36217625,  1.44480739,  0.79067065],\n",
              "       [ 1.03800476, -1.28296331,  1.16062026,  0.79067065],\n",
              "       [ 1.64384411,  1.24920112,  1.33113254,  1.71209594],\n",
              "       [ 0.79566902,  0.32841405,  0.76275827,  1.05393502],\n",
              "       [ 0.67450115, -0.82256978,  0.87643312,  0.92230284],\n",
              "       [ 1.15917263, -0.13197948,  0.99010798,  1.18556721],\n",
              "       [-0.17367395, -1.28296331,  0.70592084,  1.05393502],\n",
              "       [-0.05250608, -0.59237301,  0.76275827,  1.58046376],\n",
              "       [ 0.67450115,  0.32841405,  0.87643312,  1.44883158],\n",
              "       [ 0.79566902, -0.13197948,  0.99010798,  0.79067065],\n",
              "       [ 2.24968346,  1.70959465,  1.6721571 ,  1.31719939],\n",
              "       [ 2.24968346, -1.05276654,  1.78583195,  1.44883158],\n",
              "       [ 0.18982966, -1.97355361,  0.70592084,  0.3957741 ],\n",
              "       [ 1.2803405 ,  0.32841405,  1.10378283,  1.44883158],\n",
              "       [-0.29484182, -0.59237301,  0.64908342,  1.05393502],\n",
              "       [ 2.24968346, -0.59237301,  1.6721571 ,  1.05393502],\n",
              "       [ 0.55333328, -0.82256978,  0.64908342,  0.79067065],\n",
              "       [ 1.03800476,  0.55861082,  1.10378283,  1.18556721],\n",
              "       [ 1.64384411,  0.32841405,  1.27429511,  0.79067065],\n",
              "       [ 0.4321654 , -0.59237301,  0.59224599,  0.79067065],\n",
              "       [ 0.31099753, -0.13197948,  0.64908342,  0.79067065],\n",
              "       [ 0.67450115, -0.59237301,  1.0469454 ,  1.18556721],\n",
              "       [ 1.64384411, -0.13197948,  1.16062026,  0.52740629],\n",
              "       [ 1.88617985, -0.59237301,  1.33113254,  0.92230284],\n",
              "       [ 2.4920192 ,  1.70959465,  1.50164482,  1.05393502],\n",
              "       [ 0.67450115, -0.59237301,  1.0469454 ,  1.31719939],\n",
              "       [ 0.55333328, -0.59237301,  0.76275827,  0.3957741 ],\n",
              "       [ 0.31099753, -1.05276654,  1.0469454 ,  0.26414192],\n",
              "       [ 2.24968346, -0.13197948,  1.33113254,  1.44883158],\n",
              "       [ 0.55333328,  0.78880759,  1.0469454 ,  1.58046376],\n",
              "       [ 0.67450115,  0.09821729,  0.99010798,  0.79067065],\n",
              "       [ 0.18982966, -0.13197948,  0.59224599,  0.79067065],\n",
              "       [ 1.2803405 ,  0.09821729,  0.93327055,  1.18556721],\n",
              "       [ 1.03800476,  0.09821729,  1.0469454 ,  1.58046376],\n",
              "       [ 1.2803405 ,  0.09821729,  0.76275827,  1.44883158],\n",
              "       [-0.05250608, -0.82256978,  0.76275827,  0.92230284],\n",
              "       [ 1.15917263,  0.32841405,  1.21745768,  1.44883158],\n",
              "       [ 1.03800476,  0.55861082,  1.10378283,  1.71209594],\n",
              "       [ 1.03800476, -0.13197948,  0.8195957 ,  1.44883158],\n",
              "       [ 0.55333328, -1.28296331,  0.70592084,  0.92230284],\n",
              "       [ 0.79566902, -0.13197948,  0.8195957 ,  1.05393502],\n",
              "       [ 0.4321654 ,  0.78880759,  0.93327055,  1.44883158],\n",
              "       [ 0.06866179, -0.13197948,  0.76275827,  0.79067065]])"
            ]
          },
          "metadata": {
            "tags": []
          },
          "execution_count": 7
        }
      ]
    },
    {
      "cell_type": "code",
      "metadata": {
        "id": "HP3S1-XYqLhH",
        "colab_type": "code",
        "colab": {
          "base_uri": "https://localhost:8080/",
          "height": 87
        },
        "outputId": "05f5af97-dd1b-4c15-e674-49038d36125b"
      },
      "source": [
        "cov_mat = np.cov(X_std, rowvar=False)\n",
        "cov_mat"
      ],
      "execution_count": 8,
      "outputs": [
        {
          "output_type": "execute_result",
          "data": {
            "text/plain": [
              "array([[ 1.00671141, -0.11835884,  0.87760447,  0.82343066],\n",
              "       [-0.11835884,  1.00671141, -0.43131554, -0.36858315],\n",
              "       [ 0.87760447, -0.43131554,  1.00671141,  0.96932762],\n",
              "       [ 0.82343066, -0.36858315,  0.96932762,  1.00671141]])"
            ]
          },
          "metadata": {
            "tags": []
          },
          "execution_count": 8
        }
      ]
    },
    {
      "cell_type": "code",
      "metadata": {
        "id": "xtpRy7NKqeMK",
        "colab_type": "code",
        "colab": {}
      },
      "source": [
        "eig_vals, eig_vecs = np.linalg.eig(cov_mat)"
      ],
      "execution_count": 0,
      "outputs": []
    },
    {
      "cell_type": "code",
      "metadata": {
        "id": "NxbbjugRqygb",
        "colab_type": "code",
        "colab": {
          "base_uri": "https://localhost:8080/",
          "height": 158
        },
        "outputId": "471c6041-7f36-46e9-d831-9c19803f14fa"
      },
      "source": [
        "print(f'Wartości własne:\\n{eig_vals}\\n')\n",
        "print(f'Wektory własne:\\n{eig_vecs}')"
      ],
      "execution_count": 10,
      "outputs": [
        {
          "output_type": "stream",
          "text": [
            "Wartości własne:\n",
            "[2.93808505 0.9201649  0.14774182 0.02085386]\n",
            "\n",
            "Wektory własne:\n",
            "[[ 0.52106591 -0.37741762 -0.71956635  0.26128628]\n",
            " [-0.26934744 -0.92329566  0.24438178 -0.12350962]\n",
            " [ 0.5804131  -0.02449161  0.14212637 -0.80144925]\n",
            " [ 0.56485654 -0.06694199  0.63427274  0.52359713]]\n"
          ],
          "name": "stdout"
        }
      ]
    },
    {
      "cell_type": "code",
      "metadata": {
        "id": "qmqRwB5hq16m",
        "colab_type": "code",
        "colab": {
          "base_uri": "https://localhost:8080/",
          "height": 158
        },
        "outputId": "4bd3443f-c4a2-4f7a-ed36-480d17d764f2"
      },
      "source": [
        "eig_pairs = [(np.abs(eig_vals[i]), eig_vecs[:, i]) for i in range(len(eig_vals))]\n",
        "eig_pairs.sort()\n",
        "eig_pairs.reverse()\n",
        "eig_pairs"
      ],
      "execution_count": 11,
      "outputs": [
        {
          "output_type": "execute_result",
          "data": {
            "text/plain": [
              "[(2.9380850501999953,\n",
              "  array([ 0.52106591, -0.26934744,  0.5804131 ,  0.56485654])),\n",
              " (0.9201649041624852,\n",
              "  array([-0.37741762, -0.92329566, -0.02449161, -0.06694199])),\n",
              " (0.1477418210449476,\n",
              "  array([-0.71956635,  0.24438178,  0.14212637,  0.63427274])),\n",
              " (0.020853862176463147,\n",
              "  array([ 0.26128628, -0.12350962, -0.80144925,  0.52359713]))]"
            ]
          },
          "metadata": {
            "tags": []
          },
          "execution_count": 11
        }
      ]
    },
    {
      "cell_type": "code",
      "metadata": {
        "id": "lwqVWRrprrWb",
        "colab_type": "code",
        "colab": {
          "base_uri": "https://localhost:8080/",
          "height": 87
        },
        "outputId": "7abda88d-2bde-4441-ec33-e0befa24cc56"
      },
      "source": [
        "total = sum(eig_vals)\n",
        "explained_variance_ratio = [(i / total) for i in sorted(eig_vals, reverse=True)]\n",
        "explained_variance_ratio"
      ],
      "execution_count": 12,
      "outputs": [
        {
          "output_type": "execute_result",
          "data": {
            "text/plain": [
              "[0.729624454132999,\n",
              " 0.22850761786701723,\n",
              " 0.03668921889282867,\n",
              " 0.005178709107155017]"
            ]
          },
          "metadata": {
            "tags": []
          },
          "execution_count": 12
        }
      ]
    },
    {
      "cell_type": "code",
      "metadata": {
        "id": "6R-zBEvPsG6R",
        "colab_type": "code",
        "colab": {
          "base_uri": "https://localhost:8080/",
          "height": 34
        },
        "outputId": "93242e44-b677-4f6a-a4f4-a31bf190ee75"
      },
      "source": [
        "cumulative_explained_variance = np.cumsum(explained_variance_ratio)\n",
        "cumulative_explained_variance"
      ],
      "execution_count": 13,
      "outputs": [
        {
          "output_type": "execute_result",
          "data": {
            "text/plain": [
              "array([0.72962445, 0.95813207, 0.99482129, 1.        ])"
            ]
          },
          "metadata": {
            "tags": []
          },
          "execution_count": 13
        }
      ]
    },
    {
      "cell_type": "code",
      "metadata": {
        "id": "mP5hzPT5sOwv",
        "colab_type": "code",
        "colab": {
          "base_uri": "https://localhost:8080/",
          "height": 166
        },
        "outputId": "6cdb6ca8-5b87-4a8a-d81c-343aaf7f4e83"
      },
      "source": [
        "results = pd.DataFrame(data={'explained_variance_ratio': explained_variance_ratio})\n",
        "results['cumulative'] = results['explained_variance_ratio'].cumsum()\n",
        "results"
      ],
      "execution_count": 14,
      "outputs": [
        {
          "output_type": "execute_result",
          "data": {
            "text/html": [
              "<div>\n",
              "<style scoped>\n",
              "    .dataframe tbody tr th:only-of-type {\n",
              "        vertical-align: middle;\n",
              "    }\n",
              "\n",
              "    .dataframe tbody tr th {\n",
              "        vertical-align: top;\n",
              "    }\n",
              "\n",
              "    .dataframe thead th {\n",
              "        text-align: right;\n",
              "    }\n",
              "</style>\n",
              "<table border=\"1\" class=\"dataframe\">\n",
              "  <thead>\n",
              "    <tr style=\"text-align: right;\">\n",
              "      <th></th>\n",
              "      <th>explained_variance_ratio</th>\n",
              "      <th>cumulative</th>\n",
              "    </tr>\n",
              "  </thead>\n",
              "  <tbody>\n",
              "    <tr>\n",
              "      <th>0</th>\n",
              "      <td>0.729624</td>\n",
              "      <td>0.729624</td>\n",
              "    </tr>\n",
              "    <tr>\n",
              "      <th>1</th>\n",
              "      <td>0.228508</td>\n",
              "      <td>0.958132</td>\n",
              "    </tr>\n",
              "    <tr>\n",
              "      <th>2</th>\n",
              "      <td>0.036689</td>\n",
              "      <td>0.994821</td>\n",
              "    </tr>\n",
              "    <tr>\n",
              "      <th>3</th>\n",
              "      <td>0.005179</td>\n",
              "      <td>1.000000</td>\n",
              "    </tr>\n",
              "  </tbody>\n",
              "</table>\n",
              "</div>"
            ],
            "text/plain": [
              "   explained_variance_ratio  cumulative\n",
              "0                  0.729624    0.729624\n",
              "1                  0.228508    0.958132\n",
              "2                  0.036689    0.994821\n",
              "3                  0.005179    1.000000"
            ]
          },
          "metadata": {
            "tags": []
          },
          "execution_count": 14
        }
      ]
    },
    {
      "cell_type": "code",
      "metadata": {
        "id": "a_XC0SzAsk0Z",
        "colab_type": "code",
        "colab": {
          "base_uri": "https://localhost:8080/",
          "height": 542
        },
        "outputId": "26b4e316-0584-4ac6-9437-ca41bc25c52c"
      },
      "source": [
        "fig = go.Figure(data=[go.Bar(x=results.index, y=results['explained_variance_ratio'], name='explained_variance_ratio'),\n",
        "                      go.Scatter(x=results.index, y=results['cumulative'], name='cumulative')],\n",
        "                layout=go.Layout(title='PCA - 3 components', width=700))\n",
        "fig.show()"
      ],
      "execution_count": 15,
      "outputs": [
        {
          "output_type": "display_data",
          "data": {
            "text/html": [
              "<html>\n",
              "<head><meta charset=\"utf-8\" /></head>\n",
              "<body>\n",
              "    <div>\n",
              "            <script src=\"https://cdnjs.cloudflare.com/ajax/libs/mathjax/2.7.5/MathJax.js?config=TeX-AMS-MML_SVG\"></script><script type=\"text/javascript\">if (window.MathJax) {MathJax.Hub.Config({SVG: {font: \"STIX-Web\"}});}</script>\n",
              "                <script type=\"text/javascript\">window.PlotlyConfig = {MathJaxConfig: 'local'};</script>\n",
              "        <script src=\"https://cdn.plot.ly/plotly-latest.min.js\"></script>    \n",
              "            <div id=\"68d44de0-fe55-4c8d-aae4-cb4822e02b38\" class=\"plotly-graph-div\" style=\"height:525px; width:700px;\"></div>\n",
              "            <script type=\"text/javascript\">\n",
              "                \n",
              "                    window.PLOTLYENV=window.PLOTLYENV || {};\n",
              "                    \n",
              "                if (document.getElementById(\"68d44de0-fe55-4c8d-aae4-cb4822e02b38\")) {\n",
              "                    Plotly.newPlot(\n",
              "                        '68d44de0-fe55-4c8d-aae4-cb4822e02b38',\n",
              "                        [{\"name\": \"explained_variance_ratio\", \"type\": \"bar\", \"x\": [0, 1, 2, 3], \"y\": [0.729624454132999, 0.22850761786701723, 0.03668921889282867, 0.005178709107155017]}, {\"name\": \"cumulative\", \"type\": \"scatter\", \"x\": [0, 1, 2, 3], \"y\": [0.729624454132999, 0.9581320720000163, 0.9948212908928449, 0.9999999999999999]}],\n",
              "                        {\"template\": {\"data\": {\"bar\": [{\"error_x\": {\"color\": \"#2a3f5f\"}, \"error_y\": {\"color\": \"#2a3f5f\"}, \"marker\": {\"line\": {\"color\": \"#E5ECF6\", \"width\": 0.5}}, \"type\": \"bar\"}], \"barpolar\": [{\"marker\": {\"line\": {\"color\": \"#E5ECF6\", \"width\": 0.5}}, \"type\": \"barpolar\"}], \"carpet\": [{\"aaxis\": {\"endlinecolor\": \"#2a3f5f\", \"gridcolor\": \"white\", \"linecolor\": \"white\", \"minorgridcolor\": \"white\", \"startlinecolor\": \"#2a3f5f\"}, \"baxis\": {\"endlinecolor\": \"#2a3f5f\", \"gridcolor\": \"white\", \"linecolor\": \"white\", \"minorgridcolor\": \"white\", \"startlinecolor\": \"#2a3f5f\"}, \"type\": \"carpet\"}], \"choropleth\": [{\"colorbar\": {\"outlinewidth\": 0, \"ticks\": \"\"}, \"type\": \"choropleth\"}], \"contour\": [{\"colorbar\": {\"outlinewidth\": 0, \"ticks\": \"\"}, \"colorscale\": [[0.0, \"#0d0887\"], [0.1111111111111111, \"#46039f\"], [0.2222222222222222, \"#7201a8\"], [0.3333333333333333, \"#9c179e\"], [0.4444444444444444, \"#bd3786\"], [0.5555555555555556, \"#d8576b\"], [0.6666666666666666, \"#ed7953\"], [0.7777777777777778, \"#fb9f3a\"], [0.8888888888888888, \"#fdca26\"], [1.0, \"#f0f921\"]], \"type\": \"contour\"}], \"contourcarpet\": [{\"colorbar\": {\"outlinewidth\": 0, \"ticks\": \"\"}, \"type\": \"contourcarpet\"}], \"heatmap\": [{\"colorbar\": {\"outlinewidth\": 0, \"ticks\": \"\"}, \"colorscale\": [[0.0, \"#0d0887\"], [0.1111111111111111, \"#46039f\"], [0.2222222222222222, \"#7201a8\"], [0.3333333333333333, \"#9c179e\"], [0.4444444444444444, \"#bd3786\"], [0.5555555555555556, \"#d8576b\"], [0.6666666666666666, \"#ed7953\"], [0.7777777777777778, \"#fb9f3a\"], [0.8888888888888888, \"#fdca26\"], [1.0, \"#f0f921\"]], \"type\": \"heatmap\"}], \"heatmapgl\": [{\"colorbar\": {\"outlinewidth\": 0, \"ticks\": \"\"}, \"colorscale\": [[0.0, \"#0d0887\"], [0.1111111111111111, \"#46039f\"], [0.2222222222222222, \"#7201a8\"], [0.3333333333333333, \"#9c179e\"], [0.4444444444444444, \"#bd3786\"], [0.5555555555555556, \"#d8576b\"], [0.6666666666666666, \"#ed7953\"], [0.7777777777777778, \"#fb9f3a\"], [0.8888888888888888, \"#fdca26\"], [1.0, \"#f0f921\"]], \"type\": \"heatmapgl\"}], \"histogram\": [{\"marker\": {\"colorbar\": {\"outlinewidth\": 0, \"ticks\": \"\"}}, \"type\": \"histogram\"}], \"histogram2d\": [{\"colorbar\": {\"outlinewidth\": 0, \"ticks\": \"\"}, \"colorscale\": [[0.0, \"#0d0887\"], [0.1111111111111111, \"#46039f\"], [0.2222222222222222, \"#7201a8\"], [0.3333333333333333, \"#9c179e\"], [0.4444444444444444, \"#bd3786\"], [0.5555555555555556, \"#d8576b\"], [0.6666666666666666, \"#ed7953\"], [0.7777777777777778, \"#fb9f3a\"], [0.8888888888888888, \"#fdca26\"], [1.0, \"#f0f921\"]], \"type\": \"histogram2d\"}], \"histogram2dcontour\": [{\"colorbar\": {\"outlinewidth\": 0, \"ticks\": \"\"}, \"colorscale\": [[0.0, \"#0d0887\"], [0.1111111111111111, \"#46039f\"], [0.2222222222222222, \"#7201a8\"], [0.3333333333333333, \"#9c179e\"], [0.4444444444444444, \"#bd3786\"], [0.5555555555555556, \"#d8576b\"], [0.6666666666666666, \"#ed7953\"], [0.7777777777777778, \"#fb9f3a\"], [0.8888888888888888, \"#fdca26\"], [1.0, \"#f0f921\"]], \"type\": \"histogram2dcontour\"}], \"mesh3d\": [{\"colorbar\": {\"outlinewidth\": 0, \"ticks\": \"\"}, \"type\": \"mesh3d\"}], \"parcoords\": [{\"line\": {\"colorbar\": {\"outlinewidth\": 0, \"ticks\": \"\"}}, \"type\": \"parcoords\"}], \"pie\": [{\"automargin\": true, \"type\": \"pie\"}], \"scatter\": [{\"marker\": {\"colorbar\": {\"outlinewidth\": 0, \"ticks\": \"\"}}, \"type\": \"scatter\"}], \"scatter3d\": [{\"line\": {\"colorbar\": {\"outlinewidth\": 0, \"ticks\": \"\"}}, \"marker\": {\"colorbar\": {\"outlinewidth\": 0, \"ticks\": \"\"}}, \"type\": \"scatter3d\"}], \"scattercarpet\": [{\"marker\": {\"colorbar\": {\"outlinewidth\": 0, \"ticks\": \"\"}}, \"type\": \"scattercarpet\"}], \"scattergeo\": [{\"marker\": {\"colorbar\": {\"outlinewidth\": 0, \"ticks\": \"\"}}, \"type\": \"scattergeo\"}], \"scattergl\": [{\"marker\": {\"colorbar\": {\"outlinewidth\": 0, \"ticks\": \"\"}}, \"type\": \"scattergl\"}], \"scattermapbox\": [{\"marker\": {\"colorbar\": {\"outlinewidth\": 0, \"ticks\": \"\"}}, \"type\": \"scattermapbox\"}], \"scatterpolar\": [{\"marker\": {\"colorbar\": {\"outlinewidth\": 0, \"ticks\": \"\"}}, \"type\": \"scatterpolar\"}], \"scatterpolargl\": [{\"marker\": {\"colorbar\": {\"outlinewidth\": 0, \"ticks\": \"\"}}, \"type\": \"scatterpolargl\"}], \"scatterternary\": [{\"marker\": {\"colorbar\": {\"outlinewidth\": 0, \"ticks\": \"\"}}, \"type\": \"scatterternary\"}], \"surface\": [{\"colorbar\": {\"outlinewidth\": 0, \"ticks\": \"\"}, \"colorscale\": [[0.0, \"#0d0887\"], [0.1111111111111111, \"#46039f\"], [0.2222222222222222, \"#7201a8\"], [0.3333333333333333, \"#9c179e\"], [0.4444444444444444, \"#bd3786\"], [0.5555555555555556, \"#d8576b\"], [0.6666666666666666, \"#ed7953\"], [0.7777777777777778, \"#fb9f3a\"], [0.8888888888888888, \"#fdca26\"], [1.0, \"#f0f921\"]], \"type\": \"surface\"}], \"table\": [{\"cells\": {\"fill\": {\"color\": \"#EBF0F8\"}, \"line\": {\"color\": \"white\"}}, \"header\": {\"fill\": {\"color\": \"#C8D4E3\"}, \"line\": {\"color\": \"white\"}}, \"type\": \"table\"}]}, \"layout\": {\"annotationdefaults\": {\"arrowcolor\": \"#2a3f5f\", \"arrowhead\": 0, \"arrowwidth\": 1}, \"coloraxis\": {\"colorbar\": {\"outlinewidth\": 0, \"ticks\": \"\"}}, \"colorscale\": {\"diverging\": [[0, \"#8e0152\"], [0.1, \"#c51b7d\"], [0.2, \"#de77ae\"], [0.3, \"#f1b6da\"], [0.4, \"#fde0ef\"], [0.5, \"#f7f7f7\"], [0.6, \"#e6f5d0\"], [0.7, \"#b8e186\"], [0.8, \"#7fbc41\"], [0.9, \"#4d9221\"], [1, \"#276419\"]], \"sequential\": [[0.0, \"#0d0887\"], [0.1111111111111111, \"#46039f\"], [0.2222222222222222, \"#7201a8\"], [0.3333333333333333, \"#9c179e\"], [0.4444444444444444, \"#bd3786\"], [0.5555555555555556, \"#d8576b\"], [0.6666666666666666, \"#ed7953\"], [0.7777777777777778, \"#fb9f3a\"], [0.8888888888888888, \"#fdca26\"], [1.0, \"#f0f921\"]], \"sequentialminus\": [[0.0, \"#0d0887\"], [0.1111111111111111, \"#46039f\"], [0.2222222222222222, \"#7201a8\"], [0.3333333333333333, \"#9c179e\"], [0.4444444444444444, \"#bd3786\"], [0.5555555555555556, \"#d8576b\"], [0.6666666666666666, \"#ed7953\"], [0.7777777777777778, \"#fb9f3a\"], [0.8888888888888888, \"#fdca26\"], [1.0, \"#f0f921\"]]}, \"colorway\": [\"#636efa\", \"#EF553B\", \"#00cc96\", \"#ab63fa\", \"#FFA15A\", \"#19d3f3\", \"#FF6692\", \"#B6E880\", \"#FF97FF\", \"#FECB52\"], \"font\": {\"color\": \"#2a3f5f\"}, \"geo\": {\"bgcolor\": \"white\", \"lakecolor\": \"white\", \"landcolor\": \"#E5ECF6\", \"showlakes\": true, \"showland\": true, \"subunitcolor\": \"white\"}, \"hoverlabel\": {\"align\": \"left\"}, \"hovermode\": \"closest\", \"mapbox\": {\"style\": \"light\"}, \"paper_bgcolor\": \"white\", \"plot_bgcolor\": \"#E5ECF6\", \"polar\": {\"angularaxis\": {\"gridcolor\": \"white\", \"linecolor\": \"white\", \"ticks\": \"\"}, \"bgcolor\": \"#E5ECF6\", \"radialaxis\": {\"gridcolor\": \"white\", \"linecolor\": \"white\", \"ticks\": \"\"}}, \"scene\": {\"xaxis\": {\"backgroundcolor\": \"#E5ECF6\", \"gridcolor\": \"white\", \"gridwidth\": 2, \"linecolor\": \"white\", \"showbackground\": true, \"ticks\": \"\", \"zerolinecolor\": \"white\"}, \"yaxis\": {\"backgroundcolor\": \"#E5ECF6\", \"gridcolor\": \"white\", \"gridwidth\": 2, \"linecolor\": \"white\", \"showbackground\": true, \"ticks\": \"\", \"zerolinecolor\": \"white\"}, \"zaxis\": {\"backgroundcolor\": \"#E5ECF6\", \"gridcolor\": \"white\", \"gridwidth\": 2, \"linecolor\": \"white\", \"showbackground\": true, \"ticks\": \"\", \"zerolinecolor\": \"white\"}}, \"shapedefaults\": {\"line\": {\"color\": \"#2a3f5f\"}}, \"ternary\": {\"aaxis\": {\"gridcolor\": \"white\", \"linecolor\": \"white\", \"ticks\": \"\"}, \"baxis\": {\"gridcolor\": \"white\", \"linecolor\": \"white\", \"ticks\": \"\"}, \"bgcolor\": \"#E5ECF6\", \"caxis\": {\"gridcolor\": \"white\", \"linecolor\": \"white\", \"ticks\": \"\"}}, \"title\": {\"x\": 0.05}, \"xaxis\": {\"automargin\": true, \"gridcolor\": \"white\", \"linecolor\": \"white\", \"ticks\": \"\", \"title\": {\"standoff\": 15}, \"zerolinecolor\": \"white\", \"zerolinewidth\": 2}, \"yaxis\": {\"automargin\": true, \"gridcolor\": \"white\", \"linecolor\": \"white\", \"ticks\": \"\", \"title\": {\"standoff\": 15}, \"zerolinecolor\": \"white\", \"zerolinewidth\": 2}}}, \"title\": {\"text\": \"PCA - 3 components\"}, \"width\": 700},\n",
              "                        {\"responsive\": true}\n",
              "                    ).then(function(){\n",
              "                            \n",
              "var gd = document.getElementById('68d44de0-fe55-4c8d-aae4-cb4822e02b38');\n",
              "var x = new MutationObserver(function (mutations, observer) {{\n",
              "        var display = window.getComputedStyle(gd).display;\n",
              "        if (!display || display === 'none') {{\n",
              "            console.log([gd, 'removed!']);\n",
              "            Plotly.purge(gd);\n",
              "            observer.disconnect();\n",
              "        }}\n",
              "}});\n",
              "\n",
              "// Listen for the removal of the full notebook cells\n",
              "var notebookContainer = gd.closest('#notebook-container');\n",
              "if (notebookContainer) {{\n",
              "    x.observe(notebookContainer, {childList: true});\n",
              "}}\n",
              "\n",
              "// Listen for the clearing of the current output cell\n",
              "var outputEl = gd.closest('.output');\n",
              "if (outputEl) {{\n",
              "    x.observe(outputEl, {childList: true});\n",
              "}}\n",
              "\n",
              "                        })\n",
              "                };\n",
              "                \n",
              "            </script>\n",
              "        </div>\n",
              "</body>\n",
              "</html>"
            ]
          },
          "metadata": {
            "tags": []
          }
        }
      ]
    },
    {
      "cell_type": "code",
      "metadata": {
        "id": "PJ3eFcgRtHmi",
        "colab_type": "code",
        "colab": {
          "base_uri": "https://localhost:8080/",
          "height": 158
        },
        "outputId": "d908bdc3-7aa6-4b7d-85ae-a4d58fdb9021"
      },
      "source": [
        "eig_pairs"
      ],
      "execution_count": 16,
      "outputs": [
        {
          "output_type": "execute_result",
          "data": {
            "text/plain": [
              "[(2.9380850501999953,\n",
              "  array([ 0.52106591, -0.26934744,  0.5804131 ,  0.56485654])),\n",
              " (0.9201649041624852,\n",
              "  array([-0.37741762, -0.92329566, -0.02449161, -0.06694199])),\n",
              " (0.1477418210449476,\n",
              "  array([-0.71956635,  0.24438178,  0.14212637,  0.63427274])),\n",
              " (0.020853862176463147,\n",
              "  array([ 0.26128628, -0.12350962, -0.80144925,  0.52359713]))]"
            ]
          },
          "metadata": {
            "tags": []
          },
          "execution_count": 16
        }
      ]
    },
    {
      "cell_type": "code",
      "metadata": {
        "id": "Dcw-_00KsrCM",
        "colab_type": "code",
        "colab": {
          "base_uri": "https://localhost:8080/",
          "height": 52
        },
        "outputId": "a126bf1d-3514-4ca4-dcc8-0c836288b1de"
      },
      "source": [
        "eig_pairs[0]"
      ],
      "execution_count": 17,
      "outputs": [
        {
          "output_type": "execute_result",
          "data": {
            "text/plain": [
              "(2.9380850501999953,\n",
              " array([ 0.52106591, -0.26934744,  0.5804131 ,  0.56485654]))"
            ]
          },
          "metadata": {
            "tags": []
          },
          "execution_count": 17
        }
      ]
    },
    {
      "cell_type": "code",
      "metadata": {
        "id": "TxFPpTUCtBe0",
        "colab_type": "code",
        "colab": {
          "base_uri": "https://localhost:8080/",
          "height": 52
        },
        "outputId": "ad518e33-b977-4976-9f78-056a3816f4ae"
      },
      "source": [
        "eig_pairs[1]"
      ],
      "execution_count": 18,
      "outputs": [
        {
          "output_type": "execute_result",
          "data": {
            "text/plain": [
              "(0.9201649041624852,\n",
              " array([-0.37741762, -0.92329566, -0.02449161, -0.06694199]))"
            ]
          },
          "metadata": {
            "tags": []
          },
          "execution_count": 18
        }
      ]
    },
    {
      "cell_type": "code",
      "metadata": {
        "id": "uTWdy3EAtqEI",
        "colab_type": "code",
        "colab": {
          "base_uri": "https://localhost:8080/",
          "height": 87
        },
        "outputId": "b7fa2025-0953-4c73-bd9b-b31d75f6ebf0"
      },
      "source": [
        "W = np.hstack((eig_pairs[0][1].reshape(4, 1), eig_pairs[1][1].reshape(4, 1)))\n",
        "W"
      ],
      "execution_count": 19,
      "outputs": [
        {
          "output_type": "execute_result",
          "data": {
            "text/plain": [
              "array([[ 0.52106591, -0.37741762],\n",
              "       [-0.26934744, -0.92329566],\n",
              "       [ 0.5804131 , -0.02449161],\n",
              "       [ 0.56485654, -0.06694199]])"
            ]
          },
          "metadata": {
            "tags": []
          },
          "execution_count": 19
        }
      ]
    },
    {
      "cell_type": "code",
      "metadata": {
        "id": "aecRapb4tu2c",
        "colab_type": "code",
        "colab": {
          "base_uri": "https://localhost:8080/",
          "height": 402
        },
        "outputId": "19d29e20-0831-4057-d2e6-14b1a486a4d8"
      },
      "source": [
        "X_pca = X_std.dot(W)\n",
        "pca_df_1 = pd.DataFrame(data=X_pca, columns=['pca_1', 'pca_2'])\n",
        "pca_df_1['class'] = df['class']\n",
        "pca_df_1['pca_2'] = - pca_df_1['pca_2']\n",
        "pca_df_1"
      ],
      "execution_count": 20,
      "outputs": [
        {
          "output_type": "execute_result",
          "data": {
            "text/html": [
              "<div>\n",
              "<style scoped>\n",
              "    .dataframe tbody tr th:only-of-type {\n",
              "        vertical-align: middle;\n",
              "    }\n",
              "\n",
              "    .dataframe tbody tr th {\n",
              "        vertical-align: top;\n",
              "    }\n",
              "\n",
              "    .dataframe thead th {\n",
              "        text-align: right;\n",
              "    }\n",
              "</style>\n",
              "<table border=\"1\" class=\"dataframe\">\n",
              "  <thead>\n",
              "    <tr style=\"text-align: right;\">\n",
              "      <th></th>\n",
              "      <th>pca_1</th>\n",
              "      <th>pca_2</th>\n",
              "      <th>class</th>\n",
              "    </tr>\n",
              "  </thead>\n",
              "  <tbody>\n",
              "    <tr>\n",
              "      <th>0</th>\n",
              "      <td>-2.264703</td>\n",
              "      <td>0.480027</td>\n",
              "      <td>setosa</td>\n",
              "    </tr>\n",
              "    <tr>\n",
              "      <th>1</th>\n",
              "      <td>-2.080961</td>\n",
              "      <td>-0.674134</td>\n",
              "      <td>setosa</td>\n",
              "    </tr>\n",
              "    <tr>\n",
              "      <th>2</th>\n",
              "      <td>-2.364229</td>\n",
              "      <td>-0.341908</td>\n",
              "      <td>setosa</td>\n",
              "    </tr>\n",
              "    <tr>\n",
              "      <th>3</th>\n",
              "      <td>-2.299384</td>\n",
              "      <td>-0.597395</td>\n",
              "      <td>setosa</td>\n",
              "    </tr>\n",
              "    <tr>\n",
              "      <th>4</th>\n",
              "      <td>-2.389842</td>\n",
              "      <td>0.646835</td>\n",
              "      <td>setosa</td>\n",
              "    </tr>\n",
              "    <tr>\n",
              "      <th>...</th>\n",
              "      <td>...</td>\n",
              "      <td>...</td>\n",
              "      <td>...</td>\n",
              "    </tr>\n",
              "    <tr>\n",
              "      <th>145</th>\n",
              "      <td>1.870503</td>\n",
              "      <td>0.386966</td>\n",
              "      <td>virginica</td>\n",
              "    </tr>\n",
              "    <tr>\n",
              "      <th>146</th>\n",
              "      <td>1.564580</td>\n",
              "      <td>-0.896687</td>\n",
              "      <td>virginica</td>\n",
              "    </tr>\n",
              "    <tr>\n",
              "      <th>147</th>\n",
              "      <td>1.521170</td>\n",
              "      <td>0.269069</td>\n",
              "      <td>virginica</td>\n",
              "    </tr>\n",
              "    <tr>\n",
              "      <th>148</th>\n",
              "      <td>1.372788</td>\n",
              "      <td>1.011254</td>\n",
              "      <td>virginica</td>\n",
              "    </tr>\n",
              "    <tr>\n",
              "      <th>149</th>\n",
              "      <td>0.960656</td>\n",
              "      <td>-0.024332</td>\n",
              "      <td>virginica</td>\n",
              "    </tr>\n",
              "  </tbody>\n",
              "</table>\n",
              "<p>150 rows × 3 columns</p>\n",
              "</div>"
            ],
            "text/plain": [
              "        pca_1     pca_2      class\n",
              "0   -2.264703  0.480027     setosa\n",
              "1   -2.080961 -0.674134     setosa\n",
              "2   -2.364229 -0.341908     setosa\n",
              "3   -2.299384 -0.597395     setosa\n",
              "4   -2.389842  0.646835     setosa\n",
              "..        ...       ...        ...\n",
              "145  1.870503  0.386966  virginica\n",
              "146  1.564580 -0.896687  virginica\n",
              "147  1.521170  0.269069  virginica\n",
              "148  1.372788  1.011254  virginica\n",
              "149  0.960656 -0.024332  virginica\n",
              "\n",
              "[150 rows x 3 columns]"
            ]
          },
          "metadata": {
            "tags": []
          },
          "execution_count": 20
        }
      ]
    },
    {
      "cell_type": "code",
      "metadata": {
        "id": "pM2JdxmStyK2",
        "colab_type": "code",
        "colab": {
          "base_uri": "https://localhost:8080/",
          "height": 542
        },
        "outputId": "80200aab-517e-4459-87f9-5f51e5e775d7"
      },
      "source": [
        "px.scatter(pca_df_1, 'pca_1', 'pca_2', color='class', width=700)"
      ],
      "execution_count": 21,
      "outputs": [
        {
          "output_type": "display_data",
          "data": {
            "text/html": [
              "<html>\n",
              "<head><meta charset=\"utf-8\" /></head>\n",
              "<body>\n",
              "    <div>\n",
              "            <script src=\"https://cdnjs.cloudflare.com/ajax/libs/mathjax/2.7.5/MathJax.js?config=TeX-AMS-MML_SVG\"></script><script type=\"text/javascript\">if (window.MathJax) {MathJax.Hub.Config({SVG: {font: \"STIX-Web\"}});}</script>\n",
              "                <script type=\"text/javascript\">window.PlotlyConfig = {MathJaxConfig: 'local'};</script>\n",
              "        <script src=\"https://cdn.plot.ly/plotly-latest.min.js\"></script>    \n",
              "            <div id=\"33465eef-1a33-49d7-9f9d-b16eded35752\" class=\"plotly-graph-div\" style=\"height:525px; width:700px;\"></div>\n",
              "            <script type=\"text/javascript\">\n",
              "                \n",
              "                    window.PLOTLYENV=window.PLOTLYENV || {};\n",
              "                    \n",
              "                if (document.getElementById(\"33465eef-1a33-49d7-9f9d-b16eded35752\")) {\n",
              "                    Plotly.newPlot(\n",
              "                        '33465eef-1a33-49d7-9f9d-b16eded35752',\n",
              "                        [{\"hoverlabel\": {\"namelength\": 0}, \"hovertemplate\": \"class=setosa<br>pca_1=%{x}<br>pca_2=%{y}\", \"legendgroup\": \"class=setosa\", \"marker\": {\"color\": \"#636efa\", \"symbol\": \"circle\"}, \"mode\": \"markers\", \"name\": \"class=setosa\", \"showlegend\": true, \"type\": \"scatter\", \"x\": [-2.2647028088075882, -2.080961151965768, -2.364229053890301, -2.2993842170427086, -2.3898421663138443, -2.0756309481765114, -2.4440288351341524, -2.2328471588720147, -2.3346404779076217, -2.1843281749339423, -2.1663101007013217, -2.3261308664426985, -2.2184508988224096, -2.6331006957652288, -2.198740603266689, -2.26221453160102, -2.2075876958245915, -2.1903495091922984, -1.8985719958028413, -2.343369053074992, -1.9143229960825676, -2.2070128431947977, -2.7743447029273316, -1.8186695286958494, -2.2271633057066382, -1.9518463309003762, -2.0511513727294153, -2.168577174654216, -2.1395634513013313, -2.2652614931542407, -2.1401221356479847, -1.831594770676028, -2.6149479358589334, -2.4461773916965135, -2.1099748753186525, -2.207808899078266, -2.045146206754201, -2.5273319131704857, -2.4296325750845464, -2.1697107116306635, -2.28647514334567, -1.8581224563735725, -2.553638395614356, -1.9644476837637406, -2.137059005811622, -2.06974429959183, -2.384733165778262, -2.3943763142196333, -2.2294465479426737, -2.20383343551913], \"xaxis\": \"x\", \"y\": [0.48002659652098983, -0.6741335566053517, -0.34190802388467517, -0.5973945076746745, 0.6468353829020275, 1.4891775233211666, 0.0476441976300148, 0.22314807268959244, -1.115327675461665, -0.46901356140237455, 1.04369065305386, 0.13307833523923224, -0.7286761653165694, -0.9615067291701614, 1.8600571132939312, 2.686284485110592, 1.4836093631555725, 0.4888383164863281, 1.4050187944665493, 1.127849381908476, 0.4088557077559068, 0.9241214267468987, 0.4583436677529161, 0.08555852628736654, 0.13725445536342779, -0.6256185877766754, 0.24216355266166753, 0.527149525308268, 0.3132178101399526, -0.3377319037604797, -0.5045406901415173, 0.42369506760378634, 1.7935758561044288, 2.1507278773929244, -0.4602018414370363, -0.2061073976884358, 0.6615581114631087, 0.5922927741908101, -0.9041800403761466, 0.2688789614354715, 0.44171538769905055, -2.337415157553346, -0.4791006901223129, 0.4723266677192609, 1.1422292620394083, -0.7110527253858928, 1.1204297019845362, -0.38624687258915613, 0.9979597643079805, 0.009216357521277167], \"yaxis\": \"y\"}, {\"hoverlabel\": {\"namelength\": 0}, \"hovertemplate\": \"class=versicolor<br>pca_1=%{x}<br>pca_2=%{y}\", \"legendgroup\": \"class=versicolor\", \"marker\": {\"color\": \"#EF553B\", \"symbol\": \"circle\"}, \"mode\": \"markers\", \"name\": \"class=versicolor\", \"showlegend\": true, \"type\": \"scatter\", \"x\": [1.1017811830529478, 0.7313374253960871, 1.240979319515831, 0.4074830588173835, 1.0754747006090772, 0.38868733653566406, 0.7465297413291605, -0.4873227421256411, 0.9279016383549447, 0.011426188736979126, -0.11019628000063086, 0.4406934489830777, 0.5621083064431772, 0.7195618886754959, -0.03335470317877304, 0.8754071908577373, 0.35025166799508206, 0.15881004754797046, 1.22509363356243, 0.1649178993863261, 0.7376826487712578, 0.47628719094097055, 1.234178097657148, 0.632858199709821, 0.7026611831361815, 0.8742736538812899, 1.256509116541883, 1.3584051214406314, 0.664800367225394, -0.04025861090059651, 0.13079517549785918, 0.02345268897054944, 0.24153827295450994, 1.0610946088426132, 0.22397877351237902, 0.42913911551616063, 1.048728051209087, 1.0445313843962776, 0.06958832111642228, 0.2834772382875741, 0.2790777760554598, 0.624569791498571, 0.3365303701314347, -0.3621833846193848, 0.2885862388231563, 0.09136065565450474, 0.22771686553469928, 0.576388288653478, -0.44766701902861306, 0.25673058888758377], \"xaxis\": \"x\", \"y\": [0.8629724182621571, 0.5946147256694228, 0.6162976544374965, -1.7544039893234105, -0.20842104605096695, -0.5932836359900762, 0.7730193120985943, -1.852429086857574, 0.03222607789115246, -1.0340182751294416, -2.654072818536564, -0.0632951884380029, -1.7647243806169448, -0.1862246058315072, -0.43900320998162556, 0.509063956773407, -0.1963117345514456, -0.792095742432722, -1.6222438030915023, -1.302609230295773, 0.39657156196023663, -0.41732028121355186, -0.9333257287992797, -0.4163877208891006, -0.06341181972480132, 0.2507933929006106, -0.07725601969587045, 0.33131168179089604, -0.2259278546948451, -1.0587185465539088, -1.5622718342099675, -1.5724755942167044, -0.7772563825848424, -0.6338432447349486, -0.28777351204320384, 0.8455822409050764, 0.5220517968629408, -1.3829887191907824, -0.21950333464771618, -1.329324639069577, -1.1200285237424046, 0.024923029254011114, -0.9884040176703607, -2.0192378732386116, -0.8557303199870672, -0.1811921258257764, -0.384920080987355, -0.15487359721656, -1.543792034397756, -0.5988517961556703], \"yaxis\": \"y\"}, {\"hoverlabel\": {\"namelength\": 0}, \"hovertemplate\": \"class=virginica<br>pca_1=%{x}<br>pca_2=%{y}\", \"legendgroup\": \"class=virginica\", \"marker\": {\"color\": \"#00cc96\", \"symbol\": \"circle\"}, \"mode\": \"markers\", \"name\": \"class=virginica\", \"showlegend\": true, \"type\": \"scatter\", \"x\": [1.8445688677230287, 1.1578816132057788, 2.2052667910753776, 1.4401506638275388, 1.867812220330537, 2.751873335666277, 0.3670176878607231, 2.3024394446251963, 2.0066864676766047, 2.259777349012501, 1.3641754921860074, 1.6026786704779294, 1.883900701703242, 1.2601150991975063, 1.4676452010173229, 1.5900773176145653, 1.471431461133318, 2.4263289873157015, 3.3106955839338865, 1.2637666736398265, 2.037716301469404, 0.9779807342494206, 2.897651490734168, 1.333232175973208, 1.700733897491217, 1.9543267058530711, 1.1751036315549317, 1.0209505506957905, 1.7883499201796649, 1.8636475533282606, 2.435953727922703, 2.304927721831765, 1.8627032197949547, 1.114147740686474, 1.20247330167839, 2.7987704475781077, 1.576255910194754, 1.3462921036270614, 0.9248249165424187, 1.8520450517676696, 2.014810429954875, 1.9017840902621888, 1.1578816132057788, 2.040558228052092, 1.998147095952376, 1.87050329295641, 1.564580483030327, 1.521170499627837, 1.3727877895140728, 0.9606560300371272], \"xaxis\": \"x\", \"y\": [0.8704213123248195, -0.6988698623306924, 0.5620104770083526, -0.04698758810580891, 0.29504482445701674, 0.8004092010275385, -1.5615028914765072, 0.4200655796427736, -0.7114386535471608, 1.9210103764598823, 0.6927564544903843, -0.42170044977261945, 0.4192496506051207, -1.1622604214064653, -0.4422715873770852, 0.6762448057233169, 0.25562182447146814, 2.556661250795488, 0.017780949320623865, -1.7067453803762684, 0.9104674096183074, -0.5717643248129939, 0.41364105959564473, -0.48181121864943116, 1.0139218673227883, 1.0077775961534496, -0.31639447230979295, 0.06434602923955975, -0.18736121459083144, 0.5622907258861423, 0.25928443314427757, 2.626323468232374, -0.17854949462549313, -0.29292262333573316, -0.8113152708396701, 0.8568033294971021, 1.0685811073208038, 0.42243061085250583, 0.0172231004522821, 0.6761281744365186, 0.6138856369235718, 0.6895754942429996, -0.6988698623306924, 0.8675206009552249, 1.0491687471841413, 0.38696608166572266, -0.8966868088965281, 0.26906914427794915, 1.0112544185267895, -0.024331668169401514], \"yaxis\": \"y\"}],\n",
              "                        {\"legend\": {\"tracegroupgap\": 0}, \"margin\": {\"t\": 60}, \"template\": {\"data\": {\"bar\": [{\"error_x\": {\"color\": \"#2a3f5f\"}, \"error_y\": {\"color\": \"#2a3f5f\"}, \"marker\": {\"line\": {\"color\": \"#E5ECF6\", \"width\": 0.5}}, \"type\": \"bar\"}], \"barpolar\": [{\"marker\": {\"line\": {\"color\": \"#E5ECF6\", \"width\": 0.5}}, \"type\": \"barpolar\"}], \"carpet\": [{\"aaxis\": {\"endlinecolor\": \"#2a3f5f\", \"gridcolor\": \"white\", \"linecolor\": \"white\", \"minorgridcolor\": \"white\", \"startlinecolor\": \"#2a3f5f\"}, \"baxis\": {\"endlinecolor\": \"#2a3f5f\", \"gridcolor\": \"white\", \"linecolor\": \"white\", \"minorgridcolor\": \"white\", \"startlinecolor\": \"#2a3f5f\"}, \"type\": \"carpet\"}], \"choropleth\": [{\"colorbar\": {\"outlinewidth\": 0, \"ticks\": \"\"}, \"type\": \"choropleth\"}], \"contour\": [{\"colorbar\": {\"outlinewidth\": 0, \"ticks\": \"\"}, \"colorscale\": [[0.0, \"#0d0887\"], [0.1111111111111111, \"#46039f\"], [0.2222222222222222, \"#7201a8\"], [0.3333333333333333, \"#9c179e\"], [0.4444444444444444, \"#bd3786\"], [0.5555555555555556, \"#d8576b\"], [0.6666666666666666, \"#ed7953\"], [0.7777777777777778, \"#fb9f3a\"], [0.8888888888888888, \"#fdca26\"], [1.0, \"#f0f921\"]], \"type\": \"contour\"}], \"contourcarpet\": [{\"colorbar\": {\"outlinewidth\": 0, \"ticks\": \"\"}, \"type\": \"contourcarpet\"}], \"heatmap\": [{\"colorbar\": {\"outlinewidth\": 0, \"ticks\": \"\"}, \"colorscale\": [[0.0, \"#0d0887\"], [0.1111111111111111, \"#46039f\"], [0.2222222222222222, \"#7201a8\"], [0.3333333333333333, \"#9c179e\"], [0.4444444444444444, \"#bd3786\"], [0.5555555555555556, \"#d8576b\"], [0.6666666666666666, \"#ed7953\"], [0.7777777777777778, \"#fb9f3a\"], [0.8888888888888888, \"#fdca26\"], [1.0, \"#f0f921\"]], \"type\": \"heatmap\"}], \"heatmapgl\": [{\"colorbar\": {\"outlinewidth\": 0, \"ticks\": \"\"}, \"colorscale\": [[0.0, \"#0d0887\"], [0.1111111111111111, \"#46039f\"], [0.2222222222222222, \"#7201a8\"], [0.3333333333333333, \"#9c179e\"], [0.4444444444444444, \"#bd3786\"], [0.5555555555555556, \"#d8576b\"], [0.6666666666666666, \"#ed7953\"], [0.7777777777777778, \"#fb9f3a\"], [0.8888888888888888, \"#fdca26\"], [1.0, \"#f0f921\"]], \"type\": \"heatmapgl\"}], \"histogram\": [{\"marker\": {\"colorbar\": {\"outlinewidth\": 0, \"ticks\": \"\"}}, \"type\": \"histogram\"}], \"histogram2d\": [{\"colorbar\": {\"outlinewidth\": 0, \"ticks\": \"\"}, \"colorscale\": [[0.0, \"#0d0887\"], [0.1111111111111111, \"#46039f\"], [0.2222222222222222, \"#7201a8\"], [0.3333333333333333, \"#9c179e\"], [0.4444444444444444, \"#bd3786\"], [0.5555555555555556, \"#d8576b\"], [0.6666666666666666, \"#ed7953\"], [0.7777777777777778, \"#fb9f3a\"], [0.8888888888888888, \"#fdca26\"], [1.0, \"#f0f921\"]], \"type\": \"histogram2d\"}], \"histogram2dcontour\": [{\"colorbar\": {\"outlinewidth\": 0, \"ticks\": \"\"}, \"colorscale\": [[0.0, \"#0d0887\"], [0.1111111111111111, \"#46039f\"], [0.2222222222222222, \"#7201a8\"], [0.3333333333333333, \"#9c179e\"], [0.4444444444444444, \"#bd3786\"], [0.5555555555555556, \"#d8576b\"], [0.6666666666666666, \"#ed7953\"], [0.7777777777777778, \"#fb9f3a\"], [0.8888888888888888, \"#fdca26\"], [1.0, \"#f0f921\"]], \"type\": \"histogram2dcontour\"}], \"mesh3d\": [{\"colorbar\": {\"outlinewidth\": 0, \"ticks\": \"\"}, \"type\": \"mesh3d\"}], \"parcoords\": [{\"line\": {\"colorbar\": {\"outlinewidth\": 0, \"ticks\": \"\"}}, \"type\": \"parcoords\"}], \"pie\": [{\"automargin\": true, \"type\": \"pie\"}], \"scatter\": [{\"marker\": {\"colorbar\": {\"outlinewidth\": 0, \"ticks\": \"\"}}, \"type\": \"scatter\"}], \"scatter3d\": [{\"line\": {\"colorbar\": {\"outlinewidth\": 0, \"ticks\": \"\"}}, \"marker\": {\"colorbar\": {\"outlinewidth\": 0, \"ticks\": \"\"}}, \"type\": \"scatter3d\"}], \"scattercarpet\": [{\"marker\": {\"colorbar\": {\"outlinewidth\": 0, \"ticks\": \"\"}}, \"type\": \"scattercarpet\"}], \"scattergeo\": [{\"marker\": {\"colorbar\": {\"outlinewidth\": 0, \"ticks\": \"\"}}, \"type\": \"scattergeo\"}], \"scattergl\": [{\"marker\": {\"colorbar\": {\"outlinewidth\": 0, \"ticks\": \"\"}}, \"type\": \"scattergl\"}], \"scattermapbox\": [{\"marker\": {\"colorbar\": {\"outlinewidth\": 0, \"ticks\": \"\"}}, \"type\": \"scattermapbox\"}], \"scatterpolar\": [{\"marker\": {\"colorbar\": {\"outlinewidth\": 0, \"ticks\": \"\"}}, \"type\": \"scatterpolar\"}], \"scatterpolargl\": [{\"marker\": {\"colorbar\": {\"outlinewidth\": 0, \"ticks\": \"\"}}, \"type\": \"scatterpolargl\"}], \"scatterternary\": [{\"marker\": {\"colorbar\": {\"outlinewidth\": 0, \"ticks\": \"\"}}, \"type\": \"scatterternary\"}], \"surface\": [{\"colorbar\": {\"outlinewidth\": 0, \"ticks\": \"\"}, \"colorscale\": [[0.0, \"#0d0887\"], [0.1111111111111111, \"#46039f\"], [0.2222222222222222, \"#7201a8\"], [0.3333333333333333, \"#9c179e\"], [0.4444444444444444, \"#bd3786\"], [0.5555555555555556, \"#d8576b\"], [0.6666666666666666, \"#ed7953\"], [0.7777777777777778, \"#fb9f3a\"], [0.8888888888888888, \"#fdca26\"], [1.0, \"#f0f921\"]], \"type\": \"surface\"}], \"table\": [{\"cells\": {\"fill\": {\"color\": \"#EBF0F8\"}, \"line\": {\"color\": \"white\"}}, \"header\": {\"fill\": {\"color\": \"#C8D4E3\"}, \"line\": {\"color\": \"white\"}}, \"type\": \"table\"}]}, \"layout\": {\"annotationdefaults\": {\"arrowcolor\": \"#2a3f5f\", \"arrowhead\": 0, \"arrowwidth\": 1}, \"coloraxis\": {\"colorbar\": {\"outlinewidth\": 0, \"ticks\": \"\"}}, \"colorscale\": {\"diverging\": [[0, \"#8e0152\"], [0.1, \"#c51b7d\"], [0.2, \"#de77ae\"], [0.3, \"#f1b6da\"], [0.4, \"#fde0ef\"], [0.5, \"#f7f7f7\"], [0.6, \"#e6f5d0\"], [0.7, \"#b8e186\"], [0.8, \"#7fbc41\"], [0.9, \"#4d9221\"], [1, \"#276419\"]], \"sequential\": [[0.0, \"#0d0887\"], [0.1111111111111111, \"#46039f\"], [0.2222222222222222, \"#7201a8\"], [0.3333333333333333, \"#9c179e\"], [0.4444444444444444, \"#bd3786\"], [0.5555555555555556, \"#d8576b\"], [0.6666666666666666, \"#ed7953\"], [0.7777777777777778, \"#fb9f3a\"], [0.8888888888888888, \"#fdca26\"], [1.0, \"#f0f921\"]], \"sequentialminus\": [[0.0, \"#0d0887\"], [0.1111111111111111, \"#46039f\"], [0.2222222222222222, \"#7201a8\"], [0.3333333333333333, \"#9c179e\"], [0.4444444444444444, \"#bd3786\"], [0.5555555555555556, \"#d8576b\"], [0.6666666666666666, \"#ed7953\"], [0.7777777777777778, \"#fb9f3a\"], [0.8888888888888888, \"#fdca26\"], [1.0, \"#f0f921\"]]}, \"colorway\": [\"#636efa\", \"#EF553B\", \"#00cc96\", \"#ab63fa\", \"#FFA15A\", \"#19d3f3\", \"#FF6692\", \"#B6E880\", \"#FF97FF\", \"#FECB52\"], \"font\": {\"color\": \"#2a3f5f\"}, \"geo\": {\"bgcolor\": \"white\", \"lakecolor\": \"white\", \"landcolor\": \"#E5ECF6\", \"showlakes\": true, \"showland\": true, \"subunitcolor\": \"white\"}, \"hoverlabel\": {\"align\": \"left\"}, \"hovermode\": \"closest\", \"mapbox\": {\"style\": \"light\"}, \"paper_bgcolor\": \"white\", \"plot_bgcolor\": \"#E5ECF6\", \"polar\": {\"angularaxis\": {\"gridcolor\": \"white\", \"linecolor\": \"white\", \"ticks\": \"\"}, \"bgcolor\": \"#E5ECF6\", \"radialaxis\": {\"gridcolor\": \"white\", \"linecolor\": \"white\", \"ticks\": \"\"}}, \"scene\": {\"xaxis\": {\"backgroundcolor\": \"#E5ECF6\", \"gridcolor\": \"white\", \"gridwidth\": 2, \"linecolor\": \"white\", \"showbackground\": true, \"ticks\": \"\", \"zerolinecolor\": \"white\"}, \"yaxis\": {\"backgroundcolor\": \"#E5ECF6\", \"gridcolor\": \"white\", \"gridwidth\": 2, \"linecolor\": \"white\", \"showbackground\": true, \"ticks\": \"\", \"zerolinecolor\": \"white\"}, \"zaxis\": {\"backgroundcolor\": \"#E5ECF6\", \"gridcolor\": \"white\", \"gridwidth\": 2, \"linecolor\": \"white\", \"showbackground\": true, \"ticks\": \"\", \"zerolinecolor\": \"white\"}}, \"shapedefaults\": {\"line\": {\"color\": \"#2a3f5f\"}}, \"ternary\": {\"aaxis\": {\"gridcolor\": \"white\", \"linecolor\": \"white\", \"ticks\": \"\"}, \"baxis\": {\"gridcolor\": \"white\", \"linecolor\": \"white\", \"ticks\": \"\"}, \"bgcolor\": \"#E5ECF6\", \"caxis\": {\"gridcolor\": \"white\", \"linecolor\": \"white\", \"ticks\": \"\"}}, \"title\": {\"x\": 0.05}, \"xaxis\": {\"automargin\": true, \"gridcolor\": \"white\", \"linecolor\": \"white\", \"ticks\": \"\", \"title\": {\"standoff\": 15}, \"zerolinecolor\": \"white\", \"zerolinewidth\": 2}, \"yaxis\": {\"automargin\": true, \"gridcolor\": \"white\", \"linecolor\": \"white\", \"ticks\": \"\", \"title\": {\"standoff\": 15}, \"zerolinecolor\": \"white\", \"zerolinewidth\": 2}}}, \"width\": 700, \"xaxis\": {\"anchor\": \"y\", \"domain\": [0.0, 1.0], \"title\": {\"text\": \"pca_1\"}}, \"yaxis\": {\"anchor\": \"x\", \"domain\": [0.0, 1.0], \"title\": {\"text\": \"pca_2\"}}},\n",
              "                        {\"responsive\": true}\n",
              "                    ).then(function(){\n",
              "                            \n",
              "var gd = document.getElementById('33465eef-1a33-49d7-9f9d-b16eded35752');\n",
              "var x = new MutationObserver(function (mutations, observer) {{\n",
              "        var display = window.getComputedStyle(gd).display;\n",
              "        if (!display || display === 'none') {{\n",
              "            console.log([gd, 'removed!']);\n",
              "            Plotly.purge(gd);\n",
              "            observer.disconnect();\n",
              "        }}\n",
              "}});\n",
              "\n",
              "// Listen for the removal of the full notebook cells\n",
              "var notebookContainer = gd.closest('#notebook-container');\n",
              "if (notebookContainer) {{\n",
              "    x.observe(notebookContainer, {childList: true});\n",
              "}}\n",
              "\n",
              "// Listen for the clearing of the current output cell\n",
              "var outputEl = gd.closest('.output');\n",
              "if (outputEl) {{\n",
              "    x.observe(outputEl, {childList: true});\n",
              "}}\n",
              "\n",
              "                        })\n",
              "                };\n",
              "                \n",
              "            </script>\n",
              "        </div>\n",
              "</body>\n",
              "</html>"
            ]
          },
          "metadata": {
            "tags": []
          }
        }
      ]
    },
    {
      "cell_type": "code",
      "metadata": {
        "id": "Vpq7GMLUuSCe",
        "colab_type": "code",
        "colab": {
          "base_uri": "https://localhost:8080/",
          "height": 402
        },
        "outputId": "dc053f0d-319f-4fc2-cd62-c3bfed48f607"
      },
      "source": [
        "from sklearn.decomposition import PCA\n",
        "\n",
        "pca = PCA(n_components=2)\n",
        "X_pca = pca.fit_transform(X_std)\n",
        "pca_df = pd.DataFrame(data=X_pca, columns=['pca_1', 'pca_2'])\n",
        "pca_df['class'] = df['class']\n",
        "pca_df"
      ],
      "execution_count": 22,
      "outputs": [
        {
          "output_type": "execute_result",
          "data": {
            "text/html": [
              "<div>\n",
              "<style scoped>\n",
              "    .dataframe tbody tr th:only-of-type {\n",
              "        vertical-align: middle;\n",
              "    }\n",
              "\n",
              "    .dataframe tbody tr th {\n",
              "        vertical-align: top;\n",
              "    }\n",
              "\n",
              "    .dataframe thead th {\n",
              "        text-align: right;\n",
              "    }\n",
              "</style>\n",
              "<table border=\"1\" class=\"dataframe\">\n",
              "  <thead>\n",
              "    <tr style=\"text-align: right;\">\n",
              "      <th></th>\n",
              "      <th>pca_1</th>\n",
              "      <th>pca_2</th>\n",
              "      <th>class</th>\n",
              "    </tr>\n",
              "  </thead>\n",
              "  <tbody>\n",
              "    <tr>\n",
              "      <th>0</th>\n",
              "      <td>-2.264703</td>\n",
              "      <td>0.480027</td>\n",
              "      <td>setosa</td>\n",
              "    </tr>\n",
              "    <tr>\n",
              "      <th>1</th>\n",
              "      <td>-2.080961</td>\n",
              "      <td>-0.674134</td>\n",
              "      <td>setosa</td>\n",
              "    </tr>\n",
              "    <tr>\n",
              "      <th>2</th>\n",
              "      <td>-2.364229</td>\n",
              "      <td>-0.341908</td>\n",
              "      <td>setosa</td>\n",
              "    </tr>\n",
              "    <tr>\n",
              "      <th>3</th>\n",
              "      <td>-2.299384</td>\n",
              "      <td>-0.597395</td>\n",
              "      <td>setosa</td>\n",
              "    </tr>\n",
              "    <tr>\n",
              "      <th>4</th>\n",
              "      <td>-2.389842</td>\n",
              "      <td>0.646835</td>\n",
              "      <td>setosa</td>\n",
              "    </tr>\n",
              "    <tr>\n",
              "      <th>...</th>\n",
              "      <td>...</td>\n",
              "      <td>...</td>\n",
              "      <td>...</td>\n",
              "    </tr>\n",
              "    <tr>\n",
              "      <th>145</th>\n",
              "      <td>1.870503</td>\n",
              "      <td>0.386966</td>\n",
              "      <td>virginica</td>\n",
              "    </tr>\n",
              "    <tr>\n",
              "      <th>146</th>\n",
              "      <td>1.564580</td>\n",
              "      <td>-0.896687</td>\n",
              "      <td>virginica</td>\n",
              "    </tr>\n",
              "    <tr>\n",
              "      <th>147</th>\n",
              "      <td>1.521170</td>\n",
              "      <td>0.269069</td>\n",
              "      <td>virginica</td>\n",
              "    </tr>\n",
              "    <tr>\n",
              "      <th>148</th>\n",
              "      <td>1.372788</td>\n",
              "      <td>1.011254</td>\n",
              "      <td>virginica</td>\n",
              "    </tr>\n",
              "    <tr>\n",
              "      <th>149</th>\n",
              "      <td>0.960656</td>\n",
              "      <td>-0.024332</td>\n",
              "      <td>virginica</td>\n",
              "    </tr>\n",
              "  </tbody>\n",
              "</table>\n",
              "<p>150 rows × 3 columns</p>\n",
              "</div>"
            ],
            "text/plain": [
              "        pca_1     pca_2      class\n",
              "0   -2.264703  0.480027     setosa\n",
              "1   -2.080961 -0.674134     setosa\n",
              "2   -2.364229 -0.341908     setosa\n",
              "3   -2.299384 -0.597395     setosa\n",
              "4   -2.389842  0.646835     setosa\n",
              "..        ...       ...        ...\n",
              "145  1.870503  0.386966  virginica\n",
              "146  1.564580 -0.896687  virginica\n",
              "147  1.521170  0.269069  virginica\n",
              "148  1.372788  1.011254  virginica\n",
              "149  0.960656 -0.024332  virginica\n",
              "\n",
              "[150 rows x 3 columns]"
            ]
          },
          "metadata": {
            "tags": []
          },
          "execution_count": 22
        }
      ]
    },
    {
      "cell_type": "code",
      "metadata": {
        "id": "sczf6U67uj9L",
        "colab_type": "code",
        "colab": {
          "base_uri": "https://localhost:8080/",
          "height": 542
        },
        "outputId": "b55b31fe-a975-4b9c-db07-1a993a7f4b18"
      },
      "source": [
        "px.scatter(pca_df, 'pca_1', 'pca_2', color='class', width=700)"
      ],
      "execution_count": 23,
      "outputs": [
        {
          "output_type": "display_data",
          "data": {
            "text/html": [
              "<html>\n",
              "<head><meta charset=\"utf-8\" /></head>\n",
              "<body>\n",
              "    <div>\n",
              "            <script src=\"https://cdnjs.cloudflare.com/ajax/libs/mathjax/2.7.5/MathJax.js?config=TeX-AMS-MML_SVG\"></script><script type=\"text/javascript\">if (window.MathJax) {MathJax.Hub.Config({SVG: {font: \"STIX-Web\"}});}</script>\n",
              "                <script type=\"text/javascript\">window.PlotlyConfig = {MathJaxConfig: 'local'};</script>\n",
              "        <script src=\"https://cdn.plot.ly/plotly-latest.min.js\"></script>    \n",
              "            <div id=\"ac04a0ba-c783-4a76-ad78-d54fd18b1458\" class=\"plotly-graph-div\" style=\"height:525px; width:700px;\"></div>\n",
              "            <script type=\"text/javascript\">\n",
              "                \n",
              "                    window.PLOTLYENV=window.PLOTLYENV || {};\n",
              "                    \n",
              "                if (document.getElementById(\"ac04a0ba-c783-4a76-ad78-d54fd18b1458\")) {\n",
              "                    Plotly.newPlot(\n",
              "                        'ac04a0ba-c783-4a76-ad78-d54fd18b1458',\n",
              "                        [{\"hoverlabel\": {\"namelength\": 0}, \"hovertemplate\": \"class=setosa<br>pca_1=%{x}<br>pca_2=%{y}\", \"legendgroup\": \"class=setosa\", \"marker\": {\"color\": \"#636efa\", \"symbol\": \"circle\"}, \"mode\": \"markers\", \"name\": \"class=setosa\", \"showlegend\": true, \"type\": \"scatter\", \"x\": [-2.2647028088075962, -2.0809611519657687, -2.3642290538903015, -2.2993842170427086, -2.389842166313845, -2.075630948176513, -2.444028835134153, -2.232847158872015, -2.3346404779076217, -2.1843281749339423, -2.166310100701323, -2.326130866442699, -2.2184508988224096, -2.6331006957652283, -2.1987406032666907, -2.262214531601022, -2.207587695824593, -2.190349509192299, -1.8985719958028429, -2.3433690530749938, -1.914322996082568, -2.207012843194799, -2.7743447029273325, -1.8186695286958499, -2.2271633057066387, -1.9518463309003762, -2.0511513727294157, -2.168577174654217, -2.139563451301332, -2.2652614931542416, -2.1401221356479843, -1.8315947706760287, -2.614947935858935, -2.4461773916965157, -2.1099748753186525, -2.207808899078266, -2.0451462067542017, -2.5273319131704866, -2.4296325750845464, -2.169710711630664, -2.2864751433456707, -1.8581224563735714, -2.5536383956143562, -1.9644476837637415, -2.1370590058116234, -2.06974429959183, -2.3847331657782633, -2.3943763142196333, -2.229446547942675, -2.203833435519131], \"xaxis\": \"x\", \"y\": [0.48002659652098906, -0.6741335566053536, -0.34190802388467684, -0.5973945076746764, 0.6468353829020268, 1.4891775233211666, 0.04764419763001348, 0.22314807268959136, -1.1153276754616672, -0.4690135614023761, 1.0436906530538599, 0.13307833523923104, -0.7286761653165713, -0.9615067291701639, 1.8600571132939314, 2.686284485110592, 1.4836093631555725, 0.48883831648632753, 1.4050187944665495, 1.1278493819084758, 0.4088557077559062, 0.9241214267468982, 0.45834366775291485, 0.08555852628736584, 0.13725445536342665, -0.625618587776677, 0.24216355266166667, 0.5271495253082673, 0.3132178101399517, -0.3377319037604812, -0.5045406901415189, 0.4236950676037859, 1.7935758561044284, 2.150727877392924, -0.4602018414370377, -0.20610739768843714, 0.6615581114631085, 0.5922927741908091, -0.9041800403761489, 0.2688789614354706, 0.4417153876990498, -2.337415157553348, -0.47910069012231493, 0.47232666771926046, 1.1422292620394083, -0.7110527253858945, 1.1204297019845357, -0.38624687258915796, 0.9979597643079803, 0.009216357521275934], \"yaxis\": \"y\"}, {\"hoverlabel\": {\"namelength\": 0}, \"hovertemplate\": \"class=versicolor<br>pca_1=%{x}<br>pca_2=%{y}\", \"legendgroup\": \"class=versicolor\", \"marker\": {\"color\": \"#EF553B\", \"symbol\": \"circle\"}, \"mode\": \"markers\", \"name\": \"class=versicolor\", \"showlegend\": true, \"type\": \"scatter\", \"x\": [1.1017811830529483, 0.7313374253960877, 1.2409793195158314, 0.4074830588173857, 1.0754747006090783, 0.38868733653566523, 0.746529741329161, -0.4873227421256394, 0.9279016383549457, 0.011426188736980284, -0.11019628000062837, 0.44069344898307855, 0.5621083064431794, 0.7195618886754969, -0.03335470317877217, 0.875407190857738, 0.35025166799508295, 0.15881004754797165, 1.2250936335624325, 0.16491789938632773, 0.7376826487712584, 0.47628719094097166, 1.23417809765715, 0.6328581997098223, 0.7026611831361824, 0.8742736538812906, 1.2565091165418838, 1.3584051214406323, 0.6648003672253952, -0.04025861090059527, 0.1307951754978611, 0.023452688970551326, 0.2415382729545112, 1.0610946088426145, 0.2239787735123798, 0.4291391155161607, 1.0487280512090877, 1.0445313843962796, 0.069588321116423, 0.28347723828757576, 0.27907777605546125, 0.6245697914985716, 0.3365303701314362, -0.362183384619383, 0.2885862388231576, 0.09136065565450532, 0.22771686553470014, 0.5763882886534789, -0.44766701902861145, 0.25673058888758493], \"xaxis\": \"x\", \"y\": [0.8629724182621596, 0.5946147256694247, 0.6162976544374991, -1.7544039893234107, -0.20842104605096515, -0.5932836359900755, 0.7730193120985965, -1.8524290868575748, 0.03222607789115433, -1.0340182751294411, -2.654072818536565, -0.06329518843800157, -1.7647243806169448, -0.18622460583150574, -0.4390032099816249, 0.5090639567734092, -0.19631173455144446, -0.7920957424327215, -1.6222438030915014, -1.3026092302957728, 0.39657156196023857, -0.4173202812135508, -0.9333257287992781, -0.4163877208890994, -0.06341181972479977, 0.2507933929006126, -0.0772560196958684, 0.3313116817908985, -0.22592785469484372, -1.0587185465539082, -1.5622718342099677, -1.5724755942167046, -0.777256382584842, -0.633843244734947, -0.28777351204320284, 0.8455822409050784, 0.5220517968629431, -1.382988719190781, -0.21950333464771535, -1.329324639069577, -1.120028523742404, 0.024923029254012675, -0.9884040176703602, -2.019237873238612, -0.8557303199870666, -0.18119212582577554, -0.38492008098735403, -0.1548735972165586, -1.5437920343977565, -0.5988517961556696], \"yaxis\": \"y\"}, {\"hoverlabel\": {\"namelength\": 0}, \"hovertemplate\": \"class=virginica<br>pca_1=%{x}<br>pca_2=%{y}\", \"legendgroup\": \"class=virginica\", \"marker\": {\"color\": \"#00cc96\", \"symbol\": \"circle\"}, \"mode\": \"markers\", \"name\": \"class=virginica\", \"showlegend\": true, \"type\": \"scatter\", \"x\": [1.8445688677230294, 1.15788161320578, 2.205266791075379, 1.44015066382754, 1.867812220330538, 2.7518733356662772, 0.36701768786072475, 2.3024394446251972, 2.0066864676766065, 2.2597773490125004, 1.3641754921860079, 1.6026786704779312, 1.8839007017032428, 1.2601150991975083, 1.4676452010173244, 1.590077317614566, 1.4714314611333188, 2.4263289873157, 3.3106955839338883, 1.263766673639829, 2.037716301469405, 0.977980734249422, 2.8976514907341695, 1.3332321759732095, 1.7007338974912174, 1.9543267058530711, 1.1751036315549332, 1.0209505506957914, 1.7883499201796662, 1.8636475533282617, 2.435953727922704, 2.3049277218317648, 1.862703219794956, 1.1141477406864753, 1.2024733016783913, 2.7987704475781086, 1.5762559101947546, 1.3462921036270623, 0.9248249165424198, 1.8520450517676705, 2.0148104299548764, 1.9017840902621896, 1.15788161320578, 2.0405582280520926, 1.9981470959523766, 1.8705032929564114, 1.564580483030329, 1.5211704996278381, 1.3727877895140732, 0.9606560300371284], \"xaxis\": \"x\", \"y\": [0.8704213123248228, -0.6988698623306908, 0.5620104770083562, -0.04698758810580661, 0.2950448244570197, 0.8004092010275428, -1.561502891476507, 0.42006557964277697, -0.7114386535471584, 1.9210103764598871, 0.6927564544903871, -0.4217004497726173, 0.4192496506051239, -1.1622604214064638, -0.442271587377083, 0.6762448057233199, 0.25562182447147064, 2.5566612507954933, 0.017780949320628125, -1.7067453803762673, 0.9104674096183111, -0.5717643248129923, 0.4136410595956487, -0.4818112186494293, 1.0139218673227917, 1.007777596153453, -0.3163944723097911, 0.06434602923956177, -0.1873612145908289, 0.5622907258861453, 0.259284433144281, 2.6263234682323797, -0.17854949462549055, -0.2929226233357313, -0.8113152708396687, 0.8568033294971065, 1.0685811073208074, 0.42243061085250827, 0.017223100452283997, 0.6761281744365218, 0.6138856369235752, 0.6895754942430029, -0.6988698623306908, 0.8675206009552285, 1.049168747184145, 0.3869660816657258, -0.896686808896526, 0.26906914427795176, 1.0112544185267927, -0.024331668169399655], \"yaxis\": \"y\"}],\n",
              "                        {\"legend\": {\"tracegroupgap\": 0}, \"margin\": {\"t\": 60}, \"template\": {\"data\": {\"bar\": [{\"error_x\": {\"color\": \"#2a3f5f\"}, \"error_y\": {\"color\": \"#2a3f5f\"}, \"marker\": {\"line\": {\"color\": \"#E5ECF6\", \"width\": 0.5}}, \"type\": \"bar\"}], \"barpolar\": [{\"marker\": {\"line\": {\"color\": \"#E5ECF6\", \"width\": 0.5}}, \"type\": \"barpolar\"}], \"carpet\": [{\"aaxis\": {\"endlinecolor\": \"#2a3f5f\", \"gridcolor\": \"white\", \"linecolor\": \"white\", \"minorgridcolor\": \"white\", \"startlinecolor\": \"#2a3f5f\"}, \"baxis\": {\"endlinecolor\": \"#2a3f5f\", \"gridcolor\": \"white\", \"linecolor\": \"white\", \"minorgridcolor\": \"white\", \"startlinecolor\": \"#2a3f5f\"}, \"type\": \"carpet\"}], \"choropleth\": [{\"colorbar\": {\"outlinewidth\": 0, \"ticks\": \"\"}, \"type\": \"choropleth\"}], \"contour\": [{\"colorbar\": {\"outlinewidth\": 0, \"ticks\": \"\"}, \"colorscale\": [[0.0, \"#0d0887\"], [0.1111111111111111, \"#46039f\"], [0.2222222222222222, \"#7201a8\"], [0.3333333333333333, \"#9c179e\"], [0.4444444444444444, \"#bd3786\"], [0.5555555555555556, \"#d8576b\"], [0.6666666666666666, \"#ed7953\"], [0.7777777777777778, \"#fb9f3a\"], [0.8888888888888888, \"#fdca26\"], [1.0, \"#f0f921\"]], \"type\": \"contour\"}], \"contourcarpet\": [{\"colorbar\": {\"outlinewidth\": 0, \"ticks\": \"\"}, \"type\": \"contourcarpet\"}], \"heatmap\": [{\"colorbar\": {\"outlinewidth\": 0, \"ticks\": \"\"}, \"colorscale\": [[0.0, \"#0d0887\"], [0.1111111111111111, \"#46039f\"], [0.2222222222222222, \"#7201a8\"], [0.3333333333333333, \"#9c179e\"], [0.4444444444444444, \"#bd3786\"], [0.5555555555555556, \"#d8576b\"], [0.6666666666666666, \"#ed7953\"], [0.7777777777777778, \"#fb9f3a\"], [0.8888888888888888, \"#fdca26\"], [1.0, \"#f0f921\"]], \"type\": \"heatmap\"}], \"heatmapgl\": [{\"colorbar\": {\"outlinewidth\": 0, \"ticks\": \"\"}, \"colorscale\": [[0.0, \"#0d0887\"], [0.1111111111111111, \"#46039f\"], [0.2222222222222222, \"#7201a8\"], [0.3333333333333333, \"#9c179e\"], [0.4444444444444444, \"#bd3786\"], [0.5555555555555556, \"#d8576b\"], [0.6666666666666666, \"#ed7953\"], [0.7777777777777778, \"#fb9f3a\"], [0.8888888888888888, \"#fdca26\"], [1.0, \"#f0f921\"]], \"type\": \"heatmapgl\"}], \"histogram\": [{\"marker\": {\"colorbar\": {\"outlinewidth\": 0, \"ticks\": \"\"}}, \"type\": \"histogram\"}], \"histogram2d\": [{\"colorbar\": {\"outlinewidth\": 0, \"ticks\": \"\"}, \"colorscale\": [[0.0, \"#0d0887\"], [0.1111111111111111, \"#46039f\"], [0.2222222222222222, \"#7201a8\"], [0.3333333333333333, \"#9c179e\"], [0.4444444444444444, \"#bd3786\"], [0.5555555555555556, \"#d8576b\"], [0.6666666666666666, \"#ed7953\"], [0.7777777777777778, \"#fb9f3a\"], [0.8888888888888888, \"#fdca26\"], [1.0, \"#f0f921\"]], \"type\": \"histogram2d\"}], \"histogram2dcontour\": [{\"colorbar\": {\"outlinewidth\": 0, \"ticks\": \"\"}, \"colorscale\": [[0.0, \"#0d0887\"], [0.1111111111111111, \"#46039f\"], [0.2222222222222222, \"#7201a8\"], [0.3333333333333333, \"#9c179e\"], [0.4444444444444444, \"#bd3786\"], [0.5555555555555556, \"#d8576b\"], [0.6666666666666666, \"#ed7953\"], [0.7777777777777778, \"#fb9f3a\"], [0.8888888888888888, \"#fdca26\"], [1.0, \"#f0f921\"]], \"type\": \"histogram2dcontour\"}], \"mesh3d\": [{\"colorbar\": {\"outlinewidth\": 0, \"ticks\": \"\"}, \"type\": \"mesh3d\"}], \"parcoords\": [{\"line\": {\"colorbar\": {\"outlinewidth\": 0, \"ticks\": \"\"}}, \"type\": \"parcoords\"}], \"pie\": [{\"automargin\": true, \"type\": \"pie\"}], \"scatter\": [{\"marker\": {\"colorbar\": {\"outlinewidth\": 0, \"ticks\": \"\"}}, \"type\": \"scatter\"}], \"scatter3d\": [{\"line\": {\"colorbar\": {\"outlinewidth\": 0, \"ticks\": \"\"}}, \"marker\": {\"colorbar\": {\"outlinewidth\": 0, \"ticks\": \"\"}}, \"type\": \"scatter3d\"}], \"scattercarpet\": [{\"marker\": {\"colorbar\": {\"outlinewidth\": 0, \"ticks\": \"\"}}, \"type\": \"scattercarpet\"}], \"scattergeo\": [{\"marker\": {\"colorbar\": {\"outlinewidth\": 0, \"ticks\": \"\"}}, \"type\": \"scattergeo\"}], \"scattergl\": [{\"marker\": {\"colorbar\": {\"outlinewidth\": 0, \"ticks\": \"\"}}, \"type\": \"scattergl\"}], \"scattermapbox\": [{\"marker\": {\"colorbar\": {\"outlinewidth\": 0, \"ticks\": \"\"}}, \"type\": \"scattermapbox\"}], \"scatterpolar\": [{\"marker\": {\"colorbar\": {\"outlinewidth\": 0, \"ticks\": \"\"}}, \"type\": \"scatterpolar\"}], \"scatterpolargl\": [{\"marker\": {\"colorbar\": {\"outlinewidth\": 0, \"ticks\": \"\"}}, \"type\": \"scatterpolargl\"}], \"scatterternary\": [{\"marker\": {\"colorbar\": {\"outlinewidth\": 0, \"ticks\": \"\"}}, \"type\": \"scatterternary\"}], \"surface\": [{\"colorbar\": {\"outlinewidth\": 0, \"ticks\": \"\"}, \"colorscale\": [[0.0, \"#0d0887\"], [0.1111111111111111, \"#46039f\"], [0.2222222222222222, \"#7201a8\"], [0.3333333333333333, \"#9c179e\"], [0.4444444444444444, \"#bd3786\"], [0.5555555555555556, \"#d8576b\"], [0.6666666666666666, \"#ed7953\"], [0.7777777777777778, \"#fb9f3a\"], [0.8888888888888888, \"#fdca26\"], [1.0, \"#f0f921\"]], \"type\": \"surface\"}], \"table\": [{\"cells\": {\"fill\": {\"color\": \"#EBF0F8\"}, \"line\": {\"color\": \"white\"}}, \"header\": {\"fill\": {\"color\": \"#C8D4E3\"}, \"line\": {\"color\": \"white\"}}, \"type\": \"table\"}]}, \"layout\": {\"annotationdefaults\": {\"arrowcolor\": \"#2a3f5f\", \"arrowhead\": 0, \"arrowwidth\": 1}, \"coloraxis\": {\"colorbar\": {\"outlinewidth\": 0, \"ticks\": \"\"}}, \"colorscale\": {\"diverging\": [[0, \"#8e0152\"], [0.1, \"#c51b7d\"], [0.2, \"#de77ae\"], [0.3, \"#f1b6da\"], [0.4, \"#fde0ef\"], [0.5, \"#f7f7f7\"], [0.6, \"#e6f5d0\"], [0.7, \"#b8e186\"], [0.8, \"#7fbc41\"], [0.9, \"#4d9221\"], [1, \"#276419\"]], \"sequential\": [[0.0, \"#0d0887\"], [0.1111111111111111, \"#46039f\"], [0.2222222222222222, \"#7201a8\"], [0.3333333333333333, \"#9c179e\"], [0.4444444444444444, \"#bd3786\"], [0.5555555555555556, \"#d8576b\"], [0.6666666666666666, \"#ed7953\"], [0.7777777777777778, \"#fb9f3a\"], [0.8888888888888888, \"#fdca26\"], [1.0, \"#f0f921\"]], \"sequentialminus\": [[0.0, \"#0d0887\"], [0.1111111111111111, \"#46039f\"], [0.2222222222222222, \"#7201a8\"], [0.3333333333333333, \"#9c179e\"], [0.4444444444444444, \"#bd3786\"], [0.5555555555555556, \"#d8576b\"], [0.6666666666666666, \"#ed7953\"], [0.7777777777777778, \"#fb9f3a\"], [0.8888888888888888, \"#fdca26\"], [1.0, \"#f0f921\"]]}, \"colorway\": [\"#636efa\", \"#EF553B\", \"#00cc96\", \"#ab63fa\", \"#FFA15A\", \"#19d3f3\", \"#FF6692\", \"#B6E880\", \"#FF97FF\", \"#FECB52\"], \"font\": {\"color\": \"#2a3f5f\"}, \"geo\": {\"bgcolor\": \"white\", \"lakecolor\": \"white\", \"landcolor\": \"#E5ECF6\", \"showlakes\": true, \"showland\": true, \"subunitcolor\": \"white\"}, \"hoverlabel\": {\"align\": \"left\"}, \"hovermode\": \"closest\", \"mapbox\": {\"style\": \"light\"}, \"paper_bgcolor\": \"white\", \"plot_bgcolor\": \"#E5ECF6\", \"polar\": {\"angularaxis\": {\"gridcolor\": \"white\", \"linecolor\": \"white\", \"ticks\": \"\"}, \"bgcolor\": \"#E5ECF6\", \"radialaxis\": {\"gridcolor\": \"white\", \"linecolor\": \"white\", \"ticks\": \"\"}}, \"scene\": {\"xaxis\": {\"backgroundcolor\": \"#E5ECF6\", \"gridcolor\": \"white\", \"gridwidth\": 2, \"linecolor\": \"white\", \"showbackground\": true, \"ticks\": \"\", \"zerolinecolor\": \"white\"}, \"yaxis\": {\"backgroundcolor\": \"#E5ECF6\", \"gridcolor\": \"white\", \"gridwidth\": 2, \"linecolor\": \"white\", \"showbackground\": true, \"ticks\": \"\", \"zerolinecolor\": \"white\"}, \"zaxis\": {\"backgroundcolor\": \"#E5ECF6\", \"gridcolor\": \"white\", \"gridwidth\": 2, \"linecolor\": \"white\", \"showbackground\": true, \"ticks\": \"\", \"zerolinecolor\": \"white\"}}, \"shapedefaults\": {\"line\": {\"color\": \"#2a3f5f\"}}, \"ternary\": {\"aaxis\": {\"gridcolor\": \"white\", \"linecolor\": \"white\", \"ticks\": \"\"}, \"baxis\": {\"gridcolor\": \"white\", \"linecolor\": \"white\", \"ticks\": \"\"}, \"bgcolor\": \"#E5ECF6\", \"caxis\": {\"gridcolor\": \"white\", \"linecolor\": \"white\", \"ticks\": \"\"}}, \"title\": {\"x\": 0.05}, \"xaxis\": {\"automargin\": true, \"gridcolor\": \"white\", \"linecolor\": \"white\", \"ticks\": \"\", \"title\": {\"standoff\": 15}, \"zerolinecolor\": \"white\", \"zerolinewidth\": 2}, \"yaxis\": {\"automargin\": true, \"gridcolor\": \"white\", \"linecolor\": \"white\", \"ticks\": \"\", \"title\": {\"standoff\": 15}, \"zerolinecolor\": \"white\", \"zerolinewidth\": 2}}}, \"width\": 700, \"xaxis\": {\"anchor\": \"y\", \"domain\": [0.0, 1.0], \"title\": {\"text\": \"pca_1\"}}, \"yaxis\": {\"anchor\": \"x\", \"domain\": [0.0, 1.0], \"title\": {\"text\": \"pca_2\"}}},\n",
              "                        {\"responsive\": true}\n",
              "                    ).then(function(){\n",
              "                            \n",
              "var gd = document.getElementById('ac04a0ba-c783-4a76-ad78-d54fd18b1458');\n",
              "var x = new MutationObserver(function (mutations, observer) {{\n",
              "        var display = window.getComputedStyle(gd).display;\n",
              "        if (!display || display === 'none') {{\n",
              "            console.log([gd, 'removed!']);\n",
              "            Plotly.purge(gd);\n",
              "            observer.disconnect();\n",
              "        }}\n",
              "}});\n",
              "\n",
              "// Listen for the removal of the full notebook cells\n",
              "var notebookContainer = gd.closest('#notebook-container');\n",
              "if (notebookContainer) {{\n",
              "    x.observe(notebookContainer, {childList: true});\n",
              "}}\n",
              "\n",
              "// Listen for the clearing of the current output cell\n",
              "var outputEl = gd.closest('.output');\n",
              "if (outputEl) {{\n",
              "    x.observe(outputEl, {childList: true});\n",
              "}}\n",
              "\n",
              "                        })\n",
              "                };\n",
              "                \n",
              "            </script>\n",
              "        </div>\n",
              "</body>\n",
              "</html>"
            ]
          },
          "metadata": {
            "tags": []
          }
        }
      ]
    },
    {
      "cell_type": "code",
      "metadata": {
        "id": "TnAD6YJHyeAs",
        "colab_type": "code",
        "colab": {}
      },
      "source": [
        ""
      ],
      "execution_count": 0,
      "outputs": []
    }
  ]
}