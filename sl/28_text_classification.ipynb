{
  "nbformat": 4,
  "nbformat_minor": 0,
  "metadata": {
    "colab": {
      "name": "Untitled0.ipynb",
      "provenance": [],
      "include_colab_link": true
    },
    "kernelspec": {
      "name": "python3",
      "display_name": "Python 3"
    }
  },
  "cells": [
    {
      "cell_type": "markdown",
      "metadata": {
        "id": "view-in-github",
        "colab_type": "text"
      },
      "source": [
        "<a href=\"https://colab.research.google.com/github/krakowiakpawel9/ml_course/blob/master/sl/28_text_classification.ipynb\" target=\"_parent\"><img src=\"https://colab.research.google.com/assets/colab-badge.svg\" alt=\"Open In Colab\"/></a>"
      ]
    },
    {
      "cell_type": "markdown",
      "metadata": {
        "id": "UbjsT92Xd3z1",
        "colab_type": "text"
      },
      "source": [
        "### scikit-learn\n",
        "Strona biblioteki: [https://scikit-learn.org](https://scikit-learn.org)  \n",
        "\n",
        "Dokumentacja/User Guide: [https://scikit-learn.org/stable/user_guide.html](https://scikit-learn.org/stable/user_guide.html)\n",
        "\n",
        "Podstawowa biblioteka do uczenia maszynowego w języku Python.\n",
        "\n",
        "Aby zainstalować bibliotekę scikit-learn, użyj polecenia poniżej:\n",
        "```\n",
        "!pip install scikit-learn\n",
        "```\n",
        "Aby zaktualizować do najnowszej wersji bibliotekę scikit-learn, użyj polecenia poniżej:\n",
        "```\n",
        "!pip install --upgrade scikit-learn\n",
        "```\n",
        "Kurs stworzony w oparciu o wersję `0.22.1`\n",
        "\n",
        "### Preprocessing danych:\n",
        "1. [Import bibliotek](#0)\n",
        "2. [Wygenerowanie danych](#1)\n",
        "3. [Utworzenie kopii danych](#2)\n",
        "4. [Zmiana typu danych i wstępna eksploracja](#3)\n",
        "5. [LabelEncoder](#4)\n",
        "6. [OneHotEncoder](#5)\n",
        "7. [Pandas *get_dummies()*](#6)\n",
        "8. [Standaryzacja - StandardScaler](#7)\n",
        "9. [Przygotowanie danych do modelu](#8)\n",
        "\n"
      ]
    },
    {
      "cell_type": "markdown",
      "metadata": {
        "id": "YkIALacsUnj7",
        "colab_type": "text"
      },
      "source": [
        "### <a name='0'></a> Import bibliotek"
      ]
    },
    {
      "cell_type": "code",
      "metadata": {
        "id": "VQ0ieU0UdN5D",
        "colab_type": "code",
        "outputId": "fa2e1086-8a03-4c0d-adfc-1154e3f3cd3a",
        "colab": {
          "base_uri": "https://localhost:8080/",
          "height": 35
        }
      },
      "source": [
        "import numpy as np\n",
        "import pandas as pd\n",
        "import plotly.express as px\n",
        "import sklearn\n",
        "\n",
        "np.random.seed(42)\n",
        "np.set_printoptions(precision=6, suppress=True, edgeitems=10, linewidth=1000, formatter=dict(float=lambda x: f'{x:.2f}'))\n",
        "sklearn.__version__"
      ],
      "execution_count": 1,
      "outputs": [
        {
          "output_type": "execute_result",
          "data": {
            "text/plain": [
              "'0.22.1'"
            ]
          },
          "metadata": {
            "tags": []
          },
          "execution_count": 1
        }
      ]
    },
    {
      "cell_type": "code",
      "metadata": {
        "id": "z3qrjRzoZ-na",
        "colab_type": "code",
        "colab": {
          "base_uri": "https://localhost:8080/",
          "height": 35
        },
        "outputId": "358779c0-a636-43cb-e858-10a920cf4110"
      },
      "source": [
        "from sklearn.datasets import fetch_20newsgroups\n",
        "\n",
        "raw_data = fetch_20newsgroups(subset='train')\n",
        "all_data = raw_data.copy()\n",
        "all_data.keys()"
      ],
      "execution_count": 2,
      "outputs": [
        {
          "output_type": "execute_result",
          "data": {
            "text/plain": [
              "dict_keys(['data', 'filenames', 'target_names', 'target', 'DESCR'])"
            ]
          },
          "metadata": {
            "tags": []
          },
          "execution_count": 2
        }
      ]
    },
    {
      "cell_type": "code",
      "metadata": {
        "id": "8O1gHwJzZ9VW",
        "colab_type": "code",
        "colab": {
          "base_uri": "https://localhost:8080/",
          "height": 381
        },
        "outputId": "24b3c4fd-b648-4dfb-f58d-6c3e53844dd6"
      },
      "source": [
        "all_data['target_names']"
      ],
      "execution_count": 3,
      "outputs": [
        {
          "output_type": "execute_result",
          "data": {
            "text/plain": [
              "['alt.atheism',\n",
              " 'comp.graphics',\n",
              " 'comp.os.ms-windows.misc',\n",
              " 'comp.sys.ibm.pc.hardware',\n",
              " 'comp.sys.mac.hardware',\n",
              " 'comp.windows.x',\n",
              " 'misc.forsale',\n",
              " 'rec.autos',\n",
              " 'rec.motorcycles',\n",
              " 'rec.sport.baseball',\n",
              " 'rec.sport.hockey',\n",
              " 'sci.crypt',\n",
              " 'sci.electronics',\n",
              " 'sci.med',\n",
              " 'sci.space',\n",
              " 'soc.religion.christian',\n",
              " 'talk.politics.guns',\n",
              " 'talk.politics.mideast',\n",
              " 'talk.politics.misc',\n",
              " 'talk.religion.misc']"
            ]
          },
          "metadata": {
            "tags": []
          },
          "execution_count": 3
        }
      ]
    },
    {
      "cell_type": "code",
      "metadata": {
        "id": "RoZDHY4UapmE",
        "colab_type": "code",
        "colab": {
          "base_uri": "https://localhost:8080/",
          "height": 145
        },
        "outputId": "4de64b2b-fabe-4690-dd0c-2b06ef3ee597"
      },
      "source": [
        "# ['alt.atheism', 'sci.space']\n",
        "# ['comp.graphics', 'talk.politics.misc']\n",
        "raw_data_train = fetch_20newsgroups(subset='train', categories=['alt.atheism', 'sci.space'], remove = ('headers', 'footers', 'quotes'),\n",
        "                                    shuffle=True, random_state=42)\n",
        "all_data_train = raw_data_train.copy()\n",
        "\n",
        "raw_data_test = fetch_20newsgroups(subset='test', categories=['alt.atheism', 'sci.space'], remove = ('headers', 'footers', 'quotes'),\n",
        "                                   shuffle=True, random_state=42)\n",
        "all_data_test = raw_data_test.copy()\n",
        "\n",
        "print(f'all_data_train: {all_data_train.keys()}')\n",
        "print(f'all_data_test: {all_data_test.keys()}\\n')\n",
        "\n",
        "print(f\"all_data_train target names: {all_data_train['target_names']}\")\n",
        "print(f\"all_data_test target names: {all_data_test['target_names']}\")\n",
        "\n",
        "print(f\"all_data_train target: {all_data_train['target'][:10]}\")\n",
        "print(f\"all_data_test target: {all_data_test['target'][:10]}\")"
      ],
      "execution_count": 4,
      "outputs": [
        {
          "output_type": "stream",
          "text": [
            "all_data_train: dict_keys(['data', 'filenames', 'target_names', 'target', 'DESCR'])\n",
            "all_data_test: dict_keys(['data', 'filenames', 'target_names', 'target', 'DESCR'])\n",
            "\n",
            "all_data_train target names: ['alt.atheism', 'sci.space']\n",
            "all_data_test target names: ['alt.atheism', 'sci.space']\n",
            "all_data_train target: [0 1 1 1 0 1 1 0 0 0]\n",
            "all_data_test target: [0 1 0 1 1 0 1 0 0 0]\n"
          ],
          "name": "stdout"
        }
      ]
    },
    {
      "cell_type": "code",
      "metadata": {
        "id": "XXtzZO7AcXYz",
        "colab_type": "code",
        "colab": {
          "base_uri": "https://localhost:8080/",
          "height": 54
        },
        "outputId": "fa06daef-0039-4acf-878f-1a0d95cd43d3"
      },
      "source": [
        "target = all_data_train['target_names']\n",
        "\n",
        "data_train = all_data_train['data']\n",
        "target_train = all_data_train['target']\n",
        "\n",
        "data_test = all_data_test['data']\n",
        "target_test = all_data_test['target']\n",
        "\n",
        "print(f'Liczba próbek treningowych: {len(data_train)}')\n",
        "print(f'Liczba próbek testowych: {len(data_test)}')"
      ],
      "execution_count": 5,
      "outputs": [
        {
          "output_type": "stream",
          "text": [
            "Liczba próbek treningowych: 1073\n",
            "Liczba próbek testowych: 713\n"
          ],
          "name": "stdout"
        }
      ]
    },
    {
      "cell_type": "code",
      "metadata": {
        "id": "oiNqucIJeAER",
        "colab_type": "code",
        "colab": {
          "base_uri": "https://localhost:8080/",
          "height": 219
        },
        "outputId": "8a2b009e-2f47-4d04-f73b-de5865415416"
      },
      "source": [
        "data_train[:10]"
      ],
      "execution_count": 6,
      "outputs": [
        {
          "output_type": "execute_result",
          "data": {
            "text/plain": [
              "[': \\n: >> Please enlighten me.  How is omnipotence contradictory?\\n: \\n: >By definition, all that can occur in the universe is governed by the rules\\n: >of nature. Thus god cannot break them. Anything that god does must be allowed\\n: >in the rules somewhere. Therefore, omnipotence CANNOT exist! It contradicts\\n: >the rules of nature.\\n: \\n: Obviously, an omnipotent god can change the rules.\\n\\nWhen you say, \"By definition\", what exactly is being defined;\\ncertainly not omnipotence. You seem to be saying that the \"rules of\\nnature\" are pre-existant somehow, that they not only define nature but\\nactually cause it. If that\\'s what you mean I\\'d like to hear your\\nfurther thoughts on the question.',\n",
              " \"In <19APR199320262420@kelvin.jpl.nasa.gov> baalke@kelvin.jpl.nasa.gov \\n\\nSorry I think I missed a bit of info on this Transition Experiment. What is it?\\n\\nWill this mean a loss of data or will the Magellan transmit data later on ??\\n\\nBTW: When will NASA cut off the connection with Magellan?? Not that I am\\nlooking forward to that day but I am just curious. I believe it had something\\nto do with the funding from the goverment (or rather _NO_ funding :-)\\n\\nok that's it for now. See you guys around,\\nJurriaan.\\n \",\n",
              " '\\nHenry, I made the assumption that he who gets there firstest with the mostest\\nwins. \\n\\nOhhh, you want to put in FINE PRINT which says \"Thou shall do wonderous R&D\\nrather than use off-the-shelf hardware\"? Sorry, didn\\'t see that in my copy.\\nMost of the Pournellesque proposals run along the lines of <some dollar\\namount> reward for <some simple goal>.  \\n\\nYou go ahead and do your development, I\\'ll buy off the shelf at higher cost (or\\neven Russian; but I also assume that there\\'d be some \"Buy US\" provos in there)\\nand be camped out in the Moon while you are launching and assembling little\\nitty-bitty payloads in LEO with your laser or gas gun.  And working out the\\nbugs of assembly & integration in LEO. \\n\\nOh, hey, could I get a couple of CanadARMs tuned for the lunar environment?  I\\nwanna do some teleoperated prospecting while I\\'m up there...\\n\\n\\n',\n",
              " '\\n\\n\\nNo. I estimate a 99 % probability the Gehrels referred to\\nis Thomas Gehrels of the Spacewatch project, Kitt Peak observatory.\\n\\nMaybe in the 24th century they could do gamma ray spectroscopy on\\ndistant asteroids with an orbiting observatory, but here in the\\nprimitive 20th we have to send a probe there to get gamma ray\\nspectroscopy done.\\n\\n\\nYou have the info on Mayan Television yet?\\n',\n",
              " \"\\nLucky for them that the baby didn't have any obvious deformities!  I could\\njust see it now: Mary gets pregnant out of wedlock so to save face she and\\nJoseph say that it was God that got her pregnant and then the baby turns\\nout to be deformed, or even worse, stillborn!  They'd have a lot of\\nexplaining to do.... :-)\\n\",\n",
              " 'This discussion is better followed in talk.politics.space\\nJoseph Cain\\t\\tcain@geomag.gly.fsu.edu   \\ncain@fsu.bitnet\\t\\tscri::cain\\n(904) 644-4014\\t\\tFAX (904) 644-4214 or -0098\\n',\n",
              " 'Archive-name: space/acronyms\\nEdition: 8\\n\\nAcronym List for sci.astro, sci.space, and sci.space.shuttle:\\nEdition 8, 1992 Dec 7\\nLast posted: 1992 Aug 27\\n\\nThis list is offered as a reference for translating commonly appearing\\nacronyms in the space-related newsgroups.  If I forgot or botched your\\nfavorite acronym, please let me know!  Also, if there\\'s an acronym *not*\\non this list that confuses you, drop me a line, and if I can figure\\nit out, I\\'ll add it to the list.\\n\\nNote that this is intended to be a reference for *frequently seen*\\nacronyms, and is most emphatically *not* encyclopedic.  If I incorporated\\nevery acronym I ever saw, I\\'d soon run out of disk space!  :-)\\n\\nThe list will be posted at regular intervals, every 30 days.  All\\ncomments regarding it are welcome; I\\'m reachable as bradfrd2@ncar.ucar.edu.\\n\\nNote that this just tells what the acronyms stand for -- you\\'re on your\\nown for figuring out what they *mean*!  Note also that the total number of\\nacronyms in use far exceeds what I can list; special-purpose acronyms that\\nare essentially always explained as they\\'re introduced are omitted.\\nFurther, some acronyms stand for more than one thing; as of Edition 3 of\\nthe list, these acronyms appear on multiple lines, unless they\\'re simply\\ndifferent ways of referring to the same thing.\\n\\nThanks to everybody who\\'s sent suggestions since the first version of\\nthe list, and especially to Garrett A. Wollman (wollman@griffin.uvm.edu),\\nwho is maintaining an independent list, somewhat more verbose in\\ncharacter than mine, and to Daniel Fischer (dfi@specklec.mpifr-bonn.mpg.de),\\nwho is maintaining a truly HUGE list (535 at last count) of acronyms and\\nterms, mostly in German (which I read, fortunately).\\n\\nSpecial thanks this time to Ken Hollis at NASA, who sent me a copy of NASA\\nReference Publication 1059 Revised: _Space Transportation System and\\nAssociated Payloads: Glossary, Acronyms, and Abbreviations_, a truly\\nmammoth tome -- almost 300 pages of TLAs.\\n\\nSpecial Bonus!  At the end of this posting, you will find a perl program\\nwritten by none other than Larry Wall, whose purpose is to scramble the\\nacronym list in an entertaining fashion.  Thanks, Larry!\\n\\nA&A: Astronomy and Astrophysics\\nAAO: Anglo-Australian Observatory\\nAAS: American Astronomical Society\\nAAS: American Astronautical Society\\nAAVSO: American Association of Variable Star Observers\\nACE: Advanced Composition Explorer\\nACRV: Assured Crew Return Vehicle (or) Astronaut Crew Rescue Vehicle\\nADFRF: Ames-Dryden Flight Research Facility (was DFRF) (NASA)\\nAGN: Active Galactic Nucleus\\nAGU: American Geophysical Union\\nAIAA: American Institute of Aeronautics and Astronautics\\nAIPS: Astronomical Image Processing System\\nAJ: Astronomical Journal\\nALEXIS: Array of Low Energy X-ray Imaging Sensors\\nALPO: Association of Lunar and Planetary Observers\\nALS: Advanced Launch System\\nANSI: American National Standards Institute\\nAOA: Abort Once Around (Shuttle abort plan)\\nAOCS: Attitude and Orbit Control System\\nAp.J: Astrophysical Journal\\nAPM: Attached Pressurized Module (a.k.a. Columbus)\\nAPU: Auxiliary Power Unit\\nARC: Ames Research Center (NASA)\\nARTEMIS: Advanced Relay TEchnology MISsion\\nASA: Astronomical Society of the Atlantic\\nASI: Agenzia Spaziale Italiano\\nASRM: Advanced Solid Rocket Motor\\nATDRS: Advanced Tracking and Data Relay Satellite\\nATLAS: Atmospheric Laboratory for Applications and Science\\nATM: Amateur Telescope Maker\\nATO: Abort To Orbit (Shuttle abort plan)\\nAU: Astronomical Unit\\nAURA: Association of Universities for Research in Astronomy\\nAW&ST: Aviation Week and Space Technology (a.k.a. AvLeak)\\nAXAF: Advanced X-ray Astrophysics Facility\\nBATSE: Burst And Transient Source Experiment (on CGRO)\\nBBXRT: Broad-Band X-Ray Telescope (ASTRO package)\\nBEM: Bug-Eyed Monster\\nBH: Black Hole\\nBIMA: Berkeley Illinois Maryland Array\\nBNSC: British National Space Centre\\nBTW: By The Way\\nC&T: Communications & Tracking\\nCCAFS: Cape Canaveral Air Force Station\\nCCD: Charge-Coupled Device\\nCCDS: Centers for the Commercial Development of Space\\nCD-ROM: Compact Disk Read-Only Memory\\nCFA: Center For Astrophysics\\nCFC: ChloroFluoroCarbon\\nCFF: Columbus Free Flyer\\nCFHT: Canada-France-Hawaii Telescope\\nCGRO: (Arthur Holley) Compton Gamma Ray Observatory (was GRO)\\nCHARA: Center for High Angular Resolution Astronomy\\nCIRRIS: Cryogenic InfraRed Radiance Instrument for Shuttle\\nCIT: Circumstellar Imaging Telescope\\nCM: Command Module (Apollo spacecraft)\\nCMCC: Central Mission Control Centre (ESA)\\nCNES: Centre National d\\'Etude Spatiales\\nCNO: Carbon-Nitrogen-Oxygen\\nCNSR: Comet Nucleus Sample Return\\nCOBE: COsmic Background Explorer\\nCOMPTEL: COMPton TELescope (on CGRO)\\nCOSTAR: Corrective Optics Space Telescope Axial Replacement\\nCRAF: Comet Rendezvous / Asteroid Flyby\\nCRRES: Combined Release / Radiation Effects Satellite\\nCSM: Command and Service Module (Apollo spacecraft)\\nCSTC: Consolidated Satellite Test Center (USAF)\\nCTIO: Cerro Tololo Interamerican Observatory\\nDCX: Delta Clipper eXperimental\\nDDCU: DC-to-DC Converter Unit\\nDFRF: Dryden Flight Research Facility (now ADFRF)\\nDMSP: Defense Meteorological Satellite Program\\nDOD: Department Of Defense (sometimes DoD)\\nDOE: Department Of Energy\\nDOT: Department Of Transportation\\nDSCS: Defense Satellite Communications System\\nDSN: Deep Space Network\\nDSP: Defense Support Program (USAF/NRO)\\nEAFB: Edwards Air Force Base\\nECS: Environmental Control System\\nEDO: Extended Duration Orbiter\\nEGRET: Energetic Gamma Ray Experiment Telescope (on CGRO)\\nEJASA: Electronic Journal of the Astronomical Society of the Atlantic\\nELV: Expendable Launch Vehicle\\nEMU: Extravehicular Mobility Unit\\nEOS: Earth Observing System\\nERS: Earth Resources Satellite (as in ERS-1)\\nESA: European Space Agency\\nESO: European Southern Observatory\\nET: (Shuttle) External Tank\\nETLA: Extended Three Letter Acronym\\nETR: Eastern Test Range\\nEUV: Extreme UltraViolet\\nEUVE: Extreme UltraViolet Explorer\\nEVA: ExtraVehicular Activity\\nFAQ: Frequently Asked Questions\\nFAST: Fast Auroral SnapshoT explorer\\nFFT: Fast Fourier Transform\\nFGS: Fine Guidance Sensors (on HST)\\nFHST: Fixed Head Star Trackers (on HST)\\nFIR: Far InfraRed\\nFITS: Flexible Image Transport System\\nFOC: Faint Object Camera (on HST)\\nFOS: Faint Object Spectrograph (on HST)\\nFRR: Flight-Readiness Review\\nFTP: File Transfer Protocol\\nFTS: Flight Telerobotic Servicer\\nFUSE: Far Ultraviolet Spectroscopic Explorer\\nFWHM: Full Width at Half Maximum\\nFYI: For Your Information\\nGAS: Get-Away Special\\nGBT: Green Bank Telescope\\nGCVS: General Catalog of Variable Stars\\nGEM: Giotto Extended Mission\\nGEO: Geosynchronous Earth Orbit\\nGDS: Great Dark Spot\\nGHRS: Goddard High Resolution Spectrograph (on HST)\\nGIF: Graphics Interchange Format\\nGLOMR: Global Low-Orbiting Message Relay\\nGMC: Giant Molecular Cloud\\nGMRT: Giant Meter-wave Radio Telescope\\nGMT: Greenwich Mean Time (also called UT)\\nGOES: Geostationary Orbiting Environmental Satellite\\nGOX: Gaseous OXygen\\nGPC: General Purpose Computer\\nGPS: Global Positioning System\\nGRO: Gamma Ray Observatory (now CGRO)\\nGRS: Gamma Ray Spectrometer (on Mars Observer)\\nGRS: Great Red Spot\\nGSC: Guide Star Catalog (for HST)\\nGSFC: Goddard Space Flight Center (NASA)\\nGTO: Geostationary Transfer Orbit\\nHAO: High Altitude Observatory\\nHD: Henry Draper catalog entry\\nHEAO: High Energy Astronomical Observatory\\nHeRA: Hermes Robotic Arm\\nHF: High Frequency\\nHGA: High Gain Antenna\\nHLC: Heavy Lift Capability\\nHLV: Heavy Lift Vehicle\\nHMC: Halley Multicolor Camera (on Giotto)\\nHR: Hertzsprung-Russell (diagram)\\nHRI: High Resolution Imager (on ROSAT)\\nHSP: High Speed Photometer (on HST)\\nHST: Hubble Space Telescope\\nHUT: Hopkins Ultraviolet Telescope (ASTRO package)\\nHV: High Voltage\\nIAPPP: International Amateur/Professional Photoelectric Photometry\\nIAU: International Astronomical Union\\nIAUC: IAU Circular\\nICE: International Cometary Explorer\\nIDA: International Dark-sky Association\\nIDL: Interactive Data Language\\nIGM: InterGalactic Medium\\nIGY: International Geophysical Year\\nIMHO: In My Humble Opinion\\nIOTA: Infrared-Optical Telescope Array\\nIOTA: International Occultation Timing Association\\nIPS: Inertial Pointing System\\nIR: InfraRed\\nIRAF: Image Reduction and Analysis Facility\\nIRAS: InfraRed Astronomical Satellite\\nISAS: Institute of Space and Astronautical Science (Japan)\\nISM: InterStellar Medium\\nISO: Infrared Space Observatory\\nISO: International Standards Organization\\nISPM: International Solar Polar Mission (now Ulysses)\\nISY: International Space Year\\nIUE: International Ultraviolet Explorer\\nIUS: Inertial Upper Stage\\nJEM: Japanese Experiment Module (for SSF)\\nJGR: Journal of Geophysical Research\\nJILA: Joint Institute for Laboratory Astrophysics\\nJPL: Jet Propulsion Laboratory\\nJSC: Johnson Space Center (NASA)\\nKAO: Kuiper Airborne Observatory\\nKPNO: Kitt Peak National Observatory\\nKSC: Kennedy Space Center (NASA)\\nKTB: Cretaceous-Tertiary Boundary (from German)\\nLANL: Los Alamos National Laboratory\\nLaRC: Langley Research Center (NASA)\\nLDEF: Long Duration Exposure Facility\\nLEM: Lunar Excursion Module (a.k.a. LM) (Apollo spacecraft)\\nLEO: Low Earth Orbit\\nLeRC: Lewis Research Center (NASA)\\nLEST: Large Earth-based Solar Telescope\\nLFSA: List of Frequently Seen Acronyms (!)\\nLGA: Low Gain Antenna\\nLGM: Little Green Men\\nLH: Liquid Hydrogen (also LH2 or LHX)\\nLLNL: Lawrence-Livermore National Laboratory\\nLM: Lunar Module (a.k.a. LEM) (Apollo spacecraft)\\nLMC: Large Magellanic Cloud\\nLN2: Liquid N2 (Nitrogen)\\nLOX: Liquid OXygen\\nLRB: Liquid Rocket Booster\\nLSR: Local Standard of Rest\\nLTP: Lunar Transient Phenomenon\\nMB: Manned Base\\nMCC: Mission Control Center\\nMECO: Main Engine CutOff\\nMMH: MonoMethyl Hydrazine\\nMMT: Multiple Mirror Telescope\\nMMU: Manned Maneuvering Unit\\nMNRAS: Monthly Notices of the Royal Astronomical Society\\nMOC: Mars Observer Camera (on Mars Observer)\\nMOL: Manned Orbiting Laboratory\\nMOLA: Mars Observer Laser Altimeter (on Mars Observer)\\nMOMV: Manned Orbital Maneuvering Vehicle\\nMOTV: Manned Orbital Transfer Vehicle\\nMPC: Minor Planets Circular\\nMRSR: Mars Rover and Sample Return\\nMRSRM: Mars Rover and Sample Return Mission\\nMSFC: (George C.) Marshall Space Flight Center (NASA)\\nMTC: Man Tended Capability\\nNACA: National Advisory Committee on Aeronautics (became NASA)\\nNASA: National Aeronautics and Space Administration\\nNASDA: NAtional Space Development Agency (Japan)\\nNASM: National Air and Space Museum\\nNASP: National AeroSpace Plane\\nNBS: National Bureau of Standards (now NIST)\\nNDV: NASP Derived Vehicle\\nNERVA: Nuclear Engine for Rocket Vehicle Application\\nNGC: New General Catalog\\nNICMOS: Near Infrared Camera / Multi Object Spectrometer (HST upgrade)\\nNIMS: Near-Infrared Mapping Spectrometer (on Galileo)\\nNIR: Near InfraRed\\nNIST: National Institute for Standards and Technology (was NBS)\\nNLDP: National Launch Development Program\\nNOAA: National Oceanic and Atmospheric Administration\\nNOAO: National Optical Astronomy Observatories\\nNRAO: National Radio Astronomy Observatory\\nNRO: National Reconnaissance Office\\nNS: Neutron Star\\nNSA: National Security Agency\\nNSF: National Science Foundation\\nNSO: National Solar Observatory\\nNSSDC: National Space Science Data Center\\nNTR: Nuclear Thermal Rocket(ry)\\nNTT: New Technology Telescope\\nOAO: Orbiting Astronomical Observatory\\nOCST: Office of Commercial Space Transportation\\nOMB: Office of Management and Budget\\nOMS: Orbital Maneuvering System\\nOPF: Orbiter Processing Facility\\nORFEUS: Orbiting and Retrievable Far and Extreme Ultraviolet Spectrometer\\nOSC: Orbital Sciences Corporation\\nOSCAR: Orbiting Satellite Carrying Amateur Radio\\nOSSA: Office of Space Science and Applications\\nOSSE: Oriented Scintillation Spectrometer Experiment (on CGRO)\\nOTA: Optical Telescope Assembly (on HST)\\nOTHB: Over The Horizon Backscatter\\nOTV: Orbital Transfer Vehicle\\nOV: Orbital Vehicle\\nPAM: Payload Assist Module\\nPAM-D: Payload Assist Module, Delta-class\\nPI: Principal Investigator\\nPLSS: Portable Life Support System\\nPM: Pressurized Module\\nPMC: Permanently Manned Capability\\nPMIRR: Pressure Modulated InfraRed Radiometer (on Mars Observer)\\nPMT: PhotoMultiplier Tube\\nPSF: Point Spread Function\\nPSR: PulSaR\\nPV: Photovoltaic\\nPVO: Pioneer Venus Orbiter\\nQSO: Quasi-Stellar Object\\nRCI: Rodent Cage Interface (for SLS mission)\\nRCS: Reaction Control System\\nREM: Rat Enclosure Module (for SLS mission)\\nRF: Radio Frequency\\nRFI: Radio Frequency Interference\\nRIACS: Research Institute for Advanced Computer Science\\nRMS: Remote Manipulator System\\nRNGC: Revised New General Catalog\\nROSAT: ROentgen SATellite\\nROUS: Rodents Of Unusual Size (I don\\'t believe they exist)\\nRSN: Real Soon Now\\nRTG: Radioisotope Thermoelectric Generator\\nRTLS: Return To Launch Site (Shuttle abort plan)\\nSAA: South Atlantic Anomaly\\nSAGA: Solar Array Gain Augmentation (for HST)\\nSAMPEX: Solar Anomalous and Magnetospheric Particle EXplorer\\nSAO: Smithsonian Astrophysical Observatory\\nSAR: Search And Rescue\\nSAR: Synthetic Aperture Radar\\nSARA: Satellite pour Astronomie Radio Amateur\\nSAREX: Search and Rescue Exercise\\nSAREX: Shuttle Amateur Radio Experiment\\nSAS: Space Activity Suit\\nSAS: Space Adaptation Syndrome\\nSAT: Synthetic Aperture Telescope\\nS/C: SpaceCraft\\nSCA: Shuttle Carrier Aircraft\\nSCT: Schmidt-Cassegrain Telescope\\nSDI: Strategic Defense Initiative\\nSDIO: Strategic Defense Initiative Organization\\nSEI: Space Exploration Initiative\\nSEST: Swedish ESO Submillimeter Telescope\\nSETI: Search for ExtraTerrestrial Intelligence\\nSID: Sudden Ionospheric Disturbance\\nSIR: Shuttle Imaging Radar\\nSIRTF: Space (formerly Shuttle) InfraRed Telescope Facility\\nSL: SpaceLab\\nSLAR: Side-Looking Airborne Radar\\nSLC: Space Launch Complex\\nSLS: Space(lab) Life Sciences\\nSMC: Small Magellanic Cloud\\nSME: Solar Mesosphere Explorer\\nSMEX: SMall EXplorers\\nSMM: Solar Maximum Mission\\nSN: SuperNova (e.g., SN1987A)\\nSNR: Signal to Noise Ratio\\nSNR: SuperNova Remnant\\nSNU: Solar Neutrino Units\\nSOFIA: Stratospheric Observatory For Infrared Astronomy\\nSOHO: SOlar Heliospheric Observatory\\nSPAN: Space Physics and Analysis Network\\nSPDM: Special Purpose Dextrous Manipulator\\nSPOT: Systeme Probatoire pour l\\'Observation de la Terre\\nSPS: Solar Power Satellite\\nSRB: Solid Rocket Booster\\nSRM: Solid Rocket Motor\\nSSF: Space Station Fred (er, Freedom)\\nSSI: Solid-State Imager (on Galileo)\\nSSI: Space Studies Institut\\nSSME: Space Shuttle Main Engine\\nSSPF: Space Station Processing Facility\\nSSRMS: Space Station Remote Manipulator System\\nSST: Spectroscopic Survey Telescope\\nSST: SuperSonic Transport\\nSSTO: Single Stage To Orbit\\nSTIS: Space Telescope Imaging Spectrometer (to replace FOC and GHRS)\\nSTS: Shuttle Transport System (or) Space Transportation System\\nSTScI: Space Telescope Science Institute\\nSWAS: Submillimeter Wave Astronomy Satellite\\nSWF: ShortWave Fading\\nTAL: Transatlantic Abort Landing (Shuttle abort plan)\\nTAU: Thousand Astronomical Unit (mission)\\nTCS: Thermal Control System\\nTDRS: Tracking and Data Relay Satellite\\nTDRSS: Tracking and Data Relay Satellite System\\nTES: Thermal Emission Spectrometer (on Mars Observer)\\nTIROS: Television InfraRed Observation Satellite\\nTLA: Three Letter Acronym\\nTOMS: Total Ozone Mapping Spectrometer\\nTPS: Thermal Protection System\\nTSS: Tethered Satellite System\\nUARS: Upper Atmosphere Research Satellite\\nUBM: Unpressurized Berthing Mechanism\\nUDMH: Unsymmetrical DiMethyl Hydrazine\\nUFO: Unidentified Flying Object\\nUGC: Uppsala General Catalog\\nUHF: Ultra High Frequency\\nUIT: Ultraviolet Imaging Telescope (Astro package)\\nUKST: United Kingdom Schmidt Telescope\\nUSAF: United States Air Force\\nUSMP: United States Microgravity Payload\\nUT: Universal Time (a.k.a. GMT, UTC, or Zulu Time)\\nUTC: Coordinated Universal Time (a.k.a. UT)\\nUV: UltraViolet\\nUVS: UltraViolet Spectrometer\\nVAB: Vehicle Assembly Building (formerly Vertical Assembly Building)\\nVAFB: Vandenberg Air Force Base\\nVEEGA: Venus-Earth-Earth Gravity Assist (Galileo flight path)\\nVHF: Very High Frequency\\nVLA: Very Large Array\\nVLBA: Very Long Baseline Array\\nVLBI: Very Long Baseline Interferometry\\nVLF: Very Low Frequency\\nVLT: Very Large Telescope\\nVMS: Vertical Motion Simulator\\nVOIR: Venus Orbiting Imaging Radar (superseded by VRM)\\nVPF: Vertical Processing Facility\\nVRM: Venus Radar Mapper (now called Magellan)\\nWD: White Dwarf\\nWFPC: Wide Field / Planetary Camera (on HST)\\nWFPCII: Replacement for WFPC\\nWIYN: Wisconsin / Indiana / Yale / NOAO telescope\\nWSMR: White Sands Missile Range\\nWTR: Western Test Range\\nWUPPE: Wisconsin Ultraviolet PhotoPolarimter Experiment (Astro package)\\nXMM: X-ray Multi Mirror\\nXUV: eXtreme UltraViolet\\nYSO: Young Stellar Object\\n\\n\\n#!/usr/bin/perl\\n# \\'alt\\', An Acronym Scrambling Program, by Larry Wall\\n\\n$THRESHOLD = 2;\\n\\nsrand;\\nwhile (<>) {\\n    next unless /^([A-Z]\\\\S+): */;\\n    $key = $1;\\n    $acro{$key} = $\\';\\n    @words = split(/\\\\W+/,$\\');\\n    unshift(@words,$key);\\n    $off = 0;\\n    foreach $word (@words) {\\n        next unless $word =~ /^[A-Z]/;\\n        *w = $&;\\n        vec($w{$word}, $off++ % 6, 1) = 1;\\n    }\\n}\\n\\nforeach $letter (A .. Z) {\\n    *w = $letter;\\n    @w = keys %w;\\n    if (@w < $THRESHOLD) {\\n        @d = `egrep \\'^$letter\\' /usr/dict/words`;\\n        chop @d;\\n        push(@w, @d);\\n    }\\n}\\n\\nforeach $key (sort keys %acro) {\\n    $off = 0;\\n    $acro = $acro{$key};\\n    $acro =~ s/((([A-Z])[A-Z]*)[a-z]*)/ &pick($3, $2, $1, ++$off) || $& /eg;\\n    print \"$key: $acro\";\\n}\\n\\nsub pick {\\n    local($letter, $prefix, $oldword, $off) = @_;\\n    $i = 0;\\n    if (length($prefix) > 1 && index($key,$prefix) < 0) {\\n        if ($prefix eq $oldword) {\\n            $prefix = \\'\\';\\n        }\\n        else {\\n            $prefix = $letter;\\n        }\\n    }\\n    if (length($prefix) > 1) {\\n        local(*w) = substr($prefix,0,1);\\n        do {\\n            $word = $w[rand @w];\\n        } until $word ne $oldword && $word =~ /^$prefix/i || ++$i > 30;\\n        $word =~ s/^$prefix/$prefix/i;\\n        $word;\\n    }\\n    elsif (length($prefix) == 1) {\\n        local(*w) = $prefix;\\n        do {\\n            $word = $w[rand @w];\\n        } until $word ne $oldword && vec($w{$word}, $off, 1) || ++$i > 10;\\n        $word = \"\\\\u\\\\L$word\" if $word =~ tr/a-z/A-Z/;\\n        $word;\\n    }\\n    else {\\n        local(*w) = substr($oldword,0,1);\\n        do {\\n            $word = $w[rand @w];\\n        } until $word ne $oldword && $word =~ tr/a-z/A-Z/ == 0 || ++$i > 30;\\n        $word;\\n    }\\n}\\n',\n",
              " 'excuse me for my ignorance. But I remember reading once that the \\nBiblical tribe known as the Philistines still exists...they are the modern \\nday Palestinians.\\nAnyone out there with more info, please post it!!!',\n",
              " '\\n: Mr Connor\\'s assertion that \"more complex\" == later in paleontology\\n: is simply incorrect.  Many lineages are known in which whole\\n: structures are lost -- for example, snakes have lost their legs.\\n: Cave fish have lost their eyes.  Some species have almost completely\\n: lost their males.  Kiwis are descended from birds with functional\\n: wings.\\n\\nJoel,\\n\\nThe statements I made were illustrative of the inescapably\\nanthrpomorphic quality of any desciption of an evolutionary process.\\nThere is no way evolution can be described or explained in terms other\\nthan teleological, that is my whole point. Even those who have reason\\nto believe they understand evolution (biologists for instance) tend to\\npersonify nature and I can\\'t help but wonder if it\\'s because of the\\nlimits of the language or the nature of nature.',\n",
              " \"\\n\\nAHA! He admits it! He IS a moral relativist!\\n\\nKeith, if you start wafffling on about how it is different for a human\\nto maul someone thrown into it's cage (so to speak), you'd better start\\nposting tome decent evidence or retract your 'I think there is an absolute\\nmorality' blurb a few weeks ago.\\n\\n\\nThe Desert Brat\"]"
            ]
          },
          "metadata": {
            "tags": []
          },
          "execution_count": 6
        }
      ]
    },
    {
      "cell_type": "code",
      "metadata": {
        "id": "ZQc_zbEheBOZ",
        "colab_type": "code",
        "colab": {
          "base_uri": "https://localhost:8080/",
          "height": 219
        },
        "outputId": "4078c529-c5cf-496a-8302-00f5e6e6a06e"
      },
      "source": [
        "data_test[:10]"
      ],
      "execution_count": 7,
      "outputs": [
        {
          "output_type": "execute_result",
          "data": {
            "text/plain": [
              "['\\n  Damn.  And I did so have my hopes up.\\n\\n\\n/\\\\/\\\\/\\\\/\\\\/\\\\/\\\\/\\\\/\\\\/\\\\/\\\\/\\\\/\\\\/\\\\/\\\\/\\\\/\\\\/\\\\/\\\\/\\\\/\\\\/\\\\/\\\\/\\\\/\\\\/\\\\/\\\\/\\\\/\\\\/\\\\/\\\\/\\\\/\\\\/\\\\/\\\\ \\n\\nBob Beauchaine bobbe@vice.ICO.TEK.COM \\n\\nThey said that Queens could stay, they blew the Bronx away,\\nand sank Manhattan out at sea.',\n",
              " \"        I had to turn to one of my problem sets that I did in class for this\\nlittle problem.  I don't have a calculator, but I DO have the problem set that\\nwe did not too long ago, so I'll use that, and hope it's what you wanted.  \\nThis is a highly simplified problem, with a very simple burst.  Bursts are\\nusually more complex than this example I will use here.\\n        Our burst has a peak flux of 5.43E-6 ergs cm^-2 sec^-1 and a duration\\nof 8.95 seconds.  During the frst second of the burst, and the last 4 seconds,\\nits flux is half of the peak flux.  It's flux is the peak flux the rest of the\\ntime.  Assume that the background flux is 10E-7 erg cm^-2 sec^-1.\\n        Then we had to find the integrated luminosity of the burst, for several\\ndifferent spheres: R=.25pc(Oort Cloud Radius), R=22.5pc(at the edge of the\\ngalaxy), R=183.5pc or the edge of the galactic corona, and lastly at a\\nR=8800Mpc.  \\n        We integrated the flux over all time to find the fluence, then used the\\nold standby formula:\\n                        Luminosity=4(pi)(r^2)Fpeak\\n        For a radius of .25 pc, we found an L around 10^32 erg/sec.  Pretty\\nenergetic for close by.  for the coronal model, we found around 10^43 erg/sec.\\nAnd lastly, for the cosmological model an L=10^53. That's what you'd call\\nmoderately energetic, I'd say.  Any suggestions about what could put out that\\nmuch energy in one second? \\n                                                -jeremy\\n\\n\\n\\n\",\n",
              " \"\\nBut if He/She did you would probably consider it rape.  \\n\\n\\nObviously there are many Christians who have tried and do believe. So .. ?\\n\\n\\nNo one asks you to swallow everything, in fact Jesus warns against it.   But let\\nme ask you a question.  Do you beleive what you learn in history class, or for\\nthat matter anything in school.  I mean it's just what other people have told\\nyou and you don't want to swallow what others say. right ... ?\\n\\nThe life , death, and resurection of Christ is documented historical fact.  As much\\nas anything else you learn.  How do you choose what to believe and what not to?\\nI could argue that George Washington is a myth.  He never lived because I don't\\nhave any proof except what I am told.   However all the major events of the life\\nof Jesus Christ were fortold hundreds of years before him.  Neat trick uh?\",\n",
              " \"fc> Modern, \\nfc> ground-based, visible light astronomy (what these proposed\\nfc> orbiting billboards would upset) is already a dying field: The\\nfc> opacity and distortions caused by the atmosphere itself have\\nfc> driven most of the field to use radio, far infrared or space-based\\nfc> telescopes. \\n\\n Here's one radio astronomer quite concerned about \\n radio-frequency interference from portable telephones, etc.\\n\\n\",\n",
              " '\\nThis is a good question.  There are major blind spots in our understanding\\nof what makes the earth habitable.  For example, why does the earth\\'s\\natmosphere have the concentration of oxygen it does?  The naive\\nanswer is \"photosynthesis\", but this is clearly incomplete.  Photosynthesis\\nby itself can\\'t make the atmosphere oxygenated, as the oxygen produced\\nis consumed when the plants decay or are eaten.  What is needed\\nis photosynthesis plus some mechanism to sequester some fraction of\\nthe resulting reduced material.\\n\\nOn earth, this mechanism is burial in seafloor sediments of organic\\nmatter, mostly from oceanic sources.  However, this burial requires\\ncontinental sediments (in the deep ocean, the burial rate is so slow\\nthat most material is consumed before it can be sequestered).\\n\\nThis suggests that a planet without large oceans, or a planet without\\ncontinents undergoing weathering, will have a hard time accumulating\\nan oxygen atmosphere.  In particular, an all-ocean planet may have a\\nhard time supporting an oxygen atmosphere.\\n\\nThere is also the problem of why the oxygen in the earth\\'s atmosphere\\nhas been relatively stable over geological time, for a period at least\\n2 orders of magnitude longer than the decay time of atmospheric O2 to\\nweathering in the absence of replenishment.  No convincing feedback\\nmechanism has been identified.  Perhaps the reason is the weak\\nanthropic principle: if during the last 500 MYr or so, the oxygen\\nlevel had dropped too low, we wouldn\\'t be here to be wondering about\\nit.',\n",
              " '\\nDress casual. Only in heaven is there a dress code (black tie and\\nself-important expression)',\n",
              " \"\\n\\n\\nIt's been suggested.  (Specifically, lightning strikes between clouds\\nin the interstellar medium.)\\n\",\n",
              " ' \\n',\n",
              " 'RAPTURE - OCTOBER 28, 1992\\n\\n\\t\\tWHAT TO DO IN CASE YOU MISS THE RAPTURE\\n\\nI. STAY CALM AND DO NOT PANIC\\n\\n\\tYour natural reaction once you realize what has just occurred is to\\npanic.  But to do so is absolutely useless now.  If you had wanted to get right\\nwith God before the rapture, you could have, but you chose to wait.  Now your \\nonly chance is to stay on this earth and to endure to the end of the \\nTribulation.  \"But he that shall endure unto the end, the same shall be \\nsaved.\" - Matthew 24:13\\n\\nII. REALIZE YOU ARE NOW LIVING DURING THE GREAT TRIBULATION\\n\\n\\tThe Great Tribulation is a seven year period starting from the time of\\nthe rapture until Christ\\'s second coming.  Also know as \"the time of Jacob\\'s\\n(Israel\\'s) trouble\" (Jere 30:7) and \"Daniel\\'s Seventieth Week\" (Dan 9), this \\nperiod will be unparalleled in trouble and horror.\\n\\nIII. GATHER AS MANY BIBLES AS YOU CAN AND HIDE THEM\\n\\n\\tSoon after the Antichrist becomes the leader of the European Community \\n(the revived Roman Empire), Bibles will be confiscated and owning a Bible will\\nbe tantamount to treason.  The Bible, however, will be your most valuable \\npossession during the Tribulation.\\n\\nIV. READ THE BIBLE LIKE YOU HAVE NEVER READ IT BEFORE IN YOUR LIFE\\n\\n\\tSince all of your Bibles may be confiscated, even if you are careful, it\\nis imperative that you read the Word until you memorize whole passages and can\\nquote them.  It is especially important to read Daniel, Luke 21, Matthew 24, \\nRevelation, and Amos, for these books describe the events you can expect to\\nunfold before you.  \\n\\nV. PRAY LIKE YOU HAVE NEVER PRAYED BEFORE IN YOUR LIFE\\n\\n\\tPray until the power of God comes strongly upon you - pray and pray \\nand pray.  Only by reading the Word and praying will you gain the spiritual \\nstrength to be able to withstand the torture you may have to endure for the\\nsake of Christ.  \\n\\nVI. DO NOT TAKE THE MARK AT ANY COST - EVEN IN FIT MEANS YOU AND YOUR LOVED\\nONES DIE AS MARTYRS\\n\\n\\tAfter the Antichrist becomes the leader of the European Community, he\\nwill institute a world economic system, designed so that you cannot buy, sell,\\nor eat unless you take his mark or the number of his name.  Money will be\\nuseless.  \"And he causes all, both small and great, rich and poor, free and \\nslave, to receive a mark on their right hand or on their foreheads, and that\\nno one may buy or sell except one who has the mark or the name of the beast, \\nor the number of his name.  Here is wisdom.  Let him who has understanding\\ncalculate the number of the beast, for it is the number of a man: His number\\nis 666\" - Revelation 13:16-18.  \\n\\tThe Antichrist will implement the greatest slaughter in all of \\nhumanity.  Think of the various ways people have been tortured and killed\\nin the past, such as the Holocaust.\\n[or maybe the crusades? -M]\\nYou cannot even imagine the horror that will take place under the Antichrist\\'s\\nrule; it will be much worse than anything in history (Matt 24:21) \"...I saw\\nunder the altar the souls of those who had been slain for the word of God and\\nfor the testimony which they held.  And a white robe was given to each of \\nthem: and it was said to them that they should rest a little while longer, \\nuntil both the number of the fellow servants and their brethren, who would be\\nkilled as they were, was completed.\" Revelation 6:9, 11.\\n\\tHis targets will be Jews and Christians who do not worship his image\\nor take the mark on their forehead or right hadn/ \"...And I saw the souls of \\nthose who had been beheaded for their witness to Jesus and for the word of \\nGod, who had not worshiped the beast or his image, and had not received his mark\\non their foreheads or on the hands.\" - Revelation 20:4.  He will use every\\nform of torture and humiliation in order to force you to renounce Christ.  Nor\\nwill he hesitate to use your loved ones against you, even your children, \\ntorturing and killing them in front of you so that you will be tempted to take\\nthe mark.  \\n\\tIf you take the mark or worship the Antichrist or his image, however,\\nyou will be consigned to the second death, which is the Lake of Fire.\\n[Sung about so eloquently by Johnny Cash...-M]\\nYou cannot be redeemed.  It is better to endure torture for a short while and\\ngain eternal life then [sic] to endure eternal torment in the Ring^H^H^H^H Lake\\nof Fire.  \"...If anyone worships the Beast and his image, and receives his \\nmark on his forehead or on his hand, he himself shall also drink the wine of\\nthe wrath of God, which is poured out full strength into the cup of His \\nindignation.  An [sic] he shall be tormented with fire and brimstone in the \\npresence of the holy angels and in the presence of the Lamb.\" -Revelation \\n14:9-10 \\n\\n[and probably in the presence of season-ticket holders; special hats given to\\nthe first 5,000 at the stadium --M] \\n\\nVII. SET A PLAN IN MOTION FOR SURVIVAL\\n\\n\\tAlthough you may not be able to hide from the Antichrist\\'s government\\nuntil the end of the Tribulation, all of the time you gain in hiding is \\nimportant for your spiritual growth and strengthening, since only those who are\\nextremely strong in Christ can suffer and die for His sake.\\n\\tThe first thing to do is move out of the city and into a rural or\\nmountainous area, for the Antichrist\\'s control will come last to the least\\npopulated areas.  Take a good radio or TV with you so that you can stay \\nattuned to events and discern the time schedule of the Tribulation.\\n[\"As you can see on the weather map, heavy currents of Tribulation will sweep\\ninto our area by daybreak.  Expect delays on I-95 outbound, and perhaps school\\nclosings\" --M] \\nStore water and food, because you will not be able to purchase anything without\\nthe mark.  Water in lakes and streams will be polluted by radioactive waste\\nfrom nuclear warfare and will eventually turn into blood.\\n[Get a good water filter. --M]\\nBring different types of clothing for all seasons, as well as flashlights,\\nbatteries, generators, and First Aid supplies.  In short, learn how to \\nsurvive and live off the land as the pioneers did.\\n\\nVIII. TRUST NO ONE\\n\\t\\n\\tThere will be secret agents everywhere, spying for the Antichrist\\'s\\ngovernment.  Be on the lookout.\\n[Perot supporters take note --M]\\n\\nIX. WATCH FOR THE ANTICHRIST\\n\\n\\tIt is important to realize who the Antichrist is and what he is up to,\\nfor he will deceive many into thinking that he is a great world leader who will\\nbring peace and prosperity to a world hungry for it.  We can infer from Daniel \\n11 certain characteristics of this man.  Popular during the first three and a\\nhalf years of the Tribulation, he will dominate the airwaves.  He will be \\nphysically appealing, highly intelligent, with Christ-like charisma and \\npersonality.  An international politician, military tactician and economic\\nexpert, his word will be peace; he will make a treaty with the Jews, which\\nhe will break after three and a half years.  He will have such supernatural \\npower that a mortal wound to his head will be healed.  Even the very elect will\\nbe deceived.  If you do not pray and read the Bible, you too will be deceived.\\n[Dominate the airwaves?  Perhaps Howard Stern or Rush Limbaugh...-M]\\n\\tThe antichrist will have a companion, the False Prohphet [sic], who\\nwill make an image in the likeness of the Antichrist and cause it to speak.  \\nAll who refuse to worhsip [sic] the image will be killed.  The final three and\\na half years will be absolutely insane, with demonized spirits everywhere.\\n\\nX. DO NOT GIVE UP HOPE!\\n\\n\\tThe seven years of Tribulation will end with the triumphant return of\\nChrist.  The Antichrist will be defeated.  Be steadfast and endure, and you \\nwill be rewarded greatly in Heaven.  \\n\\tStart reading the Bible and praying fervently now.  The salvation of \\nyour sould depends upon it.  Determine that, come what may, you will not take\\nthe mark or worship the Antichrist.  You still have a chance to be saved or\\nremain saved, but this time you will have to be \"faithful unto death.\"\\n\\n\\tMay God find you ready in the hour of his glorious return!\\n\\n******************************************************************************\\nMike Cluff\\t\\t\\t\\t*  \"Christianity is Stupid.\\nv22964qs@ubvms or mike%luick@ubvms\\t*   Give up.\" -Negativland\\nUB Language Perception Laboratory\\t*  \\n******************************************************************************\\n\\n\\n/\\\\/\\\\/\\\\/\\\\/\\\\/\\\\/\\\\/\\\\/\\\\/\\\\/\\\\/\\\\/\\\\/\\\\/\\\\/\\\\/\\\\/\\\\/\\\\/\\\\/\\\\/\\\\/\\\\/\\\\/\\\\/\\\\/\\\\/\\\\/\\\\/\\\\/\\\\/\\\\/\\\\/\\\\ \\n\\nBob Beauchaine bobbe@vice.ICO.TEK.COM \\n\\nThey said that Queens could stay, they blew the Bronx away,\\nand sank Manhattan out at sea.',\n",
              " '\\n\\t1) They are religious parodies, NOT atheistic paradies.\\n\\n\\t2) Please substantiate that they are parodies, and are outrageous.\\n\\t   Specifically, why is the IUP any more outrageous than many \\n\\t   religions?\\n\\n---\\n\\nPrivate note to Jennifer Fakult.\\n\\n        \"This post may contain one or more of the following:\\n         sarcasm, cycnicism, irony, or humor. Please be aware \\n         of this possibility and do not allow yourself to be \\n         confused and/or thrown for a loop. If in doubt, assume\\n         all of the above.']"
            ]
          },
          "metadata": {
            "tags": []
          },
          "execution_count": 7
        }
      ]
    },
    {
      "cell_type": "code",
      "metadata": {
        "id": "q0tiFA2VeeEs",
        "colab_type": "code",
        "colab": {
          "base_uri": "https://localhost:8080/",
          "height": 363
        },
        "outputId": "72e54a75-0a80-4be4-c34e-94bdc1e07a08"
      },
      "source": [
        "print(f\"Klasa: {all_data_train['target_names'][target_train[0]]}\\n\\nTreść maila:\\n\\n{data_train[0]}\")"
      ],
      "execution_count": 8,
      "outputs": [
        {
          "output_type": "stream",
          "text": [
            "Klasa: alt.atheism\n",
            "\n",
            "Treść maila:\n",
            "\n",
            ": \n",
            ": >> Please enlighten me.  How is omnipotence contradictory?\n",
            ": \n",
            ": >By definition, all that can occur in the universe is governed by the rules\n",
            ": >of nature. Thus god cannot break them. Anything that god does must be allowed\n",
            ": >in the rules somewhere. Therefore, omnipotence CANNOT exist! It contradicts\n",
            ": >the rules of nature.\n",
            ": \n",
            ": Obviously, an omnipotent god can change the rules.\n",
            "\n",
            "When you say, \"By definition\", what exactly is being defined;\n",
            "certainly not omnipotence. You seem to be saying that the \"rules of\n",
            "nature\" are pre-existant somehow, that they not only define nature but\n",
            "actually cause it. If that's what you mean I'd like to hear your\n",
            "further thoughts on the question.\n"
          ],
          "name": "stdout"
        }
      ]
    },
    {
      "cell_type": "code",
      "metadata": {
        "id": "VpAWTieafX0z",
        "colab_type": "code",
        "colab": {
          "base_uri": "https://localhost:8080/",
          "height": 454
        },
        "outputId": "6a4105af-1889-4abf-d80d-3fc0de34c4a3"
      },
      "source": [
        "print(f\"Klasa: {all_data_train['target_names'][target_train[2]]}\\n\\nTreść maila:\\n\\n{data_train[2]}\")"
      ],
      "execution_count": 9,
      "outputs": [
        {
          "output_type": "stream",
          "text": [
            "Klasa: sci.space\n",
            "\n",
            "Treść maila:\n",
            "\n",
            "\n",
            "Henry, I made the assumption that he who gets there firstest with the mostest\n",
            "wins. \n",
            "\n",
            "Ohhh, you want to put in FINE PRINT which says \"Thou shall do wonderous R&D\n",
            "rather than use off-the-shelf hardware\"? Sorry, didn't see that in my copy.\n",
            "Most of the Pournellesque proposals run along the lines of <some dollar\n",
            "amount> reward for <some simple goal>.  \n",
            "\n",
            "You go ahead and do your development, I'll buy off the shelf at higher cost (or\n",
            "even Russian; but I also assume that there'd be some \"Buy US\" provos in there)\n",
            "and be camped out in the Moon while you are launching and assembling little\n",
            "itty-bitty payloads in LEO with your laser or gas gun.  And working out the\n",
            "bugs of assembly & integration in LEO. \n",
            "\n",
            "Oh, hey, could I get a couple of CanadARMs tuned for the lunar environment?  I\n",
            "wanna do some teleoperated prospecting while I'm up there...\n",
            "\n",
            "\n",
            "\n"
          ],
          "name": "stdout"
        }
      ]
    },
    {
      "cell_type": "code",
      "metadata": {
        "id": "Bg_pKf_8eKRa",
        "colab_type": "code",
        "colab": {
          "base_uri": "https://localhost:8080/",
          "height": 35
        },
        "outputId": "a087dbf0-116e-4d2e-821f-c593b13f2ab1"
      },
      "source": [
        "target_train[:10]"
      ],
      "execution_count": 10,
      "outputs": [
        {
          "output_type": "execute_result",
          "data": {
            "text/plain": [
              "array([0, 1, 1, 1, 0, 1, 1, 0, 0, 0])"
            ]
          },
          "metadata": {
            "tags": []
          },
          "execution_count": 10
        }
      ]
    },
    {
      "cell_type": "code",
      "metadata": {
        "id": "EuDJkO6reNKX",
        "colab_type": "code",
        "colab": {
          "base_uri": "https://localhost:8080/",
          "height": 35
        },
        "outputId": "87133853-6a01-4180-83e2-ea05f0a4c69a"
      },
      "source": [
        "target_test[:10]"
      ],
      "execution_count": 11,
      "outputs": [
        {
          "output_type": "execute_result",
          "data": {
            "text/plain": [
              "array([0, 1, 0, 1, 1, 0, 1, 0, 0, 0])"
            ]
          },
          "metadata": {
            "tags": []
          },
          "execution_count": 11
        }
      ]
    },
    {
      "cell_type": "code",
      "metadata": {
        "id": "EynF8W3seO1L",
        "colab_type": "code",
        "colab": {
          "base_uri": "https://localhost:8080/",
          "height": 399
        },
        "outputId": "e3210fb1-8cc9-47e4-c1c9-2d64a9f2aa39"
      },
      "source": [
        "from sklearn.feature_extraction.text import TfidfVectorizer\n",
        "\n",
        "vectorizer = TfidfVectorizer(stop_words='english')\n",
        "vectorizer.fit_transform(data_train).toarray()"
      ],
      "execution_count": 12,
      "outputs": [
        {
          "output_type": "execute_result",
          "data": {
            "text/plain": [
              "array([[0.00, 0.00, 0.00, 0.00, 0.00, 0.00, 0.00, 0.00, 0.00, 0.00, ..., 0.00, 0.00, 0.00, 0.00, 0.00, 0.00, 0.00, 0.00, 0.00, 0.00],\n",
              "       [0.00, 0.00, 0.00, 0.00, 0.00, 0.00, 0.00, 0.00, 0.00, 0.00, ..., 0.00, 0.00, 0.00, 0.00, 0.00, 0.00, 0.00, 0.00, 0.00, 0.00],\n",
              "       [0.00, 0.00, 0.00, 0.00, 0.00, 0.00, 0.00, 0.00, 0.00, 0.00, ..., 0.00, 0.00, 0.00, 0.00, 0.00, 0.00, 0.00, 0.00, 0.00, 0.00],\n",
              "       [0.00, 0.00, 0.00, 0.00, 0.00, 0.00, 0.00, 0.00, 0.00, 0.00, ..., 0.00, 0.00, 0.00, 0.00, 0.00, 0.00, 0.00, 0.00, 0.00, 0.00],\n",
              "       [0.00, 0.00, 0.00, 0.00, 0.00, 0.00, 0.00, 0.00, 0.00, 0.00, ..., 0.00, 0.00, 0.00, 0.00, 0.00, 0.00, 0.00, 0.00, 0.00, 0.00],\n",
              "       [0.00, 0.00, 0.00, 0.00, 0.00, 0.00, 0.00, 0.00, 0.00, 0.00, ..., 0.00, 0.00, 0.00, 0.00, 0.00, 0.00, 0.00, 0.00, 0.00, 0.00],\n",
              "       [0.00, 0.00, 0.00, 0.00, 0.00, 0.00, 0.00, 0.00, 0.00, 0.00, ..., 0.00, 0.01, 0.00, 0.00, 0.00, 0.00, 0.00, 0.00, 0.00, 0.00],\n",
              "       [0.00, 0.00, 0.00, 0.00, 0.00, 0.00, 0.00, 0.00, 0.00, 0.00, ..., 0.00, 0.00, 0.00, 0.00, 0.00, 0.00, 0.00, 0.00, 0.00, 0.00],\n",
              "       [0.00, 0.00, 0.00, 0.00, 0.00, 0.00, 0.00, 0.00, 0.00, 0.00, ..., 0.00, 0.00, 0.00, 0.00, 0.00, 0.00, 0.00, 0.00, 0.00, 0.00],\n",
              "       [0.00, 0.00, 0.00, 0.00, 0.00, 0.00, 0.00, 0.00, 0.00, 0.00, ..., 0.00, 0.00, 0.00, 0.00, 0.00, 0.00, 0.00, 0.00, 0.00, 0.00],\n",
              "       ...,\n",
              "       [0.00, 0.00, 0.00, 0.00, 0.00, 0.00, 0.00, 0.00, 0.00, 0.00, ..., 0.00, 0.00, 0.00, 0.00, 0.00, 0.00, 0.00, 0.00, 0.00, 0.00],\n",
              "       [0.00, 0.00, 0.00, 0.00, 0.00, 0.00, 0.00, 0.00, 0.00, 0.00, ..., 0.00, 0.00, 0.00, 0.00, 0.00, 0.00, 0.00, 0.00, 0.00, 0.00],\n",
              "       [0.00, 0.00, 0.00, 0.00, 0.00, 0.00, 0.00, 0.00, 0.00, 0.00, ..., 0.00, 0.00, 0.00, 0.00, 0.00, 0.00, 0.00, 0.00, 0.00, 0.00],\n",
              "       [0.00, 0.00, 0.00, 0.00, 0.00, 0.00, 0.00, 0.00, 0.00, 0.00, ..., 0.00, 0.00, 0.00, 0.00, 0.00, 0.00, 0.00, 0.00, 0.00, 0.00],\n",
              "       [0.00, 0.00, 0.00, 0.00, 0.00, 0.00, 0.00, 0.00, 0.00, 0.00, ..., 0.00, 0.00, 0.00, 0.00, 0.00, 0.00, 0.00, 0.00, 0.00, 0.00],\n",
              "       [0.00, 0.00, 0.00, 0.00, 0.00, 0.00, 0.00, 0.00, 0.00, 0.00, ..., 0.00, 0.00, 0.00, 0.00, 0.00, 0.00, 0.00, 0.00, 0.00, 0.00],\n",
              "       [0.00, 0.00, 0.00, 0.00, 0.00, 0.00, 0.00, 0.00, 0.00, 0.00, ..., 0.00, 0.00, 0.00, 0.00, 0.00, 0.00, 0.00, 0.00, 0.00, 0.00],\n",
              "       [0.00, 0.00, 0.00, 0.00, 0.00, 0.00, 0.00, 0.00, 0.00, 0.00, ..., 0.00, 0.00, 0.00, 0.00, 0.00, 0.00, 0.00, 0.00, 0.00, 0.00],\n",
              "       [0.00, 0.05, 0.00, 0.00, 0.00, 0.00, 0.00, 0.00, 0.00, 0.00, ..., 0.00, 0.00, 0.00, 0.00, 0.00, 0.00, 0.00, 0.00, 0.00, 0.00],\n",
              "       [0.00, 0.00, 0.00, 0.00, 0.00, 0.00, 0.00, 0.00, 0.00, 0.00, ..., 0.00, 0.00, 0.00, 0.00, 0.00, 0.00, 0.00, 0.00, 0.00, 0.00]])"
            ]
          },
          "metadata": {
            "tags": []
          },
          "execution_count": 12
        }
      ]
    },
    {
      "cell_type": "code",
      "metadata": {
        "id": "nIQD-m5JgZCg",
        "colab_type": "code",
        "colab": {
          "base_uri": "https://localhost:8080/",
          "height": 54
        },
        "outputId": "b9e2117b-0dcd-46dc-bc35-5b8bb6132541"
      },
      "source": [
        "X_train = vectorizer.fit_transform(data_train)\n",
        "X_test = vectorizer.transform(data_test)\n",
        "\n",
        "y_train = target_train.copy()\n",
        "y_test = target_test.copy()\n",
        "\n",
        "print(f'X_train shape: {X_train.shape}')\n",
        "print(f'X_test shape: {X_test.shape}')"
      ],
      "execution_count": 13,
      "outputs": [
        {
          "output_type": "stream",
          "text": [
            "X_train shape: (1073, 17919)\n",
            "X_test shape: (713, 17919)\n"
          ],
          "name": "stdout"
        }
      ]
    },
    {
      "cell_type": "code",
      "metadata": {
        "id": "_TY1ybHKicH1",
        "colab_type": "code",
        "colab": {
          "base_uri": "https://localhost:8080/",
          "height": 35
        },
        "outputId": "c656a126-b621-4ab4-fae8-e71633d7db00"
      },
      "source": [
        "X_train[0].toarray()"
      ],
      "execution_count": 14,
      "outputs": [
        {
          "output_type": "execute_result",
          "data": {
            "text/plain": [
              "array([[0.00, 0.00, 0.00, 0.00, 0.00, 0.00, 0.00, 0.00, 0.00, 0.00, ..., 0.00, 0.00, 0.00, 0.00, 0.00, 0.00, 0.00, 0.00, 0.00, 0.00]])"
            ]
          },
          "metadata": {
            "tags": []
          },
          "execution_count": 14
        }
      ]
    },
    {
      "cell_type": "code",
      "metadata": {
        "id": "lqPVgve6iMHU",
        "colab_type": "code",
        "colab": {
          "base_uri": "https://localhost:8080/",
          "height": 1000
        },
        "outputId": "13b97cdd-bc66-4ac5-9bb6-10c4cd2cf372"
      },
      "source": [
        "print(X_train)\n",
        "print(X_test)"
      ],
      "execution_count": 15,
      "outputs": [
        {
          "output_type": "stream",
          "text": [
            "  (0, 13224)\t0.07911195468769368\n",
            "  (0, 16250)\t0.11999105115041317\n",
            "  (0, 8068)\t0.10148654709819604\n",
            "  (0, 9970)\t0.05393808884927991\n",
            "  (0, 10516)\t0.07883374159978145\n",
            "  (0, 3680)\t0.09369696889434878\n",
            "  (0, 1702)\t0.0762307320752416\n",
            "  (0, 5207)\t0.10310502312077618\n",
            "  (0, 6602)\t0.15912206033740356\n",
            "  (0, 12689)\t0.11662448785210391\n",
            "  (0, 14367)\t0.08448085064829519\n",
            "  (0, 3752)\t0.08755108060703673\n",
            "  (0, 5208)\t0.10776936017292926\n",
            "  (0, 6531)\t0.09112465428990733\n",
            "  (0, 14365)\t0.06557096266822082\n",
            "  (0, 3794)\t0.09017496414229824\n",
            "  (0, 11664)\t0.13911079115607236\n",
            "  (0, 11561)\t0.10675338945227657\n",
            "  (0, 4610)\t0.13512899190432104\n",
            "  (0, 6599)\t0.08971516964259744\n",
            "  (0, 2007)\t0.11824296387468404\n",
            "  (0, 5773)\t0.06248592296746404\n",
            "  (0, 3293)\t0.13512899190432104\n",
            "  (0, 7677)\t0.21723941955938655\n",
            "  (0, 11181)\t0.36847010687845067\n",
            "  :\t:\n",
            "  (1072, 17110)\t0.22544726874030185\n",
            "  (1072, 17801)\t0.4508945374806037\n",
            "  (1072, 9707)\t0.22544726874030185\n",
            "  (1072, 12131)\t0.22544726874030185\n",
            "  (1072, 14690)\t0.20399953616265365\n",
            "  (1072, 9739)\t0.21290114945688213\n",
            "  (1072, 17388)\t0.21290114945688213\n",
            "  (1072, 7648)\t0.19709490847427774\n",
            "  (1072, 17059)\t0.17890729759581422\n",
            "  (1072, 7649)\t0.21290114945688213\n",
            "  (1072, 15243)\t0.17890729759581422\n",
            "  (1072, 14689)\t0.18668360369911413\n",
            "  (1072, 1700)\t0.15745956501816602\n",
            "  (1072, 1643)\t0.16110407100735724\n",
            "  (1072, 1779)\t0.17564717589662954\n",
            "  (1072, 4434)\t0.167528959823552\n",
            "  (1072, 13241)\t0.11820860585206082\n",
            "  (1072, 10283)\t0.09206020545810135\n",
            "  (1072, 9608)\t0.11869589997697833\n",
            "  (1072, 10091)\t0.09676087327441263\n",
            "  (1072, 5971)\t0.10409146199046303\n",
            "  (1072, 16172)\t0.12647220608027823\n",
            "  (1072, 9998)\t0.15922819137773866\n",
            "  (1072, 1702)\t0.10800520244644646\n",
            "  (1072, 5773)\t0.08853128622053344\n",
            "  (0, 17240)\t0.22293881321258377\n",
            "  (0, 16064)\t0.23579157823410518\n",
            "  (0, 15434)\t0.21598782437797506\n",
            "  (0, 14490)\t0.22293881321258377\n",
            "  (0, 14312)\t0.24100063443348574\n",
            "  (0, 14273)\t0.15106317612758222\n",
            "  (0, 13217)\t0.24100063443348574\n",
            "  (0, 10327)\t0.24100063443348574\n",
            "  (0, 8464)\t0.23832372106127003\n",
            "  (0, 8298)\t0.2983139956242172\n",
            "  (0, 5499)\t0.15801416496219092\n",
            "  (0, 5032)\t0.28255591262155105\n",
            "  (0, 4175)\t0.1895490680087937\n",
            "  (0, 3347)\t0.24100063443348574\n",
            "  (0, 3161)\t0.23832372106127003\n",
            "  (0, 3160)\t0.2289256634174973\n",
            "  (0, 3118)\t0.2333893473738243\n",
            "  (0, 2882)\t0.24100063443348574\n",
            "  (0, 2698)\t0.18687215463657803\n",
            "  (1, 17427)\t0.05867976387940386\n",
            "  (1, 17031)\t0.05375134527808392\n",
            "  (1, 17009)\t0.040423051118307435\n",
            "  (1, 17008)\t0.07344621107705743\n",
            "  (1, 16671)\t0.059309920156908544\n",
            "  (1, 16315)\t0.06481719996689245\n",
            "  :\t:\n",
            "  (711, 1495)\t0.36704159669033004\n",
            "  (712, 16531)\t0.21781122046878074\n",
            "  (712, 14794)\t0.24286669099324817\n",
            "  (712, 14449)\t0.19586884570498597\n",
            "  (712, 13821)\t0.14599342205568394\n",
            "  (712, 13745)\t0.20870431211857615\n",
            "  (712, 12422)\t0.2306466868823709\n",
            "  (712, 11020)\t0.2306466868823709\n",
            "  (712, 10465)\t0.1909890278513939\n",
            "  (712, 9326)\t0.14492022927238352\n",
            "  (712, 8931)\t0.2306466868823709\n",
            "  (712, 8353)\t0.36606675858279164\n",
            "  (712, 7438)\t0.21781122046878074\n",
            "  (712, 7080)\t0.176680916600305\n",
            "  (712, 6637)\t0.1909890278513939\n",
            "  (712, 5971)\t0.10649209003502427\n",
            "  (712, 5844)\t0.14492022927238352\n",
            "  (712, 5028)\t0.18303337929139582\n",
            "  (712, 4752)\t0.1409580453865707\n",
            "  (712, 3632)\t0.1867619373547814\n",
            "  (712, 3414)\t0.20164044521356317\n",
            "  (712, 3360)\t0.21781122046878074\n",
            "  (712, 3355)\t0.176680916600305\n",
            "  (712, 2621)\t0.20164044521356317\n",
            "  (712, 1726)\t0.20870431211857615\n"
          ],
          "name": "stdout"
        }
      ]
    },
    {
      "cell_type": "code",
      "metadata": {
        "id": "Hzit-GtohOIx",
        "colab_type": "code",
        "colab": {
          "base_uri": "https://localhost:8080/",
          "height": 35
        },
        "outputId": "9e3e0f9d-d699-4219-ba36-99e3c7f4eb74"
      },
      "source": [
        "len(vectorizer.get_feature_names())"
      ],
      "execution_count": 16,
      "outputs": [
        {
          "output_type": "execute_result",
          "data": {
            "text/plain": [
              "17919"
            ]
          },
          "metadata": {
            "tags": []
          },
          "execution_count": 16
        }
      ]
    },
    {
      "cell_type": "code",
      "metadata": {
        "id": "6L3RH4bHhq21",
        "colab_type": "code",
        "colab": {
          "base_uri": "https://localhost:8080/",
          "height": 199
        },
        "outputId": "6f75bddc-8c19-4d23-b9d6-2630ad87bcea"
      },
      "source": [
        "vectorizer.get_feature_names()[5000:5010]"
      ],
      "execution_count": 17,
      "outputs": [
        {
          "output_type": "execute_result",
          "data": {
            "text/plain": [
              "['cylinders',\n",
              " 'cynical',\n",
              " 'cynics',\n",
              " 'cz',\n",
              " 'czcs',\n",
              " 'czechoslakia',\n",
              " 'czechoslavkia',\n",
              " 'd0',\n",
              " 'd012s658',\n",
              " 'd1']"
            ]
          },
          "metadata": {
            "tags": []
          },
          "execution_count": 17
        }
      ]
    },
    {
      "cell_type": "code",
      "metadata": {
        "id": "CPlRfNmKiAOF",
        "colab_type": "code",
        "colab": {}
      },
      "source": [
        "from sklearn.feature_selection import SelectKBest, chi2\n",
        "\n",
        "ch2 = SelectKBest(chi2, k=50)\n",
        "X_train = ch2.fit_transform(X_train, y_train)\n",
        "X_test = ch2.transform(X_test)"
      ],
      "execution_count": 0,
      "outputs": []
    },
    {
      "cell_type": "code",
      "metadata": {
        "id": "krod-a_4rwJ3",
        "colab_type": "code",
        "colab": {}
      },
      "source": [
        "results = {}"
      ],
      "execution_count": 0,
      "outputs": []
    },
    {
      "cell_type": "code",
      "metadata": {
        "id": "iuXI6wDAjoTb",
        "colab_type": "code",
        "colab": {
          "base_uri": "https://localhost:8080/",
          "height": 54
        },
        "outputId": "5acae176-d3dd-450b-e41d-ac04887a6ff5"
      },
      "source": [
        "from sklearn.neighbors import KNeighborsClassifier\n",
        "\n",
        "classifier = KNeighborsClassifier(n_neighbors=10)\n",
        "classifier.fit(X_train, y_train)\n",
        "train_acc = classifier.score(X_train, y_train)\n",
        "test_acc = classifier.score(X_test, y_test)\n",
        "results['KNeighborsClassifier'] = [train_acc, test_acc]\n",
        "print(f'Zbiór treningowy: {train_acc:.4f}\\nZbiór testowy: {test_acc:.4f}')"
      ],
      "execution_count": 20,
      "outputs": [
        {
          "output_type": "stream",
          "text": [
            "Zbiór treningowy: 0.7987\n",
            "Zbiór testowy: 0.7658\n"
          ],
          "name": "stdout"
        }
      ]
    },
    {
      "cell_type": "code",
      "metadata": {
        "id": "A1a09uvOkOFJ",
        "colab_type": "code",
        "colab": {
          "base_uri": "https://localhost:8080/",
          "height": 35
        },
        "outputId": "713c1d60-e4bb-4b82-9246-aada95129751"
      },
      "source": [
        "from sklearn.model_selection import GridSearchCV\n",
        "\n",
        "grid_search = GridSearchCV(classifier, param_grid={'n_neighbors': np.arange(1, 25)})\n",
        "grid_search.fit(X_train, y_train)\n",
        "grid_search.score(X_test, y_test)"
      ],
      "execution_count": 21,
      "outputs": [
        {
          "output_type": "execute_result",
          "data": {
            "text/plain": [
              "0.7573632538569425"
            ]
          },
          "metadata": {
            "tags": []
          },
          "execution_count": 21
        }
      ]
    },
    {
      "cell_type": "code",
      "metadata": {
        "id": "hs8a72xkkLjT",
        "colab_type": "code",
        "colab": {
          "base_uri": "https://localhost:8080/",
          "height": 54
        },
        "outputId": "2c38284d-cf42-4adf-d31f-23d880f8218c"
      },
      "source": [
        "from sklearn.tree import DecisionTreeClassifier\n",
        "\n",
        "classifier = DecisionTreeClassifier(random_state=42)\n",
        "classifier.fit(X_train, y_train)\n",
        "train_acc = classifier.score(X_train, y_train)\n",
        "test_acc = classifier.score(X_test, y_test)\n",
        "results['DecisionTreeClassifier'] = [train_acc, test_acc]\n",
        "print(f'Zbiór treningowy: {train_acc:.4f}\\nZbiór testowy: {test_acc:.4f}')"
      ],
      "execution_count": 22,
      "outputs": [
        {
          "output_type": "stream",
          "text": [
            "Zbiór treningowy: 0.8844\n",
            "Zbiór testowy: 0.7868\n"
          ],
          "name": "stdout"
        }
      ]
    },
    {
      "cell_type": "code",
      "metadata": {
        "id": "fdTUWiqSo_Xq",
        "colab_type": "code",
        "colab": {
          "base_uri": "https://localhost:8080/",
          "height": 54
        },
        "outputId": "2a91129b-1234-4e7b-d01e-9ec2a1b2c77c"
      },
      "source": [
        "grid_search = GridSearchCV(classifier, param_grid={'max_depth': np.arange(1, 20), 'min_samples_split': np.arange(2, 20)})\n",
        "grid_search.fit(X_train, y_train)\n",
        "print(grid_search.score(X_train, y_train))\n",
        "grid_search.score(X_test, y_test)"
      ],
      "execution_count": 23,
      "outputs": [
        {
          "output_type": "stream",
          "text": [
            "0.8415657036346692\n"
          ],
          "name": "stdout"
        },
        {
          "output_type": "execute_result",
          "data": {
            "text/plain": [
              "0.7629733520336606"
            ]
          },
          "metadata": {
            "tags": []
          },
          "execution_count": 23
        }
      ]
    },
    {
      "cell_type": "code",
      "metadata": {
        "id": "X7kllJVt3NZK",
        "colab_type": "code",
        "colab": {
          "base_uri": "https://localhost:8080/",
          "height": 35
        },
        "outputId": "946a2c0f-ca28-4042-c971-ea476256cbdc"
      },
      "source": [
        "grid_search.best_params_"
      ],
      "execution_count": 24,
      "outputs": [
        {
          "output_type": "execute_result",
          "data": {
            "text/plain": [
              "{'max_depth': 19, 'min_samples_split': 5}"
            ]
          },
          "metadata": {
            "tags": []
          },
          "execution_count": 24
        }
      ]
    },
    {
      "cell_type": "code",
      "metadata": {
        "id": "eNgo5nySqE7u",
        "colab_type": "code",
        "colab": {
          "base_uri": "https://localhost:8080/",
          "height": 54
        },
        "outputId": "825ce716-8767-40af-e669-8ee46c127299"
      },
      "source": [
        "from sklearn.ensemble import RandomForestClassifier\n",
        "\n",
        "classifier = RandomForestClassifier(random_state=42)\n",
        "classifier.fit(X_train, y_train)\n",
        "train_acc = classifier.score(X_train, y_train)\n",
        "test_acc = classifier.score(X_test, y_test)\n",
        "results['RandomForestClassifier'] = [train_acc, test_acc]\n",
        "print(f'Zbiór treningowy: {train_acc:.4f}\\nZbiór testowy: {test_acc:.4f}')"
      ],
      "execution_count": 25,
      "outputs": [
        {
          "output_type": "stream",
          "text": [
            "Zbiór treningowy: 0.8844\n",
            "Zbiór testowy: 0.8093\n"
          ],
          "name": "stdout"
        }
      ]
    },
    {
      "cell_type": "code",
      "metadata": {
        "id": "VcUwxN-tqXRO",
        "colab_type": "code",
        "colab": {
          "base_uri": "https://localhost:8080/",
          "height": 54
        },
        "outputId": "af106d92-89bd-462c-88b7-a637a3dcf6d5"
      },
      "source": [
        "grid_search = GridSearchCV(classifier, param_grid={'max_depth': np.arange(1, 15), 'min_samples_split': np.arange(2, 10)})\n",
        "grid_search.fit(X_train, y_train)\n",
        "print(grid_search.score(X_train, y_train))\n",
        "grid_search.score(X_test, y_test)"
      ],
      "execution_count": 26,
      "outputs": [
        {
          "output_type": "stream",
          "text": [
            "0.8546132339235788\n"
          ],
          "name": "stdout"
        },
        {
          "output_type": "execute_result",
          "data": {
            "text/plain": [
              "0.8022440392706872"
            ]
          },
          "metadata": {
            "tags": []
          },
          "execution_count": 26
        }
      ]
    },
    {
      "cell_type": "code",
      "metadata": {
        "id": "SIAsyS0K4Sdx",
        "colab_type": "code",
        "colab": {
          "base_uri": "https://localhost:8080/",
          "height": 35
        },
        "outputId": "fb8e786a-daba-4f6d-8a35-e6bd94da245a"
      },
      "source": [
        "grid_search.best_params_"
      ],
      "execution_count": 27,
      "outputs": [
        {
          "output_type": "execute_result",
          "data": {
            "text/plain": [
              "{'max_depth': 14, 'min_samples_split': 2}"
            ]
          },
          "metadata": {
            "tags": []
          },
          "execution_count": 27
        }
      ]
    },
    {
      "cell_type": "code",
      "metadata": {
        "id": "ZdRlfhcdqchW",
        "colab_type": "code",
        "colab": {
          "base_uri": "https://localhost:8080/",
          "height": 54
        },
        "outputId": "17d7fa66-8f28-45e1-b144-e8de510ee11d"
      },
      "source": [
        "from sklearn.linear_model import LogisticRegression\n",
        "\n",
        "classifier = LogisticRegression(random_state=42)\n",
        "classifier.fit(X_train, y_train)\n",
        "train_acc = classifier.score(X_train, y_train)\n",
        "test_acc = classifier.score(X_test, y_test)\n",
        "results['LogisticRegression'] = [train_acc, test_acc]\n",
        "print(f'Zbiór treningowy: {train_acc:.4f}\\nZbiór testowy: {test_acc:.4f}')"
      ],
      "execution_count": 28,
      "outputs": [
        {
          "output_type": "stream",
          "text": [
            "Zbiór treningowy: 0.8304\n",
            "Zbiór testowy: 0.7966\n"
          ],
          "name": "stdout"
        }
      ]
    },
    {
      "cell_type": "code",
      "metadata": {
        "id": "JHkb4rSYqwKK",
        "colab_type": "code",
        "colab": {
          "base_uri": "https://localhost:8080/",
          "height": 54
        },
        "outputId": "90b7306e-e817-462c-8917-1e47ba623909"
      },
      "source": [
        "from sklearn.svm import SVC\n",
        "\n",
        "classifier = SVC(random_state=42)\n",
        "classifier.fit(X_train, y_train)\n",
        "train_acc = classifier.score(X_train, y_train)\n",
        "test_acc = classifier.score(X_test, y_test)\n",
        "results['SVC'] = [train_acc, test_acc]\n",
        "print(f'Zbiór treningowy: {train_acc:.4f}\\nZbiór testowy: {test_acc:.4f}')"
      ],
      "execution_count": 29,
      "outputs": [
        {
          "output_type": "stream",
          "text": [
            "Zbiór treningowy: 0.8546\n",
            "Zbiór testowy: 0.8065\n"
          ],
          "name": "stdout"
        }
      ]
    },
    {
      "cell_type": "code",
      "metadata": {
        "id": "n6OrSdewwWCy",
        "colab_type": "code",
        "colab": {
          "base_uri": "https://localhost:8080/",
          "height": 54
        },
        "outputId": "1f63114d-5cd4-4483-fa0e-ff8d029c6155"
      },
      "source": [
        "from sklearn.naive_bayes import MultinomialNB\n",
        "\n",
        "classifier =  MultinomialNB()\n",
        "classifier.fit(X_train, y_train)\n",
        "train_acc = classifier.score(X_train, y_train)\n",
        "test_acc = classifier.score(X_test, y_test)\n",
        "results['MultinomialNB'] = [train_acc, test_acc]\n",
        "print(f'Zbiór treningowy: {train_acc:.4f}\\nZbiór testowy: {test_acc:.4f}')"
      ],
      "execution_count": 30,
      "outputs": [
        {
          "output_type": "stream",
          "text": [
            "Zbiór treningowy: 0.8322\n",
            "Zbiór testowy: 0.8022\n"
          ],
          "name": "stdout"
        }
      ]
    },
    {
      "cell_type": "code",
      "metadata": {
        "id": "uzBS9nKXxpWH",
        "colab_type": "code",
        "colab": {
          "base_uri": "https://localhost:8080/",
          "height": 54
        },
        "outputId": "0266e35e-4a23-478e-e1ce-486b68ece902"
      },
      "source": [
        "from sklearn.naive_bayes import GaussianNB\n",
        "\n",
        "# raczej nie używa się z macierzami rzadkimi\n",
        "\n",
        "X_train_nb = X_train.toarray()\n",
        "X_test_nb = X_test.toarray()\n",
        "\n",
        "classifier =  GaussianNB()\n",
        "classifier.fit(X_train_nb, y_train)\n",
        "train_acc = classifier.score(X_train_nb, y_train)\n",
        "test_acc = classifier.score(X_test_nb, y_test)\n",
        "results['GaussianNB'] = [train_acc, test_acc]\n",
        "print(f'Zbiór treningowy: {train_acc:.4f}\\nZbiór testowy: {test_acc:.4f}')"
      ],
      "execution_count": 31,
      "outputs": [
        {
          "output_type": "stream",
          "text": [
            "Zbiór treningowy: 0.8574\n",
            "Zbiór testowy: 0.8149\n"
          ],
          "name": "stdout"
        }
      ]
    },
    {
      "cell_type": "code",
      "metadata": {
        "id": "m05ske7urGzZ",
        "colab_type": "code",
        "colab": {
          "base_uri": "https://localhost:8080/",
          "height": 145
        },
        "outputId": "24c3c3bc-87ef-4133-ecef-51de313e2f0f"
      },
      "source": [
        "results"
      ],
      "execution_count": 32,
      "outputs": [
        {
          "output_type": "execute_result",
          "data": {
            "text/plain": [
              "{'DecisionTreeClassifier': [0.8844361602982292, 0.7868162692847125],\n",
              " 'GaussianNB': [0.8574091332712023, 0.814866760168303],\n",
              " 'KNeighborsClassifier': [0.798695246971109, 0.7657784011220197],\n",
              " 'LogisticRegression': [0.8303821062441752, 0.7966339410939691],\n",
              " 'MultinomialNB': [0.8322460391425909, 0.8022440392706872],\n",
              " 'RandomForestClassifier': [0.8844361602982292, 0.8092566619915849],\n",
              " 'SVC': [0.8546132339235788, 0.8064516129032258]}"
            ]
          },
          "metadata": {
            "tags": []
          },
          "execution_count": 32
        }
      ]
    },
    {
      "cell_type": "code",
      "metadata": {
        "id": "YgkePOC5tLHE",
        "colab_type": "code",
        "colab": {
          "base_uri": "https://localhost:8080/",
          "height": 258
        },
        "outputId": "62c35ebf-f494-49ac-e2fa-8c395e2d5e1a"
      },
      "source": [
        "acc = np.array(list(results.values()))\n",
        "df = pd.DataFrame(data={'classifier': list(results.keys()), 'train accuracy': acc[:, 0], 'test accuracy': acc[:, 1]})\n",
        "df"
      ],
      "execution_count": 33,
      "outputs": [
        {
          "output_type": "execute_result",
          "data": {
            "text/html": [
              "<div>\n",
              "<style scoped>\n",
              "    .dataframe tbody tr th:only-of-type {\n",
              "        vertical-align: middle;\n",
              "    }\n",
              "\n",
              "    .dataframe tbody tr th {\n",
              "        vertical-align: top;\n",
              "    }\n",
              "\n",
              "    .dataframe thead th {\n",
              "        text-align: right;\n",
              "    }\n",
              "</style>\n",
              "<table border=\"1\" class=\"dataframe\">\n",
              "  <thead>\n",
              "    <tr style=\"text-align: right;\">\n",
              "      <th></th>\n",
              "      <th>classifier</th>\n",
              "      <th>train accuracy</th>\n",
              "      <th>test accuracy</th>\n",
              "    </tr>\n",
              "  </thead>\n",
              "  <tbody>\n",
              "    <tr>\n",
              "      <th>0</th>\n",
              "      <td>KNeighborsClassifier</td>\n",
              "      <td>0.798695</td>\n",
              "      <td>0.765778</td>\n",
              "    </tr>\n",
              "    <tr>\n",
              "      <th>1</th>\n",
              "      <td>DecisionTreeClassifier</td>\n",
              "      <td>0.884436</td>\n",
              "      <td>0.786816</td>\n",
              "    </tr>\n",
              "    <tr>\n",
              "      <th>2</th>\n",
              "      <td>RandomForestClassifier</td>\n",
              "      <td>0.884436</td>\n",
              "      <td>0.809257</td>\n",
              "    </tr>\n",
              "    <tr>\n",
              "      <th>3</th>\n",
              "      <td>LogisticRegression</td>\n",
              "      <td>0.830382</td>\n",
              "      <td>0.796634</td>\n",
              "    </tr>\n",
              "    <tr>\n",
              "      <th>4</th>\n",
              "      <td>SVC</td>\n",
              "      <td>0.854613</td>\n",
              "      <td>0.806452</td>\n",
              "    </tr>\n",
              "    <tr>\n",
              "      <th>5</th>\n",
              "      <td>MultinomialNB</td>\n",
              "      <td>0.832246</td>\n",
              "      <td>0.802244</td>\n",
              "    </tr>\n",
              "    <tr>\n",
              "      <th>6</th>\n",
              "      <td>GaussianNB</td>\n",
              "      <td>0.857409</td>\n",
              "      <td>0.814867</td>\n",
              "    </tr>\n",
              "  </tbody>\n",
              "</table>\n",
              "</div>"
            ],
            "text/plain": [
              "               classifier  train accuracy  test accuracy\n",
              "0    KNeighborsClassifier        0.798695       0.765778\n",
              "1  DecisionTreeClassifier        0.884436       0.786816\n",
              "2  RandomForestClassifier        0.884436       0.809257\n",
              "3      LogisticRegression        0.830382       0.796634\n",
              "4                     SVC        0.854613       0.806452\n",
              "5           MultinomialNB        0.832246       0.802244\n",
              "6              GaussianNB        0.857409       0.814867"
            ]
          },
          "metadata": {
            "tags": []
          },
          "execution_count": 33
        }
      ]
    },
    {
      "cell_type": "code",
      "metadata": {
        "id": "5u49CMPH0Ej8",
        "colab_type": "code",
        "colab": {
          "base_uri": "https://localhost:8080/",
          "height": 542
        },
        "outputId": "a85e03b2-b599-4011-f4ea-706f27936071"
      },
      "source": [
        "import plotly.graph_objects as go \n",
        "\n",
        "fig = go.Figure(data=go.Bar(x=df['classifier'], y=df['train accuracy'], name='train', marker_color='gray'),\n",
        "                layout=go.Layout(title='Dokładność na zbiorze treningowym i testowym', width=700))\n",
        "fig.add_trace(go.Bar(x=df['classifier'], y=df['test accuracy'], name='test', marker_color='gold'))\n",
        "fig.show()"
      ],
      "execution_count": 34,
      "outputs": [
        {
          "output_type": "display_data",
          "data": {
            "text/html": [
              "<html>\n",
              "<head><meta charset=\"utf-8\" /></head>\n",
              "<body>\n",
              "    <div>\n",
              "            <script src=\"https://cdnjs.cloudflare.com/ajax/libs/mathjax/2.7.5/MathJax.js?config=TeX-AMS-MML_SVG\"></script><script type=\"text/javascript\">if (window.MathJax) {MathJax.Hub.Config({SVG: {font: \"STIX-Web\"}});}</script>\n",
              "                <script type=\"text/javascript\">window.PlotlyConfig = {MathJaxConfig: 'local'};</script>\n",
              "        <script src=\"https://cdn.plot.ly/plotly-latest.min.js\"></script>    \n",
              "            <div id=\"106d58c6-a4fc-4bfd-aa48-81bec8e20419\" class=\"plotly-graph-div\" style=\"height:525px; width:700px;\"></div>\n",
              "            <script type=\"text/javascript\">\n",
              "                \n",
              "                    window.PLOTLYENV=window.PLOTLYENV || {};\n",
              "                    \n",
              "                if (document.getElementById(\"106d58c6-a4fc-4bfd-aa48-81bec8e20419\")) {\n",
              "                    Plotly.newPlot(\n",
              "                        '106d58c6-a4fc-4bfd-aa48-81bec8e20419',\n",
              "                        [{\"marker\": {\"color\": \"gray\"}, \"name\": \"train\", \"type\": \"bar\", \"x\": [\"KNeighborsClassifier\", \"DecisionTreeClassifier\", \"RandomForestClassifier\", \"LogisticRegression\", \"SVC\", \"MultinomialNB\", \"GaussianNB\"], \"y\": [0.798695246971109, 0.8844361602982292, 0.8844361602982292, 0.8303821062441752, 0.8546132339235788, 0.8322460391425909, 0.8574091332712023]}, {\"marker\": {\"color\": \"gold\"}, \"name\": \"test\", \"type\": \"bar\", \"x\": [\"KNeighborsClassifier\", \"DecisionTreeClassifier\", \"RandomForestClassifier\", \"LogisticRegression\", \"SVC\", \"MultinomialNB\", \"GaussianNB\"], \"y\": [0.7657784011220197, 0.7868162692847125, 0.8092566619915849, 0.7966339410939691, 0.8064516129032258, 0.8022440392706872, 0.814866760168303]}],\n",
              "                        {\"template\": {\"data\": {\"bar\": [{\"error_x\": {\"color\": \"#2a3f5f\"}, \"error_y\": {\"color\": \"#2a3f5f\"}, \"marker\": {\"line\": {\"color\": \"#E5ECF6\", \"width\": 0.5}}, \"type\": \"bar\"}], \"barpolar\": [{\"marker\": {\"line\": {\"color\": \"#E5ECF6\", \"width\": 0.5}}, \"type\": \"barpolar\"}], \"carpet\": [{\"aaxis\": {\"endlinecolor\": \"#2a3f5f\", \"gridcolor\": \"white\", \"linecolor\": \"white\", \"minorgridcolor\": \"white\", \"startlinecolor\": \"#2a3f5f\"}, \"baxis\": {\"endlinecolor\": \"#2a3f5f\", \"gridcolor\": \"white\", \"linecolor\": \"white\", \"minorgridcolor\": \"white\", \"startlinecolor\": \"#2a3f5f\"}, \"type\": \"carpet\"}], \"choropleth\": [{\"colorbar\": {\"outlinewidth\": 0, \"ticks\": \"\"}, \"type\": \"choropleth\"}], \"contour\": [{\"colorbar\": {\"outlinewidth\": 0, \"ticks\": \"\"}, \"colorscale\": [[0.0, \"#0d0887\"], [0.1111111111111111, \"#46039f\"], [0.2222222222222222, \"#7201a8\"], [0.3333333333333333, \"#9c179e\"], [0.4444444444444444, \"#bd3786\"], [0.5555555555555556, \"#d8576b\"], [0.6666666666666666, \"#ed7953\"], [0.7777777777777778, \"#fb9f3a\"], [0.8888888888888888, \"#fdca26\"], [1.0, \"#f0f921\"]], \"type\": \"contour\"}], \"contourcarpet\": [{\"colorbar\": {\"outlinewidth\": 0, \"ticks\": \"\"}, \"type\": \"contourcarpet\"}], \"heatmap\": [{\"colorbar\": {\"outlinewidth\": 0, \"ticks\": \"\"}, \"colorscale\": [[0.0, \"#0d0887\"], [0.1111111111111111, \"#46039f\"], [0.2222222222222222, \"#7201a8\"], [0.3333333333333333, \"#9c179e\"], [0.4444444444444444, \"#bd3786\"], [0.5555555555555556, \"#d8576b\"], [0.6666666666666666, \"#ed7953\"], [0.7777777777777778, \"#fb9f3a\"], [0.8888888888888888, \"#fdca26\"], [1.0, \"#f0f921\"]], \"type\": \"heatmap\"}], \"heatmapgl\": [{\"colorbar\": {\"outlinewidth\": 0, \"ticks\": \"\"}, \"colorscale\": [[0.0, \"#0d0887\"], [0.1111111111111111, \"#46039f\"], [0.2222222222222222, \"#7201a8\"], [0.3333333333333333, \"#9c179e\"], [0.4444444444444444, \"#bd3786\"], [0.5555555555555556, \"#d8576b\"], [0.6666666666666666, \"#ed7953\"], [0.7777777777777778, \"#fb9f3a\"], [0.8888888888888888, \"#fdca26\"], [1.0, \"#f0f921\"]], \"type\": \"heatmapgl\"}], \"histogram\": [{\"marker\": {\"colorbar\": {\"outlinewidth\": 0, \"ticks\": \"\"}}, \"type\": \"histogram\"}], \"histogram2d\": [{\"colorbar\": {\"outlinewidth\": 0, \"ticks\": \"\"}, \"colorscale\": [[0.0, \"#0d0887\"], [0.1111111111111111, \"#46039f\"], [0.2222222222222222, \"#7201a8\"], [0.3333333333333333, \"#9c179e\"], [0.4444444444444444, \"#bd3786\"], [0.5555555555555556, \"#d8576b\"], [0.6666666666666666, \"#ed7953\"], [0.7777777777777778, \"#fb9f3a\"], [0.8888888888888888, \"#fdca26\"], [1.0, \"#f0f921\"]], \"type\": \"histogram2d\"}], \"histogram2dcontour\": [{\"colorbar\": {\"outlinewidth\": 0, \"ticks\": \"\"}, \"colorscale\": [[0.0, \"#0d0887\"], [0.1111111111111111, \"#46039f\"], [0.2222222222222222, \"#7201a8\"], [0.3333333333333333, \"#9c179e\"], [0.4444444444444444, \"#bd3786\"], [0.5555555555555556, \"#d8576b\"], [0.6666666666666666, \"#ed7953\"], [0.7777777777777778, \"#fb9f3a\"], [0.8888888888888888, \"#fdca26\"], [1.0, \"#f0f921\"]], \"type\": \"histogram2dcontour\"}], \"mesh3d\": [{\"colorbar\": {\"outlinewidth\": 0, \"ticks\": \"\"}, \"type\": \"mesh3d\"}], \"parcoords\": [{\"line\": {\"colorbar\": {\"outlinewidth\": 0, \"ticks\": \"\"}}, \"type\": \"parcoords\"}], \"pie\": [{\"automargin\": true, \"type\": \"pie\"}], \"scatter\": [{\"marker\": {\"colorbar\": {\"outlinewidth\": 0, \"ticks\": \"\"}}, \"type\": \"scatter\"}], \"scatter3d\": [{\"line\": {\"colorbar\": {\"outlinewidth\": 0, \"ticks\": \"\"}}, \"marker\": {\"colorbar\": {\"outlinewidth\": 0, \"ticks\": \"\"}}, \"type\": \"scatter3d\"}], \"scattercarpet\": [{\"marker\": {\"colorbar\": {\"outlinewidth\": 0, \"ticks\": \"\"}}, \"type\": \"scattercarpet\"}], \"scattergeo\": [{\"marker\": {\"colorbar\": {\"outlinewidth\": 0, \"ticks\": \"\"}}, \"type\": \"scattergeo\"}], \"scattergl\": [{\"marker\": {\"colorbar\": {\"outlinewidth\": 0, \"ticks\": \"\"}}, \"type\": \"scattergl\"}], \"scattermapbox\": [{\"marker\": {\"colorbar\": {\"outlinewidth\": 0, \"ticks\": \"\"}}, \"type\": \"scattermapbox\"}], \"scatterpolar\": [{\"marker\": {\"colorbar\": {\"outlinewidth\": 0, \"ticks\": \"\"}}, \"type\": \"scatterpolar\"}], \"scatterpolargl\": [{\"marker\": {\"colorbar\": {\"outlinewidth\": 0, \"ticks\": \"\"}}, \"type\": \"scatterpolargl\"}], \"scatterternary\": [{\"marker\": {\"colorbar\": {\"outlinewidth\": 0, \"ticks\": \"\"}}, \"type\": \"scatterternary\"}], \"surface\": [{\"colorbar\": {\"outlinewidth\": 0, \"ticks\": \"\"}, \"colorscale\": [[0.0, \"#0d0887\"], [0.1111111111111111, \"#46039f\"], [0.2222222222222222, \"#7201a8\"], [0.3333333333333333, \"#9c179e\"], [0.4444444444444444, \"#bd3786\"], [0.5555555555555556, \"#d8576b\"], [0.6666666666666666, \"#ed7953\"], [0.7777777777777778, \"#fb9f3a\"], [0.8888888888888888, \"#fdca26\"], [1.0, \"#f0f921\"]], \"type\": \"surface\"}], \"table\": [{\"cells\": {\"fill\": {\"color\": \"#EBF0F8\"}, \"line\": {\"color\": \"white\"}}, \"header\": {\"fill\": {\"color\": \"#C8D4E3\"}, \"line\": {\"color\": \"white\"}}, \"type\": \"table\"}]}, \"layout\": {\"annotationdefaults\": {\"arrowcolor\": \"#2a3f5f\", \"arrowhead\": 0, \"arrowwidth\": 1}, \"coloraxis\": {\"colorbar\": {\"outlinewidth\": 0, \"ticks\": \"\"}}, \"colorscale\": {\"diverging\": [[0, \"#8e0152\"], [0.1, \"#c51b7d\"], [0.2, \"#de77ae\"], [0.3, \"#f1b6da\"], [0.4, \"#fde0ef\"], [0.5, \"#f7f7f7\"], [0.6, \"#e6f5d0\"], [0.7, \"#b8e186\"], [0.8, \"#7fbc41\"], [0.9, \"#4d9221\"], [1, \"#276419\"]], \"sequential\": [[0.0, \"#0d0887\"], [0.1111111111111111, \"#46039f\"], [0.2222222222222222, \"#7201a8\"], [0.3333333333333333, \"#9c179e\"], [0.4444444444444444, \"#bd3786\"], [0.5555555555555556, \"#d8576b\"], [0.6666666666666666, \"#ed7953\"], [0.7777777777777778, \"#fb9f3a\"], [0.8888888888888888, \"#fdca26\"], [1.0, \"#f0f921\"]], \"sequentialminus\": [[0.0, \"#0d0887\"], [0.1111111111111111, \"#46039f\"], [0.2222222222222222, \"#7201a8\"], [0.3333333333333333, \"#9c179e\"], [0.4444444444444444, \"#bd3786\"], [0.5555555555555556, \"#d8576b\"], [0.6666666666666666, \"#ed7953\"], [0.7777777777777778, \"#fb9f3a\"], [0.8888888888888888, \"#fdca26\"], [1.0, \"#f0f921\"]]}, \"colorway\": [\"#636efa\", \"#EF553B\", \"#00cc96\", \"#ab63fa\", \"#FFA15A\", \"#19d3f3\", \"#FF6692\", \"#B6E880\", \"#FF97FF\", \"#FECB52\"], \"font\": {\"color\": \"#2a3f5f\"}, \"geo\": {\"bgcolor\": \"white\", \"lakecolor\": \"white\", \"landcolor\": \"#E5ECF6\", \"showlakes\": true, \"showland\": true, \"subunitcolor\": \"white\"}, \"hoverlabel\": {\"align\": \"left\"}, \"hovermode\": \"closest\", \"mapbox\": {\"style\": \"light\"}, \"paper_bgcolor\": \"white\", \"plot_bgcolor\": \"#E5ECF6\", \"polar\": {\"angularaxis\": {\"gridcolor\": \"white\", \"linecolor\": \"white\", \"ticks\": \"\"}, \"bgcolor\": \"#E5ECF6\", \"radialaxis\": {\"gridcolor\": \"white\", \"linecolor\": \"white\", \"ticks\": \"\"}}, \"scene\": {\"xaxis\": {\"backgroundcolor\": \"#E5ECF6\", \"gridcolor\": \"white\", \"gridwidth\": 2, \"linecolor\": \"white\", \"showbackground\": true, \"ticks\": \"\", \"zerolinecolor\": \"white\"}, \"yaxis\": {\"backgroundcolor\": \"#E5ECF6\", \"gridcolor\": \"white\", \"gridwidth\": 2, \"linecolor\": \"white\", \"showbackground\": true, \"ticks\": \"\", \"zerolinecolor\": \"white\"}, \"zaxis\": {\"backgroundcolor\": \"#E5ECF6\", \"gridcolor\": \"white\", \"gridwidth\": 2, \"linecolor\": \"white\", \"showbackground\": true, \"ticks\": \"\", \"zerolinecolor\": \"white\"}}, \"shapedefaults\": {\"line\": {\"color\": \"#2a3f5f\"}}, \"ternary\": {\"aaxis\": {\"gridcolor\": \"white\", \"linecolor\": \"white\", \"ticks\": \"\"}, \"baxis\": {\"gridcolor\": \"white\", \"linecolor\": \"white\", \"ticks\": \"\"}, \"bgcolor\": \"#E5ECF6\", \"caxis\": {\"gridcolor\": \"white\", \"linecolor\": \"white\", \"ticks\": \"\"}}, \"title\": {\"x\": 0.05}, \"xaxis\": {\"automargin\": true, \"gridcolor\": \"white\", \"linecolor\": \"white\", \"ticks\": \"\", \"title\": {\"standoff\": 15}, \"zerolinecolor\": \"white\", \"zerolinewidth\": 2}, \"yaxis\": {\"automargin\": true, \"gridcolor\": \"white\", \"linecolor\": \"white\", \"ticks\": \"\", \"title\": {\"standoff\": 15}, \"zerolinecolor\": \"white\", \"zerolinewidth\": 2}}}, \"title\": {\"text\": \"Dok\\u0142adno\\u015b\\u0107 na zbiorze treningowym i testowym\"}, \"width\": 700},\n",
              "                        {\"responsive\": true}\n",
              "                    ).then(function(){\n",
              "                            \n",
              "var gd = document.getElementById('106d58c6-a4fc-4bfd-aa48-81bec8e20419');\n",
              "var x = new MutationObserver(function (mutations, observer) {{\n",
              "        var display = window.getComputedStyle(gd).display;\n",
              "        if (!display || display === 'none') {{\n",
              "            console.log([gd, 'removed!']);\n",
              "            Plotly.purge(gd);\n",
              "            observer.disconnect();\n",
              "        }}\n",
              "}});\n",
              "\n",
              "// Listen for the removal of the full notebook cells\n",
              "var notebookContainer = gd.closest('#notebook-container');\n",
              "if (notebookContainer) {{\n",
              "    x.observe(notebookContainer, {childList: true});\n",
              "}}\n",
              "\n",
              "// Listen for the clearing of the current output cell\n",
              "var outputEl = gd.closest('.output');\n",
              "if (outputEl) {{\n",
              "    x.observe(outputEl, {childList: true});\n",
              "}}\n",
              "\n",
              "                        })\n",
              "                };\n",
              "                \n",
              "            </script>\n",
              "        </div>\n",
              "</body>\n",
              "</html>"
            ]
          },
          "metadata": {
            "tags": []
          }
        }
      ]
    },
    {
      "cell_type": "code",
      "metadata": {
        "id": "6aO-Yl9iz59a",
        "colab_type": "code",
        "colab": {
          "base_uri": "https://localhost:8080/",
          "height": 542
        },
        "outputId": "82be8a42-ba5c-4fc6-a895-f8a7b81f5493"
      },
      "source": [
        "df = df.sort_values(by='test accuracy', ascending=False)\n",
        "\n",
        "fig = go.Figure(data=go.Bar(x=df['classifier'], y=df['train accuracy'], name='train', marker_color='gray'),\n",
        "                layout=go.Layout(title='Dokładność na zbiorze treningowym i testowym', width=700))\n",
        "fig.add_trace(go.Bar(x=df['classifier'], y=df['test accuracy'], name='test', marker_color='gold'))\n",
        "fig.show()"
      ],
      "execution_count": 35,
      "outputs": [
        {
          "output_type": "display_data",
          "data": {
            "text/html": [
              "<html>\n",
              "<head><meta charset=\"utf-8\" /></head>\n",
              "<body>\n",
              "    <div>\n",
              "            <script src=\"https://cdnjs.cloudflare.com/ajax/libs/mathjax/2.7.5/MathJax.js?config=TeX-AMS-MML_SVG\"></script><script type=\"text/javascript\">if (window.MathJax) {MathJax.Hub.Config({SVG: {font: \"STIX-Web\"}});}</script>\n",
              "                <script type=\"text/javascript\">window.PlotlyConfig = {MathJaxConfig: 'local'};</script>\n",
              "        <script src=\"https://cdn.plot.ly/plotly-latest.min.js\"></script>    \n",
              "            <div id=\"15b9b977-dc22-4c7c-9b0c-452347bf043a\" class=\"plotly-graph-div\" style=\"height:525px; width:700px;\"></div>\n",
              "            <script type=\"text/javascript\">\n",
              "                \n",
              "                    window.PLOTLYENV=window.PLOTLYENV || {};\n",
              "                    \n",
              "                if (document.getElementById(\"15b9b977-dc22-4c7c-9b0c-452347bf043a\")) {\n",
              "                    Plotly.newPlot(\n",
              "                        '15b9b977-dc22-4c7c-9b0c-452347bf043a',\n",
              "                        [{\"marker\": {\"color\": \"gray\"}, \"name\": \"train\", \"type\": \"bar\", \"x\": [\"GaussianNB\", \"RandomForestClassifier\", \"SVC\", \"MultinomialNB\", \"LogisticRegression\", \"DecisionTreeClassifier\", \"KNeighborsClassifier\"], \"y\": [0.8574091332712023, 0.8844361602982292, 0.8546132339235788, 0.8322460391425909, 0.8303821062441752, 0.8844361602982292, 0.798695246971109]}, {\"marker\": {\"color\": \"gold\"}, \"name\": \"test\", \"type\": \"bar\", \"x\": [\"GaussianNB\", \"RandomForestClassifier\", \"SVC\", \"MultinomialNB\", \"LogisticRegression\", \"DecisionTreeClassifier\", \"KNeighborsClassifier\"], \"y\": [0.814866760168303, 0.8092566619915849, 0.8064516129032258, 0.8022440392706872, 0.7966339410939691, 0.7868162692847125, 0.7657784011220197]}],\n",
              "                        {\"template\": {\"data\": {\"bar\": [{\"error_x\": {\"color\": \"#2a3f5f\"}, \"error_y\": {\"color\": \"#2a3f5f\"}, \"marker\": {\"line\": {\"color\": \"#E5ECF6\", \"width\": 0.5}}, \"type\": \"bar\"}], \"barpolar\": [{\"marker\": {\"line\": {\"color\": \"#E5ECF6\", \"width\": 0.5}}, \"type\": \"barpolar\"}], \"carpet\": [{\"aaxis\": {\"endlinecolor\": \"#2a3f5f\", \"gridcolor\": \"white\", \"linecolor\": \"white\", \"minorgridcolor\": \"white\", \"startlinecolor\": \"#2a3f5f\"}, \"baxis\": {\"endlinecolor\": \"#2a3f5f\", \"gridcolor\": \"white\", \"linecolor\": \"white\", \"minorgridcolor\": \"white\", \"startlinecolor\": \"#2a3f5f\"}, \"type\": \"carpet\"}], \"choropleth\": [{\"colorbar\": {\"outlinewidth\": 0, \"ticks\": \"\"}, \"type\": \"choropleth\"}], \"contour\": [{\"colorbar\": {\"outlinewidth\": 0, \"ticks\": \"\"}, \"colorscale\": [[0.0, \"#0d0887\"], [0.1111111111111111, \"#46039f\"], [0.2222222222222222, \"#7201a8\"], [0.3333333333333333, \"#9c179e\"], [0.4444444444444444, \"#bd3786\"], [0.5555555555555556, \"#d8576b\"], [0.6666666666666666, \"#ed7953\"], [0.7777777777777778, \"#fb9f3a\"], [0.8888888888888888, \"#fdca26\"], [1.0, \"#f0f921\"]], \"type\": \"contour\"}], \"contourcarpet\": [{\"colorbar\": {\"outlinewidth\": 0, \"ticks\": \"\"}, \"type\": \"contourcarpet\"}], \"heatmap\": [{\"colorbar\": {\"outlinewidth\": 0, \"ticks\": \"\"}, \"colorscale\": [[0.0, \"#0d0887\"], [0.1111111111111111, \"#46039f\"], [0.2222222222222222, \"#7201a8\"], [0.3333333333333333, \"#9c179e\"], [0.4444444444444444, \"#bd3786\"], [0.5555555555555556, \"#d8576b\"], [0.6666666666666666, \"#ed7953\"], [0.7777777777777778, \"#fb9f3a\"], [0.8888888888888888, \"#fdca26\"], [1.0, \"#f0f921\"]], \"type\": \"heatmap\"}], \"heatmapgl\": [{\"colorbar\": {\"outlinewidth\": 0, \"ticks\": \"\"}, \"colorscale\": [[0.0, \"#0d0887\"], [0.1111111111111111, \"#46039f\"], [0.2222222222222222, \"#7201a8\"], [0.3333333333333333, \"#9c179e\"], [0.4444444444444444, \"#bd3786\"], [0.5555555555555556, \"#d8576b\"], [0.6666666666666666, \"#ed7953\"], [0.7777777777777778, \"#fb9f3a\"], [0.8888888888888888, \"#fdca26\"], [1.0, \"#f0f921\"]], \"type\": \"heatmapgl\"}], \"histogram\": [{\"marker\": {\"colorbar\": {\"outlinewidth\": 0, \"ticks\": \"\"}}, \"type\": \"histogram\"}], \"histogram2d\": [{\"colorbar\": {\"outlinewidth\": 0, \"ticks\": \"\"}, \"colorscale\": [[0.0, \"#0d0887\"], [0.1111111111111111, \"#46039f\"], [0.2222222222222222, \"#7201a8\"], [0.3333333333333333, \"#9c179e\"], [0.4444444444444444, \"#bd3786\"], [0.5555555555555556, \"#d8576b\"], [0.6666666666666666, \"#ed7953\"], [0.7777777777777778, \"#fb9f3a\"], [0.8888888888888888, \"#fdca26\"], [1.0, \"#f0f921\"]], \"type\": \"histogram2d\"}], \"histogram2dcontour\": [{\"colorbar\": {\"outlinewidth\": 0, \"ticks\": \"\"}, \"colorscale\": [[0.0, \"#0d0887\"], [0.1111111111111111, \"#46039f\"], [0.2222222222222222, \"#7201a8\"], [0.3333333333333333, \"#9c179e\"], [0.4444444444444444, \"#bd3786\"], [0.5555555555555556, \"#d8576b\"], [0.6666666666666666, \"#ed7953\"], [0.7777777777777778, \"#fb9f3a\"], [0.8888888888888888, \"#fdca26\"], [1.0, \"#f0f921\"]], \"type\": \"histogram2dcontour\"}], \"mesh3d\": [{\"colorbar\": {\"outlinewidth\": 0, \"ticks\": \"\"}, \"type\": \"mesh3d\"}], \"parcoords\": [{\"line\": {\"colorbar\": {\"outlinewidth\": 0, \"ticks\": \"\"}}, \"type\": \"parcoords\"}], \"pie\": [{\"automargin\": true, \"type\": \"pie\"}], \"scatter\": [{\"marker\": {\"colorbar\": {\"outlinewidth\": 0, \"ticks\": \"\"}}, \"type\": \"scatter\"}], \"scatter3d\": [{\"line\": {\"colorbar\": {\"outlinewidth\": 0, \"ticks\": \"\"}}, \"marker\": {\"colorbar\": {\"outlinewidth\": 0, \"ticks\": \"\"}}, \"type\": \"scatter3d\"}], \"scattercarpet\": [{\"marker\": {\"colorbar\": {\"outlinewidth\": 0, \"ticks\": \"\"}}, \"type\": \"scattercarpet\"}], \"scattergeo\": [{\"marker\": {\"colorbar\": {\"outlinewidth\": 0, \"ticks\": \"\"}}, \"type\": \"scattergeo\"}], \"scattergl\": [{\"marker\": {\"colorbar\": {\"outlinewidth\": 0, \"ticks\": \"\"}}, \"type\": \"scattergl\"}], \"scattermapbox\": [{\"marker\": {\"colorbar\": {\"outlinewidth\": 0, \"ticks\": \"\"}}, \"type\": \"scattermapbox\"}], \"scatterpolar\": [{\"marker\": {\"colorbar\": {\"outlinewidth\": 0, \"ticks\": \"\"}}, \"type\": \"scatterpolar\"}], \"scatterpolargl\": [{\"marker\": {\"colorbar\": {\"outlinewidth\": 0, \"ticks\": \"\"}}, \"type\": \"scatterpolargl\"}], \"scatterternary\": [{\"marker\": {\"colorbar\": {\"outlinewidth\": 0, \"ticks\": \"\"}}, \"type\": \"scatterternary\"}], \"surface\": [{\"colorbar\": {\"outlinewidth\": 0, \"ticks\": \"\"}, \"colorscale\": [[0.0, \"#0d0887\"], [0.1111111111111111, \"#46039f\"], [0.2222222222222222, \"#7201a8\"], [0.3333333333333333, \"#9c179e\"], [0.4444444444444444, \"#bd3786\"], [0.5555555555555556, \"#d8576b\"], [0.6666666666666666, \"#ed7953\"], [0.7777777777777778, \"#fb9f3a\"], [0.8888888888888888, \"#fdca26\"], [1.0, \"#f0f921\"]], \"type\": \"surface\"}], \"table\": [{\"cells\": {\"fill\": {\"color\": \"#EBF0F8\"}, \"line\": {\"color\": \"white\"}}, \"header\": {\"fill\": {\"color\": \"#C8D4E3\"}, \"line\": {\"color\": \"white\"}}, \"type\": \"table\"}]}, \"layout\": {\"annotationdefaults\": {\"arrowcolor\": \"#2a3f5f\", \"arrowhead\": 0, \"arrowwidth\": 1}, \"coloraxis\": {\"colorbar\": {\"outlinewidth\": 0, \"ticks\": \"\"}}, \"colorscale\": {\"diverging\": [[0, \"#8e0152\"], [0.1, \"#c51b7d\"], [0.2, \"#de77ae\"], [0.3, \"#f1b6da\"], [0.4, \"#fde0ef\"], [0.5, \"#f7f7f7\"], [0.6, \"#e6f5d0\"], [0.7, \"#b8e186\"], [0.8, \"#7fbc41\"], [0.9, \"#4d9221\"], [1, \"#276419\"]], \"sequential\": [[0.0, \"#0d0887\"], [0.1111111111111111, \"#46039f\"], [0.2222222222222222, \"#7201a8\"], [0.3333333333333333, \"#9c179e\"], [0.4444444444444444, \"#bd3786\"], [0.5555555555555556, \"#d8576b\"], [0.6666666666666666, \"#ed7953\"], [0.7777777777777778, \"#fb9f3a\"], [0.8888888888888888, \"#fdca26\"], [1.0, \"#f0f921\"]], \"sequentialminus\": [[0.0, \"#0d0887\"], [0.1111111111111111, \"#46039f\"], [0.2222222222222222, \"#7201a8\"], [0.3333333333333333, \"#9c179e\"], [0.4444444444444444, \"#bd3786\"], [0.5555555555555556, \"#d8576b\"], [0.6666666666666666, \"#ed7953\"], [0.7777777777777778, \"#fb9f3a\"], [0.8888888888888888, \"#fdca26\"], [1.0, \"#f0f921\"]]}, \"colorway\": [\"#636efa\", \"#EF553B\", \"#00cc96\", \"#ab63fa\", \"#FFA15A\", \"#19d3f3\", \"#FF6692\", \"#B6E880\", \"#FF97FF\", \"#FECB52\"], \"font\": {\"color\": \"#2a3f5f\"}, \"geo\": {\"bgcolor\": \"white\", \"lakecolor\": \"white\", \"landcolor\": \"#E5ECF6\", \"showlakes\": true, \"showland\": true, \"subunitcolor\": \"white\"}, \"hoverlabel\": {\"align\": \"left\"}, \"hovermode\": \"closest\", \"mapbox\": {\"style\": \"light\"}, \"paper_bgcolor\": \"white\", \"plot_bgcolor\": \"#E5ECF6\", \"polar\": {\"angularaxis\": {\"gridcolor\": \"white\", \"linecolor\": \"white\", \"ticks\": \"\"}, \"bgcolor\": \"#E5ECF6\", \"radialaxis\": {\"gridcolor\": \"white\", \"linecolor\": \"white\", \"ticks\": \"\"}}, \"scene\": {\"xaxis\": {\"backgroundcolor\": \"#E5ECF6\", \"gridcolor\": \"white\", \"gridwidth\": 2, \"linecolor\": \"white\", \"showbackground\": true, \"ticks\": \"\", \"zerolinecolor\": \"white\"}, \"yaxis\": {\"backgroundcolor\": \"#E5ECF6\", \"gridcolor\": \"white\", \"gridwidth\": 2, \"linecolor\": \"white\", \"showbackground\": true, \"ticks\": \"\", \"zerolinecolor\": \"white\"}, \"zaxis\": {\"backgroundcolor\": \"#E5ECF6\", \"gridcolor\": \"white\", \"gridwidth\": 2, \"linecolor\": \"white\", \"showbackground\": true, \"ticks\": \"\", \"zerolinecolor\": \"white\"}}, \"shapedefaults\": {\"line\": {\"color\": \"#2a3f5f\"}}, \"ternary\": {\"aaxis\": {\"gridcolor\": \"white\", \"linecolor\": \"white\", \"ticks\": \"\"}, \"baxis\": {\"gridcolor\": \"white\", \"linecolor\": \"white\", \"ticks\": \"\"}, \"bgcolor\": \"#E5ECF6\", \"caxis\": {\"gridcolor\": \"white\", \"linecolor\": \"white\", \"ticks\": \"\"}}, \"title\": {\"x\": 0.05}, \"xaxis\": {\"automargin\": true, \"gridcolor\": \"white\", \"linecolor\": \"white\", \"ticks\": \"\", \"title\": {\"standoff\": 15}, \"zerolinecolor\": \"white\", \"zerolinewidth\": 2}, \"yaxis\": {\"automargin\": true, \"gridcolor\": \"white\", \"linecolor\": \"white\", \"ticks\": \"\", \"title\": {\"standoff\": 15}, \"zerolinecolor\": \"white\", \"zerolinewidth\": 2}}}, \"title\": {\"text\": \"Dok\\u0142adno\\u015b\\u0107 na zbiorze treningowym i testowym\"}, \"width\": 700},\n",
              "                        {\"responsive\": true}\n",
              "                    ).then(function(){\n",
              "                            \n",
              "var gd = document.getElementById('15b9b977-dc22-4c7c-9b0c-452347bf043a');\n",
              "var x = new MutationObserver(function (mutations, observer) {{\n",
              "        var display = window.getComputedStyle(gd).display;\n",
              "        if (!display || display === 'none') {{\n",
              "            console.log([gd, 'removed!']);\n",
              "            Plotly.purge(gd);\n",
              "            observer.disconnect();\n",
              "        }}\n",
              "}});\n",
              "\n",
              "// Listen for the removal of the full notebook cells\n",
              "var notebookContainer = gd.closest('#notebook-container');\n",
              "if (notebookContainer) {{\n",
              "    x.observe(notebookContainer, {childList: true});\n",
              "}}\n",
              "\n",
              "// Listen for the clearing of the current output cell\n",
              "var outputEl = gd.closest('.output');\n",
              "if (outputEl) {{\n",
              "    x.observe(outputEl, {childList: true});\n",
              "}}\n",
              "\n",
              "                        })\n",
              "                };\n",
              "                \n",
              "            </script>\n",
              "        </div>\n",
              "</body>\n",
              "</html>"
            ]
          },
          "metadata": {
            "tags": []
          }
        }
      ]
    },
    {
      "cell_type": "code",
      "metadata": {
        "id": "eLPWDG_716tL",
        "colab_type": "code",
        "colab": {}
      },
      "source": [
        ""
      ],
      "execution_count": 0,
      "outputs": []
    }
  ]
}