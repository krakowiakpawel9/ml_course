{
  "nbformat": 4,
  "nbformat_minor": 0,
  "metadata": {
    "colab": {
      "name": "Untitled30.ipynb",
      "provenance": [],
      "include_colab_link": true
    },
    "kernelspec": {
      "name": "python3",
      "display_name": "Python 3"
    },
    "accelerator": "GPU"
  },
  "cells": [
    {
      "cell_type": "markdown",
      "metadata": {
        "id": "view-in-github",
        "colab_type": "text"
      },
      "source": [
        "<a href=\"https://colab.research.google.com/github/krakowiakpawel9/ml_course/blob/master/sl/12_logistic_regression.ipynb\" target=\"_parent\"><img src=\"https://colab.research.google.com/assets/colab-badge.svg\" alt=\"Open In Colab\"/></a>"
      ]
    },
    {
      "cell_type": "markdown",
      "metadata": {
        "id": "SWts5-Puv3BL",
        "colab_type": "text"
      },
      "source": [
        "### scikit-learn\n",
        "Strona biblioteki: [https://scikit-learn.org](https://scikit-learn.org)  \n",
        "\n",
        "Dokumentacja/User Guide: [https://scikit-learn.org/stable/user_guide.html](https://scikit-learn.org/stable/user_guide.html)\n",
        "\n",
        "Podstawowa biblioteka do uczenia maszynowego w języku Python.\n",
        "\n",
        "Aby zainstalować bibliotekę scikit-learn, użyj polecenia poniżej:\n",
        "```\n",
        "!pip install scikit-learn\n",
        "```\n",
        "Aby zaktualizować do najnowszej wersji bibliotekę scikit-learn, użyj polecenia poniżej:\n",
        "```\n",
        "!pip install --upgrade scikit-learn\n",
        "```\n",
        "Kurs stworzony w oparciu o wersję `0.22.1`\n",
        "\n",
        "\n",
        "### Spis treści:\n",
        "1. [Import bibliotek](#a1)\n",
        "2. [Regresja Logistyczna (Logistic Regression) - wprowadzenie](#a2)\n",
        "3. [Załadowanie danych](#a3)\n",
        "4. [Podział danych na zbiór treningowy i testowy](#a4)\n",
        "5. [Przygotowanie danych do modelu](#a44)\n",
        "6. [Dopasowanie modelu](#a5)\n",
        "7. [Predykcja na podstawie modelu](#a6)\n",
        "8. [Ocena modelu](#a7)"
      ]
    },
    {
      "cell_type": "markdown",
      "metadata": {
        "id": "jjtisHd5whjO",
        "colab_type": "text"
      },
      "source": [
        "### <a name='a1'></a> Import bibliotek"
      ]
    },
    {
      "cell_type": "code",
      "metadata": {
        "id": "VwB7JWYcv4P-",
        "colab_type": "code",
        "outputId": "6e3b153c-1436-426e-f85c-c4e5b4f04751",
        "colab": {
          "base_uri": "https://localhost:8080/",
          "height": 34
        }
      },
      "source": [
        "import numpy as np\n",
        "import pandas as pd\n",
        "import matplotlib.pyplot as plt\n",
        "import plotly.figure_factory as ff\n",
        "import seaborn as sns\n",
        "import sklearn\n",
        "\n",
        "sns.set(font_scale=1.3)\n",
        "np.set_printoptions(precision=6, suppress=True, edgeitems=10, linewidth=100000, formatter=dict(float=lambda x: f'{x:.2f}'))\n",
        "sklearn.__version__"
      ],
      "execution_count": 1,
      "outputs": [
        {
          "output_type": "execute_result",
          "data": {
            "text/plain": [
              "'0.22.1'"
            ]
          },
          "metadata": {
            "tags": []
          },
          "execution_count": 1
        }
      ]
    },
    {
      "cell_type": "markdown",
      "metadata": {
        "id": "tt_AYVtZ0Pgl",
        "colab_type": "text"
      },
      "source": [
        "###  <a name='a2'></a>  Regresja Logistyczna (Logistic Regression) - wprowadzenie\n",
        "\n",
        "Pomimo nazwy jest to liniowy model do zadań klasyfikacyjnych. Inna nazwa Logit Regression. \n",
        "\n",
        "#### Przykłady zastosowań:\n",
        "- przewidywanie czy mail jest spamem, czy też nie\n",
        "- przewidywanie czy użytkownik kliknie w reklamę\n",
        "- przewidywanie czy nowotwór jest złośliwy czy też nie\n",
        "- przewidywanie czy dłużnik spłaci wierzycielowi dług, czy też zajdzie zdarzenie default\n",
        "- przewidywanie czy transakcja jest próbą oszustwa\n",
        "\n",
        "Przy budowie modelu regresji logistycznej wykorzystamy funkcję sigmoid. Definiuje się ją wzorem:\n",
        "$$sigmoid(x) = \\frac{1}{1+e^{-x}}$$"
      ]
    },
    {
      "cell_type": "code",
      "metadata": {
        "id": "X8NAT_uFkChZ",
        "colab_type": "code",
        "outputId": "b9616942-ccb2-4f0b-dd10-00833ae06640",
        "colab": {
          "base_uri": "https://localhost:8080/",
          "height": 399
        }
      },
      "source": [
        "def sigmoid(x):\n",
        "    return 1 / (1 + np.exp(-x))\n",
        "\n",
        "X = np.arange(-5, 5, 0.1)\n",
        "y = sigmoid(X)\n",
        "\n",
        "plt.figure(figsize=(8, 6))\n",
        "plt.plot(X, y)\n",
        "plt.title('Funkcja Sigmoid')\n",
        "plt.show()"
      ],
      "execution_count": 2,
      "outputs": [
        {
          "output_type": "display_data",
          "data": {
            "image/png": "[encoded data removed]",
            "text/plain": [
              "<Figure size 576x432 with 1 Axes>"
            ]
          },
          "metadata": {
            "tags": []
          }
        }
      ]
    },
    {
      "cell_type": "markdown",
      "metadata": {
        "id": "NAuOPAi6kCy3",
        "colab_type": "text"
      },
      "source": [
        "Następnie rozważmy funkcję liniową $y = w_0 + w_1x$. Podstawiając to do funkcji sigmoid otrzymujemy:\n",
        "$$p(x) = \\frac{1}{1 + e^{-(w_0 + w_1x)}}$$\n",
        "Dzięki temu przekształceniu regresja logistyczna zwraca nam wartości z przedziału $(0, 1)$ co możemy interpretować jako prawdopodobieństwo i na podstawie tych prawdopodobieństw przewidywać poszczególne klasy."
      ]
    },
    {
      "cell_type": "markdown",
      "metadata": {
        "id": "vJS_z9QUwx0N",
        "colab_type": "text"
      },
      "source": [
        "###  <a name='a3'></a> Załadowanie danych"
      ]
    },
    {
      "cell_type": "code",
      "metadata": {
        "id": "hkcj5Yb_VhrK",
        "colab_type": "code",
        "outputId": "2b3b02f1-0e23-44e5-ecbe-c3318537f9db",
        "colab": {
          "base_uri": "https://localhost:8080/",
          "height": 34
        }
      },
      "source": [
        "from sklearn.datasets import load_breast_cancer\n",
        "\n",
        "raw_data = load_breast_cancer()\n",
        "raw_data.keys()"
      ],
      "execution_count": 3,
      "outputs": [
        {
          "output_type": "execute_result",
          "data": {
            "text/plain": [
              "dict_keys(['data', 'target', 'target_names', 'DESCR', 'feature_names', 'filename'])"
            ]
          },
          "metadata": {
            "tags": []
          },
          "execution_count": 3
        }
      ]
    },
    {
      "cell_type": "code",
      "metadata": {
        "id": "RJ_G5IVqeJj_",
        "colab_type": "code",
        "colab": {
          "base_uri": "https://localhost:8080/",
          "height": 1000
        },
        "outputId": "fc2a3775-8a98-4fd0-9b23-01a7f83c8a99"
      },
      "source": [
        "print(raw_data.DESCR)"
      ],
      "execution_count": 4,
      "outputs": [
        {
          "output_type": "stream",
          "text": [
            ".. _breast_cancer_dataset:\n",
            "\n",
            "Breast cancer wisconsin (diagnostic) dataset\n",
            "--------------------------------------------\n",
            "\n",
            "**Data Set Characteristics:**\n",
            "\n",
            "    :Number of Instances: 569\n",
            "\n",
            "    :Number of Attributes: 30 numeric, predictive attributes and the class\n",
            "\n",
            "    :Attribute Information:\n",
            "        - radius (mean of distances from center to points on the perimeter)\n",
            "        - texture (standard deviation of gray-scale values)\n",
            "        - perimeter\n",
            "        - area\n",
            "        - smoothness (local variation in radius lengths)\n",
            "        - compactness (perimeter^2 / area - 1.0)\n",
            "        - concavity (severity of concave portions of the contour)\n",
            "        - concave points (number of concave portions of the contour)\n",
            "        - symmetry \n",
            "        - fractal dimension (\"coastline approximation\" - 1)\n",
            "\n",
            "        The mean, standard error, and \"worst\" or largest (mean of the three\n",
            "        largest values) of these features were computed for each image,\n",
            "        resulting in 30 features.  For instance, field 3 is Mean Radius, field\n",
            "        13 is Radius SE, field 23 is Worst Radius.\n",
            "\n",
            "        - class:\n",
            "                - WDBC-Malignant\n",
            "                - WDBC-Benign\n",
            "\n",
            "    :Summary Statistics:\n",
            "\n",
            "    ===================================== ====== ======\n",
            "                                           Min    Max\n",
            "    ===================================== ====== ======\n",
            "    radius (mean):                        6.981  28.11\n",
            "    texture (mean):                       9.71   39.28\n",
            "    perimeter (mean):                     43.79  188.5\n",
            "    area (mean):                          143.5  2501.0\n",
            "    smoothness (mean):                    0.053  0.163\n",
            "    compactness (mean):                   0.019  0.345\n",
            "    concavity (mean):                     0.0    0.427\n",
            "    concave points (mean):                0.0    0.201\n",
            "    symmetry (mean):                      0.106  0.304\n",
            "    fractal dimension (mean):             0.05   0.097\n",
            "    radius (standard error):              0.112  2.873\n",
            "    texture (standard error):             0.36   4.885\n",
            "    perimeter (standard error):           0.757  21.98\n",
            "    area (standard error):                6.802  542.2\n",
            "    smoothness (standard error):          0.002  0.031\n",
            "    compactness (standard error):         0.002  0.135\n",
            "    concavity (standard error):           0.0    0.396\n",
            "    concave points (standard error):      0.0    0.053\n",
            "    symmetry (standard error):            0.008  0.079\n",
            "    fractal dimension (standard error):   0.001  0.03\n",
            "    radius (worst):                       7.93   36.04\n",
            "    texture (worst):                      12.02  49.54\n",
            "    perimeter (worst):                    50.41  251.2\n",
            "    area (worst):                         185.2  4254.0\n",
            "    smoothness (worst):                   0.071  0.223\n",
            "    compactness (worst):                  0.027  1.058\n",
            "    concavity (worst):                    0.0    1.252\n",
            "    concave points (worst):               0.0    0.291\n",
            "    symmetry (worst):                     0.156  0.664\n",
            "    fractal dimension (worst):            0.055  0.208\n",
            "    ===================================== ====== ======\n",
            "\n",
            "    :Missing Attribute Values: None\n",
            "\n",
            "    :Class Distribution: 212 - Malignant, 357 - Benign\n",
            "\n",
            "    :Creator:  Dr. William H. Wolberg, W. Nick Street, Olvi L. Mangasarian\n",
            "\n",
            "    :Donor: Nick Street\n",
            "\n",
            "    :Date: November, 1995\n",
            "\n",
            "This is a copy of UCI ML Breast Cancer Wisconsin (Diagnostic) datasets.\n",
            "https://goo.gl/U2Uwz2\n",
            "\n",
            "Features are computed from a digitized image of a fine needle\n",
            "aspirate (FNA) of a breast mass.  They describe\n",
            "characteristics of the cell nuclei present in the image.\n",
            "\n",
            "Separating plane described above was obtained using\n",
            "Multisurface Method-Tree (MSM-T) [K. P. Bennett, \"Decision Tree\n",
            "Construction Via Linear Programming.\" Proceedings of the 4th\n",
            "Midwest Artificial Intelligence and Cognitive Science Society,\n",
            "pp. 97-101, 1992], a classification method which uses linear\n",
            "programming to construct a decision tree.  Relevant features\n",
            "were selected using an exhaustive search in the space of 1-4\n",
            "features and 1-3 separating planes.\n",
            "\n",
            "The actual linear program used to obtain the separating plane\n",
            "in the 3-dimensional space is that described in:\n",
            "[K. P. Bennett and O. L. Mangasarian: \"Robust Linear\n",
            "Programming Discrimination of Two Linearly Inseparable Sets\",\n",
            "Optimization Methods and Software 1, 1992, 23-34].\n",
            "\n",
            "This database is also available through the UW CS ftp server:\n",
            "\n",
            "ftp ftp.cs.wisc.edu\n",
            "cd math-prog/cpo-dataset/machine-learn/WDBC/\n",
            "\n",
            ".. topic:: References\n",
            "\n",
            "   - W.N. Street, W.H. Wolberg and O.L. Mangasarian. Nuclear feature extraction \n",
            "     for breast tumor diagnosis. IS&T/SPIE 1993 International Symposium on \n",
            "     Electronic Imaging: Science and Technology, volume 1905, pages 861-870,\n",
            "     San Jose, CA, 1993.\n",
            "   - O.L. Mangasarian, W.N. Street and W.H. Wolberg. Breast cancer diagnosis and \n",
            "     prognosis via linear programming. Operations Research, 43(4), pages 570-577, \n",
            "     July-August 1995.\n",
            "   - W.H. Wolberg, W.N. Street, and O.L. Mangasarian. Machine learning techniques\n",
            "     to diagnose breast cancer from fine-needle aspirates. Cancer Letters 77 (1994) \n",
            "     163-171.\n"
          ],
          "name": "stdout"
        }
      ]
    },
    {
      "cell_type": "code",
      "metadata": {
        "id": "0zfpVetA1Vzj",
        "colab_type": "code",
        "outputId": "82be3490-993e-400c-8c7c-987acef6d332",
        "colab": {
          "base_uri": "https://localhost:8080/",
          "height": 51
        }
      },
      "source": [
        "all_data = raw_data.copy()\n",
        "\n",
        "data = all_data['data']\n",
        "target = all_data['target']\n",
        "\n",
        "print(f'rozmiar data: {data.shape}')\n",
        "print(f'rozmiar target: {target.shape}')"
      ],
      "execution_count": 5,
      "outputs": [
        {
          "output_type": "stream",
          "text": [
            "rozmiar data: (569, 30)\n",
            "rozmiar target: (569,)\n"
          ],
          "name": "stdout"
        }
      ]
    },
    {
      "cell_type": "markdown",
      "metadata": {
        "id": "QALWVO-j2BoE",
        "colab_type": "text"
      },
      "source": [
        "###  <a name='a4'></a> Podział danych na zbiór treningowy i testowy"
      ]
    },
    {
      "cell_type": "code",
      "metadata": {
        "id": "ji8uRYBG1334",
        "colab_type": "code",
        "outputId": "f5f6214a-00f2-4831-862d-eff81e526152",
        "colab": {
          "base_uri": "https://localhost:8080/",
          "height": 85
        }
      },
      "source": [
        "from sklearn.model_selection import train_test_split\n",
        "\n",
        "X_train, X_test, y_train, y_test = train_test_split(data, target)\n",
        "\n",
        "print(f'X_train shape: {X_train.shape}')\n",
        "print(f'y_train shape: {y_train.shape}')\n",
        "print(f'X_test shape: {X_test.shape}')\n",
        "print(f'y_test shape: {y_test.shape}')"
      ],
      "execution_count": 6,
      "outputs": [
        {
          "output_type": "stream",
          "text": [
            "X_train shape: (426, 30)\n",
            "y_train shape: (426,)\n",
            "X_test shape: (143, 30)\n",
            "y_test shape: (143,)\n"
          ],
          "name": "stdout"
        }
      ]
    },
    {
      "cell_type": "markdown",
      "metadata": {
        "id": "Lr-uabGbhX1w",
        "colab_type": "text"
      },
      "source": [
        "###  <a name='a44'></a> Przygotowanie danych do modelu"
      ]
    },
    {
      "cell_type": "code",
      "metadata": {
        "id": "5nMviOG7fcDS",
        "colab_type": "code",
        "colab": {
          "base_uri": "https://localhost:8080/",
          "height": 374
        },
        "outputId": "0b6eb72d-bcc8-4a9f-d182-9d7690582cad"
      },
      "source": [
        "X_train"
      ],
      "execution_count": 7,
      "outputs": [
        {
          "output_type": "execute_result",
          "data": {
            "text/plain": [
              "array([[16.78, 18.80, 109.30, 886.30, 0.09, 0.09, 0.08, 0.07, 0.19, 0.06, ..., 20.05, 26.30, 130.70, 1260.00, 0.12, 0.21, 0.23, 0.15, 0.28, 0.07],\n",
              "       [11.32, 27.08, 71.76, 395.70, 0.07, 0.04, 0.02, 0.00, 0.19, 0.06, ..., 12.08, 33.75, 79.82, 452.30, 0.09, 0.14, 0.11, 0.02, 0.28, 0.07],\n",
              "       [10.49, 19.29, 67.41, 336.10, 0.10, 0.09, 0.03, 0.01, 0.22, 0.06, ..., 11.54, 23.31, 74.22, 402.80, 0.12, 0.15, 0.08, 0.03, 0.28, 0.08],\n",
              "       [9.74, 15.67, 61.50, 289.90, 0.09, 0.05, 0.01, 0.01, 0.21, 0.06, ..., 10.75, 20.88, 68.09, 355.20, 0.15, 0.09, 0.04, 0.05, 0.28, 0.08],\n",
              "       [9.79, 19.94, 62.11, 294.50, 0.10, 0.05, 0.01, 0.01, 0.14, 0.07, ..., 10.92, 26.29, 68.81, 366.10, 0.13, 0.09, 0.02, 0.02, 0.19, 0.09],\n",
              "       [14.04, 15.98, 89.78, 611.20, 0.08, 0.06, 0.04, 0.03, 0.17, 0.06, ..., 15.66, 21.58, 101.20, 750.00, 0.12, 0.13, 0.11, 0.07, 0.27, 0.07],\n",
              "       [19.44, 18.82, 128.10, 1167.00, 0.11, 0.14, 0.23, 0.12, 0.18, 0.06, ..., 23.96, 30.39, 153.90, 1740.00, 0.15, 0.37, 0.59, 0.21, 0.33, 0.09],\n",
              "       [12.00, 28.23, 76.77, 442.50, 0.08, 0.06, 0.04, 0.02, 0.16, 0.06, ..., 13.09, 37.88, 85.07, 523.70, 0.12, 0.19, 0.18, 0.07, 0.24, 0.08],\n",
              "       [21.37, 15.10, 141.30, 1386.00, 0.10, 0.15, 0.19, 0.13, 0.20, 0.06, ..., 22.69, 21.84, 152.10, 1535.00, 0.12, 0.28, 0.40, 0.20, 0.27, 0.09],\n",
              "       [14.62, 24.02, 94.57, 662.70, 0.09, 0.09, 0.03, 0.03, 0.17, 0.06, ..., 16.11, 29.11, 102.90, 803.70, 0.11, 0.18, 0.09, 0.07, 0.25, 0.07],\n",
              "       ...,\n",
              "       [15.37, 22.76, 100.20, 728.20, 0.09, 0.10, 0.11, 0.07, 0.17, 0.06, ..., 16.43, 25.84, 107.50, 830.90, 0.13, 0.20, 0.28, 0.15, 0.26, 0.07],\n",
              "       [27.22, 21.87, 182.10, 2250.00, 0.11, 0.19, 0.29, 0.19, 0.18, 0.06, ..., 33.12, 32.85, 220.80, 3216.00, 0.15, 0.40, 0.53, 0.27, 0.29, 0.08],\n",
              "       [19.21, 18.57, 125.50, 1152.00, 0.11, 0.13, 0.13, 0.09, 0.19, 0.06, ..., 26.14, 28.14, 170.10, 2145.00, 0.16, 0.35, 0.39, 0.21, 0.35, 0.08],\n",
              "       [11.90, 14.65, 78.11, 432.80, 0.12, 0.13, 0.04, 0.03, 0.20, 0.08, ..., 13.15, 16.51, 86.26, 509.60, 0.14, 0.25, 0.09, 0.06, 0.27, 0.10],\n",
              "       [12.77, 21.41, 82.02, 507.40, 0.09, 0.07, 0.03, 0.03, 0.17, 0.06, ..., 13.75, 23.50, 89.04, 579.50, 0.09, 0.09, 0.05, 0.05, 0.22, 0.07],\n",
              "       [12.45, 15.70, 82.57, 477.10, 0.13, 0.17, 0.16, 0.08, 0.21, 0.08, ..., 15.47, 23.75, 103.40, 741.60, 0.18, 0.52, 0.54, 0.17, 0.40, 0.12],\n",
              "       [20.29, 14.34, 135.10, 1297.00, 0.10, 0.13, 0.20, 0.10, 0.18, 0.06, ..., 22.54, 16.67, 152.20, 1575.00, 0.14, 0.20, 0.40, 0.16, 0.24, 0.08],\n",
              "       [11.76, 18.14, 75.00, 431.10, 0.10, 0.06, 0.03, 0.04, 0.16, 0.06, ..., 13.36, 23.39, 85.10, 553.60, 0.11, 0.08, 0.06, 0.07, 0.20, 0.07],\n",
              "       [10.25, 16.18, 66.52, 324.20, 0.11, 0.11, 0.07, 0.04, 0.17, 0.07, ..., 11.28, 20.61, 71.53, 390.40, 0.14, 0.24, 0.19, 0.10, 0.26, 0.10],\n",
              "       [10.71, 20.39, 69.50, 344.90, 0.11, 0.13, 0.08, 0.03, 0.17, 0.07, ..., 11.69, 25.21, 76.51, 410.40, 0.13, 0.26, 0.25, 0.09, 0.26, 0.09]])"
            ]
          },
          "metadata": {
            "tags": []
          },
          "execution_count": 7
        }
      ]
    },
    {
      "cell_type": "code",
      "metadata": {
        "id": "LudLC-D4gOCi",
        "colab_type": "code",
        "colab": {
          "base_uri": "https://localhost:8080/",
          "height": 374
        },
        "outputId": "5fdb4167-030f-4cf9-b491-243f650f7289"
      },
      "source": [
        "from sklearn.preprocessing import StandardScaler\n",
        "\n",
        "scaler = StandardScaler()\n",
        "scaler.fit(X_train)\n",
        "\n",
        "X_train = scaler.transform(X_train)\n",
        "X_test = scaler.transform(X_test)\n",
        "X_train"
      ],
      "execution_count": 8,
      "outputs": [
        {
          "output_type": "execute_result",
          "data": {
            "text/plain": [
              "array([[0.80, -0.11, 0.77, 0.71, -0.55, -0.23, -0.04, 0.48, 0.31, -1.06, ..., 0.84, 0.09, 0.76, 0.73, -0.72, -0.28, -0.20, 0.52, -0.15, -0.66],\n",
              "       [-0.80, 1.78, -0.84, -0.74, -1.94, -1.30, -0.94, -1.23, 0.22, -0.92, ..., -0.89, 1.28, -0.84, -0.76, -1.83, -0.73, -0.80, -1.48, -0.09, -0.73],\n",
              "       [-1.05, 0.00, -1.03, -0.92, 0.24, -0.35, -0.76, -0.99, 1.53, 0.29, ..., -1.00, -0.39, -1.01, -0.85, -0.49, -0.69, -0.95, -1.30, -0.13, -0.48],\n",
              "       [-1.27, -0.82, -1.28, -1.05, -0.43, -1.12, -1.01, -0.93, 1.02, 0.05, ..., -1.17, -0.78, -1.21, -0.94, 0.62, -1.05, -1.14, -0.99, -0.10, -0.14],\n",
              "       [-1.25, 0.15, -1.26, -1.04, 0.42, -1.00, -1.06, -1.10, -1.73, 0.87, ..., -1.14, 0.09, -1.18, -0.92, -0.06, -1.04, -1.24, -1.43, -1.60, 0.31],\n",
              "       [-0.00, -0.75, -0.07, -0.10, -0.84, -0.88, -0.69, -0.51, -0.36, -0.54, ..., -0.11, -0.67, -0.17, -0.21, -0.60, -0.84, -0.79, -0.63, -0.29, -0.65],\n",
              "       [1.58, -0.11, 1.57, 1.54, 0.88, 0.82, 1.82, 1.94, 0.05, -0.23, ..., 1.69, 0.74, 1.48, 1.61, 0.83, 0.78, 1.59, 1.45, 0.60, 0.32],\n",
              "       [-0.60, 2.04, -0.63, -0.60, -0.85, -0.77, -0.62, -0.79, -0.73, -0.25, ..., -0.67, 1.93, -0.67, -0.63, -0.54, -0.45, -0.45, -0.68, -0.75, -0.13],\n",
              "       [2.15, -0.95, 2.14, 2.19, 0.26, 0.96, 1.40, 2.11, 0.62, -0.13, ..., 1.41, -0.62, 1.43, 1.23, -0.61, 0.20, 0.65, 1.30, -0.29, 0.13],\n",
              "       [0.17, 1.08, 0.13, 0.05, -0.47, -0.34, -0.74, -0.51, -0.47, -0.58, ..., -0.01, 0.54, -0.11, -0.11, -0.96, -0.51, -0.89, -0.71, -0.63, -0.65],\n",
              "       ...,\n",
              "       [0.39, 0.79, 0.38, 0.24, -0.31, 0.00, 0.33, 0.72, -0.35, -0.26, ..., 0.06, 0.01, 0.03, -0.06, -0.32, -0.36, 0.06, 0.53, -0.57, -0.88],\n",
              "       [3.87, 0.59, 3.89, 4.74, 0.91, 1.75, 2.64, 3.80, -0.04, -0.72, ..., 3.67, 1.13, 3.58, 4.33, 0.64, 0.98, 1.30, 2.45, -0.08, -0.19],\n",
              "       [1.52, -0.16, 1.46, 1.49, 0.62, 0.46, 0.59, 1.14, 0.41, -0.45, ..., 2.16, 0.38, 1.99, 2.36, 1.32, 0.64, 0.57, 1.50, 1.05, -0.07],\n",
              "       [-0.63, -1.05, -0.57, -0.63, 1.32, 0.52, -0.66, -0.50, 0.70, 2.22, ..., -0.65, -1.47, -0.64, -0.66, 0.42, -0.01, -0.88, -0.85, -0.29, 1.07],\n",
              "       [-0.38, 0.48, -0.40, -0.41, -0.63, -0.74, -0.74, -0.53, -0.43, 0.01, ..., -0.52, -0.36, -0.55, -0.53, -1.75, -1.08, -1.08, -1.06, -1.20, -0.85],\n",
              "       [-0.47, -0.82, -0.38, -0.50, 2.21, 1.33, 0.93, 0.89, 1.04, 1.90, ..., -0.15, -0.32, -0.10, -0.23, 2.06, 1.78, 1.30, 0.95, 1.79, 2.21],\n",
              "       [1.83, -1.13, 1.87, 1.92, 0.27, 0.59, 1.46, 1.53, -0.00, -0.56, ..., 1.38, -1.45, 1.43, 1.31, 0.20, -0.32, 0.63, 0.76, -0.89, -0.41],\n",
              "       [-0.67, -0.26, -0.70, -0.64, 0.23, -0.88, -0.80, -0.36, -0.72, 0.01, ..., -0.61, -0.38, -0.67, -0.58, -0.86, -1.14, -1.04, -0.68, -1.53, -0.83],\n",
              "       [-1.12, -0.71, -1.07, -0.95, 0.68, 0.15, -0.26, -0.23, -0.25, 1.42, ..., -1.06, -0.82, -1.10, -0.88, 0.32, -0.12, -0.40, -0.27, -0.49, 0.70],\n",
              "       [-0.98, 0.25, -0.94, -0.89, 0.83, 0.51, -0.04, -0.53, -0.53, 0.83, ..., -0.97, -0.09, -0.94, -0.84, 0.03, 0.01, -0.09, -0.45, -0.49, 0.15]])"
            ]
          },
          "metadata": {
            "tags": []
          },
          "execution_count": 8
        }
      ]
    },
    {
      "cell_type": "code",
      "metadata": {
        "id": "Ns_ctZx-hoZc",
        "colab_type": "code",
        "colab": {
          "base_uri": "https://localhost:8080/",
          "height": 34
        },
        "outputId": "dd92e0bb-fd7e-4b0b-9141-b263a9911282"
      },
      "source": [
        "scaler.mean_"
      ],
      "execution_count": 9,
      "outputs": [
        {
          "output_type": "execute_result",
          "data": {
            "text/plain": [
              "array([14.05, 19.28, 91.42, 646.08, 0.10, 0.10, 0.09, 0.05, 0.18, 0.06, 0.40, 1.22, 2.82, 39.54, 0.01, 0.03, 0.03, 0.01, 0.02, 0.00, 16.17, 25.75, 106.56, 865.65, 0.13, 0.25, 0.27, 0.11, 0.29, 0.08])"
            ]
          },
          "metadata": {
            "tags": []
          },
          "execution_count": 9
        }
      ]
    },
    {
      "cell_type": "code",
      "metadata": {
        "id": "H4VX1NWZhqnN",
        "colab_type": "code",
        "colab": {
          "base_uri": "https://localhost:8080/",
          "height": 34
        },
        "outputId": "744eab93-a984-4452-f5b4-e7565e53da34"
      },
      "source": [
        "scaler.scale_"
      ],
      "execution_count": 10,
      "outputs": [
        {
          "output_type": "execute_result",
          "data": {
            "text/plain": [
              "array([3.40, 4.39, 23.34, 338.42, 0.01, 0.05, 0.08, 0.04, 0.03, 0.01, 0.28, 0.56, 2.02, 47.07, 0.00, 0.02, 0.03, 0.01, 0.01, 0.00, 4.62, 6.27, 31.91, 542.67, 0.02, 0.15, 0.20, 0.06, 0.06, 0.02])"
            ]
          },
          "metadata": {
            "tags": []
          },
          "execution_count": 10
        }
      ]
    },
    {
      "cell_type": "markdown",
      "metadata": {
        "id": "lhrp8Nqr2azD",
        "colab_type": "text"
      },
      "source": [
        "###<a name='a5'></a>  Dopasowanie modelu"
      ]
    },
    {
      "cell_type": "code",
      "metadata": {
        "id": "cqOw73xE2LoZ",
        "colab_type": "code",
        "outputId": "d77feda7-1b09-4855-e166-2fb265adc234",
        "colab": {
          "base_uri": "https://localhost:8080/",
          "height": 102
        }
      },
      "source": [
        "from sklearn.linear_model import LogisticRegression\n",
        "\n",
        "log_reg = LogisticRegression()\n",
        "log_reg.fit(X_train, y_train)"
      ],
      "execution_count": 11,
      "outputs": [
        {
          "output_type": "execute_result",
          "data": {
            "text/plain": [
              "LogisticRegression(C=1.0, class_weight=None, dual=False, fit_intercept=True,\n",
              "                   intercept_scaling=1, l1_ratio=None, max_iter=100,\n",
              "                   multi_class='auto', n_jobs=None, penalty='l2',\n",
              "                   random_state=None, solver='lbfgs', tol=0.0001, verbose=0,\n",
              "                   warm_start=False)"
            ]
          },
          "metadata": {
            "tags": []
          },
          "execution_count": 11
        }
      ]
    },
    {
      "cell_type": "markdown",
      "metadata": {
        "id": "XgZm_dZFxZqc",
        "colab_type": "text"
      },
      "source": [
        "###<a name='a6'></a>  Predykcja na podstawie modelu"
      ]
    },
    {
      "cell_type": "code",
      "metadata": {
        "id": "zFBaG4tp2u99",
        "colab_type": "code",
        "outputId": "83c8944b-a66b-45f3-9363-e0644aadf114",
        "colab": {
          "base_uri": "https://localhost:8080/",
          "height": 34
        }
      },
      "source": [
        "y_pred = log_reg.predict(X_test)\n",
        "y_pred[:30]"
      ],
      "execution_count": 12,
      "outputs": [
        {
          "output_type": "execute_result",
          "data": {
            "text/plain": [
              "array([1, 0, 1, 1, 0, 1, 1, 0, 0, 1, 1, 0, 1, 1, 0, 1, 1, 1, 0, 1, 1, 1, 0, 1, 1, 1, 1, 0, 0, 1])"
            ]
          },
          "metadata": {
            "tags": []
          },
          "execution_count": 12
        }
      ]
    },
    {
      "cell_type": "markdown",
      "metadata": {
        "id": "IusW8zgExjea",
        "colab_type": "text"
      },
      "source": [
        "###<a name='a7'></a>  Ocena modelu"
      ]
    },
    {
      "cell_type": "code",
      "metadata": {
        "id": "1cL8cMp72zl2",
        "colab_type": "code",
        "outputId": "74a7fb74-3864-46e1-b1f9-a1c1e691b4a9",
        "colab": {
          "base_uri": "https://localhost:8080/",
          "height": 308
        }
      },
      "source": [
        "from sklearn.metrics import confusion_matrix\n",
        "from sklearn.metrics import accuracy_score\n",
        "from mlxtend.plotting import plot_confusion_matrix\n",
        "\n",
        "cm = confusion_matrix(y_test, y_pred)\n",
        "plot_confusion_matrix(cm)\n",
        "\n",
        "print(f'Accuracy: {accuracy_score(y_test, y_pred)}')"
      ],
      "execution_count": 13,
      "outputs": [
        {
          "output_type": "stream",
          "text": [
            "Accuracy: 0.9790209790209791\n"
          ],
          "name": "stdout"
        },
        {
          "output_type": "display_data",
          "data": {
            "image/png": "[encoded data removed]",
            "text/plain": [
              "<Figure size 432x288 with 1 Axes>"
            ]
          },
          "metadata": {
            "tags": []
          }
        }
      ]
    },
    {
      "cell_type": "code",
      "metadata": {
        "id": "2SkN3JJtyDPR",
        "colab_type": "code",
        "outputId": "8876a024-9f1e-4962-be5a-4edc82eba157",
        "colab": {
          "base_uri": "https://localhost:8080/",
          "height": 517
        }
      },
      "source": [
        "def plot_confusion_matrix(cm):\n",
        "    # klasyfikacja binarna\n",
        "    cm = cm[::-1]\n",
        "    cm = pd.DataFrame(cm, columns=['pred_0', 'pred_1'], index=['true_1', 'true_0'])\n",
        "\n",
        "    fig = ff.create_annotated_heatmap(z=cm.values, x=list(cm.columns), y=list(cm.index), \n",
        "                                      colorscale='ice', showscale=True, reversescale=True)\n",
        "    fig.update_layout(width=500, height=500, title='Confusion Matrix', font_size=16)\n",
        "    fig.show()\n",
        "\n",
        "plot_confusion_matrix(cm)"
      ],
      "execution_count": 14,
      "outputs": [
        {
          "output_type": "display_data",
          "data": {
            "text/html": [
              "<html>\n",
              "<head><meta charset=\"utf-8\" /></head>\n",
              "<body>\n",
              "    <div>\n",
              "            <script src=\"https://cdnjs.cloudflare.com/ajax/libs/mathjax/2.7.5/MathJax.js?config=TeX-AMS-MML_SVG\"></script><script type=\"text/javascript\">if (window.MathJax) {MathJax.Hub.Config({SVG: {font: \"STIX-Web\"}});}</script>\n",
              "                <script type=\"text/javascript\">window.PlotlyConfig = {MathJaxConfig: 'local'};</script>\n",
              "        <script src=\"https://cdn.plot.ly/plotly-latest.min.js\"></script>    \n",
              "            <div id=\"c2d34cfa-1f7a-47c3-840e-323e09394f85\" class=\"plotly-graph-div\" style=\"height:500px; width:500px;\"></div>\n",
              "            <script type=\"text/javascript\">\n",
              "                \n",
              "                    window.PLOTLYENV=window.PLOTLYENV || {};\n",
              "                    \n",
              "                if (document.getElementById(\"c2d34cfa-1f7a-47c3-840e-323e09394f85\")) {\n",
              "                    Plotly.newPlot(\n",
              "                        'c2d34cfa-1f7a-47c3-840e-323e09394f85',\n",
              "                        [{\"colorscale\": [[0.0, \"rgb(3, 5, 18)\"], [0.09090909090909091, \"rgb(25, 25, 51)\"], [0.18181818181818182, \"rgb(44, 42, 87)\"], [0.2727272727272727, \"rgb(58, 60, 125)\"], [0.36363636363636365, \"rgb(62, 83, 160)\"], [0.45454545454545453, \"rgb(62, 109, 178)\"], [0.5454545454545454, \"rgb(72, 134, 187)\"], [0.6363636363636364, \"rgb(89, 159, 196)\"], [0.7272727272727273, \"rgb(114, 184, 205)\"], [0.8181818181818182, \"rgb(149, 207, 216)\"], [0.9090909090909091, \"rgb(192, 229, 232)\"], [1.0, \"rgb(234, 252, 253)\"]], \"reversescale\": true, \"showscale\": true, \"type\": \"heatmap\", \"x\": [\"pred_0\", \"pred_1\"], \"y\": [\"true_1\", \"true_0\"], \"z\": [[1, 89], [51, 2]]}],\n",
              "                        {\"annotations\": [{\"font\": {\"color\": \"#000000\"}, \"showarrow\": false, \"text\": \"1\", \"x\": \"pred_0\", \"xref\": \"x\", \"y\": \"true_1\", \"yref\": \"y\"}, {\"font\": {\"color\": \"#FFFFFF\"}, \"showarrow\": false, \"text\": \"89\", \"x\": \"pred_1\", \"xref\": \"x\", \"y\": \"true_1\", \"yref\": \"y\"}, {\"font\": {\"color\": \"#FFFFFF\"}, \"showarrow\": false, \"text\": \"51\", \"x\": \"pred_0\", \"xref\": \"x\", \"y\": \"true_0\", \"yref\": \"y\"}, {\"font\": {\"color\": \"#000000\"}, \"showarrow\": false, \"text\": \"2\", \"x\": \"pred_1\", \"xref\": \"x\", \"y\": \"true_0\", \"yref\": \"y\"}], \"font\": {\"size\": 16}, \"height\": 500, \"template\": {\"data\": {\"bar\": [{\"error_x\": {\"color\": \"#2a3f5f\"}, \"error_y\": {\"color\": \"#2a3f5f\"}, \"marker\": {\"line\": {\"color\": \"#E5ECF6\", \"width\": 0.5}}, \"type\": \"bar\"}], \"barpolar\": [{\"marker\": {\"line\": {\"color\": \"#E5ECF6\", \"width\": 0.5}}, \"type\": \"barpolar\"}], \"carpet\": [{\"aaxis\": {\"endlinecolor\": \"#2a3f5f\", \"gridcolor\": \"white\", \"linecolor\": \"white\", \"minorgridcolor\": \"white\", \"startlinecolor\": \"#2a3f5f\"}, \"baxis\": {\"endlinecolor\": \"#2a3f5f\", \"gridcolor\": \"white\", \"linecolor\": \"white\", \"minorgridcolor\": \"white\", \"startlinecolor\": \"#2a3f5f\"}, \"type\": \"carpet\"}], \"choropleth\": [{\"colorbar\": {\"outlinewidth\": 0, \"ticks\": \"\"}, \"type\": \"choropleth\"}], \"contour\": [{\"colorbar\": {\"outlinewidth\": 0, \"ticks\": \"\"}, \"colorscale\": [[0.0, \"#0d0887\"], [0.1111111111111111, \"#46039f\"], [0.2222222222222222, \"#7201a8\"], [0.3333333333333333, \"#9c179e\"], [0.4444444444444444, \"#bd3786\"], [0.5555555555555556, \"#d8576b\"], [0.6666666666666666, \"#ed7953\"], [0.7777777777777778, \"#fb9f3a\"], [0.8888888888888888, \"#fdca26\"], [1.0, \"#f0f921\"]], \"type\": \"contour\"}], \"contourcarpet\": [{\"colorbar\": {\"outlinewidth\": 0, \"ticks\": \"\"}, \"type\": \"contourcarpet\"}], \"heatmap\": [{\"colorbar\": {\"outlinewidth\": 0, \"ticks\": \"\"}, \"colorscale\": [[0.0, \"#0d0887\"], [0.1111111111111111, \"#46039f\"], [0.2222222222222222, \"#7201a8\"], [0.3333333333333333, \"#9c179e\"], [0.4444444444444444, \"#bd3786\"], [0.5555555555555556, \"#d8576b\"], [0.6666666666666666, \"#ed7953\"], [0.7777777777777778, \"#fb9f3a\"], [0.8888888888888888, \"#fdca26\"], [1.0, \"#f0f921\"]], \"type\": \"heatmap\"}], \"heatmapgl\": [{\"colorbar\": {\"outlinewidth\": 0, \"ticks\": \"\"}, \"colorscale\": [[0.0, \"#0d0887\"], [0.1111111111111111, \"#46039f\"], [0.2222222222222222, \"#7201a8\"], [0.3333333333333333, \"#9c179e\"], [0.4444444444444444, \"#bd3786\"], [0.5555555555555556, \"#d8576b\"], [0.6666666666666666, \"#ed7953\"], [0.7777777777777778, \"#fb9f3a\"], [0.8888888888888888, \"#fdca26\"], [1.0, \"#f0f921\"]], \"type\": \"heatmapgl\"}], \"histogram\": [{\"marker\": {\"colorbar\": {\"outlinewidth\": 0, \"ticks\": \"\"}}, \"type\": \"histogram\"}], \"histogram2d\": [{\"colorbar\": {\"outlinewidth\": 0, \"ticks\": \"\"}, \"colorscale\": [[0.0, \"#0d0887\"], [0.1111111111111111, \"#46039f\"], [0.2222222222222222, \"#7201a8\"], [0.3333333333333333, \"#9c179e\"], [0.4444444444444444, \"#bd3786\"], [0.5555555555555556, \"#d8576b\"], [0.6666666666666666, \"#ed7953\"], [0.7777777777777778, \"#fb9f3a\"], [0.8888888888888888, \"#fdca26\"], [1.0, \"#f0f921\"]], \"type\": \"histogram2d\"}], \"histogram2dcontour\": [{\"colorbar\": {\"outlinewidth\": 0, \"ticks\": \"\"}, \"colorscale\": [[0.0, \"#0d0887\"], [0.1111111111111111, \"#46039f\"], [0.2222222222222222, \"#7201a8\"], [0.3333333333333333, \"#9c179e\"], [0.4444444444444444, \"#bd3786\"], [0.5555555555555556, \"#d8576b\"], [0.6666666666666666, \"#ed7953\"], [0.7777777777777778, \"#fb9f3a\"], [0.8888888888888888, \"#fdca26\"], [1.0, \"#f0f921\"]], \"type\": \"histogram2dcontour\"}], \"mesh3d\": [{\"colorbar\": {\"outlinewidth\": 0, \"ticks\": \"\"}, \"type\": \"mesh3d\"}], \"parcoords\": [{\"line\": {\"colorbar\": {\"outlinewidth\": 0, \"ticks\": \"\"}}, \"type\": \"parcoords\"}], \"pie\": [{\"automargin\": true, \"type\": \"pie\"}], \"scatter\": [{\"marker\": {\"colorbar\": {\"outlinewidth\": 0, \"ticks\": \"\"}}, \"type\": \"scatter\"}], \"scatter3d\": [{\"line\": {\"colorbar\": {\"outlinewidth\": 0, \"ticks\": \"\"}}, \"marker\": {\"colorbar\": {\"outlinewidth\": 0, \"ticks\": \"\"}}, \"type\": \"scatter3d\"}], \"scattercarpet\": [{\"marker\": {\"colorbar\": {\"outlinewidth\": 0, \"ticks\": \"\"}}, \"type\": \"scattercarpet\"}], \"scattergeo\": [{\"marker\": {\"colorbar\": {\"outlinewidth\": 0, \"ticks\": \"\"}}, \"type\": \"scattergeo\"}], \"scattergl\": [{\"marker\": {\"colorbar\": {\"outlinewidth\": 0, \"ticks\": \"\"}}, \"type\": \"scattergl\"}], \"scattermapbox\": [{\"marker\": {\"colorbar\": {\"outlinewidth\": 0, \"ticks\": \"\"}}, \"type\": \"scattermapbox\"}], \"scatterpolar\": [{\"marker\": {\"colorbar\": {\"outlinewidth\": 0, \"ticks\": \"\"}}, \"type\": \"scatterpolar\"}], \"scatterpolargl\": [{\"marker\": {\"colorbar\": {\"outlinewidth\": 0, \"ticks\": \"\"}}, \"type\": \"scatterpolargl\"}], \"scatterternary\": [{\"marker\": {\"colorbar\": {\"outlinewidth\": 0, \"ticks\": \"\"}}, \"type\": \"scatterternary\"}], \"surface\": [{\"colorbar\": {\"outlinewidth\": 0, \"ticks\": \"\"}, \"colorscale\": [[0.0, \"#0d0887\"], [0.1111111111111111, \"#46039f\"], [0.2222222222222222, \"#7201a8\"], [0.3333333333333333, \"#9c179e\"], [0.4444444444444444, \"#bd3786\"], [0.5555555555555556, \"#d8576b\"], [0.6666666666666666, \"#ed7953\"], [0.7777777777777778, \"#fb9f3a\"], [0.8888888888888888, \"#fdca26\"], [1.0, \"#f0f921\"]], \"type\": \"surface\"}], \"table\": [{\"cells\": {\"fill\": {\"color\": \"#EBF0F8\"}, \"line\": {\"color\": \"white\"}}, \"header\": {\"fill\": {\"color\": \"#C8D4E3\"}, \"line\": {\"color\": \"white\"}}, \"type\": \"table\"}]}, \"layout\": {\"annotationdefaults\": {\"arrowcolor\": \"#2a3f5f\", \"arrowhead\": 0, \"arrowwidth\": 1}, \"coloraxis\": {\"colorbar\": {\"outlinewidth\": 0, \"ticks\": \"\"}}, \"colorscale\": {\"diverging\": [[0, \"#8e0152\"], [0.1, \"#c51b7d\"], [0.2, \"#de77ae\"], [0.3, \"#f1b6da\"], [0.4, \"#fde0ef\"], [0.5, \"#f7f7f7\"], [0.6, \"#e6f5d0\"], [0.7, \"#b8e186\"], [0.8, \"#7fbc41\"], [0.9, \"#4d9221\"], [1, \"#276419\"]], \"sequential\": [[0.0, \"#0d0887\"], [0.1111111111111111, \"#46039f\"], [0.2222222222222222, \"#7201a8\"], [0.3333333333333333, \"#9c179e\"], [0.4444444444444444, \"#bd3786\"], [0.5555555555555556, \"#d8576b\"], [0.6666666666666666, \"#ed7953\"], [0.7777777777777778, \"#fb9f3a\"], [0.8888888888888888, \"#fdca26\"], [1.0, \"#f0f921\"]], \"sequentialminus\": [[0.0, \"#0d0887\"], [0.1111111111111111, \"#46039f\"], [0.2222222222222222, \"#7201a8\"], [0.3333333333333333, \"#9c179e\"], [0.4444444444444444, \"#bd3786\"], [0.5555555555555556, \"#d8576b\"], [0.6666666666666666, \"#ed7953\"], [0.7777777777777778, \"#fb9f3a\"], [0.8888888888888888, \"#fdca26\"], [1.0, \"#f0f921\"]]}, \"colorway\": [\"#636efa\", \"#EF553B\", \"#00cc96\", \"#ab63fa\", \"#FFA15A\", \"#19d3f3\", \"#FF6692\", \"#B6E880\", \"#FF97FF\", \"#FECB52\"], \"font\": {\"color\": \"#2a3f5f\"}, \"geo\": {\"bgcolor\": \"white\", \"lakecolor\": \"white\", \"landcolor\": \"#E5ECF6\", \"showlakes\": true, \"showland\": true, \"subunitcolor\": \"white\"}, \"hoverlabel\": {\"align\": \"left\"}, \"hovermode\": \"closest\", \"mapbox\": {\"style\": \"light\"}, \"paper_bgcolor\": \"white\", \"plot_bgcolor\": \"#E5ECF6\", \"polar\": {\"angularaxis\": {\"gridcolor\": \"white\", \"linecolor\": \"white\", \"ticks\": \"\"}, \"bgcolor\": \"#E5ECF6\", \"radialaxis\": {\"gridcolor\": \"white\", \"linecolor\": \"white\", \"ticks\": \"\"}}, \"scene\": {\"xaxis\": {\"backgroundcolor\": \"#E5ECF6\", \"gridcolor\": \"white\", \"gridwidth\": 2, \"linecolor\": \"white\", \"showbackground\": true, \"ticks\": \"\", \"zerolinecolor\": \"white\"}, \"yaxis\": {\"backgroundcolor\": \"#E5ECF6\", \"gridcolor\": \"white\", \"gridwidth\": 2, \"linecolor\": \"white\", \"showbackground\": true, \"ticks\": \"\", \"zerolinecolor\": \"white\"}, \"zaxis\": {\"backgroundcolor\": \"#E5ECF6\", \"gridcolor\": \"white\", \"gridwidth\": 2, \"linecolor\": \"white\", \"showbackground\": true, \"ticks\": \"\", \"zerolinecolor\": \"white\"}}, \"shapedefaults\": {\"line\": {\"color\": \"#2a3f5f\"}}, \"ternary\": {\"aaxis\": {\"gridcolor\": \"white\", \"linecolor\": \"white\", \"ticks\": \"\"}, \"baxis\": {\"gridcolor\": \"white\", \"linecolor\": \"white\", \"ticks\": \"\"}, \"bgcolor\": \"#E5ECF6\", \"caxis\": {\"gridcolor\": \"white\", \"linecolor\": \"white\", \"ticks\": \"\"}}, \"title\": {\"x\": 0.05}, \"xaxis\": {\"automargin\": true, \"gridcolor\": \"white\", \"linecolor\": \"white\", \"ticks\": \"\", \"title\": {\"standoff\": 15}, \"zerolinecolor\": \"white\", \"zerolinewidth\": 2}, \"yaxis\": {\"automargin\": true, \"gridcolor\": \"white\", \"linecolor\": \"white\", \"ticks\": \"\", \"title\": {\"standoff\": 15}, \"zerolinecolor\": \"white\", \"zerolinewidth\": 2}}}, \"title\": {\"text\": \"Confusion Matrix\"}, \"width\": 500, \"xaxis\": {\"dtick\": 1, \"gridcolor\": \"rgb(0, 0, 0)\", \"side\": \"top\", \"ticks\": \"\"}, \"yaxis\": {\"dtick\": 1, \"ticks\": \"\", \"ticksuffix\": \"  \"}},\n",
              "                        {\"responsive\": true}\n",
              "                    ).then(function(){\n",
              "                            \n",
              "var gd = document.getElementById('c2d34cfa-1f7a-47c3-840e-323e09394f85');\n",
              "var x = new MutationObserver(function (mutations, observer) {{\n",
              "        var display = window.getComputedStyle(gd).display;\n",
              "        if (!display || display === 'none') {{\n",
              "            console.log([gd, 'removed!']);\n",
              "            Plotly.purge(gd);\n",
              "            observer.disconnect();\n",
              "        }}\n",
              "}});\n",
              "\n",
              "// Listen for the removal of the full notebook cells\n",
              "var notebookContainer = gd.closest('#notebook-container');\n",
              "if (notebookContainer) {{\n",
              "    x.observe(notebookContainer, {childList: true});\n",
              "}}\n",
              "\n",
              "// Listen for the clearing of the current output cell\n",
              "var outputEl = gd.closest('.output');\n",
              "if (outputEl) {{\n",
              "    x.observe(outputEl, {childList: true});\n",
              "}}\n",
              "\n",
              "                        })\n",
              "                };\n",
              "                \n",
              "            </script>\n",
              "        </div>\n",
              "</body>\n",
              "</html>"
            ]
          },
          "metadata": {
            "tags": []
          }
        }
      ]
    },
    {
      "cell_type": "code",
      "metadata": {
        "id": "xkKRIFi8xxvh",
        "colab_type": "code",
        "outputId": "cd2cbd36-43a2-4d4b-e310-0271e7af044e",
        "colab": {
          "base_uri": "https://localhost:8080/",
          "height": 170
        }
      },
      "source": [
        "from sklearn.metrics import classification_report\n",
        "\n",
        "print(classification_report(y_test, y_pred))"
      ],
      "execution_count": 15,
      "outputs": [
        {
          "output_type": "stream",
          "text": [
            "              precision    recall  f1-score   support\n",
            "\n",
            "           0       0.98      0.96      0.97        53\n",
            "           1       0.98      0.99      0.98        90\n",
            "\n",
            "    accuracy                           0.98       143\n",
            "   macro avg       0.98      0.98      0.98       143\n",
            "weighted avg       0.98      0.98      0.98       143\n",
            "\n"
          ],
          "name": "stdout"
        }
      ]
    }
  ]
}