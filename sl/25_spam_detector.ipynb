{
  "nbformat": 4,
  "nbformat_minor": 0,
  "metadata": {
    "colab": {
      "name": "Untitled0.ipynb",
      "provenance": [],
      "include_colab_link": true
    },
    "kernelspec": {
      "name": "python3",
      "display_name": "Python 3"
    }
  },
  "cells": [
    {
      "cell_type": "markdown",
      "metadata": {
        "id": "view-in-github",
        "colab_type": "text"
      },
      "source": [
        "<a href=\"https://colab.research.google.com/github/krakowiakpawel9/ml_course/blob/master/sl/25_spam_detector.ipynb\" target=\"_parent\"><img src=\"https://colab.research.google.com/assets/colab-badge.svg\" alt=\"Open In Colab\"/></a>"
      ]
    },
    {
      "cell_type": "markdown",
      "metadata": {
        "id": "UbjsT92Xd3z1",
        "colab_type": "text"
      },
      "source": [
        "### scikit-learn\n",
        "Strona biblioteki: [https://scikit-learn.org](https://scikit-learn.org)  \n",
        "\n",
        "Dokumentacja/User Guide: [https://scikit-learn.org/stable/user_guide.html](https://scikit-learn.org/stable/user_guide.html)\n",
        "\n",
        "Podstawowa biblioteka do uczenia maszynowego w języku Python.\n",
        "\n",
        "Aby zainstalować bibliotekę scikit-learn, użyj polecenia poniżej:\n",
        "```\n",
        "!pip install scikit-learn\n",
        "```\n",
        "Aby zaktualizować do najnowszej wersji bibliotekę scikit-learn, użyj polecenia poniżej:\n",
        "```\n",
        "!pip install --upgrade scikit-learn\n",
        "```\n",
        "Kurs stworzony w oparciu o wersję `0.22.1`\n",
        "\n",
        "### Preprocessing danych:\n",
        "1. [Import bibliotek](#0)\n",
        "2. [Wygenerowanie danych](#1)\n",
        "3. [Utworzenie kopii danych](#2)\n",
        "4. [Zmiana typu danych i wstępna eksploracja](#3)\n",
        "5. [LabelEncoder](#4)\n",
        "6. [OneHotEncoder](#5)\n",
        "7. [Pandas *get_dummies()*](#6)\n",
        "8. [Standaryzacja - StandardScaler](#7)\n",
        "9. [Przygotowanie danych do modelu](#8)\n",
        "\n"
      ]
    },
    {
      "cell_type": "markdown",
      "metadata": {
        "id": "YkIALacsUnj7",
        "colab_type": "text"
      },
      "source": [
        "### <a name='0'></a> Import bibliotek"
      ]
    },
    {
      "cell_type": "code",
      "metadata": {
        "id": "VQ0ieU0UdN5D",
        "colab_type": "code",
        "outputId": "16d267f2-a22e-4567-cfb2-71ac19d9613c",
        "colab": {
          "base_uri": "https://localhost:8080/",
          "height": 35
        }
      },
      "source": [
        "import numpy as np\n",
        "import pandas as pd\n",
        "import plotly.express as px\n",
        "import sklearn\n",
        "sklearn.__version__"
      ],
      "execution_count": 1,
      "outputs": [
        {
          "output_type": "execute_result",
          "data": {
            "text/plain": [
              "'0.22.1'"
            ]
          },
          "metadata": {
            "tags": []
          },
          "execution_count": 1
        }
      ]
    },
    {
      "cell_type": "code",
      "metadata": {
        "id": "KJdfPaa9dOjE",
        "colab_type": "code",
        "outputId": "9cf47d0b-ddba-4e03-d4c0-d251a1ede79d",
        "colab": {
          "base_uri": "https://localhost:8080/",
          "height": 198
        }
      },
      "source": [
        "df = pd.read_csv('spam-data.csv', encoding='latin-1')\n",
        "df.head()"
      ],
      "execution_count": 2,
      "outputs": [
        {
          "output_type": "execute_result",
          "data": {
            "text/html": [
              "<div>\n",
              "<style scoped>\n",
              "    .dataframe tbody tr th:only-of-type {\n",
              "        vertical-align: middle;\n",
              "    }\n",
              "\n",
              "    .dataframe tbody tr th {\n",
              "        vertical-align: top;\n",
              "    }\n",
              "\n",
              "    .dataframe thead th {\n",
              "        text-align: right;\n",
              "    }\n",
              "</style>\n",
              "<table border=\"1\" class=\"dataframe\">\n",
              "  <thead>\n",
              "    <tr style=\"text-align: right;\">\n",
              "      <th></th>\n",
              "      <th>kategoria</th>\n",
              "      <th>tekst</th>\n",
              "    </tr>\n",
              "  </thead>\n",
              "  <tbody>\n",
              "    <tr>\n",
              "      <th>0</th>\n",
              "      <td>ham</td>\n",
              "      <td>Go until jurong point, crazy.. Available only ...</td>\n",
              "    </tr>\n",
              "    <tr>\n",
              "      <th>1</th>\n",
              "      <td>ham</td>\n",
              "      <td>Ok lar... Joking wif u oni...</td>\n",
              "    </tr>\n",
              "    <tr>\n",
              "      <th>2</th>\n",
              "      <td>spam</td>\n",
              "      <td>Free entry in 2 a wkly comp to win FA Cup fina...</td>\n",
              "    </tr>\n",
              "    <tr>\n",
              "      <th>3</th>\n",
              "      <td>ham</td>\n",
              "      <td>U dun say so early hor... U c already then say...</td>\n",
              "    </tr>\n",
              "    <tr>\n",
              "      <th>4</th>\n",
              "      <td>ham</td>\n",
              "      <td>Nah I don't think he goes to usf, he lives aro...</td>\n",
              "    </tr>\n",
              "  </tbody>\n",
              "</table>\n",
              "</div>"
            ],
            "text/plain": [
              "  kategoria                                              tekst\n",
              "0       ham  Go until jurong point, crazy.. Available only ...\n",
              "1       ham                      Ok lar... Joking wif u oni...\n",
              "2      spam  Free entry in 2 a wkly comp to win FA Cup fina...\n",
              "3       ham  U dun say so early hor... U c already then say...\n",
              "4       ham  Nah I don't think he goes to usf, he lives aro..."
            ]
          },
          "metadata": {
            "tags": []
          },
          "execution_count": 2
        }
      ]
    },
    {
      "cell_type": "code",
      "metadata": {
        "id": "4gnCsOdkd3By",
        "colab_type": "code",
        "outputId": "7696e65b-f27b-4b0d-e581-a44093a5d43e",
        "colab": {
          "base_uri": "https://localhost:8080/",
          "height": 145
        }
      },
      "source": [
        "df.info()"
      ],
      "execution_count": 3,
      "outputs": [
        {
          "output_type": "stream",
          "text": [
            "<class 'pandas.core.frame.DataFrame'>\n",
            "RangeIndex: 5572 entries, 0 to 5571\n",
            "Data columns (total 2 columns):\n",
            "kategoria    5572 non-null object\n",
            "tekst        5572 non-null object\n",
            "dtypes: object(2)\n",
            "memory usage: 87.2+ KB\n"
          ],
          "name": "stdout"
        }
      ]
    },
    {
      "cell_type": "code",
      "metadata": {
        "id": "1ksFb_uBeLWi",
        "colab_type": "code",
        "outputId": "4cd85125-bc52-4054-baf9-29eccac48e10",
        "colab": {
          "base_uri": "https://localhost:8080/",
          "height": 72
        }
      },
      "source": [
        "df['kategoria'].value_counts()"
      ],
      "execution_count": 4,
      "outputs": [
        {
          "output_type": "execute_result",
          "data": {
            "text/plain": [
              "ham     4825\n",
              "spam     747\n",
              "Name: kategoria, dtype: int64"
            ]
          },
          "metadata": {
            "tags": []
          },
          "execution_count": 4
        }
      ]
    },
    {
      "cell_type": "code",
      "metadata": {
        "id": "dSS_DDnmgAln",
        "colab_type": "code",
        "outputId": "eedca89d-fabd-4ba2-d82e-ac37182c3e4f",
        "colab": {
          "base_uri": "https://localhost:8080/",
          "height": 108
        }
      },
      "source": [
        "df.describe().T"
      ],
      "execution_count": 5,
      "outputs": [
        {
          "output_type": "execute_result",
          "data": {
            "text/html": [
              "<div>\n",
              "<style scoped>\n",
              "    .dataframe tbody tr th:only-of-type {\n",
              "        vertical-align: middle;\n",
              "    }\n",
              "\n",
              "    .dataframe tbody tr th {\n",
              "        vertical-align: top;\n",
              "    }\n",
              "\n",
              "    .dataframe thead th {\n",
              "        text-align: right;\n",
              "    }\n",
              "</style>\n",
              "<table border=\"1\" class=\"dataframe\">\n",
              "  <thead>\n",
              "    <tr style=\"text-align: right;\">\n",
              "      <th></th>\n",
              "      <th>count</th>\n",
              "      <th>unique</th>\n",
              "      <th>top</th>\n",
              "      <th>freq</th>\n",
              "    </tr>\n",
              "  </thead>\n",
              "  <tbody>\n",
              "    <tr>\n",
              "      <th>kategoria</th>\n",
              "      <td>5572</td>\n",
              "      <td>2</td>\n",
              "      <td>ham</td>\n",
              "      <td>4825</td>\n",
              "    </tr>\n",
              "    <tr>\n",
              "      <th>tekst</th>\n",
              "      <td>5572</td>\n",
              "      <td>5169</td>\n",
              "      <td>Sorry, I'll call later</td>\n",
              "      <td>30</td>\n",
              "    </tr>\n",
              "  </tbody>\n",
              "</table>\n",
              "</div>"
            ],
            "text/plain": [
              "          count unique                     top  freq\n",
              "kategoria  5572      2                     ham  4825\n",
              "tekst      5572   5169  Sorry, I'll call later    30"
            ]
          },
          "metadata": {
            "tags": []
          },
          "execution_count": 5
        }
      ]
    },
    {
      "cell_type": "code",
      "metadata": {
        "id": "DbjjB0g1gD1f",
        "colab_type": "code",
        "outputId": "d1ce3fb8-b2ee-4827-927d-d0e61836d174",
        "colab": {
          "base_uri": "https://localhost:8080/",
          "height": 72
        }
      },
      "source": [
        "df.isnull().sum()"
      ],
      "execution_count": 6,
      "outputs": [
        {
          "output_type": "execute_result",
          "data": {
            "text/plain": [
              "kategoria    0\n",
              "tekst        0\n",
              "dtype: int64"
            ]
          },
          "metadata": {
            "tags": []
          },
          "execution_count": 6
        }
      ]
    },
    {
      "cell_type": "code",
      "metadata": {
        "id": "qFfMzRWRehqF",
        "colab_type": "code",
        "outputId": "1b65aee2-095c-4181-86b9-cbbd8d961411",
        "colab": {
          "base_uri": "https://localhost:8080/",
          "height": 108
        }
      },
      "source": [
        "categories = df['kategoria'].value_counts()\n",
        "categories = categories.reset_index()\n",
        "categories"
      ],
      "execution_count": 7,
      "outputs": [
        {
          "output_type": "execute_result",
          "data": {
            "text/html": [
              "<div>\n",
              "<style scoped>\n",
              "    .dataframe tbody tr th:only-of-type {\n",
              "        vertical-align: middle;\n",
              "    }\n",
              "\n",
              "    .dataframe tbody tr th {\n",
              "        vertical-align: top;\n",
              "    }\n",
              "\n",
              "    .dataframe thead th {\n",
              "        text-align: right;\n",
              "    }\n",
              "</style>\n",
              "<table border=\"1\" class=\"dataframe\">\n",
              "  <thead>\n",
              "    <tr style=\"text-align: right;\">\n",
              "      <th></th>\n",
              "      <th>index</th>\n",
              "      <th>kategoria</th>\n",
              "    </tr>\n",
              "  </thead>\n",
              "  <tbody>\n",
              "    <tr>\n",
              "      <th>0</th>\n",
              "      <td>ham</td>\n",
              "      <td>4825</td>\n",
              "    </tr>\n",
              "    <tr>\n",
              "      <th>1</th>\n",
              "      <td>spam</td>\n",
              "      <td>747</td>\n",
              "    </tr>\n",
              "  </tbody>\n",
              "</table>\n",
              "</div>"
            ],
            "text/plain": [
              "  index  kategoria\n",
              "0   ham       4825\n",
              "1  spam        747"
            ]
          },
          "metadata": {
            "tags": []
          },
          "execution_count": 7
        }
      ]
    },
    {
      "cell_type": "code",
      "metadata": {
        "id": "8G5PL9kReQ54",
        "colab_type": "code",
        "outputId": "fe104d4c-db53-4ff0-bac7-af9e729b15f0",
        "colab": {
          "base_uri": "https://localhost:8080/",
          "height": 417
        }
      },
      "source": [
        "px.pie(categories, 'index', 'kategoria', width=700, height=400, hole=0.4, title='Rozkład kategorii (spam, nie spam)')"
      ],
      "execution_count": 8,
      "outputs": [
        {
          "output_type": "display_data",
          "data": {
            "text/html": [
              "<html>\n",
              "<head><meta charset=\"utf-8\" /></head>\n",
              "<body>\n",
              "    <div>\n",
              "            <script src=\"https://cdnjs.cloudflare.com/ajax/libs/mathjax/2.7.5/MathJax.js?config=TeX-AMS-MML_SVG\"></script><script type=\"text/javascript\">if (window.MathJax) {MathJax.Hub.Config({SVG: {font: \"STIX-Web\"}});}</script>\n",
              "                <script type=\"text/javascript\">window.PlotlyConfig = {MathJaxConfig: 'local'};</script>\n",
              "        <script src=\"https://cdn.plot.ly/plotly-latest.min.js\"></script>    \n",
              "            <div id=\"42253a57-bb49-480e-bca4-2b8d9903b991\" class=\"plotly-graph-div\" style=\"height:400px; width:700px;\"></div>\n",
              "            <script type=\"text/javascript\">\n",
              "                \n",
              "                    window.PLOTLYENV=window.PLOTLYENV || {};\n",
              "                    \n",
              "                if (document.getElementById(\"42253a57-bb49-480e-bca4-2b8d9903b991\")) {\n",
              "                    Plotly.newPlot(\n",
              "                        '42253a57-bb49-480e-bca4-2b8d9903b991',\n",
              "                        [{\"domain\": {\"x\": [0.0, 1.0], \"y\": [0.0, 1.0]}, \"hole\": 0.4, \"hoverlabel\": {\"namelength\": 0}, \"hovertemplate\": \"index=%{label}<br>kategoria=%{value}\", \"labels\": [\"ham\", \"spam\"], \"legendgroup\": \"\", \"name\": \"\", \"showlegend\": true, \"type\": \"pie\", \"values\": [4825, 747]}],\n",
              "                        {\"height\": 400, \"legend\": {\"tracegroupgap\": 0}, \"template\": {\"data\": {\"bar\": [{\"error_x\": {\"color\": \"#2a3f5f\"}, \"error_y\": {\"color\": \"#2a3f5f\"}, \"marker\": {\"line\": {\"color\": \"#E5ECF6\", \"width\": 0.5}}, \"type\": \"bar\"}], \"barpolar\": [{\"marker\": {\"line\": {\"color\": \"#E5ECF6\", \"width\": 0.5}}, \"type\": \"barpolar\"}], \"carpet\": [{\"aaxis\": {\"endlinecolor\": \"#2a3f5f\", \"gridcolor\": \"white\", \"linecolor\": \"white\", \"minorgridcolor\": \"white\", \"startlinecolor\": \"#2a3f5f\"}, \"baxis\": {\"endlinecolor\": \"#2a3f5f\", \"gridcolor\": \"white\", \"linecolor\": \"white\", \"minorgridcolor\": \"white\", \"startlinecolor\": \"#2a3f5f\"}, \"type\": \"carpet\"}], \"choropleth\": [{\"colorbar\": {\"outlinewidth\": 0, \"ticks\": \"\"}, \"type\": \"choropleth\"}], \"contour\": [{\"colorbar\": {\"outlinewidth\": 0, \"ticks\": \"\"}, \"colorscale\": [[0.0, \"#0d0887\"], [0.1111111111111111, \"#46039f\"], [0.2222222222222222, \"#7201a8\"], [0.3333333333333333, \"#9c179e\"], [0.4444444444444444, \"#bd3786\"], [0.5555555555555556, \"#d8576b\"], [0.6666666666666666, \"#ed7953\"], [0.7777777777777778, \"#fb9f3a\"], [0.8888888888888888, \"#fdca26\"], [1.0, \"#f0f921\"]], \"type\": \"contour\"}], \"contourcarpet\": [{\"colorbar\": {\"outlinewidth\": 0, \"ticks\": \"\"}, \"type\": \"contourcarpet\"}], \"heatmap\": [{\"colorbar\": {\"outlinewidth\": 0, \"ticks\": \"\"}, \"colorscale\": [[0.0, \"#0d0887\"], [0.1111111111111111, \"#46039f\"], [0.2222222222222222, \"#7201a8\"], [0.3333333333333333, \"#9c179e\"], [0.4444444444444444, \"#bd3786\"], [0.5555555555555556, \"#d8576b\"], [0.6666666666666666, \"#ed7953\"], [0.7777777777777778, \"#fb9f3a\"], [0.8888888888888888, \"#fdca26\"], [1.0, \"#f0f921\"]], \"type\": \"heatmap\"}], \"heatmapgl\": [{\"colorbar\": {\"outlinewidth\": 0, \"ticks\": \"\"}, \"colorscale\": [[0.0, \"#0d0887\"], [0.1111111111111111, \"#46039f\"], [0.2222222222222222, \"#7201a8\"], [0.3333333333333333, \"#9c179e\"], [0.4444444444444444, \"#bd3786\"], [0.5555555555555556, \"#d8576b\"], [0.6666666666666666, \"#ed7953\"], [0.7777777777777778, \"#fb9f3a\"], [0.8888888888888888, \"#fdca26\"], [1.0, \"#f0f921\"]], \"type\": \"heatmapgl\"}], \"histogram\": [{\"marker\": {\"colorbar\": {\"outlinewidth\": 0, \"ticks\": \"\"}}, \"type\": \"histogram\"}], \"histogram2d\": [{\"colorbar\": {\"outlinewidth\": 0, \"ticks\": \"\"}, \"colorscale\": [[0.0, \"#0d0887\"], [0.1111111111111111, \"#46039f\"], [0.2222222222222222, \"#7201a8\"], [0.3333333333333333, \"#9c179e\"], [0.4444444444444444, \"#bd3786\"], [0.5555555555555556, \"#d8576b\"], [0.6666666666666666, \"#ed7953\"], [0.7777777777777778, \"#fb9f3a\"], [0.8888888888888888, \"#fdca26\"], [1.0, \"#f0f921\"]], \"type\": \"histogram2d\"}], \"histogram2dcontour\": [{\"colorbar\": {\"outlinewidth\": 0, \"ticks\": \"\"}, \"colorscale\": [[0.0, \"#0d0887\"], [0.1111111111111111, \"#46039f\"], [0.2222222222222222, \"#7201a8\"], [0.3333333333333333, \"#9c179e\"], [0.4444444444444444, \"#bd3786\"], [0.5555555555555556, \"#d8576b\"], [0.6666666666666666, \"#ed7953\"], [0.7777777777777778, \"#fb9f3a\"], [0.8888888888888888, \"#fdca26\"], [1.0, \"#f0f921\"]], \"type\": \"histogram2dcontour\"}], \"mesh3d\": [{\"colorbar\": {\"outlinewidth\": 0, \"ticks\": \"\"}, \"type\": \"mesh3d\"}], \"parcoords\": [{\"line\": {\"colorbar\": {\"outlinewidth\": 0, \"ticks\": \"\"}}, \"type\": \"parcoords\"}], \"pie\": [{\"automargin\": true, \"type\": \"pie\"}], \"scatter\": [{\"marker\": {\"colorbar\": {\"outlinewidth\": 0, \"ticks\": \"\"}}, \"type\": \"scatter\"}], \"scatter3d\": [{\"line\": {\"colorbar\": {\"outlinewidth\": 0, \"ticks\": \"\"}}, \"marker\": {\"colorbar\": {\"outlinewidth\": 0, \"ticks\": \"\"}}, \"type\": \"scatter3d\"}], \"scattercarpet\": [{\"marker\": {\"colorbar\": {\"outlinewidth\": 0, \"ticks\": \"\"}}, \"type\": \"scattercarpet\"}], \"scattergeo\": [{\"marker\": {\"colorbar\": {\"outlinewidth\": 0, \"ticks\": \"\"}}, \"type\": \"scattergeo\"}], \"scattergl\": [{\"marker\": {\"colorbar\": {\"outlinewidth\": 0, \"ticks\": \"\"}}, \"type\": \"scattergl\"}], \"scattermapbox\": [{\"marker\": {\"colorbar\": {\"outlinewidth\": 0, \"ticks\": \"\"}}, \"type\": \"scattermapbox\"}], \"scatterpolar\": [{\"marker\": {\"colorbar\": {\"outlinewidth\": 0, \"ticks\": \"\"}}, \"type\": \"scatterpolar\"}], \"scatterpolargl\": [{\"marker\": {\"colorbar\": {\"outlinewidth\": 0, \"ticks\": \"\"}}, \"type\": \"scatterpolargl\"}], \"scatterternary\": [{\"marker\": {\"colorbar\": {\"outlinewidth\": 0, \"ticks\": \"\"}}, \"type\": \"scatterternary\"}], \"surface\": [{\"colorbar\": {\"outlinewidth\": 0, \"ticks\": \"\"}, \"colorscale\": [[0.0, \"#0d0887\"], [0.1111111111111111, \"#46039f\"], [0.2222222222222222, \"#7201a8\"], [0.3333333333333333, \"#9c179e\"], [0.4444444444444444, \"#bd3786\"], [0.5555555555555556, \"#d8576b\"], [0.6666666666666666, \"#ed7953\"], [0.7777777777777778, \"#fb9f3a\"], [0.8888888888888888, \"#fdca26\"], [1.0, \"#f0f921\"]], \"type\": \"surface\"}], \"table\": [{\"cells\": {\"fill\": {\"color\": \"#EBF0F8\"}, \"line\": {\"color\": \"white\"}}, \"header\": {\"fill\": {\"color\": \"#C8D4E3\"}, \"line\": {\"color\": \"white\"}}, \"type\": \"table\"}]}, \"layout\": {\"annotationdefaults\": {\"arrowcolor\": \"#2a3f5f\", \"arrowhead\": 0, \"arrowwidth\": 1}, \"coloraxis\": {\"colorbar\": {\"outlinewidth\": 0, \"ticks\": \"\"}}, \"colorscale\": {\"diverging\": [[0, \"#8e0152\"], [0.1, \"#c51b7d\"], [0.2, \"#de77ae\"], [0.3, \"#f1b6da\"], [0.4, \"#fde0ef\"], [0.5, \"#f7f7f7\"], [0.6, \"#e6f5d0\"], [0.7, \"#b8e186\"], [0.8, \"#7fbc41\"], [0.9, \"#4d9221\"], [1, \"#276419\"]], \"sequential\": [[0.0, \"#0d0887\"], [0.1111111111111111, \"#46039f\"], [0.2222222222222222, \"#7201a8\"], [0.3333333333333333, \"#9c179e\"], [0.4444444444444444, \"#bd3786\"], [0.5555555555555556, \"#d8576b\"], [0.6666666666666666, \"#ed7953\"], [0.7777777777777778, \"#fb9f3a\"], [0.8888888888888888, \"#fdca26\"], [1.0, \"#f0f921\"]], \"sequentialminus\": [[0.0, \"#0d0887\"], [0.1111111111111111, \"#46039f\"], [0.2222222222222222, \"#7201a8\"], [0.3333333333333333, \"#9c179e\"], [0.4444444444444444, \"#bd3786\"], [0.5555555555555556, \"#d8576b\"], [0.6666666666666666, \"#ed7953\"], [0.7777777777777778, \"#fb9f3a\"], [0.8888888888888888, \"#fdca26\"], [1.0, \"#f0f921\"]]}, \"colorway\": [\"#636efa\", \"#EF553B\", \"#00cc96\", \"#ab63fa\", \"#FFA15A\", \"#19d3f3\", \"#FF6692\", \"#B6E880\", \"#FF97FF\", \"#FECB52\"], \"font\": {\"color\": \"#2a3f5f\"}, \"geo\": {\"bgcolor\": \"white\", \"lakecolor\": \"white\", \"landcolor\": \"#E5ECF6\", \"showlakes\": true, \"showland\": true, \"subunitcolor\": \"white\"}, \"hoverlabel\": {\"align\": \"left\"}, \"hovermode\": \"closest\", \"mapbox\": {\"style\": \"light\"}, \"paper_bgcolor\": \"white\", \"plot_bgcolor\": \"#E5ECF6\", \"polar\": {\"angularaxis\": {\"gridcolor\": \"white\", \"linecolor\": \"white\", \"ticks\": \"\"}, \"bgcolor\": \"#E5ECF6\", \"radialaxis\": {\"gridcolor\": \"white\", \"linecolor\": \"white\", \"ticks\": \"\"}}, \"scene\": {\"xaxis\": {\"backgroundcolor\": \"#E5ECF6\", \"gridcolor\": \"white\", \"gridwidth\": 2, \"linecolor\": \"white\", \"showbackground\": true, \"ticks\": \"\", \"zerolinecolor\": \"white\"}, \"yaxis\": {\"backgroundcolor\": \"#E5ECF6\", \"gridcolor\": \"white\", \"gridwidth\": 2, \"linecolor\": \"white\", \"showbackground\": true, \"ticks\": \"\", \"zerolinecolor\": \"white\"}, \"zaxis\": {\"backgroundcolor\": \"#E5ECF6\", \"gridcolor\": \"white\", \"gridwidth\": 2, \"linecolor\": \"white\", \"showbackground\": true, \"ticks\": \"\", \"zerolinecolor\": \"white\"}}, \"shapedefaults\": {\"line\": {\"color\": \"#2a3f5f\"}}, \"ternary\": {\"aaxis\": {\"gridcolor\": \"white\", \"linecolor\": \"white\", \"ticks\": \"\"}, \"baxis\": {\"gridcolor\": \"white\", \"linecolor\": \"white\", \"ticks\": \"\"}, \"bgcolor\": \"#E5ECF6\", \"caxis\": {\"gridcolor\": \"white\", \"linecolor\": \"white\", \"ticks\": \"\"}}, \"title\": {\"x\": 0.05}, \"xaxis\": {\"automargin\": true, \"gridcolor\": \"white\", \"linecolor\": \"white\", \"ticks\": \"\", \"title\": {\"standoff\": 15}, \"zerolinecolor\": \"white\", \"zerolinewidth\": 2}, \"yaxis\": {\"automargin\": true, \"gridcolor\": \"white\", \"linecolor\": \"white\", \"ticks\": \"\", \"title\": {\"standoff\": 15}, \"zerolinecolor\": \"white\", \"zerolinewidth\": 2}}}, \"title\": {\"text\": \"Rozk\\u0142ad kategorii (spam, nie spam)\"}, \"width\": 700},\n",
              "                        {\"responsive\": true}\n",
              "                    ).then(function(){\n",
              "                            \n",
              "var gd = document.getElementById('42253a57-bb49-480e-bca4-2b8d9903b991');\n",
              "var x = new MutationObserver(function (mutations, observer) {{\n",
              "        var display = window.getComputedStyle(gd).display;\n",
              "        if (!display || display === 'none') {{\n",
              "            console.log([gd, 'removed!']);\n",
              "            Plotly.purge(gd);\n",
              "            observer.disconnect();\n",
              "        }}\n",
              "}});\n",
              "\n",
              "// Listen for the removal of the full notebook cells\n",
              "var notebookContainer = gd.closest('#notebook-container');\n",
              "if (notebookContainer) {{\n",
              "    x.observe(notebookContainer, {childList: true});\n",
              "}}\n",
              "\n",
              "// Listen for the clearing of the current output cell\n",
              "var outputEl = gd.closest('.output');\n",
              "if (outputEl) {{\n",
              "    x.observe(outputEl, {childList: true});\n",
              "}}\n",
              "\n",
              "                        })\n",
              "                };\n",
              "                \n",
              "            </script>\n",
              "        </div>\n",
              "</body>\n",
              "</html>"
            ]
          },
          "metadata": {
            "tags": []
          }
        }
      ]
    },
    {
      "cell_type": "code",
      "metadata": {
        "id": "TynccqqEeUrv",
        "colab_type": "code",
        "outputId": "2950f70c-82e2-461a-f2f9-736343984663",
        "colab": {
          "base_uri": "https://localhost:8080/",
          "height": 308
        }
      },
      "source": [
        "df['tekst'].value_counts()[:15]"
      ],
      "execution_count": 9,
      "outputs": [
        {
          "output_type": "execute_result",
          "data": {
            "text/plain": [
              "Sorry, I'll call later                                                                                                                                                                 30\n",
              "I cant pick the phone right now. Pls send a message                                                                                                                                    12\n",
              "Ok...                                                                                                                                                                                  10\n",
              "Please call our customer service representative on FREEPHONE 0808 145 4742 between 9am-11pm as you have WON a guaranteed Ã¥Â£1000 cash or Ã¥Â£5000 prize!                               4\n",
              "Say this slowly.? GOD,I LOVE YOU &amp; I NEED YOU,CLEAN MY HEART WITH YOUR BLOOD.Send this to Ten special people &amp; u c miracle tomorrow, do it,pls,pls do it...                     4\n",
              "Your opinion about me? 1. Over 2. Jada 3. Kusruthi 4. Lovable 5. Silent 6. Spl character 7. Not matured 8. Stylish 9. Simple Pls reply..                                                4\n",
              "Ok                                                                                                                                                                                      4\n",
              "Ok.                                                                                                                                                                                     4\n",
              "Wen ur lovable bcums angry wid u, dnt take it seriously.. Coz being angry is d most childish n true way of showing deep affection, care n luv!.. kettoda manda... Have nice day da.     4\n",
              "7 wonders in My WORLD 7th You 6th Ur style 5th Ur smile 4th Ur Personality 3rd Ur Nature 2nd Ur SMS and 1st \\Ur Lovely Friendship\\\"... good morning dear\"                               4\n",
              "Okie                                                                                                                                                                                    4\n",
              "Ok.ok ok..then..whats ur todays plan                                                                                                                                                    3\n",
              "As per your request 'Melle Melle (Oru Minnaminunginte Nurungu Vettam)' has been set as your callertune for all Callers. Press *9 to copy your friends Callertune                        3\n",
              "Did u got that persons story                                                                                                                                                            3\n",
              "Convey my regards to him                                                                                                                                                                3\n",
              "Name: tekst, dtype: int64"
            ]
          },
          "metadata": {
            "tags": []
          },
          "execution_count": 9
        }
      ]
    },
    {
      "cell_type": "code",
      "metadata": {
        "id": "EDZ3G4WNfgnt",
        "colab_type": "code",
        "outputId": "75274fd6-b337-44fa-ddce-056fc67aff3a",
        "colab": {
          "base_uri": "https://localhost:8080/",
          "height": 126
        }
      },
      "source": [
        "spam_sms = df[df['kategoria'] == 'spam']['tekst']\n",
        "ham_sms = df[df['kategoria'] == 'ham']['tekst']\n",
        "spam_sms[:5]"
      ],
      "execution_count": 10,
      "outputs": [
        {
          "output_type": "execute_result",
          "data": {
            "text/plain": [
              "2     Free entry in 2 a wkly comp to win FA Cup fina...\n",
              "5     FreeMsg Hey there darling it's been 3 week's n...\n",
              "8     WINNER!! As a valued network customer you have...\n",
              "9     Had your mobile 11 months or more? U R entitle...\n",
              "11    SIX chances to win CASH! From 100 to 20,000 po...\n",
              "Name: tekst, dtype: object"
            ]
          },
          "metadata": {
            "tags": []
          },
          "execution_count": 10
        }
      ]
    },
    {
      "cell_type": "code",
      "metadata": {
        "id": "qJW6hwFogjRN",
        "colab_type": "code",
        "outputId": "b703f489-3b0f-43c8-db27-961566331f11",
        "colab": {
          "base_uri": "https://localhost:8080/",
          "height": 126
        }
      },
      "source": [
        "ham_sms[:5]"
      ],
      "execution_count": 11,
      "outputs": [
        {
          "output_type": "execute_result",
          "data": {
            "text/plain": [
              "0    Go until jurong point, crazy.. Available only ...\n",
              "1                        Ok lar... Joking wif u oni...\n",
              "3    U dun say so early hor... U c already then say...\n",
              "4    Nah I don't think he goes to usf, he lives aro...\n",
              "6    Even my brother is not like to speak with me. ...\n",
              "Name: tekst, dtype: object"
            ]
          },
          "metadata": {
            "tags": []
          },
          "execution_count": 11
        }
      ]
    },
    {
      "cell_type": "code",
      "metadata": {
        "id": "lPbO95m6g9Kf",
        "colab_type": "code",
        "colab": {
          "base_uri": "https://localhost:8080/",
          "height": 198
        },
        "outputId": "2cd2737f-9a9c-4ea1-8986-f105812a109f"
      },
      "source": [
        "df.head()"
      ],
      "execution_count": 12,
      "outputs": [
        {
          "output_type": "execute_result",
          "data": {
            "text/html": [
              "<div>\n",
              "<style scoped>\n",
              "    .dataframe tbody tr th:only-of-type {\n",
              "        vertical-align: middle;\n",
              "    }\n",
              "\n",
              "    .dataframe tbody tr th {\n",
              "        vertical-align: top;\n",
              "    }\n",
              "\n",
              "    .dataframe thead th {\n",
              "        text-align: right;\n",
              "    }\n",
              "</style>\n",
              "<table border=\"1\" class=\"dataframe\">\n",
              "  <thead>\n",
              "    <tr style=\"text-align: right;\">\n",
              "      <th></th>\n",
              "      <th>kategoria</th>\n",
              "      <th>tekst</th>\n",
              "    </tr>\n",
              "  </thead>\n",
              "  <tbody>\n",
              "    <tr>\n",
              "      <th>0</th>\n",
              "      <td>ham</td>\n",
              "      <td>Go until jurong point, crazy.. Available only ...</td>\n",
              "    </tr>\n",
              "    <tr>\n",
              "      <th>1</th>\n",
              "      <td>ham</td>\n",
              "      <td>Ok lar... Joking wif u oni...</td>\n",
              "    </tr>\n",
              "    <tr>\n",
              "      <th>2</th>\n",
              "      <td>spam</td>\n",
              "      <td>Free entry in 2 a wkly comp to win FA Cup fina...</td>\n",
              "    </tr>\n",
              "    <tr>\n",
              "      <th>3</th>\n",
              "      <td>ham</td>\n",
              "      <td>U dun say so early hor... U c already then say...</td>\n",
              "    </tr>\n",
              "    <tr>\n",
              "      <th>4</th>\n",
              "      <td>ham</td>\n",
              "      <td>Nah I don't think he goes to usf, he lives aro...</td>\n",
              "    </tr>\n",
              "  </tbody>\n",
              "</table>\n",
              "</div>"
            ],
            "text/plain": [
              "  kategoria                                              tekst\n",
              "0       ham  Go until jurong point, crazy.. Available only ...\n",
              "1       ham                      Ok lar... Joking wif u oni...\n",
              "2      spam  Free entry in 2 a wkly comp to win FA Cup fina...\n",
              "3       ham  U dun say so early hor... U c already then say...\n",
              "4       ham  Nah I don't think he goes to usf, he lives aro..."
            ]
          },
          "metadata": {
            "tags": []
          },
          "execution_count": 12
        }
      ]
    },
    {
      "cell_type": "code",
      "metadata": {
        "id": "qPb2YvQqvw-5",
        "colab_type": "code",
        "colab": {
          "base_uri": "https://localhost:8080/",
          "height": 198
        },
        "outputId": "851c241e-8a10-45aa-9d7e-d5c2527d29d5"
      },
      "source": [
        "df['dlugosc'] = df['tekst'].str.split().apply(len)\n",
        "df.head()"
      ],
      "execution_count": 16,
      "outputs": [
        {
          "output_type": "execute_result",
          "data": {
            "text/html": [
              "<div>\n",
              "<style scoped>\n",
              "    .dataframe tbody tr th:only-of-type {\n",
              "        vertical-align: middle;\n",
              "    }\n",
              "\n",
              "    .dataframe tbody tr th {\n",
              "        vertical-align: top;\n",
              "    }\n",
              "\n",
              "    .dataframe thead th {\n",
              "        text-align: right;\n",
              "    }\n",
              "</style>\n",
              "<table border=\"1\" class=\"dataframe\">\n",
              "  <thead>\n",
              "    <tr style=\"text-align: right;\">\n",
              "      <th></th>\n",
              "      <th>kategoria</th>\n",
              "      <th>tekst</th>\n",
              "      <th>dlugosc</th>\n",
              "    </tr>\n",
              "  </thead>\n",
              "  <tbody>\n",
              "    <tr>\n",
              "      <th>0</th>\n",
              "      <td>ham</td>\n",
              "      <td>Go until jurong point, crazy.. Available only ...</td>\n",
              "      <td>20</td>\n",
              "    </tr>\n",
              "    <tr>\n",
              "      <th>1</th>\n",
              "      <td>ham</td>\n",
              "      <td>Ok lar... Joking wif u oni...</td>\n",
              "      <td>6</td>\n",
              "    </tr>\n",
              "    <tr>\n",
              "      <th>2</th>\n",
              "      <td>spam</td>\n",
              "      <td>Free entry in 2 a wkly comp to win FA Cup fina...</td>\n",
              "      <td>28</td>\n",
              "    </tr>\n",
              "    <tr>\n",
              "      <th>3</th>\n",
              "      <td>ham</td>\n",
              "      <td>U dun say so early hor... U c already then say...</td>\n",
              "      <td>11</td>\n",
              "    </tr>\n",
              "    <tr>\n",
              "      <th>4</th>\n",
              "      <td>ham</td>\n",
              "      <td>Nah I don't think he goes to usf, he lives aro...</td>\n",
              "      <td>13</td>\n",
              "    </tr>\n",
              "  </tbody>\n",
              "</table>\n",
              "</div>"
            ],
            "text/plain": [
              "  kategoria                                              tekst  dlugosc\n",
              "0       ham  Go until jurong point, crazy.. Available only ...       20\n",
              "1       ham                      Ok lar... Joking wif u oni...        6\n",
              "2      spam  Free entry in 2 a wkly comp to win FA Cup fina...       28\n",
              "3       ham  U dun say so early hor... U c already then say...       11\n",
              "4       ham  Nah I don't think he goes to usf, he lives aro...       13"
            ]
          },
          "metadata": {
            "tags": []
          },
          "execution_count": 16
        }
      ]
    },
    {
      "cell_type": "code",
      "metadata": {
        "id": "EuD2jUJfwEFc",
        "colab_type": "code",
        "colab": {
          "base_uri": "https://localhost:8080/",
          "height": 417
        },
        "outputId": "43b63848-8aeb-4524-c7ae-cff70f7cc9db"
      },
      "source": [
        "px.histogram(df, x='dlugosc', facet_col='kategoria', width=800, height=400, nbins=100, range_x=[0, 50])"
      ],
      "execution_count": 29,
      "outputs": [
        {
          "output_type": "display_data",
          "data": {
            "text/html": [
              "<html>\n",
              "<head><meta charset=\"utf-8\" /></head>\n",
              "<body>\n",
              "    <div>\n",
              "            <script src=\"https://cdnjs.cloudflare.com/ajax/libs/mathjax/2.7.5/MathJax.js?config=TeX-AMS-MML_SVG\"></script><script type=\"text/javascript\">if (window.MathJax) {MathJax.Hub.Config({SVG: {font: \"STIX-Web\"}});}</script>\n",
              "                <script type=\"text/javascript\">window.PlotlyConfig = {MathJaxConfig: 'local'};</script>\n",
              "        <script src=\"https://cdn.plot.ly/plotly-latest.min.js\"></script>    \n",
              "            <div id=\"aaecba78-0ed5-4054-9146-3d1012565729\" class=\"plotly-graph-div\" style=\"height:400px; width:800px;\"></div>\n",
              "            <script type=\"text/javascript\">\n",
              "                \n",
              "                    window.PLOTLYENV=window.PLOTLYENV || {};\n",
              "                    \n",
              "                if (document.getElementById(\"aaecba78-0ed5-4054-9146-3d1012565729\")) {\n",
              "                    Plotly.newPlot(\n",
              "                        'aaecba78-0ed5-4054-9146-3d1012565729',\n",
              "                        [{\"alignmentgroup\": \"True\", \"bingroup\": \"x\", \"hoverlabel\": {\"namelength\": 0}, \"hovertemplate\": \"kategoria=ham<br>dlugosc=%{x}<br>count=%{y}\", \"legendgroup\": \"\", \"marker\": {\"color\": \"#636efa\"}, \"name\": \"\", \"nbinsx\": 100, \"offsetgroup\": \"\", \"orientation\": \"v\", \"showlegend\": false, \"type\": \"histogram\", \"x\": [20, 6, 11, 13, 16, 26, 21, 37, 8, 4, 19, 13, 8, 11, 11, 20, 11, 28, 5, 32, 15, 12, 26, 41, 6, 17, 28, 9, 8, 4, 30, 17, 34, 4, 13, 3, 8, 5, 14, 30, 12, 23, 16, 55, 13, 6, 4, 7, 23, 9, 6, 12, 24, 23, 8, 8, 5, 10, 6, 5, 9, 14, 11, 7, 16, 4, 8, 10, 9, 3, 11, 26, 31, 9, 7, 10, 39, 26, 20, 5, 12, 39, 11, 21, 16, 26, 36, 10, 17, 10, 14, 24, 6, 8, 5, 24, 24, 32, 12, 15, 8, 13, 7, 4, 46, 5, 27, 5, 2, 5, 4, 6, 8, 9, 20, 8, 5, 26, 10, 7, 10, 15, 6, 7, 9, 15, 4, 26, 80, 5, 5, 33, 24, 13, 19, 10, 13, 13, 10, 10, 20, 6, 21, 11, 14, 6, 30, 16, 25, 31, 6, 13, 5, 4, 32, 7, 13, 19, 38, 6, 22, 19, 7, 6, 14, 30, 8, 5, 18, 26, 3, 7, 13, 32, 5, 13, 9, 14, 6, 2, 5, 6, 9, 9, 7, 8, 35, 6, 30, 4, 26, 13, 5, 27, 8, 20, 8, 6, 8, 9, 15, 7, 27, 10, 7, 16, 32, 6, 17, 8, 6, 30, 8, 34, 5, 37, 7, 18, 10, 9, 15, 1, 18, 11, 6, 7, 11, 9, 9, 29, 9, 6, 1, 9, 7, 11, 10, 5, 4, 7, 1, 25, 13, 1, 35, 33, 21, 8, 13, 5, 5, 7, 12, 35, 11, 12, 17, 31, 21, 5, 11, 7, 14, 10, 24, 24, 33, 10, 3, 24, 9, 4, 10, 13, 28, 31, 6, 3, 6, 16, 6, 20, 3, 14, 43, 10, 11, 3, 4, 8, 6, 31, 5, 7, 9, 3, 20, 5, 15, 10, 15, 30, 28, 8, 34, 31, 17, 6, 4, 5, 16, 34, 12, 5, 6, 29, 9, 10, 37, 5, 9, 25, 7, 27, 57, 12, 9, 10, 6, 6, 7, 9, 5, 16, 5, 28, 11, 16, 26, 43, 30, 16, 9, 7, 9, 13, 14, 32, 9, 3, 21, 17, 8, 20, 5, 7, 7, 14, 8, 5, 33, 6, 4, 7, 16, 27, 5, 15, 4, 11, 15, 12, 6, 15, 11, 16, 8, 17, 4, 9, 19, 12, 14, 9, 4, 2, 10, 9, 21, 10, 25, 28, 17, 22, 15, 13, 6, 8, 26, 16, 8, 11, 8, 9, 50, 26, 11, 5, 4, 10, 15, 7, 17, 3, 11, 9, 11, 7, 22, 11, 26, 5, 5, 7, 3, 14, 11, 7, 5, 35, 5, 3, 8, 26, 11, 32, 3, 26, 23, 5, 5, 4, 4, 35, 20, 9, 6, 6, 6, 13, 9, 6, 6, 3, 3, 38, 34, 12, 17, 15, 12, 27, 17, 11, 26, 4, 32, 7, 3, 22, 56, 9, 21, 30, 28, 10, 6, 8, 14, 32, 5, 7, 12, 34, 22, 9, 31, 19, 6, 28, 8, 5, 4, 7, 23, 10, 28, 9, 10, 14, 17, 16, 23, 9, 6, 8, 5, 28, 6, 7, 17, 8, 16, 13, 8, 8, 4, 6, 18, 4, 14, 33, 4, 25, 13, 27, 28, 4, 12, 19, 7, 11, 16, 13, 22, 14, 15, 23, 8, 2, 13, 11, 5, 19, 10, 8, 11, 15, 27, 8, 8, 25, 16, 17, 8, 11, 23, 14, 6, 6, 7, 37, 9, 18, 29, 4, 10, 7, 13, 8, 12, 5, 5, 5, 9, 30, 10, 8, 15, 14, 5, 22, 9, 7, 6, 20, 6, 29, 30, 9, 4, 24, 15, 16, 21, 6, 10, 16, 7, 9, 7, 4, 13, 23, 15, 17, 7, 10, 52, 40, 24, 11, 9, 24, 28, 7, 7, 5, 8, 42, 13, 35, 9, 12, 5, 8, 19, 26, 17, 7, 9, 6, 31, 9, 12, 40, 8, 9, 9, 23, 21, 9, 5, 7, 15, 5, 14, 17, 6, 18, 28, 32, 14, 20, 4, 11, 24, 10, 18, 18, 11, 3, 6, 29, 27, 27, 5, 26, 22, 1, 12, 14, 24, 7, 29, 8, 12, 14, 16, 8, 17, 9, 7, 15, 6, 6, 10, 6, 11, 11, 3, 21, 5, 9, 23, 7, 5, 23, 24, 6, 5, 9, 4, 5, 17, 14, 29, 43, 4, 10, 76, 20, 14, 12, 4, 41, 18, 13, 21, 11, 12, 12, 21, 18, 7, 26, 5, 8, 8, 5, 20, 18, 8, 30, 19, 13, 8, 17, 21, 9, 57, 16, 6, 16, 3, 14, 15, 3, 8, 5, 11, 9, 25, 15, 26, 10, 32, 10, 22, 9, 18, 9, 14, 9, 16, 6, 35, 6, 33, 12, 9, 15, 13, 26, 17, 9, 6, 12, 10, 12, 11, 7, 21, 7, 6, 20, 21, 7, 16, 5, 8, 4, 26, 25, 14, 24, 43, 13, 29, 6, 9, 6, 5, 26, 9, 27, 24, 4, 25, 2, 8, 16, 16, 5, 18, 15, 45, 8, 14, 20, 6, 9, 5, 5, 28, 6, 43, 10, 8, 16, 13, 12, 6, 9, 11, 30, 26, 12, 3, 30, 16, 25, 7, 8, 17, 31, 29, 8, 4, 16, 8, 5, 9, 30, 5, 18, 21, 10, 10, 12, 6, 18, 9, 10, 6, 42, 5, 6, 8, 10, 7, 9, 12, 6, 11, 3, 6, 26, 22, 33, 6, 22, 28, 10, 13, 6, 7, 24, 4, 19, 18, 8, 11, 25, 6, 35, 5, 4, 5, 16, 7, 30, 26, 10, 6, 10, 16, 3, 9, 25, 9, 17, 7, 5, 5, 13, 15, 8, 5, 26, 171, 35, 7, 5, 8, 15, 4, 37, 17, 3, 29, 15, 21, 17, 19, 10, 14, 7, 35, 28, 22, 4, 5, 12, 8, 15, 10, 10, 14, 17, 6, 5, 6, 7, 16, 23, 11, 5, 4, 6, 32, 13, 8, 6, 4, 21, 7, 17, 18, 25, 7, 10, 13, 6, 9, 4, 5, 15, 18, 14, 26, 5, 9, 8, 6, 27, 9, 11, 7, 8, 18, 31, 14, 4, 7, 12, 33, 38, 7, 12, 8, 4, 5, 10, 9, 8, 3, 8, 15, 11, 11, 2, 14, 27, 3, 15, 11, 31, 22, 6, 5, 12, 10, 25, 9, 6, 7, 8, 12, 11, 25, 13, 15, 15, 8, 25, 4, 9, 8, 14, 8, 7, 15, 13, 5, 7, 21, 26, 5, 9, 11, 19, 14, 12, 10, 10, 7, 10, 21, 13, 27, 11, 15, 20, 17, 5, 12, 9, 10, 5, 18, 14, 35, 11, 7, 19, 9, 8, 8, 19, 26, 1, 18, 6, 3, 8, 17, 15, 13, 9, 32, 5, 6, 7, 31, 33, 6, 12, 14, 17, 35, 8, 10, 6, 10, 10, 10, 12, 23, 8, 31, 11, 8, 10, 11, 9, 23, 20, 19, 8, 25, 30, 7, 1, 6, 11, 10, 7, 19, 29, 7, 6, 11, 21, 6, 6, 8, 8, 35, 29, 18, 10, 11, 6, 5, 22, 7, 33, 4, 9, 18, 5, 9, 4, 6, 25, 9, 20, 5, 16, 32, 26, 63, 10, 13, 6, 42, 24, 11, 20, 6, 6, 10, 19, 24, 4, 8, 5, 7, 29, 18, 32, 63, 23, 7, 29, 10, 24, 36, 6, 17, 2, 7, 14, 5, 12, 10, 27, 18, 18, 27, 8, 7, 3, 7, 8, 5, 6, 25, 34, 11, 17, 7, 18, 9, 14, 7, 7, 6, 6, 8, 1, 24, 29, 30, 22, 7, 13, 10, 4, 22, 16, 6, 16, 21, 3, 10, 3, 6, 32, 20, 2, 5, 12, 6, 3, 11, 20, 35, 25, 10, 24, 29, 26, 8, 30, 7, 11, 16, 21, 30, 15, 20, 7, 19, 30, 6, 6, 1, 24, 4, 30, 33, 6, 9, 4, 34, 15, 14, 22, 12, 34, 11, 29, 5, 5, 6, 6, 10, 34, 9, 33, 16, 22, 95, 6, 3, 7, 11, 10, 6, 8, 23, 3, 5, 7, 37, 4, 7, 10, 5, 11, 36, 6, 4, 18, 10, 4, 24, 7, 39, 4, 10, 35, 6, 17, 6, 11, 16, 10, 2, 8, 7, 15, 26, 4, 23, 13, 19, 11, 12, 10, 5, 29, 8, 5, 24, 8, 11, 4, 25, 11, 14, 38, 103, 12, 13, 11, 9, 19, 4, 69, 15, 32, 7, 25, 33, 5, 10, 28, 8, 8, 9, 4, 27, 4, 26, 19, 5, 8, 21, 36, 8, 7, 1, 6, 10, 8, 25, 6, 22, 9, 37, 24, 7, 32, 6, 8, 17, 11, 15, 28, 10, 32, 36, 5, 8, 32, 4, 7, 5, 7, 7, 28, 27, 7, 27, 17, 33, 14, 7, 19, 11, 5, 10, 14, 6, 4, 27, 14, 19, 5, 12, 2, 5, 6, 14, 11, 9, 29, 23, 4, 2, 30, 9, 8, 6, 5, 5, 9, 18, 20, 15, 12, 16, 12, 1, 6, 15, 8, 5, 20, 15, 16, 12, 31, 14, 10, 11, 14, 6, 13, 20, 9, 16, 35, 25, 10, 32, 8, 13, 26, 5, 22, 8, 5, 11, 5, 8, 7, 5, 11, 7, 7, 15, 26, 8, 33, 18, 7, 29, 6, 4, 18, 7, 11, 13, 5, 12, 8, 4, 26, 6, 31, 23, 13, 20, 7, 14, 29, 11, 8, 33, 8, 10, 9, 30, 6, 10, 13, 32, 9, 29, 4, 7, 11, 22, 30, 8, 7, 34, 24, 8, 10, 12, 21, 5, 6, 8, 5, 8, 11, 24, 8, 15, 19, 26, 5, 23, 12, 9, 7, 6, 8, 13, 36, 9, 18, 6, 26, 64, 15, 6, 7, 13, 6, 5, 11, 6, 5, 4, 41, 16, 6, 4, 5, 8, 22, 22, 10, 16, 11, 12, 20, 17, 9, 29, 27, 7, 9, 11, 10, 162, 8, 9, 18, 12, 36, 16, 7, 7, 16, 13, 8, 21, 8, 13, 4, 7, 24, 10, 14, 19, 8, 18, 12, 6, 9, 24, 11, 7, 6, 15, 4, 8, 10, 11, 16, 4, 25, 7, 22, 17, 17, 4, 12, 11, 14, 6, 40, 6, 9, 16, 18, 1, 12, 26, 6, 7, 8, 4, 5, 7, 14, 8, 20, 10, 25, 8, 28, 16, 13, 12, 10, 11, 6, 8, 12, 11, 14, 6, 14, 8, 18, 19, 4, 6, 10, 27, 14, 14, 15, 13, 3, 6, 31, 11, 12, 5, 8, 19, 6, 4, 15, 14, 27, 29, 4, 3, 4, 10, 24, 24, 9, 6, 6, 8, 7, 27, 9, 14, 7, 13, 8, 11, 9, 16, 6, 89, 14, 68, 25, 6, 34, 7, 14, 6, 8, 10, 16, 17, 8, 13, 12, 20, 8, 7, 17, 14, 12, 6, 6, 7, 10, 5, 10, 24, 8, 7, 10, 10, 10, 7, 12, 7, 7, 8, 21, 30, 12, 7, 10, 8, 7, 11, 8, 26, 5, 60, 10, 5, 7, 19, 6, 4, 12, 11, 8, 28, 7, 9, 7, 3, 15, 8, 11, 8, 2, 72, 7, 9, 31, 6, 2, 10, 18, 8, 15, 3, 18, 25, 6, 7, 38, 8, 7, 32, 10, 21, 8, 11, 9, 29, 35, 6, 26, 14, 8, 20, 7, 9, 9, 17, 77, 16, 10, 7, 6, 6, 10, 9, 7, 5, 30, 5, 32, 6, 6, 8, 14, 14, 8, 12, 6, 23, 125, 21, 22, 9, 24, 35, 9, 6, 9, 5, 9, 11, 7, 8, 12, 6, 5, 7, 9, 39, 7, 37, 1, 9, 23, 14, 23, 20, 8, 17, 22, 10, 18, 18, 9, 14, 8, 6, 8, 9, 9, 11, 12, 14, 17, 29, 21, 4, 13, 27, 12, 11, 13, 5, 15, 14, 17, 14, 15, 34, 15, 20, 9, 6, 5, 20, 30, 28, 10, 6, 14, 15, 17, 25, 23, 10, 7, 4, 20, 13, 3, 15, 7, 19, 23, 9, 5, 5, 10, 11, 8, 35, 7, 17, 6, 18, 11, 3, 6, 6, 26, 12, 5, 20, 9, 5, 26, 10, 6, 6, 11, 5, 7, 4, 18, 23, 25, 5, 14, 11, 5, 17, 30, 5, 13, 15, 8, 8, 13, 29, 13, 4, 14, 6, 17, 5, 9, 26, 6, 7, 9, 1, 5, 18, 2, 4, 25, 8, 13, 8, 5, 5, 7, 5, 12, 15, 13, 6, 20, 9, 14, 24, 1, 11, 12, 6, 4, 10, 9, 6, 7, 62, 4, 9, 12, 24, 12, 19, 15, 9, 24, 11, 96, 24, 15, 20, 5, 20, 18, 28, 98, 14, 27, 6, 4, 4, 4, 4, 13, 13, 37, 7, 14, 20, 21, 9, 7, 5, 5, 5, 9, 11, 13, 19, 3, 10, 71, 9, 22, 7, 6, 23, 6, 13, 11, 18, 11, 9, 18, 9, 5, 10, 12, 10, 13, 5, 18, 10, 109, 46, 7, 24, 11, 15, 11, 17, 6, 13, 10, 35, 4, 24, 7, 5, 4, 14, 11, 5, 11, 18, 5, 5, 9, 9, 13, 2, 20, 22, 10, 7, 4, 16, 14, 5, 14, 7, 6, 15, 8, 7, 39, 31, 5, 19, 9, 28, 16, 9, 18, 15, 24, 16, 6, 45, 12, 29, 19, 12, 11, 6, 7, 5, 62, 40, 34, 6, 4, 1, 1, 32, 13, 4, 31, 8, 11, 4, 4, 13, 11, 33, 4, 20, 4, 29, 10, 35, 6, 16, 7, 17, 2, 20, 8, 29, 6, 10, 18, 4, 22, 11, 6, 5, 54, 17, 11, 24, 12, 10, 5, 6, 8, 7, 14, 12, 22, 6, 4, 8, 8, 29, 31, 8, 6, 18, 6, 8, 11, 24, 7, 9, 7, 10, 8, 11, 7, 10, 9, 15, 6, 27, 32, 8, 25, 12, 26, 25, 13, 2, 11, 7, 1, 7, 18, 13, 28, 15, 12, 6, 6, 7, 6, 7, 52, 8, 11, 11, 11, 2, 28, 2, 5, 5, 7, 21, 12, 34, 6, 7, 11, 12, 7, 6, 18, 5, 7, 7, 11, 25, 7, 4, 18, 7, 19, 31, 10, 12, 6, 16, 4, 8, 6, 4, 5, 1, 6, 8, 6, 8, 27, 6, 21, 8, 4, 30, 10, 30, 12, 13, 11, 71, 6, 27, 12, 9, 16, 1, 11, 12, 7, 21, 22, 12, 16, 12, 15, 38, 34, 11, 11, 26, 10, 5, 6, 34, 23, 10, 19, 11, 22, 2, 11, 2, 6, 16, 14, 4, 8, 11, 7, 6, 10, 17, 7, 11, 6, 8, 23, 12, 5, 2, 25, 32, 5, 6, 6, 5, 18, 12, 14, 9, 4, 26, 15, 4, 18, 8, 9, 20, 9, 15, 10, 29, 39, 7, 7, 8, 6, 4, 4, 8, 5, 6, 22, 6, 16, 18, 26, 9, 5, 4, 23, 15, 15, 8, 30, 9, 22, 8, 13, 17, 24, 13, 22, 6, 30, 4, 8, 3, 12, 13, 9, 10, 29, 27, 10, 12, 13, 28, 21, 6, 18, 11, 2, 32, 8, 4, 5, 7, 6, 21, 4, 5, 10, 10, 29, 2, 4, 17, 36, 10, 7, 125, 16, 7, 5, 12, 10, 20, 61, 17, 33, 29, 16, 12, 29, 19, 16, 5, 29, 6, 22, 30, 3, 5, 11, 43, 10, 22, 5, 9, 9, 5, 12, 5, 8, 6, 20, 5, 9, 14, 16, 13, 6, 5, 11, 11, 26, 9, 25, 7, 35, 21, 16, 1, 27, 11, 5, 17, 10, 16, 10, 9, 4, 10, 19, 9, 8, 4, 13, 7, 6, 5, 1, 25, 6, 6, 28, 32, 11, 8, 27, 18, 10, 9, 22, 29, 4, 70, 7, 7, 21, 7, 15, 8, 5, 22, 12, 5, 19, 33, 7, 30, 3, 7, 14, 6, 22, 4, 10, 6, 52, 16, 4, 9, 8, 15, 6, 12, 33, 30, 7, 7, 29, 14, 23, 6, 24, 7, 7, 30, 13, 21, 7, 3, 9, 8, 7, 7, 6, 6, 25, 19, 6, 14, 12, 9, 66, 21, 9, 9, 15, 7, 6, 11, 20, 8, 9, 5, 8, 8, 33, 16, 13, 5, 7, 17, 7, 10, 13, 14, 56, 9, 28, 10, 36, 23, 6, 30, 8, 17, 1, 26, 7, 7, 6, 4, 15, 45, 5, 12, 5, 6, 5, 5, 9, 8, 14, 9, 5, 8, 7, 9, 23, 9, 8, 29, 11, 29, 12, 5, 22, 4, 34, 9, 27, 6, 11, 11, 1, 12, 27, 19, 9, 9, 6, 20, 4, 12, 11, 16, 7, 64, 30, 33, 31, 9, 7, 6, 13, 8, 6, 6, 17, 5, 8, 7, 15, 10, 5, 10, 25, 11, 6, 32, 5, 9, 26, 22, 10, 5, 4, 6, 17, 28, 9, 9, 6, 25, 23, 7, 9, 7, 12, 1, 6, 8, 12, 11, 7, 16, 13, 30, 12, 26, 10, 6, 7, 6, 12, 5, 10, 7, 7, 20, 13, 31, 24, 28, 11, 13, 8, 4, 9, 28, 9, 16, 13, 12, 12, 20, 9, 10, 11, 4, 21, 20, 10, 18, 3, 7, 14, 34, 34, 25, 7, 3, 24, 8, 6, 8, 18, 15, 32, 8, 5, 7, 58, 8, 19, 9, 15, 24, 5, 3, 20, 18, 5, 9, 16, 10, 10, 13, 34, 10, 26, 8, 8, 7, 5, 5, 9, 5, 7, 11, 26, 12, 24, 11, 16, 7, 6, 14, 18, 9, 25, 4, 19, 24, 11, 3, 26, 16, 10, 4, 71, 13, 17, 15, 8, 13, 23, 8, 27, 17, 15, 7, 25, 22, 19, 21, 27, 8, 30, 10, 26, 43, 24, 29, 9, 15, 13, 35, 12, 23, 17, 16, 13, 6, 6, 20, 6, 32, 34, 26, 5, 9, 9, 26, 8, 5, 9, 27, 18, 9, 6, 8, 10, 11, 19, 9, 7, 19, 11, 7, 8, 17, 4, 5, 70, 6, 19, 12, 14, 6, 24, 8, 21, 4, 22, 9, 3, 9, 4, 7, 9, 7, 13, 18, 27, 7, 12, 5, 1, 29, 13, 4, 7, 5, 11, 13, 2, 16, 5, 7, 6, 8, 7, 2, 28, 3, 6, 7, 12, 6, 26, 6, 16, 4, 14, 25, 23, 27, 8, 11, 9, 4, 6, 9, 9, 6, 17, 5, 10, 32, 6, 27, 20, 12, 17, 10, 5, 6, 16, 6, 24, 10, 13, 27, 11, 11, 4, 6, 24, 5, 37, 27, 34, 6, 29, 10, 25, 41, 17, 2, 10, 20, 11, 7, 4, 31, 19, 6, 7, 31, 10, 35, 15, 11, 5, 5, 31, 32, 11, 5, 4, 9, 5, 25, 1, 23, 7, 14, 24, 16, 18, 22, 7, 12, 6, 6, 1, 6, 36, 26, 11, 8, 5, 7, 14, 6, 40, 60, 8, 8, 16, 16, 25, 3, 9, 12, 21, 7, 19, 6, 28, 4, 5, 5, 23, 31, 21, 9, 15, 8, 9, 8, 17, 5, 34, 13, 18, 15, 6, 5, 7, 7, 7, 8, 10, 17, 15, 9, 58, 14, 8, 5, 7, 7, 7, 14, 27, 8, 18, 20, 27, 3, 9, 8, 31, 19, 13, 26, 15, 9, 3, 4, 11, 6, 7, 9, 6, 6, 8, 14, 8, 6, 13, 7, 6, 27, 12, 7, 27, 23, 4, 12, 30, 14, 8, 18, 37, 8, 7, 4, 20, 8, 15, 16, 7, 7, 6, 6, 10, 38, 20, 7, 7, 29, 19, 21, 6, 13, 13, 22, 11, 16, 10, 8, 11, 7, 5, 11, 7, 11, 6, 8, 7, 27, 27, 9, 8, 35, 30, 7, 11, 5, 7, 23, 10, 5, 9, 8, 3, 11, 8, 32, 20, 6, 7, 16, 8, 6, 4, 5, 12, 11, 19, 27, 12, 7, 8, 14, 7, 5, 38, 27, 9, 9, 10, 8, 5, 8, 8, 4, 20, 31, 12, 4, 6, 14, 8, 8, 7, 7, 7, 7, 6, 27, 5, 12, 53, 7, 7, 7, 8, 10, 54, 11, 5, 10, 13, 11, 14, 10, 7, 15, 36, 34, 7, 6, 7, 8, 8, 11, 11, 5, 23, 6, 12, 3, 6, 5, 20, 15, 16, 7, 15, 4, 25, 7, 62, 5, 36, 9, 5, 8, 19, 4, 4, 8, 34, 11, 9, 7, 8, 27, 26, 38, 11, 7, 10, 13, 40, 15, 14, 9, 8, 7, 7, 10, 7, 7, 16, 8, 6, 11, 12, 47, 5, 22, 35, 14, 7, 33, 11, 17, 24, 1, 11, 9, 9, 9, 5, 16, 19, 12, 12, 24, 16, 12, 7, 11, 11, 4, 14, 6, 9, 14, 29, 7, 20, 5, 8, 7, 34, 18, 8, 8, 14, 11, 10, 14, 9, 15, 8, 14, 5, 8, 10, 46, 39, 11, 7, 19, 6, 11, 10, 5, 4, 12, 6, 3, 6, 6, 12, 1, 10, 6, 13, 5, 9, 16, 6, 23, 15, 3, 24, 9, 4, 21, 14, 40, 19, 16, 26, 4, 8, 6, 24, 11, 5, 18, 13, 7, 4, 11, 6, 9, 18, 27, 8, 6, 5, 27, 9, 11, 24, 6, 14, 17, 34, 10, 18, 20, 12, 16, 6, 10, 6, 10, 6, 10, 10, 5, 10, 15, 39, 26, 5, 5, 10, 18, 9, 19, 14, 13, 15, 14, 24, 6, 30, 22, 30, 8, 10, 12, 15, 5, 12, 5, 15, 13, 25, 41, 11, 25, 6, 34, 21, 5, 1, 11, 8, 20, 7, 4, 7, 20, 6, 5, 6, 5, 9, 9, 8, 7, 14, 12, 16, 14, 5, 16, 5, 11, 5, 6, 13, 5, 6, 16, 6, 7, 26, 5, 6, 16, 32, 49, 6, 12, 29, 15, 8, 22, 6, 18, 15, 20, 12, 7, 17, 19, 20, 5, 7, 56, 5, 9, 32, 16, 5, 13, 31, 35, 12, 29, 6, 16, 13, 7, 9, 10, 6, 12, 11, 19, 8, 6, 7, 14, 5, 12, 37, 42, 5, 18, 20, 23, 28, 6, 32, 14, 32, 9, 4, 9, 8, 8, 17, 36, 12, 13, 7, 4, 19, 32, 19, 27, 14, 10, 12, 32, 27, 37, 19, 6, 3, 10, 21, 16, 11, 10, 11, 21, 7, 7, 10, 7, 20, 32, 23, 4, 15, 7, 14, 16, 7, 6, 9, 13, 9, 6, 17, 7, 14, 6, 13, 14, 4, 22, 7, 5, 8, 21, 5, 15, 35, 18, 9, 5, 7, 17, 17, 16, 5, 6, 18, 6, 7, 11, 11, 10, 18, 54, 13, 6, 13, 21, 25, 6, 5, 15, 5, 19, 5, 20, 17, 6, 9, 20, 32, 7, 1, 15, 5, 9, 9, 5, 37, 22, 20, 6, 18, 8, 35, 10, 5, 13, 25, 23, 27, 15, 17, 7, 7, 24, 4, 22, 13, 8, 8, 7, 4, 33, 4, 23, 12, 6, 28, 32, 16, 6, 59, 5, 1, 13, 35, 17, 16, 18, 3, 13, 8, 28, 10, 14, 15, 62, 10, 19, 16, 5, 22, 37, 6, 6, 26, 14, 15, 5, 7, 9, 4, 9, 21, 12, 5, 7, 8, 15, 22, 13, 8, 6, 7, 13, 5, 27, 33, 8, 3, 8, 24, 10, 11, 31, 7, 29, 7, 9, 32, 7, 22, 19, 10, 33, 8, 13, 11, 14, 26, 2, 23, 3, 15, 6, 9, 8, 19, 7, 28, 12, 32, 27, 5, 7, 5, 29, 15, 6, 14, 14, 14, 5, 70, 11, 7, 10, 22, 4, 6, 12, 19, 50, 10, 12, 7, 35, 20, 15, 30, 41, 6, 23, 9, 11, 8, 15, 7, 7, 5, 9, 15, 13, 10, 9, 22, 14, 11, 22, 7, 21, 8, 11, 11, 8, 33, 5, 6, 6, 14, 6, 6, 76, 12, 5, 8, 63, 13, 10, 18, 48, 49, 17, 19, 8, 15, 6, 34, 5, 39, 20, 6, 6, 6, 17, 9, 3, 2, 10, 5, 15, 27, 8, 4, 4, 21, 9, 9, 27, 30, 5, 13, 16, 22, 27, 1, 4, 4, 7, 3, 13, 5, 34, 5, 5, 12, 27, 9, 8, 11, 18, 19, 22, 22, 8, 7, 13, 5, 34, 12, 28, 8, 21, 41, 15, 8, 7, 28, 8, 10, 28, 18, 29, 8, 7, 18, 31, 25, 10, 14, 42, 9, 27, 25, 10, 30, 5, 12, 17, 6, 5, 31, 6, 12, 7, 27, 43, 11, 25, 7, 4, 8, 5, 8, 8, 25, 15, 21, 15, 19, 52, 8, 27, 14, 13, 23, 7, 21, 8, 16, 8, 23, 7, 16, 8, 18, 25, 19, 7, 5, 7, 4, 12, 6, 19, 4, 19, 15, 6, 6, 5, 7, 27, 9, 6, 13, 9, 7, 18, 8, 8, 9, 11, 7, 13, 11, 12, 9, 1, 6, 6, 6, 32, 8, 22, 24, 5, 11, 7, 14, 5, 20, 11, 12, 3, 7, 5, 5, 8, 3, 6, 10, 14, 11, 13, 25, 5, 5, 8, 12, 8, 12, 6, 9, 11, 33, 12, 7, 3, 8, 10, 3, 10, 30, 20, 30, 12, 13, 5, 2, 5, 1, 22, 7, 6, 19, 6, 12, 15, 16, 19, 13, 12, 13, 6, 24, 18, 10, 19, 15, 9, 12, 6, 12, 16, 24, 3, 16, 4, 8, 11, 6, 7, 31, 49, 6, 18, 12, 8, 12, 5, 10, 17, 25, 18, 23, 13, 10, 10, 29, 30, 11, 19, 7, 5, 10, 17, 4, 8, 21, 13, 5, 28, 11, 12, 29, 10, 14, 21, 17, 13, 17, 7, 28, 13, 9, 7, 31, 11, 14, 4, 6, 22, 9, 12, 10, 9, 32, 48, 7, 7, 21, 6, 11, 23, 40, 30, 15, 10, 9, 15, 7, 15, 17, 3, 6, 8, 2, 26, 10, 6, 14, 12, 12, 23, 7, 10, 6, 27, 6, 6, 20, 14, 14, 8, 7, 5, 12, 15, 7, 15, 9, 14, 5, 6, 23, 3, 9, 13, 1, 27, 15, 4, 10, 9, 60, 6, 16, 25, 17, 7, 15, 5, 6, 18, 19, 15, 19, 6, 9, 27, 20, 7, 5, 36, 61, 36, 16, 29, 5, 5, 8, 11, 8, 10, 12, 6, 88, 6, 3, 8, 6, 28, 17, 7, 40, 25, 7, 18, 9, 8, 33, 32, 7, 10, 9, 9, 5, 18, 36, 5, 5, 7, 18, 2, 9, 26, 18, 12, 17, 21, 14, 17, 22, 8, 9, 32, 30, 20, 15, 17, 30, 7, 7, 15, 8, 36, 2, 7, 15, 25, 30, 25, 9, 9, 26, 14, 11, 10, 11, 22, 22, 5, 5, 10, 4, 7, 8, 15, 2, 19, 19, 5, 2, 10, 13, 10, 4, 5, 5, 14, 9, 8, 47, 18, 4, 7, 6, 10, 10, 13, 12, 31, 18, 9, 38, 6, 13, 4, 13, 19, 4, 12, 13, 16, 9, 9, 14, 6, 16, 6, 28, 21, 14, 9, 27, 18, 18, 5, 19, 28, 9, 9, 23, 6, 34, 8, 27, 10, 7, 10, 19, 10, 6, 10, 22, 7, 14, 4, 6, 13, 11, 17, 20, 6, 10, 13, 44, 12, 3, 10, 19, 17, 5, 7, 4, 9, 13, 6, 16, 5, 13, 15, 33, 6, 9, 18, 96, 27, 9, 15, 27, 5, 4, 18, 9, 8, 10, 5, 10, 7, 13, 6, 32, 22, 19, 6, 13, 58, 8, 16, 20, 24, 7, 6, 17, 19, 49, 18, 27, 20, 7, 17, 16, 17, 6, 22, 16, 37, 10, 5, 20, 13, 6, 14, 6, 6, 17, 7, 6, 7, 23, 5, 15, 5, 21, 7, 9, 2, 6, 17, 11, 17, 23, 34, 11, 6, 7, 11, 10, 5, 4, 1, 4, 14, 7, 8, 30, 18, 21, 9, 8, 3, 13, 8, 23, 5, 61, 18, 6, 5, 5, 10, 8, 9, 8, 11, 9, 18, 9, 11, 24, 26, 5, 13, 8, 6, 34, 9, 5, 21, 26, 8, 9, 9, 6, 3, 27, 12, 11, 23, 6, 7, 10, 20, 15, 13, 5, 3, 7, 7, 6, 18, 25, 12, 5, 12, 63, 4, 33, 9, 1, 11, 11, 31, 8, 21, 6, 13, 34, 16, 5, 8, 12, 6, 6, 9, 23, 24, 12, 5, 9, 8, 12, 7, 22, 9, 10, 5, 7, 16, 15, 21, 17, 13, 5, 33, 17, 6, 29, 21, 9, 4, 5, 21, 33, 4, 8, 14, 6, 5, 28, 33, 5, 5, 5, 5, 10, 15, 7, 24, 8, 35, 26, 8, 6, 6, 7, 8, 13, 7, 4, 24, 27, 11, 2, 8, 12, 7, 16, 25, 23, 5, 1, 25, 30, 10, 7, 11, 11, 26, 9, 10, 10, 11, 39, 11, 22, 15, 8, 13, 15, 31, 26, 5, 18, 9, 5, 5, 4, 14, 20, 8, 13, 8, 3, 11, 8, 26, 21, 27, 9, 11, 6, 8, 36, 6, 8, 19, 9, 15, 17, 2, 17, 23, 8, 16, 18, 7, 6, 9, 4, 20, 6, 10, 6, 22, 20, 7, 6, 10, 11, 7, 6, 6, 6, 9, 8, 19, 21, 13, 15, 22, 7, 10, 5, 44, 6, 7, 8, 18, 7, 4, 24, 15, 4, 8, 18, 2, 5, 1, 15, 7, 26, 11, 14, 6, 4, 12, 7, 6, 14, 39, 28, 6, 6, 9, 6, 14, 12, 34, 27, 15, 9, 9, 30, 7, 15, 8, 26, 27, 8, 11, 14, 5, 6, 5, 13, 6, 56, 29, 33, 27, 11, 7, 7, 7, 4, 23, 12, 9, 5, 13, 11, 6, 25, 5, 61, 11, 36, 3, 4, 8, 8, 30, 10, 8, 8, 18, 9, 10, 17, 4, 20, 38, 12, 48, 4, 13, 7, 15, 18, 5, 15, 3, 8, 10, 26, 6], \"xaxis\": \"x\", \"yaxis\": \"y\"}, {\"alignmentgroup\": \"True\", \"bingroup\": \"x\", \"hoverlabel\": {\"namelength\": 0}, \"hovertemplate\": \"kategoria=spam<br>dlugosc=%{x}<br>count=%{y}\", \"legendgroup\": \"\", \"marker\": {\"color\": \"#636efa\"}, \"name\": \"\", \"nbinsx\": 100, \"offsetgroup\": \"\", \"orientation\": \"v\", \"showlegend\": false, \"type\": \"histogram\", \"x\": [28, 32, 26, 29, 26, 26, 19, 24, 29, 33, 22, 27, 28, 22, 15, 23, 22, 27, 27, 20, 26, 27, 25, 28, 32, 29, 19, 27, 24, 30, 27, 24, 10, 21, 30, 34, 25, 23, 27, 25, 27, 24, 25, 29, 23, 24, 25, 27, 24, 27, 20, 23, 22, 25, 16, 26, 22, 26, 32, 6, 18, 32, 27, 22, 26, 28, 29, 27, 27, 23, 27, 27, 25, 32, 13, 24, 28, 20, 19, 10, 27, 12, 19, 29, 19, 24, 21, 13, 17, 30, 25, 25, 22, 20, 17, 9, 7, 32, 35, 15, 24, 26, 5, 23, 24, 13, 25, 25, 18, 9, 16, 15, 23, 15, 23, 26, 27, 26, 29, 27, 23, 23, 20, 31, 27, 24, 28, 28, 28, 26, 28, 28, 24, 22, 28, 32, 28, 26, 24, 24, 20, 22, 26, 24, 26, 23, 23, 24, 24, 7, 27, 22, 24, 22, 29, 25, 19, 23, 25, 31, 26, 25, 27, 18, 25, 24, 26, 25, 11, 27, 29, 30, 19, 19, 28, 18, 30, 28, 32, 30, 8, 26, 29, 8, 31, 27, 23, 21, 13, 20, 27, 12, 23, 28, 26, 26, 26, 19, 27, 22, 24, 31, 26, 22, 25, 12, 26, 28, 29, 26, 14, 25, 25, 28, 22, 28, 24, 24, 28, 27, 28, 26, 22, 28, 20, 29, 23, 20, 24, 14, 27, 23, 14, 31, 19, 22, 25, 28, 13, 28, 16, 25, 27, 23, 25, 34, 27, 24, 22, 30, 6, 28, 28, 27, 25, 26, 28, 30, 22, 30, 20, 19, 25, 24, 22, 23, 28, 33, 30, 30, 27, 26, 27, 23, 25, 14, 25, 21, 24, 18, 28, 20, 22, 26, 26, 26, 23, 30, 28, 3, 28, 27, 20, 23, 26, 28, 29, 24, 27, 22, 29, 29, 29, 28, 24, 26, 23, 26, 25, 31, 29, 25, 28, 33, 20, 6, 26, 8, 30, 27, 26, 30, 28, 26, 15, 27, 24, 24, 13, 28, 30, 32, 28, 22, 27, 33, 28, 22, 27, 30, 18, 27, 22, 27, 24, 32, 18, 11, 24, 15, 26, 30, 25, 27, 25, 26, 28, 27, 18, 26, 25, 29, 32, 28, 25, 20, 28, 28, 29, 5, 29, 29, 16, 25, 24, 27, 28, 27, 29, 27, 19, 21, 4, 27, 25, 22, 26, 27, 32, 18, 27, 32, 10, 32, 29, 26, 24, 24, 22, 28, 8, 15, 20, 27, 25, 25, 19, 31, 24, 23, 18, 28, 14, 30, 31, 22, 28, 25, 27, 19, 30, 29, 29, 33, 23, 33, 28, 19, 17, 27, 30, 19, 28, 24, 26, 24, 26, 30, 8, 25, 17, 27, 24, 8, 23, 25, 15, 21, 25, 13, 21, 28, 28, 28, 28, 28, 12, 20, 28, 30, 17, 28, 20, 32, 12, 27, 27, 25, 30, 23, 23, 32, 29, 28, 27, 12, 28, 20, 24, 27, 22, 32, 29, 18, 32, 28, 24, 20, 25, 28, 27, 28, 16, 26, 23, 2, 25, 12, 22, 29, 25, 29, 13, 27, 24, 28, 27, 24, 27, 30, 26, 26, 6, 22, 13, 22, 24, 26, 23, 18, 24, 13, 28, 17, 22, 23, 25, 24, 29, 2, 12, 22, 13, 28, 30, 30, 24, 12, 29, 28, 24, 10, 23, 29, 24, 26, 21, 16, 25, 29, 21, 27, 26, 24, 24, 21, 24, 30, 30, 28, 23, 26, 29, 17, 26, 23, 22, 29, 27, 30, 22, 11, 31, 24, 25, 17, 14, 27, 22, 22, 27, 26, 15, 25, 13, 20, 23, 25, 26, 25, 22, 23, 25, 28, 23, 27, 29, 12, 25, 15, 23, 22, 26, 8, 11, 18, 22, 13, 12, 26, 35, 34, 30, 32, 17, 21, 28, 26, 19, 24, 29, 28, 26, 20, 23, 28, 19, 29, 27, 20, 24, 31, 25, 25, 29, 26, 28, 17, 27, 25, 23, 27, 15, 23, 23, 25, 21, 10, 29, 22, 20, 25, 23, 13, 21, 31, 25, 21, 25, 25, 30, 32, 30, 32, 24, 20, 29, 24, 24, 28, 24, 22, 31, 26, 26, 22, 22, 17, 21, 27, 22, 19, 24, 24, 19, 31, 20, 25, 28, 27, 23, 8, 27, 28, 7, 25, 29, 27, 26, 26, 30, 30, 28, 25, 25, 26, 22, 22, 28, 27, 23, 27, 23, 26, 25, 24, 28, 22, 18, 17, 27, 23, 26, 15, 27, 7, 19, 31, 12, 16, 27, 26, 5, 27, 25, 27, 28, 30, 22, 21, 25, 18, 16, 33, 28, 28, 30], \"xaxis\": \"x2\", \"yaxis\": \"y2\"}],\n",
              "                        {\"annotations\": [{\"font\": {}, \"showarrow\": false, \"text\": \"kategoria=ham\", \"x\": 0.245, \"xanchor\": \"center\", \"xref\": \"paper\", \"y\": 1.0, \"yanchor\": \"bottom\", \"yref\": \"paper\"}, {\"font\": {}, \"showarrow\": false, \"text\": \"kategoria=spam\", \"x\": 0.755, \"xanchor\": \"center\", \"xref\": \"paper\", \"y\": 1.0, \"yanchor\": \"bottom\", \"yref\": \"paper\"}], \"barmode\": \"relative\", \"height\": 400, \"legend\": {\"tracegroupgap\": 0}, \"margin\": {\"t\": 60}, \"template\": {\"data\": {\"bar\": [{\"error_x\": {\"color\": \"#2a3f5f\"}, \"error_y\": {\"color\": \"#2a3f5f\"}, \"marker\": {\"line\": {\"color\": \"#E5ECF6\", \"width\": 0.5}}, \"type\": \"bar\"}], \"barpolar\": [{\"marker\": {\"line\": {\"color\": \"#E5ECF6\", \"width\": 0.5}}, \"type\": \"barpolar\"}], \"carpet\": [{\"aaxis\": {\"endlinecolor\": \"#2a3f5f\", \"gridcolor\": \"white\", \"linecolor\": \"white\", \"minorgridcolor\": \"white\", \"startlinecolor\": \"#2a3f5f\"}, \"baxis\": {\"endlinecolor\": \"#2a3f5f\", \"gridcolor\": \"white\", \"linecolor\": \"white\", \"minorgridcolor\": \"white\", \"startlinecolor\": \"#2a3f5f\"}, \"type\": \"carpet\"}], \"choropleth\": [{\"colorbar\": {\"outlinewidth\": 0, \"ticks\": \"\"}, \"type\": \"choropleth\"}], \"contour\": [{\"colorbar\": {\"outlinewidth\": 0, \"ticks\": \"\"}, \"colorscale\": [[0.0, \"#0d0887\"], [0.1111111111111111, \"#46039f\"], [0.2222222222222222, \"#7201a8\"], [0.3333333333333333, \"#9c179e\"], [0.4444444444444444, \"#bd3786\"], [0.5555555555555556, \"#d8576b\"], [0.6666666666666666, \"#ed7953\"], [0.7777777777777778, \"#fb9f3a\"], [0.8888888888888888, \"#fdca26\"], [1.0, \"#f0f921\"]], \"type\": \"contour\"}], \"contourcarpet\": [{\"colorbar\": {\"outlinewidth\": 0, \"ticks\": \"\"}, \"type\": \"contourcarpet\"}], \"heatmap\": [{\"colorbar\": {\"outlinewidth\": 0, \"ticks\": \"\"}, \"colorscale\": [[0.0, \"#0d0887\"], [0.1111111111111111, \"#46039f\"], [0.2222222222222222, \"#7201a8\"], [0.3333333333333333, \"#9c179e\"], [0.4444444444444444, \"#bd3786\"], [0.5555555555555556, \"#d8576b\"], [0.6666666666666666, \"#ed7953\"], [0.7777777777777778, \"#fb9f3a\"], [0.8888888888888888, \"#fdca26\"], [1.0, \"#f0f921\"]], \"type\": \"heatmap\"}], \"heatmapgl\": [{\"colorbar\": {\"outlinewidth\": 0, \"ticks\": \"\"}, \"colorscale\": [[0.0, \"#0d0887\"], [0.1111111111111111, \"#46039f\"], [0.2222222222222222, \"#7201a8\"], [0.3333333333333333, \"#9c179e\"], [0.4444444444444444, \"#bd3786\"], [0.5555555555555556, \"#d8576b\"], [0.6666666666666666, \"#ed7953\"], [0.7777777777777778, \"#fb9f3a\"], [0.8888888888888888, \"#fdca26\"], [1.0, \"#f0f921\"]], \"type\": \"heatmapgl\"}], \"histogram\": [{\"marker\": {\"colorbar\": {\"outlinewidth\": 0, \"ticks\": \"\"}}, \"type\": \"histogram\"}], \"histogram2d\": [{\"colorbar\": {\"outlinewidth\": 0, \"ticks\": \"\"}, \"colorscale\": [[0.0, \"#0d0887\"], [0.1111111111111111, \"#46039f\"], [0.2222222222222222, \"#7201a8\"], [0.3333333333333333, \"#9c179e\"], [0.4444444444444444, \"#bd3786\"], [0.5555555555555556, \"#d8576b\"], [0.6666666666666666, \"#ed7953\"], [0.7777777777777778, \"#fb9f3a\"], [0.8888888888888888, \"#fdca26\"], [1.0, \"#f0f921\"]], \"type\": \"histogram2d\"}], \"histogram2dcontour\": [{\"colorbar\": {\"outlinewidth\": 0, \"ticks\": \"\"}, \"colorscale\": [[0.0, \"#0d0887\"], [0.1111111111111111, \"#46039f\"], [0.2222222222222222, \"#7201a8\"], [0.3333333333333333, \"#9c179e\"], [0.4444444444444444, \"#bd3786\"], [0.5555555555555556, \"#d8576b\"], [0.6666666666666666, \"#ed7953\"], [0.7777777777777778, \"#fb9f3a\"], [0.8888888888888888, \"#fdca26\"], [1.0, \"#f0f921\"]], \"type\": \"histogram2dcontour\"}], \"mesh3d\": [{\"colorbar\": {\"outlinewidth\": 0, \"ticks\": \"\"}, \"type\": \"mesh3d\"}], \"parcoords\": [{\"line\": {\"colorbar\": {\"outlinewidth\": 0, \"ticks\": \"\"}}, \"type\": \"parcoords\"}], \"pie\": [{\"automargin\": true, \"type\": \"pie\"}], \"scatter\": [{\"marker\": {\"colorbar\": {\"outlinewidth\": 0, \"ticks\": \"\"}}, \"type\": \"scatter\"}], \"scatter3d\": [{\"line\": {\"colorbar\": {\"outlinewidth\": 0, \"ticks\": \"\"}}, \"marker\": {\"colorbar\": {\"outlinewidth\": 0, \"ticks\": \"\"}}, \"type\": \"scatter3d\"}], \"scattercarpet\": [{\"marker\": {\"colorbar\": {\"outlinewidth\": 0, \"ticks\": \"\"}}, \"type\": \"scattercarpet\"}], \"scattergeo\": [{\"marker\": {\"colorbar\": {\"outlinewidth\": 0, \"ticks\": \"\"}}, \"type\": \"scattergeo\"}], \"scattergl\": [{\"marker\": {\"colorbar\": {\"outlinewidth\": 0, \"ticks\": \"\"}}, \"type\": \"scattergl\"}], \"scattermapbox\": [{\"marker\": {\"colorbar\": {\"outlinewidth\": 0, \"ticks\": \"\"}}, \"type\": \"scattermapbox\"}], \"scatterpolar\": [{\"marker\": {\"colorbar\": {\"outlinewidth\": 0, \"ticks\": \"\"}}, \"type\": \"scatterpolar\"}], \"scatterpolargl\": [{\"marker\": {\"colorbar\": {\"outlinewidth\": 0, \"ticks\": \"\"}}, \"type\": \"scatterpolargl\"}], \"scatterternary\": [{\"marker\": {\"colorbar\": {\"outlinewidth\": 0, \"ticks\": \"\"}}, \"type\": \"scatterternary\"}], \"surface\": [{\"colorbar\": {\"outlinewidth\": 0, \"ticks\": \"\"}, \"colorscale\": [[0.0, \"#0d0887\"], [0.1111111111111111, \"#46039f\"], [0.2222222222222222, \"#7201a8\"], [0.3333333333333333, \"#9c179e\"], [0.4444444444444444, \"#bd3786\"], [0.5555555555555556, \"#d8576b\"], [0.6666666666666666, \"#ed7953\"], [0.7777777777777778, \"#fb9f3a\"], [0.8888888888888888, \"#fdca26\"], [1.0, \"#f0f921\"]], \"type\": \"surface\"}], \"table\": [{\"cells\": {\"fill\": {\"color\": \"#EBF0F8\"}, \"line\": {\"color\": \"white\"}}, \"header\": {\"fill\": {\"color\": \"#C8D4E3\"}, \"line\": {\"color\": \"white\"}}, \"type\": \"table\"}]}, \"layout\": {\"annotationdefaults\": {\"arrowcolor\": \"#2a3f5f\", \"arrowhead\": 0, \"arrowwidth\": 1}, \"coloraxis\": {\"colorbar\": {\"outlinewidth\": 0, \"ticks\": \"\"}}, \"colorscale\": {\"diverging\": [[0, \"#8e0152\"], [0.1, \"#c51b7d\"], [0.2, \"#de77ae\"], [0.3, \"#f1b6da\"], [0.4, \"#fde0ef\"], [0.5, \"#f7f7f7\"], [0.6, \"#e6f5d0\"], [0.7, \"#b8e186\"], [0.8, \"#7fbc41\"], [0.9, \"#4d9221\"], [1, \"#276419\"]], \"sequential\": [[0.0, \"#0d0887\"], [0.1111111111111111, \"#46039f\"], [0.2222222222222222, \"#7201a8\"], [0.3333333333333333, \"#9c179e\"], [0.4444444444444444, \"#bd3786\"], [0.5555555555555556, \"#d8576b\"], [0.6666666666666666, \"#ed7953\"], [0.7777777777777778, \"#fb9f3a\"], [0.8888888888888888, \"#fdca26\"], [1.0, \"#f0f921\"]], \"sequentialminus\": [[0.0, \"#0d0887\"], [0.1111111111111111, \"#46039f\"], [0.2222222222222222, \"#7201a8\"], [0.3333333333333333, \"#9c179e\"], [0.4444444444444444, \"#bd3786\"], [0.5555555555555556, \"#d8576b\"], [0.6666666666666666, \"#ed7953\"], [0.7777777777777778, \"#fb9f3a\"], [0.8888888888888888, \"#fdca26\"], [1.0, \"#f0f921\"]]}, \"colorway\": [\"#636efa\", \"#EF553B\", \"#00cc96\", \"#ab63fa\", \"#FFA15A\", \"#19d3f3\", \"#FF6692\", \"#B6E880\", \"#FF97FF\", \"#FECB52\"], \"font\": {\"color\": \"#2a3f5f\"}, \"geo\": {\"bgcolor\": \"white\", \"lakecolor\": \"white\", \"landcolor\": \"#E5ECF6\", \"showlakes\": true, \"showland\": true, \"subunitcolor\": \"white\"}, \"hoverlabel\": {\"align\": \"left\"}, \"hovermode\": \"closest\", \"mapbox\": {\"style\": \"light\"}, \"paper_bgcolor\": \"white\", \"plot_bgcolor\": \"#E5ECF6\", \"polar\": {\"angularaxis\": {\"gridcolor\": \"white\", \"linecolor\": \"white\", \"ticks\": \"\"}, \"bgcolor\": \"#E5ECF6\", \"radialaxis\": {\"gridcolor\": \"white\", \"linecolor\": \"white\", \"ticks\": \"\"}}, \"scene\": {\"xaxis\": {\"backgroundcolor\": \"#E5ECF6\", \"gridcolor\": \"white\", \"gridwidth\": 2, \"linecolor\": \"white\", \"showbackground\": true, \"ticks\": \"\", \"zerolinecolor\": \"white\"}, \"yaxis\": {\"backgroundcolor\": \"#E5ECF6\", \"gridcolor\": \"white\", \"gridwidth\": 2, \"linecolor\": \"white\", \"showbackground\": true, \"ticks\": \"\", \"zerolinecolor\": \"white\"}, \"zaxis\": {\"backgroundcolor\": \"#E5ECF6\", \"gridcolor\": \"white\", \"gridwidth\": 2, \"linecolor\": \"white\", \"showbackground\": true, \"ticks\": \"\", \"zerolinecolor\": \"white\"}}, \"shapedefaults\": {\"line\": {\"color\": \"#2a3f5f\"}}, \"ternary\": {\"aaxis\": {\"gridcolor\": \"white\", \"linecolor\": \"white\", \"ticks\": \"\"}, \"baxis\": {\"gridcolor\": \"white\", \"linecolor\": \"white\", \"ticks\": \"\"}, \"bgcolor\": \"#E5ECF6\", \"caxis\": {\"gridcolor\": \"white\", \"linecolor\": \"white\", \"ticks\": \"\"}}, \"title\": {\"x\": 0.05}, \"xaxis\": {\"automargin\": true, \"gridcolor\": \"white\", \"linecolor\": \"white\", \"ticks\": \"\", \"title\": {\"standoff\": 15}, \"zerolinecolor\": \"white\", \"zerolinewidth\": 2}, \"yaxis\": {\"automargin\": true, \"gridcolor\": \"white\", \"linecolor\": \"white\", \"ticks\": \"\", \"title\": {\"standoff\": 15}, \"zerolinecolor\": \"white\", \"zerolinewidth\": 2}}}, \"width\": 800, \"xaxis\": {\"anchor\": \"y\", \"domain\": [0.0, 0.49], \"range\": [0, 50], \"title\": {\"text\": \"dlugosc\"}}, \"xaxis2\": {\"anchor\": \"y2\", \"domain\": [0.51, 1.0], \"matches\": \"x\", \"range\": [0, 50], \"title\": {\"text\": \"dlugosc\"}}, \"yaxis\": {\"anchor\": \"x\", \"domain\": [0.0, 1.0], \"title\": {\"text\": \"count\"}}, \"yaxis2\": {\"anchor\": \"x2\", \"domain\": [0.0, 1.0], \"matches\": \"y\", \"showticklabels\": false}},\n",
              "                        {\"responsive\": true}\n",
              "                    ).then(function(){\n",
              "                            \n",
              "var gd = document.getElementById('aaecba78-0ed5-4054-9146-3d1012565729');\n",
              "var x = new MutationObserver(function (mutations, observer) {{\n",
              "        var display = window.getComputedStyle(gd).display;\n",
              "        if (!display || display === 'none') {{\n",
              "            console.log([gd, 'removed!']);\n",
              "            Plotly.purge(gd);\n",
              "            observer.disconnect();\n",
              "        }}\n",
              "}});\n",
              "\n",
              "// Listen for the removal of the full notebook cells\n",
              "var notebookContainer = gd.closest('#notebook-container');\n",
              "if (notebookContainer) {{\n",
              "    x.observe(notebookContainer, {childList: true});\n",
              "}}\n",
              "\n",
              "// Listen for the clearing of the current output cell\n",
              "var outputEl = gd.closest('.output');\n",
              "if (outputEl) {{\n",
              "    x.observe(outputEl, {childList: true});\n",
              "}}\n",
              "\n",
              "                        })\n",
              "                };\n",
              "                \n",
              "            </script>\n",
              "        </div>\n",
              "</body>\n",
              "</html>"
            ]
          },
          "metadata": {
            "tags": []
          }
        }
      ]
    },
    {
      "cell_type": "code",
      "metadata": {
        "id": "OIvE08DvwHyg",
        "colab_type": "code",
        "colab": {}
      },
      "source": [
        ""
      ],
      "execution_count": 0,
      "outputs": []
    }
  ]
}