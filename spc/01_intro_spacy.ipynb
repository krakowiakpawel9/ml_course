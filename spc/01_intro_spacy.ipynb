{
  "nbformat": 4,
  "nbformat_minor": 0,
  "metadata": {
    "colab": {
      "name": "01_preprocessing.ipynb",
      "provenance": [],
      "include_colab_link": true
    },
    "kernelspec": {
      "name": "python3",
      "display_name": "Python 3"
    }
  },
  "cells": [
    {
      "cell_type": "markdown",
      "metadata": {
        "id": "view-in-github",
        "colab_type": "text"
      },
      "source": [
        "<a href=\"https://colab.research.google.com/github/krakowiakpawel9/ml_course/blob/master/spc/01_intro_spacy.ipynb\" target=\"_parent\"><img src=\"https://colab.research.google.com/assets/colab-badge.svg\" alt=\"Open In Colab\"/></a>"
      ]
    },
    {
      "cell_type": "markdown",
      "metadata": {
        "id": "UbjsT92Xd3z1",
        "colab_type": "text"
      },
      "source": [
        "* @author: krakowiakpawel9@gmail.com  \n",
        "* @site: e-smartdata.org\n",
        "\n",
        "### spaCy\n",
        "Strona biblioteki: [https://spacy.io/](https://spacy.io/)  \n",
        "\n",
        "Podstawowa biblioteka do przetwarzania języka naturalnego w języku Python.\n",
        "\n",
        "Aby zainstalować bibliotekę spaCy, użyj polecenia poniżej:\n",
        "```\n",
        "!pip install spacy\n",
        "```\n",
        "Aby zaktualizować do najnowszej wersji użyj polecenia poniżej:\n",
        "```\n",
        "!pip install --upgrade spacy\n",
        "```\n",
        "Kurs stworzony w oparciu o wersję `2.1.9`\n",
        "\n",
        "### Spis treści:\n",
        "1. [Import bibliotek](#0)\n",
        "2. [Klasa Vocab](#1)\n",
        "3. [Klasa StringStore](#2)\n",
        "4. [Klasa Language](#3)\n",
        "5. [Klasa Doc](#4)\n",
        "6. [Klasa Token](#5)\n",
        "7. [Klasa Span](#6)\n",
        "\n"
      ]
    },
    {
      "cell_type": "markdown",
      "metadata": {
        "id": "YkIALacsUnj7",
        "colab_type": "text"
      },
      "source": [
        "### <a name='0'></a> Import bibliotek"
      ]
    },
    {
      "cell_type": "code",
      "metadata": {
        "id": "4LkA1g0SIZ5C",
        "colab_type": "code",
        "outputId": "e77bbda1-2d77-4889-8559-45c0c7aaf81a",
        "colab": {
          "base_uri": "https://localhost:8080/",
          "height": 34
        }
      },
      "source": [
        "import numpy as np\n",
        "import spacy\n",
        "\n",
        "np.set_printoptions(precision=6, linewidth=200)\n",
        "spacy.__version__"
      ],
      "execution_count": 59,
      "outputs": [
        {
          "output_type": "execute_result",
          "data": {
            "text/plain": [
              "'2.1.9'"
            ]
          },
          "metadata": {
            "tags": []
          },
          "execution_count": 59
        }
      ]
    },
    {
      "cell_type": "markdown",
      "metadata": {
        "id": "-4nH91FBLWEq",
        "colab_type": "text"
      },
      "source": [
        "### <a name='1'></a> Klasa Vocab\n",
        "Vocab - tworzy słownik dla danego języka"
      ]
    },
    {
      "cell_type": "code",
      "metadata": {
        "id": "fOwWqYZdIbuE",
        "colab_type": "code",
        "colab": {}
      },
      "source": [
        "from spacy.vocab import Vocab\n",
        "\n",
        "Vocab?"
      ],
      "execution_count": 0,
      "outputs": []
    },
    {
      "cell_type": "code",
      "metadata": {
        "id": "mgULM4dGI7ez",
        "colab_type": "code",
        "outputId": "2941277a-f73f-44cd-d2ea-19a5584f5638",
        "colab": {
          "base_uri": "https://localhost:8080/",
          "height": 34
        }
      },
      "source": [
        "vocab = Vocab(strings=['hello', 'world'])\n",
        "vocab"
      ],
      "execution_count": 3,
      "outputs": [
        {
          "output_type": "execute_result",
          "data": {
            "text/plain": [
              "<spacy.vocab.Vocab at 0x7f7e21c53f48>"
            ]
          },
          "metadata": {
            "tags": []
          },
          "execution_count": 3
        }
      ]
    },
    {
      "cell_type": "code",
      "metadata": {
        "id": "fJdZNKbnJL3t",
        "colab_type": "code",
        "outputId": "99d63de2-74e5-463a-b418-c0faf969915a",
        "colab": {
          "base_uri": "https://localhost:8080/",
          "height": 34
        }
      },
      "source": [
        "len(vocab)"
      ],
      "execution_count": 4,
      "outputs": [
        {
          "output_type": "execute_result",
          "data": {
            "text/plain": [
              "2"
            ]
          },
          "metadata": {
            "tags": []
          },
          "execution_count": 4
        }
      ]
    },
    {
      "cell_type": "code",
      "metadata": {
        "id": "Ui8zchFWJ-oj",
        "colab_type": "code",
        "outputId": "b71561d9-ae31-468b-ae0b-1cafcee1ae3a",
        "colab": {
          "base_uri": "https://localhost:8080/",
          "height": 34
        }
      },
      "source": [
        "vocab.strings"
      ],
      "execution_count": 5,
      "outputs": [
        {
          "output_type": "execute_result",
          "data": {
            "text/plain": [
              "<spacy.strings.StringStore at 0x7f7e71e90268>"
            ]
          },
          "metadata": {
            "tags": []
          },
          "execution_count": 5
        }
      ]
    },
    {
      "cell_type": "markdown",
      "metadata": {
        "id": "sxMfocVILYWi",
        "colab_type": "text"
      },
      "source": [
        "### <a name='2'></a> Klasa StringStore\n",
        "StringStore - wyszukuje ciągi znaków za pomocą 64-bitowych hashy. "
      ]
    },
    {
      "cell_type": "code",
      "metadata": {
        "id": "HMUYt6uKK2ia",
        "colab_type": "code",
        "colab": {}
      },
      "source": [
        "from spacy.strings import StringStore\n",
        "\n",
        "StringStore?"
      ],
      "execution_count": 0,
      "outputs": []
    },
    {
      "cell_type": "code",
      "metadata": {
        "id": "DqmQxHlpLhte",
        "colab_type": "code",
        "outputId": "ddce0cf3-750b-4527-8623-c9617c530233",
        "colab": {
          "base_uri": "https://localhost:8080/",
          "height": 34
        }
      },
      "source": [
        "stringstore = StringStore(['python', 'java'])\n",
        "stringstore"
      ],
      "execution_count": 7,
      "outputs": [
        {
          "output_type": "execute_result",
          "data": {
            "text/plain": [
              "<spacy.strings.StringStore at 0x7f7e2027f730>"
            ]
          },
          "metadata": {
            "tags": []
          },
          "execution_count": 7
        }
      ]
    },
    {
      "cell_type": "code",
      "metadata": {
        "id": "sZqP-POfL417",
        "colab_type": "code",
        "outputId": "aeafa4fe-adc9-4f24-9660-097966b351f2",
        "colab": {
          "base_uri": "https://localhost:8080/",
          "height": 34
        }
      },
      "source": [
        "len(stringstore)"
      ],
      "execution_count": 8,
      "outputs": [
        {
          "output_type": "execute_result",
          "data": {
            "text/plain": [
              "2"
            ]
          },
          "metadata": {
            "tags": []
          },
          "execution_count": 8
        }
      ]
    },
    {
      "cell_type": "code",
      "metadata": {
        "id": "CyAi_bi_L7pj",
        "colab_type": "code",
        "outputId": "96af1d0c-2f85-419f-adf1-47085276745c",
        "colab": {
          "base_uri": "https://localhost:8080/",
          "height": 34
        }
      },
      "source": [
        "stringstore['python']"
      ],
      "execution_count": 9,
      "outputs": [
        {
          "output_type": "execute_result",
          "data": {
            "text/plain": [
              "17956708691072489762"
            ]
          },
          "metadata": {
            "tags": []
          },
          "execution_count": 9
        }
      ]
    },
    {
      "cell_type": "code",
      "metadata": {
        "id": "hI56ycxLL-uy",
        "colab_type": "code",
        "outputId": "48d83d64-c1c3-40a4-b9f8-1809fd871091",
        "colab": {
          "base_uri": "https://localhost:8080/",
          "height": 34
        }
      },
      "source": [
        "stringstore['java']"
      ],
      "execution_count": 10,
      "outputs": [
        {
          "output_type": "execute_result",
          "data": {
            "text/plain": [
              "1049729868293614729"
            ]
          },
          "metadata": {
            "tags": []
          },
          "execution_count": 10
        }
      ]
    },
    {
      "cell_type": "code",
      "metadata": {
        "id": "5-TyL0QDMA2Z",
        "colab_type": "code",
        "outputId": "ef95e28d-dd39-4c1d-9cbd-8ca3fb91fedd",
        "colab": {
          "base_uri": "https://localhost:8080/",
          "height": 34
        }
      },
      "source": [
        "'scala' in stringstore"
      ],
      "execution_count": 11,
      "outputs": [
        {
          "output_type": "execute_result",
          "data": {
            "text/plain": [
              "False"
            ]
          },
          "metadata": {
            "tags": []
          },
          "execution_count": 11
        }
      ]
    },
    {
      "cell_type": "code",
      "metadata": {
        "id": "9i-77uC_MLSj",
        "colab_type": "code",
        "outputId": "0def47e3-7046-4008-cd9c-38765ca419a1",
        "colab": {
          "base_uri": "https://localhost:8080/",
          "height": 34
        }
      },
      "source": [
        "'java' in stringstore"
      ],
      "execution_count": 12,
      "outputs": [
        {
          "output_type": "execute_result",
          "data": {
            "text/plain": [
              "True"
            ]
          },
          "metadata": {
            "tags": []
          },
          "execution_count": 12
        }
      ]
    },
    {
      "cell_type": "code",
      "metadata": {
        "id": "hJzkWjb-MM-v",
        "colab_type": "code",
        "outputId": "54612bf4-d613-4eec-fd16-66fd216a8eab",
        "colab": {
          "base_uri": "https://localhost:8080/",
          "height": 52
        }
      },
      "source": [
        "for string in stringstore:\n",
        "    print(f'{type(string)}: {string}')"
      ],
      "execution_count": 13,
      "outputs": [
        {
          "output_type": "stream",
          "text": [
            "<class 'str'>: python\n",
            "<class 'str'>: java\n"
          ],
          "name": "stdout"
        }
      ]
    },
    {
      "cell_type": "code",
      "metadata": {
        "id": "zrI-cP5KMRK_",
        "colab_type": "code",
        "outputId": "21652894-d1b9-42fa-c2ce-cd821fa76d7e",
        "colab": {
          "base_uri": "https://localhost:8080/",
          "height": 34
        }
      },
      "source": [
        "stringstore.add('scala')"
      ],
      "execution_count": 14,
      "outputs": [
        {
          "output_type": "execute_result",
          "data": {
            "text/plain": [
              "13115865354982139976"
            ]
          },
          "metadata": {
            "tags": []
          },
          "execution_count": 14
        }
      ]
    },
    {
      "cell_type": "code",
      "metadata": {
        "id": "RDS9bOHUMzF8",
        "colab_type": "code",
        "outputId": "6b99940b-29ec-4eb0-86aa-3044c93b6d3c",
        "colab": {
          "base_uri": "https://localhost:8080/",
          "height": 34
        }
      },
      "source": [
        "len(stringstore)"
      ],
      "execution_count": 15,
      "outputs": [
        {
          "output_type": "execute_result",
          "data": {
            "text/plain": [
              "3"
            ]
          },
          "metadata": {
            "tags": []
          },
          "execution_count": 15
        }
      ]
    },
    {
      "cell_type": "code",
      "metadata": {
        "id": "6iFShowrM1BQ",
        "colab_type": "code",
        "outputId": "9c620002-a471-4da9-a5a6-a8f305bcdf02",
        "colab": {
          "base_uri": "https://localhost:8080/",
          "height": 34
        }
      },
      "source": [
        "stringstore[13115865354982139976]"
      ],
      "execution_count": 16,
      "outputs": [
        {
          "output_type": "execute_result",
          "data": {
            "text/plain": [
              "'scala'"
            ]
          },
          "metadata": {
            "tags": []
          },
          "execution_count": 16
        }
      ]
    },
    {
      "cell_type": "markdown",
      "metadata": {
        "id": "DsuCpbypQV-E",
        "colab_type": "text"
      },
      "source": [
        "Funkcja hashowania"
      ]
    },
    {
      "cell_type": "code",
      "metadata": {
        "id": "WLOXEAn5PgJ1",
        "colab_type": "code",
        "outputId": "562b3488-fdba-492c-e650-51e6b5fe1495",
        "colab": {
          "base_uri": "https://localhost:8080/",
          "height": 34
        }
      },
      "source": [
        "from spacy.strings import hash_string\n",
        "\n",
        "hash_string('scala')"
      ],
      "execution_count": 17,
      "outputs": [
        {
          "output_type": "execute_result",
          "data": {
            "text/plain": [
              "13115865354982139976"
            ]
          },
          "metadata": {
            "tags": []
          },
          "execution_count": 17
        }
      ]
    },
    {
      "cell_type": "code",
      "metadata": {
        "id": "YEj7USVpPtHM",
        "colab_type": "code",
        "outputId": "2ac666d2-3d6f-4368-eecc-f47737354ba3",
        "colab": {
          "base_uri": "https://localhost:8080/",
          "height": 34
        }
      },
      "source": [
        "hash_string('apple')"
      ],
      "execution_count": 18,
      "outputs": [
        {
          "output_type": "execute_result",
          "data": {
            "text/plain": [
              "8566208034543834098"
            ]
          },
          "metadata": {
            "tags": []
          },
          "execution_count": 18
        }
      ]
    },
    {
      "cell_type": "markdown",
      "metadata": {
        "id": "g7qK69roQeSm",
        "colab_type": "text"
      },
      "source": [
        "### <a name='3'></a> Klasa Language"
      ]
    },
    {
      "cell_type": "code",
      "metadata": {
        "id": "mmjDQB16Pwem",
        "colab_type": "code",
        "colab": {}
      },
      "source": [
        "from spacy.language import Language\n",
        "\n",
        "Language?"
      ],
      "execution_count": 0,
      "outputs": []
    },
    {
      "cell_type": "code",
      "metadata": {
        "id": "PWEZnwuNQ9XV",
        "colab_type": "code",
        "outputId": "406ca023-58fc-4f15-ce46-445d017c23a9",
        "colab": {
          "base_uri": "https://localhost:8080/",
          "height": 34
        }
      },
      "source": [
        "nlp = Language(Vocab())\n",
        "nlp"
      ],
      "execution_count": 20,
      "outputs": [
        {
          "output_type": "execute_result",
          "data": {
            "text/plain": [
              "<spacy.language.Language at 0x7f7e8f763898>"
            ]
          },
          "metadata": {
            "tags": []
          },
          "execution_count": 20
        }
      ]
    },
    {
      "cell_type": "code",
      "metadata": {
        "id": "TH9Pvc5oRE0e",
        "colab_type": "code",
        "colab": {}
      },
      "source": [
        "from spacy.lang.en import English\n",
        "\n",
        "English?"
      ],
      "execution_count": 0,
      "outputs": []
    },
    {
      "cell_type": "code",
      "metadata": {
        "id": "wiwc1kfzRLzz",
        "colab_type": "code",
        "outputId": "80cf23c2-b615-46a7-f63c-42223e6655a9",
        "colab": {
          "base_uri": "https://localhost:8080/",
          "height": 34
        }
      },
      "source": [
        "nlp = English()\n",
        "nlp"
      ],
      "execution_count": 22,
      "outputs": [
        {
          "output_type": "execute_result",
          "data": {
            "text/plain": [
              "<spacy.lang.en.English at 0x7f7e1f2a7ac8>"
            ]
          },
          "metadata": {
            "tags": []
          },
          "execution_count": 22
        }
      ]
    },
    {
      "cell_type": "code",
      "metadata": {
        "id": "wqFOGSE9RbKH",
        "colab_type": "code",
        "outputId": "e1c531b5-938f-4f98-a5fc-903818a2925b",
        "colab": {
          "base_uri": "https://localhost:8080/",
          "height": 34
        }
      },
      "source": [
        "nlp('Python is becoming more and more popular.')"
      ],
      "execution_count": 23,
      "outputs": [
        {
          "output_type": "execute_result",
          "data": {
            "text/plain": [
              "Python is becoming more and more popular."
            ]
          },
          "metadata": {
            "tags": []
          },
          "execution_count": 23
        }
      ]
    },
    {
      "cell_type": "code",
      "metadata": {
        "id": "1FUqazp1Rk4e",
        "colab_type": "code",
        "outputId": "a8abb545-74e8-44b1-aafa-90a491857b61",
        "colab": {
          "base_uri": "https://localhost:8080/",
          "height": 34
        }
      },
      "source": [
        "doc = nlp('Python is becoming more and more popular.')\n",
        "doc"
      ],
      "execution_count": 24,
      "outputs": [
        {
          "output_type": "execute_result",
          "data": {
            "text/plain": [
              "Python is becoming more and more popular."
            ]
          },
          "metadata": {
            "tags": []
          },
          "execution_count": 24
        }
      ]
    },
    {
      "cell_type": "code",
      "metadata": {
        "id": "iAxzBUQRSqSJ",
        "colab_type": "code",
        "outputId": "125ee70c-3d0c-4cb0-a8bb-00d3f10f7bec",
        "colab": {
          "base_uri": "https://localhost:8080/",
          "height": 34
        }
      },
      "source": [
        "nlp.vocab"
      ],
      "execution_count": 25,
      "outputs": [
        {
          "output_type": "execute_result",
          "data": {
            "text/plain": [
              "<spacy.vocab.Vocab at 0x7f7e1dc59480>"
            ]
          },
          "metadata": {
            "tags": []
          },
          "execution_count": 25
        }
      ]
    },
    {
      "cell_type": "code",
      "metadata": {
        "id": "3_JXLIXTTBQz",
        "colab_type": "code",
        "outputId": "6a13447c-2e4a-46c5-f2f3-905da126511d",
        "colab": {
          "base_uri": "https://localhost:8080/",
          "height": 34
        }
      },
      "source": [
        "nlp.lang"
      ],
      "execution_count": 26,
      "outputs": [
        {
          "output_type": "execute_result",
          "data": {
            "text/plain": [
              "'en'"
            ]
          },
          "metadata": {
            "tags": []
          },
          "execution_count": 26
        }
      ]
    },
    {
      "cell_type": "code",
      "metadata": {
        "id": "TdbGb9MPTRGZ",
        "colab_type": "code",
        "outputId": "79316581-529c-4a62-d90b-983f1b284661",
        "colab": {
          "base_uri": "https://localhost:8080/",
          "height": 210
        }
      },
      "source": [
        "nlp.meta"
      ],
      "execution_count": 27,
      "outputs": [
        {
          "output_type": "execute_result",
          "data": {
            "text/plain": [
              "{'author': '',\n",
              " 'description': '',\n",
              " 'email': '',\n",
              " 'lang': 'en',\n",
              " 'license': '',\n",
              " 'name': 'model',\n",
              " 'pipeline': [],\n",
              " 'spacy_version': '>=2.1.9',\n",
              " 'url': '',\n",
              " 'vectors': {'keys': 0, 'name': None, 'vectors': 0, 'width': 0},\n",
              " 'version': '0.0.0'}"
            ]
          },
          "metadata": {
            "tags": []
          },
          "execution_count": 27
        }
      ]
    },
    {
      "cell_type": "markdown",
      "metadata": {
        "id": "yMppQVRyTd9o",
        "colab_type": "text"
      },
      "source": [
        "### <a name='4'></a> Klasa Doc\n",
        "Kontener do przechowywania informacji językowych. Sekwencja Tokenów."
      ]
    },
    {
      "cell_type": "code",
      "metadata": {
        "id": "1SqQixNVTViz",
        "colab_type": "code",
        "outputId": "68089059-5e2a-4a8d-f8d6-3cc2144410e9",
        "colab": {
          "base_uri": "https://localhost:8080/",
          "height": 34
        }
      },
      "source": [
        "type(doc)"
      ],
      "execution_count": 28,
      "outputs": [
        {
          "output_type": "execute_result",
          "data": {
            "text/plain": [
              "spacy.tokens.doc.Doc"
            ]
          },
          "metadata": {
            "tags": []
          },
          "execution_count": 28
        }
      ]
    },
    {
      "cell_type": "code",
      "metadata": {
        "id": "fKv7pnDCTdGC",
        "colab_type": "code",
        "colab": {
          "base_uri": "https://localhost:8080/",
          "height": 34
        },
        "outputId": "5201868c-530f-4333-f1a2-4dcd9dfd579b"
      },
      "source": [
        "doc = nlp('Sample Doc object')\n",
        "doc"
      ],
      "execution_count": 29,
      "outputs": [
        {
          "output_type": "execute_result",
          "data": {
            "text/plain": [
              "Sample Doc object"
            ]
          },
          "metadata": {
            "tags": []
          },
          "execution_count": 29
        }
      ]
    },
    {
      "cell_type": "code",
      "metadata": {
        "id": "9XaGYiczdLp_",
        "colab_type": "code",
        "colab": {}
      },
      "source": [
        "from spacy.tokens import Doc\n",
        "\n",
        "Doc?"
      ],
      "execution_count": 0,
      "outputs": []
    },
    {
      "cell_type": "code",
      "metadata": {
        "id": "YvVyWwACdTFb",
        "colab_type": "code",
        "colab": {
          "base_uri": "https://localhost:8080/",
          "height": 34
        },
        "outputId": "445e540d-74a3-48ff-e630-524714669850"
      },
      "source": [
        "doc = Doc(nlp.vocab, words=['Hello', 'world', 'in', 'spaCy', '!'], spaces=[True, True, True, False, False])\n",
        "doc"
      ],
      "execution_count": 31,
      "outputs": [
        {
          "output_type": "execute_result",
          "data": {
            "text/plain": [
              "Hello world in spaCy!"
            ]
          },
          "metadata": {
            "tags": []
          },
          "execution_count": 31
        }
      ]
    },
    {
      "cell_type": "code",
      "metadata": {
        "id": "SOvOtSG-dd60",
        "colab_type": "code",
        "colab": {
          "base_uri": "https://localhost:8080/",
          "height": 34
        },
        "outputId": "407cb83d-3736-4287-de73-c94b5d4c868e"
      },
      "source": [
        "doc[0]"
      ],
      "execution_count": 32,
      "outputs": [
        {
          "output_type": "execute_result",
          "data": {
            "text/plain": [
              "Hello"
            ]
          },
          "metadata": {
            "tags": []
          },
          "execution_count": 32
        }
      ]
    },
    {
      "cell_type": "code",
      "metadata": {
        "id": "6Fd0vJgyd9A1",
        "colab_type": "code",
        "colab": {
          "base_uri": "https://localhost:8080/",
          "height": 34
        },
        "outputId": "a90c5cce-d928-48bf-9aba-766d47540de3"
      },
      "source": [
        "doc[-1]"
      ],
      "execution_count": 33,
      "outputs": [
        {
          "output_type": "execute_result",
          "data": {
            "text/plain": [
              "!"
            ]
          },
          "metadata": {
            "tags": []
          },
          "execution_count": 33
        }
      ]
    },
    {
      "cell_type": "code",
      "metadata": {
        "id": "Yu1svKvSd-KS",
        "colab_type": "code",
        "colab": {
          "base_uri": "https://localhost:8080/",
          "height": 34
        },
        "outputId": "15553f07-18d3-446e-9201-2e978e179168"
      },
      "source": [
        "type(doc[0])"
      ],
      "execution_count": 34,
      "outputs": [
        {
          "output_type": "execute_result",
          "data": {
            "text/plain": [
              "spacy.tokens.token.Token"
            ]
          },
          "metadata": {
            "tags": []
          },
          "execution_count": 34
        }
      ]
    },
    {
      "cell_type": "code",
      "metadata": {
        "id": "m5qfZ1nxevPQ",
        "colab_type": "code",
        "colab": {
          "base_uri": "https://localhost:8080/",
          "height": 34
        },
        "outputId": "a7305271-6ed0-44cd-a77c-0440922c1c7d"
      },
      "source": [
        "len(doc)"
      ],
      "execution_count": 35,
      "outputs": [
        {
          "output_type": "execute_result",
          "data": {
            "text/plain": [
              "5"
            ]
          },
          "metadata": {
            "tags": []
          },
          "execution_count": 35
        }
      ]
    },
    {
      "cell_type": "code",
      "metadata": {
        "id": "vSLEt-p0km63",
        "colab_type": "code",
        "colab": {}
      },
      "source": [
        "doc.lang_"
      ],
      "execution_count": 0,
      "outputs": []
    },
    {
      "cell_type": "code",
      "metadata": {
        "id": "fIt_qDEJeCO-",
        "colab_type": "code",
        "colab": {
          "base_uri": "https://localhost:8080/",
          "height": 105
        },
        "outputId": "23825d1c-8326-4e18-f65f-b5072e9aed65"
      },
      "source": [
        "for token in doc:\n",
        "    print(f'type: {type(token)}: {token}')"
      ],
      "execution_count": 36,
      "outputs": [
        {
          "output_type": "stream",
          "text": [
            "type: <class 'spacy.tokens.token.Token'>: Hello\n",
            "type: <class 'spacy.tokens.token.Token'>: world\n",
            "type: <class 'spacy.tokens.token.Token'>: in\n",
            "type: <class 'spacy.tokens.token.Token'>: spaCy\n",
            "type: <class 'spacy.tokens.token.Token'>: !\n"
          ],
          "name": "stdout"
        }
      ]
    },
    {
      "cell_type": "code",
      "metadata": {
        "id": "dEj082XSeFes",
        "colab_type": "code",
        "colab": {
          "base_uri": "https://localhost:8080/",
          "height": 34
        },
        "outputId": "d539fbf3-ec81-42a8-e3ed-8c9fa2b621ea"
      },
      "source": [
        "doc[:2]"
      ],
      "execution_count": 37,
      "outputs": [
        {
          "output_type": "execute_result",
          "data": {
            "text/plain": [
              "Hello world"
            ]
          },
          "metadata": {
            "tags": []
          },
          "execution_count": 37
        }
      ]
    },
    {
      "cell_type": "code",
      "metadata": {
        "id": "qjdeH85yeZ5b",
        "colab_type": "code",
        "colab": {
          "base_uri": "https://localhost:8080/",
          "height": 34
        },
        "outputId": "5e50b295-8951-4626-8b31-316829ab9735"
      },
      "source": [
        "type(doc[:2])"
      ],
      "execution_count": 38,
      "outputs": [
        {
          "output_type": "execute_result",
          "data": {
            "text/plain": [
              "spacy.tokens.span.Span"
            ]
          },
          "metadata": {
            "tags": []
          },
          "execution_count": 38
        }
      ]
    },
    {
      "cell_type": "markdown",
      "metadata": {
        "id": "EA0vLPO3fJhd",
        "colab_type": "text"
      },
      "source": [
        "Podobieństwo"
      ]
    },
    {
      "cell_type": "code",
      "metadata": {
        "id": "CdOmfFTbgTXt",
        "colab_type": "code",
        "colab": {
          "base_uri": "https://localhost:8080/",
          "height": 90
        },
        "outputId": "4e746d4d-bb0a-4190-c643-09c4ea6824fc"
      },
      "source": [
        "!python -m spacy download en_core_web_md"
      ],
      "execution_count": 39,
      "outputs": [
        {
          "output_type": "stream",
          "text": [
            "Requirement already satisfied: en_core_web_md==2.1.0 from https://github.com/explosion/spacy-models/releases/download/en_core_web_md-2.1.0/en_core_web_md-2.1.0.tar.gz#egg=en_core_web_md==2.1.0 in /usr/local/lib/python3.6/dist-packages (2.1.0)\n",
            "\u001b[38;5;2m✔ Download and installation successful\u001b[0m\n",
            "You can now load the model via spacy.load('en_core_web_md')\n"
          ],
          "name": "stdout"
        }
      ]
    },
    {
      "cell_type": "code",
      "metadata": {
        "id": "3xpWsFm_gj4s",
        "colab_type": "code",
        "colab": {}
      },
      "source": [
        "nlp = spacy.load('en_core_web_md')"
      ],
      "execution_count": 0,
      "outputs": []
    },
    {
      "cell_type": "code",
      "metadata": {
        "id": "TKUxnRYfecnD",
        "colab_type": "code",
        "colab": {
          "base_uri": "https://localhost:8080/",
          "height": 34
        },
        "outputId": "405553a3-19fe-42bb-d5b4-bfbdd00a4bee"
      },
      "source": [
        "doc1 = nlp('I like cars')\n",
        "doc2 = nlp('I like bikes')\n",
        "doc3 = nlp('She hates horror movies')\n",
        "\n",
        "doc1.similarity(doc2)"
      ],
      "execution_count": 47,
      "outputs": [
        {
          "output_type": "execute_result",
          "data": {
            "text/plain": [
              "0.8884695422092167"
            ]
          },
          "metadata": {
            "tags": []
          },
          "execution_count": 47
        }
      ]
    },
    {
      "cell_type": "code",
      "metadata": {
        "id": "5XVLjbo7fUu3",
        "colab_type": "code",
        "colab": {
          "base_uri": "https://localhost:8080/",
          "height": 34
        },
        "outputId": "d6610337-5504-4892-aa7a-894fddf4fe4c"
      },
      "source": [
        "doc1.similarity(doc3)"
      ],
      "execution_count": 48,
      "outputs": [
        {
          "output_type": "execute_result",
          "data": {
            "text/plain": [
              "0.5628471172779665"
            ]
          },
          "metadata": {
            "tags": []
          },
          "execution_count": 48
        }
      ]
    },
    {
      "cell_type": "markdown",
      "metadata": {
        "id": "7pl2w2WthkqO",
        "colab_type": "text"
      },
      "source": [
        "Export to json"
      ]
    },
    {
      "cell_type": "code",
      "metadata": {
        "id": "SJSuxrCTgscp",
        "colab_type": "code",
        "colab": {
          "base_uri": "https://localhost:8080/",
          "height": 122
        },
        "outputId": "9b8e3b4f-e99a-497d-e7e1-0fb6fb830ffc"
      },
      "source": [
        "doc_json = doc.to_json()\n",
        "doc_json"
      ],
      "execution_count": 51,
      "outputs": [
        {
          "output_type": "execute_result",
          "data": {
            "text/plain": [
              "{'text': 'Hello world in spaCy!',\n",
              " 'tokens': [{'end': 5, 'id': 0, 'start': 0},\n",
              "  {'end': 11, 'id': 1, 'start': 6},\n",
              "  {'end': 14, 'id': 2, 'start': 12},\n",
              "  {'end': 20, 'id': 3, 'start': 15},\n",
              "  {'end': 21, 'id': 4, 'start': 20}]}"
            ]
          },
          "metadata": {
            "tags": []
          },
          "execution_count": 51
        }
      ]
    },
    {
      "cell_type": "code",
      "metadata": {
        "id": "vvv-cPjwhBnM",
        "colab_type": "code",
        "colab": {
          "base_uri": "https://localhost:8080/",
          "height": 545
        },
        "outputId": "d2e60d1c-dc70-4b6b-c1f5-33dccb9dc608"
      },
      "source": [
        "import json\n",
        "\n",
        "print(json.dumps(doc_json, indent=4, sort_keys=True))"
      ],
      "execution_count": 55,
      "outputs": [
        {
          "output_type": "stream",
          "text": [
            "{\n",
            "    \"text\": \"Hello world in spaCy!\",\n",
            "    \"tokens\": [\n",
            "        {\n",
            "            \"end\": 5,\n",
            "            \"id\": 0,\n",
            "            \"start\": 0\n",
            "        },\n",
            "        {\n",
            "            \"end\": 11,\n",
            "            \"id\": 1,\n",
            "            \"start\": 6\n",
            "        },\n",
            "        {\n",
            "            \"end\": 14,\n",
            "            \"id\": 2,\n",
            "            \"start\": 12\n",
            "        },\n",
            "        {\n",
            "            \"end\": 20,\n",
            "            \"id\": 3,\n",
            "            \"start\": 15\n",
            "        },\n",
            "        {\n",
            "            \"end\": 21,\n",
            "            \"id\": 4,\n",
            "            \"start\": 20\n",
            "        }\n",
            "    ]\n",
            "}\n"
          ],
          "name": "stdout"
        }
      ]
    },
    {
      "cell_type": "code",
      "metadata": {
        "id": "Nd61RGM1hXQW",
        "colab_type": "code",
        "colab": {
          "base_uri": "https://localhost:8080/",
          "height": 105
        },
        "outputId": "0d1705d7-43ca-4b98-e628-7d8362b1fb2c"
      },
      "source": [
        "from spacy.attrs import LOWER, IS_ALPHA\n",
        "\n",
        "doc.to_array([LOWER, IS_ALPHA])"
      ],
      "execution_count": 65,
      "outputs": [
        {
          "output_type": "execute_result",
          "data": {
            "text/plain": [
              "array([[ 5983625672228268878,                    1],\n",
              "       [ 1703489418272052182,                    1],\n",
              "       [ 3002984154512732771,                    1],\n",
              "       [10639093010105930009,                    1],\n",
              "       [17494803046312582752,                    0]], dtype=uint64)"
            ]
          },
          "metadata": {
            "tags": []
          },
          "execution_count": 65
        }
      ]
    },
    {
      "cell_type": "markdown",
      "metadata": {
        "id": "5YZg-QRkidvH",
        "colab_type": "text"
      },
      "source": [
        "NER - Named Entity Recognition"
      ]
    },
    {
      "cell_type": "code",
      "metadata": {
        "id": "gT0dmO4hiKod",
        "colab_type": "code",
        "colab": {
          "base_uri": "https://localhost:8080/",
          "height": 34
        },
        "outputId": "0b032c3d-6f07-459b-ddb7-1b64f4aedee5"
      },
      "source": [
        "doc = nlp('She is going to fly to London next week')\n",
        "doc.ents"
      ],
      "execution_count": 76,
      "outputs": [
        {
          "output_type": "execute_result",
          "data": {
            "text/plain": [
              "(London, next week)"
            ]
          },
          "metadata": {
            "tags": []
          },
          "execution_count": 76
        }
      ]
    },
    {
      "cell_type": "code",
      "metadata": {
        "id": "r9JbWVhvirP7",
        "colab_type": "code",
        "colab": {
          "base_uri": "https://localhost:8080/",
          "height": 52
        },
        "outputId": "510d46fa-c93a-4575-d1ad-b4783b2fd883"
      },
      "source": [
        "for entity in doc.ents:\n",
        "    print(f'{entity.text.ljust(13)}: {entity.label_}')"
      ],
      "execution_count": 77,
      "outputs": [
        {
          "output_type": "stream",
          "text": [
            "London       : GPE\n",
            "next week    : DATE\n"
          ],
          "name": "stdout"
        }
      ]
    },
    {
      "cell_type": "code",
      "metadata": {
        "id": "bnvQLh9Ri0dx",
        "colab_type": "code",
        "colab": {
          "base_uri": "https://localhost:8080/",
          "height": 34
        },
        "outputId": "a86b99a2-addf-4e13-a8ba-ea215e522b12"
      },
      "source": [
        "spacy.explain('GPE')"
      ],
      "execution_count": 78,
      "outputs": [
        {
          "output_type": "execute_result",
          "data": {
            "text/plain": [
              "'Countries, cities, states'"
            ]
          },
          "metadata": {
            "tags": []
          },
          "execution_count": 78
        }
      ]
    },
    {
      "cell_type": "code",
      "metadata": {
        "id": "woG1s_4gi9z6",
        "colab_type": "code",
        "colab": {
          "base_uri": "https://localhost:8080/",
          "height": 34
        },
        "outputId": "ab78f253-50da-44c8-89ec-38a2230c2f79"
      },
      "source": [
        "spacy.explain('DATE')"
      ],
      "execution_count": 79,
      "outputs": [
        {
          "output_type": "execute_result",
          "data": {
            "text/plain": [
              "'Absolute or relative dates or periods'"
            ]
          },
          "metadata": {
            "tags": []
          },
          "execution_count": 79
        }
      ]
    },
    {
      "cell_type": "code",
      "metadata": {
        "id": "mTlfksVMjBhk",
        "colab_type": "code",
        "colab": {
          "base_uri": "https://localhost:8080/",
          "height": 52
        },
        "outputId": "3edfcdd0-e5d9-47e6-ffc9-32d23d09c99d"
      },
      "source": [
        "for chunk in doc.noun_chunks:\n",
        "    print(chunk)"
      ],
      "execution_count": 80,
      "outputs": [
        {
          "output_type": "stream",
          "text": [
            "She\n",
            "London\n"
          ],
          "name": "stdout"
        }
      ]
    },
    {
      "cell_type": "code",
      "metadata": {
        "id": "qWXtbrqmjH9r",
        "colab_type": "code",
        "colab": {
          "base_uri": "https://localhost:8080/",
          "height": 54
        },
        "outputId": "1c121618-3797-48e3-828b-fc6c92876cb2"
      },
      "source": [
        "doc = nlp('Python is awesome. It is really good.')\n",
        "\n",
        "for sentence in doc.sents:\n",
        "    print(f'type: {type(sentence)}: {sentence}')"
      ],
      "execution_count": 83,
      "outputs": [
        {
          "output_type": "stream",
          "text": [
            "type: <class 'spacy.tokens.span.Span'>: Python is awesome.\n",
            "type: <class 'spacy.tokens.span.Span'>: It is really good.\n"
          ],
          "name": "stdout"
        }
      ]
    },
    {
      "cell_type": "markdown",
      "metadata": {
        "id": "UrjdIdnvkqJv",
        "colab_type": "text"
      },
      "source": [
        "### <a name='5'></a> Klasa Token\n",
        "\n",
        "Pojedynczy token (słowo, znak interpunkcyjny, spacja, itd.)"
      ]
    },
    {
      "cell_type": "code",
      "metadata": {
        "id": "dIqNoBnakELu",
        "colab_type": "code",
        "colab": {
          "base_uri": "https://localhost:8080/",
          "height": 126
        },
        "outputId": "4521cf64-d61a-471d-a63e-f253fa591ee4"
      },
      "source": [
        "doc = nlp('NLP Bootcamp in Python. 2020')\n",
        "\n",
        "for token in doc:\n",
        "    print(f'type: {type(token)}: {token}')"
      ],
      "execution_count": 122,
      "outputs": [
        {
          "output_type": "stream",
          "text": [
            "type: <class 'spacy.tokens.token.Token'>: NLP\n",
            "type: <class 'spacy.tokens.token.Token'>: Bootcamp\n",
            "type: <class 'spacy.tokens.token.Token'>: in\n",
            "type: <class 'spacy.tokens.token.Token'>: Python\n",
            "type: <class 'spacy.tokens.token.Token'>: .\n",
            "type: <class 'spacy.tokens.token.Token'>: 2020\n"
          ],
          "name": "stdout"
        }
      ]
    },
    {
      "cell_type": "code",
      "metadata": {
        "id": "46yaV8QtlbCp",
        "colab_type": "code",
        "colab": {
          "base_uri": "https://localhost:8080/",
          "height": 35
        },
        "outputId": "653b9e47-a112-4fdd-b1a6-ff4370321bd2"
      },
      "source": [
        "token1 = doc[0]\n",
        "token2 = doc[1]\n",
        "token1"
      ],
      "execution_count": 123,
      "outputs": [
        {
          "output_type": "execute_result",
          "data": {
            "text/plain": [
              "NLP"
            ]
          },
          "metadata": {
            "tags": []
          },
          "execution_count": 123
        }
      ]
    },
    {
      "cell_type": "code",
      "metadata": {
        "id": "oJXfxeL4lgz2",
        "colab_type": "code",
        "colab": {
          "base_uri": "https://localhost:8080/",
          "height": 35
        },
        "outputId": "489964ec-ecf5-49c0-90f3-4d077a7fd6a1"
      },
      "source": [
        "len(token1)"
      ],
      "execution_count": 124,
      "outputs": [
        {
          "output_type": "execute_result",
          "data": {
            "text/plain": [
              "3"
            ]
          },
          "metadata": {
            "tags": []
          },
          "execution_count": 124
        }
      ]
    },
    {
      "cell_type": "code",
      "metadata": {
        "id": "WxpUSvsqlpUc",
        "colab_type": "code",
        "colab": {
          "base_uri": "https://localhost:8080/",
          "height": 35
        },
        "outputId": "8b88474c-7266-4485-b269-39743ef4c23f"
      },
      "source": [
        "token1.similarity(token2)"
      ],
      "execution_count": 125,
      "outputs": [
        {
          "output_type": "execute_result",
          "data": {
            "text/plain": [
              "0.18886003"
            ]
          },
          "metadata": {
            "tags": []
          },
          "execution_count": 125
        }
      ]
    },
    {
      "cell_type": "code",
      "metadata": {
        "id": "Qp3DdGeBl1hH",
        "colab_type": "code",
        "colab": {
          "base_uri": "https://localhost:8080/",
          "height": 35
        },
        "outputId": "0b1bc661-f2fd-44a0-91db-151f05a1b04b"
      },
      "source": [
        "token1.nbor()"
      ],
      "execution_count": 126,
      "outputs": [
        {
          "output_type": "execute_result",
          "data": {
            "text/plain": [
              "Bootcamp"
            ]
          },
          "metadata": {
            "tags": []
          },
          "execution_count": 126
        }
      ]
    },
    {
      "cell_type": "code",
      "metadata": {
        "id": "X066b-srmCeb",
        "colab_type": "code",
        "colab": {
          "base_uri": "https://localhost:8080/",
          "height": 35
        },
        "outputId": "c8ef5706-8ecb-4e46-cccc-d679a75914b9"
      },
      "source": [
        "token1.nbor(2)"
      ],
      "execution_count": 127,
      "outputs": [
        {
          "output_type": "execute_result",
          "data": {
            "text/plain": [
              "in"
            ]
          },
          "metadata": {
            "tags": []
          },
          "execution_count": 127
        }
      ]
    },
    {
      "cell_type": "code",
      "metadata": {
        "id": "v-aIqM3-mJ3H",
        "colab_type": "code",
        "colab": {
          "base_uri": "https://localhost:8080/",
          "height": 345
        },
        "outputId": "abb9b85b-5fac-4289-8052-5afb19523d5f"
      },
      "source": [
        "token1.vector"
      ],
      "execution_count": 128,
      "outputs": [
        {
          "output_type": "execute_result",
          "data": {
            "text/plain": [
              "array([-0.008069,  0.17201 , -0.36143 , -0.52395 , -0.15279 , -0.34861 , -0.036767, -0.53732 ,  0.44094 , -0.36079 , -0.4784  , -0.056812, -0.24766 ,  0.10597 ,  0.41365 , -1.088   ,  0.19286 ,\n",
              "        0.28928 , -0.087171,  0.77045 ,  0.25926 ,  0.060863, -0.12351 , -0.38785 , -0.42876 ,  0.48097 ,  0.48476 , -0.42188 , -0.18591 ,  0.067789,  0.51135 , -0.63264 ,  0.072284,  0.91496 ,\n",
              "        0.3255  ,  0.99644 , -0.24083 ,  0.11028 , -0.54889 ,  0.36591 , -0.09808 , -0.3543  , -0.23814 ,  0.49636 ,  0.10786 ,  0.031344, -0.27557 ,  0.28765 , -0.63515 , -0.20711 , -0.44874 ,\n",
              "       -0.50543 ,  0.10289 ,  0.27115 , -0.074156,  0.57831 , -0.25995 ,  0.18628 , -0.22099 , -0.46459 , -0.11055 ,  0.39854 ,  0.15971 , -0.8858  ,  0.29029 , -0.24326 , -0.047822, -0.097751,\n",
              "       -0.49836 ,  0.24001 , -0.22119 , -0.15564 ,  0.42348 , -0.036272,  1.1548  ,  0.31605 ,  0.088542, -0.031927, -0.063066, -0.048259,  0.020346,  0.16526 ,  0.48541 ,  0.25581 , -0.51612 ,\n",
              "       -0.2273  ,  1.0575  , -0.8083  ,  0.055999, -0.29787 , -0.28641 ,  0.08266 ,  0.088037, -0.048004, -0.20818 , -0.051167,  0.36321 , -0.71516 ,  0.063304, -1.0239  , -0.11567 ,  0.004321,\n",
              "        0.23609 ,  0.064734,  0.081885, -1.9807  ,  0.18874 ,  0.10143 , -0.33867 ,  0.075872, -0.49032 , -0.36595 , -0.18845 , -0.080881, -0.19707 ,  0.73221 , -0.32061 , -0.11996 ,  0.57567 ,\n",
              "       -0.21523 ,  0.21882 , -0.006837, -0.12269 , -0.096942, -0.029382,  0.43065 , -0.70042 , -0.03663 ,  0.35463 , -0.33172 , -0.3929  , -0.64374 , -0.81228 ,  0.041261,  0.45013 , -0.34736 ,\n",
              "       -0.097275, -0.16342 , -0.055496, -0.39753 , -0.36672 ,  0.66679 , -0.054053,  0.52131 ,  0.49966 ,  0.16281 ,  0.16773 ,  0.17052 , -0.28781 , -0.31941 , -0.056714, -0.65757 , -0.055213,\n",
              "        0.094287, -0.41753 , -0.009948,  0.35859 , -0.3583  , -0.39562 , -0.44507 , -0.2755  , -0.16131 , -0.65154 ,  0.13316 ,  0.42209 , -0.029555, -0.42262 , -0.077319, -0.14587 , -0.29419 ,\n",
              "       -0.40894 , -0.16328 ,  0.26921 ,  0.26955 ,  0.11    , -0.20865 ,  0.46751 ,  0.22874 ,  0.2829  ,  0.17569 ,  0.67821 ,  0.23541 , -0.90776 ,  0.41344 ,  0.49803 ,  0.10693 ,  0.31922 ,\n",
              "        0.84183 ,  0.037831, -0.35726 , -0.12281 , -0.31795 , -0.30857 , -0.91246 , -0.45557 ,  0.056292,  0.13218 , -0.59133 ,  1.0699  , -0.23665 , -0.68037 , -0.41814 ,  0.21918 ,  0.41373 ,\n",
              "       -0.3897  ,  0.052102, -0.11587 , -0.1232  , -0.78361 , -0.094418, -0.29128 ,  0.72153 ,  0.50136 ,  0.13189 , -0.63968 , -0.2523  , -0.28444 ,  0.29659 ,  0.51556 ,  0.072911, -0.6206  ,\n",
              "        0.37613 ,  0.16979 , -0.89081 , -0.80593 ,  0.10588 ,  0.45481 ,  0.01824 , -0.43123 , -0.39197 , -0.2355  ,  0.083242,  0.80196 , -0.11903 ,  0.37487 , -0.052276,  0.40123 ,  0.58962 ,\n",
              "       -0.20418 , -0.62036 ,  0.39894 ,  0.54031 , -0.19601 , -0.6514  , -0.27663 ,  0.021055, -0.609   , -0.013596, -0.22885 , -0.6003  ,  0.6758  , -0.43675 ,  0.015452, -0.36667 ,  0.44217 ,\n",
              "       -0.83882 , -0.68263 , -0.38946 ,  0.22731 ,  0.29086 , -0.069119, -0.34048 ,  0.20938 ,  0.10592 ,  0.22526 ,  0.11047 , -0.53391 ,  0.10466 , -0.48908 , -0.01534 , -0.52741 , -0.10003 ,\n",
              "       -0.26274 , -0.089274, -0.16102 , -0.5606  , -0.38068 , -0.62487 , -0.08466 ,  0.035755,  0.18811 ,  0.1949  , -0.24743 , -0.50669 ,  0.18283 ,  0.8632  ,  0.085555, -0.057575, -0.098477,\n",
              "        0.37928 ,  0.36104 , -0.18173 , -0.45813 ,  0.98848 ,  0.49311 , -0.098344,  0.37193 ,  0.28615 , -0.71471 ,  0.46446 ], dtype=float32)"
            ]
          },
          "metadata": {
            "tags": []
          },
          "execution_count": 128
        }
      ]
    },
    {
      "cell_type": "code",
      "metadata": {
        "id": "uxRVL08mmnf-",
        "colab_type": "code",
        "colab": {
          "base_uri": "https://localhost:8080/",
          "height": 35
        },
        "outputId": "d5da5ac7-1ffa-434b-af56-6ee654adfc4b"
      },
      "source": [
        "token1.vector.shape"
      ],
      "execution_count": 129,
      "outputs": [
        {
          "output_type": "execute_result",
          "data": {
            "text/plain": [
              "(300,)"
            ]
          },
          "metadata": {
            "tags": []
          },
          "execution_count": 129
        }
      ]
    },
    {
      "cell_type": "code",
      "metadata": {
        "id": "XKVxiQXhmpKL",
        "colab_type": "code",
        "colab": {
          "base_uri": "https://localhost:8080/",
          "height": 35
        },
        "outputId": "fd0a3e67-4f91-41da-c7c5-3a5fe471e8dc"
      },
      "source": [
        "# atrybuty \n",
        "token1.doc"
      ],
      "execution_count": 130,
      "outputs": [
        {
          "output_type": "execute_result",
          "data": {
            "text/plain": [
              "NLP Bootcamp in Python. 2020"
            ]
          },
          "metadata": {
            "tags": []
          },
          "execution_count": 130
        }
      ]
    },
    {
      "cell_type": "code",
      "metadata": {
        "id": "W0nx6WA5mta4",
        "colab_type": "code",
        "colab": {
          "base_uri": "https://localhost:8080/",
          "height": 35
        },
        "outputId": "bb78c53b-6ae4-4fa8-ddc5-c26989d27941"
      },
      "source": [
        "token1.sent"
      ],
      "execution_count": 131,
      "outputs": [
        {
          "output_type": "execute_result",
          "data": {
            "text/plain": [
              "NLP Bootcamp in Python."
            ]
          },
          "metadata": {
            "tags": []
          },
          "execution_count": 131
        }
      ]
    },
    {
      "cell_type": "code",
      "metadata": {
        "id": "BrmDzDsom0BX",
        "colab_type": "code",
        "colab": {
          "base_uri": "https://localhost:8080/",
          "height": 35
        },
        "outputId": "598dd13c-74eb-4f2e-992b-c3b7c9d99c83"
      },
      "source": [
        "token2.text"
      ],
      "execution_count": 133,
      "outputs": [
        {
          "output_type": "execute_result",
          "data": {
            "text/plain": [
              "'Bootcamp'"
            ]
          },
          "metadata": {
            "tags": []
          },
          "execution_count": 133
        }
      ]
    },
    {
      "cell_type": "code",
      "metadata": {
        "id": "DkbE2__vm9oY",
        "colab_type": "code",
        "colab": {
          "base_uri": "https://localhost:8080/",
          "height": 35
        },
        "outputId": "891226df-2d1d-464d-dd85-fb2fabc03cac"
      },
      "source": [
        "token2.pos_"
      ],
      "execution_count": 134,
      "outputs": [
        {
          "output_type": "execute_result",
          "data": {
            "text/plain": [
              "'PROPN'"
            ]
          },
          "metadata": {
            "tags": []
          },
          "execution_count": 134
        }
      ]
    },
    {
      "cell_type": "code",
      "metadata": {
        "id": "mjyIDHfQnJCp",
        "colab_type": "code",
        "colab": {
          "base_uri": "https://localhost:8080/",
          "height": 35
        },
        "outputId": "03ba485c-4147-46f7-bcce-9805257f1dad"
      },
      "source": [
        "spacy.explain('PROPN')"
      ],
      "execution_count": 135,
      "outputs": [
        {
          "output_type": "execute_result",
          "data": {
            "text/plain": [
              "'proper noun'"
            ]
          },
          "metadata": {
            "tags": []
          },
          "execution_count": 135
        }
      ]
    },
    {
      "cell_type": "markdown",
      "metadata": {
        "id": "XrqhJyUtnZxp",
        "colab_type": "text"
      },
      "source": [
        "### <a name='6'></a> Klasa Span\n",
        "Wycinek z obiektu Doc"
      ]
    },
    {
      "cell_type": "code",
      "metadata": {
        "id": "fr7lRAF4nbaV",
        "colab_type": "code",
        "colab": {
          "base_uri": "https://localhost:8080/",
          "height": 35
        },
        "outputId": "442ae044-4bd3-449f-b8f4-07a46278a537"
      },
      "source": [
        "span = doc[1:4]\n",
        "span"
      ],
      "execution_count": 139,
      "outputs": [
        {
          "output_type": "execute_result",
          "data": {
            "text/plain": [
              "Bootcamp in Python"
            ]
          },
          "metadata": {
            "tags": []
          },
          "execution_count": 139
        }
      ]
    },
    {
      "cell_type": "code",
      "metadata": {
        "id": "aPhWaPDBuwQ_",
        "colab_type": "code",
        "colab": {
          "base_uri": "https://localhost:8080/",
          "height": 35
        },
        "outputId": "219221ae-e952-4b09-d622-8a69a212fdd6"
      },
      "source": [
        "type(span)"
      ],
      "execution_count": 140,
      "outputs": [
        {
          "output_type": "execute_result",
          "data": {
            "text/plain": [
              "spacy.tokens.span.Span"
            ]
          },
          "metadata": {
            "tags": []
          },
          "execution_count": 140
        }
      ]
    },
    {
      "cell_type": "code",
      "metadata": {
        "id": "19cQ0yDGu55z",
        "colab_type": "code",
        "colab": {
          "base_uri": "https://localhost:8080/",
          "height": 72
        },
        "outputId": "7aadf4e7-9188-499e-f4de-dedb680c01d0"
      },
      "source": [
        "for token in span:\n",
        "    print(f'type: {type(token)}: {token}')"
      ],
      "execution_count": 141,
      "outputs": [
        {
          "output_type": "stream",
          "text": [
            "type: <class 'spacy.tokens.token.Token'>: Bootcamp\n",
            "type: <class 'spacy.tokens.token.Token'>: in\n",
            "type: <class 'spacy.tokens.token.Token'>: Python\n"
          ],
          "name": "stdout"
        }
      ]
    },
    {
      "cell_type": "code",
      "metadata": {
        "id": "XbgHcckXvUgh",
        "colab_type": "code",
        "colab": {}
      },
      "source": [
        ""
      ],
      "execution_count": 0,
      "outputs": []
    }
  ]
}