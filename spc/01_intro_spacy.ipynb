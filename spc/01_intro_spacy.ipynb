{
  "nbformat": 4,
  "nbformat_minor": 0,
  "metadata": {
    "colab": {
      "name": "01_preprocessing.ipynb",
      "provenance": [],
      "include_colab_link": true
    },
    "kernelspec": {
      "name": "python3",
      "display_name": "Python 3"
    }
  },
  "cells": [
    {
      "cell_type": "markdown",
      "metadata": {
        "id": "view-in-github",
        "colab_type": "text"
      },
      "source": [
        "<a href=\"https://colab.research.google.com/github/krakowiakpawel9/ml_course/blob/master/spc/01_intro_spacy.ipynb\" target=\"_parent\"><img src=\"https://colab.research.google.com/assets/colab-badge.svg\" alt=\"Open In Colab\"/></a>"
      ]
    },
    {
      "cell_type": "markdown",
      "metadata": {
        "id": "UbjsT92Xd3z1",
        "colab_type": "text"
      },
      "source": [
        "* @author: krakowiakpawel9@gmail.com  \n",
        "* @site: e-smartdata.org\n",
        "\n",
        "### spaCy\n",
        "Strona biblioteki: [https://spacy.io/](https://spacy.io/)  \n",
        "\n",
        "Podstawowa biblioteka do przetwarzania języka naturalnego w języku Python.\n",
        "\n",
        "Aby zainstalować bibliotekę spaCy, użyj polecenia poniżej:\n",
        "```\n",
        "!pip install spacy\n",
        "```\n",
        "Aby zaktualizować do najnowszej wersji użyj polecenia poniżej:\n",
        "```\n",
        "!pip install --upgrade spacy\n",
        "```\n",
        "Kurs stworzony w oparciu o wersję `2.1.9`\n",
        "\n",
        "### Spis treści:\n",
        "1. [Import bibliotek](#0)\n",
        "2. [Klasa Vocab](#1)\n",
        "3. [Klasa StringStore](#2)\n",
        "4. [Klasa Language](#3)\n",
        "\n"
      ]
    },
    {
      "cell_type": "markdown",
      "metadata": {
        "id": "YkIALacsUnj7",
        "colab_type": "text"
      },
      "source": [
        "### <a name='0'></a> Import bibliotek"
      ]
    },
    {
      "cell_type": "code",
      "metadata": {
        "id": "4LkA1g0SIZ5C",
        "colab_type": "code",
        "outputId": "298acbe5-7177-484d-9831-53d5f1cc25c5",
        "colab": {
          "base_uri": "https://localhost:8080/",
          "height": 34
        }
      },
      "source": [
        "import spacy\n",
        "spacy.__version__"
      ],
      "execution_count": 1,
      "outputs": [
        {
          "output_type": "execute_result",
          "data": {
            "text/plain": [
              "'2.1.9'"
            ]
          },
          "metadata": {
            "tags": []
          },
          "execution_count": 1
        }
      ]
    },
    {
      "cell_type": "markdown",
      "metadata": {
        "id": "-4nH91FBLWEq",
        "colab_type": "text"
      },
      "source": [
        "### <a name='1'></a> Klasa Vocab\n",
        "Vocab - tworzy słownik dla danego języka"
      ]
    },
    {
      "cell_type": "code",
      "metadata": {
        "id": "fOwWqYZdIbuE",
        "colab_type": "code",
        "colab": {}
      },
      "source": [
        "from spacy.vocab import Vocab\n",
        "\n",
        "Vocab?"
      ],
      "execution_count": 0,
      "outputs": []
    },
    {
      "cell_type": "code",
      "metadata": {
        "id": "mgULM4dGI7ez",
        "colab_type": "code",
        "colab": {
          "base_uri": "https://localhost:8080/",
          "height": 34
        },
        "outputId": "334f4d1e-97e3-4250-fc2b-da1d171c3231"
      },
      "source": [
        "vocab = Vocab(strings=['hello', 'world'])\n",
        "vocab"
      ],
      "execution_count": 3,
      "outputs": [
        {
          "output_type": "execute_result",
          "data": {
            "text/plain": [
              "<spacy.vocab.Vocab at 0x7efe3ed8ff48>"
            ]
          },
          "metadata": {
            "tags": []
          },
          "execution_count": 3
        }
      ]
    },
    {
      "cell_type": "code",
      "metadata": {
        "id": "fJdZNKbnJL3t",
        "colab_type": "code",
        "colab": {
          "base_uri": "https://localhost:8080/",
          "height": 34
        },
        "outputId": "aaab7967-6a44-4e92-8f6b-c8b091e2286b"
      },
      "source": [
        "len(vocab)"
      ],
      "execution_count": 4,
      "outputs": [
        {
          "output_type": "execute_result",
          "data": {
            "text/plain": [
              "2"
            ]
          },
          "metadata": {
            "tags": []
          },
          "execution_count": 4
        }
      ]
    },
    {
      "cell_type": "code",
      "metadata": {
        "id": "Ui8zchFWJ-oj",
        "colab_type": "code",
        "colab": {
          "base_uri": "https://localhost:8080/",
          "height": 34
        },
        "outputId": "9ed6c367-db54-44c7-efaa-5f1180c6cbb2"
      },
      "source": [
        "vocab.strings"
      ],
      "execution_count": 5,
      "outputs": [
        {
          "output_type": "execute_result",
          "data": {
            "text/plain": [
              "<spacy.strings.StringStore at 0x7efe8efce400>"
            ]
          },
          "metadata": {
            "tags": []
          },
          "execution_count": 5
        }
      ]
    },
    {
      "cell_type": "markdown",
      "metadata": {
        "id": "sxMfocVILYWi",
        "colab_type": "text"
      },
      "source": [
        "### <a name='2'></a> Klasa StringStore\n",
        "StringStore - wyszukuje ciągi znaków za pomocą 64-bitowych hashy. "
      ]
    },
    {
      "cell_type": "code",
      "metadata": {
        "id": "HMUYt6uKK2ia",
        "colab_type": "code",
        "colab": {}
      },
      "source": [
        "from spacy.strings import StringStore\n",
        "\n",
        "StringStore?"
      ],
      "execution_count": 0,
      "outputs": []
    },
    {
      "cell_type": "code",
      "metadata": {
        "id": "DqmQxHlpLhte",
        "colab_type": "code",
        "colab": {
          "base_uri": "https://localhost:8080/",
          "height": 34
        },
        "outputId": "274e55dc-3401-4db9-a985-1659f794801d"
      },
      "source": [
        "stringstore = StringStore(['python', 'java'])\n",
        "stringstore"
      ],
      "execution_count": 7,
      "outputs": [
        {
          "output_type": "execute_result",
          "data": {
            "text/plain": [
              "<spacy.strings.StringStore at 0x7efe3c3e0ae8>"
            ]
          },
          "metadata": {
            "tags": []
          },
          "execution_count": 7
        }
      ]
    },
    {
      "cell_type": "code",
      "metadata": {
        "id": "sZqP-POfL417",
        "colab_type": "code",
        "colab": {
          "base_uri": "https://localhost:8080/",
          "height": 34
        },
        "outputId": "0e5b9450-edfa-43f5-81d6-51c76b16d1a1"
      },
      "source": [
        "len(stringstore)"
      ],
      "execution_count": 8,
      "outputs": [
        {
          "output_type": "execute_result",
          "data": {
            "text/plain": [
              "2"
            ]
          },
          "metadata": {
            "tags": []
          },
          "execution_count": 8
        }
      ]
    },
    {
      "cell_type": "code",
      "metadata": {
        "id": "CyAi_bi_L7pj",
        "colab_type": "code",
        "colab": {
          "base_uri": "https://localhost:8080/",
          "height": 34
        },
        "outputId": "9f90d733-7050-4d0c-ae5d-f9f9d865342b"
      },
      "source": [
        "stringstore['python']"
      ],
      "execution_count": 9,
      "outputs": [
        {
          "output_type": "execute_result",
          "data": {
            "text/plain": [
              "17956708691072489762"
            ]
          },
          "metadata": {
            "tags": []
          },
          "execution_count": 9
        }
      ]
    },
    {
      "cell_type": "code",
      "metadata": {
        "id": "hI56ycxLL-uy",
        "colab_type": "code",
        "colab": {
          "base_uri": "https://localhost:8080/",
          "height": 34
        },
        "outputId": "e56c9a2c-4a5a-4a16-9b82-06a6a58ee9fc"
      },
      "source": [
        "stringstore['java']"
      ],
      "execution_count": 10,
      "outputs": [
        {
          "output_type": "execute_result",
          "data": {
            "text/plain": [
              "1049729868293614729"
            ]
          },
          "metadata": {
            "tags": []
          },
          "execution_count": 10
        }
      ]
    },
    {
      "cell_type": "code",
      "metadata": {
        "id": "5-TyL0QDMA2Z",
        "colab_type": "code",
        "colab": {
          "base_uri": "https://localhost:8080/",
          "height": 34
        },
        "outputId": "901cc891-d653-4d0f-c495-1f3c2b95950a"
      },
      "source": [
        "'scala' in stringstore"
      ],
      "execution_count": 11,
      "outputs": [
        {
          "output_type": "execute_result",
          "data": {
            "text/plain": [
              "False"
            ]
          },
          "metadata": {
            "tags": []
          },
          "execution_count": 11
        }
      ]
    },
    {
      "cell_type": "code",
      "metadata": {
        "id": "9i-77uC_MLSj",
        "colab_type": "code",
        "colab": {
          "base_uri": "https://localhost:8080/",
          "height": 34
        },
        "outputId": "23e93f46-7e71-4baf-ffb8-4b22995bd841"
      },
      "source": [
        "'java' in stringstore"
      ],
      "execution_count": 12,
      "outputs": [
        {
          "output_type": "execute_result",
          "data": {
            "text/plain": [
              "True"
            ]
          },
          "metadata": {
            "tags": []
          },
          "execution_count": 12
        }
      ]
    },
    {
      "cell_type": "code",
      "metadata": {
        "id": "hJzkWjb-MM-v",
        "colab_type": "code",
        "colab": {
          "base_uri": "https://localhost:8080/",
          "height": 52
        },
        "outputId": "4e75d20a-5c28-4149-af64-cd9019e57b8d"
      },
      "source": [
        "for string in stringstore:\n",
        "    print(f'{type(string)}: {string}')"
      ],
      "execution_count": 13,
      "outputs": [
        {
          "output_type": "stream",
          "text": [
            "<class 'str'>: python\n",
            "<class 'str'>: java\n"
          ],
          "name": "stdout"
        }
      ]
    },
    {
      "cell_type": "code",
      "metadata": {
        "id": "zrI-cP5KMRK_",
        "colab_type": "code",
        "colab": {
          "base_uri": "https://localhost:8080/",
          "height": 34
        },
        "outputId": "c847702c-76fa-44d3-b361-c157b8a92fd6"
      },
      "source": [
        "stringstore.add('scala')"
      ],
      "execution_count": 14,
      "outputs": [
        {
          "output_type": "execute_result",
          "data": {
            "text/plain": [
              "13115865354982139976"
            ]
          },
          "metadata": {
            "tags": []
          },
          "execution_count": 14
        }
      ]
    },
    {
      "cell_type": "code",
      "metadata": {
        "id": "RDS9bOHUMzF8",
        "colab_type": "code",
        "colab": {
          "base_uri": "https://localhost:8080/",
          "height": 34
        },
        "outputId": "c384ca30-6385-4f56-d2ea-3f324543fa1f"
      },
      "source": [
        "len(stringstore)"
      ],
      "execution_count": 15,
      "outputs": [
        {
          "output_type": "execute_result",
          "data": {
            "text/plain": [
              "3"
            ]
          },
          "metadata": {
            "tags": []
          },
          "execution_count": 15
        }
      ]
    },
    {
      "cell_type": "code",
      "metadata": {
        "id": "6iFShowrM1BQ",
        "colab_type": "code",
        "colab": {
          "base_uri": "https://localhost:8080/",
          "height": 34
        },
        "outputId": "dd4e8bd3-1e53-4527-fd45-3e44c281dd45"
      },
      "source": [
        "stringstore[13115865354982139976]"
      ],
      "execution_count": 16,
      "outputs": [
        {
          "output_type": "execute_result",
          "data": {
            "text/plain": [
              "'scala'"
            ]
          },
          "metadata": {
            "tags": []
          },
          "execution_count": 16
        }
      ]
    },
    {
      "cell_type": "markdown",
      "metadata": {
        "id": "DsuCpbypQV-E",
        "colab_type": "text"
      },
      "source": [
        "Funkcja hashowania"
      ]
    },
    {
      "cell_type": "code",
      "metadata": {
        "id": "WLOXEAn5PgJ1",
        "colab_type": "code",
        "colab": {
          "base_uri": "https://localhost:8080/",
          "height": 34
        },
        "outputId": "91076d07-5262-428d-e1bd-e92a825a0491"
      },
      "source": [
        "from spacy.strings import hash_string\n",
        "\n",
        "hash_string('scala')"
      ],
      "execution_count": 17,
      "outputs": [
        {
          "output_type": "execute_result",
          "data": {
            "text/plain": [
              "13115865354982139976"
            ]
          },
          "metadata": {
            "tags": []
          },
          "execution_count": 17
        }
      ]
    },
    {
      "cell_type": "code",
      "metadata": {
        "id": "YEj7USVpPtHM",
        "colab_type": "code",
        "colab": {
          "base_uri": "https://localhost:8080/",
          "height": 34
        },
        "outputId": "63c76395-a182-44b4-8bf9-2a0f9812ef1d"
      },
      "source": [
        "hash_string('apple')"
      ],
      "execution_count": 18,
      "outputs": [
        {
          "output_type": "execute_result",
          "data": {
            "text/plain": [
              "8566208034543834098"
            ]
          },
          "metadata": {
            "tags": []
          },
          "execution_count": 18
        }
      ]
    },
    {
      "cell_type": "markdown",
      "metadata": {
        "id": "g7qK69roQeSm",
        "colab_type": "text"
      },
      "source": [
        "### <a name='3'></a> Klasa Language"
      ]
    },
    {
      "cell_type": "code",
      "metadata": {
        "id": "mmjDQB16Pwem",
        "colab_type": "code",
        "colab": {}
      },
      "source": [
        "from spacy.language import Language\n",
        "\n",
        "Language?"
      ],
      "execution_count": 0,
      "outputs": []
    },
    {
      "cell_type": "code",
      "metadata": {
        "id": "PWEZnwuNQ9XV",
        "colab_type": "code",
        "colab": {
          "base_uri": "https://localhost:8080/",
          "height": 34
        },
        "outputId": "9edfed1c-4a8e-4fa0-e529-f5727ca5e590"
      },
      "source": [
        "nlp = Language(Vocab())\n",
        "nlp"
      ],
      "execution_count": 20,
      "outputs": [
        {
          "output_type": "execute_result",
          "data": {
            "text/plain": [
              "<spacy.language.Language at 0x7efeac8c6e80>"
            ]
          },
          "metadata": {
            "tags": []
          },
          "execution_count": 20
        }
      ]
    },
    {
      "cell_type": "code",
      "metadata": {
        "id": "TH9Pvc5oRE0e",
        "colab_type": "code",
        "colab": {}
      },
      "source": [
        "from spacy.lang.en import English\n",
        "\n",
        "English?"
      ],
      "execution_count": 0,
      "outputs": []
    },
    {
      "cell_type": "code",
      "metadata": {
        "id": "wiwc1kfzRLzz",
        "colab_type": "code",
        "colab": {
          "base_uri": "https://localhost:8080/",
          "height": 34
        },
        "outputId": "53079192-ff1e-4c0c-9b7e-ce3b69c72712"
      },
      "source": [
        "nlp = English()\n",
        "nlp"
      ],
      "execution_count": 22,
      "outputs": [
        {
          "output_type": "execute_result",
          "data": {
            "text/plain": [
              "<spacy.lang.en.English at 0x7efe3adb7cf8>"
            ]
          },
          "metadata": {
            "tags": []
          },
          "execution_count": 22
        }
      ]
    },
    {
      "cell_type": "code",
      "metadata": {
        "id": "wqFOGSE9RbKH",
        "colab_type": "code",
        "colab": {
          "base_uri": "https://localhost:8080/",
          "height": 34
        },
        "outputId": "1d1e847b-6b05-416f-c67e-362eea211fba"
      },
      "source": [
        "nlp('Python is becoming more and more popular.')"
      ],
      "execution_count": 23,
      "outputs": [
        {
          "output_type": "execute_result",
          "data": {
            "text/plain": [
              "Python is becoming more and more popular."
            ]
          },
          "metadata": {
            "tags": []
          },
          "execution_count": 23
        }
      ]
    },
    {
      "cell_type": "code",
      "metadata": {
        "id": "1FUqazp1Rk4e",
        "colab_type": "code",
        "colab": {
          "base_uri": "https://localhost:8080/",
          "height": 34
        },
        "outputId": "5e2cb697-dcd4-40ed-98a3-b2f7ebcb4f7b"
      },
      "source": [
        "doc = nlp('Python is becoming more and more popular.')\n",
        "doc"
      ],
      "execution_count": 24,
      "outputs": [
        {
          "output_type": "execute_result",
          "data": {
            "text/plain": [
              "Python is becoming more and more popular."
            ]
          },
          "metadata": {
            "tags": []
          },
          "execution_count": 24
        }
      ]
    },
    {
      "cell_type": "code",
      "metadata": {
        "id": "iAxzBUQRSqSJ",
        "colab_type": "code",
        "colab": {
          "base_uri": "https://localhost:8080/",
          "height": 34
        },
        "outputId": "2b3f5176-df56-459d-c4f9-ec9f6a8198e9"
      },
      "source": [
        "nlp.vocab"
      ],
      "execution_count": 25,
      "outputs": [
        {
          "output_type": "execute_result",
          "data": {
            "text/plain": [
              "<spacy.vocab.Vocab at 0x7efe3ad9b408>"
            ]
          },
          "metadata": {
            "tags": []
          },
          "execution_count": 25
        }
      ]
    },
    {
      "cell_type": "code",
      "metadata": {
        "id": "3_JXLIXTTBQz",
        "colab_type": "code",
        "colab": {
          "base_uri": "https://localhost:8080/",
          "height": 34
        },
        "outputId": "7aa4cffb-c4ed-41d5-bebc-b0fd61fcd63c"
      },
      "source": [
        "nlp.lang"
      ],
      "execution_count": 31,
      "outputs": [
        {
          "output_type": "execute_result",
          "data": {
            "text/plain": [
              "'en'"
            ]
          },
          "metadata": {
            "tags": []
          },
          "execution_count": 31
        }
      ]
    },
    {
      "cell_type": "code",
      "metadata": {
        "id": "TdbGb9MPTRGZ",
        "colab_type": "code",
        "colab": {
          "base_uri": "https://localhost:8080/",
          "height": 210
        },
        "outputId": "c6b901b9-917f-433a-a452-17d86d17a0a2"
      },
      "source": [
        "nlp.meta"
      ],
      "execution_count": 33,
      "outputs": [
        {
          "output_type": "execute_result",
          "data": {
            "text/plain": [
              "{'author': '',\n",
              " 'description': '',\n",
              " 'email': '',\n",
              " 'lang': 'en',\n",
              " 'license': '',\n",
              " 'name': 'model',\n",
              " 'pipeline': [],\n",
              " 'spacy_version': '>=2.1.9',\n",
              " 'url': '',\n",
              " 'vectors': {'keys': 0, 'name': None, 'vectors': 0, 'width': 0},\n",
              " 'version': '0.0.0'}"
            ]
          },
          "metadata": {
            "tags": []
          },
          "execution_count": 33
        }
      ]
    },
    {
      "cell_type": "markdown",
      "metadata": {
        "id": "yMppQVRyTd9o",
        "colab_type": "text"
      },
      "source": [
        "### <a name='4'></a> Klasa Doc"
      ]
    },
    {
      "cell_type": "code",
      "metadata": {
        "id": "1SqQixNVTViz",
        "colab_type": "code",
        "colab": {
          "base_uri": "https://localhost:8080/",
          "height": 34
        },
        "outputId": "99dc87dd-ad65-4b3d-edd4-b59d4b409e0b"
      },
      "source": [
        "type(doc)"
      ],
      "execution_count": 34,
      "outputs": [
        {
          "output_type": "execute_result",
          "data": {
            "text/plain": [
              "spacy.tokens.doc.Doc"
            ]
          },
          "metadata": {
            "tags": []
          },
          "execution_count": 34
        }
      ]
    },
    {
      "cell_type": "code",
      "metadata": {
        "id": "fKv7pnDCTdGC",
        "colab_type": "code",
        "colab": {}
      },
      "source": [
        ""
      ],
      "execution_count": 0,
      "outputs": []
    }
  ]
}