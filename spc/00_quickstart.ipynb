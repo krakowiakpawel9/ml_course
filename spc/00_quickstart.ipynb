{
  "nbformat": 4,
  "nbformat_minor": 0,
  "metadata": {
    "colab": {
      "name": "01_preprocessing.ipynb",
      "provenance": [],
      "include_colab_link": true
    },
    "kernelspec": {
      "name": "python3",
      "display_name": "Python 3"
    }
  },
  "cells": [
    {
      "cell_type": "markdown",
      "metadata": {
        "id": "view-in-github",
        "colab_type": "text"
      },
      "source": [
        "<a href=\"https://colab.research.google.com/github/krakowiakpawel9/ml_course/blob/master/spc/00_quickstart.ipynb\" target=\"_parent\"><img src=\"https://colab.research.google.com/assets/colab-badge.svg\" alt=\"Open In Colab\"/></a>"
      ]
    },
    {
      "cell_type": "markdown",
      "metadata": {
        "id": "UbjsT92Xd3z1",
        "colab_type": "text"
      },
      "source": [
        "* @author: krakowiakpawel9@gmail.com  \n",
        "* @site: e-smartdata.org\n",
        "\n",
        "### spaCy\n",
        "Strona biblioteki: [https://spacy.io/](https://spacy.io/)  \n",
        "\n",
        "Podstawowa biblioteka do przetwarzania języka naturalnego w języku Python.\n",
        "\n",
        "Aby zainstalować bibliotekę spaCy, użyj polecenia poniżej:\n",
        "```\n",
        "!pip install spacy\n",
        "```\n",
        "Aby zaktualizować do najnowszej wersji użyj polecenia poniżej:\n",
        "```\n",
        "!pip install --upgrade spacy\n",
        "```\n",
        "Kurs stworzony w oparciu o wersję `2.1.9`\n",
        "\n",
        "### Spis treści:\n",
        "1. [Import bibliotek](#0)\n",
        "2. [Wygenerowanie danych](#1)\n",
        "\n"
      ]
    },
    {
      "cell_type": "markdown",
      "metadata": {
        "id": "fHUwZPeBdf-_",
        "colab_type": "text"
      },
      "source": [
        "### <a name='0'></a> Import bibliotek"
      ]
    },
    {
      "cell_type": "code",
      "metadata": {
        "id": "fOwWqYZdIbuE",
        "colab_type": "code",
        "colab": {}
      },
      "source": [
        "import spacy\n",
        "spacy.__version__"
      ],
      "execution_count": 0,
      "outputs": []
    },
    {
      "cell_type": "markdown",
      "metadata": {
        "id": "YkIALacsUnj7",
        "colab_type": "text"
      },
      "source": [
        "### <a name='1'></a> Quickstart\n",
        "Angielski - pierwszy sposób"
      ]
    },
    {
      "cell_type": "code",
      "metadata": {
        "id": "FGn-tS-MckAF",
        "colab_type": "code",
        "colab": {}
      },
      "source": [
        "import spacy\n",
        "\n",
        "nlp = spacy.load('en_core_web_sm')\n",
        "nlp"
      ],
      "execution_count": 0,
      "outputs": []
    },
    {
      "cell_type": "code",
      "metadata": {
        "id": "jWsOI0gVdGrk",
        "colab_type": "code",
        "colab": {}
      },
      "source": [
        "doc = nlp('Hello world')\n",
        "doc"
      ],
      "execution_count": 0,
      "outputs": []
    },
    {
      "cell_type": "markdown",
      "metadata": {
        "id": "nJYc2284c_p-",
        "colab_type": "text"
      },
      "source": [
        "Angielski - drugi sposób"
      ]
    },
    {
      "cell_type": "code",
      "metadata": {
        "id": "u3ptOFjvcq1E",
        "colab_type": "code",
        "colab": {
          "base_uri": "https://localhost:8080/",
          "height": 35
        },
        "outputId": "534b655d-10c0-4ae7-cb6d-4a5a6944e6d8"
      },
      "source": [
        "import en_core_web_sm\n",
        "\n",
        "nlp = en_core_web_sm.load()\n",
        "nlp"
      ],
      "execution_count": 1,
      "outputs": [
        {
          "output_type": "execute_result",
          "data": {
            "text/plain": [
              "<spacy.lang.en.English at 0x7fe210f8edd8>"
            ]
          },
          "metadata": {
            "tags": []
          },
          "execution_count": 1
        }
      ]
    },
    {
      "cell_type": "code",
      "metadata": {
        "id": "M80b_8WBc43p",
        "colab_type": "code",
        "colab": {
          "base_uri": "https://localhost:8080/",
          "height": 35
        },
        "outputId": "f1835011-9d34-4eb9-daf7-3bea3609c25c"
      },
      "source": [
        "doc = nlp('Hello world')\n",
        "doc"
      ],
      "execution_count": 2,
      "outputs": [
        {
          "output_type": "execute_result",
          "data": {
            "text/plain": [
              "Hello world"
            ]
          },
          "metadata": {
            "tags": []
          },
          "execution_count": 2
        }
      ]
    },
    {
      "cell_type": "markdown",
      "metadata": {
        "id": "uBCFR47MdPmJ",
        "colab_type": "text"
      },
      "source": [
        "Niemiecki - pierwszy sposób"
      ]
    },
    {
      "cell_type": "code",
      "metadata": {
        "id": "rW9wnGWodQiO",
        "colab_type": "code",
        "colab": {
          "base_uri": "https://localhost:8080/",
          "height": 35
        },
        "outputId": "4166dab8-75b7-40c4-ce59-954a862e3b54"
      },
      "source": [
        "import spacy\n",
        "\n",
        "nlp = spacy.load('de_core_news_sm')\n",
        "nlp"
      ],
      "execution_count": 3,
      "outputs": [
        {
          "output_type": "execute_result",
          "data": {
            "text/plain": [
              "<spacy.lang.de.German at 0x7fe210f8ebe0>"
            ]
          },
          "metadata": {
            "tags": []
          },
          "execution_count": 3
        }
      ]
    },
    {
      "cell_type": "code",
      "metadata": {
        "id": "o3LVEBi3dxHT",
        "colab_type": "code",
        "colab": {
          "base_uri": "https://localhost:8080/",
          "height": 35
        },
        "outputId": "d78c7795-6998-4f01-8a41-80d0a68ea68d"
      },
      "source": [
        "doc = nlp('Hallo Welt')\n",
        "doc"
      ],
      "execution_count": 4,
      "outputs": [
        {
          "output_type": "execute_result",
          "data": {
            "text/plain": [
              "Hallo Welt"
            ]
          },
          "metadata": {
            "tags": []
          },
          "execution_count": 4
        }
      ]
    },
    {
      "cell_type": "markdown",
      "metadata": {
        "id": "WH1my06HeI89",
        "colab_type": "text"
      },
      "source": [
        "Niemiecki - drugi sposób"
      ]
    },
    {
      "cell_type": "code",
      "metadata": {
        "id": "eESN-UfaeD-H",
        "colab_type": "code",
        "colab": {
          "base_uri": "https://localhost:8080/",
          "height": 35
        },
        "outputId": "8787ec41-ae3d-4928-fc2d-9d9bd19586e6"
      },
      "source": [
        "import de_core_news_sm\n",
        "\n",
        "nlp = de_core_news_sm.load()\n",
        "nlp"
      ],
      "execution_count": 5,
      "outputs": [
        {
          "output_type": "execute_result",
          "data": {
            "text/plain": [
              "<spacy.lang.de.German at 0x7fe1b9e33438>"
            ]
          },
          "metadata": {
            "tags": []
          },
          "execution_count": 5
        }
      ]
    },
    {
      "cell_type": "code",
      "metadata": {
        "id": "FSKW-GQZeQIc",
        "colab_type": "code",
        "colab": {
          "base_uri": "https://localhost:8080/",
          "height": 35
        },
        "outputId": "f6751d99-b391-4c0d-acdf-64462ac4d580"
      },
      "source": [
        "doc = nlp('Hallo Welt')\n",
        "doc"
      ],
      "execution_count": 6,
      "outputs": [
        {
          "output_type": "execute_result",
          "data": {
            "text/plain": [
              "Hallo Welt"
            ]
          },
          "metadata": {
            "tags": []
          },
          "execution_count": 6
        }
      ]
    },
    {
      "cell_type": "markdown",
      "metadata": {
        "id": "yhs1GuN4eViB",
        "colab_type": "text"
      },
      "source": [
        "Hiszpański - pierwszy sposób"
      ]
    },
    {
      "cell_type": "code",
      "metadata": {
        "id": "8BPaB_HReRk8",
        "colab_type": "code",
        "colab": {
          "base_uri": "https://localhost:8080/",
          "height": 35
        },
        "outputId": "6e371c3e-d0b9-49c8-d45e-14630c99dba4"
      },
      "source": [
        "import spacy\n",
        "\n",
        "nlp = spacy.load('es_core_news_sm')\n",
        "nlp"
      ],
      "execution_count": 7,
      "outputs": [
        {
          "output_type": "execute_result",
          "data": {
            "text/plain": [
              "<spacy.lang.es.Spanish at 0x7fe1b9d8db38>"
            ]
          },
          "metadata": {
            "tags": []
          },
          "execution_count": 7
        }
      ]
    },
    {
      "cell_type": "code",
      "metadata": {
        "id": "Y4j5Gv-Neq6P",
        "colab_type": "code",
        "colab": {}
      },
      "source": [
        "doc = nlp('Hola mundo')\n",
        "doc"
      ],
      "execution_count": 0,
      "outputs": []
    },
    {
      "cell_type": "markdown",
      "metadata": {
        "id": "OakDNXFoeXzj",
        "colab_type": "text"
      },
      "source": [
        "Hiszpański - drugi sposób"
      ]
    },
    {
      "cell_type": "code",
      "metadata": {
        "id": "xzxXXahoeY0t",
        "colab_type": "code",
        "colab": {
          "base_uri": "https://localhost:8080/",
          "height": 35
        },
        "outputId": "3e78e1c4-09a1-4be1-f836-df027b4e0a15"
      },
      "source": [
        "import es_core_news_sm\n",
        "\n",
        "nlp = es_core_news_sm.load()\n",
        "nlp"
      ],
      "execution_count": 8,
      "outputs": [
        {
          "output_type": "execute_result",
          "data": {
            "text/plain": [
              "<spacy.lang.es.Spanish at 0x7fe1b75b90f0>"
            ]
          },
          "metadata": {
            "tags": []
          },
          "execution_count": 8
        }
      ]
    },
    {
      "cell_type": "code",
      "metadata": {
        "id": "vB4l3W4oejRD",
        "colab_type": "code",
        "colab": {}
      },
      "source": [
        "doc = nlp('Hola mundo')\n",
        "doc"
      ],
      "execution_count": 0,
      "outputs": []
    },
    {
      "cell_type": "markdown",
      "metadata": {
        "id": "DzKqXU5mfYXv",
        "colab_type": "text"
      },
      "source": [
        "https://spacy.io/usage/models"
      ]
    },
    {
      "cell_type": "markdown",
      "metadata": {
        "id": "QttWm80Rh6Mg",
        "colab_type": "text"
      },
      "source": [
        "Polski"
      ]
    },
    {
      "cell_type": "code",
      "metadata": {
        "id": "9r38gP9ghc4d",
        "colab_type": "code",
        "colab": {
          "base_uri": "https://localhost:8080/",
          "height": 35
        },
        "outputId": "b25bc592-bc3f-4a13-b7cd-cbaf7322a3fb"
      },
      "source": [
        "from spacy.lang.pl import Polish\n",
        "\n",
        "nlp = Polish()\n",
        "nlp"
      ],
      "execution_count": 13,
      "outputs": [
        {
          "output_type": "execute_result",
          "data": {
            "text/plain": [
              "<spacy.lang.pl.Polish at 0x7fe1b72cc6a0>"
            ]
          },
          "metadata": {
            "tags": []
          },
          "execution_count": 13
        }
      ]
    },
    {
      "cell_type": "code",
      "metadata": {
        "id": "0x4gxXw2hrUK",
        "colab_type": "code",
        "colab": {}
      },
      "source": [
        "doc = nlp('Witaj świecie!')"
      ],
      "execution_count": 0,
      "outputs": []
    }
  ]
}