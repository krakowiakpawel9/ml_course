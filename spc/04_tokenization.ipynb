{
  "nbformat": 4,
  "nbformat_minor": 0,
  "metadata": {
    "colab": {
      "name": "01_preprocessing.ipynb",
      "provenance": [],
      "include_colab_link": true
    },
    "kernelspec": {
      "name": "python3",
      "display_name": "Python 3"
    }
  },
  "cells": [
    {
      "cell_type": "markdown",
      "metadata": {
        "id": "view-in-github",
        "colab_type": "text"
      },
      "source": [
        "<a href=\"https://colab.research.google.com/github/krakowiakpawel9/ml_course/blob/master/spc/04_tokenization.ipynb\" target=\"_parent\"><img src=\"https://colab.research.google.com/assets/colab-badge.svg\" alt=\"Open In Colab\"/></a>"
      ]
    },
    {
      "cell_type": "markdown",
      "metadata": {
        "id": "UbjsT92Xd3z1",
        "colab_type": "text"
      },
      "source": [
        "* @author: krakowiakpawel9@gmail.com  \n",
        "* @site: e-smartdata.org\n",
        "\n",
        "### spaCy\n",
        "Strona biblioteki: [https://spacy.io/](https://spacy.io/)  \n",
        "\n",
        "Podstawowa biblioteka do przetwarzania języka naturalnego w języku Python.\n",
        "\n",
        "Aby zainstalować bibliotekę spaCy, użyj polecenia poniżej:\n",
        "```\n",
        "!pip install spacy\n",
        "```\n",
        "Aby zaktualizować do najnowszej wersji użyj polecenia poniżej:\n",
        "```\n",
        "!pip install --upgrade spacy\n",
        "```\n",
        "Kurs stworzony w oparciu o wersję `2.1.9`\n",
        "\n",
        "### Spis treści:\n",
        "1. [Import bibliotek](#0)\n",
        "2. [Wygenerowanie danych](#1)\n",
        "\n"
      ]
    },
    {
      "cell_type": "markdown",
      "metadata": {
        "id": "YkIALacsUnj7",
        "colab_type": "text"
      },
      "source": [
        "### <a name='0'></a> Import bibliotek"
      ]
    },
    {
      "cell_type": "code",
      "metadata": {
        "id": "4LkA1g0SIZ5C",
        "colab_type": "code",
        "outputId": "bdded80b-9167-41aa-d4f3-751aafbd6522",
        "colab": {
          "base_uri": "https://localhost:8080/",
          "height": 35
        }
      },
      "source": [
        "import spacy\n",
        "spacy.__version__"
      ],
      "execution_count": 1,
      "outputs": [
        {
          "output_type": "execute_result",
          "data": {
            "text/plain": [
              "'2.1.9'"
            ]
          },
          "metadata": {
            "tags": []
          },
          "execution_count": 1
        }
      ]
    },
    {
      "cell_type": "markdown",
      "metadata": {
        "id": "UmOo-vsxCJ-8",
        "colab_type": "text"
      },
      "source": [
        "Tokenizacja"
      ]
    },
    {
      "cell_type": "code",
      "metadata": {
        "id": "fOwWqYZdIbuE",
        "colab_type": "code",
        "colab": {
          "base_uri": "https://localhost:8080/",
          "height": 235
        },
        "outputId": "8cb87ed2-64d1-495d-a561-aa1a2d3cbe64"
      },
      "source": [
        "nlp = spacy.load('en_core_web_sm')\n",
        "doc = nlp('Udemy: online courses - learn anything, on your schedule.')\n",
        "\n",
        "for token in doc:\n",
        "    print(token)"
      ],
      "execution_count": 2,
      "outputs": [
        {
          "output_type": "stream",
          "text": [
            "Udemy\n",
            ":\n",
            "online\n",
            "courses\n",
            "-\n",
            "learn\n",
            "anything\n",
            ",\n",
            "on\n",
            "your\n",
            "schedule\n",
            ".\n"
          ],
          "name": "stdout"
        }
      ]
    },
    {
      "cell_type": "code",
      "metadata": {
        "id": "C4RnQcpm1mt5",
        "colab_type": "code",
        "colab": {
          "base_uri": "https://localhost:8080/",
          "height": 235
        },
        "outputId": "b7f3690e-91a8-4827-da08-a9800fe9a7a5"
      },
      "source": [
        "for token in doc:\n",
        "    print(type(token), token)"
      ],
      "execution_count": 3,
      "outputs": [
        {
          "output_type": "stream",
          "text": [
            "<class 'spacy.tokens.token.Token'> Udemy\n",
            "<class 'spacy.tokens.token.Token'> :\n",
            "<class 'spacy.tokens.token.Token'> online\n",
            "<class 'spacy.tokens.token.Token'> courses\n",
            "<class 'spacy.tokens.token.Token'> -\n",
            "<class 'spacy.tokens.token.Token'> learn\n",
            "<class 'spacy.tokens.token.Token'> anything\n",
            "<class 'spacy.tokens.token.Token'> ,\n",
            "<class 'spacy.tokens.token.Token'> on\n",
            "<class 'spacy.tokens.token.Token'> your\n",
            "<class 'spacy.tokens.token.Token'> schedule\n",
            "<class 'spacy.tokens.token.Token'> .\n"
          ],
          "name": "stdout"
        }
      ]
    },
    {
      "cell_type": "code",
      "metadata": {
        "id": "Hn7sFpqI1vyq",
        "colab_type": "code",
        "colab": {
          "base_uri": "https://localhost:8080/",
          "height": 235
        },
        "outputId": "c861f8ee-dfb2-4630-eef1-f19853dffdee"
      },
      "source": [
        "tokens = [token.text for token in doc]\n",
        "tokens"
      ],
      "execution_count": 4,
      "outputs": [
        {
          "output_type": "execute_result",
          "data": {
            "text/plain": [
              "['Udemy',\n",
              " ':',\n",
              " 'online',\n",
              " 'courses',\n",
              " '-',\n",
              " 'learn',\n",
              " 'anything',\n",
              " ',',\n",
              " 'on',\n",
              " 'your',\n",
              " 'schedule',\n",
              " '.']"
            ]
          },
          "metadata": {
            "tags": []
          },
          "execution_count": 4
        }
      ]
    },
    {
      "cell_type": "markdown",
      "metadata": {
        "id": "_J4PH4wO-F6d",
        "colab_type": "text"
      },
      "source": [
        "Dodawanie reguł tokenizacji"
      ]
    },
    {
      "cell_type": "code",
      "metadata": {
        "id": "C5HLnKzc-Kw7",
        "colab_type": "code",
        "colab": {
          "base_uri": "https://localhost:8080/",
          "height": 90
        },
        "outputId": "cbe77971-4ba1-4c1d-94de-a2424465e481"
      },
      "source": [
        "nlp = spacy.load('en_core_web_sm')\n",
        "doc = nlp('e_smartdata: online courses')\n",
        "\n",
        "for token in doc:\n",
        "    print(token)"
      ],
      "execution_count": 20,
      "outputs": [
        {
          "output_type": "stream",
          "text": [
            "e_smartdata\n",
            ":\n",
            "online\n",
            "courses\n"
          ],
          "name": "stdout"
        }
      ]
    },
    {
      "cell_type": "code",
      "metadata": {
        "id": "nRFk0W5R_JTv",
        "colab_type": "code",
        "colab": {}
      },
      "source": [
        "from spacy.symbols import ORTH\n",
        "\n",
        "nlp = spacy.load('en_core_web_sm')\n",
        "nlp.tokenizer.add_special_case('e_smartdata', [{ORTH: 'e_smart'}, {ORTH: 'data'}])"
      ],
      "execution_count": 0,
      "outputs": []
    },
    {
      "cell_type": "code",
      "metadata": {
        "id": "K-q6m-pg_CZM",
        "colab_type": "code",
        "colab": {
          "base_uri": "https://localhost:8080/",
          "height": 108
        },
        "outputId": "c85b1ffb-89ca-4f7a-dd82-2680c2673ef4"
      },
      "source": [
        "doc = nlp('e_smartdata: online courses')\n",
        "\n",
        "for token in doc:\n",
        "    print(token)"
      ],
      "execution_count": 22,
      "outputs": [
        {
          "output_type": "stream",
          "text": [
            "e_smart\n",
            "data\n",
            ":\n",
            "online\n",
            "courses\n"
          ],
          "name": "stdout"
        }
      ]
    },
    {
      "cell_type": "code",
      "metadata": {
        "id": "F_hKRvIsAhX0",
        "colab_type": "code",
        "colab": {
          "base_uri": "https://localhost:8080/",
          "height": 126
        },
        "outputId": "1f20c8e4-30de-4e00-96e6-56126d3b93b6"
      },
      "source": [
        "doc = nlp('e_smartdata: online courses :)')\n",
        "\n",
        "for token in doc:\n",
        "    print(token)"
      ],
      "execution_count": 25,
      "outputs": [
        {
          "output_type": "stream",
          "text": [
            "e_smart\n",
            "data\n",
            ":\n",
            "online\n",
            "courses\n",
            ":)\n"
          ],
          "name": "stdout"
        }
      ]
    },
    {
      "cell_type": "markdown",
      "metadata": {
        "id": "PRXhfzZeCLpk",
        "colab_type": "text"
      },
      "source": [
        "Zdania"
      ]
    },
    {
      "cell_type": "code",
      "metadata": {
        "id": "FKdcFPn1CMNp",
        "colab_type": "code",
        "colab": {
          "base_uri": "https://localhost:8080/",
          "height": 145
        },
        "outputId": "4396281d-78ce-4097-db10-ca6e59aa9b1a"
      },
      "source": [
        "nlp = spacy.load('en_core_web_sm')\n",
        "doc = nlp('Be careful! Anything could happen.')\n",
        "\n",
        "for token in doc:\n",
        "    print(token)"
      ],
      "execution_count": 31,
      "outputs": [
        {
          "output_type": "stream",
          "text": [
            "Be\n",
            "careful\n",
            "!\n",
            "Anything\n",
            "could\n",
            "happen\n",
            ".\n"
          ],
          "name": "stdout"
        }
      ]
    },
    {
      "cell_type": "code",
      "metadata": {
        "id": "h0UJ10fRCnj-",
        "colab_type": "code",
        "colab": {
          "base_uri": "https://localhost:8080/",
          "height": 54
        },
        "outputId": "c816d470-3a66-4f33-b9fc-b569956c91ad"
      },
      "source": [
        "for sent in doc.sents:\n",
        "    print(sent)"
      ],
      "execution_count": 32,
      "outputs": [
        {
          "output_type": "stream",
          "text": [
            "Be careful!\n",
            "Anything could happen.\n"
          ],
          "name": "stdout"
        }
      ]
    },
    {
      "cell_type": "code",
      "metadata": {
        "id": "tjWZxeXXCwXm",
        "colab_type": "code",
        "colab": {
          "base_uri": "https://localhost:8080/",
          "height": 35
        },
        "outputId": "a81adb99-7f3d-4a7c-84cd-76574d0c08c8"
      },
      "source": [
        "type(sent)"
      ],
      "execution_count": 33,
      "outputs": [
        {
          "output_type": "execute_result",
          "data": {
            "text/plain": [
              "spacy.tokens.span.Span"
            ]
          },
          "metadata": {
            "tags": []
          },
          "execution_count": 33
        }
      ]
    },
    {
      "cell_type": "code",
      "metadata": {
        "id": "JqB5s_l-Cxix",
        "colab_type": "code",
        "colab": {}
      },
      "source": [
        ""
      ],
      "execution_count": 0,
      "outputs": []
    }
  ]
}