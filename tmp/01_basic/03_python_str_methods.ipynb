{
  "nbformat": 4,
  "nbformat_minor": 0,
  "metadata": {
    "colab": {
      "name": "01_preprocessing.ipynb",
      "provenance": [],
      "include_colab_link": true
    },
    "kernelspec": {
      "name": "python3",
      "display_name": "Python 3"
    }
  },
  "cells": [
    {
      "cell_type": "markdown",
      "metadata": {
        "id": "view-in-github",
        "colab_type": "text"
      },
      "source": [
        "<a href=\"https://colab.research.google.com/github/krakowiakpawel9/ml_course/blob/master/tmp/01_basic/03_python_str_methods.ipynb\" target=\"_parent\"><img src=\"https://colab.research.google.com/assets/colab-badge.svg\" alt=\"Open In Colab\"/></a>"
      ]
    },
    {
      "cell_type": "markdown",
      "metadata": {
        "id": "UbjsT92Xd3z1",
        "colab_type": "text"
      },
      "source": [
        "* @author: krakowiakpawel9@gmail.com  \n",
        "* @site: e-smartdata.org\n",
        "\n",
        "### nltk\n",
        "Strona biblioteki: [https://www.nltk.org/](https://www.nltk.org/)  \n",
        "\n",
        "Podstawowa biblioteka do przetwarzania języka naturalnego w języku Python.\n",
        "\n",
        "Aby zainstalować bibliotekę nltk, użyj polecenia poniżej:\n",
        "```\n",
        "!pip install nltk\n",
        "```\n",
        "Aby zaktualizować do najnowszej wersji użyj polecenia poniżej:\n",
        "```\n",
        "!pip install --upgrade nltk\n",
        "```\n",
        "Kurs stworzony w oparciu o wersję `3.2.5`\n",
        "\n",
        "### Spis treści:\n",
        "1. [Praca z tekstem](#0)\n",
        "\n"
      ]
    },
    {
      "cell_type": "markdown",
      "metadata": {
        "id": "YkIALacsUnj7",
        "colab_type": "text"
      },
      "source": [
        "### <a name='0'></a> Praca z tekstem"
      ]
    },
    {
      "cell_type": "code",
      "metadata": {
        "id": "n5gCIYykFP2L",
        "colab_type": "code",
        "outputId": "9e13f196-ff96-4824-afd6-48950c0a0ab1",
        "colab": {
          "base_uri": "https://localhost:8080/",
          "height": 54
        }
      },
      "source": [
        "text = \"\"\"Python can be easy to pick up whether you're a first time programmer or you're experienced with other languages.\n",
        "Python is developed under an OSI-approved open source license, making it freely usable and distributable, even for commercial use.\"\"\"\n",
        "\n",
        "text"
      ],
      "execution_count": 0,
      "outputs": [
        {
          "output_type": "execute_result",
          "data": {
            "text/plain": [
              "\"Python can be easy to pick up whether you're a first time programmer or you're experienced with other languages.\\nPython is developed under an OSI-approved open source license, making it freely usable and distributable, even for commercial use.\""
            ]
          },
          "metadata": {
            "tags": []
          },
          "execution_count": 74
        }
      ]
    },
    {
      "cell_type": "code",
      "metadata": {
        "id": "yQcDwWpgFX7B",
        "colab_type": "code",
        "outputId": "b53e3cad-c56d-42c8-b2bf-5e2314a3457a",
        "colab": {
          "base_uri": "https://localhost:8080/",
          "height": 52
        }
      },
      "source": [
        "print(text)"
      ],
      "execution_count": 0,
      "outputs": [
        {
          "output_type": "stream",
          "text": [
            "Python can be easy to pick up whether you're a first time programmer or you're experienced with other languages.\n",
            "Python is developed under an OSI-approved open source license, making it freely usable and distributable, even for commercial use.\n"
          ],
          "name": "stdout"
        }
      ]
    },
    {
      "cell_type": "markdown",
      "metadata": {
        "id": "Vjibq7XgF10G",
        "colab_type": "text"
      },
      "source": [
        "Podział tekstu na słowa"
      ]
    },
    {
      "cell_type": "code",
      "metadata": {
        "id": "BOcF3ydFFhXR",
        "colab_type": "code",
        "outputId": "76ecb7ce-185f-4de3-a424-06a2c6bd72c4",
        "colab": {
          "base_uri": "https://localhost:8080/",
          "height": 686
        }
      },
      "source": [
        "words = text.split()\n",
        "words"
      ],
      "execution_count": 0,
      "outputs": [
        {
          "output_type": "execute_result",
          "data": {
            "text/plain": [
              "['Python',\n",
              " 'can',\n",
              " 'be',\n",
              " 'easy',\n",
              " 'to',\n",
              " 'pick',\n",
              " 'up',\n",
              " 'whether',\n",
              " \"you're\",\n",
              " 'a',\n",
              " 'first',\n",
              " 'time',\n",
              " 'programmer',\n",
              " 'or',\n",
              " \"you're\",\n",
              " 'experienced',\n",
              " 'with',\n",
              " 'other',\n",
              " 'languages.',\n",
              " 'Python',\n",
              " 'is',\n",
              " 'developed',\n",
              " 'under',\n",
              " 'an',\n",
              " 'OSI-approved',\n",
              " 'open',\n",
              " 'source',\n",
              " 'license,',\n",
              " 'making',\n",
              " 'it',\n",
              " 'freely',\n",
              " 'usable',\n",
              " 'and',\n",
              " 'distributable,',\n",
              " 'even',\n",
              " 'for',\n",
              " 'commercial',\n",
              " 'use.']"
            ]
          },
          "metadata": {
            "tags": []
          },
          "execution_count": 76
        }
      ]
    },
    {
      "cell_type": "code",
      "metadata": {
        "id": "YT-JWaSeFmEx",
        "colab_type": "code",
        "outputId": "ffe13da9-fbde-4bfc-dceb-c09d0e807d86",
        "colab": {
          "base_uri": "https://localhost:8080/",
          "height": 34
        }
      },
      "source": [
        "print(len(words))"
      ],
      "execution_count": 0,
      "outputs": [
        {
          "output_type": "stream",
          "text": [
            "38\n"
          ],
          "name": "stdout"
        }
      ]
    },
    {
      "cell_type": "markdown",
      "metadata": {
        "id": "U_Hi_oR5JFap",
        "colab_type": "text"
      },
      "source": [
        "Liczba zdań"
      ]
    },
    {
      "cell_type": "code",
      "metadata": {
        "id": "yNVeBsxLJGo6",
        "colab_type": "code",
        "outputId": "a201de8b-86e1-4336-e23d-ea432856e4a2",
        "colab": {
          "base_uri": "https://localhost:8080/",
          "height": 52
        }
      },
      "source": [
        "sentences = text.split('\\n')\n",
        "sentences"
      ],
      "execution_count": 0,
      "outputs": [
        {
          "output_type": "execute_result",
          "data": {
            "text/plain": [
              "[\"Python can be easy to pick up whether you're a first time programmer or you're experienced with other languages.\",\n",
              " 'Python is developed under an OSI-approved open source license, making it freely usable and distributable, even for commercial use.']"
            ]
          },
          "metadata": {
            "tags": []
          },
          "execution_count": 78
        }
      ]
    },
    {
      "cell_type": "code",
      "metadata": {
        "id": "NsRytW7MJT2n",
        "colab_type": "code",
        "outputId": "6d9aff82-aecf-4182-90cb-56619fd74abb",
        "colab": {
          "base_uri": "https://localhost:8080/",
          "height": 34
        }
      },
      "source": [
        "len(sentences)"
      ],
      "execution_count": 0,
      "outputs": [
        {
          "output_type": "execute_result",
          "data": {
            "text/plain": [
              "2"
            ]
          },
          "metadata": {
            "tags": []
          },
          "execution_count": 79
        }
      ]
    },
    {
      "cell_type": "markdown",
      "metadata": {
        "id": "AjqcxPR8F3Qi",
        "colab_type": "text"
      },
      "source": [
        "Liczba znaków"
      ]
    },
    {
      "cell_type": "code",
      "metadata": {
        "id": "3n8qB7knFxge",
        "colab_type": "code",
        "outputId": "35e89d6a-2be9-4db4-e3bb-6bd9e091fac6",
        "colab": {
          "base_uri": "https://localhost:8080/",
          "height": 34
        }
      },
      "source": [
        "print(len(text))"
      ],
      "execution_count": 0,
      "outputs": [
        {
          "output_type": "stream",
          "text": [
            "243\n"
          ],
          "name": "stdout"
        }
      ]
    },
    {
      "cell_type": "markdown",
      "metadata": {
        "id": "qxTpNEPpF9Gp",
        "colab_type": "text"
      },
      "source": [
        "Średnia długość słowa"
      ]
    },
    {
      "cell_type": "code",
      "metadata": {
        "id": "OTIH59f9F5JP",
        "colab_type": "code",
        "outputId": "fea43989-1c9e-4841-fe2b-902a867191ba",
        "colab": {
          "base_uri": "https://localhost:8080/",
          "height": 34
        }
      },
      "source": [
        "import numpy as np\n",
        "\n",
        "np.mean([len(word) for word in words])"
      ],
      "execution_count": 0,
      "outputs": [
        {
          "output_type": "execute_result",
          "data": {
            "text/plain": [
              "5.421052631578948"
            ]
          },
          "metadata": {
            "tags": []
          },
          "execution_count": 81
        }
      ]
    },
    {
      "cell_type": "markdown",
      "metadata": {
        "id": "Mdh_BookIfK8",
        "colab_type": "text"
      },
      "source": [
        "Odfiltrowanie tzw. stop words"
      ]
    },
    {
      "cell_type": "code",
      "metadata": {
        "id": "yeaCbwQUGDr0",
        "colab_type": "code",
        "outputId": "f6224258-57d3-47bf-8f25-0bd090fb9726",
        "colab": {
          "base_uri": "https://localhost:8080/",
          "height": 72
        }
      },
      "source": [
        "stop_words = ['a', 'an', 'and', 'be', 'can', 'for', 'is', 'it', 'or', 'other', 'to', 'under', 'up', 'with', 'you\\'re', 'you\\'re']\n",
        "\n",
        "filtered_words = []\n",
        "for word in words:\n",
        "    if word not in stop_words:\n",
        "        filtered_words.append(word)\n",
        "\n",
        "print(words)\n",
        "print(filtered_words)        "
      ],
      "execution_count": 0,
      "outputs": [
        {
          "output_type": "stream",
          "text": [
            "['Python', 'can', 'be', 'easy', 'to', 'pick', 'up', 'whether', \"you're\", 'a', 'first', 'time', 'programmer', 'or', \"you're\", 'experienced', 'with', 'other', 'languages.', 'Python', 'is', 'developed', 'under', 'an', 'OSI-approved', 'open', 'source', 'license,', 'making', 'it', 'freely', 'usable', 'and', 'distributable,', 'even', 'for', 'commercial', 'use.']\n",
            "['Python', 'easy', 'pick', 'whether', 'first', 'time', 'programmer', 'experienced', 'languages.', 'Python', 'developed', 'OSI-approved', 'open', 'source', 'license,', 'making', 'freely', 'usable', 'distributable,', 'even', 'commercial', 'use.']\n"
          ],
          "name": "stdout"
        }
      ]
    },
    {
      "cell_type": "code",
      "metadata": {
        "id": "-5tTEFvXGc0r",
        "colab_type": "code",
        "outputId": "8fb3b704-0273-480a-8a27-0cdb303d9eb9",
        "colab": {
          "base_uri": "https://localhost:8080/",
          "height": 70
        }
      },
      "source": [
        "print(f'words: {len(words)}')\n",
        "print(f'filtered_words: {len(filtered_words)}')\n",
        "print(f'ratio: {len(filtered_words) / len(words):.4f}')  "
      ],
      "execution_count": 0,
      "outputs": [
        {
          "output_type": "stream",
          "text": [
            "words: 38\n",
            "filtered_words: 22\n",
            "ratio: 0.5789\n"
          ],
          "name": "stdout"
        }
      ]
    },
    {
      "cell_type": "markdown",
      "metadata": {
        "id": "OXZTynSokRGG",
        "colab_type": "text"
      },
      "source": [
        "### Metody tekstowe w języku Python"
      ]
    },
    {
      "cell_type": "code",
      "metadata": {
        "id": "HMcOHAylIuA8",
        "colab_type": "code",
        "outputId": "71540a23-bc97-415c-d8dd-3db5a442451f",
        "colab": {
          "base_uri": "https://localhost:8080/",
          "height": 1000
        }
      },
      "source": [
        "dir(str)"
      ],
      "execution_count": 0,
      "outputs": [
        {
          "output_type": "execute_result",
          "data": {
            "text/plain": [
              "['__add__',\n",
              " '__class__',\n",
              " '__contains__',\n",
              " '__delattr__',\n",
              " '__dir__',\n",
              " '__doc__',\n",
              " '__eq__',\n",
              " '__format__',\n",
              " '__ge__',\n",
              " '__getattribute__',\n",
              " '__getitem__',\n",
              " '__getnewargs__',\n",
              " '__gt__',\n",
              " '__hash__',\n",
              " '__init__',\n",
              " '__init_subclass__',\n",
              " '__iter__',\n",
              " '__le__',\n",
              " '__len__',\n",
              " '__lt__',\n",
              " '__mod__',\n",
              " '__mul__',\n",
              " '__ne__',\n",
              " '__new__',\n",
              " '__reduce__',\n",
              " '__reduce_ex__',\n",
              " '__repr__',\n",
              " '__rmod__',\n",
              " '__rmul__',\n",
              " '__setattr__',\n",
              " '__sizeof__',\n",
              " '__str__',\n",
              " '__subclasshook__',\n",
              " 'capitalize',\n",
              " 'casefold',\n",
              " 'center',\n",
              " 'count',\n",
              " 'encode',\n",
              " 'endswith',\n",
              " 'expandtabs',\n",
              " 'find',\n",
              " 'format',\n",
              " 'format_map',\n",
              " 'index',\n",
              " 'isalnum',\n",
              " 'isalpha',\n",
              " 'isdecimal',\n",
              " 'isdigit',\n",
              " 'isidentifier',\n",
              " 'islower',\n",
              " 'isnumeric',\n",
              " 'isprintable',\n",
              " 'isspace',\n",
              " 'istitle',\n",
              " 'isupper',\n",
              " 'join',\n",
              " 'ljust',\n",
              " 'lower',\n",
              " 'lstrip',\n",
              " 'maketrans',\n",
              " 'partition',\n",
              " 'replace',\n",
              " 'rfind',\n",
              " 'rindex',\n",
              " 'rjust',\n",
              " 'rpartition',\n",
              " 'rsplit',\n",
              " 'rstrip',\n",
              " 'split',\n",
              " 'splitlines',\n",
              " 'startswith',\n",
              " 'strip',\n",
              " 'swapcase',\n",
              " 'title',\n",
              " 'translate',\n",
              " 'upper',\n",
              " 'zfill']"
            ]
          },
          "metadata": {
            "tags": []
          },
          "execution_count": 84
        }
      ]
    },
    {
      "cell_type": "markdown",
      "metadata": {
        "id": "evL2CGDbljxU",
        "colab_type": "text"
      },
      "source": [
        "str.capitalize()"
      ]
    },
    {
      "cell_type": "code",
      "metadata": {
        "id": "nnUAEWN6kPwD",
        "colab_type": "code",
        "outputId": "e9cd02ea-6ea6-4936-91fe-bd1992d6a04c",
        "colab": {
          "base_uri": "https://localhost:8080/",
          "height": 52
        }
      },
      "source": [
        "text = 'python jest popularnym językiem programowania.'\n",
        "\n",
        "# str.capitalize() - zwraca ciąg znaków, pierwszy napisany jest dużą literą\n",
        "print(text)\n",
        "print(text.capitalize())"
      ],
      "execution_count": 0,
      "outputs": [
        {
          "output_type": "stream",
          "text": [
            "python jest popularnym językiem programowania.\n",
            "Python jest popularnym językiem programowania.\n"
          ],
          "name": "stdout"
        }
      ]
    },
    {
      "cell_type": "markdown",
      "metadata": {
        "id": "_aPTMdCgllWI",
        "colab_type": "text"
      },
      "source": [
        "str.center()"
      ]
    },
    {
      "cell_type": "code",
      "metadata": {
        "id": "HqY6y11TlCc1",
        "colab_type": "code",
        "outputId": "5456a73b-9102-4430-f103-a12d38fd1010",
        "colab": {
          "base_uri": "https://localhost:8080/",
          "height": 52
        }
      },
      "source": [
        "text = 'python'\n",
        "\n",
        "print(text)\n",
        "print(text.center(10))"
      ],
      "execution_count": 0,
      "outputs": [
        {
          "output_type": "stream",
          "text": [
            "python\n",
            "  python  \n"
          ],
          "name": "stdout"
        }
      ]
    },
    {
      "cell_type": "code",
      "metadata": {
        "id": "nhvbuujIlWRv",
        "colab_type": "code",
        "outputId": "f9934b80-e7e6-4d94-f56d-efe618ca5f46",
        "colab": {
          "base_uri": "https://localhost:8080/",
          "height": 34
        }
      },
      "source": [
        "text.center(10)"
      ],
      "execution_count": 0,
      "outputs": [
        {
          "output_type": "execute_result",
          "data": {
            "text/plain": [
              "'  python  '"
            ]
          },
          "metadata": {
            "tags": []
          },
          "execution_count": 87
        }
      ]
    },
    {
      "cell_type": "markdown",
      "metadata": {
        "id": "kF5yNGmClnKE",
        "colab_type": "text"
      },
      "source": [
        "str.count()"
      ]
    },
    {
      "cell_type": "code",
      "metadata": {
        "id": "z85IZQAZlYG3",
        "colab_type": "code",
        "outputId": "f9704179-884f-4570-bab7-8558648097ad",
        "colab": {
          "base_uri": "https://localhost:8080/",
          "height": 52
        }
      },
      "source": [
        "text = 'python jest popularnym językiem programowania.'\n",
        "\n",
        "print(text)\n",
        "print(text.count('p'))"
      ],
      "execution_count": 0,
      "outputs": [
        {
          "output_type": "stream",
          "text": [
            "python jest popularnym językiem programowania.\n",
            "4\n"
          ],
          "name": "stdout"
        }
      ]
    },
    {
      "cell_type": "code",
      "metadata": {
        "id": "x4-8v52RlrBf",
        "colab_type": "code",
        "outputId": "532f936e-bc58-4d8c-fbd2-34368f65737d",
        "colab": {
          "base_uri": "https://localhost:8080/",
          "height": 52
        }
      },
      "source": [
        "print(text)\n",
        "print(text.count('python'))"
      ],
      "execution_count": 0,
      "outputs": [
        {
          "output_type": "stream",
          "text": [
            "python jest popularnym językiem programowania.\n",
            "1\n"
          ],
          "name": "stdout"
        }
      ]
    },
    {
      "cell_type": "markdown",
      "metadata": {
        "id": "ITtCEgRwl9lu",
        "colab_type": "text"
      },
      "source": [
        "str.endswith()"
      ]
    },
    {
      "cell_type": "code",
      "metadata": {
        "id": "CMhg7uC9lxIJ",
        "colab_type": "code",
        "outputId": "8c8c5559-b293-4247-889d-909e4ea1a99c",
        "colab": {
          "base_uri": "https://localhost:8080/",
          "height": 70
        }
      },
      "source": [
        "code = 'FVNISJND-XX'\n",
        "\n",
        "print(code)\n",
        "print(code.endswith('XX'))\n",
        "print(code.endswith('YY'))"
      ],
      "execution_count": 0,
      "outputs": [
        {
          "output_type": "stream",
          "text": [
            "FVNISJND-XX\n",
            "True\n",
            "False\n"
          ],
          "name": "stdout"
        }
      ]
    },
    {
      "cell_type": "markdown",
      "metadata": {
        "id": "8P-FVw2iPxk-",
        "colab_type": "text"
      },
      "source": [
        "str.startswith()"
      ]
    },
    {
      "cell_type": "code",
      "metadata": {
        "id": "65L_gp91PzKt",
        "colab_type": "code",
        "outputId": "cd55acf7-87e8-47fc-99b5-ebcbba5b1829",
        "colab": {
          "base_uri": "https://localhost:8080/",
          "height": 70
        }
      },
      "source": [
        "code = 'FVNISJND-XX'\n",
        "\n",
        "print(code)\n",
        "print(code.startswith('FV'))\n",
        "print(code.startswith('FW'))"
      ],
      "execution_count": 0,
      "outputs": [
        {
          "output_type": "stream",
          "text": [
            "FVNISJND-XX\n",
            "True\n",
            "False\n"
          ],
          "name": "stdout"
        }
      ]
    },
    {
      "cell_type": "markdown",
      "metadata": {
        "id": "4CJTHEErmS9g",
        "colab_type": "text"
      },
      "source": [
        "str.find()"
      ]
    },
    {
      "cell_type": "code",
      "metadata": {
        "id": "BzlR5WyomGnD",
        "colab_type": "code",
        "outputId": "6ed35a11-f402-4ce5-f150-5a90de8a32ae",
        "colab": {
          "base_uri": "https://localhost:8080/",
          "height": 70
        }
      },
      "source": [
        "code = 'FVNISJND-XX'\n",
        "\n",
        "print(code)\n",
        "print(code.find('XX'))\n",
        "print(code.find('YY'))"
      ],
      "execution_count": 0,
      "outputs": [
        {
          "output_type": "stream",
          "text": [
            "FVNISJND-XX\n",
            "9\n",
            "-1\n"
          ],
          "name": "stdout"
        }
      ]
    },
    {
      "cell_type": "markdown",
      "metadata": {
        "id": "NTwHjyCemc-V",
        "colab_type": "text"
      },
      "source": [
        "str.format()"
      ]
    },
    {
      "cell_type": "code",
      "metadata": {
        "id": "x0By2y6DmX9H",
        "colab_type": "code",
        "outputId": "1d0e95bf-0c35-4237-e764-50baf7e94eef",
        "colab": {
          "base_uri": "https://localhost:8080/",
          "height": 87
        }
      },
      "source": [
        "print('Price: {} PLN'.format(3))\n",
        "print('Price: {:.2f} PLN'.format(3))\n",
        "print('Price: {:.2f} PLN'.format(3.1415))\n",
        "print('Price: {:.2f} PLN'.format(3.145))"
      ],
      "execution_count": 0,
      "outputs": [
        {
          "output_type": "stream",
          "text": [
            "Price: 3 PLN\n",
            "Price: 3.00 PLN\n",
            "Price: 3.14 PLN\n",
            "Price: 3.15 PLN\n"
          ],
          "name": "stdout"
        }
      ]
    },
    {
      "cell_type": "code",
      "metadata": {
        "id": "4ZJezE-it-Xm",
        "colab_type": "code",
        "outputId": "d84150f7-e2df-448f-c097-7f8f466a8832",
        "colab": {
          "base_uri": "https://localhost:8080/",
          "height": 34
        }
      },
      "source": [
        "print(f'Price: {3.145:.2f} PLN')"
      ],
      "execution_count": 0,
      "outputs": [
        {
          "output_type": "stream",
          "text": [
            "Price: 3.15 PLN\n"
          ],
          "name": "stdout"
        }
      ]
    },
    {
      "cell_type": "markdown",
      "metadata": {
        "id": "ZBknLfVEnFvG",
        "colab_type": "text"
      },
      "source": [
        "str.index()"
      ]
    },
    {
      "cell_type": "code",
      "metadata": {
        "id": "IhMUNWn1mh8H",
        "colab_type": "code",
        "outputId": "91e858e5-f68a-46b7-a3d7-46615aa5ac20",
        "colab": {
          "base_uri": "https://localhost:8080/",
          "height": 52
        }
      },
      "source": [
        "code = 'FVNISJND-XX'\n",
        "\n",
        "print(code)\n",
        "print(code.index('XX'))\n",
        "# wygeneruje błąd\n",
        "# print(code.index('YY'))"
      ],
      "execution_count": 0,
      "outputs": [
        {
          "output_type": "stream",
          "text": [
            "FVNISJND-XX\n",
            "9\n"
          ],
          "name": "stdout"
        }
      ]
    },
    {
      "cell_type": "markdown",
      "metadata": {
        "id": "IpzX1p97nT3e",
        "colab_type": "text"
      },
      "source": [
        "str.isalnum()"
      ]
    },
    {
      "cell_type": "code",
      "metadata": {
        "id": "dXDuPAxqnKIJ",
        "colab_type": "code",
        "outputId": "e8101352-a05e-47bf-b711-e3e4d608a453",
        "colab": {
          "base_uri": "https://localhost:8080/",
          "height": 70
        }
      },
      "source": [
        "code1 = 'FVNISJND-XX'\n",
        "code2 = 'FVNISJNDXX'\n",
        "\n",
        "print(code1)\n",
        "print(code1.isalnum())\n",
        "print(code2.isalnum())"
      ],
      "execution_count": 0,
      "outputs": [
        {
          "output_type": "stream",
          "text": [
            "FVNISJND-XX\n",
            "False\n",
            "True\n"
          ],
          "name": "stdout"
        }
      ]
    },
    {
      "cell_type": "markdown",
      "metadata": {
        "id": "VaO6CCO8niAn",
        "colab_type": "text"
      },
      "source": [
        "str.isalpha()"
      ]
    },
    {
      "cell_type": "code",
      "metadata": {
        "id": "Mfnu92zAnXxr",
        "colab_type": "code",
        "outputId": "9afb6c2e-cd5d-4efc-f8ff-21838ff4cd14",
        "colab": {
          "base_uri": "https://localhost:8080/",
          "height": 70
        }
      },
      "source": [
        "code1 = 'FVNISJNDXX'\n",
        "code2 = 'FVNISJNDXX2000'\n",
        "\n",
        "print(code1)\n",
        "print(code1.isalpha())\n",
        "print(code2.isalpha())"
      ],
      "execution_count": 0,
      "outputs": [
        {
          "output_type": "stream",
          "text": [
            "FVNISJNDXX\n",
            "True\n",
            "False\n"
          ],
          "name": "stdout"
        }
      ]
    },
    {
      "cell_type": "markdown",
      "metadata": {
        "id": "TKZ4V6Z-oeRB",
        "colab_type": "text"
      },
      "source": [
        "str.isdigit()"
      ]
    },
    {
      "cell_type": "code",
      "metadata": {
        "id": "WoLZQlnwn5uW",
        "colab_type": "code",
        "outputId": "7c786c66-d155-4f01-8fe7-61bbf5cb4169",
        "colab": {
          "base_uri": "https://localhost:8080/",
          "height": 70
        }
      },
      "source": [
        "code1 = 'FVNISJNDXX'\n",
        "code2 = '2000'\n",
        "\n",
        "print(code1)\n",
        "print(code1.isdigit())\n",
        "print(code2.isdigit())"
      ],
      "execution_count": 0,
      "outputs": [
        {
          "output_type": "stream",
          "text": [
            "FVNISJNDXX\n",
            "False\n",
            "True\n"
          ],
          "name": "stdout"
        }
      ]
    },
    {
      "cell_type": "markdown",
      "metadata": {
        "id": "rneoA-TzooWj",
        "colab_type": "text"
      },
      "source": [
        "str.islower()"
      ]
    },
    {
      "cell_type": "code",
      "metadata": {
        "id": "wUQhLF95oHyN",
        "colab_type": "code",
        "outputId": "900973a8-92f4-4b04-9545-f9afac9e2d4d",
        "colab": {
          "base_uri": "https://localhost:8080/",
          "height": 87
        }
      },
      "source": [
        "text = 'python jest popularnym językiem programowania.'\n",
        "\n",
        "print(text)\n",
        "print(text.islower())\n",
        "print(text.capitalize())\n",
        "print(text.capitalize().islower())"
      ],
      "execution_count": 0,
      "outputs": [
        {
          "output_type": "stream",
          "text": [
            "python jest popularnym językiem programowania.\n",
            "True\n",
            "Python jest popularnym językiem programowania.\n",
            "False\n"
          ],
          "name": "stdout"
        }
      ]
    },
    {
      "cell_type": "markdown",
      "metadata": {
        "id": "4aLig8M3pJZ_",
        "colab_type": "text"
      },
      "source": [
        "str.isspace()"
      ]
    },
    {
      "cell_type": "code",
      "metadata": {
        "id": "K1Gu-Z4Jotvd",
        "colab_type": "code",
        "outputId": "4f7f6d8f-d1bf-45de-efda-c281453a5ca5",
        "colab": {
          "base_uri": "https://localhost:8080/",
          "height": 70
        }
      },
      "source": [
        "text1 = '    '\n",
        "text2 = '    #'\n",
        "\n",
        "print(text1)\n",
        "print(text1.isspace())\n",
        "print(text2.isspace())"
      ],
      "execution_count": 0,
      "outputs": [
        {
          "output_type": "stream",
          "text": [
            "    \n",
            "True\n",
            "False\n"
          ],
          "name": "stdout"
        }
      ]
    },
    {
      "cell_type": "markdown",
      "metadata": {
        "id": "tkMFLlMjpZ7l",
        "colab_type": "text"
      },
      "source": [
        "str.istitle()"
      ]
    },
    {
      "cell_type": "code",
      "metadata": {
        "id": "fyyR8UV_pO-R",
        "colab_type": "code",
        "outputId": "10a8e71f-0d78-4070-dc1c-53b46842e2a8",
        "colab": {
          "base_uri": "https://localhost:8080/",
          "height": 70
        }
      },
      "source": [
        "text1 = 'Google Colab'\n",
        "text2 = 'Google colab'\n",
        "\n",
        "print(text1)\n",
        "print(text1.istitle())\n",
        "print(text2.istitle())"
      ],
      "execution_count": 0,
      "outputs": [
        {
          "output_type": "stream",
          "text": [
            "Google Colab\n",
            "True\n",
            "False\n"
          ],
          "name": "stdout"
        }
      ]
    },
    {
      "cell_type": "markdown",
      "metadata": {
        "id": "qhxKDYXKtD3X",
        "colab_type": "text"
      },
      "source": [
        "str.isupper()"
      ]
    },
    {
      "cell_type": "code",
      "metadata": {
        "id": "stru7mFltASK",
        "colab_type": "code",
        "outputId": "eda71dde-2746-41db-b20a-0d8f02376a39",
        "colab": {
          "base_uri": "https://localhost:8080/",
          "height": 70
        }
      },
      "source": [
        "text1 = 'GOOGLE'\n",
        "text2 = 'Google'\n",
        "\n",
        "print(text1)\n",
        "print(text1.isupper())\n",
        "print(text2.isupper())"
      ],
      "execution_count": 0,
      "outputs": [
        {
          "output_type": "stream",
          "text": [
            "GOOGLE\n",
            "True\n",
            "False\n"
          ],
          "name": "stdout"
        }
      ]
    },
    {
      "cell_type": "markdown",
      "metadata": {
        "id": "s-0H0OFPtR-O",
        "colab_type": "text"
      },
      "source": [
        "str.join()"
      ]
    },
    {
      "cell_type": "code",
      "metadata": {
        "id": "Cmn4FZcUtPSf",
        "colab_type": "code",
        "outputId": "b69a5c66-7c06-49a2-ee99-a6bc53fd80cf",
        "colab": {
          "base_uri": "https://localhost:8080/",
          "height": 87
        }
      },
      "source": [
        "print(' '.join(('Google', 'Colab')))\n",
        "print(' '.join(['Google', 'Colab']))\n",
        "print(','.join(['Open', 'High', 'Low', 'Close']))\n",
        "print('#'.join(['Open', 'High', 'Low', 'Close']))"
      ],
      "execution_count": 0,
      "outputs": [
        {
          "output_type": "stream",
          "text": [
            "Google Colab\n",
            "Google Colab\n",
            "Open,High,Low,Close\n",
            "Open#High#Low#Close\n"
          ],
          "name": "stdout"
        }
      ]
    },
    {
      "cell_type": "markdown",
      "metadata": {
        "id": "Rkz920Mztt1X",
        "colab_type": "text"
      },
      "source": [
        "str.ljust()"
      ]
    },
    {
      "cell_type": "code",
      "metadata": {
        "id": "s53LEFHrtXad",
        "colab_type": "code",
        "outputId": "95944a97-b6b7-4bcd-b2d9-0678f73bc4da",
        "colab": {
          "base_uri": "https://localhost:8080/",
          "height": 52
        }
      },
      "source": [
        "price = 9.99 \n",
        "count = 10\n",
        "\n",
        "print(f'To kosztuje {price}.')\n",
        "print(f'cena: {str(price).ljust(10)} ilość: {count}')"
      ],
      "execution_count": 0,
      "outputs": [
        {
          "output_type": "stream",
          "text": [
            "To kosztuje 9.99.\n",
            "cena: 9.99       ilość: 10\n"
          ],
          "name": "stdout"
        }
      ]
    },
    {
      "cell_type": "markdown",
      "metadata": {
        "id": "3LThYqW9OMyk",
        "colab_type": "text"
      },
      "source": [
        "str.rjust()"
      ]
    },
    {
      "cell_type": "code",
      "metadata": {
        "id": "cVL1r02QN8nZ",
        "colab_type": "code",
        "outputId": "61f0a16f-4d97-456d-a6ab-41b2e737b5e8",
        "colab": {
          "base_uri": "https://localhost:8080/",
          "height": 52
        }
      },
      "source": [
        "price = 9.99 \n",
        "count = 10\n",
        "\n",
        "print(f'To kosztuje {price}.')\n",
        "print(f'cena: {str(price).rjust(10)} ilość: {count}')"
      ],
      "execution_count": 0,
      "outputs": [
        {
          "output_type": "stream",
          "text": [
            "To kosztuje 9.99.\n",
            "cena:       9.99 ilość: 10\n"
          ],
          "name": "stdout"
        }
      ]
    },
    {
      "cell_type": "markdown",
      "metadata": {
        "id": "GCvcDkYsMlNj",
        "colab_type": "text"
      },
      "source": [
        "str.lower()"
      ]
    },
    {
      "cell_type": "code",
      "metadata": {
        "id": "gpLGG7kYt03r",
        "colab_type": "code",
        "outputId": "cb99e146-5827-4846-8835-ba90dc01e2e8",
        "colab": {
          "base_uri": "https://localhost:8080/",
          "height": 52
        }
      },
      "source": [
        "text = 'Google Colab'\n",
        "\n",
        "print(text)\n",
        "print(text.lower())"
      ],
      "execution_count": 0,
      "outputs": [
        {
          "output_type": "stream",
          "text": [
            "GOOGLE\n",
            "google colab\n"
          ],
          "name": "stdout"
        }
      ]
    },
    {
      "cell_type": "markdown",
      "metadata": {
        "id": "Rti2it7TQRkT",
        "colab_type": "text"
      },
      "source": [
        "str.upper()"
      ]
    },
    {
      "cell_type": "code",
      "metadata": {
        "id": "XLt6iJY8QSzB",
        "colab_type": "code",
        "outputId": "a2ca8bff-8cb7-4940-c68c-4885d7664f85",
        "colab": {
          "base_uri": "https://localhost:8080/",
          "height": 52
        }
      },
      "source": [
        "text = 'Google Colab'\n",
        "\n",
        "print(text)\n",
        "print(text.upper())"
      ],
      "execution_count": 0,
      "outputs": [
        {
          "output_type": "stream",
          "text": [
            "Google Colab\n",
            "GOOGLE COLAB\n"
          ],
          "name": "stdout"
        }
      ]
    },
    {
      "cell_type": "markdown",
      "metadata": {
        "id": "u4z0fPRCNaXy",
        "colab_type": "text"
      },
      "source": [
        "str.lstrip()"
      ]
    },
    {
      "cell_type": "code",
      "metadata": {
        "id": "-IUj5076Mq0p",
        "colab_type": "code",
        "outputId": "a97841b2-877b-4955-962f-6cdccf72778b",
        "colab": {
          "base_uri": "https://localhost:8080/",
          "height": 52
        }
      },
      "source": [
        "text = '  Google Colab  '\n",
        "\n",
        "print(text)\n",
        "print(text.lstrip())"
      ],
      "execution_count": 0,
      "outputs": [
        {
          "output_type": "stream",
          "text": [
            "  Google Colab  \n",
            "Google Colab  \n"
          ],
          "name": "stdout"
        }
      ]
    },
    {
      "cell_type": "markdown",
      "metadata": {
        "id": "cQGO8VG1O7af",
        "colab_type": "text"
      },
      "source": [
        "str.rstrip()"
      ]
    },
    {
      "cell_type": "code",
      "metadata": {
        "id": "05wMbdbmO82s",
        "colab_type": "code",
        "outputId": "f0a18b5d-cb68-4c78-90d4-80feb46d64f4",
        "colab": {
          "base_uri": "https://localhost:8080/",
          "height": 52
        }
      },
      "source": [
        "text = '  Google Colab   '\n",
        "\n",
        "print(text)\n",
        "print(text.rstrip())"
      ],
      "execution_count": 0,
      "outputs": [
        {
          "output_type": "stream",
          "text": [
            "  Google Colab   \n",
            "  Google Colab\n"
          ],
          "name": "stdout"
        }
      ]
    },
    {
      "cell_type": "markdown",
      "metadata": {
        "id": "RULoL9FUPFk6",
        "colab_type": "text"
      },
      "source": [
        "str.strip()"
      ]
    },
    {
      "cell_type": "code",
      "metadata": {
        "id": "GYnoKp9VPCaK",
        "colab_type": "code",
        "outputId": "f80b75fd-fea3-494d-f8b5-887408fed878",
        "colab": {
          "base_uri": "https://localhost:8080/",
          "height": 52
        }
      },
      "source": [
        "text = '  Google Colab   '\n",
        "\n",
        "print(text)\n",
        "print(text.strip())"
      ],
      "execution_count": 0,
      "outputs": [
        {
          "output_type": "stream",
          "text": [
            "  Google Colab   \n",
            "Google Colab\n"
          ],
          "name": "stdout"
        }
      ]
    },
    {
      "cell_type": "markdown",
      "metadata": {
        "id": "mb5J-HOcNqLs",
        "colab_type": "text"
      },
      "source": [
        "str.partition()"
      ]
    },
    {
      "cell_type": "code",
      "metadata": {
        "id": "HVYSXVsGNe6L",
        "colab_type": "code",
        "outputId": "e922508d-f72f-484c-840b-7e84a34d57b8",
        "colab": {
          "base_uri": "https://localhost:8080/",
          "height": 52
        }
      },
      "source": [
        "code = 'FVNISJND-XX'\n",
        "\n",
        "print(code)\n",
        "print(code.partition('-'))"
      ],
      "execution_count": 0,
      "outputs": [
        {
          "output_type": "stream",
          "text": [
            "FVNISJND-XX\n",
            "('FVNISJND', '-', 'XX')\n"
          ],
          "name": "stdout"
        }
      ]
    },
    {
      "cell_type": "markdown",
      "metadata": {
        "id": "n9wQTYAsOZCW",
        "colab_type": "text"
      },
      "source": [
        "str.rpartition()"
      ]
    },
    {
      "cell_type": "code",
      "metadata": {
        "id": "j6mY1SeUObfj",
        "colab_type": "code",
        "outputId": "6b9c58d7-e0da-4421-898b-cf56b6b1a9c4",
        "colab": {
          "base_uri": "https://localhost:8080/",
          "height": 70
        }
      },
      "source": [
        "code = 'FVNISJND-XX-YY'\n",
        "\n",
        "print(code)\n",
        "print(code.partition('-'))\n",
        "print(code.rpartition('-'))"
      ],
      "execution_count": 0,
      "outputs": [
        {
          "output_type": "stream",
          "text": [
            "FVNISJND-XX-YY\n",
            "('FVNISJND', '-', 'XX-YY')\n",
            "('FVNISJND-XX', '-', 'YY')\n"
          ],
          "name": "stdout"
        }
      ]
    },
    {
      "cell_type": "markdown",
      "metadata": {
        "id": "qvoZwRbON4oi",
        "colab_type": "text"
      },
      "source": [
        "str.replace()"
      ]
    },
    {
      "cell_type": "code",
      "metadata": {
        "id": "_A6_WfZfNzSS",
        "colab_type": "code",
        "outputId": "3efe1747-0d19-4ee8-cebd-5a4fafb2bbf2",
        "colab": {
          "base_uri": "https://localhost:8080/",
          "height": 70
        }
      },
      "source": [
        "code = 'FVNISJND-XX'\n",
        "\n",
        "print(code)\n",
        "print(code.replace('-', ' '))\n",
        "print(code.replace('-', ''))"
      ],
      "execution_count": 0,
      "outputs": [
        {
          "output_type": "stream",
          "text": [
            "FVNISJND-XX\n",
            "FVNISJND XX\n",
            "FVNISJNDXX\n"
          ],
          "name": "stdout"
        }
      ]
    },
    {
      "cell_type": "markdown",
      "metadata": {
        "id": "JwAngtwbPHgc",
        "colab_type": "text"
      },
      "source": [
        "str.split()"
      ]
    },
    {
      "cell_type": "code",
      "metadata": {
        "id": "f3FVQNPeOOvD",
        "colab_type": "code",
        "outputId": "f21328b5-84dc-4edd-8558-0405d0cf5240",
        "colab": {
          "base_uri": "https://localhost:8080/",
          "height": 52
        }
      },
      "source": [
        "text = 'Open,High,Low,Close'\n",
        "\n",
        "print(text)\n",
        "print(text.split(','))"
      ],
      "execution_count": 0,
      "outputs": [
        {
          "output_type": "stream",
          "text": [
            "Open,High,Low,Close\n",
            "['Open', 'High', 'Low', 'Close']\n"
          ],
          "name": "stdout"
        }
      ]
    },
    {
      "cell_type": "markdown",
      "metadata": {
        "id": "EcdPXIurPW-p",
        "colab_type": "text"
      },
      "source": [
        "str.rsplit()"
      ]
    },
    {
      "cell_type": "code",
      "metadata": {
        "id": "p_Ks9Am1PMdV",
        "colab_type": "code",
        "outputId": "46bd648a-0092-41ad-bc2e-55e970225ddb",
        "colab": {
          "base_uri": "https://localhost:8080/",
          "height": 70
        }
      },
      "source": [
        "text = 'Open,High,Low,Close'\n",
        "\n",
        "print(text.rsplit(','))\n",
        "print(text.rsplit(',', 1))\n",
        "print(text.rsplit(',', 2))"
      ],
      "execution_count": 0,
      "outputs": [
        {
          "output_type": "stream",
          "text": [
            "['Open', 'High', 'Low', 'Close']\n",
            "['Open,High,Low', 'Close']\n",
            "['Open,High', 'Low', 'Close']\n"
          ],
          "name": "stdout"
        }
      ]
    },
    {
      "cell_type": "markdown",
      "metadata": {
        "id": "90em8bzIPeSM",
        "colab_type": "text"
      },
      "source": [
        "str.splitlines()"
      ]
    },
    {
      "cell_type": "code",
      "metadata": {
        "id": "-epHLF2zPat-",
        "colab_type": "code",
        "outputId": "3b61bfd7-aac1-4bd6-acec-11ddf627b997",
        "colab": {
          "base_uri": "https://localhost:8080/",
          "height": 70
        }
      },
      "source": [
        "text = 'Python jest językiem ogólnego przeznaczenia.\\nPython jest popularny.'\n",
        "\n",
        "print(text)\n",
        "print(text.splitlines())"
      ],
      "execution_count": 0,
      "outputs": [
        {
          "output_type": "stream",
          "text": [
            "Python jest językiem ogólnego przeznaczenia.\n",
            "Python jest popularny.\n",
            "['Python jest językiem ogólnego przeznaczenia.', 'Python jest popularny.']\n"
          ],
          "name": "stdout"
        }
      ]
    },
    {
      "cell_type": "markdown",
      "metadata": {
        "id": "GaTlLIsDP8tP",
        "colab_type": "text"
      },
      "source": [
        "str.swapcase()"
      ]
    },
    {
      "cell_type": "code",
      "metadata": {
        "id": "YjTzOyMyPpH3",
        "colab_type": "code",
        "outputId": "5b9a8b8a-09fb-4924-ad7b-b03056413132",
        "colab": {
          "base_uri": "https://localhost:8080/",
          "height": 52
        }
      },
      "source": [
        "text = 'Python'\n",
        "\n",
        "print(text)\n",
        "print(text.swapcase())"
      ],
      "execution_count": 0,
      "outputs": [
        {
          "output_type": "stream",
          "text": [
            "Python\n",
            "pYTHON\n"
          ],
          "name": "stdout"
        }
      ]
    },
    {
      "cell_type": "markdown",
      "metadata": {
        "id": "Lw0avsx6QH9w",
        "colab_type": "text"
      },
      "source": [
        "str.title()"
      ]
    },
    {
      "cell_type": "code",
      "metadata": {
        "id": "Yvdr6vN1QClV",
        "colab_type": "code",
        "outputId": "03d6801d-53f8-4fbf-996d-31860e2adae3",
        "colab": {
          "base_uri": "https://localhost:8080/",
          "height": 52
        }
      },
      "source": [
        "text = 'Python jest językiem ogólnego przeznaczenia.'\n",
        "\n",
        "print(text)\n",
        "print(text.title())"
      ],
      "execution_count": 0,
      "outputs": [
        {
          "output_type": "stream",
          "text": [
            "Python jest językiem ogólnego przeznaczenia.\n",
            "Python Jest Językiem Ogólnego Przeznaczenia.\n"
          ],
          "name": "stdout"
        }
      ]
    },
    {
      "cell_type": "markdown",
      "metadata": {
        "id": "2VhL8mVxQY2P",
        "colab_type": "text"
      },
      "source": [
        "str.zfill()"
      ]
    },
    {
      "cell_type": "code",
      "metadata": {
        "id": "dKoP7DjpQKAr",
        "colab_type": "code",
        "outputId": "65d6d3f7-c19a-454d-d01f-67f129a5beb4",
        "colab": {
          "base_uri": "https://localhost:8080/",
          "height": 52
        }
      },
      "source": [
        "print('12221'.zfill(8))\n",
        "print('42'.zfill(8))"
      ],
      "execution_count": 0,
      "outputs": [
        {
          "output_type": "stream",
          "text": [
            "00012221\n",
            "00000042\n"
          ],
          "name": "stdout"
        }
      ]
    },
    {
      "cell_type": "code",
      "metadata": {
        "id": "M5qIAeRbQev7",
        "colab_type": "code",
        "colab": {}
      },
      "source": [
        ""
      ],
      "execution_count": 0,
      "outputs": []
    }
  ]
}