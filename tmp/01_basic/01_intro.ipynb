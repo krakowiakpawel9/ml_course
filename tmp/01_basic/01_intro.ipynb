{
  "nbformat": 4,
  "nbformat_minor": 0,
  "metadata": {
    "colab": {
      "name": "01_preprocessing.ipynb",
      "provenance": [],
      "include_colab_link": true
    },
    "kernelspec": {
      "name": "python3",
      "display_name": "Python 3"
    }
  },
  "cells": [
    {
      "cell_type": "markdown",
      "metadata": {
        "id": "view-in-github",
        "colab_type": "text"
      },
      "source": [
        "<a href=\"https://colab.research.google.com/github/krakowiakpawel9/ml_course/blob/master/tmp/01_basic/01_intro.ipynb\" target=\"_parent\"><img src=\"https://colab.research.google.com/assets/colab-badge.svg\" alt=\"Open In Colab\"/></a>"
      ]
    },
    {
      "cell_type": "markdown",
      "metadata": {
        "id": "UbjsT92Xd3z1",
        "colab_type": "text"
      },
      "source": [
        "* @author: krakowiakpawel9@gmail.com  \n",
        "* @site: e-smartdata.org\n",
        "\n",
        "### Spis treści:\n",
        "1. [Pobranie danych](#0)\n",
        "2. [Wczytanie pliku tekstowego](#1)\n",
        "3. [Praca z tekstem](#2)\n",
        "\n"
      ]
    },
    {
      "cell_type": "markdown",
      "metadata": {
        "id": "YkIALacsUnj7",
        "colab_type": "text"
      },
      "source": [
        "### <a name='0'></a> Pobranie danych"
      ]
    },
    {
      "cell_type": "code",
      "metadata": {
        "id": "XSST7ZtmyAK5",
        "colab_type": "code",
        "outputId": "c18ab8b0-cd80-4fa4-e6fa-233a6cf7bc25",
        "colab": {
          "base_uri": "https://localhost:8080/",
          "height": 394
        }
      },
      "source": [
        "!wget https://storage.googleapis.com/esmartdata-courses-files/nlp-course/tom-sawyer.txt\n",
        "!wget https://storage.googleapis.com/esmartdata-courses-files/nlp-course/tom-sawyer-short.txt"
      ],
      "execution_count": 1,
      "outputs": [
        {
          "output_type": "stream",
          "text": [
            "--2020-03-29 08:42:43--  https://storage.googleapis.com/esmartdata-courses-files/nlp-course/tom-sawyer.txt\n",
            "Resolving storage.googleapis.com (storage.googleapis.com)... 74.125.20.128, 2607:f8b0:400e:c08::80\n",
            "Connecting to storage.googleapis.com (storage.googleapis.com)|74.125.20.128|:443... connected.\n",
            "HTTP request sent, awaiting response... 200 OK\n",
            "Length: 428104 (418K) [text/plain]\n",
            "Saving to: ‘tom-sawyer.txt.1’\n",
            "\n",
            "\rtom-sawyer.txt.1      0%[                    ]       0  --.-KB/s               \rtom-sawyer.txt.1    100%[===================>] 418.07K  --.-KB/s    in 0.003s  \n",
            "\n",
            "2020-03-29 08:42:43 (138 MB/s) - ‘tom-sawyer.txt.1’ saved [428104/428104]\n",
            "\n",
            "--2020-03-29 08:42:46--  https://storage.googleapis.com/esmartdata-courses-files/nlp-course/tom-sawyer-short.txt\n",
            "Resolving storage.googleapis.com (storage.googleapis.com)... 74.125.20.128, 2607:f8b0:400e:c07::80\n",
            "Connecting to storage.googleapis.com (storage.googleapis.com)|74.125.20.128|:443... connected.\n",
            "HTTP request sent, awaiting response... 200 OK\n",
            "Length: 420157 (410K) [text/plain]\n",
            "Saving to: ‘tom-sawyer-short.txt’\n",
            "\n",
            "tom-sawyer-short.tx 100%[===================>] 410.31K  --.-KB/s    in 0.003s  \n",
            "\n",
            "2020-03-29 08:42:47 (129 MB/s) - ‘tom-sawyer-short.txt’ saved [420157/420157]\n",
            "\n"
          ],
          "name": "stdout"
        }
      ]
    },
    {
      "cell_type": "markdown",
      "metadata": {
        "id": "6JNQwL8aqsGU",
        "colab_type": "text"
      },
      "source": [
        "### <a name='1'></a> Wczytanie pliku tekstowego"
      ]
    },
    {
      "cell_type": "code",
      "metadata": {
        "id": "P0JAZtpUyBAW",
        "colab_type": "code",
        "colab": {}
      },
      "source": [
        "with open('tom-sawyer-short.txt', encoding='utf-8-sig') as file:\n",
        "    text = file.read()"
      ],
      "execution_count": 0,
      "outputs": []
    },
    {
      "cell_type": "markdown",
      "metadata": {
        "id": "XG_QCH48q0P8",
        "colab_type": "text"
      },
      "source": [
        "### <a name='2'></a> Praca z tekstem"
      ]
    },
    {
      "cell_type": "code",
      "metadata": {
        "id": "1nRKLqVOyfGb",
        "colab_type": "code",
        "outputId": "e901b260-5a44-4252-89b6-a0e007e52764",
        "colab": {
          "base_uri": "https://localhost:8080/",
          "height": 34
        }
      },
      "source": [
        "len(text)"
      ],
      "execution_count": 3,
      "outputs": [
        {
          "output_type": "execute_result",
          "data": {
            "text/plain": [
              "405292"
            ]
          },
          "metadata": {
            "tags": []
          },
          "execution_count": 3
        }
      ]
    },
    {
      "cell_type": "code",
      "metadata": {
        "id": "0VCnbSdiymkR",
        "colab_type": "code",
        "outputId": "16aeca65-8098-4d3e-c416-ad33f52db16d",
        "colab": {
          "base_uri": "https://localhost:8080/",
          "height": 54
        }
      },
      "source": [
        "text[:150]"
      ],
      "execution_count": 4,
      "outputs": [
        {
          "output_type": "execute_result",
          "data": {
            "text/plain": [
              "\"CHAPTER I\\n\\n“TOM!”\\n\\nNo answer.\\n\\n“TOM!”\\n\\nNo answer.\\n\\n“What's gone with that boy, \\xa0I wonder? You TOM!”\\n\\nNo answer.\\n\\nThe old lady pulled her spectacles do\""
            ]
          },
          "metadata": {
            "tags": []
          },
          "execution_count": 4
        }
      ]
    },
    {
      "cell_type": "code",
      "metadata": {
        "id": "cClIADKHdW7M",
        "colab_type": "code",
        "colab": {
          "base_uri": "https://localhost:8080/",
          "height": 377
        },
        "outputId": "77f1d7d7-0193-4fdb-859c-b9bb226603e1"
      },
      "source": [
        "print(text[:577])"
      ],
      "execution_count": 44,
      "outputs": [
        {
          "output_type": "stream",
          "text": [
            "CHAPTER I\n",
            "\n",
            "“TOM!”\n",
            "\n",
            "No answer.\n",
            "\n",
            "“TOM!”\n",
            "\n",
            "No answer.\n",
            "\n",
            "“What's gone with that boy,  I wonder? You TOM!”\n",
            "\n",
            "No answer.\n",
            "\n",
            "The old lady pulled her spectacles down and looked over them about the\n",
            "room; then she put them up and looked out under them. She seldom or\n",
            "never looked _through_ them for so small a thing as a boy; they were\n",
            "her state pair, the pride of her heart, and were built for “style,” not\n",
            "service--she could have seen through a pair of stove-lids just as well.\n",
            "She looked perplexed for a moment, and then said, not fiercely, but\n",
            "still loud enough for the furniture to hear:\n"
          ],
          "name": "stdout"
        }
      ]
    },
    {
      "cell_type": "code",
      "metadata": {
        "id": "oyDoL73kzFjL",
        "colab_type": "code",
        "outputId": "16c4e12a-aae9-4ea7-be79-c570e13ac537",
        "colab": {
          "base_uri": "https://localhost:8080/",
          "height": 54
        }
      },
      "source": [
        "text[-150:]"
      ],
      "execution_count": 5,
      "outputs": [
        {
          "output_type": "execute_result",
          "data": {
            "text/plain": [
              "'t Gutenberg Literary Archive\\nFoundation, how to help produce our new eBooks, and how to subscribe to\\nour email newsletter to hear about new eBooks.\\n\\n\\n'"
            ]
          },
          "metadata": {
            "tags": []
          },
          "execution_count": 5
        }
      ]
    },
    {
      "cell_type": "code",
      "metadata": {
        "id": "E7iGjMcKdaKL",
        "colab_type": "code",
        "colab": {
          "base_uri": "https://localhost:8080/",
          "height": 274
        },
        "outputId": "1f76b0ed-cd41-4fb3-df87-baef197acdda"
      },
      "source": [
        "print(text[-500:])"
      ],
      "execution_count": 31,
      "outputs": [
        {
          "output_type": "stream",
          "text": [
            " in the U.S. unless\n",
            "a copyright notice is included. Thus, we do not necessarily keep eBooks\n",
            "in compliance with any particular paper edition.\n",
            "\n",
            "Most people start at our Web site which has the main PG search facility:\n",
            "\n",
            "http://www.gutenberg.net\n",
            "\n",
            "This Web site includes information about Project Gutenberg-tm, including\n",
            "how to make donations to the Project Gutenberg Literary Archive\n",
            "Foundation, how to help produce our new eBooks, and how to subscribe to\n",
            "our email newsletter to hear about new eBooks.\n",
            "\n",
            "\n",
            "\n"
          ],
          "name": "stdout"
        }
      ]
    },
    {
      "cell_type": "markdown",
      "metadata": {
        "id": "Bei8WOjKq8S0",
        "colab_type": "text"
      },
      "source": [
        "Podział tekstu na linie"
      ]
    },
    {
      "cell_type": "code",
      "metadata": {
        "id": "BKvox14V0Bya",
        "colab_type": "code",
        "outputId": "7648787e-788b-487c-de9d-a728b391f0de",
        "colab": {
          "base_uri": "https://localhost:8080/",
          "height": 34
        }
      },
      "source": [
        "splitted_text = text.splitlines()\n",
        "len(splitted_text)"
      ],
      "execution_count": 6,
      "outputs": [
        {
          "output_type": "execute_result",
          "data": {
            "text/plain": [
              "8726"
            ]
          },
          "metadata": {
            "tags": []
          },
          "execution_count": 6
        }
      ]
    },
    {
      "cell_type": "code",
      "metadata": {
        "id": "g8IjhstQ0jJs",
        "colab_type": "code",
        "outputId": "95718a1c-edd5-4baa-d452-45ca5fe688a6",
        "colab": {
          "base_uri": "https://localhost:8080/",
          "height": 377
        }
      },
      "source": [
        "splitted_text[:21]"
      ],
      "execution_count": 45,
      "outputs": [
        {
          "output_type": "execute_result",
          "data": {
            "text/plain": [
              "['CHAPTER I',\n",
              " '',\n",
              " '“TOM!”',\n",
              " '',\n",
              " 'No answer.',\n",
              " '',\n",
              " '“TOM!”',\n",
              " '',\n",
              " 'No answer.',\n",
              " '',\n",
              " \"“What's gone with that boy, \\xa0I wonder? You TOM!”\",\n",
              " '',\n",
              " 'No answer.',\n",
              " '',\n",
              " 'The old lady pulled her spectacles down and looked over them about the',\n",
              " 'room; then she put them up and looked out under them. She seldom or',\n",
              " 'never looked _through_ them for so small a thing as a boy; they were',\n",
              " 'her state pair, the pride of her heart, and were built for “style,” not',\n",
              " 'service--she could have seen through a pair of stove-lids just as well.',\n",
              " 'She looked perplexed for a moment, and then said, not fiercely, but',\n",
              " 'still loud enough for the furniture to hear:']"
            ]
          },
          "metadata": {
            "tags": []
          },
          "execution_count": 45
        }
      ]
    },
    {
      "cell_type": "code",
      "metadata": {
        "id": "FjpHzY3p0M_W",
        "colab_type": "code",
        "outputId": "368e21aa-5da7-4ab4-9abe-403f41eaddb2",
        "colab": {
          "base_uri": "https://localhost:8080/",
          "height": 360
        }
      },
      "source": [
        "splitted_text[-20:]"
      ],
      "execution_count": 34,
      "outputs": [
        {
          "output_type": "execute_result",
          "data": {
            "text/plain": [
              "['Professor Michael S. Hart is the originator of the Project Gutenberg-tm',\n",
              " 'concept of a library of electronic works that could be freely shared',\n",
              " 'with anyone. For thirty years, he produced and distributed Project',\n",
              " 'Gutenberg-tm eBooks with only a loose network of volunteer support.',\n",
              " '',\n",
              " 'Project Gutenberg-tm eBooks are often created from several printed',\n",
              " 'editions, all of which are confirmed as Public Domain in the U.S. unless',\n",
              " 'a copyright notice is included. Thus, we do not necessarily keep eBooks',\n",
              " 'in compliance with any particular paper edition.',\n",
              " '',\n",
              " 'Most people start at our Web site which has the main PG search facility:',\n",
              " '',\n",
              " 'http://www.gutenberg.net',\n",
              " '',\n",
              " 'This Web site includes information about Project Gutenberg-tm, including',\n",
              " 'how to make donations to the Project Gutenberg Literary Archive',\n",
              " 'Foundation, how to help produce our new eBooks, and how to subscribe to',\n",
              " 'our email newsletter to hear about new eBooks.',\n",
              " '',\n",
              " '']"
            ]
          },
          "metadata": {
            "tags": []
          },
          "execution_count": 34
        }
      ]
    },
    {
      "cell_type": "markdown",
      "metadata": {
        "id": "qcNtFuRgq_3M",
        "colab_type": "text"
      },
      "source": [
        "Odfiltrowanie pustych linii"
      ]
    },
    {
      "cell_type": "code",
      "metadata": {
        "id": "0z4F7eSLzKnO",
        "colab_type": "code",
        "outputId": "1c6a107a-6fae-435a-dfb6-ecf306636095",
        "colab": {
          "base_uri": "https://localhost:8080/",
          "height": 34
        }
      },
      "source": [
        "filtered_text = [line for line in splitted_text if len(line) > 0]\n",
        "len(filtered_text)"
      ],
      "execution_count": 9,
      "outputs": [
        {
          "output_type": "execute_result",
          "data": {
            "text/plain": [
              "6676"
            ]
          },
          "metadata": {
            "tags": []
          },
          "execution_count": 9
        }
      ]
    },
    {
      "cell_type": "code",
      "metadata": {
        "id": "9LyjnUaFzkYP",
        "colab_type": "code",
        "outputId": "eee18357-64ea-4ffe-d2fd-a1eb38b16c65",
        "colab": {
          "base_uri": "https://localhost:8080/",
          "height": 257
        }
      },
      "source": [
        "filtered_text[:14]"
      ],
      "execution_count": 48,
      "outputs": [
        {
          "output_type": "execute_result",
          "data": {
            "text/plain": [
              "['CHAPTER I',\n",
              " '“TOM!”',\n",
              " 'No answer.',\n",
              " '“TOM!”',\n",
              " 'No answer.',\n",
              " \"“What's gone with that boy, \\xa0I wonder? You TOM!”\",\n",
              " 'No answer.',\n",
              " 'The old lady pulled her spectacles down and looked over them about the',\n",
              " 'room; then she put them up and looked out under them. She seldom or',\n",
              " 'never looked _through_ them for so small a thing as a boy; they were',\n",
              " 'her state pair, the pride of her heart, and were built for “style,” not',\n",
              " 'service--she could have seen through a pair of stove-lids just as well.',\n",
              " 'She looked perplexed for a moment, and then said, not fiercely, but',\n",
              " 'still loud enough for the furniture to hear:']"
            ]
          },
          "metadata": {
            "tags": []
          },
          "execution_count": 48
        }
      ]
    },
    {
      "cell_type": "code",
      "metadata": {
        "id": "pq9ILO3Pzn6E",
        "colab_type": "code",
        "outputId": "60b32344-6867-4904-99a6-565e7c86ddfb",
        "colab": {
          "base_uri": "https://localhost:8080/",
          "height": 188
        }
      },
      "source": [
        "filtered_text[-10:]"
      ],
      "execution_count": 11,
      "outputs": [
        {
          "output_type": "execute_result",
          "data": {
            "text/plain": [
              "['Project Gutenberg-tm eBooks are often created from several printed',\n",
              " 'editions, all of which are confirmed as Public Domain in the U.S. unless',\n",
              " 'a copyright notice is included. Thus, we do not necessarily keep eBooks',\n",
              " 'in compliance with any particular paper edition.',\n",
              " 'Most people start at our Web site which has the main PG search facility:',\n",
              " 'http://www.gutenberg.net',\n",
              " 'This Web site includes information about Project Gutenberg-tm, including',\n",
              " 'how to make donations to the Project Gutenberg Literary Archive',\n",
              " 'Foundation, how to help produce our new eBooks, and how to subscribe to',\n",
              " 'our email newsletter to hear about new eBooks.']"
            ]
          },
          "metadata": {
            "tags": []
          },
          "execution_count": 11
        }
      ]
    },
    {
      "cell_type": "markdown",
      "metadata": {
        "id": "mf01oRj1rC8L",
        "colab_type": "text"
      },
      "source": [
        "Podział linii na tokeny"
      ]
    },
    {
      "cell_type": "code",
      "metadata": {
        "id": "72VOpFDzzsQj",
        "colab_type": "code",
        "outputId": "c677779b-36c5-4487-f333-1df9b555bb13",
        "colab": {
          "base_uri": "https://localhost:8080/",
          "height": 34
        }
      },
      "source": [
        "splitted_lines = [line.split() for line in filtered_text]\n",
        "print(splitted_lines[:3])"
      ],
      "execution_count": 12,
      "outputs": [
        {
          "output_type": "stream",
          "text": [
            "[['CHAPTER', 'I'], ['“TOM!”'], ['No', 'answer.']]\n"
          ],
          "name": "stdout"
        }
      ]
    },
    {
      "cell_type": "code",
      "metadata": {
        "id": "xZc2gnBN1EDB",
        "colab_type": "code",
        "outputId": "61942275-2edb-4bd9-9a0a-d60972d22770",
        "colab": {
          "base_uri": "https://localhost:8080/",
          "height": 257
        }
      },
      "source": [
        "for splitted_line in splitted_lines[:14]:\n",
        "    print(splitted_line)"
      ],
      "execution_count": 49,
      "outputs": [
        {
          "output_type": "stream",
          "text": [
            "['CHAPTER', 'I']\n",
            "['“TOM!”']\n",
            "['No', 'answer.']\n",
            "['“TOM!”']\n",
            "['No', 'answer.']\n",
            "[\"“What's\", 'gone', 'with', 'that', 'boy,', 'I', 'wonder?', 'You', 'TOM!”']\n",
            "['No', 'answer.']\n",
            "['The', 'old', 'lady', 'pulled', 'her', 'spectacles', 'down', 'and', 'looked', 'over', 'them', 'about', 'the']\n",
            "['room;', 'then', 'she', 'put', 'them', 'up', 'and', 'looked', 'out', 'under', 'them.', 'She', 'seldom', 'or']\n",
            "['never', 'looked', '_through_', 'them', 'for', 'so', 'small', 'a', 'thing', 'as', 'a', 'boy;', 'they', 'were']\n",
            "['her', 'state', 'pair,', 'the', 'pride', 'of', 'her', 'heart,', 'and', 'were', 'built', 'for', '“style,”', 'not']\n",
            "['service--she', 'could', 'have', 'seen', 'through', 'a', 'pair', 'of', 'stove-lids', 'just', 'as', 'well.']\n",
            "['She', 'looked', 'perplexed', 'for', 'a', 'moment,', 'and', 'then', 'said,', 'not', 'fiercely,', 'but']\n",
            "['still', 'loud', 'enough', 'for', 'the', 'furniture', 'to', 'hear:']\n"
          ],
          "name": "stdout"
        }
      ]
    },
    {
      "cell_type": "markdown",
      "metadata": {
        "id": "3PyjhFx3rfqY",
        "colab_type": "text"
      },
      "source": [
        "Podział tekstu 'na zdania'"
      ]
    },
    {
      "cell_type": "code",
      "metadata": {
        "id": "TT5NRwGA1eK2",
        "colab_type": "code",
        "outputId": "a62783ec-b678-45b8-f435-ed56eb9d037f",
        "colab": {
          "base_uri": "https://localhost:8080/",
          "height": 34
        }
      },
      "source": [
        "raw_text = ' '.join(text.split('\\n'))\n",
        "sentences = raw_text.split('.')\n",
        "len(sentences)"
      ],
      "execution_count": 14,
      "outputs": [
        {
          "output_type": "execute_result",
          "data": {
            "text/plain": [
              "4094"
            ]
          },
          "metadata": {
            "tags": []
          },
          "execution_count": 14
        }
      ]
    },
    {
      "cell_type": "code",
      "metadata": {
        "id": "0Jb74yc410hr",
        "colab_type": "code",
        "outputId": "998e88ed-5c60-4e64-8855-145beedf9b3e",
        "colab": {
          "base_uri": "https://localhost:8080/",
          "height": 208
        }
      },
      "source": [
        "sentences[:10]"
      ],
      "execution_count": 15,
      "outputs": [
        {
          "output_type": "execute_result",
          "data": {
            "text/plain": [
              "['CHAPTER I  “TOM!”  No answer',\n",
              " '  “TOM!”  No answer',\n",
              " \"  “What's gone with that boy, \\xa0I wonder? You TOM!”  No answer\",\n",
              " '  The old lady pulled her spectacles down and looked over them about the room; then she put them up and looked out under them',\n",
              " ' She seldom or never looked _through_ them for so small a thing as a boy; they were her state pair, the pride of her heart, and were built for “style,” not service--she could have seen through a pair of stove-lids just as well',\n",
              " \" She looked perplexed for a moment, and then said, not fiercely, but still loud enough for the furniture to hear:  “Well, I lay if I get hold of you I'll--”  She did not finish, for by this time she was bending down and punching under the bed with the broom, and so she needed breath to punctuate the punches with\",\n",
              " ' She resurrected nothing but the cat',\n",
              " '  “I never did see the beat of that boy!”  She went to the open door and stood in it and looked out among the tomato vines and “jimpson” weeds that constituted the garden',\n",
              " ' No Tom',\n",
              " ' So she lifted up her voice at an angle calculated for distance and shouted:  “Y-o-u-u TOM!”  There was a slight noise behind her and she turned just in time to seize a small boy by the slack of his roundabout and arrest his flight']"
            ]
          },
          "metadata": {
            "tags": []
          },
          "execution_count": 15
        }
      ]
    },
    {
      "cell_type": "code",
      "metadata": {
        "id": "8fkHI29O3Cvq",
        "colab_type": "code",
        "outputId": "5c2ba739-bc0a-42a0-fa24-fbe339e6fc15",
        "colab": {
          "base_uri": "https://localhost:8080/",
          "height": 208
        }
      },
      "source": [
        "sentences[-10:]"
      ],
      "execution_count": 16,
      "outputs": [
        {
          "output_type": "execute_result",
          "data": {
            "text/plain": [
              "[' Hart is the originator of the Project Gutenberg-tm concept of a library of electronic works that could be freely shared with anyone',\n",
              " ' For thirty years, he produced and distributed Project Gutenberg-tm eBooks with only a loose network of volunteer support',\n",
              " '  Project Gutenberg-tm eBooks are often created from several printed editions, all of which are confirmed as Public Domain in the U',\n",
              " 'S',\n",
              " ' unless a copyright notice is included',\n",
              " ' Thus, we do not necessarily keep eBooks in compliance with any particular paper edition',\n",
              " '  Most people start at our Web site which has the main PG search facility:  http://www',\n",
              " 'gutenberg',\n",
              " 'net  This Web site includes information about Project Gutenberg-tm, including how to make donations to the Project Gutenberg Literary Archive Foundation, how to help produce our new eBooks, and how to subscribe to our email newsletter to hear about new eBooks',\n",
              " '   ']"
            ]
          },
          "metadata": {
            "tags": []
          },
          "execution_count": 16
        }
      ]
    },
    {
      "cell_type": "markdown",
      "metadata": {
        "id": "AF4zBy_mrkix",
        "colab_type": "text"
      },
      "source": [
        "Usunięcie białych znaków dookoła tekstu"
      ]
    },
    {
      "cell_type": "code",
      "metadata": {
        "id": "spdonfoa3F7K",
        "colab_type": "code",
        "outputId": "3e17db78-ffa4-4b20-df8e-cd36f4ab0bec",
        "colab": {
          "base_uri": "https://localhost:8080/",
          "height": 208
        }
      },
      "source": [
        "sentences = [sentence.strip() for sentence in sentences]\n",
        "sentences[:10]"
      ],
      "execution_count": 17,
      "outputs": [
        {
          "output_type": "execute_result",
          "data": {
            "text/plain": [
              "['CHAPTER I  “TOM!”  No answer',\n",
              " '“TOM!”  No answer',\n",
              " \"“What's gone with that boy, \\xa0I wonder? You TOM!”  No answer\",\n",
              " 'The old lady pulled her spectacles down and looked over them about the room; then she put them up and looked out under them',\n",
              " 'She seldom or never looked _through_ them for so small a thing as a boy; they were her state pair, the pride of her heart, and were built for “style,” not service--she could have seen through a pair of stove-lids just as well',\n",
              " \"She looked perplexed for a moment, and then said, not fiercely, but still loud enough for the furniture to hear:  “Well, I lay if I get hold of you I'll--”  She did not finish, for by this time she was bending down and punching under the bed with the broom, and so she needed breath to punctuate the punches with\",\n",
              " 'She resurrected nothing but the cat',\n",
              " '“I never did see the beat of that boy!”  She went to the open door and stood in it and looked out among the tomato vines and “jimpson” weeds that constituted the garden',\n",
              " 'No Tom',\n",
              " 'So she lifted up her voice at an angle calculated for distance and shouted:  “Y-o-u-u TOM!”  There was a slight noise behind her and she turned just in time to seize a small boy by the slack of his roundabout and arrest his flight']"
            ]
          },
          "metadata": {
            "tags": []
          },
          "execution_count": 17
        }
      ]
    },
    {
      "cell_type": "code",
      "metadata": {
        "id": "RGx6cQYR3Xgi",
        "colab_type": "code",
        "outputId": "9462fc33-34ea-44d4-dc93-eac5d18567af",
        "colab": {
          "base_uri": "https://localhost:8080/",
          "height": 208
        }
      },
      "source": [
        "sentences[-10:]"
      ],
      "execution_count": 18,
      "outputs": [
        {
          "output_type": "execute_result",
          "data": {
            "text/plain": [
              "['Hart is the originator of the Project Gutenberg-tm concept of a library of electronic works that could be freely shared with anyone',\n",
              " 'For thirty years, he produced and distributed Project Gutenberg-tm eBooks with only a loose network of volunteer support',\n",
              " 'Project Gutenberg-tm eBooks are often created from several printed editions, all of which are confirmed as Public Domain in the U',\n",
              " 'S',\n",
              " 'unless a copyright notice is included',\n",
              " 'Thus, we do not necessarily keep eBooks in compliance with any particular paper edition',\n",
              " 'Most people start at our Web site which has the main PG search facility:  http://www',\n",
              " 'gutenberg',\n",
              " 'net  This Web site includes information about Project Gutenberg-tm, including how to make donations to the Project Gutenberg Literary Archive Foundation, how to help produce our new eBooks, and how to subscribe to our email newsletter to hear about new eBooks',\n",
              " '']"
            ]
          },
          "metadata": {
            "tags": []
          },
          "execution_count": 18
        }
      ]
    },
    {
      "cell_type": "code",
      "metadata": {
        "id": "DDVPzHZj3bIo",
        "colab_type": "code",
        "outputId": "4cf05c66-b57f-4981-ede7-e11d5aa529dc",
        "colab": {
          "base_uri": "https://localhost:8080/",
          "height": 380
        }
      },
      "source": [
        "for sentence in sentences[1000:1020]:\n",
        "    print(sentence)"
      ],
      "execution_count": 19,
      "outputs": [
        {
          "output_type": "stream",
          "text": [
            "And now the tiresome chirping of a cricket that no human ingenuity could locate, began\n",
            "Next the ghastly ticking of a death-watch in the wall at the bed's head made Tom shudder--it meant that somebody's days were numbered\n",
            "Then the howl of a far-off dog rose on the night air, and was answered by a fainter howl from a remoter distance\n",
            "Tom was in an agony\n",
            "At last he was satisfied that time had ceased and eternity begun; he began to doze, in spite of himself; the clock chimed eleven, but he did not hear it\n",
            "And then there came, mingling with his half-formed dreams, a most melancholy caterwauling\n",
            "The raising of a neighboring window disturbed him\n",
            "A cry of “Scat! you devil!” and the crash of an empty bottle against the back of his aunt's woodshed brought him wide awake, and a single minute later he was dressed and out of the window and creeping along the roof of the “ell” on all fours\n",
            "He “meow'd” with caution once or twice, as he went; then jumped to the roof of the woodshed and thence to the ground\n",
            "Huckleberry Finn was there, with his dead cat\n",
            "The boys moved off and disappeared in the gloom\n",
            "At the end of half an hour they were wading through the tall grass of the graveyard\n",
            "It was a graveyard of the old-fashioned Western kind\n",
            "It was on a hill, about a mile and a half from the village\n",
            "It had a crazy board fence around it, which leaned inward in places, and outward the rest of the time, but stood upright nowhere\n",
            "Grass and weeds grew rank over the whole cemetery\n",
            "All the old graves were sunken in, there was not a tombstone on the place; round-topped, worm-eaten boards staggered over the graves, leaning for support and finding none\n",
            "“Sacred to the memory of” So-and-So had been painted on them once, but it could no longer have been read, on the most of them, now, even if there had been light\n",
            "A faint wind moaned through the trees, and Tom feared it might be the spirits of the dead, complaining at being disturbed\n",
            "The boys talked little, and only under their breath, for the time and the place and the pervading solemnity and silence oppressed their spirits\n"
          ],
          "name": "stdout"
        }
      ]
    },
    {
      "cell_type": "markdown",
      "metadata": {
        "id": "ecVglJcRrpeA",
        "colab_type": "text"
      },
      "source": [
        "Podział zdań na tokeny"
      ]
    },
    {
      "cell_type": "code",
      "metadata": {
        "id": "O_SyAJpP3s9L",
        "colab_type": "code",
        "outputId": "062b545f-ccf5-497c-d404-9200b821c57d",
        "colab": {
          "base_uri": "https://localhost:8080/",
          "height": 380
        }
      },
      "source": [
        "splitted_sentences = [sentence.split() for sentence in sentences]\n",
        "\n",
        "for sentence in splitted_sentences[100:120]:\n",
        "    print(sentence)"
      ],
      "execution_count": 20,
      "outputs": [
        {
          "output_type": "stream",
          "text": [
            "['There', 'now']\n",
            "['”', '“Oh,', 'you', 'think', \"you're\", 'mighty', 'smart,', \"_don't_\", 'you?', 'I', 'could', 'lick', 'you', 'with', 'one', 'hand', 'tied', 'behind', 'me,', 'if', 'I', 'wanted', 'to']\n",
            "['”', '“Well', 'why', \"don't\", 'you', '_do_', 'it?', 'You', '_say_', 'you', 'can', 'do', 'it']\n",
            "['”', '“Well', 'I', '_will_,', 'if', 'you', 'fool', 'with', 'me']\n",
            "['”', '“Oh', \"yes--I've\", 'seen', 'whole', 'families', 'in', 'the', 'same', 'fix']\n",
            "['”', '“Smarty!', 'You', 'think', \"you're\", '_some_,', 'now,', \"_don't_\", 'you?', 'Oh,', 'what', 'a', 'hat!”', '“You', 'can', 'lump', 'that', 'hat', 'if', 'you', \"don't\", 'like', 'it']\n",
            "['I', 'dare', 'you', 'to', 'knock', 'it', 'off--and', 'anybody', \"that'll\", 'take', 'a', 'dare', 'will', 'suck', 'eggs']\n",
            "['”', \"“You're\", 'a', 'liar!”', \"“You're\", 'another']\n",
            "['”', \"“You're\", 'a', 'fighting', 'liar', 'and', \"dasn't\", 'take', 'it', 'up']\n",
            "['”', '“Aw--take', 'a', 'walk!”', '“Say--if', 'you', 'give', 'me', 'much', 'more', 'of', 'your', 'sass', \"I'll\", 'take', 'and', 'bounce', 'a', 'rock', \"off'n\", 'your', 'head']\n",
            "['”', '“Oh,', 'of', '_course_', 'you', 'will']\n",
            "['”', '“Well', 'I', '_will_']\n",
            "['”', '“Well', 'why', \"don't\", 'you', '_do_', 'it', 'then?', 'What', 'do', 'you', 'keep', '_saying_', 'you', 'will', 'for?', 'Why', \"don't\", 'you', '_do_', 'it?', \"It's\", 'because', \"you're\", 'afraid']\n",
            "['”', '“I', \"_ain't_\", 'afraid']\n",
            "['”', '“You', 'are']\n",
            "['”', '“I', \"ain't\"]\n",
            "['”', '“You', 'are']\n",
            "['”', 'Another', 'pause,', 'and', 'more', 'eying', 'and', 'sidling', 'around', 'each', 'other']\n",
            "['Presently', 'they', 'were', 'shoulder', 'to', 'shoulder']\n",
            "['Tom', 'said:', '“Get', 'away', 'from', 'here!”', '“Go', 'away', 'yourself!”', '“I', \"won't\"]\n"
          ],
          "name": "stdout"
        }
      ]
    },
    {
      "cell_type": "code",
      "metadata": {
        "id": "-idHfcZJ4gQS",
        "colab_type": "code",
        "outputId": "f6e004f6-481e-418e-e723-97b0d42f4d96",
        "colab": {
          "base_uri": "https://localhost:8080/",
          "height": 157
        }
      },
      "source": [
        "for sentence in splitted_sentences[:100]:\n",
        "    if 'The' in sentence:\n",
        "        print(sentence)"
      ],
      "execution_count": 21,
      "outputs": [
        {
          "output_type": "stream",
          "text": [
            "['The', 'old', 'lady', 'pulled', 'her', 'spectacles', 'down', 'and', 'looked', 'over', 'them', 'about', 'the', 'room;', 'then', 'she', 'put', 'them', 'up', 'and', 'looked', 'out', 'under', 'them']\n",
            "['”', 'The', 'switch', 'hovered', 'in', 'the', 'air--the', 'peril', 'was', 'desperate--', '“My!', 'Look', 'behind', 'you,', 'aunt!”', 'The', 'old', 'lady', 'whirled', 'round,', 'and', 'snatched', 'her', 'skirts', 'out', 'of', 'danger']\n",
            "['The', 'lad', 'fled', 'on', 'the', 'instant,', 'scrambled', 'up', 'the', 'high', 'board-fence,', 'and', 'disappeared', 'over', 'it']\n",
            "['”', 'The', 'old', 'lady', 'reached', 'out', 'her', 'hand', 'and', 'felt', \"Tom's\", 'shirt,', 'and', 'said:', '“But', 'you', \"ain't\", 'too', 'warm', 'now,', 'though']\n",
            "['Then', 'she', 'had', 'a', 'new', 'inspiration:', '“Tom,', 'you', \"didn't\", 'have', 'to', 'undo', 'your', 'shirt', 'collar', 'where', 'I', 'sewed', 'it,', 'to', 'pump', 'on', 'your', 'head,', 'did', 'you?', 'Unbutton', 'your', 'jacket!”', 'The', 'trouble', 'vanished', 'out', 'of', \"Tom's\", 'face']\n",
            "['The', 'summer', 'evenings', 'were', 'long']\n",
            "['The', 'more', 'Tom', 'stared', 'at', 'the', 'splendid', 'marvel,', 'the', 'higher', 'he', 'turned', 'up', 'his', 'nose', 'at', 'his', 'finery', 'and', 'the', 'shabbier', 'and', 'shabbier', 'his', 'own', 'outfit', 'seemed', 'to', 'him', 'to', 'grow']\n"
          ],
          "name": "stdout"
        }
      ]
    },
    {
      "cell_type": "code",
      "metadata": {
        "id": "MH5KyLXM5uER",
        "colab_type": "code",
        "outputId": "79ef780f-8c57-4fb9-d150-8a76ee491cea",
        "colab": {
          "base_uri": "https://localhost:8080/",
          "height": 671
        }
      },
      "source": [
        "for sentence in splitted_sentences[:100]:\n",
        "    if 'The' in sentence or 'the' in sentence:\n",
        "        print(sentence)"
      ],
      "execution_count": 22,
      "outputs": [
        {
          "output_type": "stream",
          "text": [
            "['The', 'old', 'lady', 'pulled', 'her', 'spectacles', 'down', 'and', 'looked', 'over', 'them', 'about', 'the', 'room;', 'then', 'she', 'put', 'them', 'up', 'and', 'looked', 'out', 'under', 'them']\n",
            "['She', 'seldom', 'or', 'never', 'looked', '_through_', 'them', 'for', 'so', 'small', 'a', 'thing', 'as', 'a', 'boy;', 'they', 'were', 'her', 'state', 'pair,', 'the', 'pride', 'of', 'her', 'heart,', 'and', 'were', 'built', 'for', '“style,”', 'not', 'service--she', 'could', 'have', 'seen', 'through', 'a', 'pair', 'of', 'stove-lids', 'just', 'as', 'well']\n",
            "['She', 'looked', 'perplexed', 'for', 'a', 'moment,', 'and', 'then', 'said,', 'not', 'fiercely,', 'but', 'still', 'loud', 'enough', 'for', 'the', 'furniture', 'to', 'hear:', '“Well,', 'I', 'lay', 'if', 'I', 'get', 'hold', 'of', 'you', \"I'll--”\", 'She', 'did', 'not', 'finish,', 'for', 'by', 'this', 'time', 'she', 'was', 'bending', 'down', 'and', 'punching', 'under', 'the', 'bed', 'with', 'the', 'broom,', 'and', 'so', 'she', 'needed', 'breath', 'to', 'punctuate', 'the', 'punches', 'with']\n",
            "['She', 'resurrected', 'nothing', 'but', 'the', 'cat']\n",
            "['“I', 'never', 'did', 'see', 'the', 'beat', 'of', 'that', 'boy!”', 'She', 'went', 'to', 'the', 'open', 'door', 'and', 'stood', 'in', 'it', 'and', 'looked', 'out', 'among', 'the', 'tomato', 'vines', 'and', '“jimpson”', 'weeds', 'that', 'constituted', 'the', 'garden']\n",
            "['So', 'she', 'lifted', 'up', 'her', 'voice', 'at', 'an', 'angle', 'calculated', 'for', 'distance', 'and', 'shouted:', '“Y-o-u-u', 'TOM!”', 'There', 'was', 'a', 'slight', 'noise', 'behind', 'her', 'and', 'she', 'turned', 'just', 'in', 'time', 'to', 'seize', 'a', 'small', 'boy', 'by', 'the', 'slack', 'of', 'his', 'roundabout', 'and', 'arrest', 'his', 'flight']\n",
            "['”', 'The', 'switch', 'hovered', 'in', 'the', 'air--the', 'peril', 'was', 'desperate--', '“My!', 'Look', 'behind', 'you,', 'aunt!”', 'The', 'old', 'lady', 'whirled', 'round,', 'and', 'snatched', 'her', 'skirts', 'out', 'of', 'danger']\n",
            "['The', 'lad', 'fled', 'on', 'the', 'instant,', 'scrambled', 'up', 'the', 'high', 'board-fence,', 'and', 'disappeared', 'over', 'it']\n",
            "['“Hang', 'the', 'boy,', \"can't\", 'I', 'never', 'learn', 'anything?', \"Ain't\", 'he', 'played', 'me', 'tricks', 'enough', 'like', 'that', 'for', 'me', 'to', 'be', 'looking', 'out', 'for', 'him', 'by', 'this', 'time?', 'But', 'old', 'fools', 'is', 'the', 'biggest', 'fools', 'there', 'is']\n",
            "[\"Can't\", 'learn', 'an', 'old', 'dog', 'new', 'tricks,', 'as', 'the', 'saying', 'is']\n",
            "['I', \"ain't\", 'doing', 'my', 'duty', 'by', 'that', 'boy,', 'and', \"that's\", 'the', \"Lord's\", 'truth,', 'goodness', 'knows']\n",
            "['Spare', 'the', 'rod', 'and', 'spile', 'the', 'child,', 'as', 'the', 'Good', 'Book', 'says']\n",
            "[\"He's\", 'full', 'of', 'the', 'Old', 'Scratch,', 'but', 'laws-a-me!', \"he's\", 'my', 'own', 'dead', \"sister's\", 'boy,', 'poor', 'thing,', 'and', 'I', \"ain't\", 'got', 'the', 'heart', 'to', 'lash', 'him,', 'somehow']\n",
            "['Well-a-well,', 'man', 'that', 'is', 'born', 'of', 'woman', 'is', 'of', 'few', 'days', 'and', 'full', 'of', 'trouble,', 'as', 'the', 'Scripture', 'says,', 'and', 'I', 'reckon', \"it's\", 'so']\n",
            "[\"It's\", 'mighty', 'hard', 'to', 'make', 'him', 'work', 'Saturdays,', 'when', 'all', 'the', 'boys', 'is', 'having', 'holiday,', 'but', 'he', 'hates', 'work', 'more', 'than', 'he', 'hates', 'anything', 'else,', 'and', \"I've\", '_got_', 'to', 'do', 'some', 'of', 'my', 'duty', 'by', 'him,', 'or', \"I'll\", 'be', 'the', 'ruination', 'of', 'the', 'child']\n",
            "['He', 'got', 'back', 'home', 'barely', 'in', 'season', 'to', 'help', 'Jim,', 'the', 'small', 'colored', 'boy,', 'saw', \"next-day's\", 'wood', 'and', 'split', 'the', 'kindlings', 'before', 'supper--at', 'least', 'he', 'was', 'there', 'in', 'time', 'to', 'tell', 'his', 'adventures', 'to', 'Jim', 'while', 'Jim', 'did', 'three-fourths', 'of', 'the', 'work']\n",
            "[\"Tom's\", 'younger', 'brother', '(or', 'rather', 'half-brother)', 'Sid', 'was', 'already', 'through', 'with', 'his', 'part', 'of', 'the', 'work', '(picking', 'up', 'chips),', 'for', 'he', 'was', 'a', 'quiet', 'boy,', 'and', 'had', 'no', 'adventurous,', 'trouble-some', 'ways']\n",
            "['”', 'The', 'old', 'lady', 'reached', 'out', 'her', 'hand', 'and', 'felt', \"Tom's\", 'shirt,', 'and', 'said:', '“But', 'you', \"ain't\", 'too', 'warm', 'now,', 'though']\n",
            "['”', 'And', 'it', 'flattered', 'her', 'to', 'reflect', 'that', 'she', 'had', 'discovered', 'that', 'the', 'shirt', 'was', 'dry', 'without', 'anybody', 'knowing', 'that', 'that', 'was', 'what', 'she', 'had', 'in', 'her', 'mind']\n",
            "['But', 'in', 'spite', 'of', 'her,', 'Tom', 'knew', 'where', 'the', 'wind', 'lay,', 'now']\n",
            "['So', 'he', 'forestalled', 'what', 'might', 'be', 'the', 'next', 'move:', '“Some', 'of', 'us', 'pumped', 'on', 'our', \"heads--mine's\", 'damp', 'yet']\n",
            "['Then', 'she', 'had', 'a', 'new', 'inspiration:', '“Tom,', 'you', \"didn't\", 'have', 'to', 'undo', 'your', 'shirt', 'collar', 'where', 'I', 'sewed', 'it,', 'to', 'pump', 'on', 'your', 'head,', 'did', 'you?', 'Unbutton', 'your', 'jacket!”', 'The', 'trouble', 'vanished', 'out', 'of', \"Tom's\", 'face']\n",
            "['I', 'reckon', \"you're\", 'a', 'kind', 'of', 'a', 'singed', 'cat,', 'as', 'the', 'saying', \"is--better'n\", 'you', 'look']\n",
            "['”', '“Why,', 'I', 'did', 'sew', 'it', 'with', 'white!', 'Tom!”', 'But', 'Tom', 'did', 'not', 'wait', 'for', 'the', 'rest']\n",
            "['As', 'he', 'went', 'out', 'at', 'the', 'door', 'he', 'said:', '“Siddy,', \"I'll\", 'lick', 'you', 'for', 'that']\n",
            "['”', 'In', 'a', 'safe', 'place', 'Tom', 'examined', 'two', 'large', 'needles', 'which', 'were', 'thrust', 'into', 'the', 'lapels', 'of', 'his', 'jacket,', 'and', 'had', 'thread', 'bound', 'about', 'them--one', 'needle', 'carried', 'white', 'thread', 'and', 'the', 'other', 'black']\n",
            "['I', 'wish', 'to', 'gee-miny', \"she'd\", 'stick', 'to', 'one', 'or', \"t'other--I\", \"can't\", 'keep', 'the', 'run', 'of', \"'em\"]\n",
            "[\"I'll\", 'learn', 'him!”', 'He', 'was', 'not', 'the', 'Model', 'Boy', 'of', 'the', 'village']\n",
            "['He', 'knew', 'the', 'model', 'boy', 'very', 'well', 'though--and', 'loathed', 'him']\n",
            "['Not', 'because', 'his', 'troubles', 'were', 'one', 'whit', 'less', 'heavy', 'and', 'bitter', 'to', 'him', 'than', 'a', \"man's\", 'are', 'to', 'a', 'man,', 'but', 'because', 'a', 'new', 'and', 'powerful', 'interest', 'bore', 'them', 'down', 'and', 'drove', 'them', 'out', 'of', 'his', 'mind', 'for', 'the', 'time--just', 'as', \"men's\", 'misfortunes', 'are', 'forgotten', 'in', 'the', 'excitement', 'of', 'new', 'enterprises']\n",
            "['It', 'consisted', 'in', 'a', 'peculiar', 'bird-like', 'turn,', 'a', 'sort', 'of', 'liquid', 'warble,', 'produced', 'by', 'touching', 'the', 'tongue', 'to', 'the', 'roof', 'of', 'the', 'mouth', 'at', 'short', 'intervals', 'in', 'the', 'midst', 'of', 'the', 'music--the', 'reader', 'probably', 'remembers', 'how', 'to', 'do', 'it,', 'if', 'he', 'has', 'ever', 'been', 'a', 'boy']\n",
            "['Diligence', 'and', 'attention', 'soon', 'gave', 'him', 'the', 'knack', 'of', 'it,', 'and', 'he', 'strode', 'down', 'the', 'street', 'with', 'his', 'mouth', 'full', 'of', 'harmony', 'and', 'his', 'soul', 'full', 'of', 'gratitude']\n",
            "['He', 'felt', 'much', 'as', 'an', 'astronomer', 'feels', 'who', 'has', 'discovered', 'a', 'new', 'planet--no', 'doubt,', 'as', 'far', 'as', 'strong,', 'deep,', 'unalloyed', 'pleasure', 'is', 'concerned,', 'the', 'advantage', 'was', 'with', 'the', 'boy,', 'not', 'the', 'astronomer']\n",
            "['The', 'summer', 'evenings', 'were', 'long']\n",
            "['A', 'new-comer', 'of', 'any', 'age', 'or', 'either', 'sex', 'was', 'an', 'im-pressive', 'curiosity', 'in', 'the', 'poor', 'little', 'shabby', 'village', 'of', 'St']\n",
            "['The', 'more', 'Tom', 'stared', 'at', 'the', 'splendid', 'marvel,', 'the', 'higher', 'he', 'turned', 'up', 'his', 'nose', 'at', 'his', 'finery', 'and', 'the', 'shabbier', 'and', 'shabbier', 'his', 'own', 'outfit', 'seemed', 'to', 'him', 'to', 'grow']\n",
            "['If', 'one', 'moved,', 'the', 'other', 'moved--but', 'only', 'sidewise,', 'in', 'a', 'circle;', 'they', 'kept', 'face', 'to', 'face', 'and', 'eye', 'to', 'eye', 'all', 'the', 'time']\n"
          ],
          "name": "stdout"
        }
      ]
    },
    {
      "cell_type": "markdown",
      "metadata": {
        "id": "AJOsl_Jtr0AD",
        "colab_type": "text"
      },
      "source": [
        "Standaryzacja tekstu"
      ]
    },
    {
      "cell_type": "code",
      "metadata": {
        "id": "1koDoeRx5-Kw",
        "colab_type": "code",
        "outputId": "ca9b0f75-bc74-4ad6-8983-6ce6fffa547b",
        "colab": {
          "base_uri": "https://localhost:8080/",
          "height": 208
        }
      },
      "source": [
        "splitted_sentences_lower = [[word.lower() for word in sentence] for sentence in splitted_sentences]\n",
        "\n",
        "for sentence in splitted_sentences_lower[:10]:\n",
        "    print(sentence)"
      ],
      "execution_count": 23,
      "outputs": [
        {
          "output_type": "stream",
          "text": [
            "['chapter', 'i', '“tom!”', 'no', 'answer']\n",
            "['“tom!”', 'no', 'answer']\n",
            "[\"“what's\", 'gone', 'with', 'that', 'boy,', 'i', 'wonder?', 'you', 'tom!”', 'no', 'answer']\n",
            "['the', 'old', 'lady', 'pulled', 'her', 'spectacles', 'down', 'and', 'looked', 'over', 'them', 'about', 'the', 'room;', 'then', 'she', 'put', 'them', 'up', 'and', 'looked', 'out', 'under', 'them']\n",
            "['she', 'seldom', 'or', 'never', 'looked', '_through_', 'them', 'for', 'so', 'small', 'a', 'thing', 'as', 'a', 'boy;', 'they', 'were', 'her', 'state', 'pair,', 'the', 'pride', 'of', 'her', 'heart,', 'and', 'were', 'built', 'for', '“style,”', 'not', 'service--she', 'could', 'have', 'seen', 'through', 'a', 'pair', 'of', 'stove-lids', 'just', 'as', 'well']\n",
            "['she', 'looked', 'perplexed', 'for', 'a', 'moment,', 'and', 'then', 'said,', 'not', 'fiercely,', 'but', 'still', 'loud', 'enough', 'for', 'the', 'furniture', 'to', 'hear:', '“well,', 'i', 'lay', 'if', 'i', 'get', 'hold', 'of', 'you', \"i'll--”\", 'she', 'did', 'not', 'finish,', 'for', 'by', 'this', 'time', 'she', 'was', 'bending', 'down', 'and', 'punching', 'under', 'the', 'bed', 'with', 'the', 'broom,', 'and', 'so', 'she', 'needed', 'breath', 'to', 'punctuate', 'the', 'punches', 'with']\n",
            "['she', 'resurrected', 'nothing', 'but', 'the', 'cat']\n",
            "['“i', 'never', 'did', 'see', 'the', 'beat', 'of', 'that', 'boy!”', 'she', 'went', 'to', 'the', 'open', 'door', 'and', 'stood', 'in', 'it', 'and', 'looked', 'out', 'among', 'the', 'tomato', 'vines', 'and', '“jimpson”', 'weeds', 'that', 'constituted', 'the', 'garden']\n",
            "['no', 'tom']\n",
            "['so', 'she', 'lifted', 'up', 'her', 'voice', 'at', 'an', 'angle', 'calculated', 'for', 'distance', 'and', 'shouted:', '“y-o-u-u', 'tom!”', 'there', 'was', 'a', 'slight', 'noise', 'behind', 'her', 'and', 'she', 'turned', 'just', 'in', 'time', 'to', 'seize', 'a', 'small', 'boy', 'by', 'the', 'slack', 'of', 'his', 'roundabout', 'and', 'arrest', 'his', 'flight']\n"
          ],
          "name": "stdout"
        }
      ]
    },
    {
      "cell_type": "code",
      "metadata": {
        "id": "DaTgCnZt6D10",
        "colab_type": "code",
        "outputId": "52c89427-1873-4032-e43e-9754d81ed3d4",
        "colab": {
          "base_uri": "https://localhost:8080/",
          "height": 414
        }
      },
      "source": [
        "for sentence in splitted_sentences_lower[:50]:\n",
        "    if 'the' in sentence:\n",
        "        print(sentence)"
      ],
      "execution_count": 24,
      "outputs": [
        {
          "output_type": "stream",
          "text": [
            "['the', 'old', 'lady', 'pulled', 'her', 'spectacles', 'down', 'and', 'looked', 'over', 'them', 'about', 'the', 'room;', 'then', 'she', 'put', 'them', 'up', 'and', 'looked', 'out', 'under', 'them']\n",
            "['she', 'seldom', 'or', 'never', 'looked', '_through_', 'them', 'for', 'so', 'small', 'a', 'thing', 'as', 'a', 'boy;', 'they', 'were', 'her', 'state', 'pair,', 'the', 'pride', 'of', 'her', 'heart,', 'and', 'were', 'built', 'for', '“style,”', 'not', 'service--she', 'could', 'have', 'seen', 'through', 'a', 'pair', 'of', 'stove-lids', 'just', 'as', 'well']\n",
            "['she', 'looked', 'perplexed', 'for', 'a', 'moment,', 'and', 'then', 'said,', 'not', 'fiercely,', 'but', 'still', 'loud', 'enough', 'for', 'the', 'furniture', 'to', 'hear:', '“well,', 'i', 'lay', 'if', 'i', 'get', 'hold', 'of', 'you', \"i'll--”\", 'she', 'did', 'not', 'finish,', 'for', 'by', 'this', 'time', 'she', 'was', 'bending', 'down', 'and', 'punching', 'under', 'the', 'bed', 'with', 'the', 'broom,', 'and', 'so', 'she', 'needed', 'breath', 'to', 'punctuate', 'the', 'punches', 'with']\n",
            "['she', 'resurrected', 'nothing', 'but', 'the', 'cat']\n",
            "['“i', 'never', 'did', 'see', 'the', 'beat', 'of', 'that', 'boy!”', 'she', 'went', 'to', 'the', 'open', 'door', 'and', 'stood', 'in', 'it', 'and', 'looked', 'out', 'among', 'the', 'tomato', 'vines', 'and', '“jimpson”', 'weeds', 'that', 'constituted', 'the', 'garden']\n",
            "['so', 'she', 'lifted', 'up', 'her', 'voice', 'at', 'an', 'angle', 'calculated', 'for', 'distance', 'and', 'shouted:', '“y-o-u-u', 'tom!”', 'there', 'was', 'a', 'slight', 'noise', 'behind', 'her', 'and', 'she', 'turned', 'just', 'in', 'time', 'to', 'seize', 'a', 'small', 'boy', 'by', 'the', 'slack', 'of', 'his', 'roundabout', 'and', 'arrest', 'his', 'flight']\n",
            "['”', 'the', 'switch', 'hovered', 'in', 'the', 'air--the', 'peril', 'was', 'desperate--', '“my!', 'look', 'behind', 'you,', 'aunt!”', 'the', 'old', 'lady', 'whirled', 'round,', 'and', 'snatched', 'her', 'skirts', 'out', 'of', 'danger']\n",
            "['the', 'lad', 'fled', 'on', 'the', 'instant,', 'scrambled', 'up', 'the', 'high', 'board-fence,', 'and', 'disappeared', 'over', 'it']\n",
            "['“hang', 'the', 'boy,', \"can't\", 'i', 'never', 'learn', 'anything?', \"ain't\", 'he', 'played', 'me', 'tricks', 'enough', 'like', 'that', 'for', 'me', 'to', 'be', 'looking', 'out', 'for', 'him', 'by', 'this', 'time?', 'but', 'old', 'fools', 'is', 'the', 'biggest', 'fools', 'there', 'is']\n",
            "[\"can't\", 'learn', 'an', 'old', 'dog', 'new', 'tricks,', 'as', 'the', 'saying', 'is']\n",
            "['i', \"ain't\", 'doing', 'my', 'duty', 'by', 'that', 'boy,', 'and', \"that's\", 'the', \"lord's\", 'truth,', 'goodness', 'knows']\n",
            "['spare', 'the', 'rod', 'and', 'spile', 'the', 'child,', 'as', 'the', 'good', 'book', 'says']\n",
            "[\"he's\", 'full', 'of', 'the', 'old', 'scratch,', 'but', 'laws-a-me!', \"he's\", 'my', 'own', 'dead', \"sister's\", 'boy,', 'poor', 'thing,', 'and', 'i', \"ain't\", 'got', 'the', 'heart', 'to', 'lash', 'him,', 'somehow']\n",
            "['well-a-well,', 'man', 'that', 'is', 'born', 'of', 'woman', 'is', 'of', 'few', 'days', 'and', 'full', 'of', 'trouble,', 'as', 'the', 'scripture', 'says,', 'and', 'i', 'reckon', \"it's\", 'so']\n",
            "[\"it's\", 'mighty', 'hard', 'to', 'make', 'him', 'work', 'saturdays,', 'when', 'all', 'the', 'boys', 'is', 'having', 'holiday,', 'but', 'he', 'hates', 'work', 'more', 'than', 'he', 'hates', 'anything', 'else,', 'and', \"i've\", '_got_', 'to', 'do', 'some', 'of', 'my', 'duty', 'by', 'him,', 'or', \"i'll\", 'be', 'the', 'ruination', 'of', 'the', 'child']\n",
            "['he', 'got', 'back', 'home', 'barely', 'in', 'season', 'to', 'help', 'jim,', 'the', 'small', 'colored', 'boy,', 'saw', \"next-day's\", 'wood', 'and', 'split', 'the', 'kindlings', 'before', 'supper--at', 'least', 'he', 'was', 'there', 'in', 'time', 'to', 'tell', 'his', 'adventures', 'to', 'jim', 'while', 'jim', 'did', 'three-fourths', 'of', 'the', 'work']\n",
            "[\"tom's\", 'younger', 'brother', '(or', 'rather', 'half-brother)', 'sid', 'was', 'already', 'through', 'with', 'his', 'part', 'of', 'the', 'work', '(picking', 'up', 'chips),', 'for', 'he', 'was', 'a', 'quiet', 'boy,', 'and', 'had', 'no', 'adventurous,', 'trouble-some', 'ways']\n",
            "['”', 'the', 'old', 'lady', 'reached', 'out', 'her', 'hand', 'and', 'felt', \"tom's\", 'shirt,', 'and', 'said:', '“but', 'you', \"ain't\", 'too', 'warm', 'now,', 'though']\n",
            "['”', 'and', 'it', 'flattered', 'her', 'to', 'reflect', 'that', 'she', 'had', 'discovered', 'that', 'the', 'shirt', 'was', 'dry', 'without', 'anybody', 'knowing', 'that', 'that', 'was', 'what', 'she', 'had', 'in', 'her', 'mind']\n",
            "['but', 'in', 'spite', 'of', 'her,', 'tom', 'knew', 'where', 'the', 'wind', 'lay,', 'now']\n",
            "['so', 'he', 'forestalled', 'what', 'might', 'be', 'the', 'next', 'move:', '“some', 'of', 'us', 'pumped', 'on', 'our', \"heads--mine's\", 'damp', 'yet']\n",
            "['then', 'she', 'had', 'a', 'new', 'inspiration:', '“tom,', 'you', \"didn't\", 'have', 'to', 'undo', 'your', 'shirt', 'collar', 'where', 'i', 'sewed', 'it,', 'to', 'pump', 'on', 'your', 'head,', 'did', 'you?', 'unbutton', 'your', 'jacket!”', 'the', 'trouble', 'vanished', 'out', 'of', \"tom's\", 'face']\n"
          ],
          "name": "stdout"
        }
      ]
    },
    {
      "cell_type": "markdown",
      "metadata": {
        "id": "EHAA1yGJr4or",
        "colab_type": "text"
      },
      "source": [
        "Stopwords"
      ]
    },
    {
      "cell_type": "code",
      "metadata": {
        "id": "K3KWzLfs6_0K",
        "colab_type": "code",
        "outputId": "46e62056-3f60-4ec9-bf31-fc90a1837623",
        "colab": {
          "base_uri": "https://localhost:8080/",
          "height": 380
        }
      },
      "source": [
        "stopwords = ['a', 'and', 'an', 'the', 'for', 'you', 'this', 'of', 'it', 'by', 'at', 'on', 'his']\n",
        "\n",
        "sentences_stopwords = [[word for word in sentence if word not in stopwords] for sentence in splitted_sentences_lower]\n",
        "\n",
        "for sentence in sentences_stopwords[:20]:\n",
        "    print(sentence)"
      ],
      "execution_count": 25,
      "outputs": [
        {
          "output_type": "stream",
          "text": [
            "['chapter', 'i', '“tom!”', 'no', 'answer']\n",
            "['“tom!”', 'no', 'answer']\n",
            "[\"“what's\", 'gone', 'with', 'that', 'boy,', 'i', 'wonder?', 'tom!”', 'no', 'answer']\n",
            "['old', 'lady', 'pulled', 'her', 'spectacles', 'down', 'looked', 'over', 'them', 'about', 'room;', 'then', 'she', 'put', 'them', 'up', 'looked', 'out', 'under', 'them']\n",
            "['she', 'seldom', 'or', 'never', 'looked', '_through_', 'them', 'so', 'small', 'thing', 'as', 'boy;', 'they', 'were', 'her', 'state', 'pair,', 'pride', 'her', 'heart,', 'were', 'built', '“style,”', 'not', 'service--she', 'could', 'have', 'seen', 'through', 'pair', 'stove-lids', 'just', 'as', 'well']\n",
            "['she', 'looked', 'perplexed', 'moment,', 'then', 'said,', 'not', 'fiercely,', 'but', 'still', 'loud', 'enough', 'furniture', 'to', 'hear:', '“well,', 'i', 'lay', 'if', 'i', 'get', 'hold', \"i'll--”\", 'she', 'did', 'not', 'finish,', 'time', 'she', 'was', 'bending', 'down', 'punching', 'under', 'bed', 'with', 'broom,', 'so', 'she', 'needed', 'breath', 'to', 'punctuate', 'punches', 'with']\n",
            "['she', 'resurrected', 'nothing', 'but', 'cat']\n",
            "['“i', 'never', 'did', 'see', 'beat', 'that', 'boy!”', 'she', 'went', 'to', 'open', 'door', 'stood', 'in', 'looked', 'out', 'among', 'tomato', 'vines', '“jimpson”', 'weeds', 'that', 'constituted', 'garden']\n",
            "['no', 'tom']\n",
            "['so', 'she', 'lifted', 'up', 'her', 'voice', 'angle', 'calculated', 'distance', 'shouted:', '“y-o-u-u', 'tom!”', 'there', 'was', 'slight', 'noise', 'behind', 'her', 'she', 'turned', 'just', 'in', 'time', 'to', 'seize', 'small', 'boy', 'slack', 'roundabout', 'arrest', 'flight']\n",
            "['“there!', 'i', 'might', \"'a'\", 'thought', 'that', 'closet']\n",
            "['what', 'been', 'doing', 'in', 'there?”', '“nothing']\n",
            "['”', '“nothing!', 'look', 'your', 'hands']\n",
            "['look', 'your', 'mouth']\n",
            "['what', '_is_', 'that', 'truck?”', '“i', \"don't\", 'know,', 'aunt']\n",
            "['”', '“well,', 'i', 'know']\n",
            "[\"it's\", \"jam--that's\", 'what', 'is']\n",
            "['forty', 'times', \"i've\", 'said', 'if', \"didn't\", 'let', 'that', 'jam', 'alone', \"i'd\", 'skin']\n",
            "['hand', 'me', 'that', 'switch']\n",
            "['”', 'switch', 'hovered', 'in', 'air--the', 'peril', 'was', 'desperate--', '“my!', 'look', 'behind', 'you,', 'aunt!”', 'old', 'lady', 'whirled', 'round,', 'snatched', 'her', 'skirts', 'out', 'danger']\n"
          ],
          "name": "stdout"
        }
      ]
    }
  ]
}