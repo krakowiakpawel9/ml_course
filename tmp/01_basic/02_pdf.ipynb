{
  "nbformat": 4,
  "nbformat_minor": 0,
  "metadata": {
    "colab": {
      "name": "01_preprocessing.ipynb",
      "provenance": [],
      "include_colab_link": true
    },
    "kernelspec": {
      "name": "python3",
      "display_name": "Python 3"
    }
  },
  "cells": [
    {
      "cell_type": "markdown",
      "metadata": {
        "id": "view-in-github",
        "colab_type": "text"
      },
      "source": [
        "<a href=\"https://colab.research.google.com/github/krakowiakpawel9/ml_course/blob/master/tmp/01_basic/02_pdf.ipynb\" target=\"_parent\"><img src=\"https://colab.research.google.com/assets/colab-badge.svg\" alt=\"Open In Colab\"/></a>"
      ]
    },
    {
      "cell_type": "markdown",
      "metadata": {
        "id": "UbjsT92Xd3z1",
        "colab_type": "text"
      },
      "source": [
        "* @author: krakowiakpawel9@gmail.com  \n",
        "* @site: e-smartdata.org\n",
        "\n",
        "### Spis treści:\n",
        "1. [Instalacja biblioteki](#0)\n",
        "2. [Import bibliotek](#1)\n",
        "3. [Pobranie pliku pdf](#2)\n",
        "4. [Praca z plikiem pdf](#3)\n"
      ]
    },
    {
      "cell_type": "markdown",
      "metadata": {
        "id": "YkIALacsUnj7",
        "colab_type": "text"
      },
      "source": [
        "### <a name='0'></a> Instalacja biblioteki"
      ]
    },
    {
      "cell_type": "code",
      "metadata": {
        "id": "EYp5C7PPK4v4",
        "colab_type": "code",
        "outputId": "fc2002d7-5459-4e24-ee0e-f26e49c87f82",
        "colab": {
          "base_uri": "https://localhost:8080/",
          "height": 199
        }
      },
      "source": [
        "!pip install PyPDF2"
      ],
      "execution_count": 0,
      "outputs": [
        {
          "output_type": "stream",
          "text": [
            "Collecting PyPDF2\n",
            "\u001b[?25l  Downloading https://files.pythonhosted.org/packages/b4/01/68fcc0d43daf4c6bdbc6b33cc3f77bda531c86b174cac56ef0ffdb96faab/PyPDF2-1.26.0.tar.gz (77kB)\n",
            "\r\u001b[K     |████▎                           | 10kB 18.7MB/s eta 0:00:01\r\u001b[K     |████████▌                       | 20kB 1.8MB/s eta 0:00:01\r\u001b[K     |████████████▊                   | 30kB 2.4MB/s eta 0:00:01\r\u001b[K     |█████████████████               | 40kB 1.7MB/s eta 0:00:01\r\u001b[K     |█████████████████████▏          | 51kB 1.9MB/s eta 0:00:01\r\u001b[K     |█████████████████████████▍      | 61kB 2.3MB/s eta 0:00:01\r\u001b[K     |█████████████████████████████▋  | 71kB 2.6MB/s eta 0:00:01\r\u001b[K     |████████████████████████████████| 81kB 2.4MB/s \n",
            "\u001b[?25hBuilding wheels for collected packages: PyPDF2\n",
            "  Building wheel for PyPDF2 (setup.py) ... \u001b[?25l\u001b[?25hdone\n",
            "  Created wheel for PyPDF2: filename=PyPDF2-1.26.0-cp36-none-any.whl size=61086 sha256=ff9dd3b9c73b51054c37ef45ace2f253f4b81c292b22f503ef0adac4659124e2\n",
            "  Stored in directory: /root/.cache/pip/wheels/53/84/19/35bc977c8bf5f0c23a8a011aa958acd4da4bbd7a229315c1b7\n",
            "Successfully built PyPDF2\n",
            "Installing collected packages: PyPDF2\n",
            "Successfully installed PyPDF2-1.26.0\n"
          ],
          "name": "stdout"
        }
      ]
    },
    {
      "cell_type": "markdown",
      "metadata": {
        "id": "Dmp2Qq4GuNqH",
        "colab_type": "text"
      },
      "source": [
        "### <a name='1'></a> Import bibliotek"
      ]
    },
    {
      "cell_type": "code",
      "metadata": {
        "id": "1QJK6NQ6KSnW",
        "colab_type": "code",
        "outputId": "e2a59bfd-8d41-49f0-c671-fadd784f6f11",
        "colab": {
          "base_uri": "https://localhost:8080/",
          "height": 35
        }
      },
      "source": [
        "import PyPDF2\n",
        "PyPDF2.__version__"
      ],
      "execution_count": 0,
      "outputs": [
        {
          "output_type": "execute_result",
          "data": {
            "text/plain": [
              "'1.26.0'"
            ]
          },
          "metadata": {
            "tags": []
          },
          "execution_count": 3
        }
      ]
    },
    {
      "cell_type": "markdown",
      "metadata": {
        "id": "WxkLXQldupS9",
        "colab_type": "text"
      },
      "source": [
        "### <a name='2'></a> Pobranie pliku pdf"
      ]
    },
    {
      "cell_type": "code",
      "metadata": {
        "id": "haW672PDuipc",
        "colab_type": "code",
        "outputId": "6d91ca18-9dc9-45b4-e8fc-d93bf3b28a4a",
        "colab": {
          "base_uri": "https://localhost:8080/",
          "height": 217
        }
      },
      "source": [
        "!wget https://storage.googleapis.com/esmartdata-courses-files/nlp-course/sample.pdf"
      ],
      "execution_count": 0,
      "outputs": [
        {
          "output_type": "stream",
          "text": [
            "--2020-02-28 12:16:57--  https://storage.googleapis.com/esmartdata-courses-files/nlp-course/sample.pdf\n",
            "Resolving storage.googleapis.com (storage.googleapis.com)... 172.217.193.128, 2607:f8b0:400c:c15::80\n",
            "Connecting to storage.googleapis.com (storage.googleapis.com)|172.217.193.128|:443... connected.\n",
            "HTTP request sent, awaiting response... 200 OK\n",
            "Length: 7945 (7.8K) [application/pdf]\n",
            "Saving to: ‘sample.pdf’\n",
            "\n",
            "\rsample.pdf            0%[                    ]       0  --.-KB/s               \rsample.pdf          100%[===================>]   7.76K  --.-KB/s    in 0s      \n",
            "\n",
            "2020-02-28 12:16:58 (97.0 MB/s) - ‘sample.pdf’ saved [7945/7945]\n",
            "\n"
          ],
          "name": "stdout"
        }
      ]
    },
    {
      "cell_type": "markdown",
      "metadata": {
        "id": "5AulKU76u2eL",
        "colab_type": "text"
      },
      "source": [
        "### <a name='3'></a> Praca z plikiem pdf"
      ]
    },
    {
      "cell_type": "code",
      "metadata": {
        "id": "rvYz0c8OOTum",
        "colab_type": "code",
        "outputId": "9e346fb3-f32a-4d2d-928a-9cd14cd88cde",
        "colab": {
          "base_uri": "https://localhost:8080/",
          "height": 435
        }
      },
      "source": [
        "from PyPDF2 import PdfFileReader\n",
        "\n",
        "with open('sample.pdf', 'rb') as file:\n",
        "    pdf = PdfFileReader(file)\n",
        "    page = pdf.getPage(0)\n",
        "    text = page.extractText()\n",
        "\n",
        "print(text)"
      ],
      "execution_count": 0,
      "outputs": [
        {
          "output_type": "stream",
          "text": [
            "Adobe Acrobat PDF Files\n",
            "Adobe® Portable Document Format (PDF) is a universal file format that preserves all\n",
            "of the fonts, formatting, colours and graphics of any source document, regardless of\n",
            "\n",
            "the application and platform used to create it.\n",
            "Adobe PDF is an ideal format for electronic document distribution as it overcomes the\n",
            "problems commonly encountered with electronic file sharing.\n",
            " Anyone, anywhere can open a PDF file. All you need is the free Adobe Acrobat\n",
            "Reader. Recipients of other file formats sometimes can't open files because they\n",
            "don't have the applications used to create the documents.\n",
            " PDF files \n",
            "always print correctly\n",
            " on any printing device.\n",
            " PDF files always display \n",
            "exactly\n",
            " as created, regardless of fonts, software, and\n",
            "operating systems. Fonts, and graphics are not lost due to platform, software, and\n",
            "version incompatibilities.\n",
            " The free Acrobat Reader is easy to download and can be freely distributed by\n",
            "anyone.\n",
            " Compact PDF files are smaller than their source files and download a\n",
            "page at a time for fast display on the Web.\n",
            "\n"
          ],
          "name": "stdout"
        }
      ]
    },
    {
      "cell_type": "markdown",
      "metadata": {
        "id": "HVAHTtzhvGh5",
        "colab_type": "text"
      },
      "source": [
        "Podział tekstu na linie"
      ]
    },
    {
      "cell_type": "code",
      "metadata": {
        "id": "CYagUmv2OoRP",
        "colab_type": "code",
        "outputId": "5167cfa6-b86e-43c2-8cce-884b255a6682",
        "colab": {
          "base_uri": "https://localhost:8080/",
          "height": 435
        }
      },
      "source": [
        "lines = text.split('\\n')\n",
        "lines"
      ],
      "execution_count": 0,
      "outputs": [
        {
          "output_type": "execute_result",
          "data": {
            "text/plain": [
              "['Adobe Acrobat PDF Files',\n",
              " 'Adobe® Portable Document Format (PDF) is a universal file format that preserves all',\n",
              " 'of the fonts, formatting, colours and graphics of any source document, regardless of',\n",
              " '',\n",
              " 'the application and platform used to create it.',\n",
              " 'Adobe PDF is an ideal format for electronic document distribution as it overcomes the',\n",
              " 'problems commonly encountered with electronic file sharing.',\n",
              " ' Anyone, anywhere can open a PDF file. All you need is the free Adobe Acrobat',\n",
              " \"Reader. Recipients of other file formats sometimes can't open files because they\",\n",
              " \"don't have the applications used to create the documents.\",\n",
              " ' PDF files ',\n",
              " 'always print correctly',\n",
              " ' on any printing device.',\n",
              " ' PDF files always display ',\n",
              " 'exactly',\n",
              " ' as created, regardless of fonts, software, and',\n",
              " 'operating systems. Fonts, and graphics are not lost due to platform, software, and',\n",
              " 'version incompatibilities.',\n",
              " ' The free Acrobat Reader is easy to download and can be freely distributed by',\n",
              " 'anyone.',\n",
              " ' Compact PDF files are smaller than their source files and download a',\n",
              " 'page at a time for fast display on the Web.',\n",
              " '']"
            ]
          },
          "metadata": {
            "tags": []
          },
          "execution_count": 7
        }
      ]
    },
    {
      "cell_type": "markdown",
      "metadata": {
        "id": "40bpk12kvIhw",
        "colab_type": "text"
      },
      "source": [
        "Pozbycie się niepotrzebnych białych znaków"
      ]
    },
    {
      "cell_type": "code",
      "metadata": {
        "id": "ieNaSBUYOouH",
        "colab_type": "code",
        "outputId": "3aa3b06d-5b00-4154-ffff-08033c1d4a94",
        "colab": {
          "base_uri": "https://localhost:8080/",
          "height": 435
        }
      },
      "source": [
        "lines = [line.strip() for line in lines]\n",
        "lines"
      ],
      "execution_count": 0,
      "outputs": [
        {
          "output_type": "execute_result",
          "data": {
            "text/plain": [
              "['Adobe Acrobat PDF Files',\n",
              " 'Adobe® Portable Document Format (PDF) is a universal file format that preserves all',\n",
              " 'of the fonts, formatting, colours and graphics of any source document, regardless of',\n",
              " '',\n",
              " 'the application and platform used to create it.',\n",
              " 'Adobe PDF is an ideal format for electronic document distribution as it overcomes the',\n",
              " 'problems commonly encountered with electronic file sharing.',\n",
              " 'Anyone, anywhere can open a PDF file. All you need is the free Adobe Acrobat',\n",
              " \"Reader. Recipients of other file formats sometimes can't open files because they\",\n",
              " \"don't have the applications used to create the documents.\",\n",
              " 'PDF files',\n",
              " 'always print correctly',\n",
              " 'on any printing device.',\n",
              " 'PDF files always display',\n",
              " 'exactly',\n",
              " 'as created, regardless of fonts, software, and',\n",
              " 'operating systems. Fonts, and graphics are not lost due to platform, software, and',\n",
              " 'version incompatibilities.',\n",
              " 'The free Acrobat Reader is easy to download and can be freely distributed by',\n",
              " 'anyone.',\n",
              " 'Compact PDF files are smaller than their source files and download a',\n",
              " 'page at a time for fast display on the Web.',\n",
              " '']"
            ]
          },
          "metadata": {
            "tags": []
          },
          "execution_count": 8
        }
      ]
    },
    {
      "cell_type": "markdown",
      "metadata": {
        "id": "JbOpRhaUvMTH",
        "colab_type": "text"
      },
      "source": [
        "Odfiltrowanie pustych linii"
      ]
    },
    {
      "cell_type": "code",
      "metadata": {
        "id": "e_2YBIPUO0Vj",
        "colab_type": "code",
        "outputId": "799eedc7-b3d4-40db-bf38-42239c679ce8",
        "colab": {
          "base_uri": "https://localhost:8080/",
          "height": 399
        }
      },
      "source": [
        "lines = [line for line in lines if len(line) > 0]\n",
        "lines"
      ],
      "execution_count": 0,
      "outputs": [
        {
          "output_type": "execute_result",
          "data": {
            "text/plain": [
              "['Adobe Acrobat PDF Files',\n",
              " 'Adobe® Portable Document Format (PDF) is a universal file format that preserves all',\n",
              " 'of the fonts, formatting, colours and graphics of any source document, regardless of',\n",
              " 'the application and platform used to create it.',\n",
              " 'Adobe PDF is an ideal format for electronic document distribution as it overcomes the',\n",
              " 'problems commonly encountered with electronic file sharing.',\n",
              " 'Anyone, anywhere can open a PDF file. All you need is the free Adobe Acrobat',\n",
              " \"Reader. Recipients of other file formats sometimes can't open files because they\",\n",
              " \"don't have the applications used to create the documents.\",\n",
              " 'PDF files',\n",
              " 'always print correctly',\n",
              " 'on any printing device.',\n",
              " 'PDF files always display',\n",
              " 'exactly',\n",
              " 'as created, regardless of fonts, software, and',\n",
              " 'operating systems. Fonts, and graphics are not lost due to platform, software, and',\n",
              " 'version incompatibilities.',\n",
              " 'The free Acrobat Reader is easy to download and can be freely distributed by',\n",
              " 'anyone.',\n",
              " 'Compact PDF files are smaller than their source files and download a',\n",
              " 'page at a time for fast display on the Web.']"
            ]
          },
          "metadata": {
            "tags": []
          },
          "execution_count": 9
        }
      ]
    },
    {
      "cell_type": "markdown",
      "metadata": {
        "id": "wDxu6C-0vPvZ",
        "colab_type": "text"
      },
      "source": [
        "Podział linii na tokeny"
      ]
    },
    {
      "cell_type": "code",
      "metadata": {
        "id": "5BL4U6ijO67c",
        "colab_type": "code",
        "outputId": "b4868d03-5c9a-41ad-dcfe-1e106863f2cf",
        "colab": {
          "base_uri": "https://localhost:8080/",
          "height": 399
        }
      },
      "source": [
        "splitted_lines = [line.split() for line in lines]\n",
        "\n",
        "for line in splitted_lines:\n",
        "    print(line)"
      ],
      "execution_count": 0,
      "outputs": [
        {
          "output_type": "stream",
          "text": [
            "['Adobe', 'Acrobat', 'PDF', 'Files']\n",
            "['Adobe®', 'Portable', 'Document', 'Format', '(PDF)', 'is', 'a', 'universal', 'file', 'format', 'that', 'preserves', 'all']\n",
            "['of', 'the', 'fonts,', 'formatting,', 'colours', 'and', 'graphics', 'of', 'any', 'source', 'document,', 'regardless', 'of']\n",
            "['the', 'application', 'and', 'platform', 'used', 'to', 'create', 'it.']\n",
            "['Adobe', 'PDF', 'is', 'an', 'ideal', 'format', 'for', 'electronic', 'document', 'distribution', 'as', 'it', 'overcomes', 'the']\n",
            "['problems', 'commonly', 'encountered', 'with', 'electronic', 'file', 'sharing.']\n",
            "['Anyone,', 'anywhere', 'can', 'open', 'a', 'PDF', 'file.', 'All', 'you', 'need', 'is', 'the', 'free', 'Adobe', 'Acrobat']\n",
            "['Reader.', 'Recipients', 'of', 'other', 'file', 'formats', 'sometimes', \"can't\", 'open', 'files', 'because', 'they']\n",
            "[\"don't\", 'have', 'the', 'applications', 'used', 'to', 'create', 'the', 'documents.']\n",
            "['PDF', 'files']\n",
            "['always', 'print', 'correctly']\n",
            "['on', 'any', 'printing', 'device.']\n",
            "['PDF', 'files', 'always', 'display']\n",
            "['exactly']\n",
            "['as', 'created,', 'regardless', 'of', 'fonts,', 'software,', 'and']\n",
            "['operating', 'systems.', 'Fonts,', 'and', 'graphics', 'are', 'not', 'lost', 'due', 'to', 'platform,', 'software,', 'and']\n",
            "['version', 'incompatibilities.']\n",
            "['The', 'free', 'Acrobat', 'Reader', 'is', 'easy', 'to', 'download', 'and', 'can', 'be', 'freely', 'distributed', 'by']\n",
            "['anyone.']\n",
            "['Compact', 'PDF', 'files', 'are', 'smaller', 'than', 'their', 'source', 'files', 'and', 'download', 'a']\n",
            "['page', 'at', 'a', 'time', 'for', 'fast', 'display', 'on', 'the', 'Web.']\n"
          ],
          "name": "stdout"
        }
      ]
    },
    {
      "cell_type": "markdown",
      "metadata": {
        "id": "PjB0ARc4vS61",
        "colab_type": "text"
      },
      "source": [
        "Standaryzacja tekstu"
      ]
    },
    {
      "cell_type": "code",
      "metadata": {
        "id": "tebzixltPCWY",
        "colab_type": "code",
        "outputId": "01322884-4a1d-4f49-c305-33ebec286b1c",
        "colab": {
          "base_uri": "https://localhost:8080/",
          "height": 399
        }
      },
      "source": [
        "splitted_lines_lower = [[token.lower() for token in line] for line in splitted_lines]\n",
        "\n",
        "for line in splitted_lines_lower:\n",
        "    print(line)"
      ],
      "execution_count": 0,
      "outputs": [
        {
          "output_type": "stream",
          "text": [
            "['adobe', 'acrobat', 'pdf', 'files']\n",
            "['adobe®', 'portable', 'document', 'format', '(pdf)', 'is', 'a', 'universal', 'file', 'format', 'that', 'preserves', 'all']\n",
            "['of', 'the', 'fonts,', 'formatting,', 'colours', 'and', 'graphics', 'of', 'any', 'source', 'document,', 'regardless', 'of']\n",
            "['the', 'application', 'and', 'platform', 'used', 'to', 'create', 'it.']\n",
            "['adobe', 'pdf', 'is', 'an', 'ideal', 'format', 'for', 'electronic', 'document', 'distribution', 'as', 'it', 'overcomes', 'the']\n",
            "['problems', 'commonly', 'encountered', 'with', 'electronic', 'file', 'sharing.']\n",
            "['anyone,', 'anywhere', 'can', 'open', 'a', 'pdf', 'file.', 'all', 'you', 'need', 'is', 'the', 'free', 'adobe', 'acrobat']\n",
            "['reader.', 'recipients', 'of', 'other', 'file', 'formats', 'sometimes', \"can't\", 'open', 'files', 'because', 'they']\n",
            "[\"don't\", 'have', 'the', 'applications', 'used', 'to', 'create', 'the', 'documents.']\n",
            "['pdf', 'files']\n",
            "['always', 'print', 'correctly']\n",
            "['on', 'any', 'printing', 'device.']\n",
            "['pdf', 'files', 'always', 'display']\n",
            "['exactly']\n",
            "['as', 'created,', 'regardless', 'of', 'fonts,', 'software,', 'and']\n",
            "['operating', 'systems.', 'fonts,', 'and', 'graphics', 'are', 'not', 'lost', 'due', 'to', 'platform,', 'software,', 'and']\n",
            "['version', 'incompatibilities.']\n",
            "['the', 'free', 'acrobat', 'reader', 'is', 'easy', 'to', 'download', 'and', 'can', 'be', 'freely', 'distributed', 'by']\n",
            "['anyone.']\n",
            "['compact', 'pdf', 'files', 'are', 'smaller', 'than', 'their', 'source', 'files', 'and', 'download', 'a']\n",
            "['page', 'at', 'a', 'time', 'for', 'fast', 'display', 'on', 'the', 'web.']\n"
          ],
          "name": "stdout"
        }
      ]
    },
    {
      "cell_type": "markdown",
      "metadata": {
        "id": "UDzLvpgivWEX",
        "colab_type": "text"
      },
      "source": [
        "Połączenie wystandaryzowanego tekstu"
      ]
    },
    {
      "cell_type": "code",
      "metadata": {
        "id": "KxlrD0dxPXqE",
        "colab_type": "code",
        "outputId": "7d2ec5ee-e556-4f7e-9210-4f318676ea33",
        "colab": {
          "base_uri": "https://localhost:8080/",
          "height": 399
        }
      },
      "source": [
        "joined_lines = [' '.join(line) for line in splitted_lines_lower]\n",
        "\n",
        "for line in joined_lines:\n",
        "    print(line)"
      ],
      "execution_count": 0,
      "outputs": [
        {
          "output_type": "stream",
          "text": [
            "adobe acrobat pdf files\n",
            "adobe® portable document format (pdf) is a universal file format that preserves all\n",
            "of the fonts, formatting, colours and graphics of any source document, regardless of\n",
            "the application and platform used to create it.\n",
            "adobe pdf is an ideal format for electronic document distribution as it overcomes the\n",
            "problems commonly encountered with electronic file sharing.\n",
            "anyone, anywhere can open a pdf file. all you need is the free adobe acrobat\n",
            "reader. recipients of other file formats sometimes can't open files because they\n",
            "don't have the applications used to create the documents.\n",
            "pdf files\n",
            "always print correctly\n",
            "on any printing device.\n",
            "pdf files always display\n",
            "exactly\n",
            "as created, regardless of fonts, software, and\n",
            "operating systems. fonts, and graphics are not lost due to platform, software, and\n",
            "version incompatibilities.\n",
            "the free acrobat reader is easy to download and can be freely distributed by\n",
            "anyone.\n",
            "compact pdf files are smaller than their source files and download a\n",
            "page at a time for fast display on the web.\n"
          ],
          "name": "stdout"
        }
      ]
    },
    {
      "cell_type": "code",
      "metadata": {
        "id": "OXukBWwUP0eb",
        "colab_type": "code",
        "colab": {}
      },
      "source": [
        ""
      ],
      "execution_count": 0,
      "outputs": []
    }
  ]
}