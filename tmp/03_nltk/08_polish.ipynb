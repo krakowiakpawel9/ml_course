{
  "nbformat": 4,
  "nbformat_minor": 0,
  "metadata": {
    "colab": {
      "name": "01_preprocessing.ipynb",
      "provenance": [],
      "include_colab_link": true
    },
    "kernelspec": {
      "name": "python3",
      "display_name": "Python 3"
    }
  },
  "cells": [
    {
      "cell_type": "markdown",
      "metadata": {
        "id": "view-in-github",
        "colab_type": "text"
      },
      "source": [
        "<a href=\"https://colab.research.google.com/github/krakowiakpawel9/ml_course/blob/master/tmp/03_nltk/08_polish.ipynb\" target=\"_parent\"><img src=\"https://colab.research.google.com/assets/colab-badge.svg\" alt=\"Open In Colab\"/></a>"
      ]
    },
    {
      "cell_type": "markdown",
      "metadata": {
        "id": "UbjsT92Xd3z1",
        "colab_type": "text"
      },
      "source": [
        "* @author: krakowiakpawel9@gmail.com  \n",
        "* @site: e-smartdata.org\n",
        "\n",
        "### nltk\n",
        "Strona biblioteki: [https://www.nltk.org/](https://www.nltk.org/)  \n",
        "\n",
        "Podstawowa biblioteka do przetwarzania języka naturalnego w języku Python.\n",
        "\n",
        "Aby zainstalować bibliotekę nltk, użyj polecenia poniżej:\n",
        "```\n",
        "!pip install nltk\n",
        "```\n",
        "Aby zaktualizować do najnowszej wersji użyj polecenia poniżej:\n",
        "```\n",
        "!pip install --upgrade nltk\n",
        "```\n",
        "Kurs stworzony w oparciu o wersję `3.2.5`\n",
        "\n",
        "### Spis treści:\n",
        "1. [Import bibliotek](#0)\n",
        "2. [Wygenerowanie danych](#1)\n",
        "\n"
      ]
    },
    {
      "cell_type": "markdown",
      "metadata": {
        "id": "YkIALacsUnj7",
        "colab_type": "text"
      },
      "source": [
        "### <a name='0'></a> Import bibliotek"
      ]
    },
    {
      "cell_type": "code",
      "metadata": {
        "id": "8AnF0TJrhVts",
        "colab_type": "code",
        "outputId": "72a1af4f-967f-4375-8bed-e22814d55021",
        "colab": {
          "base_uri": "https://localhost:8080/",
          "height": 72
        }
      },
      "source": [
        "import nltk\n",
        "\n",
        "nltk.download('punkt')"
      ],
      "execution_count": 0,
      "outputs": [
        {
          "output_type": "stream",
          "text": [
            "[nltk_data] Downloading package punkt to /root/nltk_data...\n",
            "[nltk_data]   Unzipping tokenizers/punkt.zip.\n"
          ],
          "name": "stdout"
        },
        {
          "output_type": "execute_result",
          "data": {
            "text/plain": [
              "True"
            ]
          },
          "metadata": {
            "tags": []
          },
          "execution_count": 6
        }
      ]
    },
    {
      "cell_type": "markdown",
      "metadata": {
        "id": "Cn8EXHx4iiXF",
        "colab_type": "text"
      },
      "source": [
        "Token"
      ]
    },
    {
      "cell_type": "code",
      "metadata": {
        "id": "tcsUuBbeijV6",
        "colab_type": "code",
        "colab": {}
      },
      "source": [
        "text = 'Od lekkich wzrostów giełdowy dzień zaczyna się w Europie.'\n",
        "# token -> zdanie\n",
        "# token -> wyraz\n",
        "# token -> pojedynczy znak"
      ],
      "execution_count": 0,
      "outputs": []
    },
    {
      "cell_type": "code",
      "metadata": {
        "id": "Brq7rJpyhbMT",
        "colab_type": "code",
        "outputId": "adac73e0-4973-4ceb-c97d-eee4d2168e8b",
        "colab": {
          "base_uri": "https://localhost:8080/",
          "height": 55
        }
      },
      "source": [
        "text = \"\"\"Po poniedziałkowej fali spadków powodowanej obawami o rozprzestrzenianie się koronawirusa we wtorek rano na rynkach panuje względny spokój.\n",
        "Od lekkich wzrostów giełdowy dzień zaczyna się w Europie. O ponad 0,5% w górę idą niemiecki DAX i francuski CAC40.\n",
        "Na starcie dzisiejszej sesji główny indeks GPW traci 0,07% i wciąż trwa walka o powrót powyżej 2000 pkt.\"\"\"\n",
        "\n",
        "text"
      ],
      "execution_count": 0,
      "outputs": [
        {
          "output_type": "execute_result",
          "data": {
            "text/plain": [
              "'Po poniedziałkowej fali spadków powodowanej obawami o rozprzestrzenianie się koronawirusa we wtorek rano na rynkach panuje względny spokój.\\nOd lekkich wzrostów giełdowy dzień zaczyna się w Europie. O ponad 0,5% w górę idą niemiecki DAX i francuski CAC40.\\nNa starcie dzisiejszej sesji główny indeks GPW traci 0,07% i wciąż trwa walka o powrót powyżej 2000 pkt.'"
            ]
          },
          "metadata": {
            "tags": []
          },
          "execution_count": 3
        }
      ]
    },
    {
      "cell_type": "code",
      "metadata": {
        "id": "mBnrX3dRkAiD",
        "colab_type": "code",
        "outputId": "9313e5de-e99d-4950-fc93-9584e54e9984",
        "colab": {
          "base_uri": "https://localhost:8080/",
          "height": 72
        }
      },
      "source": [
        "print(text)"
      ],
      "execution_count": 0,
      "outputs": [
        {
          "output_type": "stream",
          "text": [
            "Po poniedziałkowej fali spadków powodowanej obawami o rozprzestrzenianie się koronawirusa we wtorek rano na rynkach panuje względny spokój.\n",
            "Od lekkich wzrostów giełdowy dzień zaczyna się w Europie. O ponad 0,5% w górę idą niemiecki DAX i francuski CAC40.\n",
            "Na starcie dzisiejszej sesji główny indeks GPW traci 0,07% i wciąż trwa walka o powrót powyżej 2000 pkt.\n"
          ],
          "name": "stdout"
        }
      ]
    },
    {
      "cell_type": "markdown",
      "metadata": {
        "id": "qWUS0vICi32Q",
        "colab_type": "text"
      },
      "source": [
        "Tokenizacja zdań"
      ]
    },
    {
      "cell_type": "code",
      "metadata": {
        "id": "FDt26SK2h6ai",
        "colab_type": "code",
        "outputId": "f914ceff-a1f1-4f8e-a4f1-e3d0cf3549d3",
        "colab": {
          "base_uri": "https://localhost:8080/",
          "height": 90
        }
      },
      "source": [
        "from nltk.tokenize import sent_tokenize\n",
        "\n",
        "sent_tokenize(text)"
      ],
      "execution_count": 0,
      "outputs": [
        {
          "output_type": "execute_result",
          "data": {
            "text/plain": [
              "['Po poniedziałkowej fali spadków powodowanej obawami o rozprzestrzenianie się koronawirusa we wtorek rano na rynkach panuje względny spokój.',\n",
              " 'Od lekkich wzrostów giełdowy dzień zaczyna się w Europie.',\n",
              " 'O ponad 0,5% w górę idą niemiecki DAX i francuski CAC40.',\n",
              " 'Na starcie dzisiejszej sesji główny indeks GPW traci 0,07% i wciąż trwa walka o powrót powyżej 2000 pkt.']"
            ]
          },
          "metadata": {
            "tags": []
          },
          "execution_count": 7
        }
      ]
    },
    {
      "cell_type": "markdown",
      "metadata": {
        "id": "KLJCgVxRi_4n",
        "colab_type": "text"
      },
      "source": [
        "Tokenizacja słów"
      ]
    },
    {
      "cell_type": "code",
      "metadata": {
        "id": "PH9-t3RfiYAt",
        "colab_type": "code",
        "outputId": "33cf3651-1959-4928-8531-4fe121a7c5e9",
        "colab": {
          "base_uri": "https://localhost:8080/",
          "height": 1000
        }
      },
      "source": [
        "from nltk.tokenize import word_tokenize\n",
        "\n",
        "tokenized_text = word_tokenize(text)\n",
        "tokenized_text"
      ],
      "execution_count": 0,
      "outputs": [
        {
          "output_type": "execute_result",
          "data": {
            "text/plain": [
              "['Po',\n",
              " 'poniedziałkowej',\n",
              " 'fali',\n",
              " 'spadków',\n",
              " 'powodowanej',\n",
              " 'obawami',\n",
              " 'o',\n",
              " 'rozprzestrzenianie',\n",
              " 'się',\n",
              " 'koronawirusa',\n",
              " 'we',\n",
              " 'wtorek',\n",
              " 'rano',\n",
              " 'na',\n",
              " 'rynkach',\n",
              " 'panuje',\n",
              " 'względny',\n",
              " 'spokój',\n",
              " '.',\n",
              " 'Od',\n",
              " 'lekkich',\n",
              " 'wzrostów',\n",
              " 'giełdowy',\n",
              " 'dzień',\n",
              " 'zaczyna',\n",
              " 'się',\n",
              " 'w',\n",
              " 'Europie',\n",
              " '.',\n",
              " 'O',\n",
              " 'ponad',\n",
              " '0,5',\n",
              " '%',\n",
              " 'w',\n",
              " 'górę',\n",
              " 'idą',\n",
              " 'niemiecki',\n",
              " 'DAX',\n",
              " 'i',\n",
              " 'francuski',\n",
              " 'CAC40',\n",
              " '.',\n",
              " 'Na',\n",
              " 'starcie',\n",
              " 'dzisiejszej',\n",
              " 'sesji',\n",
              " 'główny',\n",
              " 'indeks',\n",
              " 'GPW',\n",
              " 'traci',\n",
              " '0,07',\n",
              " '%',\n",
              " 'i',\n",
              " 'wciąż',\n",
              " 'trwa',\n",
              " 'walka',\n",
              " 'o',\n",
              " 'powrót',\n",
              " 'powyżej',\n",
              " '2000',\n",
              " 'pkt',\n",
              " '.']"
            ]
          },
          "metadata": {
            "tags": []
          },
          "execution_count": 8
        }
      ]
    },
    {
      "cell_type": "code",
      "metadata": {
        "id": "6fPze01Uidq8",
        "colab_type": "code",
        "outputId": "abae913d-4d5b-4910-b8b8-faf5b43a8be0",
        "colab": {
          "base_uri": "https://localhost:8080/",
          "height": 999
        }
      },
      "source": [
        "from nltk.probability import FreqDist\n",
        "\n",
        "frequencies = FreqDist(tokenized_text)\n",
        "frequencies"
      ],
      "execution_count": 0,
      "outputs": [
        {
          "output_type": "execute_result",
          "data": {
            "text/plain": [
              "FreqDist({'%': 2,\n",
              "          '.': 4,\n",
              "          '0,07': 1,\n",
              "          '0,5': 1,\n",
              "          '2000': 1,\n",
              "          'CAC40': 1,\n",
              "          'DAX': 1,\n",
              "          'Europie': 1,\n",
              "          'GPW': 1,\n",
              "          'Na': 1,\n",
              "          'O': 1,\n",
              "          'Od': 1,\n",
              "          'Po': 1,\n",
              "          'dzień': 1,\n",
              "          'dzisiejszej': 1,\n",
              "          'fali': 1,\n",
              "          'francuski': 1,\n",
              "          'giełdowy': 1,\n",
              "          'górę': 1,\n",
              "          'główny': 1,\n",
              "          'i': 2,\n",
              "          'idą': 1,\n",
              "          'indeks': 1,\n",
              "          'koronawirusa': 1,\n",
              "          'lekkich': 1,\n",
              "          'na': 1,\n",
              "          'niemiecki': 1,\n",
              "          'o': 2,\n",
              "          'obawami': 1,\n",
              "          'panuje': 1,\n",
              "          'pkt': 1,\n",
              "          'ponad': 1,\n",
              "          'poniedziałkowej': 1,\n",
              "          'powodowanej': 1,\n",
              "          'powrót': 1,\n",
              "          'powyżej': 1,\n",
              "          'rano': 1,\n",
              "          'rozprzestrzenianie': 1,\n",
              "          'rynkach': 1,\n",
              "          'sesji': 1,\n",
              "          'się': 2,\n",
              "          'spadków': 1,\n",
              "          'spokój': 1,\n",
              "          'starcie': 1,\n",
              "          'traci': 1,\n",
              "          'trwa': 1,\n",
              "          'w': 2,\n",
              "          'walka': 1,\n",
              "          'wciąż': 1,\n",
              "          'we': 1,\n",
              "          'wtorek': 1,\n",
              "          'względny': 1,\n",
              "          'wzrostów': 1,\n",
              "          'zaczyna': 1})"
            ]
          },
          "metadata": {
            "tags": []
          },
          "execution_count": 9
        }
      ]
    },
    {
      "cell_type": "code",
      "metadata": {
        "id": "IeD3BszqjYT9",
        "colab_type": "code",
        "outputId": "4ec54988-b446-46ee-fe68-7428933a3378",
        "colab": {
          "base_uri": "https://localhost:8080/",
          "height": 199
        }
      },
      "source": [
        "frequencies.most_common(10)"
      ],
      "execution_count": 0,
      "outputs": [
        {
          "output_type": "execute_result",
          "data": {
            "text/plain": [
              "[('.', 4),\n",
              " ('o', 2),\n",
              " ('się', 2),\n",
              " ('w', 2),\n",
              " ('%', 2),\n",
              " ('i', 2),\n",
              " ('Po', 1),\n",
              " ('poniedziałkowej', 1),\n",
              " ('fali', 1),\n",
              " ('spadków', 1)]"
            ]
          },
          "metadata": {
            "tags": []
          },
          "execution_count": 10
        }
      ]
    },
    {
      "cell_type": "code",
      "metadata": {
        "id": "KGcYrzyIkNk9",
        "colab_type": "code",
        "outputId": "7af6fb20-4af6-4f03-fc4a-c05fca1c72d7",
        "colab": {
          "base_uri": "https://localhost:8080/",
          "height": 595
        }
      },
      "source": [
        "import matplotlib.pyplot as plt\n",
        "import seaborn as sns\n",
        "sns.set()\n",
        "\n",
        "plt.figure(figsize=(12, 8))\n",
        "frequencies.plot(30, cumulative=False)"
      ],
      "execution_count": 0,
      "outputs": [
        {
          "output_type": "display_data",
          "data": {
            "image/png": "[encoded data removed]",
            "text/plain": [
              "<Figure size 864x576 with 1 Axes>"
            ]
          },
          "metadata": {
            "tags": []
          }
        }
      ]
    },
    {
      "cell_type": "code",
      "metadata": {
        "id": "0v-GrlfdkYn-",
        "colab_type": "code",
        "colab": {}
      },
      "source": [
        "frequencies.plot(30, cumulative=True)"
      ],
      "execution_count": 0,
      "outputs": []
    },
    {
      "cell_type": "code",
      "metadata": {
        "id": "JIWQlDFGkq9b",
        "colab_type": "code",
        "colab": {}
      },
      "source": [
        ""
      ],
      "execution_count": 0,
      "outputs": []
    }
  ]
}