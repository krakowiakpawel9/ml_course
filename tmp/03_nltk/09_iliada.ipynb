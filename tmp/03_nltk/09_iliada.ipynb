{
  "nbformat": 4,
  "nbformat_minor": 0,
  "metadata": {
    "colab": {
      "name": "01_preprocessing.ipynb",
      "provenance": [],
      "include_colab_link": true
    },
    "kernelspec": {
      "name": "python3",
      "display_name": "Python 3"
    }
  },
  "cells": [
    {
      "cell_type": "markdown",
      "metadata": {
        "id": "view-in-github",
        "colab_type": "text"
      },
      "source": [
        "<a href=\"https://colab.research.google.com/github/krakowiakpawel9/ml_course/blob/master/tmp/03_nltk/09_iliada.ipynb\" target=\"_parent\"><img src=\"https://colab.research.google.com/assets/colab-badge.svg\" alt=\"Open In Colab\"/></a>"
      ]
    },
    {
      "cell_type": "markdown",
      "metadata": {
        "id": "UbjsT92Xd3z1",
        "colab_type": "text"
      },
      "source": [
        "* @author: krakowiakpawel9@gmail.com  \n",
        "* @site: e-smartdata.org\n",
        "\n",
        "### nltk\n",
        "Strona biblioteki: [https://www.nltk.org/](https://www.nltk.org/)  \n",
        "\n",
        "Podstawowa biblioteka do przetwarzania języka naturalnego w języku Python.\n",
        "\n",
        "Aby zainstalować bibliotekę nltk, użyj polecenia poniżej:\n",
        "```\n",
        "!pip install nltk\n",
        "```\n",
        "Aby zaktualizować do najnowszej wersji użyj polecenia poniżej:\n",
        "```\n",
        "!pip install --upgrade nltk\n",
        "```\n",
        "Kurs stworzony w oparciu o wersję `3.2.5`\n",
        "\n",
        "### Spis treści:\n",
        "1. [Import bibliotek](#0)\n",
        "2. [Wygenerowanie danych](#1)\n",
        "\n"
      ]
    },
    {
      "cell_type": "markdown",
      "metadata": {
        "id": "YkIALacsUnj7",
        "colab_type": "text"
      },
      "source": [
        "### <a name='0'></a> Import bibliotek"
      ]
    },
    {
      "cell_type": "code",
      "metadata": {
        "id": "igGgx88SWPQm",
        "colab_type": "code",
        "outputId": "1aff1ddb-1bb6-4801-9786-a847c115ad6a",
        "colab": {
          "base_uri": "https://localhost:8080/",
          "height": 68
        }
      },
      "source": [
        "import nltk\n",
        "\n",
        "nltk.download('punkt')"
      ],
      "execution_count": 0,
      "outputs": [
        {
          "output_type": "stream",
          "text": [
            "[nltk_data] Downloading package punkt to /root/nltk_data...\n",
            "[nltk_data]   Unzipping tokenizers/punkt.zip.\n"
          ],
          "name": "stdout"
        },
        {
          "output_type": "execute_result",
          "data": {
            "text/plain": [
              "True"
            ]
          },
          "metadata": {
            "tags": []
          },
          "execution_count": 14
        }
      ]
    },
    {
      "cell_type": "code",
      "metadata": {
        "id": "jZN2Y9mQcpM0",
        "colab_type": "code",
        "outputId": "073c66a0-80de-41ce-c49c-3eb9b67d0571",
        "colab": {
          "base_uri": "https://localhost:8080/",
          "height": 34
        }
      },
      "source": [
        "import requests\n",
        "\n",
        "url = 'https://storage.googleapis.com/esmartdata-courses-files/nlp-course/iliada.txt'\n",
        "response = requests.get(url)\n",
        "response.text[:200]"
      ],
      "execution_count": 0,
      "outputs": [
        {
          "output_type": "execute_result",
          "data": {
            "text/plain": [
              "'Provided by The Internet Classics Archive.\\nSee bottom for copyright. Available online at\\n    http://classics.mit.edu//Homer/iliad.html\\n\\nThe Iliad\\nBy Homer\\n\\n\\nTranslated by Samuel Butler\\n\\n--------------'"
            ]
          },
          "metadata": {
            "tags": []
          },
          "execution_count": 3
        }
      ]
    },
    {
      "cell_type": "code",
      "metadata": {
        "id": "Wdis1oQTevvb",
        "colab_type": "code",
        "outputId": "2e858f5d-fd64-4aec-a62c-21751e424ef4",
        "colab": {
          "base_uri": "https://localhost:8080/",
          "height": 34
        }
      },
      "source": [
        "text = response.text\n",
        "print(len(text))"
      ],
      "execution_count": 0,
      "outputs": [
        {
          "output_type": "stream",
          "text": [
            "808298\n"
          ],
          "name": "stdout"
        }
      ]
    },
    {
      "cell_type": "code",
      "metadata": {
        "id": "fQ2xPp4dfWu-",
        "colab_type": "code",
        "outputId": "8b995566-4579-403e-b0f6-317ace178a77",
        "colab": {
          "base_uri": "https://localhost:8080/",
          "height": 527
        }
      },
      "source": [
        "sorted(set(text))[:30]"
      ],
      "execution_count": 0,
      "outputs": [
        {
          "output_type": "execute_result",
          "data": {
            "text/plain": [
              "['\\n',\n",
              " ' ',\n",
              " '!',\n",
              " '\"',\n",
              " '&',\n",
              " \"'\",\n",
              " '(',\n",
              " ')',\n",
              " ',',\n",
              " '-',\n",
              " '.',\n",
              " '/',\n",
              " '0',\n",
              " '1',\n",
              " '2',\n",
              " '4',\n",
              " '9',\n",
              " ':',\n",
              " ';',\n",
              " '?',\n",
              " '@',\n",
              " 'A',\n",
              " 'B',\n",
              " 'C',\n",
              " 'D',\n",
              " 'E',\n",
              " 'F',\n",
              " 'G',\n",
              " 'H',\n",
              " 'I']"
            ]
          },
          "metadata": {
            "tags": []
          },
          "execution_count": 5
        }
      ]
    },
    {
      "cell_type": "code",
      "metadata": {
        "id": "YklziDHYfHhg",
        "colab_type": "code",
        "outputId": "bd729ffe-f1ed-4ef8-dffb-ed58ff945f99",
        "colab": {
          "base_uri": "https://localhost:8080/",
          "height": 34
        }
      },
      "source": [
        "len(set(text)) / len(text) * 100"
      ],
      "execution_count": 0,
      "outputs": [
        {
          "output_type": "execute_result",
          "data": {
            "text/plain": [
              "0.0090313226062665"
            ]
          },
          "metadata": {
            "tags": []
          },
          "execution_count": 6
        }
      ]
    },
    {
      "cell_type": "code",
      "metadata": {
        "id": "XUPdEacUdBb-",
        "colab_type": "code",
        "outputId": "7700f2f4-254f-4630-d63e-15ac1aa5f364",
        "colab": {
          "base_uri": "https://localhost:8080/",
          "height": 377
        }
      },
      "source": [
        "from nltk.tokenize import sent_tokenize\n",
        "\n",
        "sentences = sent_tokenize(text)\n",
        "sentences[:20]"
      ],
      "execution_count": 0,
      "outputs": [
        {
          "output_type": "execute_result",
          "data": {
            "text/plain": [
              "['Provided by The Internet Classics Archive.',\n",
              " 'See bottom for copyright.',\n",
              " 'Available online at\\n    http://classics.mit.edu//Homer/iliad.html\\n\\nThe Iliad\\nBy Homer\\n\\n\\nTranslated by Samuel Butler\\n\\n----------------------------------------------------------------------\\n\\nBOOK I\\n\\nSing, O goddess, the anger of Achilles son of Peleus, that brought\\ncountless ills upon the Achaeans.',\n",
              " 'Many a brave soul did it send hurrying\\ndown to Hades, and many a hero did it yield a prey to dogs and vultures,\\nfor so were the counsels of Jove fulfilled from the day on which the\\nson of Atreus, king of men, and great Achilles, first fell out with\\none another.',\n",
              " 'And which of the gods was it that set them on to quarrel?',\n",
              " 'It was the\\nson of Jove and Leto; for he was angry with the king and sent a pestilence\\nupon the host to plague the people, because the son of Atreus had\\ndishonoured Chryses his priest.',\n",
              " \"Now Chryses had come to the ships\\nof the Achaeans to free his daughter, and had brought with him a great\\nransom: moreover he bore in his hand the sceptre of Apollo wreathed\\nwith a suppliant's wreath and he besought the Achaeans, but most of\\nall the two sons of Atreus, who were their chiefs.\",\n",
              " '\"Sons of Atreus,\" he cried, \"and all other Achaeans, may the gods\\nwho dwell in Olympus grant you to sack the city of Priam, and to reach\\nyour homes in safety; but free my daughter, and accept a ransom for\\nher, in reverence to Apollo, son of Jove.\"',\n",
              " 'On this the rest of the Achaeans with one voice were for respecting\\nthe priest and taking the ransom that he offered; but not so Agamemnon,\\nwho spoke fiercely to him and sent him roughly away.',\n",
              " '\"Old man,\" said\\nhe, \"let me not find you tarrying about our ships, nor yet coming\\nhereafter.',\n",
              " 'Your sceptre of the god and your wreath shall profit you\\nnothing.',\n",
              " 'I will not free her.',\n",
              " 'She shall grow old in my house at Argos\\nfar from her own home, busying herself with her loom and visiting\\nmy couch; so go, and do not provoke me or it shall be the worse for\\nyou.\"',\n",
              " 'The old man feared him and obeyed.',\n",
              " 'Not a word he spoke, but went by\\nthe shore of the sounding sea and prayed apart to King Apollo whom\\nlovely Leto had borne.',\n",
              " '\"Hear me,\" he cried, \"O god of the silver bow,\\nthat protectest Chryse and holy Cilla and rulest Tenedos with thy\\nmight, hear me oh thou of Sminthe.',\n",
              " 'If I have ever decked your temple\\nwith garlands, or burned your thigh-bones in fat of bulls or goats,\\ngrant my prayer, and let your arrows avenge these my tears upon the\\nDanaans.\"',\n",
              " 'Thus did he pray, and Apollo heard his prayer.',\n",
              " 'He came down furious\\nfrom the summits of Olympus, with his bow and his quiver upon his\\nshoulder, and the arrows rattled on his back with the rage that trembled\\nwithin him.',\n",
              " 'He sat himself down away from the ships with a face as\\ndark as night, and his silver bow rang death as he shot his arrow\\nin the midst of them.']"
            ]
          },
          "metadata": {
            "tags": []
          },
          "execution_count": 23
        }
      ]
    },
    {
      "cell_type": "code",
      "metadata": {
        "id": "lTBYDe23chMu",
        "colab_type": "code",
        "outputId": "74bc8666-723a-4039-c872-bfa2b8f57f5a",
        "colab": {
          "base_uri": "https://localhost:8080/",
          "height": 377
        }
      },
      "source": [
        "sentences = [sentence.replace('\\n', ' ') for sentence in sentences]\n",
        "sentences[:20]"
      ],
      "execution_count": 0,
      "outputs": [
        {
          "output_type": "execute_result",
          "data": {
            "text/plain": [
              "['Provided by The Internet Classics Archive.',\n",
              " 'See bottom for copyright.',\n",
              " 'Available online at     http://classics.mit.edu//Homer/iliad.html  The Iliad By Homer   Translated by Samuel Butler  ----------------------------------------------------------------------  BOOK I  Sing, O goddess, the anger of Achilles son of Peleus, that brought countless ills upon the Achaeans.',\n",
              " 'Many a brave soul did it send hurrying down to Hades, and many a hero did it yield a prey to dogs and vultures, for so were the counsels of Jove fulfilled from the day on which the son of Atreus, king of men, and great Achilles, first fell out with one another.',\n",
              " 'And which of the gods was it that set them on to quarrel?',\n",
              " 'It was the son of Jove and Leto; for he was angry with the king and sent a pestilence upon the host to plague the people, because the son of Atreus had dishonoured Chryses his priest.',\n",
              " \"Now Chryses had come to the ships of the Achaeans to free his daughter, and had brought with him a great ransom: moreover he bore in his hand the sceptre of Apollo wreathed with a suppliant's wreath and he besought the Achaeans, but most of all the two sons of Atreus, who were their chiefs.\",\n",
              " '\"Sons of Atreus,\" he cried, \"and all other Achaeans, may the gods who dwell in Olympus grant you to sack the city of Priam, and to reach your homes in safety; but free my daughter, and accept a ransom for her, in reverence to Apollo, son of Jove.\"',\n",
              " 'On this the rest of the Achaeans with one voice were for respecting the priest and taking the ransom that he offered; but not so Agamemnon, who spoke fiercely to him and sent him roughly away.',\n",
              " '\"Old man,\" said he, \"let me not find you tarrying about our ships, nor yet coming hereafter.',\n",
              " 'Your sceptre of the god and your wreath shall profit you nothing.',\n",
              " 'I will not free her.',\n",
              " 'She shall grow old in my house at Argos far from her own home, busying herself with her loom and visiting my couch; so go, and do not provoke me or it shall be the worse for you.\"',\n",
              " 'The old man feared him and obeyed.',\n",
              " 'Not a word he spoke, but went by the shore of the sounding sea and prayed apart to King Apollo whom lovely Leto had borne.',\n",
              " '\"Hear me,\" he cried, \"O god of the silver bow, that protectest Chryse and holy Cilla and rulest Tenedos with thy might, hear me oh thou of Sminthe.',\n",
              " 'If I have ever decked your temple with garlands, or burned your thigh-bones in fat of bulls or goats, grant my prayer, and let your arrows avenge these my tears upon the Danaans.\"',\n",
              " 'Thus did he pray, and Apollo heard his prayer.',\n",
              " 'He came down furious from the summits of Olympus, with his bow and his quiver upon his shoulder, and the arrows rattled on his back with the rage that trembled within him.',\n",
              " 'He sat himself down away from the ships with a face as dark as night, and his silver bow rang death as he shot his arrow in the midst of them.']"
            ]
          },
          "metadata": {
            "tags": []
          },
          "execution_count": 24
        }
      ]
    },
    {
      "cell_type": "code",
      "metadata": {
        "id": "5ZeYQB_fdbjw",
        "colab_type": "code",
        "outputId": "57bf4367-89b3-4f76-dde0-105d1cd56dce",
        "colab": {
          "base_uri": "https://localhost:8080/",
          "height": 377
        }
      },
      "source": [
        "from nltk.tokenize import word_tokenize\n",
        "\n",
        "tokens = [word_tokenize(sentence) for sentence in sentences]\n",
        "\n",
        "for sentence in tokens[:20]:\n",
        "    print(sentence)"
      ],
      "execution_count": 0,
      "outputs": [
        {
          "output_type": "stream",
          "text": [
            "['Provided', 'by', 'The', 'Internet', 'Classics', 'Archive', '.']\n",
            "['See', 'bottom', 'for', 'copyright', '.']\n",
            "['Available', 'online', 'at', 'http', ':', '//classics.mit.edu//Homer/iliad.html', 'The', 'Iliad', 'By', 'Homer', 'Translated', 'by', 'Samuel', 'Butler', '--', '--', '--', '--', '--', '--', '--', '--', '--', '--', '--', '--', '--', '--', '--', '--', '--', '--', '--', '--', '--', '--', '--', '--', '--', '--', '--', '--', '--', '--', '--', '--', '--', '--', '--', 'BOOK', 'I', 'Sing', ',', 'O', 'goddess', ',', 'the', 'anger', 'of', 'Achilles', 'son', 'of', 'Peleus', ',', 'that', 'brought', 'countless', 'ills', 'upon', 'the', 'Achaeans', '.']\n",
            "['Many', 'a', 'brave', 'soul', 'did', 'it', 'send', 'hurrying', 'down', 'to', 'Hades', ',', 'and', 'many', 'a', 'hero', 'did', 'it', 'yield', 'a', 'prey', 'to', 'dogs', 'and', 'vultures', ',', 'for', 'so', 'were', 'the', 'counsels', 'of', 'Jove', 'fulfilled', 'from', 'the', 'day', 'on', 'which', 'the', 'son', 'of', 'Atreus', ',', 'king', 'of', 'men', ',', 'and', 'great', 'Achilles', ',', 'first', 'fell', 'out', 'with', 'one', 'another', '.']\n",
            "['And', 'which', 'of', 'the', 'gods', 'was', 'it', 'that', 'set', 'them', 'on', 'to', 'quarrel', '?']\n",
            "['It', 'was', 'the', 'son', 'of', 'Jove', 'and', 'Leto', ';', 'for', 'he', 'was', 'angry', 'with', 'the', 'king', 'and', 'sent', 'a', 'pestilence', 'upon', 'the', 'host', 'to', 'plague', 'the', 'people', ',', 'because', 'the', 'son', 'of', 'Atreus', 'had', 'dishonoured', 'Chryses', 'his', 'priest', '.']\n",
            "['Now', 'Chryses', 'had', 'come', 'to', 'the', 'ships', 'of', 'the', 'Achaeans', 'to', 'free', 'his', 'daughter', ',', 'and', 'had', 'brought', 'with', 'him', 'a', 'great', 'ransom', ':', 'moreover', 'he', 'bore', 'in', 'his', 'hand', 'the', 'sceptre', 'of', 'Apollo', 'wreathed', 'with', 'a', 'suppliant', \"'s\", 'wreath', 'and', 'he', 'besought', 'the', 'Achaeans', ',', 'but', 'most', 'of', 'all', 'the', 'two', 'sons', 'of', 'Atreus', ',', 'who', 'were', 'their', 'chiefs', '.']\n",
            "['``', 'Sons', 'of', 'Atreus', ',', \"''\", 'he', 'cried', ',', '``', 'and', 'all', 'other', 'Achaeans', ',', 'may', 'the', 'gods', 'who', 'dwell', 'in', 'Olympus', 'grant', 'you', 'to', 'sack', 'the', 'city', 'of', 'Priam', ',', 'and', 'to', 'reach', 'your', 'homes', 'in', 'safety', ';', 'but', 'free', 'my', 'daughter', ',', 'and', 'accept', 'a', 'ransom', 'for', 'her', ',', 'in', 'reverence', 'to', 'Apollo', ',', 'son', 'of', 'Jove', '.', \"''\"]\n",
            "['On', 'this', 'the', 'rest', 'of', 'the', 'Achaeans', 'with', 'one', 'voice', 'were', 'for', 'respecting', 'the', 'priest', 'and', 'taking', 'the', 'ransom', 'that', 'he', 'offered', ';', 'but', 'not', 'so', 'Agamemnon', ',', 'who', 'spoke', 'fiercely', 'to', 'him', 'and', 'sent', 'him', 'roughly', 'away', '.']\n",
            "['``', 'Old', 'man', ',', \"''\", 'said', 'he', ',', '``', 'let', 'me', 'not', 'find', 'you', 'tarrying', 'about', 'our', 'ships', ',', 'nor', 'yet', 'coming', 'hereafter', '.']\n",
            "['Your', 'sceptre', 'of', 'the', 'god', 'and', 'your', 'wreath', 'shall', 'profit', 'you', 'nothing', '.']\n",
            "['I', 'will', 'not', 'free', 'her', '.']\n",
            "['She', 'shall', 'grow', 'old', 'in', 'my', 'house', 'at', 'Argos', 'far', 'from', 'her', 'own', 'home', ',', 'busying', 'herself', 'with', 'her', 'loom', 'and', 'visiting', 'my', 'couch', ';', 'so', 'go', ',', 'and', 'do', 'not', 'provoke', 'me', 'or', 'it', 'shall', 'be', 'the', 'worse', 'for', 'you', '.', \"''\"]\n",
            "['The', 'old', 'man', 'feared', 'him', 'and', 'obeyed', '.']\n",
            "['Not', 'a', 'word', 'he', 'spoke', ',', 'but', 'went', 'by', 'the', 'shore', 'of', 'the', 'sounding', 'sea', 'and', 'prayed', 'apart', 'to', 'King', 'Apollo', 'whom', 'lovely', 'Leto', 'had', 'borne', '.']\n",
            "['``', 'Hear', 'me', ',', \"''\", 'he', 'cried', ',', '``', 'O', 'god', 'of', 'the', 'silver', 'bow', ',', 'that', 'protectest', 'Chryse', 'and', 'holy', 'Cilla', 'and', 'rulest', 'Tenedos', 'with', 'thy', 'might', ',', 'hear', 'me', 'oh', 'thou', 'of', 'Sminthe', '.']\n",
            "['If', 'I', 'have', 'ever', 'decked', 'your', 'temple', 'with', 'garlands', ',', 'or', 'burned', 'your', 'thigh-bones', 'in', 'fat', 'of', 'bulls', 'or', 'goats', ',', 'grant', 'my', 'prayer', ',', 'and', 'let', 'your', 'arrows', 'avenge', 'these', 'my', 'tears', 'upon', 'the', 'Danaans', '.', \"''\"]\n",
            "['Thus', 'did', 'he', 'pray', ',', 'and', 'Apollo', 'heard', 'his', 'prayer', '.']\n",
            "['He', 'came', 'down', 'furious', 'from', 'the', 'summits', 'of', 'Olympus', ',', 'with', 'his', 'bow', 'and', 'his', 'quiver', 'upon', 'his', 'shoulder', ',', 'and', 'the', 'arrows', 'rattled', 'on', 'his', 'back', 'with', 'the', 'rage', 'that', 'trembled', 'within', 'him', '.']\n",
            "['He', 'sat', 'himself', 'down', 'away', 'from', 'the', 'ships', 'with', 'a', 'face', 'as', 'dark', 'as', 'night', ',', 'and', 'his', 'silver', 'bow', 'rang', 'death', 'as', 'he', 'shot', 'his', 'arrow', 'in', 'the', 'midst', 'of', 'them', '.']\n"
          ],
          "name": "stdout"
        }
      ]
    },
    {
      "cell_type": "code",
      "metadata": {
        "id": "OihnoN1jdlBJ",
        "colab_type": "code",
        "outputId": "790f6a7c-6458-4064-f27d-6acc0bdccbf7",
        "colab": {
          "base_uri": "https://localhost:8080/",
          "height": 377
        }
      },
      "source": [
        "tokens_lower = [[token.lower() for token in sentence] for sentence in tokens]\n",
        "\n",
        "for sentence in tokens_lower[:20]:\n",
        "    print(sentence)"
      ],
      "execution_count": 0,
      "outputs": [
        {
          "output_type": "stream",
          "text": [
            "['provided', 'by', 'the', 'internet', 'classics', 'archive', '.']\n",
            "['see', 'bottom', 'for', 'copyright', '.']\n",
            "['available', 'online', 'at', 'http', ':', '//classics.mit.edu//homer/iliad.html', 'the', 'iliad', 'by', 'homer', 'translated', 'by', 'samuel', 'butler', '--', '--', '--', '--', '--', '--', '--', '--', '--', '--', '--', '--', '--', '--', '--', '--', '--', '--', '--', '--', '--', '--', '--', '--', '--', '--', '--', '--', '--', '--', '--', '--', '--', '--', '--', 'book', 'i', 'sing', ',', 'o', 'goddess', ',', 'the', 'anger', 'of', 'achilles', 'son', 'of', 'peleus', ',', 'that', 'brought', 'countless', 'ills', 'upon', 'the', 'achaeans', '.']\n",
            "['many', 'a', 'brave', 'soul', 'did', 'it', 'send', 'hurrying', 'down', 'to', 'hades', ',', 'and', 'many', 'a', 'hero', 'did', 'it', 'yield', 'a', 'prey', 'to', 'dogs', 'and', 'vultures', ',', 'for', 'so', 'were', 'the', 'counsels', 'of', 'jove', 'fulfilled', 'from', 'the', 'day', 'on', 'which', 'the', 'son', 'of', 'atreus', ',', 'king', 'of', 'men', ',', 'and', 'great', 'achilles', ',', 'first', 'fell', 'out', 'with', 'one', 'another', '.']\n",
            "['and', 'which', 'of', 'the', 'gods', 'was', 'it', 'that', 'set', 'them', 'on', 'to', 'quarrel', '?']\n",
            "['it', 'was', 'the', 'son', 'of', 'jove', 'and', 'leto', ';', 'for', 'he', 'was', 'angry', 'with', 'the', 'king', 'and', 'sent', 'a', 'pestilence', 'upon', 'the', 'host', 'to', 'plague', 'the', 'people', ',', 'because', 'the', 'son', 'of', 'atreus', 'had', 'dishonoured', 'chryses', 'his', 'priest', '.']\n",
            "['now', 'chryses', 'had', 'come', 'to', 'the', 'ships', 'of', 'the', 'achaeans', 'to', 'free', 'his', 'daughter', ',', 'and', 'had', 'brought', 'with', 'him', 'a', 'great', 'ransom', ':', 'moreover', 'he', 'bore', 'in', 'his', 'hand', 'the', 'sceptre', 'of', 'apollo', 'wreathed', 'with', 'a', 'suppliant', \"'s\", 'wreath', 'and', 'he', 'besought', 'the', 'achaeans', ',', 'but', 'most', 'of', 'all', 'the', 'two', 'sons', 'of', 'atreus', ',', 'who', 'were', 'their', 'chiefs', '.']\n",
            "['``', 'sons', 'of', 'atreus', ',', \"''\", 'he', 'cried', ',', '``', 'and', 'all', 'other', 'achaeans', ',', 'may', 'the', 'gods', 'who', 'dwell', 'in', 'olympus', 'grant', 'you', 'to', 'sack', 'the', 'city', 'of', 'priam', ',', 'and', 'to', 'reach', 'your', 'homes', 'in', 'safety', ';', 'but', 'free', 'my', 'daughter', ',', 'and', 'accept', 'a', 'ransom', 'for', 'her', ',', 'in', 'reverence', 'to', 'apollo', ',', 'son', 'of', 'jove', '.', \"''\"]\n",
            "['on', 'this', 'the', 'rest', 'of', 'the', 'achaeans', 'with', 'one', 'voice', 'were', 'for', 'respecting', 'the', 'priest', 'and', 'taking', 'the', 'ransom', 'that', 'he', 'offered', ';', 'but', 'not', 'so', 'agamemnon', ',', 'who', 'spoke', 'fiercely', 'to', 'him', 'and', 'sent', 'him', 'roughly', 'away', '.']\n",
            "['``', 'old', 'man', ',', \"''\", 'said', 'he', ',', '``', 'let', 'me', 'not', 'find', 'you', 'tarrying', 'about', 'our', 'ships', ',', 'nor', 'yet', 'coming', 'hereafter', '.']\n",
            "['your', 'sceptre', 'of', 'the', 'god', 'and', 'your', 'wreath', 'shall', 'profit', 'you', 'nothing', '.']\n",
            "['i', 'will', 'not', 'free', 'her', '.']\n",
            "['she', 'shall', 'grow', 'old', 'in', 'my', 'house', 'at', 'argos', 'far', 'from', 'her', 'own', 'home', ',', 'busying', 'herself', 'with', 'her', 'loom', 'and', 'visiting', 'my', 'couch', ';', 'so', 'go', ',', 'and', 'do', 'not', 'provoke', 'me', 'or', 'it', 'shall', 'be', 'the', 'worse', 'for', 'you', '.', \"''\"]\n",
            "['the', 'old', 'man', 'feared', 'him', 'and', 'obeyed', '.']\n",
            "['not', 'a', 'word', 'he', 'spoke', ',', 'but', 'went', 'by', 'the', 'shore', 'of', 'the', 'sounding', 'sea', 'and', 'prayed', 'apart', 'to', 'king', 'apollo', 'whom', 'lovely', 'leto', 'had', 'borne', '.']\n",
            "['``', 'hear', 'me', ',', \"''\", 'he', 'cried', ',', '``', 'o', 'god', 'of', 'the', 'silver', 'bow', ',', 'that', 'protectest', 'chryse', 'and', 'holy', 'cilla', 'and', 'rulest', 'tenedos', 'with', 'thy', 'might', ',', 'hear', 'me', 'oh', 'thou', 'of', 'sminthe', '.']\n",
            "['if', 'i', 'have', 'ever', 'decked', 'your', 'temple', 'with', 'garlands', ',', 'or', 'burned', 'your', 'thigh-bones', 'in', 'fat', 'of', 'bulls', 'or', 'goats', ',', 'grant', 'my', 'prayer', ',', 'and', 'let', 'your', 'arrows', 'avenge', 'these', 'my', 'tears', 'upon', 'the', 'danaans', '.', \"''\"]\n",
            "['thus', 'did', 'he', 'pray', ',', 'and', 'apollo', 'heard', 'his', 'prayer', '.']\n",
            "['he', 'came', 'down', 'furious', 'from', 'the', 'summits', 'of', 'olympus', ',', 'with', 'his', 'bow', 'and', 'his', 'quiver', 'upon', 'his', 'shoulder', ',', 'and', 'the', 'arrows', 'rattled', 'on', 'his', 'back', 'with', 'the', 'rage', 'that', 'trembled', 'within', 'him', '.']\n",
            "['he', 'sat', 'himself', 'down', 'away', 'from', 'the', 'ships', 'with', 'a', 'face', 'as', 'dark', 'as', 'night', ',', 'and', 'his', 'silver', 'bow', 'rang', 'death', 'as', 'he', 'shot', 'his', 'arrow', 'in', 'the', 'midst', 'of', 'them', '.']\n"
          ],
          "name": "stdout"
        }
      ]
    },
    {
      "cell_type": "code",
      "metadata": {
        "id": "9IJFP4LBeDii",
        "colab_type": "code",
        "outputId": "74bfff2d-5043-4695-a3ee-0d1e0a331549",
        "colab": {
          "base_uri": "https://localhost:8080/",
          "height": 34
        }
      },
      "source": [
        "import string\n",
        "\n",
        "punctuation = string.punctuation\n",
        "punctuation"
      ],
      "execution_count": 0,
      "outputs": [
        {
          "output_type": "execute_result",
          "data": {
            "text/plain": [
              "'!\"#$%&\\'()*+,-./:;<=>?@[\\\\]^_`{|}~'"
            ]
          },
          "metadata": {
            "tags": []
          },
          "execution_count": 31
        }
      ]
    },
    {
      "cell_type": "code",
      "metadata": {
        "id": "8sk8rV20eq2D",
        "colab_type": "code",
        "outputId": "11161e44-33c1-4c81-dd88-9c3b66b6448f",
        "colab": {
          "base_uri": "https://localhost:8080/",
          "height": 377
        }
      },
      "source": [
        "tokens_alpha = [[token for token in sentence if token.isalpha()] for sentence in tokens_lower]\n",
        "\n",
        "for sentence in tokens_alpha[:20]:\n",
        "    print(sentence)"
      ],
      "execution_count": 0,
      "outputs": [
        {
          "output_type": "stream",
          "text": [
            "['provided', 'by', 'the', 'internet', 'classics', 'archive']\n",
            "['see', 'bottom', 'for', 'copyright']\n",
            "['available', 'online', 'at', 'http', 'the', 'iliad', 'by', 'homer', 'translated', 'by', 'samuel', 'butler', 'book', 'i', 'sing', 'o', 'goddess', 'the', 'anger', 'of', 'achilles', 'son', 'of', 'peleus', 'that', 'brought', 'countless', 'ills', 'upon', 'the', 'achaeans']\n",
            "['many', 'a', 'brave', 'soul', 'did', 'it', 'send', 'hurrying', 'down', 'to', 'hades', 'and', 'many', 'a', 'hero', 'did', 'it', 'yield', 'a', 'prey', 'to', 'dogs', 'and', 'vultures', 'for', 'so', 'were', 'the', 'counsels', 'of', 'jove', 'fulfilled', 'from', 'the', 'day', 'on', 'which', 'the', 'son', 'of', 'atreus', 'king', 'of', 'men', 'and', 'great', 'achilles', 'first', 'fell', 'out', 'with', 'one', 'another']\n",
            "['and', 'which', 'of', 'the', 'gods', 'was', 'it', 'that', 'set', 'them', 'on', 'to', 'quarrel']\n",
            "['it', 'was', 'the', 'son', 'of', 'jove', 'and', 'leto', 'for', 'he', 'was', 'angry', 'with', 'the', 'king', 'and', 'sent', 'a', 'pestilence', 'upon', 'the', 'host', 'to', 'plague', 'the', 'people', 'because', 'the', 'son', 'of', 'atreus', 'had', 'dishonoured', 'chryses', 'his', 'priest']\n",
            "['now', 'chryses', 'had', 'come', 'to', 'the', 'ships', 'of', 'the', 'achaeans', 'to', 'free', 'his', 'daughter', 'and', 'had', 'brought', 'with', 'him', 'a', 'great', 'ransom', 'moreover', 'he', 'bore', 'in', 'his', 'hand', 'the', 'sceptre', 'of', 'apollo', 'wreathed', 'with', 'a', 'suppliant', 'wreath', 'and', 'he', 'besought', 'the', 'achaeans', 'but', 'most', 'of', 'all', 'the', 'two', 'sons', 'of', 'atreus', 'who', 'were', 'their', 'chiefs']\n",
            "['sons', 'of', 'atreus', 'he', 'cried', 'and', 'all', 'other', 'achaeans', 'may', 'the', 'gods', 'who', 'dwell', 'in', 'olympus', 'grant', 'you', 'to', 'sack', 'the', 'city', 'of', 'priam', 'and', 'to', 'reach', 'your', 'homes', 'in', 'safety', 'but', 'free', 'my', 'daughter', 'and', 'accept', 'a', 'ransom', 'for', 'her', 'in', 'reverence', 'to', 'apollo', 'son', 'of', 'jove']\n",
            "['on', 'this', 'the', 'rest', 'of', 'the', 'achaeans', 'with', 'one', 'voice', 'were', 'for', 'respecting', 'the', 'priest', 'and', 'taking', 'the', 'ransom', 'that', 'he', 'offered', 'but', 'not', 'so', 'agamemnon', 'who', 'spoke', 'fiercely', 'to', 'him', 'and', 'sent', 'him', 'roughly', 'away']\n",
            "['old', 'man', 'said', 'he', 'let', 'me', 'not', 'find', 'you', 'tarrying', 'about', 'our', 'ships', 'nor', 'yet', 'coming', 'hereafter']\n",
            "['your', 'sceptre', 'of', 'the', 'god', 'and', 'your', 'wreath', 'shall', 'profit', 'you', 'nothing']\n",
            "['i', 'will', 'not', 'free', 'her']\n",
            "['she', 'shall', 'grow', 'old', 'in', 'my', 'house', 'at', 'argos', 'far', 'from', 'her', 'own', 'home', 'busying', 'herself', 'with', 'her', 'loom', 'and', 'visiting', 'my', 'couch', 'so', 'go', 'and', 'do', 'not', 'provoke', 'me', 'or', 'it', 'shall', 'be', 'the', 'worse', 'for', 'you']\n",
            "['the', 'old', 'man', 'feared', 'him', 'and', 'obeyed']\n",
            "['not', 'a', 'word', 'he', 'spoke', 'but', 'went', 'by', 'the', 'shore', 'of', 'the', 'sounding', 'sea', 'and', 'prayed', 'apart', 'to', 'king', 'apollo', 'whom', 'lovely', 'leto', 'had', 'borne']\n",
            "['hear', 'me', 'he', 'cried', 'o', 'god', 'of', 'the', 'silver', 'bow', 'that', 'protectest', 'chryse', 'and', 'holy', 'cilla', 'and', 'rulest', 'tenedos', 'with', 'thy', 'might', 'hear', 'me', 'oh', 'thou', 'of', 'sminthe']\n",
            "['if', 'i', 'have', 'ever', 'decked', 'your', 'temple', 'with', 'garlands', 'or', 'burned', 'your', 'in', 'fat', 'of', 'bulls', 'or', 'goats', 'grant', 'my', 'prayer', 'and', 'let', 'your', 'arrows', 'avenge', 'these', 'my', 'tears', 'upon', 'the', 'danaans']\n",
            "['thus', 'did', 'he', 'pray', 'and', 'apollo', 'heard', 'his', 'prayer']\n",
            "['he', 'came', 'down', 'furious', 'from', 'the', 'summits', 'of', 'olympus', 'with', 'his', 'bow', 'and', 'his', 'quiver', 'upon', 'his', 'shoulder', 'and', 'the', 'arrows', 'rattled', 'on', 'his', 'back', 'with', 'the', 'rage', 'that', 'trembled', 'within', 'him']\n",
            "['he', 'sat', 'himself', 'down', 'away', 'from', 'the', 'ships', 'with', 'a', 'face', 'as', 'dark', 'as', 'night', 'and', 'his', 'silver', 'bow', 'rang', 'death', 'as', 'he', 'shot', 'his', 'arrow', 'in', 'the', 'midst', 'of', 'them']\n"
          ],
          "name": "stdout"
        }
      ]
    },
    {
      "cell_type": "code",
      "metadata": {
        "id": "GcgY11CBf_17",
        "colab_type": "code",
        "outputId": "54df0726-7109-49dc-8c12-8a9c070fee3d",
        "colab": {
          "base_uri": "https://localhost:8080/",
          "height": 187
        }
      },
      "source": [
        "corpus = []\n",
        "for sentence in tokens_alpha:\n",
        "    corpus.extend(sentence)\n",
        "\n",
        "corpus[:10]"
      ],
      "execution_count": 0,
      "outputs": [
        {
          "output_type": "execute_result",
          "data": {
            "text/plain": [
              "['provided',\n",
              " 'by',\n",
              " 'the',\n",
              " 'internet',\n",
              " 'classics',\n",
              " 'archive',\n",
              " 'see',\n",
              " 'bottom',\n",
              " 'for',\n",
              " 'copyright']"
            ]
          },
          "metadata": {
            "tags": []
          },
          "execution_count": 64
        }
      ]
    },
    {
      "cell_type": "code",
      "metadata": {
        "id": "37EhDOTJfQCN",
        "colab_type": "code",
        "outputId": "0a44259c-58fc-4d6a-8bfa-7b1ed755990e",
        "colab": {
          "base_uri": "https://localhost:8080/",
          "height": 187
        }
      },
      "source": [
        "from nltk.probability import FreqDist\n",
        "\n",
        "freq = FreqDist(corpus)\n",
        "freq.most_common(10)"
      ],
      "execution_count": 0,
      "outputs": [
        {
          "output_type": "execute_result",
          "data": {
            "text/plain": [
              "[('the', 9950),\n",
              " ('and', 6621),\n",
              " ('of', 5609),\n",
              " ('to', 3309),\n",
              " ('he', 2904),\n",
              " ('his', 2537),\n",
              " ('in', 2230),\n",
              " ('him', 1855),\n",
              " ('a', 1805),\n",
              " ('you', 1797)]"
            ]
          },
          "metadata": {
            "tags": []
          },
          "execution_count": 65
        }
      ]
    },
    {
      "cell_type": "code",
      "metadata": {
        "id": "U2SPi0tyftqN",
        "colab_type": "code",
        "outputId": "271489f2-4b55-4b31-f757-b329f41fb7a4",
        "colab": {
          "base_uri": "https://localhost:8080/",
          "height": 441
        }
      },
      "source": [
        "import matplotlib.pyplot as plt\n",
        "import seaborn as sns\n",
        "sns.set(font_scale=1.3)\n",
        "\n",
        "plt.figure(figsize=(15, 6))\n",
        "freq.plot(30, title='Iliada - Rozkład słów', cumulative=False)"
      ],
      "execution_count": 0,
      "outputs": [
        {
          "output_type": "display_data",
          "data": {
            "image/png": "[encoded data removed]",
            "text/plain": [
              "<Figure size 1080x432 with 1 Axes>"
            ]
          },
          "metadata": {
            "tags": []
          }
        }
      ]
    },
    {
      "cell_type": "code",
      "metadata": {
        "id": "zZdHwqpRgqbs",
        "colab_type": "code",
        "outputId": "91bbf29a-9aa0-4200-e332-3d915476a2f6",
        "colab": {
          "base_uri": "https://localhost:8080/",
          "height": 68
        }
      },
      "source": [
        "from nltk.corpus import stopwords\n",
        "\n",
        "nltk.download('stopwords')\n",
        "\n",
        "stop_words = stopwords.words('english')\n",
        "stop_words[:10]"
      ],
      "execution_count": 0,
      "outputs": [
        {
          "output_type": "stream",
          "text": [
            "[nltk_data] Downloading package stopwords to /root/nltk_data...\n",
            "[nltk_data]   Package stopwords is already up-to-date!\n"
          ],
          "name": "stdout"
        },
        {
          "output_type": "execute_result",
          "data": {
            "text/plain": [
              "['i', 'me', 'my', 'myself', 'we', 'our', 'ours', 'ourselves', 'you', \"you're\"]"
            ]
          },
          "metadata": {
            "tags": []
          },
          "execution_count": 67
        }
      ]
    },
    {
      "cell_type": "code",
      "metadata": {
        "id": "-H5lqYxThzpl",
        "colab_type": "code",
        "outputId": "a9f1fe3e-190b-4bc2-c58c-fcb7e0d4249a",
        "colab": {
          "base_uri": "https://localhost:8080/",
          "height": 34
        }
      },
      "source": [
        "len(corpus)"
      ],
      "execution_count": 0,
      "outputs": [
        {
          "output_type": "execute_result",
          "data": {
            "text/plain": [
              "151365"
            ]
          },
          "metadata": {
            "tags": []
          },
          "execution_count": 69
        }
      ]
    },
    {
      "cell_type": "code",
      "metadata": {
        "id": "WpcRxzSJhM-9",
        "colab_type": "code",
        "outputId": "fd8f0409-3e77-4915-fde0-13384f66897b",
        "colab": {
          "base_uri": "https://localhost:8080/",
          "height": 34
        }
      },
      "source": [
        "corpus = [token for token in corpus if token not in stop_words]\n",
        "len(corpus)"
      ],
      "execution_count": 0,
      "outputs": [
        {
          "output_type": "execute_result",
          "data": {
            "text/plain": [
              "69715"
            ]
          },
          "metadata": {
            "tags": []
          },
          "execution_count": 70
        }
      ]
    },
    {
      "cell_type": "code",
      "metadata": {
        "id": "jbPxI7XJhivD",
        "colab_type": "code",
        "outputId": "13feba77-348a-4e1e-c106-e2834bc55491",
        "colab": {
          "base_uri": "https://localhost:8080/",
          "height": 187
        }
      },
      "source": [
        "freq = FreqDist(corpus)\n",
        "freq.most_common(10)"
      ],
      "execution_count": 0,
      "outputs": [
        {
          "output_type": "execute_result",
          "data": {
            "text/plain": [
              "[('son', 1008),\n",
              " ('trojans', 553),\n",
              " ('upon', 535),\n",
              " ('achaeans', 535),\n",
              " ('hector', 476),\n",
              " ('one', 466),\n",
              " ('jove', 464),\n",
              " ('ships', 446),\n",
              " ('man', 431),\n",
              " ('achilles', 419)]"
            ]
          },
          "metadata": {
            "tags": []
          },
          "execution_count": 71
        }
      ]
    },
    {
      "cell_type": "code",
      "metadata": {
        "id": "S0jFdPePh5Vz",
        "colab_type": "code",
        "outputId": "6adbaadb-21f8-44c3-ccf8-facabb0b2564",
        "colab": {
          "base_uri": "https://localhost:8080/",
          "height": 472
        }
      },
      "source": [
        "plt.figure(figsize=(15, 6))\n",
        "freq.plot(30, title='Iliada - Rozkład słów', cumulative=False)"
      ],
      "execution_count": 0,
      "outputs": [
        {
          "output_type": "display_data",
          "data": {
            "image/png": "[encoded data removed]",
            "text/plain": [
              "<Figure size 1080x432 with 1 Axes>"
            ]
          },
          "metadata": {
            "tags": []
          }
        }
      ]
    },
    {
      "cell_type": "code",
      "metadata": {
        "id": "VL_2zmsDh56B",
        "colab_type": "code",
        "outputId": "a2735609-0d01-45c5-8310-c78bb4a75741",
        "colab": {
          "base_uri": "https://localhost:8080/",
          "height": 1000
        }
      },
      "source": [
        "corpus"
      ],
      "execution_count": 0,
      "outputs": [
        {
          "output_type": "execute_result",
          "data": {
            "text/plain": [
              "['provided',\n",
              " 'internet',\n",
              " 'classics',\n",
              " 'archive',\n",
              " 'see',\n",
              " 'bottom',\n",
              " 'copyright',\n",
              " 'available',\n",
              " 'online',\n",
              " 'http',\n",
              " 'iliad',\n",
              " 'homer',\n",
              " 'translated',\n",
              " 'samuel',\n",
              " 'butler',\n",
              " 'book',\n",
              " 'sing',\n",
              " 'goddess',\n",
              " 'anger',\n",
              " 'achilles',\n",
              " 'son',\n",
              " 'peleus',\n",
              " 'brought',\n",
              " 'countless',\n",
              " 'ills',\n",
              " 'upon',\n",
              " 'achaeans',\n",
              " 'many',\n",
              " 'brave',\n",
              " 'soul',\n",
              " 'send',\n",
              " 'hurrying',\n",
              " 'hades',\n",
              " 'many',\n",
              " 'hero',\n",
              " 'yield',\n",
              " 'prey',\n",
              " 'dogs',\n",
              " 'vultures',\n",
              " 'counsels',\n",
              " 'jove',\n",
              " 'fulfilled',\n",
              " 'day',\n",
              " 'son',\n",
              " 'atreus',\n",
              " 'king',\n",
              " 'men',\n",
              " 'great',\n",
              " 'achilles',\n",
              " 'first',\n",
              " 'fell',\n",
              " 'one',\n",
              " 'another',\n",
              " 'gods',\n",
              " 'set',\n",
              " 'quarrel',\n",
              " 'son',\n",
              " 'jove',\n",
              " 'leto',\n",
              " 'angry',\n",
              " 'king',\n",
              " 'sent',\n",
              " 'pestilence',\n",
              " 'upon',\n",
              " 'host',\n",
              " 'plague',\n",
              " 'people',\n",
              " 'son',\n",
              " 'atreus',\n",
              " 'dishonoured',\n",
              " 'chryses',\n",
              " 'priest',\n",
              " 'chryses',\n",
              " 'come',\n",
              " 'ships',\n",
              " 'achaeans',\n",
              " 'free',\n",
              " 'daughter',\n",
              " 'brought',\n",
              " 'great',\n",
              " 'ransom',\n",
              " 'moreover',\n",
              " 'bore',\n",
              " 'hand',\n",
              " 'sceptre',\n",
              " 'apollo',\n",
              " 'wreathed',\n",
              " 'suppliant',\n",
              " 'wreath',\n",
              " 'besought',\n",
              " 'achaeans',\n",
              " 'two',\n",
              " 'sons',\n",
              " 'atreus',\n",
              " 'chiefs',\n",
              " 'sons',\n",
              " 'atreus',\n",
              " 'cried',\n",
              " 'achaeans',\n",
              " 'may',\n",
              " 'gods',\n",
              " 'dwell',\n",
              " 'olympus',\n",
              " 'grant',\n",
              " 'sack',\n",
              " 'city',\n",
              " 'priam',\n",
              " 'reach',\n",
              " 'homes',\n",
              " 'safety',\n",
              " 'free',\n",
              " 'daughter',\n",
              " 'accept',\n",
              " 'ransom',\n",
              " 'reverence',\n",
              " 'apollo',\n",
              " 'son',\n",
              " 'jove',\n",
              " 'rest',\n",
              " 'achaeans',\n",
              " 'one',\n",
              " 'voice',\n",
              " 'respecting',\n",
              " 'priest',\n",
              " 'taking',\n",
              " 'ransom',\n",
              " 'offered',\n",
              " 'agamemnon',\n",
              " 'spoke',\n",
              " 'fiercely',\n",
              " 'sent',\n",
              " 'roughly',\n",
              " 'away',\n",
              " 'old',\n",
              " 'man',\n",
              " 'said',\n",
              " 'let',\n",
              " 'find',\n",
              " 'tarrying',\n",
              " 'ships',\n",
              " 'yet',\n",
              " 'coming',\n",
              " 'hereafter',\n",
              " 'sceptre',\n",
              " 'god',\n",
              " 'wreath',\n",
              " 'shall',\n",
              " 'profit',\n",
              " 'nothing',\n",
              " 'free',\n",
              " 'shall',\n",
              " 'grow',\n",
              " 'old',\n",
              " 'house',\n",
              " 'argos',\n",
              " 'far',\n",
              " 'home',\n",
              " 'busying',\n",
              " 'loom',\n",
              " 'visiting',\n",
              " 'couch',\n",
              " 'go',\n",
              " 'provoke',\n",
              " 'shall',\n",
              " 'worse',\n",
              " 'old',\n",
              " 'man',\n",
              " 'feared',\n",
              " 'obeyed',\n",
              " 'word',\n",
              " 'spoke',\n",
              " 'went',\n",
              " 'shore',\n",
              " 'sounding',\n",
              " 'sea',\n",
              " 'prayed',\n",
              " 'apart',\n",
              " 'king',\n",
              " 'apollo',\n",
              " 'lovely',\n",
              " 'leto',\n",
              " 'borne',\n",
              " 'hear',\n",
              " 'cried',\n",
              " 'god',\n",
              " 'silver',\n",
              " 'bow',\n",
              " 'protectest',\n",
              " 'chryse',\n",
              " 'holy',\n",
              " 'cilla',\n",
              " 'rulest',\n",
              " 'tenedos',\n",
              " 'thy',\n",
              " 'might',\n",
              " 'hear',\n",
              " 'oh',\n",
              " 'thou',\n",
              " 'sminthe',\n",
              " 'ever',\n",
              " 'decked',\n",
              " 'temple',\n",
              " 'garlands',\n",
              " 'burned',\n",
              " 'fat',\n",
              " 'bulls',\n",
              " 'goats',\n",
              " 'grant',\n",
              " 'prayer',\n",
              " 'let',\n",
              " 'arrows',\n",
              " 'avenge',\n",
              " 'tears',\n",
              " 'upon',\n",
              " 'danaans',\n",
              " 'thus',\n",
              " 'pray',\n",
              " 'apollo',\n",
              " 'heard',\n",
              " 'prayer',\n",
              " 'came',\n",
              " 'furious',\n",
              " 'summits',\n",
              " 'olympus',\n",
              " 'bow',\n",
              " 'quiver',\n",
              " 'upon',\n",
              " 'shoulder',\n",
              " 'arrows',\n",
              " 'rattled',\n",
              " 'back',\n",
              " 'rage',\n",
              " 'trembled',\n",
              " 'within',\n",
              " 'sat',\n",
              " 'away',\n",
              " 'ships',\n",
              " 'face',\n",
              " 'dark',\n",
              " 'night',\n",
              " 'silver',\n",
              " 'bow',\n",
              " 'rang',\n",
              " 'death',\n",
              " 'shot',\n",
              " 'arrow',\n",
              " 'midst',\n",
              " 'first',\n",
              " 'smote',\n",
              " 'mules',\n",
              " 'hounds',\n",
              " 'presently',\n",
              " 'aimed',\n",
              " 'shafts',\n",
              " 'people',\n",
              " 'day',\n",
              " 'long',\n",
              " 'pyres',\n",
              " 'dead',\n",
              " 'burning',\n",
              " 'nine',\n",
              " 'whole',\n",
              " 'days',\n",
              " 'shot',\n",
              " 'arrows',\n",
              " 'among',\n",
              " 'people',\n",
              " 'upon',\n",
              " 'tenth',\n",
              " 'day',\n",
              " 'achilles',\n",
              " 'called',\n",
              " 'moved',\n",
              " 'thereto',\n",
              " 'juno',\n",
              " 'saw',\n",
              " 'achaeans',\n",
              " 'compassion',\n",
              " 'upon',\n",
              " 'got',\n",
              " 'together',\n",
              " 'rose',\n",
              " 'spoke',\n",
              " 'among',\n",
              " 'son',\n",
              " 'atreus',\n",
              " 'said',\n",
              " 'deem',\n",
              " 'turn',\n",
              " 'roving',\n",
              " 'home',\n",
              " 'would',\n",
              " 'escape',\n",
              " 'destruction',\n",
              " 'cut',\n",
              " 'war',\n",
              " 'pestilence',\n",
              " 'let',\n",
              " 'us',\n",
              " 'ask',\n",
              " 'priest',\n",
              " 'prophet',\n",
              " 'reader',\n",
              " 'dreams',\n",
              " 'dreams',\n",
              " 'jove',\n",
              " 'tell',\n",
              " 'us',\n",
              " 'phoebus',\n",
              " 'apollo',\n",
              " 'angry',\n",
              " 'say',\n",
              " 'whether',\n",
              " 'vow',\n",
              " 'broken',\n",
              " 'hecatomb',\n",
              " 'offered',\n",
              " 'whether',\n",
              " 'accept',\n",
              " 'savour',\n",
              " 'lambs',\n",
              " 'goats',\n",
              " 'without',\n",
              " 'blemish',\n",
              " 'take',\n",
              " 'away',\n",
              " 'plague',\n",
              " 'us',\n",
              " 'words',\n",
              " 'sat',\n",
              " 'calchas',\n",
              " 'son',\n",
              " 'thestor',\n",
              " 'wisest',\n",
              " 'augurs',\n",
              " 'knew',\n",
              " 'things',\n",
              " 'past',\n",
              " 'present',\n",
              " 'come',\n",
              " 'rose',\n",
              " 'speak',\n",
              " 'guided',\n",
              " 'achaeans',\n",
              " 'fleet',\n",
              " 'ilius',\n",
              " 'prophesyings',\n",
              " 'phoebus',\n",
              " 'apollo',\n",
              " 'inspired',\n",
              " 'sincerity',\n",
              " 'goodwill',\n",
              " 'addressed',\n",
              " 'thus',\n",
              " 'achilles',\n",
              " 'loved',\n",
              " 'heaven',\n",
              " 'bid',\n",
              " 'tell',\n",
              " 'anger',\n",
              " 'king',\n",
              " 'apollo',\n",
              " 'therefore',\n",
              " 'consider',\n",
              " 'first',\n",
              " 'swear',\n",
              " 'stand',\n",
              " 'heartily',\n",
              " 'word',\n",
              " 'deed',\n",
              " 'know',\n",
              " 'shall',\n",
              " 'offend',\n",
              " 'one',\n",
              " 'rules',\n",
              " 'argives',\n",
              " 'might',\n",
              " 'achaeans',\n",
              " 'subjection',\n",
              " 'plain',\n",
              " 'man',\n",
              " 'stand',\n",
              " 'anger',\n",
              " 'king',\n",
              " 'swallow',\n",
              " 'displeasure',\n",
              " 'yet',\n",
              " 'nurse',\n",
              " 'revenge',\n",
              " 'till',\n",
              " 'wreaked',\n",
              " 'consider',\n",
              " 'therefore',\n",
              " 'whether',\n",
              " 'protect',\n",
              " 'achilles',\n",
              " 'answered',\n",
              " 'fear',\n",
              " 'speak',\n",
              " 'borne',\n",
              " 'upon',\n",
              " 'heaven',\n",
              " 'apollo',\n",
              " 'calchas',\n",
              " 'pray',\n",
              " 'whose',\n",
              " 'oracles',\n",
              " 'reveal',\n",
              " 'us',\n",
              " 'danaan',\n",
              " 'ships',\n",
              " 'shall',\n",
              " 'lay',\n",
              " 'hand',\n",
              " 'upon',\n",
              " 'yet',\n",
              " 'live',\n",
              " 'look',\n",
              " 'upon',\n",
              " 'face',\n",
              " 'though',\n",
              " 'name',\n",
              " 'agamemnon',\n",
              " 'far',\n",
              " 'foremost',\n",
              " 'achaeans',\n",
              " 'thereon',\n",
              " 'seer',\n",
              " 'spoke',\n",
              " 'boldly',\n",
              " 'god',\n",
              " 'said',\n",
              " 'angry',\n",
              " 'neither',\n",
              " 'vow',\n",
              " 'hecatomb',\n",
              " 'priest',\n",
              " 'sake',\n",
              " 'agamemnon',\n",
              " 'dishonoured',\n",
              " 'would',\n",
              " 'free',\n",
              " 'daughter',\n",
              " 'take',\n",
              " 'ransom',\n",
              " 'therefore',\n",
              " 'sent',\n",
              " 'evils',\n",
              " 'upon',\n",
              " 'us',\n",
              " 'yet',\n",
              " 'send',\n",
              " 'others',\n",
              " 'deliver',\n",
              " 'danaans',\n",
              " 'pestilence',\n",
              " 'till',\n",
              " 'agamemnon',\n",
              " 'restored',\n",
              " 'girl',\n",
              " 'without',\n",
              " 'fee',\n",
              " 'ransom',\n",
              " 'father',\n",
              " 'sent',\n",
              " 'holy',\n",
              " 'hecatomb',\n",
              " 'chryse',\n",
              " 'thus',\n",
              " 'may',\n",
              " 'perhaps',\n",
              " 'appease',\n",
              " 'words',\n",
              " 'sat',\n",
              " 'agamemnon',\n",
              " 'rose',\n",
              " 'anger',\n",
              " 'heart',\n",
              " 'black',\n",
              " 'rage',\n",
              " 'eyes',\n",
              " 'flashed',\n",
              " 'fire',\n",
              " 'scowled',\n",
              " 'calchas',\n",
              " 'said',\n",
              " 'seer',\n",
              " 'evil',\n",
              " 'never',\n",
              " 'yet',\n",
              " 'prophesied',\n",
              " 'smooth',\n",
              " 'things',\n",
              " 'concerning',\n",
              " 'ever',\n",
              " 'loved',\n",
              " 'foretell',\n",
              " 'evil',\n",
              " 'brought',\n",
              " 'neither',\n",
              " 'comfort',\n",
              " 'performance',\n",
              " 'come',\n",
              " 'seeing',\n",
              " 'among',\n",
              " 'danaans',\n",
              " 'saying',\n",
              " 'apollo',\n",
              " 'plagued',\n",
              " 'us',\n",
              " 'would',\n",
              " 'take',\n",
              " 'ransom',\n",
              " 'girl',\n",
              " 'daughter',\n",
              " 'chryses',\n",
              " 'set',\n",
              " 'heart',\n",
              " 'keeping',\n",
              " 'house',\n",
              " 'love',\n",
              " 'better',\n",
              " 'even',\n",
              " 'wife',\n",
              " 'clytemnestra',\n",
              " 'whose',\n",
              " 'peer',\n",
              " 'alike',\n",
              " 'form',\n",
              " 'feature',\n",
              " 'understanding',\n",
              " 'accomplishments',\n",
              " 'still',\n",
              " 'give',\n",
              " 'must',\n",
              " 'would',\n",
              " 'people',\n",
              " 'live',\n",
              " 'die',\n",
              " 'must',\n",
              " 'find',\n",
              " 'prize',\n",
              " 'instead',\n",
              " 'alone',\n",
              " 'among',\n",
              " 'argives',\n",
              " 'shall',\n",
              " 'without',\n",
              " 'one',\n",
              " 'well',\n",
              " 'behold',\n",
              " 'prize',\n",
              " 'go',\n",
              " 'elsewhither',\n",
              " 'achilles',\n",
              " 'answered',\n",
              " 'noble',\n",
              " 'son',\n",
              " 'atreus',\n",
              " 'covetous',\n",
              " 'beyond',\n",
              " 'mankind',\n",
              " 'shall',\n",
              " 'achaeans',\n",
              " 'find',\n",
              " 'another',\n",
              " 'prize',\n",
              " 'common',\n",
              " 'store',\n",
              " 'take',\n",
              " 'one',\n",
              " 'took',\n",
              " 'cities',\n",
              " 'awarded',\n",
              " 'disallow',\n",
              " 'awards',\n",
              " 'made',\n",
              " 'already',\n",
              " 'give',\n",
              " 'girl',\n",
              " 'therefore',\n",
              " 'god',\n",
              " 'ever',\n",
              " 'jove',\n",
              " 'grants',\n",
              " 'us',\n",
              " 'sack',\n",
              " 'city',\n",
              " 'troy',\n",
              " 'requite',\n",
              " 'three',\n",
              " 'fourfold',\n",
              " 'agamemnon',\n",
              " 'said',\n",
              " 'achilles',\n",
              " 'valiant',\n",
              " 'though',\n",
              " 'shall',\n",
              " 'thus',\n",
              " 'outwit',\n",
              " 'shall',\n",
              " 'overreach',\n",
              " 'shall',\n",
              " 'persuade',\n",
              " 'keep',\n",
              " 'prize',\n",
              " 'sit',\n",
              " 'tamely',\n",
              " 'loss',\n",
              " 'give',\n",
              " 'girl',\n",
              " 'bidding',\n",
              " 'let',\n",
              " 'achaeans',\n",
              " 'find',\n",
              " 'prize',\n",
              " 'fair',\n",
              " 'exchange',\n",
              " 'liking',\n",
              " 'come',\n",
              " 'take',\n",
              " 'ajax',\n",
              " 'ulysses',\n",
              " 'whomsoever',\n",
              " 'may',\n",
              " 'come',\n",
              " 'shall',\n",
              " 'rue',\n",
              " 'coming',\n",
              " 'take',\n",
              " 'thought',\n",
              " 'hereafter',\n",
              " 'present',\n",
              " 'let',\n",
              " 'us',\n",
              " 'draw',\n",
              " 'ship',\n",
              " 'sea',\n",
              " 'find',\n",
              " 'crew',\n",
              " 'expressly',\n",
              " 'let',\n",
              " 'us',\n",
              " 'put',\n",
              " 'hecatomb',\n",
              " 'board',\n",
              " 'let',\n",
              " 'us',\n",
              " 'send',\n",
              " 'chryseis',\n",
              " 'also',\n",
              " 'let',\n",
              " 'chief',\n",
              " 'man',\n",
              " 'among',\n",
              " 'us',\n",
              " 'command',\n",
              " 'either',\n",
              " 'ajax',\n",
              " 'idomeneus',\n",
              " 'son',\n",
              " 'peleus',\n",
              " 'mighty',\n",
              " 'warrior',\n",
              " 'may',\n",
              " 'offer',\n",
              " 'sacrifice',\n",
              " 'appease',\n",
              " 'anger',\n",
              " 'god',\n",
              " 'achilles',\n",
              " 'scowled',\n",
              " 'answered',\n",
              " 'steeped',\n",
              " 'insolence',\n",
              " 'lust',\n",
              " 'gain',\n",
              " 'heart',\n",
              " 'achaeans',\n",
              " 'bidding',\n",
              " 'either',\n",
              " 'foray',\n",
              " 'open',\n",
              " 'fighting',\n",
              " 'came',\n",
              " 'warring',\n",
              " 'ill',\n",
              " 'trojans',\n",
              " 'done',\n",
              " 'quarrel',\n",
              " 'raided',\n",
              " 'cattle',\n",
              " 'horses',\n",
              " 'cut',\n",
              " 'harvests',\n",
              " 'rich',\n",
              " 'plains',\n",
              " 'phthia',\n",
              " 'great',\n",
              " 'space',\n",
              " 'mountain',\n",
              " 'sounding',\n",
              " 'sea',\n",
              " 'followed',\n",
              " 'sir',\n",
              " 'insolence',\n",
              " 'pleasure',\n",
              " 'gain',\n",
              " 'satisfaction',\n",
              " 'trojans',\n",
              " 'shameless',\n",
              " 'self',\n",
              " 'menelaus',\n",
              " 'forget',\n",
              " 'threaten',\n",
              " 'rob',\n",
              " 'prize',\n",
              " 'toiled',\n",
              " 'sons',\n",
              " 'achaeans',\n",
              " 'given',\n",
              " 'never',\n",
              " 'achaeans',\n",
              " 'sack',\n",
              " 'rich',\n",
              " 'city',\n",
              " 'trojans',\n",
              " 'receive',\n",
              " 'good',\n",
              " 'prize',\n",
              " 'though',\n",
              " 'hands',\n",
              " 'better',\n",
              " 'part',\n",
              " 'fighting',\n",
              " 'sharing',\n",
              " 'comes',\n",
              " 'share',\n",
              " 'far',\n",
              " 'largest',\n",
              " 'forsooth',\n",
              " 'must',\n",
              " 'go',\n",
              " 'back',\n",
              " 'ships',\n",
              " 'take',\n",
              " 'get',\n",
              " 'thankful',\n",
              " 'labour',\n",
              " 'fighting',\n",
              " 'done',\n",
              " 'therefore',\n",
              " 'shall',\n",
              " 'go',\n",
              " 'back',\n",
              " 'phthia',\n",
              " 'much',\n",
              " 'better',\n",
              " 'return',\n",
              " 'home',\n",
              " 'ships',\n",
              " 'stay',\n",
              " 'dishonoured',\n",
              " 'gather',\n",
              " 'gold',\n",
              " 'substance',\n",
              " 'agamemnon',\n",
              " 'answered',\n",
              " 'fly',\n",
              " 'shall',\n",
              " 'make',\n",
              " 'prayers',\n",
              " 'stay',\n",
              " 'others',\n",
              " 'honour',\n",
              " 'jove',\n",
              " 'lord',\n",
              " 'counsel',\n",
              " 'king',\n",
              " 'hateful',\n",
              " 'ever',\n",
              " 'quarrelsome',\n",
              " 'ill',\n",
              " 'affected',\n",
              " 'though',\n",
              " 'brave',\n",
              " 'heaven',\n",
              " 'made',\n",
              " 'go',\n",
              " 'home',\n",
              " 'ships',\n",
              " 'comrades',\n",
              " 'lord',\n",
              " 'myrmidons',\n",
              " 'care',\n",
              " 'neither',\n",
              " 'anger',\n",
              " 'thus',\n",
              " 'since',\n",
              " 'phoebus',\n",
              " 'apollo',\n",
              " 'taking',\n",
              " 'chryseis',\n",
              " 'shall',\n",
              " 'send',\n",
              " 'ship',\n",
              " 'followers',\n",
              " 'shall',\n",
              " 'come',\n",
              " 'tent',\n",
              " 'take',\n",
              " 'prize',\n",
              " 'briseis',\n",
              " 'may',\n",
              " 'learn',\n",
              " 'much',\n",
              " 'stronger',\n",
              " 'another',\n",
              " 'may',\n",
              " 'fear',\n",
              " 'set',\n",
              " 'equal',\n",
              " 'comparable',\n",
              " 'son',\n",
              " 'peleus',\n",
              " 'furious',\n",
              " 'heart',\n",
              " 'within',\n",
              " 'shaggy',\n",
              " 'breast',\n",
              " 'divided',\n",
              " 'whether',\n",
              " 'draw',\n",
              " 'sword',\n",
              " 'push',\n",
              " 'others',\n",
              " 'aside',\n",
              " 'kill',\n",
              " 'son',\n",
              " 'atreus',\n",
              " 'restrain',\n",
              " 'check',\n",
              " 'anger',\n",
              " 'thus',\n",
              " 'two',\n",
              " 'minds',\n",
              " 'drawing',\n",
              " 'mighty',\n",
              " 'sword',\n",
              " 'scabbard',\n",
              " 'minerva',\n",
              " 'came',\n",
              " 'heaven',\n",
              " 'juno',\n",
              " 'sent',\n",
              " 'love',\n",
              " 'bore',\n",
              " 'seized',\n",
              " 'son',\n",
              " 'peleus',\n",
              " 'yellow',\n",
              " 'hair',\n",
              " 'visible',\n",
              " 'alone',\n",
              " 'others',\n",
              " 'man',\n",
              " 'could',\n",
              " 'see',\n",
              " 'achilles',\n",
              " 'turned',\n",
              " 'amaze',\n",
              " 'fire',\n",
              " 'flashed',\n",
              " 'eyes',\n",
              " 'knew',\n",
              " 'minerva',\n",
              " 'said',\n",
              " 'daughter',\n",
              " 'jove',\n",
              " 'see',\n",
              " 'pride',\n",
              " 'agamemnon',\n",
              " 'son',\n",
              " 'atreus',\n",
              " 'let',\n",
              " 'tell',\n",
              " 'shall',\n",
              " 'surely',\n",
              " 'shall',\n",
              " 'pay',\n",
              " 'insolence',\n",
              " 'life',\n",
              " 'minerva',\n",
              " 'said',\n",
              " 'come',\n",
              " 'heaven',\n",
              " 'hear',\n",
              " 'bid',\n",
              " 'stay',\n",
              " 'anger',\n",
              " 'juno',\n",
              " 'sent',\n",
              " 'cares',\n",
              " 'alike',\n",
              " 'cease',\n",
              " 'brawling',\n",
              " 'draw',\n",
              " 'sword',\n",
              " 'rail',\n",
              " 'railing',\n",
              " 'vain',\n",
              " 'tell',\n",
              " 'shall',\n",
              " 'surely',\n",
              " 'shall',\n",
              " 'hereafter',\n",
              " 'receive',\n",
              " 'gifts',\n",
              " 'three',\n",
              " 'times',\n",
              " 'splendid',\n",
              " 'reason',\n",
              " 'present',\n",
              " 'insult',\n",
              " 'hold',\n",
              " 'therefore',\n",
              " 'obey',\n",
              " 'goddess',\n",
              " 'answered',\n",
              " 'achilles',\n",
              " 'however',\n",
              " 'angry',\n",
              " 'man',\n",
              " 'may',\n",
              " 'must',\n",
              " 'two',\n",
              " 'command',\n",
              " 'best',\n",
              " 'gods',\n",
              " 'ever',\n",
              " 'hear',\n",
              " 'prayers',\n",
              " 'obeyed',\n",
              " 'stayed',\n",
              " 'hand',\n",
              " 'silver',\n",
              " 'hilt',\n",
              " 'sword',\n",
              " 'thrust',\n",
              " 'back',\n",
              " 'scabbard',\n",
              " 'minerva',\n",
              " 'bade',\n",
              " 'went',\n",
              " 'back',\n",
              " 'olympus',\n",
              " 'among',\n",
              " 'gods',\n",
              " 'house',\n",
              " 'jove',\n",
              " 'son',\n",
              " 'peleus',\n",
              " 'began',\n",
              " 'railing',\n",
              " 'son',\n",
              " 'atreus',\n",
              " 'still',\n",
              " 'rage',\n",
              " 'cried',\n",
              " 'face',\n",
              " 'dog',\n",
              " 'heart',\n",
              " 'hind',\n",
              " 'never',\n",
              " 'dare',\n",
              " 'go',\n",
              " 'host',\n",
              " 'fight',\n",
              " 'yet',\n",
              " 'chosen',\n",
              " 'men',\n",
              " 'ambuscade',\n",
              " 'shun',\n",
              " 'death',\n",
              " 'rather',\n",
              " 'go',\n",
              " 'round',\n",
              " 'rob',\n",
              " 'prizes',\n",
              " 'man',\n",
              " 'contradicts',\n",
              " 'devour',\n",
              " 'people',\n",
              " 'king',\n",
              " 'feeble',\n",
              " 'folk',\n",
              " 'otherwise',\n",
              " 'son',\n",
              " 'atreus',\n",
              " 'henceforward',\n",
              " ...]"
            ]
          },
          "metadata": {
            "tags": []
          },
          "execution_count": 73
        }
      ]
    },
    {
      "cell_type": "code",
      "metadata": {
        "id": "joSg5ribiDhl",
        "colab_type": "code",
        "outputId": "e8dc84fe-d0b6-4fe6-c425-874616d0fbd0",
        "colab": {
          "base_uri": "https://localhost:8080/",
          "height": 561
        }
      },
      "source": [
        "from nltk.stem import WordNetLemmatizer\n",
        "\n",
        "nltk.download('wordnet')\n",
        "\n",
        "lemmatizer = WordNetLemmatizer()\n",
        "\n",
        "corpus = [lemmatizer.lemmatize(token) for token in corpus]\n",
        "corpus[:30]"
      ],
      "execution_count": 0,
      "outputs": [
        {
          "output_type": "stream",
          "text": [
            "[nltk_data] Downloading package wordnet to /root/nltk_data...\n",
            "[nltk_data]   Unzipping corpora/wordnet.zip.\n"
          ],
          "name": "stdout"
        },
        {
          "output_type": "execute_result",
          "data": {
            "text/plain": [
              "['provided',\n",
              " 'internet',\n",
              " 'classic',\n",
              " 'archive',\n",
              " 'see',\n",
              " 'bottom',\n",
              " 'copyright',\n",
              " 'available',\n",
              " 'online',\n",
              " 'http',\n",
              " 'iliad',\n",
              " 'homer',\n",
              " 'translated',\n",
              " 'samuel',\n",
              " 'butler',\n",
              " 'book',\n",
              " 'sing',\n",
              " 'goddess',\n",
              " 'anger',\n",
              " 'achilles',\n",
              " 'son',\n",
              " 'peleus',\n",
              " 'brought',\n",
              " 'countless',\n",
              " 'ill',\n",
              " 'upon',\n",
              " 'achaean',\n",
              " 'many',\n",
              " 'brave',\n",
              " 'soul']"
            ]
          },
          "metadata": {
            "tags": []
          },
          "execution_count": 74
        }
      ]
    },
    {
      "cell_type": "code",
      "metadata": {
        "id": "0KgvI6o7iYnu",
        "colab_type": "code",
        "outputId": "7d661e26-cda3-453c-f778-be11e925cc56",
        "colab": {
          "base_uri": "https://localhost:8080/",
          "height": 187
        }
      },
      "source": [
        "freq = FreqDist(corpus)\n",
        "freq.most_common(10)"
      ],
      "execution_count": 0,
      "outputs": [
        {
          "output_type": "execute_result",
          "data": {
            "text/plain": [
              "[('son', 1144),\n",
              " ('trojan', 620),\n",
              " ('achaean', 569),\n",
              " ('upon', 535),\n",
              " ('ship', 513),\n",
              " ('one', 479),\n",
              " ('hector', 476),\n",
              " ('jove', 464),\n",
              " ('spear', 444),\n",
              " ('hand', 438)]"
            ]
          },
          "metadata": {
            "tags": []
          },
          "execution_count": 75
        }
      ]
    },
    {
      "cell_type": "code",
      "metadata": {
        "id": "PNNp9yXjib9a",
        "colab_type": "code",
        "outputId": "2c49a449-8547-4b56-cc09-b926111c7a5c",
        "colab": {
          "base_uri": "https://localhost:8080/",
          "height": 464
        }
      },
      "source": [
        "plt.figure(figsize=(15, 6))\n",
        "freq.plot(30, title='Iliada - Rozkład słów', cumulative=False)"
      ],
      "execution_count": 0,
      "outputs": [
        {
          "output_type": "display_data",
          "data": {
            "image/png": "[encoded data removed]",
            "text/plain": [
              "<Figure size 1080x432 with 1 Axes>"
            ]
          },
          "metadata": {
            "tags": []
          }
        }
      ]
    },
    {
      "cell_type": "code",
      "metadata": {
        "id": "Q_R4bHs4iepY",
        "colab_type": "code",
        "outputId": "10b91a9f-98a5-4587-f20e-0747682326ea",
        "colab": {
          "base_uri": "https://localhost:8080/",
          "height": 493
        }
      },
      "source": [
        "plt.figure(figsize=(15, 6))\n",
        "freq.plot(50, title='Iliada - Rozkład słów', cumulative=True)"
      ],
      "execution_count": 0,
      "outputs": [
        {
          "output_type": "display_data",
          "data": {
            "image/png": "[encoded data removed]",
            "text/plain": [
              "<Figure size 1080x432 with 1 Axes>"
            ]
          },
          "metadata": {
            "tags": []
          }
        }
      ]
    },
    {
      "cell_type": "code",
      "metadata": {
        "id": "ZHPxnYT9iwoa",
        "colab_type": "code",
        "colab": {}
      },
      "source": [
        "stop_words.extend(['upon', 'one', 'would', 'u', 'two'])\n",
        "stop_words[-10:]"
      ],
      "execution_count": 0,
      "outputs": []
    },
    {
      "cell_type": "code",
      "metadata": {
        "id": "W_gC42KDjUKR",
        "colab_type": "code",
        "colab": {}
      },
      "source": [
        ""
      ],
      "execution_count": 0,
      "outputs": []
    }
  ]
}