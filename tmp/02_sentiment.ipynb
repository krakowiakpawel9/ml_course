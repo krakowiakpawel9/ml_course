{
  "nbformat": 4,
  "nbformat_minor": 0,
  "metadata": {
    "colab": {
      "name": "01_preprocessing.ipynb",
      "provenance": [],
      "include_colab_link": true
    },
    "kernelspec": {
      "name": "python3",
      "display_name": "Python 3"
    }
  },
  "cells": [
    {
      "cell_type": "markdown",
      "metadata": {
        "id": "view-in-github",
        "colab_type": "text"
      },
      "source": [
        "<a href=\"https://colab.research.google.com/github/krakowiakpawel9/ml_course/blob/master/tmp/02_sentiment.ipynb\" target=\"_parent\"><img src=\"https://colab.research.google.com/assets/colab-badge.svg\" alt=\"Open In Colab\"/></a>"
      ]
    },
    {
      "cell_type": "markdown",
      "metadata": {
        "id": "UbjsT92Xd3z1",
        "colab_type": "text"
      },
      "source": [
        "* @author: krakowiakpawel9@gmail.com  \n",
        "* @site: e-smartdata.org\n",
        "\n",
        "### nltk\n",
        "Strona biblioteki: [https://www.nltk.org/](https://www.nltk.org/)  \n",
        "\n",
        "Podstawowa biblioteka do przetwarzania języka naturalnego w języku Python.\n",
        "\n",
        "Aby zainstalować bibliotekę nltk, użyj polecenia poniżej:\n",
        "```\n",
        "!pip install nltk\n",
        "```\n",
        "Aby zaktualizować do najnowszej wersji użyj polecenia poniżej:\n",
        "```\n",
        "!pip install --upgrade nltk\n",
        "```\n",
        "Kurs stworzony w oparciu o wersję `3.2.5`\n",
        "\n",
        "### Spis treści:\n",
        "1. [Import bibliotek](#0)\n",
        "2. [Wygenerowanie danych](#1)\n",
        "\n"
      ]
    },
    {
      "cell_type": "markdown",
      "metadata": {
        "id": "YkIALacsUnj7",
        "colab_type": "text"
      },
      "source": [
        "### <a name='0'></a> Import bibliotek"
      ]
    },
    {
      "cell_type": "code",
      "metadata": {
        "id": "3xUIhhlQt4ss",
        "colab_type": "code",
        "colab": {
          "base_uri": "https://localhost:8080/",
          "height": 34
        },
        "outputId": "ae66c298-762e-4544-a51e-597259b55b95"
      },
      "source": [
        "import re\n",
        "import nltk\n",
        "\n",
        "nltk.__version__"
      ],
      "execution_count": 1,
      "outputs": [
        {
          "output_type": "execute_result",
          "data": {
            "text/plain": [
              "'3.2.5'"
            ]
          },
          "metadata": {
            "tags": []
          },
          "execution_count": 1
        }
      ]
    },
    {
      "cell_type": "code",
      "metadata": {
        "id": "-IYzbnFduORV",
        "colab_type": "code",
        "colab": {
          "base_uri": "https://localhost:8080/",
          "height": 238
        },
        "outputId": "eb857cd5-7ac8-47cd-c3cc-e01f987bb4b6"
      },
      "source": [
        "nltk.download('punkt')\n",
        "nltk.download('twitter_samples')\n",
        "nltk.download('wordnet')\n",
        "nltk.download('averaged_perceptron_tagger')\n",
        "nltk.download('stopwords')"
      ],
      "execution_count": 2,
      "outputs": [
        {
          "output_type": "stream",
          "text": [
            "[nltk_data] Downloading package punkt to /root/nltk_data...\n",
            "[nltk_data]   Package punkt is already up-to-date!\n",
            "[nltk_data] Downloading package twitter_samples to /root/nltk_data...\n",
            "[nltk_data]   Package twitter_samples is already up-to-date!\n",
            "[nltk_data] Downloading package wordnet to /root/nltk_data...\n",
            "[nltk_data]   Package wordnet is already up-to-date!\n",
            "[nltk_data] Downloading package averaged_perceptron_tagger to\n",
            "[nltk_data]     /root/nltk_data...\n",
            "[nltk_data]   Package averaged_perceptron_tagger is already up-to-\n",
            "[nltk_data]       date!\n",
            "[nltk_data] Downloading package stopwords to /root/nltk_data...\n",
            "[nltk_data]   Package stopwords is already up-to-date!\n"
          ],
          "name": "stdout"
        },
        {
          "output_type": "execute_result",
          "data": {
            "text/plain": [
              "True"
            ]
          },
          "metadata": {
            "tags": []
          },
          "execution_count": 2
        }
      ]
    },
    {
      "cell_type": "code",
      "metadata": {
        "id": "hdRMz0m_uD3e",
        "colab_type": "code",
        "colab": {}
      },
      "source": [
        "from nltk.corpus import twitter_samples\n",
        "\n",
        "positive = twitter_samples.strings('positive_tweets.json')\n",
        "negative = twitter_samples.strings('negative_tweets.json')"
      ],
      "execution_count": 0,
      "outputs": []
    },
    {
      "cell_type": "code",
      "metadata": {
        "id": "vtVoJMc_uLdY",
        "colab_type": "code",
        "colab": {
          "base_uri": "https://localhost:8080/",
          "height": 187
        },
        "outputId": "db549400-6d7f-41a9-b950-be61029e4768"
      },
      "source": [
        "positive[:10]"
      ],
      "execution_count": 4,
      "outputs": [
        {
          "output_type": "execute_result",
          "data": {
            "text/plain": [
              "['#FollowFriday @France_Inte @PKuchly57 @Milipol_Paris for being top engaged members in my community this week :)',\n",
              " '@Lamb2ja Hey James! How odd :/ Please call our Contact Centre on 02392441234 and we will be able to assist you :) Many thanks!',\n",
              " '@DespiteOfficial we had a listen last night :) As You Bleed is an amazing track. When are you in Scotland?!',\n",
              " '@97sides CONGRATS :)',\n",
              " 'yeaaaah yippppy!!!  my accnt verified rqst has succeed got a blue tick mark on my fb profile :) in 15 days',\n",
              " '@BhaktisBanter @PallaviRuhail This one is irresistible :)\\n#FlipkartFashionFriday http://t.co/EbZ0L2VENM',\n",
              " \"We don't like to keep our lovely customers waiting for long! We hope you enjoy! Happy Friday! - LWWF :) https://t.co/smyYriipxI\",\n",
              " '@Impatientraider On second thought, there’s just not enough time for a DD :) But new shorts entering system. Sheep must be buying.',\n",
              " 'Jgh , but we have to go to Bayan :D bye',\n",
              " 'As an act of mischievousness, am calling the ETL layer of our in-house warehousing app Katamari.\\n\\nWell… as the name implies :p.']"
            ]
          },
          "metadata": {
            "tags": []
          },
          "execution_count": 4
        }
      ]
    },
    {
      "cell_type": "code",
      "metadata": {
        "id": "Voqf7oD-uSDM",
        "colab_type": "code",
        "colab": {
          "base_uri": "https://localhost:8080/",
          "height": 187
        },
        "outputId": "7ddc979a-875b-467f-f223-9d327add25f8"
      },
      "source": [
        "negative[:10]"
      ],
      "execution_count": 5,
      "outputs": [
        {
          "output_type": "execute_result",
          "data": {
            "text/plain": [
              "['hopeless for tmr :(',\n",
              " \"Everything in the kids section of IKEA is so cute. Shame I'm nearly 19 in 2 months :(\",\n",
              " '@Hegelbon That heart sliding into the waste basket. :(',\n",
              " '“@ketchBurning: I hate Japanese call him \"bani\" :( :(”\\n\\nMe too',\n",
              " 'Dang starting next week I have \"work\" :(',\n",
              " \"oh god, my babies' faces :( https://t.co/9fcwGvaki0\",\n",
              " '@RileyMcDonough make me smile :((',\n",
              " '@f0ggstar @stuartthull work neighbour on motors. Asked why and he said hates the updates on search :( http://t.co/XvmTUikWln',\n",
              " 'why?:(\"@tahuodyy: sialan:( https://t.co/Hv1i0xcrL2\"',\n",
              " 'Athabasca glacier was there in #1948 :-( #athabasca #glacier #jasper #jaspernationalpark #alberta #explorealberta #… http://t.co/dZZdqmf7Cz']"
            ]
          },
          "metadata": {
            "tags": []
          },
          "execution_count": 5
        }
      ]
    },
    {
      "cell_type": "code",
      "metadata": {
        "id": "ScCJvjWKvA7t",
        "colab_type": "code",
        "colab": {
          "base_uri": "https://localhost:8080/",
          "height": 187
        },
        "outputId": "0316e9f9-cf77-458c-f9fc-e4705cf0a57e"
      },
      "source": [
        "positive_tokenized = twitter_samples.tokenized('positive_tweets.json')\n",
        "negative_tokenized = twitter_samples.tokenized('negative_tweets.json')\n",
        "\n",
        "for tweet in positive_tokenized[:10]:\n",
        "    print(tweet)"
      ],
      "execution_count": 6,
      "outputs": [
        {
          "output_type": "stream",
          "text": [
            "['#FollowFriday', '@France_Inte', '@PKuchly57', '@Milipol_Paris', 'for', 'being', 'top', 'engaged', 'members', 'in', 'my', 'community', 'this', 'week', ':)']\n",
            "['@Lamb2ja', 'Hey', 'James', '!', 'How', 'odd', ':/', 'Please', 'call', 'our', 'Contact', 'Centre', 'on', '02392441234', 'and', 'we', 'will', 'be', 'able', 'to', 'assist', 'you', ':)', 'Many', 'thanks', '!']\n",
            "['@DespiteOfficial', 'we', 'had', 'a', 'listen', 'last', 'night', ':)', 'As', 'You', 'Bleed', 'is', 'an', 'amazing', 'track', '.', 'When', 'are', 'you', 'in', 'Scotland', '?', '!']\n",
            "['@97sides', 'CONGRATS', ':)']\n",
            "['yeaaaah', 'yippppy', '!', '!', '!', 'my', 'accnt', 'verified', 'rqst', 'has', 'succeed', 'got', 'a', 'blue', 'tick', 'mark', 'on', 'my', 'fb', 'profile', ':)', 'in', '15', 'days']\n",
            "['@BhaktisBanter', '@PallaviRuhail', 'This', 'one', 'is', 'irresistible', ':)', '#FlipkartFashionFriday', 'http://t.co/EbZ0L2VENM']\n",
            "['We', \"don't\", 'like', 'to', 'keep', 'our', 'lovely', 'customers', 'waiting', 'for', 'long', '!', 'We', 'hope', 'you', 'enjoy', '!', 'Happy', 'Friday', '!', '-', 'LWWF', ':)', 'https://t.co/smyYriipxI']\n",
            "['@Impatientraider', 'On', 'second', 'thought', ',', 'there', '’', 's', 'just', 'not', 'enough', 'time', 'for', 'a', 'DD', ':)', 'But', 'new', 'shorts', 'entering', 'system', '.', 'Sheep', 'must', 'be', 'buying', '.']\n",
            "['Jgh', ',', 'but', 'we', 'have', 'to', 'go', 'to', 'Bayan', ':D', 'bye']\n",
            "['As', 'an', 'act', 'of', 'mischievousness', ',', 'am', 'calling', 'the', 'ETL', 'layer', 'of', 'our', 'in-house', 'warehousing', 'app', 'Katamari', '.', 'Well', '…', 'as', 'the', 'name', 'implies', ':p', '.']\n"
          ],
          "name": "stdout"
        }
      ]
    },
    {
      "cell_type": "code",
      "metadata": {
        "id": "gK3TKQIiv_PC",
        "colab_type": "code",
        "colab": {
          "base_uri": "https://localhost:8080/",
          "height": 207
        },
        "outputId": "90d17117-a77c-4215-cfbd-151e7c2938cf"
      },
      "source": [
        "from nltk.tag import pos_tag\n",
        "\n",
        "for tweet in positive_tokenized[:10]:\n",
        "    print(pos_tag(tweet))"
      ],
      "execution_count": 7,
      "outputs": [
        {
          "output_type": "stream",
          "text": [
            "[('#FollowFriday', 'JJ'), ('@France_Inte', 'NNP'), ('@PKuchly57', 'NNP'), ('@Milipol_Paris', 'NNP'), ('for', 'IN'), ('being', 'VBG'), ('top', 'JJ'), ('engaged', 'VBN'), ('members', 'NNS'), ('in', 'IN'), ('my', 'PRP$'), ('community', 'NN'), ('this', 'DT'), ('week', 'NN'), (':)', 'NN')]\n",
            "[('@Lamb2ja', 'NN'), ('Hey', 'NNP'), ('James', 'NNP'), ('!', '.'), ('How', 'NNP'), ('odd', 'JJ'), (':/', 'NNP'), ('Please', 'NNP'), ('call', 'VB'), ('our', 'PRP$'), ('Contact', 'NNP'), ('Centre', 'NNP'), ('on', 'IN'), ('02392441234', 'CD'), ('and', 'CC'), ('we', 'PRP'), ('will', 'MD'), ('be', 'VB'), ('able', 'JJ'), ('to', 'TO'), ('assist', 'VB'), ('you', 'PRP'), (':)', 'VBP'), ('Many', 'JJ'), ('thanks', 'NNS'), ('!', '.')]\n",
            "[('@DespiteOfficial', 'JJ'), ('we', 'PRP'), ('had', 'VBD'), ('a', 'DT'), ('listen', 'VBN'), ('last', 'JJ'), ('night', 'NN'), (':)', 'NN'), ('As', 'IN'), ('You', 'PRP'), ('Bleed', 'VBP'), ('is', 'VBZ'), ('an', 'DT'), ('amazing', 'JJ'), ('track', 'NN'), ('.', '.'), ('When', 'WRB'), ('are', 'VBP'), ('you', 'PRP'), ('in', 'IN'), ('Scotland', 'NNP'), ('?', '.'), ('!', '.')]\n",
            "[('@97sides', 'NNS'), ('CONGRATS', 'NNP'), (':)', 'VBP')]\n",
            "[('yeaaaah', 'NN'), ('yippppy', 'JJ'), ('!', '.'), ('!', '.'), ('!', '.'), ('my', 'PRP$'), ('accnt', 'JJ'), ('verified', 'VBN'), ('rqst', 'NN'), ('has', 'VBZ'), ('succeed', 'VB'), ('got', 'VBD'), ('a', 'DT'), ('blue', 'JJ'), ('tick', 'NN'), ('mark', 'NN'), ('on', 'IN'), ('my', 'PRP$'), ('fb', 'NN'), ('profile', 'NN'), (':)', 'NN'), ('in', 'IN'), ('15', 'CD'), ('days', 'NNS')]\n",
            "[('@BhaktisBanter', 'RB'), ('@PallaviRuhail', 'NN'), ('This', 'DT'), ('one', 'CD'), ('is', 'VBZ'), ('irresistible', 'JJ'), (':)', 'JJ'), ('#FlipkartFashionFriday', 'NN'), ('http://t.co/EbZ0L2VENM', 'NN')]\n",
            "[('We', 'PRP'), (\"don't\", 'VBP'), ('like', 'IN'), ('to', 'TO'), ('keep', 'VB'), ('our', 'PRP$'), ('lovely', 'JJ'), ('customers', 'NNS'), ('waiting', 'VBG'), ('for', 'IN'), ('long', 'RB'), ('!', '.'), ('We', 'PRP'), ('hope', 'VBP'), ('you', 'PRP'), ('enjoy', 'VBP'), ('!', '.'), ('Happy', 'JJ'), ('Friday', 'NNP'), ('!', '.'), ('-', ':'), ('LWWF', 'NNP'), (':)', 'NNP'), ('https://t.co/smyYriipxI', 'NN')]\n",
            "[('@Impatientraider', 'NN'), ('On', 'IN'), ('second', 'JJ'), ('thought', 'NN'), (',', ','), ('there', 'EX'), ('’', 'NNP'), ('s', 'NN'), ('just', 'RB'), ('not', 'RB'), ('enough', 'JJ'), ('time', 'NN'), ('for', 'IN'), ('a', 'DT'), ('DD', 'NNP'), (':)', 'NNP'), ('But', 'CC'), ('new', 'JJ'), ('shorts', 'NNS'), ('entering', 'VBG'), ('system', 'NN'), ('.', '.'), ('Sheep', 'VB'), ('must', 'MD'), ('be', 'VB'), ('buying', 'VBG'), ('.', '.')]\n",
            "[('Jgh', 'NNP'), (',', ','), ('but', 'CC'), ('we', 'PRP'), ('have', 'VBP'), ('to', 'TO'), ('go', 'VB'), ('to', 'TO'), ('Bayan', 'NNP'), (':D', 'NNP'), ('bye', 'NN')]\n",
            "[('As', 'IN'), ('an', 'DT'), ('act', 'NN'), ('of', 'IN'), ('mischievousness', 'NN'), (',', ','), ('am', 'VBP'), ('calling', 'VBG'), ('the', 'DT'), ('ETL', 'NNP'), ('layer', 'NN'), ('of', 'IN'), ('our', 'PRP$'), ('in-house', 'NN'), ('warehousing', 'VBG'), ('app', 'JJ'), ('Katamari', 'NNP'), ('.', '.'), ('Well', 'NNP'), ('…', 'RB'), ('as', 'IN'), ('the', 'DT'), ('name', 'NN'), ('implies', 'VBZ'), (':p', 'NNP'), ('.', '.')]\n"
          ],
          "name": "stdout"
        }
      ]
    },
    {
      "cell_type": "markdown",
      "metadata": {
        "id": "WSjeovyvwUiu",
        "colab_type": "text"
      },
      "source": [
        "https://www.ling.upenn.edu/courses/Fall_2003/ling001/penn_treebank_pos.html"
      ]
    },
    {
      "cell_type": "code",
      "metadata": {
        "id": "M4O6vJN-wI_s",
        "colab_type": "code",
        "colab": {}
      },
      "source": [
        "from nltk.stem.wordnet import WordNetLemmatizer\n",
        "\n",
        "def lemmatize_tweet(tokens):\n",
        "\n",
        "    lemmatizer = WordNetLemmatizer()\n",
        "    tweet_lemmatized = []\n",
        "\n",
        "    for token, tag in pos_tag(tokens):\n",
        "        if tag.startswith('NN'):\n",
        "            pos = 'n'\n",
        "        elif tag.startswith('VB'):\n",
        "            pos = 'v'\n",
        "        else:\n",
        "            pos = 'a'\n",
        "        tweet_lemmatized.append(lemmatizer.lemmatize(token, pos))\n",
        "        \n",
        "    return tweet_lemmatized"
      ],
      "execution_count": 0,
      "outputs": []
    },
    {
      "cell_type": "code",
      "metadata": {
        "id": "k_alpGjoxMYF",
        "colab_type": "code",
        "colab": {
          "base_uri": "https://localhost:8080/",
          "height": 272
        },
        "outputId": "5f3b6301-3ab7-4648-b2e1-a96c4696640c"
      },
      "source": [
        "idx = 0\n",
        "for token in zip(positive_tokenized[idx], lemmatize_tweet(positive_tokenized[idx])):\n",
        "    print(token)"
      ],
      "execution_count": 9,
      "outputs": [
        {
          "output_type": "stream",
          "text": [
            "('#FollowFriday', '#FollowFriday')\n",
            "('@France_Inte', '@France_Inte')\n",
            "('@PKuchly57', '@PKuchly57')\n",
            "('@Milipol_Paris', '@Milipol_Paris')\n",
            "('for', 'for')\n",
            "('being', 'be')\n",
            "('top', 'top')\n",
            "('engaged', 'engage')\n",
            "('members', 'member')\n",
            "('in', 'in')\n",
            "('my', 'my')\n",
            "('community', 'community')\n",
            "('this', 'this')\n",
            "('week', 'week')\n",
            "(':)', ':)')\n"
          ],
          "name": "stdout"
        }
      ]
    },
    {
      "cell_type": "code",
      "metadata": {
        "id": "mzaMbty7xROI",
        "colab_type": "code",
        "colab": {}
      },
      "source": [
        "def clean_tweet(tokens):\n",
        "\n",
        "    lemmatizer = WordNetLemmatizer()\n",
        "    tweet_cleaned = []\n",
        "    \n",
        "    for token, tag in pos_tag(tokens):\n",
        "        token = re.sub('http[s]?://(?:[a-zA-Z]|[0-9]|[$-_@.&+#]|[!*\\(\\),]|(?:%[0-9a-fA-F][0-9a-fA-F]))+', '', token)\n",
        "        token = re.sub('(@[A-Za-z0-9_]+)', '', token)\n",
        "\n",
        "        if tag.startswith('NN'):\n",
        "            pos = 'n'\n",
        "        elif tag.startswith('VB'):\n",
        "            pos = 'v'\n",
        "        else:\n",
        "            pos = 'a'\n",
        "\n",
        "        token = lemmatizer.lemmatize(token, pos)\n",
        "        token = token.lower()\n",
        "        tweet_cleaned.append(token)\n",
        "\n",
        "    return tweet_cleaned"
      ],
      "execution_count": 0,
      "outputs": []
    },
    {
      "cell_type": "code",
      "metadata": {
        "id": "qFRpxo4gyW9e",
        "colab_type": "code",
        "colab": {
          "base_uri": "https://localhost:8080/",
          "height": 170
        },
        "outputId": "b17cc5d5-e739-4b01-983b-adeb4a258312"
      },
      "source": [
        "idx = 5\n",
        "for token in zip(positive_tokenized[idx], clean_tweet(positive_tokenized[idx])):\n",
        "    print(token)"
      ],
      "execution_count": 11,
      "outputs": [
        {
          "output_type": "stream",
          "text": [
            "('@BhaktisBanter', '')\n",
            "('@PallaviRuhail', '')\n",
            "('This', 'this')\n",
            "('one', 'one')\n",
            "('is', 'be')\n",
            "('irresistible', 'irresistible')\n",
            "(':)', ':)')\n",
            "('#FlipkartFashionFriday', '#flipkartfashionfriday')\n",
            "('http://t.co/EbZ0L2VENM', '')\n"
          ],
          "name": "stdout"
        }
      ]
    },
    {
      "cell_type": "code",
      "metadata": {
        "id": "o7l0sd9g3A7g",
        "colab_type": "code",
        "colab": {
          "base_uri": "https://localhost:8080/",
          "height": 34
        },
        "outputId": "c28a81f4-1fd8-4f54-ba7d-757cc2f8e427"
      },
      "source": [
        "import string\n",
        "\n",
        "string.punctuation"
      ],
      "execution_count": 12,
      "outputs": [
        {
          "output_type": "execute_result",
          "data": {
            "text/plain": [
              "'!\"#$%&\\'()*+,-./:;<=>?@[\\\\]^_`{|}~'"
            ]
          },
          "metadata": {
            "tags": []
          },
          "execution_count": 12
        }
      ]
    },
    {
      "cell_type": "code",
      "metadata": {
        "id": "vl4fgjHSzYBN",
        "colab_type": "code",
        "colab": {}
      },
      "source": [
        "from nltk.corpus import stopwords\n",
        "\n",
        "stop_words = stopwords.words('english')\n",
        "\n",
        "def remove_stopwords(tokens):\n",
        "    return [token for token in tokens if token not in stop_words and token not in string.punctuation and len(token) > 0]"
      ],
      "execution_count": 0,
      "outputs": []
    },
    {
      "cell_type": "code",
      "metadata": {
        "id": "uk4UtuiN0nHI",
        "colab_type": "code",
        "colab": {
          "base_uri": "https://localhost:8080/",
          "height": 51
        },
        "outputId": "408900c3-82bb-464b-a8a8-66168adf0b52"
      },
      "source": [
        "idx = 0\n",
        "for token in [positive_tokenized[idx], remove_stopwords(clean_tweet(positive_tokenized[idx]))]:\n",
        "    print(token)"
      ],
      "execution_count": 14,
      "outputs": [
        {
          "output_type": "stream",
          "text": [
            "['#FollowFriday', '@France_Inte', '@PKuchly57', '@Milipol_Paris', 'for', 'being', 'top', 'engaged', 'members', 'in', 'my', 'community', 'this', 'week', ':)']\n",
            "['#followfriday', 'top', 'engage', 'member', 'community', 'week', ':)']\n"
          ],
          "name": "stdout"
        }
      ]
    },
    {
      "cell_type": "code",
      "metadata": {
        "id": "NTYFoeLt07Pe",
        "colab_type": "code",
        "colab": {
          "base_uri": "https://localhost:8080/",
          "height": 51
        },
        "outputId": "e4bc7e33-4b26-41a1-b8e3-42f60a5a872a"
      },
      "source": [
        "idx = 1\n",
        "for token in [positive_tokenized[idx], remove_stopwords(clean_tweet(positive_tokenized[idx]))]:\n",
        "    print(token)"
      ],
      "execution_count": 15,
      "outputs": [
        {
          "output_type": "stream",
          "text": [
            "['@Lamb2ja', 'Hey', 'James', '!', 'How', 'odd', ':/', 'Please', 'call', 'our', 'Contact', 'Centre', 'on', '02392441234', 'and', 'we', 'will', 'be', 'able', 'to', 'assist', 'you', ':)', 'Many', 'thanks', '!']\n",
            "['hey', 'james', 'odd', ':/', 'please', 'call', 'contact', 'centre', '02392441234', 'able', 'assist', ':)', 'many', 'thanks']\n"
          ],
          "name": "stdout"
        }
      ]
    },
    {
      "cell_type": "code",
      "metadata": {
        "id": "7YxCeEJD1R3J",
        "colab_type": "code",
        "colab": {}
      },
      "source": [
        "positive_cleaned = [remove_stopwords(clean_tweet(tweet)) for tweet in positive_tokenized]\n",
        "negative_cleaned = [remove_stopwords(clean_tweet(tweet)) for tweet in negative_tokenized]"
      ],
      "execution_count": 0,
      "outputs": []
    },
    {
      "cell_type": "code",
      "metadata": {
        "id": "Z5YPgxNX1p88",
        "colab_type": "code",
        "colab": {
          "base_uri": "https://localhost:8080/",
          "height": 187
        },
        "outputId": "58e0d2c1-4c6e-4080-8d2c-d47dea969e0e"
      },
      "source": [
        "for tweet in positive_cleaned[:10]:\n",
        "    print(tweet)"
      ],
      "execution_count": 17,
      "outputs": [
        {
          "output_type": "stream",
          "text": [
            "['#followfriday', 'top', 'engage', 'member', 'community', 'week', ':)']\n",
            "['hey', 'james', 'odd', ':/', 'please', 'call', 'contact', 'centre', '02392441234', 'able', 'assist', ':)', 'many', 'thanks']\n",
            "['listen', 'last', 'night', ':)', 'bleed', 'amazing', 'track', 'scotland']\n",
            "['congrats', ':)']\n",
            "['yeaaaah', 'yippppy', 'accnt', 'verify', 'rqst', 'succeed', 'get', 'blue', 'tick', 'mark', 'fb', 'profile', ':)', '15', 'day']\n",
            "['one', 'irresistible', ':)', '#flipkartfashionfriday']\n",
            "['like', 'keep', 'lovely', 'customer', 'wait', 'long', 'hope', 'enjoy', 'happy', 'friday', 'lwwf', ':)']\n",
            "['second', 'thought', '’', 'enough', 'time', 'dd', ':)', 'new', 'short', 'enter', 'system', 'sheep', 'must', 'buy']\n",
            "['jgh', 'go', 'bayan', ':d', 'bye']\n",
            "['act', 'mischievousness', 'call', 'etl', 'layer', 'in-house', 'warehouse', 'app', 'katamari', 'well', '…', 'name', 'imply', ':p']\n"
          ],
          "name": "stdout"
        }
      ]
    },
    {
      "cell_type": "code",
      "metadata": {
        "id": "6m2yTGze2DYo",
        "colab_type": "code",
        "colab": {}
      },
      "source": [
        "from nltk import FreqDist"
      ],
      "execution_count": 0,
      "outputs": []
    },
    {
      "cell_type": "code",
      "metadata": {
        "id": "WmfYa2AN4FLh",
        "colab_type": "code",
        "colab": {
          "base_uri": "https://localhost:8080/",
          "height": 272
        },
        "outputId": "32e76088-dc26-46b2-d840-5f993d32848a"
      },
      "source": [
        "corpus = []\n",
        "for tweet in positive_cleaned:\n",
        "    corpus.extend(tweet)\n",
        "\n",
        "freq = FreqDist(corpus)\n",
        "freq.most_common(15)"
      ],
      "execution_count": 19,
      "outputs": [
        {
          "output_type": "execute_result",
          "data": {
            "text/plain": [
              "[(':)', 3691),\n",
              " (':-)', 701),\n",
              " (':d', 658),\n",
              " ('thanks', 388),\n",
              " ('follow', 357),\n",
              " ('love', 333),\n",
              " ('...', 290),\n",
              " ('good', 283),\n",
              " ('get', 263),\n",
              " ('thank', 253),\n",
              " ('u', 245),\n",
              " ('day', 242),\n",
              " ('like', 229),\n",
              " ('see', 195),\n",
              " ('happy', 192)]"
            ]
          },
          "metadata": {
            "tags": []
          },
          "execution_count": 19
        }
      ]
    },
    {
      "cell_type": "code",
      "metadata": {
        "id": "cYs3lVDY3ooN",
        "colab_type": "code",
        "colab": {
          "base_uri": "https://localhost:8080/",
          "height": 453
        },
        "outputId": "d734eb77-aa24-4293-8caa-54d499a1cd73"
      },
      "source": [
        "import matplotlib.pyplot as plt\n",
        "import seaborn as sns\n",
        "sns.set(font_scale=1.3)\n",
        "\n",
        "plt.figure(figsize=(15, 6))\n",
        "freq.plot(30, title='Pozytywne tweety - rozkład słów', cumulative=False)"
      ],
      "execution_count": 20,
      "outputs": [
        {
          "output_type": "display_data",
          "data": {
            "image/png": "[encoded data removed]",
            "text/plain": [
              "<Figure size 1080x432 with 1 Axes>"
            ]
          },
          "metadata": {
            "tags": []
          }
        }
      ]
    },
    {
      "cell_type": "code",
      "metadata": {
        "id": "4SPAMNSo4UzH",
        "colab_type": "code",
        "colab": {
          "base_uri": "https://localhost:8080/",
          "height": 187
        },
        "outputId": "e32970cb-6259-4d4d-dc32-f76b6033d7f1"
      },
      "source": [
        "corpus = []\n",
        "for tweet in negative_cleaned:\n",
        "    corpus.extend(tweet)\n",
        "\n",
        "freq = FreqDist(corpus)\n",
        "freq.most_common(10)"
      ],
      "execution_count": 21,
      "outputs": [
        {
          "output_type": "execute_result",
          "data": {
            "text/plain": [
              "[(':(', 4585),\n",
              " (':-(', 501),\n",
              " (\"i'm\", 343),\n",
              " ('...', 332),\n",
              " ('get', 325),\n",
              " ('miss', 291),\n",
              " ('go', 275),\n",
              " ('please', 275),\n",
              " ('want', 246),\n",
              " ('like', 218)]"
            ]
          },
          "metadata": {
            "tags": []
          },
          "execution_count": 21
        }
      ]
    },
    {
      "cell_type": "code",
      "metadata": {
        "id": "7JCwgufT4ezd",
        "colab_type": "code",
        "colab": {
          "base_uri": "https://localhost:8080/",
          "height": 451
        },
        "outputId": "5e35d49e-5939-492d-ff9a-0e8dc81940ab"
      },
      "source": [
        "plt.figure(figsize=(15, 6))\n",
        "freq.plot(10, title='Negatywne tweety - rozkład słów', cumulative=False)"
      ],
      "execution_count": 22,
      "outputs": [
        {
          "output_type": "display_data",
          "data": {
            "image/png": "[encoded data removed]",
            "text/plain": [
              "<Figure size 1080x432 with 1 Axes>"
            ]
          },
          "metadata": {
            "tags": []
          }
        }
      ]
    },
    {
      "cell_type": "code",
      "metadata": {
        "id": "B9l56x7EDsS7",
        "colab_type": "code",
        "colab": {
          "base_uri": "https://localhost:8080/",
          "height": 68
        },
        "outputId": "2f57e6ae-c497-42e5-acf5-28f5c132fce9"
      },
      "source": [
        "for tweet in positive_cleaned[:3]:\n",
        "    print(dict([token, True] for token in tweet))"
      ],
      "execution_count": 29,
      "outputs": [
        {
          "output_type": "stream",
          "text": [
            "{'#followfriday': True, 'top': True, 'engage': True, 'member': True, 'community': True, 'week': True, ':)': True}\n",
            "{'hey': True, 'james': True, 'odd': True, ':/': True, 'please': True, 'call': True, 'contact': True, 'centre': True, '02392441234': True, 'able': True, 'assist': True, ':)': True, 'many': True, 'thanks': True}\n",
            "{'listen': True, 'last': True, 'night': True, ':)': True, 'bleed': True, 'amazing': True, 'track': True, 'scotland': True}\n"
          ],
          "name": "stdout"
        }
      ]
    },
    {
      "cell_type": "code",
      "metadata": {
        "id": "bgRGbZ6bExVO",
        "colab_type": "code",
        "colab": {}
      },
      "source": [
        "def prepare(cleaned_tweets):\n",
        "    for tweet in cleaned_tweets:\n",
        "        yield dict([token, True] for token in tweet)\n",
        " \n",
        "positive_cleaned_labeled = prepare(positive_cleaned)\n",
        "negative_cleaned_labeled = prepare(negative_cleaned)"
      ],
      "execution_count": 0,
      "outputs": []
    },
    {
      "cell_type": "code",
      "metadata": {
        "id": "NL0J0G4d4glB",
        "colab_type": "code",
        "colab": {}
      },
      "source": [
        "# positive_cleaned_labeled = [dict([(token, True)]) for tweet in positive_cleaned for token in tweet]\n",
        "# negative_cleaned_labeled = [dict([(token, True)]) for tweet in negative_cleaned for token in tweet]"
      ],
      "execution_count": 0,
      "outputs": []
    },
    {
      "cell_type": "code",
      "metadata": {
        "id": "nrHpYBjTGHY7",
        "colab_type": "code",
        "colab": {}
      },
      "source": [
        "positive_dataset = [(tweet, 'Positive') for tweet in positive_cleaned_labeled]\n",
        "negative_dataset = [(tweet, 'Negative') for tweet in negative_cleaned_labeled]"
      ],
      "execution_count": 0,
      "outputs": []
    },
    {
      "cell_type": "code",
      "metadata": {
        "id": "7VguQytO5h6c",
        "colab_type": "code",
        "colab": {}
      },
      "source": [
        "dataset = positive_dataset + negative_dataset"
      ],
      "execution_count": 0,
      "outputs": []
    },
    {
      "cell_type": "code",
      "metadata": {
        "id": "VwLKSaJ9-4oR",
        "colab_type": "code",
        "colab": {}
      },
      "source": [
        "import random\n",
        "\n",
        "random.shuffle(dataset)"
      ],
      "execution_count": 0,
      "outputs": []
    },
    {
      "cell_type": "code",
      "metadata": {
        "id": "ejEt5vEW-9Ut",
        "colab_type": "code",
        "colab": {
          "base_uri": "https://localhost:8080/",
          "height": 187
        },
        "outputId": "452038e4-f0b4-4cd6-d0fa-300272a5b3c3"
      },
      "source": [
        "for tweet in dataset[:10]:\n",
        "    print(tweet)"
      ],
      "execution_count": 53,
      "outputs": [
        {
          "output_type": "stream",
          "text": [
            "({'anyone': True, 'awake': True, ':-(': True}, 'Negative')\n",
            "({':-(': True, 'please': True, 'notice': True, 'h': True}, 'Negative')\n",
            "({'#psygustokita': True, \"i'm\": True, 'huge': True, 'fan': True, 'latin': True, 'beauty': True, ':-)': True, 'queen': True, 'kath': True, 'asian': True, 'version': True}, 'Positive')\n",
            "({\"i'm\": True, 'start': True, 'grind': True, 'yt': True, ':)': True}, 'Positive')\n",
            "({'u': True, 'cute': True, 'thank': True, ':(': True}, 'Negative')\n",
            "({'dog': True, 'guy': True, 'hilarious': True, 'brilliant': True, 'interview': True, 'replay': True, 'iplayer': True, 'late': True, 'funny': True, ':)': True}, 'Positive')\n",
            "({'wish': True, 'could': True, 'dm': True, 'cute': True, 'thing': True, ':(': True, 'preferably': True, 'kitten': True, 'puppy': True}, 'Negative')\n",
            "({'hi': True, 'see': True, 'u': True, 'like': True, 'fourfiveseconds': True, 'think': True, 'might': True, 'deaf': True, 'ears': True, 'plz': True, 'let': True, 'know': True, ':)': True}, 'Positive')\n",
            "({'noo': True, \"i've\": True, 'ben': True, 'watch': True, 'like': True, 'hawke': True, 'week': True, 'gutted': True, ':(': True}, 'Negative')\n",
            "({'excite': True, 'news': True, '43': True, 'day': True, 'till': True, 'hpc': True, 'party': True, ':)': True, 'x': True}, 'Positive')\n"
          ],
          "name": "stdout"
        }
      ]
    },
    {
      "cell_type": "code",
      "metadata": {
        "id": "Nqz7LedA_ATw",
        "colab_type": "code",
        "colab": {}
      },
      "source": [
        "train_data = dataset[:7000]\n",
        "test_data = dataset[7000:]"
      ],
      "execution_count": 0,
      "outputs": []
    },
    {
      "cell_type": "code",
      "metadata": {
        "id": "AlPf24gn_I-P",
        "colab_type": "code",
        "colab": {}
      },
      "source": [
        "from nltk import classify\n",
        "from nltk import NaiveBayesClassifier\n",
        "\n",
        "classifier = NaiveBayesClassifier.train(train_data)"
      ],
      "execution_count": 0,
      "outputs": []
    },
    {
      "cell_type": "code",
      "metadata": {
        "id": "3IMFMyEM_SUy",
        "colab_type": "code",
        "colab": {
          "base_uri": "https://localhost:8080/",
          "height": 34
        },
        "outputId": "c7e64112-6b53-4c88-faf3-6913c6ca54fd"
      },
      "source": [
        "classify.accuracy(classifier, test_data)"
      ],
      "execution_count": 57,
      "outputs": [
        {
          "output_type": "execute_result",
          "data": {
            "text/plain": [
              "0.9976666666666667"
            ]
          },
          "metadata": {
            "tags": []
          },
          "execution_count": 57
        }
      ]
    },
    {
      "cell_type": "code",
      "metadata": {
        "id": "Ke0ZGd83Gj0D",
        "colab_type": "code",
        "colab": {
          "base_uri": "https://localhost:8080/",
          "height": 289
        },
        "outputId": "f0a428eb-e918-4a93-c019-5b15360fabc7"
      },
      "source": [
        "classifier.show_most_informative_features(15)"
      ],
      "execution_count": 59,
      "outputs": [
        {
          "output_type": "stream",
          "text": [
            "Most Informative Features\n",
            "                      :( = True           Negati : Positi =   2059.9 : 1.0\n",
            "                      :) = True           Positi : Negati =   1659.6 : 1.0\n",
            "                follower = True           Positi : Negati =     37.9 : 1.0\n",
            "                     sad = True           Negati : Positi =     20.6 : 1.0\n",
            "                     bam = True           Positi : Negati =     16.2 : 1.0\n",
            "                   enjoy = True           Positi : Negati =     15.4 : 1.0\n",
            "               goodnight = True           Positi : Negati =     14.2 : 1.0\n",
            "                  arrive = True           Positi : Negati =     13.4 : 1.0\n",
            "                    glad = True           Positi : Negati =     12.1 : 1.0\n",
            "                     ugh = True           Negati : Positi =     11.8 : 1.0\n",
            "                    damn = True           Negati : Positi =     11.8 : 1.0\n",
            "                followed = True           Negati : Positi =     11.4 : 1.0\n",
            "                 welcome = True           Positi : Negati =     11.3 : 1.0\n",
            "                congrats = True           Positi : Negati =     10.9 : 1.0\n",
            "                     bro = True           Positi : Negati =     10.9 : 1.0\n"
          ],
          "name": "stdout"
        }
      ]
    },
    {
      "cell_type": "code",
      "metadata": {
        "id": "p9Jaz-SGGq0Q",
        "colab_type": "code",
        "colab": {
          "base_uri": "https://localhost:8080/",
          "height": 34
        },
        "outputId": "230d4092-7d77-40ad-e38c-067947b88fbb"
      },
      "source": [
        "from nltk.tokenize import word_tokenize\n",
        "\n",
        "sample = 'It isn\\'t fair.'\n",
        "tokens = remove_stopwords(word_tokenize(sample))\n",
        "tokens"
      ],
      "execution_count": 64,
      "outputs": [
        {
          "output_type": "execute_result",
          "data": {
            "text/plain": [
              "['It', \"n't\", 'fair']"
            ]
          },
          "metadata": {
            "tags": []
          },
          "execution_count": 64
        }
      ]
    },
    {
      "cell_type": "code",
      "metadata": {
        "id": "c9VuvWcTHGPR",
        "colab_type": "code",
        "colab": {
          "base_uri": "https://localhost:8080/",
          "height": 34
        },
        "outputId": "401dd5a8-92ba-4a27-9fa5-5b71c83ff096"
      },
      "source": [
        "tokens_dict = dict([token, True] for token in tokens)\n",
        "tokens_dict"
      ],
      "execution_count": 66,
      "outputs": [
        {
          "output_type": "execute_result",
          "data": {
            "text/plain": [
              "{'It': True, 'fair': True, \"n't\": True}"
            ]
          },
          "metadata": {
            "tags": []
          },
          "execution_count": 66
        }
      ]
    },
    {
      "cell_type": "code",
      "metadata": {
        "id": "37gFjeHGHcxr",
        "colab_type": "code",
        "colab": {
          "base_uri": "https://localhost:8080/",
          "height": 34
        },
        "outputId": "4d60b22a-002b-467e-9720-2948cd7db4bb"
      },
      "source": [
        "classifier.classify(tokens_dict)"
      ],
      "execution_count": 68,
      "outputs": [
        {
          "output_type": "execute_result",
          "data": {
            "text/plain": [
              "'Negative'"
            ]
          },
          "metadata": {
            "tags": []
          },
          "execution_count": 68
        }
      ]
    },
    {
      "cell_type": "code",
      "metadata": {
        "id": "AuEq0PItHjyo",
        "colab_type": "code",
        "colab": {}
      },
      "source": [
        ""
      ],
      "execution_count": 0,
      "outputs": []
    }
  ]
}