{
  "nbformat": 4,
  "nbformat_minor": 0,
  "metadata": {
    "colab": {
      "name": "01_preprocessing.ipynb",
      "provenance": [],
      "include_colab_link": true
    },
    "kernelspec": {
      "name": "python3",
      "display_name": "Python 3"
    }
  },
  "cells": [
    {
      "cell_type": "markdown",
      "metadata": {
        "id": "view-in-github",
        "colab_type": "text"
      },
      "source": [
        "<a href=\"https://colab.research.google.com/github/krakowiakpawel9/ml_course/blob/master/nltk/01_intro.ipynb\" target=\"_parent\"><img src=\"https://colab.research.google.com/assets/colab-badge.svg\" alt=\"Open In Colab\"/></a>"
      ]
    },
    {
      "cell_type": "markdown",
      "metadata": {
        "id": "UbjsT92Xd3z1",
        "colab_type": "text"
      },
      "source": [
        "* @author: krakowiakpawel9@gmail.com  \n",
        "* @site: e-smartdata.org\n",
        "\n",
        "### nltk\n",
        "Strona biblioteki: [https://www.nltk.org/](https://www.nltk.org/)  \n",
        "\n",
        "Podstawowa biblioteka do przetwarzania języka naturalnego w języku Python.\n",
        "\n",
        "Aby zainstalować bibliotekę nltk, użyj polecenia poniżej:\n",
        "```\n",
        "!pip install nltk\n",
        "```\n",
        "Aby zaktualizować do najnowszej wersji użyj polecenia poniżej:\n",
        "```\n",
        "!pip install --upgrade nltk\n",
        "```\n",
        "Kurs stworzony w oparciu o wersję `3.2.5`\n",
        "\n",
        "### Spis treści:\n",
        "1. [Import bibliotek](#0)\n",
        "2. [Wygenerowanie danych](#1)\n",
        "\n"
      ]
    },
    {
      "cell_type": "markdown",
      "metadata": {
        "id": "YkIALacsUnj7",
        "colab_type": "text"
      },
      "source": [
        "### <a name='0'></a> Import bibliotek"
      ]
    },
    {
      "cell_type": "code",
      "metadata": {
        "id": "8AnF0TJrhVts",
        "colab_type": "code",
        "colab": {
          "base_uri": "https://localhost:8080/",
          "height": 34
        },
        "outputId": "d0961bd5-c5fd-4331-e7cd-cab7c7197304"
      },
      "source": [
        "import nltk\n",
        "nltk.__version__"
      ],
      "execution_count": 30,
      "outputs": [
        {
          "output_type": "execute_result",
          "data": {
            "text/plain": [
              "'3.2.5'"
            ]
          },
          "metadata": {
            "tags": []
          },
          "execution_count": 30
        }
      ]
    },
    {
      "cell_type": "markdown",
      "metadata": {
        "id": "Cn8EXHx4iiXF",
        "colab_type": "text"
      },
      "source": [
        "Token"
      ]
    },
    {
      "cell_type": "code",
      "metadata": {
        "id": "tcsUuBbeijV6",
        "colab_type": "code",
        "colab": {}
      },
      "source": [
        "text = 'Nancy wants to live a long time.'\n",
        "# token -> zdanie\n",
        "# token -> wyraz\n",
        "# token -> pojedynczy znak"
      ],
      "execution_count": 0,
      "outputs": []
    },
    {
      "cell_type": "code",
      "metadata": {
        "id": "Brq7rJpyhbMT",
        "colab_type": "code",
        "colab": {
          "base_uri": "https://localhost:8080/",
          "height": 54
        },
        "outputId": "0c7d5f2f-aea0-4ccb-d301-09a7b1585413"
      },
      "source": [
        "text = \"\"\"Nancy wants to live a long time. She wants to live for one hundred years. She is five years old now.\n",
        "She wants to live 95 more years. Then she will be 100. Her father is 30 years old.\n",
        "He wants to live a long time, too. He wants to live for one hundred years. He wants to live for 70 more years.\n",
        "\"Daddy, we will grow old together, okay?\" Nancy said to her father. \"Yes, honey, we will grow old together,\" he said to Nancy.\n",
        "Then Nancy smiled. She gave her daddy a big hug.\"\"\"\n",
        "\n",
        "text"
      ],
      "execution_count": 62,
      "outputs": [
        {
          "output_type": "execute_result",
          "data": {
            "text/plain": [
              "'Nancy wants to live a long time. She wants to live for one hundred years. She is five years old now.\\nShe wants to live 95 more years. Then she will be 100. Her father is 30 years old.\\nHe wants to live a long time, too. He wants to live for one hundred years. He wants to live for 70 more years.\\n\"Daddy, we will grow old together, okay?\" Nancy said to her father. \"Yes, honey, we will grow old together,\" he said to Nancy.\\nThen Nancy smiled. She gave her daddy a big hug.'"
            ]
          },
          "metadata": {
            "tags": []
          },
          "execution_count": 62
        }
      ]
    },
    {
      "cell_type": "code",
      "metadata": {
        "id": "mBnrX3dRkAiD",
        "colab_type": "code",
        "colab": {
          "base_uri": "https://localhost:8080/",
          "height": 102
        },
        "outputId": "e3bd427f-c06d-486e-fd1d-66573e9de723"
      },
      "source": [
        "print(text)"
      ],
      "execution_count": 63,
      "outputs": [
        {
          "output_type": "stream",
          "text": [
            "Nancy wants to live a long time. She wants to live for one hundred years. She is five years old now.\n",
            "She wants to live 95 more years. Then she will be 100. Her father is 30 years old.\n",
            "He wants to live a long time, too. He wants to live for one hundred years. He wants to live for 70 more years.\n",
            "\"Daddy, we will grow old together, okay?\" Nancy said to her father. \"Yes, honey, we will grow old together,\" he said to Nancy.\n",
            "Then Nancy smiled. She gave her daddy a big hug.\n"
          ],
          "name": "stdout"
        }
      ]
    },
    {
      "cell_type": "markdown",
      "metadata": {
        "id": "qWUS0vICi32Q",
        "colab_type": "text"
      },
      "source": [
        "Tokenizacja zdań"
      ]
    },
    {
      "cell_type": "code",
      "metadata": {
        "id": "FDt26SK2h6ai",
        "colab_type": "code",
        "colab": {
          "base_uri": "https://localhost:8080/",
          "height": 255
        },
        "outputId": "ac6cf810-e926-4fc9-9dbe-1b681bb01944"
      },
      "source": [
        "from nltk.tokenize import sent_tokenize\n",
        "\n",
        "sent_tokenize(text)"
      ],
      "execution_count": 64,
      "outputs": [
        {
          "output_type": "execute_result",
          "data": {
            "text/plain": [
              "['Nancy wants to live a long time.',\n",
              " 'She wants to live for one hundred years.',\n",
              " 'She is five years old now.',\n",
              " 'She wants to live 95 more years.',\n",
              " 'Then she will be 100.',\n",
              " 'Her father is 30 years old.',\n",
              " 'He wants to live a long time, too.',\n",
              " 'He wants to live for one hundred years.',\n",
              " 'He wants to live for 70 more years.',\n",
              " '\"Daddy, we will grow old together, okay?\"',\n",
              " 'Nancy said to her father.',\n",
              " '\"Yes, honey, we will grow old together,\" he said to Nancy.',\n",
              " 'Then Nancy smiled.',\n",
              " 'She gave her daddy a big hug.']"
            ]
          },
          "metadata": {
            "tags": []
          },
          "execution_count": 64
        }
      ]
    },
    {
      "cell_type": "markdown",
      "metadata": {
        "id": "KLJCgVxRi_4n",
        "colab_type": "text"
      },
      "source": [
        "Tokenizacja słów"
      ]
    },
    {
      "cell_type": "code",
      "metadata": {
        "id": "PH9-t3RfiYAt",
        "colab_type": "code",
        "colab": {
          "base_uri": "https://localhost:8080/",
          "height": 1000
        },
        "outputId": "53f2929a-6385-4a5d-af29-ce7fe4843109"
      },
      "source": [
        "from nltk.tokenize import word_tokenize\n",
        "\n",
        "tokenized_text = word_tokenize(text)\n",
        "tokenized_text"
      ],
      "execution_count": 65,
      "outputs": [
        {
          "output_type": "execute_result",
          "data": {
            "text/plain": [
              "['Nancy',\n",
              " 'wants',\n",
              " 'to',\n",
              " 'live',\n",
              " 'a',\n",
              " 'long',\n",
              " 'time',\n",
              " '.',\n",
              " 'She',\n",
              " 'wants',\n",
              " 'to',\n",
              " 'live',\n",
              " 'for',\n",
              " 'one',\n",
              " 'hundred',\n",
              " 'years',\n",
              " '.',\n",
              " 'She',\n",
              " 'is',\n",
              " 'five',\n",
              " 'years',\n",
              " 'old',\n",
              " 'now',\n",
              " '.',\n",
              " 'She',\n",
              " 'wants',\n",
              " 'to',\n",
              " 'live',\n",
              " '95',\n",
              " 'more',\n",
              " 'years',\n",
              " '.',\n",
              " 'Then',\n",
              " 'she',\n",
              " 'will',\n",
              " 'be',\n",
              " '100',\n",
              " '.',\n",
              " 'Her',\n",
              " 'father',\n",
              " 'is',\n",
              " '30',\n",
              " 'years',\n",
              " 'old',\n",
              " '.',\n",
              " 'He',\n",
              " 'wants',\n",
              " 'to',\n",
              " 'live',\n",
              " 'a',\n",
              " 'long',\n",
              " 'time',\n",
              " ',',\n",
              " 'too',\n",
              " '.',\n",
              " 'He',\n",
              " 'wants',\n",
              " 'to',\n",
              " 'live',\n",
              " 'for',\n",
              " 'one',\n",
              " 'hundred',\n",
              " 'years',\n",
              " '.',\n",
              " 'He',\n",
              " 'wants',\n",
              " 'to',\n",
              " 'live',\n",
              " 'for',\n",
              " '70',\n",
              " 'more',\n",
              " 'years',\n",
              " '.',\n",
              " '``',\n",
              " 'Daddy',\n",
              " ',',\n",
              " 'we',\n",
              " 'will',\n",
              " 'grow',\n",
              " 'old',\n",
              " 'together',\n",
              " ',',\n",
              " 'okay',\n",
              " '?',\n",
              " \"''\",\n",
              " 'Nancy',\n",
              " 'said',\n",
              " 'to',\n",
              " 'her',\n",
              " 'father',\n",
              " '.',\n",
              " '``',\n",
              " 'Yes',\n",
              " ',',\n",
              " 'honey',\n",
              " ',',\n",
              " 'we',\n",
              " 'will',\n",
              " 'grow',\n",
              " 'old',\n",
              " 'together',\n",
              " ',',\n",
              " \"''\",\n",
              " 'he',\n",
              " 'said',\n",
              " 'to',\n",
              " 'Nancy',\n",
              " '.',\n",
              " 'Then',\n",
              " 'Nancy',\n",
              " 'smiled',\n",
              " '.',\n",
              " 'She',\n",
              " 'gave',\n",
              " 'her',\n",
              " 'daddy',\n",
              " 'a',\n",
              " 'big',\n",
              " 'hug',\n",
              " '.']"
            ]
          },
          "metadata": {
            "tags": []
          },
          "execution_count": 65
        }
      ]
    },
    {
      "cell_type": "code",
      "metadata": {
        "id": "6fPze01Uidq8",
        "colab_type": "code",
        "colab": {
          "base_uri": "https://localhost:8080/",
          "height": 850
        },
        "outputId": "ead60ba8-8ed3-403a-f0f4-27d59303ced7"
      },
      "source": [
        "from nltk.probability import FreqDist\n",
        "\n",
        "frequencies = FreqDist(tokenized_text)\n",
        "frequencies"
      ],
      "execution_count": 66,
      "outputs": [
        {
          "output_type": "execute_result",
          "data": {
            "text/plain": [
              "FreqDist({\"''\": 2,\n",
              "          ',': 6,\n",
              "          '.': 13,\n",
              "          '100': 1,\n",
              "          '30': 1,\n",
              "          '70': 1,\n",
              "          '95': 1,\n",
              "          '?': 1,\n",
              "          'Daddy': 1,\n",
              "          'He': 3,\n",
              "          'Her': 1,\n",
              "          'Nancy': 4,\n",
              "          'She': 4,\n",
              "          'Then': 2,\n",
              "          'Yes': 1,\n",
              "          '``': 2,\n",
              "          'a': 3,\n",
              "          'be': 1,\n",
              "          'big': 1,\n",
              "          'daddy': 1,\n",
              "          'father': 2,\n",
              "          'five': 1,\n",
              "          'for': 3,\n",
              "          'gave': 1,\n",
              "          'grow': 2,\n",
              "          'he': 1,\n",
              "          'her': 2,\n",
              "          'honey': 1,\n",
              "          'hug': 1,\n",
              "          'hundred': 2,\n",
              "          'is': 2,\n",
              "          'live': 6,\n",
              "          'long': 2,\n",
              "          'more': 2,\n",
              "          'now': 1,\n",
              "          'okay': 1,\n",
              "          'old': 4,\n",
              "          'one': 2,\n",
              "          'said': 2,\n",
              "          'she': 1,\n",
              "          'smiled': 1,\n",
              "          'time': 2,\n",
              "          'to': 8,\n",
              "          'together': 2,\n",
              "          'too': 1,\n",
              "          'wants': 6,\n",
              "          'we': 2,\n",
              "          'will': 3,\n",
              "          'years': 6})"
            ]
          },
          "metadata": {
            "tags": []
          },
          "execution_count": 66
        }
      ]
    },
    {
      "cell_type": "code",
      "metadata": {
        "id": "IeD3BszqjYT9",
        "colab_type": "code",
        "colab": {
          "base_uri": "https://localhost:8080/",
          "height": 187
        },
        "outputId": "a810f62e-1228-4df9-d13e-56724095312a"
      },
      "source": [
        "frequencies.most_common(10)"
      ],
      "execution_count": 68,
      "outputs": [
        {
          "output_type": "execute_result",
          "data": {
            "text/plain": [
              "[('.', 13),\n",
              " ('to', 8),\n",
              " ('wants', 6),\n",
              " ('live', 6),\n",
              " ('years', 6),\n",
              " (',', 6),\n",
              " ('Nancy', 4),\n",
              " ('She', 4),\n",
              " ('old', 4),\n",
              " ('a', 3)]"
            ]
          },
          "metadata": {
            "tags": []
          },
          "execution_count": 68
        }
      ]
    },
    {
      "cell_type": "code",
      "metadata": {
        "id": "KGcYrzyIkNk9",
        "colab_type": "code",
        "colab": {
          "base_uri": "https://localhost:8080/",
          "height": 323
        },
        "outputId": "6d845e20-ae7b-4bac-f5d0-fc191268772b"
      },
      "source": [
        "# import matplotlib.pyplot as plt\n",
        "import seaborn as sns\n",
        "sns.set()\n",
        "\n",
        "frequencies.plot(30, cumulative=False)"
      ],
      "execution_count": 69,
      "outputs": [
        {
          "output_type": "display_data",
          "data": {
            "image/png": "[encoded data removed]",
            "text/plain": [
              "<Figure size 432x288 with 1 Axes>"
            ]
          },
          "metadata": {
            "tags": []
          }
        }
      ]
    },
    {
      "cell_type": "code",
      "metadata": {
        "id": "0v-GrlfdkYn-",
        "colab_type": "code",
        "colab": {
          "base_uri": "https://localhost:8080/",
          "height": 323
        },
        "outputId": "b4a3c997-ff7f-4d2d-a0db-ac015f60fc22"
      },
      "source": [
        "frequencies.plot(30, cumulative=True)"
      ],
      "execution_count": 70,
      "outputs": [
        {
          "output_type": "display_data",
          "data": {
            "image/png": "[encoded data removed]",
            "text/plain": [
              "<Figure size 432x288 with 1 Axes>"
            ]
          },
          "metadata": {
            "tags": []
          }
        }
      ]
    },
    {
      "cell_type": "code",
      "metadata": {
        "id": "RNs3_cG-kgR4",
        "colab_type": "code",
        "colab": {
          "base_uri": "https://localhost:8080/",
          "height": 527
        },
        "outputId": "64ce50b0-617f-43ce-881d-ff40ed65db99"
      },
      "source": [
        "from nltk.corpus import stopwords\n",
        "\n",
        "stop_words = stopwords.words('english')\n",
        "stop_words[:30]"
      ],
      "execution_count": 73,
      "outputs": [
        {
          "output_type": "execute_result",
          "data": {
            "text/plain": [
              "['i',\n",
              " 'me',\n",
              " 'my',\n",
              " 'myself',\n",
              " 'we',\n",
              " 'our',\n",
              " 'ours',\n",
              " 'ourselves',\n",
              " 'you',\n",
              " \"you're\",\n",
              " \"you've\",\n",
              " \"you'll\",\n",
              " \"you'd\",\n",
              " 'your',\n",
              " 'yours',\n",
              " 'yourself',\n",
              " 'yourselves',\n",
              " 'he',\n",
              " 'him',\n",
              " 'his',\n",
              " 'himself',\n",
              " 'she',\n",
              " \"she's\",\n",
              " 'her',\n",
              " 'hers',\n",
              " 'herself',\n",
              " 'it',\n",
              " \"it's\",\n",
              " 'its',\n",
              " 'itself']"
            ]
          },
          "metadata": {
            "tags": []
          },
          "execution_count": 73
        }
      ]
    },
    {
      "cell_type": "code",
      "metadata": {
        "id": "JIWQlDFGkq9b",
        "colab_type": "code",
        "colab": {
          "base_uri": "https://localhost:8080/",
          "height": 71
        },
        "outputId": "77078e1c-2d1d-417a-be70-afee9e1cfdb2"
      },
      "source": [
        "filtered_text = []\n",
        "for token in tokenized_text:\n",
        "    if token not in stop_words:\n",
        "        filtered_text.append(token)\n",
        "\n",
        "print(tokenized_text)\n",
        "print(filtered_text)"
      ],
      "execution_count": 74,
      "outputs": [
        {
          "output_type": "stream",
          "text": [
            "['Nancy', 'wants', 'to', 'live', 'a', 'long', 'time', '.', 'She', 'wants', 'to', 'live', 'for', 'one', 'hundred', 'years', '.', 'She', 'is', 'five', 'years', 'old', 'now', '.', 'She', 'wants', 'to', 'live', '95', 'more', 'years', '.', 'Then', 'she', 'will', 'be', '100', '.', 'Her', 'father', 'is', '30', 'years', 'old', '.', 'He', 'wants', 'to', 'live', 'a', 'long', 'time', ',', 'too', '.', 'He', 'wants', 'to', 'live', 'for', 'one', 'hundred', 'years', '.', 'He', 'wants', 'to', 'live', 'for', '70', 'more', 'years', '.', '``', 'Daddy', ',', 'we', 'will', 'grow', 'old', 'together', ',', 'okay', '?', \"''\", 'Nancy', 'said', 'to', 'her', 'father', '.', '``', 'Yes', ',', 'honey', ',', 'we', 'will', 'grow', 'old', 'together', ',', \"''\", 'he', 'said', 'to', 'Nancy', '.', 'Then', 'Nancy', 'smiled', '.', 'She', 'gave', 'her', 'daddy', 'a', 'big', 'hug', '.']\n",
            "['Nancy', 'wants', 'live', 'long', 'time', '.', 'She', 'wants', 'live', 'one', 'hundred', 'years', '.', 'She', 'five', 'years', 'old', '.', 'She', 'wants', 'live', '95', 'years', '.', 'Then', '100', '.', 'Her', 'father', '30', 'years', 'old', '.', 'He', 'wants', 'live', 'long', 'time', ',', '.', 'He', 'wants', 'live', 'one', 'hundred', 'years', '.', 'He', 'wants', 'live', '70', 'years', '.', '``', 'Daddy', ',', 'grow', 'old', 'together', ',', 'okay', '?', \"''\", 'Nancy', 'said', 'father', '.', '``', 'Yes', ',', 'honey', ',', 'grow', 'old', 'together', ',', \"''\", 'said', 'Nancy', '.', 'Then', 'Nancy', 'smiled', '.', 'She', 'gave', 'daddy', 'big', 'hug', '.']\n"
          ],
          "name": "stdout"
        }
      ]
    },
    {
      "cell_type": "markdown",
      "metadata": {
        "id": "6EfmsmcwmUfJ",
        "colab_type": "text"
      },
      "source": [
        "Normalizacja tekstu"
      ]
    },
    {
      "cell_type": "code",
      "metadata": {
        "id": "AYsWOFCUmLPb",
        "colab_type": "code",
        "colab": {
          "base_uri": "https://localhost:8080/",
          "height": 54
        },
        "outputId": "c3e0f322-e601-4419-9ae0-80718aca9e0b"
      },
      "source": [
        "from nltk.stem import PorterStemmer\n",
        "\n",
        "stemmer = PorterStemmer()\n",
        "\n",
        "stemmed_text = []\n",
        "for token in filtered_text:\n",
        "    stemmed_text.append(stemmer.stem(token))\n",
        "\n",
        "print(stemmed_text)"
      ],
      "execution_count": 78,
      "outputs": [
        {
          "output_type": "stream",
          "text": [
            "['nanci', 'want', 'live', 'long', 'time', '.', 'she', 'want', 'live', 'one', 'hundr', 'year', '.', 'she', 'five', 'year', 'old', '.', 'she', 'want', 'live', '95', 'year', '.', 'then', '100', '.', 'her', 'father', '30', 'year', 'old', '.', 'He', 'want', 'live', 'long', 'time', ',', '.', 'He', 'want', 'live', 'one', 'hundr', 'year', '.', 'He', 'want', 'live', '70', 'year', '.', '``', 'daddi', ',', 'grow', 'old', 'togeth', ',', 'okay', '?', \"''\", 'nanci', 'said', 'father', '.', '``', 'ye', ',', 'honey', ',', 'grow', 'old', 'togeth', ',', \"''\", 'said', 'nanci', '.', 'then', 'nanci', 'smile', '.', 'she', 'gave', 'daddi', 'big', 'hug', '.']\n"
          ],
          "name": "stdout"
        }
      ]
    },
    {
      "cell_type": "code",
      "metadata": {
        "id": "vZbsecWemqhI",
        "colab_type": "code",
        "colab": {
          "base_uri": "https://localhost:8080/",
          "height": 51
        },
        "outputId": "f6dc4a82-821a-43f9-fc8e-c04d4950ed79"
      },
      "source": [
        "print(f'filtered_text: {len(set(filtered_text))}')\n",
        "print(f'stemmed_text: {len(set(stemmed_text))}')"
      ],
      "execution_count": 82,
      "outputs": [
        {
          "output_type": "stream",
          "text": [
            "filtered_text: 36\n",
            "stemmed_text: 35\n"
          ],
          "name": "stdout"
        }
      ]
    },
    {
      "cell_type": "code",
      "metadata": {
        "id": "5vAkYeu3m4j1",
        "colab_type": "code",
        "colab": {
          "base_uri": "https://localhost:8080/",
          "height": 54
        },
        "outputId": "2cca8c18-5ca2-4009-eace-0242a0d5b4d2"
      },
      "source": [
        "from nltk.stem.wordnet import WordNetLemmatizer\n",
        "\n",
        "lemmatizer = WordNetLemmatizer()\n",
        "\n",
        "lemmatized_text = []\n",
        "for token in filtered_text:\n",
        "    lemmatized_text.append(lemmatizer.lemmatize(token))\n",
        "\n",
        "print(lemmatized_text)"
      ],
      "execution_count": 84,
      "outputs": [
        {
          "output_type": "stream",
          "text": [
            "['Nancy', 'want', 'live', 'long', 'time', '.', 'She', 'want', 'live', 'one', 'hundred', 'year', '.', 'She', 'five', 'year', 'old', '.', 'She', 'want', 'live', '95', 'year', '.', 'Then', '100', '.', 'Her', 'father', '30', 'year', 'old', '.', 'He', 'want', 'live', 'long', 'time', ',', '.', 'He', 'want', 'live', 'one', 'hundred', 'year', '.', 'He', 'want', 'live', '70', 'year', '.', '``', 'Daddy', ',', 'grow', 'old', 'together', ',', 'okay', '?', \"''\", 'Nancy', 'said', 'father', '.', '``', 'Yes', ',', 'honey', ',', 'grow', 'old', 'together', ',', \"''\", 'said', 'Nancy', '.', 'Then', 'Nancy', 'smiled', '.', 'She', 'gave', 'daddy', 'big', 'hug', '.']\n"
          ],
          "name": "stdout"
        }
      ]
    },
    {
      "cell_type": "code",
      "metadata": {
        "id": "zXwwVPPVrc-p",
        "colab_type": "code",
        "colab": {
          "base_uri": "https://localhost:8080/",
          "height": 68
        },
        "outputId": "d2cd6b95-5d83-420b-812e-95fc31bf5736"
      },
      "source": [
        "print(f'filtered_text: {len(set(filtered_text))}')\n",
        "print(f'stemmed_text: {len(set(stemmed_text))}')\n",
        "print(f'lemmatized_text: {len(set(lemmatized_text))}')"
      ],
      "execution_count": 85,
      "outputs": [
        {
          "output_type": "stream",
          "text": [
            "filtered_text: 36\n",
            "stemmed_text: 35\n",
            "lemmatized_text: 36\n"
          ],
          "name": "stdout"
        }
      ]
    },
    {
      "cell_type": "code",
      "metadata": {
        "id": "iGQ_H_USuCtz",
        "colab_type": "code",
        "colab": {
          "base_uri": "https://localhost:8080/",
          "height": 85
        },
        "outputId": "eebcadc0-9b48-4782-cb8f-968cae082d20"
      },
      "source": [
        "for word in ['play', 'plays', 'playing', 'played']:\n",
        "    print(f'{word.ljust(8)}:{stemmer.stem(word).ljust(5)}:{lemmatizer.lemmatize(word)}')"
      ],
      "execution_count": 103,
      "outputs": [
        {
          "output_type": "stream",
          "text": [
            "play    :play :play\n",
            "plays   :play :play\n",
            "playing :play :playing\n",
            "played  :play :played\n"
          ],
          "name": "stdout"
        }
      ]
    },
    {
      "cell_type": "code",
      "metadata": {
        "id": "_WunV5DfvDxZ",
        "colab_type": "code",
        "colab": {
          "base_uri": "https://localhost:8080/",
          "height": 85
        },
        "outputId": "209b3c3f-aa08-4bca-d798-6ee9569ca3d3"
      },
      "source": [
        "for word in ['book', 'books', 'booking', 'booked']:\n",
        "    print(f'{word.ljust(8)}:{stemmer.stem(word).ljust(5)}:{lemmatizer.lemmatize(word)}')"
      ],
      "execution_count": 104,
      "outputs": [
        {
          "output_type": "stream",
          "text": [
            "book    :book :book\n",
            "books   :book :book\n",
            "booking :book :booking\n",
            "booked  :book :booked\n"
          ],
          "name": "stdout"
        }
      ]
    },
    {
      "cell_type": "markdown",
      "metadata": {
        "id": "hKV3G3gNrp3g",
        "colab_type": "text"
      },
      "source": [
        "POS - Part of Speech"
      ]
    },
    {
      "cell_type": "code",
      "metadata": {
        "id": "Fs5RGooqrjty",
        "colab_type": "code",
        "colab": {
          "base_uri": "https://localhost:8080/",
          "height": 187
        },
        "outputId": "dbbb8e93-5680-4cd6-8eb9-905e6fbc6467"
      },
      "source": [
        "from nltk import pos_tag\n",
        "\n",
        "pos_tag(tokenized_text[:10])"
      ],
      "execution_count": 88,
      "outputs": [
        {
          "output_type": "execute_result",
          "data": {
            "text/plain": [
              "[('Nancy', 'NN'),\n",
              " ('wants', 'VBZ'),\n",
              " ('to', 'TO'),\n",
              " ('live', 'VB'),\n",
              " ('a', 'DT'),\n",
              " ('long', 'JJ'),\n",
              " ('time', 'NN'),\n",
              " ('.', '.'),\n",
              " ('She', 'PRP'),\n",
              " ('wants', 'VBZ')]"
            ]
          },
          "metadata": {
            "tags": []
          },
          "execution_count": 88
        }
      ]
    },
    {
      "cell_type": "code",
      "metadata": {
        "id": "NBdZRR-6ryIz",
        "colab_type": "code",
        "colab": {}
      },
      "source": [
        ""
      ],
      "execution_count": 0,
      "outputs": []
    }
  ]
}