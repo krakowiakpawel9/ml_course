{
  "nbformat": 4,
  "nbformat_minor": 0,
  "metadata": {
    "colab": {
      "name": "Copy of 01_regex.ipynb",
      "provenance": [],
      "include_colab_link": true
    },
    "kernelspec": {
      "name": "python3",
      "display_name": "Python 3"
    }
  },
  "cells": [
    {
      "cell_type": "markdown",
      "metadata": {
        "id": "view-in-github",
        "colab_type": "text"
      },
      "source": [
        "<a href=\"https://colab.research.google.com/github/krakowiakpawel9/ml_course/blob/master/raw/01_regex.ipynb\" target=\"_parent\"><img src=\"https://colab.research.google.com/assets/colab-badge.svg\" alt=\"Open In Colab\"/></a>"
      ]
    },
    {
      "cell_type": "markdown",
      "metadata": {
        "id": "UbjsT92Xd3z1",
        "colab_type": "text"
      },
      "source": [
        "* @author: krakowiakpawel9@gmail.com  \n",
        "* @site: e-smartdata.org\n",
        "\n",
        "### Regex\n",
        "Strona biblioteki: [https://docs.python.org/3/library/re.html](https://docs.python.org/3/library/re.html)  \n",
        "\n",
        "Podstawowa biblioteka do wyrażeń regularnych w języku Python.\n",
        "\n",
        "### Spis treści:\n",
        "1. [Import bibliotek](#0)\n",
        "2. [Wygenerowanie danych](#1)\n",
        "\n"
      ]
    },
    {
      "cell_type": "markdown",
      "metadata": {
        "id": "YkIALacsUnj7",
        "colab_type": "text"
      },
      "source": [
        "### <a name='0'></a> Import bibliotek"
      ]
    },
    {
      "cell_type": "code",
      "metadata": {
        "id": "0xkyJJtkn2Xl",
        "colab_type": "code",
        "outputId": "ac0556e1-1dd7-4346-8f32-92601b0200f9",
        "colab": {
          "base_uri": "https://localhost:8080/",
          "height": 35
        }
      },
      "source": [
        "import re\n",
        "re.__version__"
      ],
      "execution_count": 1,
      "outputs": [
        {
          "output_type": "execute_result",
          "data": {
            "text/plain": [
              "'2.2.1'"
            ]
          },
          "metadata": {
            "tags": []
          },
          "execution_count": 1
        }
      ]
    },
    {
      "cell_type": "markdown",
      "metadata": {
        "id": "A1R4rzU0sYOO",
        "colab_type": "text"
      },
      "source": [
        "re.match"
      ]
    },
    {
      "cell_type": "code",
      "metadata": {
        "id": "ldrqkBRnn4vy",
        "colab_type": "code",
        "outputId": "a0db8b33-cc76-4c7c-d417-9defd1fa05f2",
        "colab": {
          "base_uri": "https://localhost:8080/",
          "height": 35
        }
      },
      "source": [
        "pattern = r\"Py\"  # surowy ciąg znaków\n",
        "text = \"Python\"\n",
        "\n",
        "re.match(pattern, text)"
      ],
      "execution_count": 2,
      "outputs": [
        {
          "output_type": "execute_result",
          "data": {
            "text/plain": [
              "<_sre.SRE_Match object; span=(0, 2), match='Py'>"
            ]
          },
          "metadata": {
            "tags": []
          },
          "execution_count": 2
        }
      ]
    },
    {
      "cell_type": "code",
      "metadata": {
        "id": "Xj5ky3KdoFYg",
        "colab_type": "code",
        "colab": {}
      },
      "source": [
        "pattern = r\"Pyy\"\n",
        "text = \"Python\"\n",
        "\n",
        "re.match(pattern, text)"
      ],
      "execution_count": 0,
      "outputs": []
    },
    {
      "cell_type": "code",
      "metadata": {
        "id": "C1sgjuMqp2lU",
        "colab_type": "code",
        "outputId": "c0cffb4d-a039-4867-950b-48f81e4411bd",
        "colab": {
          "base_uri": "https://localhost:8080/",
          "height": 72
        }
      },
      "source": [
        "pattern = \"\\notebooks\"\n",
        "text = \"\\\\notebooks\\\\data\\\\new\"\n",
        "\n",
        "print(pattern)\n",
        "print(text)"
      ],
      "execution_count": 4,
      "outputs": [
        {
          "output_type": "stream",
          "text": [
            "\n",
            "otebooks\n",
            "\\notebooks\\data\\new\n"
          ],
          "name": "stdout"
        }
      ]
    },
    {
      "cell_type": "markdown",
      "metadata": {
        "id": "aK0fmA3osZ8N",
        "colab_type": "text"
      },
      "source": [
        "re.search"
      ]
    },
    {
      "cell_type": "code",
      "metadata": {
        "id": "NZxZloMQssBW",
        "colab_type": "code",
        "colab": {}
      },
      "source": [
        "re.match(r\"th\", \"Python\")"
      ],
      "execution_count": 0,
      "outputs": []
    },
    {
      "cell_type": "code",
      "metadata": {
        "id": "FVBy6LCusw13",
        "colab_type": "code",
        "outputId": "18a0e3c7-9ad0-43a5-d2c5-a21ae6091681",
        "colab": {
          "base_uri": "https://localhost:8080/",
          "height": 35
        }
      },
      "source": [
        "re.search(r\"th\", \"Python\")"
      ],
      "execution_count": 6,
      "outputs": [
        {
          "output_type": "execute_result",
          "data": {
            "text/plain": [
              "<_sre.SRE_Match object; span=(2, 4), match='th'>"
            ]
          },
          "metadata": {
            "tags": []
          },
          "execution_count": 6
        }
      ]
    },
    {
      "cell_type": "code",
      "metadata": {
        "id": "Iv01bmrMo58k",
        "colab_type": "code",
        "outputId": "855155e5-45c7-4df7-87b3-ed547b7a06ed",
        "colab": {
          "base_uri": "https://localhost:8080/",
          "height": 35
        }
      },
      "source": [
        "re.search(r\"P\", \"Python\")"
      ],
      "execution_count": 7,
      "outputs": [
        {
          "output_type": "execute_result",
          "data": {
            "text/plain": [
              "<_sre.SRE_Match object; span=(0, 1), match='P'>"
            ]
          },
          "metadata": {
            "tags": []
          },
          "execution_count": 7
        }
      ]
    },
    {
      "cell_type": "code",
      "metadata": {
        "id": "C9cJD280snGQ",
        "colab_type": "code",
        "outputId": "05ccc602-0256-485e-b9bd-47f00d6e7dd4",
        "colab": {
          "base_uri": "https://localhost:8080/",
          "height": 35
        }
      },
      "source": [
        "re.search(r\"P\", \"Python\").group()"
      ],
      "execution_count": 8,
      "outputs": [
        {
          "output_type": "execute_result",
          "data": {
            "text/plain": [
              "'P'"
            ]
          },
          "metadata": {
            "tags": []
          },
          "execution_count": 8
        }
      ]
    },
    {
      "cell_type": "code",
      "metadata": {
        "id": "3rDvcOEYs3BV",
        "colab_type": "code",
        "outputId": "83eb9f67-2caa-418b-dc02-706c4b941ee6",
        "colab": {
          "base_uri": "https://localhost:8080/",
          "height": 35
        }
      },
      "source": [
        "# \\w - dopasowuje dowolną literę, cyfrę lub podkreślnik\n",
        "re.search(r\"Py\\w\", \"Python\")"
      ],
      "execution_count": 9,
      "outputs": [
        {
          "output_type": "execute_result",
          "data": {
            "text/plain": [
              "<_sre.SRE_Match object; span=(0, 3), match='Pyt'>"
            ]
          },
          "metadata": {
            "tags": []
          },
          "execution_count": 9
        }
      ]
    },
    {
      "cell_type": "code",
      "metadata": {
        "id": "JmTP2Xf3tJkV",
        "colab_type": "code",
        "outputId": "1b817a91-18d0-4b54-fb98-92bd6aa193d3",
        "colab": {
          "base_uri": "https://localhost:8080/",
          "height": 35
        }
      },
      "source": [
        "re.search(r\"Py\\who\\w\", \"Python\")"
      ],
      "execution_count": 10,
      "outputs": [
        {
          "output_type": "execute_result",
          "data": {
            "text/plain": [
              "<_sre.SRE_Match object; span=(0, 6), match='Python'>"
            ]
          },
          "metadata": {
            "tags": []
          },
          "execution_count": 10
        }
      ]
    },
    {
      "cell_type": "code",
      "metadata": {
        "id": "ofO7isuetOMr",
        "colab_type": "code",
        "outputId": "227311a6-b34a-45ba-8308-59bbc698c8c7",
        "colab": {
          "base_uri": "https://localhost:8080/",
          "height": 35
        }
      },
      "source": [
        "re.search(r\"\\w\\w\\w.py\", \"new.py\")"
      ],
      "execution_count": 11,
      "outputs": [
        {
          "output_type": "execute_result",
          "data": {
            "text/plain": [
              "<_sre.SRE_Match object; span=(0, 6), match='new.py'>"
            ]
          },
          "metadata": {
            "tags": []
          },
          "execution_count": 11
        }
      ]
    },
    {
      "cell_type": "code",
      "metadata": {
        "id": "TcBirn_IteKI",
        "colab_type": "code",
        "outputId": "90df076e-165f-4248-df64-a48de817b79a",
        "colab": {
          "base_uri": "https://localhost:8080/",
          "height": 35
        }
      },
      "source": [
        "re.search(r\"\\w+.py\", \"new.py\")"
      ],
      "execution_count": 12,
      "outputs": [
        {
          "output_type": "execute_result",
          "data": {
            "text/plain": [
              "<_sre.SRE_Match object; span=(0, 6), match='new.py'>"
            ]
          },
          "metadata": {
            "tags": []
          },
          "execution_count": 12
        }
      ]
    },
    {
      "cell_type": "code",
      "metadata": {
        "id": "VBtxM4zutgc1",
        "colab_type": "code",
        "outputId": "1aa0c9ed-5190-4705-963b-da9478581faf",
        "colab": {
          "base_uri": "https://localhost:8080/",
          "height": 35
        }
      },
      "source": [
        "re.search(r\"\\w3\", \"Python_3\")"
      ],
      "execution_count": 13,
      "outputs": [
        {
          "output_type": "execute_result",
          "data": {
            "text/plain": [
              "<_sre.SRE_Match object; span=(6, 8), match='_3'>"
            ]
          },
          "metadata": {
            "tags": []
          },
          "execution_count": 13
        }
      ]
    },
    {
      "cell_type": "code",
      "metadata": {
        "id": "hu6XR-HxtoE0",
        "colab_type": "code",
        "outputId": "3dd6606a-5ef3-41f0-b41d-a9eb0e88acbc",
        "colab": {
          "base_uri": "https://localhost:8080/",
          "height": 35
        }
      },
      "source": [
        "re.search(r\"_\\w\", \"Python_3\")"
      ],
      "execution_count": 14,
      "outputs": [
        {
          "output_type": "execute_result",
          "data": {
            "text/plain": [
              "<_sre.SRE_Match object; span=(6, 8), match='_3'>"
            ]
          },
          "metadata": {
            "tags": []
          },
          "execution_count": 14
        }
      ]
    },
    {
      "cell_type": "code",
      "metadata": {
        "id": "IVcSiMhdt58x",
        "colab_type": "code",
        "colab": {}
      },
      "source": [
        "# \\W - dopasowuje dowolny znak nie będący częścią \\w\n",
        "re.search(r\"Pyth\\Wn\", \"Python\")"
      ],
      "execution_count": 0,
      "outputs": []
    },
    {
      "cell_type": "code",
      "metadata": {
        "id": "SBS2ErvduMYE",
        "colab_type": "code",
        "outputId": "ac0d27ef-8baa-42b2-9314-25e6224856cf",
        "colab": {
          "base_uri": "https://localhost:8080/",
          "height": 35
        }
      },
      "source": [
        "re.search(r\"Pyth\\Wn\", \"Pyth@n\")"
      ],
      "execution_count": 16,
      "outputs": [
        {
          "output_type": "execute_result",
          "data": {
            "text/plain": [
              "<_sre.SRE_Match object; span=(0, 6), match='Pyth@n'>"
            ]
          },
          "metadata": {
            "tags": []
          },
          "execution_count": 16
        }
      ]
    },
    {
      "cell_type": "code",
      "metadata": {
        "id": "tlOhwSg3uQAR",
        "colab_type": "code",
        "outputId": "968517f5-cb89-442f-ef0a-1472b916de39",
        "colab": {
          "base_uri": "https://localhost:8080/",
          "height": 35
        }
      },
      "source": [
        "# \\s - dopasowuje spację, znak nowej linii, tabulator\n",
        "re.search(r\"Python\\s3\", \"Python 3\")"
      ],
      "execution_count": 17,
      "outputs": [
        {
          "output_type": "execute_result",
          "data": {
            "text/plain": [
              "<_sre.SRE_Match object; span=(0, 8), match='Python 3'>"
            ]
          },
          "metadata": {
            "tags": []
          },
          "execution_count": 17
        }
      ]
    },
    {
      "cell_type": "code",
      "metadata": {
        "id": "cbZozk-7xe3T",
        "colab_type": "code",
        "outputId": "6eba2992-fcf7-4487-a9b5-fbe2eeb1e7b6",
        "colab": {
          "base_uri": "https://localhost:8080/",
          "height": 35
        }
      },
      "source": [
        "# \\s - dopasowuje cyfrę\n",
        "re.search(r\"Python \\d\", \"Python 3\")"
      ],
      "execution_count": 18,
      "outputs": [
        {
          "output_type": "execute_result",
          "data": {
            "text/plain": [
              "<_sre.SRE_Match object; span=(0, 8), match='Python 3'>"
            ]
          },
          "metadata": {
            "tags": []
          },
          "execution_count": 18
        }
      ]
    },
    {
      "cell_type": "code",
      "metadata": {
        "id": "gggVJ1zZx0Io",
        "colab_type": "code",
        "outputId": "5f0f0cf4-fa16-4862-b3c7-91b55ac43261",
        "colab": {
          "base_uri": "https://localhost:8080/",
          "height": 35
        }
      },
      "source": [
        "# ^ - dopasowuje pattern na początku\n",
        "re.search(r\"^PL\", \"PL02000\")"
      ],
      "execution_count": 19,
      "outputs": [
        {
          "output_type": "execute_result",
          "data": {
            "text/plain": [
              "<_sre.SRE_Match object; span=(0, 2), match='PL'>"
            ]
          },
          "metadata": {
            "tags": []
          },
          "execution_count": 19
        }
      ]
    },
    {
      "cell_type": "code",
      "metadata": {
        "id": "hEfdthBdyCFP",
        "colab_type": "code",
        "colab": {}
      },
      "source": [
        "re.search(r\"^PL\", \"CODE: PL02000\")"
      ],
      "execution_count": 0,
      "outputs": []
    },
    {
      "cell_type": "code",
      "metadata": {
        "id": "LJfiT6h2yFGL",
        "colab_type": "code",
        "outputId": "151162bc-eea6-468d-ebcb-1d849f180c8a",
        "colab": {
          "base_uri": "https://localhost:8080/",
          "height": 35
        }
      },
      "source": [
        "re.search(r\"PL\", \"CODE: PL02000\")"
      ],
      "execution_count": 21,
      "outputs": [
        {
          "output_type": "execute_result",
          "data": {
            "text/plain": [
              "<_sre.SRE_Match object; span=(6, 8), match='PL'>"
            ]
          },
          "metadata": {
            "tags": []
          },
          "execution_count": 21
        }
      ]
    },
    {
      "cell_type": "code",
      "metadata": {
        "id": "TDfu2K5HyRkQ",
        "colab_type": "code",
        "outputId": "0c9293db-39c1-45ce-e933-6b378b94a8d7",
        "colab": {
          "base_uri": "https://localhost:8080/",
          "height": 35
        }
      },
      "source": [
        "# $ - dopasowuje pattern na końcu \n",
        "re.search(r\".py$\", \"model.py\")"
      ],
      "execution_count": 22,
      "outputs": [
        {
          "output_type": "execute_result",
          "data": {
            "text/plain": [
              "<_sre.SRE_Match object; span=(5, 8), match='.py'>"
            ]
          },
          "metadata": {
            "tags": []
          },
          "execution_count": 22
        }
      ]
    },
    {
      "cell_type": "code",
      "metadata": {
        "id": "XmVDk5IGycIG",
        "colab_type": "code",
        "colab": {}
      },
      "source": [
        "re.search(r\".py$\", \"model.py, image.jpg\")"
      ],
      "execution_count": 0,
      "outputs": []
    },
    {
      "cell_type": "code",
      "metadata": {
        "id": "B7uO0V_oyhzt",
        "colab_type": "code",
        "outputId": "e554e80b-67cb-461d-beca-bcfa0e612f71",
        "colab": {
          "base_uri": "https://localhost:8080/",
          "height": 35
        }
      },
      "source": [
        "re.search(r\".py\", \"model.py, image.jpg\")"
      ],
      "execution_count": 24,
      "outputs": [
        {
          "output_type": "execute_result",
          "data": {
            "text/plain": [
              "<_sre.SRE_Match object; span=(5, 8), match='.py'>"
            ]
          },
          "metadata": {
            "tags": []
          },
          "execution_count": 24
        }
      ]
    },
    {
      "cell_type": "code",
      "metadata": {
        "id": "iCug8E29yrnk",
        "colab_type": "code",
        "outputId": "7cdd1419-022d-4626-8f30-d57500cf3026",
        "colab": {
          "base_uri": "https://localhost:8080/",
          "height": 35
        }
      },
      "source": [
        "# [abc] - dopasowuje konkrentne znaki a, b, c\n",
        "re.search(r\"[abc]\", \"CODE: a20\")"
      ],
      "execution_count": 25,
      "outputs": [
        {
          "output_type": "execute_result",
          "data": {
            "text/plain": [
              "<_sre.SRE_Match object; span=(6, 7), match='a'>"
            ]
          },
          "metadata": {
            "tags": []
          },
          "execution_count": 25
        }
      ]
    },
    {
      "cell_type": "code",
      "metadata": {
        "id": "fXofhTY_zCNG",
        "colab_type": "code",
        "outputId": "c3464936-3aea-49d7-bd5e-aabf649914ae",
        "colab": {
          "base_uri": "https://localhost:8080/",
          "height": 35
        }
      },
      "source": [
        "re.search(r\"[abc]\", \"CODE: ab20\")"
      ],
      "execution_count": 26,
      "outputs": [
        {
          "output_type": "execute_result",
          "data": {
            "text/plain": [
              "<_sre.SRE_Match object; span=(6, 7), match='a'>"
            ]
          },
          "metadata": {
            "tags": []
          },
          "execution_count": 26
        }
      ]
    },
    {
      "cell_type": "code",
      "metadata": {
        "id": "YfgI72dkzElc",
        "colab_type": "code",
        "outputId": "46e8d465-1655-45bd-c8e0-1cd2e120acfa",
        "colab": {
          "base_uri": "https://localhost:8080/",
          "height": 35
        }
      },
      "source": [
        "re.search(r\"[abc]\", \"CODE: b20\")"
      ],
      "execution_count": 27,
      "outputs": [
        {
          "output_type": "execute_result",
          "data": {
            "text/plain": [
              "<_sre.SRE_Match object; span=(6, 7), match='b'>"
            ]
          },
          "metadata": {
            "tags": []
          },
          "execution_count": 27
        }
      ]
    },
    {
      "cell_type": "code",
      "metadata": {
        "id": "1krmNpnZzHUN",
        "colab_type": "code",
        "outputId": "b2e928e2-f56f-4b85-b3e5-4c56a51cd168",
        "colab": {
          "base_uri": "https://localhost:8080/",
          "height": 35
        }
      },
      "source": [
        "# [a-z], [A-Z], [0-9] - dopasowuje odpowiednio małe litery, duże litery, cyfry\n",
        "re.search(r\"CODE: [0-9]\", \"CODE: 4\")"
      ],
      "execution_count": 28,
      "outputs": [
        {
          "output_type": "execute_result",
          "data": {
            "text/plain": [
              "<_sre.SRE_Match object; span=(0, 7), match='CODE: 4'>"
            ]
          },
          "metadata": {
            "tags": []
          },
          "execution_count": 28
        }
      ]
    },
    {
      "cell_type": "code",
      "metadata": {
        "id": "lV8uVtyrzcz4",
        "colab_type": "code",
        "outputId": "d36d413b-cf0c-4efd-9c38-ec5d0f17ae30",
        "colab": {
          "base_uri": "https://localhost:8080/",
          "height": 35
        }
      },
      "source": [
        "# [^0] - dopasowuje downoly znak poza 0\n",
        "re.search(r\"[^0]\", \"Number: 6\")"
      ],
      "execution_count": 29,
      "outputs": [
        {
          "output_type": "execute_result",
          "data": {
            "text/plain": [
              "<_sre.SRE_Match object; span=(0, 1), match='N'>"
            ]
          },
          "metadata": {
            "tags": []
          },
          "execution_count": 29
        }
      ]
    },
    {
      "cell_type": "code",
      "metadata": {
        "id": "NQoXYolczxwE",
        "colab_type": "code",
        "outputId": "2f967f76-ce65-4b5f-8d88-b235d50cdeba",
        "colab": {
          "base_uri": "https://localhost:8080/",
          "height": 35
        }
      },
      "source": [
        "re.search(r\"[^A-Z]\", \"Number: 6\")"
      ],
      "execution_count": 30,
      "outputs": [
        {
          "output_type": "execute_result",
          "data": {
            "text/plain": [
              "<_sre.SRE_Match object; span=(1, 2), match='u'>"
            ]
          },
          "metadata": {
            "tags": []
          },
          "execution_count": 30
        }
      ]
    },
    {
      "cell_type": "code",
      "metadata": {
        "id": "NzXVmWwoz_yk",
        "colab_type": "code",
        "outputId": "2636d359-7299-4189-efd0-fd19b6a9ca34",
        "colab": {
          "base_uri": "https://localhost:8080/",
          "height": 35
        }
      },
      "source": [
        "re.search(r\"[0-9]\", \"Number: 6\")"
      ],
      "execution_count": 31,
      "outputs": [
        {
          "output_type": "execute_result",
          "data": {
            "text/plain": [
              "<_sre.SRE_Match object; span=(8, 9), match='6'>"
            ]
          },
          "metadata": {
            "tags": []
          },
          "execution_count": 31
        }
      ]
    },
    {
      "cell_type": "markdown",
      "metadata": {
        "id": "IEuTanz40VgN",
        "colab_type": "text"
      },
      "source": [
        "Powtórzenia"
      ]
    },
    {
      "cell_type": "code",
      "metadata": {
        "id": "k7bmZ48z0ExJ",
        "colab_type": "code",
        "outputId": "86ba3c92-4d97-4fbb-bd9a-4be7dd71355e",
        "colab": {
          "base_uri": "https://localhost:8080/",
          "height": 35
        }
      },
      "source": [
        "# + - dopasowuje jeden lub więcej znaków\n",
        "re.search(r\"\\w+\", 'Python 3')"
      ],
      "execution_count": 32,
      "outputs": [
        {
          "output_type": "execute_result",
          "data": {
            "text/plain": [
              "<_sre.SRE_Match object; span=(0, 6), match='Python'>"
            ]
          },
          "metadata": {
            "tags": []
          },
          "execution_count": 32
        }
      ]
    },
    {
      "cell_type": "code",
      "metadata": {
        "id": "SyclI_Af090y",
        "colab_type": "code",
        "outputId": "3eae4680-0a4e-42ae-ac57-34e3ac4e4dcb",
        "colab": {
          "base_uri": "https://localhost:8080/",
          "height": 35
        }
      },
      "source": [
        "re.search(r\"\\w+\", 'CODE: 00-2-330')"
      ],
      "execution_count": 33,
      "outputs": [
        {
          "output_type": "execute_result",
          "data": {
            "text/plain": [
              "<_sre.SRE_Match object; span=(0, 4), match='CODE'>"
            ]
          },
          "metadata": {
            "tags": []
          },
          "execution_count": 33
        }
      ]
    },
    {
      "cell_type": "code",
      "metadata": {
        "id": "PRwqWoYO1CPf",
        "colab_type": "code",
        "outputId": "7666e2d3-b67c-4e8c-8348-6e5ab44e7699",
        "colab": {
          "base_uri": "https://localhost:8080/",
          "height": 35
        }
      },
      "source": [
        "re.search(r\"\\d+\", 'CODE: 00-2-330')"
      ],
      "execution_count": 34,
      "outputs": [
        {
          "output_type": "execute_result",
          "data": {
            "text/plain": [
              "<_sre.SRE_Match object; span=(6, 8), match='00'>"
            ]
          },
          "metadata": {
            "tags": []
          },
          "execution_count": 34
        }
      ]
    },
    {
      "cell_type": "code",
      "metadata": {
        "id": "tdCS2h6q1LrY",
        "colab_type": "code",
        "outputId": "99a129e1-0d71-457e-95fe-5f48cda48ec1",
        "colab": {
          "base_uri": "https://localhost:8080/",
          "height": 35
        }
      },
      "source": [
        "re.search(r\"\\W\", 'CODE: 00-2-330')"
      ],
      "execution_count": 35,
      "outputs": [
        {
          "output_type": "execute_result",
          "data": {
            "text/plain": [
              "<_sre.SRE_Match object; span=(4, 5), match=':'>"
            ]
          },
          "metadata": {
            "tags": []
          },
          "execution_count": 35
        }
      ]
    },
    {
      "cell_type": "code",
      "metadata": {
        "id": "xpLbxGIm1VMA",
        "colab_type": "code",
        "outputId": "a0e81217-d673-4e67-ced6-d0f2ec40405d",
        "colab": {
          "base_uri": "https://localhost:8080/",
          "height": 35
        }
      },
      "source": [
        "# {n} - dopasowuje dokładnie n razy\n",
        "re.search(r\"\\d{3}\", 'CODE: 00-2-330')"
      ],
      "execution_count": 36,
      "outputs": [
        {
          "output_type": "execute_result",
          "data": {
            "text/plain": [
              "<_sre.SRE_Match object; span=(11, 14), match='330'>"
            ]
          },
          "metadata": {
            "tags": []
          },
          "execution_count": 36
        }
      ]
    },
    {
      "cell_type": "code",
      "metadata": {
        "id": "VU9INSuI1kHu",
        "colab_type": "code",
        "outputId": "9756cb42-fc26-4554-8177-5bde21202fc6",
        "colab": {
          "base_uri": "https://localhost:8080/",
          "height": 35
        }
      },
      "source": [
        "# {n,} - dopasowuje co najmniej n razy\n",
        "re.search(r\"\\d{2,}\", 'CODE: 0-2-330')"
      ],
      "execution_count": 37,
      "outputs": [
        {
          "output_type": "execute_result",
          "data": {
            "text/plain": [
              "<_sre.SRE_Match object; span=(10, 13), match='330'>"
            ]
          },
          "metadata": {
            "tags": []
          },
          "execution_count": 37
        }
      ]
    },
    {
      "cell_type": "code",
      "metadata": {
        "id": "loYmfOyr11Ff",
        "colab_type": "code",
        "outputId": "d714fc2f-ea02-44a5-ffa7-e9f74f121aba",
        "colab": {
          "base_uri": "https://localhost:8080/",
          "height": 35
        }
      },
      "source": [
        "# {n, m} - dopasowuje co najmniej n razy i nie więcej niż m razy\n",
        "re.search(r\"\\d{2,4}\", \"CODE: 0-1-55651-532\")"
      ],
      "execution_count": 38,
      "outputs": [
        {
          "output_type": "execute_result",
          "data": {
            "text/plain": [
              "<_sre.SRE_Match object; span=(10, 14), match='5565'>"
            ]
          },
          "metadata": {
            "tags": []
          },
          "execution_count": 38
        }
      ]
    },
    {
      "cell_type": "code",
      "metadata": {
        "id": "SLImCMUC2EYN",
        "colab_type": "code",
        "outputId": "10f51dd9-b4c9-49f1-9aad-30262627d028",
        "colab": {
          "base_uri": "https://localhost:8080/",
          "height": 35
        }
      },
      "source": [
        "# * - dopasowuje zero lub więcej znaków\n",
        "re.search(r\"P*\", \"Python\")"
      ],
      "execution_count": 39,
      "outputs": [
        {
          "output_type": "execute_result",
          "data": {
            "text/plain": [
              "<_sre.SRE_Match object; span=(0, 1), match='P'>"
            ]
          },
          "metadata": {
            "tags": []
          },
          "execution_count": 39
        }
      ]
    },
    {
      "cell_type": "code",
      "metadata": {
        "id": "rZ0WR0Ix2X9m",
        "colab_type": "code",
        "outputId": "dfce6ed6-4f57-455b-93d8-a8cfbe715d00",
        "colab": {
          "base_uri": "https://localhost:8080/",
          "height": 35
        }
      },
      "source": [
        "re.search(r\"Py*\", \"Python\")"
      ],
      "execution_count": 40,
      "outputs": [
        {
          "output_type": "execute_result",
          "data": {
            "text/plain": [
              "<_sre.SRE_Match object; span=(0, 2), match='Py'>"
            ]
          },
          "metadata": {
            "tags": []
          },
          "execution_count": 40
        }
      ]
    },
    {
      "cell_type": "code",
      "metadata": {
        "id": "2f1N3vof28IM",
        "colab_type": "code",
        "outputId": "603aef7d-f7ef-433c-806c-504200acc536",
        "colab": {
          "base_uri": "https://localhost:8080/",
          "height": 35
        }
      },
      "source": [
        "# ? - dopasowuje zero lub jeden znak\n",
        "re.search(r\"CODE?\", \"CODE: 124\")"
      ],
      "execution_count": 41,
      "outputs": [
        {
          "output_type": "execute_result",
          "data": {
            "text/plain": [
              "<_sre.SRE_Match object; span=(0, 4), match='CODE'>"
            ]
          },
          "metadata": {
            "tags": []
          },
          "execution_count": 41
        }
      ]
    },
    {
      "cell_type": "code",
      "metadata": {
        "id": "ktLDy2nj3MG5",
        "colab_type": "code",
        "outputId": "9c1fc6ca-31ee-4283-8d04-68b75eb330c4",
        "colab": {
          "base_uri": "https://localhost:8080/",
          "height": 326
        }
      },
      "source": [
        "html = \"\"\"<!doctype html>\n",
        "\n",
        "<html lang=\"en\">\n",
        "<head>\n",
        "  <meta charset=\"utf-8\">\n",
        "\n",
        "  <title>The HTML5 Title</title>\n",
        "  <meta name=\"description\">\n",
        "\n",
        "  <link rel=\"stylesheet\" href=\"css/styles.css?v=1.0\">\n",
        "\n",
        "</head>\n",
        "\n",
        "<body>\n",
        "  <script src=\"js/scripts.js\"></script>\n",
        "</body>\n",
        "</html>\"\"\"\n",
        "\n",
        "print(html)"
      ],
      "execution_count": 42,
      "outputs": [
        {
          "output_type": "stream",
          "text": [
            "<!doctype html>\n",
            "\n",
            "<html lang=\"en\">\n",
            "<head>\n",
            "  <meta charset=\"utf-8\">\n",
            "\n",
            "  <title>The HTML5 Title</title>\n",
            "  <meta name=\"description\">\n",
            "\n",
            "  <link rel=\"stylesheet\" href=\"css/styles.css?v=1.0\">\n",
            "\n",
            "</head>\n",
            "\n",
            "<body>\n",
            "  <script src=\"js/scripts.js\"></script>\n",
            "</body>\n",
            "</html>\n"
          ],
          "name": "stdout"
        }
      ]
    },
    {
      "cell_type": "code",
      "metadata": {
        "id": "ZXqHzBR-4BmJ",
        "colab_type": "code",
        "outputId": "33912f39-c91a-458b-fc75-2a6f9c6a7361",
        "colab": {
          "base_uri": "https://localhost:8080/",
          "height": 55
        }
      },
      "source": [
        "html"
      ],
      "execution_count": 43,
      "outputs": [
        {
          "output_type": "execute_result",
          "data": {
            "text/plain": [
              "'<!doctype html>\\n\\n<html lang=\"en\">\\n<head>\\n  <meta charset=\"utf-8\">\\n\\n  <title>The HTML5 Title</title>\\n  <meta name=\"description\">\\n\\n  <link rel=\"stylesheet\" href=\"css/styles.css?v=1.0\">\\n\\n</head>\\n\\n<body>\\n  <script src=\"js/scripts.js\"></script>\\n</body>\\n</html>'"
            ]
          },
          "metadata": {
            "tags": []
          },
          "execution_count": 43
        }
      ]
    },
    {
      "cell_type": "code",
      "metadata": {
        "id": "FlOjT96x4Gv5",
        "colab_type": "code",
        "outputId": "268eda73-6257-46a8-c661-12d79d808024",
        "colab": {
          "base_uri": "https://localhost:8080/",
          "height": 235
        }
      },
      "source": [
        "re.findall(r\"<.*>\", html)"
      ],
      "execution_count": 44,
      "outputs": [
        {
          "output_type": "execute_result",
          "data": {
            "text/plain": [
              "['<!doctype html>',\n",
              " '<html lang=\"en\">',\n",
              " '<head>',\n",
              " '<meta charset=\"utf-8\">',\n",
              " '<title>The HTML5 Title</title>',\n",
              " '<meta name=\"description\">',\n",
              " '<link rel=\"stylesheet\" href=\"css/styles.css?v=1.0\">',\n",
              " '</head>',\n",
              " '<body>',\n",
              " '<script src=\"js/scripts.js\"></script>',\n",
              " '</body>',\n",
              " '</html>']"
            ]
          },
          "metadata": {
            "tags": []
          },
          "execution_count": 44
        }
      ]
    },
    {
      "cell_type": "code",
      "metadata": {
        "id": "UUub7tPg4dlq",
        "colab_type": "code",
        "outputId": "de7cf38f-1f0c-40e2-9786-132f57c07d97",
        "colab": {
          "base_uri": "https://localhost:8080/",
          "height": 35
        }
      },
      "source": [
        "raw_text = \"Wyślij email na adres: info@template.com lub sales-info@template.it\"\n",
        "\n",
        "re.findall(r\"[\\w\\.-]+@[\\w\\.-]+\", raw_text)"
      ],
      "execution_count": 45,
      "outputs": [
        {
          "output_type": "execute_result",
          "data": {
            "text/plain": [
              "['info@template.com', 'sales-info@template.it']"
            ]
          },
          "metadata": {
            "tags": []
          },
          "execution_count": 45
        }
      ]
    },
    {
      "cell_type": "markdown",
      "metadata": {
        "id": "-NEqVRPQDDt6",
        "colab_type": "text"
      },
      "source": [
        "re.split"
      ]
    },
    {
      "cell_type": "code",
      "metadata": {
        "id": "4HZ4o7eH4r1R",
        "colab_type": "code",
        "outputId": "1c5b908e-30eb-43c9-ca25-93b6b76b3158",
        "colab": {
          "base_uri": "https://localhost:8080/",
          "height": 35
        }
      },
      "source": [
        "re.split(pattern=r\"\\s+\", string=\"Machine Learning Bootcamp\")"
      ],
      "execution_count": 46,
      "outputs": [
        {
          "output_type": "execute_result",
          "data": {
            "text/plain": [
              "['Machine', 'Learning', 'Bootcamp']"
            ]
          },
          "metadata": {
            "tags": []
          },
          "execution_count": 46
        }
      ]
    },
    {
      "cell_type": "code",
      "metadata": {
        "id": "dO_WOdSQDK_n",
        "colab_type": "code",
        "outputId": "a437bc95-538c-460d-a920-c81639707a07",
        "colab": {
          "base_uri": "https://localhost:8080/",
          "height": 35
        }
      },
      "source": [
        "re.split(pattern=r\"\\s+\", string=\"Machine Learning Bootcamp - Python\")"
      ],
      "execution_count": 47,
      "outputs": [
        {
          "output_type": "execute_result",
          "data": {
            "text/plain": [
              "['Machine', 'Learning', 'Bootcamp', '-', 'Python']"
            ]
          },
          "metadata": {
            "tags": []
          },
          "execution_count": 47
        }
      ]
    },
    {
      "cell_type": "code",
      "metadata": {
        "id": "cPvwE1wADltY",
        "colab_type": "code",
        "outputId": "8110f8a8-7134-4864-eaab-afae3e5e1e7f",
        "colab": {
          "base_uri": "https://localhost:8080/",
          "height": 35
        }
      },
      "source": [
        "text = \"Machine Learning Bootcamp - część 3. Język Python.\"\n",
        "\n",
        "# podział tekstu na zdania\n",
        "re.split(r\"[.]\", text)"
      ],
      "execution_count": 48,
      "outputs": [
        {
          "output_type": "execute_result",
          "data": {
            "text/plain": [
              "['Machine Learning Bootcamp - część 3', ' Język Python', '']"
            ]
          },
          "metadata": {
            "tags": []
          },
          "execution_count": 48
        }
      ]
    },
    {
      "cell_type": "code",
      "metadata": {
        "id": "lfPO7yZPD5Uv",
        "colab_type": "code",
        "outputId": "eda4a2ba-ff13-4c42-a5f6-0232324c423b",
        "colab": {
          "base_uri": "https://localhost:8080/",
          "height": 35
        }
      },
      "source": [
        "# wydobycie słów rozpoczynających się od dużej litery\n",
        "re.findall(r\"[A-Z]\\w+\", text)"
      ],
      "execution_count": 49,
      "outputs": [
        {
          "output_type": "execute_result",
          "data": {
            "text/plain": [
              "['Machine', 'Learning', 'Bootcamp', 'Język', 'Python']"
            ]
          },
          "metadata": {
            "tags": []
          },
          "execution_count": 49
        }
      ]
    },
    {
      "cell_type": "code",
      "metadata": {
        "id": "fUSb3dCFEE_M",
        "colab_type": "code",
        "outputId": "f2987633-c395-4695-ce39-60d0536817ef",
        "colab": {
          "base_uri": "https://localhost:8080/",
          "height": 35
        }
      },
      "source": [
        "# podział względem spacji\n",
        "re.split(r\"\\s+\", text)"
      ],
      "execution_count": 50,
      "outputs": [
        {
          "output_type": "execute_result",
          "data": {
            "text/plain": [
              "['Machine', 'Learning', 'Bootcamp', '-', 'część', '3.', 'Język', 'Python.']"
            ]
          },
          "metadata": {
            "tags": []
          },
          "execution_count": 50
        }
      ]
    },
    {
      "cell_type": "code",
      "metadata": {
        "id": "Ev2jULKdESdA",
        "colab_type": "code",
        "outputId": "9b7f15ac-cfdb-4d05-b766-98684552a7c8",
        "colab": {
          "base_uri": "https://localhost:8080/",
          "height": 35
        }
      },
      "source": [
        "# wydobycie cyfr\n",
        "re.findall(r\"\\d+\", text)"
      ],
      "execution_count": 51,
      "outputs": [
        {
          "output_type": "execute_result",
          "data": {
            "text/plain": [
              "['3']"
            ]
          },
          "metadata": {
            "tags": []
          },
          "execution_count": 51
        }
      ]
    },
    {
      "cell_type": "markdown",
      "metadata": {
        "id": "lPNVANq5vlao",
        "colab_type": "text"
      },
      "source": [
        "### Walidacja numeru telefonu\n",
        "\n",
        "Przykład: 123-456-789  \n",
        "Próbka: \n",
        "* 123-456-789\n",
        "* 456 458 789\n",
        "* 456\n",
        "\n",
        "\n"
      ]
    },
    {
      "cell_type": "code",
      "metadata": {
        "id": "vAfz-NdBEkVb",
        "colab_type": "code",
        "colab": {}
      },
      "source": [
        "def check_phone_number(phone_number):\n",
        "    valid_chars = '0123456789 -()'\n",
        "    for char in phone_number:\n",
        "        if char not in valid_chars:\n",
        "            return False\n",
        "        return True"
      ],
      "execution_count": 0,
      "outputs": []
    },
    {
      "cell_type": "code",
      "metadata": {
        "id": "dakGh8EYwbO6",
        "colab_type": "code",
        "colab": {
          "base_uri": "https://localhost:8080/",
          "height": 35
        },
        "outputId": "9bda64e4-b512-4dc0-8be7-00be2f28bc9e"
      },
      "source": [
        "check_phone_number('123-456-789')"
      ],
      "execution_count": 53,
      "outputs": [
        {
          "output_type": "execute_result",
          "data": {
            "text/plain": [
              "True"
            ]
          },
          "metadata": {
            "tags": []
          },
          "execution_count": 53
        }
      ]
    },
    {
      "cell_type": "code",
      "metadata": {
        "id": "vaeHN8J8wdd3",
        "colab_type": "code",
        "colab": {
          "base_uri": "https://localhost:8080/",
          "height": 35
        },
        "outputId": "f737870b-a585-47b7-81b3-1e24b29ddbc2"
      },
      "source": [
        "check_phone_number('123 456 789')"
      ],
      "execution_count": 55,
      "outputs": [
        {
          "output_type": "execute_result",
          "data": {
            "text/plain": [
              "True"
            ]
          },
          "metadata": {
            "tags": []
          },
          "execution_count": 55
        }
      ]
    },
    {
      "cell_type": "code",
      "metadata": {
        "id": "ZmoVLYa6wf8F",
        "colab_type": "code",
        "colab": {
          "base_uri": "https://localhost:8080/",
          "height": 35
        },
        "outputId": "15bae015-b0ac-40c7-edd0-f8857835064a"
      },
      "source": [
        "check_phone_number('456')"
      ],
      "execution_count": 56,
      "outputs": [
        {
          "output_type": "execute_result",
          "data": {
            "text/plain": [
              "True"
            ]
          },
          "metadata": {
            "tags": []
          },
          "execution_count": 56
        }
      ]
    },
    {
      "cell_type": "code",
      "metadata": {
        "id": "tC4-Gd4ywoLL",
        "colab_type": "code",
        "colab": {
          "base_uri": "https://localhost:8080/",
          "height": 35
        },
        "outputId": "6369e32c-6887-4932-c5e9-8a657f86bfe6"
      },
      "source": [
        "re.match(r\"\\d{3}-\\d{3}-\\d{3}\", '123-456-789')"
      ],
      "execution_count": 57,
      "outputs": [
        {
          "output_type": "execute_result",
          "data": {
            "text/plain": [
              "<_sre.SRE_Match object; span=(0, 11), match='123-456-789'>"
            ]
          },
          "metadata": {
            "tags": []
          },
          "execution_count": 57
        }
      ]
    },
    {
      "cell_type": "code",
      "metadata": {
        "id": "6MUJ8KwPxAzb",
        "colab_type": "code",
        "colab": {}
      },
      "source": [
        "re.match(r\"\\d{3}-\\d{3}-\\d{3}\", '456')"
      ],
      "execution_count": 0,
      "outputs": []
    },
    {
      "cell_type": "markdown",
      "metadata": {
        "id": "hRBHWs0yxXrz",
        "colab_type": "text"
      },
      "source": [
        "https://regexone.com/"
      ]
    },
    {
      "cell_type": "code",
      "metadata": {
        "id": "wX3Msin_xD7k",
        "colab_type": "code",
        "colab": {}
      },
      "source": [
        ""
      ],
      "execution_count": 0,
      "outputs": []
    }
  ]
}