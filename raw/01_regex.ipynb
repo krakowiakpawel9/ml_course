{
  "nbformat": 4,
  "nbformat_minor": 0,
  "metadata": {
    "colab": {
      "name": "01_preprocessing.ipynb",
      "provenance": [],
      "include_colab_link": true
    },
    "kernelspec": {
      "name": "python3",
      "display_name": "Python 3"
    }
  },
  "cells": [
    {
      "cell_type": "markdown",
      "metadata": {
        "id": "view-in-github",
        "colab_type": "text"
      },
      "source": [
        "<a href=\"https://colab.research.google.com/github/krakowiakpawel9/ml_course/blob/master/raw/01_regex.ipynb\" target=\"_parent\"><img src=\"https://colab.research.google.com/assets/colab-badge.svg\" alt=\"Open In Colab\"/></a>"
      ]
    },
    {
      "cell_type": "markdown",
      "metadata": {
        "id": "UbjsT92Xd3z1",
        "colab_type": "text"
      },
      "source": [
        "* @author: krakowiakpawel9@gmail.com  \n",
        "* @site: e-smartdata.org\n",
        "\n",
        "### nltk\n",
        "Strona biblioteki: [https://www.nltk.org/](https://www.nltk.org/)  \n",
        "\n",
        "Podstawowa biblioteka do przetwarzania języka naturalnego w języku Python.\n",
        "\n",
        "Aby zainstalować bibliotekę nltk, użyj polecenia poniżej:\n",
        "```\n",
        "!pip install nltk\n",
        "```\n",
        "Aby zaktualizować do najnowszej wersji użyj polecenia poniżej:\n",
        "```\n",
        "!pip install --upgrade nltk\n",
        "```\n",
        "Kurs stworzony w oparciu o wersję `3.2.5`\n",
        "\n",
        "### Spis treści:\n",
        "1. [Import bibliotek](#0)\n",
        "2. [Wygenerowanie danych](#1)\n",
        "\n"
      ]
    },
    {
      "cell_type": "markdown",
      "metadata": {
        "id": "YkIALacsUnj7",
        "colab_type": "text"
      },
      "source": [
        "### <a name='0'></a> Import bibliotek"
      ]
    },
    {
      "cell_type": "code",
      "metadata": {
        "id": "0xkyJJtkn2Xl",
        "colab_type": "code",
        "colab": {
          "base_uri": "https://localhost:8080/",
          "height": 34
        },
        "outputId": "bc5fad76-7678-4d6a-8d13-810d52126c0d"
      },
      "source": [
        "import re\n",
        "re.__version__"
      ],
      "execution_count": 51,
      "outputs": [
        {
          "output_type": "execute_result",
          "data": {
            "text/plain": [
              "'2.2.1'"
            ]
          },
          "metadata": {
            "tags": []
          },
          "execution_count": 51
        }
      ]
    },
    {
      "cell_type": "markdown",
      "metadata": {
        "id": "A1R4rzU0sYOO",
        "colab_type": "text"
      },
      "source": [
        "re.match"
      ]
    },
    {
      "cell_type": "code",
      "metadata": {
        "id": "ldrqkBRnn4vy",
        "colab_type": "code",
        "colab": {
          "base_uri": "https://localhost:8080/",
          "height": 34
        },
        "outputId": "170edf80-fe88-4e1c-efa4-b2d08b6bf101"
      },
      "source": [
        "pattern = r\"Py\"  # surowy ciąg znaków\n",
        "text = \"Python\"\n",
        "\n",
        "re.match(pattern, text)"
      ],
      "execution_count": 52,
      "outputs": [
        {
          "output_type": "execute_result",
          "data": {
            "text/plain": [
              "<_sre.SRE_Match object; span=(0, 2), match='Py'>"
            ]
          },
          "metadata": {
            "tags": []
          },
          "execution_count": 52
        }
      ]
    },
    {
      "cell_type": "code",
      "metadata": {
        "id": "Xj5ky3KdoFYg",
        "colab_type": "code",
        "colab": {}
      },
      "source": [
        "pattern = r\"Pyy\"\n",
        "text = \"Python\"\n",
        "\n",
        "re.match(pattern, text)"
      ],
      "execution_count": 0,
      "outputs": []
    },
    {
      "cell_type": "code",
      "metadata": {
        "id": "C1sgjuMqp2lU",
        "colab_type": "code",
        "colab": {
          "base_uri": "https://localhost:8080/",
          "height": 70
        },
        "outputId": "e9902501-133f-452e-9302-a8d69a0b2c30"
      },
      "source": [
        "pattern = \"\\notebooks\"\n",
        "text = \"\\\\notebooks\\\\data\\\\new\"\n",
        "\n",
        "print(pattern)\n",
        "print(text)"
      ],
      "execution_count": 87,
      "outputs": [
        {
          "output_type": "stream",
          "text": [
            "\n",
            "otebooks\n",
            "\\notebooks\\data\\new\n"
          ],
          "name": "stdout"
        }
      ]
    },
    {
      "cell_type": "markdown",
      "metadata": {
        "id": "aK0fmA3osZ8N",
        "colab_type": "text"
      },
      "source": [
        "re.search"
      ]
    },
    {
      "cell_type": "code",
      "metadata": {
        "id": "NZxZloMQssBW",
        "colab_type": "code",
        "colab": {}
      },
      "source": [
        "re.match(r\"th\", \"Python\")"
      ],
      "execution_count": 0,
      "outputs": []
    },
    {
      "cell_type": "code",
      "metadata": {
        "id": "FVBy6LCusw13",
        "colab_type": "code",
        "colab": {
          "base_uri": "https://localhost:8080/",
          "height": 34
        },
        "outputId": "c605f06e-1f76-4cde-8fd4-1cc9b07b2ff2"
      },
      "source": [
        "re.search(r\"th\", \"Python\")"
      ],
      "execution_count": 115,
      "outputs": [
        {
          "output_type": "execute_result",
          "data": {
            "text/plain": [
              "<_sre.SRE_Match object; span=(2, 4), match='th'>"
            ]
          },
          "metadata": {
            "tags": []
          },
          "execution_count": 115
        }
      ]
    },
    {
      "cell_type": "code",
      "metadata": {
        "id": "Iv01bmrMo58k",
        "colab_type": "code",
        "colab": {
          "base_uri": "https://localhost:8080/",
          "height": 34
        },
        "outputId": "7c488286-1cc7-418d-b0a8-0bb10da59991"
      },
      "source": [
        "re.search(r\"P\", \"Python\")"
      ],
      "execution_count": 116,
      "outputs": [
        {
          "output_type": "execute_result",
          "data": {
            "text/plain": [
              "<_sre.SRE_Match object; span=(0, 1), match='P'>"
            ]
          },
          "metadata": {
            "tags": []
          },
          "execution_count": 116
        }
      ]
    },
    {
      "cell_type": "code",
      "metadata": {
        "id": "C9cJD280snGQ",
        "colab_type": "code",
        "colab": {
          "base_uri": "https://localhost:8080/",
          "height": 34
        },
        "outputId": "cf5f461c-cdc1-4552-b287-3ebffa575753"
      },
      "source": [
        "re.search(r\"P\", \"Python\").group()"
      ],
      "execution_count": 117,
      "outputs": [
        {
          "output_type": "execute_result",
          "data": {
            "text/plain": [
              "'P'"
            ]
          },
          "metadata": {
            "tags": []
          },
          "execution_count": 117
        }
      ]
    },
    {
      "cell_type": "code",
      "metadata": {
        "id": "3rDvcOEYs3BV",
        "colab_type": "code",
        "colab": {
          "base_uri": "https://localhost:8080/",
          "height": 34
        },
        "outputId": "3f61e363-d6bb-4cc5-fd4e-512912d058e9"
      },
      "source": [
        "# \\w - dopasowuje dowolną literę, cyfrę lub podkreślnik\n",
        "re.search(r\"Py\\w\", \"Python\")"
      ],
      "execution_count": 118,
      "outputs": [
        {
          "output_type": "execute_result",
          "data": {
            "text/plain": [
              "<_sre.SRE_Match object; span=(0, 3), match='Pyt'>"
            ]
          },
          "metadata": {
            "tags": []
          },
          "execution_count": 118
        }
      ]
    },
    {
      "cell_type": "code",
      "metadata": {
        "id": "JmTP2Xf3tJkV",
        "colab_type": "code",
        "colab": {
          "base_uri": "https://localhost:8080/",
          "height": 34
        },
        "outputId": "6a075440-c004-45a9-c51e-c2907e132fad"
      },
      "source": [
        "re.search(r\"Py\\who\\w\", \"Python\")"
      ],
      "execution_count": 121,
      "outputs": [
        {
          "output_type": "execute_result",
          "data": {
            "text/plain": [
              "<_sre.SRE_Match object; span=(0, 6), match='Python'>"
            ]
          },
          "metadata": {
            "tags": []
          },
          "execution_count": 121
        }
      ]
    },
    {
      "cell_type": "code",
      "metadata": {
        "id": "ofO7isuetOMr",
        "colab_type": "code",
        "colab": {
          "base_uri": "https://localhost:8080/",
          "height": 34
        },
        "outputId": "4a00636d-4041-4869-d935-5d48cd78f907"
      },
      "source": [
        "re.search(r\"\\w\\w\\w.py\", \"new.py\")"
      ],
      "execution_count": 122,
      "outputs": [
        {
          "output_type": "execute_result",
          "data": {
            "text/plain": [
              "<_sre.SRE_Match object; span=(0, 6), match='new.py'>"
            ]
          },
          "metadata": {
            "tags": []
          },
          "execution_count": 122
        }
      ]
    },
    {
      "cell_type": "code",
      "metadata": {
        "id": "TcBirn_IteKI",
        "colab_type": "code",
        "colab": {
          "base_uri": "https://localhost:8080/",
          "height": 34
        },
        "outputId": "476d6e07-be47-4278-e2b1-a26f611f5b19"
      },
      "source": [
        "re.search(r\"\\w+.py\", \"new.py\")"
      ],
      "execution_count": 124,
      "outputs": [
        {
          "output_type": "execute_result",
          "data": {
            "text/plain": [
              "<_sre.SRE_Match object; span=(0, 6), match='new.py'>"
            ]
          },
          "metadata": {
            "tags": []
          },
          "execution_count": 124
        }
      ]
    },
    {
      "cell_type": "code",
      "metadata": {
        "id": "VBtxM4zutgc1",
        "colab_type": "code",
        "colab": {
          "base_uri": "https://localhost:8080/",
          "height": 34
        },
        "outputId": "9cbfe5a8-65d8-4f3d-87d5-ed0551af1835"
      },
      "source": [
        "re.search(r\"\\w3\", \"Python_3\")"
      ],
      "execution_count": 126,
      "outputs": [
        {
          "output_type": "execute_result",
          "data": {
            "text/plain": [
              "<_sre.SRE_Match object; span=(6, 8), match='_3'>"
            ]
          },
          "metadata": {
            "tags": []
          },
          "execution_count": 126
        }
      ]
    },
    {
      "cell_type": "code",
      "metadata": {
        "id": "hu6XR-HxtoE0",
        "colab_type": "code",
        "colab": {
          "base_uri": "https://localhost:8080/",
          "height": 34
        },
        "outputId": "7701804a-fd00-4afd-880a-f16f3d034253"
      },
      "source": [
        "re.search(r\"_\\w\", \"Python_3\")"
      ],
      "execution_count": 128,
      "outputs": [
        {
          "output_type": "execute_result",
          "data": {
            "text/plain": [
              "<_sre.SRE_Match object; span=(6, 8), match='_3'>"
            ]
          },
          "metadata": {
            "tags": []
          },
          "execution_count": 128
        }
      ]
    },
    {
      "cell_type": "code",
      "metadata": {
        "id": "IVcSiMhdt58x",
        "colab_type": "code",
        "colab": {}
      },
      "source": [
        "# \\W - dopasowuje dowolny znak nie będący częścią \\w\n",
        "re.search(r\"Pyth\\Wn\", \"Python\")"
      ],
      "execution_count": 0,
      "outputs": []
    },
    {
      "cell_type": "code",
      "metadata": {
        "id": "SBS2ErvduMYE",
        "colab_type": "code",
        "colab": {
          "base_uri": "https://localhost:8080/",
          "height": 34
        },
        "outputId": "192f1ed6-f596-470e-8a33-b592ce0dc2a3"
      },
      "source": [
        "re.search(r\"Pyth\\Wn\", \"Pyth@n\")"
      ],
      "execution_count": 131,
      "outputs": [
        {
          "output_type": "execute_result",
          "data": {
            "text/plain": [
              "<_sre.SRE_Match object; span=(0, 6), match='Pyth@n'>"
            ]
          },
          "metadata": {
            "tags": []
          },
          "execution_count": 131
        }
      ]
    },
    {
      "cell_type": "code",
      "metadata": {
        "id": "tlOhwSg3uQAR",
        "colab_type": "code",
        "colab": {
          "base_uri": "https://localhost:8080/",
          "height": 34
        },
        "outputId": "c8f1c5db-a276-438d-84ec-4ac5d903671e"
      },
      "source": [
        "# \\s - dopasowuje spację, znak nowej linii, tabulator\n",
        "re.search(r\"Python\\s3\", \"Python 3\")"
      ],
      "execution_count": 132,
      "outputs": [
        {
          "output_type": "execute_result",
          "data": {
            "text/plain": [
              "<_sre.SRE_Match object; span=(0, 8), match='Python 3'>"
            ]
          },
          "metadata": {
            "tags": []
          },
          "execution_count": 132
        }
      ]
    },
    {
      "cell_type": "code",
      "metadata": {
        "id": "cbZozk-7xe3T",
        "colab_type": "code",
        "colab": {
          "base_uri": "https://localhost:8080/",
          "height": 34
        },
        "outputId": "215ace21-1d98-4c98-8e1f-6176e4450193"
      },
      "source": [
        "# \\s - dopasowuje cyfrę\n",
        "re.search(r\"Python \\d\", \"Python 3\")"
      ],
      "execution_count": 133,
      "outputs": [
        {
          "output_type": "execute_result",
          "data": {
            "text/plain": [
              "<_sre.SRE_Match object; span=(0, 8), match='Python 3'>"
            ]
          },
          "metadata": {
            "tags": []
          },
          "execution_count": 133
        }
      ]
    },
    {
      "cell_type": "code",
      "metadata": {
        "id": "gggVJ1zZx0Io",
        "colab_type": "code",
        "colab": {
          "base_uri": "https://localhost:8080/",
          "height": 34
        },
        "outputId": "714c514d-7c14-45b7-c216-326f90e4780a"
      },
      "source": [
        "# ^ - dopasowuje pattern na początku\n",
        "re.search(r\"^PL\", \"PL02000\")"
      ],
      "execution_count": 137,
      "outputs": [
        {
          "output_type": "execute_result",
          "data": {
            "text/plain": [
              "<_sre.SRE_Match object; span=(0, 2), match='PL'>"
            ]
          },
          "metadata": {
            "tags": []
          },
          "execution_count": 137
        }
      ]
    },
    {
      "cell_type": "code",
      "metadata": {
        "id": "hEfdthBdyCFP",
        "colab_type": "code",
        "colab": {}
      },
      "source": [
        "re.search(r\"^PL\", \"CODE: PL02000\")"
      ],
      "execution_count": 0,
      "outputs": []
    },
    {
      "cell_type": "code",
      "metadata": {
        "id": "LJfiT6h2yFGL",
        "colab_type": "code",
        "colab": {
          "base_uri": "https://localhost:8080/",
          "height": 34
        },
        "outputId": "e700f08f-7776-422f-97c7-9a7491064822"
      },
      "source": [
        "re.search(r\"PL\", \"CODE: PL02000\")"
      ],
      "execution_count": 139,
      "outputs": [
        {
          "output_type": "execute_result",
          "data": {
            "text/plain": [
              "<_sre.SRE_Match object; span=(6, 8), match='PL'>"
            ]
          },
          "metadata": {
            "tags": []
          },
          "execution_count": 139
        }
      ]
    },
    {
      "cell_type": "code",
      "metadata": {
        "id": "TDfu2K5HyRkQ",
        "colab_type": "code",
        "colab": {
          "base_uri": "https://localhost:8080/",
          "height": 34
        },
        "outputId": "9ba1841d-6773-4d9d-ffdc-21623eef8ecb"
      },
      "source": [
        "# $ - dopasowuje pattern na końcu \n",
        "re.search(r\".py$\", \"model.py\")"
      ],
      "execution_count": 141,
      "outputs": [
        {
          "output_type": "execute_result",
          "data": {
            "text/plain": [
              "<_sre.SRE_Match object; span=(5, 8), match='.py'>"
            ]
          },
          "metadata": {
            "tags": []
          },
          "execution_count": 141
        }
      ]
    },
    {
      "cell_type": "code",
      "metadata": {
        "id": "XmVDk5IGycIG",
        "colab_type": "code",
        "colab": {}
      },
      "source": [
        "re.search(r\".py$\", \"model.py, image.jpg\")"
      ],
      "execution_count": 0,
      "outputs": []
    },
    {
      "cell_type": "code",
      "metadata": {
        "id": "B7uO0V_oyhzt",
        "colab_type": "code",
        "colab": {
          "base_uri": "https://localhost:8080/",
          "height": 34
        },
        "outputId": "9b811157-7a3d-4aca-ba62-160f1c05aac2"
      },
      "source": [
        "re.search(r\".py\", \"model.py, image.jpg\")"
      ],
      "execution_count": 143,
      "outputs": [
        {
          "output_type": "execute_result",
          "data": {
            "text/plain": [
              "<_sre.SRE_Match object; span=(5, 8), match='.py'>"
            ]
          },
          "metadata": {
            "tags": []
          },
          "execution_count": 143
        }
      ]
    },
    {
      "cell_type": "code",
      "metadata": {
        "id": "iCug8E29yrnk",
        "colab_type": "code",
        "colab": {
          "base_uri": "https://localhost:8080/",
          "height": 34
        },
        "outputId": "ea644ed4-b7a3-40dc-dfb8-32bf8f8c45d0"
      },
      "source": [
        "# [abc] - dopasowuje konkrentne znaki a, b, c\n",
        "re.search(r\"[abc]\", \"CODE: a20\")"
      ],
      "execution_count": 145,
      "outputs": [
        {
          "output_type": "execute_result",
          "data": {
            "text/plain": [
              "<_sre.SRE_Match object; span=(6, 7), match='a'>"
            ]
          },
          "metadata": {
            "tags": []
          },
          "execution_count": 145
        }
      ]
    },
    {
      "cell_type": "code",
      "metadata": {
        "id": "fXofhTY_zCNG",
        "colab_type": "code",
        "colab": {
          "base_uri": "https://localhost:8080/",
          "height": 34
        },
        "outputId": "47280bea-acf2-4a0e-f9e9-6e13c5e3e95a"
      },
      "source": [
        "re.search(r\"[abc]\", \"CODE: ab20\")"
      ],
      "execution_count": 146,
      "outputs": [
        {
          "output_type": "execute_result",
          "data": {
            "text/plain": [
              "<_sre.SRE_Match object; span=(6, 7), match='a'>"
            ]
          },
          "metadata": {
            "tags": []
          },
          "execution_count": 146
        }
      ]
    },
    {
      "cell_type": "code",
      "metadata": {
        "id": "YfgI72dkzElc",
        "colab_type": "code",
        "colab": {
          "base_uri": "https://localhost:8080/",
          "height": 34
        },
        "outputId": "deb71b99-fcd6-4f67-94f0-a80dd201c1c1"
      },
      "source": [
        "re.search(r\"[abc]\", \"CODE: b20\")"
      ],
      "execution_count": 149,
      "outputs": [
        {
          "output_type": "execute_result",
          "data": {
            "text/plain": [
              "<_sre.SRE_Match object; span=(6, 7), match='b'>"
            ]
          },
          "metadata": {
            "tags": []
          },
          "execution_count": 149
        }
      ]
    },
    {
      "cell_type": "code",
      "metadata": {
        "id": "1krmNpnZzHUN",
        "colab_type": "code",
        "colab": {
          "base_uri": "https://localhost:8080/",
          "height": 34
        },
        "outputId": "ea4573e8-367e-4bd0-bfcc-3bd10d928bbe"
      },
      "source": [
        "# [a-z], [A-Z], [0-9] - dopasowuje odpowiednio małe litery, duże litery, cyfry\n",
        "re.search(r\"CODE: [0-9]\", \"CODE: 4\")"
      ],
      "execution_count": 151,
      "outputs": [
        {
          "output_type": "execute_result",
          "data": {
            "text/plain": [
              "<_sre.SRE_Match object; span=(0, 7), match='CODE: 4'>"
            ]
          },
          "metadata": {
            "tags": []
          },
          "execution_count": 151
        }
      ]
    },
    {
      "cell_type": "code",
      "metadata": {
        "id": "lV8uVtyrzcz4",
        "colab_type": "code",
        "colab": {
          "base_uri": "https://localhost:8080/",
          "height": 34
        },
        "outputId": "5a3f07f3-2141-4ba0-b798-016ee798a4a8"
      },
      "source": [
        "# [^0] - dopasowuje downoly znak poza 0\n",
        "re.search(r\"[^0]\", \"Number: 6\")"
      ],
      "execution_count": 153,
      "outputs": [
        {
          "output_type": "execute_result",
          "data": {
            "text/plain": [
              "<_sre.SRE_Match object; span=(0, 1), match='N'>"
            ]
          },
          "metadata": {
            "tags": []
          },
          "execution_count": 153
        }
      ]
    },
    {
      "cell_type": "code",
      "metadata": {
        "id": "NQoXYolczxwE",
        "colab_type": "code",
        "colab": {
          "base_uri": "https://localhost:8080/",
          "height": 34
        },
        "outputId": "764aa548-12fc-4001-b6f2-eb3bfc6e8622"
      },
      "source": [
        "re.search(r\"[^A-Z]\", \"Number: 6\")"
      ],
      "execution_count": 155,
      "outputs": [
        {
          "output_type": "execute_result",
          "data": {
            "text/plain": [
              "<_sre.SRE_Match object; span=(1, 2), match='u'>"
            ]
          },
          "metadata": {
            "tags": []
          },
          "execution_count": 155
        }
      ]
    },
    {
      "cell_type": "code",
      "metadata": {
        "id": "NzXVmWwoz_yk",
        "colab_type": "code",
        "colab": {
          "base_uri": "https://localhost:8080/",
          "height": 34
        },
        "outputId": "b42b2184-24ac-440c-f331-1fc6dbad54c6"
      },
      "source": [
        "re.search(r\"[0-9]\", \"Number: 6\")"
      ],
      "execution_count": 158,
      "outputs": [
        {
          "output_type": "execute_result",
          "data": {
            "text/plain": [
              "<_sre.SRE_Match object; span=(8, 9), match='6'>"
            ]
          },
          "metadata": {
            "tags": []
          },
          "execution_count": 158
        }
      ]
    },
    {
      "cell_type": "markdown",
      "metadata": {
        "id": "IEuTanz40VgN",
        "colab_type": "text"
      },
      "source": [
        "Powtórzenia"
      ]
    },
    {
      "cell_type": "code",
      "metadata": {
        "id": "k7bmZ48z0ExJ",
        "colab_type": "code",
        "colab": {
          "base_uri": "https://localhost:8080/",
          "height": 34
        },
        "outputId": "9cd9d606-a6bb-4fd4-f175-9f13241499c8"
      },
      "source": [
        "# + - dopasowuje jeden lub więcej znaków\n",
        "re.search(r\"\\w+\", 'Python 3')"
      ],
      "execution_count": 159,
      "outputs": [
        {
          "output_type": "execute_result",
          "data": {
            "text/plain": [
              "<_sre.SRE_Match object; span=(0, 6), match='Python'>"
            ]
          },
          "metadata": {
            "tags": []
          },
          "execution_count": 159
        }
      ]
    },
    {
      "cell_type": "code",
      "metadata": {
        "id": "SyclI_Af090y",
        "colab_type": "code",
        "colab": {
          "base_uri": "https://localhost:8080/",
          "height": 34
        },
        "outputId": "ce8588e2-2306-4386-a373-3a93fc378c9b"
      },
      "source": [
        "re.search(r\"\\w+\", 'CODE: 00-2-330')"
      ],
      "execution_count": 165,
      "outputs": [
        {
          "output_type": "execute_result",
          "data": {
            "text/plain": [
              "<_sre.SRE_Match object; span=(0, 4), match='CODE'>"
            ]
          },
          "metadata": {
            "tags": []
          },
          "execution_count": 165
        }
      ]
    },
    {
      "cell_type": "code",
      "metadata": {
        "id": "PRwqWoYO1CPf",
        "colab_type": "code",
        "colab": {
          "base_uri": "https://localhost:8080/",
          "height": 34
        },
        "outputId": "c1920c2e-d163-4e35-e306-85e7145c2267"
      },
      "source": [
        "re.search(r\"\\d+\", 'CODE: 00-2-330')"
      ],
      "execution_count": 166,
      "outputs": [
        {
          "output_type": "execute_result",
          "data": {
            "text/plain": [
              "<_sre.SRE_Match object; span=(6, 8), match='00'>"
            ]
          },
          "metadata": {
            "tags": []
          },
          "execution_count": 166
        }
      ]
    },
    {
      "cell_type": "code",
      "metadata": {
        "id": "tdCS2h6q1LrY",
        "colab_type": "code",
        "colab": {
          "base_uri": "https://localhost:8080/",
          "height": 34
        },
        "outputId": "eb8db7ce-af37-4584-a872-41cae7c865b3"
      },
      "source": [
        "re.search(r\"\\W\", 'CODE: 00-2-330')"
      ],
      "execution_count": 167,
      "outputs": [
        {
          "output_type": "execute_result",
          "data": {
            "text/plain": [
              "<_sre.SRE_Match object; span=(4, 5), match=':'>"
            ]
          },
          "metadata": {
            "tags": []
          },
          "execution_count": 167
        }
      ]
    },
    {
      "cell_type": "code",
      "metadata": {
        "id": "xpLbxGIm1VMA",
        "colab_type": "code",
        "colab": {
          "base_uri": "https://localhost:8080/",
          "height": 34
        },
        "outputId": "8c24bf17-d0a2-4c57-d128-5e911a6a605d"
      },
      "source": [
        "# {n} - dopasowuje dokładnie n razy\n",
        "re.search(r\"\\d{3}\", 'CODE: 00-2-330')"
      ],
      "execution_count": 169,
      "outputs": [
        {
          "output_type": "execute_result",
          "data": {
            "text/plain": [
              "<_sre.SRE_Match object; span=(11, 14), match='330'>"
            ]
          },
          "metadata": {
            "tags": []
          },
          "execution_count": 169
        }
      ]
    },
    {
      "cell_type": "code",
      "metadata": {
        "id": "VU9INSuI1kHu",
        "colab_type": "code",
        "colab": {
          "base_uri": "https://localhost:8080/",
          "height": 34
        },
        "outputId": "126a22ae-05cf-4bd1-bc34-1fb35a8b3981"
      },
      "source": [
        "# {n,} - dopasowuje co najmniej n razy\n",
        "re.search(r\"\\d{2,}\", 'CODE: 0-2-330')"
      ],
      "execution_count": 171,
      "outputs": [
        {
          "output_type": "execute_result",
          "data": {
            "text/plain": [
              "<_sre.SRE_Match object; span=(10, 13), match='330'>"
            ]
          },
          "metadata": {
            "tags": []
          },
          "execution_count": 171
        }
      ]
    },
    {
      "cell_type": "code",
      "metadata": {
        "id": "loYmfOyr11Ff",
        "colab_type": "code",
        "colab": {
          "base_uri": "https://localhost:8080/",
          "height": 34
        },
        "outputId": "7de40b85-4fbe-426b-aa7c-6d4b1300a70f"
      },
      "source": [
        "# {n, m} - dopasowuje co najmniej n razy i nie więcej niż m razy\n",
        "re.search(r\"\\d{2,4}\", \"CODE: 0-1-55651-532\")"
      ],
      "execution_count": 173,
      "outputs": [
        {
          "output_type": "execute_result",
          "data": {
            "text/plain": [
              "<_sre.SRE_Match object; span=(10, 14), match='5565'>"
            ]
          },
          "metadata": {
            "tags": []
          },
          "execution_count": 173
        }
      ]
    },
    {
      "cell_type": "code",
      "metadata": {
        "id": "SLImCMUC2EYN",
        "colab_type": "code",
        "colab": {
          "base_uri": "https://localhost:8080/",
          "height": 34
        },
        "outputId": "8a12f18a-5b04-4974-9349-d7483f9b9ae4"
      },
      "source": [
        "# * - dopasowuje zero lub więcej znaków\n",
        "re.search(r\"P*\", \"Python\")"
      ],
      "execution_count": 177,
      "outputs": [
        {
          "output_type": "execute_result",
          "data": {
            "text/plain": [
              "<_sre.SRE_Match object; span=(0, 1), match='P'>"
            ]
          },
          "metadata": {
            "tags": []
          },
          "execution_count": 177
        }
      ]
    },
    {
      "cell_type": "code",
      "metadata": {
        "id": "rZ0WR0Ix2X9m",
        "colab_type": "code",
        "colab": {
          "base_uri": "https://localhost:8080/",
          "height": 34
        },
        "outputId": "546f0cf5-43c1-4d75-d1b5-5803f61ea351"
      },
      "source": [
        "re.search(r\"Py*\", \"Python\")"
      ],
      "execution_count": 178,
      "outputs": [
        {
          "output_type": "execute_result",
          "data": {
            "text/plain": [
              "<_sre.SRE_Match object; span=(0, 2), match='Py'>"
            ]
          },
          "metadata": {
            "tags": []
          },
          "execution_count": 178
        }
      ]
    },
    {
      "cell_type": "code",
      "metadata": {
        "id": "2f1N3vof28IM",
        "colab_type": "code",
        "colab": {
          "base_uri": "https://localhost:8080/",
          "height": 34
        },
        "outputId": "df9a06cd-eaf8-4e2b-be67-84a90b899e1b"
      },
      "source": [
        "# ? - dopasowuje zero lub jeden znak\n",
        "re.search(r\"CODE?\", \"CODE: 124\")"
      ],
      "execution_count": 183,
      "outputs": [
        {
          "output_type": "execute_result",
          "data": {
            "text/plain": [
              "<_sre.SRE_Match object; span=(0, 4), match='CODE'>"
            ]
          },
          "metadata": {
            "tags": []
          },
          "execution_count": 183
        }
      ]
    },
    {
      "cell_type": "code",
      "metadata": {
        "id": "ktLDy2nj3MG5",
        "colab_type": "code",
        "colab": {
          "base_uri": "https://localhost:8080/",
          "height": 316
        },
        "outputId": "62c550e9-54ab-4e86-fdf5-a1128818a08b"
      },
      "source": [
        "html = \"\"\"<!doctype html>\n",
        "\n",
        "<html lang=\"en\">\n",
        "<head>\n",
        "  <meta charset=\"utf-8\">\n",
        "\n",
        "  <title>The HTML5 Title</title>\n",
        "  <meta name=\"description\">\n",
        "\n",
        "  <link rel=\"stylesheet\" href=\"css/styles.css?v=1.0\">\n",
        "\n",
        "</head>\n",
        "\n",
        "<body>\n",
        "  <script src=\"js/scripts.js\"></script>\n",
        "</body>\n",
        "</html>\"\"\"\n",
        "\n",
        "print(html)"
      ],
      "execution_count": 192,
      "outputs": [
        {
          "output_type": "stream",
          "text": [
            "<!doctype html>\n",
            "\n",
            "<html lang=\"en\">\n",
            "<head>\n",
            "  <meta charset=\"utf-8\">\n",
            "\n",
            "  <title>The HTML5 Title</title>\n",
            "  <meta name=\"description\">\n",
            "\n",
            "  <link rel=\"stylesheet\" href=\"css/styles.css?v=1.0\">\n",
            "\n",
            "</head>\n",
            "\n",
            "<body>\n",
            "  <script src=\"js/scripts.js\"></script>\n",
            "</body>\n",
            "</html>\n"
          ],
          "name": "stdout"
        }
      ]
    },
    {
      "cell_type": "code",
      "metadata": {
        "id": "ZXqHzBR-4BmJ",
        "colab_type": "code",
        "colab": {
          "base_uri": "https://localhost:8080/",
          "height": 54
        },
        "outputId": "92c925fb-cc3c-4356-d386-d3cccadd7aa6"
      },
      "source": [
        "html"
      ],
      "execution_count": 193,
      "outputs": [
        {
          "output_type": "execute_result",
          "data": {
            "text/plain": [
              "'<!doctype html>\\n\\n<html lang=\"en\">\\n<head>\\n  <meta charset=\"utf-8\">\\n\\n  <title>The HTML5 Title</title>\\n  <meta name=\"description\">\\n\\n  <link rel=\"stylesheet\" href=\"css/styles.css?v=1.0\">\\n\\n</head>\\n\\n<body>\\n  <script src=\"js/scripts.js\"></script>\\n</body>\\n</html>'"
            ]
          },
          "metadata": {
            "tags": []
          },
          "execution_count": 193
        }
      ]
    },
    {
      "cell_type": "code",
      "metadata": {
        "id": "FlOjT96x4Gv5",
        "colab_type": "code",
        "colab": {
          "base_uri": "https://localhost:8080/",
          "height": 228
        },
        "outputId": "84022e12-19e0-41f8-8883-e9efe7635453"
      },
      "source": [
        "re.findall(r\"<.*>\", html)"
      ],
      "execution_count": 195,
      "outputs": [
        {
          "output_type": "execute_result",
          "data": {
            "text/plain": [
              "['<!doctype html>',\n",
              " '<html lang=\"en\">',\n",
              " '<head>',\n",
              " '<meta charset=\"utf-8\">',\n",
              " '<title>The HTML5 Title</title>',\n",
              " '<meta name=\"description\">',\n",
              " '<link rel=\"stylesheet\" href=\"css/styles.css?v=1.0\">',\n",
              " '</head>',\n",
              " '<body>',\n",
              " '<script src=\"js/scripts.js\"></script>',\n",
              " '</body>',\n",
              " '</html>']"
            ]
          },
          "metadata": {
            "tags": []
          },
          "execution_count": 195
        }
      ]
    },
    {
      "cell_type": "code",
      "metadata": {
        "id": "UUub7tPg4dlq",
        "colab_type": "code",
        "colab": {
          "base_uri": "https://localhost:8080/",
          "height": 34
        },
        "outputId": "a57235a4-7495-4ae5-d00a-db7dea100ea4"
      },
      "source": [
        "raw_text = \"Wyślij email na adres: info@template.com lub sales-info@template.it\"\n",
        "\n",
        "re.findall(r\"[\\w\\.-]+@[\\w\\.-]+\", raw_text)"
      ],
      "execution_count": 204,
      "outputs": [
        {
          "output_type": "execute_result",
          "data": {
            "text/plain": [
              "['info@template.com', 'sales-info@template.it']"
            ]
          },
          "metadata": {
            "tags": []
          },
          "execution_count": 204
        }
      ]
    },
    {
      "cell_type": "code",
      "metadata": {
        "id": "4HZ4o7eH4r1R",
        "colab_type": "code",
        "colab": {}
      },
      "source": [
        ""
      ],
      "execution_count": 0,
      "outputs": []
    }
  ]
}