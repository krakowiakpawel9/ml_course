{
  "nbformat": 4,
  "nbformat_minor": 0,
  "metadata": {
    "colab": {
      "name": "Copy of 01_regex.ipynb",
      "provenance": [],
      "include_colab_link": true
    },
    "kernelspec": {
      "name": "python3",
      "display_name": "Python 3"
    }
  },
  "cells": [
    {
      "cell_type": "markdown",
      "metadata": {
        "id": "view-in-github",
        "colab_type": "text"
      },
      "source": [
        "<a href=\"https://colab.research.google.com/github/krakowiakpawel9/ml_course/blob/master/raw/01_regex.ipynb\" target=\"_parent\"><img src=\"https://colab.research.google.com/assets/colab-badge.svg\" alt=\"Open In Colab\"/></a>"
      ]
    },
    {
      "cell_type": "markdown",
      "metadata": {
        "id": "UbjsT92Xd3z1",
        "colab_type": "text"
      },
      "source": [
        "* @author: krakowiakpawel9@gmail.com  \n",
        "* @site: e-smartdata.org\n",
        "\n",
        "### Regex\n",
        "Strona biblioteki: [https://docs.python.org/3/library/re.html](https://docs.python.org/3/library/re.html)  \n",
        "\n",
        "Podstawowa biblioteka do wyrażeń regularnych w języku Python.\n",
        "\n",
        "### Spis treści:\n",
        "1. [Import bibliotek](#0)\n",
        "2. [Wygenerowanie danych](#1)\n",
        "\n"
      ]
    },
    {
      "cell_type": "markdown",
      "metadata": {
        "id": "YkIALacsUnj7",
        "colab_type": "text"
      },
      "source": [
        "### <a name='0'></a> Import bibliotek"
      ]
    },
    {
      "cell_type": "code",
      "metadata": {
        "id": "0xkyJJtkn2Xl",
        "colab_type": "code",
        "outputId": "143b5f03-dd90-4154-be84-5c8b5ee5212b",
        "colab": {
          "base_uri": "https://localhost:8080/",
          "height": 34
        }
      },
      "source": [
        "import re\n",
        "re.__version__"
      ],
      "execution_count": 0,
      "outputs": [
        {
          "output_type": "execute_result",
          "data": {
            "text/plain": [
              "'2.2.1'"
            ]
          },
          "metadata": {
            "tags": []
          },
          "execution_count": 1
        }
      ]
    },
    {
      "cell_type": "markdown",
      "metadata": {
        "id": "A1R4rzU0sYOO",
        "colab_type": "text"
      },
      "source": [
        "re.match"
      ]
    },
    {
      "cell_type": "code",
      "metadata": {
        "id": "ldrqkBRnn4vy",
        "colab_type": "code",
        "outputId": "9526faa8-7550-4e6b-eb29-198253e33bec",
        "colab": {
          "base_uri": "https://localhost:8080/",
          "height": 34
        }
      },
      "source": [
        "pattern = r\"Py\"  # surowy ciąg znaków\n",
        "text = \"Python\"\n",
        "\n",
        "re.match(pattern, text)"
      ],
      "execution_count": 0,
      "outputs": [
        {
          "output_type": "execute_result",
          "data": {
            "text/plain": [
              "<_sre.SRE_Match object; span=(0, 2), match='Py'>"
            ]
          },
          "metadata": {
            "tags": []
          },
          "execution_count": 2
        }
      ]
    },
    {
      "cell_type": "code",
      "metadata": {
        "id": "Xj5ky3KdoFYg",
        "colab_type": "code",
        "colab": {}
      },
      "source": [
        "pattern = r\"Pyy\"\n",
        "text = \"Python\"\n",
        "\n",
        "re.match(pattern, text)"
      ],
      "execution_count": 0,
      "outputs": []
    },
    {
      "cell_type": "code",
      "metadata": {
        "id": "C1sgjuMqp2lU",
        "colab_type": "code",
        "outputId": "8434d551-75d7-494a-f6eb-5d078f576686",
        "colab": {
          "base_uri": "https://localhost:8080/",
          "height": 70
        }
      },
      "source": [
        "pattern = \"\\notebooks\"\n",
        "text = \"\\\\notebooks\\\\data\\\\new\"\n",
        "\n",
        "print(pattern)\n",
        "print(text)"
      ],
      "execution_count": 0,
      "outputs": [
        {
          "output_type": "stream",
          "text": [
            "\n",
            "otebooks\n",
            "\\notebooks\\data\\new\n"
          ],
          "name": "stdout"
        }
      ]
    },
    {
      "cell_type": "markdown",
      "metadata": {
        "id": "aK0fmA3osZ8N",
        "colab_type": "text"
      },
      "source": [
        "re.search"
      ]
    },
    {
      "cell_type": "code",
      "metadata": {
        "id": "NZxZloMQssBW",
        "colab_type": "code",
        "colab": {}
      },
      "source": [
        "re.match(r\"th\", \"Python\")"
      ],
      "execution_count": 0,
      "outputs": []
    },
    {
      "cell_type": "code",
      "metadata": {
        "id": "FVBy6LCusw13",
        "colab_type": "code",
        "outputId": "ef43acd9-728e-439c-d44d-0f98530e707d",
        "colab": {
          "base_uri": "https://localhost:8080/",
          "height": 34
        }
      },
      "source": [
        "re.search(r\"th\", \"Python\")"
      ],
      "execution_count": 0,
      "outputs": [
        {
          "output_type": "execute_result",
          "data": {
            "text/plain": [
              "<_sre.SRE_Match object; span=(2, 4), match='th'>"
            ]
          },
          "metadata": {
            "tags": []
          },
          "execution_count": 6
        }
      ]
    },
    {
      "cell_type": "code",
      "metadata": {
        "id": "Iv01bmrMo58k",
        "colab_type": "code",
        "outputId": "85d0a71b-8a73-48ac-d226-e5ff0eadca2c",
        "colab": {
          "base_uri": "https://localhost:8080/",
          "height": 34
        }
      },
      "source": [
        "re.search(r\"P\", \"Python\")"
      ],
      "execution_count": 0,
      "outputs": [
        {
          "output_type": "execute_result",
          "data": {
            "text/plain": [
              "<_sre.SRE_Match object; span=(0, 1), match='P'>"
            ]
          },
          "metadata": {
            "tags": []
          },
          "execution_count": 7
        }
      ]
    },
    {
      "cell_type": "code",
      "metadata": {
        "id": "C9cJD280snGQ",
        "colab_type": "code",
        "outputId": "b9579bf8-0bf1-44a4-87b7-f3a8b94262bb",
        "colab": {
          "base_uri": "https://localhost:8080/",
          "height": 34
        }
      },
      "source": [
        "re.search(r\"P\", \"Python\").group()"
      ],
      "execution_count": 0,
      "outputs": [
        {
          "output_type": "execute_result",
          "data": {
            "text/plain": [
              "'P'"
            ]
          },
          "metadata": {
            "tags": []
          },
          "execution_count": 8
        }
      ]
    },
    {
      "cell_type": "code",
      "metadata": {
        "id": "3rDvcOEYs3BV",
        "colab_type": "code",
        "outputId": "fca93019-3c99-4e7e-9f26-82bc87deee30",
        "colab": {
          "base_uri": "https://localhost:8080/",
          "height": 34
        }
      },
      "source": [
        "# \\w - dopasowuje dowolną literę, cyfrę lub podkreślnik\n",
        "re.search(r\"Py\\w\", \"Python\")"
      ],
      "execution_count": 0,
      "outputs": [
        {
          "output_type": "execute_result",
          "data": {
            "text/plain": [
              "<_sre.SRE_Match object; span=(0, 3), match='Pyt'>"
            ]
          },
          "metadata": {
            "tags": []
          },
          "execution_count": 9
        }
      ]
    },
    {
      "cell_type": "code",
      "metadata": {
        "id": "JmTP2Xf3tJkV",
        "colab_type": "code",
        "outputId": "9839a737-996e-4c08-ba31-ae2d925efc05",
        "colab": {
          "base_uri": "https://localhost:8080/",
          "height": 34
        }
      },
      "source": [
        "re.search(r\"Py\\who\\w\", \"Python\")"
      ],
      "execution_count": 0,
      "outputs": [
        {
          "output_type": "execute_result",
          "data": {
            "text/plain": [
              "<_sre.SRE_Match object; span=(0, 6), match='Python'>"
            ]
          },
          "metadata": {
            "tags": []
          },
          "execution_count": 10
        }
      ]
    },
    {
      "cell_type": "code",
      "metadata": {
        "id": "ofO7isuetOMr",
        "colab_type": "code",
        "outputId": "1e9e5347-632e-4a70-afe4-9f4ad8e433db",
        "colab": {
          "base_uri": "https://localhost:8080/",
          "height": 34
        }
      },
      "source": [
        "re.search(r\"\\w\\w\\w.py\", \"new.py\")"
      ],
      "execution_count": 0,
      "outputs": [
        {
          "output_type": "execute_result",
          "data": {
            "text/plain": [
              "<_sre.SRE_Match object; span=(0, 6), match='new.py'>"
            ]
          },
          "metadata": {
            "tags": []
          },
          "execution_count": 11
        }
      ]
    },
    {
      "cell_type": "code",
      "metadata": {
        "id": "TcBirn_IteKI",
        "colab_type": "code",
        "outputId": "d0017d35-6e8c-4f1f-87ef-ba8ad9cca130",
        "colab": {
          "base_uri": "https://localhost:8080/",
          "height": 34
        }
      },
      "source": [
        "re.search(r\"\\w+.py\", \"new.py\")"
      ],
      "execution_count": 0,
      "outputs": [
        {
          "output_type": "execute_result",
          "data": {
            "text/plain": [
              "<_sre.SRE_Match object; span=(0, 6), match='new.py'>"
            ]
          },
          "metadata": {
            "tags": []
          },
          "execution_count": 12
        }
      ]
    },
    {
      "cell_type": "code",
      "metadata": {
        "id": "VBtxM4zutgc1",
        "colab_type": "code",
        "outputId": "c56c259b-ed4f-42f2-e55e-5810e46deb98",
        "colab": {
          "base_uri": "https://localhost:8080/",
          "height": 34
        }
      },
      "source": [
        "re.search(r\"\\w3\", \"Python_3\")"
      ],
      "execution_count": 0,
      "outputs": [
        {
          "output_type": "execute_result",
          "data": {
            "text/plain": [
              "<_sre.SRE_Match object; span=(6, 8), match='_3'>"
            ]
          },
          "metadata": {
            "tags": []
          },
          "execution_count": 13
        }
      ]
    },
    {
      "cell_type": "code",
      "metadata": {
        "id": "hu6XR-HxtoE0",
        "colab_type": "code",
        "outputId": "e385ffa1-801b-4e0b-ac0b-cbd4d9ff9420",
        "colab": {
          "base_uri": "https://localhost:8080/",
          "height": 34
        }
      },
      "source": [
        "re.search(r\"_\\w\", \"Python_3\")"
      ],
      "execution_count": 0,
      "outputs": [
        {
          "output_type": "execute_result",
          "data": {
            "text/plain": [
              "<_sre.SRE_Match object; span=(6, 8), match='_3'>"
            ]
          },
          "metadata": {
            "tags": []
          },
          "execution_count": 14
        }
      ]
    },
    {
      "cell_type": "code",
      "metadata": {
        "id": "IVcSiMhdt58x",
        "colab_type": "code",
        "colab": {}
      },
      "source": [
        "# \\W - dopasowuje dowolny znak nie będący częścią \\w\n",
        "re.search(r\"Pyth\\Wn\", \"Python\")"
      ],
      "execution_count": 0,
      "outputs": []
    },
    {
      "cell_type": "code",
      "metadata": {
        "id": "SBS2ErvduMYE",
        "colab_type": "code",
        "outputId": "2f4a0b1b-76b0-44c8-9ae1-456aaed3c8e9",
        "colab": {
          "base_uri": "https://localhost:8080/",
          "height": 34
        }
      },
      "source": [
        "re.search(r\"Pyth\\Wn\", \"Pyth@n\")"
      ],
      "execution_count": 0,
      "outputs": [
        {
          "output_type": "execute_result",
          "data": {
            "text/plain": [
              "<_sre.SRE_Match object; span=(0, 6), match='Pyth@n'>"
            ]
          },
          "metadata": {
            "tags": []
          },
          "execution_count": 16
        }
      ]
    },
    {
      "cell_type": "code",
      "metadata": {
        "id": "tlOhwSg3uQAR",
        "colab_type": "code",
        "outputId": "e36f0804-1f19-4cdd-a370-8855be092380",
        "colab": {
          "base_uri": "https://localhost:8080/",
          "height": 34
        }
      },
      "source": [
        "# \\s - dopasowuje spację, znak nowej linii, tabulator\n",
        "re.search(r\"Python\\s3\", \"Python 3\")"
      ],
      "execution_count": 0,
      "outputs": [
        {
          "output_type": "execute_result",
          "data": {
            "text/plain": [
              "<_sre.SRE_Match object; span=(0, 8), match='Python 3'>"
            ]
          },
          "metadata": {
            "tags": []
          },
          "execution_count": 17
        }
      ]
    },
    {
      "cell_type": "code",
      "metadata": {
        "id": "cbZozk-7xe3T",
        "colab_type": "code",
        "outputId": "34e4bba8-9918-4379-95d6-559627c1479b",
        "colab": {
          "base_uri": "https://localhost:8080/",
          "height": 34
        }
      },
      "source": [
        "# \\s - dopasowuje cyfrę\n",
        "re.search(r\"Python \\d\", \"Python 3\")"
      ],
      "execution_count": 0,
      "outputs": [
        {
          "output_type": "execute_result",
          "data": {
            "text/plain": [
              "<_sre.SRE_Match object; span=(0, 8), match='Python 3'>"
            ]
          },
          "metadata": {
            "tags": []
          },
          "execution_count": 18
        }
      ]
    },
    {
      "cell_type": "code",
      "metadata": {
        "id": "gggVJ1zZx0Io",
        "colab_type": "code",
        "outputId": "1ed3d47d-2d31-4bbd-8715-5347476a6183",
        "colab": {
          "base_uri": "https://localhost:8080/",
          "height": 34
        }
      },
      "source": [
        "# ^ - dopasowuje pattern na początku\n",
        "re.search(r\"^PL\", \"PL02000\")"
      ],
      "execution_count": 0,
      "outputs": [
        {
          "output_type": "execute_result",
          "data": {
            "text/plain": [
              "<_sre.SRE_Match object; span=(0, 2), match='PL'>"
            ]
          },
          "metadata": {
            "tags": []
          },
          "execution_count": 19
        }
      ]
    },
    {
      "cell_type": "code",
      "metadata": {
        "id": "hEfdthBdyCFP",
        "colab_type": "code",
        "colab": {}
      },
      "source": [
        "re.search(r\"^PL\", \"CODE: PL02000\")"
      ],
      "execution_count": 0,
      "outputs": []
    },
    {
      "cell_type": "code",
      "metadata": {
        "id": "LJfiT6h2yFGL",
        "colab_type": "code",
        "outputId": "e016eaba-95b7-4cea-9636-d27e9691a36e",
        "colab": {
          "base_uri": "https://localhost:8080/",
          "height": 34
        }
      },
      "source": [
        "re.search(r\"PL\", \"CODE: PL02000\")"
      ],
      "execution_count": 0,
      "outputs": [
        {
          "output_type": "execute_result",
          "data": {
            "text/plain": [
              "<_sre.SRE_Match object; span=(6, 8), match='PL'>"
            ]
          },
          "metadata": {
            "tags": []
          },
          "execution_count": 21
        }
      ]
    },
    {
      "cell_type": "code",
      "metadata": {
        "id": "TDfu2K5HyRkQ",
        "colab_type": "code",
        "outputId": "aab7c573-6a62-443d-f50d-eb1256e31808",
        "colab": {
          "base_uri": "https://localhost:8080/",
          "height": 34
        }
      },
      "source": [
        "# $ - dopasowuje pattern na końcu \n",
        "re.search(r\".py$\", \"model.py\")"
      ],
      "execution_count": 0,
      "outputs": [
        {
          "output_type": "execute_result",
          "data": {
            "text/plain": [
              "<_sre.SRE_Match object; span=(5, 8), match='.py'>"
            ]
          },
          "metadata": {
            "tags": []
          },
          "execution_count": 22
        }
      ]
    },
    {
      "cell_type": "code",
      "metadata": {
        "id": "XmVDk5IGycIG",
        "colab_type": "code",
        "colab": {}
      },
      "source": [
        "re.search(r\".py$\", \"model.py, image.jpg\")"
      ],
      "execution_count": 0,
      "outputs": []
    },
    {
      "cell_type": "code",
      "metadata": {
        "id": "B7uO0V_oyhzt",
        "colab_type": "code",
        "outputId": "50c92bda-87a6-495a-9374-afe9f9bfda8b",
        "colab": {
          "base_uri": "https://localhost:8080/",
          "height": 34
        }
      },
      "source": [
        "re.search(r\".py\", \"model.py, image.jpg\")"
      ],
      "execution_count": 0,
      "outputs": [
        {
          "output_type": "execute_result",
          "data": {
            "text/plain": [
              "<_sre.SRE_Match object; span=(5, 8), match='.py'>"
            ]
          },
          "metadata": {
            "tags": []
          },
          "execution_count": 24
        }
      ]
    },
    {
      "cell_type": "code",
      "metadata": {
        "id": "iCug8E29yrnk",
        "colab_type": "code",
        "outputId": "14f89e4e-1740-4807-a8be-0ec27380c9e3",
        "colab": {
          "base_uri": "https://localhost:8080/",
          "height": 34
        }
      },
      "source": [
        "# [abc] - dopasowuje konkrentne znaki a, b, c\n",
        "re.search(r\"[abc]\", \"CODE: a20\")"
      ],
      "execution_count": 0,
      "outputs": [
        {
          "output_type": "execute_result",
          "data": {
            "text/plain": [
              "<_sre.SRE_Match object; span=(6, 7), match='a'>"
            ]
          },
          "metadata": {
            "tags": []
          },
          "execution_count": 25
        }
      ]
    },
    {
      "cell_type": "code",
      "metadata": {
        "id": "fXofhTY_zCNG",
        "colab_type": "code",
        "outputId": "72e97ce5-c972-40c9-87dd-d9bd7163cb4e",
        "colab": {
          "base_uri": "https://localhost:8080/",
          "height": 34
        }
      },
      "source": [
        "re.search(r\"[abc]\", \"CODE: ab20\")"
      ],
      "execution_count": 0,
      "outputs": [
        {
          "output_type": "execute_result",
          "data": {
            "text/plain": [
              "<_sre.SRE_Match object; span=(6, 7), match='a'>"
            ]
          },
          "metadata": {
            "tags": []
          },
          "execution_count": 26
        }
      ]
    },
    {
      "cell_type": "code",
      "metadata": {
        "id": "YfgI72dkzElc",
        "colab_type": "code",
        "outputId": "3953a344-be7f-419a-d5ed-28194b9ca361",
        "colab": {
          "base_uri": "https://localhost:8080/",
          "height": 34
        }
      },
      "source": [
        "re.search(r\"[abc]\", \"CODE: b20\")"
      ],
      "execution_count": 0,
      "outputs": [
        {
          "output_type": "execute_result",
          "data": {
            "text/plain": [
              "<_sre.SRE_Match object; span=(6, 7), match='b'>"
            ]
          },
          "metadata": {
            "tags": []
          },
          "execution_count": 27
        }
      ]
    },
    {
      "cell_type": "code",
      "metadata": {
        "id": "1krmNpnZzHUN",
        "colab_type": "code",
        "outputId": "42310b2d-ba61-400a-f7c4-709c0aaeeb2a",
        "colab": {
          "base_uri": "https://localhost:8080/",
          "height": 34
        }
      },
      "source": [
        "# [a-z], [A-Z], [0-9] - dopasowuje odpowiednio małe litery, duże litery, cyfry\n",
        "re.search(r\"CODE: [0-9]\", \"CODE: 4\")"
      ],
      "execution_count": 0,
      "outputs": [
        {
          "output_type": "execute_result",
          "data": {
            "text/plain": [
              "<_sre.SRE_Match object; span=(0, 7), match='CODE: 4'>"
            ]
          },
          "metadata": {
            "tags": []
          },
          "execution_count": 28
        }
      ]
    },
    {
      "cell_type": "code",
      "metadata": {
        "id": "lV8uVtyrzcz4",
        "colab_type": "code",
        "outputId": "a9a4ce10-84c8-41eb-abdd-f92a10eba545",
        "colab": {
          "base_uri": "https://localhost:8080/",
          "height": 34
        }
      },
      "source": [
        "# [^0] - dopasowuje downoly znak poza 0\n",
        "re.search(r\"[^0]\", \"Number: 6\")"
      ],
      "execution_count": 0,
      "outputs": [
        {
          "output_type": "execute_result",
          "data": {
            "text/plain": [
              "<_sre.SRE_Match object; span=(0, 1), match='N'>"
            ]
          },
          "metadata": {
            "tags": []
          },
          "execution_count": 29
        }
      ]
    },
    {
      "cell_type": "code",
      "metadata": {
        "id": "NQoXYolczxwE",
        "colab_type": "code",
        "outputId": "b241622b-23b1-4b4b-dcdc-ea27cdeb9146",
        "colab": {
          "base_uri": "https://localhost:8080/",
          "height": 34
        }
      },
      "source": [
        "re.search(r\"[^A-Z]\", \"Number: 6\")"
      ],
      "execution_count": 0,
      "outputs": [
        {
          "output_type": "execute_result",
          "data": {
            "text/plain": [
              "<_sre.SRE_Match object; span=(1, 2), match='u'>"
            ]
          },
          "metadata": {
            "tags": []
          },
          "execution_count": 30
        }
      ]
    },
    {
      "cell_type": "code",
      "metadata": {
        "id": "NzXVmWwoz_yk",
        "colab_type": "code",
        "outputId": "4433a73d-fe32-414c-a176-8a08600f2e94",
        "colab": {
          "base_uri": "https://localhost:8080/",
          "height": 34
        }
      },
      "source": [
        "re.search(r\"[0-9]\", \"Number: 6\")"
      ],
      "execution_count": 0,
      "outputs": [
        {
          "output_type": "execute_result",
          "data": {
            "text/plain": [
              "<_sre.SRE_Match object; span=(8, 9), match='6'>"
            ]
          },
          "metadata": {
            "tags": []
          },
          "execution_count": 31
        }
      ]
    },
    {
      "cell_type": "markdown",
      "metadata": {
        "id": "IEuTanz40VgN",
        "colab_type": "text"
      },
      "source": [
        "Powtórzenia"
      ]
    },
    {
      "cell_type": "code",
      "metadata": {
        "id": "k7bmZ48z0ExJ",
        "colab_type": "code",
        "outputId": "f420f478-b924-4914-bce5-4234654591d0",
        "colab": {
          "base_uri": "https://localhost:8080/",
          "height": 34
        }
      },
      "source": [
        "# + - dopasowuje jeden lub więcej znaków\n",
        "re.search(r\"\\w+\", 'Python 3')"
      ],
      "execution_count": 0,
      "outputs": [
        {
          "output_type": "execute_result",
          "data": {
            "text/plain": [
              "<_sre.SRE_Match object; span=(0, 6), match='Python'>"
            ]
          },
          "metadata": {
            "tags": []
          },
          "execution_count": 32
        }
      ]
    },
    {
      "cell_type": "code",
      "metadata": {
        "id": "SyclI_Af090y",
        "colab_type": "code",
        "outputId": "a4acc751-286e-4edb-e935-f1f41ecdcc2e",
        "colab": {
          "base_uri": "https://localhost:8080/",
          "height": 34
        }
      },
      "source": [
        "re.search(r\"\\w+\", 'CODE: 00-2-330')"
      ],
      "execution_count": 0,
      "outputs": [
        {
          "output_type": "execute_result",
          "data": {
            "text/plain": [
              "<_sre.SRE_Match object; span=(0, 4), match='CODE'>"
            ]
          },
          "metadata": {
            "tags": []
          },
          "execution_count": 33
        }
      ]
    },
    {
      "cell_type": "code",
      "metadata": {
        "id": "PRwqWoYO1CPf",
        "colab_type": "code",
        "outputId": "133d5c12-4903-439e-dbb6-1b4a5d6f3d57",
        "colab": {
          "base_uri": "https://localhost:8080/",
          "height": 34
        }
      },
      "source": [
        "re.search(r\"\\d+\", 'CODE: 00-2-330')"
      ],
      "execution_count": 0,
      "outputs": [
        {
          "output_type": "execute_result",
          "data": {
            "text/plain": [
              "<_sre.SRE_Match object; span=(6, 8), match='00'>"
            ]
          },
          "metadata": {
            "tags": []
          },
          "execution_count": 34
        }
      ]
    },
    {
      "cell_type": "code",
      "metadata": {
        "id": "tdCS2h6q1LrY",
        "colab_type": "code",
        "outputId": "71d50cb7-e87c-4a04-945f-4b729a53db98",
        "colab": {
          "base_uri": "https://localhost:8080/",
          "height": 34
        }
      },
      "source": [
        "re.search(r\"\\W\", 'CODE: 00-2-330')"
      ],
      "execution_count": 0,
      "outputs": [
        {
          "output_type": "execute_result",
          "data": {
            "text/plain": [
              "<_sre.SRE_Match object; span=(4, 5), match=':'>"
            ]
          },
          "metadata": {
            "tags": []
          },
          "execution_count": 35
        }
      ]
    },
    {
      "cell_type": "code",
      "metadata": {
        "id": "xpLbxGIm1VMA",
        "colab_type": "code",
        "outputId": "9f0c74c6-225f-4cc1-9f7f-62945d1a9b33",
        "colab": {
          "base_uri": "https://localhost:8080/",
          "height": 34
        }
      },
      "source": [
        "# {n} - dopasowuje dokładnie n razy\n",
        "re.search(r\"\\d{3}\", 'CODE: 00-2-330')"
      ],
      "execution_count": 0,
      "outputs": [
        {
          "output_type": "execute_result",
          "data": {
            "text/plain": [
              "<_sre.SRE_Match object; span=(11, 14), match='330'>"
            ]
          },
          "metadata": {
            "tags": []
          },
          "execution_count": 36
        }
      ]
    },
    {
      "cell_type": "code",
      "metadata": {
        "id": "VU9INSuI1kHu",
        "colab_type": "code",
        "outputId": "4f94baf3-e3a6-4937-ab30-36ddb7c75503",
        "colab": {
          "base_uri": "https://localhost:8080/",
          "height": 34
        }
      },
      "source": [
        "# {n,} - dopasowuje co najmniej n razy\n",
        "re.search(r\"\\d{2,}\", 'CODE: 0-2-330')"
      ],
      "execution_count": 0,
      "outputs": [
        {
          "output_type": "execute_result",
          "data": {
            "text/plain": [
              "<_sre.SRE_Match object; span=(10, 13), match='330'>"
            ]
          },
          "metadata": {
            "tags": []
          },
          "execution_count": 37
        }
      ]
    },
    {
      "cell_type": "code",
      "metadata": {
        "id": "loYmfOyr11Ff",
        "colab_type": "code",
        "outputId": "dc73671f-8eeb-401f-ad0a-932ab6fd2cef",
        "colab": {
          "base_uri": "https://localhost:8080/",
          "height": 34
        }
      },
      "source": [
        "# {n, m} - dopasowuje co najmniej n razy i nie więcej niż m razy\n",
        "re.search(r\"\\d{2,4}\", \"CODE: 0-1-55651-532\")"
      ],
      "execution_count": 0,
      "outputs": [
        {
          "output_type": "execute_result",
          "data": {
            "text/plain": [
              "<_sre.SRE_Match object; span=(10, 14), match='5565'>"
            ]
          },
          "metadata": {
            "tags": []
          },
          "execution_count": 38
        }
      ]
    },
    {
      "cell_type": "code",
      "metadata": {
        "id": "SLImCMUC2EYN",
        "colab_type": "code",
        "outputId": "3581d3ba-1015-4a93-e7b7-893681a814e8",
        "colab": {
          "base_uri": "https://localhost:8080/",
          "height": 34
        }
      },
      "source": [
        "# * - dopasowuje zero lub więcej znaków\n",
        "re.search(r\"P*\", \"Python\")"
      ],
      "execution_count": 0,
      "outputs": [
        {
          "output_type": "execute_result",
          "data": {
            "text/plain": [
              "<_sre.SRE_Match object; span=(0, 1), match='P'>"
            ]
          },
          "metadata": {
            "tags": []
          },
          "execution_count": 39
        }
      ]
    },
    {
      "cell_type": "code",
      "metadata": {
        "id": "rZ0WR0Ix2X9m",
        "colab_type": "code",
        "outputId": "c6912a97-0e5b-4771-8879-ab87812a760c",
        "colab": {
          "base_uri": "https://localhost:8080/",
          "height": 34
        }
      },
      "source": [
        "re.search(r\"Py*\", \"Python\")"
      ],
      "execution_count": 0,
      "outputs": [
        {
          "output_type": "execute_result",
          "data": {
            "text/plain": [
              "<_sre.SRE_Match object; span=(0, 2), match='Py'>"
            ]
          },
          "metadata": {
            "tags": []
          },
          "execution_count": 40
        }
      ]
    },
    {
      "cell_type": "code",
      "metadata": {
        "id": "2f1N3vof28IM",
        "colab_type": "code",
        "outputId": "785f16d4-2a74-47db-8aa5-a096e00fe7fd",
        "colab": {
          "base_uri": "https://localhost:8080/",
          "height": 34
        }
      },
      "source": [
        "# ? - dopasowuje zero lub jeden znak\n",
        "re.search(r\"CODE?\", \"CODE: 124\")"
      ],
      "execution_count": 0,
      "outputs": [
        {
          "output_type": "execute_result",
          "data": {
            "text/plain": [
              "<_sre.SRE_Match object; span=(0, 4), match='CODE'>"
            ]
          },
          "metadata": {
            "tags": []
          },
          "execution_count": 41
        }
      ]
    },
    {
      "cell_type": "code",
      "metadata": {
        "id": "ktLDy2nj3MG5",
        "colab_type": "code",
        "outputId": "017380c2-ccbe-4662-9e8d-8c3e45e1c3c2",
        "colab": {
          "base_uri": "https://localhost:8080/",
          "height": 316
        }
      },
      "source": [
        "html = \"\"\"<!doctype html>\n",
        "\n",
        "<html lang=\"en\">\n",
        "<head>\n",
        "  <meta charset=\"utf-8\">\n",
        "\n",
        "  <title>The HTML5 Title</title>\n",
        "  <meta name=\"description\">\n",
        "\n",
        "  <link rel=\"stylesheet\" href=\"css/styles.css?v=1.0\">\n",
        "\n",
        "</head>\n",
        "\n",
        "<body>\n",
        "  <script src=\"js/scripts.js\"></script>\n",
        "</body>\n",
        "</html>\"\"\"\n",
        "\n",
        "print(html)"
      ],
      "execution_count": 0,
      "outputs": [
        {
          "output_type": "stream",
          "text": [
            "<!doctype html>\n",
            "\n",
            "<html lang=\"en\">\n",
            "<head>\n",
            "  <meta charset=\"utf-8\">\n",
            "\n",
            "  <title>The HTML5 Title</title>\n",
            "  <meta name=\"description\">\n",
            "\n",
            "  <link rel=\"stylesheet\" href=\"css/styles.css?v=1.0\">\n",
            "\n",
            "</head>\n",
            "\n",
            "<body>\n",
            "  <script src=\"js/scripts.js\"></script>\n",
            "</body>\n",
            "</html>\n"
          ],
          "name": "stdout"
        }
      ]
    },
    {
      "cell_type": "code",
      "metadata": {
        "id": "ZXqHzBR-4BmJ",
        "colab_type": "code",
        "outputId": "53a7619a-d516-428f-fb77-2980aad59d71",
        "colab": {
          "base_uri": "https://localhost:8080/",
          "height": 54
        }
      },
      "source": [
        "html"
      ],
      "execution_count": 0,
      "outputs": [
        {
          "output_type": "execute_result",
          "data": {
            "text/plain": [
              "'<!doctype html>\\n\\n<html lang=\"en\">\\n<head>\\n  <meta charset=\"utf-8\">\\n\\n  <title>The HTML5 Title</title>\\n  <meta name=\"description\">\\n\\n  <link rel=\"stylesheet\" href=\"css/styles.css?v=1.0\">\\n\\n</head>\\n\\n<body>\\n  <script src=\"js/scripts.js\"></script>\\n</body>\\n</html>'"
            ]
          },
          "metadata": {
            "tags": []
          },
          "execution_count": 43
        }
      ]
    },
    {
      "cell_type": "code",
      "metadata": {
        "id": "FlOjT96x4Gv5",
        "colab_type": "code",
        "outputId": "3cf50906-e089-4389-f580-51804e341485",
        "colab": {
          "base_uri": "https://localhost:8080/",
          "height": 228
        }
      },
      "source": [
        "re.findall(r\"<.*>\", html)"
      ],
      "execution_count": 0,
      "outputs": [
        {
          "output_type": "execute_result",
          "data": {
            "text/plain": [
              "['<!doctype html>',\n",
              " '<html lang=\"en\">',\n",
              " '<head>',\n",
              " '<meta charset=\"utf-8\">',\n",
              " '<title>The HTML5 Title</title>',\n",
              " '<meta name=\"description\">',\n",
              " '<link rel=\"stylesheet\" href=\"css/styles.css?v=1.0\">',\n",
              " '</head>',\n",
              " '<body>',\n",
              " '<script src=\"js/scripts.js\"></script>',\n",
              " '</body>',\n",
              " '</html>']"
            ]
          },
          "metadata": {
            "tags": []
          },
          "execution_count": 44
        }
      ]
    },
    {
      "cell_type": "code",
      "metadata": {
        "id": "UUub7tPg4dlq",
        "colab_type": "code",
        "outputId": "4896b688-c27e-4331-d46e-34ab5eaedb98",
        "colab": {
          "base_uri": "https://localhost:8080/",
          "height": 34
        }
      },
      "source": [
        "raw_text = \"Wyślij email na adres: info@template.com lub sales-info@template.it\"\n",
        "\n",
        "re.findall(r\"[\\w\\.-]+@[\\w\\.-]+\", raw_text)"
      ],
      "execution_count": 0,
      "outputs": [
        {
          "output_type": "execute_result",
          "data": {
            "text/plain": [
              "['info@template.com', 'sales-info@template.it']"
            ]
          },
          "metadata": {
            "tags": []
          },
          "execution_count": 45
        }
      ]
    },
    {
      "cell_type": "markdown",
      "metadata": {
        "id": "-NEqVRPQDDt6",
        "colab_type": "text"
      },
      "source": [
        "re.split"
      ]
    },
    {
      "cell_type": "code",
      "metadata": {
        "id": "4HZ4o7eH4r1R",
        "colab_type": "code",
        "outputId": "494147c8-a72a-49f0-96c5-614e9c5ab046",
        "colab": {
          "base_uri": "https://localhost:8080/",
          "height": 34
        }
      },
      "source": [
        "re.split(pattern=r\"\\s+\", string=\"Machine Learning Bootcamp\")"
      ],
      "execution_count": 0,
      "outputs": [
        {
          "output_type": "execute_result",
          "data": {
            "text/plain": [
              "['Machine', 'Learning', 'Bootcamp']"
            ]
          },
          "metadata": {
            "tags": []
          },
          "execution_count": 47
        }
      ]
    },
    {
      "cell_type": "code",
      "metadata": {
        "id": "dO_WOdSQDK_n",
        "colab_type": "code",
        "outputId": "d5352377-d13c-4600-a768-ed800d6982d4",
        "colab": {
          "base_uri": "https://localhost:8080/",
          "height": 34
        }
      },
      "source": [
        "re.split(pattern=r\"\\s+\", string=\"Machine Learning Bootcamp - Python\")"
      ],
      "execution_count": 0,
      "outputs": [
        {
          "output_type": "execute_result",
          "data": {
            "text/plain": [
              "['Machine', 'Learning', 'Bootcamp', '-', 'Python']"
            ]
          },
          "metadata": {
            "tags": []
          },
          "execution_count": 48
        }
      ]
    },
    {
      "cell_type": "code",
      "metadata": {
        "id": "cPvwE1wADltY",
        "colab_type": "code",
        "outputId": "94f95bd3-6562-4f5f-a477-214ef362a04b",
        "colab": {
          "base_uri": "https://localhost:8080/",
          "height": 34
        }
      },
      "source": [
        "text = \"Machine Learning Bootcamp - część 3. Język Python.\"\n",
        "\n",
        "# podział tekstu na zdania\n",
        "re.split(r\"[.]\", text)"
      ],
      "execution_count": 0,
      "outputs": [
        {
          "output_type": "execute_result",
          "data": {
            "text/plain": [
              "['Machine Learning Bootcamp - część 3', ' Język Python', '']"
            ]
          },
          "metadata": {
            "tags": []
          },
          "execution_count": 55
        }
      ]
    },
    {
      "cell_type": "code",
      "metadata": {
        "id": "lfPO7yZPD5Uv",
        "colab_type": "code",
        "outputId": "6d20ac8b-6f29-4e4b-d12b-c505f50069f4",
        "colab": {
          "base_uri": "https://localhost:8080/",
          "height": 34
        }
      },
      "source": [
        "# wydobycie słów rozpoczynających się od dużej litery\n",
        "re.findall(r\"[A-Z]\\w+\", text)"
      ],
      "execution_count": 0,
      "outputs": [
        {
          "output_type": "execute_result",
          "data": {
            "text/plain": [
              "['Machine', 'Learning', 'Bootcamp', 'Język', 'Python']"
            ]
          },
          "metadata": {
            "tags": []
          },
          "execution_count": 56
        }
      ]
    },
    {
      "cell_type": "code",
      "metadata": {
        "id": "fUSb3dCFEE_M",
        "colab_type": "code",
        "outputId": "6e251156-9a6a-4357-e14e-c1afd0bc23ee",
        "colab": {
          "base_uri": "https://localhost:8080/",
          "height": 34
        }
      },
      "source": [
        "# podział względem spacji\n",
        "re.split(r\"\\s+\", text)"
      ],
      "execution_count": 0,
      "outputs": [
        {
          "output_type": "execute_result",
          "data": {
            "text/plain": [
              "['Machine', 'Learning', 'Bootcamp', '-', 'część', '3.', 'Język', 'Python.']"
            ]
          },
          "metadata": {
            "tags": []
          },
          "execution_count": 57
        }
      ]
    },
    {
      "cell_type": "code",
      "metadata": {
        "id": "Ev2jULKdESdA",
        "colab_type": "code",
        "outputId": "d1d4bdce-9b26-4e2b-8e73-04b6bb6101cf",
        "colab": {
          "base_uri": "https://localhost:8080/",
          "height": 34
        }
      },
      "source": [
        "# wydobycie cyfr\n",
        "re.findall(r\"\\d+\", text)"
      ],
      "execution_count": 0,
      "outputs": [
        {
          "output_type": "execute_result",
          "data": {
            "text/plain": [
              "['3']"
            ]
          },
          "metadata": {
            "tags": []
          },
          "execution_count": 58
        }
      ]
    },
    {
      "cell_type": "code",
      "metadata": {
        "id": "vAfz-NdBEkVb",
        "colab_type": "code",
        "colab": {}
      },
      "source": [
        ""
      ],
      "execution_count": 0,
      "outputs": []
    }
  ]
}