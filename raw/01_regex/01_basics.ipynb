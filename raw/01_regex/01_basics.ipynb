{
  "nbformat": 4,
  "nbformat_minor": 0,
  "metadata": {
    "colab": {
      "name": "Copy of 01_regex.ipynb",
      "provenance": [],
      "include_colab_link": true
    },
    "kernelspec": {
      "name": "python3",
      "display_name": "Python 3"
    }
  },
  "cells": [
    {
      "cell_type": "markdown",
      "metadata": {
        "id": "view-in-github",
        "colab_type": "text"
      },
      "source": [
        "<a href=\"https://colab.research.google.com/github/krakowiakpawel9/ml_course/blob/master/raw/01_regex/01_basics.ipynb\" target=\"_parent\"><img src=\"https://colab.research.google.com/assets/colab-badge.svg\" alt=\"Open In Colab\"/></a>"
      ]
    },
    {
      "cell_type": "markdown",
      "metadata": {
        "id": "UbjsT92Xd3z1",
        "colab_type": "text"
      },
      "source": [
        "* @author: krakowiakpawel9@gmail.com  \n",
        "* @site: e-smartdata.org\n",
        "\n",
        "### Regex\n",
        "Strona biblioteki: [https://docs.python.org/3/library/re.html](https://docs.python.org/3/library/re.html)  \n",
        "\n",
        "Podstawowa biblioteka do wyrażeń regularnych w języku Python.\n",
        "\n",
        "### Spis treści:\n",
        "1. [Import bibliotek](#0)\n",
        "2. [Wygenerowanie danych](#1)\n",
        "\n"
      ]
    },
    {
      "cell_type": "markdown",
      "metadata": {
        "id": "YkIALacsUnj7",
        "colab_type": "text"
      },
      "source": [
        "### <a name='0'></a> Import bibliotek"
      ]
    },
    {
      "cell_type": "code",
      "metadata": {
        "id": "0xkyJJtkn2Xl",
        "colab_type": "code",
        "outputId": "e6cb3564-41fe-44c1-a611-25c1a4436a9c",
        "colab": {
          "base_uri": "https://localhost:8080/",
          "height": 35
        }
      },
      "source": [
        "import re\n",
        "re.__version__"
      ],
      "execution_count": 59,
      "outputs": [
        {
          "output_type": "execute_result",
          "data": {
            "text/plain": [
              "'2.2.1'"
            ]
          },
          "metadata": {
            "tags": []
          },
          "execution_count": 59
        }
      ]
    },
    {
      "cell_type": "markdown",
      "metadata": {
        "id": "fPhqWLmb-pNX",
        "colab_type": "text"
      },
      "source": [
        ". - dowolny znak z wyjątkiem znaku nowej linii"
      ]
    },
    {
      "cell_type": "code",
      "metadata": {
        "id": "M2Xf3XkF-Vgr",
        "colab_type": "code",
        "colab": {
          "base_uri": "https://localhost:8080/",
          "height": 35
        },
        "outputId": "8db12394-c972-4fe1-a22e-93d6d1e8fcc1"
      },
      "source": [
        "re.search(pattern=r\".\", string='Python')"
      ],
      "execution_count": 60,
      "outputs": [
        {
          "output_type": "execute_result",
          "data": {
            "text/plain": [
              "<_sre.SRE_Match object; span=(0, 1), match='P'>"
            ]
          },
          "metadata": {
            "tags": []
          },
          "execution_count": 60
        }
      ]
    },
    {
      "cell_type": "code",
      "metadata": {
        "id": "1edh5tID-fJQ",
        "colab_type": "code",
        "colab": {
          "base_uri": "https://localhost:8080/",
          "height": 35
        },
        "outputId": "358f2df0-b26a-414b-a722-7a21075711c9"
      },
      "source": [
        "re.search(pattern=r\".\", string='\\nPython')"
      ],
      "execution_count": 61,
      "outputs": [
        {
          "output_type": "execute_result",
          "data": {
            "text/plain": [
              "<_sre.SRE_Match object; span=(1, 2), match='P'>"
            ]
          },
          "metadata": {
            "tags": []
          },
          "execution_count": 61
        }
      ]
    },
    {
      "cell_type": "markdown",
      "metadata": {
        "id": "buBQHh_9-x2U",
        "colab_type": "text"
      },
      "source": [
        "\\d - dowolna cyfra"
      ]
    },
    {
      "cell_type": "code",
      "metadata": {
        "id": "4GR8GQ7A-iCJ",
        "colab_type": "code",
        "colab": {
          "base_uri": "https://localhost:8080/",
          "height": 35
        },
        "outputId": "90a01196-92db-4fc0-80e7-784477c03c28"
      },
      "source": [
        "re.search(pattern=r\"\\d\", string='Python 3')"
      ],
      "execution_count": 62,
      "outputs": [
        {
          "output_type": "execute_result",
          "data": {
            "text/plain": [
              "<_sre.SRE_Match object; span=(7, 8), match='3'>"
            ]
          },
          "metadata": {
            "tags": []
          },
          "execution_count": 62
        }
      ]
    },
    {
      "cell_type": "markdown",
      "metadata": {
        "id": "UVqLt2kF-_ZN",
        "colab_type": "text"
      },
      "source": [
        "\\D - dowolny znak nie będący cyfrą"
      ]
    },
    {
      "cell_type": "code",
      "metadata": {
        "id": "wrARR4M0-1fw",
        "colab_type": "code",
        "colab": {
          "base_uri": "https://localhost:8080/",
          "height": 35
        },
        "outputId": "c7b4a59f-a7a3-4253-9f74-242a02ab5f57"
      },
      "source": [
        "re.search(pattern=r\"\\D\", string='20-300')"
      ],
      "execution_count": 65,
      "outputs": [
        {
          "output_type": "execute_result",
          "data": {
            "text/plain": [
              "<_sre.SRE_Match object; span=(2, 3), match='-'>"
            ]
          },
          "metadata": {
            "tags": []
          },
          "execution_count": 65
        }
      ]
    },
    {
      "cell_type": "markdown",
      "metadata": {
        "id": "Zd1P5GLY_M7W",
        "colab_type": "text"
      },
      "source": [
        "\\s - dowolny biały znak"
      ]
    },
    {
      "cell_type": "code",
      "metadata": {
        "id": "C5w3a-HA-9dn",
        "colab_type": "code",
        "colab": {}
      },
      "source": [
        "re.search(pattern=r\"\\s\", string='20-300')"
      ],
      "execution_count": 0,
      "outputs": []
    },
    {
      "cell_type": "code",
      "metadata": {
        "id": "2nKeAh-D_PQy",
        "colab_type": "code",
        "colab": {
          "base_uri": "https://localhost:8080/",
          "height": 35
        },
        "outputId": "54d36b8a-bc17-4f96-d262-558f394fbdc1"
      },
      "source": [
        "re.search(pattern=r\"\\s\", string='20-300\\n')"
      ],
      "execution_count": 68,
      "outputs": [
        {
          "output_type": "execute_result",
          "data": {
            "text/plain": [
              "<_sre.SRE_Match object; span=(6, 7), match='\\n'>"
            ]
          },
          "metadata": {
            "tags": []
          },
          "execution_count": 68
        }
      ]
    },
    {
      "cell_type": "code",
      "metadata": {
        "id": "2FQoHYKp_SXv",
        "colab_type": "code",
        "colab": {
          "base_uri": "https://localhost:8080/",
          "height": 35
        },
        "outputId": "a572dcc6-7d87-45cf-d4df-5fd92994a3eb"
      },
      "source": [
        "re.search(pattern=r\"\\s\", string='20 300')"
      ],
      "execution_count": 69,
      "outputs": [
        {
          "output_type": "execute_result",
          "data": {
            "text/plain": [
              "<_sre.SRE_Match object; span=(2, 3), match=' '>"
            ]
          },
          "metadata": {
            "tags": []
          },
          "execution_count": 69
        }
      ]
    },
    {
      "cell_type": "markdown",
      "metadata": {
        "id": "U3S31eEr_Wbz",
        "colab_type": "text"
      },
      "source": [
        "\\S - dowolny znak nie będący białym znakiem"
      ]
    },
    {
      "cell_type": "code",
      "metadata": {
        "id": "QWuQ7_X1_T7D",
        "colab_type": "code",
        "colab": {
          "base_uri": "https://localhost:8080/",
          "height": 35
        },
        "outputId": "8bbcf50f-3ccb-4ac8-a67f-bd9af6b24aa2"
      },
      "source": [
        "re.search(pattern=r\"\\S\", string='   Python  ')"
      ],
      "execution_count": 71,
      "outputs": [
        {
          "output_type": "execute_result",
          "data": {
            "text/plain": [
              "<_sre.SRE_Match object; span=(3, 4), match='P'>"
            ]
          },
          "metadata": {
            "tags": []
          },
          "execution_count": 71
        }
      ]
    },
    {
      "cell_type": "code",
      "metadata": {
        "id": "YWMEWYpn_gT-",
        "colab_type": "code",
        "colab": {
          "base_uri": "https://localhost:8080/",
          "height": 35
        },
        "outputId": "2b290ab6-c3e3-40f8-8aff-82dc6b6e987e"
      },
      "source": [
        "re.search(pattern=r\"\\S\", string='\\nNew Paragraph.\\n')"
      ],
      "execution_count": 72,
      "outputs": [
        {
          "output_type": "execute_result",
          "data": {
            "text/plain": [
              "<_sre.SRE_Match object; span=(1, 2), match='N'>"
            ]
          },
          "metadata": {
            "tags": []
          },
          "execution_count": 72
        }
      ]
    },
    {
      "cell_type": "markdown",
      "metadata": {
        "id": "MuZoOSuR_oNj",
        "colab_type": "text"
      },
      "source": [
        "\\w - dowolny znak alfanumeryczny (litera lub cyfra)"
      ]
    },
    {
      "cell_type": "code",
      "metadata": {
        "id": "sf-sZmJ4_mGL",
        "colab_type": "code",
        "colab": {
          "base_uri": "https://localhost:8080/",
          "height": 35
        },
        "outputId": "4c074ed8-fb0f-4816-f5c9-76c8b823ae19"
      },
      "source": [
        "re.search(pattern=r\"\\w\", string='!@#$%^&4')"
      ],
      "execution_count": 73,
      "outputs": [
        {
          "output_type": "execute_result",
          "data": {
            "text/plain": [
              "<_sre.SRE_Match object; span=(7, 8), match='4'>"
            ]
          },
          "metadata": {
            "tags": []
          },
          "execution_count": 73
        }
      ]
    },
    {
      "cell_type": "markdown",
      "metadata": {
        "id": "KSSlSXsj_w2Y",
        "colab_type": "text"
      },
      "source": [
        "\\W - dowolny znak nie będący znakiem alfanumerycznym\n"
      ]
    },
    {
      "cell_type": "code",
      "metadata": {
        "id": "hYv58v38_vL8",
        "colab_type": "code",
        "colab": {
          "base_uri": "https://localhost:8080/",
          "height": 35
        },
        "outputId": "b6db21f9-df05-494c-8fd5-4dd71a25e5b8"
      },
      "source": [
        "re.search(pattern=r\"\\W\", string='20-300')"
      ],
      "execution_count": 75,
      "outputs": [
        {
          "output_type": "execute_result",
          "data": {
            "text/plain": [
              "<_sre.SRE_Match object; span=(2, 3), match='-'>"
            ]
          },
          "metadata": {
            "tags": []
          },
          "execution_count": 75
        }
      ]
    },
    {
      "cell_type": "code",
      "metadata": {
        "id": "warMJVbc_6KR",
        "colab_type": "code",
        "colab": {
          "base_uri": "https://localhost:8080/",
          "height": 35
        },
        "outputId": "5f9edca9-87ea-4a68-fb36-16e63dd5c3b8"
      },
      "source": [
        "re.search(pattern=r\"\\W\", string='mode#summer')"
      ],
      "execution_count": 77,
      "outputs": [
        {
          "output_type": "execute_result",
          "data": {
            "text/plain": [
              "<_sre.SRE_Match object; span=(4, 5), match='#'>"
            ]
          },
          "metadata": {
            "tags": []
          },
          "execution_count": 77
        }
      ]
    },
    {
      "cell_type": "code",
      "metadata": {
        "id": "Tlb8BU-iAD0l",
        "colab_type": "code",
        "colab": {}
      },
      "source": [
        ""
      ],
      "execution_count": 0,
      "outputs": []
    }
  ]
}