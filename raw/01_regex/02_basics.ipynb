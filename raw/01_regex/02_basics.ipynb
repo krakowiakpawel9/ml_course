{
  "nbformat": 4,
  "nbformat_minor": 0,
  "metadata": {
    "colab": {
      "name": "Copy of 01_regex.ipynb",
      "provenance": [],
      "include_colab_link": true
    },
    "kernelspec": {
      "name": "python3",
      "display_name": "Python 3"
    }
  },
  "cells": [
    {
      "cell_type": "markdown",
      "metadata": {
        "id": "view-in-github",
        "colab_type": "text"
      },
      "source": [
        "<a href=\"https://colab.research.google.com/github/krakowiakpawel9/ml_course/blob/master/raw/01_regex/02_basics.ipynb\" target=\"_parent\"><img src=\"https://colab.research.google.com/assets/colab-badge.svg\" alt=\"Open In Colab\"/></a>"
      ]
    },
    {
      "cell_type": "markdown",
      "metadata": {
        "id": "UbjsT92Xd3z1",
        "colab_type": "text"
      },
      "source": [
        "* @author: krakowiakpawel9@gmail.com  \n",
        "* @site: e-smartdata.org\n",
        "\n",
        "### Regex\n",
        "Strona biblioteki: [https://docs.python.org/3/library/re.html](https://docs.python.org/3/library/re.html)  \n",
        "\n",
        "Podstawowa biblioteka do wyrażeń regularnych w języku Python.\n",
        "\n",
        "### Spis treści:\n",
        "1. [Import bibliotek](#0)\n",
        "2. [Wygenerowanie danych](#1)\n",
        "\n"
      ]
    },
    {
      "cell_type": "markdown",
      "metadata": {
        "id": "YkIALacsUnj7",
        "colab_type": "text"
      },
      "source": [
        "### <a name='0'></a> Import bibliotek"
      ]
    },
    {
      "cell_type": "code",
      "metadata": {
        "id": "0xkyJJtkn2Xl",
        "colab_type": "code",
        "outputId": "393b3fc5-67d5-44a8-b0bf-01a9bf869065",
        "colab": {
          "base_uri": "https://localhost:8080/",
          "height": 35
        }
      },
      "source": [
        "import re\n",
        "re.__version__"
      ],
      "execution_count": 1,
      "outputs": [
        {
          "output_type": "execute_result",
          "data": {
            "text/plain": [
              "'2.2.1'"
            ]
          },
          "metadata": {
            "tags": []
          },
          "execution_count": 1
        }
      ]
    },
    {
      "cell_type": "markdown",
      "metadata": {
        "id": "fPhqWLmb-pNX",
        "colab_type": "text"
      },
      "source": [
        ". - dowolny znak z wyjątkiem znaku nowej linii"
      ]
    },
    {
      "cell_type": "code",
      "metadata": {
        "id": "M2Xf3XkF-Vgr",
        "colab_type": "code",
        "outputId": "ecda9275-47a0-40d1-c476-ebf68bc9cf0d",
        "colab": {
          "base_uri": "https://localhost:8080/",
          "height": 35
        }
      },
      "source": [
        "re.search(pattern=r\".\", string='Python')"
      ],
      "execution_count": 2,
      "outputs": [
        {
          "output_type": "execute_result",
          "data": {
            "text/plain": [
              "<_sre.SRE_Match object; span=(0, 1), match='P'>"
            ]
          },
          "metadata": {
            "tags": []
          },
          "execution_count": 2
        }
      ]
    },
    {
      "cell_type": "code",
      "metadata": {
        "id": "1edh5tID-fJQ",
        "colab_type": "code",
        "outputId": "ed0b7c2d-7761-4e81-f79f-87d42626a447",
        "colab": {
          "base_uri": "https://localhost:8080/",
          "height": 35
        }
      },
      "source": [
        "re.search(pattern=r\".\", string='\\nPython')"
      ],
      "execution_count": 3,
      "outputs": [
        {
          "output_type": "execute_result",
          "data": {
            "text/plain": [
              "<_sre.SRE_Match object; span=(1, 2), match='P'>"
            ]
          },
          "metadata": {
            "tags": []
          },
          "execution_count": 3
        }
      ]
    },
    {
      "cell_type": "markdown",
      "metadata": {
        "id": "buBQHh_9-x2U",
        "colab_type": "text"
      },
      "source": [
        "\\d - dowolna cyfra"
      ]
    },
    {
      "cell_type": "code",
      "metadata": {
        "id": "4GR8GQ7A-iCJ",
        "colab_type": "code",
        "outputId": "23534c1d-110f-423e-c9eb-da50ccc859cd",
        "colab": {
          "base_uri": "https://localhost:8080/",
          "height": 35
        }
      },
      "source": [
        "re.search(pattern=r\"\\d\", string='Python 3')"
      ],
      "execution_count": 4,
      "outputs": [
        {
          "output_type": "execute_result",
          "data": {
            "text/plain": [
              "<_sre.SRE_Match object; span=(7, 8), match='3'>"
            ]
          },
          "metadata": {
            "tags": []
          },
          "execution_count": 4
        }
      ]
    },
    {
      "cell_type": "markdown",
      "metadata": {
        "id": "UVqLt2kF-_ZN",
        "colab_type": "text"
      },
      "source": [
        "\\D - dowolny znak nie będący cyfrą"
      ]
    },
    {
      "cell_type": "code",
      "metadata": {
        "id": "wrARR4M0-1fw",
        "colab_type": "code",
        "outputId": "0f387720-0c76-4e20-9885-9906d03ca180",
        "colab": {
          "base_uri": "https://localhost:8080/",
          "height": 35
        }
      },
      "source": [
        "re.search(pattern=r\"\\D\", string='20-300')"
      ],
      "execution_count": 5,
      "outputs": [
        {
          "output_type": "execute_result",
          "data": {
            "text/plain": [
              "<_sre.SRE_Match object; span=(2, 3), match='-'>"
            ]
          },
          "metadata": {
            "tags": []
          },
          "execution_count": 5
        }
      ]
    },
    {
      "cell_type": "markdown",
      "metadata": {
        "id": "Zd1P5GLY_M7W",
        "colab_type": "text"
      },
      "source": [
        "\\s - dowolny biały znak"
      ]
    },
    {
      "cell_type": "code",
      "metadata": {
        "id": "C5w3a-HA-9dn",
        "colab_type": "code",
        "colab": {}
      },
      "source": [
        "re.search(pattern=r\"\\s\", string='20-300')"
      ],
      "execution_count": 0,
      "outputs": []
    },
    {
      "cell_type": "code",
      "metadata": {
        "id": "2nKeAh-D_PQy",
        "colab_type": "code",
        "outputId": "60607589-a551-4ebf-9b03-38fa9b22b876",
        "colab": {
          "base_uri": "https://localhost:8080/",
          "height": 35
        }
      },
      "source": [
        "re.search(pattern=r\"\\s\", string='20-300\\n')"
      ],
      "execution_count": 7,
      "outputs": [
        {
          "output_type": "execute_result",
          "data": {
            "text/plain": [
              "<_sre.SRE_Match object; span=(6, 7), match='\\n'>"
            ]
          },
          "metadata": {
            "tags": []
          },
          "execution_count": 7
        }
      ]
    },
    {
      "cell_type": "code",
      "metadata": {
        "id": "2FQoHYKp_SXv",
        "colab_type": "code",
        "outputId": "40e5f3ca-eb40-464d-df7d-9faf46683d4a",
        "colab": {
          "base_uri": "https://localhost:8080/",
          "height": 35
        }
      },
      "source": [
        "re.search(pattern=r\"\\s\", string='20 300')"
      ],
      "execution_count": 8,
      "outputs": [
        {
          "output_type": "execute_result",
          "data": {
            "text/plain": [
              "<_sre.SRE_Match object; span=(2, 3), match=' '>"
            ]
          },
          "metadata": {
            "tags": []
          },
          "execution_count": 8
        }
      ]
    },
    {
      "cell_type": "markdown",
      "metadata": {
        "id": "U3S31eEr_Wbz",
        "colab_type": "text"
      },
      "source": [
        "\\S - dowolny znak nie będący białym znakiem"
      ]
    },
    {
      "cell_type": "code",
      "metadata": {
        "id": "QWuQ7_X1_T7D",
        "colab_type": "code",
        "outputId": "94f4a40a-f0ef-4d48-8deb-33c27cb94628",
        "colab": {
          "base_uri": "https://localhost:8080/",
          "height": 35
        }
      },
      "source": [
        "re.search(pattern=r\"\\S\", string='   Python  ')"
      ],
      "execution_count": 9,
      "outputs": [
        {
          "output_type": "execute_result",
          "data": {
            "text/plain": [
              "<_sre.SRE_Match object; span=(3, 4), match='P'>"
            ]
          },
          "metadata": {
            "tags": []
          },
          "execution_count": 9
        }
      ]
    },
    {
      "cell_type": "code",
      "metadata": {
        "id": "YWMEWYpn_gT-",
        "colab_type": "code",
        "outputId": "a0d0f768-e1d3-42ea-ddda-7abdb032cff3",
        "colab": {
          "base_uri": "https://localhost:8080/",
          "height": 35
        }
      },
      "source": [
        "re.search(pattern=r\"\\S\", string='\\nNew Paragraph.\\n')"
      ],
      "execution_count": 10,
      "outputs": [
        {
          "output_type": "execute_result",
          "data": {
            "text/plain": [
              "<_sre.SRE_Match object; span=(1, 2), match='N'>"
            ]
          },
          "metadata": {
            "tags": []
          },
          "execution_count": 10
        }
      ]
    },
    {
      "cell_type": "markdown",
      "metadata": {
        "id": "MuZoOSuR_oNj",
        "colab_type": "text"
      },
      "source": [
        "\\w - dowolny znak alfanumeryczny (litera lub cyfra)"
      ]
    },
    {
      "cell_type": "code",
      "metadata": {
        "id": "sf-sZmJ4_mGL",
        "colab_type": "code",
        "outputId": "e20189a7-e5fb-4296-99b7-c43856cdc6f0",
        "colab": {
          "base_uri": "https://localhost:8080/",
          "height": 35
        }
      },
      "source": [
        "re.search(pattern=r\"\\w\", string='!@#$%^&4')"
      ],
      "execution_count": 11,
      "outputs": [
        {
          "output_type": "execute_result",
          "data": {
            "text/plain": [
              "<_sre.SRE_Match object; span=(7, 8), match='4'>"
            ]
          },
          "metadata": {
            "tags": []
          },
          "execution_count": 11
        }
      ]
    },
    {
      "cell_type": "markdown",
      "metadata": {
        "id": "KSSlSXsj_w2Y",
        "colab_type": "text"
      },
      "source": [
        "\\W - dowolny znak nie będący znakiem alfanumerycznym\n"
      ]
    },
    {
      "cell_type": "code",
      "metadata": {
        "id": "hYv58v38_vL8",
        "colab_type": "code",
        "outputId": "eb28f299-ca6e-427b-b6fd-f2be7584187c",
        "colab": {
          "base_uri": "https://localhost:8080/",
          "height": 35
        }
      },
      "source": [
        "re.search(pattern=r\"\\W\", string='20-300')"
      ],
      "execution_count": 12,
      "outputs": [
        {
          "output_type": "execute_result",
          "data": {
            "text/plain": [
              "<_sre.SRE_Match object; span=(2, 3), match='-'>"
            ]
          },
          "metadata": {
            "tags": []
          },
          "execution_count": 12
        }
      ]
    },
    {
      "cell_type": "code",
      "metadata": {
        "id": "warMJVbc_6KR",
        "colab_type": "code",
        "outputId": "5188a88f-e183-4cd6-d0c1-7caaff35bbd8",
        "colab": {
          "base_uri": "https://localhost:8080/",
          "height": 35
        }
      },
      "source": [
        "re.search(pattern=r\"\\W\", string='mode#summer')"
      ],
      "execution_count": 13,
      "outputs": [
        {
          "output_type": "execute_result",
          "data": {
            "text/plain": [
              "<_sre.SRE_Match object; span=(4, 5), match='#'>"
            ]
          },
          "metadata": {
            "tags": []
          },
          "execution_count": 13
        }
      ]
    },
    {
      "cell_type": "markdown",
      "metadata": {
        "id": "5_x0efxrAegT",
        "colab_type": "text"
      },
      "source": [
        "### Kwantyfikatory"
      ]
    },
    {
      "cell_type": "markdown",
      "metadata": {
        "id": "8_F15tAiA12U",
        "colab_type": "text"
      },
      "source": [
        "\\* - zero lub więcej wystąpień"
      ]
    },
    {
      "cell_type": "code",
      "metadata": {
        "id": "ISQOYDMRA_67",
        "colab_type": "code",
        "colab": {
          "base_uri": "https://localhost:8080/",
          "height": 35
        },
        "outputId": "c05d7672-9c6b-426c-9e22-c56ae87e5a04"
      },
      "source": [
        "re.search(pattern=r\"ab\", string='ab')"
      ],
      "execution_count": 17,
      "outputs": [
        {
          "output_type": "execute_result",
          "data": {
            "text/plain": [
              "<_sre.SRE_Match object; span=(0, 2), match='ab'>"
            ]
          },
          "metadata": {
            "tags": []
          },
          "execution_count": 17
        }
      ]
    },
    {
      "cell_type": "code",
      "metadata": {
        "id": "Tlb8BU-iAD0l",
        "colab_type": "code",
        "colab": {
          "base_uri": "https://localhost:8080/",
          "height": 35
        },
        "outputId": "88d99397-335e-4ce5-a722-558a94dff050"
      },
      "source": [
        "re.search(pattern=r\"a*b\", string='ab')"
      ],
      "execution_count": 18,
      "outputs": [
        {
          "output_type": "execute_result",
          "data": {
            "text/plain": [
              "<_sre.SRE_Match object; span=(0, 2), match='ab'>"
            ]
          },
          "metadata": {
            "tags": []
          },
          "execution_count": 18
        }
      ]
    },
    {
      "cell_type": "code",
      "metadata": {
        "id": "mhP4IN3DAlxK",
        "colab_type": "code",
        "colab": {
          "base_uri": "https://localhost:8080/",
          "height": 35
        },
        "outputId": "311422af-e55a-449e-c2ed-00a94695ffe3"
      },
      "source": [
        "re.search(pattern=r\"a*b\", string='b')"
      ],
      "execution_count": 19,
      "outputs": [
        {
          "output_type": "execute_result",
          "data": {
            "text/plain": [
              "<_sre.SRE_Match object; span=(0, 1), match='b'>"
            ]
          },
          "metadata": {
            "tags": []
          },
          "execution_count": 19
        }
      ]
    },
    {
      "cell_type": "code",
      "metadata": {
        "id": "KQXj7X7zA9u8",
        "colab_type": "code",
        "colab": {
          "base_uri": "https://localhost:8080/",
          "height": 35
        },
        "outputId": "15aae430-a29d-4ba2-f022-65f375f16fac"
      },
      "source": [
        "re.search(pattern=r\"a*b\", string='aab')"
      ],
      "execution_count": 21,
      "outputs": [
        {
          "output_type": "execute_result",
          "data": {
            "text/plain": [
              "<_sre.SRE_Match object; span=(0, 3), match='aab'>"
            ]
          },
          "metadata": {
            "tags": []
          },
          "execution_count": 21
        }
      ]
    },
    {
      "cell_type": "code",
      "metadata": {
        "id": "XFtyABnNBBvP",
        "colab_type": "code",
        "colab": {
          "base_uri": "https://localhost:8080/",
          "height": 35
        },
        "outputId": "3a737b08-1d91-4820-eaf3-19f5a273cf9e"
      },
      "source": [
        "re.search(pattern=r\"a*b\", string='aaaaab')"
      ],
      "execution_count": 22,
      "outputs": [
        {
          "output_type": "execute_result",
          "data": {
            "text/plain": [
              "<_sre.SRE_Match object; span=(0, 6), match='aaaaab'>"
            ]
          },
          "metadata": {
            "tags": []
          },
          "execution_count": 22
        }
      ]
    },
    {
      "cell_type": "markdown",
      "metadata": {
        "id": "NtBx0O3vBKV8",
        "colab_type": "text"
      },
      "source": [
        "\\+ - jeden lub więcej wystąpień"
      ]
    },
    {
      "cell_type": "code",
      "metadata": {
        "id": "nJKFloqbBGo_",
        "colab_type": "code",
        "colab": {}
      },
      "source": [
        "re.search(pattern=r\"a+b\", string='b')"
      ],
      "execution_count": 0,
      "outputs": []
    },
    {
      "cell_type": "code",
      "metadata": {
        "id": "ScVkV6raBzWX",
        "colab_type": "code",
        "colab": {
          "base_uri": "https://localhost:8080/",
          "height": 35
        },
        "outputId": "1d88f15a-d4d4-42c3-f251-e1c7a6148fbf"
      },
      "source": [
        "re.search(pattern=r\"a+b\", string='ab')"
      ],
      "execution_count": 25,
      "outputs": [
        {
          "output_type": "execute_result",
          "data": {
            "text/plain": [
              "<_sre.SRE_Match object; span=(0, 2), match='ab'>"
            ]
          },
          "metadata": {
            "tags": []
          },
          "execution_count": 25
        }
      ]
    },
    {
      "cell_type": "code",
      "metadata": {
        "id": "y3mWncyHB0zB",
        "colab_type": "code",
        "colab": {
          "base_uri": "https://localhost:8080/",
          "height": 35
        },
        "outputId": "e6b5808c-28b3-4523-b6f7-47a2a8b2702b"
      },
      "source": [
        "re.search(pattern=r\"a+b\", string='aaaaab')"
      ],
      "execution_count": 26,
      "outputs": [
        {
          "output_type": "execute_result",
          "data": {
            "text/plain": [
              "<_sre.SRE_Match object; span=(0, 6), match='aaaaab'>"
            ]
          },
          "metadata": {
            "tags": []
          },
          "execution_count": 26
        }
      ]
    },
    {
      "cell_type": "markdown",
      "metadata": {
        "id": "-5h2NwqpB3m-",
        "colab_type": "text"
      },
      "source": [
        "? - zero lub jedno wystąpienie"
      ]
    },
    {
      "cell_type": "code",
      "metadata": {
        "id": "WJ96AOpcB2GU",
        "colab_type": "code",
        "colab": {
          "base_uri": "https://localhost:8080/",
          "height": 35
        },
        "outputId": "280122e4-4a04-4594-a2c7-81f0af12af54"
      },
      "source": [
        "re.search(pattern=r\"a?b\", string='b')"
      ],
      "execution_count": 27,
      "outputs": [
        {
          "output_type": "execute_result",
          "data": {
            "text/plain": [
              "<_sre.SRE_Match object; span=(0, 1), match='b'>"
            ]
          },
          "metadata": {
            "tags": []
          },
          "execution_count": 27
        }
      ]
    },
    {
      "cell_type": "code",
      "metadata": {
        "id": "jN_uqv-aCIj0",
        "colab_type": "code",
        "colab": {
          "base_uri": "https://localhost:8080/",
          "height": 35
        },
        "outputId": "4b8404bf-1e7f-4638-bc49-c7fb7abfac2c"
      },
      "source": [
        "re.search(pattern=r\"a?b\", string='ab')"
      ],
      "execution_count": 28,
      "outputs": [
        {
          "output_type": "execute_result",
          "data": {
            "text/plain": [
              "<_sre.SRE_Match object; span=(0, 2), match='ab'>"
            ]
          },
          "metadata": {
            "tags": []
          },
          "execution_count": 28
        }
      ]
    },
    {
      "cell_type": "code",
      "metadata": {
        "id": "ulcA6htJCQgC",
        "colab_type": "code",
        "colab": {
          "base_uri": "https://localhost:8080/",
          "height": 35
        },
        "outputId": "67fda568-4dcd-4034-9222-56fb5b8af517"
      },
      "source": [
        "re.search(pattern=r\"a?b\", string='aab')"
      ],
      "execution_count": 29,
      "outputs": [
        {
          "output_type": "execute_result",
          "data": {
            "text/plain": [
              "<_sre.SRE_Match object; span=(1, 3), match='ab'>"
            ]
          },
          "metadata": {
            "tags": []
          },
          "execution_count": 29
        }
      ]
    },
    {
      "cell_type": "markdown",
      "metadata": {
        "id": "JEmptPZfCZF2",
        "colab_type": "text"
      },
      "source": [
        "{m} - dokładnie m wystąpień\n"
      ]
    },
    {
      "cell_type": "code",
      "metadata": {
        "id": "mNdBc06-CRl_",
        "colab_type": "code",
        "colab": {}
      },
      "source": [
        "re.search(pattern=r\"a{2}b\", string='ab')"
      ],
      "execution_count": 0,
      "outputs": []
    },
    {
      "cell_type": "code",
      "metadata": {
        "id": "15wUlP_hCe23",
        "colab_type": "code",
        "colab": {
          "base_uri": "https://localhost:8080/",
          "height": 35
        },
        "outputId": "ba90fd3f-54a5-4649-891d-3fd02f58b4b7"
      },
      "source": [
        "re.search(pattern=r\"a{2}b\", string='aab')"
      ],
      "execution_count": 31,
      "outputs": [
        {
          "output_type": "execute_result",
          "data": {
            "text/plain": [
              "<_sre.SRE_Match object; span=(0, 3), match='aab'>"
            ]
          },
          "metadata": {
            "tags": []
          },
          "execution_count": 31
        }
      ]
    },
    {
      "cell_type": "code",
      "metadata": {
        "id": "cj3mqIszCf_Y",
        "colab_type": "code",
        "colab": {
          "base_uri": "https://localhost:8080/",
          "height": 35
        },
        "outputId": "fc26adf7-05cf-4ada-dc22-4edd6910da40"
      },
      "source": [
        "re.search(pattern=r\"a{2}b\", string='aaab')"
      ],
      "execution_count": 33,
      "outputs": [
        {
          "output_type": "execute_result",
          "data": {
            "text/plain": [
              "<_sre.SRE_Match object; span=(1, 4), match='aab'>"
            ]
          },
          "metadata": {
            "tags": []
          },
          "execution_count": 33
        }
      ]
    },
    {
      "cell_type": "markdown",
      "metadata": {
        "id": "vzdwyFfWCn-H",
        "colab_type": "text"
      },
      "source": [
        "{m,} - co najmniej m wystąpień\n"
      ]
    },
    {
      "cell_type": "code",
      "metadata": {
        "id": "RDFbYq9kCg76",
        "colab_type": "code",
        "colab": {
          "base_uri": "https://localhost:8080/",
          "height": 35
        },
        "outputId": "9ae85098-43b4-469d-e1e0-5c975551fbb0"
      },
      "source": [
        "re.search(pattern=r\"a{2,}b\", string='aab')"
      ],
      "execution_count": 34,
      "outputs": [
        {
          "output_type": "execute_result",
          "data": {
            "text/plain": [
              "<_sre.SRE_Match object; span=(0, 3), match='aab'>"
            ]
          },
          "metadata": {
            "tags": []
          },
          "execution_count": 34
        }
      ]
    },
    {
      "cell_type": "code",
      "metadata": {
        "id": "3Roa4wJVCsRa",
        "colab_type": "code",
        "colab": {
          "base_uri": "https://localhost:8080/",
          "height": 35
        },
        "outputId": "0d497aed-63fe-40aa-f569-d7209af36149"
      },
      "source": [
        "re.search(pattern=r\"a{2,}b\", string='aaaab')"
      ],
      "execution_count": 35,
      "outputs": [
        {
          "output_type": "execute_result",
          "data": {
            "text/plain": [
              "<_sre.SRE_Match object; span=(0, 5), match='aaaab'>"
            ]
          },
          "metadata": {
            "tags": []
          },
          "execution_count": 35
        }
      ]
    },
    {
      "cell_type": "markdown",
      "metadata": {
        "id": "35xZsoYnCv-d",
        "colab_type": "text"
      },
      "source": [
        "{m,n} - od m do n wystąpień\n"
      ]
    },
    {
      "cell_type": "code",
      "metadata": {
        "id": "Vz-_9tF7C0jB",
        "colab_type": "code",
        "colab": {
          "base_uri": "https://localhost:8080/",
          "height": 35
        },
        "outputId": "188e0158-2da1-4ab0-d944-546926391ecd"
      },
      "source": [
        "re.search(pattern=r\"a{2,}b\", string='aab')"
      ],
      "execution_count": 37,
      "outputs": [
        {
          "output_type": "execute_result",
          "data": {
            "text/plain": [
              "<_sre.SRE_Match object; span=(0, 3), match='aab'>"
            ]
          },
          "metadata": {
            "tags": []
          },
          "execution_count": 37
        }
      ]
    },
    {
      "cell_type": "code",
      "metadata": {
        "id": "YmGSlWfSCt0e",
        "colab_type": "code",
        "colab": {
          "base_uri": "https://localhost:8080/",
          "height": 35
        },
        "outputId": "469a7efe-65c9-4e6a-8185-38a1a4c806cd"
      },
      "source": [
        "re.search(pattern=r\"a{2,3}b\", string='aaaab')"
      ],
      "execution_count": 36,
      "outputs": [
        {
          "output_type": "execute_result",
          "data": {
            "text/plain": [
              "<_sre.SRE_Match object; span=(1, 5), match='aaab'>"
            ]
          },
          "metadata": {
            "tags": []
          },
          "execution_count": 36
        }
      ]
    },
    {
      "cell_type": "markdown",
      "metadata": {
        "id": "5_VxH6NHC9Ow",
        "colab_type": "text"
      },
      "source": [
        "[...] - jeden znak spośród zbioru znaków\n"
      ]
    },
    {
      "cell_type": "code",
      "metadata": {
        "id": "OUOvG4kmDM3o",
        "colab_type": "code",
        "colab": {
          "base_uri": "https://localhost:8080/",
          "height": 35
        },
        "outputId": "76fd6295-4600-44b2-a303-252cf05880e6"
      },
      "source": [
        "re.search(pattern=r\"[123]\", string='0010')"
      ],
      "execution_count": 41,
      "outputs": [
        {
          "output_type": "execute_result",
          "data": {
            "text/plain": [
              "<_sre.SRE_Match object; span=(2, 3), match='1'>"
            ]
          },
          "metadata": {
            "tags": []
          },
          "execution_count": 41
        }
      ]
    },
    {
      "cell_type": "code",
      "metadata": {
        "id": "83atiFzfDau3",
        "colab_type": "code",
        "colab": {
          "base_uri": "https://localhost:8080/",
          "height": 35
        },
        "outputId": "016b4244-cd14-4e62-ed66-d772afc0f89e"
      },
      "source": [
        "re.search(pattern=r\"[123]\", string='000-423')"
      ],
      "execution_count": 43,
      "outputs": [
        {
          "output_type": "execute_result",
          "data": {
            "text/plain": [
              "<_sre.SRE_Match object; span=(5, 6), match='2'>"
            ]
          },
          "metadata": {
            "tags": []
          },
          "execution_count": 43
        }
      ]
    },
    {
      "cell_type": "code",
      "metadata": {
        "id": "lTmR5xMADle7",
        "colab_type": "code",
        "colab": {
          "base_uri": "https://localhost:8080/",
          "height": 35
        },
        "outputId": "c8ea4a9d-2c2b-4b05-d755-a5c67d411d6c"
      },
      "source": [
        "re.search(pattern=r\"[x][01]\", string='x1010')"
      ],
      "execution_count": 45,
      "outputs": [
        {
          "output_type": "execute_result",
          "data": {
            "text/plain": [
              "<_sre.SRE_Match object; span=(0, 2), match='x1'>"
            ]
          },
          "metadata": {
            "tags": []
          },
          "execution_count": 45
        }
      ]
    },
    {
      "cell_type": "code",
      "metadata": {
        "id": "sJaXtJGuDJeS",
        "colab_type": "code",
        "colab": {}
      },
      "source": [
        "re.search(pattern=r\"[abc][xyz]\", string='aab')"
      ],
      "execution_count": 0,
      "outputs": []
    },
    {
      "cell_type": "code",
      "metadata": {
        "id": "dhXYsg7pC3ei",
        "colab_type": "code",
        "colab": {
          "base_uri": "https://localhost:8080/",
          "height": 35
        },
        "outputId": "88a7aa71-2af1-4207-a3c9-a688579bc9c8"
      },
      "source": [
        "re.search(pattern=r\"[abc][xyz]\", string='ax')"
      ],
      "execution_count": 47,
      "outputs": [
        {
          "output_type": "execute_result",
          "data": {
            "text/plain": [
              "<_sre.SRE_Match object; span=(0, 2), match='ax'>"
            ]
          },
          "metadata": {
            "tags": []
          },
          "execution_count": 47
        }
      ]
    },
    {
      "cell_type": "code",
      "metadata": {
        "id": "oQFOQzOtDHio",
        "colab_type": "code",
        "colab": {
          "base_uri": "https://localhost:8080/",
          "height": 35
        },
        "outputId": "509ab277-363e-4b93-e575-177b47ad2ef9"
      },
      "source": [
        "re.search(pattern=r\"[abc][xyz]\", string='aax')"
      ],
      "execution_count": 48,
      "outputs": [
        {
          "output_type": "execute_result",
          "data": {
            "text/plain": [
              "<_sre.SRE_Match object; span=(1, 3), match='ax'>"
            ]
          },
          "metadata": {
            "tags": []
          },
          "execution_count": 48
        }
      ]
    },
    {
      "cell_type": "markdown",
      "metadata": {
        "id": "yETmiJxKD34A",
        "colab_type": "text"
      },
      "source": [
        "[^...] - jeden znak spoza zbioru znaków\n"
      ]
    },
    {
      "cell_type": "code",
      "metadata": {
        "id": "LgUZ9U9SD16M",
        "colab_type": "code",
        "colab": {
          "base_uri": "https://localhost:8080/",
          "height": 35
        },
        "outputId": "c50d33d4-4f8a-4954-d9ef-c5a257b180da"
      },
      "source": [
        "re.search(pattern=r\"[^0-]\", string='000-423')"
      ],
      "execution_count": 50,
      "outputs": [
        {
          "output_type": "execute_result",
          "data": {
            "text/plain": [
              "<_sre.SRE_Match object; span=(4, 5), match='4'>"
            ]
          },
          "metadata": {
            "tags": []
          },
          "execution_count": 50
        }
      ]
    },
    {
      "cell_type": "code",
      "metadata": {
        "id": "9sg5qUqCD99N",
        "colab_type": "code",
        "colab": {}
      },
      "source": [
        "re.search(pattern=r\"[^0-]\", string='000-423')"
      ],
      "execution_count": 0,
      "outputs": []
    },
    {
      "cell_type": "markdown",
      "metadata": {
        "id": "KjuG0l3jEMxm",
        "colab_type": "text"
      },
      "source": [
        "A|B - dopasowanie A lub B"
      ]
    },
    {
      "cell_type": "code",
      "metadata": {
        "id": "LIlRQoYSEOWp",
        "colab_type": "code",
        "colab": {
          "base_uri": "https://localhost:8080/",
          "height": 35
        },
        "outputId": "8a8d0337-31c9-4e5b-cb2c-86a0a9f3c53d"
      },
      "source": [
        "re.search(pattern=r\"PL|\\d+\", string='PL code: 110')"
      ],
      "execution_count": 56,
      "outputs": [
        {
          "output_type": "execute_result",
          "data": {
            "text/plain": [
              "<_sre.SRE_Match object; span=(0, 2), match='PL'>"
            ]
          },
          "metadata": {
            "tags": []
          },
          "execution_count": 56
        }
      ]
    },
    {
      "cell_type": "code",
      "metadata": {
        "id": "YdGqcecPER-s",
        "colab_type": "code",
        "colab": {
          "base_uri": "https://localhost:8080/",
          "height": 35
        },
        "outputId": "e5aacd37-2992-4c3c-bca4-ca81ec09801f"
      },
      "source": [
        "re.search(pattern=r\"PL|\\d+\", string='GER code: 110')"
      ],
      "execution_count": 57,
      "outputs": [
        {
          "output_type": "execute_result",
          "data": {
            "text/plain": [
              "<_sre.SRE_Match object; span=(10, 13), match='110'>"
            ]
          },
          "metadata": {
            "tags": []
          },
          "execution_count": 57
        }
      ]
    },
    {
      "cell_type": "markdown",
      "metadata": {
        "id": "KcKUQCQcFRAx",
        "colab_type": "text"
      },
      "source": [
        "^ - początek tekstu"
      ]
    },
    {
      "cell_type": "code",
      "metadata": {
        "id": "KBtdMonSE4XC",
        "colab_type": "code",
        "colab": {
          "base_uri": "https://localhost:8080/",
          "height": 35
        },
        "outputId": "c5aaa575-87cf-4547-99b8-033ccbb8a5c9"
      },
      "source": [
        "re.search(pattern=r\"^PL\", string='PL code: 110')"
      ],
      "execution_count": 58,
      "outputs": [
        {
          "output_type": "execute_result",
          "data": {
            "text/plain": [
              "<_sre.SRE_Match object; span=(0, 2), match='PL'>"
            ]
          },
          "metadata": {
            "tags": []
          },
          "execution_count": 58
        }
      ]
    },
    {
      "cell_type": "code",
      "metadata": {
        "id": "WZkMDtbOFYZZ",
        "colab_type": "code",
        "colab": {}
      },
      "source": [
        "re.search(pattern=r\"^PL\", string=' PL code: 110')"
      ],
      "execution_count": 0,
      "outputs": []
    },
    {
      "cell_type": "markdown",
      "metadata": {
        "id": "LddJNFDMFehJ",
        "colab_type": "text"
      },
      "source": [
        "$ - koniec tekstu"
      ]
    },
    {
      "cell_type": "code",
      "metadata": {
        "id": "c9sf4FBVFb8O",
        "colab_type": "code",
        "colab": {
          "base_uri": "https://localhost:8080/",
          "height": 35
        },
        "outputId": "22f985ac-3752-451a-e8ab-9466fd666d81"
      },
      "source": [
        "re.search(pattern=r\"10$\", string=' PL code: 110')"
      ],
      "execution_count": 61,
      "outputs": [
        {
          "output_type": "execute_result",
          "data": {
            "text/plain": [
              "<_sre.SRE_Match object; span=(11, 13), match='10'>"
            ]
          },
          "metadata": {
            "tags": []
          },
          "execution_count": 61
        }
      ]
    },
    {
      "cell_type": "code",
      "metadata": {
        "id": "JK7vYW0RFjHI",
        "colab_type": "code",
        "colab": {
          "base_uri": "https://localhost:8080/",
          "height": 35
        },
        "outputId": "cbb270ae-fe41-4696-a939-23cdc7714d1c"
      },
      "source": [
        "re.search(pattern=r\"\\d$\", string=' PL code: 110')"
      ],
      "execution_count": 62,
      "outputs": [
        {
          "output_type": "execute_result",
          "data": {
            "text/plain": [
              "<_sre.SRE_Match object; span=(12, 13), match='0'>"
            ]
          },
          "metadata": {
            "tags": []
          },
          "execution_count": 62
        }
      ]
    },
    {
      "cell_type": "code",
      "metadata": {
        "id": "FNcDmvPfFpHb",
        "colab_type": "code",
        "colab": {}
      },
      "source": [
        ""
      ],
      "execution_count": 0,
      "outputs": []
    }
  ]
}